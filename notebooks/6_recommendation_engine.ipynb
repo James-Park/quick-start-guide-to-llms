{
 "cells": [
  {
   "cell_type": "markdown",
   "id": "a75259a8-b5f2-43b0-9927-91028a63bcb3",
   "metadata": {},
   "source": [
    "# 6장 추천엔진 만들기 "
   ]
  },
  {
   "cell_type": "markdown",
   "id": "bf100bc1-b66a-4808-9726-caed5d1e5ba3",
   "metadata": {},
   "source": [
    "데이터: [Anime Recommendation Database 2020](https://www.kaggle.com/datasets/hernan4444/anime-recommendation-database-2020?select=rating_complete.csv)"
   ]
  },
  {
   "cell_type": "markdown",
   "id": "45101952-ea73-42e6-9ac6-cc715dc69352",
   "metadata": {
    "jp-MarkdownHeadingCollapsed": true
   },
   "source": [
    "## 바이인코더와 크로스인코더 비교\n",
    "\n",
    "Q: 바이인코더와 크로스인코더를 비교해줘\n",
    "\n",
    "A: 바이인코더와 크로스 인코더는 자연어 처리에서 문장 쌍의 관계를 모델링하는 데 사용되는 두 가지 주요 아키텍처입니다. 다음은 두 아키텍처의 비교입니다:\n",
    "\n",
    "1. 구조 및 동작 방식:\n",
    "- 바이인코더: 두 개의 독립적인 인코더를 사용하여 각 문장을 별도로 처리합니다. 인코딩된 벡터 사이의 유사도를 계산하여 문장 쌍의 관계를 판단합니다.\n",
    "- 크로스 인코더: 두 문장을 하나의 시퀀스로 연결하여 단일 인코더에 전달합니다. 인코더의 출력을 기반으로 문장 쌍의 관계를 예측하는 분류기를 사용합니다.\n",
    "\n",
    "2. 추론 속도:\n",
    "- 바이인코더: 각 문장을 독립적으로 인코딩하므로 추론 속도가 빠릅니다. 대규모 코퍼스에 대한 유사도 계산이 효율적입니다.\n",
    "- 크로스 인코더: 각 문장 쌍마다 인코더를 통과해야 하므로 추론 속도가 상대적으로 느립니다. 대규모 코퍼스에 대한 유사도 계산은 비효율적일 수 있습니다.\n",
    "\n",
    "3. 정확도:\n",
    "- 바이인코더: 문장 간 상호작용을 직접 모델링하지 않으므로, 정확도가 크로스 인코더에 비해 다소 낮을 수 있습니다.\n",
    "- 크로스 인코더: 문장 간 상호작용을 직접 모델링하므로, 문장 쌍의 관계를 보다 정확하게 예측할 수 있습니다.\n",
    "\n",
    "4. 메모리 사용량:\n",
    "- 바이인코더: 각 문장에 대한 임베딩 벡터를 저장해야 하므로, 메모리 사용량이 크로스 인코더에 비해 높을 수 있습니다.\n",
    "- 크로스 인코더: 각 문장 쌍을 개별적으로 처리하므로, 메모리 사용량이 바이인코더에 비해 낮습니다.\n",
    "\n",
    "5. 적용 분야:\n",
    "- 바이인코더: 대규모 코퍼스에 대한 유사도 계산, 의미 검색, 개체명 연결 등의 태스크에 적합합니다.\n",
    "- 크로스 인코더: 문장 쌍의 관계를 보다 정확하게 예측해야 하는 태스크(예: 자연어 추론, 의미 유사도 계산)에 적합합니다.\n",
    "\n",
    "두 아키텍처는 각각의 장단점이 있으므로, 태스크의 특성과 요구 사항에 따라 적절한 아키텍처를 선택해야 합니다. 경우에 따라서는 두 아키텍처를 조합하여 사용하기도 합니다. 예를 들어, 바이인코더를 사용하여 후보 문장을 필터링한 후, 크로스 인코더를 사용하여 최종 순위를 결정하는 방식 등이 있습니다."
   ]
  },
  {
   "cell_type": "markdown",
   "id": "92f67c3e-7012-4c01-92a2-804596fc1b03",
   "metadata": {},
   "source": [
    "# 1. 데이터 로딩"
   ]
  },
  {
   "cell_type": "markdown",
   "id": "07593c8d-2ccc-4e80-938f-32e014e3b39b",
   "metadata": {},
   "source": [
    "## 1.1 애니메이션 정보 데이터 로딩"
   ]
  },
  {
   "cell_type": "code",
   "execution_count": 1,
   "id": "4fbfe3b6",
   "metadata": {},
   "outputs": [],
   "source": [
    "import pandas as pd"
   ]
  },
  {
   "cell_type": "code",
   "execution_count": 2,
   "id": "5e067f76",
   "metadata": {},
   "outputs": [
    {
     "name": "stdout",
     "output_type": "stream",
     "text": [
      "(16206, 19)\n"
     ]
    },
    {
     "data": {
      "text/html": [
       "<div>\n",
       "<style scoped>\n",
       "    .dataframe tbody tr th:only-of-type {\n",
       "        vertical-align: middle;\n",
       "    }\n",
       "\n",
       "    .dataframe tbody tr th {\n",
       "        vertical-align: top;\n",
       "    }\n",
       "\n",
       "    .dataframe thead th {\n",
       "        text-align: right;\n",
       "    }\n",
       "</style>\n",
       "<table border=\"1\" class=\"dataframe\">\n",
       "  <thead>\n",
       "    <tr style=\"text-align: right;\">\n",
       "      <th></th>\n",
       "      <th>MAL_ID</th>\n",
       "      <th>Name</th>\n",
       "      <th>Score</th>\n",
       "      <th>Genres</th>\n",
       "      <th>English name</th>\n",
       "      <th>Type</th>\n",
       "      <th>Episodes</th>\n",
       "      <th>Premiered</th>\n",
       "      <th>Producers</th>\n",
       "      <th>Studios</th>\n",
       "      <th>Source</th>\n",
       "      <th>Duration</th>\n",
       "      <th>Rating</th>\n",
       "      <th>Ranked</th>\n",
       "      <th>Members</th>\n",
       "      <th>Favorites</th>\n",
       "      <th>Completed</th>\n",
       "      <th>On-Hold</th>\n",
       "      <th>synopsis</th>\n",
       "    </tr>\n",
       "  </thead>\n",
       "  <tbody>\n",
       "    <tr>\n",
       "      <th>0</th>\n",
       "      <td>1</td>\n",
       "      <td>Cowboy Bebop</td>\n",
       "      <td>8.78</td>\n",
       "      <td>Action, Adventure, Comedy, Drama, Sci-Fi, Space</td>\n",
       "      <td>Cowboy Bebop</td>\n",
       "      <td>TV</td>\n",
       "      <td>26</td>\n",
       "      <td>Spring 1998</td>\n",
       "      <td>Bandai Visual</td>\n",
       "      <td>Sunrise</td>\n",
       "      <td>Original</td>\n",
       "      <td>24 min. per ep.</td>\n",
       "      <td>R - 17+ (violence &amp; profanity)</td>\n",
       "      <td>28.0</td>\n",
       "      <td>1251960</td>\n",
       "      <td>61971</td>\n",
       "      <td>718161</td>\n",
       "      <td>71513</td>\n",
       "      <td>In the year 2071, humanity has colonized sever...</td>\n",
       "    </tr>\n",
       "    <tr>\n",
       "      <th>1</th>\n",
       "      <td>5</td>\n",
       "      <td>Cowboy Bebop: Tengoku no Tobira</td>\n",
       "      <td>8.39</td>\n",
       "      <td>Action, Drama, Mystery, Sci-Fi, Space</td>\n",
       "      <td>Cowboy Bebop:The Movie</td>\n",
       "      <td>Movie</td>\n",
       "      <td>1</td>\n",
       "      <td>Unknown</td>\n",
       "      <td>Sunrise, Bandai Visual</td>\n",
       "      <td>Bones</td>\n",
       "      <td>Original</td>\n",
       "      <td>1 hr. 55 min.</td>\n",
       "      <td>R - 17+ (violence &amp; profanity)</td>\n",
       "      <td>159.0</td>\n",
       "      <td>273145</td>\n",
       "      <td>1174</td>\n",
       "      <td>208333</td>\n",
       "      <td>1935</td>\n",
       "      <td>other day, another bounty—such is the life of ...</td>\n",
       "    </tr>\n",
       "  </tbody>\n",
       "</table>\n",
       "</div>"
      ],
      "text/plain": [
       "   MAL_ID                             Name Score  \\\n",
       "0       1                     Cowboy Bebop  8.78   \n",
       "1       5  Cowboy Bebop: Tengoku no Tobira  8.39   \n",
       "\n",
       "                                            Genres            English name  \\\n",
       "0  Action, Adventure, Comedy, Drama, Sci-Fi, Space            Cowboy Bebop   \n",
       "1            Action, Drama, Mystery, Sci-Fi, Space  Cowboy Bebop:The Movie   \n",
       "\n",
       "    Type Episodes    Premiered               Producers  Studios    Source  \\\n",
       "0     TV       26  Spring 1998           Bandai Visual  Sunrise  Original   \n",
       "1  Movie        1      Unknown  Sunrise, Bandai Visual    Bones  Original   \n",
       "\n",
       "          Duration                          Rating Ranked  Members  Favorites  \\\n",
       "0  24 min. per ep.  R - 17+ (violence & profanity)   28.0  1251960      61971   \n",
       "1    1 hr. 55 min.  R - 17+ (violence & profanity)  159.0   273145       1174   \n",
       "\n",
       "   Completed  On-Hold                                           synopsis  \n",
       "0     718161    71513  In the year 2071, humanity has colonized sever...  \n",
       "1     208333     1935  other day, another bounty—such is the life of ...  "
      ]
     },
     "execution_count": 2,
     "metadata": {},
     "output_type": "execute_result"
    }
   ],
   "source": [
    "pre_merged_anime = pd.read_csv('../data/pre_merged_anime.csv').dropna()\n",
    "print(pre_merged_anime.shape)\n",
    "pre_merged_anime.head(2)"
   ]
  },
  {
   "cell_type": "code",
   "execution_count": 3,
   "id": "fa6ef8ce",
   "metadata": {},
   "outputs": [],
   "source": [
    "import re\n",
    "import string\n",
    "\n",
    "def clean_text(text):\n",
    "    # 인쇄할 수 없는 문자 제거\n",
    "    text = ''.join(filter(lambda x: x in string.printable, text))\n",
    "    \n",
    "    # 여러 개의 공백 문자를 하나의 공백으로 바꾸기\n",
    "    text = re.sub(r'\\s{2,}', ' ', text).strip()\n",
    "\n",
    "    return text.strip()\n",
    "\n",
    "\n",
    "def get_anime_description(anime_row):\n",
    "    \"\"\"\n",
    "    입력 데이터의 다양한 기능을 기반으로 애니메이션 제목에 대한 사용자 지정 설명을 생성합니다.\n",
    "\n",
    "    :param anime_row: 관련 애니메이션 정보가 포함된 MyAnimeList 데이터 세트의 행입니다.\n",
    "    :return: 애니메이션에 대한 사용자 지정 설명이 포함된 형식화된 문자열입니다.\n",
    "    \"\"\"\n",
    "\n",
    "    # 애니메이션 유형(TV 프로그램 또는 기타)을 결정합니다.\n",
    "    anime_type = \"TV Show\" if anime_row[\"Type\"] == \"TV\" else anime_row[\"Type\"]\n",
    "\n",
    "    # 입력 데이터의 관련 기능을 사용하여 형식이 지정된 설명을 작성합니다.\n",
    "    description = (\n",
    "        f\"{anime_row['Name']} is a {anime_type}.\\n\"\n",
    "        f\"Synopsis: {anime_row['synopsis']}\\n\"\n",
    "        f\"It was produced by {anime_row['Producers']} and it is from {anime_row['Studios']} Studio.\\n\"\n",
    "        f\"Its source is {anime_row['Source']}.\\n\"\n",
    "        f\"It premiered in {anime_row['Premiered']}.\\n\"\n",
    "        f\"Its genres are {anime_row['Genres']}\\n\"\n",
    "    )\n",
    "\n",
    "    return clean_text(description)\n"
   ]
  },
  {
   "cell_type": "code",
   "execution_count": 4,
   "id": "bfbd1501",
   "metadata": {
    "scrolled": true
   },
   "outputs": [
    {
     "name": "stdout",
     "output_type": "stream",
     "text": [
      "Cowboy Bebop is a TV Show.\n",
      "Synopsis: In the year 2071, humanity has colonized several of the planets and moons of the solar system leaving the now uninhabitable surface of planet Earth behind. The Inter Solar System Police attempts to keep peace in the galaxy, aided in part by outlaw bounty hunters, referred to as \"Cowboys.\" The ragtag team aboard the spaceship Bebop are two such individuals. Mellow and carefree Spike Spiegel is balanced by his boisterous, pragmatic partner Jet Black as the pair makes a living chasing bounties and collecting rewards. Thrown off course by the addition of new members that they meet in their travelsEin, a genetically engineered, highly intelligent Welsh Corgi; femme fatale Faye Valentine, an enigmatic trickster with memory loss; and the strange computer whiz kid Edward Wongthe crew embarks on thrilling adventures that unravel each member's dark and mysterious past little by little. Well-balanced with high density action and light-hearted comedy, Cowboy Bebop is a space Western classic and an homage to the smooth and improvised music it is named after.\n",
      "It was produced by Bandai Visual and it is from Sunrise Studio.\n",
      "Its source is Original.\n",
      "It premiered in Spring 1998.\n",
      "Its genres are Action, Adventure, Comedy, Drama, Sci-Fi, Space\n"
     ]
    }
   ],
   "source": [
    "print(clean_text(get_anime_description(pre_merged_anime.iloc[0])))"
   ]
  },
  {
   "cell_type": "markdown",
   "id": "a747cd25-b8a9-4a69-b64a-cdee12845609",
   "metadata": {},
   "source": [
    "get_anime_description() 실행 결과를 generated_description 항목에 저장"
   ]
  },
  {
   "cell_type": "code",
   "execution_count": 5,
   "id": "376e7066",
   "metadata": {},
   "outputs": [],
   "source": [
    "pre_merged_anime['generated_description'] = pre_merged_anime.apply(get_anime_description, axis=1)"
   ]
  },
  {
   "cell_type": "code",
   "execution_count": 6,
   "id": "c44d15bc-bc91-4755-b27e-1b0ad2e6341e",
   "metadata": {},
   "outputs": [
    {
     "data": {
      "text/html": [
       "<div>\n",
       "<style scoped>\n",
       "    .dataframe tbody tr th:only-of-type {\n",
       "        vertical-align: middle;\n",
       "    }\n",
       "\n",
       "    .dataframe tbody tr th {\n",
       "        vertical-align: top;\n",
       "    }\n",
       "\n",
       "    .dataframe thead th {\n",
       "        text-align: right;\n",
       "    }\n",
       "</style>\n",
       "<table border=\"1\" class=\"dataframe\">\n",
       "  <thead>\n",
       "    <tr style=\"text-align: right;\">\n",
       "      <th></th>\n",
       "      <th>MAL_ID</th>\n",
       "      <th>Name</th>\n",
       "      <th>Score</th>\n",
       "      <th>Genres</th>\n",
       "      <th>English name</th>\n",
       "      <th>Type</th>\n",
       "      <th>Episodes</th>\n",
       "      <th>Premiered</th>\n",
       "      <th>Producers</th>\n",
       "      <th>Studios</th>\n",
       "      <th>Source</th>\n",
       "      <th>Duration</th>\n",
       "      <th>Rating</th>\n",
       "      <th>Ranked</th>\n",
       "      <th>Members</th>\n",
       "      <th>Favorites</th>\n",
       "      <th>Completed</th>\n",
       "      <th>On-Hold</th>\n",
       "      <th>synopsis</th>\n",
       "      <th>generated_description</th>\n",
       "    </tr>\n",
       "  </thead>\n",
       "  <tbody>\n",
       "    <tr>\n",
       "      <th>0</th>\n",
       "      <td>1</td>\n",
       "      <td>Cowboy Bebop</td>\n",
       "      <td>8.78</td>\n",
       "      <td>Action, Adventure, Comedy, Drama, Sci-Fi, Space</td>\n",
       "      <td>Cowboy Bebop</td>\n",
       "      <td>TV</td>\n",
       "      <td>26</td>\n",
       "      <td>Spring 1998</td>\n",
       "      <td>Bandai Visual</td>\n",
       "      <td>Sunrise</td>\n",
       "      <td>Original</td>\n",
       "      <td>24 min. per ep.</td>\n",
       "      <td>R - 17+ (violence &amp; profanity)</td>\n",
       "      <td>28.0</td>\n",
       "      <td>1251960</td>\n",
       "      <td>61971</td>\n",
       "      <td>718161</td>\n",
       "      <td>71513</td>\n",
       "      <td>In the year 2071, humanity has colonized sever...</td>\n",
       "      <td>Cowboy Bebop is a TV Show.\\nSynopsis: In the y...</td>\n",
       "    </tr>\n",
       "    <tr>\n",
       "      <th>1</th>\n",
       "      <td>5</td>\n",
       "      <td>Cowboy Bebop: Tengoku no Tobira</td>\n",
       "      <td>8.39</td>\n",
       "      <td>Action, Drama, Mystery, Sci-Fi, Space</td>\n",
       "      <td>Cowboy Bebop:The Movie</td>\n",
       "      <td>Movie</td>\n",
       "      <td>1</td>\n",
       "      <td>Unknown</td>\n",
       "      <td>Sunrise, Bandai Visual</td>\n",
       "      <td>Bones</td>\n",
       "      <td>Original</td>\n",
       "      <td>1 hr. 55 min.</td>\n",
       "      <td>R - 17+ (violence &amp; profanity)</td>\n",
       "      <td>159.0</td>\n",
       "      <td>273145</td>\n",
       "      <td>1174</td>\n",
       "      <td>208333</td>\n",
       "      <td>1935</td>\n",
       "      <td>other day, another bounty—such is the life of ...</td>\n",
       "      <td>Cowboy Bebop: Tengoku no Tobira is a Movie.\\nS...</td>\n",
       "    </tr>\n",
       "    <tr>\n",
       "      <th>2</th>\n",
       "      <td>6</td>\n",
       "      <td>Trigun</td>\n",
       "      <td>8.24</td>\n",
       "      <td>Action, Sci-Fi, Adventure, Comedy, Drama, Shounen</td>\n",
       "      <td>Trigun</td>\n",
       "      <td>TV</td>\n",
       "      <td>26</td>\n",
       "      <td>Spring 1998</td>\n",
       "      <td>Victor Entertainment</td>\n",
       "      <td>Madhouse</td>\n",
       "      <td>Manga</td>\n",
       "      <td>24 min. per ep.</td>\n",
       "      <td>PG-13 - Teens 13 or older</td>\n",
       "      <td>266.0</td>\n",
       "      <td>558913</td>\n",
       "      <td>12944</td>\n",
       "      <td>343492</td>\n",
       "      <td>25465</td>\n",
       "      <td>Vash the Stampede is the man with a $$60,000,0...</td>\n",
       "      <td>Trigun is a TV Show.\\nSynopsis: Vash the Stamp...</td>\n",
       "    </tr>\n",
       "    <tr>\n",
       "      <th>3</th>\n",
       "      <td>7</td>\n",
       "      <td>Witch Hunter Robin</td>\n",
       "      <td>7.27</td>\n",
       "      <td>Action, Mystery, Police, Supernatural, Drama, ...</td>\n",
       "      <td>Witch Hunter Robin</td>\n",
       "      <td>TV</td>\n",
       "      <td>26</td>\n",
       "      <td>Summer 2002</td>\n",
       "      <td>TV Tokyo, Bandai Visual, Dentsu, Victor Entert...</td>\n",
       "      <td>Sunrise</td>\n",
       "      <td>Original</td>\n",
       "      <td>25 min. per ep.</td>\n",
       "      <td>PG-13 - Teens 13 or older</td>\n",
       "      <td>2481.0</td>\n",
       "      <td>94683</td>\n",
       "      <td>587</td>\n",
       "      <td>46165</td>\n",
       "      <td>5121</td>\n",
       "      <td>ches are individuals with special powers like ...</td>\n",
       "      <td>Witch Hunter Robin is a TV Show.\\nSynopsis: ch...</td>\n",
       "    </tr>\n",
       "    <tr>\n",
       "      <th>4</th>\n",
       "      <td>8</td>\n",
       "      <td>Bouken Ou Beet</td>\n",
       "      <td>6.98</td>\n",
       "      <td>Adventure, Fantasy, Shounen, Supernatural</td>\n",
       "      <td>Beet the Vandel Buster</td>\n",
       "      <td>TV</td>\n",
       "      <td>52</td>\n",
       "      <td>Fall 2004</td>\n",
       "      <td>TV Tokyo, Dentsu</td>\n",
       "      <td>Toei Animation</td>\n",
       "      <td>Manga</td>\n",
       "      <td>23 min. per ep.</td>\n",
       "      <td>PG - Children</td>\n",
       "      <td>3710.0</td>\n",
       "      <td>13224</td>\n",
       "      <td>18</td>\n",
       "      <td>7314</td>\n",
       "      <td>766</td>\n",
       "      <td>It is the dark century and the people are suff...</td>\n",
       "      <td>Bouken Ou Beet is a TV Show.\\nSynopsis: It is ...</td>\n",
       "    </tr>\n",
       "    <tr>\n",
       "      <th>...</th>\n",
       "      <td>...</td>\n",
       "      <td>...</td>\n",
       "      <td>...</td>\n",
       "      <td>...</td>\n",
       "      <td>...</td>\n",
       "      <td>...</td>\n",
       "      <td>...</td>\n",
       "      <td>...</td>\n",
       "      <td>...</td>\n",
       "      <td>...</td>\n",
       "      <td>...</td>\n",
       "      <td>...</td>\n",
       "      <td>...</td>\n",
       "      <td>...</td>\n",
       "      <td>...</td>\n",
       "      <td>...</td>\n",
       "      <td>...</td>\n",
       "      <td>...</td>\n",
       "      <td>...</td>\n",
       "      <td>...</td>\n",
       "    </tr>\n",
       "    <tr>\n",
       "      <th>16201</th>\n",
       "      <td>48481</td>\n",
       "      <td>Daomu Biji Zhi Qinling Shen Shu</td>\n",
       "      <td>Unknown</td>\n",
       "      <td>Adventure, Mystery, Supernatural</td>\n",
       "      <td>Unknown</td>\n",
       "      <td>ONA</td>\n",
       "      <td>Unknown</td>\n",
       "      <td>Unknown</td>\n",
       "      <td>Unknown</td>\n",
       "      <td>Unknown</td>\n",
       "      <td>Novel</td>\n",
       "      <td>Unknown</td>\n",
       "      <td>Unknown</td>\n",
       "      <td>Unknown</td>\n",
       "      <td>354</td>\n",
       "      <td>6</td>\n",
       "      <td>0</td>\n",
       "      <td>0</td>\n",
       "      <td>No synopsis information has been added to this...</td>\n",
       "      <td>Daomu Biji Zhi Qinling Shen Shu is a ONA.\\nSyn...</td>\n",
       "    </tr>\n",
       "    <tr>\n",
       "      <th>16202</th>\n",
       "      <td>48483</td>\n",
       "      <td>Mieruko-chan</td>\n",
       "      <td>Unknown</td>\n",
       "      <td>Comedy, Horror, Supernatural</td>\n",
       "      <td>Unknown</td>\n",
       "      <td>TV</td>\n",
       "      <td>Unknown</td>\n",
       "      <td>Unknown</td>\n",
       "      <td>Kadokawa</td>\n",
       "      <td>Passione</td>\n",
       "      <td>Manga</td>\n",
       "      <td>Unknown</td>\n",
       "      <td>Unknown</td>\n",
       "      <td>Unknown</td>\n",
       "      <td>7010</td>\n",
       "      <td>70</td>\n",
       "      <td>0</td>\n",
       "      <td>14</td>\n",
       "      <td>ko is a typical high school student whose life...</td>\n",
       "      <td>Mieruko-chan is a TV Show.\\nSynopsis: ko is a ...</td>\n",
       "    </tr>\n",
       "    <tr>\n",
       "      <th>16203</th>\n",
       "      <td>48488</td>\n",
       "      <td>Higurashi no Naku Koro ni Sotsu</td>\n",
       "      <td>Unknown</td>\n",
       "      <td>Mystery, Dementia, Horror, Psychological, Supe...</td>\n",
       "      <td>Higurashi:When They Cry – SOTSU</td>\n",
       "      <td>TV</td>\n",
       "      <td>Unknown</td>\n",
       "      <td>Summer 2021</td>\n",
       "      <td>Unknown</td>\n",
       "      <td>Unknown</td>\n",
       "      <td>Visual novel</td>\n",
       "      <td>Unknown</td>\n",
       "      <td>R - 17+ (violence &amp; profanity)</td>\n",
       "      <td>Unknown</td>\n",
       "      <td>11309</td>\n",
       "      <td>48</td>\n",
       "      <td>0</td>\n",
       "      <td>0</td>\n",
       "      <td>Sequel to Higurashi no Naku Koro ni Gou .</td>\n",
       "      <td>Higurashi no Naku Koro ni Sotsu is a TV Show.\\...</td>\n",
       "    </tr>\n",
       "    <tr>\n",
       "      <th>16204</th>\n",
       "      <td>48491</td>\n",
       "      <td>Yama no Susume: Next Summit</td>\n",
       "      <td>Unknown</td>\n",
       "      <td>Adventure, Slice of Life, Comedy</td>\n",
       "      <td>Unknown</td>\n",
       "      <td>TV</td>\n",
       "      <td>Unknown</td>\n",
       "      <td>Unknown</td>\n",
       "      <td>Kadokawa</td>\n",
       "      <td>8bit</td>\n",
       "      <td>Manga</td>\n",
       "      <td>Unknown</td>\n",
       "      <td>PG-13 - Teens 13 or older</td>\n",
       "      <td>Unknown</td>\n",
       "      <td>1386</td>\n",
       "      <td>2</td>\n",
       "      <td>2</td>\n",
       "      <td>2</td>\n",
       "      <td>New Yama no Susume anime.</td>\n",
       "      <td>Yama no Susume: Next Summit is a TV Show.\\nSyn...</td>\n",
       "    </tr>\n",
       "    <tr>\n",
       "      <th>16205</th>\n",
       "      <td>48492</td>\n",
       "      <td>Scarlet Nexus</td>\n",
       "      <td>Unknown</td>\n",
       "      <td>Action, Fantasy</td>\n",
       "      <td>Unknown</td>\n",
       "      <td>TV</td>\n",
       "      <td>Unknown</td>\n",
       "      <td>Summer 2021</td>\n",
       "      <td>Bandai Namco Arts</td>\n",
       "      <td>Sunrise</td>\n",
       "      <td>Game</td>\n",
       "      <td>Unknown</td>\n",
       "      <td>Unknown</td>\n",
       "      <td>Unknown</td>\n",
       "      <td>310</td>\n",
       "      <td>0</td>\n",
       "      <td>0</td>\n",
       "      <td>1</td>\n",
       "      <td>Solar calendar year 2020: grotesque organisms ...</td>\n",
       "      <td>Scarlet Nexus is a TV Show.\\nSynopsis: Solar c...</td>\n",
       "    </tr>\n",
       "  </tbody>\n",
       "</table>\n",
       "<p>16206 rows × 20 columns</p>\n",
       "</div>"
      ],
      "text/plain": [
       "       MAL_ID                             Name    Score  \\\n",
       "0           1                     Cowboy Bebop     8.78   \n",
       "1           5  Cowboy Bebop: Tengoku no Tobira     8.39   \n",
       "2           6                           Trigun     8.24   \n",
       "3           7               Witch Hunter Robin     7.27   \n",
       "4           8                   Bouken Ou Beet     6.98   \n",
       "...       ...                              ...      ...   \n",
       "16201   48481  Daomu Biji Zhi Qinling Shen Shu  Unknown   \n",
       "16202   48483                     Mieruko-chan  Unknown   \n",
       "16203   48488  Higurashi no Naku Koro ni Sotsu  Unknown   \n",
       "16204   48491      Yama no Susume: Next Summit  Unknown   \n",
       "16205   48492                    Scarlet Nexus  Unknown   \n",
       "\n",
       "                                                  Genres  \\\n",
       "0        Action, Adventure, Comedy, Drama, Sci-Fi, Space   \n",
       "1                  Action, Drama, Mystery, Sci-Fi, Space   \n",
       "2      Action, Sci-Fi, Adventure, Comedy, Drama, Shounen   \n",
       "3      Action, Mystery, Police, Supernatural, Drama, ...   \n",
       "4              Adventure, Fantasy, Shounen, Supernatural   \n",
       "...                                                  ...   \n",
       "16201                   Adventure, Mystery, Supernatural   \n",
       "16202                       Comedy, Horror, Supernatural   \n",
       "16203  Mystery, Dementia, Horror, Psychological, Supe...   \n",
       "16204                   Adventure, Slice of Life, Comedy   \n",
       "16205                                    Action, Fantasy   \n",
       "\n",
       "                          English name   Type Episodes    Premiered  \\\n",
       "0                         Cowboy Bebop     TV       26  Spring 1998   \n",
       "1               Cowboy Bebop:The Movie  Movie        1      Unknown   \n",
       "2                               Trigun     TV       26  Spring 1998   \n",
       "3                   Witch Hunter Robin     TV       26  Summer 2002   \n",
       "4               Beet the Vandel Buster     TV       52    Fall 2004   \n",
       "...                                ...    ...      ...          ...   \n",
       "16201                          Unknown    ONA  Unknown      Unknown   \n",
       "16202                          Unknown     TV  Unknown      Unknown   \n",
       "16203  Higurashi:When They Cry – SOTSU     TV  Unknown  Summer 2021   \n",
       "16204                          Unknown     TV  Unknown      Unknown   \n",
       "16205                          Unknown     TV  Unknown  Summer 2021   \n",
       "\n",
       "                                               Producers         Studios  \\\n",
       "0                                          Bandai Visual         Sunrise   \n",
       "1                                 Sunrise, Bandai Visual           Bones   \n",
       "2                                   Victor Entertainment        Madhouse   \n",
       "3      TV Tokyo, Bandai Visual, Dentsu, Victor Entert...         Sunrise   \n",
       "4                                       TV Tokyo, Dentsu  Toei Animation   \n",
       "...                                                  ...             ...   \n",
       "16201                                            Unknown         Unknown   \n",
       "16202                                           Kadokawa        Passione   \n",
       "16203                                            Unknown         Unknown   \n",
       "16204                                           Kadokawa            8bit   \n",
       "16205                                  Bandai Namco Arts         Sunrise   \n",
       "\n",
       "             Source         Duration                          Rating   Ranked  \\\n",
       "0          Original  24 min. per ep.  R - 17+ (violence & profanity)     28.0   \n",
       "1          Original    1 hr. 55 min.  R - 17+ (violence & profanity)    159.0   \n",
       "2             Manga  24 min. per ep.       PG-13 - Teens 13 or older    266.0   \n",
       "3          Original  25 min. per ep.       PG-13 - Teens 13 or older   2481.0   \n",
       "4             Manga  23 min. per ep.                   PG - Children   3710.0   \n",
       "...             ...              ...                             ...      ...   \n",
       "16201         Novel          Unknown                         Unknown  Unknown   \n",
       "16202         Manga          Unknown                         Unknown  Unknown   \n",
       "16203  Visual novel          Unknown  R - 17+ (violence & profanity)  Unknown   \n",
       "16204         Manga          Unknown       PG-13 - Teens 13 or older  Unknown   \n",
       "16205          Game          Unknown                         Unknown  Unknown   \n",
       "\n",
       "       Members  Favorites  Completed  On-Hold  \\\n",
       "0      1251960      61971     718161    71513   \n",
       "1       273145       1174     208333     1935   \n",
       "2       558913      12944     343492    25465   \n",
       "3        94683        587      46165     5121   \n",
       "4        13224         18       7314      766   \n",
       "...        ...        ...        ...      ...   \n",
       "16201      354          6          0        0   \n",
       "16202     7010         70          0       14   \n",
       "16203    11309         48          0        0   \n",
       "16204     1386          2          2        2   \n",
       "16205      310          0          0        1   \n",
       "\n",
       "                                                synopsis  \\\n",
       "0      In the year 2071, humanity has colonized sever...   \n",
       "1      other day, another bounty—such is the life of ...   \n",
       "2      Vash the Stampede is the man with a $$60,000,0...   \n",
       "3      ches are individuals with special powers like ...   \n",
       "4      It is the dark century and the people are suff...   \n",
       "...                                                  ...   \n",
       "16201  No synopsis information has been added to this...   \n",
       "16202  ko is a typical high school student whose life...   \n",
       "16203          Sequel to Higurashi no Naku Koro ni Gou .   \n",
       "16204                          New Yama no Susume anime.   \n",
       "16205  Solar calendar year 2020: grotesque organisms ...   \n",
       "\n",
       "                                   generated_description  \n",
       "0      Cowboy Bebop is a TV Show.\\nSynopsis: In the y...  \n",
       "1      Cowboy Bebop: Tengoku no Tobira is a Movie.\\nS...  \n",
       "2      Trigun is a TV Show.\\nSynopsis: Vash the Stamp...  \n",
       "3      Witch Hunter Robin is a TV Show.\\nSynopsis: ch...  \n",
       "4      Bouken Ou Beet is a TV Show.\\nSynopsis: It is ...  \n",
       "...                                                  ...  \n",
       "16201  Daomu Biji Zhi Qinling Shen Shu is a ONA.\\nSyn...  \n",
       "16202  Mieruko-chan is a TV Show.\\nSynopsis: ko is a ...  \n",
       "16203  Higurashi no Naku Koro ni Sotsu is a TV Show.\\...  \n",
       "16204  Yama no Susume: Next Summit is a TV Show.\\nSyn...  \n",
       "16205  Scarlet Nexus is a TV Show.\\nSynopsis: Solar c...  \n",
       "\n",
       "[16206 rows x 20 columns]"
      ]
     },
     "execution_count": 6,
     "metadata": {},
     "output_type": "execute_result"
    }
   ],
   "source": [
    "pre_merged_anime"
   ]
  },
  {
   "cell_type": "markdown",
   "id": "9a81babd-fdb1-49d0-85cb-b2792a916063",
   "metadata": {},
   "source": [
    "## 1.2 시청 상태 코드 데이터 로딩"
   ]
  },
  {
   "cell_type": "code",
   "execution_count": 7,
   "id": "632bd750",
   "metadata": {},
   "outputs": [
    {
     "name": "stdout",
     "output_type": "stream",
     "text": [
      "(5, 2)\n"
     ]
    },
    {
     "data": {
      "text/html": [
       "<div>\n",
       "<style scoped>\n",
       "    .dataframe tbody tr th:only-of-type {\n",
       "        vertical-align: middle;\n",
       "    }\n",
       "\n",
       "    .dataframe tbody tr th {\n",
       "        vertical-align: top;\n",
       "    }\n",
       "\n",
       "    .dataframe thead th {\n",
       "        text-align: right;\n",
       "    }\n",
       "</style>\n",
       "<table border=\"1\" class=\"dataframe\">\n",
       "  <thead>\n",
       "    <tr style=\"text-align: right;\">\n",
       "      <th></th>\n",
       "      <th>status</th>\n",
       "      <th>description</th>\n",
       "    </tr>\n",
       "  </thead>\n",
       "  <tbody>\n",
       "    <tr>\n",
       "      <th>0</th>\n",
       "      <td>1</td>\n",
       "      <td>Currently Watching</td>\n",
       "    </tr>\n",
       "    <tr>\n",
       "      <th>1</th>\n",
       "      <td>2</td>\n",
       "      <td>Completed</td>\n",
       "    </tr>\n",
       "    <tr>\n",
       "      <th>2</th>\n",
       "      <td>3</td>\n",
       "      <td>On Hold</td>\n",
       "    </tr>\n",
       "    <tr>\n",
       "      <th>3</th>\n",
       "      <td>4</td>\n",
       "      <td>Dropped</td>\n",
       "    </tr>\n",
       "    <tr>\n",
       "      <th>4</th>\n",
       "      <td>6</td>\n",
       "      <td>Plan to Watch</td>\n",
       "    </tr>\n",
       "  </tbody>\n",
       "</table>\n",
       "</div>"
      ],
      "text/plain": [
       "   status         description\n",
       "0       1  Currently Watching\n",
       "1       2           Completed\n",
       "2       3             On Hold\n",
       "3       4             Dropped\n",
       "4       6       Plan to Watch"
      ]
     },
     "execution_count": 7,
     "metadata": {},
     "output_type": "execute_result"
    }
   ],
   "source": [
    "watching_status = pd.read_csv('../data/anime/watching_status.csv').dropna()\n",
    "print(watching_status.shape)\n",
    "watching_status"
   ]
  },
  {
   "cell_type": "markdown",
   "id": "98db932c-ad69-40c0-bbcb-c37d7a96faaa",
   "metadata": {},
   "source": [
    "## 1.3 평점 데이터 로딩\n",
    "user_id, anime_id, rating"
   ]
  },
  {
   "cell_type": "code",
   "execution_count": 8,
   "id": "a4455cc3",
   "metadata": {},
   "outputs": [
    {
     "name": "stdout",
     "output_type": "stream",
     "text": [
      "(57633278, 3)\n"
     ]
    }
   ],
   "source": [
    "rating_complete = pd.read_csv('../data/anime/rating_complete.csv').dropna()\n",
    "print(rating_complete.shape)"
   ]
  },
  {
   "cell_type": "code",
   "execution_count": 9,
   "id": "cf072ca6-79c7-424c-a573-f23fb800c2c1",
   "metadata": {},
   "outputs": [
    {
     "data": {
      "text/html": [
       "<div>\n",
       "<style scoped>\n",
       "    .dataframe tbody tr th:only-of-type {\n",
       "        vertical-align: middle;\n",
       "    }\n",
       "\n",
       "    .dataframe tbody tr th {\n",
       "        vertical-align: top;\n",
       "    }\n",
       "\n",
       "    .dataframe thead th {\n",
       "        text-align: right;\n",
       "    }\n",
       "</style>\n",
       "<table border=\"1\" class=\"dataframe\">\n",
       "  <thead>\n",
       "    <tr style=\"text-align: right;\">\n",
       "      <th></th>\n",
       "      <th>user_id</th>\n",
       "      <th>anime_id</th>\n",
       "      <th>rating</th>\n",
       "    </tr>\n",
       "  </thead>\n",
       "  <tbody>\n",
       "    <tr>\n",
       "      <th>0</th>\n",
       "      <td>0</td>\n",
       "      <td>430</td>\n",
       "      <td>9</td>\n",
       "    </tr>\n",
       "    <tr>\n",
       "      <th>1</th>\n",
       "      <td>0</td>\n",
       "      <td>1004</td>\n",
       "      <td>5</td>\n",
       "    </tr>\n",
       "    <tr>\n",
       "      <th>2</th>\n",
       "      <td>0</td>\n",
       "      <td>3010</td>\n",
       "      <td>7</td>\n",
       "    </tr>\n",
       "    <tr>\n",
       "      <th>3</th>\n",
       "      <td>0</td>\n",
       "      <td>570</td>\n",
       "      <td>7</td>\n",
       "    </tr>\n",
       "    <tr>\n",
       "      <th>4</th>\n",
       "      <td>0</td>\n",
       "      <td>2762</td>\n",
       "      <td>9</td>\n",
       "    </tr>\n",
       "    <tr>\n",
       "      <th>5</th>\n",
       "      <td>0</td>\n",
       "      <td>431</td>\n",
       "      <td>8</td>\n",
       "    </tr>\n",
       "    <tr>\n",
       "      <th>6</th>\n",
       "      <td>0</td>\n",
       "      <td>578</td>\n",
       "      <td>10</td>\n",
       "    </tr>\n",
       "    <tr>\n",
       "      <th>7</th>\n",
       "      <td>0</td>\n",
       "      <td>433</td>\n",
       "      <td>6</td>\n",
       "    </tr>\n",
       "    <tr>\n",
       "      <th>8</th>\n",
       "      <td>0</td>\n",
       "      <td>1571</td>\n",
       "      <td>10</td>\n",
       "    </tr>\n",
       "    <tr>\n",
       "      <th>9</th>\n",
       "      <td>0</td>\n",
       "      <td>121</td>\n",
       "      <td>9</td>\n",
       "    </tr>\n",
       "    <tr>\n",
       "      <th>10</th>\n",
       "      <td>0</td>\n",
       "      <td>356</td>\n",
       "      <td>9</td>\n",
       "    </tr>\n",
       "    <tr>\n",
       "      <th>11</th>\n",
       "      <td>0</td>\n",
       "      <td>1250</td>\n",
       "      <td>7</td>\n",
       "    </tr>\n",
       "    <tr>\n",
       "      <th>12</th>\n",
       "      <td>0</td>\n",
       "      <td>2913</td>\n",
       "      <td>6</td>\n",
       "    </tr>\n",
       "    <tr>\n",
       "      <th>13</th>\n",
       "      <td>0</td>\n",
       "      <td>1689</td>\n",
       "      <td>6</td>\n",
       "    </tr>\n",
       "    <tr>\n",
       "      <th>14</th>\n",
       "      <td>0</td>\n",
       "      <td>68</td>\n",
       "      <td>6</td>\n",
       "    </tr>\n",
       "    <tr>\n",
       "      <th>15</th>\n",
       "      <td>0</td>\n",
       "      <td>1829</td>\n",
       "      <td>7</td>\n",
       "    </tr>\n",
       "    <tr>\n",
       "      <th>16</th>\n",
       "      <td>0</td>\n",
       "      <td>600</td>\n",
       "      <td>6</td>\n",
       "    </tr>\n",
       "    <tr>\n",
       "      <th>17</th>\n",
       "      <td>0</td>\n",
       "      <td>3418</td>\n",
       "      <td>9</td>\n",
       "    </tr>\n",
       "    <tr>\n",
       "      <th>18</th>\n",
       "      <td>0</td>\n",
       "      <td>164</td>\n",
       "      <td>8</td>\n",
       "    </tr>\n",
       "    <tr>\n",
       "      <th>19</th>\n",
       "      <td>0</td>\n",
       "      <td>1894</td>\n",
       "      <td>7</td>\n",
       "    </tr>\n",
       "  </tbody>\n",
       "</table>\n",
       "</div>"
      ],
      "text/plain": [
       "    user_id  anime_id  rating\n",
       "0         0       430       9\n",
       "1         0      1004       5\n",
       "2         0      3010       7\n",
       "3         0       570       7\n",
       "4         0      2762       9\n",
       "5         0       431       8\n",
       "6         0       578      10\n",
       "7         0       433       6\n",
       "8         0      1571      10\n",
       "9         0       121       9\n",
       "10        0       356       9\n",
       "11        0      1250       7\n",
       "12        0      2913       6\n",
       "13        0      1689       6\n",
       "14        0        68       6\n",
       "15        0      1829       7\n",
       "16        0       600       6\n",
       "17        0      3418       9\n",
       "18        0       164       8\n",
       "19        0      1894       7"
      ]
     },
     "execution_count": 9,
     "metadata": {},
     "output_type": "execute_result"
    }
   ],
   "source": [
    "rating_complete.head(20)"
   ]
  },
  {
   "cell_type": "markdown",
   "id": "e922ab92-9469-491a-a098-b8807587260f",
   "metadata": {},
   "source": [
    "## 1.4 평점 데이터 분할\n",
    "`rating_complete` 데이터를 훈련 세트와 테스트 세트로 분할하는 역할을 합니다. 자세한 설명은 다음과 같습니다:\n",
    "\n",
    "1. `rating_complete.sample(frac=1, random_state=42)`은 `rating_complete` 데이터프레임을 무작위로 섞습니다.\n",
    "   - `frac=1`은 전체 데이터프레임을 샘플링한다는 의미입니다. 즉, 데이터프레임의 모든 행을 포함합니다.\n",
    "   - `random_state=42`는 무작위 섞기의 시드(seed) 값을 설정합니다. 이렇게 하면 코드를 다시 실행해도 동일한 결과를 얻을 수 있습니다.\n",
    "\n",
    "2. `int(.9*len(rating_complete))`은 전체 데이터의 90%에 해당하는 인덱스를 계산합니다.\n",
    "   - `len(rating_complete)`은 `rating_complete` 데이터프레임의 총 행 수를 반환합니다.\n",
    "   - `.9`를 곱하여 전체 데이터의 90%에 해당하는 개수를 계산합니다.\n",
    "   - `int()`로 감싸서 정수로 변환합니다.\n",
    "\n",
    "3. `np.split(rating_complete.sample(frac=1, random_state=42), [int(.9*len(rating_complete))])`은 섞인 데이터프레임을 90%와 10%로 분할합니다.\n",
    "   - `np.split()` 함수는 첫 번째 인자로 분할할 배열 또는 데이터프레임을 받고, 두 번째 인자로 분할 지점을 리스트 형태로 받습니다.\n",
    "   - `[int(.9*len(rating_complete))]`은 전체 데이터의 90%에 해당하는 인덱스를 리스트로 전달합니다.\n",
    "   - 이렇게 하면 `np.split()` 함수는 섞인 데이터프레임을 90%와 10%로 분할하여 두 개의 데이터프레임을 반환합니다.\n",
    "\n",
    "4. 분할된 두 개의 데이터프레임은 `rating_complete_train`과 `rating_complete_test` 변수에 할당됩니다.\n",
    "   - `rating_complete_train`은 전체 데이터의 90%를 포함하는 훈련 세트가 됩니다.\n",
    "   - `rating_complete_test`는 전체 데이터의 나머지 10%를 포함하는 테스트 세트가 됩니다.\n",
    "\n",
    "이 코드는 데이터를 무작위로 섞은 후, 훈련 세트와 테스트 세트로 분할하는 일반적인 데이터 분할 방법을 구현한 것입니다. 훈련 세트는 모델을 학습시키는 데 사용되고, 테스트 세트는 학습된 모델의 성능을 평가하는 데 사용됩니다. 일반적으로 훈련 세트와 테스트 세트의 비율은 8:2 또는 9:1로 설정하며, 이 코드에서는 9:1의 비율로 분할하고 있습니다."
   ]
  },
  {
   "cell_type": "code",
   "execution_count": 10,
   "id": "4bd861f5",
   "metadata": {},
   "outputs": [
    {
     "name": "stderr",
     "output_type": "stream",
     "text": [
      "/Users/wlkim/anaconda3/envs/quick-start-guide-to-llms/lib/python3.10/site-packages/numpy/core/fromnumeric.py:59: FutureWarning: 'DataFrame.swapaxes' is deprecated and will be removed in a future version. Please use 'DataFrame.transpose' instead.\n",
      "  return bound(*args, **kwds)\n"
     ]
    }
   ],
   "source": [
    "import numpy as np\n",
    "\n",
    "rating_complete_train, rating_complete_test = \\\n",
    "              np.split(rating_complete.sample(frac=1, random_state=42), \n",
    "                       [int(.9*len(rating_complete))])"
   ]
  },
  {
   "cell_type": "code",
   "execution_count": 11,
   "id": "5aa7d252",
   "metadata": {},
   "outputs": [
    {
     "data": {
      "text/html": [
       "<div>\n",
       "<style scoped>\n",
       "    .dataframe tbody tr th:only-of-type {\n",
       "        vertical-align: middle;\n",
       "    }\n",
       "\n",
       "    .dataframe tbody tr th {\n",
       "        vertical-align: top;\n",
       "    }\n",
       "\n",
       "    .dataframe thead th {\n",
       "        text-align: right;\n",
       "    }\n",
       "</style>\n",
       "<table border=\"1\" class=\"dataframe\">\n",
       "  <thead>\n",
       "    <tr style=\"text-align: right;\">\n",
       "      <th></th>\n",
       "      <th>user_id</th>\n",
       "      <th>anime_id</th>\n",
       "      <th>rating</th>\n",
       "    </tr>\n",
       "  </thead>\n",
       "  <tbody>\n",
       "    <tr>\n",
       "      <th>41605545</th>\n",
       "      <td>255419</td>\n",
       "      <td>4059</td>\n",
       "      <td>7</td>\n",
       "    </tr>\n",
       "    <tr>\n",
       "      <th>33600014</th>\n",
       "      <td>206382</td>\n",
       "      <td>10793</td>\n",
       "      <td>7</td>\n",
       "    </tr>\n",
       "    <tr>\n",
       "      <th>39884414</th>\n",
       "      <td>245012</td>\n",
       "      <td>34246</td>\n",
       "      <td>4</td>\n",
       "    </tr>\n",
       "    <tr>\n",
       "      <th>45251042</th>\n",
       "      <td>277697</td>\n",
       "      <td>5030</td>\n",
       "      <td>7</td>\n",
       "    </tr>\n",
       "    <tr>\n",
       "      <th>53777062</th>\n",
       "      <td>329602</td>\n",
       "      <td>227</td>\n",
       "      <td>7</td>\n",
       "    </tr>\n",
       "  </tbody>\n",
       "</table>\n",
       "</div>"
      ],
      "text/plain": [
       "          user_id  anime_id  rating\n",
       "41605545   255419      4059       7\n",
       "33600014   206382     10793       7\n",
       "39884414   245012     34246       4\n",
       "45251042   277697      5030       7\n",
       "53777062   329602       227       7"
      ]
     },
     "execution_count": 11,
     "metadata": {},
     "output_type": "execute_result"
    }
   ],
   "source": [
    "rating_complete_train.head()"
   ]
  },
  {
   "cell_type": "code",
   "execution_count": 12,
   "id": "facef7a7-c848-447b-b288-03e66b58ce49",
   "metadata": {},
   "outputs": [
    {
     "data": {
      "text/html": [
       "<div>\n",
       "<style scoped>\n",
       "    .dataframe tbody tr th:only-of-type {\n",
       "        vertical-align: middle;\n",
       "    }\n",
       "\n",
       "    .dataframe tbody tr th {\n",
       "        vertical-align: top;\n",
       "    }\n",
       "\n",
       "    .dataframe thead th {\n",
       "        text-align: right;\n",
       "    }\n",
       "</style>\n",
       "<table border=\"1\" class=\"dataframe\">\n",
       "  <thead>\n",
       "    <tr style=\"text-align: right;\">\n",
       "      <th></th>\n",
       "      <th>user_id</th>\n",
       "      <th>anime_id</th>\n",
       "      <th>rating</th>\n",
       "    </tr>\n",
       "  </thead>\n",
       "  <tbody>\n",
       "    <tr>\n",
       "      <th>57039029</th>\n",
       "      <td>349749</td>\n",
       "      <td>154</td>\n",
       "      <td>9</td>\n",
       "    </tr>\n",
       "    <tr>\n",
       "      <th>33418394</th>\n",
       "      <td>205282</td>\n",
       "      <td>18001</td>\n",
       "      <td>9</td>\n",
       "    </tr>\n",
       "    <tr>\n",
       "      <th>18511337</th>\n",
       "      <td>113697</td>\n",
       "      <td>10110</td>\n",
       "      <td>9</td>\n",
       "    </tr>\n",
       "    <tr>\n",
       "      <th>53862736</th>\n",
       "      <td>330116</td>\n",
       "      <td>37520</td>\n",
       "      <td>7</td>\n",
       "    </tr>\n",
       "    <tr>\n",
       "      <th>30501411</th>\n",
       "      <td>187612</td>\n",
       "      <td>209</td>\n",
       "      <td>10</td>\n",
       "    </tr>\n",
       "  </tbody>\n",
       "</table>\n",
       "</div>"
      ],
      "text/plain": [
       "          user_id  anime_id  rating\n",
       "57039029   349749       154       9\n",
       "33418394   205282     18001       9\n",
       "18511337   113697     10110       9\n",
       "53862736   330116     37520       7\n",
       "30501411   187612       209      10"
      ]
     },
     "execution_count": 12,
     "metadata": {},
     "output_type": "execute_result"
    }
   ],
   "source": [
    "rating_complete_test.head()"
   ]
  },
  {
   "cell_type": "code",
   "execution_count": 13,
   "id": "3cf2f8c5",
   "metadata": {},
   "outputs": [
    {
     "name": "stdout",
     "output_type": "stream",
     "text": [
      "(51869950, 3)\n",
      "(5763328, 3)\n"
     ]
    }
   ],
   "source": [
    "print(rating_complete_train.shape)\n",
    "print(rating_complete_test.shape)"
   ]
  },
  {
   "cell_type": "markdown",
   "id": "148ea4e7-f6e9-49f4-acdd-f3141635f981",
   "metadata": {},
   "source": [
    "## 1.5 평점 데이터 분석"
   ]
  },
  {
   "cell_type": "code",
   "execution_count": 14,
   "id": "fdfad60c-07e3-4880-b750-cc1f3ab337de",
   "metadata": {},
   "outputs": [
    {
     "data": {
      "text/html": [
       "<div>\n",
       "<style scoped>\n",
       "    .dataframe tbody tr th:only-of-type {\n",
       "        vertical-align: middle;\n",
       "    }\n",
       "\n",
       "    .dataframe tbody tr th {\n",
       "        vertical-align: top;\n",
       "    }\n",
       "\n",
       "    .dataframe thead th {\n",
       "        text-align: right;\n",
       "    }\n",
       "</style>\n",
       "<table border=\"1\" class=\"dataframe\">\n",
       "  <thead>\n",
       "    <tr style=\"text-align: right;\">\n",
       "      <th></th>\n",
       "      <th>user_id</th>\n",
       "      <th>anime_id</th>\n",
       "      <th>rating</th>\n",
       "    </tr>\n",
       "  </thead>\n",
       "  <tbody>\n",
       "    <tr>\n",
       "      <th>count</th>\n",
       "      <td>5.186995e+07</td>\n",
       "      <td>5.186995e+07</td>\n",
       "      <td>5.186995e+07</td>\n",
       "    </tr>\n",
       "    <tr>\n",
       "      <th>mean</th>\n",
       "      <td>1.768898e+05</td>\n",
       "      <td>1.583165e+04</td>\n",
       "      <td>7.510736e+00</td>\n",
       "    </tr>\n",
       "    <tr>\n",
       "      <th>std</th>\n",
       "      <td>1.020080e+05</td>\n",
       "      <td>1.326141e+04</td>\n",
       "      <td>1.697711e+00</td>\n",
       "    </tr>\n",
       "    <tr>\n",
       "      <th>min</th>\n",
       "      <td>0.000000e+00</td>\n",
       "      <td>1.000000e+00</td>\n",
       "      <td>1.000000e+00</td>\n",
       "    </tr>\n",
       "    <tr>\n",
       "      <th>25%</th>\n",
       "      <td>8.828800e+04</td>\n",
       "      <td>3.091000e+03</td>\n",
       "      <td>7.000000e+00</td>\n",
       "    </tr>\n",
       "    <tr>\n",
       "      <th>50%</th>\n",
       "      <td>1.772940e+05</td>\n",
       "      <td>1.188700e+04</td>\n",
       "      <td>8.000000e+00</td>\n",
       "    </tr>\n",
       "    <tr>\n",
       "      <th>75%</th>\n",
       "      <td>2.654180e+05</td>\n",
       "      <td>2.899900e+04</td>\n",
       "      <td>9.000000e+00</td>\n",
       "    </tr>\n",
       "    <tr>\n",
       "      <th>max</th>\n",
       "      <td>3.534040e+05</td>\n",
       "      <td>4.845600e+04</td>\n",
       "      <td>1.000000e+01</td>\n",
       "    </tr>\n",
       "  </tbody>\n",
       "</table>\n",
       "</div>"
      ],
      "text/plain": [
       "            user_id      anime_id        rating\n",
       "count  5.186995e+07  5.186995e+07  5.186995e+07\n",
       "mean   1.768898e+05  1.583165e+04  7.510736e+00\n",
       "std    1.020080e+05  1.326141e+04  1.697711e+00\n",
       "min    0.000000e+00  1.000000e+00  1.000000e+00\n",
       "25%    8.828800e+04  3.091000e+03  7.000000e+00\n",
       "50%    1.772940e+05  1.188700e+04  8.000000e+00\n",
       "75%    2.654180e+05  2.899900e+04  9.000000e+00\n",
       "max    3.534040e+05  4.845600e+04  1.000000e+01"
      ]
     },
     "execution_count": 14,
     "metadata": {},
     "output_type": "execute_result"
    }
   ],
   "source": [
    "rating_complete_train.describe()"
   ]
  },
  {
   "cell_type": "code",
   "execution_count": 15,
   "id": "1c77aeb2-4d2d-44e7-8c2c-4d2be5c4a2c9",
   "metadata": {},
   "outputs": [
    {
     "data": {
      "text/plain": [
       "<Axes: >"
      ]
     },
     "execution_count": 15,
     "metadata": {},
     "output_type": "execute_result"
    },
    {
     "data": {
      "image/png": "[encoded data removed]",
      "text/plain": [
       "<Figure size 640x480 with 1 Axes>"
      ]
     },
     "metadata": {},
     "output_type": "display_data"
    }
   ],
   "source": [
    "rating_complete_train[\"rating\"].hist()"
   ]
  },
  {
   "cell_type": "code",
   "execution_count": 16,
   "id": "aeadaf4b-cc04-48e9-a126-d3da83d1b8a2",
   "metadata": {},
   "outputs": [
    {
     "data": {
      "text/plain": [
       "<Axes: >"
      ]
     },
     "execution_count": 16,
     "metadata": {},
     "output_type": "execute_result"
    },
    {
     "data": {
      "image/png": "[encoded data removed]",
      "text/plain": [
       "<Figure size 640x480 with 1 Axes>"
      ]
     },
     "metadata": {},
     "output_type": "display_data"
    }
   ],
   "source": [
    "rating_complete_test[\"rating\"].hist()"
   ]
  },
  {
   "cell_type": "markdown",
   "id": "786fb35e-9fef-4c68-8cb4-d2a872c997dc",
   "metadata": {},
   "source": [
    "## 1.6 anime_id별 평가 수 계산"
   ]
  },
  {
   "cell_type": "code",
   "execution_count": 17,
   "id": "694de3c9-97bc-48b2-a447-a9d08cf4e729",
   "metadata": {},
   "outputs": [
    {
     "data": {
      "text/html": [
       "<div>\n",
       "<style scoped>\n",
       "    .dataframe tbody tr th:only-of-type {\n",
       "        vertical-align: middle;\n",
       "    }\n",
       "\n",
       "    .dataframe tbody tr th {\n",
       "        vertical-align: top;\n",
       "    }\n",
       "\n",
       "    .dataframe thead th {\n",
       "        text-align: right;\n",
       "    }\n",
       "</style>\n",
       "<table border=\"1\" class=\"dataframe\">\n",
       "  <thead>\n",
       "    <tr style=\"text-align: right;\">\n",
       "      <th></th>\n",
       "      <th>user_id</th>\n",
       "      <th>anime_id</th>\n",
       "      <th>rating</th>\n",
       "    </tr>\n",
       "  </thead>\n",
       "  <tbody>\n",
       "    <tr>\n",
       "      <th>41605545</th>\n",
       "      <td>255419</td>\n",
       "      <td>4059</td>\n",
       "      <td>7</td>\n",
       "    </tr>\n",
       "    <tr>\n",
       "      <th>33600014</th>\n",
       "      <td>206382</td>\n",
       "      <td>10793</td>\n",
       "      <td>7</td>\n",
       "    </tr>\n",
       "    <tr>\n",
       "      <th>39884414</th>\n",
       "      <td>245012</td>\n",
       "      <td>34246</td>\n",
       "      <td>4</td>\n",
       "    </tr>\n",
       "    <tr>\n",
       "      <th>45251042</th>\n",
       "      <td>277697</td>\n",
       "      <td>5030</td>\n",
       "      <td>7</td>\n",
       "    </tr>\n",
       "    <tr>\n",
       "      <th>53777062</th>\n",
       "      <td>329602</td>\n",
       "      <td>227</td>\n",
       "      <td>7</td>\n",
       "    </tr>\n",
       "    <tr>\n",
       "      <th>...</th>\n",
       "      <td>...</td>\n",
       "      <td>...</td>\n",
       "      <td>...</td>\n",
       "    </tr>\n",
       "    <tr>\n",
       "      <th>412873</th>\n",
       "      <td>2622</td>\n",
       "      <td>34494</td>\n",
       "      <td>7</td>\n",
       "    </tr>\n",
       "    <tr>\n",
       "      <th>40307673</th>\n",
       "      <td>247653</td>\n",
       "      <td>14741</td>\n",
       "      <td>5</td>\n",
       "    </tr>\n",
       "    <tr>\n",
       "      <th>13521966</th>\n",
       "      <td>82846</td>\n",
       "      <td>133</td>\n",
       "      <td>5</td>\n",
       "    </tr>\n",
       "    <tr>\n",
       "      <th>5162500</th>\n",
       "      <td>31656</td>\n",
       "      <td>242</td>\n",
       "      <td>8</td>\n",
       "    </tr>\n",
       "    <tr>\n",
       "      <th>30745642</th>\n",
       "      <td>189037</td>\n",
       "      <td>11553</td>\n",
       "      <td>7</td>\n",
       "    </tr>\n",
       "  </tbody>\n",
       "</table>\n",
       "<p>51869950 rows × 3 columns</p>\n",
       "</div>"
      ],
      "text/plain": [
       "          user_id  anime_id  rating\n",
       "41605545   255419      4059       7\n",
       "33600014   206382     10793       7\n",
       "39884414   245012     34246       4\n",
       "45251042   277697      5030       7\n",
       "53777062   329602       227       7\n",
       "...           ...       ...     ...\n",
       "412873       2622     34494       7\n",
       "40307673   247653     14741       5\n",
       "13521966    82846       133       5\n",
       "5162500     31656       242       8\n",
       "30745642   189037     11553       7\n",
       "\n",
       "[51869950 rows x 3 columns]"
      ]
     },
     "execution_count": 17,
     "metadata": {},
     "output_type": "execute_result"
    }
   ],
   "source": [
    "rating_complete_train"
   ]
  },
  {
   "cell_type": "code",
   "execution_count": 18,
   "id": "133327d6-f3a4-4f91-92ea-5c94b0f370c9",
   "metadata": {},
   "outputs": [
    {
     "data": {
      "text/html": [
       "<div>\n",
       "<style scoped>\n",
       "    .dataframe tbody tr th:only-of-type {\n",
       "        vertical-align: middle;\n",
       "    }\n",
       "\n",
       "    .dataframe tbody tr th {\n",
       "        vertical-align: top;\n",
       "    }\n",
       "\n",
       "    .dataframe thead th {\n",
       "        text-align: right;\n",
       "    }\n",
       "</style>\n",
       "<table border=\"1\" class=\"dataframe\">\n",
       "  <thead>\n",
       "    <tr style=\"text-align: right;\">\n",
       "      <th></th>\n",
       "      <th>user_id</th>\n",
       "      <th>rating</th>\n",
       "    </tr>\n",
       "    <tr>\n",
       "      <th>anime_id</th>\n",
       "      <th></th>\n",
       "      <th></th>\n",
       "    </tr>\n",
       "  </thead>\n",
       "  <tbody>\n",
       "    <tr>\n",
       "      <th>1</th>\n",
       "      <td>71791</td>\n",
       "      <td>71791</td>\n",
       "    </tr>\n",
       "    <tr>\n",
       "      <th>5</th>\n",
       "      <td>30094</td>\n",
       "      <td>30094</td>\n",
       "    </tr>\n",
       "    <tr>\n",
       "      <th>6</th>\n",
       "      <td>42315</td>\n",
       "      <td>42315</td>\n",
       "    </tr>\n",
       "    <tr>\n",
       "      <th>7</th>\n",
       "      <td>9215</td>\n",
       "      <td>9215</td>\n",
       "    </tr>\n",
       "    <tr>\n",
       "      <th>8</th>\n",
       "      <td>1371</td>\n",
       "      <td>1371</td>\n",
       "    </tr>\n",
       "    <tr>\n",
       "      <th>...</th>\n",
       "      <td>...</td>\n",
       "      <td>...</td>\n",
       "    </tr>\n",
       "    <tr>\n",
       "      <th>47614</th>\n",
       "      <td>55</td>\n",
       "      <td>55</td>\n",
       "    </tr>\n",
       "    <tr>\n",
       "      <th>47616</th>\n",
       "      <td>1584</td>\n",
       "      <td>1584</td>\n",
       "    </tr>\n",
       "    <tr>\n",
       "      <th>47618</th>\n",
       "      <td>15</td>\n",
       "      <td>15</td>\n",
       "    </tr>\n",
       "    <tr>\n",
       "      <th>48177</th>\n",
       "      <td>32</td>\n",
       "      <td>32</td>\n",
       "    </tr>\n",
       "    <tr>\n",
       "      <th>48456</th>\n",
       "      <td>167</td>\n",
       "      <td>167</td>\n",
       "    </tr>\n",
       "  </tbody>\n",
       "</table>\n",
       "<p>16865 rows × 2 columns</p>\n",
       "</div>"
      ],
      "text/plain": [
       "          user_id  rating\n",
       "anime_id                 \n",
       "1           71791   71791\n",
       "5           30094   30094\n",
       "6           42315   42315\n",
       "7            9215    9215\n",
       "8            1371    1371\n",
       "...           ...     ...\n",
       "47614          55      55\n",
       "47616        1584    1584\n",
       "47618          15      15\n",
       "48177          32      32\n",
       "48456         167     167\n",
       "\n",
       "[16865 rows x 2 columns]"
      ]
     },
     "execution_count": 18,
     "metadata": {},
     "output_type": "execute_result"
    }
   ],
   "source": [
    "rating_complete_train.groupby('anime_id').count()"
   ]
  },
  {
   "cell_type": "code",
   "execution_count": 19,
   "id": "795a356e",
   "metadata": {},
   "outputs": [
    {
     "data": {
      "text/plain": [
       "count     16865.000000\n",
       "mean       3075.597391\n",
       "std        9275.477582\n",
       "min           1.000000\n",
       "25%          36.000000\n",
       "50%         240.000000\n",
       "75%        1506.000000\n",
       "max      164244.000000\n",
       "Name: user_id, dtype: float64"
      ]
     },
     "execution_count": 19,
     "metadata": {},
     "output_type": "execute_result"
    }
   ],
   "source": [
    "# 데이터 프레임을 anime_id로 그룹화하고 각 애니메이션에 해당하는 행 수를 계산합니다.\n",
    "anime_counts = rating_complete_train.groupby('anime_id').count()\n",
    "\n",
    "anime_counts['user_id'].describe()"
   ]
  },
  {
   "cell_type": "code",
   "execution_count": 20,
   "id": "f3a3b9d1-34e0-47b6-ae80-151b0ae9a192",
   "metadata": {},
   "outputs": [
    {
     "data": {
      "text/html": [
       "<div>\n",
       "<style scoped>\n",
       "    .dataframe tbody tr th:only-of-type {\n",
       "        vertical-align: middle;\n",
       "    }\n",
       "\n",
       "    .dataframe tbody tr th {\n",
       "        vertical-align: top;\n",
       "    }\n",
       "\n",
       "    .dataframe thead th {\n",
       "        text-align: right;\n",
       "    }\n",
       "</style>\n",
       "<table border=\"1\" class=\"dataframe\">\n",
       "  <thead>\n",
       "    <tr style=\"text-align: right;\">\n",
       "      <th></th>\n",
       "      <th>user_id</th>\n",
       "      <th>rating</th>\n",
       "    </tr>\n",
       "    <tr>\n",
       "      <th>anime_id</th>\n",
       "      <th></th>\n",
       "      <th></th>\n",
       "    </tr>\n",
       "  </thead>\n",
       "  <tbody>\n",
       "    <tr>\n",
       "      <th>1</th>\n",
       "      <td>71791</td>\n",
       "      <td>71791</td>\n",
       "    </tr>\n",
       "    <tr>\n",
       "      <th>5</th>\n",
       "      <td>30094</td>\n",
       "      <td>30094</td>\n",
       "    </tr>\n",
       "    <tr>\n",
       "      <th>6</th>\n",
       "      <td>42315</td>\n",
       "      <td>42315</td>\n",
       "    </tr>\n",
       "    <tr>\n",
       "      <th>7</th>\n",
       "      <td>9215</td>\n",
       "      <td>9215</td>\n",
       "    </tr>\n",
       "    <tr>\n",
       "      <th>8</th>\n",
       "      <td>1371</td>\n",
       "      <td>1371</td>\n",
       "    </tr>\n",
       "    <tr>\n",
       "      <th>...</th>\n",
       "      <td>...</td>\n",
       "      <td>...</td>\n",
       "    </tr>\n",
       "    <tr>\n",
       "      <th>47614</th>\n",
       "      <td>55</td>\n",
       "      <td>55</td>\n",
       "    </tr>\n",
       "    <tr>\n",
       "      <th>47616</th>\n",
       "      <td>1584</td>\n",
       "      <td>1584</td>\n",
       "    </tr>\n",
       "    <tr>\n",
       "      <th>47618</th>\n",
       "      <td>15</td>\n",
       "      <td>15</td>\n",
       "    </tr>\n",
       "    <tr>\n",
       "      <th>48177</th>\n",
       "      <td>32</td>\n",
       "      <td>32</td>\n",
       "    </tr>\n",
       "    <tr>\n",
       "      <th>48456</th>\n",
       "      <td>167</td>\n",
       "      <td>167</td>\n",
       "    </tr>\n",
       "  </tbody>\n",
       "</table>\n",
       "<p>16865 rows × 2 columns</p>\n",
       "</div>"
      ],
      "text/plain": [
       "          user_id  rating\n",
       "anime_id                 \n",
       "1           71791   71791\n",
       "5           30094   30094\n",
       "6           42315   42315\n",
       "7            9215    9215\n",
       "8            1371    1371\n",
       "...           ...     ...\n",
       "47614          55      55\n",
       "47616        1584    1584\n",
       "47618          15      15\n",
       "48177          32      32\n",
       "48456         167     167\n",
       "\n",
       "[16865 rows x 2 columns]"
      ]
     },
     "execution_count": 20,
     "metadata": {},
     "output_type": "execute_result"
    }
   ],
   "source": [
    "anime_counts"
   ]
  },
  {
   "cell_type": "code",
   "execution_count": 21,
   "id": "af22c4c2-822d-480f-9626-ac4994240f44",
   "metadata": {},
   "outputs": [
    {
     "data": {
      "text/html": [
       "<div>\n",
       "<style scoped>\n",
       "    .dataframe tbody tr th:only-of-type {\n",
       "        vertical-align: middle;\n",
       "    }\n",
       "\n",
       "    .dataframe tbody tr th {\n",
       "        vertical-align: top;\n",
       "    }\n",
       "\n",
       "    .dataframe thead th {\n",
       "        text-align: right;\n",
       "    }\n",
       "</style>\n",
       "<table border=\"1\" class=\"dataframe\">\n",
       "  <thead>\n",
       "    <tr style=\"text-align: right;\">\n",
       "      <th></th>\n",
       "      <th>user_id</th>\n",
       "      <th>rating</th>\n",
       "    </tr>\n",
       "  </thead>\n",
       "  <tbody>\n",
       "    <tr>\n",
       "      <th>count</th>\n",
       "      <td>16865.000000</td>\n",
       "      <td>16865.000000</td>\n",
       "    </tr>\n",
       "    <tr>\n",
       "      <th>mean</th>\n",
       "      <td>3075.597391</td>\n",
       "      <td>3075.597391</td>\n",
       "    </tr>\n",
       "    <tr>\n",
       "      <th>std</th>\n",
       "      <td>9275.477582</td>\n",
       "      <td>9275.477582</td>\n",
       "    </tr>\n",
       "    <tr>\n",
       "      <th>min</th>\n",
       "      <td>1.000000</td>\n",
       "      <td>1.000000</td>\n",
       "    </tr>\n",
       "    <tr>\n",
       "      <th>25%</th>\n",
       "      <td>36.000000</td>\n",
       "      <td>36.000000</td>\n",
       "    </tr>\n",
       "    <tr>\n",
       "      <th>50%</th>\n",
       "      <td>240.000000</td>\n",
       "      <td>240.000000</td>\n",
       "    </tr>\n",
       "    <tr>\n",
       "      <th>75%</th>\n",
       "      <td>1506.000000</td>\n",
       "      <td>1506.000000</td>\n",
       "    </tr>\n",
       "    <tr>\n",
       "      <th>max</th>\n",
       "      <td>164244.000000</td>\n",
       "      <td>164244.000000</td>\n",
       "    </tr>\n",
       "  </tbody>\n",
       "</table>\n",
       "</div>"
      ],
      "text/plain": [
       "             user_id         rating\n",
       "count   16865.000000   16865.000000\n",
       "mean     3075.597391    3075.597391\n",
       "std      9275.477582    9275.477582\n",
       "min         1.000000       1.000000\n",
       "25%        36.000000      36.000000\n",
       "50%       240.000000     240.000000\n",
       "75%      1506.000000    1506.000000\n",
       "max    164244.000000  164244.000000"
      ]
     },
     "execution_count": 21,
     "metadata": {},
     "output_type": "execute_result"
    }
   ],
   "source": [
    "anime_counts.describe()"
   ]
  },
  {
   "cell_type": "code",
   "execution_count": 22,
   "id": "02258c25-fbfb-496b-8640-b2b40bef6cb0",
   "metadata": {},
   "outputs": [
    {
     "data": {
      "text/plain": [
       "array([[<Axes: title={'center': 'user_id'}>,\n",
       "        <Axes: title={'center': 'rating'}>]], dtype=object)"
      ]
     },
     "execution_count": 22,
     "metadata": {},
     "output_type": "execute_result"
    },
    {
     "data": {
      "image/png": "[encoded data removed]",
      "text/plain": [
       "<Figure size 640x480 with 2 Axes>"
      ]
     },
     "metadata": {},
     "output_type": "display_data"
    }
   ],
   "source": [
    "anime_counts.hist()"
   ]
  },
  {
   "cell_type": "markdown",
   "id": "3e4b34fd-17a6-4858-97e7-8f2e7338f297",
   "metadata": {},
   "source": [
    "## 1.7 user_id별 평가 수 계산"
   ]
  },
  {
   "cell_type": "code",
   "execution_count": 23,
   "id": "dbef82bf",
   "metadata": {},
   "outputs": [
    {
     "data": {
      "text/plain": [
       "count    309426.000000\n",
       "mean        167.632810\n",
       "std         229.910583\n",
       "min           1.000000\n",
       "25%          39.000000\n",
       "50%         102.000000\n",
       "75%         214.000000\n",
       "max       13955.000000\n",
       "Name: anime_id, dtype: float64"
      ]
     },
     "execution_count": 23,
     "metadata": {},
     "output_type": "execute_result"
    }
   ],
   "source": [
    "# 데이터 프레임을 user_id로 그룹화하고 각 애니메이션에 해당하는 행 수를 계산합니다.\n",
    "user_counts = rating_complete_train.groupby('user_id').count()\n",
    "\n",
    "user_counts['anime_id'].describe()"
   ]
  },
  {
   "cell_type": "code",
   "execution_count": 24,
   "id": "5b2a342b-b628-4e36-a4c0-baff5b477a75",
   "metadata": {},
   "outputs": [
    {
     "data": {
      "text/html": [
       "<div>\n",
       "<style scoped>\n",
       "    .dataframe tbody tr th:only-of-type {\n",
       "        vertical-align: middle;\n",
       "    }\n",
       "\n",
       "    .dataframe tbody tr th {\n",
       "        vertical-align: top;\n",
       "    }\n",
       "\n",
       "    .dataframe thead th {\n",
       "        text-align: right;\n",
       "    }\n",
       "</style>\n",
       "<table border=\"1\" class=\"dataframe\">\n",
       "  <thead>\n",
       "    <tr style=\"text-align: right;\">\n",
       "      <th></th>\n",
       "      <th>anime_id</th>\n",
       "      <th>rating</th>\n",
       "    </tr>\n",
       "    <tr>\n",
       "      <th>user_id</th>\n",
       "      <th></th>\n",
       "      <th></th>\n",
       "    </tr>\n",
       "  </thead>\n",
       "  <tbody>\n",
       "    <tr>\n",
       "      <th>0</th>\n",
       "      <td>32</td>\n",
       "      <td>32</td>\n",
       "    </tr>\n",
       "    <tr>\n",
       "      <th>1</th>\n",
       "      <td>93</td>\n",
       "      <td>93</td>\n",
       "    </tr>\n",
       "    <tr>\n",
       "      <th>2</th>\n",
       "      <td>47</td>\n",
       "      <td>47</td>\n",
       "    </tr>\n",
       "    <tr>\n",
       "      <th>3</th>\n",
       "      <td>276</td>\n",
       "      <td>276</td>\n",
       "    </tr>\n",
       "    <tr>\n",
       "      <th>4</th>\n",
       "      <td>97</td>\n",
       "      <td>97</td>\n",
       "    </tr>\n",
       "    <tr>\n",
       "      <th>...</th>\n",
       "      <td>...</td>\n",
       "      <td>...</td>\n",
       "    </tr>\n",
       "    <tr>\n",
       "      <th>353400</th>\n",
       "      <td>62</td>\n",
       "      <td>62</td>\n",
       "    </tr>\n",
       "    <tr>\n",
       "      <th>353401</th>\n",
       "      <td>54</td>\n",
       "      <td>54</td>\n",
       "    </tr>\n",
       "    <tr>\n",
       "      <th>353402</th>\n",
       "      <td>19</td>\n",
       "      <td>19</td>\n",
       "    </tr>\n",
       "    <tr>\n",
       "      <th>353403</th>\n",
       "      <td>62</td>\n",
       "      <td>62</td>\n",
       "    </tr>\n",
       "    <tr>\n",
       "      <th>353404</th>\n",
       "      <td>28</td>\n",
       "      <td>28</td>\n",
       "    </tr>\n",
       "  </tbody>\n",
       "</table>\n",
       "<p>309426 rows × 2 columns</p>\n",
       "</div>"
      ],
      "text/plain": [
       "         anime_id  rating\n",
       "user_id                  \n",
       "0              32      32\n",
       "1              93      93\n",
       "2              47      47\n",
       "3             276     276\n",
       "4              97      97\n",
       "...           ...     ...\n",
       "353400         62      62\n",
       "353401         54      54\n",
       "353402         19      19\n",
       "353403         62      62\n",
       "353404         28      28\n",
       "\n",
       "[309426 rows x 2 columns]"
      ]
     },
     "execution_count": 24,
     "metadata": {},
     "output_type": "execute_result"
    }
   ],
   "source": [
    "user_counts"
   ]
  },
  {
   "cell_type": "code",
   "execution_count": 25,
   "id": "1fcc2580-68c7-4655-8b20-9f9dff82d967",
   "metadata": {},
   "outputs": [
    {
     "data": {
      "image/png": "[encoded data removed]",
      "text/plain": [
       "<Figure size 2500x600 with 1 Axes>"
      ]
     },
     "metadata": {},
     "output_type": "display_data"
    }
   ],
   "source": [
    "import pandas as pd\n",
    "import matplotlib.pyplot as plt\n",
    "\n",
    "# 플롯과 히스토그램 설정\n",
    "plt.figure(figsize=(25, 6))\n",
    "plt.hist(user_counts['anime_id'], bins=300, edgecolor='black', color='steelblue', alpha=0.7)\n",
    "\n",
    "plt.xticks(fontsize=12)\n",
    "plt.yticks(fontsize=12)\n",
    "plt.grid(axis='y', alpha=0.5, linestyle='--')\n",
    "\n",
    "# 히스토그램 표시\n",
    "plt.show()"
   ]
  },
  {
   "cell_type": "markdown",
   "id": "21d33830",
   "metadata": {},
   "source": [
    "# 2. 콘텐츠 임베딩을 사용하여 타이틀 추천하기"
   ]
  },
  {
   "cell_type": "code",
   "execution_count": 26,
   "id": "32e93863",
   "metadata": {
    "scrolled": true
   },
   "outputs": [
    {
     "name": "stdout",
     "output_type": "stream",
     "text": [
      "Requirement already satisfied: dask in /Users/wlkim/anaconda3/envs/quick-start-guide-to-llms/lib/python3.10/site-packages (2024.4.1)\n",
      "Requirement already satisfied: dask-ml in /Users/wlkim/anaconda3/envs/quick-start-guide-to-llms/lib/python3.10/site-packages (2024.4.4)\n",
      "Requirement already satisfied: click>=8.1 in /Users/wlkim/anaconda3/envs/quick-start-guide-to-llms/lib/python3.10/site-packages (from dask) (8.1.7)\n",
      "Requirement already satisfied: cloudpickle>=1.5.0 in /Users/wlkim/anaconda3/envs/quick-start-guide-to-llms/lib/python3.10/site-packages (from dask) (3.0.0)\n",
      "Requirement already satisfied: fsspec>=2021.09.0 in /Users/wlkim/anaconda3/envs/quick-start-guide-to-llms/lib/python3.10/site-packages (from dask) (2024.2.0)\n",
      "Requirement already satisfied: packaging>=20.0 in /Users/wlkim/anaconda3/envs/quick-start-guide-to-llms/lib/python3.10/site-packages (from dask) (23.2)\n",
      "Requirement already satisfied: partd>=1.2.0 in /Users/wlkim/anaconda3/envs/quick-start-guide-to-llms/lib/python3.10/site-packages (from dask) (1.4.1)\n",
      "Requirement already satisfied: pyyaml>=5.3.1 in /Users/wlkim/anaconda3/envs/quick-start-guide-to-llms/lib/python3.10/site-packages (from dask) (6.0.1)\n",
      "Requirement already satisfied: toolz>=0.10.0 in /Users/wlkim/anaconda3/envs/quick-start-guide-to-llms/lib/python3.10/site-packages (from dask) (0.12.1)\n",
      "Requirement already satisfied: importlib-metadata>=4.13.0 in /Users/wlkim/anaconda3/envs/quick-start-guide-to-llms/lib/python3.10/site-packages (from dask) (6.11.0)\n",
      "Requirement already satisfied: dask-glm>=0.2.0 in /Users/wlkim/anaconda3/envs/quick-start-guide-to-llms/lib/python3.10/site-packages (from dask-ml) (0.3.2)\n",
      "Requirement already satisfied: distributed>=2.4.0 in /Users/wlkim/anaconda3/envs/quick-start-guide-to-llms/lib/python3.10/site-packages (from dask-ml) (2024.4.1)\n",
      "Requirement already satisfied: multipledispatch>=0.4.9 in /Users/wlkim/anaconda3/envs/quick-start-guide-to-llms/lib/python3.10/site-packages (from dask-ml) (1.0.0)\n",
      "Requirement already satisfied: numba>=0.51.0 in /Users/wlkim/anaconda3/envs/quick-start-guide-to-llms/lib/python3.10/site-packages (from dask-ml) (0.59.1)\n",
      "Requirement already satisfied: numpy>=1.20.0 in /Users/wlkim/anaconda3/envs/quick-start-guide-to-llms/lib/python3.10/site-packages (from dask-ml) (1.26.4)\n",
      "Requirement already satisfied: pandas>=0.24.2 in /Users/wlkim/anaconda3/envs/quick-start-guide-to-llms/lib/python3.10/site-packages (from dask-ml) (2.2.1)\n",
      "Requirement already satisfied: scikit-learn>=1.2.0 in /Users/wlkim/anaconda3/envs/quick-start-guide-to-llms/lib/python3.10/site-packages (from dask-ml) (1.4.1.post1)\n",
      "Requirement already satisfied: scipy in /Users/wlkim/anaconda3/envs/quick-start-guide-to-llms/lib/python3.10/site-packages (from dask-ml) (1.12.0)\n",
      "Requirement already satisfied: sparse>=0.7.0 in /Users/wlkim/anaconda3/envs/quick-start-guide-to-llms/lib/python3.10/site-packages (from dask-glm>=0.2.0->dask-ml) (0.15.1)\n",
      "Requirement already satisfied: dask-expr<1.1,>=1.0 in /Users/wlkim/anaconda3/envs/quick-start-guide-to-llms/lib/python3.10/site-packages (from dask[array,dataframe]>=2.4.0->dask-ml) (1.0.10)\n",
      "Requirement already satisfied: jinja2>=2.10.3 in /Users/wlkim/anaconda3/envs/quick-start-guide-to-llms/lib/python3.10/site-packages (from distributed>=2.4.0->dask-ml) (3.1.3)\n",
      "Requirement already satisfied: locket>=1.0.0 in /Users/wlkim/anaconda3/envs/quick-start-guide-to-llms/lib/python3.10/site-packages (from distributed>=2.4.0->dask-ml) (1.0.0)\n",
      "Requirement already satisfied: msgpack>=1.0.0 in /Users/wlkim/anaconda3/envs/quick-start-guide-to-llms/lib/python3.10/site-packages (from distributed>=2.4.0->dask-ml) (1.0.8)\n",
      "Requirement already satisfied: psutil>=5.7.2 in /Users/wlkim/anaconda3/envs/quick-start-guide-to-llms/lib/python3.10/site-packages (from distributed>=2.4.0->dask-ml) (5.9.8)\n",
      "Requirement already satisfied: sortedcontainers>=2.0.5 in /Users/wlkim/anaconda3/envs/quick-start-guide-to-llms/lib/python3.10/site-packages (from distributed>=2.4.0->dask-ml) (2.4.0)\n",
      "Requirement already satisfied: tblib>=1.6.0 in /Users/wlkim/anaconda3/envs/quick-start-guide-to-llms/lib/python3.10/site-packages (from distributed>=2.4.0->dask-ml) (3.0.0)\n",
      "Requirement already satisfied: tornado>=6.0.4 in /Users/wlkim/anaconda3/envs/quick-start-guide-to-llms/lib/python3.10/site-packages (from distributed>=2.4.0->dask-ml) (6.4)\n",
      "Requirement already satisfied: urllib3>=1.24.3 in /Users/wlkim/anaconda3/envs/quick-start-guide-to-llms/lib/python3.10/site-packages (from distributed>=2.4.0->dask-ml) (2.2.1)\n",
      "Requirement already satisfied: zict>=3.0.0 in /Users/wlkim/anaconda3/envs/quick-start-guide-to-llms/lib/python3.10/site-packages (from distributed>=2.4.0->dask-ml) (3.0.0)\n",
      "Requirement already satisfied: zipp>=0.5 in /Users/wlkim/anaconda3/envs/quick-start-guide-to-llms/lib/python3.10/site-packages (from importlib-metadata>=4.13.0->dask) (3.17.0)\n",
      "Requirement already satisfied: llvmlite<0.43,>=0.42.0dev0 in /Users/wlkim/anaconda3/envs/quick-start-guide-to-llms/lib/python3.10/site-packages (from numba>=0.51.0->dask-ml) (0.42.0)\n",
      "Requirement already satisfied: python-dateutil>=2.8.2 in /Users/wlkim/anaconda3/envs/quick-start-guide-to-llms/lib/python3.10/site-packages (from pandas>=0.24.2->dask-ml) (2.9.0.post0)\n",
      "Requirement already satisfied: pytz>=2020.1 in /Users/wlkim/anaconda3/envs/quick-start-guide-to-llms/lib/python3.10/site-packages (from pandas>=0.24.2->dask-ml) (2024.1)\n",
      "Requirement already satisfied: tzdata>=2022.7 in /Users/wlkim/anaconda3/envs/quick-start-guide-to-llms/lib/python3.10/site-packages (from pandas>=0.24.2->dask-ml) (2024.1)\n",
      "Requirement already satisfied: joblib>=1.2.0 in /Users/wlkim/anaconda3/envs/quick-start-guide-to-llms/lib/python3.10/site-packages (from scikit-learn>=1.2.0->dask-ml) (1.3.2)\n",
      "Requirement already satisfied: threadpoolctl>=2.0.0 in /Users/wlkim/anaconda3/envs/quick-start-guide-to-llms/lib/python3.10/site-packages (from scikit-learn>=1.2.0->dask-ml) (3.3.0)\n",
      "Requirement already satisfied: pyarrow>=7.0.0 in /Users/wlkim/anaconda3/envs/quick-start-guide-to-llms/lib/python3.10/site-packages (from dask-expr<1.1,>=1.0->dask[array,dataframe]>=2.4.0->dask-ml) (15.0.0)\n",
      "Requirement already satisfied: MarkupSafe>=2.0 in /Users/wlkim/anaconda3/envs/quick-start-guide-to-llms/lib/python3.10/site-packages (from jinja2>=2.10.3->distributed>=2.4.0->dask-ml) (2.1.5)\n",
      "Requirement already satisfied: six>=1.5 in /Users/wlkim/anaconda3/envs/quick-start-guide-to-llms/lib/python3.10/site-packages (from python-dateutil>=2.8.2->pandas>=0.24.2->dask-ml) (1.16.0)\n"
     ]
    }
   ],
   "source": [
    "!pip install dask dask-ml"
   ]
  },
  {
   "cell_type": "markdown",
   "id": "ab0a098d-a246-44cf-bfe6-4d952e688e63",
   "metadata": {},
   "source": [
    "## 2.1 초기화, 자카드 유사도 함수 정의"
   ]
  },
  {
   "cell_type": "code",
   "execution_count": 27,
   "id": "1749491a",
   "metadata": {},
   "outputs": [],
   "source": [
    "# 데이터 분포를 고려하여 9, 10의 경우 긍정(1) 7, 8의 경우 중립(0) 나머지는 부정(-1)으로 구성\n",
    "score_map = {10: 1, 9: 1, 8: 0, 7: 0, 6: -1, 5: -1, 4:-1, 3:-1, 2:-1, 1:-1, 0:-1}"
   ]
  },
  {
   "cell_type": "code",
   "execution_count": 28,
   "id": "b86ba91d",
   "metadata": {},
   "outputs": [],
   "source": [
    "from tqdm.auto import tqdm\n",
    "from torch.utils.data import DataLoader"
   ]
  },
  {
   "cell_type": "code",
   "execution_count": 29,
   "id": "9f99d4c9-c25d-4e78-b74a-617850861e99",
   "metadata": {},
   "outputs": [],
   "source": [
    "import pandas as pd\n",
    "import itertools\n",
    "import random\n",
    "\n",
    "# 자카드 유사도 = 교집합 / 합집합\n",
    "def jaccard_similarity(set1, set2):\n",
    "    intersection = len(set1.intersection(set2))\n",
    "    union = len(set1.union(set2))\n",
    "    if union:\n",
    "        return intersection / union"
   ]
  },
  {
   "cell_type": "markdown",
   "id": "8cacbb74-4d26-472f-be0f-9fdc263d4786",
   "metadata": {},
   "source": [
    "아래 코드는 애니메이션 데이터와 평점 데이터를 사용하여 긍정적인 평가를 필터링하고, 애니메이션 쌍을 생성하는 과정입니다. 코드의 각 부분을 자세히 설명하겠습니다:\n",
    "\n",
    "1. 긍정적인 예시에 대한 평점 임계값 설정:\n",
    "   ```python\n",
    "   rating_threshold = 9\n",
    "   ```\n",
    "   - `rating_threshold` 변수는 긍정적인 평가로 간주할 평점의 임계값을 설정합니다.\n",
    "   - 여기서는 9점 이상의 평점을 긍정적인 평가로 간주합니다.\n",
    "\n",
    "2. 긍정적 평가 필터링:\n",
    "   ```python\n",
    "   positive_ratings = rating_complete_train[rating_complete_train['rating'] >= rating_threshold]\n",
    "   ```\n",
    "   - `rating_complete_train` 데이터프레임에서 `'rating'` 열의 값이 `rating_threshold` 이상인 행만 선택하여 `positive_ratings` 데이터프레임을 생성합니다.\n",
    "   - 이를 통해 긍정적인 평가만 필터링됩니다.\n",
    "\n",
    "3. 사용자별 긍정적으로 평가된 애니메이션 사전 생성:\n",
    "   ```python\n",
    "   user_anime_dict = positive_ratings.groupby('user_id')['anime_id'].apply(set).to_dict()\n",
    "   ```\n",
    "   - `positive_ratings` 데이터프레임을 `'user_id'` 열로 그룹화한 후, `'anime_id'` 열의 값을 집합(set)으로 변환하여 사전(dictionary)으로 만듭니다.\n",
    "   - 이렇게 생성된 `user_anime_dict` 사전은 각 사용자(`'user_id'`)가 긍정적으로 평가한 애니메이션(`'anime_id'`)의 집합을 값으로 갖습니다.\n",
    "\n",
    "4. 두 데이터프레임의 교집합 추출:\n",
    "   ```python\n",
    "   set(pre_merged_anime['MAL_ID'].unique()) & set(rating_complete_train['anime_id'].unique())\n",
    "   ```\n",
    "   - `pre_merged_anime` 데이터프레임의 `'MAL_ID'` 열과 `rating_complete_train` 데이터프레임의 `'anime_id'` 열에서 고유한 값들의 집합을 각각 생성합니다.\n",
    "   - 두 집합의 교집합을 구하여 두 데이터프레임에 공통으로 존재하는 애니메이션의 ID를 추출합니다.\n",
    "\n",
    "5. 애니메이션 쌍 생성:\n",
    "   ```python\n",
    "   anime_pairs = itertools.combinations(sorted(set(pre_merged_anime['MAL_ID'].unique()) & set(rating_complete_train['anime_id'].unique())), 2)\n",
    "   ```\n",
    "   - `itertools.combinations()` 함수를 사용하여 두 데이터프레임의 교집합에 속하는 애니메이션 ID 중에서 2개씩 조합을 생성합니다.\n",
    "   - 생성된 조합은 `anime_pairs` 변수에 이터레이터 형태로 저장됩니다.\n",
    "\n",
    "이 코드는 애니메이션 데이터와 평점 데이터를 활용하여 긍정적인 평가를 필터링하고, 사용자별로 긍정적으로 평가한 애니메이션의 집합을 생성합니다. 또한, 두 데이터프레임에 공통으로 존재하는 애니메이션 ID를 추출하고, 그 중에서 2개씩 조합을 생성하여 애니메이션 쌍을 만듭니다.\n",
    "\n",
    "이렇게 생성된 애니메이션 쌍은 추천 시스템이나 유사도 분석 등의 작업에 활용될 수 있습니다."
   ]
  },
  {
   "cell_type": "code",
   "execution_count": 30,
   "id": "ff97d138",
   "metadata": {},
   "outputs": [],
   "source": [
    "# 긍정적인 예시에 대한 평점 임계값 설정하기\n",
    "rating_threshold = 9\n",
    "\n",
    "# 긍정적 평가 필터링\n",
    "positive_ratings = rating_complete_train[rating_complete_train['rating'] >= rating_threshold]\n",
    "\n",
    "# user_id와 긍정적으로 평가된 애니메이션의 사전을 만듭니다.\n",
    "user_anime_dict = positive_ratings.groupby('user_id')['anime_id'].apply(set).to_dict()\n",
    "\n",
    "\n",
    "# set(pre_merged_anime['MAL_ID'].unique()) & set(rating_complete_train['anime_id'].unique() : 두 데이터 프레임의 교집합 추출 (총 15542개) 즉 애니메이션 목록에 있으면서 평가 데이터도 존재\n",
    "# itertools.combinations : 조합(combination) 연산 후 이터레이터 형태로 반환 (15542 * 15541 / 2 = 120769111)\n",
    "anime_pairs = itertools.combinations(sorted(set(pre_merged_anime['MAL_ID'].unique()) & set(rating_complete_train['anime_id'].unique())), 2)"
   ]
  },
  {
   "cell_type": "code",
   "execution_count": 31,
   "id": "d1270356-c390-4270-8f36-f66a8330fe0c",
   "metadata": {
    "scrolled": true
   },
   "outputs": [
    {
     "data": {
      "text/plain": [
       "16206"
      ]
     },
     "execution_count": 31,
     "metadata": {},
     "output_type": "execute_result"
    }
   ],
   "source": [
    "len(set(pre_merged_anime['MAL_ID'].unique()))"
   ]
  },
  {
   "cell_type": "code",
   "execution_count": 32,
   "id": "eae4adfb-eeef-4068-9657-37bfb4fd82c1",
   "metadata": {},
   "outputs": [
    {
     "data": {
      "text/plain": [
       "16865"
      ]
     },
     "execution_count": 32,
     "metadata": {},
     "output_type": "execute_result"
    }
   ],
   "source": [
    "len(set(rating_complete_train['anime_id'].unique()))"
   ]
  },
  {
   "cell_type": "code",
   "execution_count": 33,
   "id": "98756b3d-64bd-4eb9-b440-0874c8034b60",
   "metadata": {},
   "outputs": [
    {
     "data": {
      "text/plain": [
       "15542"
      ]
     },
     "execution_count": 33,
     "metadata": {},
     "output_type": "execute_result"
    }
   ],
   "source": [
    "len(set(pre_merged_anime['MAL_ID'].unique()) & set(rating_complete_train['anime_id'].unique()))"
   ]
  },
  {
   "cell_type": "code",
   "execution_count": 34,
   "id": "892f53b2-17c6-4a78-aa95-2a38e6649f26",
   "metadata": {},
   "outputs": [
    {
     "data": {
      "text/plain": [
       "15542"
      ]
     },
     "execution_count": 34,
     "metadata": {},
     "output_type": "execute_result"
    }
   ],
   "source": [
    "len(sorted(set(pre_merged_anime['MAL_ID'].unique()) & set(rating_complete_train['anime_id'].unique())))"
   ]
  },
  {
   "cell_type": "code",
   "execution_count": 35,
   "id": "a18c783c-30c8-4ef7-95ef-06768b587053",
   "metadata": {},
   "outputs": [
    {
     "name": "stdout",
     "output_type": "stream",
     "text": [
      "120769111\n",
      "(1, 5)\n",
      "(1, 6)\n"
     ]
    }
   ],
   "source": [
    "result = list(itertools.combinations(sorted(set(pre_merged_anime['MAL_ID'].unique()) & set(rating_complete_train['anime_id'].unique())), 2))\n",
    "print(len(result))\n",
    "print(result[0])\n",
    "print(result[1])"
   ]
  },
  {
   "cell_type": "markdown",
   "id": "86ca258e-16bd-4082-ab03-0f822505be67",
   "metadata": {},
   "source": [
    "## 2.2 자카트 유사도를 이용한 긍정/부정 데이터 판별 및 데이터 생성"
   ]
  },
  {
   "cell_type": "code",
   "execution_count": 36,
   "id": "96bed0c5",
   "metadata": {
    "scrolled": true
   },
   "outputs": [
    {
     "data": {
      "application/vnd.jupyter.widget-view+json": {
       "model_id": "b98c82494c0b4b66824d11010ffc9f6e",
       "version_major": 2,
       "version_minor": 0
      },
      "text/plain": [
       "0it [00:00, ?it/s]"
      ]
     },
     "metadata": {},
     "output_type": "display_data"
    },
    {
     "name": "stdout",
     "output_type": "stream",
     "text": [
      "부정 / 긍정 =  6072.069559668155\n"
     ]
    }
   ],
   "source": [
    "'''\n",
    "이 스크립트는 각 예제가 한 쌍의 애니메이션으로 구성된 훈련 예제를 준비합니다. \n",
    "각 쌍에 대한 레이블은 쌍에 포함된 각 애니메이션을 좋아하는 사용자의 \n",
    "애니메이션을 좋아하는 사용자의 자카드 유사도를 기반으로 합니다. Jaccard 유사도(>= 0.3)가 높으면 해당 애니메이션이 \n",
    "애니메이션이 유사하다는 것을 의미하며(긍정적인 예), 낮은 Jaccard 유사도(<0.1)는 \n",
    "애니메이션이 서로 다르다는 것을 의미합니다(부정적인 예시). \n",
    "\n",
    "스크립트는 각 긍정적 예시당 최대 5개의 부정적 예시 비율을 유지합니다.\n",
    "'''\n",
    "# 필요한 라이브러리 가져오기\n",
    "from random import sample, seed\n",
    "from sentence_transformers import InputExample\n",
    "\n",
    "# 양수 및 음수 쌍 예제를 저장하기 위한 빈 목록 초기화하기\n",
    "positive_pairs_examples, negative_pairs_examples = [], []\n",
    "\n",
    "# 결과의 재현성을 보장하기 위해 랜덤 함수의 시드 값을 설정합니다.\n",
    "seed(42)\n",
    "\n",
    "# 각 애니메이션 쌍 반복\n",
    "for a1, a2 in tqdm(anime_pairs):\n",
    "    # 쌍의 애니메이션 중 하나라도 pre_merged_anime 데이터프레임 인덱스에서 찾을 수 없는 경우 현재 반복을 건너뜁니다.\n",
    "    if a1 not in pre_merged_anime.index or a2 not in pre_merged_anime.index:\n",
    "        continue\n",
    "\n",
    "    # 애니메이션 a1과 애니메이션 a2를 좋아하는 사용자 집합 간의 Jaccard 유사도 계산하기\n",
    "    j = jaccard_similarity(user_anime_dict.get(a1, set()), user_anime_dict.get(a2, set())) \n",
    "\n",
    "    # Jaccard 유사도가 0이 아닌 경우(즉, 일부 공통 사용자가 있는 경우)\n",
    "    if j:\n",
    "        # Jaccard 유사도가 0.3보다 크거나 같으면, \n",
    "        # 쌍이 긍정적인 예시로 간주되어 positive_pairs_examples 목록에 추가됩니다.\n",
    "        if j >= 0.3:\n",
    "            positive_pairs_examples.append(InputExample(texts=[pre_merged_anime.loc[a1]['generated_description'], pre_merged_anime.loc[a2]['generated_description']], label=1.))\n",
    "\n",
    "        # 제이카드 유사도가 0.1 미만인 경우, \n",
    "        # 해당 쌍은 부정적인 예시로 간주되어 negative_pairs_examples 목록에 추가됩니다.\n",
    "        elif j < 0.1:\n",
    "            negative_pairs_examples.append(InputExample(texts=[pre_merged_anime.loc[a1]['generated_description'], pre_merged_anime.loc[a2]['generated_description']], label=0.))\n",
    "\n",
    "\n",
    "# 부정적인 예시 수가 긍정적인 예시 수의 5배를 넘지 않도록 합니다. \n",
    "# 5:1 비율을 유지하기 위해 부정적인 예시를 섞고 목록을 잘라냅니다.\n",
    "print(\"부정 / 긍정 = \",len(negative_pairs_examples) / len(positive_pairs_examples))\n",
    "if len(negative_pairs_examples) > len(positive_pairs_examples) * 5:\n",
    "    random.shuffle(negative_pairs_examples)\n",
    "    negative_pairs_examples = negative_pairs_examples[:len(positive_pairs_examples)*5]"
   ]
  },
  {
   "cell_type": "code",
   "execution_count": 37,
   "id": "b53e22ec-a76f-48d0-acb2-23b5dbc05d3d",
   "metadata": {},
   "outputs": [
    {
     "name": "stdout",
     "output_type": "stream",
     "text": [
      "부정 / 긍정 =  5.0\n"
     ]
    }
   ],
   "source": [
    "print(\"부정 / 긍정 = \",len(negative_pairs_examples) / len(positive_pairs_examples))"
   ]
  },
  {
   "cell_type": "code",
   "execution_count": 38,
   "id": "d5749609",
   "metadata": {},
   "outputs": [
    {
     "data": {
      "text/plain": [
       "{'guid': '',\n",
       " 'texts': ['Sunabouzu is a TV Show.\\nSynopsis: The Great Kanto Desert, a sweltering wasteland of nothing but ruins and sand, is all that remains of post-apocalyptic Japan. The once fair population has been left to cling to the inhospitable dunes for survival. At least, that is the case for normal people. For those who have spent a little too long in the Kanto sun, the desert offers a wondrous opportunity to make a name for themselves. One such person is the masked handyman \"Sunabouzu,\" or Desert Punk, who has forged a legendary reputation for always finishing his jobs, no matter the nature or cost. Cunning and ruthless, he has become a force of crude destruction to the other desert people. However, the \"Vixen of the Desert,\" Junko Asagiri, discovers that Sunabouzu is not without his weaknesseshe is easily swayed by his insatiable lust for large-breasted desert babes. Following their chaotic adventures through the Kanto Desert, Sunabouzu features a bizarre cast of personalities who entertain themselves with senseless violence and perversion in a world long destroyed by their forefathers. And just like them, they have not learned a damn thing.\\nIt was produced by GDH, Pony Canyon, CBC and it is from Gonzo Studio.\\nIts source is Manga.\\nIt premiered in Fall 2004.\\nIts genres are Action, Adventure, Comedy, Ecchi, Sci-Fi, Shounen',\n",
       "  'Rockman.EXE Stream is a TV Show.\\nSynopsis: comet burns in the sky, its brilliant light shining down upon the people of Earth. At that time, a giant army of viruses invade the real world, crushing everything in their path. Netto and Enzan use cross fusion to intervene, but are whisked away to an unknown location, only to be confronted by the one responsible for the attack - Duo! (Source: Official Site)\\nIt was produced by Unknown and it is from Xebec Studio.\\nIts source is Game.\\nIt premiered in Fall 2004.\\nIts genres are Action, Adventure, Game, Mecha, School, Sci-Fi, Shounen'],\n",
       " 'label': 1.0}"
      ]
     },
     "execution_count": 38,
     "metadata": {},
     "output_type": "execute_result"
    }
   ],
   "source": [
    "positive_pairs_examples[0].__dict__"
   ]
  },
  {
   "cell_type": "code",
   "execution_count": 39,
   "id": "c49514cd",
   "metadata": {},
   "outputs": [
    {
     "data": {
      "text/plain": [
       "{'guid': '',\n",
       " 'texts': ['Neko to Nezumi is a Movie.\\nSynopsis: It is most likely a short story about a cat and a mouse.\\nIt was produced by Unknown and it is from Unknown Studio.\\nIts source is Original.\\nIt premiered in Unknown.\\nIts genres are Comedy',\n",
       "  'Yakusoku no Neverland is a TV Show.\\nSynopsis: Surrounded by a forest and a gated entrance, the Grace Field House is inhabited by orphans happily living together as one big family, looked after by their \"Mama,\" Isabella. Although they are required to take tests daily, the children are free to spend their time as they see fit, usually playing outside, as long as they do not venture too far from the orphanagea rule they are expected to follow no matter what. However, all good times must come to an end, as every few months, a child is adopted and sent to live with their new family, never to be heard from again. However, the three oldest siblings have their suspicions about what is actually happening at the orphanage, and they are about to discover the cruel fate that awaits the children living at Grace Field, including the twisted nature of their beloved Mama.\\nIt was produced by Aniplex, Dentsu, A-1 Pictures, Fuji TV, Shueisha, CA-Cygames Anime Fund and it is from CloverWorks Studio.\\nIts source is Manga.\\nIt premiered in Winter 2019.\\nIts genres are Sci-Fi, Mystery, Horror, Psychological, Thriller, Shounen'],\n",
       " 'label': 0.0}"
      ]
     },
     "execution_count": 39,
     "metadata": {},
     "output_type": "execute_result"
    }
   ],
   "source": [
    "negative_pairs_examples[0].__dict__"
   ]
  },
  {
   "cell_type": "code",
   "execution_count": 40,
   "id": "91b0b305",
   "metadata": {},
   "outputs": [
    {
     "data": {
      "text/plain": [
       "(1567, 7835)"
      ]
     },
     "execution_count": 40,
     "metadata": {},
     "output_type": "execute_result"
    }
   ],
   "source": [
    "len(positive_pairs_examples), len(negative_pairs_examples)"
   ]
  },
  {
   "cell_type": "code",
   "execution_count": 41,
   "id": "c178c550",
   "metadata": {},
   "outputs": [],
   "source": [
    "# 네거티브 쌍 다운샘플링\n",
    "if len(negative_pairs_examples) > len(positive_pairs_examples):\n",
    "    random.shuffle(negative_pairs_examples)\n",
    "    negative_pairs_examples = negative_pairs_examples[:len(positive_pairs_examples)]"
   ]
  },
  {
   "cell_type": "code",
   "execution_count": 42,
   "id": "529e0951",
   "metadata": {},
   "outputs": [
    {
     "data": {
      "text/plain": [
       "(1567, 1567)"
      ]
     },
     "execution_count": 42,
     "metadata": {},
     "output_type": "execute_result"
    }
   ],
   "source": [
    "len(positive_pairs_examples), len(negative_pairs_examples)"
   ]
  },
  {
   "cell_type": "markdown",
   "id": "a2a5a022-9212-4906-b3c8-610cae8713d9",
   "metadata": {},
   "source": [
    "## 2.3 훈련용과 검증용 데이터 분리"
   ]
  },
  {
   "cell_type": "code",
   "execution_count": 43,
   "id": "4f7af0d3",
   "metadata": {},
   "outputs": [],
   "source": [
    "from sklearn.model_selection import train_test_split\n",
    "\n",
    "# 자카드 유사도가 높은 예제와 낮은 예제를 훈련용과 검증용으로 분리\n",
    "train_positive_pairs, val_positive_pairs = train_test_split(positive_pairs_examples, test_size=0.2, random_state=42)\n",
    "train_negative_pairs, val_negative_pairs = train_test_split(negative_pairs_examples, test_size=0.2, random_state=42)"
   ]
  },
  {
   "cell_type": "markdown",
   "id": "33579333-d887-4784-b7a9-4b9e1b47ff05",
   "metadata": {},
   "source": [
    "# 3. paraphrase-distilroberta-base-v1 튜닝"
   ]
  },
  {
   "cell_type": "markdown",
   "id": "f17e0de2-7803-484a-9305-605911d42ad1",
   "metadata": {},
   "source": [
    "## 3.1 모델 초기화"
   ]
  },
  {
   "cell_type": "code",
   "execution_count": 44,
   "id": "81c7f340",
   "metadata": {},
   "outputs": [],
   "source": [
    "from sentence_transformers import SentenceTransformer, evaluation, losses"
   ]
  },
  {
   "cell_type": "code",
   "execution_count": 45,
   "id": "c4bd3786",
   "metadata": {
    "scrolled": true
   },
   "outputs": [
    {
     "data": {
      "text/plain": [
       "SentenceTransformer(\n",
       "  (0): Transformer({'max_seq_length': 384, 'do_lower_case': False}) with Transformer model: RobertaModel \n",
       "  (1): Pooling({'word_embedding_dimension': 768, 'pooling_mode_cls_token': False, 'pooling_mode_mean_tokens': True, 'pooling_mode_max_tokens': False, 'pooling_mode_mean_sqrt_len_tokens': False, 'pooling_mode_weightedmean_tokens': False, 'pooling_mode_lasttoken': False, 'include_prompt': True})\n",
       ")"
      ]
     },
     "execution_count": 45,
     "metadata": {},
     "output_type": "execute_result"
    }
   ],
   "source": [
    "# 사전 학습된 SBERT 모델 로드\n",
    "model = SentenceTransformer('paraphrase-distilroberta-base-v1')\n",
    "model.max_seq_length = 384     # 컨텍스트 창을 384 토큰으로 변경합니다. 일반적으로 128입니다.\n",
    "model"
   ]
  },
  {
   "cell_type": "markdown",
   "id": "78546c2f-aee3-4c4a-ab83-a4110400c902",
   "metadata": {},
   "source": [
    "## 3.2 데이터 분석 및 학습 데이터 생성"
   ]
  },
  {
   "cell_type": "code",
   "execution_count": 46,
   "id": "ebf771f3",
   "metadata": {},
   "outputs": [
    {
     "name": "stderr",
     "output_type": "stream",
     "text": [
      "Token indices sequence length is longer than the specified maximum sequence length for this model (689 > 512). Running this sequence through the model will result in indexing errors\n"
     ]
    }
   ],
   "source": [
    "lengths = []\n",
    "for c in pre_merged_anime['generated_description']:\n",
    "    lengths.append(model.tokenizer(c, return_tensors='pt')['input_ids'].shape[1])"
   ]
  },
  {
   "cell_type": "code",
   "execution_count": 47,
   "id": "e116a109-37c4-440b-b662-419c61da35fa",
   "metadata": {},
   "outputs": [
    {
     "data": {
      "image/png": "[encoded data removed]",
      "text/plain": [
       "<Figure size 1000x600 with 1 Axes>"
      ]
     },
     "metadata": {},
     "output_type": "display_data"
    }
   ],
   "source": [
    "import pandas as pd\n",
    "import matplotlib.pyplot as plt\n",
    "\n",
    "# '상관 관계'가 데이터를 포함하는 사전이라고 가정합니다.\n",
    "\n",
    "# 플롯과 히스토그램 설정\n",
    "plt.figure(figsize=(10, 6))\n",
    "plt.hist(lengths, bins=30, edgecolor='black', color='steelblue', alpha=0.7)\n",
    "\n",
    "# 플롯의 모양 사용자 지정\n",
    "plt.title(\"Histogram of Token Lengths\", fontsize=16)\n",
    "plt.xlabel(\"Lengths\", fontsize=14)\n",
    "plt.ylabel(\"Frequency\", fontsize=14)\n",
    "plt.xticks(fontsize=12)\n",
    "plt.yticks(fontsize=12)\n",
    "plt.grid(axis='y', alpha=0.5, linestyle='--')\n",
    "\n",
    "# 히스토그램 표시\n",
    "plt.show()"
   ]
  },
  {
   "cell_type": "markdown",
   "id": "5669c88c-c214-4b53-a850-4c330e1a5123",
   "metadata": {},
   "source": [
    "아래 코드는 모델의 유효성 검사(validation)를 위한 데이터 준비 및 평가자(evaluator) 설정을 수행하는 과정입니다:\n",
    "\n",
    "1. `all_examples_val = val_positive_pairs + val_negative_pairs`: \n",
    "   - 이 코드는 검증용으로 생성된 긍정 쌍(`val_positive_pairs`)과 부정 쌍(`val_negative_pairs`)을 통합하여 `all_examples_val` 리스트를 생성합니다.\n",
    "   - `all_examples_val`은 모든 검증용 데이터를 포함하는 리스트가 됩니다.\n",
    "\n",
    "2. 검증용 데이터에서 문장과 점수 추출:\n",
    "   - `all_examples_val`에서 첫 번째 문장을 `val_sentences1` 리스트에 추출합니다.\n",
    "   - `all_examples_val`에서 두 번째 문장을 `val_sentences2` 리스트에 추출합니다.\n",
    "   - `all_examples_val`에서 레이블(점수)를 `val_scores` 리스트에 추출합니다.\n",
    "\n",
    "3. 평가자 생성:\n",
    "   - `evaluation.EmbeddingSimilarityEvaluator` 클래스를 사용하여 평가자를 생성합니다.\n",
    "   - 생성자에 `val_sentences1`, `val_sentences2`, `val_scores`를 전달하여 평가자를 초기화합니다.\n",
    "   - 평가자는 모델의 성능을 평가하는 데 사용됩니다.\n",
    "\n",
    "이 코드는 검증용 데이터를 준비하고, 평가자를 설정하는 과정을 나타냅니다. 이렇게 준비된 데이터와 평가자는 모델의 유효성 검사 단계에서 사용되어 모델의 성능을 평가하는 데 활용됩니다."
   ]
  },
  {
   "cell_type": "code",
   "execution_count": null,
   "id": "fef14de9",
   "metadata": {},
   "outputs": [],
   "source": [
    "# 검증용으로 생성된 긍정, 부정 데이터를 통합\n",
    "all_examples_val = val_positive_pairs + val_negative_pairs\n",
    "\n",
    "# 유효성 검사 예제에서 문장 및 점수 추출하기\n",
    "val_sentences1 = [ex.texts[0] for ex in all_examples_val]\n",
    "val_sentences2 = [ex.texts[1] for ex in all_examples_val]\n",
    "val_scores = [ex.label for ex in all_examples_val]\n",
    "\n",
    "# 평가자 만들기\n",
    "evaluator = evaluation.EmbeddingSimilarityEvaluator(val_sentences1, val_sentences2, val_scores)"
   ]
  },
  {
   "cell_type": "markdown",
   "id": "0185460d-9f01-48af-ba58-72a555b1b44b",
   "metadata": {},
   "source": [
    "## 3.3 튜닝 전 모델 성능 측정"
   ]
  },
  {
   "cell_type": "code",
   "execution_count": 49,
   "id": "a98cad44",
   "metadata": {},
   "outputs": [
    {
     "data": {
      "text/plain": [
       "-0.025314296502858342"
      ]
     },
     "execution_count": 49,
     "metadata": {},
     "output_type": "execute_result"
    }
   ],
   "source": [
    "# 원래 아키텍처는 제한이 128이므로 너무 많은 컨텍스트가 잘립니다.\n",
    "SentenceTransformer('paraphrase-distilroberta-base-v1').evaluate(evaluator)  "
   ]
  },
  {
   "cell_type": "code",
   "execution_count": 50,
   "id": "e3294b38",
   "metadata": {
    "scrolled": true
   },
   "outputs": [
    {
     "data": {
      "text/plain": [
       "0.012507827279691283"
      ]
     },
     "execution_count": 50,
     "metadata": {},
     "output_type": "execute_result"
    }
   ],
   "source": [
    "# model.max_seq_length를 384로 설정한 경우 성능이 약간 개선됨\n",
    "model.evaluate(evaluator)"
   ]
  },
  {
   "cell_type": "markdown",
   "id": "4335031d-5bcd-49cb-a710-458809741e9c",
   "metadata": {},
   "source": [
    "## 3.4 모델 학습"
   ]
  },
  {
   "cell_type": "markdown",
   "id": "a96e5271-334f-48b2-b1e3-423cf792eb41",
   "metadata": {},
   "source": [
    "아래 코드는 모델 훈련을 위한 데이터 준비 및 훈련 설정을 수행하는 과정입니다:\n",
    "\n",
    "1. `all_train_examples = train_positive_pairs + train_negative_pairs`:\n",
    "   - 이 코드는 훈련용으로 생성된 긍정 쌍(`train_positive_pairs`)과 부정 쌍(`train_negative_pairs`)을 통합하여 `all_train_examples` 리스트를 생성합니다.\n",
    "   - `all_train_examples`은 모든 훈련용 데이터를 포함하는 리스트가 됩니다.\n",
    "\n",
    "2. 데이터 로더 생성:\n",
    "   ```python\n",
    "   train_dataloader = DataLoader(\n",
    "       all_train_examples,\n",
    "       batch_size=16,\n",
    "       shuffle=True\n",
    "   )\n",
    "   ```\n",
    "   - `DataLoader` 클래스를 사용하여 `all_train_examples`을 배치 단위로 로드하는 데이터 로더를 생성합니다.\n",
    "   - `batch_size=16`은 한 번에 처리할 데이터의 개수를 의미합니다.\n",
    "   - `shuffle=True`는 데이터를 무작위로 섞어서 로드하도록 설정합니다.\n",
    "\n",
    "3. 손실 함수 정의:\n",
    "   ```python\n",
    "   loss = losses.CosineSimilarityLoss(model=model)\n",
    "   ```\n",
    "   - `losses.CosineSimilarityLoss` 클래스를 사용하여 코사인 유사도 손실 함수를 정의합니다.\n",
    "   - `model=model`은 손실 함수에 사용될 모델을 지정합니다.\n",
    "\n",
    "4. 모델 훈련 설정:\n",
    "   ```python\n",
    "   num_epochs = 5\n",
    "   warmup_steps = int(len(train_dataloader) * num_epochs * 0.1)\n",
    "   ```\n",
    "   - `num_epochs = 5`는 모델을 훈련할 에폭(epoch) 수를 설정합니다. 여기서는 5번의 에폭 동안 모델을 훈련합니다.\n",
    "   - `warmup_steps`는 학습률 워밍업(learning rate warm-up)을 위한 스텝 수를 계산합니다. 여기서는 전체 훈련 데이터의 10%에 해당하는 스텝 수를 사용합니다.\n",
    "\n",
    "이 코드는 훈련용 데이터를 준비하고, 데이터 로더를 생성하며, 손실 함수를 정의하고, 모델 훈련을 위한 설정을 수행하는 과정을 나타냅니다.\n",
    "\n",
    "- `all_train_examples`는 훈련에 사용될 모든 데이터를 포함하는 리스트입니다.\n",
    "- `train_dataloader`는 훈련 데이터를 배치 단위로 로드하는 데이터 로더입니다.\n",
    "- `loss`는 모델 훈련에 사용될 손실 함수입니다.\n",
    "- `num_epochs`는 모델을 훈련할 에폭 수를 지정합니다.\n",
    "- `warmup_steps`는 학습률 워밍업을 위한 스텝 수를 계산합니다.\n",
    "\n",
    "이렇게 준비된 데이터와 설정은 모델 훈련 과정에서 사용되어 모델이 데이터로부터 학습할 수 있도록 합니다."
   ]
  },
  {
   "cell_type": "code",
   "execution_count": 51,
   "id": "52262c78",
   "metadata": {
    "scrolled": true
   },
   "outputs": [],
   "source": [
    "# 훈련용으로 생성된 긍정, 부정 데이터를 통합\n",
    "all_train_examples = train_positive_pairs + train_negative_pairs\n",
    "\n",
    "# 훈련을 위한 데이터로더 생성하기\n",
    "train_dataloader = DataLoader(\n",
    "    all_train_examples,\n",
    "    batch_size=16,\n",
    "    shuffle=True\n",
    ")\n",
    "\n",
    "# 손실 함수 정의\n",
    "loss = losses.CosineSimilarityLoss(model=model)\n",
    "\n",
    "# 모델 훈련 설정\n",
    "num_epochs = 5\n",
    "warmup_steps = int(len(train_dataloader) * num_epochs * 0.1)  # 10% of training data for warm-up"
   ]
  },
  {
   "cell_type": "markdown",
   "id": "3c04e62e-22cc-4a88-8189-015f1b919ed9",
   "metadata": {},
   "source": [
    "아래 코드는 모델을 CPU로 이동하고, 모델 훈련을 수행하는 부분입니다. 코드의 각 부분을 자세히 설명하겠습니다:\n",
    "\n",
    "1. 모델을 CPU로 이동:\n",
    "   ```python\n",
    "   model = model.to('cpu')\n",
    "   ```\n",
    "   - `model.to('cpu')`는 모델을 CPU로 이동시키는 코드입니다.\n",
    "   - 이는 모델의 연산을 CPU에서 수행하도록 설정합니다. GPU가 없는 환경에서 실행할 때 필요합니다.\n",
    "\n",
    "2. 모델 훈련:\n",
    "   ```python\n",
    "   model.fit(\n",
    "       train_objectives=[(train_dataloader, loss)],\n",
    "       epochs=num_epochs,\n",
    "       warmup_steps=warmup_steps,\n",
    "       evaluator=evaluator,\n",
    "       output_path=\"anime_encoder\"\n",
    "   )\n",
    "   ```\n",
    "   - `model.fit()` 함수를 사용하여 모델 훈련을 수행합니다.\n",
    "   - `train_objectives` 매개변수는 훈련 목적을 설정합니다. 여기서는 `train_dataloader`와 `loss` 함수를 튜플로 전달하여 훈련 데이터와 손실 함수를 지정합니다.\n",
    "   - `epochs` 매개변수는 훈련할 에폭 수를 설정합니다. 앞서 `num_epochs`로 지정한 값이 사용됩니다.\n",
    "   - `warmup_steps` 매개변수는 학습률 워밍업을 위한 스텝 수를 설정합니다. 앞서 계산한 `warmup_steps` 값이 사용됩니다.\n",
    "   - `evaluator` 매개변수는 모델 평가를 위한 평가자를 설정합니다. 앞서 생성한 `evaluator`가 사용됩니다.\n",
    "   - `output_path` 매개변수는 훈련된 모델의 출력 경로를 지정합니다. 여기서는 \"anime_encoder\"라는 이름으로 모델이 저장됩니다.\n",
    "\n",
    "이 코드는 모델을 CPU로 이동시키고, `model.fit()` 함수를 사용하여 모델 훈련을 수행합니다.\n",
    "\n",
    "- 모델은 CPU에서 연산을 수행하도록 설정됩니다.\n",
    "- 훈련 데이터로더(`train_dataloader`)와 손실 함수(`loss`)를 사용하여 모델을 훈련합니다.\n",
    "- 지정된 에폭 수(`num_epochs`)만큼 훈련이 반복됩니다.\n",
    "- 학습률 워밍업을 위해 `warmup_steps`가 사용됩니다.\n",
    "- 훈련 중에 `evaluator`를 사용하여 모델의 성능을 평가합니다.\n",
    "- 훈련이 완료되면 모델이 \"anime_encoder\"라는 경로에 저장됩니다.\n",
    "\n",
    "이렇게 훈련된 모델은 애니메이션 관련 태스크에 사용될 수 있습니다. 저장된 모델 파일을 로드하여 추론 또는 평가에 활용할 수 있습니다."
   ]
  },
  {
   "cell_type": "code",
   "execution_count": 52,
   "id": "4313c53b-67ee-4ff5-9c8d-7c4d4edb8e31",
   "metadata": {},
   "outputs": [
    {
     "data": {
      "application/vnd.jupyter.widget-view+json": {
       "model_id": "ad9e6403e0f2426fb1d2a29defc4e3d9",
       "version_major": 2,
       "version_minor": 0
      },
      "text/plain": [
       "Epoch:   0%|          | 0/5 [00:00<?, ?it/s]"
      ]
     },
     "metadata": {},
     "output_type": "display_data"
    },
    {
     "data": {
      "application/vnd.jupyter.widget-view+json": {
       "model_id": "74ea6b91ce6c422db6136ffc2f1c9298",
       "version_major": 2,
       "version_minor": 0
      },
      "text/plain": [
       "Iteration:   0%|          | 0/157 [00:00<?, ?it/s]"
      ]
     },
     "metadata": {},
     "output_type": "display_data"
    },
    {
     "data": {
      "application/vnd.jupyter.widget-view+json": {
       "model_id": "6f03183ef5774aa88ada76952a1d7137",
       "version_major": 2,
       "version_minor": 0
      },
      "text/plain": [
       "Iteration:   0%|          | 0/157 [00:00<?, ?it/s]"
      ]
     },
     "metadata": {},
     "output_type": "display_data"
    },
    {
     "data": {
      "application/vnd.jupyter.widget-view+json": {
       "model_id": "7dad93cc051543759ac82fa8bc510d58",
       "version_major": 2,
       "version_minor": 0
      },
      "text/plain": [
       "Iteration:   0%|          | 0/157 [00:00<?, ?it/s]"
      ]
     },
     "metadata": {},
     "output_type": "display_data"
    },
    {
     "data": {
      "application/vnd.jupyter.widget-view+json": {
       "model_id": "dbaf48e5797c4e94a973785ea1b0af54",
       "version_major": 2,
       "version_minor": 0
      },
      "text/plain": [
       "Iteration:   0%|          | 0/157 [00:00<?, ?it/s]"
      ]
     },
     "metadata": {},
     "output_type": "display_data"
    },
    {
     "data": {
      "application/vnd.jupyter.widget-view+json": {
       "model_id": "7b42e6626d1d43fead6fcba4e2e42d68",
       "version_major": 2,
       "version_minor": 0
      },
      "text/plain": [
       "Iteration:   0%|          | 0/157 [00:00<?, ?it/s]"
      ]
     },
     "metadata": {},
     "output_type": "display_data"
    }
   ],
   "source": [
    "# 모델을 CPU로 이동\n",
    "model = model.to('cpu')\n",
    "\n",
    "# 트레이닝\n",
    "model.fit(\n",
    "    train_objectives=[(train_dataloader, loss)],\n",
    "    epochs=num_epochs,\n",
    "    warmup_steps=warmup_steps,\n",
    "    evaluator=evaluator,\n",
    "    output_path=\"anime_encoder\",\n",
    ")"
   ]
  },
  {
   "cell_type": "markdown",
   "id": "8d5d4f75-752e-4e40-b6ac-19c5d78ea434",
   "metadata": {},
   "source": [
    "## 3.5 모델 성능 측정 및 저장"
   ]
  },
  {
   "cell_type": "code",
   "execution_count": 53,
   "id": "7338061f",
   "metadata": {},
   "outputs": [
    {
     "data": {
      "text/plain": [
       "0.6754578074496205"
      ]
     },
     "execution_count": 53,
     "metadata": {},
     "output_type": "execute_result"
    }
   ],
   "source": [
    "model.evaluate(evaluator)"
   ]
  },
  {
   "cell_type": "code",
   "execution_count": 54,
   "id": "902e9e94",
   "metadata": {},
   "outputs": [],
   "source": [
    "model.save(\"anime_encoder\")"
   ]
  },
  {
   "cell_type": "markdown",
   "id": "6e0f2211-2e0d-403d-9f03-88d0c5ea0f5d",
   "metadata": {},
   "source": [
    "# 4. all-mpnet-base-v2 튜닝"
   ]
  },
  {
   "cell_type": "markdown",
   "id": "41bf87b8-84a4-4854-a41d-be08d6f6cbe4",
   "metadata": {},
   "source": [
    "## 4.1 모델 초기화"
   ]
  },
  {
   "cell_type": "code",
   "execution_count": 55,
   "id": "6a04d767",
   "metadata": {},
   "outputs": [],
   "source": [
    "import torch\n",
    "torch.cuda.empty_cache()"
   ]
  },
  {
   "cell_type": "code",
   "execution_count": 56,
   "id": "d4ce640b",
   "metadata": {
    "scrolled": true
   },
   "outputs": [
    {
     "data": {
      "text/plain": [
       "SentenceTransformer(\n",
       "  (0): Transformer({'max_seq_length': 384, 'do_lower_case': False}) with Transformer model: MPNetModel \n",
       "  (1): Pooling({'word_embedding_dimension': 768, 'pooling_mode_cls_token': False, 'pooling_mode_mean_tokens': True, 'pooling_mode_max_tokens': False, 'pooling_mode_mean_sqrt_len_tokens': False, 'pooling_mode_weightedmean_tokens': False, 'pooling_mode_lasttoken': False, 'include_prompt': True})\n",
       "  (2): Normalize()\n",
       ")"
      ]
     },
     "execution_count": 56,
     "metadata": {},
     "output_type": "execute_result"
    }
   ],
   "source": [
    "from sentence_transformers import SentenceTransformer, evaluation, losses\n",
    "\n",
    "# 사전 학습된 SBERT 모델 로드\n",
    "model = SentenceTransformer('all-mpnet-base-v2')\n",
    "model"
   ]
  },
  {
   "cell_type": "markdown",
   "id": "ac4a3b8d-c432-450c-afc0-a4bcfcb964ef",
   "metadata": {},
   "source": [
    "## 4.2 학습 데이터 생성"
   ]
  },
  {
   "cell_type": "code",
   "execution_count": 57,
   "id": "bba6f93f",
   "metadata": {},
   "outputs": [],
   "source": [
    "# 양수 및 음수 쌍 결합\n",
    "all_train_examples = train_positive_pairs + train_negative_pairs\n",
    "\n",
    "# 예제를 위한 데이터로더 생성하기\n",
    "train_dataloader = DataLoader(\n",
    "    all_train_examples,\n",
    "    batch_size=16,\n",
    "    shuffle=True\n",
    ")\n",
    "\n",
    "# 손실 함수 정의\n",
    "loss = losses.CosineSimilarityLoss(model=model)"
   ]
  },
  {
   "cell_type": "markdown",
   "id": "1d46d54d-d1bf-409c-9e70-aa8028e4cdea",
   "metadata": {},
   "source": [
    "## 4.3 튜닝 전 모델 성능 측정"
   ]
  },
  {
   "cell_type": "code",
   "execution_count": 58,
   "id": "cb557fbd",
   "metadata": {},
   "outputs": [
    {
     "data": {
      "text/plain": [
       "0.04310984289938541"
      ]
     },
     "execution_count": 58,
     "metadata": {},
     "output_type": "execute_result"
    }
   ],
   "source": [
    "model.evaluate(evaluator)"
   ]
  },
  {
   "cell_type": "markdown",
   "id": "080d59c0-27bf-421e-bf56-99840d699c9a",
   "metadata": {},
   "source": [
    "## 4.4 모델 학습"
   ]
  },
  {
   "cell_type": "code",
   "execution_count": 59,
   "id": "fd76411d",
   "metadata": {
    "scrolled": true
   },
   "outputs": [],
   "source": [
    "# 모델 학습\n",
    "num_epochs = 5\n",
    "warmup_steps = int(len(train_dataloader) * num_epochs * 0.1)  # 10% of training data for warm-up"
   ]
  },
  {
   "cell_type": "code",
   "execution_count": null,
   "id": "7b67896e-dcb6-4da6-b8bd-e8fa19ee2fe3",
   "metadata": {},
   "outputs": [
    {
     "data": {
      "application/vnd.jupyter.widget-view+json": {
       "model_id": "36b16cc9e40f45bf85a4b75d87d5babf",
       "version_major": 2,
       "version_minor": 0
      },
      "text/plain": [
       "Epoch:   0%|          | 0/5 [00:00<?, ?it/s]"
      ]
     },
     "metadata": {},
     "output_type": "display_data"
    },
    {
     "data": {
      "application/vnd.jupyter.widget-view+json": {
       "model_id": "e3f1377aa6a748c6aeac73bc84975f1f",
       "version_major": 2,
       "version_minor": 0
      },
      "text/plain": [
       "Iteration:   0%|          | 0/157 [00:00<?, ?it/s]"
      ]
     },
     "metadata": {},
     "output_type": "display_data"
    },
    {
     "data": {
      "application/vnd.jupyter.widget-view+json": {
       "model_id": "042b6e7f64d743538ddc0b5ad46642f4",
       "version_major": 2,
       "version_minor": 0
      },
      "text/plain": [
       "Iteration:   0%|          | 0/157 [00:00<?, ?it/s]"
      ]
     },
     "metadata": {},
     "output_type": "display_data"
    }
   ],
   "source": [
    "# 모델을 CPU로 이동\n",
    "model = model.to('cpu')\n",
    "\n",
    "# 트레이닝 설정\n",
    "model.fit(\n",
    "    train_objectives=[(train_dataloader, loss)],\n",
    "    epochs=num_epochs,\n",
    "    warmup_steps=warmup_steps,\n",
    "    evaluator=evaluator,\n",
    "    output_path=\"anime_encoder_bigger\"\n",
    ")"
   ]
  },
  {
   "cell_type": "markdown",
   "id": "5521cfe9-6700-45f1-a6f5-f8dba3979d14",
   "metadata": {},
   "source": [
    "## 4.5 모델 성능 측정 및 저장"
   ]
  },
  {
   "cell_type": "code",
   "execution_count": null,
   "id": "560d893c-2031-44de-88e6-137d5e974225",
   "metadata": {},
   "outputs": [],
   "source": [
    "model.evaluate(evaluator)"
   ]
  },
  {
   "cell_type": "code",
   "execution_count": null,
   "id": "acc89d2d",
   "metadata": {},
   "outputs": [],
   "source": [
    "model.save('anime_encoder_bigger')"
   ]
  },
  {
   "cell_type": "markdown",
   "id": "984ac332-f4db-480c-9ad0-712c3b2d6add",
   "metadata": {},
   "source": [
    "Q: paraphrase-distilroberta-base-v1 모델과 all-mpnet-base-v2 은 어떤 차이가 있나요?\n",
    "\n",
    "A: paraphrase-distilroberta-base-v1 모델과 all-mpnet-base-v2 모델은 모두 자연어 처리를 위한 사전 훈련된 언어 모델이지만, 아키텍처와 훈련 방식에 차이가 있습니다.\n",
    "\n",
    "1. 아키텍처:\n",
    "- paraphrase-distilroberta-base-v1: 이 모델은 RoBERTa (Robustly Optimized BERT Pretraining Approach) 아키텍처를 기반으로 합니다. RoBERTa는 BERT의 변형으로, 더 큰 배치 크기, 더 긴 훈련 시간, 동적 마스킹 등의 기술을 사용하여 성능을 개선하였습니다. paraphrase-distilroberta-base-v1은 RoBERTa를 knowledge distillation을 통해 압축한 버전입니다.\n",
    "- all-mpnet-base-v2: 이 모델은 MPNet (Masked and Permuted Pre-training) 아키텍처를 기반으로 합니다. MPNet은 BERT와 XLNet의 장점을 결합한 모델로, 마스킹과 순열 언어 모델링을 모두 사용하여 사전 훈련됩니다.\n",
    "\n",
    "2. 훈련 방식:\n",
    "- paraphrase-distilroberta-base-v1: 이 모델은 RoBERTa를 paraphrase detection 태스크에 대해 fine-tuning한 후, knowledge distillation을 통해 압축하였습니다. 이를 통해 모델 크기를 줄이면서도 높은 성능을 유지할 수 있습니다.\n",
    "- all-mpnet-base-v2: 이 모델은 다양한 태스크에 대해 fine-tuning되지 않았습니다. 대신, 대규모 코퍼스에 대한 사전 훈련에 초점을 맞추어 일반적인 언어 이해 능력을 획득하였습니다.\n",
    "\n",
    "3. 성능:\n",
    "- paraphrase-distilroberta-base-v1: Paraphrase detection 태스크에 특화되어 있어, 문장 간 유사성 판단에 높은 성능을 보입니다.\n",
    "- all-mpnet-base-v2: 다양한 자연어 처리 태스크에서 우수한 성능을 보이며, 특히 의미 검색과 관련된 태스크에서 좋은 결과를 보여줍니다.\n",
    "\n",
    "4. 모델 크기:\n",
    "- paraphrase-distilroberta-base-v1: Knowledge distillation을 통해 압축되어, 모델 크기가 상대적으로 작습니다.\n",
    "- all-mpnet-base-v2: 모델 크기가 paraphrase-distilroberta-base-v1에 비해 큽니다.\n",
    "\n",
    "두 모델은 각각의 장단점이 있으므로, 태스크의 특성과 리소스 제약 조건에 따라 적절한 모델을 선택해야 합니다. Paraphrase detection과 같은 특정 태스크에는 paraphrase-distilroberta-base-v1이 더 적합할 수 있으며, 보다 일반적인 언어 이해 능력이 필요한 경우에는 all-mpnet-base-v2가 더 나은 선택일 수 있습니다."
   ]
  },
  {
   "cell_type": "markdown",
   "id": "7ce121ee-55db-46f8-ab7a-15b05013f9f4",
   "metadata": {},
   "source": [
    "# 5. 임베딩 성능 비교"
   ]
  },
  {
   "cell_type": "markdown",
   "id": "1332f7bd-fd4d-4bc9-8f8c-3fc8e4864143",
   "metadata": {},
   "source": [
    "## 5.1 OpenAI 초기화"
   ]
  },
  {
   "cell_type": "code",
   "execution_count": null,
   "id": "d619bdf5",
   "metadata": {},
   "outputs": [],
   "source": [
    "from openai import OpenAI\n",
    "import os"
   ]
  },
  {
   "cell_type": "code",
   "execution_count": null,
   "id": "0365a71c-0e78-4a7b-83ff-c7cb49f94d2b",
   "metadata": {},
   "outputs": [],
   "source": [
    "openai_key=os.environ.get(\"OPENAI_API_KEY\")\n",
    "client = OpenAI(\n",
    "    api_key=openai_key\n",
    ")"
   ]
  },
  {
   "cell_type": "code",
   "execution_count": null,
   "id": "f166308a-04de-4b5d-af01-6f3542bbbd70",
   "metadata": {},
   "outputs": [],
   "source": [
    "# OpenAI API에서 임베딩 목록을 가져오는 헬퍼 함수\n",
    "def get_embeddings(texts, engine):\n",
    "    response = client.embeddings.create(\n",
    "        input=texts,\n",
    "        model=engine\n",
    "    )\n",
    "    \n",
    "    return [d.embedding for d in list(response.data)]\n",
    "\n",
    "def get_embedding(text, engine):\n",
    "    return get_embeddings([text], engine)[0]"
   ]
  },
  {
   "cell_type": "markdown",
   "id": "fbe85aa8-f5cb-4bbe-b8ff-8a00bfc13210",
   "metadata": {},
   "source": [
    "## 5.2 임베딩 모델 선정"
   ]
  },
  {
   "cell_type": "code",
   "execution_count": null,
   "id": "50c7afde-6561-48ae-a31e-35313a0ce882",
   "metadata": {},
   "outputs": [],
   "source": [
    "embeddings = {}"
   ]
  },
  {
   "cell_type": "code",
   "execution_count": null,
   "id": "de11cf7a",
   "metadata": {},
   "outputs": [],
   "source": [
    "embedders = ('text-embedding-ada-002', 'text-embedding-3-small', 'text-embedding-3-large', 'paraphrase-distilroberta-base-v1', 'all-mpnet-base-v2', 'anime_encoder', 'anime_encoder_bigger')"
   ]
  },
  {
   "cell_type": "markdown",
   "id": "e42a7e3c-90f9-4378-98bc-b6f9b230782f",
   "metadata": {},
   "source": [
    "## 5.3 임베딩 모델 별 임베딩 생성"
   ]
  },
  {
   "cell_type": "markdown",
   "id": "3ac5d6f6-9e7b-400d-94c2-ec0cea0bb4d6",
   "metadata": {},
   "source": [
    "아래 코드는 문서 임베딩을 생성하는 과정을 보여줍니다. 각 부분을 자세히 설명하겠습니다:\n",
    "\n",
    "1. `from sentence_transformers import SentenceTransformer`: Sentence-BERT 라이브러리에서 `SentenceTransformer` 모듈을 임포트합니다.\n",
    "\n",
    "2. `docs = pre_merged_anime['generated_description'].tolist()`: `pre_merged_anime` 데이터프레임의 `'generated_description'` 열의 값들을 리스트로 변환하여 `docs` 변수에 저장합니다.\n",
    "\n",
    "3. `for embedder in embedders:` 루프를 사용하여 `embedders` 리스트의 각 임베더에 대해 반복합니다.\n",
    "\n",
    "4. `if embedder in embeddings: continue`: 현재 임베더가 이미 `embeddings` 딕셔너리에 존재하는 경우, 다음 임베더로 건너뜁니다.\n",
    "\n",
    "5. `if 'text-embedding' in embedder:` 블록은 OpenAI의 Ada 모델을 사용하여 임베딩을 생성하는 경우를 처리합니다.\n",
    "   - `ada_embeddings = None`: `ada_embeddings` 변수를 초기화합니다.\n",
    "   - `for s in tqdm(range(0, len(docs), 100)):` 루프를 사용하여 `docs` 리스트를 100개씩 분할하여 처리합니다.\n",
    "     - `if ada_embeddings is None:` 블록은 `ada_embeddings`가 초기화되지 않은 경우를 처리합니다.\n",
    "       - `ada_embeddings = np.array(get_embeddings(docs[s:s+100], engine=embedder))`: `get_embeddings` 함수를 사용하여 현재 분할된 문서에 대한 임베딩을 생성하고, NumPy 배열로 변환하여 `ada_embeddings`에 할당합니다.\n",
    "     - `else:` 블록은 이전에 생성된 임베딩이 있는 경우를 처리합니다.\n",
    "       - `ada_embeddings = np.vstack([ada_embeddings, np.array(get_embeddings(docs[s:s+100], engine=embedder))])`: 현재 분할된 문서에 대한 임베딩을 생성하고, 이전 임베딩과 수직으로 결합하여 `ada_embeddings`를 업데이트합니다.\n",
    "   - `embeddings[embedder] = ada_embeddings`: 생성된 임베딩을 `embeddings` 딕셔너리에 저장합니다.\n",
    "\n",
    "6. `else:` 블록은 Sentence-BERT 모델을 사용하여 임베딩을 생성하는 경우를 처리합니다.\n",
    "   - `e = SentenceTransformer(embedder, device='cpu')`: 지정된 임베더를 사용하여 `SentenceTransformer` 모델을 로드하고, CPU 디바이스를 사용하도록 설정합니다.\n",
    "   - `embeddings[embedder] = e.encode(docs, batch_size=128, show_progress_bar=True)`: 로드된 모델을 사용하여 `docs` 리스트의 문서들을 인코딩하고, 생성된 임베딩을 `embeddings` 딕셔너리에 저장합니다. 배치 크기는 128로 설정되며, 진행 상황 막대가 표시됩니다.\n",
    "\n",
    "이 코드는 `embedders` 리스트에 지정된 임베더들을 사용하여 문서 임베딩을 생성하고, 생성된 임베딩을 `embeddings` 딕셔너리에 저장합니다. OpenAI의 Ada 모델을 사용하는 경우, 문서를 100개씩 분할하여 처리하고 임베딩을 생성합니다. Sentence-BERT 모델을 사용하는 경우, 모델을 로드하고 CPU 디바이스를 사용하여 문서 전체에 대한 임베딩을 한 번에 생성합니다."
   ]
  },
  {
   "cell_type": "code",
   "execution_count": null,
   "id": "56b52afb",
   "metadata": {
    "scrolled": true
   },
   "outputs": [],
   "source": [
    "from tqdm.auto import tqdm\n",
    "\n",
    "'''\n",
    "사용자 아이디가 주어지면\n",
    "\n",
    "가 주어지면 사용자가 9 또는 10을 준 각 애니메이션에 대한 사용자 ID를 반환합니다:\n",
    "    다른 관련 애니메이션 k개 가져오기(임베더가 주어진 시맨틱 검색)\n",
    "    를 가져옵니다:\n",
    "        애니메이션이 해당 사용자에 대한 훈련 세트에서 평점을 받았다면 무시합니다.\n",
    "        해당 애니메이션이 해당 사용자에 대한 테스트 세트에 없으면 무시합니다.\n",
    "        를 무시합니다:\n",
    "            해당 사용자에 대한 테스트에서 평점 확인\n",
    "            케이스 등급:\n",
    "                9,10 -> 프로모터 (+ 2점)\n",
    "                7,8 -> 패시브 ( + 1점 )\n",
    "                1-6 -> 디트랙터 ( - 1 점 )\n",
    "                세트에 없음 (0점)\n",
    "                \n",
    "Given a user id\n",
    "\n",
    "for each anime that the user gave a 9 or a 10 for:\n",
    "    get k other relevant animes (semantic search given an embedder)\n",
    "    for each relevant anime:\n",
    "        if the anime was rating in the training set for that user, ignore\n",
    "        elif the anime is not present in the testing set for that user, ignore\n",
    "        else:\n",
    "            check rating in testing for that user\n",
    "            case rating:\n",
    "                9,10 -> Promoter  ( + 2 points)\n",
    "                7,8  -> Passive   ( + 1 point )\n",
    "                1-6  -> Detractor ( - 1 point )\n",
    "                Not in the set    (   0 points)\n",
    "\n",
    "'''\n",
    "\n",
    "from sentence_transformers import SentenceTransformer\n",
    "\n",
    "docs = pre_merged_anime['generated_description'].tolist()\n",
    "for embedder in embedders:\n",
    "    if embedder in embeddings:\n",
    "        continue\n",
    "    if 'text-embedding' in embedder:\n",
    "        ada_embeddings = None\n",
    "        for s in tqdm(range(0, len(docs), 100)):\n",
    "            if ada_embeddings is None:\n",
    "                ada_embeddings = np.array(get_embeddings(docs[s:s+100], engine=embedder))\n",
    "            else:\n",
    "                ada_embeddings = np.vstack([ada_embeddings, np.array(get_embeddings(docs[s:s+100], engine=embedder))])\n",
    "    \n",
    "        embeddings[embedder] = ada_embeddings\n",
    "    else:\n",
    "        # e = SentenceTransformer(embedder)\n",
    "        e = SentenceTransformer(embedder, device='cpu')\n",
    "        embeddings[embedder] = e.encode(docs, batch_size=128, show_progress_bar=True)\n"
   ]
  },
  {
   "cell_type": "markdown",
   "id": "0b0a8ae3-2e35-4e00-a174-71b2b1bea970",
   "metadata": {},
   "source": [
    "## 5.4 코사인 유사도 생성"
   ]
  },
  {
   "cell_type": "markdown",
   "id": "4a1f4c8c-af19-4454-a82b-0eedf535f45a",
   "metadata": {},
   "source": [
    "아래 코드는 임베딩 벡터들 간의 코사인 유사도를 계산하여 유사도 행렬을 생성하는 과정입니다. 각 부분을 자세히 설명하겠습니다:\n",
    "\n",
    "1. `import pandas as pd`: Pandas 라이브러리를 불러옵니다. Pandas는 데이터 조작 및 분석을 위한 파이썬 라이브러리입니다.\n",
    "\n",
    "2. `import numpy as np`: NumPy 라이브러리를 불러옵니다. NumPy는 대규모 다차원 배열과 행렬 연산에 필요한 다양한 함수를 제공하는 파이썬 라이브러리입니다.\n",
    "\n",
    "3. `from sklearn.metrics.pairwise import cosine_similarity`: Scikit-learn 라이브러리의 `metrics.pairwise` 모듈에서 `cosine_similarity` 함수를 불러옵니다. 이 함수는 벡터들 간의 코사인 유사도를 계산하는 데 사용됩니다.\n",
    "\n",
    "4. `cosine_sim_matrices = {embedder: cosine_similarity(embeddings[embedder]) for embedder in embedders}`: 딕셔너리 컴프리헨션을 사용하여 각 임베더(embedder)에 대한 코사인 유사도 행렬을 계산하고, 그 결과를 `cosine_sim_matrices` 딕셔너리에 저장합니다.\n",
    "   - `embedder`는 `embedders` 리스트의 각 원소를 나타냅니다.\n",
    "   - `embeddings[embedder]`는 해당 임베더를 사용하여 생성된 임베딩 벡터들을 가져옵니다.\n",
    "   - `cosine_similarity(embeddings[embedder])`는 `embeddings[embedder]`의 벡터들 간의 코사인 유사도를 계산합니다. 이 함수는 벡터들 간의 유사도를 나타내는 행렬을 반환합니다.\n",
    "   - 계산된 코사인 유사도 행렬은 `cosine_sim_matrices` 딕셔너리에 `embedder`를 키로 하여 저장됩니다.\n",
    "\n",
    "이 코드는 `embeddings` 딕셔너리에 저장된 각 임베더의 임베딩 벡터들을 사용하여 코사인 유사도 행렬을 계산합니다. 코사인 유사도는 벡터 간의 각도를 기반으로 유사도를 측정하는 방법으로, 값이 1에 가까울수록 벡터들이 유사하다는 것을 의미합니다.\n",
    "\n",
    "계산된 코사인 유사도 행렬은 `cosine_sim_matrices` 딕셔너리에 저장되며, 각 임베더에 대한 유사도 행렬을 개별적으로 접근할 수 있습니다. 예를 들어, `cosine_sim_matrices['text-embedding-ada-002']`는 `'text-embedding-ada-002'` 임베더를 사용하여 생성된 임베딩 벡터들 간의 코사인 유사도 행렬을 나타냅니다.\n",
    "\n",
    "이렇게 계산된 유사도 행렬은 추천 시스템, 문서 클러스터링, 유사 항목 검색 등 다양한 애플리케이션에서 활용될 수 있습니다."
   ]
  },
  {
   "cell_type": "code",
   "execution_count": null,
   "id": "9e460e63",
   "metadata": {},
   "outputs": [],
   "source": [
    "import pandas as pd\n",
    "import numpy as np\n",
    "from sklearn.metrics.pairwise import cosine_similarity\n",
    "cosine_sim_matrices = {embedder: cosine_similarity(embeddings[embedder]) for embedder in embedders}"
   ]
  },
  {
   "cell_type": "code",
   "execution_count": null,
   "id": "2c407c90-f9b8-4e6f-a459-c9a48deb57a2",
   "metadata": {},
   "outputs": [],
   "source": [
    "embeddings[\"text-embedding-ada-002\"].shape"
   ]
  },
  {
   "cell_type": "code",
   "execution_count": null,
   "id": "14846ad7-409a-48a5-b469-dd9eaf2a7ebe",
   "metadata": {},
   "outputs": [],
   "source": [
    "cosine_sim_matrices[\"text-embedding-ada-002\"].shape"
   ]
  },
  {
   "cell_type": "code",
   "execution_count": null,
   "id": "835c6881-086b-45bb-a1e3-975fc6f53444",
   "metadata": {},
   "outputs": [],
   "source": [
    "embeddings[\"text-embedding-ada-002\"][0]"
   ]
  },
  {
   "cell_type": "code",
   "execution_count": null,
   "id": "e66916eb-9cc9-4ad1-aac5-e3342d1b4765",
   "metadata": {},
   "outputs": [],
   "source": [
    "cosine_sim_matrices[\"text-embedding-ada-002\"][0]"
   ]
  },
  {
   "cell_type": "code",
   "execution_count": null,
   "id": "777e894b-efe9-4c60-a47d-2a0cfde2304d",
   "metadata": {},
   "outputs": [],
   "source": [
    "cosine_sim_matrices[\"text-embedding-ada-002\"][1]"
   ]
  },
  {
   "cell_type": "markdown",
   "id": "f3d01aa2-351c-443e-998c-6925f19c574b",
   "metadata": {},
   "source": [
    "## 5.5 유사한 애니메이션 조회"
   ]
  },
  {
   "cell_type": "markdown",
   "id": "32c24e58-f3f1-4059-acd3-a85e48f14fc3",
   "metadata": {},
   "source": [
    "아래 코드는 주어진 애니메이션과 유사한 애니메이션을 찾는 함수 `get_similar_animes`를 정의하고 있습니다. 함수의 동작을 단계별로 설명하겠습니다:\n",
    "\n",
    "1. `@functools.lru_cache(maxsize=None)`: 함수의 반환 값을 캐시하는 데코레이터입니다. 동일한 입력에 대해 함수를 반복적으로 호출할 때, 이전에 계산된 결과를 재사용하여 성능을 향상시킵니다. `maxsize=None`은 캐시 크기에 제한이 없음을 의미합니다.\n",
    "\n",
    "2. 함수의 입력 매개변수:\n",
    "   - `anime_id`: 유사한 애니메이션을 찾고자 하는 애니메이션의 MAL_ID입니다.\n",
    "   - `embedder`: 사용할 임베더의 이름을 나타내는 문자열입니다.\n",
    "   - `k`: 반환할 유사한 애니메이션의 개수를 지정하는 정수이며, 기본값은 10입니다.\n",
    "   - `verbose`: 디버깅 정보를 출력할지 여부를 결정하는 부울 값이며, 기본값은 False입니다.\n",
    "\n",
    "3. `pre_merged_anime` 데이터 프레임에서 주어진 `anime_id`에 해당하는 애니메이션의 인덱스를 가져옵니다. 해당 애니메이션이 존재하지 않는 경우 빈 리스트를 반환합니다.\n",
    "\n",
    "4. `verbose`가 True인 경우, 디버깅 정보로 애니메이션의 인덱스를 출력합니다.\n",
    "\n",
    "5. `cosine_sim_matrices` 딕셔너리에서 지정된 `embedder`에 해당하는 코사인 유사도 행렬을 가져옵니다.\n",
    "\n",
    "6. 주어진 `anime_id`에 해당하는 애니메이션과 다른 모든 애니메이션 간의 코사인 유사도 점수를 가져와 `sim_scores` 리스트에 저장합니다.\n",
    "\n",
    "7. `sim_scores` 리스트를 유사도 점수를 기준으로 내림차순 정렬합니다.\n",
    "\n",
    "8. 정렬된 `sim_scores` 리스트에서 가장 유사한 애니메이션 `k`개의 인덱스와 점수를 `k_indices_scores` 리스트에 저장합니다. 이때 자기 자신은 제외합니다.\n",
    "\n",
    "9. `k_indices_scores` 리스트에서 인덱스와 점수를 분리하여 `k_indices`와 `k_scores` 리스트에 저장합니다.\n",
    "\n",
    "10. `pre_merged_anime` 데이터 프레임에서 `k_indices`에 해당하는 애니메이션의 MAL_ID를 가져와 `k_anime_ids` 리스트에 저장합니다.\n",
    "\n",
    "11. `k_anime_ids`와 `k_scores`를 zip하여 (MAL_ID, 유사도 점수) 튜플의 리스트 형태로 반환합니다.\n",
    "\n",
    "이 함수는 주어진 애니메이션과 유사한 애니메이션을 찾아 그 결과를 반환합니다. 유사도는 임베딩 벡터 간의 코사인 유사도를 기준으로 계산되며, 지정된 `embedder`에 따라 다른 임베딩 벡터가 사용됩니다. 반환되는 결과는 (MAL_ID, 유사도 점수) 튜플의 리스트 형태로, 유사도 점수가 높은 순서로 정렬되어 있습니다."
   ]
  },
  {
   "cell_type": "code",
   "execution_count": null,
   "id": "4fb9110b",
   "metadata": {},
   "outputs": [],
   "source": [
    "import functools\n",
    "from typing import List, Tuple\n",
    "\n",
    "@functools.lru_cache(maxsize=None)\n",
    "def get_similar_animes(anime_id: int, embedder: str, k: int = 10, verbose: bool = False) -> List[Tuple[int, float]]:\n",
    "    # pre_merged_anime 데이터 프레임에서 애니메이션의 인덱스를 가져옵니다.\n",
    "    try:\n",
    "        idx = pre_merged_anime[pre_merged_anime['MAL_ID'] == anime_id].index[0]\n",
    "    except:\n",
    "        return []\n",
    "    if verbose:\n",
    "        print(f'idx: {idx}')\n",
    "    cosine_sim_matrix = cosine_sim_matrices[embedder]\n",
    "\n",
    "    # 주어진 anime_id에 대한 코사인 유사도 점수를 가져옵니다.\n",
    "    sim_scores = list(enumerate(cosine_sim_matrix[idx]))\n",
    "\n",
    "    # 유사도 점수에 따라 애니메이션을 정렬합니다.\n",
    "    sim_scores = sorted(sim_scores, key=lambda x: x[1], reverse=True)\n",
    "\n",
    "    # 가장 유사한 애니메이션의 인덱스와 점수를 가져옵니다.\n",
    "    k_indices_scores = sim_scores[1:k+1]\n",
    "\n",
    "    # 인덱스와 점수 분리\n",
    "    k_indices = [i[0] for i in k_indices_scores]\n",
    "    k_scores = [round(i[1], 3) for i in k_indices_scores]\n",
    "\n",
    "    # 가장 유사한 애니메이션 k개의 MAL_ID를 가져옵니다.\n",
    "    k_anime_ids = pre_merged_anime['MAL_ID'].iloc[k_indices].tolist()\n",
    "\n",
    "    # MAL_ID와 해당 유사도 점수를 반환합니다.\n",
    "    return list(zip(k_anime_ids, k_scores))"
   ]
  },
  {
   "cell_type": "code",
   "execution_count": null,
   "id": "becc50a5-8743-45a3-b191-51cc6ce1e660",
   "metadata": {
    "scrolled": true
   },
   "outputs": [],
   "source": [
    "pre_merged_anime"
   ]
  },
  {
   "cell_type": "code",
   "execution_count": null,
   "id": "111b6cd3-5dcb-47df-9149-2babf779fd27",
   "metadata": {},
   "outputs": [],
   "source": [
    "cosine_sim_matrices[\"text-embedding-ada-002\"][0]"
   ]
  },
  {
   "cell_type": "code",
   "execution_count": null,
   "id": "192eba2b-967a-4d5a-a2d8-3f832786e389",
   "metadata": {},
   "outputs": [],
   "source": [
    "enumerate(cosine_sim_matrices[\"text-embedding-ada-002\"][0])"
   ]
  },
  {
   "cell_type": "code",
   "execution_count": null,
   "id": "34b5a9cf-d388-4d15-abfc-e014bb1b8755",
   "metadata": {
    "scrolled": true
   },
   "outputs": [],
   "source": [
    "list(enumerate(cosine_sim_matrices[\"text-embedding-ada-002\"][0]))"
   ]
  },
  {
   "cell_type": "code",
   "execution_count": null,
   "id": "3530bd5e-fb48-41fb-b4ed-20216318d19c",
   "metadata": {
    "scrolled": true
   },
   "outputs": [],
   "source": [
    "sorted(list(enumerate(cosine_sim_matrices[\"text-embedding-ada-002\"][0])), key=lambda x: x[1], reverse=True)"
   ]
  },
  {
   "cell_type": "code",
   "execution_count": null,
   "id": "78849ef0-34dd-4846-8ae2-94e6dfa6967c",
   "metadata": {
    "scrolled": true
   },
   "outputs": [],
   "source": [
    "pre_merged_anime['Name'].iloc[[i[0] for i in sorted(list(enumerate(cosine_sim_matrices[\"text-embedding-ada-002\"][0])), key=lambda x: x[1], reverse=True)]].tolist()"
   ]
  },
  {
   "cell_type": "code",
   "execution_count": null,
   "id": "415df35f-f971-4728-ae5e-3f87de360440",
   "metadata": {},
   "outputs": [],
   "source": [
    "rating_complete_train"
   ]
  },
  {
   "cell_type": "markdown",
   "id": "44b639bb-245d-4b3c-a11a-d4dd5a78dda9",
   "metadata": {},
   "source": [
    "## 5.6 사용자 평가에 의한 애니메이션 추천"
   ]
  },
  {
   "cell_type": "markdown",
   "id": "6723b90b-0a14-4096-8e61-3ce331b618df",
   "metadata": {},
   "source": [
    "이 함수는 주어진 사용자 ID를 기반으로 사용자가 높은 평점(9점 이상)을 부여한 애니메이션의 리스트를 반환합니다.\n",
    "\n",
    "함수의 동작을 자세히 설명하겠습니다:\n",
    "\n",
    "1. `rating_complete_train` 데이터프레임에서 다음 조건을 만족하는 행을 선택합니다:\n",
    "   - `rating_complete_train['user_id'] == user_id`: 데이터프레임의 'user_id' 열이 주어진 `user_id`와 일치하는 행을 선택합니다.\n",
    "   - `rating_complete_train['rating'] >= 9`: 데이터프레임의 'rating' 열이 9 이상인 행을 선택합니다.\n",
    "   \n",
    "   이 두 조건을 `&` 연산자로 결합하여 두 조건을 모두 만족하는 행만 선택합니다.\n",
    "\n",
    "2. 선택된 행들 중에서 `['anime_id']` 열만 추출합니다. 이렇게 하면 해당 사용자가 높은 평점을 부여한 애니메이션의 ID 값들만 선택됩니다.\n",
    "\n",
    "3. `.tolist()` 메서드를 사용하여 선택된 애니메이션 ID 값들을 리스트 형태로 변환합니다.\n",
    "\n",
    "4. 변환된 리스트를 함수의 반환값으로 반환합니다.\n",
    "\n",
    "따라서 `get_promoted_animes_from_user` 함수는 주어진 `user_id`에 해당하는 사용자가 9점 이상의 높은 평점을 부여한 애니메이션의 ID 리스트를 반환합니다. 이 함수는 사용자가 선호하는 애니메이션을 추출하는 데 사용될 수 있습니다.\n",
    "\n",
    "예를 들어, `get_promoted_animes_from_user(1234)`를 호출하면 사용자 ID가 1234인 사용자가 9점 이상으로 평가한 모든 애니메이션의 ID 리스트를 반환합니다."
   ]
  },
  {
   "cell_type": "code",
   "execution_count": null,
   "id": "ceb734ef",
   "metadata": {},
   "outputs": [],
   "source": [
    "def get_promoted_animes_from_user(user_id):\n",
    "    return rating_complete_train[(rating_complete_train['user_id'] == user_id) & (rating_complete_train['rating'] >= 9)]['anime_id'].tolist()"
   ]
  },
  {
   "cell_type": "markdown",
   "id": "91c4eb9e-5639-4fcf-b364-2cb6abf199cf",
   "metadata": {},
   "source": [
    "## 5.7 유사한 애니메이션 추천"
   ]
  },
  {
   "cell_type": "markdown",
   "id": "367deb1e-e8f5-4a34-bb88-fdca57b79d4c",
   "metadata": {},
   "source": [
    "위의 코드는 `get_relevant_animes` 함수를 정의하고 있습니다. 이 함수는 주어진 애니메이션과 유사한 애니메이션을 추천하는 역할을 합니다.\n",
    "\n",
    "함수의 동작을 단계별로 설명하겠습니다:\n",
    "\n",
    "1. 함수의 입력 매개변수:\n",
    "   - `reference_promoted_anime_id`: 추천을 위한 기준이 되는 애니메이션의 ID입니다.\n",
    "   - `embedder`: 사용할 임베더의 이름을 나타내는 문자열입니다.\n",
    "   - `k`: 추천할 애니메이션의 개수를 지정하는 정수이며, 기본값은 5입니다.\n",
    "   - `verbose`: 디버깅 정보를 출력할지 여부를 결정하는 부울 값이며, 기본값은 True입니다.\n",
    "\n",
    "2. `preds` 리스트를 초기화합니다. 이 리스트에는 추천된 애니메이션의 ID와 코사인 유사도 점수가 저장됩니다.\n",
    "\n",
    "3. `get_similar_animes` 함수를 호출하여 `reference_promoted_anime_id`와 유사한 애니메이션을 `k`개 가져옵니다. 이 함수는 지정된 `embedder`를 사용하여 유사도를 계산합니다.\n",
    "\n",
    "4. 반환된 유사한 애니메이션을 `similar_animes` 리스트에 저장합니다. 각 항목은 (애니메이션 ID, 코사인 유사도 점수) 튜플 형태입니다.\n",
    "\n",
    "5. `similar_animes` 리스트를 반복하면서 각 항목에 대해 다음 작업을 수행합니다:\n",
    "   - 코사인 유사도 점수가 1 이상인 경우(즉, 자기 자신과 동일한 애니메이션인 경우) 해당 항목을 건너뜁니다.\n",
    "   - `verbose`가 True인 경우, 디버깅 정보로 추천된 애니메이션의 ID와 코사인 유사도 점수를 출력합니다.\n",
    "   - `user_rating` 변수를 사용하여 사용자가 해당 애니메이션에 부여한 평점을 출력합니다. 그러나 이 부분은 코드에서 `user_rating`이 정의되지 않았기 때문에 오류가 발생할 것입니다.\n",
    "   - 추천된 애니메이션의 ID와 코사인 유사도 점수를 `preds` 리스트에 추가합니다.\n",
    "\n",
    "6. 추천된 애니메이션의 ID와 코사인 유사도 점수가 저장된 `preds` 리스트를 반환합니다.\n",
    "\n",
    "이 함수는 주어진 애니메이션과 유사한 애니메이션을 추천하는 역할을 합니다. 유사도는 `get_similar_animes` 함수를 사용하여 계산되며, 지정된 `embedder`에 따라 다른 임베딩 벡터가 사용됩니다. 반환되는 결과는 (애니메이션 ID, 코사인 유사도 점수) 튜플의 리스트 형태로, 유사도 점수가 높은 순서로 정렬되어 있습니다."
   ]
  },
  {
   "cell_type": "code",
   "execution_count": null,
   "id": "49110f5f",
   "metadata": {},
   "outputs": [],
   "source": [
    "def get_relevant_animes(reference_promoted_anime_id, embedder, k=5, verbose=True):\n",
    "    preds = []\n",
    "    similar_animes = get_similar_animes(reference_promoted_anime_id, embedder, k=k)\n",
    "\n",
    "    for similar_anime_id, cosine_score in similar_animes:\n",
    "        if cosine_score >= 1:\n",
    "            continue  # ignoring exact matches\n",
    "        if verbose:\n",
    "            print(f'Recommending (ID {similar_anime_id}) Cos_Sim {cosine_score:.3f}')\n",
    "        preds.append((similar_anime_id, cosine_score))\n",
    "    return preds"
   ]
  },
  {
   "cell_type": "code",
   "execution_count": null,
   "id": "62f9364d",
   "metadata": {},
   "outputs": [],
   "source": [
    "pre_merged_anime[pre_merged_anime['MAL_ID'].isin((1723, 4059))]"
   ]
  },
  {
   "cell_type": "code",
   "execution_count": null,
   "id": "d0e312e2",
   "metadata": {},
   "outputs": [],
   "source": [
    "anime_id = 4059\n",
    "k = 10\n",
    "for e in embedders:\n",
    "    similar_animes = get_similar_animes(anime_id, e, k=3, verbose=True)\n",
    "    print(e)\n",
    "    print(similar_animes)\n",
    "    print()"
   ]
  },
  {
   "cell_type": "code",
   "execution_count": null,
   "id": "e9a9f528",
   "metadata": {
    "scrolled": true
   },
   "outputs": [],
   "source": [
    "for e in embedders:\n",
    "    relevant_animes = get_relevant_animes(anime_id, e, k=3, verbose=False)\n",
    "    print(e)\n",
    "\n",
    "    # 첫 번째 인자만 추출하여 리스트로 만듦\n",
    "    mal_ids = [anime[0] for anime in relevant_animes]\n",
    "\n",
    "    # 추출한 MAL_ID를 이용하여 데이터 필터링\n",
    "    # filtered_anime = pre_merged_anime[pre_merged_anime['MAL_ID'].isin(mal_ids)]\n",
    "    filtered_anime = pre_merged_anime[pre_merged_anime['MAL_ID'].isin(mal_ids)][['MAL_ID', 'Name', 'Score']]\n",
    "    print(filtered_anime)\n",
    "    print()\n",
    "    \n",
    "    # print(relevant_animes)\n",
    "    # print()"
   ]
  },
  {
   "cell_type": "markdown",
   "id": "1c10ba9b-2931-44c7-a902-a2e226e75991",
   "metadata": {},
   "source": [
    "## 5.8 user_id 별 애니메이션 추천"
   ]
  },
  {
   "cell_type": "code",
   "execution_count": null,
   "id": "76340dea",
   "metadata": {},
   "outputs": [],
   "source": [
    "user_preds = {}"
   ]
  },
  {
   "cell_type": "markdown",
   "id": "b3cfcfc3-d64e-4f0e-8307-43cbf7f1d68f",
   "metadata": {},
   "source": [
    "아래 코드는 사용자에 대한 애니메이션 추천을 생성하는 `process_user` 함수를 정의하고 있습니다. 이 함수는 사용자가 높은 평점을 준 애니메이션을 기반으로 유사한 애니메이션을 추천합니다.\n",
    "\n",
    "함수의 동작을 단계별로 설명하겠습니다:\n",
    "\n",
    "1. 함수의 입력 매개변수:\n",
    "   - `user_id`: 추천을 생성할 사용자의 ID입니다.\n",
    "   - `embedders`: 사용할 임베더 리스트입니다.\n",
    "   - `K`: 각 임베더에 대해 추천할 애니메이션의 개수를 지정하는 정수입니다.\n",
    "   - `verbose`: 디버깅 정보를 출력할지 여부를 결정하는 부울 값이며, 기본값은 False입니다.\n",
    "\n",
    "2. `user_predictions` 딕셔너리를 초기화합니다. 이 딕셔너리는 각 임베더에 대해 사용자의 추천 결과를 저장합니다. 딕셔너리의 키는 임베더이고, 값은 `defaultdict(float)`입니다. `defaultdict(float)`은 애니메이션 ID를 키로 하고, 해당 애니메이션의 추천 점수를 값으로 갖는 딕셔너리입니다.\n",
    "\n",
    "3. `get_promoted_animes_from_user` 함수를 호출하여 사용자가 높은 평점을 준 애니메이션의 ID 리스트를 가져옵니다. `set`을 사용하여 중복을 제거합니다.\n",
    "\n",
    "4. 사용자가 높은 평점을 준 각 애니메이션에 대해 다음 작업을 수행합니다:\n",
    "   - 각 임베더에 대해 `get_relevant_animes` 함수를 호출하여 해당 애니메이션과 유사한 애니메이션을 `K`개 가져옵니다.\n",
    "   - 유사한 애니메이션의 ID와 코사인 유사도 점수를 `relevant_animes` 리스트에 저장합니다.\n",
    "   - `relevant_animes` 리스트를 반복하면서 각 항목에 대해 다음 작업을 수행합니다:\n",
    "     - `verbose`가 True인 경우, 디버깅 정보로 임베더, 사용자 ID, 높은 평점을 받은 애니메이션 ID, 추천된 애니메이션 ID, 코사인 유사도 점수를 출력합니다.\n",
    "     - `user_predictions` 딕셔너리에서 해당 임베더와 추천된 애니메이션 ID에 대한 기존 점수를 확인합니다. 기존 점수가 없거나 현재 코사인 유사도 점수가 더 높은 경우, 해당 애니메이션 ID에 대한 추천 점수를 업데이트합니다.\n",
    "\n",
    "5. 함수는 `user_id`와 `user_predictions` 딕셔너리를 튜플 형태로 반환합니다.\n",
    "\n",
    "이 함수는 주어진 사용자에 대해 높은 평점을 받은 애니메이션을 기반으로 유사한 애니메이션을 추천하는 역할을 합니다. 각 임베더에 대해 추천 결과를 생성하고, 가장 높은 코사인 유사도 점수를 가진 추천 애니메이션을 선택합니다. 최종적으로 사용자 ID와 임베더별 추천 결과를 담은 딕셔너리를 반환합니다."
   ]
  },
  {
   "cell_type": "code",
   "execution_count": null,
   "id": "ea91b958",
   "metadata": {
    "scrolled": true
   },
   "outputs": [],
   "source": [
    "from collections import defaultdict\n",
    "import concurrent.futures\n",
    "from functools import partial\n",
    "from tqdm import tqdm\n",
    "\n",
    "def process_user(user_id, embedders, K, verbose=False):\n",
    "    user_predictions = {e: defaultdict(float) for e in embedders}\n",
    "    for promoted_anime_id in set(get_promoted_animes_from_user(user_id)):\n",
    "        for embedder in embedders:\n",
    "            relevant_animes = get_relevant_animes(promoted_anime_id, embedder, verbose=False, k=K)\n",
    "            for anime_id, cosine_score in relevant_animes:\n",
    "                if verbose:\n",
    "                    print(embedder, user_id, promoted_anime_id, anime_id, cosine_score)\n",
    "                if anime_id not in user_predictions[embedder] or cosine_score > user_predictions[embedder][anime_id]:\n",
    "                    user_predictions[embedder][anime_id] = cosine_score\n",
    "    return user_id, user_predictions"
   ]
  },
  {
   "cell_type": "markdown",
   "id": "3b16566c-c2a2-4717-ba05-2da9781db19c",
   "metadata": {},
   "source": [
    "process_user에서 반환하는 값은 아래와 같은 형태이다.\n",
    "```JSON\n",
    "(205282,\n",
    " {'text-embedding-ada-002': defaultdict(float,\n",
    "              {5: 0.913,\n",
    "               17205: 0.876,\n",
    "               4037: 0.869,\n",
    "               21507: 0.913,\n",
    "               33775: 0.882,\n",
    "               21195: 0.873,\n",
    "               1: 0.913,\n",
    "               3192: 0.864,\n",
    "               20359: 0.952,\n",
    "               24627: 0.948,\n",
    "               ...\n",
    "               789: 0.859}),\n",
    "  'text-embedding-3-small': defaultdict(float,\n",
    "              {5: 0.748,\n",
    "               4037: 0.631,\n",
    "               400: 0.628,\n",
    "               21507: 0.85,\n",
    "               33775: 0.723,\n",
    "               269: 0.7,\n",
    "               1: 0.748,\n",
    "               15335: 0.862,\n",
    "               26149: 0.612,\n",
    "               20359: 0.887,\n",
    "               ...\n",
    "               2994: 0.73}),\n",
    "  'text-embedding-3-large': defaultdict(float,\n",
    "              {5: 0.732,\n",
    "               20057: 0.698,\n",
    "               17205: 0.668,\n",
    "               21507: 0.755,\n",
    "               21195: 0.717,\n",
    "               269: 0.664,\n",
    "               1: 0.732,\n",
    "               4037: 0.638,\n",
    "               20359: 0.872,\n",
    "               24627: 0.821,\n",
    "               ...\n",
    "               789: 0.627}),\n",
    "  'paraphrase-distilroberta-base-v1': defaultdict(float,\n",
    "              {4240: 0.622,\n",
    "               2361: 0.584,\n",
    "               12149: 0.583,\n",
    "               21507: 0.712,\n",
    "               40496: 0.652,\n",
    "               37202: 0.652,\n",
    "               1365: 0.571,\n",
    "               548: 0.559,\n",
    "               10624: 0.549,\n",
    "               1554: 0.624,\n",
    "               ...\n",
    "               2605: 0.588}),\n",
    "  'anime_encoder': defaultdict(float,\n",
    "              {2001: 0.998,\n",
    "               2598: 0.998,\n",
    "               2025: 0.998,\n",
    "               14467: 0.999,\n",
    "               3091: 0.999,\n",
    "               8915: 0.999,\n",
    "               1609: 0.998,\n",
    "               878: 0.998,\n",
    "               1133: 0.998,\n",
    "               25099: 0.999,\n",
    "               ...\n",
    "               257: 0.998}),\n",
    "  'anime_encoder_bigger': defaultdict(float,\n",
    "              {290: 0.991,\n",
    "               567: 0.989,\n",
    "               2598: 0.989,\n",
    "               4151: 0.994,\n",
    "               6702: 0.993,\n",
    "               16518: 0.993,\n",
    "               15201: 0.995,\n",
    "               31: 0.994,\n",
    "               15197: 0.994,\n",
    "               29854: 0.995,\n",
    "               ...\n",
    "               1842: 0.99})})\n",
    "```"
   ]
  },
  {
   "cell_type": "code",
   "execution_count": null,
   "id": "75afa953",
   "metadata": {
    "scrolled": true
   },
   "outputs": [],
   "source": [
    "process_user(205282, embedders, K=3)"
   ]
  },
  {
   "cell_type": "markdown",
   "id": "dcb4b54d-08dd-4b45-8d6a-c25ee1452f0e",
   "metadata": {},
   "source": [
    "## 5.9 테스트 데이터 셋을 이용한 애니메이션 추천 생성"
   ]
  },
  {
   "cell_type": "markdown",
   "id": "3fd57f5d-f581-461d-9bbf-7e816d904736",
   "metadata": {},
   "source": [
    "아래 코드는 사용자에 대한 애니메이션 추천을 병렬로 처리하는 부분입니다. 코드의 각 부분을 자세히 설명하겠습니다:\n",
    "\n",
    "1. 데이터 준비:\n",
    "   - `user_ids` 변수에 `rating_complete_test` 데이터프레임에서 고유한 사용자 ID를 가져옵니다.\n",
    "   - `user_ids`는 `user_preds` 딕셔너리의 길이 이후의 사용자 ID부터 선택합니다. 이는 이미 처리된 사용자는 제외하고 새로운 사용자에 대해서만 추천을 생성하기 위함입니다.\n",
    "\n",
    "2. 작업자 수와 K 값 설정:\n",
    "   - `num_workers` 변수는 병렬 처리에 사용할 스레드 수를 지정합니다. 사용 가능한 CPU 코어 수와 `user_ids`의 길이 중 작은 값으로 설정됩니다.\n",
    "   - `K` 변수는 각 사용자에 대해 추천할 애니메이션의 개수를 지정합니다.\n",
    "\n",
    "3. 병렬 처리를 위한 `ThreadPoolExecutor` 사용:\n",
    "   - `concurrent.futures.ThreadPoolExecutor`를 사용하여 스레드 풀을 생성합니다. `max_workers` 매개변수는 최대 스레드 수를 지정합니다.\n",
    "   - `with` 문을 사용하여 스레드 풀의 컨텍스트를 관리합니다. 컨텍스트가 종료되면 스레드 풀이 자동으로 종료됩니다.\n",
    "\n",
    "4. 부분 함수 생성:\n",
    "   - `partial` 함수를 사용하여 `process_user` 함수의 일부 인수를 고정하여 새로운 함수를 생성합니다.\n",
    "   - `process_user_partial` 변수는 `embedders`와 `K` 인수가 고정된 `process_user` 함수를 나타냅니다.\n",
    "\n",
    "5. 병렬 작업 실행:\n",
    "   - `executor.map` 메서드를 사용하여 `process_user_partial` 함수를 `user_ids`의 각 사용자 ID에 대해 병렬로 실행합니다.\n",
    "   - `tqdm` 라이브러리를 사용하여 진행 상황을 표시하고, `total` 매개변수에 `user_ids`의 길이를 전달하여 전체 작업 수를 지정합니다.\n",
    "   - 각 작업의 결과로 반환되는 `(user_id, user_predictions)` 튜플을 반복하면서, `user_preds` 딕셔너리를 업데이트합니다.\n",
    "   - `user_preds` 딕셔너리의 키는 `user_id`이고, 값은 해당 사용자에 대한 `user_predictions` 딕셔너리입니다.\n",
    "\n",
    "이 코드는 `user_ids`의 각 사용자 ID에 대해 `process_user` 함수를 병렬로 실행하여 추천을 생성합니다. 병렬 처리를 통해 여러 사용자에 대한 추천을 동시에 처리할 수 있으므로 전체 실행 시간을 단축할 수 있습니다.\n",
    "\n",
    "`process_user` 함수는 각 사용자에 대해 높은 평점을 받은 애니메이션을 기반으로 유사한 애니메이션을 추천하고, 그 결과를 `user_predictions` 딕셔너리로 반환합니다. 반환된 `user_predictions` 딕셔너리는 `user_preds` 딕셔너리에 사용자 ID를 키로 하여 저장됩니다.\n",
    "\n",
    "최종적으로 `user_preds` 딕셔너리에는 각 사용자 ID에 대한 추천 결과가 저장됩니다."
   ]
  },
  {
   "cell_type": "code",
   "execution_count": null,
   "id": "6916005d-bbd9-40d9-ba1a-b8e73d960c5e",
   "metadata": {},
   "outputs": [],
   "source": [
    "# 데이터 준비 \n",
    "user_ids = rating_complete_test['user_id'].unique()[len(user_preds):]\n",
    "\n",
    "# 작업자 수와 K 값을 설정합니다.\n",
    "num_workers = min(8, len(user_ids))\n",
    "K = 3\n",
    "len(user_ids)"
   ]
  },
  {
   "cell_type": "code",
   "execution_count": null,
   "id": "96ec3d21",
   "metadata": {},
   "outputs": [],
   "source": [
    "# 여러 스레드를 사용하여 코드 병렬화하기\n",
    "with concurrent.futures.ThreadPoolExecutor(max_workers=num_workers) as executor:\n",
    "    # 임베더와 K에 대한 고정 인수를 사용하여 부분 함수를 생성합니다.\n",
    "    process_user_partial = partial(process_user, embedders=embedders, K=K)\n",
    "    \n",
    "    # 작업을 병렬로 실행하고 user_preds 사전을 업데이트합니다.\n",
    "    for user_id, user_predictions in tqdm(executor.map(process_user_partial, user_ids), total=len(user_ids)):\n",
    "        user_preds[user_id] = user_predictions"
   ]
  },
  {
   "cell_type": "code",
   "execution_count": null,
   "id": "87725fe4",
   "metadata": {},
   "outputs": [],
   "source": [
    "len(user_preds)"
   ]
  },
  {
   "cell_type": "markdown",
   "id": "b7dfb949-abd1-4935-b98f-26ffba368988",
   "metadata": {},
   "source": [
    "이 코드는 사용자 추천 결과를 처리하고 저장하는 부분입니다. 코드의 각 부분을 자세히 설명하겠습니다:\n",
    "\n",
    "1. `convert_float32` 함수:\n",
    "   - 이 함수는 딕셔너리, 리스트, NumPy의 float32 타입의 값을 재귀적으로 변환합니다.\n",
    "   - 딕셔너리인 경우, 키-값 쌍을 순회하면서 값에 대해 `convert_float32` 함수를 재귀적으로 호출합니다.\n",
    "   - 리스트인 경우, 각 항목에 대해 `convert_float32` 함수를 재귀적으로 호출합니다.\n",
    "   - NumPy의 float32 타입인 경우, `float` 함수를 사용하여 Python의 float 타입으로 변환합니다.\n",
    "   - 그 외의 경우, 원래의 값을 그대로 반환합니다.\n",
    "\n",
    "2. `user_preds` 딕셔너리 변환:\n",
    "   - `user_preds` 딕셔너리의 키를 정수로 변환하여 `user_preds_converted` 딕셔너리를 생성합니다.\n",
    "   - `convert_float32` 함수를 사용하여 `user_preds_converted` 딕셔너리의 값을 재귀적으로 변환합니다.\n",
    "\n",
    "3. 변환된 딕셔너리를 JSON 파일로 저장:\n",
    "   - `with` 문을 사용하여 `user_preds.json` 파일을 쓰기 모드로 열고, `json.dump` 함수를 사용하여 `user_preds_converted` 딕셔너리를 JSON 형식으로 저장합니다."
   ]
  },
  {
   "cell_type": "code",
   "execution_count": null,
   "id": "bb234b56",
   "metadata": {
    "scrolled": true
   },
   "outputs": [],
   "source": [
    "import json\n",
    "\n",
    "# int64 키를 int 또는 str으로 변환\n",
    "import json\n",
    "\n",
    "def convert_float32(obj):\n",
    "    if isinstance(obj, dict):\n",
    "        return {key: convert_float32(value) for key, value in obj.items()}\n",
    "    elif isinstance(obj, list):\n",
    "        return [convert_float32(item) for item in obj]\n",
    "    elif isinstance(obj, np.float32):\n",
    "        return float(obj)\n",
    "    else:\n",
    "        return obj\n",
    "\n",
    "user_preds_converted = {int(key): value for key, value in user_preds.items()}\n",
    "user_preds_converted = convert_float32(user_preds_converted)\n",
    "\n",
    "# 생성하는 데 계산 비용이 많이 들기 때문에 저장합니다.\n",
    "with open('user_preds.json', 'w') as f:\n",
    "    json.dump(user_preds_converted, f)"
   ]
  },
  {
   "cell_type": "code",
   "execution_count": null,
   "id": "5ceab3a7",
   "metadata": {
    "scrolled": true
   },
   "outputs": [],
   "source": [
    "import json\n",
    "with open('user_preds.json', 'rU') as f:\n",
    "    user_preds = json.load(f)"
   ]
  },
  {
   "cell_type": "markdown",
   "id": "436a9cfe-8972-4eb5-b7fb-2f89f5f6f76f",
   "metadata": {},
   "source": [
    "1. 총 예측된 애니메이션 계산:\n",
    "   - `total_animes_predicted` 딕셔너리를 초기화합니다. 각 임베더에 대해 빈 집합을 값으로 갖습니다.\n",
    "   - `user_preds` 딕셔너리를 순회하면서 각 사용자의 추천 결과를 확인합니다.\n",
    "  \n",
    "2. 각 임베더에 대해 추천된 애니메이션의 키를 `total_animes_predicted` 딕셔너리의 해당 임베더 집합에 추가합니다.\n",
    "\n",
    "    코드에서 `total_animes_predicted[embedder].update((rec.keys()))`는 다음과 같이 동작합니다:\n",
    "    \n",
    "    1. `total_animes_predicted`는 각 임베더별로 추천된 애니메이션의 ID를 저장하는 딕셔너리입니다.\n",
    "       - 키: 임베더 이름 (예: 'text-embedding-ada-002', 'text-embedding-3-small' 등)\n",
    "       - 값: 해당 임베더가 추천한 애니메이션의 ID를 저장하는 세트(set)\n",
    "    \n",
    "    2. `embedder`는 현재 처리 중인 임베더의 이름입니다.\n",
    "    \n",
    "    3. `rec`는 현재 임베더가 추천한 애니메이션의 ID와 추천 점수를 담고 있는 defaultdict입니다.\n",
    "    \n",
    "    4. `rec.keys()`는 `rec` defaultdict의 키들을 반환합니다. 이 키들은 추천된 애니메이션의 ID입니다.\n",
    "    \n",
    "    5. `(rec.keys())`는 `rec.keys()`를 튜플로 변환합니다. 이는 `update()` 메서드에 전달하기 위한 것입니다.\n",
    "    \n",
    "    6. `total_animes_predicted[embedder].update((rec.keys()))`는 `total_animes_predicted` 딕셔너리에서 `embedder`에 해당하는 세트(set)를 가져와서 `rec.keys()`로부터 얻은 애니메이션 ID들을 추가합니다.\n",
    "       - `update()` 메서드는 세트에 여러 개의 요소를 한 번에 추가할 때 사용됩니다.\n",
    "       - `(rec.keys())`로부터 얻은 애니메이션 ID들이 `total_animes_predicted[embedder]` 세트에 추가됩니다.\n",
    "\n",
    "    따라서 `total_animes_predicted[embedder].update((rec.keys()))`는 현재 임베더가 추천한 애니메이션의 ID들을 `total_animes_predicted` 딕셔너리의 해당 임베더 세트에 추가하는 역할을 합니다.\n",
    "    이 코드를 통해 각 임베더별로 추천된 애니메이션의 ID들을 누적하여 저장할 수 있습니다. 최종적으로 `total_animes_predicted` 딕셔너리에는 각 임베더가 추천한 모든 애니메이션의 ID가 세트 형태로 저장됩니다.\n",
    "    예를 들어, 위의 데이터에서 'text-embedding-ada-002' 임베더가 추천한 애니메이션의 ID들은 `total_animes_predicted['text-embedding-ada-002']` 세트에 추가될 것입니다.\n",
    "\n",
    "3. 추천된 애니메이션 수 확인:\n",
    "   - `len(total_animes_predicted)`를 사용하여 `total_animes_predicted` 딕셔너리의 길이를 확인합니다.\n",
    "   - `rating_complete_test['anime_id'].nunique()`를 사용하여 테스트 데이터셋에서 고유한 애니메이션 수를 확인합니다.\n",
    "   - `{k: len(v) for k, v in total_animes_predicted.items()}`를 사용하여 각 임베더별로 예측된 고유한 애니메이션 수를 확인합니다."
   ]
  },
  {
   "cell_type": "code",
   "execution_count": null,
   "id": "cd726e5b",
   "metadata": {},
   "outputs": [],
   "source": [
    "total_animes_predicted = {e: set() for e in embedders}\n",
    "for user_id, recs in user_preds.items():\n",
    "    for embedder, rec in recs.items():\n",
    "        total_animes_predicted[embedder].update((rec.keys()))\n",
    "len(total_animes_predicted)"
   ]
  },
  {
   "cell_type": "code",
   "execution_count": null,
   "id": "ea006049",
   "metadata": {},
   "outputs": [],
   "source": [
    "rating_complete_test['anime_id'].nunique()"
   ]
  },
  {
   "cell_type": "code",
   "execution_count": null,
   "id": "f99be65d",
   "metadata": {},
   "outputs": [],
   "source": [
    "{k: len(v) for k, v in total_animes_predicted.items()}"
   ]
  },
  {
   "cell_type": "code",
   "execution_count": null,
   "id": "7560413f",
   "metadata": {},
   "outputs": [],
   "source": [
    "rating_complete_test"
   ]
  },
  {
   "cell_type": "markdown",
   "id": "87772ed2-f9ab-4a18-92fa-2ea02c11bebe",
   "metadata": {},
   "source": [
    "## 5.10 애니메이션 추천 시스템 성능 평가"
   ]
  },
  {
   "cell_type": "markdown",
   "id": "01e80695-8b1a-4702-a062-e2695f3bc794",
   "metadata": {},
   "source": [
    "1. 사용자-애니메이션 테스트 평점 딕셔너리 생성:\n",
    "   - `try-except` 문을 사용하여 `user_anime_test_ratings` 딕셔너리가 존재하는지 확인합니다.\n",
    "   - 존재하지 않는 경우, `defaultdict(dict)`를 사용하여 `user_anime_test_ratings` 딕셔너리를 초기화합니다.\n",
    "   - `rating_complete_test` 데이터프레임을 순회하면서 각 행의 사용자 ID, 애니메이션 ID, 평점을 가져옵니다.\n",
    "   - `user_anime_test_ratings` 딕셔너리에 사용자 ID를 키로, 애니메이션 ID를 내부 딕셔너리의 키로, 평점을 값으로 저장합니다."
   ]
  },
  {
   "cell_type": "code",
   "execution_count": null,
   "id": "177f46f3",
   "metadata": {},
   "outputs": [],
   "source": [
    "from collections import defaultdict\n",
    "try:\n",
    "    user_anime_test_ratings\n",
    "except:\n",
    "    user_anime_test_ratings = defaultdict(dict)\n",
    "    for index, user_id, anime_id, rating in tqdm(rating_complete_test.to_records()):\n",
    "        user_anime_test_ratings[user_id][anime_id] = rating\n"
   ]
  },
  {
   "cell_type": "markdown",
   "id": "6a29e248-0c86-441e-9989-f2c03d23eb99",
   "metadata": {},
   "source": [
    "이 코드는 추천 시스템의 성능을 평가하기 위해 다양한 k 값(k-factor)에 대한 순 프로모터 점수(NPS)를 계산하는 부분입니다. 코드의 각 부분을 자세히 설명하겠습니다:\n",
    "\n",
    "1. `tqdm` 라이브러리를 가져와서 진행률 표시줄을 시각화합니다.\n",
    "\n",
    "2. `score_map` 딕셔너리를 정의하여 사용자 평가 점수를 매핑합니다.\n",
    "   - 10과 9는 긍정(1), 8과 7은 중립(0), 나머지는 모두 부정(-1)으로 간주합니다.\n",
    "\n",
    "3. `k_values` 리스트와 `embedder_counts` 딕셔너리를 초기화합니다.\n",
    "   - `k_values` 리스트는 각 k 값에 대한 평가 결과를 저장합니다.\n",
    "   - `embedder_counts` 딕셔너리는 각 임베더의 추천에 대한 점수를 저장합니다.\n",
    "\n",
    "4. 1부터 10까지의 정수 범위를 `_r` 변수에 저장합니다.\n",
    "\n",
    "5. `_r` 범위를 반복하여 다양한 k 값(k-factor)에 대해 평가를 수행합니다.\n",
    "   - `tqdm`을 사용하여 진행률 표시줄을 출력합니다.\n",
    "\n",
    "6. 각 사용자와 해당 추천(`user_preds`)을 반복합니다.\n",
    "\n",
    "7. 각 임베더와 임베더의 해당 추천을 반복합니다.\n",
    "\n",
    "8. 각 임베더에서 각 사용자에 대한 상위 k개의 추천을 선택합니다.\n",
    "   - `sorted` 함수와 `lambda` 함수를 사용하여 추천 점수를 기준으로 내림차순으로 정렬합니다.\n",
    "   - 상위 k개의 추천을 `final_recs` 변수에 저장합니다.\n",
    "\n",
    "9. 상위 k 추천을 반복하면서 각 추천에 대해 다음 작업을 수행합니다.\n",
    "   - 추천 애니메이션에 대한 사용자 평점을 `user_anime_test_ratings` 딕셔너리에서 가져옵니다.\n",
    "   - 사용자가 추천 애니메이션에 대한 평점을 가지고 있는지 확인합니다.\n",
    "   - 사용자 평점이 존재하는 경우:\n",
    "     - `score_map` 딕셔너리를 사용하여 사용자 평점을 점수로 변환합니다.\n",
    "     - 추천의 순위에 따라 점수를 조정하여 `embedder_counts` 딕셔너리에 추가합니다.\n",
    "\n",
    "10. 각 임베더의 평균 순 프로모터 점수(NPS)를 계산합니다.\n",
    "    - `embedder_counts` 딕셔너리의 각 임베더에 대해 점수의 합을 점수의 개수로 나누어 평균 NPS를 계산합니다.\n",
    "    - 평균 NPS와 함께 k 값과 테스트 세트에서 발견된 예측 수를 포함하는 딕셔너리를 생성합니다.\n",
    "    - 생성된 딕셔너리를 `k_values` 리스트에 추가합니다.\n",
    "\n",
    "이 코드는 다양한 k 값에 대해 추천 시스템의 성능을 평가하는 과정을 나타냅니다. 각 k 값에 대해 사용자의 실제 평점과 추천 점수를 비교하여 순 프로모터 점수(NPS)를 계산하고, 평균 NPS와 함께 평가 결과를 `k_values` 리스트에 저장합니다. 이를 통해 최적의 k 값을 선택하고 추천 시스템의 성능을 평가할 수 있습니다.\n",
    "\n",
    "\n",
    "\n",
    "----------\n",
    "\n",
    "\n",
    "NPS는 순 프로모터 점수(Net Promoter Score)의 약자입니다. 이는 고객 충성도와 만족도를 측정하는 지표로 널리 사용됩니다. NPS는 고객이 제품, 서비스 또는 브랜드를 다른 사람에게 추천할 가능성을 나타내는 점수입니다.\n",
    "\n",
    "NPS는 일반적으로 다음과 같은 질문을 통해 수집됩니다:\n",
    "\"0부터 10까지의 척도에서, 귀하는 이 제품/서비스/브랜드를 친구나 동료에게 추천할 가능성이 어느 정도입니까?\"\n",
    "\n",
    "응답자는 0부터 10까지의 점수로 평가합니다. 이 점수에 따라 응답자는 다음과 같이 분류됩니다:\n",
    "- 9-10: 프로모터(Promoters) - 충성도가 높고 적극적으로 추천할 가능성이 높은 고객\n",
    "- 7-8: 패시브(Passives) - 만족하지만 충성도가 높지 않은 고객\n",
    "- 0-6: 디트랙터(Detractors) - 불만족하고 부정적인 구전을 할 가능성이 높은 고객\n",
    "\n",
    "NPS는 프로모터의 비율에서 디트랙터의 비율을 뺀 값으로 계산됩니다:\n",
    "NPS = % 프로모터 - % 디트랙터\n",
    "\n",
    "NPS는 -100부터 100까지의 범위를 가질 수 있습니다. 양수 값은 프로모터가 디트랙터보다 많다는 것을 의미하고, 음수 값은 그 반대를 의미합니다.\n",
    "\n",
    "위의 코드에서 NPS를 사용한 이유는 추천 시스템의 성능을 평가하기 위해서입니다. 코드에서는 사용자의 실제 평점을 기반으로 추천 시스템이 제공한 추천의 품질을 측정하고 있습니다.\n",
    "\n",
    "코드에서는 `score_map` 딕셔너리를 사용하여 사용자 평점을 NPS 척도로 매핑합니다:\n",
    "- 10과 9는 프로모터(1)로 간주\n",
    "- 8과 7은 패시브(0)로 간주\n",
    "- 6 이하는 디트랙터(-1)로 간주\n",
    "\n",
    "추천 시스템이 제공한 각 추천에 대해, 사용자의 실제 평점을 기반으로 NPS 점수를 계산합니다. 이 점수는 추천의 순위에 따라 가중치가 부여됩니다. 상위 순위의 추천이 더 높은 가중치를 받습니다.\n",
    "\n",
    "각 임베더(추천 알고리즘)에 대해 평균 NPS를 계산하여 추천 시스템의 전반적인 성능을 평가합니다. 평균 NPS가 높을수록 추천 시스템이 사용자의 선호도를 잘 예측하고 만족도 높은 추천을 제공한다는 것을 의미합니다.\n",
    "\n",
    "NPS를 사용함으로써 추천 시스템의 성능을 정량적으로 평가하고, 다른 알고리즘이나 하이퍼파라미터 설정과 비교할 수 있습니다. 이를 통해 최적의 추천 시스템을 선택하고 사용자 경험을 개선할 수 있습니다.\n",
    "\n",
    "\n",
    "----------\n",
    "\n",
    "코드 `embedder_counts[embedder].append((score_map[user_rating] * (k_factor - index) / k_factor))`는 추천 시스템의 성능을 평가하기 위해 사용되는 점수를 계산하고 저장하는 부분입니다. 이 코드의 각 부분을 자세히 설명하겠습니다:\n",
    "\n",
    "1. `embedder_counts`는 각 임베더(추천 알고리즘)의 성능을 저장하는 딕셔너리입니다.\n",
    "   - 키: 임베더 이름 (예: 'text-embedding-ada-002', 'text-embedding-3-small' 등)\n",
    "   - 값: 해당 임베더의 추천에 대한 점수를 저장하는 리스트\n",
    "\n",
    "2. `embedder`는 현재 처리 중인 임베더의 이름입니다.\n",
    "\n",
    "3. `score_map`은 사용자 평점을 점수로 매핑하는 딕셔너리입니다.\n",
    "   - 키: 사용자 평점 (0부터 10까지의 정수)\n",
    "   - 값: NPS(Net Promoter Score) 척도에 따른 점수 (1: 프로모터, 0: 패시브, -1: 디트랙터)\n",
    "\n",
    "4. `user_rating`은 사용자가 추천된 애니메이션에 대해 매긴 실제 평점입니다.\n",
    "\n",
    "5. `score_map[user_rating]`은 사용자 평점을 NPS 점수로 변환합니다.\n",
    "   - 예를 들어, 사용자 평점이 10이면 NPS 점수는 1(프로모터)이 됩니다.\n",
    "\n",
    "6. `k_factor`는 현재 평가 중인 k 값(상위 k개 추천)입니다.\n",
    "\n",
    "7. `index`는 현재 추천의 순위를 나타내는 인덱스입니다.\n",
    "\n",
    "8. `(k_factor - index) / k_factor`는 추천의 순위에 따른 가중치를 계산하는 식입니다.\n",
    "   - 상위 순위의 추천일수록 가중치가 높아집니다.\n",
    "   - 가중치는 1에서 0까지의 값을 가지며, 상위 순위일수록 1에 가까워집니다.\n",
    "\n",
    "9. `score_map[user_rating] * (k_factor - index) / k_factor`는 사용자 평점을 NPS 점수로 변환한 후, 추천 순위에 따른 가중치를 곱하여 최종 점수를 계산합니다.\n",
    "   - 사용자 평점이 높고 추천 순위가 상위일수록 최종 점수가 높아집니다.\n",
    "\n",
    "10. `embedder_counts[embedder].append(...)`는 계산된 최종 점수를 `embedder_counts` 딕셔너리의 해당 임베더 리스트에 추가합니다.\n",
    "\n",
    "이 코드는 추천 시스템의 성능을 평가할 때, 사용자의 실제 평점과 추천 순위를 모두 고려하여 점수를 계산합니다. 사용자 평점이 높을수록, 그리고 추천 순위가 상위일수록 해당 추천에 대한 점수가 높아집니다. 이렇게 계산된 점수는 `embedder_counts` 딕셔너리에 누적되어 저장됩니다.\n",
    "\n",
    "최종적으로 `embedder_counts` 딕셔너리를 사용하여 각 임베더의 평균 NPS를 계산하고, 이를 통해 추천 시스템의 전반적인 성능을 평가할 수 있습니다. 이 코드는 추천 시스템의 성능을 정량적으로 측정하고 비교하는 데 사용됩니다.\n",
    "\n",
    "---------\n",
    "\n",
    "코드 `k_values.append({e: dict(k=k_factor, avg_nps=sum(l) / len(l), predictions_found_in_test_set=len(l)) for e, l in embedder_counts.items()})`는 각 임베더(추천 알고리즘)의 성능 평가 결과를 `k_values` 리스트에 추가하는 부분입니다. 이 코드의 각 부분을 자세히 설명하겠습니다:\n",
    "\n",
    "1. `k_values`는 각 k 값(상위 k개 추천)에 대한 평가 결과를 저장하는 리스트입니다.\n",
    "\n",
    "2. `embedder_counts.items()`는 `embedder_counts` 딕셔너리의 키-값 쌍을 반환합니다.\n",
    "   - 키(`e`): 임베더 이름 (예: 'text-embedding-ada-002', 'text-embedding-3-small' 등)\n",
    "   - 값(`l`): 해당 임베더의 추천에 대한 점수를 저장하는 리스트\n",
    "\n",
    "3. `{e: dict(k=k_factor, avg_nps=sum(l) / len(l), predictions_found_in_test_set=len(l)) for e, l in embedder_counts.items()}`는 딕셔너리 컴프리헨션(dictionary comprehension)을 사용하여 각 임베더의 성능 평가 결과를 계산하고 딕셔너리로 생성합니다.\n",
    "   - `e`는 임베더 이름을 나타냅니다.\n",
    "   - `dict(k=k_factor, avg_nps=sum(l) / len(l), predictions_found_in_test_set=len(l))`는 각 임베더의 성능 평가 결과를 담은 딕셔너리를 생성합니다.\n",
    "     - `k`: 현재 평가 중인 k 값(상위 k개 추천)\n",
    "     - `avg_nps`: 해당 임베더의 평균 NPS(Net Promoter Score) 점수\n",
    "       - `sum(l)`은 해당 임베더의 점수 리스트(`l`)의 합계를 계산합니다.\n",
    "       - `len(l)`은 해당 임베더의 점수 리스트(`l`)의 길이를 계산합니다.\n",
    "       - `sum(l) / len(l)`은 점수의 평균을 계산합니다.\n",
    "     - `predictions_found_in_test_set`: 해당 임베더가 테스트 세트에서 발견한 추천 수\n",
    "       - `len(l)`은 해당 임베더의 점수 리스트(`l`)의 길이를 계산하며, 이는 테스트 세트에서 발견한 추천 수와 동일합니다.\n",
    "\n",
    "4. `k_values.append(...)`는 생성된 딕셔너리를 `k_values` 리스트에 추가합니다.\n",
    "\n",
    "이 코드는 각 k 값(상위 k개 추천)에 대해 임베더별 성능 평가 결과를 계산하고 저장합니다. 계산된 결과는 딕셔너리 형태로 `k_values` 리스트에 추가됩니다.\n",
    "\n",
    "딕셔너리의 구조는 다음과 같습니다:\n",
    "- 키: 임베더 이름\n",
    "- 값: 해당 임베더의 성능 평가 결과를 담은 딕셔너리\n",
    "  - `k`: 현재 평가 중인 k 값\n",
    "  - `avg_nps`: 해당 임베더의 평균 NPS 점수\n",
    "  - `predictions_found_in_test_set`: 해당 임베더가 테스트 세트에서 발견한 추천 수\n",
    "\n",
    "최종적으로 `k_values` 리스트에는 각 k 값에 대한 임베더별 성능 평가 결과가 저장됩니다. 이를 통해 다양한 k 값에 대한 추천 시스템의 성능을 비교하고 분석할 수 있습니다.\n",
    "\n",
    "\n",
    "-----\n",
    "embedder_counts\n",
    "\n",
    "```JSON\n",
    "{\n",
    "    'text-embedding-ada-002': [0.8, 0.9, 0.7, 0.6, 0.9, 0.8, 0.7, 0.8, 0.9, 0.7, ...],\n",
    "    'text-embedding-3-small': [0.7, 0.8, 0.6, 0.5, 0.8, 0.7, 0.6, 0.7, 0.8, 0.6, ...],\n",
    "    'text-embedding-3-large': [0.75, 0.85, 0.65, 0.55, 0.85, 0.75, 0.65, 0.75, 0.85, 0.65, ...],\n",
    "    'paraphrase-distilroberta-base-v1': [0.6, 0.7, 0.5, 0.4, 0.7, 0.6, 0.5, 0.6, 0.7, 0.5, ...],\n",
    "    'anime_encoder': [0.5, 0.6, 0.4, 0.3, 0.6, 0.5, 0.4, 0.5, 0.6, 0.4, ...],\n",
    "    'anime_encoder_bigger': [0.55, 0.65, 0.45, 0.35, 0.65, 0.55, 0.45, 0.55, 0.65, 0.45, ...]\n",
    "}\n",
    "```\n",
    "\n",
    "k_values\n",
    "\n",
    "```JSON\n",
    "[\n",
    "    {\n",
    "        'text-embedding-ada-002': {'k': 1, 'avg_nps': 0.85, 'predictions_found_in_test_set': 1000},\n",
    "        'text-embedding-3-small': {'k': 1, 'avg_nps': 0.80, 'predictions_found_in_test_set': 950},\n",
    "        'text-embedding-3-large': {'k': 1, 'avg_nps': 0.83, 'predictions_found_in_test_set': 980},\n",
    "        'paraphrase-distilroberta-base-v1': {'k': 1, 'avg_nps': 0.78, 'predictions_found_in_test_set': 900},\n",
    "        'anime_encoder': {'k': 1, 'avg_nps': 0.75, 'predictions_found_in_test_set': 850},\n",
    "        'anime_encoder_bigger': {'k': 1, 'avg_nps': 0.76, 'predictions_found_in_test_set': 870}\n",
    "    },\n",
    "    {\n",
    "        'text-embedding-ada-002': {'k': 2, 'avg_nps': 0.87, 'predictions_found_in_test_set': 2000},\n",
    "        'text-embedding-3-small': {'k': 2, 'avg_nps': 0.82, 'predictions_found_in_test_set': 1950},\n",
    "        'text-embedding-3-large': {'k': 2, 'avg_nps': 0.85, 'predictions_found_in_test_set': 1980},\n",
    "        'paraphrase-distilroberta-base-v1': {'k': 2, 'avg_nps': 0.80, 'predictions_found_in_test_set': 1900},\n",
    "        'anime_encoder': {'k': 2, 'avg_nps': 0.77, 'predictions_found_in_test_set': 1850},\n",
    "        'anime_encoder_bigger': {'k': 2, 'avg_nps': 0.78, 'predictions_found_in_test_set': 1870}\n",
    "    },\n",
    "    ...\n",
    "]\n",
    "```"
   ]
  },
  {
   "cell_type": "code",
   "execution_count": null,
   "id": "07d1a5cc",
   "metadata": {},
   "outputs": [],
   "source": [
    "# 진행률 표시줄 시각화를 위해 tqdm 가져오기\n",
    "from tqdm.auto import tqdm\n",
    "\n",
    "# 사용자 평가 점수를 매기는 맵을 만듭니다.\n",
    "# 10과 9는 긍정(1), 8과 7은 중립(0), 나머지는 모두 부정(-1)으로 간주합니다.\n",
    "score_map = {10: 1, 9: 1, 8: 0, 7: 0, 6: -1, 5: -1, 4:-1, 3:-1, 2:-1, 1:-1, 0:-1}\n",
    "\n",
    "# 각 임베더의 개수에 대한 k_values 목록과 사전을 초기화합니다.\n",
    "k_values = []\n",
    "embedder_counts = defaultdict(list)\n",
    "\n",
    "# 1에서 10까지의 정수 범위 만들기\n",
    "_r = list(range(1, 11))\n",
    "\n",
    "# 범위를 반복하여 추천에 대한 다양한 k 값(k-factor)을 얻습니다.\n",
    "for k_factor in tqdm(_r):\n",
    "    # 각 사용자와 해당 추천을 반복합니다.\n",
    "    for user_id, user_recs in user_preds.items():\n",
    "        # 각 임베더와 임베더의 해당 추천을 반복합니다.\n",
    "        for embedder, recs_from_embedder in user_recs.items():\n",
    "            # 각 임베더에서 각 사용자에 대한 상위 k개의 추천 선택\n",
    "            final_recs = sorted(recs_from_embedder.items(), key=lambda x: x[1], reverse=True)[:k_factor]\n",
    "\n",
    "            # 상위 k 추천 반복\n",
    "            for index, (recommended_anime_id, recommendation_score) in enumerate(final_recs):  \n",
    "                # 추천 애니메이션에 대한 사용자 평점 가져오기\n",
    "                user_rating = user_anime_test_ratings.get(int(user_id), {}).get(int(recommended_anime_id))\n",
    "\n",
    "                # 사용자가 추천 애니메이션에 대한 평점을 가지고 있는지 확인합니다.\n",
    "                if user_rating:\n",
    "                    # 각 추천의 점수는 순위에 따라 조정되어 embedder_counts 딕셔너리에 추가됩니다.\n",
    "                    embedder_counts[embedder].append((score_map[user_rating] * (k_factor - index) / k_factor))\n",
    "\n",
    "    # 각 임베더의 평균 순 프로모터 점수(NPS)를 계산하고 이를 k_values 목록에 추가합니다.\n",
    "    k_values.append({e: dict(k=k_factor, avg_nps=sum(l) / len(l), predictions_found_in_test_set=len(l)) for e, l in embedder_counts.items()})"
   ]
  },
  {
   "cell_type": "markdown",
   "id": "80f2dc33-08c3-4ae6-ac99-b99ee725634b",
   "metadata": {},
   "source": [
    "embedder_counts 데이터 조회"
   ]
  },
  {
   "cell_type": "code",
   "execution_count": null,
   "id": "8d44fb03-41b2-4888-81f2-42ab8a76093a",
   "metadata": {},
   "outputs": [],
   "source": [
    "first_embedder = list(embedder_counts.keys())[0]\n",
    "print(f\"첫 번째 임베더: {first_embedder}\")\n",
    "print(f\"첫 번째 임베더의 점수 개수: {len(embedder_counts[first_embedder])}\")\n",
    "print(f\"첫 번째 임베더의 점수 미리보기: {embedder_counts[first_embedder][:5]}\")"
   ]
  },
  {
   "cell_type": "code",
   "execution_count": null,
   "id": "c7382c53-876b-488a-a9f3-542cf31d164d",
   "metadata": {},
   "outputs": [],
   "source": [
    "for embedder, scores in embedder_counts.items():\n",
    "    print(f\"임베더: {embedder}, 점수 개수: {len(scores)}\")"
   ]
  },
  {
   "cell_type": "code",
   "execution_count": null,
   "id": "d7c4b549-d685-4e2b-8b5d-8191274038df",
   "metadata": {},
   "outputs": [],
   "source": [
    "embedder_counts_summary = {embedder: len(scores) for embedder, scores in embedder_counts.items()}\n",
    "print(\"임베더별 점수 개수 요약:\")\n",
    "print(embedder_counts_summary)"
   ]
  },
  {
   "cell_type": "code",
   "execution_count": null,
   "id": "4a87c691-ba78-4125-bdea-d99d22e083de",
   "metadata": {},
   "outputs": [],
   "source": [
    "import random\n",
    "\n",
    "random_embedder = random.choice(list(embedder_counts.keys()))\n",
    "print(f\"랜덤하게 선택한 임베더: {random_embedder}\")\n",
    "print(f\"해당 임베더의 점수 개수: {len(embedder_counts[random_embedder])}\")\n",
    "print(f\"해당 임베더의 점수 미리보기: {embedder_counts[random_embedder][:5]}\")"
   ]
  },
  {
   "cell_type": "code",
   "execution_count": null,
   "id": "40d91e6d-4099-4c94-be77-77b6a9388470",
   "metadata": {},
   "outputs": [],
   "source": [
    "len(k_values)"
   ]
  },
  {
   "cell_type": "code",
   "execution_count": null,
   "id": "042b2699-e0c2-4b81-acf4-b4cff9f687bb",
   "metadata": {
    "scrolled": true
   },
   "outputs": [],
   "source": [
    "k_values"
   ]
  },
  {
   "cell_type": "markdown",
   "id": "e5f7f99e-bcde-4d5c-8e97-7f4d96043c62",
   "metadata": {},
   "source": [
    "이 코드는 추천 시스템의 성능을 평가한 결과를 시각화하는 부분입니다. Matplotlib 라이브러리를 사용하여 각 임베더(추천 알고리즘)의 성능을 라인 플롯으로 표현합니다. 코드의 각 부분을 자세히 설명하겠습니다:\n",
    "\n",
    "1. 데이터 추출:\n",
    "   - `models` 리스트는 `k_values` 딕셔너리의 첫 번째 항목에서 임베더 이름을 추출합니다.\n",
    "   - `ks` 리스트는 각 `k_values` 항목에서 첫 번째 임베더의 \"k\" 값을 추출합니다. 이는 x축에 사용될 값입니다.\n",
    "   - `model_avg_nps` 딕셔너리는 각 임베더에 대해 `k_values`의 모든 항목에서 \"avg_nps\" 값을 추출하여 저장합니다.\n",
    "\n",
    "2. 그래프 스타일 설정:\n",
    "   - `plt.style.use('ggplot')`을 사용하여 그래프의 스타일을 'ggplot' 스타일로 설정합니다.\n",
    "   - `fig, ax = plt.subplots(figsize=(10, 5))`를 사용하여 그래프의 크기를 설정합니다.\n",
    "\n",
    "3. 색상, 선 스타일, 마커 스타일 정의:\n",
    "   - `colors` 리스트는 각 임베더에 대한 색상을 정의합니다.\n",
    "   - `line_styles` 리스트는 각 임베더에 대한 선 스타일을 정의합니다.\n",
    "   - `marker_styles` 리스트는 각 임베더에 대한 마커 스타일을 정의합니다.\n",
    "\n",
    "4. 각 임베더에 대한 라인 플롯 그리기:\n",
    "   - `enumerate(model_avg_nps.items())`를 사용하여 각 임베더와 해당 \"avg_nps\" 값을 반복합니다.\n",
    "   - `ax.plot()`을 사용하여 각 임베더의 성능을 라인 플롯으로 그립니다.\n",
    "     - x축은 `ks` 값을 사용합니다.\n",
    "     - y축은 해당 임베더의 \"avg_nps\" 값을 사용합니다.\n",
    "     - `label` 매개변수는 각 라인의 레이블을 설정합니다.\n",
    "     - `linewidth`, `marker`, `linestyle`, `color` 매개변수는 라인의 스타일을 설정합니다.\n",
    "\n",
    "5. 라벨, 제목, 범례 추가:\n",
    "   - `ax.set_xlabel()`을 사용하여 x축 레이블을 설정합니다.\n",
    "   - `ax.set_ylabel()`을 사용하여 y축 레이블을 설정합니다.\n",
    "   - `ax.set_title()`을 사용하여 그래프의 제목을 설정합니다.\n",
    "   - `ax.legend()`을 사용하여 범례를 추가합니다.\n",
    "\n",
    "6. 그래프 표시:\n",
    "   - `plt.show()`를 사용하여 그래프를 화면에 표시합니다.\n",
    "\n",
    "이 코드는 추천 시스템의 성능 평가 결과를 시각적으로 표현합니다. 각 임베더의 성능은 라인 플롯으로 표현되며, x축은 추천된 아이템의 개수(k)를 나타내고, y축은 평균 추천 점수(Average Rec. Promoted Score)를 나타냅니다. 서로 다른 색상, 선 스타일, 마커 스타일을 사용하여 각 임베더를 구분하여 표시합니다. 이를 통해 다양한 임베더의 성능을 비교하고 분석할 수 있습니다.\n",
    "\n",
    "----------\n",
    "\n",
    "코드 `model_avg_nps = {model: [entry[model][\"avg_nps\"] for entry in k_values] for model in models}`는 딕셔너리 컴프리헨션(dictionary comprehension)을 사용하여 각 임베더(추천 알고리즘)의 평균 NPS(Net Promoter Score) 값을 추출하고 저장하는 부분입니다. 이 코드를 자세히 설명하겠습니다.\n",
    "\n",
    "1. `models` 리스트:\n",
    "   - `models` 리스트는 임베더의 이름을 저장하고 있습니다.\n",
    "   - 이 리스트는 `k_values` 딕셔너리의 첫 번째 항목에서 임베더 이름을 추출하여 생성되었습니다.\n",
    "\n",
    "2. `for model in models`:\n",
    "   - 바깥쪽 루프는 `models` 리스트의 각 임베더를 반복합니다.\n",
    "   - 이 루프는 각 임베더에 대해 평균 NPS 값을 계산하고 저장할 것입니다.\n",
    "\n",
    "3. `[entry[model][\"avg_nps\"] for entry in k_values]`:\n",
    "   - 내부 리스트 컴프리헨션(list comprehension)은 `k_values` 리스트의 각 항목(`entry`)에 대해 반복합니다.\n",
    "   - 각 `entry`는 딕셔너리 형태로, 임베더 이름을 키로 하고 해당 임베더의 성능 평가 결과를 값으로 가지고 있습니다.\n",
    "   - `entry[model]`은 현재 반복 중인 임베더(`model`)에 해당하는 성능 평가 결과를 가져옵니다.\n",
    "   - `entry[model][\"avg_nps\"]`은 해당 임베더의 \"avg_nps\" 값을 추출합니다.\n",
    "   - 내부 리스트 컴프리헨션은 `k_values` 리스트의 모든 항목에 대해 현재 임베더의 \"avg_nps\" 값을 추출하여 리스트로 만듭니다.\n",
    "\n",
    "4. `{model: ... for model in models}`:\n",
    "   - 바깥쪽 딕셔너리 컴프리헨션은 `models` 리스트의 각 임베더에 대해 반복합니다.\n",
    "   - 각 임베더의 이름(`model`)을 키로 사용하고, 내부 리스트 컴프리헨션에서 계산된 해당 임베더의 \"avg_nps\" 값들의 리스트를 값으로 사용하여 딕셔너리를 생성합니다.\n",
    "\n",
    "5. `model_avg_nps` 딕셔너리:\n",
    "   - 최종적으로 `model_avg_nps` 딕셔너리가 생성됩니다.\n",
    "   - 이 딕셔너리의 키는 임베더 이름이고, 값은 해당 임베더의 \"avg_nps\" 값들의 리스트입니다.\n",
    "   - 예를 들어, `model_avg_nps[\"text-embedding-ada-002\"]`은 \"text-embedding-ada-002\" 임베더의 \"avg_nps\" 값들의 리스트를 가져옵니다.\n",
    "\n",
    "이 코드는 `k_values` 리스트에서 각 임베더의 \"avg_nps\" 값을 추출하여 `model_avg_nps` 딕셔너리에 저장합니다. 결과적으로 `model_avg_nps` 딕셔너리는 각 임베더의 이름을 키로 하고, 해당 임베더의 평균 NPS 값들의 리스트를 값으로 가지게 됩니다. 이 딕셔너리는 이후에 그래프를 그리는 데 사용됩니다.\n",
    "\n",
    "\n",
    "----------\n",
    "\n",
    "embedder_counts\n",
    "\n",
    "```JSON\n",
    "{\n",
    "    'text-embedding-ada-002': [0.8, 0.9, 0.7, 0.6, 0.9, 0.8, 0.7, 0.8, 0.9, 0.7, ...],\n",
    "    'text-embedding-3-small': [0.7, 0.8, 0.6, 0.5, 0.8, 0.7, 0.6, 0.7, 0.8, 0.6, ...],\n",
    "    'text-embedding-3-large': [0.75, 0.85, 0.65, 0.55, 0.85, 0.75, 0.65, 0.75, 0.85, 0.65, ...],\n",
    "    'paraphrase-distilroberta-base-v1': [0.6, 0.7, 0.5, 0.4, 0.7, 0.6, 0.5, 0.6, 0.7, 0.5, ...],\n",
    "    'anime_encoder': [0.5, 0.6, 0.4, 0.3, 0.6, 0.5, 0.4, 0.5, 0.6, 0.4, ...],\n",
    "    'anime_encoder_bigger': [0.55, 0.65, 0.45, 0.35, 0.65, 0.55, 0.45, 0.55, 0.65, 0.45, ...]\n",
    "}\n",
    "```\n",
    "\n",
    "k_values\n",
    "\n",
    "```JSON\n",
    "[\n",
    "    {\n",
    "        'text-embedding-ada-002': {'k': 1, 'avg_nps': 0.85, 'predictions_found_in_test_set': 1000},\n",
    "        'text-embedding-3-small': {'k': 1, 'avg_nps': 0.80, 'predictions_found_in_test_set': 950},\n",
    "        'text-embedding-3-large': {'k': 1, 'avg_nps': 0.83, 'predictions_found_in_test_set': 980},\n",
    "        'paraphrase-distilroberta-base-v1': {'k': 1, 'avg_nps': 0.78, 'predictions_found_in_test_set': 900},\n",
    "        'anime_encoder': {'k': 1, 'avg_nps': 0.75, 'predictions_found_in_test_set': 850},\n",
    "        'anime_encoder_bigger': {'k': 1, 'avg_nps': 0.76, 'predictions_found_in_test_set': 870}\n",
    "    },\n",
    "    {\n",
    "        'text-embedding-ada-002': {'k': 2, 'avg_nps': 0.87, 'predictions_found_in_test_set': 2000},\n",
    "        'text-embedding-3-small': {'k': 2, 'avg_nps': 0.82, 'predictions_found_in_test_set': 1950},\n",
    "        'text-embedding-3-large': {'k': 2, 'avg_nps': 0.85, 'predictions_found_in_test_set': 1980},\n",
    "        'paraphrase-distilroberta-base-v1': {'k': 2, 'avg_nps': 0.80, 'predictions_found_in_test_set': 1900},\n",
    "        'anime_encoder': {'k': 2, 'avg_nps': 0.77, 'predictions_found_in_test_set': 1850},\n",
    "        'anime_encoder_bigger': {'k': 2, 'avg_nps': 0.78, 'predictions_found_in_test_set': 1870}\n",
    "    },\n",
    "    ...\n",
    "]\n",
    "```\n",
    "\n",
    "model_avg_nps\n",
    "```JSON\n",
    "{\n",
    "    'text-embedding-ada-002': [0.85, 0.87, 0.89, 0.90, 0.91, 0.92, 0.93, 0.94, 0.95, 0.96],\n",
    "    'text-embedding-3-small': [0.80, 0.82, 0.84, 0.86, 0.88, 0.90, 0.91, 0.92, 0.93, 0.94],\n",
    "    'text-embedding-3-large': [0.83, 0.85, 0.87, 0.89, 0.90, 0.91, 0.92, 0.93, 0.94, 0.95],\n",
    "    'paraphrase-distilroberta-base-v1': [0.78, 0.80, 0.82, 0.84, 0.86, 0.88, 0.89, 0.90, 0.91, 0.92],\n",
    "    'anime_encoder': [0.75, 0.77, 0.79, 0.81, 0.83, 0.85, 0.87, 0.88, 0.89, 0.90],\n",
    "    'anime_encoder_bigger': [0.76, 0.78, 0.80, 0.82, 0.84, 0.86, 0.88, 0.89, 0.90, 0.91]\n",
    "}\n",
    "```"
   ]
  },
  {
   "cell_type": "code",
   "execution_count": null,
   "id": "ee16acc0",
   "metadata": {},
   "outputs": [],
   "source": [
    "import matplotlib.pyplot as plt\n",
    "\n",
    "# 데이터 추출\n",
    "models = list(k_values[0].keys())\n",
    "ks = [entry[models[0]][\"k\"] for entry in k_values]\n",
    "model_avg_nps = {model: [entry[model][\"avg_nps\"] for entry in k_values] for model in models}\n",
    "\n",
    "# 현대적인 스타일로 단일 그림 만들기\n",
    "plt.style.use('ggplot')\n",
    "fig, ax = plt.subplots(figsize=(10, 5))\n",
    "\n",
    "# 색맹 친화적인 색상, 선 스타일 및 마커 스타일을 정의합니다.\n",
    "colors = ['#0072B2', '#009E73', '#D55E00', '#CC79A7', '#EF79B2', '#A079B2', '#A0B222']\n",
    "line_styles = ['-', '--', '-.', ':', '--', ':', '-']\n",
    "marker_styles = ['o', 's', 'D', '^', '*', '+', 'D']\n",
    "\n",
    "# 각 모델에 대한 플롯 라인\n",
    "for idx, (model, avg_nps) in enumerate(model_avg_nps.items()):\n",
    "    ax.plot(ks, avg_nps, label=model, linewidth=2, marker=marker_styles[idx], linestyle=line_styles[idx], color=colors[idx])\n",
    "\n",
    "# 라벨, 제목, 범례 추가하기\n",
    "ax.set_xlabel('# of Recommendedtions shown to user')\n",
    "ax.set_ylabel('Average Rec. Promoted Score (scaled for rank)')\n",
    "ax.set_title('Performance of Embedders and k Values')\n",
    "ax.legend()\n",
    "\n",
    "# 그래프 표시\n",
    "plt.show()\n"
   ]
  },
  {
   "cell_type": "code",
   "execution_count": null,
   "id": "37c11eb7",
   "metadata": {
    "scrolled": true
   },
   "outputs": [],
   "source": [
    "model_avg_nps"
   ]
  },
  {
   "cell_type": "code",
   "execution_count": null,
   "id": "5ffa6f02-38f9-4d2b-995c-8b1ffbad3175",
   "metadata": {},
   "outputs": [],
   "source": [
    "pd.DataFrame(model_avg_nps)"
   ]
  },
  {
   "cell_type": "code",
   "execution_count": null,
   "id": "db7d9dce-b85d-40c4-aac4-7147b9d39fdf",
   "metadata": {},
   "outputs": [],
   "source": []
  }
 ],
 "metadata": {
  "kernelspec": {
   "display_name": "Python 3 (ipykernel)",
   "language": "python",
   "name": "python3"
  },
  "language_info": {
   "codemirror_mode": {
    "name": "ipython",
    "version": 3
   },
   "file_extension": ".py",
   "mimetype": "text/x-python",
   "name": "python",
   "nbconvert_exporter": "python",
   "pygments_lexer": "ipython3",
   "version": "3.10.13"
  }
 },
 "nbformat": 4,
 "nbformat_minor": 5
}
