{
 "cells": [
  {
   "cell_type": "code",
   "execution_count": 1,
   "id": "d2ef64a6-eedc-4ded-8e11-6488e97d263c",
   "metadata": {},
   "outputs": [],
   "source": [
    "import transformers\n",
    "import torch\n",
    "import os"
   ]
  },
  {
   "cell_type": "code",
   "execution_count": null,
   "id": "7b928307-1db7-451f-b1a6-cebe231e980d",
   "metadata": {},
   "outputs": [
    {
     "data": {
      "application/vnd.jupyter.widget-view+json": {
       "model_id": "80f33ab3bdd6449b895c45fe22bcfbb2",
       "version_major": 2,
       "version_minor": 0
      },
      "text/plain": [
       "Loading checkpoint shards:   0%|          | 0/4 [00:00<?, ?it/s]"
      ]
     },
     "metadata": {},
     "output_type": "display_data"
    },
    {
     "name": "stderr",
     "output_type": "stream",
     "text": [
      "Special tokens have been added in the vocabulary, make sure the associated word embeddings are fine-tuned or trained.\n"
     ]
    }
   ],
   "source": [
    "model_id = \"meta-llama/Meta-Llama-3-8B-Instruct\"\n",
    "\n",
    "pipeline = transformers.pipeline(\n",
    "    \"text-generation\",\n",
    "    model=model_id,\n",
    "    # model_kwargs={\"torch_dtype\": torch.bfloat16},\n",
    "    device=\"mps\",  # cpu, cuda\n",
    ")"
   ]
  },
  {
   "cell_type": "code",
   "execution_count": null,
   "id": "7dfa0de8-69b5-4ae5-8a42-73a275f418e7",
   "metadata": {},
   "outputs": [],
   "source": [
    "def chat(msg):\n",
    "  messages = [\n",
    "      {\"role\": \"system\", \"content\": \"Always answer in Korean\"},\n",
    "      {\"role\": \"user\", \"content\": msg},\n",
    "  ]\n",
    "\n",
    "  # if pipeline.model.config.pad_token_id is None:\n",
    "  #     pipeline.model.config.pad_token_id = pipeline.model.config.eos_token_id\n",
    "  # pipeline.model.config.pad_token_id = None\n",
    "\n",
    "  prompt = pipeline.tokenizer.apply_chat_template(\n",
    "          messages,\n",
    "          tokenize=False,\n",
    "          add_generation_prompt=True\n",
    "  )\n",
    "\n",
    "  terminators = [\n",
    "      pipeline.tokenizer.eos_token_id,\n",
    "      pipeline.tokenizer.convert_tokens_to_ids(\"<|eot_id|>\")\n",
    "  ]\n",
    "\n",
    "  outputs = pipeline(\n",
    "      prompt,\n",
    "      max_new_tokens=1024,\n",
    "      eos_token_id=terminators,\n",
    "      do_sample=True,\n",
    "      temperature=0.1,\n",
    "      top_p=0.9,\n",
    "  )\n",
    "  print(outputs[0][\"generated_text\"][len(prompt):])\n"
   ]
  },
  {
   "cell_type": "code",
   "execution_count": null,
   "id": "6f19417c-f813-4f2f-bd6c-678621119fe6",
   "metadata": {},
   "outputs": [],
   "source": [
    "def chat2(sysmsg, usermsg):\n",
    "  messages = [\n",
    "      {\"role\": \"system\", \"content\": sysmsg},\n",
    "      {\"role\": \"user\", \"content\": usermsg},\n",
    "  ]\n",
    "\n",
    "  # if pipeline.model.config.pad_token_id is None:\n",
    "  #     pipeline.model.config.pad_token_id = pipeline.model.config.eos_token_id\n",
    "  # pipeline.model.config.pad_token_id = None\n",
    "\n",
    "  prompt = pipeline.tokenizer.apply_chat_template(\n",
    "          messages,\n",
    "          tokenize=False,\n",
    "          add_generation_prompt=True\n",
    "  )\n",
    "\n",
    "  terminators = [\n",
    "      pipeline.tokenizer.eos_token_id,\n",
    "      pipeline.tokenizer.convert_tokens_to_ids(\"<|eot_id|>\")\n",
    "  ]\n",
    "\n",
    "  outputs = pipeline(\n",
    "      prompt,\n",
    "      max_new_tokens=1024,\n",
    "      eos_token_id=terminators,\n",
    "      do_sample=True,\n",
    "      temperature=0.1,\n",
    "      top_p=0.9,\n",
    "  )\n",
    "  print(outputs[0][\"generated_text\"][len(prompt):])\n"
   ]
  },
  {
   "cell_type": "code",
   "execution_count": null,
   "id": "b62907f4-b04f-4fe0-ab4a-547fbc027205",
   "metadata": {},
   "outputs": [],
   "source": [
    "# messages = [\n",
    "#     {\"role\": \"system\", \"content\": \"You are a pirate chatbot who always responds in pirate speak!\"},\n",
    "#     {\"role\": \"user\", \"content\": \"Who are you?\"},\n",
    "# ]\n",
    "\n"
   ]
  },
  {
   "cell_type": "code",
   "execution_count": null,
   "id": "70bd36e0-c94c-4d97-98e9-aa092b4d9e96",
   "metadata": {},
   "outputs": [],
   "source": [
    "chat(\"한국 여행지 추천\")"
   ]
  },
  {
   "cell_type": "code",
   "execution_count": null,
   "id": "01bd0bec-c9b6-410e-b48a-5b708b896a5e",
   "metadata": {},
   "outputs": [],
   "source": [
    "chat(\"어떤 능력을 가지고 있어?\")"
   ]
  },
  {
   "cell_type": "code",
   "execution_count": null,
   "id": "5caa9098-d1fc-4c41-b2a0-c21571f672a4",
   "metadata": {},
   "outputs": [],
   "source": [
    "chat(\"코딩 능력이 있어?\")"
   ]
  },
  {
   "cell_type": "code",
   "execution_count": null,
   "id": "28e1b1ca-c1b4-40e2-98b1-f3f1c3f30ddf",
   "metadata": {},
   "outputs": [],
   "source": [
    "chat2(\"You are an AI assistant for WebSquare AI, an enterprise web application development platform developed by inswave.\\nIf the question is not about WebSquare, Must politely inform them that you are tuned to only answer questions about WebSquare.\\nGenerate a comprehensive and informative answer for the given question based solely on the provided search results (URL and content). You must only use information from the provided search results. Use an unbiased and journalistic tone. Combine search results together into a coherent answer. Do not repeat text. Cite search results using [number] notation. Do NOT use like [1, 2, 3]. Only cite the most relevant results that answer the question accurately. Place these citations at the end of the sentence or paragraph that reference them - do not put them all at the end. If different results refer to different entities within the same name, write separate answers for each entity.\\n\\nYou should use bullet points in your answer for readability. Put citations where they apply\\nrather than putting them all at the end.\\n\\nIf there is nothing in the context relevant to the question at hand, just say \\\"잘 모르겠습니다.\\\" Don't try to make up an answer.\\nIf a question is a word such as \\\"input\\\" and \\\"button\\\", it means component related to WebSquare, not a general html component.\\nFor example, \\\"input\\\" means \\\"inputBox\\\".\\n\\nYou should answer in Korean.\\n\\nThe output should be formatted as a Markdown document that conforms to the Markdown document below.\\n\\nHere is the output:\\n```\\n# {질문한 내용}에 대해 알려드릴께요.\\n\\n${Response}\\n```\\nor \\n```\\n# 질문하신 내용을 잘 모르겠습니다.\\n\\n${Response}\\n```\\n\\nAnything between the following `context`  html blocks is retrieved from a knowledge bank, not part of the conversation with the user. \\n\\n\\n<context>\\n    <doc id='1'>1 DataCollection\\n정의 브라우저의 메모리에 할당되는 JavaScript 데이터 객체. DataCollection DataCollection 은 다양한 종류의 방대한 데이터를 웹 브라우저에서 쉽게 제어하기 위해 WebSquare5가 사용하는 데이터 모델.\\n종류 DataMap: 단건 데이터 객체 DataList: 다건 데이터 객체 LinkedDataList: DataList 객체에 Filter/Sort를 적용한 결과\\n모델\\t설명\\ndataMap\\tkey/value 형태의 단일 데이터로 구성된 객체\\ndataList\\t리스트 형태의 다건의 데이터로 구성된 객체\\nlinkedDataList\\tdataList를 필터링/정렬한 후, 그 결과만 제공\\n기능 서버에 전달할 데이터 규격을 정의 (Reference) 서버로 부터 받을 데이터 규격을 정의 (Target)\\n브라우저와 서버 간의 통신은 DataCollection 데이터 모델과 Submission을 통해 설정합니다.\\n주요 용도 화면에서 사용하고자 하는 임시 데이터 UI컴포넌트와 연동 서버로 부터 받은 단일형(DataMap) 혹은 목록형(DataList) 데이터를 브라우저에 출력 웹 브라우저로부터 원격의 서버에 존재하는 데이터를 (추가, 삭제, 편집 등) 관리할 수 있는 인터페이스 제공\\n특징 DataCollection은 XML 구조와 XPath에 대한 이해 없이도 데이터 구조를 이해할 수 있는 직관적인 인터페이스를 제공. DataCollection 뷰에서 설정한 DataCollection의 코드는 Source 탭에 자동 생성됨. 각 데이터 객체의 id는 필수값. JSON, XML, JSON Array포맷으로 설정(set)하거나 또는 반환(get) 받을 수 있다.(LinkedDataList는 반환만 가능.) 초기값을 정의할 수 있다. (LinkedDataList 제외) 동적(Script)으로 생성 가능. 데이터의 상태(추가/수정/삭제)값을 관리.\\n예제 파일 인터넷에서 다운로드 혹은 WEBSQUARE_DEV_PACK의 GUIDE 프로젝트에서 보기 ( /_DataCollection/dataList_dataMap_linkedDataList.xml )\\nYouTube 동영상(https://youtu.be/bGIxYMKQlCA)\\n2 DataMap DataMap\\n아래는 개발자가 DataCollection 뷰에서 DataMap을 생성할 때 Source 탭에 자동 생성되는 코드입니다. 아래의 예에서 key/value 형태의 데이터 \\\"이름/홍길동, 주소/서울시 구로구, 이메일/user2@mail.com\\\" 한 건 존재합니다.\\nDataMap <head> <xf:model> <w2:dataCollection baseNode = \\\"map\\\" > <w2:dataMap id = \\\"dataMap1\\\" baseNode = \\\"userInfo\\\" > <w2:keyInfo> <w2:key id = \\\"name\\\" name = \\\"이름\\\" dataType = \\\"text\\\" / > <w2:key id = \\\"addr\\\" name = \\\"주소\\\" dataType = \\\"text\\\" / > <w2:key id = \\\"email\\\" name = \\\"이메일\\\" dataType = \\\"text\\\" / > </w2:keyInfo> <w2:data use = \\\"true\\\" > <name>홍길동2</name> <addr>서울시 구로구</addr> <email>user2@mail.com</email> </w2:data> </w2:dataMap> </w2:dataCollection> </xf:model> </head>\\n하위노드\\t설명\\n<w2:keyInfo>\\tkey 정보\\n<w2:key>\\tkey 값\\nid\\tID고유값get/set은 사용할 수 없습니다.\\nname\\tkey 이름\\ndataType\\t데이터 타입 (number, text, date)기본값: text\\n<w2:data>\\t실제 데이터\\nuse\\ttrue: 입력된 데이터를 실제 초기값으로 사용false: WebSquare5 Studio의 Design 탭에만 입력된 데이터를 표시함.\\n데이터\\t각각의 키에 대한 값을 입력합니다.\\n2.1 생성\\n1. Outline–Head뷰를 선택합니다.\\n2. DataCollection을 우클릭한 후,DataMap을 선택합니다.\\nDataMap 추가\\n1. 아래와 같은 창이 표시되면, 행 추가 버튼을 클릭하여 Key 정보를 입력합니다. (이미 데이터가 존재할 경우 복사하기-붙여넣기를 하십시오.)\\nDataMap 정의\\n1. 데이터 통신 없이 브라우저에 기본값을 표시할 경우Data탭을 선택한 후use data옆의 첫번째 버튼을 클릭합니다.\\n1. 데이터 통신 없이 브라우저에 기본값을 표시할 경우use data를 선택하고, Key 정보에 따라 데이터를 입력합니다.\\n1. DataMap에 정의된 형태의 데이터를 출력할 화면을 Design 탭에서 구성합니다.\\n2. Key Info부분에서 Key를 클릭한 후 해당 Key의 바인딩할 컴포넌트로 드래그-앤-드롭합니다.\\n3. 바인딩된 컴포넌트에 초록색 표시가 나타나는지 확인합니다.\\n바인딩\\n1. 미리 보기 버튼을 클릭합니다.\\n2. 위의 6 ~ 8 단계에서 입력한 데이터가 표시되는지 확인합니다.\\n실행 화면\\n예제 파일 인터넷에서 다운로드 혹은 WEBSQUARE_DEV_PACK의 GUIDE 프로젝트에서 보기 ( /$p/Submission/executeSubmission_$p_DataMap/ )\\nYouTube 동영상(https://youtu.be/pyXekdDpfOI)\\n2.2 이벤트\\nonbeforemodelchange\\nonbeforemodelchange 이벤트는 데이터 값이 변경되기 직전에 발생하며, rowIndex , colID , oldValue , newValue 값을 JSON 형식으로 받습니다. 이벤트 핸들러가 false 를 반환하면, 데이터 변경을 취소하고 예전 값으로 돌아가고, 이외의 경우에는 입력된 값으로 데이터가 변경됩니다.\\n이벤트 핸들러 예시 scwin.dataMap1_onbeforemodelchange = function (info) { if (info.newValue == \\\"No_Use\\\" ) { return false ; } else { return true ; } };\\n예제 파일 인터넷에서 다운로드 혹은 WEBSQUARE_DEV_PACK의 GUIDE 프로젝트에서 보기 ( /_DataCollection/onbeforemodelchange_DataMap.xml )\\nYouTube 동영상(https://youtu.be/ZQtSdorGgBk)\\nonkeyset\\nonkeyset 이벤트는 set() 함수를 사용하여 특정 key 의 값을 변경할 때 발생하며, 해다 key 와, 이전 값, 그리고 새로 변경되는 값을 반환합니다.\\n이벤트 핸들러 예시 scwin.dataMap1_onbeforemodelchange = function (info) { if (info.newValue == \\\"No_Use\\\" ) { return false ; } else { return true ; } };\\n예제 파일 인터넷에서 다운로드 혹은 WEBSQUARE_DEV_PACK의 GUIDE 프로젝트에서 보기 ( /_DataCollection/onkeyset_DataMap.xml )\\nYouTube 동영상(https://youtu.be/Oa7-zFv_BxM)\\n3 DataList\\n아래는 개발자가 DataCollection 뷰에서 DataList을 생성할 때 Source 탭에 자동 생성되는 코드입니다. 아래 예에서 \\\"이름, 주소, 이메일\\\" 칼럼에 대해 \\\"홍길동, 서울시 구로구, user2@mail.com\\\"와 \\\"이태백, 서울 강남구, user2@mail.com\\\" 두 건의 데이터 존재합니다.</doc>\\n<doc id='2'>유형: method\\n\\ndescription: enableColumn 속성을 동적으로 설정.<br />enableColumn 속성으로 설정된 컬럼은 AutoComplete와 바인딩된 DataList의 컬럼 중 선택 항목으로의 disable 여부에 대한 설정 값을 가지고 있음.<br />enableColumn 속성은 AutoComplete의 선택 항목 목록 중 특정 항목을 disable 시키기 위한 용도로 사용됨.<br />selectedIndex는 영향을 받지 않고 항상 전체 목록을 기준으로 동작.\\n<xmp  class='js sample'>(관련 속성)  \\n enableColumn\\n enableColumnFalseValue</xmp>\\n\\nnecessary: nan\\n\\nparameter: columnId\\tString\\tY\\tenableColumn으로 설정할 컬럼의 ID. (disable 시킬 항목에 대한 데이터를 가지고 있는 컬럼)\\nenableColumnFalseValue\\tString\\tN\\t목록을 disable 시키기 위한 조건에 해당하는 값.\\n\\nreturn: \\t\\n\\nexception: nan\\n\\nsample: <xmp  class='js sample'>// AutoComplete는 DataList와 바인딩되어 있음.\\nautoComplete1.setEnableColumn(col3, false);\\n// (실행 결과) DataList에서 col3 컬럼의 값을 false로 갖는 행은 AutoComplete의 선택 목록에 disable 처리되어 표시됨.</xmp>\\n\\noptions: nan\\n\\neventType: nan</doc>\\n<doc id='3'><script>\\nWebSquare 퀵 가이드입니다. DataList, DataMap, 그리고 LinkedDataList를 생성하는 방법에 대해 알아보겠습니다. 이 비디오는 DataCollection으로 통칭되는 DataMap과 DataList, 그리고 LinkedDataList를 생성하고 확인하는 방법을 설명합니다.예제를 통해 확인해 보겠습니다. 새로운 WebSquare 페이지를 생성하십시오. 파일 명을 입력하고, Finish 버튼을 클릭합니다. 브라우저에서 확인해 보겠습니다.Ctrl 버튼을 누르고 마우스 우 클릭한 후, View DataCollection 메뉴를 선택하십시오. 빈 페이지이기 때문에 아무것도 표시되지 않습니다. 하단의 DataCollection 뷰를 클릭하거나, Outline 뷰의 Head 탭을 선택하십시오. DataCollection을 우 클릭한 후 DataList를 선택합니다. DataList ID가 자동 생성됩니다. Change ID 버튼을 클릭하여 원하는 ID를 입력하십시오. 행 추가 버튼을 클릭하여 DataList의 컬럼을 추가합니다. 컬럼 정보를 입력합니다. Data 탭을 선택합니다. Use Data 옵션을 선택하면 로컬에서 정의한 데이터를 사용할 수 있습니다. 데이터를 추가할 행들을 생성합니다. 데이터를 추가하십시오. DataList는 다 건 데이터를 등록할 수 있습니다. 적용 및 닫기 선택 후, 페이지를 저장합니다. 화면을 다시 로딩합니다. Ctrl 키를 누른 채로 마우스 우 클릭합니다. 디버깅 메뉴가 나타나면 View DataCollection을 선택합니다. 앞에서 추가한 DataList가 표시됩니다.해당 DataList에 설정한 데이터도 출력됩니다. 각 컬럼 별 데이터와 함께 rowStatus 항목이 추가로 표시됩니다. JSON 외에도 XML 형식, 하이라이트를 적용한 XML 형식, 혹은 Array 형식으로도 확인할 수 있습니다. 이제 DataMap을 추가해 보겠습니다. DataCollection을 우클릭한 후 DataMap을 클릭하십시오. 행 추가 버튼으로 키를 추가합니다. 키 정보를 입력합니다.로컬에 데이터를 정의하기 위해 Data 탭에서 Use Data 옵션을 선택합니다. 행 추가 버튼을 클릭하면, 앞에서 추가한 키 목록이 표시됩니다. 키의 개수만큼 행을 추가하고, 각 행마다 사용할 키를 따로 지정합니다. 각 키에 해당하는 키 값을 입력하십시오. 본 예제의 경우 Country는 Canada, Capital의 Ottawa, 그리고 Continent는 America로 입력하겠습니다. DataMap은 단 건 데이터만 등록할 수 있습니다. 적용 및 닫기를 선택합니다. 저장합니다. 화면을 다시 로딩합니다. 디버깅 메뉴 목록에서 View DataCollection을 선택하십시오. 앞에서 추가한 DataMap의 데이터를 확인할 수 있습니다. DataList의 경우 rowStatus 항목이 추가로 표시되었지만, DataMap은 그렇지 않습니다. DataMap 데이터는 XML, 하이라이트된 XML, 그리고 Array 형식으로 확인할 수 있습니다. 마지막으로, DataCollection을 우 클릭하고 LinkedDataList 추가 메뉴를 선택하십시오. ID가 자동 생성됩니다. Change ID를 클릭하여 ID를 변경할 수 있습니다. 적용 및 닫기를 선택합니다. Head 탭에서 추가한 LinkedDataList를 선택한 후, 상단의 Properties 탭으로 이동합니다. bind 속성값으로 링크할 DataList의 ID를 선택하십시오. 앞에서 만든 DataList를 선택하겠습니다. 다시 Head 탭에서 LinkedDataList를 더블 클릭합니다. 바인드한 DataList의 컬럼의 표시됩니다. Data 탭에서는 데이터를 확인할 수 있습니다. 링크한 DataList로부터 Continent 값이 \\\"Asia\\\"인 데이터만 필터링해보겠습니다. Filter Condition 항목에 조건식을 입력하십시오. Continent 컬럼의 값이 \\\"Asia\\\"인 데이터만 LinkedDataList에 설정되어야 합니다 적용 및 닫기를 클릭합니다. 저장합니다. 화면을 다시 로딩합니다. 디버깅 메뉴를 불러오고, View Collection 메뉴를 선택합니다. 해당 LinkedDataList를 조회하면 Continent가 \\\"Asia\\\"인 데이터만 표시되는 것을 확인할 수 있습니다 .또한, rowStatus 항목도 추가로 표시되는 것을 볼 수 있습니다. DataMap에서는 rowStatus는 표시되지 않습니다. LinkedDataList 역시 다양한 형식으로 조회할 수 있습니다. WebSquare 퀵 가이드를 시청해 주셔서 감사합니다. \\n</script></doc>\\n<doc id='4'>유형: method\\n\\ndescription: visibleColumn 속성을 동적으로 설정.<br />visibleColumn 속성으로 설정된 컬럼은 AutoComplete와 바인딩된 DataList의 컬럼 중 선택 항목으로의 표시 여부에 대한 설정 값을 가지고 있음.<br />visibleColumn 속성은 AutoComplete의 선택 항목 목록 중 특정 항목을 감추기 위한 용도로 사용됨.<br />selectedIndex는 영향을 받지 않고 항상 전체 목록을 기준으로 동작.\\n<xmp  class='js sample'>(관련 속성)  \\n visibleColumn\\n visibleColumnFalseValue</xmp>\\n\\nnecessary: nan\\n\\nparameter: columnId\\tString\\tY\\tvisibleColumn으로 설정할 컬럼의 ID. (감출 항목에 대한 데이터를 가지고 있는 컬럼)\\nvisibleColumnFalseValue\\tString\\tN\\t목록을 감추기 위한 조건에 해당하는 값.\\n\\nreturn: \\t\\n\\nexception: nan\\n\\nsample: <xmp  class='js sample'>// AutoComplete는 DataList와 바인딩되어 있음.\\nautoComplete1.setVisibleColumn(col3, false);\\n// (실행 결과) DataList에서 col3 컬럼의 값을 false로 갖는 행은 AutoComplete의 선택 목록에 표시되지 않음.</xmp>\\n\\noptions: nan\\n\\neventType: nan</doc>\\n<doc id='5'><script>\\n웹스퀘어 퀵 가이드입니다.  LinkedDataList에 대해 알아보겠습니다.본 비디오는, LinkedDataList의 기능과 WebSquare가 권장하는 LinkedDataList의 사용방법을 설명합니다.LinkedDataList는 이미 존재하는 DataList와 바인딩되고, 바인딩된 DataList의 데이터를 필터링하거나 정렬해서 사용할 수 있는 기능을 제공합니다.LinkedDataList는 아래의 컴포넌트와 바인딩할 수 있습니다. AutoComplete, CheckBox, CheckComboBox, MultiSelect, Radio, 그리고 , SelectBox입니다.\\n 예제를 통해 확인해 보겠습니다.상단에 위치한 GridView는 dataList1과 바인딩되어 있습니다. 그리고 하단에는 AutoComplete, CheckBox, CheckComboBox, MultiSelect, Radio, 그리고 SelectBox가 있습니다. 브라우저에서의 모습입니다. 상단의 GridView는 dataList1과 바인딩되어, 각 컬럼의 모든 데이터를 표시합니다.하단에 위치한 첫번째 컴포넌트인, AutoComplete는 linkedDataList1과 바인딩되어 있고, linkedDataList1은 dataList1의 데이터 중 COUNTRY 값이 USA인 데이터만 사용하고, 그 결과 AutoComplete는 COUNTRY가 USA인 도시만 선택 목록에 표시하는 것을 확인할 수 있습니다.두번째로 CheckBox를 더블클릭하면, CheckBox는 linkedDataList2와 바인딩되어 있고, linkedDataList2는 dataList1의 데이터 중 COUNTRY 값이 FRANCE인 데이터만 사용하고, 그 결과 CheckBox는 COUNTRY가 FRANCE인 도시만 선택 목록에 표시합니다.세번째 CheckComboBox는 linkedDataList3와 바인딩되어 있고, linkedDataList3는 dataList1의 데이터 중 COUNTRY 값이 CHINA인 데이터만 사용하고, 그 결과 COUNTRY가 CHINA인 도시만 선택 목록에 표시됩니다.네번째 MultiSelect는 linkedDataList4와 바인딩되어 있고,linkedDataList4는 dataList1의 데이터 중 COUNTRY 값이 AUSTRALIA인 데이터만 사용하고, 그 결과 MultiSelect는 COUNTRY가 AUSTRALIA인 도시만 선택 목록에 표시합니다.다섯번째 Radio는 linkedDataList5와 바인딩되어 있고,linkedDataList5는 dataList1의 데이터 중 COUNTRY 값이 CAMBODIA인 데이터만 사용하고, 그 결과 Radio는 COUNTRY가 CAMBODIA인 항목만 선택 목록에 표시합니다.여섯번째 SelectBox는 linkedDataList6와 바인딩되어 있고, linkedDataList6는 dataList1의 데이터 중 COUNTRY 값이 KOREA인 데이터만 사용하고,그 결과 SelectBox는 COUNTRY가 KOREA인 도시만 선택 목록에 표시합니다.이와 같이, LinkedDataList는 선택 목록을 제공하는 컴포넌트와 바인딩할 때, 사용할 것을, 권장합니다.즉, LinkedDataList는 AutoComplete,CheckBox, CheckComboBox,MultiSelect, Radio, 그리고그리고 SelectBox의 선택 항목을 바인딩할 때 사용하십시오.웹스퀘어 퀵 가이드를 시청해 주셔서\\n감사합니다\\n</script></doc>\\n<doc id='6'>유형: method\\n\\ndescription: enableColumn 속성을 동적으로 설정.<br />enableColumn 속성으로 설정된 컬럼은 Checkbox와 바인딩된 DataList의 컬럼 중 선택 항목으로의 disable 여부에 대한 설정 값을 가지고 있음.<br />enableColumn 속성은 Checkbox의 선택 항목 목록 중 특정 항목을 disable 시키기 위한 용도로 사용됨.<br />selectedIndex는 영향을 받지 않고 항상 전체 목록을 기준으로 동작.\\n<xmp  class='js sample'>(관련 속성)  \\n enableColumn\\n enableColumnFalseValue</xmp>\\n\\nnecessary: nan\\n\\nparameter: columnId\\tString\\tY\\tenableColumn으로 설정할 컬럼의 ID. (disable 시킬 항목에 대한 데이터를 가지고 있는 컬럼)\\nenableColumnFalseValue\\tString\\tN\\t목록을 disable 시키기 위한 조건에 해당하는 값.\\n\\nreturn: \\t\\n\\nexception: nan\\n\\nsample: <xmp  class='js sample'>// Checkbox는 DataList와 바인딩되어 있음.\\ncheckbox1.setEnableColumn(col3, false);\\n// (실행 결과) DataList에서 col3 컬럼의 값을 false로 갖는 행은 Checkbox의 선택 목록에 disable 처리되어 표시됨.</xmp>\\n\\noptions: nan\\n\\neventType: nan</doc>\\n<doc id='7'><title>\\nDataList - ondataload | DataList | WebSquare5 - Quick Guide\\n</title>\\n\\n<description>\\nDataList의 데이터가 새로 설정되거나 추가될 때 발생.\\nsample_name: /_DataCollection/ondataload_DataList/\\nsample_download_link: https://inswave.com/confluence/download/attachments/17110086/ondataload_DataList.zip?version=1&modificationDate=1652850503142&api=v2\\n</description>\\n\\n<script>\\nWebSquare 퀵 가이드입니다. DataList의 ondataload 이벤트에 대해 알아보겠습니다.본 비디오의 목적은 DataList에 데이터가 설정되거나 혹은 추가될 때 발생하는 DataList의 ondataload 이벤트를 DataList에 직접 추가하고, 해당 이벤트가 발생할 때 실행할 함수를 정의하는 것입니다.DataList의 ondataload 이벤트를 직접 추가해보겠습니다.그리고 DataList에서 ondataload 이벤트가 발생할 경우 \\\"Loading done.\\\"이라는 메세지를 출력하는 ondataload 이벤트 핸들러 함수를 작성해 보겠습니다.예제를 통해 확인해 보겠습니다. GridView입니다.\\\"dataList1\\\"과 바인딩되어 있습니다.Outline 뷰의 Head 탭에서 해당 DataList를 선택하면 Property 뷰의 Event 탭에 추가 가능한 이벤트가 표시됩니다.혹은 DataList를 우클릭해도 이벤트를 추가할 수 있습니다.Script 탭에 추가한 이벤트에 대한 함수를 정의할 코드가 자동 생성됩니다.\\\"Loading done.\\\"이라는 메세지를 표시하도록 이벤트 함수를 정의하겠습니다.저장 후 화면을 다시 로딩합니다. GridView와 바인딩된 DataList에 데이터가 로딩되면서 정의한 메세지가 표시되는 것을 확인할 수 있습니다.WebSquare 퀵 가이드를 시청해 주셔서 감사합니다. \\n</script></doc>\\n<doc id='8'>유형: method\\n\\ndescription: visibleColumn 속성을 동적으로 설정.<br />visibleColumn 속성으로 설정된 컬럼은 Checkbox와 바인딩된 DataList의 컬럼 중 선택 항목으로의 표시 여부에 대한 설정 값을 가지고 있음.<br />visibleColumn 속성은 Checkbox의 선택 항목 목록 중 특정 항목을 감추기 위한 용도로 사용됨.<br />selectedIndex는 영향을 받지 않고 항상 전체 목록을 기준으로 동작.\\n<xmp  class='js sample'>(관련 속성)  \\n visibleColumn\\n visibleColumnFalseValue</xmp>\\n\\nnecessary: nan\\n\\nparameter: columnId\\tString\\tY\\tvisibleColumn으로 설정할 컬럼의 ID. (감출 항목에 대한 데이터를 가지고 있는 컬럼)\\nvisibleColumnFalseValue\\tString\\tN\\t목록을 감추기 위한 조건에 해당하는 값.\\n\\nreturn: \\t\\n\\nexception: nan\\n\\nsample: <xmp  class='js sample'>// Checkbox는 DataList와 바인딩되어 있음.\\ncheckbox1.setVisibleColumn(col3, false);\\n// (실행 결과) DataList에서 col3 컬럼의 값을 false로 갖는 행은 Checkbox의 선택 목록에 표시되지 않음.</xmp>\\n\\noptions: nan\\n\\neventType: nan</doc> \\n<context/>\\n\\nREMEMBER: If there is no relevant information within the context, Don't try to make up an answer. Anything between the preceding 'context' html blocks is retrieved from a knowledge bank, not part of the conversation with the user.You should answer in Korean.\",\n",
    "      \"Datalist에 대해서 알려줘\")\n",
    "\n",
    "\"\"\"\n",
    "gpt-3.5-turbo\n",
    "\n",
    "# DataList에 대해 알려드릴께요.\n",
    "\n",
    "- DataList는 DataCollection 데이터 모델에서 다건의 데이터 객체로 구성된 객체입니다. \n",
    "- DataList은 여러 개의 데이터를 한꺼번에 관리하고 출력할 수 있는 기능을 제공합니다.\n",
    "- DataList은 DataMap과 LinkedDataList와 함께 WebSquare5에서 사용되며, DataMap은 단일 데이터 객체를, LinkedDataList는 DataList 객체에 Filter/Sort를 적용한 결과를 나타냅니다[1].\n",
    "- DataList을 생성하려면 DataCollection 뷰에서 DataList를 추가하고, 컬럼을 정의하여 데이터를 입력해야 합니다[3].\n",
    "- DataList의 데이터가 새로 설정되거나 추가될 때 발생하는 이벤트인 ondataload 이벤트를 활용할 수 있습니다. 이 이벤트는 DataList에 데이터가 로딩될 때 특정 동작을 수행할 수 있도록 합니다[7].\n",
    "\n",
    "더 자세한 내용을 원하시면 아래 링크를 참고하시기 바랍니다.\n",
    "- [DataList - ondataload | DataList | WebSquare5 - Quick Guide](https://inswave.com/confluence/download/attachments/17110086/ondataload_DataList.zip?version=1&modificationDate=1652850503142&api=v2) [7]\n",
    "\n",
    "\"\"\""
   ]
  },
  {
   "cell_type": "code",
   "execution_count": null,
   "id": "c8f674e7-1971-487a-97e4-51db934c532f",
   "metadata": {},
   "outputs": [],
   "source": [
    "chat2(\"You are an AI assistant for WebSquare AI, an enterprise web application development platform developed by inswave.\\nIf the question is not about WebSquare, Must politely inform them that you are tuned to only answer questions about WebSquare.\\nGenerate a comprehensive and informative answer for the given question based solely on the provided search results (URL and content). You must only use information from the provided search results. Use an unbiased and journalistic tone. Combine search results together into a coherent answer. Do not repeat text. Cite search results using [number] notation. Do NOT use like [1, 2, 3]. Only cite the most relevant results that answer the question accurately. Place these citations at the end of the sentence or paragraph that reference them - do not put them all at the end. If different results refer to different entities within the same name, write separate answers for each entity.\\n\\nYou should use bullet points in your answer for readability. Put citations where they apply\\nrather than putting them all at the end.\\n\\nIf there is nothing in the context relevant to the question at hand, just say \\\"잘 모르겠습니다.\\\" Don't try to make up an answer.\\nIf a question is a word such as \\\"input\\\" and \\\"button\\\", it means component related to WebSquare, not a general html component.\\nFor example, \\\"input\\\" means \\\"inputBox\\\".\\n\\nYou should answer in Korean.\\n\\nThe output should be formatted as a Markdown document that conforms to the Markdown document below.\\n\\nHere is the output:\\n```\\n# {질문한 내용}에 대해 알려드릴께요.\\n\\n${Response}\\n```\\nor \\n```\\n# 질문하신 내용을 잘 모르겠습니다.\\n\\n${Response}\\n```\\n\\nAnything between the following `context`  html blocks is retrieved from a knowledge bank, not part of the conversation with the user. \\n\\n\\n<context>\\n    <doc id='1'>gridView에서 다운로드한 Excel 파일의 셀 표시 형식 지정 1. gridView cell 속성 excelCellType 지정 2. gridView 엑셀 다운로드 옵션 var options = { useDataFormat: true, 에 따라 Excel 파일에 표시 형식을 출력 useSubTotal: true, 다운로드시 SubTotal을 출력 할지 여부 useFooter: true 다운로드시 Footer을 출력 할지 여부 }; gridView advancedExceldown(options); *엑셀 파일 셀 표시 형식 화면 excelCellType_gridView_column.xml</doc>\\n<doc id='2'>본 샘플은 웹스퀘어5 SP4 버전에 최적화되어 있습니다 $p.multipleExcelDownload API 를 이용하여 그리드뷰를 엑셀 sheet 별로 엑셀 다운로드 합니다 SP3 이하 버전은 WebSquare.util.multipleExcelDownload API 를 이용합니다 요건 여러개의 그리드를 하나의 엑셀에 시트로 나누어 다운로드 하는 방법 해결책 ? scwin.downloadMultiGridviewExcel = function() { var options = { common: { fileName : \\\"multi_gridview_excel_download.xlsx\\\", showProcess : true, printSet : { landScape : \\\"true\\\", fitToPage : \\\"true\\\", fitWidth : \\\"4\\\", fitHeight : \\\"333\\\", scale : \\\"222\\\" } }, excelInfo: [ { gridId : \\\"gridView1\\\", sheetName : \\\"gridView1_sheet\\\", type : \\\"1\\\",  removeColumns : \\\"0,2\\\", foldColumns : \\\"4\\\", startRowIndex : 2, startColumnIndex : 0, headerColor : \\\"#FFC81E\\\", bodyColor : \\\"#FDF5E6\\\", infoArr : [{ rowIndex : 0, colIndex : 0, rowSpan : 2, colSpan : 2, text : \\\"Grid1 Data\\\", textAlign : \\\"center\\\" }] }, { gridId : \\\"gridView2\\\", sheetName : \\\"gridView2_sheet\\\", type : \\\"1\\\", rowsByN : \\\"10000\\\", removeColumns : \\\"\\\", foldColumns : \\\"4\\\", startRowIndex : 2, startColumnIndex : 0, headerColor : \\\"#FFC81E\\\", bodyColor : \\\"#FDF5E6\\\", infoArr : [{ rowIndex : 0, colIndex : 0, rowSpan : 2, colSpan : 2, text : \\\"Grid2 Data\\\", textAlign : \\\"center\\\" }] } ] };  multipleExcelDownload 함수를 이용해서 options에 정의된 GridView 를 엑셀 파일로 다운로드 한다. $p.multipleExcelDownload( options ); }; scwin.trigger5_onclick = function(e) { scwin.downloadMultiGridviewExcel(); }; 샘플파일 gridview_multi_excel_down.xml</doc>\\n<doc id='3'>1. 요건 : 탭별로 적용된 1개의 그리드를 시트별로 provider를 이용한 다운로드 1) 그리드뷰에 데이터 셋팅 2) 그리드뷰 다운로드 버튼을 이용하여 그리드 다운로드 2. 주의사항 1) 해당 탭은 WFrame형태로 구현되어 있어서 그리드별 아아디를 조회할 수 있음 2) IFrame형식으로 그리드를 다운로드는 가능하지 않음 3) provider형태의 멀티다운로드와 provider를 구현하지 않아도 동작은 가능( 단 소수의 데이터 다운로드 시 4) SP2엔진 샘플 URL : GridVeiwMultiDownSample.xml Grid1.xml Grid2.xml provider구현 클래스 : SampleProvider.java 5) SP3엔진 샘플 url : GridVeiwMultiDownSample1.xml 참고사항) SP3엔진에서는 config.xml에 default로 stricMode는 true이고 wframe의 scope이 true모드로 설정되어 각각 false로 변경해야 SP2엔진에서 사용하는 ID로 접근이 가능함 SP3엔진 config.xml 기본설정값 : <strictMode id=\\\"mf\\\" value=\\\"true\\\"/>, <wframe><mode value=\\\"sync\\\"/><scope value=\\\"true\\\"/><> 4번의 샘플소스를 아래와 같이 변경하여 사용하면 config.xml 변경없이 SP3엔진에서 SP2에서 작성한 샘플소스를 사용할수 있음 ?  SP2엔진사용(AS-IS) .multiDown(\\\"gridView1\\\",\\\"gridView2\\\"); 엔진 사용(TO-BE) scwin.multiDown(tabControl.getWindow( \\\"tabs1\\\" ).gridView1.id, tabControl.getWindow( \\\"tabs2\\\" ).gridView2.id);</doc>\\n<doc id='4'>- [웹스퀘어5 SP5 개발 가이드] GridView → Excel 다운로드링크 :https://docs1.inswave.com/sp5_user_guide/bc10c1b82c9a2a0b#9fb910628c27d550\\n- [웹스퀘어5 SP5 개발 가이드] Excel 파일 스타일 설정링크 :https://docs1.inswave.com/sp5_user_guide/bc10c1b82c9a2a0b#7a3bda36f7d0b2e6</doc>\\n<doc id='5'>[gridView] 다중 subTotal을 사용하여 소계 표현하는 방법 [gridView] 멀티 그리드뷰 엑셀다운로드 [gridView] 브라우저</doc>\\n<doc id='6'>문제 데이터리스트에서 dataType=\\\"number\\\" 이고 그리드뷰 displayFormat=\\\"#.##\\\" 로 사용할 경우 엑셀다운로드시 1의 자리 0이 표시되지 않는다 해결책 엑셀다운로드시 서식은 #.## 으로 동일하게 내려오지만, 이를 처리하는 방식이 그리드뷰와는 일부 차이가 있다. 그리드뷰에서 아래와 같이 서식을 지정할 경우 엑셀에서도 0이 잘 표시된다. <w2:column blockSelect=\\\"false\\\" id=\\\"col2\\\" style=\\\"height:20px\\\" inputType=\\\"text\\\" width=\\\"70\\\" defaultValue=\\\"\\\" dataType=\\\"number\\\" displayFormat=\\\" #,##0.## \\\" displayFormatter=\\\"\\\" disabledClass=\\\"\\\"> <:column></doc>\\n<doc id='7'>모두 접기 모두 펼치기 모두 접기 [config] config.xml 파일명 변경 방법 [css] css 파일 동적 변경시 이슈 [editor] ckEditor4.5.11 미만 버젼 보안취약성 관련 대응방안 [Editor] menubar = 'default'일 때 이미지 업로드 버튼 [fusionChart] addLine이 dataPlot위로 오게 하는방법 및 dataPlot특정값이상 일때 색상 지정하는 방법 [fusionChart] 숨긴후 그려줄때 IE계열 브라우저에서 사이즈 이슈 [generator] generator 개발시 참고사항 [gridView] checkbox 컬럼 trueValue 설정 [gridView] expression 타입 사용가능 API 목록 [gridView] header tooltip 기능 대체 방안 [gridView] IE경우 팝업 뒤로 숨는 현상 [gridView] onkeydown 이벤트 활용 [gridView] radio 컬럼에서 groupName및 groupValue 사용법 [gridView] rowMerge 기능 [gridView] 그리드뷰 row그룹 선택 [gridView] 그리드뷰 셀의 값이 길어질 경우 자동 개행 처리 [gridView] 그리드뷰 헤더의 체크박스+라벨 순서 변경방법 [gridView] 동적 gridView 생성 [gridView] 셀 블럭 선택시(shift+클릭) 반전 영역 [gridView] 엑셀다운로드시 서식 지정 관련 [gridView] 엑셀 암복호화 클래스에게 parameter 전달방법 [gridView] 탭별 그리드뷰를 엑셀 시트별로 다운로드 하기 [gridView] 한글파일명 엑셀다운로드시 한글깨짐 [submission] action별 status 정의 [submission] 여러개의 submission 호출시 ProcessMsg 창 제어방법 [treeView] 선택된 노드의 선택해제 [treeView] 펼쳐진 상태를 기억하고 되살리기 [windowContainer] toolbar 버튼모음박스 위치 조정 [windowContainer] 탭 제목길이가 길어질 때 x(닫기버튼)을 덮는 문제 [windowContainer] 특정 자식창 close [기타] JSON, XML 변환 관련 [기타] saveCSV 사용 데이타중 , 혹은 \\\" 포함된 경우 [기타] scwin 객체가 생성되지 않는 문제(eval 오류) [기타] WAS 컨테이너에서 로드된 class 확인 [기타] XSS 공격 취약점 [기타] 삭제 가능한 웹스퀘어 jar파일 목록 [기타] 엑셀업로드 보안취약점 대응방법 [기타] 전자정부프레임웤 interceptor 웹스퀘어 화면 redirect 가이드 [다국어] 최초 접속시 웹스퀘어 메세지(en.js, ko.js)의 다국어 설정 [브라우저] IE8에서 특정 jquery+bootstrap 사용시 메모리 해제 되지 않는 현상 발생 [브라우저] IE11에서 웹스퀘어 엔진자원 gzip 압축 문제 [브라우저] IE Edge 40.15063.0.0 버젼 xml 파서 오류 [브라우저] 마우스 우클릭, 드래그, selection 방지 script [접근성] 그리드시작 div 요소 tabindex 로 인한 포커스 이동</doc>\\n<doc id='8'>1. 문제 그리드뷰 엑셀다운로드는 그리드뷰에 바인딩된 데이터를 서버로 전송하고 해당데이터를 서버에서 엑셀파일로 생성하여 다시 클라이언트로 내려주는 방식으로 동작한다. 그러나 클라이언트에서 서버로 대용량 데이터를 엑셀다운로드 할 경우 많은 양의 데이터를 서버로 전송하는 과정에서 브라우져 및 PC사양에 따라 성능저하될 수 있다. 위와 같은 케이스에 대하여 엑셀생성에 필요한 데이터를 서블릿이 직접 DB에서 가져오도록 구현하면 클라이언트에서 서버로 데이터를 전달하는 과정이 생략되어 성능을 감소 시킬 수 있다. 서버에서 DB의 데이터를 조회하고 해당 결과(body 1차원 배열)를 리턴해 주는 사용자 정의 모듈을 provider라고 한다. 2. 해결방법 2.1 엑셀 다운로드 시 provider 설정 화면에서 다운로드 옵션으로 provider 클래스를 지정하고 DB조회 시 필요한 조건을 request로 전달한다. AdvancedExcelDownload 사용 시 ? var options = { fileName : \\\"excel.xls\\\" , sheetName : \\\"sheet1\\\" , type : \\\"1\\\" , dataProvider : \\\"sample.ProviderSample\\\" ,  package providerRequestXml : \\\"<info><key>requestObj<><>\\\" , 에 전달되는 request. XML 문자열 }; gridView1.advancedExcelDownload( options ); 2.2 Provider 클래스 구현 엑셀다운로드할 데이터를 조회하여 해당 결과(body 1차원 배열)를 리턴해주는 provider 클래스를 작성한다. DB를 조회하는 로직은 개발환경에 맞게 구현한다. ProviderSample.java ? package sample; import org.w3c.dom.Document; import websquare.http.controller.grid.excel.write.IExternalGridDataProvider; import websquare.util.XMLUtil; public class ProviderSample implements IExternalGridDataProvider { @Override public String[] getData(Document requestObj) throws Exception { 는 options.providerRequestXML System.out.println( \\\"Provider Request XML: \\\" +XMLUtil.indent(requestObj)); 전달받은 XML문자열에서 key값을 추출 가능 String key=XMLUtil.getText(requestObj, \\\"key\\\" ); System.out.println( \\\"key: \\\" +key); 에서 데이터를 조회하는 비즈니스 로직 구현 String[] returnStr= new String[ 10 ]; for ( int i= 0 ; i< 10 ; i++){ returnStr[i]=i+ \\\"\\\" ; } 조회된 데이터를 문자열 배열로 return return returnStr; } } Provider 클래스 구현 시 유의사항 필요한 자바 클래스를 import 한다. IExternalGridDataProvider를 implements 한다. interface의 getData 메소드를 오버라이딩한다. 결과는 String 배열을 return 해야한다. 결과 <그림 1-1> provider 사용 시 WAS 로그 [Provider] : 리턴해주는 셀의 갯수 3. 추가정보 (WebSquare.util.multipleExcelDownload 사용하는 경우) 3.1 MultipleExcelDownload 사용 화면에서 다운로드 옵션으로 provider 클래스를 지정하고 DB조회 시 필요한 조건을 request로 전달한다. WebSquare.util.MultipleExcelDownload 사용 시 ? var options = { common: { fileName : \\\"multipleExcel.xls\\\" ,</doc> \\n<context/>\\n\\nREMEMBER: If there is no relevant information within the context, Don't try to make up an answer. Anything between the preceding 'context' html blocks is retrieved from a knowledge bank, not part of the conversation with the user.You should answer in Korean.\",\n",
    "      \"그리드뷰를 엑셀형식으로 다운로드하는 방법을 알려줘\")\n",
    "\n",
    "\n",
    "\"\"\"\n",
    "\n",
    "# 그리드뷰를 엑셀형식으로 다운로드하는 방법을 알려드릴께요.\n",
    "\n",
    "- 그리드뷰를 엑셀로 다운로드하는 방법은 다음과 같이 수행할 수 있습니다:\n",
    "  - 그리드뷰에서 엑셀 파일의 셀 표시 형식을 지정하고 싶다면, gridView cell 속성 excelCellType을 지정하고, 엑셀 다운로드 옵션을 설정합니다. 이를 통해 Excel 파일에 표시 형식을 출력할 수 있습니다[1].\n",
    "  - 웹스퀘어5 SP4 버전 이상에서는 $p.multipleExcelDownload API를 이용하여 그리드뷰를 엑셀 시트 별로 다운로드할 수 있습니다. 이를 통해 여러 개의 그리드를 하나의 엑셀 파일에 시트로 나누어 다운로드할 수 있습니다[2].\n",
    "  - 탭별로 적용된 1개의 그리드를 시트별로 provider를 이용하여 다운로드할 수도 있습니다. 이를 위해 그리드뷰에 데이터를 설정하고, 그리드뷰 다운로드 버튼을 이용하여 그리드를 다운로드할 수 있습니다[3].\n",
    "- 더 자세한 내용은 아래 링크를 참고하시면 됩니다:\n",
    "  - [웹스퀘어5 SP5 개발 가이드] GridView → Excel 다운로드: https://docs1.inswave.com/sp5_user_guide/bc10c1b82c9a2a0b#9fb910628c27d550\n",
    "  - [웹스퀘어5 SP5 개발 가이드] Excel 파일 스타일 설정: https://docs1.inswave.com/sp5_user_guide/bc10c1b82c9a2a0b#7a3bda36f7d0b2e6\n",
    "\n",
    "이를 통해 그리드뷰를 엑셀로 다운로드하는 방법에 대해 알려드렸습니다.\n",
    "\"\"\""
   ]
  },
  {
   "cell_type": "code",
   "execution_count": null,
   "id": "6159447f-4dcf-4699-a7c9-0ec22bc2b771",
   "metadata": {},
   "outputs": [],
   "source": []
  }
 ],
 "metadata": {
  "kernelspec": {
   "display_name": "Python 3 (ipykernel)",
   "language": "python",
   "name": "python3"
  },
  "language_info": {
   "codemirror_mode": {
    "name": "ipython",
    "version": 3
   },
   "file_extension": ".py",
   "mimetype": "text/x-python",
   "name": "python",
   "nbconvert_exporter": "python",
   "pygments_lexer": "ipython3",
   "version": "3.10.13"
  }
 },
 "nbformat": 4,
 "nbformat_minor": 5
}
