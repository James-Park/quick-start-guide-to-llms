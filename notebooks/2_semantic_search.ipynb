{
 "cells": [
  {
   "cell_type": "code",
   "execution_count": 1,
   "id": "1ebcba99-5bfb-42af-aaec-ede0dbc87108",
   "metadata": {},
   "outputs": [],
   "source": [
    "BASE_DIR = \"\""
   ]
  },
  {
   "cell_type": "markdown",
   "id": "56f43b39-2243-40d4-a76d-60aa12661e98",
   "metadata": {},
   "source": [
    "# 0. Colab 환경 초기화 \n",
    "* local에서 실행시 불필요함"
   ]
  },
  {
   "cell_type": "code",
   "execution_count": 2,
   "id": "a8af383c-15ec-42d9-997d-69af2d6086be",
   "metadata": {},
   "outputs": [],
   "source": [
    "try:\n",
    "  import google.colab\n",
    "  IN_COLAB = True\n",
    "except:\n",
    "  IN_COLAB = False"
   ]
  },
  {
   "cell_type": "code",
   "execution_count": 3,
   "id": "c0013c2b-41c5-40e1-824a-5e69673064bd",
   "metadata": {
    "scrolled": true
   },
   "outputs": [
    {
     "name": "stdout",
     "output_type": "stream",
     "text": [
      "Requirement already satisfied: openai in /Users/wlkim/anaconda3/envs/quick-start-guide-to-llms/lib/python3.10/site-packages (1.14.3)\n",
      "Requirement already satisfied: anyio<5,>=3.5.0 in /Users/wlkim/anaconda3/envs/quick-start-guide-to-llms/lib/python3.10/site-packages (from openai) (4.3.0)\n",
      "Requirement already satisfied: distro<2,>=1.7.0 in /Users/wlkim/anaconda3/envs/quick-start-guide-to-llms/lib/python3.10/site-packages (from openai) (1.9.0)\n",
      "Requirement already satisfied: httpx<1,>=0.23.0 in /Users/wlkim/anaconda3/envs/quick-start-guide-to-llms/lib/python3.10/site-packages (from openai) (0.27.0)\n",
      "Requirement already satisfied: pydantic<3,>=1.9.0 in /Users/wlkim/anaconda3/envs/quick-start-guide-to-llms/lib/python3.10/site-packages (from openai) (2.6.3)\n",
      "Requirement already satisfied: sniffio in /Users/wlkim/anaconda3/envs/quick-start-guide-to-llms/lib/python3.10/site-packages (from openai) (1.3.1)\n",
      "Requirement already satisfied: tqdm>4 in /Users/wlkim/anaconda3/envs/quick-start-guide-to-llms/lib/python3.10/site-packages (from openai) (4.66.2)\n",
      "Requirement already satisfied: typing-extensions<5,>=4.7 in /Users/wlkim/anaconda3/envs/quick-start-guide-to-llms/lib/python3.10/site-packages (from openai) (4.10.0)\n",
      "Requirement already satisfied: idna>=2.8 in /Users/wlkim/anaconda3/envs/quick-start-guide-to-llms/lib/python3.10/site-packages (from anyio<5,>=3.5.0->openai) (3.6)\n",
      "Requirement already satisfied: exceptiongroup>=1.0.2 in /Users/wlkim/anaconda3/envs/quick-start-guide-to-llms/lib/python3.10/site-packages (from anyio<5,>=3.5.0->openai) (1.2.0)\n",
      "Requirement already satisfied: certifi in /Users/wlkim/anaconda3/envs/quick-start-guide-to-llms/lib/python3.10/site-packages (from httpx<1,>=0.23.0->openai) (2024.2.2)\n",
      "Requirement already satisfied: httpcore==1.* in /Users/wlkim/anaconda3/envs/quick-start-guide-to-llms/lib/python3.10/site-packages (from httpx<1,>=0.23.0->openai) (1.0.4)\n",
      "Requirement already satisfied: h11<0.15,>=0.13 in /Users/wlkim/anaconda3/envs/quick-start-guide-to-llms/lib/python3.10/site-packages (from httpcore==1.*->httpx<1,>=0.23.0->openai) (0.14.0)\n",
      "Requirement already satisfied: annotated-types>=0.4.0 in /Users/wlkim/anaconda3/envs/quick-start-guide-to-llms/lib/python3.10/site-packages (from pydantic<3,>=1.9.0->openai) (0.6.0)\n",
      "Requirement already satisfied: pydantic-core==2.16.3 in /Users/wlkim/anaconda3/envs/quick-start-guide-to-llms/lib/python3.10/site-packages (from pydantic<3,>=1.9.0->openai) (2.16.3)\n",
      "Requirement already satisfied: streamlit in /Users/wlkim/anaconda3/envs/quick-start-guide-to-llms/lib/python3.10/site-packages (1.31.1)\n",
      "Requirement already satisfied: altair<6,>=4.0 in /Users/wlkim/anaconda3/envs/quick-start-guide-to-llms/lib/python3.10/site-packages (from streamlit) (5.2.0)\n",
      "Requirement already satisfied: blinker<2,>=1.0.0 in /Users/wlkim/anaconda3/envs/quick-start-guide-to-llms/lib/python3.10/site-packages (from streamlit) (1.7.0)\n",
      "Requirement already satisfied: cachetools<6,>=4.0 in /Users/wlkim/anaconda3/envs/quick-start-guide-to-llms/lib/python3.10/site-packages (from streamlit) (5.3.3)\n",
      "Requirement already satisfied: click<9,>=7.0 in /Users/wlkim/anaconda3/envs/quick-start-guide-to-llms/lib/python3.10/site-packages (from streamlit) (8.1.7)\n",
      "Requirement already satisfied: importlib-metadata<8,>=1.4 in /Users/wlkim/anaconda3/envs/quick-start-guide-to-llms/lib/python3.10/site-packages (from streamlit) (6.11.0)\n",
      "Requirement already satisfied: numpy<2,>=1.19.3 in /Users/wlkim/anaconda3/envs/quick-start-guide-to-llms/lib/python3.10/site-packages (from streamlit) (1.26.4)\n",
      "Requirement already satisfied: packaging<24,>=16.8 in /Users/wlkim/anaconda3/envs/quick-start-guide-to-llms/lib/python3.10/site-packages (from streamlit) (23.2)\n",
      "Requirement already satisfied: pandas<3,>=1.3.0 in /Users/wlkim/anaconda3/envs/quick-start-guide-to-llms/lib/python3.10/site-packages (from streamlit) (2.2.1)\n",
      "Requirement already satisfied: pillow<11,>=7.1.0 in /Users/wlkim/anaconda3/envs/quick-start-guide-to-llms/lib/python3.10/site-packages (from streamlit) (10.2.0)\n",
      "Requirement already satisfied: protobuf<5,>=3.20 in /Users/wlkim/anaconda3/envs/quick-start-guide-to-llms/lib/python3.10/site-packages (from streamlit) (4.25.3)\n",
      "Requirement already satisfied: pyarrow>=7.0 in /Users/wlkim/anaconda3/envs/quick-start-guide-to-llms/lib/python3.10/site-packages (from streamlit) (15.0.0)\n",
      "Requirement already satisfied: python-dateutil<3,>=2.7.3 in /Users/wlkim/anaconda3/envs/quick-start-guide-to-llms/lib/python3.10/site-packages (from streamlit) (2.9.0.post0)\n",
      "Requirement already satisfied: requests<3,>=2.27 in /Users/wlkim/anaconda3/envs/quick-start-guide-to-llms/lib/python3.10/site-packages (from streamlit) (2.31.0)\n",
      "Requirement already satisfied: rich<14,>=10.14.0 in /Users/wlkim/anaconda3/envs/quick-start-guide-to-llms/lib/python3.10/site-packages (from streamlit) (13.7.1)\n",
      "Requirement already satisfied: tenacity<9,>=8.1.0 in /Users/wlkim/anaconda3/envs/quick-start-guide-to-llms/lib/python3.10/site-packages (from streamlit) (8.2.3)\n",
      "Requirement already satisfied: toml<2,>=0.10.1 in /Users/wlkim/anaconda3/envs/quick-start-guide-to-llms/lib/python3.10/site-packages (from streamlit) (0.10.2)\n",
      "Requirement already satisfied: typing-extensions<5,>=4.3.0 in /Users/wlkim/anaconda3/envs/quick-start-guide-to-llms/lib/python3.10/site-packages (from streamlit) (4.10.0)\n",
      "Requirement already satisfied: tzlocal<6,>=1.1 in /Users/wlkim/anaconda3/envs/quick-start-guide-to-llms/lib/python3.10/site-packages (from streamlit) (5.2)\n",
      "Requirement already satisfied: validators<1,>=0.2 in /Users/wlkim/anaconda3/envs/quick-start-guide-to-llms/lib/python3.10/site-packages (from streamlit) (0.22.0)\n",
      "Requirement already satisfied: gitpython!=3.1.19,<4,>=3.0.7 in /Users/wlkim/anaconda3/envs/quick-start-guide-to-llms/lib/python3.10/site-packages (from streamlit) (3.1.42)\n",
      "Requirement already satisfied: pydeck<1,>=0.8.0b4 in /Users/wlkim/anaconda3/envs/quick-start-guide-to-llms/lib/python3.10/site-packages (from streamlit) (0.8.1b0)\n",
      "Requirement already satisfied: tornado<7,>=6.0.3 in /Users/wlkim/anaconda3/envs/quick-start-guide-to-llms/lib/python3.10/site-packages (from streamlit) (6.4)\n",
      "Requirement already satisfied: jinja2 in /Users/wlkim/anaconda3/envs/quick-start-guide-to-llms/lib/python3.10/site-packages (from altair<6,>=4.0->streamlit) (3.1.3)\n",
      "Requirement already satisfied: jsonschema>=3.0 in /Users/wlkim/anaconda3/envs/quick-start-guide-to-llms/lib/python3.10/site-packages (from altair<6,>=4.0->streamlit) (4.21.1)\n",
      "Requirement already satisfied: toolz in /Users/wlkim/anaconda3/envs/quick-start-guide-to-llms/lib/python3.10/site-packages (from altair<6,>=4.0->streamlit) (0.12.1)\n",
      "Requirement already satisfied: gitdb<5,>=4.0.1 in /Users/wlkim/anaconda3/envs/quick-start-guide-to-llms/lib/python3.10/site-packages (from gitpython!=3.1.19,<4,>=3.0.7->streamlit) (4.0.11)\n",
      "Requirement already satisfied: zipp>=0.5 in /Users/wlkim/anaconda3/envs/quick-start-guide-to-llms/lib/python3.10/site-packages (from importlib-metadata<8,>=1.4->streamlit) (3.17.0)\n",
      "Requirement already satisfied: pytz>=2020.1 in /Users/wlkim/anaconda3/envs/quick-start-guide-to-llms/lib/python3.10/site-packages (from pandas<3,>=1.3.0->streamlit) (2024.1)\n",
      "Requirement already satisfied: tzdata>=2022.7 in /Users/wlkim/anaconda3/envs/quick-start-guide-to-llms/lib/python3.10/site-packages (from pandas<3,>=1.3.0->streamlit) (2024.1)\n",
      "Requirement already satisfied: six>=1.5 in /Users/wlkim/anaconda3/envs/quick-start-guide-to-llms/lib/python3.10/site-packages (from python-dateutil<3,>=2.7.3->streamlit) (1.16.0)\n",
      "Requirement already satisfied: charset-normalizer<4,>=2 in /Users/wlkim/anaconda3/envs/quick-start-guide-to-llms/lib/python3.10/site-packages (from requests<3,>=2.27->streamlit) (3.3.2)\n",
      "Requirement already satisfied: idna<4,>=2.5 in /Users/wlkim/anaconda3/envs/quick-start-guide-to-llms/lib/python3.10/site-packages (from requests<3,>=2.27->streamlit) (3.6)\n",
      "Requirement already satisfied: urllib3<3,>=1.21.1 in /Users/wlkim/anaconda3/envs/quick-start-guide-to-llms/lib/python3.10/site-packages (from requests<3,>=2.27->streamlit) (2.2.1)\n",
      "Requirement already satisfied: certifi>=2017.4.17 in /Users/wlkim/anaconda3/envs/quick-start-guide-to-llms/lib/python3.10/site-packages (from requests<3,>=2.27->streamlit) (2024.2.2)\n",
      "Requirement already satisfied: markdown-it-py>=2.2.0 in /Users/wlkim/anaconda3/envs/quick-start-guide-to-llms/lib/python3.10/site-packages (from rich<14,>=10.14.0->streamlit) (3.0.0)\n",
      "Requirement already satisfied: pygments<3.0.0,>=2.13.0 in /Users/wlkim/anaconda3/envs/quick-start-guide-to-llms/lib/python3.10/site-packages (from rich<14,>=10.14.0->streamlit) (2.17.2)\n",
      "Requirement already satisfied: smmap<6,>=3.0.1 in /Users/wlkim/anaconda3/envs/quick-start-guide-to-llms/lib/python3.10/site-packages (from gitdb<5,>=4.0.1->gitpython!=3.1.19,<4,>=3.0.7->streamlit) (5.0.1)\n",
      "Requirement already satisfied: MarkupSafe>=2.0 in /Users/wlkim/anaconda3/envs/quick-start-guide-to-llms/lib/python3.10/site-packages (from jinja2->altair<6,>=4.0->streamlit) (2.1.5)\n",
      "Requirement already satisfied: attrs>=22.2.0 in /Users/wlkim/anaconda3/envs/quick-start-guide-to-llms/lib/python3.10/site-packages (from jsonschema>=3.0->altair<6,>=4.0->streamlit) (23.2.0)\n",
      "Requirement already satisfied: jsonschema-specifications>=2023.03.6 in /Users/wlkim/anaconda3/envs/quick-start-guide-to-llms/lib/python3.10/site-packages (from jsonschema>=3.0->altair<6,>=4.0->streamlit) (2023.12.1)\n",
      "Requirement already satisfied: referencing>=0.28.4 in /Users/wlkim/anaconda3/envs/quick-start-guide-to-llms/lib/python3.10/site-packages (from jsonschema>=3.0->altair<6,>=4.0->streamlit) (0.33.0)\n",
      "Requirement already satisfied: rpds-py>=0.7.1 in /Users/wlkim/anaconda3/envs/quick-start-guide-to-llms/lib/python3.10/site-packages (from jsonschema>=3.0->altair<6,>=4.0->streamlit) (0.18.0)\n",
      "Requirement already satisfied: mdurl~=0.1 in /Users/wlkim/anaconda3/envs/quick-start-guide-to-llms/lib/python3.10/site-packages (from markdown-it-py>=2.2.0->rich<14,>=10.14.0->streamlit) (0.1.2)\n",
      "Requirement already satisfied: datasets in /Users/wlkim/anaconda3/envs/quick-start-guide-to-llms/lib/python3.10/site-packages (2.18.0)\n",
      "Requirement already satisfied: filelock in /Users/wlkim/anaconda3/envs/quick-start-guide-to-llms/lib/python3.10/site-packages (from datasets) (3.13.1)\n",
      "Requirement already satisfied: numpy>=1.17 in /Users/wlkim/anaconda3/envs/quick-start-guide-to-llms/lib/python3.10/site-packages (from datasets) (1.26.4)\n",
      "Requirement already satisfied: pyarrow>=12.0.0 in /Users/wlkim/anaconda3/envs/quick-start-guide-to-llms/lib/python3.10/site-packages (from datasets) (15.0.0)\n",
      "Requirement already satisfied: pyarrow-hotfix in /Users/wlkim/anaconda3/envs/quick-start-guide-to-llms/lib/python3.10/site-packages (from datasets) (0.6)\n",
      "Requirement already satisfied: dill<0.3.9,>=0.3.0 in /Users/wlkim/anaconda3/envs/quick-start-guide-to-llms/lib/python3.10/site-packages (from datasets) (0.3.8)\n",
      "Requirement already satisfied: pandas in /Users/wlkim/anaconda3/envs/quick-start-guide-to-llms/lib/python3.10/site-packages (from datasets) (2.2.1)\n",
      "Requirement already satisfied: requests>=2.19.0 in /Users/wlkim/anaconda3/envs/quick-start-guide-to-llms/lib/python3.10/site-packages (from datasets) (2.31.0)\n",
      "Requirement already satisfied: tqdm>=4.62.1 in /Users/wlkim/anaconda3/envs/quick-start-guide-to-llms/lib/python3.10/site-packages (from datasets) (4.66.2)\n",
      "Requirement already satisfied: xxhash in /Users/wlkim/anaconda3/envs/quick-start-guide-to-llms/lib/python3.10/site-packages (from datasets) (3.4.1)\n",
      "Requirement already satisfied: multiprocess in /Users/wlkim/anaconda3/envs/quick-start-guide-to-llms/lib/python3.10/site-packages (from datasets) (0.70.16)\n",
      "Requirement already satisfied: fsspec<=2024.2.0,>=2023.1.0 in /Users/wlkim/anaconda3/envs/quick-start-guide-to-llms/lib/python3.10/site-packages (from fsspec[http]<=2024.2.0,>=2023.1.0->datasets) (2024.2.0)\n",
      "Requirement already satisfied: aiohttp in /Users/wlkim/anaconda3/envs/quick-start-guide-to-llms/lib/python3.10/site-packages (from datasets) (3.9.3)\n",
      "Requirement already satisfied: huggingface-hub>=0.19.4 in /Users/wlkim/anaconda3/envs/quick-start-guide-to-llms/lib/python3.10/site-packages (from datasets) (0.21.4)\n",
      "Requirement already satisfied: packaging in /Users/wlkim/anaconda3/envs/quick-start-guide-to-llms/lib/python3.10/site-packages (from datasets) (23.2)\n",
      "Requirement already satisfied: pyyaml>=5.1 in /Users/wlkim/anaconda3/envs/quick-start-guide-to-llms/lib/python3.10/site-packages (from datasets) (6.0.1)\n",
      "Requirement already satisfied: aiosignal>=1.1.2 in /Users/wlkim/anaconda3/envs/quick-start-guide-to-llms/lib/python3.10/site-packages (from aiohttp->datasets) (1.3.1)\n",
      "Requirement already satisfied: attrs>=17.3.0 in /Users/wlkim/anaconda3/envs/quick-start-guide-to-llms/lib/python3.10/site-packages (from aiohttp->datasets) (23.2.0)\n",
      "Requirement already satisfied: frozenlist>=1.1.1 in /Users/wlkim/anaconda3/envs/quick-start-guide-to-llms/lib/python3.10/site-packages (from aiohttp->datasets) (1.4.1)\n",
      "Requirement already satisfied: multidict<7.0,>=4.5 in /Users/wlkim/anaconda3/envs/quick-start-guide-to-llms/lib/python3.10/site-packages (from aiohttp->datasets) (6.0.5)\n",
      "Requirement already satisfied: yarl<2.0,>=1.0 in /Users/wlkim/anaconda3/envs/quick-start-guide-to-llms/lib/python3.10/site-packages (from aiohttp->datasets) (1.9.4)\n",
      "Requirement already satisfied: async-timeout<5.0,>=4.0 in /Users/wlkim/anaconda3/envs/quick-start-guide-to-llms/lib/python3.10/site-packages (from aiohttp->datasets) (4.0.3)\n",
      "Requirement already satisfied: typing-extensions>=3.7.4.3 in /Users/wlkim/anaconda3/envs/quick-start-guide-to-llms/lib/python3.10/site-packages (from huggingface-hub>=0.19.4->datasets) (4.10.0)\n",
      "Requirement already satisfied: charset-normalizer<4,>=2 in /Users/wlkim/anaconda3/envs/quick-start-guide-to-llms/lib/python3.10/site-packages (from requests>=2.19.0->datasets) (3.3.2)\n",
      "Requirement already satisfied: idna<4,>=2.5 in /Users/wlkim/anaconda3/envs/quick-start-guide-to-llms/lib/python3.10/site-packages (from requests>=2.19.0->datasets) (3.6)\n",
      "Requirement already satisfied: urllib3<3,>=1.21.1 in /Users/wlkim/anaconda3/envs/quick-start-guide-to-llms/lib/python3.10/site-packages (from requests>=2.19.0->datasets) (2.2.1)\n",
      "Requirement already satisfied: certifi>=2017.4.17 in /Users/wlkim/anaconda3/envs/quick-start-guide-to-llms/lib/python3.10/site-packages (from requests>=2.19.0->datasets) (2024.2.2)\n",
      "Requirement already satisfied: python-dateutil>=2.8.2 in /Users/wlkim/anaconda3/envs/quick-start-guide-to-llms/lib/python3.10/site-packages (from pandas->datasets) (2.9.0.post0)\n",
      "Requirement already satisfied: pytz>=2020.1 in /Users/wlkim/anaconda3/envs/quick-start-guide-to-llms/lib/python3.10/site-packages (from pandas->datasets) (2024.1)\n",
      "Requirement already satisfied: tzdata>=2022.7 in /Users/wlkim/anaconda3/envs/quick-start-guide-to-llms/lib/python3.10/site-packages (from pandas->datasets) (2024.1)\n",
      "Requirement already satisfied: six>=1.5 in /Users/wlkim/anaconda3/envs/quick-start-guide-to-llms/lib/python3.10/site-packages (from python-dateutil>=2.8.2->pandas->datasets) (1.16.0)\n",
      "Requirement already satisfied: pinecone-client in /Users/wlkim/anaconda3/envs/quick-start-guide-to-llms/lib/python3.10/site-packages (3.1.0)\n",
      "Requirement already satisfied: certifi>=2019.11.17 in /Users/wlkim/anaconda3/envs/quick-start-guide-to-llms/lib/python3.10/site-packages (from pinecone-client) (2024.2.2)\n",
      "Requirement already satisfied: tqdm>=4.64.1 in /Users/wlkim/anaconda3/envs/quick-start-guide-to-llms/lib/python3.10/site-packages (from pinecone-client) (4.66.2)\n",
      "Requirement already satisfied: typing-extensions>=3.7.4 in /Users/wlkim/anaconda3/envs/quick-start-guide-to-llms/lib/python3.10/site-packages (from pinecone-client) (4.10.0)\n",
      "Requirement already satisfied: urllib3>=1.26.0 in /Users/wlkim/anaconda3/envs/quick-start-guide-to-llms/lib/python3.10/site-packages (from pinecone-client) (2.2.1)\n",
      "Requirement already satisfied: tiktoken in /Users/wlkim/anaconda3/envs/quick-start-guide-to-llms/lib/python3.10/site-packages (0.6.0)\n",
      "Requirement already satisfied: regex>=2022.1.18 in /Users/wlkim/anaconda3/envs/quick-start-guide-to-llms/lib/python3.10/site-packages (from tiktoken) (2023.12.25)\n",
      "Requirement already satisfied: requests>=2.26.0 in /Users/wlkim/anaconda3/envs/quick-start-guide-to-llms/lib/python3.10/site-packages (from tiktoken) (2.31.0)\n",
      "Requirement already satisfied: charset-normalizer<4,>=2 in /Users/wlkim/anaconda3/envs/quick-start-guide-to-llms/lib/python3.10/site-packages (from requests>=2.26.0->tiktoken) (3.3.2)\n",
      "Requirement already satisfied: idna<4,>=2.5 in /Users/wlkim/anaconda3/envs/quick-start-guide-to-llms/lib/python3.10/site-packages (from requests>=2.26.0->tiktoken) (3.6)\n",
      "Requirement already satisfied: urllib3<3,>=1.21.1 in /Users/wlkim/anaconda3/envs/quick-start-guide-to-llms/lib/python3.10/site-packages (from requests>=2.26.0->tiktoken) (2.2.1)\n",
      "Requirement already satisfied: certifi>=2017.4.17 in /Users/wlkim/anaconda3/envs/quick-start-guide-to-llms/lib/python3.10/site-packages (from requests>=2.26.0->tiktoken) (2024.2.2)\n",
      "Requirement already satisfied: PyPDF2 in /Users/wlkim/anaconda3/envs/quick-start-guide-to-llms/lib/python3.10/site-packages (3.0.1)\n",
      "Requirement already satisfied: sentence-transformers in /Users/wlkim/anaconda3/envs/quick-start-guide-to-llms/lib/python3.10/site-packages (2.5.1)\n",
      "Requirement already satisfied: transformers<5.0.0,>=4.32.0 in /Users/wlkim/anaconda3/envs/quick-start-guide-to-llms/lib/python3.10/site-packages (from sentence-transformers) (4.38.2)\n",
      "Requirement already satisfied: tqdm in /Users/wlkim/anaconda3/envs/quick-start-guide-to-llms/lib/python3.10/site-packages (from sentence-transformers) (4.66.2)\n",
      "Requirement already satisfied: torch>=1.11.0 in /Users/wlkim/anaconda3/envs/quick-start-guide-to-llms/lib/python3.10/site-packages (from sentence-transformers) (2.2.1)\n",
      "Requirement already satisfied: numpy in /Users/wlkim/anaconda3/envs/quick-start-guide-to-llms/lib/python3.10/site-packages (from sentence-transformers) (1.26.4)\n",
      "Requirement already satisfied: scikit-learn in /Users/wlkim/anaconda3/envs/quick-start-guide-to-llms/lib/python3.10/site-packages (from sentence-transformers) (1.4.1.post1)\n",
      "Requirement already satisfied: scipy in /Users/wlkim/anaconda3/envs/quick-start-guide-to-llms/lib/python3.10/site-packages (from sentence-transformers) (1.12.0)\n",
      "Requirement already satisfied: huggingface-hub>=0.15.1 in /Users/wlkim/anaconda3/envs/quick-start-guide-to-llms/lib/python3.10/site-packages (from sentence-transformers) (0.21.4)\n",
      "Requirement already satisfied: Pillow in /Users/wlkim/anaconda3/envs/quick-start-guide-to-llms/lib/python3.10/site-packages (from sentence-transformers) (10.2.0)\n",
      "Requirement already satisfied: filelock in /Users/wlkim/anaconda3/envs/quick-start-guide-to-llms/lib/python3.10/site-packages (from huggingface-hub>=0.15.1->sentence-transformers) (3.13.1)\n",
      "Requirement already satisfied: fsspec>=2023.5.0 in /Users/wlkim/anaconda3/envs/quick-start-guide-to-llms/lib/python3.10/site-packages (from huggingface-hub>=0.15.1->sentence-transformers) (2024.2.0)\n",
      "Requirement already satisfied: requests in /Users/wlkim/anaconda3/envs/quick-start-guide-to-llms/lib/python3.10/site-packages (from huggingface-hub>=0.15.1->sentence-transformers) (2.31.0)\n",
      "Requirement already satisfied: pyyaml>=5.1 in /Users/wlkim/anaconda3/envs/quick-start-guide-to-llms/lib/python3.10/site-packages (from huggingface-hub>=0.15.1->sentence-transformers) (6.0.1)\n",
      "Requirement already satisfied: typing-extensions>=3.7.4.3 in /Users/wlkim/anaconda3/envs/quick-start-guide-to-llms/lib/python3.10/site-packages (from huggingface-hub>=0.15.1->sentence-transformers) (4.10.0)\n",
      "Requirement already satisfied: packaging>=20.9 in /Users/wlkim/anaconda3/envs/quick-start-guide-to-llms/lib/python3.10/site-packages (from huggingface-hub>=0.15.1->sentence-transformers) (23.2)\n",
      "Requirement already satisfied: sympy in /Users/wlkim/anaconda3/envs/quick-start-guide-to-llms/lib/python3.10/site-packages (from torch>=1.11.0->sentence-transformers) (1.12)\n",
      "Requirement already satisfied: networkx in /Users/wlkim/anaconda3/envs/quick-start-guide-to-llms/lib/python3.10/site-packages (from torch>=1.11.0->sentence-transformers) (3.2.1)\n",
      "Requirement already satisfied: jinja2 in /Users/wlkim/anaconda3/envs/quick-start-guide-to-llms/lib/python3.10/site-packages (from torch>=1.11.0->sentence-transformers) (3.1.3)\n",
      "Requirement already satisfied: regex!=2019.12.17 in /Users/wlkim/anaconda3/envs/quick-start-guide-to-llms/lib/python3.10/site-packages (from transformers<5.0.0,>=4.32.0->sentence-transformers) (2023.12.25)\n",
      "Requirement already satisfied: tokenizers<0.19,>=0.14 in /Users/wlkim/anaconda3/envs/quick-start-guide-to-llms/lib/python3.10/site-packages (from transformers<5.0.0,>=4.32.0->sentence-transformers) (0.15.2)\n",
      "Requirement already satisfied: safetensors>=0.4.1 in /Users/wlkim/anaconda3/envs/quick-start-guide-to-llms/lib/python3.10/site-packages (from transformers<5.0.0,>=4.32.0->sentence-transformers) (0.4.2)\n",
      "Requirement already satisfied: joblib>=1.2.0 in /Users/wlkim/anaconda3/envs/quick-start-guide-to-llms/lib/python3.10/site-packages (from scikit-learn->sentence-transformers) (1.3.2)\n",
      "Requirement already satisfied: threadpoolctl>=2.0.0 in /Users/wlkim/anaconda3/envs/quick-start-guide-to-llms/lib/python3.10/site-packages (from scikit-learn->sentence-transformers) (3.3.0)\n",
      "Requirement already satisfied: MarkupSafe>=2.0 in /Users/wlkim/anaconda3/envs/quick-start-guide-to-llms/lib/python3.10/site-packages (from jinja2->torch>=1.11.0->sentence-transformers) (2.1.5)\n",
      "Requirement already satisfied: charset-normalizer<4,>=2 in /Users/wlkim/anaconda3/envs/quick-start-guide-to-llms/lib/python3.10/site-packages (from requests->huggingface-hub>=0.15.1->sentence-transformers) (3.3.2)\n",
      "Requirement already satisfied: idna<4,>=2.5 in /Users/wlkim/anaconda3/envs/quick-start-guide-to-llms/lib/python3.10/site-packages (from requests->huggingface-hub>=0.15.1->sentence-transformers) (3.6)\n",
      "Requirement already satisfied: urllib3<3,>=1.21.1 in /Users/wlkim/anaconda3/envs/quick-start-guide-to-llms/lib/python3.10/site-packages (from requests->huggingface-hub>=0.15.1->sentence-transformers) (2.2.1)\n",
      "Requirement already satisfied: certifi>=2017.4.17 in /Users/wlkim/anaconda3/envs/quick-start-guide-to-llms/lib/python3.10/site-packages (from requests->huggingface-hub>=0.15.1->sentence-transformers) (2024.2.2)\n",
      "Requirement already satisfied: mpmath>=0.19 in /Users/wlkim/anaconda3/envs/quick-start-guide-to-llms/lib/python3.10/site-packages (from sympy->torch>=1.11.0->sentence-transformers) (1.3.0)\n",
      "Requirement already satisfied: evaluate in /Users/wlkim/anaconda3/envs/quick-start-guide-to-llms/lib/python3.10/site-packages (0.4.1)\n",
      "Requirement already satisfied: datasets>=2.0.0 in /Users/wlkim/anaconda3/envs/quick-start-guide-to-llms/lib/python3.10/site-packages (from evaluate) (2.18.0)\n",
      "Requirement already satisfied: numpy>=1.17 in /Users/wlkim/anaconda3/envs/quick-start-guide-to-llms/lib/python3.10/site-packages (from evaluate) (1.26.4)\n",
      "Requirement already satisfied: dill in /Users/wlkim/anaconda3/envs/quick-start-guide-to-llms/lib/python3.10/site-packages (from evaluate) (0.3.8)\n",
      "Requirement already satisfied: pandas in /Users/wlkim/anaconda3/envs/quick-start-guide-to-llms/lib/python3.10/site-packages (from evaluate) (2.2.1)\n",
      "Requirement already satisfied: requests>=2.19.0 in /Users/wlkim/anaconda3/envs/quick-start-guide-to-llms/lib/python3.10/site-packages (from evaluate) (2.31.0)\n",
      "Requirement already satisfied: tqdm>=4.62.1 in /Users/wlkim/anaconda3/envs/quick-start-guide-to-llms/lib/python3.10/site-packages (from evaluate) (4.66.2)\n",
      "Requirement already satisfied: xxhash in /Users/wlkim/anaconda3/envs/quick-start-guide-to-llms/lib/python3.10/site-packages (from evaluate) (3.4.1)\n",
      "Requirement already satisfied: multiprocess in /Users/wlkim/anaconda3/envs/quick-start-guide-to-llms/lib/python3.10/site-packages (from evaluate) (0.70.16)\n",
      "Requirement already satisfied: fsspec>=2021.05.0 in /Users/wlkim/anaconda3/envs/quick-start-guide-to-llms/lib/python3.10/site-packages (from fsspec[http]>=2021.05.0->evaluate) (2024.2.0)\n",
      "Requirement already satisfied: huggingface-hub>=0.7.0 in /Users/wlkim/anaconda3/envs/quick-start-guide-to-llms/lib/python3.10/site-packages (from evaluate) (0.21.4)\n",
      "Requirement already satisfied: packaging in /Users/wlkim/anaconda3/envs/quick-start-guide-to-llms/lib/python3.10/site-packages (from evaluate) (23.2)\n",
      "Requirement already satisfied: responses<0.19 in /Users/wlkim/anaconda3/envs/quick-start-guide-to-llms/lib/python3.10/site-packages (from evaluate) (0.18.0)\n",
      "Requirement already satisfied: filelock in /Users/wlkim/anaconda3/envs/quick-start-guide-to-llms/lib/python3.10/site-packages (from datasets>=2.0.0->evaluate) (3.13.1)\n",
      "Requirement already satisfied: pyarrow>=12.0.0 in /Users/wlkim/anaconda3/envs/quick-start-guide-to-llms/lib/python3.10/site-packages (from datasets>=2.0.0->evaluate) (15.0.0)\n",
      "Requirement already satisfied: pyarrow-hotfix in /Users/wlkim/anaconda3/envs/quick-start-guide-to-llms/lib/python3.10/site-packages (from datasets>=2.0.0->evaluate) (0.6)\n",
      "Requirement already satisfied: aiohttp in /Users/wlkim/anaconda3/envs/quick-start-guide-to-llms/lib/python3.10/site-packages (from datasets>=2.0.0->evaluate) (3.9.3)\n",
      "Requirement already satisfied: pyyaml>=5.1 in /Users/wlkim/anaconda3/envs/quick-start-guide-to-llms/lib/python3.10/site-packages (from datasets>=2.0.0->evaluate) (6.0.1)\n",
      "Requirement already satisfied: typing-extensions>=3.7.4.3 in /Users/wlkim/anaconda3/envs/quick-start-guide-to-llms/lib/python3.10/site-packages (from huggingface-hub>=0.7.0->evaluate) (4.10.0)\n",
      "Requirement already satisfied: charset-normalizer<4,>=2 in /Users/wlkim/anaconda3/envs/quick-start-guide-to-llms/lib/python3.10/site-packages (from requests>=2.19.0->evaluate) (3.3.2)\n",
      "Requirement already satisfied: idna<4,>=2.5 in /Users/wlkim/anaconda3/envs/quick-start-guide-to-llms/lib/python3.10/site-packages (from requests>=2.19.0->evaluate) (3.6)\n",
      "Requirement already satisfied: urllib3<3,>=1.21.1 in /Users/wlkim/anaconda3/envs/quick-start-guide-to-llms/lib/python3.10/site-packages (from requests>=2.19.0->evaluate) (2.2.1)\n",
      "Requirement already satisfied: certifi>=2017.4.17 in /Users/wlkim/anaconda3/envs/quick-start-guide-to-llms/lib/python3.10/site-packages (from requests>=2.19.0->evaluate) (2024.2.2)\n",
      "Requirement already satisfied: python-dateutil>=2.8.2 in /Users/wlkim/anaconda3/envs/quick-start-guide-to-llms/lib/python3.10/site-packages (from pandas->evaluate) (2.9.0.post0)\n",
      "Requirement already satisfied: pytz>=2020.1 in /Users/wlkim/anaconda3/envs/quick-start-guide-to-llms/lib/python3.10/site-packages (from pandas->evaluate) (2024.1)\n",
      "Requirement already satisfied: tzdata>=2022.7 in /Users/wlkim/anaconda3/envs/quick-start-guide-to-llms/lib/python3.10/site-packages (from pandas->evaluate) (2024.1)\n",
      "Requirement already satisfied: aiosignal>=1.1.2 in /Users/wlkim/anaconda3/envs/quick-start-guide-to-llms/lib/python3.10/site-packages (from aiohttp->datasets>=2.0.0->evaluate) (1.3.1)\n",
      "Requirement already satisfied: attrs>=17.3.0 in /Users/wlkim/anaconda3/envs/quick-start-guide-to-llms/lib/python3.10/site-packages (from aiohttp->datasets>=2.0.0->evaluate) (23.2.0)\n",
      "Requirement already satisfied: frozenlist>=1.1.1 in /Users/wlkim/anaconda3/envs/quick-start-guide-to-llms/lib/python3.10/site-packages (from aiohttp->datasets>=2.0.0->evaluate) (1.4.1)\n",
      "Requirement already satisfied: multidict<7.0,>=4.5 in /Users/wlkim/anaconda3/envs/quick-start-guide-to-llms/lib/python3.10/site-packages (from aiohttp->datasets>=2.0.0->evaluate) (6.0.5)\n",
      "Requirement already satisfied: yarl<2.0,>=1.0 in /Users/wlkim/anaconda3/envs/quick-start-guide-to-llms/lib/python3.10/site-packages (from aiohttp->datasets>=2.0.0->evaluate) (1.9.4)\n",
      "Requirement already satisfied: async-timeout<5.0,>=4.0 in /Users/wlkim/anaconda3/envs/quick-start-guide-to-llms/lib/python3.10/site-packages (from aiohttp->datasets>=2.0.0->evaluate) (4.0.3)\n",
      "Requirement already satisfied: six>=1.5 in /Users/wlkim/anaconda3/envs/quick-start-guide-to-llms/lib/python3.10/site-packages (from python-dateutil>=2.8.2->pandas->evaluate) (1.16.0)\n"
     ]
    }
   ],
   "source": [
    "!pip install openai\n",
    "!pip install streamlit\n",
    "!pip install datasets\n",
    "!pip install pinecone-client\n",
    "!pip install tiktoken\n",
    "!pip install PyPDF2\n",
    "!pip install sentence-transformers\n",
    "!pip install evaluate"
   ]
  },
  {
   "cell_type": "code",
   "execution_count": 4,
   "id": "f6c9aa3d-6d6c-4950-b6fe-cc0553b4d921",
   "metadata": {},
   "outputs": [],
   "source": [
    "###########################################\n",
    "# 1-1. Google drive mount\n",
    "\n",
    "if IN_COLAB == True:\n",
    "    from google.colab import drive\n",
    "    drive.mount('/content/drive')\n",
    "    \n",
    "    BASE_DIR = \"/content/drive/MyDrive/Colab Notebooks/quick-start-guide-to-llms/notebooks/\""
   ]
  },
  {
   "cell_type": "code",
   "execution_count": 5,
   "id": "54eb8284-59ac-4304-819b-05d93bb75c11",
   "metadata": {},
   "outputs": [
    {
     "name": "stdout",
     "output_type": "stream",
     "text": [
      "zsh:cd:1: no such file or directory: /content/drive/MyDrive/Colab Notebooks/quick-start-guide-to-llms/notebooks\n"
     ]
    }
   ],
   "source": [
    "!cd \"/content/drive/MyDrive/Colab Notebooks/quick-start-guide-to-llms/notebooks\""
   ]
  },
  {
   "cell_type": "markdown",
   "id": "b924ea2b-e103-4279-975c-92cb6eddde45",
   "metadata": {},
   "source": [
    "이 노트북은 최신 openai 패키지 버전을 사용하도록 업데이트되었습니다! 당시 1.6.1"
   ]
  },
  {
   "cell_type": "markdown",
   "id": "9c16c8ce-898f-4eb4-a679-fc61a9859634",
   "metadata": {},
   "source": [
    "# 1. OpenAI 모델로 애플리케이션 시작하기\n",
    "* 독점 모델 개요\n",
    "* OpenAI + 임베딩 / GPT3 / ChatGPT 소개\n",
    "* 벡터 데이터베이스 소개\n",
    "* 벡터 데이터베이스, BERT 및 GPT3로 신경/의미 정보 검색 시스템 구축하기"
   ]
  },
  {
   "cell_type": "markdown",
   "id": "ca9ca6e7-c784-4a2a-af2a-5f273f8fefd7",
   "metadata": {},
   "source": [
    "## 1.1 초기화"
   ]
  },
  {
   "cell_type": "code",
   "execution_count": 6,
   "id": "c12182ab",
   "metadata": {},
   "outputs": [],
   "source": [
    "from openai import OpenAI\n",
    "from datetime import datetime\n",
    "import hashlib\n",
    "import re\n",
    "import os\n",
    "from tqdm import tqdm\n",
    "import numpy as np\n",
    "\n",
    "import logging\n",
    "\n",
    "logger = logging.getLogger()\n",
    "logger.setLevel(logging.DEBUG)"
   ]
  },
  {
   "cell_type": "code",
   "execution_count": 7,
   "id": "f0289c54",
   "metadata": {},
   "outputs": [],
   "source": [
    "if IN_COLAB == True:\n",
    "    pinecone_key = \"6f77dabc-...-08fb8cd4e353\"\n",
    "    openai_key=\"sk-ctO...Mb5xgXw\"\n",
    "else:\n",
    "    pinecone_key = os.environ.get('PINECONE_API_KEY')\n",
    "    openai_key=os.environ.get(\"OPENAI_API_KEY\")\n",
    "    \n",
    "client = OpenAI(\n",
    "    api_key=openai_key\n",
    ")\n",
    "\n",
    "INDEX_NAME = 'semantic-search'\n",
    "NAMESPACE = 'default'\n",
    "ENGINE = 'text-embedding-ada-002'\n",
    "ENGINE_2 = 'text-embedding-ada-002'\n",
    "ENGINE_3_S = 'text-embedding-3-small'  # OpenAI의 3세대 embedding 모델 (소형)\n",
    "ENGINE_3_L = 'text-embedding-3-large'  # OpenAI의 3세대 embedding 모델 (대형)"
   ]
  },
  {
   "cell_type": "code",
   "execution_count": 8,
   "id": "b9befee1",
   "metadata": {},
   "outputs": [],
   "source": [
    "# 기존 소스 오류 수정\n",
    "# import pinecone\n",
    "# pinecone.init(api_key=pinecone_key, environment=\"us-west1-gcp\")\n",
    "\n",
    "from pinecone import Pinecone, PodSpec\n",
    "pinecone = Pinecone(api_key=pinecone_key)"
   ]
  },
  {
   "cell_type": "markdown",
   "id": "898a37b9-5426-4030-939a-4d7cbf702d87",
   "metadata": {},
   "source": [
    "## 1.2 OpenAI \n",
    "### 임베딩 함수"
   ]
  },
  {
   "cell_type": "code",
   "execution_count": 9,
   "id": "3cf993a3-6d51-49f4-8968-60f654d6202d",
   "metadata": {},
   "outputs": [
    {
     "data": {
      "text/plain": [
       "(1536, 2)"
      ]
     },
     "execution_count": 9,
     "metadata": {},
     "output_type": "execute_result"
    }
   ],
   "source": [
    "# OpenAI API에서 임베딩 목록을 가져오는 헬퍼 함수\n",
    "def get_embeddings(texts, engine=ENGINE):\n",
    "    response = client.embeddings.create(\n",
    "        input=texts,\n",
    "        model=engine\n",
    "    )\n",
    "    \n",
    "    return [d.embedding for d in list(response.data)]\n",
    "\n",
    "def get_embedding(text, engine=ENGINE):\n",
    "    return get_embeddings([text], engine)[0]\n",
    "    \n",
    "len(get_embedding('hi')), len(get_embeddings(['hi', 'hello']))"
   ]
  },
  {
   "cell_type": "markdown",
   "id": "5b44e4e4-e506-41ef-8ce6-ec5e0b2864de",
   "metadata": {},
   "source": [
    "### 토크나이저"
   ]
  },
  {
   "cell_type": "code",
   "execution_count": 10,
   "id": "72729603",
   "metadata": {},
   "outputs": [
    {
     "data": {
      "text/plain": [
       "[36661, 1070]"
      ]
     },
     "execution_count": 10,
     "metadata": {},
     "output_type": "execute_result"
    }
   ],
   "source": [
    "# 틱토큰 라이브러리 가져오기\n",
    "import tiktoken\n",
    "\n",
    "# 'cl100k_base' 모델에 대한 토큰화 도구 초기화하기\n",
    "# 이 토큰화 도구는 'ada-002' 임베딩 모델과 함께 작동하도록 설계되었습니다.\n",
    "tokenizer = tiktoken.get_encoding(\"cl100k_base\")\n",
    "\n",
    "# 토큰라이저를 사용하여 'hey there' 텍스트를 인코딩하기\n",
    "# 결과 출력은 인코딩된 텍스트를 나타내는 정수 목록입니다.\n",
    "# 'ada-002' 모델을 사용하여 임베딩하는 데 필요한 입력 형식입니다.\n",
    "tokenizer.encode('hey there')"
   ]
  },
  {
   "cell_type": "code",
   "execution_count": 11,
   "id": "902f0d23-f192-4635-a137-2865cda5425e",
   "metadata": {},
   "outputs": [
    {
     "data": {
      "text/plain": [
       "[31495, 230, 75265, 243]"
      ]
     },
     "execution_count": 11,
     "metadata": {},
     "output_type": "execute_result"
    }
   ],
   "source": [
    "tokenizer.encode('안녕')"
   ]
  },
  {
   "cell_type": "code",
   "execution_count": 12,
   "id": "8e0dcdb2-2073-4f2d-a252-520fa41bab21",
   "metadata": {},
   "outputs": [
    {
     "name": "stdout",
     "output_type": "stream",
     "text": [
      "1\n",
      "4\n"
     ]
    }
   ],
   "source": [
    "print(len(tokenizer.encode('hi')))\n",
    "print(len(tokenizer.encode('안녕')))"
   ]
  },
  {
   "cell_type": "markdown",
   "id": "dc9ea179-b079-4c95-b664-b7606b020f07",
   "metadata": {},
   "source": [
    "## 1.3 유사도 계산"
   ]
  },
  {
   "cell_type": "code",
   "execution_count": 13,
   "id": "24168458-2041-44ff-86dd-560e704eaf63",
   "metadata": {},
   "outputs": [],
   "source": [
    "import numpy as np\n",
    "\n",
    "def get_similarity(a, b):\n",
    "    \n",
    "    # 벡터의 내적(dot product)\n",
    "    dot_product = np.dot(a, b)\n",
    "    \n",
    "    # 벡터의 크기(노름) 계산\n",
    "    norm_a = np.linalg.norm(a)\n",
    "    norm_b = np.linalg.norm(b)\n",
    "\n",
    "    # 코사인 유사도 계산\n",
    "    cosine_similarity = dot_product / (norm_a * norm_b)\n",
    "    print(\"코사인유사도:\", cosine_similarity)\n",
    "    euclidean_distance = np.linalg.norm(a - b)\n",
    "    print(\"유클리드거리:\", euclidean_distance)\n",
    "\n",
    "    return cosine_similarity"
   ]
  },
  {
   "cell_type": "code",
   "execution_count": 14,
   "id": "7393cc60-4e02-43a6-beda-be72f10d31b0",
   "metadata": {
    "scrolled": true
   },
   "outputs": [
    {
     "name": "stdout",
     "output_type": "stream",
     "text": [
      "[-0.014743310399353504, -0.034008949995040894, 0.026114480569958687, -0.016089553013443947, 0.00325614120811224, 0.007946749217808247, -0.02224566973745823, -0.01454725582152605, -0.02429770864546299, 0.002609160728752613, -0.002929383423179388, 0.007521964143961668, -0.006479606498032808, 0.007169065531343222, 0.011861307546496391, -0.006888053845614195, 0.03644002601504326, -0.013187943957746029, 0.003538786666467786, -0.030349262058734894, 0.006149581167846918, -0.016115693375468254, 0.0021500661969184875, -0.024232355877757072, -0.0005571219953708351, 0.0074500772170722485, 0.019736168906092644, -0.024872802197933197, 0.013893740251660347, -0.016233326867222786, 0.02572237141430378, -0.019631607457995415, -0.0011248636292293668, -0.031159620732069016, -0.019291779026389122, 0.015749724581837654, 0.0028983415104448795, -3.0378261726582423e-05, 0.013155268505215645, -0.0074108662083745, 0.011482268571853638, -0.007273627910763025, 0.00805131159722805, 0.010952920652925968, 0.0035878003109246492, 0.0003049058432225138, -0.008482632227241993, -0.009214568883180618, -0.014704099856317043, 0.01614183373749256, -0.00894662830978632, 0.018599051982164383, -0.0024719226639717817, -0.005362095311284065, -0.010188307613134384, 0.011939729563891888, -0.00903812050819397, -0.013011494651436806, -0.020115207880735397, -0.02140916883945465, -0.012076967395842075, 0.01509620901197195, -0.02948662079870701, 0.022742340341210365, -0.0017955339280888438, -0.0005640655872412026, 0.0023526560980826616, 0.002690850291401148, -0.022755412384867668, 0.0012335105566307902, 0.006401184946298599, 0.024572184309363365, 0.008456490933895111, -0.0015635360032320023, 0.017318161204457283, -0.00894662830978632, -0.011763280257582664, -0.002382064238190651, -0.016677716746926308, -0.009541327133774757, 0.029904872179031372, -0.03102891892194748, -0.03685827553272247, -0.010678444057703018, 0.011822096072137356, 0.028597841039299965, -0.029068371281027794, 0.011390776373445988, -0.005306546110659838, -0.029983293265104294, 0.02041582576930523, 0.0075873155146837234, 0.00876364391297102, 0.03173471614718437, -0.008933557197451591, 0.006803096737712622, -0.022206459194421768, 0.009678564965724945, 0.0017579568084329367, -0.0287285428494215, 0.00032267329515889287, 0.011305819265544415, -0.028493277728557587, 0.016455521807074547, -0.017775623127818108, -0.007966354489326477, -0.0017269148956984282, -0.038792684674263, 0.030793651938438416, -0.01913493499159813, 0.013031099922955036, 0.017697202041745186, 0.007704948540776968, -0.04109305888414383, -0.0009778226958587766, -0.006584169343113899, 0.02370954491198063, -0.005391503218561411, -0.0150047168135643, -0.013854529708623886, 0.0159196387976408, 0.024977363646030426, 0.02586614526808262, 0.0034080836921930313, -0.001365030650049448, 0.010828753001987934, -0.003970107063651085, -0.006770421285182238, 0.0011706097284331918, 0.001486747874878347, 0.047262243926525116, -0.003731573699042201, 0.029512763023376465, 0.013168338686227798, -0.008391140028834343, -0.0036629545502364635, -0.01008374523371458, -0.004718382377177477, -0.035917215049266815, -0.05309160426259041, -0.010345150716602802, 0.019553184509277344, -0.017187459394335747, -0.008567589335143566, -0.007103714160621166, 0.01624639704823494, 0.04326273128390312, -0.004084472078830004, 0.025055786594748497, -0.005136632360517979, -0.0005121928406879306, -0.01496550627052784, 0.031081199645996094, -0.035132996737957, -0.015122350305318832, 0.009743916802108288, 0.012482146732509136, 0.026977121829986572, 0.005505868699401617, 0.0006833322113379836, 0.008502237498760223, -0.00010629838652675971, 0.033277012407779694, -0.03176085650920868, 0.0006796561647206545, 0.034557901322841644, 0.006051553878933191, 0.0155536700040102, 0.00896623358130455, -0.0033884781878441572, -0.0037903902120888233, -0.0008148521883413196, -0.01606341265141964, 0.015357615426182747, -0.03129032626748085, 0.0146387480199337, 0.006691999267786741, 0.008495702408254147, -0.025186490267515182, 0.005904512945562601, -0.03076751157641411, -0.015475247986614704, 0.013658475130796432, 0.020219771191477776, -0.008574124425649643, 0.00713638961315155, -0.005247729830443859, 0.003973374608904123, -0.006973010953515768, -0.0016926053212955594, 0.016181044280529022, 0.017278950661420822, 0.019553184509277344, -0.006649520713835955, -0.625701904296875, -0.0010717655532062054, -0.015540599822998047, 0.029904872179031372, 0.012410260736942291, 0.004388357046991587, 0.0030061714351177216, 0.022441724315285683, -0.003934163600206375, -0.006051553878933191, 0.015043928287923336, 0.04143288731575012, -0.002115756506100297, 0.010501994751393795, -0.009841944091022015, -0.016860701143741608, 0.0012359613319858909, 0.004264188930392265, -0.008482632227241993, -0.007548104505985975, -0.011854772455990314, 0.015579810366034508, -0.011789420619606972, 0.0026336677838116884, 0.017095966264605522, -0.0006073610275052488, -0.0157366544008255, 0.016442451626062393, -0.013749967329204082, 0.0038197983521968126, -0.008456490933895111, 0.04409923031926155, 0.009750451892614365, 0.011456127278506756, 0.04276605695486069, -0.019422482699155807, -0.005613698624074459, 0.02682027779519558, 0.0025601470842957497, 0.03416579216718674, -0.005247729830443859, -0.03521141782402992, 0.005796683020889759, -0.022219529375433922, -0.0017939001554623246, 0.011946264654397964, -0.011318889446556568, -0.011129369959235191, -0.007999029941856861, 0.004924239590764046, -0.01588042825460434, 0.00030041293939575553, 0.017775623127818108, 0.009266850538551807, -0.005381700582802296, 0.007489288225769997, 0.0009982449701055884, -0.03442719951272011, 0.005179110914468765, 0.0034995758906006813, 0.027316950261592865, -0.01505699846893549, -0.025264911353588104, -0.024088583886623383, -0.0005558966659009457, 0.025042716413736343, -0.049379635602235794, -0.0034538297913968563, -0.017840974032878876, -0.020115207880735397, -0.008364998735487461, -0.011449592188000679, 0.0006375861121341586, 0.011750209145247936, 0.025042716413736343, 0.019971435889601707, 0.025670090690255165, -0.00030143404728733003, -0.0035420542117208242, -0.025042716413736343, -0.0024506833869963884, -0.011998545378446579, -0.010227518156170845, 0.00016603378753643483, 0.012076967395842075, -0.024715958163142204, -0.008665616624057293, -0.026101410388946533, 0.008325788192451, -0.00933220237493515, 0.02327822335064411, 0.026336677372455597, -9.031788795255125e-05, -0.0027218922041356564, 0.011096694506704807, 0.014625677838921547, 0.0013625798746943474, -0.006829237565398216, 0.010142561048269272, -0.012652060948312283, -0.0012759891105815768, -0.0066854641772806644, 0.015396825969219208, -0.013488560914993286, 0.010417037643492222, 0.004146556369960308, -0.003512646071612835, -0.00307315681129694, 0.027682919055223465, -0.04185113683342934, 0.038296010345220566, 0.005545079242438078, -0.015566740185022354, 0.008724432438611984, -0.00757424533367157, -0.028754685074090958, 0.0068096318282186985, 0.023578841239213943, 0.027787480503320694, -0.04321044683456421, 0.012344908900558949, -0.00916882324963808, 0.02513420768082142, -0.017135178670287132, 0.010207912884652615, 0.03693670034408569, -0.024977363646030426, -0.0051268297247588634, -0.008358463644981384, -0.016847630962729454, -0.003359070047736168, -0.002226854208856821, 0.016821490600705147, -0.020363545045256615, 0.03539440408349037, 0.004996126517653465, 0.011122834868729115, -0.0064730714075267315, 0.03800846263766289, 0.00513336481526494, -0.023500418290495872, 0.006718140095472336, -0.002401669742539525, -0.00337540777400136, 0.0037969253025949, -0.023147521540522575, -0.00614631362259388, -0.024650607258081436, -0.012939607724547386, 0.031421028077602386, 0.018599051982164383, -0.002435979200527072, -0.009090401232242584, 0.013305576518177986, 0.018716685473918915, -0.013566982932388783, 0.018716685473918915, -0.008613334968686104, -0.0188473891466856, -0.013854529708623886, 0.018677474930882454, 0.011554154567420483, 0.00720827654004097, -0.008463026024401188, 0.006414255127310753, -0.04420379176735878, -0.0039668395183980465, 0.017592638731002808, 0.006071159616112709, -0.020481176674365997, 0.02385331690311432, -0.008920487016439438, -0.009482510387897491, -0.006466536317020655, -0.017958607524633408, 0.000499530928209424, 0.018494490534067154, -0.014847873710095882, -0.018755896016955376, -0.004113880451768637, 0.0005534460069611669, -0.020389685407280922, -0.02602298930287361, 0.017501145601272583, 0.009861549362540245, 0.04422993212938309, -0.007737623993307352, 0.02535640262067318, -0.01588042825460434, 0.005319616757333279, -0.02055959962308407, -0.006162651814520359, -0.0014695931458845735, -0.006688731722533703, 0.020624950528144836, -0.007149460259824991, 0.010717654600739479, 0.016011131927371025, 0.03283262252807617, 0.03241437301039696, 0.01533147506415844, 0.013240224681794643, 0.040962353348731995, 0.011887447908520699, 0.02218031696975231, -0.03102891892194748, 0.008685221895575523, -0.021892771124839783, 0.012978819198906422, 0.008515307679772377, -0.004133485723286867, -0.033094026148319244, -0.007704948540776968, -0.00843688566237688, 0.003734841477125883, 0.00852837786078453, -0.022219529375433922, 0.031185762956738472, -0.008110128343105316, 0.014586467295885086, 0.007763764820992947, -0.022742340341210365, -0.006231270730495453, -0.04002129286527634, -0.018102381378412247, 0.02425849810242653, 0.0020291658584028482, -0.00039476423989981413, 0.0048523531295359135, -0.02089942805469036, -0.0307413712143898, 0.020428895950317383, -0.022990677505731583, 0.022167246788740158, 0.0026500055100768805, 0.00226443144492805, 0.0023771629203110933, -0.024611394852399826, -0.0021843756549060345, 0.0076330616138875484, -0.009142682887613773, 0.022520145401358604, 0.012188064865767956, -0.020245911553502083, 0.025513246655464172, 0.010567346587777138, 0.030976636335253716, 0.007750694639980793, 0.004512524697929621, 0.019004231318831444, -0.002882003551349044, 0.04943191632628441, -0.0014524383004754782, -0.018272295594215393, -0.0016811687964946032, -0.0311073400080204, 0.0012008348712697625, 0.02159215323626995, 0.025735441595315933, 0.02466367743909359, 0.018416067585349083, 0.011658717878162861, -0.006277016829699278, 0.008083987049758434, 0.04229552671313286, -0.004770663566887379, 0.037747059017419815, -0.035289838910102844, -0.004224977921694517, -0.013514701277017593, -0.006394649855792522, -0.0036629545502364635, -0.0038753473199903965, -0.011848237365484238, -0.012174994684755802, -0.00656783115118742, 0.005211786366999149, -0.014808662235736847, 0.04106691852211952, -0.007371655199676752, -0.02305602841079235, -0.011142440140247345, 0.009560932405292988, 0.034714747220277786, 0.0026042594108730555, -0.02100398950278759, -0.015632091090083122, 0.01854677125811577, -0.016782280057668686, 0.015396825969219208, 0.0034080836921930313, 0.019657747820019722, -0.0151877012103796, 0.0019360397709533572, -0.014442693442106247, -0.0011207791976630688, 0.04859541729092598, -0.011155510321259499, -0.005028801970183849, 0.0034440269228070974, 0.024284638464450836, -0.007169065531343222, 0.02649351954460144, -0.01840299740433693, 0.01657315529882908, 0.019265638664364815, -0.0058914427645504475, -0.01789325661957264, 0.008025171235203743, -0.027526075020432472, -0.01542296726256609, 0.004519060254096985, -0.02272927016019821, -0.004398159682750702, -0.013462420552968979, -0.021160833537578583, -0.010861428454518318, -0.02634974755346775, 0.006280284374952316, -0.006224735639989376, -0.023683402687311172, -0.014207428321242332, -0.005411108955740929, -0.015501389279961586, 0.06613577157258987, -0.017762552946805954, 0.003568194806575775, 0.006214933004230261, 0.0016427746741101146, -0.005322884302586317, -0.02283383347094059, -0.013972162269055843, 0.005381700582802296, -0.005685585085302591, 0.015501389279961586, -0.006914194673299789, -0.004649762995541096, -0.015945779159665108, 0.023957880213856697, -0.0045321304351091385, -0.002024264307692647, -0.035812653601169586, 0.01797167770564556, -0.0063815792091190815, 0.017187459394335747, -0.021801277995109558, 0.0026696110144257545, 0.0172005295753479, 0.014259709045290947, -0.007306303828954697, -0.0034832379315048456, 0.02938205935060978, 0.013292506337165833, -0.03630932420492172, -0.006705069448798895, 0.0016346058109775186, -0.0099726477637887, -0.0057999505661427975, -0.000626966473646462, 0.04313202574849129, 0.015017786994576454, -0.006345636211335659, 0.009756986983120441, 0.012037756852805614, 0.03539440408349037, -0.004447173327207565, 0.0010113152675330639, -0.004865423310548067, 0.006678929086774588, -0.009861549362540245, -0.009391018189489841, 0.026924841105937958, -0.0007584865088574588, -0.011789420619606972, 0.02828415296971798, -0.012521358206868172, -0.03562966734170914, -0.002042236039415002, -0.012279557064175606, 0.01799781806766987, 0.014939365908503532, -0.0063815792091190815, -0.008927022106945515, -0.0015692542074248195, -0.015396825969219208, -0.025853075087070465, 0.020938638597726822, -0.012593245133757591, -0.008332323282957077, -0.03348613530397415, -0.0049307746812701225, -0.005090886261314154, -0.023840246722102165, -0.007946749217808247, 0.003506110981106758, -0.0019507439574226737, -0.02437612973153591, -0.009110006503760815, -0.004809874575585127, 0.010573881678283215, 0.01286118570715189, -0.00969817116856575, -0.0014859309885650873, 0.018468350172042847, -0.0077702999114990234, -0.009181893430650234, -0.022219529375433922, -0.011390776373445988, -0.010959455743432045, 0.017435794696211815, -0.006920729763805866, -0.011175115592777729, -0.033538419753313065, 0.013789177872240543, 0.0046693687327206135, -0.011286213994026184, 0.012978819198906422, -0.015070068649947643, -0.02659808285534382, 0.010809146799147129, -0.001436917344108224, -0.004061599262058735, -0.02078179456293583, 0.016625436022877693, 0.019696958363056183, -0.033721402287483215, -0.010776471346616745, 0.00032389865373261273, -0.01341013889759779, 0.02104320004582405, 0.030819794163107872, 0.02531719207763672, -0.018023958429694176, 0.02557859942317009, 0.0309243556112051, -0.023042958229780197, 0.022075755521655083, -0.015083138830959797, -0.003092762315645814, 0.01639017090201378, -0.00430993502959609, 0.01888659968972206, 0.00750235840678215, -0.016729997470974922, -0.0018723220564424992, -0.021017059683799744, 0.03395666927099228, 0.030636809766292572, -0.0013086649123579264, -0.00821469072252512, -0.0067769563756883144, -0.013351323083043098, 0.009979182854294777, 0.030636809766292572, 0.0023951344192028046, 0.004238048568367958, -0.013279436156153679, -0.009547862224280834, -0.02191891148686409, -0.0464780256152153, -0.017618779093027115, 0.022899184376001358, 0.007619991432875395, -0.02781362272799015, -0.015906568616628647, -0.018572911620140076, -0.009802733547985554, -0.0008164860191754997, -0.014246638864278793, -0.029591184109449387, -0.010835288092494011, 0.01523998286575079, -0.024755168706178665, 0.03662301227450371, -0.03725038468837738, 0.0340350903570652, 0.011064018122851849, -0.011861307546496391, 0.006616844795644283, -0.04179885610938072, -0.02433691918849945, -0.024023231118917465, 0.04802032187581062, -0.006816167384386063, 0.022206459194421768, -0.00647633895277977, -0.005231392104178667, 0.01990608312189579, -0.010933315381407738, 0.009580537676811218, -0.012638990767300129, 0.020611880347132683, -0.015253053046762943, 0.03934163600206375, 0.02016749046742916, 0.026101410388946533, 0.014847873710095882, 0.014704099856317043, -0.0062574115581810474, 0.012344908900558949, 0.017069825902581215, -0.02089942805469036, -0.017109036445617676, -0.011828631162643433, 0.016952194273471832, -0.0318392775952816, -0.001058695139363408, -0.037642497569322586, -4.538869688985869e-05, -0.012312233448028564, 0.015619021840393543, -0.006848842836916447, 0.019344059750437737, -0.01730509102344513, 0.004996126517653465, -0.0442822128534317, -0.009201498702168465, 0.01771027222275734, 0.004649762995541096, 0.0005260800244286656, 0.009011979214847088, 0.034191932529211044, 0.01872975565493107, 0.014756381511688232, 0.011345029808580875, 0.004666101187467575, 0.005185646004974842, -0.020520389080047607, -0.009404088370501995, 0.026767997071146965, -0.006208397913724184, -0.03981216624379158, 0.02163136564195156, -0.020389685407280922, -0.02346120774745941, 0.00990076083689928, -0.007077573332935572, -0.039576902985572815, 0.006482874043285847, -0.006352171301841736, 0.000746233097743243, 0.023225942626595497, -0.0060907648876309395, -0.019330989569425583, -0.0070383623242378235, 0.005489530507475138, 0.00017583652515895665, -0.015305333770811558, 0.04932735487818718, 0.026924841105937958, -0.03241437301039696, -0.020729513838887215, 0.013462420552968979, 0.006371776573359966, -0.0030698892660439014, -0.01302456483244896, 0.007619991432875395, 0.007861792109906673, -0.012625920586287975, 0.015292263589799404, 0.0041498239152133465, -0.006489409599453211, -0.025970708578824997, 0.023905599489808083, 0.00830618292093277, 0.00037883478216826916, 0.014521115459501743, 0.002810116857290268, -0.021931981667876244, 0.019121864810585976, 0.0011117933318018913, -0.015854287892580032, 0.0005191364325582981, -0.0022513610310852528, 0.005950259044766426, -0.005868569482117891, -0.012619385495781898, -0.00018094212282449007, 0.02356577105820179, -0.010384362190961838, 0.007064503151923418, -0.014743310399353504, -0.014311990700662136, 0.020664161071181297, -0.01054120622575283, 0.03429649770259857, -0.0016305212629958987, 0.01405058428645134, 0.0026483717374503613, 0.00036739828647114336, -0.022533215582370758, -0.01598498970270157, -0.0144557636231184, 0.02773519977927208, -0.015357615426182747, -0.008018636144697666, 0.002600991865620017, -0.0005795866018161178, 0.01595884934067726, 0.02382717654109001, 0.0002661033649928868, -0.014939365908503532, -0.014115936122834682, -0.03296332433819771, 0.00812319852411747, -0.009051190689206123, -0.016037272289395332, -0.011345029808580875, -0.03047996573150158, -0.020389685407280922, -0.022075755521655083, 0.0002256670850329101, 0.008665616624057293, 0.03978602588176727, -0.01478252187371254, -0.02104320004582405, -0.012893862091004848, 0.021213114261627197, -0.017095966264605522, -0.025604739785194397, -0.005888175219297409, 0.001798801589757204, -0.02254628576338291, 0.01840299740433693, -0.01872975565493107, -0.0026679772417992353, -0.009155753068625927, 0.0005693754064850509, 0.016128763556480408, -0.014063654467463493, 0.013972162269055843, -0.022036544978618622, 0.0016623801784589887, -0.010658838786184788, -0.017396584153175354, -0.0048948316834867, 0.010345150716602802, 0.0005403756513260305, 0.017004474997520447, -0.013083381578326225, 0.010430107824504375, -0.0020585739985108376, -0.029408199712634087, -0.002654906827956438, 0.006286819465458393, 0.013697685673832893, 0.003963571973145008, -0.015253053046762943, -0.03369526192545891, 0.012540963478386402, 0.009312596172094345, 0.016311747953295708, -0.0056006284430623055, -0.0009271751623600721, 0.0033917457330971956, 0.0064567336812615395, 0.019749239087104797, -0.029408199712634087, 0.012240346521139145, -0.013697685673832893, -0.024062443524599075, 0.014991646632552147, 0.009404088370501995, -0.007861792109906673, 0.018612122163176537, 0.02602298930287361, 0.017644919455051422, 0.006260679103434086, -0.009044655598700047, -0.012312233448028564, 0.0076330616138875484, -0.007861792109906673, 1.859711301221978e-05, -0.0322052463889122, -0.008809389546513557, 0.05024227499961853, 0.01818080246448517, -0.011371170170605183, -0.010613092221319675, 0.0300094336271286, -0.03644002601504326, 0.007051432970911264, 0.004159626550972462, 0.009894225746393204, 0.00352244870737195, -0.001295594614930451, -0.00999225303530693, 0.01350163109600544, -0.005084351170808077, 0.015906568616628647, -0.019487833604216576, -0.010194842703640461, 0.010096815414726734, -0.0011338494950905442, 0.00825390126556158, 0.011880912818014622, -0.0014753113500773907, -0.006966475863009691, 0.006077694706618786, -0.0014565227320417762, 0.004153091460466385, 0.004247851204127073, -0.02023284137248993, -0.016115693375468254, -0.021239254623651505, 0.0007617540541104972, 0.00015418881957884878, -0.003184254514053464, 0.02682027779519558, -0.004430835600942373, 0.005522206425666809, 0.005741134285926819, -0.003156480146571994, -0.026767997071146965, -0.007914073765277863, 0.013972162269055843, -0.00026937093934975564, -7.479689520550892e-05, -0.004388357046991587, -0.007999029941856861, 0.011436522006988525, -0.026702646166086197, 0.0039537688717246056, 0.005750936921685934, -0.028075028210878372, 0.02919907495379448, -0.016664646565914154, -0.002280769171193242, -0.007214811630547047, 0.0013576785568147898, -0.014677959494292736, 0.0032871831208467484, 0.019749239087104797, -0.0009426961769349873, 0.011443057097494602, -0.012913467362523079, 0.031264182180166245, -0.018389927223324776, 0.01302456483244896, -0.010894103907048702, -0.03238822892308235, -0.005025534424930811, 0.010423572733998299, 0.0025503444485366344, -0.028075028210878372, 0.0009524989291094244, 0.013083381578326225, -0.006460001226514578, -0.009828873910009861, -0.02187970094382763, 0.03424421325325966, -0.004140020813792944, -0.0028885386418551207, 0.027604496106505394, -0.008822459727525711, -0.033982809633016586, 0.010345150716602802, -0.00023710360983386636, 0.0096066789701581, 0.0144557636231184, 0.26140621304512024, -0.00858065951615572, -0.002408204833045602, 0.022559355944395065, 0.011717533692717552, 0.014926294796168804, 0.0292774960398674, 0.00042355977348051965, -0.005607163533568382, -0.0056169661693274975, -0.02045503631234169, -0.0040583317168056965, -0.008920487016439438, 0.008606799878180027, -0.003551857080310583, -0.013841459527611732, -0.026114480569958687, -0.0172005295753479, -0.028885386884212494, -0.021762067452073097, 0.009417159482836723, 0.01671692728996277, -0.027839763090014458, -0.012959212996065617, 0.02287304401397705, 0.02126539684832096, -0.00784872192889452, 0.013841459527611732, 0.0009435130632482469, 0.011318889446556568, -0.013736897148191929, -0.0030094392132014036, 0.01523998286575079, -0.022480934858322144, 0.013606193475425243, -0.0007793172844685614, 0.0039799096994102, 0.006051553878933191, -0.009090401232242584, 0.0395246222615242, 0.012991889379918575, 0.008959698490798473, -0.0057542044669389725, -0.01491322461515665, -0.008325788192451, 0.0303754024207592, -0.010515064932405949, -0.011867842637002468, -0.02301681786775589, 0.01899116113781929, -0.001428748364560306, -0.005499333143234253, 0.014207428321242332, 0.03636160492897034, 0.012090037576854229, 0.018899669870734215, 0.011325424537062645, -0.00684230774641037, -0.010933315381407738, 3.331397601868957e-05, 0.004953647963702679, 0.010011858306825161, -0.03121190331876278, 0.027316950261592865, 0.0016811687964946032, 0.011410381644964218, -0.034191932529211044, 0.023317435756325722, -4.477602487895638e-05, -0.004633425269275904, 0.010103350505232811, -0.0022578961215913296, 0.011410381644964218, 0.0035453217569738626, -0.01935712993144989, -0.029721887782216072, 0.04394238442182541, 0.020075997337698936, 0.010593486949801445, 0.01661236584186554, -0.0017971678171306849, 0.009201498702168465, 0.026323607191443443, -0.0048392824828624725, 0.0019654480274766684, -0.00825390126556158, -0.014311990700662136, -0.010220983065664768, -0.036466166377067566, -0.021931981667876244, 0.011985475197434425, -0.025826934725046158, 0.00647633895277977, -0.0047020441852509975, 0.0072213467210531235, 0.02608834020793438, 0.00896623358130455, 0.017357373610138893, -6.019491047482006e-05, 0.020977849140763283, -0.02495122328400612, -0.012880791909992695, 0.02682027779519558, 0.030819794163107872, -0.015710514038801193, -0.004512524697929621, 0.012174994684755802, 0.009410624392330647, 0.011508408933877945, -0.03892338648438454, -0.03003557398915291, -0.00012559752212837338, 0.013076846487820148, 0.007123319432139397, 0.0060907648876309395, -0.006881518755108118, 0.00878324918448925, -0.023029888048768044, 0.0042413161136209965, -0.0035159136168658733, 0.0040910071693360806, -0.029172934591770172, -0.004917704500257969, 0.03759021311998367, 0.010443178936839104, -0.03029698133468628, -0.002783976262435317, -0.01598498970270157, 0.009155753068625927, -0.028205731883645058, 0.010900638997554779, -0.01569744385778904, 0.022846903651952744, -0.04124990105628967, -0.00731937400996685, 0.01632481813430786, 0.009338737465441227, 0.013932951726019382, -0.0195793267339468, -0.002262797672301531, 0.018716685473918915, -0.02682027779519558, 0.03395666927099228, -0.00713638961315155, -0.0008038241066969931, -0.025447895750403404, 0.022494005039334297, -0.007855257019400597, 0.007737623993307352, 0.007999029941856861, -0.033721402287483215, 0.002865665592253208, 0.003914558328688145, 0.018350716680288315, 0.017318161204457283, 0.010952920652925968, -0.05463390052318573, -0.0322052463889122, -0.009371412917971611, -0.005179110914468765, -0.02206268534064293, 0.006848842836916447, 0.047549791634082794, -0.023212872445583344, -4.217217428958975e-05, 0.016128763556480408, -0.16625435650348663, 0.026611153036355972, 0.031813137233257294, -0.02440227009356022, 0.0023951344192028046, -0.009319132193922997, 0.02553938701748848, -0.015449107624590397, -0.008449955843389034, 0.012220741249620914, 0.004097542725503445, -0.012331838719546795, -0.014860943891108036, 0.005107223987579346, 0.008175479248166084, 0.025447895750403404, -0.005698655731976032, -0.008005565963685513, 0.022010404616594315, 0.012214205227792263, 0.01639017090201378, -0.005489530507475138, -0.000686599756591022, -0.000716416398063302, -0.013383998535573483, 0.012161924503743649, -0.0021941785234957933, 0.010090280324220657, -0.01620718650519848, -0.003914558328688145, -0.028414856642484665, -0.0081428037956357, 0.0012686370173469186, 0.0009565833606757224, 0.03040154278278351, 0.014704099856317043, -0.033825963735580444, -0.013645404949784279, 0.0001017544127535075, 0.011194721795618534, 0.004064866807311773, 0.029146794229745865, 0.011619506403803825, 0.023186732083559036, -0.015828147530555725, 0.015828147530555725, 0.01807624101638794, 0.020389685407280922, 0.008730967529118061, -0.026297464966773987, 0.008083987049758434, -0.031630150973796844, 0.009456370025873184, 0.01657315529882908, 0.013397068716585636, 0.036544591188430786, -0.00032430709688924253, 0.0024947957135736942, -0.005071280524134636, -0.0002481316914781928, -0.033616840839385986, -0.0036368139553815126, 0.010992131195962429, 0.013357858173549175, -0.023539630696177483, -0.00247519020922482, -0.03304174542427063, 0.015945779159665108, -0.031342606991529465, -0.005897977855056524, 0.006009075324982405, -0.015501389279961586, 0.013514701277017593, -0.041040778160095215, -0.00187068828381598, -0.009665494784712791, -0.008116663433611393, 0.013240224681794643, 0.008789784274995327, 0.018690545111894608, -0.003092762315645814, 0.028153449296951294, -0.01249521691352129, -0.016442451626062393, 0.013906811363995075, 0.033172450959682465, 0.0053261518478393555, -0.022807693108916283, 0.01580200530588627, -0.021134693175554276, 0.008221225813031197, -0.02645430900156498, -0.013710755854845047, -0.02421928569674492, 0.03863583877682686, -0.012344908900558949, -0.009678564965724945, 3.6185870158078615e-06, -0.006012342870235443, -0.022781552746891975, -0.009665494784712791, -0.005826090928167105, -0.020102137699723244, 0.0015357615193352103, 0.03259735554456711, -0.004787001293152571, 0.002238290850073099, 0.005162772722542286, 0.032911043614149094, -0.0008732601418159902, -0.02657194249331951, 0.004064866807311773, 0.021748997271060944, 0.020703373476862907, 0.01580200530588627, 0.031996119767427444, -0.023539630696177483, -0.018455279991030693, 0.019631607457995415, 0.0012670032447203994, 0.04336729273200035, 0.02191891148686409, -0.003787122666835785, 0.010482389479875565, 0.004189034458249807, -0.033904388546943665, -0.056516025215387344, -0.008025171235203743, 0.003780587576329708, 0.026924841105937958, 0.020768724381923676, -0.004443905781954527, 0.00504187261685729, 0.01716131903231144, -0.02604912966489792, 0.005492798052728176, -0.03377368301153183, -0.029042230919003487, -0.0031875220593065023, 0.005636571440845728, 0.00823429599404335, -0.022637778893113136, -0.016664646565914154, -0.026114480569958687, -0.011913588270545006, 0.011416916735470295, -0.007031827233731747, 0.011887447908520699, -0.003823065897449851, -0.01803702861070633, -0.03424421325325966, 0.02598377875983715, -0.0032610425259917974, 0.0329371839761734, 0.009815803728997707, -0.009018514305353165, -0.014586467295885086, -0.007992494851350784, 0.022219529375433922, -0.0007834017742425203, -0.022755412384867668, -0.02114776335656643, -0.046817854046821594, -0.01509620901197195, 0.01822001300752163, -0.019932223483920097, 0.006440395954996347, 0.022637778893113136, -0.012057362124323845, -0.021291537210345268, 0.006535155698657036, 0.003986444789916277, 0.0069011240266263485, 0.0283625740557909, 0.024964293465018272, -0.013325181789696217, -0.009835409000515938, 0.00037760945269837976, -0.04935349524021149, -0.016298677772283554, 0.037485651671886444, -0.0019409412052482367, 0.009724311530590057, 0.017396584153175354, -0.016494732350111008, -0.008717897348105907, -0.012005080468952656, 0.00871136225759983, -0.007567710243165493, 0.02012827806174755, 0.0020193629898130894, -0.016952194273471832, -0.020337404683232307, -0.013018029741942883, 0.012037756852805614, -0.010495459660887718, -0.004979788325726986, 0.02525184117257595, -0.02550017647445202, 0.019840732216835022, -0.019932223483920097, 0.008632940240204334, -0.03881882503628731, 0.009874619543552399, 0.021683646366000175, -0.036832135170698166, 0.0035616597160696983, -0.025225700810551643, 0.026402028277516365, 0.02126539684832096, -0.0022873044945299625, 0.0022284879814833403, -0.005839161574840546, -0.01742272451519966, 0.003604138270020485, -0.0031287057790905237, 0.004388357046991587, -0.0039080227725207806, 0.0029326509684324265, -0.033172450959682465, -0.03722424432635307, 0.033721402287483215, -0.005911048036068678, 0.002766004530712962, 0.008155873976647854, -0.003029044484719634, 0.01927870884537697, -0.0380607470870018, -0.07580780237913132, 0.012312233448028564, -0.004375286400318146, -0.009436764754354954, -0.0072278818115592, 0.0038394038565456867, 0.010168702341616154, -0.005917583126574755, -0.00830618292093277, 0.014011373743414879, -0.002087982138618827, -0.007894467562437057, -0.009391018189489841, -0.0175664983689785, -0.0285455584526062, -0.019148005172610283, 0.04119762033224106, 0.004146556369960308, 0.003957036882638931, 0.014926294796168804, 0.010691514238715172, -0.003064987948164344, -0.02474209852516651, 0.007999029941856861, -0.018638264387845993, -0.003584532765671611, -0.005162772722542286, 0.013632334768772125, 0.0007756412960588932, -0.001546381157822907, 0.01797167770564556, -0.04247850924730301, 0.0015308602014556527, 0.0006510648527182639, 0.004189034458249807, -0.027970464900135994, 0.011756745167076588, -0.002973495749756694, -0.01527919340878725, 0.02228488028049469, -0.023997090756893158, -0.02246786467730999, 0.02700326219201088, 0.0069926162250339985, -0.024349989369511604, 0.012129249051213264, 0.000967202999163419, 0.020389685407280922, 0.029878731817007065, -0.007371655199676752, 0.026924841105937958, 0.014285850338637829, 0.01807624101638794, -0.00394396623596549, -0.017213599756360054, -0.039393916726112366, 0.02708168514072895, 0.0025225700810551643, 0.01275008823722601, -0.015540599822998047, 0.04326273128390312, 0.0047118472866714, -0.025774654000997543, 0.0010390897514298558, 0.014769451692700386, -0.00638484675437212, -0.0076330616138875484, 0.020585739985108376, 0.024167004972696304, -0.017318161204457283, -0.02480744943022728, -0.016547013074159622, 0.00605482142418623, 0.0057836128398776054, 0.009711241349577904, 0.0036531519144773483, -0.001606014440767467, 0.0008928656461648643, -0.021121622994542122, 0.027343090623617172, -0.02338278666138649, 0.0014303821371868253, -0.02966960519552231, -0.011965869925916195, -0.006005807779729366, 0.009142682887613773, -0.028388716280460358, -0.012397189624607563, 0.034636322408914566, 0.0077245538122951984, -0.03934163600206375, 0.011064018122851849, 0.036283183842897415, -0.01825922541320324, 0.011952799744904041, 0.01542296726256609, 0.01671692728996277, -0.0053718979470431805, 0.03212682530283928, 0.013815319165587425, 0.0018314772751182318, -0.018507560715079308, -0.00023996274103410542, -0.023029888048768044, 0.010031463578343391, 0.0066560558043420315, -0.02169671654701233, -0.008430350571870804, -0.031421028077602386, 0.006123440805822611, 0.017775623127818108, -0.016703857108950615, -0.02206268534064293, 0.03468860685825348, -0.020611880347132683, -0.010841823183000088, -0.015932708978652954, -0.023474277928471565, -0.024859732016921043, 0.027761340141296387, 0.018873529508709908, 0.002919580787420273, 0.010567346587777138, -0.007469682954251766, 0.02726466953754425, 0.009874619543552399, 0.014808662235736847, -0.013946021907031536, -0.007384725846350193, 0.0033786753192543983, 0.00396030442789197, 0.008907416835427284, -0.004117147997021675, -0.01584121771156788, -0.017278950661420822, 0.01818080246448517, -0.0015047196066007018, 0.0047020441852509975, -0.029512763023376465, 0.042949043214321136, 0.008574124425649643, -0.028623981401324272, 0.01276969350874424, 0.015671303495764732, 0.015344545245170593, 0.0006294171907939017, 0.0038622769061475992, 0.005499333143234253, 0.0012424964224919677, 0.011795955710113049, -0.0173835139721632, 0.001834744936786592, -0.035551246255636215, -0.03735494986176491, -0.004293597303330898, -0.019670818001031876, 0.03003557398915291, -0.008097057230770588, 0.0028852710966020823, 0.02755221538245678, -0.01588042825460434, -0.010116420686244965, 0.024310778826475143, -0.0058293589390814304, -0.011861307546496391, 0.01913493499159813, 0.015710514038801193, 0.011776350438594818, -0.002001391490921378, 0.008848601020872593, -0.0007029376574791968, -0.0037969253025949, -0.008809389546513557, 0.004907901864498854, -0.011397311463952065, -0.01917414553463459, -0.007332444656640291, 0.006649520713835955, 0.028075028210878372, -0.027316950261592865, 0.034348778426647186, -0.004038725979626179, 0.01675613783299923, 0.041145339608192444, 0.00044806659570895135, -0.01341013889759779, 0.012789299711585045, 0.021383028477430344]\n"
     ]
    }
   ],
   "source": [
    "print(get_embedding('남자'))"
   ]
  },
  {
   "cell_type": "code",
   "execution_count": 15,
   "id": "e8f77dfc-e533-44a0-8d9e-9fe533a57de4",
   "metadata": {},
   "outputs": [
    {
     "name": "stdout",
     "output_type": "stream",
     "text": [
      "코사인유사도: 0.9152595360341267\n",
      "유클리드거리: 0.41168060937642537\n",
      "코사인유사도: 0.9023238960333994\n",
      "유클리드거리: 0.4419866677635468\n"
     ]
    },
    {
     "data": {
      "text/plain": [
       "0.9023238960333994"
      ]
     },
     "execution_count": 15,
     "metadata": {},
     "output_type": "execute_result"
    }
   ],
   "source": [
    "k1 = np.array(get_embedding('king'))\n",
    "q1 = np.array(get_embedding('queen'))\n",
    "get_similarity(k1, q1)\n",
    "\n",
    "m1 = np.array(get_embedding('man'))\n",
    "w1 = np.array(get_embedding('woman'))\n",
    "get_similarity(m1, w1)\n"
   ]
  },
  {
   "cell_type": "code",
   "execution_count": 16,
   "id": "3fa25307-95eb-4082-97b0-478139e52c6a",
   "metadata": {},
   "outputs": [
    {
     "name": "stdout",
     "output_type": "stream",
     "text": [
      "코사인유사도: 0.877598999899612\n",
      "유클리드거리: 0.4947747148918388\n",
      "코사인유사도: 0.504032522472809\n",
      "유클리드거리: 0.9959593534455167\n",
      "코사인유사도: 0.5474745578968981\n",
      "유클리드거리: 0.9513416139504071\n"
     ]
    },
    {
     "data": {
      "text/plain": [
       "0.5474745578968981"
      ]
     },
     "execution_count": 16,
     "metadata": {},
     "output_type": "execute_result"
    }
   ],
   "source": [
    "k1 = np.array(get_embedding('king'))\n",
    "k2 = np.array(get_embedding('왕'))\n",
    "get_similarity(k1, k2)\n",
    "\n",
    "k1 = np.array(get_embedding('king', engine=\"text-embedding-3-small\"))\n",
    "k2 = np.array(get_embedding('왕', engine=\"text-embedding-3-small\"))\n",
    "get_similarity(k1, k2)\n",
    "\n",
    "k1 = np.array(get_embedding('king', engine=\"text-embedding-3-large\"))\n",
    "k2 = np.array(get_embedding('왕', engine=\"text-embedding-3-large\"))\n",
    "get_similarity(k1, k2)"
   ]
  },
  {
   "cell_type": "code",
   "execution_count": 17,
   "id": "98b626d6-49d4-4b83-84c9-4c0987c14a85",
   "metadata": {
    "scrolled": true
   },
   "outputs": [
    {
     "name": "stdout",
     "output_type": "stream",
     "text": [
      "코사인유사도: 0.9999999999999998\n",
      "유클리드거리: 0.0\n",
      "코사인유사도: 0.9152199495637557\n",
      "유클리드거리: 0.4117767681402528\n",
      "코사인유사도: 0.9271981671611502\n",
      "유클리드거리: 0.3815804967451058\n",
      "코사인유사도: 0.9022791000841359\n",
      "유클리드거리: 0.44208800379240804\n",
      "코사인유사도: 0.8851465824871325\n",
      "유클리드거리: 0.47927741721103606\n",
      "코사인유사도: 0.5905304584819541\n",
      "유클리드거리: 0.904952550783819\n",
      "코사인유사도: 0.7074936895975377\n",
      "유클리드거리: 0.7648611902001419\n",
      "코사인유사도: 0.5231488494080906\n",
      "유클리드거리: 0.9650835916217138\n",
      "코사인유사도: 0.4274527600914304\n",
      "유클리드거리: 1.0700908982461923\n",
      "코사인유사도: 0.5551807824429132\n",
      "유클리드거리: 0.943206463753876\n",
      "코사인유사도: 0.48748983839837823\n",
      "유클리드거리: 1.0124328824231454\n",
      "코사인유사도: 0.5714679716526294\n",
      "유클리드거리: 0.9257775930954446\n",
      "코사인유사도: 0.49116393249206175\n",
      "유클리드거리: 1.0087973184671688\n"
     ]
    },
    {
     "data": {
      "text/plain": [
       "0.49116393249206175"
      ]
     },
     "execution_count": 17,
     "metadata": {},
     "output_type": "execute_result"
    }
   ],
   "source": [
    "k1 = np.array(get_embedding('king'))\n",
    "q1 = np.array(get_embedding('queen'))\n",
    "get_similarity(k1, k1)\n",
    "get_similarity(k1, q1)\n",
    "\n",
    "k1 = np.array(get_embedding('왕'))\n",
    "q1 = np.array(get_embedding('여왕'))\n",
    "get_similarity(k1, q1)\n",
    "\n",
    "m1 = np.array(get_embedding('man'))\n",
    "w1 = np.array(get_embedding('woman'))\n",
    "get_similarity(m1, w1)\n",
    "\n",
    "m1 = np.array(get_embedding('남자'))\n",
    "w1 = np.array(get_embedding('여자'))\n",
    "get_similarity(m1, w1)\n",
    "\n",
    "k1 = np.array(get_embedding('king', engine=\"text-embedding-3-small\"))\n",
    "q1 = np.array(get_embedding('queen', engine=\"text-embedding-3-small\"))\n",
    "get_similarity(k1, q1)\n",
    "\n",
    "# k1 = np.array(get_embedding('왕', engine=\"text-embedding-3-small\"))\n",
    "# q1 = np.array(get_embedding('여왕', engine=\"text-embedding-3-small\"))\n",
    "# get_similarity(k1, q1)\n",
    "\n",
    "m1 = np.array(get_embedding('man', engine=\"text-embedding-3-small\"))\n",
    "w1 = np.array(get_embedding('woman', engine=\"text-embedding-3-small\"))\n",
    "get_similarity(m1, w1)\n",
    "\n",
    "get_similarity(k1 - m1, q1 - w1)\n",
    "\n",
    "\n",
    "m1 = np.array(get_embedding('남자', engine=\"text-embedding-3-small\"))\n",
    "w1 = np.array(get_embedding('여자', engine=\"text-embedding-3-small\"))\n",
    "get_similarity(m1, w1)\n",
    "\n",
    "k1 = np.array(get_embedding('king', engine=\"text-embedding-3-large\"))\n",
    "q1 = np.array(get_embedding('queen', engine=\"text-embedding-3-large\"))\n",
    "get_similarity(k1, q1)\n",
    "\n",
    "k1 = np.array(get_embedding('왕', engine=\"text-embedding-3-large\"))\n",
    "q1 = np.array(get_embedding('여왕', engine=\"text-embedding-3-large\"))\n",
    "get_similarity(k1, q1)\n",
    "\n",
    "m1 = np.array(get_embedding('man', engine=\"text-embedding-3-large\"))\n",
    "w1 = np.array(get_embedding('woman', engine=\"text-embedding-3-large\"))\n",
    "get_similarity(m1, w1)\n",
    "\n",
    "m1 = np.array(get_embedding('남자', engine=\"text-embedding-3-large\"))\n",
    "w1 = np.array(get_embedding('여자', engine=\"text-embedding-3-large\"))\n",
    "get_similarity(m1, w1)"
   ]
  },
  {
   "cell_type": "markdown",
   "id": "2fd1da0c-fbf0-4461-b5b3-3c50721f52db",
   "metadata": {},
   "source": [
    "## 1.4 파인콘 \n",
    "### 초기화"
   ]
  },
  {
   "cell_type": "code",
   "execution_count": 18,
   "id": "ea70672a",
   "metadata": {},
   "outputs": [],
   "source": [
    "# 기존 소스 오류 수정\n",
    "# https://docs.pinecone.io/docs/view-index-information\n",
    "# https://docs.pinecone.io/docs/create-an-index\n",
    "\n",
    "# 초기화가 필요한 경우\n",
    "pinecone.delete_index(INDEX_NAME)  # delete the index\n",
    "\n",
    "if not INDEX_NAME in pinecone.list_indexes().names():\n",
    "    pinecone.create_index(\n",
    "        INDEX_NAME, # 인덱스 이름\n",
    "        dimension=1536, # 벡터의 치수, text-embedding-ada-002, text-embedding-3-small\n",
    "        # dimension=3072, # 벡터의 치수, text-embedding-3-large\n",
    "        \n",
    "        metric='cosine', # 인덱스를 검색할 때 사용할 유사성 메트릭\n",
    "        spec=PodSpec(\n",
    "          environment=\"gcp-starter\"\n",
    "        )\n",
    "        # pod_type=\"p1\" # 파인콘 파드의 유형\n",
    "    )\n",
    "\n",
    "# 인덱스를 변수로 저장\n",
    "index = pinecone.Index(INDEX_NAME)"
   ]
  },
  {
   "cell_type": "code",
   "execution_count": 19,
   "id": "7f2fdfe7",
   "metadata": {},
   "outputs": [
    {
     "data": {
      "text/plain": [
       "'ae76cc4dfd345ecaeea9b8ba0d5c3437'"
      ]
     },
     "execution_count": 19,
     "metadata": {},
     "output_type": "execute_result"
    }
   ],
   "source": [
    "def my_hash(s):\n",
    "    # 입력 문자열의 MD5 해시를 16진수 문자열로 반환합니다.\n",
    "    return hashlib.md5(s.encode()).hexdigest()\n",
    "\n",
    "my_hash('I love to hash it')"
   ]
  },
  {
   "cell_type": "markdown",
   "id": "d6cf15d6-a58a-4d53-aa59-ae4850392db0",
   "metadata": {},
   "source": [
    "### 파인콘에 저장할 데이터 생성"
   ]
  },
  {
   "cell_type": "code",
   "execution_count": 20,
   "id": "ecd86f51",
   "metadata": {},
   "outputs": [],
   "source": [
    "def prepare_for_pinecone(texts, engine=ENGINE):\n",
    "    # 현재 UTC 날짜 및 시간을 가져옵니다.\n",
    "    now = datetime.utcnow()\n",
    "    \n",
    "    # 지정된 엔진을 사용하여 입력 목록의 각 문자열에 대한 벡터 임베딩을 생성합니다.\n",
    "    embeddings = get_embeddings(texts, engine=engine)\n",
    "    \n",
    "    # 각 입력 문자열과 해당 벡터 임베딩에 대해 (해시, 임베딩, 메타데이터)의 튜플을 생성합니다.\n",
    "    # my_hash() 함수는 각 문자열에 대해 고유한 해시를 생성하는 데 사용되며, datetime.utcnow() 함수는 현재 UTC 날짜 및 시간을 생성하는 데 사용됩니다.\n",
    "    return [\n",
    "        (\n",
    "            my_hash(text), # my_hash() 함수를 사용하여 생성된 각 문자열에 대한 고유 ID\n",
    "            embedding, # 문자열의 벡터 임베딩\n",
    "            dict(text=text, date_uploaded=now) # 원본 텍스트와 현재 UTC 날짜 및 시간을 포함한 메타데이터의 사전입니다.\n",
    "        ) \n",
    "        for text, embedding in zip(texts, embeddings) # 각 입력 문자열과 해당 벡터 임베딩에 대해 반복합니다.\n",
    "    ]"
   ]
  },
  {
   "cell_type": "code",
   "execution_count": 21,
   "id": "4c40d99a",
   "metadata": {},
   "outputs": [],
   "source": [
    "texts = ['hi', 'hello', 'good morning', 'good night', '안녕', '안녕하세요']"
   ]
  },
  {
   "cell_type": "code",
   "execution_count": 22,
   "id": "e065c037",
   "metadata": {
    "scrolled": true
   },
   "outputs": [
    {
     "data": {
      "text/plain": [
       "[('49f68a5c8493ec2c0bf489821c21fc3b',\n",
       "  [-0.030926363542675972,\n",
       "   -0.020379746332764626,\n",
       "   -0.01938086748123169,\n",
       "   -0.04174540191888809,\n",
       "   -0.024920109659433365,\n",
       "   0.024388238787651062,\n",
       "   -0.01800578460097313,\n",
       "   -0.017668500542640686,\n",
       "   -0.006463531870394945,\n",
       "   -0.015891272574663162,\n",
       "   0.025893045589327812,\n",
       "   -0.006959728896617889,\n",
       "   -0.017966868355870247,\n",
       "   -0.01181791815906763,\n",
       "   0.01138982642441988,\n",
       "   0.016513951122760773,\n",
       "   0.03886551409959793,\n",
       "   0.0005270065157674253,\n",
       "   0.03209388628602028,\n",
       "   -0.00869155302643776,\n",
       "   -0.01977004110813141,\n",
       "   -0.004841973539441824,\n",
       "   -0.009372607804834843,\n",
       "   -0.014308631420135498,\n",
       "   -0.022896405309438705,\n",
       "   0.0024728765711188316,\n",
       "   0.010040690191090107,\n",
       "   -0.011798459105193615,\n",
       "   0.0025717916432768106,\n",
       "   -0.025957908481359482,\n",
       "   0.014503219164907932,\n",
       "   0.0007438899483531713,\n",
       "   -0.03575212135910988,\n",
       "   -0.014892392791807652,\n",
       "   -0.00947638787329197,\n",
       "   -0.02471255138516426,\n",
       "   0.006959728896617889,\n",
       "   -0.02114512212574482,\n",
       "   0.019134389236569405,\n",
       "   -0.005623564589768648,\n",
       "   0.006184624042361975,\n",
       "   -0.0007094318279996514,\n",
       "   0.0013621090911328793,\n",
       "   -0.01452916394919157,\n",
       "   -0.02297423966228962,\n",
       "   -0.006019224878400564,\n",
       "   0.0010272572981193662,\n",
       "   0.004086327273398638,\n",
       "   -0.012408165261149406,\n",
       "   0.0198997650295496,\n",
       "   0.015904245898127556,\n",
       "   0.007044049911201,\n",
       "   -0.029732896015048027,\n",
       "   -0.011415771208703518,\n",
       "   -0.020185159519314766,\n",
       "   -0.0077251046895980835,\n",
       "   -0.015164814889431,\n",
       "   0.011175780557096004,\n",
       "   -0.010533643886446953,\n",
       "   -0.022675873711705208,\n",
       "   -0.010663368739187717,\n",
       "   0.005552215967327356,\n",
       "   -0.004880891181528568,\n",
       "   0.006028954405337572,\n",
       "   0.010429863817989826,\n",
       "   -0.008477507159113884,\n",
       "   0.02363583631813526,\n",
       "   -0.0010410405229777098,\n",
       "   0.004559822380542755,\n",
       "   0.0007313228561542928,\n",
       "   0.021495379507541656,\n",
       "   0.03375435993075371,\n",
       "   -0.005023587960749865,\n",
       "   -0.014295659027993679,\n",
       "   0.012148715555667877,\n",
       "   -0.0073294444009661674,\n",
       "   -0.0035512130707502365,\n",
       "   -0.0011780621716752648,\n",
       "   -0.006132734008133411,\n",
       "   -0.006920811720192432,\n",
       "   0.025179559364914894,\n",
       "   -0.031367428600788116,\n",
       "   -0.015969106927514076,\n",
       "   0.017460942268371582,\n",
       "   0.008295892737805843,\n",
       "   0.016851235181093216,\n",
       "   -0.005137097090482712,\n",
       "   0.012920578010380268,\n",
       "   -0.01560587901622057,\n",
       "   -0.031886324286460876,\n",
       "   0.006447316613048315,\n",
       "   0.02294829487800598,\n",
       "   0.013517310842871666,\n",
       "   0.013841623440384865,\n",
       "   -0.011039569973945618,\n",
       "   0.018330097198486328,\n",
       "   -0.011597385630011559,\n",
       "   0.018511710688471794,\n",
       "   -0.007420251611620188,\n",
       "   0.006327321287244558,\n",
       "   0.0008423996041528881,\n",
       "   0.008989919908344746,\n",
       "   0.0013304887106642127,\n",
       "   -0.00550032639876008,\n",
       "   -0.02791674993932247,\n",
       "   -0.02056136168539524,\n",
       "   -0.01742202416062355,\n",
       "   -0.01389351300895214,\n",
       "   0.016773400828242302,\n",
       "   -0.0014804828679189086,\n",
       "   -0.0027907020412385464,\n",
       "   0.036556415259838104,\n",
       "   0.005487354006618261,\n",
       "   -0.034273259341716766,\n",
       "   -0.010488240048289299,\n",
       "   -0.007906719110906124,\n",
       "   0.0031879839953035116,\n",
       "   -0.0033339241053909063,\n",
       "   -0.012233036570250988,\n",
       "   -0.023220717906951904,\n",
       "   0.004569551907479763,\n",
       "   0.00018911426013801247,\n",
       "   0.015631822869181633,\n",
       "   0.003408515825867653,\n",
       "   0.015696685761213303,\n",
       "   0.008016984909772873,\n",
       "   -0.02411581762135029,\n",
       "   -0.005296010058373213,\n",
       "   0.007569435052573681,\n",
       "   0.004994399845600128,\n",
       "   0.04810190945863724,\n",
       "   0.011843862943351269,\n",
       "   0.005201959516853094,\n",
       "   -0.007154315710067749,\n",
       "   -0.03359869122505188,\n",
       "   0.03536294773221016,\n",
       "   -0.02486822009086609,\n",
       "   0.023052075877785683,\n",
       "   -0.023947175592184067,\n",
       "   -0.03245711326599121,\n",
       "   -0.005643023643642664,\n",
       "   0.038294725120067596,\n",
       "   -7.261541759362444e-05,\n",
       "   -0.01738310605287552,\n",
       "   -0.013789732940495014,\n",
       "   -0.013426504097878933,\n",
       "   0.01511292438954115,\n",
       "   -0.002947993343695998,\n",
       "   -0.0015980458119884133,\n",
       "   -0.0021145122591406107,\n",
       "   0.0016183153493329883,\n",
       "   0.0018323611002415419,\n",
       "   0.020107325166463852,\n",
       "   -0.0004755220143124461,\n",
       "   0.029421556740999222,\n",
       "   0.020678114145994186,\n",
       "   -0.012985439971089363,\n",
       "   -0.010793092660605907,\n",
       "   -0.010877413675189018,\n",
       "   -0.008834250271320343,\n",
       "   -0.0007430791738443077,\n",
       "   -0.00303069269284606,\n",
       "   0.02383042313158512,\n",
       "   -0.010689313523471355,\n",
       "   -0.00379120372235775,\n",
       "   0.017629584297537804,\n",
       "   0.012233036570250988,\n",
       "   0.027345960959792137,\n",
       "   0.012888146564364433,\n",
       "   -0.001837225747294724,\n",
       "   0.013387586921453476,\n",
       "   0.019601399078965187,\n",
       "   -0.030277740210294724,\n",
       "   0.005360872484743595,\n",
       "   0.00045160402078181505,\n",
       "   0.010981193743646145,\n",
       "   0.01578749343752861,\n",
       "   0.013634063303470612,\n",
       "   -0.030355574563145638,\n",
       "   -0.04408044368028641,\n",
       "   -0.015268594026565552,\n",
       "   0.017214464023709297,\n",
       "   0.03274250775575638,\n",
       "   0.029551280662417412,\n",
       "   -0.009236397221684456,\n",
       "   0.014269714243710041,\n",
       "   0.02983667515218258,\n",
       "   0.004829001147300005,\n",
       "   0.016591785475611687,\n",
       "   -0.02019813284277916,\n",
       "   0.015592905692756176,\n",
       "   0.029032383114099503,\n",
       "   0.0169939324259758,\n",
       "   -0.0065867705270648,\n",
       "   -0.7011359333992004,\n",
       "   -0.031185811385512352,\n",
       "   -0.0045760381035506725,\n",
       "   -0.0019393839174881577,\n",
       "   0.02082081139087677,\n",
       "   0.04299075901508331,\n",
       "   0.02669733762741089,\n",
       "   0.02146943472325802,\n",
       "   -0.018213344737887383,\n",
       "   0.015969106927514076,\n",
       "   -0.007815911434590816,\n",
       "   -0.0046019828878343105,\n",
       "   0.008244003169238567,\n",
       "   -0.014879420399665833,\n",
       "   0.005565188825130463,\n",
       "   0.007407279219478369,\n",
       "   -0.00034579733619466424,\n",
       "   -0.007407279219478369,\n",
       "   -0.011247129179537296,\n",
       "   0.001958842622116208,\n",
       "   -0.00407011155039072,\n",
       "   -0.0039793043397367,\n",
       "   -0.023454220965504646,\n",
       "   0.02078189328312874,\n",
       "   0.009340176358819008,\n",
       "   -0.005435463972389698,\n",
       "   -0.0022312644869089127,\n",
       "   -0.009327203966677189,\n",
       "   -0.01951059140264988,\n",
       "   0.010261221788823605,\n",
       "   -0.013763788156211376,\n",
       "   0.011947643011808395,\n",
       "   0.012044936418533325,\n",
       "   -0.010352029465138912,\n",
       "   0.05988091230392456,\n",
       "   0.005078720860183239,\n",
       "   -0.00433929031714797,\n",
       "   0.02026299387216568,\n",
       "   0.00641488516703248,\n",
       "   0.04916565120220184,\n",
       "   -0.0006356509402394295,\n",
       "   -0.019341949373483658,\n",
       "   0.005276551004499197,\n",
       "   0.006327321287244558,\n",
       "   0.005707885604351759,\n",
       "   0.016903124749660492,\n",
       "   -0.009048296138644218,\n",
       "   -0.0015129140811040998,\n",
       "   0.009547736495733261,\n",
       "   -0.0009932045359164476,\n",
       "   0.01085146889090538,\n",
       "   -0.0067002796567976475,\n",
       "   -0.012297899462282658,\n",
       "   0.018913857638835907,\n",
       "   0.0094115249812603,\n",
       "   -0.002793945139274001,\n",
       "   0.021923471242189407,\n",
       "   -0.024466073140501976,\n",
       "   -0.005954362452030182,\n",
       "   0.023999065160751343,\n",
       "   0.0004309291543904692,\n",
       "   0.0030533946119248867,\n",
       "   -0.014127016998827457,\n",
       "   -0.019290059804916382,\n",
       "   -0.013880540616810322,\n",
       "   0.019783012568950653,\n",
       "   -0.02200130559504032,\n",
       "   -0.009586653672158718,\n",
       "   -0.000723215052857995,\n",
       "   -0.005977064371109009,\n",
       "   -0.013134623877704144,\n",
       "   0.019290059804916382,\n",
       "   -0.0274237971752882,\n",
       "   -0.016384227201342583,\n",
       "   0.0019653288181871176,\n",
       "   0.02389528602361679,\n",
       "   0.012427624315023422,\n",
       "   -0.006100303027778864,\n",
       "   -0.009152076207101345,\n",
       "   0.010125011205673218,\n",
       "   0.0013191377511247993,\n",
       "   -0.002440445590764284,\n",
       "   -0.005406275857239962,\n",
       "   -0.011402798816561699,\n",
       "   0.024141762405633926,\n",
       "   -0.026593558490276337,\n",
       "   -0.033650580793619156,\n",
       "   0.014412411488592625,\n",
       "   -0.006745683029294014,\n",
       "   -0.002550711389631033,\n",
       "   0.005561945494264364,\n",
       "   0.035804010927677155,\n",
       "   0.013004899024963379,\n",
       "   -0.020224077627062798,\n",
       "   0.006126247812062502,\n",
       "   0.009450443089008331,\n",
       "   -0.02049649879336357,\n",
       "   0.0029804245568811893,\n",
       "   -0.0031831192318350077,\n",
       "   -0.012693559750914574,\n",
       "   -0.007945636287331581,\n",
       "   0.002816647058352828,\n",
       "   -0.0016466926317662,\n",
       "   -0.005659238900989294,\n",
       "   0.016721511259675026,\n",
       "   -0.0038463366217911243,\n",
       "   -0.01447727344930172,\n",
       "   0.03985141962766647,\n",
       "   0.027501631528139114,\n",
       "   -0.020483527332544327,\n",
       "   -0.0024988215882331133,\n",
       "   -0.0011804945534095168,\n",
       "   -0.007822398096323013,\n",
       "   0.005493840202689171,\n",
       "   0.008308865129947662,\n",
       "   -0.03300195932388306,\n",
       "   -0.012051422148942947,\n",
       "   0.03147120773792267,\n",
       "   0.021676992997527122,\n",
       "   -0.015216704457998276,\n",
       "   0.005201959516853094,\n",
       "   -0.0037003965117037296,\n",
       "   0.021067287772893906,\n",
       "   -0.01656584069132805,\n",
       "   0.001431025331839919,\n",
       "   0.018615491688251495,\n",
       "   -0.010488240048289299,\n",
       "   -0.003538240445777774,\n",
       "   -0.03167876601219177,\n",
       "   0.00787428766489029,\n",
       "   0.013919457793235779,\n",
       "   -0.011357394978404045,\n",
       "   0.017759308218955994,\n",
       "   -0.02058730646967888,\n",
       "   0.014243769459426403,\n",
       "   -0.005996522959321737,\n",
       "   0.0011958993272855878,\n",
       "   -0.010806065984070301,\n",
       "   -0.008159682154655457,\n",
       "   -0.005172771401703358,\n",
       "   -0.002138835610821843,\n",
       "   0.004653872922062874,\n",
       "   6.25820248387754e-05,\n",
       "   -0.004631171002984047,\n",
       "   0.0019961383659392595,\n",
       "   -0.032275497913360596,\n",
       "   -0.01974409632384777,\n",
       "   -0.005056019406765699,\n",
       "   -0.012687073089182377,\n",
       "   0.0049749412573874,\n",
       "   0.0005943011492490768,\n",
       "   -0.0018323611002415419,\n",
       "   -0.010838496498763561,\n",
       "   0.018848994746804237,\n",
       "   0.03546672686934471,\n",
       "   -0.022053195163607597,\n",
       "   -0.0035025663673877716,\n",
       "   -0.021365653723478317,\n",
       "   -0.011273073963820934,\n",
       "   -5.634915578411892e-05,\n",
       "   0.003457162529230118,\n",
       "   0.022377505898475647,\n",
       "   -0.014944282360374928,\n",
       "   0.002070730086416006,\n",
       "   0.0017739849863573909,\n",
       "   -0.027605410665273666,\n",
       "   -0.0016264230944216251,\n",
       "   0.02340233139693737,\n",
       "   0.0030079910065978765,\n",
       "   -0.03837255761027336,\n",
       "   0.017175547778606415,\n",
       "   -0.015813438221812248,\n",
       "   -0.006158678792417049,\n",
       "   0.0026123307179659605,\n",
       "   0.017772281542420387,\n",
       "   0.0061294911429286,\n",
       "   -0.00749160023406148,\n",
       "   0.007498086430132389,\n",
       "   -0.001479672035202384,\n",
       "   -0.032898176461458206,\n",
       "   0.010708771646022797,\n",
       "   0.0021226201206445694,\n",
       "   -0.010676341131329536,\n",
       "   0.010170415043830872,\n",
       "   0.021041342988610268,\n",
       "   0.008004012517631054,\n",
       "   0.0088731674477458,\n",
       "   0.025698458775877953,\n",
       "   -0.01274544931948185,\n",
       "   0.01090335939079523,\n",
       "   0.007530517410486937,\n",
       "   0.020548388361930847,\n",
       "   -0.01718851923942566,\n",
       "   -0.0012615724699571729,\n",
       "   0.008198599331080914,\n",
       "   0.011299019679427147,\n",
       "   0.00252152350731194,\n",
       "   0.002695030067116022,\n",
       "   0.00913261715322733,\n",
       "   0.023869341239333153,\n",
       "   0.04218646511435509,\n",
       "   0.009482873603701591,\n",
       "   0.034299205988645554,\n",
       "   -0.011156322434544563,\n",
       "   -0.009670974686741829,\n",
       "   -0.026230329647660255,\n",
       "   0.0010702286381274462,\n",
       "   -0.0057013994082808495,\n",
       "   0.02069108560681343,\n",
       "   0.016267474740743637,\n",
       "   -0.005208445712924004,\n",
       "   -0.015177787281572819,\n",
       "   0.008685067296028137,\n",
       "   0.003907955717295408,\n",
       "   0.01925114169716835,\n",
       "   0.017798226326704025,\n",
       "   -0.00802347157150507,\n",
       "   0.01299192663282156,\n",
       "   -0.02098945342004299,\n",
       "   0.01031311135739088,\n",
       "   0.011882780119776726,\n",
       "   -0.011046056635677814,\n",
       "   0.014049182645976543,\n",
       "   -0.00016458818572573364,\n",
       "   0.004932780750095844,\n",
       "   0.01615072228014469,\n",
       "   0.02402500994503498,\n",
       "   0.03385813906788826,\n",
       "   0.013387586921453476,\n",
       "   -0.008308865129947662,\n",
       "   -0.0016718268161639571,\n",
       "   -0.003638777183368802,\n",
       "   0.008639663457870483,\n",
       "   0.004747922997921705,\n",
       "   -0.008451562374830246,\n",
       "   0.0025312528014183044,\n",
       "   0.0013491365825757384,\n",
       "   -0.025283340364694595,\n",
       "   0.026217356324195862,\n",
       "   -0.010883900336921215,\n",
       "   0.002654491225257516,\n",
       "   0.027605410665273666,\n",
       "   0.029162107035517693,\n",
       "   -0.026956787332892418,\n",
       "   0.006966215092688799,\n",
       "   0.019692206755280495,\n",
       "   0.009748809039592743,\n",
       "   0.004216052126139402,\n",
       "   0.01918627880513668,\n",
       "   0.025244422256946564,\n",
       "   0.006392183247953653,\n",
       "   0.011227671056985855,\n",
       "   -0.0017010148148983717,\n",
       "   0.005915445275604725,\n",
       "   0.01849873922765255,\n",
       "   -0.004841973539441824,\n",
       "   -0.016825290396809578,\n",
       "   0.004728464409708977,\n",
       "   0.009152076207101345,\n",
       "   0.018252262845635414,\n",
       "   0.004313345532864332,\n",
       "   0.018420904874801636,\n",
       "   0.015216704457998276,\n",
       "   -0.02385636791586876,\n",
       "   0.018589546903967857,\n",
       "   0.0008691553375683725,\n",
       "   -0.004978184588253498,\n",
       "   0.0021858608815819025,\n",
       "   0.008250489830970764,\n",
       "   0.0009834752418100834,\n",
       "   -0.0052441200241446495,\n",
       "   -0.0026804362423717976,\n",
       "   0.026853008195757866,\n",
       "   -0.01686420850455761,\n",
       "   0.03160092979669571,\n",
       "   0.013017871417105198,\n",
       "   -0.0008918571402318776,\n",
       "   0.0016410171519964933,\n",
       "   0.0006311916513368487,\n",
       "   -0.010189873166382313,\n",
       "   -0.020846756175160408,\n",
       "   -0.034818101674318314,\n",
       "   0.015618851408362389,\n",
       "   0.010514184832572937,\n",
       "   -0.004618198610842228,\n",
       "   -0.02363583631813526,\n",
       "   -0.03912496194243431,\n",
       "   0.009009378962218761,\n",
       "   0.009080727584660053,\n",
       "   0.0060711149126291275,\n",
       "   -0.004790083505213261,\n",
       "   0.022766681388020515,\n",
       "   0.03030368499457836,\n",
       "   -0.022468313574790955,\n",
       "   0.002061000792309642,\n",
       "   0.00207559484988451,\n",
       "   0.039306577295064926,\n",
       "   -0.007686187047511339,\n",
       "   0.0010613100603222847,\n",
       "   0.0077251046895980835,\n",
       "   0.0009526655776426196,\n",
       "   0.004170648287981749,\n",
       "   0.005493840202689171,\n",
       "   -0.005253849551081657,\n",
       "   -0.005931660998612642,\n",
       "   0.017538776621222496,\n",
       "   -0.008367241360247135,\n",
       "   -0.021171066910028458,\n",
       "   -0.007322958204895258,\n",
       "   0.016384227201342583,\n",
       "   -0.0041674054227769375,\n",
       "   0.03271656483411789,\n",
       "   -0.009534764103591442,\n",
       "   0.015177787281572819,\n",
       "   0.000479575915960595,\n",
       "   0.007666728459298611,\n",
       "   -0.009301259182393551,\n",
       "   -0.0022036980371922255,\n",
       "   0.020081380382180214,\n",
       "   -0.010598505847156048,\n",
       "   -0.0254908986389637,\n",
       "   -0.008542370051145554,\n",
       "   -0.018343068659305573,\n",
       "   -0.0015542637556791306,\n",
       "   0.05401735380291939,\n",
       "   0.021975360810756683,\n",
       "   -0.00614570640027523,\n",
       "   0.0017739849863573909,\n",
       "   0.010942276567220688,\n",
       "   0.01931600458920002,\n",
       "   -0.0001681353460298851,\n",
       "   -0.014204852283000946,\n",
       "   -0.0131735410541296,\n",
       "   -0.014399439096450806,\n",
       "   0.01022879034280777,\n",
       "   -0.017499858513474464,\n",
       "   -0.01364703569561243,\n",
       "   0.0036679652985185385,\n",
       "   0.0044300975278019905,\n",
       "   0.0016556112095713615,\n",
       "   0.020211104303598404,\n",
       "   -0.006804059259593487,\n",
       "   0.01255086250603199,\n",
       "   -0.0029042111709713936,\n",
       "   -0.006337050348520279,\n",
       "   0.002928534522652626,\n",
       "   0.011577927507460117,\n",
       "   0.025815211236476898,\n",
       "   0.015333456918597221,\n",
       "   0.012077366933226585,\n",
       "   0.022792626172304153,\n",
       "   0.018939802423119545,\n",
       "   0.010254736058413982,\n",
       "   -0.026074659079313278,\n",
       "   -0.008490480482578278,\n",
       "   -0.002291262149810791,\n",
       "   0.013621090911328793,\n",
       "   0.006408398970961571,\n",
       "   -0.0011123891454190016,\n",
       "   0.027761081233620644,\n",
       "   -0.010994166135787964,\n",
       "   0.010520671494305134,\n",
       "   0.022507231682538986,\n",
       "   -0.012142229825258255,\n",
       "   0.006810545455664396,\n",
       "   0.01696798764169216,\n",
       "   0.005347899626940489,\n",
       "   -0.01703285053372383,\n",
       "   0.018031729385256767,\n",
       "   -0.019354920834302902,\n",
       "   -0.019783012568950653,\n",
       "   0.032275497913360596,\n",
       "   -0.00975529570132494,\n",
       "   -0.009223424829542637,\n",
       "   0.028409704566001892,\n",
       "   0.0009713135077618062,\n",
       "   -0.016163695603609085,\n",
       "   -0.010494726710021496,\n",
       "   -0.001679934561252594,\n",
       "   0.006113275419920683,\n",
       "   -0.02009435184299946,\n",
       "   -0.011337936855852604,\n",
       "   -0.009054782800376415,\n",
       "   0.007647269871085882,\n",
       "   -0.0108644412830472,\n",
       "   -0.020120296627283096,\n",
       "   0.0077510494738817215,\n",
       "   -0.006499206181615591,\n",
       "   -0.02830592356622219,\n",
       "   -0.031912270933389664,\n",
       "   -0.027631355449557304,\n",
       "   -0.01183089055120945,\n",
       "   -0.01560587901622057,\n",
       "   0.003719855099916458,\n",
       "   -0.01611180417239666,\n",
       "   -0.0012672479497268796,\n",
       "   -0.012018991634249687,\n",
       "   -0.0056008631363511086,\n",
       "   0.001814523944631219,\n",
       "   0.017409050837159157,\n",
       "   0.004932780750095844,\n",
       "   -0.01366000808775425,\n",
       "   0.024504991248250008,\n",
       "   0.00705053610727191,\n",
       "   -0.012252495624125004,\n",
       "   -0.03045935370028019,\n",
       "   0.0021096474956721067,\n",
       "   -0.01830415241420269,\n",
       "   0.01307624764740467,\n",
       "   0.009904478676617146,\n",
       "   -0.009547736495733261,\n",
       "   -0.004916565027087927,\n",
       "   -0.008749929256737232,\n",
       "   0.0008975326200015843,\n",
       "   0.02555576153099537,\n",
       "   0.011052542366087437,\n",
       "   0.010942276567220688,\n",
       "   -0.008626691065728664,\n",
       "   0.0028409704100340605,\n",
       "   -0.012907605618238449,\n",
       "   0.019173307344317436,\n",
       "   0.00024526071501895785,\n",
       "   -0.011072001419961452,\n",
       "   -0.015048062428832054,\n",
       "   0.004014978650957346,\n",
       "   0.0027339474763721228,\n",
       "   -0.002905832836404443,\n",
       "   -0.010877413675189018,\n",
       "   0.015865327790379524,\n",
       "   0.0018420903943479061,\n",
       "   0.011610358953475952,\n",
       "   0.009106672368943691,\n",
       "   -0.01839495822787285,\n",
       "   -0.011428743600845337,\n",
       "   0.03346896544098854,\n",
       "   -0.010488240048289299,\n",
       "   0.010747689753770828,\n",
       "   -0.0006056521087884903,\n",
       "   -0.0015161571791395545,\n",
       "   0.01718851923942566,\n",
       "   0.003940387163311243,\n",
       "   0.026360053569078445,\n",
       "   0.00046376572572626173,\n",
       "   -0.035285111516714096,\n",
       "   0.008250489830970764,\n",
       "   -0.03951413556933403,\n",
       "   0.030148014426231384,\n",
       "   -0.004177134484052658,\n",
       "   0.007731590885668993,\n",
       "   0.0031685251742601395,\n",
       "   0.014412411488592625,\n",
       "   -0.010617964901030064,\n",
       "   -0.003457162529230118,\n",
       "   0.0017642555758357048,\n",
       "   -0.007225664332509041,\n",
       "   0.02108025923371315,\n",
       "   0.00902235135436058,\n",
       "   -0.015696685761213303,\n",
       "   -0.025867100805044174,\n",
       "   -0.014217824675142765,\n",
       "   -0.02716434746980667,\n",
       "   0.011701165698468685,\n",
       "   -0.00019874225836247206,\n",
       "   -0.02744974195957184,\n",
       "   -0.02098945342004299,\n",
       "   -0.011253615841269493,\n",
       "   0.0029350207187235355,\n",
       "   -0.014088099822402,\n",
       "   -0.02342827618122101,\n",
       "   -0.043587490916252136,\n",
       "   -0.011993045918643475,\n",
       "   0.009813671931624413,\n",
       "   -0.010150955989956856,\n",
       "   0.01037797424942255,\n",
       "   -0.00523763382807374,\n",
       "   0.002550711389631033,\n",
       "   -0.02405095472931862,\n",
       "   -0.04042220860719681,\n",
       "   -0.007978067733347416,\n",
       "   -0.026956787332892418,\n",
       "   -0.016397198662161827,\n",
       "   0.00133211025968194,\n",
       "   0.03393597528338432,\n",
       "   0.021651048213243484,\n",
       "   0.01849873922765255,\n",
       "   0.0013621090911328793,\n",
       "   0.003017720300704241,\n",
       "   0.0008505074074491858,\n",
       "   0.017668500542640686,\n",
       "   0.016384227201342583,\n",
       "   -0.007984553463757038,\n",
       "   0.01073471736162901,\n",
       "   -0.017460942268371582,\n",
       "   0.0225850660353899,\n",
       "   0.032898176461458206,\n",
       "   0.02030191197991371,\n",
       "   0.0036809376906603575,\n",
       "   0.009599626064300537,\n",
       "   0.022066166624426842,\n",
       "   0.018343068659305573,\n",
       "   0.0024761196691542864,\n",
       "   -0.012518431060016155,\n",
       "   -0.00947638787329197,\n",
       "   -0.0363488532602787,\n",
       "   -0.006100303027778864,\n",
       "   -0.010981193743646145,\n",
       "   -0.01153901033103466,\n",
       "   0.008127250708639622,\n",
       "   0.008367241360247135,\n",
       "   -0.009567194618284702,\n",
       "   0.032794397324323654,\n",
       "   0.019497618079185486,\n",
       "   0.03736070543527603,\n",
       "   0.009521791711449623,\n",
       "   0.0218326635658741,\n",
       "   0.0046506295911967754,\n",
       "   0.028617262840270996,\n",
       "   0.0159172173589468,\n",
       "   0.01598208025097847,\n",
       "   0.01624152995646,\n",
       "   -0.004147946368902922,\n",
       "   -0.008062388747930527,\n",
       "   -0.009573681280016899,\n",
       "   0.020379746332764626,\n",
       "   -0.003654992673546076,\n",
       "   0.0075824074447155,\n",
       "   -0.020237049087882042,\n",
       "   0.00937909446656704,\n",
       "   -0.011791973374783993,\n",
       "   0.015670740976929665,\n",
       "   -0.006531637627631426,\n",
       "   -0.019497618079185486,\n",
       "   -0.01511292438954115,\n",
       "   -0.006148949731141329,\n",
       "   -0.016903124749660492,\n",
       "   -0.014671861194074154,\n",
       "   -0.0017512831836938858,\n",
       "   -0.021975360810756683,\n",
       "   0.010812551714479923,\n",
       "   -0.011020110920071602,\n",
       "   -0.010786606930196285,\n",
       "   0.017603639513254166,\n",
       "   -0.01879710517823696,\n",
       "   -0.02615249529480934,\n",
       "   0.0014553486835211515,\n",
       "   -0.013264347799122334,\n",
       "   0.027709191665053368,\n",
       "   0.00042282138019800186,\n",
       "   0.014879420399665833,\n",
       "   0.013452448882162571,\n",
       "   -0.02591899037361145,\n",
       "   -0.02071703039109707,\n",
       "   -0.005727344658225775,\n",
       "   0.007290526758879423,\n",
       "   -0.003736070590093732,\n",
       "   0.018848994746804237,\n",
       "   -0.0028766447212547064,\n",
       "   -0.00578572042286396,\n",
       "   -0.021560240536928177,\n",
       "   0.008295892737805843,\n",
       "   -0.002367475302889943,\n",
       "   0.004991156980395317,\n",
       "   -0.015839383006095886,\n",
       "   0.013685953803360462,\n",
       "   0.018472794443368912,\n",
       "   -0.005380331072956324,\n",
       "   -0.020639196038246155,\n",
       "   -0.008522910997271538,\n",
       "   -0.02383042313158512,\n",
       "   0.008263462223112583,\n",
       "   0.007251609582453966,\n",
       "   0.004540363792330027,\n",
       "   -0.009178020991384983,\n",
       "   -0.009606112726032734,\n",
       "   -0.0036906669847667217,\n",
       "   0.026295192539691925,\n",
       "   -0.026853008195757866,\n",
       "   0.017071766778826714,\n",
       "   0.021300792694091797,\n",
       "   -0.015956135466694832,\n",
       "   -0.011480634100735188,\n",
       "   0.007809425704181194,\n",
       "   -0.015307512134313583,\n",
       "   0.025516843423247337,\n",
       "   0.0020820810459554195,\n",
       "   0.017512831836938858,\n",
       "   -0.022299671545624733,\n",
       "   0.02370069921016693,\n",
       "   0.015813438221812248,\n",
       "   0.0025085508823394775,\n",
       "   -0.02098945342004299,\n",
       "   -0.00014158232079353184,\n",
       "   -0.001121307723224163,\n",
       "   0.029784785583615303,\n",
       "   -0.007588893640786409,\n",
       "   0.004514418542385101,\n",
       "   0.0006668659043498337,\n",
       "   0.011117404326796532,\n",
       "   0.010455808602273464,\n",
       "   -0.0017626340268179774,\n",
       "   -0.013322724029421806,\n",
       "   -0.022169947624206543,\n",
       "   -0.020470554009079933,\n",
       "   -0.002492335392162204,\n",
       "   0.0423680804669857,\n",
       "   0.012142229825258255,\n",
       "   -0.01931600458920002,\n",
       "   -0.013413531705737114,\n",
       "   -0.021884553134441376,\n",
       "   -0.019367894157767296,\n",
       "   -0.0318344347178936,\n",
       "   0.006015982013195753,\n",
       "   0.0015169678954407573,\n",
       "   0.0018291178857907653,\n",
       "   -0.018615491688251495,\n",
       "   -0.022481286898255348,\n",
       "   0.0009648272534832358,\n",
       "   0.013750815764069557,\n",
       "   0.015826409682631493,\n",
       "   -0.008522910997271538,\n",
       "   -0.006836490239948034,\n",
       "   0.019328976050019264,\n",
       "   -0.021352682262659073,\n",
       "   0.009645029902458191,\n",
       "   -0.0048387302085757256,\n",
       "   -0.001220222795382142,\n",
       "   -0.04304264858365059,\n",
       "   0.01931600458920002,\n",
       "   -0.009301259182393551,\n",
       "   -0.015566960908472538,\n",
       "   0.009430984035134315,\n",
       "   -0.008419131860136986,\n",
       "   -0.035285111516714096,\n",
       "   -0.002190725412219763,\n",
       "   0.014516191557049751,\n",
       "   0.017668500542640686,\n",
       "   0.021910497918725014,\n",
       "   -0.008354268968105316,\n",
       "   0.02323368936777115,\n",
       "   0.008438589982688427,\n",
       "   -0.010163928382098675,\n",
       "   -0.005561945494264364,\n",
       "   -0.02516658790409565,\n",
       "   0.0064894771203398705,\n",
       "   -0.023441249504685402,\n",
       "   -0.0028052960988134146,\n",
       "   -0.010838496498763561,\n",
       "   0.0017415537731721997,\n",
       "   0.02716434746980667,\n",
       "   -0.013984319753944874,\n",
       "   0.019860848784446716,\n",
       "   -0.003872281638905406,\n",
       "   -0.020314883440732956,\n",
       "   -0.019147362560033798,\n",
       "   -0.005571675021201372,\n",
       "   0.02637302689254284,\n",
       "   -0.014762667939066887,\n",
       "   0.02415473386645317,\n",
       "   0.0014131881762295961,\n",
       "   -0.01065688207745552,\n",
       "   -0.01660475879907608,\n",
       "   0.008905598893761635,\n",
       "   0.002947993343695998,\n",
       "   -0.006959728896617889,\n",
       "   0.01630639098584652,\n",
       "   0.006914325058460236,\n",
       "   -0.010423378087580204,\n",
       "   0.00424848310649395,\n",
       "   -0.005377087742090225,\n",
       "   -0.012641670182347298,\n",
       "   0.0034214884508401155,\n",
       "   -0.027761081233620644,\n",
       "   -0.010202845558524132,\n",
       "   0.006732710637152195,\n",
       "   -0.007102426141500473,\n",
       "   0.01598208025097847,\n",
       "   0.02245534211397171,\n",
       "   -0.030173959210515022,\n",
       "   -0.01755174808204174,\n",
       "   0.0021307277493178844,\n",
       "   -0.02667139284312725,\n",
       "   -0.007796452846378088,\n",
       "   -9.511454118182883e-05,\n",
       "   0.013374614529311657,\n",
       "   0.027890805155038834,\n",
       "   0.009197479113936424,\n",
       "   -0.002174509922042489,\n",
       "   0.013984319753944874,\n",
       "   0.003197713289409876,\n",
       "   0.014036210253834724,\n",
       "   -0.005587890278548002,\n",
       "   -0.010222304612398148,\n",
       "   0.00514034042134881,\n",
       "   -0.004465771839022636,\n",
       "   0.017110684886574745,\n",
       "   0.002456661080941558,\n",
       "   -0.03564834222197533,\n",
       "   -0.025387119501829147,\n",
       "   0.016903124749660492,\n",
       "   -0.0017918221419677138,\n",
       "   -0.016267474740743637,\n",
       "   0.02009435184299946,\n",
       "   -0.00577599136158824,\n",
       "   -0.00858128722757101,\n",
       "   -0.015216704457998276,\n",
       "   0.006311105564236641,\n",
       "   -0.008607232011854649,\n",
       "   -0.001738310675136745,\n",
       "   0.011921698227524757,\n",
       "   -0.007686187047511339,\n",
       "   -4.755727059091441e-05,\n",
       "   0.019757067784667015,\n",
       "   -0.025542788207530975,\n",
       "   0.0020318126771599054,\n",
       "   -0.006476504262536764,\n",
       "   -0.0030615024734288454,\n",
       "   -0.001976679777726531,\n",
       "   0.0007240258273668587,\n",
       "   -0.018407931551337242,\n",
       "   -0.004764138720929623,\n",
       "   0.015229676850140095,\n",
       "   -0.024310404434800148,\n",
       "   0.016397198662161827,\n",
       "   0.0046019828878343105,\n",
       "   -0.021871579810976982,\n",
       "   0.03948819264769554,\n",
       "   -0.010799579322338104,\n",
       "   -0.00039363332325592637,\n",
       "   -0.02176780067384243,\n",
       "   0.0038106623105704784,\n",
       "   -0.01055958867073059,\n",
       "   -0.011156322434544563,\n",
       "   0.023026129230856895,\n",
       "   -0.0011529281036928296,\n",
       "   -0.011266588233411312,\n",
       "   -0.019471673294901848,\n",
       "   -0.007076480891555548,\n",
       "   -0.029525335878133774,\n",
       "   -0.0025944935623556376,\n",
       "   -0.033417075872421265,\n",
       "   -0.005581404082477093,\n",
       "   -0.014606998302042484,\n",
       "   0.027008676901459694,\n",
       "   -0.006849463097751141,\n",
       "   -0.003453919431194663,\n",
       "   -0.002043163636699319,\n",
       "   -0.010118524543941021,\n",
       "   -0.014412411488592625,\n",
       "   -0.007802939508110285,\n",
       "   -0.0084969662129879,\n",
       "   0.018537655472755432,\n",
       "   0.012544375844299793,\n",
       "   -0.004806299228221178,\n",
       "   -0.004686303902417421,\n",
       "   -0.004024708177894354,\n",
       "   -0.028980493545532227,\n",
       "   -0.005532757379114628,\n",
       "   0.018278207629919052,\n",
       "   -0.0014861583476886153,\n",
       "   0.02408987283706665,\n",
       "   0.2021629363298416,\n",
       "   6.73453469062224e-05,\n",
       "   -0.0030566377099603415,\n",
       "   0.04179729148745537,\n",
       "   0.007102426141500473,\n",
       "   0.003296628361567855,\n",
       "   0.015891272574663162,\n",
       "   0.021222956478595734,\n",
       "   -0.021002424880862236,\n",
       "   0.01977004110813141,\n",
       "   -0.019912738353013992,\n",
       "   0.013426504097878933,\n",
       "   -0.021197011694312096,\n",
       "   0.0011991424253210425,\n",
       "   0.01497022807598114,\n",
       "   -0.00577599136158824,\n",
       "   -0.03131553530693054,\n",
       "   -0.00812076497823,\n",
       "   -0.03523322194814682,\n",
       "   -0.01289463322609663,\n",
       "   -0.012148715555667877,\n",
       "   -0.0026447619311511517,\n",
       "   -0.017538776621222496,\n",
       "   -0.002048028400167823,\n",
       "   0.03611534833908081,\n",
       "   0.01390648540109396,\n",
       "   0.003045286750420928,\n",
       "   0.006810545455664396,\n",
       "   0.018018757924437523,\n",
       "   0.006901352666318417,\n",
       "   -0.012155202217400074,\n",
       "   -0.03461054340004921,\n",
       "   0.01389351300895214,\n",
       "   0.012790853157639503,\n",
       "   -0.0010021231137216091,\n",
       "   -0.007978067733347416,\n",
       "   -0.007705645635724068,\n",
       "   0.0017545262817293406,\n",
       "   0.017214464023709297,\n",
       "   -0.0030404222197830677,\n",
       "   -0.0019247898599132895,\n",
       "   0.012615724466741085,\n",
       "   0.015476154163479805,\n",
       "   -0.015216704457998276,\n",
       "   -0.01673448272049427,\n",
       "   0.007504572626203299,\n",
       "   ...],\n",
       "  {'text': 'hi',\n",
       "   'date_uploaded': datetime.datetime(2024, 4, 14, 6, 5, 1, 534517)}),\n",
       " ('5d41402abc4b2a76b9719d911017c592',\n",
       "  [-0.02515980415046215,\n",
       "   -0.01951141469180584,\n",
       "   -0.02793770097196102,\n",
       "   -0.03100661374628544,\n",
       "   -0.02473650500178337,\n",
       "   0.02762022614479065,\n",
       "   -0.012619586661458015,\n",
       "   -0.008446128107607365,\n",
       "   -0.01756688766181469,\n",
       "   -0.00835353136062622,\n",
       "   0.03254107013344765,\n",
       "   0.004289204254746437,\n",
       "   -0.02465713769197464,\n",
       "   -0.000615519005805254,\n",
       "   0.014154043048620224,\n",
       "   -0.001603077631443739,\n",
       "   0.03952549770474434,\n",
       "   0.0021363345440477133,\n",
       "   0.027091102674603462,\n",
       "   -0.012467463500797749,\n",
       "   -0.021045871078968048,\n",
       "   0.008962023071944714,\n",
       "   0.008379987441003323,\n",
       "   -0.0032359184697270393,\n",
       "   -0.0053705996833741665,\n",
       "   -0.009603584185242653,\n",
       "   0.01119095366448164,\n",
       "   -0.0015377640957012773,\n",
       "   0.003525282721966505,\n",
       "   -0.023268189281225204,\n",
       "   0.006838916335254908,\n",
       "   -0.007850863970816135,\n",
       "   -0.0239031370729208,\n",
       "   -0.008922338485717773,\n",
       "   0.006871986202895641,\n",
       "   -0.013730744831264019,\n",
       "   0.009563900530338287,\n",
       "   -0.014154043048620224,\n",
       "   0.02205120585858822,\n",
       "   -0.010569234378635883,\n",
       "   0.0033863878343254328,\n",
       "   -0.01461702585220337,\n",
       "   0.005373906809836626,\n",
       "   -0.014921272173523903,\n",
       "   -0.03185321018099785,\n",
       "   0.01631022058427334,\n",
       "   -0.005499573424458504,\n",
       "   -0.0065710474736988544,\n",
       "   -0.009735865518450737,\n",
       "   0.034657564014196396,\n",
       "   0.026416471228003502,\n",
       "   0.009153829887509346,\n",
       "   -0.01968337967991829,\n",
       "   -0.007996372878551483,\n",
       "   -0.005747599992901087,\n",
       "   -0.005704608745872974,\n",
       "   -0.013585235923528671,\n",
       "   0.006127906963229179,\n",
       "   0.0008747066603973508,\n",
       "   -0.03867889940738678,\n",
       "   -0.0003612918662838638,\n",
       "   0.019048431888222694,\n",
       "   -0.015437167137861252,\n",
       "   0.01874418556690216,\n",
       "   -0.000295771547826007,\n",
       "   0.010714743286371231,\n",
       "   0.01916748471558094,\n",
       "   0.00397173035889864,\n",
       "   -0.004467783495783806,\n",
       "   0.022170258685946465,\n",
       "   0.025278856977820396,\n",
       "   0.017289098352193832,\n",
       "   0.006951354909688234,\n",
       "   -0.01808278262615204,\n",
       "   0.019114572554826736,\n",
       "   -0.010866865515708923,\n",
       "   -0.007295284885913134,\n",
       "   -0.005413590930402279,\n",
       "   -0.014564113691449165,\n",
       "   0.0013476103777065873,\n",
       "   0.015834009274840355,\n",
       "   -0.0249878391623497,\n",
       "   -0.008399829268455505,\n",
       "   0.013280990533530712,\n",
       "   0.019021976739168167,\n",
       "   0.015066780149936676,\n",
       "   -0.021654363721609116,\n",
       "   0.024035416543483734,\n",
       "   -0.009702795185148716,\n",
       "   -0.028995946049690247,\n",
       "   -0.001744452747516334,\n",
       "   0.018109237775206566,\n",
       "   0.00882312748581171,\n",
       "   0.024961382150650024,\n",
       "   -0.021310433745384216,\n",
       "   0.0027993919793516397,\n",
       "   -0.015000640414655209,\n",
       "   0.03164156153798103,\n",
       "   -0.0018304352415725589,\n",
       "   -0.008161723613739014,\n",
       "   -0.0013368625659495592,\n",
       "   0.013823341578245163,\n",
       "   -0.0007486265385523438,\n",
       "   -0.004018028732389212,\n",
       "   -0.03248815983533859,\n",
       "   -0.00941839162260294,\n",
       "   -0.012024322524666786,\n",
       "   -0.007295284885913134,\n",
       "   0.02381053939461708,\n",
       "   0.01000042725354433,\n",
       "   -0.005301152355968952,\n",
       "   0.026747172698378563,\n",
       "   -0.002510027727112174,\n",
       "   -0.04452570900321007,\n",
       "   -0.014881587587296963,\n",
       "   -0.006614038720726967,\n",
       "   -0.005208555608987808,\n",
       "   -0.0037071688566356897,\n",
       "   -0.012222743593156338,\n",
       "   -0.020662257447838783,\n",
       "   0.016839342191815376,\n",
       "   0.002222317038103938,\n",
       "   0.026813313364982605,\n",
       "   -0.00361126521602273,\n",
       "   0.02197183668613434,\n",
       "   0.004295818042010069,\n",
       "   -0.0173816941678524,\n",
       "   -0.017037764191627502,\n",
       "   0.004553765989840031,\n",
       "   -0.006415617652237415,\n",
       "   0.03367868438363075,\n",
       "   0.003773309290409088,\n",
       "   -0.0038427566178143024,\n",
       "   -0.00449754623696208,\n",
       "   -0.020490292459726334,\n",
       "   0.019352678209543228,\n",
       "   -0.021429486572742462,\n",
       "   0.025027522817254066,\n",
       "   -0.039737146347761154,\n",
       "   -0.026892682537436485,\n",
       "   -0.01444506086409092,\n",
       "   0.03269980847835541,\n",
       "   -0.00035674471291713417,\n",
       "   -0.003525282721966505,\n",
       "   -0.023453382775187492,\n",
       "   0.008585022762417793,\n",
       "   0.013241305947303772,\n",
       "   -0.0011185993207618594,\n",
       "   0.006547898519784212,\n",
       "   -0.014392148703336716,\n",
       "   0.0008928952738642693,\n",
       "   0.0012111958349123597,\n",
       "   0.01228227000683546,\n",
       "   -0.004368572495877743,\n",
       "   0.0020635800901800394,\n",
       "   0.013638148084282875,\n",
       "   -0.01026498805731535,\n",
       "   0.008413057774305344,\n",
       "   -0.006752933841198683,\n",
       "   -0.013155323453247547,\n",
       "   -0.011931725777685642,\n",
       "   0.0031582035589963198,\n",
       "   0.012619586661458015,\n",
       "   -0.008770215325057507,\n",
       "   -0.010556005872786045,\n",
       "   0.023162364959716797,\n",
       "   0.017685940489172935,\n",
       "   0.016786430031061172,\n",
       "   -0.001349263940937817,\n",
       "   -0.003032536944374442,\n",
       "   0.011548112146556377,\n",
       "   0.010999146848917007,\n",
       "   -0.03526605665683746,\n",
       "   0.02120460942387581,\n",
       "   0.002600970910862088,\n",
       "   0.009722637012600899,\n",
       "   0.018188606947660446,\n",
       "   0.015979517251253128,\n",
       "   -0.02415446937084198,\n",
       "   -0.04153616353869438,\n",
       "   -0.016151482239365578,\n",
       "   0.008518882095813751,\n",
       "   0.019405590370297432,\n",
       "   0.03844079375267029,\n",
       "   -0.012646042741835117,\n",
       "   0.00924642663449049,\n",
       "   0.017024535685777664,\n",
       "   0.009749093092978,\n",
       "   0.002614198951050639,\n",
       "   -0.020887134596705437,\n",
       "   0.008816514164209366,\n",
       "   0.022408364340662956,\n",
       "   0.033731598407030106,\n",
       "   -0.013294218108057976,\n",
       "   -0.7035220861434937,\n",
       "   -0.005760828033089638,\n",
       "   0.026548752561211586,\n",
       "   0.009279496967792511,\n",
       "   0.013611692003905773,\n",
       "   0.0484941340982914,\n",
       "   0.025040751323103905,\n",
       "   0.013208235614001751,\n",
       "   -0.022514188662171364,\n",
       "   0.0378587581217289,\n",
       "   0.012659270316362381,\n",
       "   0.017580116167664528,\n",
       "   0.007262214552611113,\n",
       "   -0.009272882714867592,\n",
       "   0.00882312748581171,\n",
       "   0.0008912417688407004,\n",
       "   -0.0034955195151269436,\n",
       "   -0.0032193835359066725,\n",
       "   0.00599231943488121,\n",
       "   0.0019875187426805496,\n",
       "   -0.013148709200322628,\n",
       "   0.0067860037088394165,\n",
       "   -0.020053766667842865,\n",
       "   0.015344570390880108,\n",
       "   0.004583528731018305,\n",
       "   0.002964742947369814,\n",
       "   0.016931939870119095,\n",
       "   -0.007374653592705727,\n",
       "   -0.012593129649758339,\n",
       "   0.02128397673368454,\n",
       "   -0.013466183096170425,\n",
       "   0.005846810527145863,\n",
       "   0.007255600765347481,\n",
       "   -0.004305739421397448,\n",
       "   0.03902282938361168,\n",
       "   -0.0030904095619916916,\n",
       "   0.007797951810061932,\n",
       "   0.022659696638584137,\n",
       "   0.009259654209017754,\n",
       "   0.039816513657569885,\n",
       "   -0.010661831125617027,\n",
       "   -0.016865799203515053,\n",
       "   0.0036509495694190264,\n",
       "   -0.002425698796287179,\n",
       "   0.012315340340137482,\n",
       "   0.006207275670021772,\n",
       "   -0.0013930819695815444,\n",
       "   -0.0008978557889349759,\n",
       "   -0.0004018028557766229,\n",
       "   -0.007685513235628605,\n",
       "   0.014947728253901005,\n",
       "   4.4618926040129736e-05,\n",
       "   -0.02222317084670067,\n",
       "   0.004901002626866102,\n",
       "   0.0051424154080450535,\n",
       "   -0.00992105808109045,\n",
       "   0.016164710745215416,\n",
       "   -0.018122466281056404,\n",
       "   0.003918818198144436,\n",
       "   0.023678259924054146,\n",
       "   0.009510988369584084,\n",
       "   -0.002594356657937169,\n",
       "   -0.016191167756915092,\n",
       "   -0.007004267070442438,\n",
       "   -0.01465671043843031,\n",
       "   0.0020288564264774323,\n",
       "   -0.01377042941749096,\n",
       "   -0.015000640414655209,\n",
       "   -0.005863345693796873,\n",
       "   0.003121826332062483,\n",
       "   -0.003885747864842415,\n",
       "   0.014220183715224266,\n",
       "   -0.012235972099006176,\n",
       "   0.003201194806024432,\n",
       "   0.012864305637776852,\n",
       "   0.02685299701988697,\n",
       "   0.019021976739168167,\n",
       "   -0.01533134188503027,\n",
       "   -0.006957968696951866,\n",
       "   0.009431619197130203,\n",
       "   0.004533923696726561,\n",
       "   -0.0073217409662902355,\n",
       "   -0.01571495644748211,\n",
       "   -0.01371751632541418,\n",
       "   0.03537188097834587,\n",
       "   -0.015000640414655209,\n",
       "   -0.024180926382541656,\n",
       "   0.003885747864842415,\n",
       "   0.002918444573879242,\n",
       "   0.010549391619861126,\n",
       "   0.027831874787807465,\n",
       "   0.02870492823421955,\n",
       "   0.007348197046667337,\n",
       "   -0.0249878391623497,\n",
       "   -0.0038460635114461184,\n",
       "   0.0009218316990882158,\n",
       "   -0.027514401823282242,\n",
       "   0.00945146195590496,\n",
       "   -0.0012616278836503625,\n",
       "   -0.02804352529346943,\n",
       "   -0.0025513654109090567,\n",
       "   -0.00035736479912884533,\n",
       "   -0.012950288131833076,\n",
       "   -0.011812673881649971,\n",
       "   0.034419458359479904,\n",
       "   0.00996735692024231,\n",
       "   -0.02439257502555847,\n",
       "   0.03926093503832817,\n",
       "   0.026059312745928764,\n",
       "   -0.01907488889992237,\n",
       "   -0.004008107353001833,\n",
       "   0.006445380859076977,\n",
       "   -0.008637934923171997,\n",
       "   0.01262619998306036,\n",
       "   0.009100917726755142,\n",
       "   -0.026707489043474197,\n",
       "   -0.004438020288944244,\n",
       "   0.015648815780878067,\n",
       "   0.022011522203683853,\n",
       "   -0.026654576882719994,\n",
       "   -0.006508214399218559,\n",
       "   0.0006415617535822093,\n",
       "   0.019021976739168167,\n",
       "   -0.003925431985408068,\n",
       "   -0.0015749679878354073,\n",
       "   0.025781523436307907,\n",
       "   0.0010202154517173767,\n",
       "   -0.0074606360867619514,\n",
       "   -0.018175378441810608,\n",
       "   0.009630040265619755,\n",
       "   0.01654832623898983,\n",
       "   -0.0020123212598264217,\n",
       "   0.007950074970722198,\n",
       "   -0.014299551956355572,\n",
       "   0.015569447539746761,\n",
       "   -0.02465713769197464,\n",
       "   -0.002916791243478656,\n",
       "   -0.02271260879933834,\n",
       "   -0.002162790624424815,\n",
       "   -0.005281310062855482,\n",
       "   0.004758800845593214,\n",
       "   0.0037237037904560566,\n",
       "   -0.007447407580912113,\n",
       "   -0.005479731131345034,\n",
       "   0.004616599064320326,\n",
       "   -0.011819287203252316,\n",
       "   -0.006187433376908302,\n",
       "   -0.006399082485586405,\n",
       "   -0.0013889481779187918,\n",
       "   0.003168124705553055,\n",
       "   0.010556005872786045,\n",
       "   0.0031747387256473303,\n",
       "   -0.004107318352907896,\n",
       "   0.017685940489172935,\n",
       "   0.022395135834813118,\n",
       "   -0.016667377203702927,\n",
       "   0.007678898982703686,\n",
       "   -0.012791551649570465,\n",
       "   -0.02374439872801304,\n",
       "   -0.00882312748581171,\n",
       "   -0.007870706729590893,\n",
       "   0.01444506086409092,\n",
       "   -0.023321101441979408,\n",
       "   -0.0021892469376325607,\n",
       "   -0.00793684646487236,\n",
       "   -0.02719692885875702,\n",
       "   0.0037203968968242407,\n",
       "   0.010079795494675636,\n",
       "   0.005869959481060505,\n",
       "   -0.04592788591980934,\n",
       "   0.025305312126874924,\n",
       "   -0.020252186805009842,\n",
       "   -0.02179987169802189,\n",
       "   0.01410113088786602,\n",
       "   0.01900874823331833,\n",
       "   0.00489769596606493,\n",
       "   -0.011706848628818989,\n",
       "   0.004613291937857866,\n",
       "   -0.003189620329067111,\n",
       "   -0.01317516528069973,\n",
       "   0.008075741119682789,\n",
       "   -0.004507467616349459,\n",
       "   -0.008538723923265934,\n",
       "   0.006137827876955271,\n",
       "   0.026813313364982605,\n",
       "   -0.001004507183097303,\n",
       "   0.005932793021202087,\n",
       "   0.022659696638584137,\n",
       "   -0.021561766043305397,\n",
       "   0.018704501911997795,\n",
       "   0.011997866444289684,\n",
       "   0.014167271554470062,\n",
       "   -0.01465671043843031,\n",
       "   9.331995534012094e-05,\n",
       "   0.013902709819376469,\n",
       "   0.0023694795090705156,\n",
       "   0.0006837262772023678,\n",
       "   0.009616812691092491,\n",
       "   0.006131214089691639,\n",
       "   0.017328782007098198,\n",
       "   0.03629784658551216,\n",
       "   -0.014220183715224266,\n",
       "   0.01840025559067726,\n",
       "   -0.022249625995755196,\n",
       "   -0.016283763572573662,\n",
       "   -0.02668103203177452,\n",
       "   -0.0036377212963998318,\n",
       "   -0.015662044286727905,\n",
       "   0.02026541531085968,\n",
       "   0.02575506828725338,\n",
       "   -0.0062701087445020676,\n",
       "   -0.014299551956355572,\n",
       "   0.00306229991838336,\n",
       "   0.0032491465099155903,\n",
       "   0.02517303265631199,\n",
       "   0.035927459597587585,\n",
       "   -0.010622146539390087,\n",
       "   0.007831022143363953,\n",
       "   -0.01423341128975153,\n",
       "   -0.007255600765347481,\n",
       "   -0.001565046957693994,\n",
       "   -0.01034435722976923,\n",
       "   0.008300619199872017,\n",
       "   -0.00379976537078619,\n",
       "   0.007606144528836012,\n",
       "   0.02288457378745079,\n",
       "   0.014762534759938717,\n",
       "   0.03248815983533859,\n",
       "   0.005453275050967932,\n",
       "   -0.0015915031544864178,\n",
       "   -0.014206955209374428,\n",
       "   0.011171111837029457,\n",
       "   0.009828462265431881,\n",
       "   0.010595690459012985,\n",
       "   -0.00020978903921786696,\n",
       "   -0.011687006801366806,\n",
       "   0.013089182786643505,\n",
       "   -0.02153531089425087,\n",
       "   0.03158865123987198,\n",
       "   -0.019974397495388985,\n",
       "   -0.0011417485075071454,\n",
       "   0.032038405537605286,\n",
       "   0.034234266728162766,\n",
       "   -0.034234266728162766,\n",
       "   0.0009896255796775222,\n",
       "   0.016759974882006645,\n",
       "   0.008049285039305687,\n",
       "   0.004676125477999449,\n",
       "   0.023836996406316757,\n",
       "   0.026323875412344933,\n",
       "   0.0009648229461163282,\n",
       "   0.00398826552554965,\n",
       "   0.002141295000910759,\n",
       "   -0.008571794256567955,\n",
       "   0.0019197247456759214,\n",
       "   -0.020450608804821968,\n",
       "   -0.012037551030516624,\n",
       "   0.009987198747694492,\n",
       "   0.015900149941444397,\n",
       "   0.025146575644612312,\n",
       "   0.0018320888048037887,\n",
       "   0.011012374423444271,\n",
       "   0.0062965648248791695,\n",
       "   -0.0009243119275197387,\n",
       "   0.01000042725354433,\n",
       "   0.007540004327893257,\n",
       "   -0.008009601384401321,\n",
       "   -0.007672285195440054,\n",
       "   -0.0019213783089071512,\n",
       "   0.0066239601001143456,\n",
       "   0.008234478533267975,\n",
       "   -0.002878760453313589,\n",
       "   0.03227651119232178,\n",
       "   -0.031059525907039642,\n",
       "   0.02373117208480835,\n",
       "   0.00761937303468585,\n",
       "   -0.0040114144794642925,\n",
       "   0.005165564361959696,\n",
       "   -0.016230851411819458,\n",
       "   -0.018096011132001877,\n",
       "   -0.023241732269525528,\n",
       "   -0.026985278353095055,\n",
       "   0.004454554989933968,\n",
       "   0.010727970860898495,\n",
       "   0.010073181241750717,\n",
       "   -0.008287390694022179,\n",
       "   -0.05373245105147362,\n",
       "   0.0007845903746783733,\n",
       "   0.010556005872786045,\n",
       "   0.01689225621521473,\n",
       "   0.00722253043204546,\n",
       "   0.01317516528069973,\n",
       "   0.02846682257950306,\n",
       "   -0.02169404737651348,\n",
       "   -0.0047753360122442245,\n",
       "   0.006428845692425966,\n",
       "   0.03489566966891289,\n",
       "   -0.0015956368297338486,\n",
       "   0.0033301685471087694,\n",
       "   0.011283550411462784,\n",
       "   -0.004451248329132795,\n",
       "   0.0003714196209330112,\n",
       "   0.015754640102386475,\n",
       "   -0.01900874823331833,\n",
       "   -0.004613291937857866,\n",
       "   0.0050035202875733376,\n",
       "   -0.011276936158537865,\n",
       "   -0.011415830813348293,\n",
       "   0.0034459142480045557,\n",
       "   0.003024269361048937,\n",
       "   -0.005182099528610706,\n",
       "   0.01502709649503231,\n",
       "   -0.011243865825235844,\n",
       "   -0.002200821414589882,\n",
       "   0.0028390760999172926,\n",
       "   0.0022421590983867645,\n",
       "   -0.020715169608592987,\n",
       "   -0.008571794256567955,\n",
       "   0.02059611678123474,\n",
       "   -0.023413697257637978,\n",
       "   -0.018016641959547997,\n",
       "   -0.009325794875621796,\n",
       "   -0.001051632221788168,\n",
       "   0.010648602619767189,\n",
       "   0.05539919063448906,\n",
       "   0.024961382150650024,\n",
       "   0.002237198641523719,\n",
       "   -0.013691060245037079,\n",
       "   0.0011367879342287779,\n",
       "   0.01892937906086445,\n",
       "   -0.020463835448026657,\n",
       "   -0.01300320029258728,\n",
       "   -0.014974184334278107,\n",
       "   -0.018545765429735184,\n",
       "   0.0022520802449434996,\n",
       "   -0.009391935542225838,\n",
       "   -0.021006187424063683,\n",
       "   0.030874334275722504,\n",
       "   0.01739492267370224,\n",
       "   0.00253483047708869,\n",
       "   0.011204182170331478,\n",
       "   -0.002963089384138584,\n",
       "   -0.0031747387256473303,\n",
       "   0.0031846596393734217,\n",
       "   -0.00414038822054863,\n",
       "   -0.013023043051362038,\n",
       "   0.005168871488422155,\n",
       "   0.017672711983323097,\n",
       "   0.02220994234085083,\n",
       "   -0.007189460098743439,\n",
       "   0.017421377822756767,\n",
       "   0.022672925144433975,\n",
       "   -0.00036873266799375415,\n",
       "   -0.014881587587296963,\n",
       "   -0.0036278003826737404,\n",
       "   -0.00018757001089397818,\n",
       "   0.01207723468542099,\n",
       "   0.008512267842888832,\n",
       "   0.012619586661458015,\n",
       "   0.024432260543107986,\n",
       "   -0.013743972405791283,\n",
       "   0.014339236542582512,\n",
       "   0.00835353136062622,\n",
       "   -0.0027597076259553432,\n",
       "   0.012202901765704155,\n",
       "   0.012348410673439503,\n",
       "   0.00996074266731739,\n",
       "   -0.02137657441198826,\n",
       "   0.0010202154517173767,\n",
       "   -0.010225304402410984,\n",
       "   -0.013942394405603409,\n",
       "   0.024366119876503944,\n",
       "   -0.006838916335254908,\n",
       "   -0.015080008655786514,\n",
       "   0.03455173969268799,\n",
       "   0.002713409485295415,\n",
       "   -0.01722295768558979,\n",
       "   -0.016839342191815376,\n",
       "   -0.0037567741237580776,\n",
       "   0.006227117497473955,\n",
       "   -0.01406144630163908,\n",
       "   -0.006924898829311132,\n",
       "   -0.006924898829311132,\n",
       "   -0.0025166417472064495,\n",
       "   0.0005394575418904424,\n",
       "   -0.020066993311047554,\n",
       "   -0.0005795551696792245,\n",
       "   0.005635160952806473,\n",
       "   -0.02904885821044445,\n",
       "   -0.039895880967378616,\n",
       "   -0.02627096325159073,\n",
       "   0.00019449407409410924,\n",
       "   -0.012427778914570808,\n",
       "   0.008922338485717773,\n",
       "   -0.013406656682491302,\n",
       "   -0.0061609772965312,\n",
       "   -0.008975250646471977,\n",
       "   -0.01152826938778162,\n",
       "   0.0008589982753619552,\n",
       "   0.01355877984315157,\n",
       "   0.0006630573770962656,\n",
       "   -0.011594410054385662,\n",
       "   0.02027864381670952,\n",
       "   0.006005547475069761,\n",
       "   -0.0015328035224229097,\n",
       "   -0.03232942149043083,\n",
       "   -0.0017411457374691963,\n",
       "   -0.023625347763299942,\n",
       "   -0.005106037948280573,\n",
       "   -0.003189620329067111,\n",
       "   -0.006743012461811304,\n",
       "   -0.004457862116396427,\n",
       "   -0.010827181860804558,\n",
       "   0.01670706272125244,\n",
       "   0.02575506828725338,\n",
       "   0.016601238399744034,\n",
       "   -0.0028126200195401907,\n",
       "   -0.0013335555559024215,\n",
       "   0.009881374426186085,\n",
       "   -0.0025844357442110777,\n",
       "   0.013486024923622608,\n",
       "   0.006114678923040628,\n",
       "   -0.012083848938345909,\n",
       "   -0.011521656066179276,\n",
       "   0.011898656375706196,\n",
       "   -0.0051093450747430325,\n",
       "   -0.0066504161804914474,\n",
       "   -0.009100917726755142,\n",
       "   0.017937272787094116,\n",
       "   0.0020354704465717077,\n",
       "   0.012692340649664402,\n",
       "   0.025993172079324722,\n",
       "   -0.0038526777643710375,\n",
       "   -0.010443567298352718,\n",
       "   0.03497503697872162,\n",
       "   -0.012738638557493687,\n",
       "   0.017037764191627502,\n",
       "   -0.0020057072397321463,\n",
       "   -0.0046529765240848064,\n",
       "   0.006792617961764336,\n",
       "   0.0064222319051623344,\n",
       "   0.02939278818666935,\n",
       "   -0.026416471228003502,\n",
       "   -0.014643481932580471,\n",
       "   0.003227650886401534,\n",
       "   -0.05825645476579666,\n",
       "   0.01731555350124836,\n",
       "   0.007394495420157909,\n",
       "   0.006187433376908302,\n",
       "   0.0011657243594527245,\n",
       "   0.01941881887614727,\n",
       "   -0.0130098145455122,\n",
       "   0.002429005689918995,\n",
       "   0.0017494133207947016,\n",
       "   -0.007255600765347481,\n",
       "   0.015569447539746761,\n",
       "   -0.00814849603921175,\n",
       "   -0.0173816941678524,\n",
       "   -0.0319061242043972,\n",
       "   -0.0058600385673344135,\n",
       "   -0.012255813926458359,\n",
       "   0.0028754533268511295,\n",
       "   -0.009312566369771957,\n",
       "   -0.03656240552663803,\n",
       "   -0.030133560299873352,\n",
       "   -0.015080008655786514,\n",
       "   0.013142094947397709,\n",
       "   -0.027567313984036446,\n",
       "   -0.01833411492407322,\n",
       "   -0.0471184141933918,\n",
       "   -0.005072967614978552,\n",
       "   0.0058137401938438416,\n",
       "   -0.0004096570482943207,\n",
       "   0.013677832670509815,\n",
       "   -0.0066371881403028965,\n",
       "   0.010073181241750717,\n",
       "   -0.027302753180265427,\n",
       "   -0.02812289260327816,\n",
       "   -0.008631320670247078,\n",
       "   -0.024273522198200226,\n",
       "   -0.0021942073944956064,\n",
       "   -0.004609985277056694,\n",
       "   0.03849370777606964,\n",
       "   0.02881075255572796,\n",
       "   0.01571495644748211,\n",
       "   0.012222743593156338,\n",
       "   0.008981864899396896,\n",
       "   -0.0058732666075229645,\n",
       "   0.00361126521602273,\n",
       "   0.01832088828086853,\n",
       "   -0.0006944740889593959,\n",
       "   0.004143695347011089,\n",
       "   -0.010225304402410984,\n",
       "   0.01461702585220337,\n",
       "   0.025860892608761787,\n",
       "   0.031879667192697525,\n",
       "   0.0048348624259233475,\n",
       "   -0.012136761099100113,\n",
       "   0.008201408199965954,\n",
       "   0.013836569152772427,\n",
       "   -0.006991039030253887,\n",
       "   -2.2645332137471996e-05,\n",
       "   -0.005641775205731392,\n",
       "   -0.019498186185956,\n",
       "   -0.013122253119945526,\n",
       "   0.0018304352415725589,\n",
       "   -0.011892042122781277,\n",
       "   0.004692660644650459,\n",
       "   0.012996586039662361,\n",
       "   -0.009127373807132244,\n",
       "   0.026151910424232483,\n",
       "   0.027752507477998734,\n",
       "   0.031112438067793846,\n",
       "   0.001386467949487269,\n",
       "   0.030001280829310417,\n",
       "   -0.011138041503727436,\n",
       "   0.030636228621006012,\n",
       "   0.01026498805731535,\n",
       "   0.017937272787094116,\n",
       "   0.019458502531051636,\n",
       "   -0.01440537627786398,\n",
       "   -0.016839342191815376,\n",
       "   -0.018783871084451675,\n",
       "   0.009702795185148716,\n",
       "   -0.0014063100097700953,\n",
       "   0.02043738029897213,\n",
       "   -0.015146149322390556,\n",
       "   -0.007632601074874401,\n",
       "   -0.017342010512948036,\n",
       "   0.029604438692331314,\n",
       "   -0.012659270316362381,\n",
       "   -0.00849242601543665,\n",
       "   -0.006617345847189426,\n",
       "   -0.010238531976938248,\n",
       "   -0.01283123530447483,\n",
       "   -0.038996372371912,\n",
       "   -0.014630254358053207,\n",
       "   -0.008512267842888832,\n",
       "   0.004626519978046417,\n",
       "   0.0002558806154411286,\n",
       "   -0.016680605709552765,\n",
       "   0.033387668430805206,\n",
       "   -0.021918924525380135,\n",
       "   -0.018360571935772896,\n",
       "   0.002592703327536583,\n",
       "   -0.006442073732614517,\n",
       "   0.021045871078968048,\n",
       "   -0.0012599744368344545,\n",
       "   0.014802219346165657,\n",
       "   0.011098356917500496,\n",
       "   -0.023030083626508713,\n",
       "   -0.028837209567427635,\n",
       "   -0.0002567073970567435,\n",
       "   -0.011647322215139866,\n",
       "   -0.01465671043843031,\n",
       "   0.020834222435951233,\n",
       "   0.0010193887865170836,\n",
       "   0.0011731651611626148,\n",
       "   -0.017950501292943954,\n",
       "   0.00038754133856855333,\n",
       "   -0.010364199057221413,\n",
       "   -0.017421377822756767,\n",
       "   -0.009378707036376,\n",
       "   0.012526989914476871,\n",
       "   0.01765948347747326,\n",
       "   -0.008962023071944714,\n",
       "   -0.019895028322935104,\n",
       "   -0.0043189674615859985,\n",
       "   -0.021350117400288582,\n",
       "   0.02652229554951191,\n",
       "   0.01029805839061737,\n",
       "   -0.010800725780427456,\n",
       "   -0.008776829577982426,\n",
       "   0.004504160489886999,\n",
       "   -0.014220183715224266,\n",
       "   0.019498186185956,\n",
       "   -0.012401322834193707,\n",
       "   0.009815233759582043,\n",
       "   0.023360785096883774,\n",
       "   -0.017170045524835587,\n",
       "   -0.017209729179739952,\n",
       "   0.006015468388795853,\n",
       "   -0.018770642578601837,\n",
       "   0.014550885185599327,\n",
       "   -0.00740772346034646,\n",
       "   0.01502709649503231,\n",
       "   -0.012044165283441544,\n",
       "   0.0019197247456759214,\n",
       "   0.014603798277676105,\n",
       "   -0.007652442902326584,\n",
       "   -0.03132408857345581,\n",
       "   -0.012196287512779236,\n",
       "   -0.002200821414589882,\n",
       "   0.026469383388757706,\n",
       "   -0.025106891989707947,\n",
       "   0.015609132125973701,\n",
       "   -0.0038328354712575674,\n",
       "   4.433473077369854e-05,\n",
       "   0.01444506086409092,\n",
       "   0.0008362625376321375,\n",
       "   -0.012632814235985279,\n",
       "   -0.028652016073465347,\n",
       "   -0.0201860461384058,\n",
       "   -0.0010681672720238566,\n",
       "   0.026151910424232483,\n",
       "   0.010754426941275597,\n",
       "   -0.0025249093305319548,\n",
       "   -0.0034227650612592697,\n",
       "   -0.0029796245507895947,\n",
       "   -0.026138681918382645,\n",
       "   -0.034075528383255005,\n",
       "   0.008776829577982426,\n",
       "   0.002473650500178337,\n",
       "   -0.0008205542108044028,\n",
       "   -0.012189673259854317,\n",
       "   -0.013876253738999367,\n",
       "   -0.0031416683923453093,\n",
       "   0.008981864899396896,\n",
       "   0.014326008036732674,\n",
       "   -0.026416471228003502,\n",
       "   0.02515980415046215,\n",
       "   0.015423938632011414,\n",
       "   -0.03243524581193924,\n",
       "   -0.00485801137983799,\n",
       "   -0.00472573097795248,\n",
       "   -0.00924642663449049,\n",
       "   -0.029921911656856537,\n",
       "   0.013122253119945526,\n",
       "   -0.005327608436346054,\n",
       "   -0.019524643197655678,\n",
       "   0.010152549482882023,\n",
       "   -0.017447834834456444,\n",
       "   -0.02002730965614319,\n",
       "   0.015093237161636353,\n",
       "   0.01267249882221222,\n",
       "   0.011541497893631458,\n",
       "   0.013942394405603409,\n",
       "   0.007718583568930626,\n",
       "   0.01723618619143963,\n",
       "   0.018096011132001877,\n",
       "   0.006111371796578169,\n",
       "   -0.008055899292230606,\n",
       "   -0.01977597549557686,\n",
       "   0.012381481006741524,\n",
       "   -0.018863238394260406,\n",
       "   0.012467463500797749,\n",
       "   -0.0073349690064787865,\n",
       "   -0.011839129962027073,\n",
       "   0.021257521584630013,\n",
       "   -0.01605888642370701,\n",
       "   0.01924685388803482,\n",
       "   0.006957968696951866,\n",
       "   -0.02304331213235855,\n",
       "   -0.002018935279920697,\n",
       "   -0.00034310328192077577,\n",
       "   -0.0005874093039892614,\n",
       "   -0.01799018494784832,\n",
       "   -0.006418924778699875,\n",
       "   -0.002415777649730444,\n",
       "   -0.0116076385602355,\n",
       "   -0.023413697257637978,\n",
       "   0.00759953074157238,\n",
       "   0.011581182479858398,\n",
       "   -0.012149989604949951,\n",
       "   0.015860464423894882,\n",
       "   -0.004662897437810898,\n",
       "   -0.0023860144428908825,\n",
       "   0.002857264829799533,\n",
       "   -0.0035318967420607805,\n",
       "   -0.0005894761998206377,\n",
       "   -0.008161723613739014,\n",
       "   -0.011964796110987663,\n",
       "   -0.005856731440871954,\n",
       "   -0.009557286277413368,\n",
       "   0.0005051472107879817,\n",
       "   0.032064858824014664,\n",
       "   0.010860252194106579,\n",
       "   -0.024299979209899902,\n",
       "   -0.01883678324520588,\n",
       "   0.009028162807226181,\n",
       "   -0.019061660394072533,\n",
       "   -0.008499040268361568,\n",
       "   -0.005916257854551077,\n",
       "   0.0012012748047709465,\n",
       "   0.019352678209543228,\n",
       "   0.017844676971435547,\n",
       "   0.005704608745872974,\n",
       "   0.017024535685777664,\n",
       "   -0.00882974173873663,\n",
       "   0.020450608804821968,\n",
       "   -0.02027864381670952,\n",
       "   -0.0068190740421414375,\n",
       "   0.01461702585220337,\n",
       "   0.009213356301188469,\n",
       "   0.013624920509755611,\n",
       "   -0.0072886706329882145,\n",
       "   -0.018558993935585022,\n",
       "   -0.03304373845458031,\n",
       "   0.008115425705909729,\n",
       "   0.0013757201377302408,\n",
       "   -0.01085363794118166,\n",
       "   0.01943204551935196,\n",
       "   -0.011898656375706196,\n",
       "   -0.018558993935585022,\n",
       "   -0.013942394405603409,\n",
       "   0.008254320360720158,\n",
       "   -0.02838745526969433,\n",
       "   -0.00790377613157034,\n",
       "   0.03124471940100193,\n",
       "   -0.02465713769197464,\n",
       "   0.00025381374871358275,\n",
       "   0.01047663763165474,\n",
       "   -0.020887134596705437,\n",
       "   -0.001709729083813727,\n",
       "   -0.017170045524835587,\n",
       "   0.0016716982936486602,\n",
       "   -0.0017262641340494156,\n",
       "   0.016521869227290154,\n",
       "   -0.005502880550920963,\n",
       "   -0.004811713472008705,\n",
       "   0.022342223674058914,\n",
       "   -0.03174738585948944,\n",
       "   0.020834222435951233,\n",
       "   0.008915724232792854,\n",
       "   -0.017461063340306282,\n",
       "   0.031059525907039642,\n",
       "   -0.0032342649064958096,\n",
       "   0.006964582949876785,\n",
       "   -0.016759974882006645,\n",
       "   0.004838169552385807,\n",
       "   -0.014021762646734715,\n",
       "   0.00043073928100056946,\n",
       "   0.014286324381828308,\n",
       "   -0.017606571316719055,\n",
       "   -0.02523917332291603,\n",
       "   -0.03098015859723091,\n",
       "   -0.0217866450548172,\n",
       "   -0.02112524025142193,\n",
       "   0.012024322524666786,\n",
       "   -0.030371665954589844,\n",
       "   -0.0018370492616668344,\n",
       "   -0.0019412203691899776,\n",
       "   0.0180695541203022,\n",
       "   0.0011549765476956964,\n",
       "   -0.008935566991567612,\n",
       "   -0.013247920200228691,\n",
       "   -0.01047663763165474,\n",
       "   -0.017791764810681343,\n",
       "   0.01033774297684431,\n",
       "   -0.009577128104865551,\n",
       "   0.014841903001070023,\n",
       "   -0.0010359238367527723,\n",
       "   0.00020338169997557998,\n",
       "   0.011290164664387703,\n",
       "   -0.018347343429923058,\n",
       "   -0.018347343429923058,\n",
       "   0.007540004327893257,\n",
       "   -0.0010111212031915784,\n",
       "   0.01578109711408615,\n",
       "   0.026297418400645256,\n",
       "   0.2098502218723297,\n",
       "   -0.013466183096170425,\n",
       "   -0.006280030123889446,\n",
       "   0.047912098467350006,\n",
       "   0.017130360007286072,\n",
       "   0.012857691384851933,\n",
       "   0.013743972405791283,\n",
       "   0.013472797349095345,\n",
       "   -0.004745572805404663,\n",
       "   0.035160232335329056,\n",
       "   -0.016005974262952805,\n",
       "   0.011885427869856358,\n",
       "   -0.016270535066723824,\n",
       "   0.005817047320306301,\n",
       "   0.014947728253901005,\n",
       "   0.004209835547953844,\n",
       "   -0.024934927001595497,\n",
       "   -0.018254747614264488,\n",
       "   -0.023215277120471,\n",
       "   -0.001980904722586274,\n",
       "   -0.007315127179026604,\n",
       "   -0.010529549792408943,\n",
       "   -0.021508853882551193,\n",
       "   -0.01533134188503027,\n",
       "   0.03629784658551216,\n",
       "   0.000579141778871417,\n",
       "   -0.009854918345808983,\n",
       "   2.33558257605182e-05,\n",
       "   0.00886942632496357,\n",
       "   0.0031515895389020443,\n",
       "   -0.02017281949520111,\n",
       "   -0.03783230111002922,\n",
       "   0.007989758625626564,\n",
       "   0.01013270765542984,\n",
       "   -0.005674845539033413,\n",
       "   -0.0025893962010741234,\n",
       "   0.007784723769873381,\n",
       "   0.0027597076259553432,\n",
       "   0.030927246436476707,\n",
       "   0.005059739574790001,\n",
       "   0.0020024003461003304,\n",
       "   -0.006418924778699875,\n",
       "   0.0034822914749383926,\n",
       "   -0.005248239729553461,\n",
       "   -0.01481544692069292,\n",
       "   -0.0035186687018722296,\n",
       "   ...],\n",
       "  {'text': 'hello',\n",
       "   'date_uploaded': datetime.datetime(2024, 4, 14, 6, 5, 1, 534517)}),\n",
       " ('2b849500e4585dab4196ec9a415edf8f',\n",
       "  [-0.01658438704907894,\n",
       "   0.009082227945327759,\n",
       "   -0.03175303712487221,\n",
       "   -0.023460840806365013,\n",
       "   -0.025483326986432076,\n",
       "   0.02917436510324478,\n",
       "   -0.022512800991535187,\n",
       "   0.007015499286353588,\n",
       "   -0.010820302180945873,\n",
       "   -0.0037194788455963135,\n",
       "   0.02889627404510975,\n",
       "   0.01842990703880787,\n",
       "   -0.02205774188041687,\n",
       "   -0.04272502288222313,\n",
       "   0.000719325733371079,\n",
       "   0.0027903991285711527,\n",
       "   0.036303628236055374,\n",
       "   -0.011730420403182507,\n",
       "   0.007944579236209393,\n",
       "   0.008184749633073807,\n",
       "   -0.01182522438466549,\n",
       "   0.0002133091038558632,\n",
       "   -0.004718081559985876,\n",
       "   -0.031576067209243774,\n",
       "   -0.004825525917112827,\n",
       "   -0.011515531688928604,\n",
       "   0.022892016917467117,\n",
       "   -0.010934066958725452,\n",
       "   -0.006396112963557243,\n",
       "   -0.024130789563059807,\n",
       "   -0.013373690657317638,\n",
       "   -0.012880709953606129,\n",
       "   -0.02456056885421276,\n",
       "   0.01202115323394537,\n",
       "   0.004190338775515556,\n",
       "   -0.02651985175907612,\n",
       "   -0.008886299096047878,\n",
       "   -0.01271006278693676,\n",
       "   0.0034097854513674974,\n",
       "   -0.013373690657317638,\n",
       "   0.006250747013837099,\n",
       "   -0.010080830194056034,\n",
       "   0.012438290752470493,\n",
       "   -0.015623707324266434,\n",
       "   -0.03430642560124397,\n",
       "   0.005647161044180393,\n",
       "   0.005090977530926466,\n",
       "   -0.007729690056294203,\n",
       "   -0.004082894418388605,\n",
       "   0.0229046568274498,\n",
       "   0.01782316155731678,\n",
       "   0.020578797906637192,\n",
       "   -0.010997269302606583,\n",
       "   -0.009398241527378559,\n",
       "   -0.01139544602483511,\n",
       "   0.022752970457077026,\n",
       "   -0.03789633885025978,\n",
       "   0.019352667033672333,\n",
       "   -0.012185480445623398,\n",
       "   -0.011932669207453728,\n",
       "   -0.011414406821131706,\n",
       "   8.83850225363858e-05,\n",
       "   -0.002584990346804261,\n",
       "   0.021741727367043495,\n",
       "   0.020098457112908363,\n",
       "   0.010295719839632511,\n",
       "   -0.003106412710621953,\n",
       "   0.013803469017148018,\n",
       "   -0.01907457411289215,\n",
       "   -0.02143835462629795,\n",
       "   0.0346856415271759,\n",
       "   0.02689906768500805,\n",
       "   0.007868736051023006,\n",
       "   -0.013879312202334404,\n",
       "   -0.007230388466268778,\n",
       "   -0.008001461625099182,\n",
       "   -0.008753573521971703,\n",
       "   0.017406022176146507,\n",
       "   -0.006190704181790352,\n",
       "   -0.008450200781226158,\n",
       "   0.03953960910439491,\n",
       "   -0.028567619621753693,\n",
       "   -0.02069256268441677,\n",
       "   0.03066594898700714,\n",
       "   -0.002387481974437833,\n",
       "   0.0079066576436162,\n",
       "   -0.015206568874418736,\n",
       "   0.011111034080386162,\n",
       "   -0.005568157881498337,\n",
       "   -0.015484660863876343,\n",
       "   0.010744458995759487,\n",
       "   0.02828952670097351,\n",
       "   0.013929874636232853,\n",
       "   0.013841390609741211,\n",
       "   -0.035191264003515244,\n",
       "   0.0034824686590582132,\n",
       "   0.012040114030241966,\n",
       "   0.031449660658836365,\n",
       "   -0.00726199010387063,\n",
       "   -0.013297847472131252,\n",
       "   0.01021355576813221,\n",
       "   -0.012981833890080452,\n",
       "   -0.005760925821959972,\n",
       "   -0.0012308725854381919,\n",
       "   -0.026823224499821663,\n",
       "   -0.005615559872239828,\n",
       "   -0.01296919398009777,\n",
       "   -0.02328387461602688,\n",
       "   0.023852698504924774,\n",
       "   -0.012912311591207981,\n",
       "   -0.011983231641352177,\n",
       "   0.0388823002576828,\n",
       "   0.017368100583553314,\n",
       "   -0.03210696950554848,\n",
       "   -0.0022547561675310135,\n",
       "   -0.007843454368412495,\n",
       "   -0.026191197335720062,\n",
       "   -0.0031206333078444004,\n",
       "   -0.013247285038232803,\n",
       "   -0.019491711631417274,\n",
       "   0.016736075282096863,\n",
       "   -0.0016906721284613013,\n",
       "   0.016672872006893158,\n",
       "   -0.025142032653093338,\n",
       "   0.03200584650039673,\n",
       "   -0.003025829093530774,\n",
       "   -0.03016032837331295,\n",
       "   0.001232452574186027,\n",
       "   -0.011066792532801628,\n",
       "   -2.989783934026491e-05,\n",
       "   0.033472150564193726,\n",
       "   0.012905990704894066,\n",
       "   0.01643270067870617,\n",
       "   -0.0021157104056328535,\n",
       "   -0.03349743038415909,\n",
       "   0.015295052900910378,\n",
       "   -0.02266448736190796,\n",
       "   0.03996938467025757,\n",
       "   -0.021981898695230484,\n",
       "   -0.025736138224601746,\n",
       "   -0.0127163827419281,\n",
       "   0.0307923536747694,\n",
       "   0.005760925821959972,\n",
       "   -0.009992346167564392,\n",
       "   -0.013588580302894115,\n",
       "   0.007773932069540024,\n",
       "   0.019769804552197456,\n",
       "   -0.001194530981592834,\n",
       "   0.020882170647382736,\n",
       "   -0.022108303382992744,\n",
       "   0.024598490446805954,\n",
       "   -0.009145430289208889,\n",
       "   0.021779648959636688,\n",
       "   0.02018694207072258,\n",
       "   0.00769176846370101,\n",
       "   0.019251542165875435,\n",
       "   -0.026722101494669914,\n",
       "   0.011863145977258682,\n",
       "   -0.005239503458142281,\n",
       "   0.005675602238625288,\n",
       "   0.014283809810876846,\n",
       "   0.0014315410517156124,\n",
       "   0.007982500828802586,\n",
       "   0.0005459132953546941,\n",
       "   0.013272566720843315,\n",
       "   0.030463701114058495,\n",
       "   0.000894318160135299,\n",
       "   0.0029642065055668354,\n",
       "   -0.0016140389489009976,\n",
       "   -0.0034192658495157957,\n",
       "   -0.008557645604014397,\n",
       "   0.019782444462180138,\n",
       "   -0.031474944204092026,\n",
       "   0.010877184569835663,\n",
       "   -0.013070317916572094,\n",
       "   0.013727625831961632,\n",
       "   0.010567490942776203,\n",
       "   0.016179891303181648,\n",
       "   -0.02394118160009384,\n",
       "   -0.01805069111287594,\n",
       "   -0.03438226878643036,\n",
       "   0.004146096762269735,\n",
       "   0.022133585065603256,\n",
       "   0.03549463674426079,\n",
       "   -0.015762753784656525,\n",
       "   0.004778123926371336,\n",
       "   0.01596500165760517,\n",
       "   0.006452995352447033,\n",
       "   0.01668551191687584,\n",
       "   -0.02791031077504158,\n",
       "   0.010649655014276505,\n",
       "   0.018897606059908867,\n",
       "   0.013133520260453224,\n",
       "   -0.0037447598297148943,\n",
       "   -0.6544765830039978,\n",
       "   -0.024219274520874023,\n",
       "   0.00928447674959898,\n",
       "   0.0013517476618289948,\n",
       "   0.013247285038232803,\n",
       "   0.015876518562436104,\n",
       "   0.013942515477538109,\n",
       "   0.003469828050583601,\n",
       "   -0.015750112012028694,\n",
       "   0.031323257833719254,\n",
       "   0.008747253566980362,\n",
       "   0.02207038179039955,\n",
       "   0.006655244156718254,\n",
       "   -0.003166455077007413,\n",
       "   0.00678796973079443,\n",
       "   -0.02593838796019554,\n",
       "   -0.02780918776988983,\n",
       "   -0.019630758091807365,\n",
       "   -0.005378549452871084,\n",
       "   0.034584514796733856,\n",
       "   -0.019984692335128784,\n",
       "   0.0020367070101201534,\n",
       "   -0.009948104619979858,\n",
       "   0.008734612725675106,\n",
       "   0.0020209061913192272,\n",
       "   -0.009303437545895576,\n",
       "   -0.002049347385764122,\n",
       "   0.007773932069540024,\n",
       "   -0.03354799374938011,\n",
       "   0.022449597716331482,\n",
       "   -0.02990751713514328,\n",
       "   0.018164455890655518,\n",
       "   0.012646859511733055,\n",
       "   -0.014347012154757977,\n",
       "   0.05223070830106735,\n",
       "   -0.020768405869603157,\n",
       "   -0.011129994876682758,\n",
       "   0.04019691422581673,\n",
       "   0.0028852031100541353,\n",
       "   0.05066328123211861,\n",
       "   -0.005277425050735474,\n",
       "   -0.012469892390072346,\n",
       "   -0.003852204419672489,\n",
       "   -0.013487455435097218,\n",
       "   0.0015042242594063282,\n",
       "   0.009973385371267796,\n",
       "   0.01320936344563961,\n",
       "   0.0020035256166011095,\n",
       "   0.019011370837688446,\n",
       "   -0.005280585493892431,\n",
       "   0.029553581029176712,\n",
       "   0.013993076980113983,\n",
       "   0.013752907514572144,\n",
       "   0.004585355520248413,\n",
       "   -0.01009347103536129,\n",
       "   0.002878882922232151,\n",
       "   0.029604144394397736,\n",
       "   -0.01832878217101097,\n",
       "   -0.005893651396036148,\n",
       "   0.013335769064724445,\n",
       "   -0.00902534555643797,\n",
       "   0.016660232096910477,\n",
       "   -0.006933336146175861,\n",
       "   -0.003032149514183402,\n",
       "   0.005593438632786274,\n",
       "   0.002807779936119914,\n",
       "   -0.01669815368950367,\n",
       "   -0.011888427659869194,\n",
       "   0.015257131308317184,\n",
       "   -0.004307263996452093,\n",
       "   0.0024743855465203524,\n",
       "   0.005931572988629341,\n",
       "   0.002129931002855301,\n",
       "   0.022247349843382835,\n",
       "   0.015876518562436104,\n",
       "   0.036202505230903625,\n",
       "   0.009992346167564392,\n",
       "   -0.023397639393806458,\n",
       "   0.014081561006605625,\n",
       "   0.0014623524621129036,\n",
       "   0.028567619621753693,\n",
       "   -0.0016748715424910188,\n",
       "   -0.013601220212876797,\n",
       "   -0.008981103077530861,\n",
       "   0.04484863579273224,\n",
       "   -0.021248746663331985,\n",
       "   -0.023347076028585434,\n",
       "   -0.010934066958725452,\n",
       "   -0.010289398953318596,\n",
       "   0.0002773018495645374,\n",
       "   0.020970655605196953,\n",
       "   0.006844852119684219,\n",
       "   0.009764816612005234,\n",
       "   -0.023334436118602753,\n",
       "   0.00019691590568982065,\n",
       "   0.004831846337765455,\n",
       "   -0.029932796955108643,\n",
       "   0.0033181416802108288,\n",
       "   -0.021109700202941895,\n",
       "   -0.0017996968235820532,\n",
       "   0.008930541574954987,\n",
       "   -0.003624674631282687,\n",
       "   -0.008734612725675106,\n",
       "   0.00796985998749733,\n",
       "   0.012096996419131756,\n",
       "   -0.008791495114564896,\n",
       "   -0.003539351047948003,\n",
       "   0.027733344584703445,\n",
       "   0.014372293837368488,\n",
       "   -0.044899195432662964,\n",
       "   0.014182685874402523,\n",
       "   0.001512914546765387,\n",
       "   -0.01582595519721508,\n",
       "   -0.004828685894608498,\n",
       "   -0.00688909413293004,\n",
       "   -0.025104111060500145,\n",
       "   -0.017772598192095757,\n",
       "   0.004999333526939154,\n",
       "   0.022158866748213768,\n",
       "   -0.010795020498335361,\n",
       "   0.020970655605196953,\n",
       "   -0.018354063853621483,\n",
       "   0.013411612249910831,\n",
       "   -0.00336554367095232,\n",
       "   0.008134187199175358,\n",
       "   0.01064333412796259,\n",
       "   0.00043214845936745405,\n",
       "   -0.028061997145414352,\n",
       "   -0.0015618966426700354,\n",
       "   -0.0009069587104022503,\n",
       "   0.012223402038216591,\n",
       "   0.011983231641352177,\n",
       "   0.0230689849704504,\n",
       "   -0.02080632746219635,\n",
       "   0.027455251663923264,\n",
       "   -0.01009347103536129,\n",
       "   0.01918833889067173,\n",
       "   0.014966398477554321,\n",
       "   0.029376614838838577,\n",
       "   -0.01958019658923149,\n",
       "   -0.016900401562452316,\n",
       "   -0.021956617012619972,\n",
       "   0.008633488789200783,\n",
       "   0.015307693742215633,\n",
       "   0.011780982837080956,\n",
       "   -0.02828952670097351,\n",
       "   -0.02067992277443409,\n",
       "   -0.009701614268124104,\n",
       "   -0.01743130385875702,\n",
       "   0.02341027930378914,\n",
       "   -0.007761291228234768,\n",
       "   -0.0065541197545826435,\n",
       "   -0.025849903002381325,\n",
       "   0.011730420403182507,\n",
       "   -0.001049164799042046,\n",
       "   -0.002578670158982277,\n",
       "   -0.010321000590920448,\n",
       "   -0.01621781289577484,\n",
       "   -0.0074515980668365955,\n",
       "   -0.016104048117995262,\n",
       "   0.004455790389329195,\n",
       "   0.004458950366824865,\n",
       "   -0.02715187892317772,\n",
       "   0.003028989303857088,\n",
       "   0.002077788580209017,\n",
       "   -0.040955349802970886,\n",
       "   -0.009587849490344524,\n",
       "   0.02967998757958412,\n",
       "   0.0034508672542870045,\n",
       "   -0.03114628978073597,\n",
       "   0.01021355576813221,\n",
       "   -0.01994677074253559,\n",
       "   0.014359652996063232,\n",
       "   0.0011321182828396559,\n",
       "   0.00038928911089897156,\n",
       "   0.022348474711179733,\n",
       "   -0.006114860996603966,\n",
       "   -0.007287270855158567,\n",
       "   0.005748285446316004,\n",
       "   -0.014991680160164833,\n",
       "   0.026823224499821663,\n",
       "   -0.025837263092398643,\n",
       "   -0.0030795515049248934,\n",
       "   0.004152417182922363,\n",
       "   0.018012769520282745,\n",
       "   -0.0074515980668365955,\n",
       "   -0.00200668559409678,\n",
       "   0.020983295515179634,\n",
       "   -0.02256336249411106,\n",
       "   -0.0003347767924424261,\n",
       "   0.012722702696919441,\n",
       "   0.024510005488991737,\n",
       "   -0.033219337463378906,\n",
       "   -0.010655974969267845,\n",
       "   0.0031901560723781586,\n",
       "   -0.006190704181790352,\n",
       "   0.013626501895487309,\n",
       "   0.025495968759059906,\n",
       "   0.011319602839648724,\n",
       "   -0.014928476884961128,\n",
       "   0.04596100375056267,\n",
       "   0.016116688027977943,\n",
       "   0.02157740108668804,\n",
       "   -0.02591310627758503,\n",
       "   -0.0028931035194545984,\n",
       "   -0.03529238700866699,\n",
       "   0.005106777884066105,\n",
       "   -0.03524182364344597,\n",
       "   0.006490916945040226,\n",
       "   0.013449533842504025,\n",
       "   0.0016006083460524678,\n",
       "   -0.022019820287823677,\n",
       "   -0.005922092590481043,\n",
       "   0.006699486169964075,\n",
       "   0.001217441982589662,\n",
       "   0.009530967101454735,\n",
       "   -0.01992149092257023,\n",
       "   -0.0006478276336565614,\n",
       "   -0.018644796684384346,\n",
       "   -0.009126469492912292,\n",
       "   -0.0008627168135717511,\n",
       "   0.003447707276791334,\n",
       "   -0.0029310251120477915,\n",
       "   -0.009594169445335865,\n",
       "   -0.02131194993853569,\n",
       "   0.013740266673266888,\n",
       "   0.01533297449350357,\n",
       "   0.0014797331532463431,\n",
       "   0.0045284731313586235,\n",
       "   -0.005309026688337326,\n",
       "   -0.015547864139080048,\n",
       "   0.012817507609724998,\n",
       "   -0.0033845044672489166,\n",
       "   0.005564997438341379,\n",
       "   -0.004806565120816231,\n",
       "   -0.004664359148591757,\n",
       "   0.006743727717548609,\n",
       "   -0.027834467589855194,\n",
       "   0.0458093136548996,\n",
       "   -0.0249018631875515,\n",
       "   -0.01679927669465542,\n",
       "   0.0032343980856239796,\n",
       "   0.040171634405851364,\n",
       "   -0.005489154253154993,\n",
       "   0.005005653481930494,\n",
       "   0.00554919708520174,\n",
       "   -0.004664359148591757,\n",
       "   0.005833609029650688,\n",
       "   0.009954424574971199,\n",
       "   0.008235311135649681,\n",
       "   0.018227657303214073,\n",
       "   0.007748650852590799,\n",
       "   -0.01483999378979206,\n",
       "   0.0036025538574904203,\n",
       "   0.011414406821131706,\n",
       "   -0.020477674901485443,\n",
       "   0.00810890644788742,\n",
       "   -0.017646193504333496,\n",
       "   0.04027275741100311,\n",
       "   0.02203246019780636,\n",
       "   0.03016032837331295,\n",
       "   0.011167916469275951,\n",
       "   0.016344217583537102,\n",
       "   -0.02429511770606041,\n",
       "   0.025142032653093338,\n",
       "   0.002156791975721717,\n",
       "   0.013993076980113983,\n",
       "   -0.0052900658920407295,\n",
       "   -0.0026260721497237682,\n",
       "   0.03460979834198952,\n",
       "   -0.010011306963860989,\n",
       "   0.006478276569396257,\n",
       "   -0.007015499286353588,\n",
       "   0.0010128231951966882,\n",
       "   0.021248746663331985,\n",
       "   0.01288702990859747,\n",
       "   -0.01170513965189457,\n",
       "   -0.0033023408614099026,\n",
       "   -0.006535158958286047,\n",
       "   0.015560504049062729,\n",
       "   -0.027379408478736877,\n",
       "   -0.034584514796733856,\n",
       "   -0.005830449052155018,\n",
       "   0.01121215894818306,\n",
       "   0.003893286222591996,\n",
       "   -0.003766880836337805,\n",
       "   -0.03847780078649521,\n",
       "   -0.013348409906029701,\n",
       "   -0.005321667063981295,\n",
       "   0.006437194999307394,\n",
       "   -0.003507749643176794,\n",
       "   0.02930077165365219,\n",
       "   -0.0210717786103487,\n",
       "   -0.0336238369345665,\n",
       "   -0.0015934980474412441,\n",
       "   -0.004999333526939154,\n",
       "   0.016028204932808876,\n",
       "   0.014915836974978447,\n",
       "   0.014309090562164783,\n",
       "   -0.011875786818563938,\n",
       "   -0.00523634348064661,\n",
       "   -0.0005664541968144476,\n",
       "   0.0021441516000777483,\n",
       "   -0.016420060768723488,\n",
       "   -0.007502160035073757,\n",
       "   -0.010333641432225704,\n",
       "   -0.01734282076358795,\n",
       "   -0.02328387461602688,\n",
       "   -0.005441752262413502,\n",
       "   -0.008386998437345028,\n",
       "   -0.03066594898700714,\n",
       "   0.014448137022554874,\n",
       "   -0.007559042889624834,\n",
       "   -0.024029666557908058,\n",
       "   0.010219876654446125,\n",
       "   4.3501233449205756e-05,\n",
       "   -0.0048413267359137535,\n",
       "   0.013007115572690964,\n",
       "   0.030868196859955788,\n",
       "   -0.012236041948199272,\n",
       "   -0.01695096306502819,\n",
       "   -0.0047591631300747395,\n",
       "   -0.00620018457993865,\n",
       "   0.008620847947895527,\n",
       "   0.046769995242357254,\n",
       "   0.02942717634141445,\n",
       "   0.014877915382385254,\n",
       "   0.013348409906029701,\n",
       "   -0.007641206029802561,\n",
       "   0.012602617964148521,\n",
       "   0.005640840623527765,\n",
       "   -0.03101988323032856,\n",
       "   0.0004266182077117264,\n",
       "   -0.014359652996063232,\n",
       "   0.019087214022874832,\n",
       "   -0.022588644176721573,\n",
       "   -0.0064719561487436295,\n",
       "   0.016167249530553818,\n",
       "   0.004035492427647114,\n",
       "   0.025104111060500145,\n",
       "   0.0040260120294988155,\n",
       "   -0.0070091793313622475,\n",
       "   -0.023271232843399048,\n",
       "   -0.021514197811484337,\n",
       "   0.004082894418388605,\n",
       "   0.007078702095896006,\n",
       "   -0.006882773712277412,\n",
       "   0.0248007383197546,\n",
       "   0.018151814118027687,\n",
       "   0.022500161081552505,\n",
       "   0.0006122761406004429,\n",
       "   0.01818973571062088,\n",
       "   0.010706537403166294,\n",
       "   -0.004793924745172262,\n",
       "   -0.013222004286944866,\n",
       "   -0.004730721935629845,\n",
       "   0.005628200247883797,\n",
       "   -0.01052956935018301,\n",
       "   -0.0054765138775110245,\n",
       "   0.025584451854228973,\n",
       "   0.007641206029802561,\n",
       "   0.0025075669400393963,\n",
       "   -0.0002646612992975861,\n",
       "   -0.0014773630537092686,\n",
       "   0.039185672998428345,\n",
       "   0.019024012610316277,\n",
       "   0.003261259291321039,\n",
       "   -0.020781047642230988,\n",
       "   0.01844254694879055,\n",
       "   -0.020136378705501556,\n",
       "   -0.018594233319163322,\n",
       "   0.017229055985808372,\n",
       "   -0.013967796228826046,\n",
       "   -0.02542012557387352,\n",
       "   0.02365044876933098,\n",
       "   0.015231850557029247,\n",
       "   -0.008304834365844727,\n",
       "   -0.0070471009239554405,\n",
       "   -0.0010894564911723137,\n",
       "   0.005707203410565853,\n",
       "   -0.03127269446849823,\n",
       "   -0.006661564577370882,\n",
       "   0.0018707998096942902,\n",
       "   -0.013803469017148018,\n",
       "   -0.01781051978468895,\n",
       "   -0.010118751786649227,\n",
       "   0.0020130060147494078,\n",
       "   -0.005204742308706045,\n",
       "   -0.021400433033704758,\n",
       "   -0.04237109050154686,\n",
       "   -0.001588757848367095,\n",
       "   0.004942451138049364,\n",
       "   -0.021375153213739395,\n",
       "   0.00903798546642065,\n",
       "   -0.0394132025539875,\n",
       "   -0.017747318372130394,\n",
       "   -0.01942851021885872,\n",
       "   0.013727625831961632,\n",
       "   0.035191264003515244,\n",
       "   0.03847780078649521,\n",
       "   -0.01705208793282509,\n",
       "   -0.02179229073226452,\n",
       "   0.016672872006893158,\n",
       "   0.018632154911756516,\n",
       "   0.0043862671591341496,\n",
       "   -0.04348345473408699,\n",
       "   0.009670012630522251,\n",
       "   -0.014991680160164833,\n",
       "   0.013841390609741211,\n",
       "   -0.009556247852742672,\n",
       "   0.01463774498552084,\n",
       "   -0.02502826787531376,\n",
       "   -0.009019024670124054,\n",
       "   0.009587849490344524,\n",
       "   0.008127867244184017,\n",
       "   0.018354063853621483,\n",
       "   0.00935399904847145,\n",
       "   0.0032738996669650078,\n",
       "   0.005318507086485624,\n",
       "   -0.005789367016404867,\n",
       "   -3.6613124393625185e-05,\n",
       "   -0.008879979141056538,\n",
       "   -0.004133456386625767,\n",
       "   -0.009771137498319149,\n",
       "   0.016356857493519783,\n",
       "   -0.016634950414299965,\n",
       "   -0.0024175031576305628,\n",
       "   -0.015737472102046013,\n",
       "   0.019024012610316277,\n",
       "   0.003327622078359127,\n",
       "   0.011951630003750324,\n",
       "   0.025230517610907555,\n",
       "   -0.025002988055348396,\n",
       "   0.002656093332916498,\n",
       "   0.014132123440504074,\n",
       "   -0.01818973571062088,\n",
       "   0.02629232220351696,\n",
       "   -0.012956553138792515,\n",
       "   0.027354126796126366,\n",
       "   0.030236171558499336,\n",
       "   -0.001676451531238854,\n",
       "   0.0316266305744648,\n",
       "   -0.025495968759059906,\n",
       "   -0.02391590178012848,\n",
       "   -0.010479006916284561,\n",
       "   -0.04525313153862953,\n",
       "   0.017507147043943405,\n",
       "   0.013411612249910831,\n",
       "   0.019403228536248207,\n",
       "   0.009758496657013893,\n",
       "   0.013196723535656929,\n",
       "   -0.016913041472434998,\n",
       "   -0.014663025736808777,\n",
       "   0.0023732613772153854,\n",
       "   0.0013391071697697043,\n",
       "   0.02879514917731285,\n",
       "   -0.0035267104394733906,\n",
       "   -0.025748779997229576,\n",
       "   -0.005899971816688776,\n",
       "   -0.03698622062802315,\n",
       "   -0.00859556719660759,\n",
       "   0.012994474731385708,\n",
       "   -0.022626565769314766,\n",
       "   -0.02366309054195881,\n",
       "   -0.044317733496427536,\n",
       "   -0.020262785255908966,\n",
       "   0.012413010001182556,\n",
       "   -0.016243092715740204,\n",
       "   -0.017519786953926086,\n",
       "   -0.051649246364831924,\n",
       "   0.013752907514572144,\n",
       "   -0.005457553081214428,\n",
       "   -0.0018518390133976936,\n",
       "   0.005511275492608547,\n",
       "   -0.021463636308908463,\n",
       "   0.018126534298062325,\n",
       "   -0.03286540135741234,\n",
       "   -0.009240234270691872,\n",
       "   0.0048413267359137535,\n",
       "   -0.02231055311858654,\n",
       "   -0.012539415620267391,\n",
       "   0.012868069112300873,\n",
       "   0.04838798567652702,\n",
       "   0.030488980934023857,\n",
       "   0.01769675500690937,\n",
       "   0.0024127629585564137,\n",
       "   0.005906292237341404,\n",
       "   -0.005644001066684723,\n",
       "   -0.00828587356954813,\n",
       "   0.00040607733535580337,\n",
       "   -0.01483999378979206,\n",
       "   -0.0008619268191978335,\n",
       "   -0.02689906768500805,\n",
       "   0.009670012630522251,\n",
       "   0.02267712727189064,\n",
       "   0.00928447674959898,\n",
       "   0.013790829107165337,\n",
       "   0.008146828040480614,\n",
       "   -0.001569006941281259,\n",
       "   0.014119482599198818,\n",
       "   -0.007382075302302837,\n",
       "   -0.003136433893814683,\n",
       "   -0.03678397089242935,\n",
       "   -0.008684050291776657,\n",
       "   -0.0105864517390728,\n",
       "   -0.0065920413471758366,\n",
       "   -0.012330845929682255,\n",
       "   0.020477674901485443,\n",
       "   0.005119418725371361,\n",
       "   0.0014110002666711807,\n",
       "   0.017734676599502563,\n",
       "   0.008437559939920902,\n",
       "   0.039817698299884796,\n",
       "   -0.017292257398366928,\n",
       "   0.025710858404636383,\n",
       "   0.0018518390133976936,\n",
       "   -0.004215619992464781,\n",
       "   -0.014852633699774742,\n",
       "   0.035949695855379105,\n",
       "   0.000915649114176631,\n",
       "   0.004838166758418083,\n",
       "   0.008791495114564896,\n",
       "   -0.004727561958134174,\n",
       "   0.016382139176130295,\n",
       "   0.023852698504924774,\n",
       "   0.012103316374123096,\n",
       "   -0.004686479922384024,\n",
       "   -0.016773996874690056,\n",
       "   -0.010693896561861038,\n",
       "   0.02330915443599224,\n",
       "   -0.0348878875374794,\n",
       "   -0.001908721518702805,\n",
       "   0.008835737593472004,\n",
       "   -0.017747318372130394,\n",
       "   -0.005485994275659323,\n",
       "   -0.022727690637111664,\n",
       "   -0.014233247376978397,\n",
       "   -0.032359782606363297,\n",
       "   0.028238965198397636,\n",
       "   0.0027145559433847666,\n",
       "   -0.006939656101167202,\n",
       "   0.02515467442572117,\n",
       "   -0.020477674901485443,\n",
       "   0.003921727184206247,\n",
       "   -0.00011090098269050941,\n",
       "   -0.0014307510573416948,\n",
       "   0.03390192613005638,\n",
       "   -0.004866607952862978,\n",
       "   0.019099855795502663,\n",
       "   0.004901369102299213,\n",
       "   -0.0057672462426126,\n",
       "   -0.027708062902092934,\n",
       "   0.018038049340248108,\n",
       "   -0.020856890827417374,\n",
       "   0.005239503458142281,\n",
       "   0.008450200781226158,\n",
       "   0.005792527459561825,\n",
       "   -0.00822899118065834,\n",
       "   -0.0034571876749396324,\n",
       "   0.01994677074253559,\n",
       "   0.000793588871601969,\n",
       "   -0.022146224975585938,\n",
       "   -0.009733215905725956,\n",
       "   0.034837327897548676,\n",
       "   0.016622308641672134,\n",
       "   -0.018000127747654915,\n",
       "   -0.0024901863653212786,\n",
       "   -0.015118085779249668,\n",
       "   -0.016470622271299362,\n",
       "   0.013980437070131302,\n",
       "   0.0021157104056328535,\n",
       "   0.013108239509165287,\n",
       "   -0.003921727184206247,\n",
       "   -0.02542012557387352,\n",
       "   -0.03825027123093605,\n",
       "   0.038553643971681595,\n",
       "   -0.029730549082159996,\n",
       "   0.01072549819946289,\n",
       "   0.016255734488368034,\n",
       "   -0.00978377740830183,\n",
       "   0.007464238442480564,\n",
       "   0.002101489808410406,\n",
       "   0.002880462910979986,\n",
       "   0.01733017899096012,\n",
       "   -0.009056946262717247,\n",
       "   0.0037415996193885803,\n",
       "   -0.008431239984929562,\n",
       "   -0.005125738680362701,\n",
       "   0.000625311688054353,\n",
       "   0.011382806114852428,\n",
       "   -0.024358319118618965,\n",
       "   -0.00872197188436985,\n",
       "   -0.0027066555339843035,\n",
       "   0.023877980187535286,\n",
       "   0.003327622078359127,\n",
       "   -0.0181770958006382,\n",
       "   0.007571683265268803,\n",
       "   0.028087278828024864,\n",
       "   0.020275425165891647,\n",
       "   0.00977745745331049,\n",
       "   -0.014827352948486805,\n",
       "   0.00915175024420023,\n",
       "   -0.012273963540792465,\n",
       "   -0.00517630111426115,\n",
       "   0.016849840059876442,\n",
       "   -0.009853300638496876,\n",
       "   -0.01633157767355442,\n",
       "   -0.000485080701764673,\n",
       "   -0.012236041948199272,\n",
       "   -0.033219337463378906,\n",
       "   -0.015977641567587852,\n",
       "   -0.0032549388706684113,\n",
       "   -0.004373626783490181,\n",
       "   -0.016293656080961227,\n",
       "   0.011863145977258682,\n",
       "   -0.00784977525472641,\n",
       "   -0.0011471289908513427,\n",
       "   0.009556247852742672,\n",
       "   0.021021217107772827,\n",
       "   -0.032890684902668,\n",
       "   -0.0029215447138994932,\n",
       "   0.006288668606430292,\n",
       "   -0.015750112012028694,\n",
       "   0.0025992109440267086,\n",
       "   -0.0012048013741150498,\n",
       "   0.000238392676692456,\n",
       "   -0.017532428726553917,\n",
       "   0.017355460673570633,\n",
       "   0.0061433021910488605,\n",
       "   -0.03923623636364937,\n",
       "   0.0066805253736674786,\n",
       "   -0.008127867244184017,\n",
       "   -0.0047591631300747395,\n",
       "   0.009758496657013893,\n",
       "   0.018038049340248108,\n",
       "   0.005723004229366779,\n",
       "   0.020288066938519478,\n",
       "   -0.02705075405538082,\n",
       "   0.037087343633174896,\n",
       "   -0.005122578702867031,\n",
       "   0.004202979616820812,\n",
       "   -0.016268374398350716,\n",
       "   -0.025104111060500145,\n",
       "   0.036556441336870193,\n",
       "   -0.03539351001381874,\n",
       "   -0.009998667053878307,\n",
       "   0.0008556065149605274,\n",
       "   -0.010137712582945824,\n",
       "   0.00582096865400672,\n",
       "   0.019479071721434593,\n",
       "   0.010719177313148975,\n",
       "   -0.008203710429370403,\n",
       "   -0.03567160293459892,\n",
       "   -0.004044972825795412,\n",
       "   -0.0035614720545709133,\n",
       "   0.024573208764195442,\n",
       "   -0.006528838537633419,\n",
       "   -0.01544673927128315,\n",
       "   -0.0043989080004394054,\n",
       "   -0.013436893932521343,\n",
       "   -0.029806392267346382,\n",
       "   0.015092804096639156,\n",
       "   0.0074136764742434025,\n",
       "   -0.014334372244775295,\n",
       "   0.03711262345314026,\n",
       "   0.008247951976954937,\n",
       "   -0.020616719499230385,\n",
       "   0.020401831716299057,\n",
       "   -0.011363845318555832,\n",
       "   -0.01657174713909626,\n",
       "   0.004297783598303795,\n",
       "   -0.005046735517680645,\n",
       "   0.0010578552028164268,\n",
       "   -0.03155078738927841,\n",
       "   -0.015522582456469536,\n",
       "   0.005564997438341379,\n",
       "   0.015257131308317184,\n",
       "   -0.019099855795502663,\n",
       "   -0.006528838537633419,\n",
       "   -0.019782444462180138,\n",
       "   -0.024396240711212158,\n",
       "   -0.02329651452600956,\n",
       "   0.005435431841760874,\n",
       "   0.002529687946662307,\n",
       "   0.0016480103367939591,\n",
       "   0.011382806114852428,\n",
       "   -0.023081624880433083,\n",
       "   0.028466494753956795,\n",
       "   -0.008633488789200783,\n",
       "   -0.008349076844751835,\n",
       "   -0.0022610765881836414,\n",
       "   0.01346217468380928,\n",
       "   -0.011306962929666042,\n",
       "   -0.01139544602483511,\n",
       "   0.031070446595549583,\n",
       "   -0.0018233978189527988,\n",
       "   -0.03329518064856529,\n",
       "   -0.009568888694047928,\n",
       "   3.345299046486616e-05,\n",
       "   -0.024889223277568817,\n",
       "   0.004395747557282448,\n",
       "   0.015472020022571087,\n",
       "   0.005182621069252491,\n",
       "   0.007622245233505964,\n",
       "   -0.013133520260453224,\n",
       "   -0.006380312144756317,\n",
       "   0.007426316849887371,\n",
       "   0.026949631050229073,\n",
       "   0.011193198151886463,\n",
       "   -0.0052079022862017155,\n",
       "   -0.013702345080673695,\n",
       "   0.014106841757893562,\n",
       "   -0.016521185636520386,\n",
       "   0.004092374816536903,\n",
       "   0.006611002143472433,\n",
       "   0.010087150149047375,\n",
       "   -0.018543671816587448,\n",
       "   0.019757162779569626,\n",
       "   -0.023738933727145195,\n",
       "   0.0021473115775734186,\n",
       "   0.016875119879841805,\n",
       "   -0.022993141785264015,\n",
       "   0.027834467589855194,\n",
       "   0.005116258282214403,\n",
       "   0.005141539499163628,\n",
       "   0.022955220192670822,\n",
       "   0.023574605584144592,\n",
       "   0.004048132803291082,\n",
       "   -0.011698819696903229,\n",
       "   -0.007122944109141827,\n",
       "   -0.028011435642838478,\n",
       "   -0.010858223773539066,\n",
       "   0.001329626771621406,\n",
       "   -0.020869530737400055,\n",
       "   -0.0024949265643954277,\n",
       "   0.004142936784774065,\n",
       "   -0.00566928181797266,\n",
       "   -0.022626565769314766,\n",
       "   -0.0003177910693921149,\n",
       "   -0.012564696371555328,\n",
       "   -0.0004305683833081275,\n",
       "   -0.008507083170115948,\n",
       "   -0.004417868796736002,\n",
       "   0.012349806725978851,\n",
       "   -0.018341422080993652,\n",
       "   -0.0005087816971354187,\n",
       "   0.003551991656422615,\n",
       "   0.01709000952541828,\n",
       "   0.011692498810589314,\n",
       "   -0.01009347103536129,\n",
       "   0.003431906457990408,\n",
       "   0.010769739747047424,\n",
       "   0.007192466873675585,\n",
       "   0.0012016412802040577,\n",
       "   -0.01197059080004692,\n",
       "   -0.024750176817178726,\n",
       "   -0.012248682789504528,\n",
       "   -0.0009796418016776443,\n",
       "   -0.01084558293223381,\n",
       "   0.026064792647957802,\n",
       "   0.2192375212907791,\n",
       "   -0.004098694771528244,\n",
       "   0.0012601037742570043,\n",
       "   0.049778446555137634,\n",
       "   -0.00775497080758214,\n",
       "   0.02042711153626442,\n",
       "   0.012324525974690914,\n",
       "   0.009448803029954433,\n",
       "   -0.007704408839344978,\n",
       "   0.028719305992126465,\n",
       "   -0.010826622135937214,\n",
       "   0.009278155863285065,\n",
       "   -0.031854160130023956,\n",
       "   0.0011755701852962375,\n",
       "   0.011344884522259235,\n",
       "   -0.007066061720252037,\n",
       "   -0.031121008098125458,\n",
       "   -0.02456056885421276,\n",
       "   -0.028870992362499237,\n",
       "   -0.01844254694879055,\n",
       "   -0.015042241662740707,\n",
       "   -0.01190738845616579,\n",
       "   -0.02641872689127922,\n",
       "   -0.006585720926523209,\n",
       "   0.022980501875281334,\n",
       "   0.022095663473010063,\n",
       "   0.008633488789200783,\n",
       "   0.010744458995759487,\n",
       "   0.01896080933511257,\n",
       "   -0.00544807268306613,\n",
       "   -0.022651847451925278,\n",
       "   -0.014713588170707226,\n",
       "   0.012571016326546669,\n",
       "   0.010630694217979908,\n",
       "   -0.00014467492292169482,\n",
       "   0.008374357596039772,\n",
       "   0.014245888218283653,\n",
       "   0.001179520389996469,\n",
       "   0.027101317420601845,\n",
       "   0.0009970226092264056,\n",
       "   0.002621331950649619,\n",
       "   0.03223337605595589,\n",
       "   0.003498269245028496,\n",
       "   -0.0181770958006382,\n",
       "   -0.006781649310141802,\n",
       "   0.011054151691496372,\n",
       "   ...],\n",
       "  {'text': 'good morning',\n",
       "   'date_uploaded': datetime.datetime(2024, 4, 14, 6, 5, 1, 534517)}),\n",
       " ('56b611281be16d4f8c39591885e9dc0c',\n",
       "  [0.009340597316622734,\n",
       "   0.005655606742948294,\n",
       "   0.009456516243517399,\n",
       "   -0.010341158136725426,\n",
       "   -0.010823135264217854,\n",
       "   0.010249643586575985,\n",
       "   -0.01829073205590248,\n",
       "   -0.012995083816349506,\n",
       "   -0.01013372465968132,\n",
       "   -0.023366747424006462,\n",
       "   0.021390030160546303,\n",
       "   0.022549215704202652,\n",
       "   0.003163357265293598,\n",
       "   -0.016924113035202026,\n",
       "   0.013714998960494995,\n",
       "   9.375487570650876e-05,\n",
       "   0.02503841556608677,\n",
       "   -0.01516703236848116,\n",
       "   0.04238959774374962,\n",
       "   -0.016265207901597023,\n",
       "   0.0019416363211348653,\n",
       "   0.008754903450608253,\n",
       "   0.004109008703380823,\n",
       "   -0.01377600897103548,\n",
       "   0.0013689070474356413,\n",
       "   -0.012677832506597042,\n",
       "   0.007699434645473957,\n",
       "   -0.025111626833677292,\n",
       "   0.004835025407373905,\n",
       "   -0.019889188930392265,\n",
       "   0.011006164364516735,\n",
       "   -0.025599705055356026,\n",
       "   -0.031603068113327026,\n",
       "   -0.003154205856844783,\n",
       "   -0.002612743992358446,\n",
       "   -0.02131681889295578,\n",
       "   -0.02324472740292549,\n",
       "   -0.008138705044984818,\n",
       "   0.016277410089969635,\n",
       "   0.013373344205319881,\n",
       "   0.01822972297668457,\n",
       "   -0.005030256696045399,\n",
       "   0.009413809515535831,\n",
       "   0.006018614862114191,\n",
       "   -0.011665070429444313,\n",
       "   0.01117699220776558,\n",
       "   0.013849220238626003,\n",
       "   -0.013556373305618763,\n",
       "   -0.015642907470464706,\n",
       "   0.039631955325603485,\n",
       "   0.014203077182173729,\n",
       "   0.014971800148487091,\n",
       "   -0.011048872023820877,\n",
       "   -0.017741644755005836,\n",
       "   -0.02755201794207096,\n",
       "   0.029772773385047913,\n",
       "   -0.026283014565706253,\n",
       "   0.020133228972554207,\n",
       "   0.0003834083618130535,\n",
       "   -0.006021665409207344,\n",
       "   -0.021060576662421227,\n",
       "   0.001732677803374827,\n",
       "   -0.010609601624310017,\n",
       "   0.04285326972603798,\n",
       "   0.02230517566204071,\n",
       "   0.0006230624276213348,\n",
       "   -0.015825938433408737,\n",
       "   0.01377600897103548,\n",
       "   0.0006409840425476432,\n",
       "   0.012531409040093422,\n",
       "   0.035898156464099884,\n",
       "   0.03477557748556137,\n",
       "   -0.0026051176246255636,\n",
       "   -0.006122331600636244,\n",
       "   -0.001384922070428729,\n",
       "   0.014264087192714214,\n",
       "   -0.0010608076117932796,\n",
       "   0.005420719273388386,\n",
       "   -0.004368300549685955,\n",
       "   -0.013519767671823502,\n",
       "   0.026283014565706253,\n",
       "   -0.03809450939297676,\n",
       "   -0.021975724026560783,\n",
       "   0.034214284271001816,\n",
       "   -0.008285128511488438,\n",
       "   0.015508687123656273,\n",
       "   -0.0010600449750199914,\n",
       "   -0.005710515659302473,\n",
       "   -0.027332382276654243,\n",
       "   0.010646207258105278,\n",
       "   0.0221953596919775,\n",
       "   0.018144309520721436,\n",
       "   0.017509806901216507,\n",
       "   0.006845297757536173,\n",
       "   -0.01736338436603546,\n",
       "   0.013397748582065105,\n",
       "   0.013446556404232979,\n",
       "   0.028381749987602234,\n",
       "   0.008565773256123066,\n",
       "   -0.022549215704202652,\n",
       "   0.011000064201653004,\n",
       "   -0.021560857072472572,\n",
       "   -0.008187512867152691,\n",
       "   -0.00688800448551774,\n",
       "   -0.013458757661283016,\n",
       "   -0.016399430111050606,\n",
       "   0.013373344205319881,\n",
       "   0.0001420384069206193,\n",
       "   0.01910826377570629,\n",
       "   -0.011567454785108566,\n",
       "   -0.03667908161878586,\n",
       "   0.03150545060634613,\n",
       "   0.004850277677178383,\n",
       "   -0.010585197247564793,\n",
       "   0.0032701243180781603,\n",
       "   -0.012311774305999279,\n",
       "   0.004749611485749483,\n",
       "   0.0011988421902060509,\n",
       "   -0.007132043596357107,\n",
       "   -0.0392414927482605,\n",
       "   0.019132668152451515,\n",
       "   -0.0005872191395610571,\n",
       "   0.022207560017704964,\n",
       "   -0.007052730768918991,\n",
       "   0.019828179851174355,\n",
       "   0.016497045755386353,\n",
       "   0.002126190811395645,\n",
       "   -0.012616823427379131,\n",
       "   0.009407708421349525,\n",
       "   0.0033433360513299704,\n",
       "   0.03487319126725197,\n",
       "   0.001081398339010775,\n",
       "   0.014752165414392948,\n",
       "   -0.025721725076436996,\n",
       "   -0.023964641615748405,\n",
       "   0.02287866920232773,\n",
       "   -0.003581274300813675,\n",
       "   0.007467597257345915,\n",
       "   -0.005744071211665869,\n",
       "   -0.00745539553463459,\n",
       "   0.002991004614159465,\n",
       "   0.04653826355934143,\n",
       "   -0.020999567583203316,\n",
       "   -0.0293579064309597,\n",
       "   -0.006656167097389698,\n",
       "   0.013739403337240219,\n",
       "   0.011384425684809685,\n",
       "   -0.00849866308271885,\n",
       "   0.004639794118702412,\n",
       "   -0.011872503906488419,\n",
       "   0.019132668152451515,\n",
       "   -0.013458757661283016,\n",
       "   0.023549776524305344,\n",
       "   0.004999751690775156,\n",
       "   -0.005051610060036182,\n",
       "   0.027405593544244766,\n",
       "   -0.02020644024014473,\n",
       "   -0.001530582900159061,\n",
       "   0.0032121650874614716,\n",
       "   -0.0018516469281166792,\n",
       "   -0.0020514540374279022,\n",
       "   0.0027225615922361612,\n",
       "   0.021292414516210556,\n",
       "   -0.011402728036046028,\n",
       "   0.0169973261654377,\n",
       "   0.03575173392891884,\n",
       "   0.011164790019392967,\n",
       "   0.0184615608304739,\n",
       "   -0.004859429318457842,\n",
       "   -0.008712196722626686,\n",
       "   0.012208057567477226,\n",
       "   0.030724527314305305,\n",
       "   -0.03645944595336914,\n",
       "   0.00806549284607172,\n",
       "   -0.01577712967991829,\n",
       "   0.015069416724145412,\n",
       "   0.019022850319743156,\n",
       "   -0.004240179900079966,\n",
       "   -0.02708834409713745,\n",
       "   -0.019669553264975548,\n",
       "   -0.03070012293756008,\n",
       "   0.009426011703908443,\n",
       "   0.029894793406128883,\n",
       "   0.025648511946201324,\n",
       "   -0.02207333967089653,\n",
       "   -0.011158688925206661,\n",
       "   0.030553698539733887,\n",
       "   -0.001755556440912187,\n",
       "   0.010048311203718185,\n",
       "   -0.014288490638136864,\n",
       "   0.010713317431509495,\n",
       "   0.02235398441553116,\n",
       "   0.004273735452443361,\n",
       "   -0.008834216743707657,\n",
       "   -0.6497297883033752,\n",
       "   -0.026331821456551552,\n",
       "   0.013702796772122383,\n",
       "   -0.002412936883047223,\n",
       "   0.017094941809773445,\n",
       "   0.005146175157278776,\n",
       "   0.017729442566633224,\n",
       "   -0.013519767671823502,\n",
       "   -0.005103468429297209,\n",
       "   0.024123268201947212,\n",
       "   -0.0058264341205358505,\n",
       "   0.02003561332821846,\n",
       "   -0.004011393059045076,\n",
       "   -0.005057711154222488,\n",
       "   -0.004667248576879501,\n",
       "   -0.019730564206838608,\n",
       "   -0.023025091737508774,\n",
       "   -0.008163108490407467,\n",
       "   -0.027454402297735214,\n",
       "   0.03482438251376152,\n",
       "   -0.00876100454479456,\n",
       "   0.017790451645851135,\n",
       "   0.0007916019530966878,\n",
       "   -0.023598583415150642,\n",
       "   0.006680571008473635,\n",
       "   -0.017973482608795166,\n",
       "   0.026234205812215805,\n",
       "   -0.014861983247101307,\n",
       "   -0.018095500767230988,\n",
       "   -0.008089897222816944,\n",
       "   -0.024647952988743782,\n",
       "   0.016033370047807693,\n",
       "   -0.0025944409426301718,\n",
       "   -0.025990167632699013,\n",
       "   0.0618395172059536,\n",
       "   -0.0015519363805651665,\n",
       "   -0.01682649739086628,\n",
       "   0.009627344086766243,\n",
       "   0.0021475444082170725,\n",
       "   0.039168279618024826,\n",
       "   -0.01963294856250286,\n",
       "   -0.013031689450144768,\n",
       "   0.022842062637209892,\n",
       "   0.002420563017949462,\n",
       "   -0.0016472641145810485,\n",
       "   -0.0030733677558600903,\n",
       "   -0.004148665349930525,\n",
       "   0.00248309806920588,\n",
       "   0.008285128511488438,\n",
       "   0.004789268132299185,\n",
       "   0.005905746947973967,\n",
       "   -0.01892523467540741,\n",
       "   0.018376147374510765,\n",
       "   -0.0010394541313871741,\n",
       "   0.008895225822925568,\n",
       "   -0.0009723434341140091,\n",
       "   0.019364504143595695,\n",
       "   -0.024245288223028183,\n",
       "   0.003447052789852023,\n",
       "   0.016375025734305382,\n",
       "   0.009249082766473293,\n",
       "   -0.001058519701473415,\n",
       "   -0.016570257022976875,\n",
       "   -0.011012265458703041,\n",
       "   -0.007778747472912073,\n",
       "   0.006104028783738613,\n",
       "   0.005795929115265608,\n",
       "   0.005332254804670811,\n",
       "   0.03477557748556137,\n",
       "   -0.006244351156055927,\n",
       "   -0.0026112187188118696,\n",
       "   0.02603897452354431,\n",
       "   -0.011640666052699089,\n",
       "   0.017485404387116432,\n",
       "   0.029333503916859627,\n",
       "   0.012366683222353458,\n",
       "   0.02108498103916645,\n",
       "   -0.017680635675787926,\n",
       "   0.0027195110451430082,\n",
       "   0.0029101665131747723,\n",
       "   0.026697881519794464,\n",
       "   -0.015472080558538437,\n",
       "   -0.0017403040546923876,\n",
       "   -0.010402168147265911,\n",
       "   0.04905186593532562,\n",
       "   -0.0019675653893500566,\n",
       "   -0.02289086952805519,\n",
       "   -0.004581834655255079,\n",
       "   -0.016326216980814934,\n",
       "   -0.0003794045769609511,\n",
       "   0.0025852895341813564,\n",
       "   0.003572122659534216,\n",
       "   0.01304389163851738,\n",
       "   -0.010621802881360054,\n",
       "   -0.015215840190649033,\n",
       "   0.022793253883719444,\n",
       "   0.00470080366358161,\n",
       "   -0.008053291589021683,\n",
       "   -0.0048045204021036625,\n",
       "   0.008059392683207989,\n",
       "   0.004975347779691219,\n",
       "   -0.0008915054495446384,\n",
       "   0.0027179857715964317,\n",
       "   -0.031603068113327026,\n",
       "   0.008187512867152691,\n",
       "   -0.010444874875247478,\n",
       "   -0.004182220436632633,\n",
       "   -0.0024434418883174658,\n",
       "   0.030504891648888588,\n",
       "   -0.03699633106589317,\n",
       "   0.0034318002872169018,\n",
       "   0.0018699498614296317,\n",
       "   -0.016204198822379112,\n",
       "   -0.01336114201694727,\n",
       "   -0.0007016125018708408,\n",
       "   -0.023025091737508774,\n",
       "   -0.006418229080736637,\n",
       "   0.0051248217932879925,\n",
       "   0.012012826278805733,\n",
       "   -0.020426075905561447,\n",
       "   0.022036733105778694,\n",
       "   -0.01700952649116516,\n",
       "   0.0002932282804977149,\n",
       "   -0.0060796248726546764,\n",
       "   0.0058294846676290035,\n",
       "   0.005579344462603331,\n",
       "   0.0007961776573210955,\n",
       "   -0.01403225027024746,\n",
       "   -0.03711835294961929,\n",
       "   -0.0010371663374826312,\n",
       "   0.008401047438383102,\n",
       "   0.007699434645473957,\n",
       "   0.012317875400185585,\n",
       "   -0.00910876039415598,\n",
       "   -0.0010402167681604624,\n",
       "   0.002300068736076355,\n",
       "   0.019950198009610176,\n",
       "   -0.016509247943758965,\n",
       "   0.03889983892440796,\n",
       "   -0.0006977993762120605,\n",
       "   0.004935691598802805,\n",
       "   -0.011463738046586514,\n",
       "   -0.027234766632318497,\n",
       "   0.013751604594290257,\n",
       "   0.00449947128072381,\n",
       "   -0.02270784042775631,\n",
       "   -0.009407708421349525,\n",
       "   -0.010328955948352814,\n",
       "   0.005686111748218536,\n",
       "   0.03150545060634613,\n",
       "   0.00644873408600688,\n",
       "   -0.007119841407984495,\n",
       "   -0.02516043372452259,\n",
       "   0.005673909559845924,\n",
       "   0.00879761017858982,\n",
       "   -0.015398869290947914,\n",
       "   -0.016802094876766205,\n",
       "   -0.010328955948352814,\n",
       "   -0.03277445584535599,\n",
       "   -0.025233646854758263,\n",
       "   0.013666191138327122,\n",
       "   0.023891430348157883,\n",
       "   -0.01060350053012371,\n",
       "   0.0033067301847040653,\n",
       "   0.0016579407965764403,\n",
       "   -0.03655706346035004,\n",
       "   -0.010487581603229046,\n",
       "   0.0255753006786108,\n",
       "   0.009767666459083557,\n",
       "   -0.0301144290715456,\n",
       "   0.0029254190158098936,\n",
       "   -0.027478806674480438,\n",
       "   0.01377600897103548,\n",
       "   0.030992969870567322,\n",
       "   0.0016304864548146725,\n",
       "   0.0034165477845817804,\n",
       "   -0.00253343116492033,\n",
       "   -0.020462680608034134,\n",
       "   -0.006900206208229065,\n",
       "   -0.002353452378883958,\n",
       "   0.023049496114253998,\n",
       "   -0.01240328885614872,\n",
       "   -0.011378324590623379,\n",
       "   -0.00054756278404966,\n",
       "   0.013373344205319881,\n",
       "   -0.00044727796921506524,\n",
       "   0.005005852784961462,\n",
       "   0.02428189292550087,\n",
       "   -0.014398308470845222,\n",
       "   -0.004227977711707354,\n",
       "   0.01409325934946537,\n",
       "   0.026771092787384987,\n",
       "   -0.03265243396162987,\n",
       "   -0.008315633051097393,\n",
       "   -0.004923489410430193,\n",
       "   -0.019474321976304054,\n",
       "   0.04041288048028946,\n",
       "   0.017863664776086807,\n",
       "   0.02090195193886757,\n",
       "   -0.007516405079513788,\n",
       "   0.009853079915046692,\n",
       "   0.006711076013743877,\n",
       "   0.0068636005744338036,\n",
       "   -0.005146175157278776,\n",
       "   -0.003181660082191229,\n",
       "   -0.0324816070497036,\n",
       "   0.0214388370513916,\n",
       "   -0.024135470390319824,\n",
       "   0.011579656973481178,\n",
       "   -0.012738842517137527,\n",
       "   -0.01897404156625271,\n",
       "   -0.01647264137864113,\n",
       "   -0.03970516473054886,\n",
       "   0.016704479232430458,\n",
       "   0.020743325352668762,\n",
       "   0.016411632299423218,\n",
       "   -0.01903505250811577,\n",
       "   0.008822014555335045,\n",
       "   -0.01798568293452263,\n",
       "   -0.028381749987602234,\n",
       "   0.024306297302246094,\n",
       "   -0.021865906193852425,\n",
       "   0.0018562226323410869,\n",
       "   3.1624993425793946e-05,\n",
       "   -0.026283014565706253,\n",
       "   0.003767354181036353,\n",
       "   0.022463802248239517,\n",
       "   -0.012921871617436409,\n",
       "   0.028869828209280968,\n",
       "   -0.0068636005744338036,\n",
       "   -0.02340335212647915,\n",
       "   0.01062790397554636,\n",
       "   -0.0029894793406128883,\n",
       "   -0.0033250332344323397,\n",
       "   8.131460344884545e-05,\n",
       "   -0.006692773196846247,\n",
       "   0.012555813416838646,\n",
       "   -0.03977837786078453,\n",
       "   0.03565411642193794,\n",
       "   -0.019767168909311295,\n",
       "   -0.013117102906107903,\n",
       "   0.012885265983641148,\n",
       "   0.0421699620783329,\n",
       "   0.003030661027878523,\n",
       "   -0.02003561332821846,\n",
       "   0.04151105508208275,\n",
       "   0.011665070429444313,\n",
       "   -0.004450663458555937,\n",
       "   0.00258376426063478,\n",
       "   0.0024647952523082495,\n",
       "   0.005875241942703724,\n",
       "   -0.009773767553269863,\n",
       "   -0.02295188046991825,\n",
       "   -0.004209674894809723,\n",
       "   0.03128581494092941,\n",
       "   -0.004963145591318607,\n",
       "   -0.020596902817487717,\n",
       "   0.007461496163159609,\n",
       "   0.03494640439748764,\n",
       "   0.030895354226231575,\n",
       "   0.025111626833677292,\n",
       "   0.02324472740292549,\n",
       "   -0.002295493148267269,\n",
       "   -0.02272004261612892,\n",
       "   0.008327835239470005,\n",
       "   -0.0017403040546923876,\n",
       "   0.019486524164676666,\n",
       "   -0.020523691549897194,\n",
       "   0.01394683588296175,\n",
       "   0.022634629160165787,\n",
       "   -0.002423613565042615,\n",
       "   0.012086037546396255,\n",
       "   0.020535891875624657,\n",
       "   -0.004630642477422953,\n",
       "   0.04705074429512024,\n",
       "   -0.006180291064083576,\n",
       "   -0.004581834655255079,\n",
       "   0.001601506839506328,\n",
       "   -0.025404473766684532,\n",
       "   -0.0015168556710705161,\n",
       "   -0.017912471666932106,\n",
       "   -0.025697320699691772,\n",
       "   -0.0032152156345546246,\n",
       "   0.012153148651123047,\n",
       "   -0.00021315293270163238,\n",
       "   0.0005185831687413156,\n",
       "   -0.03931470215320587,\n",
       "   -0.0014627095079049468,\n",
       "   -0.009761565364897251,\n",
       "   0.011250203475356102,\n",
       "   -0.022146550938487053,\n",
       "   0.0214388370513916,\n",
       "   0.01031065359711647,\n",
       "   -0.038338545709848404,\n",
       "   0.007040529046207666,\n",
       "   -0.0016045572701841593,\n",
       "   0.03538567200303078,\n",
       "   -0.008028887212276459,\n",
       "   0.011811493895947933,\n",
       "   0.003157256171107292,\n",
       "   -0.0013139982474967837,\n",
       "   -0.013568575493991375,\n",
       "   -0.022903071716427803,\n",
       "   -0.006345017347484827,\n",
       "   -0.0150572145357728,\n",
       "   -0.005478678271174431,\n",
       "   -0.012799852527678013,\n",
       "   0.005655606742948294,\n",
       "   0.001471861032769084,\n",
       "   -0.020487084984779358,\n",
       "   -0.013641787692904472,\n",
       "   -0.014044451527297497,\n",
       "   -0.015435474924743176,\n",
       "   -0.045513298362493515,\n",
       "   0.013812614604830742,\n",
       "   0.018778810277581215,\n",
       "   -0.02090195193886757,\n",
       "   0.008846418000757694,\n",
       "   0.03711835294961929,\n",
       "   -0.032701242715120316,\n",
       "   -0.0185103677213192,\n",
       "   -0.012037229724228382,\n",
       "   -0.010091017931699753,\n",
       "   0.006039968691766262,\n",
       "   0.0706249251961708,\n",
       "   0.019815977662801743,\n",
       "   0.023745007812976837,\n",
       "   0.028723405674099922,\n",
       "   0.00765672791749239,\n",
       "   -0.0006520420429296792,\n",
       "   -0.037655238062143326,\n",
       "   -0.007699434645473957,\n",
       "   0.00045185370254330337,\n",
       "   -0.006973417941480875,\n",
       "   -0.0013406899524852633,\n",
       "   -0.02738119103014469,\n",
       "   0.0016533650923520327,\n",
       "   0.0008663389016874135,\n",
       "   0.02358638122677803,\n",
       "   0.02287866920232773,\n",
       "   0.0013216243823990226,\n",
       "   0.0017342030769214034,\n",
       "   -0.003901575691998005,\n",
       "   -0.024440519511699677,\n",
       "   -0.00213991804048419,\n",
       "   0.013861422426998615,\n",
       "   -0.0025883400812745094,\n",
       "   0.021634068340063095,\n",
       "   0.020487084984779358,\n",
       "   -0.006558551453053951,\n",
       "   -0.0005490880575962365,\n",
       "   0.01893743686378002,\n",
       "   0.0021978775039315224,\n",
       "   -0.032530415803194046,\n",
       "   -0.01904725469648838,\n",
       "   -0.01097565982490778,\n",
       "   0.005866090767085552,\n",
       "   0.0026218954008072615,\n",
       "   -0.025526493787765503,\n",
       "   0.02282986044883728,\n",
       "   -0.00034451461397111416,\n",
       "   0.0030764183029532433,\n",
       "   0.017277970910072327,\n",
       "   -0.010316753759980202,\n",
       "   0.0301144290715456,\n",
       "   0.01676548831164837,\n",
       "   0.006326714530587196,\n",
       "   -0.016265207901597023,\n",
       "   0.03387263044714928,\n",
       "   -0.02026744931936264,\n",
       "   0.0020102723501622677,\n",
       "   0.027454402297735214,\n",
       "   -0.020718922838568687,\n",
       "   -0.014776568859815598,\n",
       "   0.03179829940199852,\n",
       "   0.017558615654706955,\n",
       "   -0.016460439190268517,\n",
       "   -0.002612743992358446,\n",
       "   -0.002193301683291793,\n",
       "   0.016509247943758965,\n",
       "   -0.03284766525030136,\n",
       "   -0.0185103677213192,\n",
       "   0.015545292757451534,\n",
       "   -0.021768290549516678,\n",
       "   -0.0032365689985454082,\n",
       "   -0.024611346423625946,\n",
       "   0.023037293925881386,\n",
       "   0.00824242178350687,\n",
       "   -0.02696632407605648,\n",
       "   -0.03831414505839348,\n",
       "   -0.016460439190268517,\n",
       "   -0.0030916708055883646,\n",
       "   -0.02613659016788006,\n",
       "   -0.00563425337895751,\n",
       "   0.0020911102183163166,\n",
       "   -0.011042770929634571,\n",
       "   -0.02148764580488205,\n",
       "   0.000986070604994893,\n",
       "   0.017717240378260612,\n",
       "   0.028918636962771416,\n",
       "   0.004664198029786348,\n",
       "   -0.008291229605674744,\n",
       "   0.0071137407794594765,\n",
       "   0.0029162676073610783,\n",
       "   -0.004383552819490433,\n",
       "   -0.026697881519794464,\n",
       "   -0.014154269360005856,\n",
       "   -0.01042657159268856,\n",
       "   -0.005802030209451914,\n",
       "   -0.0064609358087182045,\n",
       "   0.0017342030769214034,\n",
       "   -0.014581337571144104,\n",
       "   -0.012232461012899876,\n",
       "   -0.008224118500947952,\n",
       "   0.018705599009990692,\n",
       "   -0.004905186593532562,\n",
       "   -0.003648384939879179,\n",
       "   -0.0030398124363273382,\n",
       "   0.012366683222353458,\n",
       "   -0.010170330293476582,\n",
       "   0.014215279370546341,\n",
       "   0.008834216743707657,\n",
       "   -0.012342278845608234,\n",
       "   0.005015003960579634,\n",
       "   0.010957356542348862,\n",
       "   -0.01758302003145218,\n",
       "   -0.0009837826946750283,\n",
       "   -0.020828738808631897,\n",
       "   0.032457202672958374,\n",
       "   0.0074920011684298515,\n",
       "   0.019999006763100624,\n",
       "   0.04587935656309128,\n",
       "   -0.022000128403306007,\n",
       "   -0.007449294440448284,\n",
       "   0.024562537670135498,\n",
       "   -0.03699633106589317,\n",
       "   0.00937720388174057,\n",
       "   -0.008571874350309372,\n",
       "   0.023976843804121017,\n",
       "   0.02259802259504795,\n",
       "   -0.022341782227158546,\n",
       "   0.03897304832935333,\n",
       "   0.0006863600574433804,\n",
       "   -0.013178112916648388,\n",
       "   -0.0027256121393293142,\n",
       "   -0.03616660088300705,\n",
       "   -0.0029284695629030466,\n",
       "   0.02265903353691101,\n",
       "   0.012464298866689205,\n",
       "   0.0012316349893808365,\n",
       "   0.007766545284539461,\n",
       "   -0.01835174299776554,\n",
       "   -0.00696121621876955,\n",
       "   0.0005292598507367074,\n",
       "   0.008327835239470005,\n",
       "   0.03074892982840538,\n",
       "   -0.003895474597811699,\n",
       "   -0.03401905298233032,\n",
       "   -0.015154830180108547,\n",
       "   -0.01516703236848116,\n",
       "   0.005353608634322882,\n",
       "   0.01689971052110195,\n",
       "   -0.013129305094480515,\n",
       "   -0.03155425935983658,\n",
       "   -0.02550208941102028,\n",
       "   -0.0007736802799627185,\n",
       "   0.005149225704371929,\n",
       "   -0.0240622591227293,\n",
       "   -0.024965202435851097,\n",
       "   -0.03865579888224602,\n",
       "   -0.003257922362536192,\n",
       "   -0.012122644111514091,\n",
       "   0.008785408921539783,\n",
       "   0.009688353165984154,\n",
       "   -0.009224679321050644,\n",
       "   0.00025490651023574173,\n",
       "   -0.025526493787765503,\n",
       "   -0.012195855379104614,\n",
       "   0.00040228324360214174,\n",
       "   -0.02178049273788929,\n",
       "   -0.03294528275728226,\n",
       "   -0.012702236883342266,\n",
       "   0.04612339660525322,\n",
       "   0.019584139809012413,\n",
       "   0.01566731184720993,\n",
       "   0.005484779365360737,\n",
       "   0.010865841992199421,\n",
       "   -0.007943473756313324,\n",
       "   -0.0008991316426545382,\n",
       "   -0.00022440160682890564,\n",
       "   -0.006296209525316954,\n",
       "   -0.011652868241071701,\n",
       "   -0.0218415018171072,\n",
       "   0.01682649739086628,\n",
       "   0.0064670369029045105,\n",
       "   0.005146175157278776,\n",
       "   -0.0007508016424253583,\n",
       "   0.006979519035667181,\n",
       "   0.00767503073439002,\n",
       "   0.02672228403389454,\n",
       "   -0.014117663726210594,\n",
       "   -0.01594795659184456,\n",
       "   -0.03294528275728226,\n",
       "   -0.002864409238100052,\n",
       "   -0.005310901440680027,\n",
       "   -0.011640666052699089,\n",
       "   -0.023488765582442284,\n",
       "   0.013739403337240219,\n",
       "   0.007931271567940712,\n",
       "   0.012391086667776108,\n",
       "   0.03260362893342972,\n",
       "   0.009773767553269863,\n",
       "   0.03074892982840538,\n",
       "   -0.004740460310131311,\n",
       "   0.028430558741092682,\n",
       "   -0.022634629160165787,\n",
       "   0.0018821518169716,\n",
       "   -0.015008406713604927,\n",
       "   0.008773206733167171,\n",
       "   -0.009181972593069077,\n",
       "   0.012147047556936741,\n",
       "   0.010725519619882107,\n",
       "   -0.016057774424552917,\n",
       "   0.016509247943758965,\n",
       "   0.00696121621876955,\n",
       "   0.027796056121587753,\n",
       "   -0.0011027518194168806,\n",
       "   -0.00914536602795124,\n",
       "   -0.01897404156625271,\n",
       "   0.018949639052152634,\n",
       "   -0.032823264598846436,\n",
       "   -0.001448982278816402,\n",
       "   -0.00045376026537269354,\n",
       "   -0.02860138565301895,\n",
       "   -0.02079213410615921,\n",
       "   -0.009761565364897251,\n",
       "   -0.016155390068888664,\n",
       "   -0.041779499500989914,\n",
       "   0.004276785533875227,\n",
       "   0.0016670923214405775,\n",
       "   -0.018132107332348824,\n",
       "   0.01915707252919674,\n",
       "   -0.01880321465432644,\n",
       "   -0.0061619882471859455,\n",
       "   -0.018449358642101288,\n",
       "   -0.018485963344573975,\n",
       "   0.03189591318368912,\n",
       "   0.006759883835911751,\n",
       "   0.022061137482523918,\n",
       "   0.014361702837049961,\n",
       "   -0.0157893318682909,\n",
       "   -0.009450415149331093,\n",
       "   0.029943600296974182,\n",
       "   -0.0430729053914547,\n",
       "   0.013898028060793877,\n",
       "   -0.001956888707354665,\n",
       "   0.01625300571322441,\n",
       "   0.007925170473754406,\n",
       "   -0.005323103629052639,\n",
       "   0.018559176474809647,\n",
       "   0.02667347714304924,\n",
       "   -0.009517526254057884,\n",
       "   -0.025380069389939308,\n",
       "   0.03243280202150345,\n",
       "   0.006332815624773502,\n",
       "   0.00023469701409339905,\n",
       "   -0.0055213854648172855,\n",
       "   -0.01409325934946537,\n",
       "   -0.02381821908056736,\n",
       "   0.015618504025042057,\n",
       "   0.006625662557780743,\n",
       "   0.016497045755386353,\n",
       "   -0.0013528919080272317,\n",
       "   -0.0015877796104177833,\n",
       "   -0.0214388370513916,\n",
       "   0.02608778327703476,\n",
       "   -0.02119479887187481,\n",
       "   -0.007071033585816622,\n",
       "   0.04046168923377991,\n",
       "   -0.018132107332348824,\n",
       "   0.01522804144769907,\n",
       "   -0.010524187237024307,\n",
       "   -0.008919630199670792,\n",
       "   0.0014901639660820365,\n",
       "   -0.011012265458703041,\n",
       "   0.0324816070497036,\n",
       "   -0.02528245374560356,\n",
       "   -0.0036300821229815483,\n",
       "   0.026600265875458717,\n",
       "   0.00464589474722743,\n",
       "   -0.01753421127796173,\n",
       "   0.0107194185256958,\n",
       "   0.007870261557400227,\n",
       "   0.016289612278342247,\n",
       "   -0.01940111070871353,\n",
       "   -0.022158753126859665,\n",
       "   -0.02306169830262661,\n",
       "   0.018656792119145393,\n",
       "   0.016911910846829414,\n",
       "   0.012616823427379131,\n",
       "   -0.01636282354593277,\n",
       "   0.0044933706521987915,\n",
       "   -0.015093820169568062,\n",
       "   -0.011738281697034836,\n",
       "   -0.006259603891521692,\n",
       "   0.005490880459547043,\n",
       "   -0.01234837993979454,\n",
       "   -0.020645709708333015,\n",
       "   -0.022097744047641754,\n",
       "   -0.026893112808465958,\n",
       "   -0.0038710706867277622,\n",
       "   0.01377600897103548,\n",
       "   0.012470399960875511,\n",
       "   -0.026868708431720734,\n",
       "   0.0024434418883174658,\n",
       "   -0.020169833675026894,\n",
       "   -0.006820893846452236,\n",
       "   0.030480487272143364,\n",
       "   -0.005463426001369953,\n",
       "   -0.024416115134954453,\n",
       "   0.007632324006408453,\n",
       "   0.0199257954955101,\n",
       "   -0.039290301501750946,\n",
       "   0.018559176474809647,\n",
       "   -0.006290108431130648,\n",
       "   0.0012636651517823339,\n",
       "   0.006619561463594437,\n",
       "   0.008492561988532543,\n",
       "   -0.004365250002592802,\n",
       "   -0.04697753116488457,\n",
       "   0.021695079281926155,\n",
       "   -0.007614020723849535,\n",
       "   -0.018546974286437035,\n",
       "   0.01689971052110195,\n",
       "   0.021451039239764214,\n",
       "   0.017912471666932106,\n",
       "   0.007650626823306084,\n",
       "   -0.00928568933159113,\n",
       "   0.015447677113115788,\n",
       "   0.017900269478559494,\n",
       "   -0.007522506173700094,\n",
       "   -0.021292414516210556,\n",
       "   -0.02738119103014469,\n",
       "   0.013983442448079586,\n",
       "   -0.024098863825201988,\n",
       "   0.013812614604830742,\n",
       "   -0.005667808931320906,\n",
       "   -0.009883584454655647,\n",
       "   0.002142968587577343,\n",
       "   -0.001956888707354665,\n",
       "   0.016960719600319862,\n",
       "   0.0057471212930977345,\n",
       "   -0.02300068736076355,\n",
       "   0.0180588960647583,\n",
       "   -0.01531345583498478,\n",
       "   0.02440391294658184,\n",
       "   0.0014566085301339626,\n",
       "   -0.025697320699691772,\n",
       "   -0.017461000010371208,\n",
       "   -0.02738119103014469,\n",
       "   -0.032579224556684494,\n",
       "   0.02386702597141266,\n",
       "   -0.0071686492301523685,\n",
       "   -0.005011953413486481,\n",
       "   0.015557494945824146,\n",
       "   0.016118785366415977,\n",
       "   -0.016338419169187546,\n",
       "   -0.010932953096926212,\n",
       "   -0.021975724026560783,\n",
       "   -0.007272365968674421,\n",
       "   0.008230219595134258,\n",
       "   -0.005667808931320906,\n",
       "   -0.015801534056663513,\n",
       "   -0.026917515322566032,\n",
       "   -0.012738842517137527,\n",
       "   0.01606997661292553,\n",
       "   0.0010417420417070389,\n",
       "   -0.03477557748556137,\n",
       "   0.013202517293393612,\n",
       "   0.010670610703527927,\n",
       "   -0.012214158661663532,\n",
       "   -0.0029284695629030466,\n",
       "   -0.012946275994181633,\n",
       "   0.010103220120072365,\n",
       "   0.0007969402940943837,\n",
       "   -0.002971176290884614,\n",
       "   -0.011439334601163864,\n",
       "   0.02906505949795246,\n",
       "   -0.01394683588296175,\n",
       "   -0.012592419050633907,\n",
       "   0.010890246368944645,\n",
       "   0.01478877104818821,\n",
       "   0.00039198785088956356,\n",
       "   -0.0001293598033953458,\n",
       "   0.012934073805809021,\n",
       "   0.010237441398203373,\n",
       "   -0.050467293709516525,\n",
       "   -0.005002802237868309,\n",
       "   0.011555252596735954,\n",
       "   -0.009310092777013779,\n",
       "   -0.013641787692904472,\n",
       "   0.013446556404232979,\n",
       "   -0.0009487021015956998,\n",
       "   -0.004661147482693195,\n",
       "   0.0007122891838662326,\n",
       "   0.011396626941859722,\n",
       "   -0.0048655299469828606,\n",
       "   0.020706720650196075,\n",
       "   0.010274047031998634,\n",
       "   -0.019352303817868233,\n",
       "   -0.01380041241645813,\n",
       "   0.012177553027868271,\n",
       "   -0.012848660349845886,\n",
       "   -0.009651747532188892,\n",
       "   0.007546910084784031,\n",
       "   0.016509247943758965,\n",
       "   -0.01438610628247261,\n",
       "   0.005332254804670811,\n",
       "   -0.010347259230911732,\n",
       "   -0.0012423116713762283,\n",
       "   0.020926354452967644,\n",
       "   -0.009834776632487774,\n",
       "   0.000660049612633884,\n",
       "   0.02096296101808548,\n",
       "   -0.007272365968674421,\n",
       "   0.02386702597141266,\n",
       "   0.003968686331063509,\n",
       "   -0.0008038039086386561,\n",
       "   -0.00882811564952135,\n",
       "   0.0001186830922961235,\n",
       "   -0.02060910500586033,\n",
       "   -0.0020941607654094696,\n",
       "   0.00021162768825888634,\n",
       "   0.006265704520046711,\n",
       "   -0.007302870973944664,\n",
       "   0.005771525204181671,\n",
       "   -0.001109615433961153,\n",
       "   -0.04502521827816963,\n",
       "   -0.00782755482941866,\n",
       "   -0.021975724026560783,\n",
       "   -0.010304552502930164,\n",
       "   -0.02974836900830269,\n",
       "   -0.007003922946751118,\n",
       "   0.0118542006239295,\n",
       "   -0.00934669841080904,\n",
       "   0.005295649170875549,\n",
       "   0.015874745324254036,\n",
       "   -0.0034348508343100548,\n",
       "   -0.004011393059045076,\n",
       "   -0.009517526254057884,\n",
       "   0.008846418000757694,\n",
       "   0.01677769050002098,\n",
       "   -0.004651995841413736,\n",
       "   0.0007290669018402696,\n",
       "   -0.003468406153842807,\n",
       "   -0.00481977267190814,\n",
       "   -0.012061634100973606,\n",
       "   0.010902448557317257,\n",
       "   -0.0032884273678064346,\n",
       "   0.026185398921370506,\n",
       "   0.18937435746192932,\n",
       "   0.0015801533591002226,\n",
       "   0.0017952128546312451,\n",
       "   0.036313023418188095,\n",
       "   -0.015764927491545677,\n",
       "   0.013861422426998615,\n",
       "   -0.0009540405008010566,\n",
       "   -0.005478678271174431,\n",
       "   -0.002193301683291793,\n",
       "   0.014849781058728695,\n",
       "   -0.017717240378260612,\n",
       "   0.001595405861735344,\n",
       "   -0.019181475043296814,\n",
       "   0.0005162952584214509,\n",
       "   0.005673909559845924,\n",
       "   -0.024147672578692436,\n",
       "   -0.05910627543926239,\n",
       "   -0.01898624375462532,\n",
       "   -0.022805456072092056,\n",
       "   -0.022317377850413322,\n",
       "   -0.0127876503393054,\n",
       "   -0.009633444249629974,\n",
       "   -0.04541568085551262,\n",
       "   0.011018366552889347,\n",
       "   0.039046261459589005,\n",
       "   0.03260362893342972,\n",
       "   0.015862543135881424,\n",
       "   0.01671667955815792,\n",
       "   0.012958478182554245,\n",
       "   0.0071808514185249805,\n",
       "   -0.021804897114634514,\n",
       "   -0.02911386825144291,\n",
       "   -0.002824752824380994,\n",
       "   0.0025212292093783617,\n",
       "   -0.022903071716427803,\n",
       "   -0.007315072696655989,\n",
       "   0.004926539957523346,\n",
       "   -0.0030459132976830006,\n",
       "   0.020133228972554207,\n",
       "   0.01688750833272934,\n",
       "   0.019059456884860992,\n",
       "   0.00868169218301773,\n",
       "   0.013239122927188873,\n",
       "   -0.021353423595428467,\n",
       "   -0.002887287875637412,\n",
       "   0.020889749750494957,\n",
       "   ...],\n",
       "  {'text': 'good night',\n",
       "   'date_uploaded': datetime.datetime(2024, 4, 14, 6, 5, 1, 534517)}),\n",
       " ('ef1c511c9efb9259438f098aff940740',\n",
       "  [-0.013851483352482319,\n",
       "   -0.010491142980754375,\n",
       "   0.008579452522099018,\n",
       "   -0.01655033975839615,\n",
       "   -0.012442521750926971,\n",
       "   0.020770611241459846,\n",
       "   -0.022040661424398422,\n",
       "   0.00303786713629961,\n",
       "   -0.009373234584927559,\n",
       "   -0.0008872159523889422,\n",
       "   0.012753419578075409,\n",
       "   0.001991068013012409,\n",
       "   -0.023099035024642944,\n",
       "   -0.012574818916618824,\n",
       "   0.005291875451803207,\n",
       "   0.0030097540002316236,\n",
       "   0.034238435328006744,\n",
       "   0.00012568203965201974,\n",
       "   0.021273339167237282,\n",
       "   -0.021789297461509705,\n",
       "   -0.0004903253284282982,\n",
       "   -0.018944913521409035,\n",
       "   -0.005096737295389175,\n",
       "   -0.008632371202111244,\n",
       "   0.006356865167617798,\n",
       "   0.015425816178321838,\n",
       "   0.011728119105100632,\n",
       "   -0.017344120889902115,\n",
       "   0.011079863645136356,\n",
       "   -0.02394573576748371,\n",
       "   0.0160608422011137,\n",
       "   0.008791128173470497,\n",
       "   -0.02751775272190571,\n",
       "   -0.01517445221543312,\n",
       "   0.002735238056629896,\n",
       "   -0.016934001818299294,\n",
       "   -0.0030775561463087797,\n",
       "   -0.010868188925087452,\n",
       "   0.0060029709711670876,\n",
       "   -0.004213655833154917,\n",
       "   0.0153596680611372,\n",
       "   -0.01939472369849682,\n",
       "   0.004051592200994492,\n",
       "   -0.008586067706346512,\n",
       "   -0.004732920788228512,\n",
       "   0.006055889651179314,\n",
       "   -0.006714066956192255,\n",
       "   -0.027081172913312912,\n",
       "   0.009287240915000439,\n",
       "   0.04881754890084267,\n",
       "   0.003945754375308752,\n",
       "   0.012098549865186214,\n",
       "   -0.013057702220976353,\n",
       "   -0.019963599741458893,\n",
       "   0.007084498181939125,\n",
       "   -0.0017198595451191068,\n",
       "   -0.0035951677709817886,\n",
       "   0.024210330098867416,\n",
       "   -0.015333209186792374,\n",
       "   -0.028920099139213562,\n",
       "   -0.012144854292273521,\n",
       "   0.012634352780878544,\n",
       "   -0.021088123321533203,\n",
       "   0.016947230324149132,\n",
       "   0.0011559440754354,\n",
       "   0.00459400936961174,\n",
       "   -0.0010897956090047956,\n",
       "   -0.011000486090779305,\n",
       "   -0.032518573105335236,\n",
       "   0.011265079490840435,\n",
       "   0.009624598547816277,\n",
       "   0.03609059005975723,\n",
       "   -0.017410269007086754,\n",
       "   -0.01772778294980526,\n",
       "   0.01147675421088934,\n",
       "   0.005566391162574291,\n",
       "   -0.016404813155531883,\n",
       "   -0.004471634514629841,\n",
       "   -0.038921743631362915,\n",
       "   -0.00023027925635688007,\n",
       "   0.04193811118602753,\n",
       "   -0.0381808802485466,\n",
       "   0.002129979897290468,\n",
       "   0.01378533523529768,\n",
       "   0.023906046524643898,\n",
       "   0.02174960821866989,\n",
       "   -0.030031392350792885,\n",
       "   0.008367777802050114,\n",
       "   -0.012429292313754559,\n",
       "   -0.02567882463335991,\n",
       "   0.010477913543581963,\n",
       "   0.01443358976393938,\n",
       "   -0.009889191947877407,\n",
       "   0.031513117253780365,\n",
       "   -0.01464526541531086,\n",
       "   0.007560766767710447,\n",
       "   0.01144368015229702,\n",
       "   0.01443358976393938,\n",
       "   -0.004693232011049986,\n",
       "   -0.012144854292273521,\n",
       "   0.009465841576457024,\n",
       "   -0.016947230324149132,\n",
       "   -0.019407952204346657,\n",
       "   0.007891508750617504,\n",
       "   -0.02981971763074398,\n",
       "   -0.0024805665016174316,\n",
       "   -0.01159582193940878,\n",
       "   -0.003992058336734772,\n",
       "   0.015240601263940334,\n",
       "   -0.015690410509705544,\n",
       "   0.010239779017865658,\n",
       "   0.018600942566990852,\n",
       "   -0.021021975204348564,\n",
       "   -0.04132954776287079,\n",
       "   -0.003385146614164114,\n",
       "   0.02733253687620163,\n",
       "   0.014790792018175125,\n",
       "   -0.004709769040346146,\n",
       "   -0.004038362298160791,\n",
       "   -0.023694371804594994,\n",
       "   0.0028956481255590916,\n",
       "   0.03984782099723816,\n",
       "   0.02009589597582817,\n",
       "   -0.00841408222913742,\n",
       "   0.006436243187636137,\n",
       "   -0.006277487147599459,\n",
       "   -0.00609227130189538,\n",
       "   -0.01944764144718647,\n",
       "   0.00022986583644524217,\n",
       "   0.004756073001772165,\n",
       "   0.06487838923931122,\n",
       "   0.010305927135050297,\n",
       "   0.026300620287656784,\n",
       "   0.0015768135199323297,\n",
       "   -0.021021975204348564,\n",
       "   0.007349092047661543,\n",
       "   -0.006227875594049692,\n",
       "   0.024924732744693756,\n",
       "   -0.037678152322769165,\n",
       "   -0.012449136935174465,\n",
       "   0.0075739966705441475,\n",
       "   0.018045295029878616,\n",
       "   -0.02145855501294136,\n",
       "   -0.03421197459101677,\n",
       "   0.002111789071932435,\n",
       "   0.0030825173016637564,\n",
       "   0.02668428234755993,\n",
       "   -0.02123364992439747,\n",
       "   0.009260782040655613,\n",
       "   -0.001008763792924583,\n",
       "   -0.0069257416762411594,\n",
       "   0.0035654010716825724,\n",
       "   0.025586217641830444,\n",
       "   -0.008334703743457794,\n",
       "   0.0041177403181791306,\n",
       "   0.027597129344940186,\n",
       "   -0.004379027057439089,\n",
       "   0.02305934764444828,\n",
       "   -0.016523880884051323,\n",
       "   -0.009373234584927559,\n",
       "   -0.007785671390593052,\n",
       "   -0.011337842792272568,\n",
       "   0.026776889339089394,\n",
       "   -0.02686949633061886,\n",
       "   -0.0010112442541867495,\n",
       "   0.04127662628889084,\n",
       "   0.0033305741380900145,\n",
       "   0.001560276374220848,\n",
       "   0.012118394486606121,\n",
       "   -0.007527692709118128,\n",
       "   -0.004567550029605627,\n",
       "   -0.002884072018787265,\n",
       "   -0.020069437101483345,\n",
       "   -0.008281785063445568,\n",
       "   -0.023694371804594994,\n",
       "   0.008546378463506699,\n",
       "   0.0005482052220031619,\n",
       "   0.007792286574840546,\n",
       "   -0.02491150237619877,\n",
       "   -0.026062486693263054,\n",
       "   -0.028205696493387222,\n",
       "   0.008347933180630207,\n",
       "   0.0006937317666597664,\n",
       "   0.021868674084544182,\n",
       "   0.014592346735298634,\n",
       "   0.0017711245454847813,\n",
       "   -0.00267405086196959,\n",
       "   0.012316839769482613,\n",
       "   0.013957321643829346,\n",
       "   0.005315027199685574,\n",
       "   0.007494618650525808,\n",
       "   0.01481725089251995,\n",
       "   0.01182734128087759,\n",
       "   -0.015280290506780148,\n",
       "   -0.6367184519767761,\n",
       "   -0.021908363327383995,\n",
       "   0.021432094275951385,\n",
       "   0.008844046853482723,\n",
       "   0.0048354510217905045,\n",
       "   0.008824202232062817,\n",
       "   -0.0001935875479830429,\n",
       "   0.029158232733607292,\n",
       "   -0.017569025978446007,\n",
       "   0.028946558013558388,\n",
       "   0.012191157788038254,\n",
       "   0.0035124821588397026,\n",
       "   -0.006423013750463724,\n",
       "   0.01726474240422249,\n",
       "   0.016232827678322792,\n",
       "   -0.01878615841269493,\n",
       "   -0.0019265733426436782,\n",
       "   -0.0010525870602577925,\n",
       "   0.005215804558247328,\n",
       "   0.015319978818297386,\n",
       "   -0.008288399316370487,\n",
       "   -0.006244413089007139,\n",
       "   -0.0153861278668046,\n",
       "   -0.01224407646805048,\n",
       "   0.015452275983989239,\n",
       "   0.01188687514513731,\n",
       "   -0.009981799870729446,\n",
       "   0.011648740619421005,\n",
       "   -0.01985776238143444,\n",
       "   0.03230689838528633,\n",
       "   -0.004954518284648657,\n",
       "   0.025744972750544548,\n",
       "   0.004842065740376711,\n",
       "   -0.006323791109025478,\n",
       "   0.05778728052973747,\n",
       "   0.002538446569815278,\n",
       "   0.007448314689099789,\n",
       "   0.042176246643066406,\n",
       "   0.021895134821534157,\n",
       "   0.05699349567294121,\n",
       "   -0.006327098235487938,\n",
       "   -0.02123364992439747,\n",
       "   0.010087637230753899,\n",
       "   -0.026935646310448647,\n",
       "   0.004554320126771927,\n",
       "   0.013560430146753788,\n",
       "   -0.015161222778260708,\n",
       "   0.007289558183401823,\n",
       "   -0.017291203141212463,\n",
       "   -0.011873645707964897,\n",
       "   -0.015531654469668865,\n",
       "   -0.004263266921043396,\n",
       "   0.03159249573945999,\n",
       "   0.007613685447722673,\n",
       "   0.001969569828361273,\n",
       "   -0.0049181366339325905,\n",
       "   0.01789976842701435,\n",
       "   -0.011245234869420528,\n",
       "   0.011291539296507835,\n",
       "   0.012733574956655502,\n",
       "   0.014751102775335312,\n",
       "   0.02377375029027462,\n",
       "   -0.01188687514513731,\n",
       "   -0.011807496659457684,\n",
       "   -0.030957471579313278,\n",
       "   0.04696539416909218,\n",
       "   -0.027120860293507576,\n",
       "   0.0037307720631361008,\n",
       "   -0.045510128140449524,\n",
       "   -0.011992712505161762,\n",
       "   -0.004332723096013069,\n",
       "   -0.008982958272099495,\n",
       "   -0.0114370658993721,\n",
       "   0.013084162026643753,\n",
       "   0.004673387389630079,\n",
       "   0.012429292313754559,\n",
       "   0.02910531498491764,\n",
       "   -0.017463188618421555,\n",
       "   -0.0020605239551514387,\n",
       "   0.00535140885040164,\n",
       "   -0.0030825173016637564,\n",
       "   0.00304613565094769,\n",
       "   -0.019130129367113113,\n",
       "   0.0017545873997732997,\n",
       "   0.007798901293426752,\n",
       "   -0.017502877861261368,\n",
       "   -0.02852320857346058,\n",
       "   -0.01404992863535881,\n",
       "   -0.0011005447013303638,\n",
       "   -0.01890522427856922,\n",
       "   0.03759877383708954,\n",
       "   0.02034725993871689,\n",
       "   0.010028103366494179,\n",
       "   -0.023694371804594994,\n",
       "   0.01307754684239626,\n",
       "   0.01526706013828516,\n",
       "   -0.017449958249926567,\n",
       "   0.020413409918546677,\n",
       "   -0.0061418828554451466,\n",
       "   -0.0022192802280187607,\n",
       "   -0.000294773984933272,\n",
       "   0.012693885713815689,\n",
       "   0.015319978818297386,\n",
       "   -0.004775917623192072,\n",
       "   0.022728605195879936,\n",
       "   0.00036795070627704263,\n",
       "   -0.035296808928251266,\n",
       "   -0.0002726555976551026,\n",
       "   0.019302114844322205,\n",
       "   -0.013957321643829346,\n",
       "   0.01856125332415104,\n",
       "   -0.003654701402410865,\n",
       "   -0.007349092047661543,\n",
       "   0.011000486090779305,\n",
       "   0.005543239414691925,\n",
       "   -0.028549667447805405,\n",
       "   -0.00046014509280212224,\n",
       "   0.020373720675706863,\n",
       "   0.01497600693255663,\n",
       "   -0.013798564672470093,\n",
       "   0.025943418964743614,\n",
       "   -0.030692877247929573,\n",
       "   0.03325943648815155,\n",
       "   0.0177939310669899,\n",
       "   0.003658008761703968,\n",
       "   0.025057028979063034,\n",
       "   -0.010649899020791054,\n",
       "   -0.007110957521945238,\n",
       "   -0.019130129367113113,\n",
       "   -0.015597802586853504,\n",
       "   0.004054899327456951,\n",
       "   -0.013315681368112564,\n",
       "   -0.00613526813685894,\n",
       "   -0.023323940113186836,\n",
       "   0.016934001818299294,\n",
       "   -0.0039689065888524055,\n",
       "   0.033524028956890106,\n",
       "   -0.023998655378818512,\n",
       "   0.03381508216261864,\n",
       "   0.0021944744512438774,\n",
       "   -0.025268705561757088,\n",
       "   0.0076798340305686,\n",
       "   0.0027286233380436897,\n",
       "   0.014632035046815872,\n",
       "   0.00532164191827178,\n",
       "   -0.004302956163883209,\n",
       "   -0.015478735789656639,\n",
       "   -0.00384653196670115,\n",
       "   0.01813790202140808,\n",
       "   0.003978828899562359,\n",
       "   -0.006158419884741306,\n",
       "   0.02174960821866989,\n",
       "   0.0014643610920757055,\n",
       "   0.004015210550278425,\n",
       "   0.026234472170472145,\n",
       "   0.007527692709118128,\n",
       "   0.003654701402410865,\n",
       "   -0.009102026000618935,\n",
       "   -0.022305253893136978,\n",
       "   -0.010762351565063,\n",
       "   0.026340309530496597,\n",
       "   0.00689266761764884,\n",
       "   -0.014235144481062889,\n",
       "   -0.0021283261012285948,\n",
       "   0.016814934089779854,\n",
       "   -0.05146348848938942,\n",
       "   -0.029660960659384727,\n",
       "   0.005129811819642782,\n",
       "   -0.0076004560105502605,\n",
       "   -0.022927049547433853,\n",
       "   -0.004392256494611502,\n",
       "   -0.0017678170697763562,\n",
       "   -0.013203228823840618,\n",
       "   0.00306763406842947,\n",
       "   0.01025300845503807,\n",
       "   -0.005043818615376949,\n",
       "   0.007454929407685995,\n",
       "   -0.0053447941318154335,\n",
       "   -0.00228873617015779,\n",
       "   -0.030401824042201042,\n",
       "   -0.010279468260705471,\n",
       "   -0.029422827064990997,\n",
       "   -0.023138724267482758,\n",
       "   0.002025796100497246,\n",
       "   0.019341804087162018,\n",
       "   0.029608042910695076,\n",
       "   -0.001817428390495479,\n",
       "   0.025811122730374336,\n",
       "   -0.014737872406840324,\n",
       "   0.004653542768210173,\n",
       "   -0.005374561063945293,\n",
       "   0.003988751210272312,\n",
       "   -0.0036183197516947985,\n",
       "   -0.0052058822475373745,\n",
       "   0.009849502705037594,\n",
       "   -0.027650048956274986,\n",
       "   0.0003243340761400759,\n",
       "   0.009756894782185555,\n",
       "   0.008817587047815323,\n",
       "   0.023879587650299072,\n",
       "   0.024620449170470238,\n",
       "   0.016034381464123726,\n",
       "   0.030692877247929573,\n",
       "   -0.02014881558716297,\n",
       "   -0.0022258951794356108,\n",
       "   -0.00948568619787693,\n",
       "   0.015399357303977013,\n",
       "   -0.023681141436100006,\n",
       "   0.01464526541531086,\n",
       "   0.0017099372344091535,\n",
       "   -0.00464031333103776,\n",
       "   -0.0006346116424538195,\n",
       "   0.00010563079558778554,\n",
       "   0.010372075252234936,\n",
       "   -0.014407130889594555,\n",
       "   0.026485836133360863,\n",
       "   -0.02210680954158306,\n",
       "   0.01346120797097683,\n",
       "   -0.016563570126891136,\n",
       "   0.0036976980045437813,\n",
       "   -0.0006184879457578063,\n",
       "   0.008367777802050114,\n",
       "   -0.012045631185173988,\n",
       "   -0.00809656921774149,\n",
       "   0.002917146310210228,\n",
       "   0.008175947703421116,\n",
       "   0.03302130103111267,\n",
       "   0.028893640264868736,\n",
       "   0.006174956914037466,\n",
       "   -0.014698184095323086,\n",
       "   -0.026525525376200676,\n",
       "   0.007831975817680359,\n",
       "   -0.001492474228143692,\n",
       "   0.008579452522099018,\n",
       "   -0.0035323267802596092,\n",
       "   -0.01037869043648243,\n",
       "   0.012396218255162239,\n",
       "   -0.015478735789656639,\n",
       "   0.005956667009741068,\n",
       "   -0.008738209493458271,\n",
       "   0.010279468260705471,\n",
       "   0.009260782040655613,\n",
       "   0.00495121069252491,\n",
       "   -0.0007983290124684572,\n",
       "   0.010458068922162056,\n",
       "   0.028311533853411674,\n",
       "   0.022278795018792152,\n",
       "   0.013183384202420712,\n",
       "   0.0023449622094631195,\n",
       "   0.02283444255590439,\n",
       "   -0.017595484852790833,\n",
       "   0.021723147481679916,\n",
       "   -0.006912512239068747,\n",
       "   -0.010173629969358444,\n",
       "   -0.0018720008665695786,\n",
       "   -0.04233500361442566,\n",
       "   0.003714235033839941,\n",
       "   0.0013237956445664167,\n",
       "   0.0259037297219038,\n",
       "   0.023667912930250168,\n",
       "   0.019222736358642578,\n",
       "   -0.0058541372418403625,\n",
       "   0.024951191619038582,\n",
       "   0.00152637530118227,\n",
       "   0.030639957636594772,\n",
       "   0.012343299575150013,\n",
       "   0.027001794427633286,\n",
       "   -0.037731070071458817,\n",
       "   -0.011185701936483383,\n",
       "   -0.003707620082423091,\n",
       "   -0.013864713720977306,\n",
       "   -0.030507661402225494,\n",
       "   0.006591692101210356,\n",
       "   -0.022384632378816605,\n",
       "   0.009320315904915333,\n",
       "   -0.014301293529570103,\n",
       "   0.021379176527261734,\n",
       "   -0.019646087661385536,\n",
       "   0.021895134821534157,\n",
       "   0.005209189839661121,\n",
       "   -0.0021713227033615112,\n",
       "   -0.03381508216261864,\n",
       "   0.0038597616367042065,\n",
       "   0.02620801329612732,\n",
       "   0.012852642685174942,\n",
       "   -0.02123364992439747,\n",
       "   -0.015849167481064796,\n",
       "   -0.004425330553203821,\n",
       "   -0.007891508750617504,\n",
       "   0.023284250870347023,\n",
       "   0.0044087935239076614,\n",
       "   0.01873323880136013,\n",
       "   0.0005349755520001054,\n",
       "   -0.00800396129488945,\n",
       "   -0.012991554103791714,\n",
       "   -0.01992391049861908,\n",
       "   0.02668428234755993,\n",
       "   -0.01173473335802555,\n",
       "   0.008989573456346989,\n",
       "   0.024765975773334503,\n",
       "   0.0011501560220494866,\n",
       "   -0.010140555910766125,\n",
       "   0.006039352621883154,\n",
       "   -0.00806349515914917,\n",
       "   -0.018243739381432533,\n",
       "   0.02727961726486683,\n",
       "   -0.0015156262088567019,\n",
       "   -0.009135100059211254,\n",
       "   0.016642948612570763,\n",
       "   -0.0026459377259016037,\n",
       "   -0.02026788331568241,\n",
       "   0.017714552581310272,\n",
       "   -0.0252025555819273,\n",
       "   -0.019050750881433487,\n",
       "   -0.010557291097939014,\n",
       "   -0.0036679310724139214,\n",
       "   -0.03167187422513962,\n",
       "   -0.010517601855099201,\n",
       "   0.023641452193260193,\n",
       "   0.003095746971666813,\n",
       "   -0.006413091439753771,\n",
       "   -0.008705134503543377,\n",
       "   -0.013944091275334358,\n",
       "   -0.0024772591423243284,\n",
       "   0.05178099870681763,\n",
       "   -0.012045631185173988,\n",
       "   0.012468981556594372,\n",
       "   -0.0023945735301822424,\n",
       "   -0.01464526541531086,\n",
       "   0.015055385418236256,\n",
       "   -0.023906046524643898,\n",
       "   -0.026723969727754593,\n",
       "   -0.010676358826458454,\n",
       "   -0.02104843407869339,\n",
       "   -0.012998169288039207,\n",
       "   -0.0228212121874094,\n",
       "   0.0004849507531616837,\n",
       "   0.02491150237619877,\n",
       "   0.02585081197321415,\n",
       "   -0.004898292012512684,\n",
       "   0.012971709482371807,\n",
       "   0.00016423418128397316,\n",
       "   -0.002376382704824209,\n",
       "   0.014777561649680138,\n",
       "   -0.002819577232003212,\n",
       "   -0.016682637855410576,\n",
       "   0.0021762836258858442,\n",
       "   0.013322296552360058,\n",
       "   0.021723147481679916,\n",
       "   0.025877270847558975,\n",
       "   -0.004501401446759701,\n",
       "   0.005883903708308935,\n",
       "   0.002799732843413949,\n",
       "   -0.022688915953040123,\n",
       "   -0.008433925919234753,\n",
       "   -0.01426160428673029,\n",
       "   -0.011033560149371624,\n",
       "   -0.01028608251363039,\n",
       "   -0.0025698670651763678,\n",
       "   0.06276164203882217,\n",
       "   -0.009710591286420822,\n",
       "   0.005758221726864576,\n",
       "   0.010372075252234936,\n",
       "   0.003396722488105297,\n",
       "   0.03706958517432213,\n",
       "   0.01565072126686573,\n",
       "   0.011258465237915516,\n",
       "   -0.003228043904528022,\n",
       "   -0.015147993341088295,\n",
       "   -0.008797742426395416,\n",
       "   -0.0023036194033920765,\n",
       "   0.01975192502140999,\n",
       "   0.0031007081270217896,\n",
       "   -0.004498093854635954,\n",
       "   0.02620801329612732,\n",
       "   0.006786830257624388,\n",
       "   -0.02987263724207878,\n",
       "   -0.012263921089470387,\n",
       "   0.016854623332619667,\n",
       "   -0.0054572466760873795,\n",
       "   0.0037869983352720737,\n",
       "   -0.003608397440984845,\n",
       "   -0.0015073575777933002,\n",
       "   -0.0047395359724760056,\n",
       "   0.008149487897753716,\n",
       "   -0.028311533853411674,\n",
       "   -0.022807983681559563,\n",
       "   0.0009889191715046763,\n",
       "   -0.014063159003853798,\n",
       "   -0.014565886929631233,\n",
       "   -0.02229202538728714,\n",
       "   -0.005526702385395765,\n",
       "   -0.02365468256175518,\n",
       "   -0.0019629551097750664,\n",
       "   -0.020439868792891502,\n",
       "   -0.011271694675087929,\n",
       "   -0.03540264442563057,\n",
       "   -0.0008772936998866498,\n",
       "   -0.00874482374638319,\n",
       "   0.020109126344323158,\n",
       "   0.016867851838469505,\n",
       "   -0.02045309729874134,\n",
       "   0.0034926377702504396,\n",
       "   0.02923761121928692,\n",
       "   0.007659989409148693,\n",
       "   -0.017582256346940994,\n",
       "   0.011463524773716927,\n",
       "   -0.03831317648291588,\n",
       "   0.005979819223284721,\n",
       "   0.0018091598758473992,\n",
       "   -0.0014784176601096988,\n",
       "   -0.0016801704186946154,\n",
       "   -0.012409447692334652,\n",
       "   0.011212160810828209,\n",
       "   0.034053217619657516,\n",
       "   0.006753755733370781,\n",
       "   0.02205388993024826,\n",
       "   -0.021008744835853577,\n",
       "   0.010649899020791054,\n",
       "   -0.005007436964660883,\n",
       "   0.012389603070914745,\n",
       "   -0.006456087809056044,\n",
       "   -0.02259630709886551,\n",
       "   0.008281785063445568,\n",
       "   0.010874804109334946,\n",
       "   -0.03130144253373146,\n",
       "   -0.019315345212817192,\n",
       "   -0.014804021455347538,\n",
       "   0.006585077382624149,\n",
       "   0.021485013887286186,\n",
       "   -0.0020572165958583355,\n",
       "   0.02762359008193016,\n",
       "   -0.01186041533946991,\n",
       "   0.01082188542932272,\n",
       "   0.02518932707607746,\n",
       "   -0.028708424419164658,\n",
       "   0.0153596680611372,\n",
       "   -0.013653038069605827,\n",
       "   0.00727632874622941,\n",
       "   0.017410269007086754,\n",
       "   -0.007613685447722673,\n",
       "   0.007607070729136467,\n",
       "   -0.0123036103323102,\n",
       "   -0.010570521466434002,\n",
       "   -0.0027220083866268396,\n",
       "   -0.05003468319773674,\n",
       "   0.03296838328242302,\n",
       "   0.018270200118422508,\n",
       "   0.002550022443756461,\n",
       "   0.01049775816500187,\n",
       "   -0.007845205254852772,\n",
       "   -0.012230847030878067,\n",
       "   -0.007408625446259975,\n",
       "   -0.00532164191827178,\n",
       "   -0.0018769620219245553,\n",
       "   0.0045179384760558605,\n",
       "   -0.016563570126891136,\n",
       "   -0.02258307859301567,\n",
       "   -0.0038101503159850836,\n",
       "   -0.012554974295198917,\n",
       "   -0.015280290506780148,\n",
       "   0.009710591286420822,\n",
       "   -0.0022275487426668406,\n",
       "   -0.03812796249985695,\n",
       "   -0.020902907475829124,\n",
       "   -0.025480380281805992,\n",
       "   -0.018270200118422508,\n",
       "   -0.013944091275334358,\n",
       "   -0.014671724289655685,\n",
       "   -0.03503221645951271,\n",
       "   -0.020069437101483345,\n",
       "   0.002773273503407836,\n",
       "   -0.0037175423931330442,\n",
       "   0.012541744858026505,\n",
       "   -0.015491965226829052,\n",
       "   0.0011096401140093803,\n",
       "   -0.036487478762865067,\n",
       "   -0.006201416254043579,\n",
       "   0.014155766926705837,\n",
       "   -0.03053412027657032,\n",
       "   -0.008658831007778645,\n",
       "   0.011688429862260818,\n",
       "   0.05879273638129234,\n",
       "   0.015505194664001465,\n",
       "   0.014698184095323086,\n",
       "   0.012667426839470863,\n",
       "   -0.004216962959617376,\n",
       "   0.014102848246693611,\n",
       "   -0.008526533842086792,\n",
       "   -0.008930039592087269,\n",
       "   -0.028311533853411674,\n",
       "   0.008321474306285381,\n",
       "   -0.029899096116423607,\n",
       "   0.006039352621883154,\n",
       "   0.010034718550741673,\n",
       "   0.021193960681557655,\n",
       "   0.00960475392639637,\n",
       "   0.024038344621658325,\n",
       "   -0.011781037785112858,\n",
       "   0.010894648730754852,\n",
       "   -0.00684636365622282,\n",
       "   -0.02419709973037243,\n",
       "   0.003608397440984845,\n",
       "   -0.015055385418236256,\n",
       "   -0.00883743166923523,\n",
       "   -0.020797070115804672,\n",
       "   -0.015928544104099274,\n",
       "   -0.011007100343704224,\n",
       "   0.000211158228921704,\n",
       "   -0.008281785063445568,\n",
       "   0.004587394651025534,\n",
       "   0.009776739403605461,\n",
       "   0.011020330712199211,\n",
       "   0.01266081165522337,\n",
       "   0.018574481830000877,\n",
       "   -0.019659316167235374,\n",
       "   0.027001794427633286,\n",
       "   0.020678002387285233,\n",
       "   0.01159582193940878,\n",
       "   -0.01743672974407673,\n",
       "   -0.010742506943643093,\n",
       "   0.014724642969667912,\n",
       "   -0.0019894144497811794,\n",
       "   0.024752747267484665,\n",
       "   0.006687607616186142,\n",
       "   0.03577307611703873,\n",
       "   -0.004818913992494345,\n",
       "   0.002384651219472289,\n",
       "   -0.007302788086235523,\n",
       "   0.016523880884051323,\n",
       "   -0.018878765404224396,\n",
       "   -0.023694371804594994,\n",
       "   -0.010762351565063,\n",
       "   -0.025281934067606926,\n",
       "   -0.01999005861580372,\n",
       "   -0.011165857315063477,\n",
       "   -0.01135107222944498,\n",
       "   -0.030163688585162163,\n",
       "   0.0016611526953056455,\n",
       "   -0.014870169572532177,\n",
       "   -0.005331564228981733,\n",
       "   0.023681141436100006,\n",
       "   -0.030745794996619225,\n",
       "   -0.042546678334474564,\n",
       "   0.010636669583618641,\n",
       "   0.028232155367732048,\n",
       "   0.03516451269388199,\n",
       "   -0.00889696553349495,\n",
       "   0.01144368015229702,\n",
       "   0.022146498784422874,\n",
       "   -0.004021825268864632,\n",
       "   -0.02620801329612732,\n",
       "   -0.0043525672517716885,\n",
       "   -0.0035091747995465994,\n",
       "   -0.003505867440253496,\n",
       "   0.016523880884051323,\n",
       "   -0.0037704610731452703,\n",
       "   -0.016047611832618713,\n",
       "   -0.0033537258859723806,\n",
       "   -0.008784512989223003,\n",
       "   0.02033403143286705,\n",
       "   -0.011232005432248116,\n",
       "   -0.031116226688027382,\n",
       "   0.04167351871728897,\n",
       "   0.008076724596321583,\n",
       "   -0.013262762688100338,\n",
       "   0.007428470067679882,\n",
       "   -0.008169332519173622,\n",
       "   -0.02319164387881756,\n",
       "   0.03532326966524124,\n",
       "   0.005033896304666996,\n",
       "   -0.011642125435173512,\n",
       "   -0.009386464022099972,\n",
       "   -0.01707952842116356,\n",
       "   -0.00530510488897562,\n",
       "   0.004038362298160791,\n",
       "   -0.027729427441954613,\n",
       "   0.026578443124890327,\n",
       "   0.03474116325378418,\n",
       "   -0.021656999364495277,\n",
       "   0.0028278459794819355,\n",
       "   -0.004415408708155155,\n",
       "   -0.0018240433419123292,\n",
       "   0.009412922896444798,\n",
       "   -0.02283444255590439,\n",
       "   0.038154419511556625,\n",
       "   -0.03034890443086624,\n",
       "   0.023919276893138885,\n",
       "   0.0083545483648777,\n",
       "   0.004058206919580698,\n",
       "   -0.022424321621656418,\n",
       "   -0.002263930393382907,\n",
       "   -0.00842069648206234,\n",
       "   0.038630690425634384,\n",
       "   -0.027200238779187202,\n",
       "   -0.027597129344940186,\n",
       "   -0.00030221568886190653,\n",
       "   0.015108304098248482,\n",
       "   0.022371403872966766,\n",
       "   0.013322296552360058,\n",
       "   -0.012409447692334652,\n",
       "   -0.02034725993871689,\n",
       "   -0.018653860315680504,\n",
       "   -0.018521564081311226,\n",
       "   0.00426988210529089,\n",
       "   0.010768966749310493,\n",
       "   -0.009366619400680065,\n",
       "   -0.013203228823840618,\n",
       "   -0.031804170459508896,\n",
       "   -0.0049181366339325905,\n",
       "   -0.04246729984879494,\n",
       "   -0.01582270674407482,\n",
       "   0.014962777495384216,\n",
       "   0.04286418855190277,\n",
       "   -0.012581434100866318,\n",
       "   -0.015412586741149426,\n",
       "   0.0006172476569190621,\n",
       "   0.020122356712818146,\n",
       "   0.022437551990151405,\n",
       "   -0.03082517348229885,\n",
       "   0.005979819223284721,\n",
       "   0.013163539581000805,\n",
       "   -0.015028925612568855,\n",
       "   0.02532162331044674,\n",
       "   -0.011867030523717403,\n",
       "   0.0019844532944262028,\n",
       "   -0.0010459722252562642,\n",
       "   0.0038002280052751303,\n",
       "   0.0032974998466670513,\n",
       "   -0.014870169572532177,\n",
       "   0.00883081741631031,\n",
       "   -0.0020572165958583355,\n",
       "   -0.019699005410075188,\n",
       "   -0.0015859089326113462,\n",
       "   -0.011926564387977123,\n",
       "   0.009439382702112198,\n",
       "   -0.0003075902641285211,\n",
       "   -0.02198774181306362,\n",
       "   0.04701831191778183,\n",
       "   -0.004719691351056099,\n",
       "   -0.00648916233330965,\n",
       "   -0.0069522010162472725,\n",
       "   -0.032941922545433044,\n",
       "   0.005665614269673824,\n",
       "   -0.005066970828920603,\n",
       "   0.030190149322152138,\n",
       "   0.018243739381432533,\n",
       "   -0.012502055615186691,\n",
       "   -0.028973016887903214,\n",
       "   -0.02074415050446987,\n",
       "   0.014420360326766968,\n",
       "   0.0011468486627563834,\n",
       "   -0.032941922545433044,\n",
       "   0.0024425312876701355,\n",
       "   -0.002108481479808688,\n",
       "   0.004789147060364485,\n",
       "   -0.001972877187654376,\n",
       "   -0.02644614689052105,\n",
       "   0.007243254221975803,\n",
       "   -0.03788982704281807,\n",
       "   -0.024977652356028557,\n",
       "   0.032703790813684464,\n",
       "   0.014182225801050663,\n",
       "   -0.011781037785112858,\n",
       "   0.015491965226829052,\n",
       "   0.033709246665239334,\n",
       "   -0.002550022443756461,\n",
       "   0.006267564836889505,\n",
       "   -0.010749122127890587,\n",
       "   -0.0010294350795447826,\n",
       "   0.0013990395236760378,\n",
       "   -0.02271537482738495,\n",
       "   -0.010768966749310493,\n",
       "   -0.014340981841087341,\n",
       "   -0.005523394793272018,\n",
       "   0.03923925384879112,\n",
       "   0.014592346735298634,\n",
       "   -0.013487666845321655,\n",
       "   -0.030137229710817337,\n",
       "   0.014486508443951607,\n",
       "   -0.02649906650185585,\n",
       "   -0.011304768733680248,\n",
       "   0.013355370610952377,\n",
       "   -0.009002802893519402,\n",
       "   0.0025285242591053247,\n",
       "   -0.011661970056593418,\n",
       "   -0.00996195524930954,\n",
       "   0.04495448246598244,\n",
       "   -0.004676694981753826,\n",
       "   0.012746804393827915,\n",
       "   0.0013163540279492736,\n",
       "   -0.013653038069605827,\n",
       "   0.01082188542932272,\n",
       "   0.007607070729136467,\n",
       "   -0.0021895135287195444,\n",
       "   -0.017053067684173584,\n",
       "   -0.013983780518174171,\n",
       "   -0.02253015898168087,\n",
       "   -0.0043691047467291355,\n",
       "   0.009856117889285088,\n",
       "   -0.029264070093631744,\n",
       "   0.03124852478504181,\n",
       "   0.003204891923815012,\n",
       "   -0.0010716047836467624,\n",
       "   -0.005020666867494583,\n",
       "   0.003026291262358427,\n",
       "   -0.026962105184793472,\n",
       "   -0.0013593505136668682,\n",
       "   0.03630226477980614,\n",
       "   0.021313028410077095,\n",
       "   0.00035678816493600607,\n",
       "   0.0002993216912727803,\n",
       "   0.0062940241768956184,\n",
       "   -0.0018835768569260836,\n",
       "   -0.0065983072854578495,\n",
       "   0.02098228596150875,\n",
       "   0.004746150691062212,\n",
       "   0.03479408100247383,\n",
       "   0.0029717187862843275,\n",
       "   -0.015902085229754448,\n",
       "   0.022807983681559563,\n",
       "   -0.025506839156150818,\n",
       "   0.01631220616400242,\n",
       "   -0.0015503540635108948,\n",
       "   -0.003008100437000394,\n",
       "   0.026843037456274033,\n",
       "   -0.013262762688100338,\n",
       "   -0.0023780365008860826,\n",
       "   -0.01743672974407673,\n",
       "   -0.002070446265861392,\n",
       "   -0.020228194072842598,\n",
       "   0.01961962692439556,\n",
       "   0.022424321621656418,\n",
       "   -0.0027220083866268396,\n",
       "   0.002708778716623783,\n",
       "   0.00693897157907486,\n",
       "   0.017529336735606194,\n",
       "   -0.0431552417576313,\n",
       "   0.011159242130815983,\n",
       "   -0.014446820132434368,\n",
       "   -0.01612699031829834,\n",
       "   -0.0332065187394619,\n",
       "   0.030322445556521416,\n",
       "   -0.004306263756006956,\n",
       "   -0.010583750903606415,\n",
       "   -0.007957657799124718,\n",
       "   -0.0003154453879687935,\n",
       "   -0.007726137991994619,\n",
       "   0.01144368015229702,\n",
       "   -0.016563570126891136,\n",
       "   0.012548359110951424,\n",
       "   -0.007917968556284904,\n",
       "   -0.0020324108190834522,\n",
       "   0.06540758162736893,\n",
       "   -0.00693897157907486,\n",
       "   -0.018177591264247894,\n",
       "   0.007891508750617504,\n",
       "   -0.018058525398373604,\n",
       "   0.011364302597939968,\n",
       "   0.008645601570606232,\n",
       "   0.2457546889781952,\n",
       "   -0.02632707916200161,\n",
       "   -0.01743672974407673,\n",
       "   0.02305934764444828,\n",
       "   -0.013679497875273228,\n",
       "   0.002381343860179186,\n",
       "   0.018058525398373604,\n",
       "   -0.007554152049124241,\n",
       "   0.006945586297661066,\n",
       "   0.02934344857931137,\n",
       "   -0.01801883615553379,\n",
       "   0.0025070258416235447,\n",
       "   -0.0029750261455774307,\n",
       "   -0.0050008222460746765,\n",
       "   -0.005126504227519035,\n",
       "   -0.018349578604102135,\n",
       "   -0.024236788973212242,\n",
       "   0.021141042932868004,\n",
       "   -0.028179235756397247,\n",
       "   -0.02164377085864544,\n",
       "   -0.011807496659457684,\n",
       "   -0.004908214323222637,\n",
       "   -0.01414253655821085,\n",
       "   0.0019745309837162495,\n",
       "   0.02163054049015045,\n",
       "   -0.004567550029605627,\n",
       "   -0.015015696175396442,\n",
       "   0.023495927453041077,\n",
       "   -0.0030329059809446335,\n",
       "   -0.012971709482371807,\n",
       "   -0.02686949633061886,\n",
       "   -0.01215146854519844,\n",
       "   0.007858434692025185,\n",
       "   -0.0014478240627795458,\n",
       "   -0.0006900109583511949,\n",
       "   -0.015319978818297386,\n",
       "   0.01866709068417549,\n",
       "   0.021868674084544182,\n",
       "   0.033894460648298264,\n",
       "   0.03315359726548195,\n",
       "   0.012932020239531994,\n",
       "   -0.00267405086196959,\n",
       "   0.003403337439522147,\n",
       "   -0.00648916233330965,\n",
       "   -0.004345952533185482,\n",
       "   0.002859266474843025,\n",
       "   ...],\n",
       "  {'text': '안녕',\n",
       "   'date_uploaded': datetime.datetime(2024, 4, 14, 6, 5, 1, 534517)}),\n",
       " ('209bebae3eb7363d9b080a66f9e306ef',\n",
       "  [-0.01363928522914648,\n",
       "   -0.009388992562890053,\n",
       "   -0.006030302494764328,\n",
       "   -0.02297075465321541,\n",
       "   -0.012520787306129932,\n",
       "   0.018253888934850693,\n",
       "   -0.01982617750763893,\n",
       "   0.0058641256764531136,\n",
       "   -0.012885098345577717,\n",
       "   0.008871288038790226,\n",
       "   0.012130910530686378,\n",
       "   -0.003198904450982809,\n",
       "   -0.023980598896741867,\n",
       "   -0.014457386918365955,\n",
       "   -0.005678774323314428,\n",
       "   -0.007222301792353392,\n",
       "   0.027201874181628227,\n",
       "   -0.013460325077176094,\n",
       "   0.007829486392438412,\n",
       "   -0.01738465577363968,\n",
       "   -0.0041704000905156136,\n",
       "   -0.01587628200650215,\n",
       "   0.0030598912853747606,\n",
       "   -0.012431307695806026,\n",
       "   -5.1331073336768895e-05,\n",
       "   0.004004223272204399,\n",
       "   0.004004223272204399,\n",
       "   -0.0239422507584095,\n",
       "   0.014265644364058971,\n",
       "   -0.021705254912376404,\n",
       "   0.0028058323077857494,\n",
       "   0.006960253696888685,\n",
       "   -0.018841899931430817,\n",
       "   -0.005557337775826454,\n",
       "   0.010149571113288403,\n",
       "   -0.012297087348997593,\n",
       "   0.002495848573744297,\n",
       "   -0.014789740554988384,\n",
       "   0.0052601369097828865,\n",
       "   -0.007414044346660376,\n",
       "   0.018138842657208443,\n",
       "   -0.014776957221329212,\n",
       "   0.009261163882911205,\n",
       "   -0.014278426766395569,\n",
       "   -0.0010793505934998393,\n",
       "   0.01671994850039482,\n",
       "   -0.0015642994549125433,\n",
       "   -0.03139464184641838,\n",
       "   0.006934687960892916,\n",
       "   0.04985305666923523,\n",
       "   0.012539961375296116,\n",
       "   0.01205421332269907,\n",
       "   -0.014700260944664478,\n",
       "   -0.02105332911014557,\n",
       "   0.002924073487520218,\n",
       "   -0.0017001171363517642,\n",
       "   -0.012610266916453838,\n",
       "   0.028045540675520897,\n",
       "   -0.012725312262773514,\n",
       "   -0.03681456670165062,\n",
       "   -0.004684909246861935,\n",
       "   0.017307959496974945,\n",
       "   -0.006794076878577471,\n",
       "   0.02291962318122387,\n",
       "   0.0030007704626768827,\n",
       "   0.0016338061541318893,\n",
       "   -0.0021091678645461798,\n",
       "   -0.0018934574909508228,\n",
       "   -0.03180369362235069,\n",
       "   0.012897880747914314,\n",
       "   0.00014370703138411045,\n",
       "   0.033107541501522064,\n",
       "   -0.013792679645121098,\n",
       "   -0.016566554084420204,\n",
       "   0.015377750620245934,\n",
       "   0.006464919075369835,\n",
       "   -0.00984917487949133,\n",
       "   0.008264102973043919,\n",
       "   -0.033465463668107986,\n",
       "   0.0019110338762402534,\n",
       "   0.03425799682736397,\n",
       "   -0.035255059599876404,\n",
       "   0.007017776370048523,\n",
       "   0.011792165227234364,\n",
       "   0.019276514649391174,\n",
       "   0.028838075697422028,\n",
       "   -0.024606958031654358,\n",
       "   0.0029400521889328957,\n",
       "   -0.01941712759435177,\n",
       "   -0.023443719372153282,\n",
       "   0.011868862435221672,\n",
       "   0.020260794088244438,\n",
       "   -0.01569732092320919,\n",
       "   0.021769167855381966,\n",
       "   -0.021590208634734154,\n",
       "   0.001459639985114336,\n",
       "   0.005368790589272976,\n",
       "   0.02755979262292385,\n",
       "   -0.006394613534212112,\n",
       "   -0.01392050739377737,\n",
       "   0.0035120840184390545,\n",
       "   -0.010494708083570004,\n",
       "   -0.015786802396178246,\n",
       "   0.0026780038606375456,\n",
       "   -0.028250066563487053,\n",
       "   0.0010210289619863033,\n",
       "   -0.0014372700825333595,\n",
       "   -0.013166320510208607,\n",
       "   0.016579337418079376,\n",
       "   -0.013779896311461926,\n",
       "   0.019110338762402534,\n",
       "   0.023929467424750328,\n",
       "   -0.017474135383963585,\n",
       "   -0.04596707597374916,\n",
       "   -0.00430461997166276,\n",
       "   0.03297971561551094,\n",
       "   0.00798927154392004,\n",
       "   -0.01134476624429226,\n",
       "   -0.007260650396347046,\n",
       "   -0.017819272354245186,\n",
       "   0.0060590640641748905,\n",
       "   0.03303084522485733,\n",
       "   0.017346307635307312,\n",
       "   -0.009695780463516712,\n",
       "   0.002120352815836668,\n",
       "   -0.015032614581286907,\n",
       "   -0.012405741959810257,\n",
       "   -0.02878694422543049,\n",
       "   -0.0019749479833990335,\n",
       "   0.0030854567885398865,\n",
       "   0.061511002480983734,\n",
       "   0.015326619148254395,\n",
       "   0.018151625990867615,\n",
       "   -0.0010170342866331339,\n",
       "   -0.017307959496974945,\n",
       "   0.0049149999395012856,\n",
       "   -0.0015690929722040892,\n",
       "   0.022766228765249252,\n",
       "   -0.03686569631099701,\n",
       "   -0.007855052128434181,\n",
       "   0.008065968751907349,\n",
       "   0.018305020406842232,\n",
       "   -0.01420172955840826,\n",
       "   -0.025450624525547028,\n",
       "   0.0035408453550189734,\n",
       "   0.0009187663090415299,\n",
       "   0.035024967044591904,\n",
       "   -0.01168990321457386,\n",
       "   0.01027739979326725,\n",
       "   -0.0045506893657147884,\n",
       "   -0.004566668067127466,\n",
       "   -0.003770936280488968,\n",
       "   0.030014097690582275,\n",
       "   -0.005228179506957531,\n",
       "   0.008884070441126823,\n",
       "   0.02208874002099037,\n",
       "   0.004144834354519844,\n",
       "   0.016732731834053993,\n",
       "   -0.017883187159895897,\n",
       "   -0.0095168212428689,\n",
       "   -0.003518475452437997,\n",
       "   -0.014457386918365955,\n",
       "   0.02817336842417717,\n",
       "   -0.031011158600449562,\n",
       "   -0.00312700099311769,\n",
       "   0.03765823319554329,\n",
       "   0.0027770709712058306,\n",
       "   0.0004366137145552784,\n",
       "   8.906789844331797e-06,\n",
       "   -0.006017519626766443,\n",
       "   -0.003921134863048792,\n",
       "   -0.006445744540542364,\n",
       "   -0.016336463391780853,\n",
       "   -0.009631866589188576,\n",
       "   -0.023162497207522392,\n",
       "   -0.0014085086295381188,\n",
       "   0.0024702828377485275,\n",
       "   0.002288127550855279,\n",
       "   -0.016962822526693344,\n",
       "   -0.023124149069190025,\n",
       "   -0.032161612063646317,\n",
       "   0.0026412534061819315,\n",
       "   0.006634291261434555,\n",
       "   0.016336463391780853,\n",
       "   0.016221417114138603,\n",
       "   0.015070962719619274,\n",
       "   0.016758296638727188,\n",
       "   0.00931868702173233,\n",
       "   0.015249921940267086,\n",
       "   -0.00408092001453042,\n",
       "   0.010028134100139141,\n",
       "   0.02072097547352314,\n",
       "   0.027201874181628227,\n",
       "   -0.01329414825886488,\n",
       "   -0.6409825086593628,\n",
       "   -0.02128341980278492,\n",
       "   0.029681744053959846,\n",
       "   0.010948498733341694,\n",
       "   0.003921134863048792,\n",
       "   0.0076569183729588985,\n",
       "   -0.0015595059376209974,\n",
       "   0.027815449982881546,\n",
       "   -0.009267555549740791,\n",
       "   0.04059828445315361,\n",
       "   0.011383114382624626,\n",
       "   -0.007593004032969475,\n",
       "   -0.017793705686926842,\n",
       "   0.011140241287648678,\n",
       "   0.010769538581371307,\n",
       "   -0.014636346139013767,\n",
       "   -0.000451393862022087,\n",
       "   -0.0008508574683219194,\n",
       "   0.004148030187934637,\n",
       "   0.010392445139586926,\n",
       "   -0.008928810246288776,\n",
       "   0.0034130169078707695,\n",
       "   -0.020529232919216156,\n",
       "   -0.007292607333511114,\n",
       "   0.018279453739523888,\n",
       "   0.013805462047457695,\n",
       "   -0.0036718694027513266,\n",
       "   0.017320740967988968,\n",
       "   -0.019672783091664314,\n",
       "   0.050057582557201385,\n",
       "   -0.014329558238387108,\n",
       "   0.026613863185048103,\n",
       "   0.007068907842040062,\n",
       "   -0.002951237140223384,\n",
       "   0.055017322301864624,\n",
       "   -0.002951237140223384,\n",
       "   0.013588153757154942,\n",
       "   0.03620098903775215,\n",
       "   0.022152652963995934,\n",
       "   0.06059063971042633,\n",
       "   -0.0035472367890179157,\n",
       "   -0.021270638331770897,\n",
       "   0.012693355791270733,\n",
       "   -0.035945333540439606,\n",
       "   0.016975605860352516,\n",
       "   0.0026859932113438845,\n",
       "   -0.020145747810602188,\n",
       "   0.007714441046118736,\n",
       "   -0.00936981849372387,\n",
       "   -0.007925357669591904,\n",
       "   -0.010878193192183971,\n",
       "   -0.010705624707043171,\n",
       "   0.035817503929138184,\n",
       "   0.011785774491727352,\n",
       "   -0.0029576285742223263,\n",
       "   0.003214883152395487,\n",
       "   0.014240078628063202,\n",
       "   -0.012207607738673687,\n",
       "   0.011632380075752735,\n",
       "   0.02077210694551468,\n",
       "   0.013575371354818344,\n",
       "   0.016553770750761032,\n",
       "   -0.012213999405503273,\n",
       "   -0.01296179462224245,\n",
       "   -0.03392564505338669,\n",
       "   0.03681456670165062,\n",
       "   -0.021781951189041138,\n",
       "   -0.0016601707320660353,\n",
       "   -0.030014097690582275,\n",
       "   -0.017486918717622757,\n",
       "   -0.005403943359851837,\n",
       "   -0.016234200447797775,\n",
       "   -0.01114663202315569,\n",
       "   0.014661911875009537,\n",
       "   0.009561561048030853,\n",
       "   0.01987730897963047,\n",
       "   0.02229326404631138,\n",
       "   -0.011127457953989506,\n",
       "   -0.011562074534595013,\n",
       "   0.005550946108996868,\n",
       "   0.0038252633530646563,\n",
       "   -0.001904642442241311,\n",
       "   -0.012750877998769283,\n",
       "   0.0011208949144929647,\n",
       "   0.007286216132342815,\n",
       "   -0.008577282540500164,\n",
       "   -0.033848948776721954,\n",
       "   -0.020580364391207695,\n",
       "   0.0017065084539353848,\n",
       "   -0.012980968691408634,\n",
       "   0.04218335449695587,\n",
       "   0.017320740967988968,\n",
       "   0.015543927438557148,\n",
       "   -0.01941712759435177,\n",
       "   -0.0013118385104462504,\n",
       "   0.013306931592524052,\n",
       "   -0.014457386918365955,\n",
       "   0.012213999405503273,\n",
       "   0.008040403015911579,\n",
       "   0.0018071733647957444,\n",
       "   0.005688361823558807,\n",
       "   0.00371341360732913,\n",
       "   0.014521300792694092,\n",
       "   -0.007784746587276459,\n",
       "   0.016477074474096298,\n",
       "   0.0061485436744987965,\n",
       "   -0.03203378617763519,\n",
       "   -0.008800982497632504,\n",
       "   0.01250800397247076,\n",
       "   -0.011958342045545578,\n",
       "   0.024261821061372757,\n",
       "   -0.005742688663303852,\n",
       "   -0.012003081850707531,\n",
       "   0.006621508859097958,\n",
       "   0.01340919453650713,\n",
       "   -0.021641340106725693,\n",
       "   -0.0059088654816150665,\n",
       "   0.015083745121955872,\n",
       "   0.012763661332428455,\n",
       "   -0.005228179506957531,\n",
       "   0.02635820582509041,\n",
       "   -0.017704226076602936,\n",
       "   0.027125176042318344,\n",
       "   0.02105332911014557,\n",
       "   0.004084115847945213,\n",
       "   0.01700117066502571,\n",
       "   -0.017972666770219803,\n",
       "   -0.009478472173213959,\n",
       "   -0.018087711185216904,\n",
       "   -0.010366879403591156,\n",
       "   0.0009379405528306961,\n",
       "   -0.01564618945121765,\n",
       "   -0.006966645363718271,\n",
       "   -0.03681456670165062,\n",
       "   0.013281365856528282,\n",
       "   -0.0037357835099101067,\n",
       "   0.034130170941352844,\n",
       "   -0.018650157377123833,\n",
       "   0.027431964874267578,\n",
       "   0.005483836401253939,\n",
       "   -0.01513487659394741,\n",
       "   0.009964220225811005,\n",
       "   0.00043261906830593944,\n",
       "   0.01592741347849369,\n",
       "   0.008788199163973331,\n",
       "   0.0025182184763252735,\n",
       "   -0.016873342916369438,\n",
       "   -0.006027106661349535,\n",
       "   0.016975605860352516,\n",
       "   0.012571918778121471,\n",
       "   -0.010143179446458817,\n",
       "   0.021884214133024216,\n",
       "   -0.004093702882528305,\n",
       "   0.0029927813448011875,\n",
       "   0.01659212075173855,\n",
       "   0.012015865184366703,\n",
       "   0.008749851025640965,\n",
       "   -0.014521300792694092,\n",
       "   -0.02308580093085766,\n",
       "   -0.009925871156156063,\n",
       "   0.017205696552991867,\n",
       "   0.009331469424068928,\n",
       "   -0.010961281135678291,\n",
       "   -0.0034801268484443426,\n",
       "   0.020081834867596626,\n",
       "   -0.06105082109570503,\n",
       "   -0.026064200326800346,\n",
       "   0.0069986023008823395,\n",
       "   -0.01007926557213068,\n",
       "   -0.017601964995265007,\n",
       "   -0.010034525766968727,\n",
       "   -0.006736554205417633,\n",
       "   -0.004042571410536766,\n",
       "   -0.0003159757179673761,\n",
       "   0.010143179446458817,\n",
       "   -0.01154929120093584,\n",
       "   0.011357548646628857,\n",
       "   -0.0015786801232025027,\n",
       "   -0.004748823121190071,\n",
       "   -0.02699734829366207,\n",
       "   0.006410591769963503,\n",
       "   -0.020708192139863968,\n",
       "   -0.016477074474096298,\n",
       "   0.01227791327983141,\n",
       "   0.030755501240491867,\n",
       "   0.02483704872429371,\n",
       "   -0.0037293920759111643,\n",
       "   0.02162855677306652,\n",
       "   -0.018049363046884537,\n",
       "   0.008852113038301468,\n",
       "   0.00597277982160449,\n",
       "   0.010859018191695213,\n",
       "   -0.020861586555838585,\n",
       "   -0.008743459358811378,\n",
       "   -0.004790367558598518,\n",
       "   -0.031138986349105835,\n",
       "   0.003991440404206514,\n",
       "   0.017640313133597374,\n",
       "   0.012610266916453838,\n",
       "   0.02116837538778782,\n",
       "   0.027227438986301422,\n",
       "   0.012789227068424225,\n",
       "   0.02579576149582863,\n",
       "   -0.018483979627490044,\n",
       "   -0.009254773147404194,\n",
       "   -0.00844306219369173,\n",
       "   0.012022256851196289,\n",
       "   -0.02569349855184555,\n",
       "   0.02658829651772976,\n",
       "   -0.0025581649970263243,\n",
       "   0.005141895264387131,\n",
       "   0.0011975918896496296,\n",
       "   0.0015203584916889668,\n",
       "   0.01453408319503069,\n",
       "   -0.009203641675412655,\n",
       "   0.02727857045829296,\n",
       "   -0.017985448241233826,\n",
       "   0.011069935746490955,\n",
       "   -0.020260794088244438,\n",
       "   0.0069474708288908005,\n",
       "   0.00020772106654476374,\n",
       "   0.012015865184366703,\n",
       "   -0.02635820582509041,\n",
       "   -0.007535481359809637,\n",
       "   0.0010633721249178052,\n",
       "   0.011555682867765427,\n",
       "   0.029835136607289314,\n",
       "   0.03778605908155441,\n",
       "   0.005416726227849722,\n",
       "   -0.010501098819077015,\n",
       "   -0.03612429276108742,\n",
       "   0.005336833652108908,\n",
       "   0.0032564273569732904,\n",
       "   0.014125033281743526,\n",
       "   -0.0066598569974303246,\n",
       "   -0.008168231695890427,\n",
       "   0.013831027783453465,\n",
       "   -0.020030703395605087,\n",
       "   0.010827061720192432,\n",
       "   -0.010999629274010658,\n",
       "   0.003694239305332303,\n",
       "   0.006314720492810011,\n",
       "   0.012629440985620022,\n",
       "   -0.010373271070420742,\n",
       "   0.009861957281827927,\n",
       "   0.03405347466468811,\n",
       "   0.013869375921785831,\n",
       "   0.01275726966559887,\n",
       "   -0.0029400521889328957,\n",
       "   0.03208491578698158,\n",
       "   -0.025782978162169456,\n",
       "   0.009791651740670204,\n",
       "   0.010660884901881218,\n",
       "   -0.013907724991440773,\n",
       "   -0.012501613236963749,\n",
       "   -0.041748739778995514,\n",
       "   -0.006260393653064966,\n",
       "   0.0033970384392887354,\n",
       "   0.03336320072412491,\n",
       "   0.025028791278600693,\n",
       "   0.017908751964569092,\n",
       "   -0.002115559298545122,\n",
       "   0.017883187159895897,\n",
       "   -0.013025709427893162,\n",
       "   0.017819272354245186,\n",
       "   0.018841899931430817,\n",
       "   0.023635461926460266,\n",
       "   -0.03965235501527786,\n",
       "   -0.008430279791355133,\n",
       "   0.0035759981255978346,\n",
       "   -0.01335806306451559,\n",
       "   -0.02539949305355549,\n",
       "   0.008123491890728474,\n",
       "   -0.02456860989332199,\n",
       "   0.003390647005289793,\n",
       "   -0.015070962719619274,\n",
       "   0.017998231574892998,\n",
       "   -0.03259623050689697,\n",
       "   0.00492778280749917,\n",
       "   0.0059152571484446526,\n",
       "   -0.011357548646628857,\n",
       "   -0.035996463149785995,\n",
       "   -0.0007162382244132459,\n",
       "   0.027815449982881546,\n",
       "   0.009932262822985649,\n",
       "   -0.03195708617568016,\n",
       "   -0.023788856342434883,\n",
       "   0.0005983964656479657,\n",
       "   -0.01555671077221632,\n",
       "   0.021104460582137108,\n",
       "   -0.004330185241997242,\n",
       "   0.01581236720085144,\n",
       "   0.007771963719278574,\n",
       "   -0.010539447888731956,\n",
       "   -0.014981483109295368,\n",
       "   -0.02568071521818638,\n",
       "   0.020017920061945915,\n",
       "   -0.004844694398343563,\n",
       "   0.019608868286013603,\n",
       "   0.02268953248858452,\n",
       "   0.010021742433309555,\n",
       "   -0.008992724120616913,\n",
       "   0.004429252352565527,\n",
       "   -0.010616145096719265,\n",
       "   -0.01710343360900879,\n",
       "   0.02569349855184555,\n",
       "   -0.0030327276326715946,\n",
       "   -0.018650157377123833,\n",
       "   0.016847776249051094,\n",
       "   -0.008826547302305698,\n",
       "   -0.019404344260692596,\n",
       "   0.018611807376146317,\n",
       "   -0.029937399551272392,\n",
       "   -0.020248010754585266,\n",
       "   -0.013166320510208607,\n",
       "   0.00012782834528479725,\n",
       "   -0.03320980444550514,\n",
       "   -0.014661911875009537,\n",
       "   0.022267699241638184,\n",
       "   -0.003818871919065714,\n",
       "   0.003962678834795952,\n",
       "   -0.005713927559554577,\n",
       "   -0.019353212788701057,\n",
       "   -0.010366879403591156,\n",
       "   0.04589037969708443,\n",
       "   -0.018931379541754723,\n",
       "   0.006218849215656519,\n",
       "   -0.007196736056357622,\n",
       "   -0.009874740615487099,\n",
       "   0.019046423956751823,\n",
       "   -0.026511600241065025,\n",
       "   -0.02840345911681652,\n",
       "   -0.011325592175126076,\n",
       "   -0.01738465577363968,\n",
       "   -0.0026748082600533962,\n",
       "   -0.017768140882253647,\n",
       "   -0.008705111220479012,\n",
       "   0.010935715399682522,\n",
       "   0.03159916773438454,\n",
       "   -0.000601991661824286,\n",
       "   0.021257854998111725,\n",
       "   -0.0026284705381840467,\n",
       "   -0.004889434669166803,\n",
       "   0.01824110560119152,\n",
       "   -0.004256684333086014,\n",
       "   -0.009133336134254932,\n",
       "   0.000681884353980422,\n",
       "   0.020759323611855507,\n",
       "   0.027917712926864624,\n",
       "   0.021385682746767998,\n",
       "   -0.009299512952566147,\n",
       "   -0.001733671990223229,\n",
       "   0.012003081850707531,\n",
       "   -0.016016893088817596,\n",
       "   -0.01366485096514225,\n",
       "   -0.0060558682307600975,\n",
       "   -0.008653979748487473,\n",
       "   -0.010034525766968727,\n",
       "   0.00048814452020451427,\n",
       "   0.06877165287733078,\n",
       "   -0.00812988355755806,\n",
       "   0.018714070320129395,\n",
       "   -0.0029784005600959063,\n",
       "   0.015965761616826057,\n",
       "   0.03765823319554329,\n",
       "   0.02010739967226982,\n",
       "   0.013831027783453465,\n",
       "   -0.0030503040179610252,\n",
       "   -0.007887009531259537,\n",
       "   -0.0023903902620077133,\n",
       "   -0.007401261478662491,\n",
       "   0.016911691054701805,\n",
       "   0.0005936028901487589,\n",
       "   -0.007631352636963129,\n",
       "   0.026741690933704376,\n",
       "   0.0036910437047481537,\n",
       "   -0.026051418855786324,\n",
       "   -0.003940308932214975,\n",
       "   0.014265644364058971,\n",
       "   -0.007829486392438412,\n",
       "   0.005170656833797693,\n",
       "   -0.00488623883575201,\n",
       "   -0.0011568466434255242,\n",
       "   0.004004223272204399,\n",
       "   0.010258224792778492,\n",
       "   -0.028812510892748833,\n",
       "   -0.015965761616826057,\n",
       "   -0.0034321912098675966,\n",
       "   -0.01563340798020363,\n",
       "   -0.015518361702561378,\n",
       "   -0.017486918717622757,\n",
       "   -0.010724798776209354,\n",
       "   -0.018253888934850693,\n",
       "   0.00042223301716148853,\n",
       "   -0.02422347292304039,\n",
       "   -0.017307959496974945,\n",
       "   -0.023814421147108078,\n",
       "   0.004720062017440796,\n",
       "   -0.006730162538588047,\n",
       "   0.016016893088817596,\n",
       "   0.015952978283166885,\n",
       "   -0.021193940192461014,\n",
       "   -0.007011385168880224,\n",
       "   0.027866581454873085,\n",
       "   -0.004186378326267004,\n",
       "   -0.008813764899969101,\n",
       "   0.011510943062603474,\n",
       "   -0.021871430799365044,\n",
       "   -0.0011624391190707684,\n",
       "   0.008794590830802917,\n",
       "   -0.00045698636677116156,\n",
       "   -0.0014692271361127496,\n",
       "   -0.016681600362062454,\n",
       "   0.020260794088244438,\n",
       "   0.0291959960013628,\n",
       "   0.006634291261434555,\n",
       "   0.024683654308319092,\n",
       "   -0.026383772492408752,\n",
       "   0.005739492829889059,\n",
       "   -0.004710474982857704,\n",
       "   0.01513487659394741,\n",
       "   -0.0009690987062640488,\n",
       "   -0.020363057032227516,\n",
       "   0.009210032410919666,\n",
       "   0.011625988408923149,\n",
       "   -0.03262179717421532,\n",
       "   -0.010226268321275711,\n",
       "   -0.014828088693320751,\n",
       "   -0.003924330230802298,\n",
       "   0.017180129885673523,\n",
       "   -0.008053186349570751,\n",
       "   0.02354598231613636,\n",
       "   -0.0020116986706852913,\n",
       "   0.009631866589188576,\n",
       "   0.03724918141961098,\n",
       "   -0.03297971561551094,\n",
       "   0.013933290727436543,\n",
       "   -0.010008960030972958,\n",
       "   0.014521300792694092,\n",
       "   0.020452536642551422,\n",
       "   -0.0005256941076368093,\n",
       "   0.015518361702561378,\n",
       "   -0.009107770398259163,\n",
       "   -0.013102405704557896,\n",
       "   -0.006813250947743654,\n",
       "   -0.04624829813838005,\n",
       "   0.019634434953331947,\n",
       "   0.015403316356241703,\n",
       "   0.004819128662347794,\n",
       "   0.01036048773676157,\n",
       "   -0.00940177496522665,\n",
       "   -0.01335806306451559,\n",
       "   0.0003511285176500678,\n",
       "   -0.008570890873670578,\n",
       "   -0.016170285642147064,\n",
       "   0.0060526723973453045,\n",
       "   -0.005218592472374439,\n",
       "   -0.008110708557069302,\n",
       "   0.0004040574422106147,\n",
       "   -0.010200702585279942,\n",
       "   -0.024018947035074234,\n",
       "   0.01326858252286911,\n",
       "   -0.0017512483755126595,\n",
       "   -0.04939287528395653,\n",
       "   -0.02523331716656685,\n",
       "   -0.034922704100608826,\n",
       "   -0.018368933349847794,\n",
       "   -0.01457243226468563,\n",
       "   -0.0183433685451746,\n",
       "   -0.035485152155160904,\n",
       "   -0.02320084534585476,\n",
       "   0.009088595397770405,\n",
       "   -0.012086170725524426,\n",
       "   0.007062516640871763,\n",
       "   -0.01027739979326725,\n",
       "   -0.0030534998513758183,\n",
       "   -0.04139082133769989,\n",
       "   -0.007343738805502653,\n",
       "   0.009977002628147602,\n",
       "   -0.03032088465988636,\n",
       "   0.0021618970204144716,\n",
       "   0.00883933063596487,\n",
       "   0.059823669493198395,\n",
       "   0.019493823871016502,\n",
       "   0.016745513305068016,\n",
       "   0.014508518390357494,\n",
       "   -0.001022626762278378,\n",
       "   0.011709077283740044,\n",
       "   -0.005739492829889059,\n",
       "   -0.002740320283919573,\n",
       "   -0.02924712747335434,\n",
       "   0.010494708083570004,\n",
       "   -0.030448714271187782,\n",
       "   0.0038604161236435175,\n",
       "   0.013332497328519821,\n",
       "   0.020005136728286743,\n",
       "   0.011312808841466904,\n",
       "   0.02501600794494152,\n",
       "   -0.00697303656488657,\n",
       "   0.018483979627490044,\n",
       "   -0.001142465858720243,\n",
       "   -0.02320084534585476,\n",
       "   -0.006487288977950811,\n",
       "   -0.016464291140437126,\n",
       "   -0.0027131568640470505,\n",
       "   -0.020069051533937454,\n",
       "   -0.009996176697313786,\n",
       "   -0.0021027764305472374,\n",
       "   0.005237766541540623,\n",
       "   -0.00801483727991581,\n",
       "   -2.9635206374223344e-05,\n",
       "   -0.0020788086112588644,\n",
       "   0.015825150534510612,\n",
       "   0.015658972784876823,\n",
       "   0.025872457772493362,\n",
       "   -0.024645306169986725,\n",
       "   0.0025805348996073008,\n",
       "   0.026920650154352188,\n",
       "   0.018662938848137856,\n",
       "   -0.013843810185790062,\n",
       "   -0.012699746526777744,\n",
       "   0.007829486392438412,\n",
       "   0.0018678917549550533,\n",
       "   0.016617685556411743,\n",
       "   0.015735670924186707,\n",
       "   0.03397677466273308,\n",
       "   -0.004748823121190071,\n",
       "   0.003374668536707759,\n",
       "   -0.0027243418153375387,\n",
       "   0.02840345911681652,\n",
       "   -0.020963849499821663,\n",
       "   -0.03211048245429993,\n",
       "   -0.0022977145854383707,\n",
       "   -0.018765201792120934,\n",
       "   -0.03359328955411911,\n",
       "   -0.013204668648540974,\n",
       "   -0.006736554205417633,\n",
       "   -0.027534227818250656,\n",
       "   0.0002646446228027344,\n",
       "   -0.007663309574127197,\n",
       "   -0.012846749275922775,\n",
       "   0.02794327773153782,\n",
       "   -0.030857764184474945,\n",
       "   -0.03213604912161827,\n",
       "   0.00965104065835476,\n",
       "   0.02523331716656685,\n",
       "   0.027176307514309883,\n",
       "   -0.007963706739246845,\n",
       "   0.014137815684080124,\n",
       "   0.025846892967820168,\n",
       "   -0.005841755773872137,\n",
       "   -0.034692615270614624,\n",
       "   0.001728878472931683,\n",
       "   -0.016758296638727188,\n",
       "   -0.016362028196454048,\n",
       "   0.018509546294808388,\n",
       "   0.007637743838131428,\n",
       "   -0.01784483715891838,\n",
       "   -0.012047822587192059,\n",
       "   -0.005343225318938494,\n",
       "   0.014943134039640427,\n",
       "   -0.025028791278600693,\n",
       "   -0.022906839847564697,\n",
       "   0.02942608669400215,\n",
       "   0.010092047974467278,\n",
       "   -0.007318173069506884,\n",
       "   -0.001299854600802064,\n",
       "   -0.0037965020164847374,\n",
       "   -0.034130170941352844,\n",
       "   0.03528062626719475,\n",
       "   0.0035887809935957193,\n",
       "   -0.016464291140437126,\n",
       "   -0.013006534427404404,\n",
       "   -0.01789596863090992,\n",
       "   -0.00664707412943244,\n",
       "   0.009005507454276085,\n",
       "   -0.0259235892444849,\n",
       "   0.028582420200109482,\n",
       "   0.025540104135870934,\n",
       "   -0.01123611256480217,\n",
       "   0.0010330128716304898,\n",
       "   -0.0012271521845832467,\n",
       "   -0.006087825167924166,\n",
       "   0.009753303602337837,\n",
       "   -0.019621651619672775,\n",
       "   0.03916660696268082,\n",
       "   -0.03088332898914814,\n",
       "   0.017307959496974945,\n",
       "   0.007120039314031601,\n",
       "   0.00306308688595891,\n",
       "   -0.026613863185048103,\n",
       "   0.0013949269196018577,\n",
       "   -0.013856593519449234,\n",
       "   0.03267292678356171,\n",
       "   -0.021436814218759537,\n",
       "   -0.023239193484187126,\n",
       "   -0.009714954532682896,\n",
       "   0.01602967455983162,\n",
       "   0.028096672147512436,\n",
       "   0.014636346139013767,\n",
       "   -0.010961281135678291,\n",
       "   -0.016387594863772392,\n",
       "   -0.018138842657208443,\n",
       "   -0.0188035499304533,\n",
       "   0.016119156032800674,\n",
       "   0.005049219820648432,\n",
       "   -0.010705624707043171,\n",
       "   -0.013511456549167633,\n",
       "   -0.023903902620077133,\n",
       "   -0.009331469424068928,\n",
       "   -0.035101667046546936,\n",
       "   -0.00860923994332552,\n",
       "   0.015786802396178246,\n",
       "   0.046555086970329285,\n",
       "   -0.017908751964569092,\n",
       "   -0.016131937503814697,\n",
       "   -3.4640984267753083e-06,\n",
       "   0.01795988343656063,\n",
       "   0.011472594924271107,\n",
       "   -0.02914486452937126,\n",
       "   0.008711501955986023,\n",
       "   0.015301053412258625,\n",
       "   -0.01822832226753235,\n",
       "   0.011983907781541348,\n",
       "   -0.017819272354245186,\n",
       "   0.006551202852278948,\n",
       "   -0.005509402137249708,\n",
       "   0.009983394294977188,\n",
       "   0.01207977905869484,\n",
       "   -0.02270231582224369,\n",
       "   0.006698205601423979,\n",
       "   -0.003134990343824029,\n",
       "   -0.027687620371580124,\n",
       "   -0.005471053533256054,\n",
       "   -8.873084880178794e-05,\n",
       "   0.0052122012712061405,\n",
       "   -0.0012351414188742638,\n",
       "   -0.014994265511631966,\n",
       "   0.025885241106152534,\n",
       "   -0.00599834555760026,\n",
       "   -0.008149057626724243,\n",
       "   -0.00860923994332552,\n",
       "   -0.032161612063646317,\n",
       "   0.02027357742190361,\n",
       "   -0.01154290046542883,\n",
       "   0.03285188600420952,\n",
       "   0.00815544929355383,\n",
       "   -0.00965104065835476,\n",
       "   -0.026332641020417213,\n",
       "   -0.016937255859375,\n",
       "   0.006787685677409172,\n",
       "   -0.006551202852278948,\n",
       "   -0.028045540675520897,\n",
       "   0.0010537849739193916,\n",
       "   -0.002005307236686349,\n",
       "   0.0059120613150298595,\n",
       "   -0.0032452421728521585,\n",
       "   -0.030346451327204704,\n",
       "   0.0075546554289758205,\n",
       "   -0.04103289917111397,\n",
       "   -0.03308197855949402,\n",
       "   0.02539949305355549,\n",
       "   0.016170285642147064,\n",
       "   -0.0029560306575149298,\n",
       "   0.01247604750096798,\n",
       "   0.035536281764507294,\n",
       "   0.0015435273526236415,\n",
       "   0.016502641141414642,\n",
       "   -0.006679031532257795,\n",
       "   -0.005429509095847607,\n",
       "   -0.012936228886246681,\n",
       "   -0.024798700585961342,\n",
       "   -0.008679545484483242,\n",
       "   -0.013179102912545204,\n",
       "   -0.004291837103664875,\n",
       "   0.031215684488415718,\n",
       "   0.023277543485164642,\n",
       "   -0.010258224792778492,\n",
       "   -0.027304135262966156,\n",
       "   0.009836391545832157,\n",
       "   -0.03241727128624916,\n",
       "   -0.010622535832226276,\n",
       "   0.004624190740287304,\n",
       "   -0.002163494937121868,\n",
       "   0.0013581762323156,\n",
       "   -0.014137815684080124,\n",
       "   -0.005224983673542738,\n",
       "   0.03671230375766754,\n",
       "   -0.007829486392438412,\n",
       "   0.017883187159895897,\n",
       "   0.00029760037432424724,\n",
       "   -0.009478472173213959,\n",
       "   0.01778092421591282,\n",
       "   0.006928296759724617,\n",
       "   -0.003310754429548979,\n",
       "   -0.015825150534510612,\n",
       "   -0.015211573801934719,\n",
       "   -0.01971113122999668,\n",
       "   -0.009408166632056236,\n",
       "   0.011101892217993736,\n",
       "   -0.02704847976565361,\n",
       "   0.03579193726181984,\n",
       "   0.0014580421848222613,\n",
       "   -0.0002087197353830561,\n",
       "   0.0003243644314352423,\n",
       "   -0.009126944467425346,\n",
       "   -0.02382720448076725,\n",
       "   0.0012982566840946674,\n",
       "   0.03556184843182564,\n",
       "   0.013204668648540974,\n",
       "   -0.008072360418736935,\n",
       "   -0.006116586737334728,\n",
       "   -0.008200189098715782,\n",
       "   -0.004435644019395113,\n",
       "   -0.009644648991525173,\n",
       "   0.02456860989332199,\n",
       "   -0.0022146261762827635,\n",
       "   0.03451365604996681,\n",
       "   0.0061549353413283825,\n",
       "   -0.015249921940267086,\n",
       "   0.03420686721801758,\n",
       "   -0.02236996218562126,\n",
       "   0.022715097293257713,\n",
       "   -0.0021746798884123564,\n",
       "   -0.005848146975040436,\n",
       "   0.010922932997345924,\n",
       "   -0.008302451111376286,\n",
       "   0.0009323480189777911,\n",
       "   -0.01660490222275257,\n",
       "   0.000828487507533282,\n",
       "   -0.019161470234394073,\n",
       "   0.011242503300309181,\n",
       "   0.018599025905132294,\n",
       "   -0.004112877417355776,\n",
       "   0.00323885097168386,\n",
       "   0.0017864012625068426,\n",
       "   0.005423117894679308,\n",
       "   -0.0382973738014698,\n",
       "   0.013127971440553665,\n",
       "   -0.009810825809836388,\n",
       "   -0.013127971440553665,\n",
       "   -0.03397677466273308,\n",
       "   0.03159916773438454,\n",
       "   -0.000884412438608706,\n",
       "   -0.016272548586130142,\n",
       "   -0.005781037267297506,\n",
       "   0.004860673099756241,\n",
       "   -0.006391417700797319,\n",
       "   0.005384769290685654,\n",
       "   -0.021833082661032677,\n",
       "   0.016285331919789314,\n",
       "   -0.013179102912545204,\n",
       "   0.002104374347254634,\n",
       "   0.068209208548069,\n",
       "   -0.015786802396178246,\n",
       "   -0.008053186349570751,\n",
       "   0.011472594924271107,\n",
       "   -0.017717009410262108,\n",
       "   0.006094216834753752,\n",
       "   0.020593147724866867,\n",
       "   0.23929467797279358,\n",
       "   -0.024095645174384117,\n",
       "   -0.021986477077007294,\n",
       "   0.02433851733803749,\n",
       "   -0.002415955765172839,\n",
       "   0.015889063477516174,\n",
       "   0.010859018191695213,\n",
       "   -0.006583160255104303,\n",
       "   0.007938141003251076,\n",
       "   0.03200821951031685,\n",
       "   -0.021245071664452553,\n",
       "   0.0034321912098675966,\n",
       "   -0.008935201913118362,\n",
       "   -0.0007014580769464374,\n",
       "   -0.012789227068424225,\n",
       "   -0.023251976817846298,\n",
       "   -0.024990443140268326,\n",
       "   0.013856593519449234,\n",
       "   -0.0315224714577198,\n",
       "   -0.01614472083747387,\n",
       "   -0.002187462756410241,\n",
       "   -0.00841110572218895,\n",
       "   -0.01660490222275257,\n",
       "   -0.001006648293696344,\n",
       "   0.019161470234394073,\n",
       "   -0.003227665787562728,\n",
       "   -0.015735670924186707,\n",
       "   0.011197763495147228,\n",
       "   0.0037517622113227844,\n",
       "   -0.0018998489249497652,\n",
       "   -0.024747569113969803,\n",
       "   0.00167295360006392,\n",
       "   0.011709077283740044,\n",
       "   0.0007953320164233446,\n",
       "   -0.0035855851601809263,\n",
       "   -0.018305020406842232,\n",
       "   0.019008075818419456,\n",
       "   0.020069051533937454,\n",
       "   0.03755597025156021,\n",
       "   0.029886268079280853,\n",
       "   0.005576511844992638,\n",
       "   0.0005428710137493908,\n",
       "   -0.001142465858720243,\n",
       "   -0.005835364107042551,\n",
       "   -0.006241219118237495,\n",
       "   -0.001342197647318244,\n",
       "   ...],\n",
       "  {'text': '안녕하세요',\n",
       "   'date_uploaded': datetime.datetime(2024, 4, 14, 6, 5, 1, 534517)})]"
      ]
     },
     "execution_count": 22,
     "metadata": {},
     "output_type": "execute_result"
    }
   ],
   "source": [
    "prepare_for_pinecone(texts)"
   ]
  },
  {
   "cell_type": "code",
   "execution_count": 23,
   "id": "3e1b73f3",
   "metadata": {},
   "outputs": [
    {
     "name": "stdout",
     "output_type": "stream",
     "text": [
      "ID:   49f68a5c8493ec2c0bf489821c21fc3b \n",
      "LEN:  1536 \n",
      "embedding[:5]:  [-0.030926363542675972, -0.020379746332764626, -0.01938086748123169, -0.04174540191888809, -0.024920109659433365] \n",
      "META: {'text': 'hi', 'date_uploaded': datetime.datetime(2024, 4, 14, 6, 5, 2, 142814)}\n",
      "ID:   5d41402abc4b2a76b9719d911017c592 \n",
      "LEN:  1536 \n",
      "embedding[:5]:  [-0.02515980415046215, -0.01951141469180584, -0.02793770097196102, -0.03100661374628544, -0.02473650500178337] \n",
      "META: {'text': 'hello', 'date_uploaded': datetime.datetime(2024, 4, 14, 6, 5, 2, 704218)}\n"
     ]
    }
   ],
   "source": [
    "_id, embedding, metadata = prepare_for_pinecone(texts)[0]\n",
    "print('ID:  ',_id, '\\nLEN: ', len(embedding), '\\nembedding[:5]: ', embedding[:5], '\\nMETA:', metadata)\n",
    "\n",
    "_id, embedding, metadata = prepare_for_pinecone(texts)[1]\n",
    "print('ID:  ',_id, '\\nLEN: ', len(embedding), '\\nembedding[:5]: ', embedding[:5], '\\nMETA:', metadata)"
   ]
  },
  {
   "cell_type": "markdown",
   "id": "e0437bff-518e-4ce3-b6de-210b93e4fcd0",
   "metadata": {},
   "source": [
    "### 파인콘에 데이터 저장"
   ]
  },
  {
   "cell_type": "code",
   "execution_count": 24,
   "id": "bf47aabd",
   "metadata": {},
   "outputs": [],
   "source": [
    "def upload_texts_to_pinecone(texts, engine=ENGINE, namespace=NAMESPACE, batch_size=None, show_progress_bar=False):\n",
    "    # prepare_for_pinecone 함수를 호출하여 인덱싱을 위해 입력 텍스트를 준비합니다.\n",
    "    total_upserted = 0\n",
    "    if not batch_size:\n",
    "        batch_size = len(texts)\n",
    "\n",
    "    _range = range(0, len(texts), batch_size)\n",
    "    for i in tqdm(_range) if show_progress_bar else _range:\n",
    "        batch = texts[i: i + batch_size]\n",
    "        prepared_texts = prepare_for_pinecone(batch, engine=engine)\n",
    "\n",
    "        # 인덱스 객체의 upsert() 메서드를 사용하여 준비된 텍스트를 Pinecone에 업로드합니다.\n",
    "        total_upserted += index.upsert(\n",
    "            prepared_texts,\n",
    "            namespace=namespace\n",
    "        )['upserted_count']\n",
    "\n",
    "    return total_upserted"
   ]
  },
  {
   "cell_type": "code",
   "execution_count": 25,
   "id": "4aaca3f9-ec39-4bbc-8446-0130c8ef4fa2",
   "metadata": {},
   "outputs": [
    {
     "data": {
      "text/plain": [
       "['hi', 'hello', 'good morning', 'good night', '안녕', '안녕하세요']"
      ]
     },
     "execution_count": 25,
     "metadata": {},
     "output_type": "execute_result"
    }
   ],
   "source": [
    "texts"
   ]
  },
  {
   "cell_type": "code",
   "execution_count": 26,
   "id": "ff1cd4c8-d11e-4cce-88e2-45bb5a6f5c68",
   "metadata": {},
   "outputs": [
    {
     "data": {
      "text/plain": [
       "6"
      ]
     },
     "execution_count": 26,
     "metadata": {},
     "output_type": "execute_result"
    }
   ],
   "source": [
    "# 입력 텍스트로 upload_texts_to_pinecone() 함수를 호출합니다.\n",
    "upload_texts_to_pinecone(texts)"
   ]
  },
  {
   "cell_type": "markdown",
   "id": "453bfe11-c37b-4792-af91-fbea35c14724",
   "metadata": {},
   "source": [
    "### 파인콘에서 데이터 조회"
   ]
  },
  {
   "cell_type": "code",
   "execution_count": 27,
   "id": "e8ed7e8e",
   "metadata": {},
   "outputs": [],
   "source": [
    "def query_from_pinecone(query, top_k=3):\n",
    "    # 문서와 동일한 임베더에서 임베딩 받기\n",
    "    query_embedding = get_embedding(query, engine=ENGINE)\n",
    "\n",
    "    return index.query(\n",
    "      vector=query_embedding,\n",
    "      top_k=top_k,\n",
    "      namespace=NAMESPACE,\n",
    "      include_metadata=True   # gets the metadata (dates, text, etc)\n",
    "    ).get('matches')\n"
   ]
  },
  {
   "cell_type": "code",
   "execution_count": 33,
   "id": "dca540fc-5484-4e84-9d16-d2a2d53bdbd1",
   "metadata": {},
   "outputs": [
    {
     "data": {
      "text/plain": [
       "[{'id': '5d41402abc4b2a76b9719d911017c592',\n",
       "  'metadata': {'date_uploaded': '2024-04-14T06:05:09.271667', 'text': 'hello'},\n",
       "  'score': 1.00673366,\n",
       "  'values': []},\n",
       " {'id': '49f68a5c8493ec2c0bf489821c21fc3b',\n",
       "  'metadata': {'date_uploaded': '2024-04-14T06:05:09.271667', 'text': 'hi'},\n",
       "  'score': 0.933224142,\n",
       "  'values': []},\n",
       " {'id': '2b849500e4585dab4196ec9a415edf8f',\n",
       "  'metadata': {'date_uploaded': '2024-04-14T06:05:09.271667',\n",
       "               'text': 'good morning'},\n",
       "  'score': 0.848567426,\n",
       "  'values': []}]"
      ]
     },
     "execution_count": 33,
     "metadata": {},
     "output_type": "execute_result"
    }
   ],
   "source": [
    "query_from_pinecone('hello')"
   ]
  },
  {
   "cell_type": "code",
   "execution_count": 34,
   "id": "7aa1f9a6-f895-4c20-976e-8e5faded3f73",
   "metadata": {},
   "outputs": [
    {
     "data": {
      "text/plain": [
       "[{'id': 'ef1c511c9efb9259438f098aff940740',\n",
       "  'metadata': {'date_uploaded': '2024-04-14T06:05:09.271667', 'text': '안녕'},\n",
       "  'score': 0.840311408,\n",
       "  'values': []},\n",
       " {'id': '209bebae3eb7363d9b080a66f9e306ef',\n",
       "  'metadata': {'date_uploaded': '2024-04-14T06:05:09.271667', 'text': '안녕하세요'},\n",
       "  'score': 0.825494289,\n",
       "  'values': []},\n",
       " {'id': '49f68a5c8493ec2c0bf489821c21fc3b',\n",
       "  'metadata': {'date_uploaded': '2024-04-14T06:05:09.271667', 'text': 'hi'},\n",
       "  'score': 0.818983197,\n",
       "  'values': []}]"
      ]
     },
     "execution_count": 34,
     "metadata": {},
     "output_type": "execute_result"
    }
   ],
   "source": [
    "query_from_pinecone('하이')"
   ]
  },
  {
   "cell_type": "code",
   "execution_count": 35,
   "id": "78c17dfe-7b46-4448-af55-ffcf57cac44a",
   "metadata": {},
   "outputs": [
    {
     "data": {
      "text/plain": [
       "[{'id': '49f68a5c8493ec2c0bf489821c21fc3b',\n",
       "  'metadata': {'date_uploaded': '2024-04-14T06:05:09.271667', 'text': 'hi'},\n",
       "  'score': 1.00595081,\n",
       "  'values': []},\n",
       " {'id': '5d41402abc4b2a76b9719d911017c592',\n",
       "  'metadata': {'date_uploaded': '2024-04-14T06:05:09.271667', 'text': 'hello'},\n",
       "  'score': 0.933224142,\n",
       "  'values': []},\n",
       " {'id': '2b849500e4585dab4196ec9a415edf8f',\n",
       "  'metadata': {'date_uploaded': '2024-04-14T06:05:09.271667',\n",
       "               'text': 'good morning'},\n",
       "  'score': 0.846542776,\n",
       "  'values': []}]"
      ]
     },
     "execution_count": 35,
     "metadata": {},
     "output_type": "execute_result"
    }
   ],
   "source": [
    "query_from_pinecone('hi')"
   ]
  },
  {
   "cell_type": "markdown",
   "id": "80c930f1-8e02-4333-ae3e-1ac5b1af554a",
   "metadata": {},
   "source": [
    "### 파인콘에서 데이터 삭제"
   ]
  },
  {
   "cell_type": "code",
   "execution_count": 36,
   "id": "84a0871f",
   "metadata": {},
   "outputs": [],
   "source": [
    "import hashlib\n",
    "\n",
    "def delete_texts_from_pinecone(texts, namespace=NAMESPACE):\n",
    "    # 각 텍스트의 해시(ID)를 계산합니다.\n",
    "    hashes = [hashlib.md5(text.encode()).hexdigest() for text in texts]\n",
    "    \n",
    "    # ids 매개변수는 삭제할 ID(해시) 목록을 지정하는 데 사용됩니다.\n",
    "    return index.delete(ids=hashes, namespace=namespace)"
   ]
  },
  {
   "cell_type": "code",
   "execution_count": 37,
   "id": "cb679161-be6c-40fd-b39b-98fc471e1962",
   "metadata": {},
   "outputs": [
    {
     "name": "stdout",
     "output_type": "stream",
     "text": [
      "[{'id': '5d41402abc4b2a76b9719d911017c592',\n",
      " 'metadata': {'date_uploaded': '2024-04-14T06:05:09.271667', 'text': 'hello'},\n",
      " 'score': 1.00673366,\n",
      " 'values': []}, {'id': '49f68a5c8493ec2c0bf489821c21fc3b',\n",
      " 'metadata': {'date_uploaded': '2024-04-14T06:05:09.271667', 'text': 'hi'},\n",
      " 'score': 0.933224142,\n",
      " 'values': []}, {'id': '2b849500e4585dab4196ec9a415edf8f',\n",
      " 'metadata': {'date_uploaded': '2024-04-14T06:05:09.271667',\n",
      "              'text': 'good morning'},\n",
      " 'score': 0.848567426,\n",
      " 'values': []}]\n",
      "[{'id': '5d41402abc4b2a76b9719d911017c592',\n",
      " 'metadata': {'date_uploaded': '2024-04-14T06:05:09.271667', 'text': 'hello'},\n",
      " 'score': 1.00673366,\n",
      " 'values': []}, {'id': '49f68a5c8493ec2c0bf489821c21fc3b',\n",
      " 'metadata': {'date_uploaded': '2024-04-14T06:05:09.271667', 'text': 'hi'},\n",
      " 'score': 0.933224142,\n",
      " 'values': []}, {'id': '2b849500e4585dab4196ec9a415edf8f',\n",
      " 'metadata': {'date_uploaded': '2024-04-14T06:05:09.271667',\n",
      "              'text': 'good morning'},\n",
      " 'score': 0.848567426,\n",
      " 'values': []}]\n"
     ]
    }
   ],
   "source": [
    "# 인덱스가 비어 있는지 테스트\n",
    "print(query_from_pinecone('hello'))\n",
    "\n",
    "# 텍스트 삭제\n",
    "delete_texts_from_pinecone(texts)\n",
    "\n",
    "# 인덱스가 비어 있는지 테스트\n",
    "print(query_from_pinecone('hello'))"
   ]
  },
  {
   "cell_type": "code",
   "execution_count": 40,
   "id": "871773f8-4612-40c0-8f67-4081de4cab5b",
   "metadata": {},
   "outputs": [
    {
     "name": "stdout",
     "output_type": "stream",
     "text": [
      "[]\n"
     ]
    }
   ],
   "source": [
    "# 반영되는데 시간이 걸리므로 1분 이후 조회\n",
    "print(query_from_pinecone('hello'))"
   ]
  },
  {
   "cell_type": "markdown",
   "id": "568cf581-f2a2-4cb5-9924-e22519c6e8eb",
   "metadata": {},
   "source": [
    "## 1.5 문서 청킹\n",
    "\n",
    "### 문서 청킹 함수"
   ]
  },
  {
   "cell_type": "code",
   "execution_count": 41,
   "id": "84f34d65",
   "metadata": {},
   "outputs": [],
   "source": [
    "# 텍스트를 최대 토큰 수의 청크로 분할하는 함수입니다. OpenAI에서 영감을 얻음\n",
    "def overlapping_chunks(text, max_tokens = 500, overlapping_factor = 5):\n",
    "    '''\n",
    "    max_tokens: 청크당 원하는 토큰 수\n",
    "    overlapping_factor: 이전 청크와 겹치는 각 청크를 시작할 문장 수\n",
    "    '''\n",
    "\n",
    "    # 문장 부호를 사용하여 텍스트 분할\n",
    "    sentences = re.split(r'[.?!]', text)\n",
    "\n",
    "    # 각 문장의 토큰 개수 가져오기\n",
    "    n_tokens = [len(tokenizer.encode(\" \" + sentence)) for sentence in sentences]\n",
    "    \n",
    "    chunks, tokens_so_far, chunk = [], 0, []\n",
    "\n",
    "    # 튜플로 결합된 문장과 토큰을 반복합니다.\n",
    "    for sentence, token in zip(sentences, n_tokens):\n",
    "\n",
    "        # 지금까지의 토큰 수에 현재 문장의 토큰 수를 더한 수가 \n",
    "        # 최대 토큰 수보다 크면 청크 목록에 청크를 추가하고 재설정합니다.\n",
    "        # 청크와 지금까지의 토큰을 재설정합니다.\n",
    "        if tokens_so_far + token > max_tokens:\n",
    "            chunks.append(\". \".join(chunk) + \".\")\n",
    "            if overlapping_factor > 0:\n",
    "                chunk = chunk[-overlapping_factor:]\n",
    "                tokens_so_far = sum([len(tokenizer.encode(c)) for c in chunk])\n",
    "            else:\n",
    "                chunk = []\n",
    "                tokens_so_far = 0\n",
    "\n",
    "        # 현재 문장의 토큰 수가 최대 토큰 수보다 많으면 \n",
    "        # 토큰 수보다 많으면 다음 문장으로 이동합니다.\n",
    "        if token > max_tokens:\n",
    "            continue\n",
    "\n",
    "        # 그렇지 않으면, 청크에 문장을 추가하고 토큰 수를 합산합니다.\n",
    "        chunk.append(sentence)\n",
    "        tokens_so_far += token + 1\n",
    "    if chunk:\n",
    "        chunks.append(\". \".join(chunk) + \".\")\n",
    "\n",
    "    return chunks"
   ]
  },
  {
   "cell_type": "markdown",
   "id": "0ce3e472-998f-43d3-87f0-4c08754dbc86",
   "metadata": {},
   "source": [
    "### pdf 문서 읽기"
   ]
  },
  {
   "cell_type": "code",
   "execution_count": 42,
   "id": "3164e0ba",
   "metadata": {},
   "outputs": [
    {
     "name": "stderr",
     "output_type": "stream",
     "text": [
      "100%|██████████████████████████████████████████████████████████████████████████| 428/428 [06:12<00:00,  1.15it/s]"
     ]
    },
    {
     "name": "stdout",
     "output_type": "stream",
     "text": [
      "575490\n"
     ]
    },
    {
     "name": "stderr",
     "output_type": "stream",
     "text": [
      "\n"
     ]
    }
   ],
   "source": [
    "import PyPDF2\n",
    "\n",
    "principles_of_ds = ''\n",
    "principles_of_ds0 = ''\n",
    "principles_of_ds1 = ''\n",
    "\n",
    "# 읽기 바이너리 모드로 PDF 파일 열기\n",
    "with open(BASE_DIR + '../data/pds2.pdf', 'rb') as file:\n",
    "\n",
    "    # PDF 리더 객체를 만듭니다.\n",
    "    reader = PyPDF2.PdfReader(file)\n",
    "\n",
    "    # 텍스트를 담을 빈 문자열을 초기화합니다.\n",
    "    principles_of_ds0 = ''\n",
    "    # PDF 파일의 각 페이지를 반복합니다.\n",
    "    for page in tqdm(reader.pages):\n",
    "        text = page.extract_text()\n",
    "        principles_of_ds0 += '\\n\\n' + text[text.find(' ]')+2:]\n",
    "\n",
    "# PDF 파일의 모든 텍스트가 포함된 최종 문자열을 인쇄합니다.\n",
    "principles_of_ds0 = principles_of_ds0.strip()\n",
    "\n",
    "print(len(principles_of_ds0))"
   ]
  },
  {
   "cell_type": "code",
   "execution_count": 43,
   "id": "e29b174b-4a6c-4c91-bbec-8ff37caa569f",
   "metadata": {},
   "outputs": [
    {
     "name": "stdout",
     "output_type": "stream",
     "text": [
      "rinciples of Data Science\n",
      "Second Edition\n",
      "A beginner's guide to statistical techniques and theory to\n",
      "build eﬀective data-driven applications\n",
      "Sinan Ozdemir\n",
      "Sunil Kakade\n",
      "BIRMINGHAM - MUMBAI\n",
      "\n",
      "rinciples of Data Science\n",
      "Second Edition\n",
      "Copyright © 2018 Packt Publishing\n",
      "All rights reserved. No part of this book may be reproduced, stored in a retrieval system, or transmitted in any form\n",
      "or by any means, without the prior written permission of the publisher, except in the case of brief quotations\n",
      "embedded in critical articles or reviews.\n",
      "Every effort has been made in the preparation of this book to ensure the accuracy of the information presented.\n",
      "However, the information contained in this book is sold without warranty, either express or implied. Neither the\n",
      "authors, nor Packt Publishing or its dealers and distributors, will be held liable for any damages caused or alleged to\n",
      "have been caused directly or indirectly by this book.\n",
      "Packt Publishing has endeavored to provide trademark information ab\n"
     ]
    }
   ],
   "source": [
    "print(principles_of_ds0[:1000])"
   ]
  },
  {
   "cell_type": "code",
   "execution_count": 44,
   "id": "cac28b03-6f8b-4008-b1fa-b3c9e6f88372",
   "metadata": {},
   "outputs": [
    {
     "name": "stderr",
     "output_type": "stream",
     "text": [
      "incorrect startxref pointer(3)\n",
      "100%|████████████████████████████████████████████████████████████████████████| 1411/1411 [00:19<00:00, 73.10it/s]"
     ]
    },
    {
     "name": "stdout",
     "output_type": "stream",
     "text": [
      "749019\n"
     ]
    },
    {
     "name": "stderr",
     "output_type": "stream",
     "text": [
      "\n"
     ]
    }
   ],
   "source": [
    "# 웹스퀘어 개발자 가이드 SP5\n",
    "with open(BASE_DIR + '../data/sp5.pdf', 'rb') as file:\n",
    "\n",
    "    # PDF 리더 객체를 만듭니다.\n",
    "    reader = PyPDF2.PdfReader(file)\n",
    "\n",
    "    # 텍스트를 담을 빈 문자열을 초기화합니다.\n",
    "    principles_of_ds1 = ''\n",
    "    # PDF 파일의 각 페이지를 반복합니다.\n",
    "    for page in tqdm(reader.pages):\n",
    "        text = page.extract_text()\n",
    "        principles_of_ds1 += '\\n\\n' + text[text.find(' ]')+2:]\n",
    "\n",
    "# PDF 파일의 모든 텍스트가 포함된 최종 문자열을 인쇄합니다.\n",
    "principles_of_ds1 = principles_of_ds1.strip()\n",
    "\n",
    "print(len(principles_of_ds1))"
   ]
  },
  {
   "cell_type": "code",
   "execution_count": 45,
   "id": "1d0626d5-5026-4608-a7b5-824c3e553946",
   "metadata": {},
   "outputs": [
    {
     "name": "stdout",
     "output_type": "stream",
     "text": [
      "스퀘어5 SP5개발 가이드 \n",
      " Inswave Systems Co., Ltd. \n",
      " 1\n",
      "\n",
      "\n",
      "\n",
      "차 \n",
      " iii\n",
      "목차\n",
      "문서이력 \n",
      "파트I.소개 \n",
      "1.스튜디오 \n",
      "1.1.소개 \n",
      "1.2.PC요구사양 \n",
      "1.3.Eclipse지원 \n",
      "1.4.제약사항 \n",
      "1.5.인스톨러설치 \n",
      "1.6.Eclipse플러그인설치 \n",
      "1.7.설정 \n",
      "1.8.엔진교체 \n",
      "2.엔진 \n",
      "2.1.설치 \n",
      "2.2.사양 \n",
      "2.3.브라우저지원 \n",
      "2.4.설정 \n",
      "2.5.설치관련문제해결 \n",
      "3.동작 \n",
      "3.1.코드구조 \n",
      "3.2.스크립트 \n",
      "3.3.W-Pack(JS변환) \n",
      "3.4.브라우저호출 \n",
      "3.5.웹표준호환성 \n",
      "3.6.Scope \n",
      "3.7.주요API \n",
      "4.WFrame \n",
      "4.1.Scope설정 \n",
      "4.2.ID변경 \n",
      "4.3.$wVs.$p \n",
      " 4.4.WFrame간의화면참조 \n",
      "4.5.WFrame생성옵션전달 \n",
      "4.6.WFrame사용시유의사항 \n",
      "4.7.공통함수 \n",
      ". . . . . . . . . . . . . . . . . . . . . . . . . . . . . . . . . . . . . . . . . . . . . . . . . . . . . . . . . . . . . . . . . . . . . . . . . iii \n",
      " . . . . . . . . . . . . . . . . . . . . . . . . . . . . . . . . . . . . . . . . . . . . . . . . . . . . . . . . . . . . . . . . . . . . . xiii \n",
      " . . . . . . . . . . . . . . . . . . . . . . . . . . . . . . . . . . . . . . . 1 \n",
      " . . . . . . . . . . . . . . . . . . . . . . . . . . . . . . . . . . . . . . . . . . . . . . . . . . . . . . . . . . . . . . . . . . 3 \n",
      " .\t.\t.\t.\t.\t.\t.\t.\t.\t.\t.\t.\t.\t.\t.\t.\t.\t.\t.\t.\t.\t.\t.\t.\t.\t\n"
     ]
    }
   ],
   "source": [
    "print(principles_of_ds1[:1000])"
   ]
  },
  {
   "cell_type": "code",
   "execution_count": 46,
   "id": "3c3cd8ea-7d5e-44d9-95b8-6d2ed5e0027c",
   "metadata": {},
   "outputs": [],
   "source": [
    "principles_of_ds = principles_of_ds0 + \"\\n\\n\" + principles_of_ds1"
   ]
  },
  {
   "cell_type": "markdown",
   "id": "3d5ad558-06d5-4bd3-a4e0-fbc2748b0733",
   "metadata": {},
   "source": [
    "### 웹 문서 읽기"
   ]
  },
  {
   "cell_type": "code",
   "execution_count": 47,
   "id": "43e01a07",
   "metadata": {},
   "outputs": [
    {
     "name": "stdout",
     "output_type": "stream",
     "text": [
      "﻿The Project Gutenberg eBook of The History of Insects\n",
      "    \n",
      "This ebook is for the use of anyone anywhere in the United States and\n",
      "most other parts of the world at no cost and with almost no restrictions\n",
      "whatsoever. You may copy it, give it away or re-use it under the terms\n",
      "of the Project Gutenberg License included with this ebook or online\n",
      "at www.gutenberg.org. If you are not located in the United States,\n",
      "you will have to check the laws of the country where you are located\n",
      "before using this eBook.\n",
      "\n",
      "Title: The History of Insects\n",
      "\n",
      "Author: Unknown\n",
      "\n",
      "Release date: January 1, 2004 [eBook #10834]\n",
      "                Most recently updated: December 21, 2020\n",
      "\n",
      "Language: English\n",
      "\n",
      "\n",
      "\n",
      "*** START OF THE PROJECT GUTENBERG EBOOK THE HISTORY OF INSECTS ***\n",
      "\n",
      "\n",
      "E-text prepared by Internet Archive Children's Library, Garrett Alley, and\n",
      "the Project Gutenberg Online Distributed Proofreading Team\n",
      "\n",
      "\n",
      "\n",
      "Note: Project Gutenberg also has an HTML version of this\n",
      "      file which includes the \n"
     ]
    }
   ],
   "source": [
    "from urllib.request import urlopen\n",
    "\n",
    "\"\"\"\n",
    "곤충에 관한 교과서 (일부 내용 발췌)\n",
    "\n",
    "The Project Gutenberg eBook of The History of Insects\n",
    "    \n",
    "This ebook is for the use of anyone anywhere in the United States and\n",
    "most other parts of the world at no cost and with almost no restrictions\n",
    "whatsoever. You may copy it, give it away or re-use it under the terms\n",
    "of the Project Gutenberg License included with this ebook or online\n",
    "at www.gutenberg.org. If you are not located in the United States,\n",
    "you will have to check the laws of the country where you are located\n",
    "...\n",
    "\"\"\"\n",
    "text = urlopen('https://www.gutenberg.org/cache/epub/10834/pg10834.txt').read().decode()\n",
    "print(text[:1000])"
   ]
  },
  {
   "cell_type": "markdown",
   "id": "a267c322-bfea-46ce-b1f6-6089d690528c",
   "metadata": {},
   "source": [
    "### pdf 문서 내용을 청킹하기 (overlapping_factor=0)"
   ]
  },
  {
   "cell_type": "code",
   "execution_count": 48,
   "id": "dfdac6ff",
   "metadata": {},
   "outputs": [
    {
     "name": "stdout",
     "output_type": "stream",
     "text": [
      "non-overlapping chunking approach has 1256 documents with average length 487.8 tokens\n"
     ]
    }
   ],
   "source": [
    "split = overlapping_chunks(principles_of_ds, overlapping_factor=0)\n",
    "avg_length = sum([len(tokenizer.encode(t)) for t in split]) / len(split)\n",
    "print(f'non-overlapping chunking approach has {len(split)} documents with average length {avg_length:.1f} tokens')"
   ]
  },
  {
   "cell_type": "code",
   "execution_count": 49,
   "id": "08a783ea-eb91-4838-948d-48a137248a78",
   "metadata": {
    "scrolled": true
   },
   "outputs": [
    {
     "name": "stdout",
     "output_type": "stream",
     "text": [
      "rinciples of Data Science\n",
      "Second Edition\n",
      "A beginner's guide to statistical techniques and theory to\n",
      "build eﬀective data-driven applications\n",
      "Sinan Ozdemir\n",
      "Sunil Kakade\n",
      "BIRMINGHAM - MUMBAI\n",
      "\n",
      "rinciples of Data Science\n",
      "Second Edition\n",
      "Copyright © 2018 Packt Publishing\n",
      "All rights reserved.  No part of this book may be reproduced, stored in a retrieval system, or transmitted in any form\n",
      "or by any means, without the prior written permission of the publisher, except in the case of brief quotations\n",
      "embedded in critical articles or reviews. \n",
      "Every effort has been made in the preparation of this book to ensure the accuracy of the information presented. \n",
      "However, the information contained in this book is sold without warranty, either express or implied.  Neither the\n",
      "authors, nor Packt Publishing or its dealers and distributors, will be held liable for any damages caused or alleged to\n",
      "have been caused directly or indirectly by this book. \n",
      "Packt Publishing has endeavored to provide trademark information about all of the companies and products\n",
      "mentioned in this book by the appropriate use of capitals.  However, Packt Publishing cannot guarantee the accuracy\n",
      "of this information. \n",
      "Commissioning Editor:  Amey Varangoankar\n",
      "Acquisition Editor:  Dayne Castelino\n",
      "Content Development Editor:  Chris D'cruz\n",
      "Technical Editor:  Sneha Hanchate\n",
      "Copy Editor:  Safis Editing\n",
      "Project Coordinator:  Namrata Swetta\n",
      "Proofreader:  Safis Editing\n",
      "Indexer:  Pratik Shirodkar\n",
      "Graphics:  Tom Scaria\n",
      "Production Coordinator:  Nilesh Mohite\n",
      "First published: December 2016\n",
      "Second edition: November 2018\n",
      "Production reference: 1111218\n",
      "Published by Packt Publishing Ltd. \n",
      "Livery Place\n",
      "35 Livery Street\n",
      "Birmingham\n",
      "B3 2PB, UK. \n",
      "ISBN 978-1-78980-454-6\n",
      "www. packtpub. com\n",
      "\n",
      "\n",
      "mapt. io\n",
      "Mapt is an online digital library that gives you full access to over 5,000 books and videos, as\n",
      "well as industry leading tools to help you plan your personal development and advance\n",
      "your career.  For more information, please visit our website. \n",
      "Why subscribe.\n",
      "=======================\n",
      "\n",
      "Spend less time learning and more time coding with practical eBooks and Videos\n",
      "from over 4,000 industry professionals\n",
      "Improve your learning with Skill Plans built especially for you\n",
      "Get a free eBook or video every month\n",
      "Mapt is fully searchable\n",
      "Copy and paste, print, and bookmark content\n",
      "Packt. com\n",
      "Did you know that Packt offers eBook versions of every book published, with PDF and\n",
      "ePub files available.  You can upgrade to the eBook version at www. packt. com  and as a print\n",
      "book customer, you are entitled to a discount on the eBook copy.  Get in touch with us at\n",
      "customercare@packtpub. com  for more details. \n",
      "At www. packt. com , you can also read a collection of free technical articles, sign up for a\n",
      "range of free newsletters, and receive exclusive discounts and offers on Packt books and\n",
      "eBooks.  \n",
      "\n",
      "ontributors\n",
      "About the authors\n",
      "Sinan Ozdemir  is a data scientist, start-up founder, and educator living in the San\n",
      "Francisco Bay Area.  He studied pure mathematics at Johns Hopkins University.  He then\n",
      "spent several years conducting lectures on data science at Johns Hopkins University before\n",
      "founding his own start-up, Kylie. ai, which uses artificial intelligence to clone brand\n",
      "personalities and automate customer service communications. \n",
      "Sinan is also the author of Principles of Data Science, First Edition  available through Packt. \n",
      "Sunil Kakade  is a technologist, educator, and senior leader with expertise in creating data-\n",
      "and AI-driven organizations.  He is in the adjunct faculty at Northwestern University,\n",
      "Evanston, IL, where he teaches graduate courses of data science and big data.  He has\n",
      "several research papers to his credit and has presented his work in big data applications at\n",
      "reputable conferences.  He has US patents in areas of big data and retail processes.  He is\n",
      "passionate about applying data science to improve business outcomes and save patients'\n",
      "lives.  At present, Sunil leads the information architecture and analytics team for a large\n",
      "healthcare organization focused on improving healthcare outcomes and lives with his wife,\n",
      "Pratibha, and daughter, Preeti, in Scottsdale, Arizona.\n"
     ]
    }
   ],
   "source": [
    "print(split[0])\n",
    "print(\"=======================\")\n",
    "print(split[1])"
   ]
  },
  {
   "cell_type": "markdown",
   "id": "3bdd3642-bade-4f89-8385-816c21ca2624",
   "metadata": {},
   "source": [
    "### pdf 문서 내용을 청킹하기 (overlapping_factor=5)"
   ]
  },
  {
   "cell_type": "code",
   "execution_count": 50,
   "id": "1730b34b",
   "metadata": {},
   "outputs": [
    {
     "name": "stdout",
     "output_type": "stream",
     "text": [
      "overlapping chunking approach has 1703 documents with average length 498.1 tokens\n"
     ]
    }
   ],
   "source": [
    "split = overlapping_chunks(principles_of_ds)\n",
    "avg_length = sum([len(tokenizer.encode(t)) for t in split]) / len(split)\n",
    "print(f'overlapping chunking approach has {len(split)} documents with average length {avg_length:.1f} tokens')"
   ]
  },
  {
   "cell_type": "code",
   "execution_count": 51,
   "id": "d1381cc8",
   "metadata": {
    "scrolled": true
   },
   "outputs": [
    {
     "name": "stdout",
     "output_type": "stream",
     "text": [
      "rinciples of Data Science\n",
      "Second Edition\n",
      "A beginner's guide to statistical techniques and theory to\n",
      "build eﬀective data-driven applications\n",
      "Sinan Ozdemir\n",
      "Sunil Kakade\n",
      "BIRMINGHAM - MUMBAI\n",
      "\n",
      "rinciples of Data Science\n",
      "Second Edition\n",
      "Copyright © 2018 Packt Publishing\n",
      "All rights reserved.  No part of this book may be reproduced, stored in a retrieval system, or transmitted in any form\n",
      "or by any means, without the prior written permission of the publisher, except in the case of brief quotations\n",
      "embedded in critical articles or reviews. \n",
      "Every effort has been made in the preparation of this book to ensure the accuracy of the information presented. \n",
      "However, the information contained in this book is sold without warranty, either express or implied.  Neither the\n",
      "authors, nor Packt Publishing or its dealers and distributors, will be held liable for any damages caused or alleged to\n",
      "have been caused directly or indirectly by this book. \n",
      "Packt Publishing has endeavored to provide trademark information about all of the companies and products\n",
      "mentioned in this book by the appropriate use of capitals.  However, Packt Publishing cannot guarantee the accuracy\n",
      "of this information. \n",
      "Commissioning Editor:  Amey Varangoankar\n",
      "Acquisition Editor:  Dayne Castelino\n",
      "Content Development Editor:  Chris D'cruz\n",
      "Technical Editor:  Sneha Hanchate\n",
      "Copy Editor:  Safis Editing\n",
      "Project Coordinator:  Namrata Swetta\n",
      "Proofreader:  Safis Editing\n",
      "Indexer:  Pratik Shirodkar\n",
      "Graphics:  Tom Scaria\n",
      "Production Coordinator:  Nilesh Mohite\n",
      "First published: December 2016\n",
      "Second edition: November 2018\n",
      "Production reference: 1111218\n",
      "Published by Packt Publishing Ltd. \n",
      "Livery Place\n",
      "35 Livery Street\n",
      "Birmingham\n",
      "B3 2PB, UK. \n",
      "ISBN 978-1-78980-454-6\n",
      "www. packtpub. com\n",
      "\n",
      "\n",
      "mapt. io\n",
      "Mapt is an online digital library that gives you full access to over 5,000 books and videos, as\n",
      "well as industry leading tools to help you plan your personal development and advance\n",
      "your career.  For more information, please visit our website. \n",
      "Why subscribe.\n",
      "=======================\n",
      "packtpub. com\n",
      "\n",
      "\n",
      "mapt. io\n",
      "Mapt is an online digital library that gives you full access to over 5,000 books and videos, as\n",
      "well as industry leading tools to help you plan your personal development and advance\n",
      "your career.  For more information, please visit our website. \n",
      "Why subscribe. \n",
      "Spend less time learning and more time coding with practical eBooks and Videos\n",
      "from over 4,000 industry professionals\n",
      "Improve your learning with Skill Plans built especially for you\n",
      "Get a free eBook or video every month\n",
      "Mapt is fully searchable\n",
      "Copy and paste, print, and bookmark content\n",
      "Packt. com\n",
      "Did you know that Packt offers eBook versions of every book published, with PDF and\n",
      "ePub files available.  You can upgrade to the eBook version at www. packt. com  and as a print\n",
      "book customer, you are entitled to a discount on the eBook copy.  Get in touch with us at\n",
      "customercare@packtpub. com  for more details. \n",
      "At www. packt. com , you can also read a collection of free technical articles, sign up for a\n",
      "range of free newsletters, and receive exclusive discounts and offers on Packt books and\n",
      "eBooks.  \n",
      "\n",
      "ontributors\n",
      "About the authors\n",
      "Sinan Ozdemir  is a data scientist, start-up founder, and educator living in the San\n",
      "Francisco Bay Area.  He studied pure mathematics at Johns Hopkins University.  He then\n",
      "spent several years conducting lectures on data science at Johns Hopkins University before\n",
      "founding his own start-up, Kylie. ai, which uses artificial intelligence to clone brand\n",
      "personalities and automate customer service communications. \n",
      "Sinan is also the author of Principles of Data Science, First Edition  available through Packt. \n",
      "Sunil Kakade  is a technologist, educator, and senior leader with expertise in creating data-\n",
      "and AI-driven organizations.  He is in the adjunct faculty at Northwestern University,\n",
      "Evanston, IL, where he teaches graduate courses of data science and big data.  He has\n",
      "several research papers to his credit and has presented his work in big data applications at\n",
      "reputable conferences.  He has US patents in areas of big data and retail processes.  He is\n",
      "passionate about applying data science to improve business outcomes and save patients'\n",
      "lives.\n"
     ]
    }
   ],
   "source": [
    "print(split[0])\n",
    "print(\"=======================\")\n",
    "print(split[1])"
   ]
  },
  {
   "cell_type": "markdown",
   "id": "b2b9ebe5-4590-4376-8e4b-48771ab80f1c",
   "metadata": {},
   "source": [
    "### 맞춤형 구분기호 찾기"
   ]
  },
  {
   "cell_type": "code",
   "execution_count": 52,
   "id": "7fc7dc10",
   "metadata": {},
   "outputs": [
    {
     "name": "stdout",
     "output_type": "stream",
     "text": [
      "[(' ', 120939), (' \\n', 20070), ('\\t', 18399), ('\\n', 10728), ('  ', 1592), (' \\n ', 1429), (' \\n\\n\\n', 963), ('\\n\\n', 335), (' \\n\\n', 327), (' \\n \\n', 295), ('\\t ', 282), ('\\n   ', 250), ('\\n\\n\\n', 96), ('\\n ', 75), ('\\n    ', 73), (' \\n \\n \\n', 45), (' \\n \\n ', 44), ('     ', 34), ('\\n  ', 23), (' \\n \\n \\n ', 23), (' \\n\\n\\n\\n\\n', 22), ('       ', 19), ('          ', 19), ('   ', 17), ('      ', 16), ('    ', 15), ('         ', 12), (' \\n \\n \\n \\n', 12), (' \\n \\n \\n \\n ', 12), (' \\n \\n \\n \\n \\n \\n \\n', 12), ('\\n        ', 10), ('\\n                                     ', 10), (' \\n\\n\\n\\n', 10), (' \\n \\n\\n', 10), ('        ', 8), ('\\n       ', 8), ('\\n               ', 8), ('\\n\\n\\n\\n\\n', 8), ('           ', 6), ('            ', 6), ('\\n           ', 6), ('                      ', 5), ('             ', 4), ('                          ', 3), ('\\n                   ', 3), ('              ', 3), ('\\n                 ', 3), ('\\n      ', 3), ('\\n                                        ', 3), ('               ', 3), ('\\n\\n   ', 3), (' \\n \\n\\n\\n', 3), (' \\n\\n \\n', 3), (' \\n \\n \\n \\n \\n ', 3), ('                       ', 2), ('                     ', 2), ('                                                 ', 2), ('  \\n', 2), (' \\u2028', 2), ('\\n\\n    ', 2), ('\\n\\n\\n\\n', 2), ('\\n                ', 2), ('\\n \\n', 2), ('\\n                          ', 2), ('\\n                                            ', 2), ('                 ', 2), (' \\n \\n \\n \\n\\n', 2), ('\\n \\n \\n', 2), (' \\n\\n\\n \\n', 2), (' \\n \\n \\n \\n \\n \\n', 2), ('                           ', 1), ('                                                      ', 1), ('                                                                                                   \\n \\n', 1), ('\\n                                                     \\n          \\n', 1), ('\\n                                                          \\n', 1), ('\\n\\n  ', 1), ('\\n                                                                          \\n', 1), ('\\n                                                                                     ', 1), ('                              ', 1), ('                            ', 1), ('\\n\\u2028', 1), ('\\n \\n\\n\\n', 1), ('\\n                                                                         ', 1), ('\\n            \\n\\n\\n', 1), ('\\u2028 ', 1), (' \\u2028 ', 1), ('\\n                              ', 1), ('\\n         ', 1), ('\\n                                             ', 1), ('\\n                                                      ', 1), ('\\n                                               ', 1), ('                                         ', 1), ('                                                ', 1), ('                                                     ', 1), ('\\n\\n ', 1), (' \\n \\n \\n\\n\\n', 1), (' \\n \\n \\n\\n', 1), (' \\n\\n \\n\\n', 1), ('\\n \\n\\n', 1), (' \\n \\n\\n \\n\\n\\n', 1)]\n"
     ]
    }
   ],
   "source": [
    "# 카운터 및 re 라이브러리 가져오기\n",
    "from collections import Counter\n",
    "import re\n",
    "\n",
    "# 'principles_of_ds'에서 하나 이상의 공백이 있는 모든 항목 찾기\n",
    "matches = re.findall(r'[\\s]{1,}', principles_of_ds)\n",
    "\n",
    "# 문서에서 가장 빈번하게 발생하는 공백 10가지\n",
    "most_common_spaces = Counter(matches).most_common(100)\n",
    "\n",
    "# 가장 일반적인 공백과 그 빈도를 출력\n",
    "print(most_common_spaces)"
   ]
  },
  {
   "cell_type": "code",
   "execution_count": 53,
   "id": "82ed7c00-424b-43f1-9948-b09cdae7a39b",
   "metadata": {},
   "outputs": [
    {
     "name": "stdout",
     "output_type": "stream",
     "text": [
      "1843\n",
      "1111\n",
      "14\n",
      "1353\n",
      "1005\n"
     ]
    }
   ],
   "source": [
    "pattern = r'\\n\\n'\n",
    "frequency = len(re.findall(pattern, principles_of_ds))\n",
    "print(frequency)\n",
    "\n",
    "pattern = r'\\n\\n\\n'\n",
    "frequency = len(re.findall(pattern, principles_of_ds))\n",
    "print(frequency)\n",
    "\n",
    "pattern = r'\\n\\n '\n",
    "frequency = len(re.findall(pattern, principles_of_ds))\n",
    "print(frequency)\n",
    "\n",
    "pattern = r' \\n\\n'\n",
    "frequency = len(re.findall(pattern, principles_of_ds))\n",
    "print(frequency)\n",
    "\n",
    "pattern = r' \\n\\n\\n'\n",
    "frequency = len(re.findall(pattern, principles_of_ds))\n",
    "print(frequency)"
   ]
  },
  {
   "cell_type": "markdown",
   "id": "a151eee8-9021-4415-a2cc-a14b2b7f7a8c",
   "metadata": {},
   "source": [
    "### 사용자 정의 구분자로 문서 청킹하기"
   ]
  },
  {
   "cell_type": "code",
   "execution_count": 54,
   "id": "63ccc253",
   "metadata": {},
   "outputs": [
    {
     "name": "stdout",
     "output_type": "stream",
     "text": [
      "custom delimiter approach has 1775 documents with average length 326.2 tokens\n"
     ]
    }
   ],
   "source": [
    "# Only keep documents of at least 100 characters split by a custom delimiter\n",
    "split = list(filter(lambda x: len(x) > 50, principles_of_ds.split('\\n\\n')))\n",
    "# split = list(principles_of_ds.split('\\n\\n'))\n",
    "\n",
    "avg_length = sum([len(tokenizer.encode(t)) for t in split]) / len(split)\n",
    "print(f'custom delimiter approach has {len(split)} documents with average length {avg_length:.1f} tokens')"
   ]
  },
  {
   "cell_type": "code",
   "execution_count": 55,
   "id": "4da7a07a-1e9f-4d06-8a24-4ed3fec487da",
   "metadata": {
    "scrolled": true
   },
   "outputs": [
    {
     "name": "stdout",
     "output_type": "stream",
     "text": [
      "rinciples of Data Science\n",
      "Second Edition\n",
      "A beginner's guide to statistical techniques and theory to\n",
      "build eﬀective data-driven applications\n",
      "Sinan Ozdemir\n",
      "Sunil Kakade\n",
      "BIRMINGHAM - MUMBAI\n",
      "=======================\n",
      "rinciples of Data Science\n",
      "Second Edition\n",
      "Copyright © 2018 Packt Publishing\n",
      "All rights reserved. No part of this book may be reproduced, stored in a retrieval system, or transmitted in any form\n",
      "or by any means, without the prior written permission of the publisher, except in the case of brief quotations\n",
      "embedded in critical articles or reviews.\n",
      "Every effort has been made in the preparation of this book to ensure the accuracy of the information presented.\n",
      "However, the information contained in this book is sold without warranty, either express or implied. Neither the\n",
      "authors, nor Packt Publishing or its dealers and distributors, will be held liable for any damages caused or alleged to\n",
      "have been caused directly or indirectly by this book.\n",
      "Packt Publishing has endeavored to provide trademark information about all of the companies and products\n",
      "mentioned in this book by the appropriate use of capitals. However, Packt Publishing cannot guarantee the accuracy\n",
      "of this information.\n",
      "Commissioning Editor:  Amey Varangoankar\n",
      "Acquisition Editor:  Dayne Castelino\n",
      "Content Development Editor:  Chris D'cruz\n",
      "Technical Editor:  Sneha Hanchate\n",
      "Copy Editor:  Safis Editing\n",
      "Project Coordinator:  Namrata Swetta\n",
      "Proofreader:  Safis Editing\n",
      "Indexer:  Pratik Shirodkar\n",
      "Graphics:  Tom Scaria\n",
      "Production Coordinator:  Nilesh Mohite\n",
      "First published: December 2016\n",
      "Second edition: November 2018\n",
      "Production reference: 1111218\n",
      "Published by Packt Publishing Ltd.\n",
      "Livery Place\n",
      "35 Livery Street\n",
      "Birmingham\n",
      "B3 2PB, UK.\n",
      "ISBN 978-1-78980-454-6\n",
      "www.packtpub.com\n",
      "=======================\n",
      "\n",
      "mapt.io\n",
      "Mapt is an online digital library that gives you full access to over 5,000 books and videos, as\n",
      "well as industry leading tools to help you plan your personal development and advance\n",
      "your career. For more information, please visit our website.\n",
      "Why subscribe?\n",
      "Spend less time learning and more time coding with practical eBooks and Videos\n",
      "from over 4,000 industry professionals\n",
      "Improve your learning with Skill Plans built especially for you\n",
      "Get a free eBook or video every month\n",
      "Mapt is fully searchable\n",
      "Copy and paste, print, and bookmark content\n",
      "Packt.com\n",
      "Did you know that Packt offers eBook versions of every book published, with PDF and\n",
      "ePub files available? You can upgrade to the eBook version at www.packt.com  and as a print\n",
      "book customer, you are entitled to a discount on the eBook copy. Get in touch with us at\n",
      "customercare@packtpub.com  for more details.\n",
      "At www.packt.com , you can also read a collection of free technical articles, sign up for a\n",
      "range of free newsletters, and receive exclusive discounts and offers on Packt books and\n",
      "eBooks. \n"
     ]
    }
   ],
   "source": [
    "print(split[0])\n",
    "print(\"=======================\")\n",
    "print(split[1])\n",
    "print(\"=======================\")\n",
    "print(split[2])"
   ]
  },
  {
   "cell_type": "markdown",
   "id": "cadf8075-191c-45fd-8edc-40d160024276",
   "metadata": {},
   "source": [
    "### 청킹된 문서 embedding"
   ]
  },
  {
   "cell_type": "code",
   "execution_count": 56,
   "id": "edadcf7d-bcc7-4487-bedf-f1ed8db9f6c2",
   "metadata": {},
   "outputs": [],
   "source": [
    "# 한글 token size를 고려하여 overlapping이 없는 500 token 문서 청킹 사용 \n",
    "split = overlapping_chunks(principles_of_ds, overlapping_factor=0)"
   ]
  },
  {
   "cell_type": "code",
   "execution_count": 57,
   "id": "2480fe3c",
   "metadata": {},
   "outputs": [
    {
     "name": "stderr",
     "output_type": "stream",
     "text": [
      "100%|████████████████████████████████████████████████████████████████████████████| 13/13 [00:26<00:00,  2.04s/it]\n"
     ]
    }
   ],
   "source": [
    "embeddings = None\n",
    "for s in tqdm(range(0, len(split), 100)):\n",
    "    if embeddings is None:\n",
    "        embeddings = np.array(get_embeddings(split[s:s+100], engine=ENGINE))\n",
    "    else:\n",
    "        embeddings = np.vstack([embeddings, np.array(get_embeddings(split[s:s+100], engine=ENGINE))])\n",
    "    "
   ]
  },
  {
   "cell_type": "code",
   "execution_count": 58,
   "id": "1cfe8fd2",
   "metadata": {
    "scrolled": true
   },
   "outputs": [
    {
     "name": "stdout",
     "output_type": "stream",
     "text": [
      "Cluster 0: 3 embeddings\n",
      "Cluster 1: 2 embeddings\n",
      "Cluster 2: 3 embeddings\n",
      "Cluster 3: 2 embeddings\n",
      "Cluster 4: 3 embeddings\n",
      "Cluster 5: 2 embeddings\n",
      "Cluster 6: 2 embeddings\n",
      "Cluster 7: 71 embeddings\n",
      "Cluster 8: 2 embeddings\n",
      "Cluster 9: 4 embeddings\n",
      "Cluster 10: 2 embeddings\n",
      "Cluster 11: 4 embeddings\n",
      "Cluster 12: 2 embeddings\n",
      "Cluster 13: 2 embeddings\n",
      "Cluster 14: 4 embeddings\n",
      "Cluster 15: 3 embeddings\n",
      "Cluster 16: 2 embeddings\n",
      "Cluster 17: 2 embeddings\n",
      "Cluster 18: 2 embeddings\n",
      "Cluster 19: 2 embeddings\n",
      "Cluster 20: 2 embeddings\n",
      "Cluster 21: 2 embeddings\n",
      "Cluster 22: 2 embeddings\n",
      "Cluster 23: 2 embeddings\n",
      "Cluster 24: 4 embeddings\n",
      "Cluster 25: 3 embeddings\n",
      "Cluster 26: 6 embeddings\n",
      "Cluster 27: 3 embeddings\n",
      "Cluster 28: 2 embeddings\n",
      "Cluster 29: 4 embeddings\n",
      "Cluster 30: 2 embeddings\n",
      "Cluster 31: 2 embeddings\n",
      "Cluster 32: 2 embeddings\n",
      "Cluster 33: 2 embeddings\n",
      "Cluster 34: 3 embeddings\n",
      "Cluster 35: 2 embeddings\n",
      "Cluster 36: 2 embeddings\n",
      "Cluster 37: 2 embeddings\n",
      "Cluster 38: 2 embeddings\n",
      "Cluster 39: 4 embeddings\n",
      "Cluster 40: 2 embeddings\n",
      "Cluster 41: 4 embeddings\n",
      "Cluster 42: 2 embeddings\n",
      "Cluster 43: 2 embeddings\n",
      "Cluster 44: 2 embeddings\n",
      "Cluster 45: 3 embeddings\n",
      "Cluster 46: 4 embeddings\n",
      "Cluster 47: 2 embeddings\n",
      "Cluster 48: 2 embeddings\n",
      "Cluster 49: 3 embeddings\n",
      "Cluster 50: 2 embeddings\n",
      "Cluster 51: 3 embeddings\n",
      "Cluster 52: 2 embeddings\n",
      "Cluster 53: 2 embeddings\n",
      "Cluster 54: 2 embeddings\n",
      "Cluster 55: 2 embeddings\n",
      "Cluster 56: 2 embeddings\n",
      "Cluster 57: 2 embeddings\n",
      "Cluster 58: 2 embeddings\n",
      "Cluster 59: 2 embeddings\n",
      "Cluster 60: 2 embeddings\n",
      "Cluster 61: 2 embeddings\n",
      "Cluster 62: 3 embeddings\n",
      "Cluster 63: 2 embeddings\n",
      "Cluster 64: 3 embeddings\n",
      "Cluster 65: 2 embeddings\n",
      "Cluster 66: 2 embeddings\n",
      "Cluster 67: 2 embeddings\n",
      "Cluster 68: 2 embeddings\n",
      "Cluster 69: 2 embeddings\n",
      "Cluster 70: 2 embeddings\n",
      "Cluster 71: 2 embeddings\n",
      "Cluster 72: 2 embeddings\n",
      "Cluster 73: 2 embeddings\n",
      "Cluster 74: 2 embeddings\n",
      "Cluster 75: 2 embeddings\n",
      "Cluster 76: 2 embeddings\n",
      "Cluster 77: 3 embeddings\n",
      "Cluster 78: 2 embeddings\n",
      "Cluster 79: 2 embeddings\n",
      "Cluster 80: 2 embeddings\n",
      "Cluster 81: 2 embeddings\n",
      "Cluster 82: 3 embeddings\n",
      "Cluster 83: 2 embeddings\n",
      "Cluster 84: 2 embeddings\n",
      "Cluster 85: 2 embeddings\n",
      "Cluster 86: 2 embeddings\n",
      "Cluster 87: 2 embeddings\n",
      "Cluster 88: 2 embeddings\n",
      "Cluster 89: 2 embeddings\n",
      "Cluster 90: 3 embeddings\n",
      "Cluster 91: 2 embeddings\n",
      "Cluster 92: 3 embeddings\n",
      "Cluster 93: 2 embeddings\n",
      "Cluster 94: 2 embeddings\n",
      "Cluster 95: 2 embeddings\n",
      "Cluster 96: 2 embeddings\n",
      "Cluster 97: 2 embeddings\n",
      "Cluster 98: 2 embeddings\n",
      "Cluster 99: 2 embeddings\n",
      "Cluster 100: 2 embeddings\n",
      "Cluster 101: 2 embeddings\n",
      "Cluster 102: 2 embeddings\n",
      "Cluster 103: 2 embeddings\n",
      "Cluster 104: 2 embeddings\n",
      "Cluster 105: 2 embeddings\n",
      "Cluster 106: 2 embeddings\n",
      "Cluster 107: 2 embeddings\n",
      "Cluster 108: 3 embeddings\n",
      "Cluster 109: 1 embeddings\n",
      "Cluster 110: 2 embeddings\n",
      "Cluster 111: 2 embeddings\n",
      "Cluster 112: 1 embeddings\n",
      "Cluster 113: 1 embeddings\n",
      "Cluster 114: 2 embeddings\n",
      "Cluster 115: 2 embeddings\n",
      "Cluster 116: 2 embeddings\n",
      "Cluster 117: 2 embeddings\n",
      "Cluster 118: 2 embeddings\n",
      "Cluster 119: 2 embeddings\n",
      "Cluster 120: 2 embeddings\n",
      "Cluster 121: 1 embeddings\n",
      "Cluster 122: 1 embeddings\n",
      "Cluster 123: 1 embeddings\n",
      "Cluster 124: 2 embeddings\n",
      "Cluster 125: 2 embeddings\n",
      "Cluster 126: 2 embeddings\n",
      "Cluster 127: 2 embeddings\n",
      "Cluster 128: 3 embeddings\n",
      "Cluster 129: 1 embeddings\n",
      "Cluster 130: 2 embeddings\n",
      "Cluster 131: 1 embeddings\n",
      "Cluster 132: 2 embeddings\n",
      "Cluster 133: 2 embeddings\n",
      "Cluster 134: 2 embeddings\n",
      "Cluster 135: 2 embeddings\n",
      "Cluster 136: 3 embeddings\n",
      "Cluster 137: 2 embeddings\n",
      "Cluster 138: 2 embeddings\n",
      "Cluster 139: 2 embeddings\n",
      "Cluster 140: 2 embeddings\n",
      "Cluster 141: 2 embeddings\n",
      "Cluster 142: 2 embeddings\n",
      "Cluster 143: 1 embeddings\n",
      "Cluster 144: 2 embeddings\n",
      "Cluster 145: 2 embeddings\n",
      "Cluster 146: 3 embeddings\n",
      "Cluster 147: 2 embeddings\n",
      "Cluster 148: 2 embeddings\n",
      "Cluster 149: 2 embeddings\n",
      "Cluster 150: 2 embeddings\n",
      "Cluster 151: 2 embeddings\n",
      "Cluster 152: 1 embeddings\n",
      "Cluster 153: 3 embeddings\n",
      "Cluster 154: 6 embeddings\n",
      "Cluster 155: 3 embeddings\n",
      "Cluster 156: 2 embeddings\n",
      "Cluster 157: 2 embeddings\n",
      "Cluster 158: 2 embeddings\n",
      "Cluster 159: 2 embeddings\n",
      "Cluster 160: 2 embeddings\n",
      "Cluster 161: 5 embeddings\n",
      "Cluster 162: 3 embeddings\n",
      "Cluster 163: 2 embeddings\n",
      "Cluster 164: 1 embeddings\n",
      "Cluster 165: 2 embeddings\n",
      "Cluster 166: 1 embeddings\n",
      "Cluster 167: 2 embeddings\n",
      "Cluster 168: 2 embeddings\n",
      "Cluster 169: 4 embeddings\n",
      "Cluster 170: 3 embeddings\n",
      "Cluster 171: 6 embeddings\n",
      "Cluster 172: 2 embeddings\n",
      "Cluster 173: 5 embeddings\n",
      "Cluster 174: 2 embeddings\n",
      "Cluster 175: 1 embeddings\n",
      "Cluster 176: 2 embeddings\n",
      "Cluster 177: 1 embeddings\n",
      "Cluster 178: 1 embeddings\n",
      "Cluster 179: 2 embeddings\n",
      "Cluster 180: 2 embeddings\n",
      "Cluster 181: 2 embeddings\n",
      "Cluster 182: 2 embeddings\n",
      "Cluster 183: 2 embeddings\n",
      "Cluster 184: 1 embeddings\n",
      "Cluster 185: 1 embeddings\n",
      "Cluster 186: 2 embeddings\n",
      "Cluster 187: 1 embeddings\n",
      "Cluster 188: 2 embeddings\n",
      "Cluster 189: 2 embeddings\n",
      "Cluster 190: 12 embeddings\n",
      "Cluster 191: 5 embeddings\n",
      "Cluster 192: 2 embeddings\n",
      "Cluster 193: 2 embeddings\n",
      "Cluster 194: 1 embeddings\n",
      "Cluster 195: 1 embeddings\n",
      "Cluster 196: 2 embeddings\n",
      "Cluster 197: 2 embeddings\n",
      "Cluster 198: 3 embeddings\n",
      "Cluster 199: 3 embeddings\n",
      "Cluster 200: 2 embeddings\n",
      "Cluster 201: 2 embeddings\n",
      "Cluster 202: 1 embeddings\n",
      "Cluster 203: 1 embeddings\n",
      "Cluster 204: 1 embeddings\n",
      "Cluster 205: 1 embeddings\n",
      "Cluster 206: 2 embeddings\n",
      "Cluster 207: 2 embeddings\n",
      "Cluster 208: 2 embeddings\n",
      "Cluster 209: 2 embeddings\n",
      "Cluster 210: 1 embeddings\n",
      "Cluster 211: 2 embeddings\n",
      "Cluster 212: 1 embeddings\n",
      "Cluster 213: 1 embeddings\n",
      "Cluster 214: 1 embeddings\n",
      "Cluster 215: 2 embeddings\n",
      "Cluster 216: 2 embeddings\n",
      "Cluster 217: 3 embeddings\n",
      "Cluster 218: 2 embeddings\n",
      "Cluster 219: 1 embeddings\n",
      "Cluster 220: 1 embeddings\n",
      "Cluster 221: 2 embeddings\n",
      "Cluster 222: 3 embeddings\n",
      "Cluster 223: 1 embeddings\n",
      "Cluster 224: 1 embeddings\n",
      "Cluster 225: 1 embeddings\n",
      "Cluster 226: 1 embeddings\n",
      "Cluster 227: 1 embeddings\n",
      "Cluster 228: 1 embeddings\n",
      "Cluster 229: 2 embeddings\n",
      "Cluster 230: 2 embeddings\n",
      "Cluster 231: 1 embeddings\n",
      "Cluster 232: 3 embeddings\n",
      "Cluster 233: 2 embeddings\n",
      "Cluster 234: 1 embeddings\n",
      "Cluster 235: 3 embeddings\n",
      "Cluster 236: 1 embeddings\n",
      "Cluster 237: 1 embeddings\n",
      "Cluster 238: 1 embeddings\n",
      "Cluster 239: 1 embeddings\n",
      "Cluster 240: 2 embeddings\n",
      "Cluster 241: 1 embeddings\n",
      "Cluster 242: 1 embeddings\n",
      "Cluster 243: 1 embeddings\n",
      "Cluster 244: 1 embeddings\n",
      "Cluster 245: 1 embeddings\n",
      "Cluster 246: 1 embeddings\n",
      "Cluster 247: 1 embeddings\n",
      "Cluster 248: 1 embeddings\n",
      "Cluster 249: 3 embeddings\n",
      "Cluster 250: 1 embeddings\n",
      "Cluster 251: 2 embeddings\n",
      "Cluster 252: 2 embeddings\n",
      "Cluster 253: 3 embeddings\n",
      "Cluster 254: 1 embeddings\n",
      "Cluster 255: 1 embeddings\n",
      "Cluster 256: 1 embeddings\n",
      "Cluster 257: 1 embeddings\n",
      "Cluster 258: 1 embeddings\n",
      "Cluster 259: 1 embeddings\n",
      "Cluster 260: 1 embeddings\n",
      "Cluster 261: 1 embeddings\n",
      "Cluster 262: 1 embeddings\n",
      "Cluster 263: 1 embeddings\n",
      "Cluster 264: 1 embeddings\n",
      "Cluster 265: 1 embeddings\n",
      "Cluster 266: 2 embeddings\n",
      "Cluster 267: 1 embeddings\n",
      "Cluster 268: 2 embeddings\n",
      "Cluster 269: 2 embeddings\n",
      "Cluster 270: 1 embeddings\n",
      "Cluster 271: 1 embeddings\n",
      "Cluster 272: 2 embeddings\n",
      "Cluster 273: 1 embeddings\n",
      "Cluster 274: 2 embeddings\n",
      "Cluster 275: 2 embeddings\n",
      "Cluster 276: 1 embeddings\n",
      "Cluster 277: 2 embeddings\n",
      "Cluster 278: 2 embeddings\n",
      "Cluster 279: 1 embeddings\n",
      "Cluster 280: 1 embeddings\n",
      "Cluster 281: 1 embeddings\n",
      "Cluster 282: 2 embeddings\n",
      "Cluster 283: 2 embeddings\n",
      "Cluster 284: 1 embeddings\n",
      "Cluster 285: 1 embeddings\n",
      "Cluster 286: 2 embeddings\n",
      "Cluster 287: 1 embeddings\n",
      "Cluster 288: 1 embeddings\n",
      "Cluster 289: 1 embeddings\n",
      "Cluster 290: 2 embeddings\n",
      "Cluster 291: 1 embeddings\n",
      "Cluster 292: 1 embeddings\n",
      "Cluster 293: 1 embeddings\n",
      "Cluster 294: 1 embeddings\n",
      "Cluster 295: 2 embeddings\n",
      "Cluster 296: 2 embeddings\n",
      "Cluster 297: 2 embeddings\n",
      "Cluster 298: 3 embeddings\n",
      "Cluster 299: 1 embeddings\n",
      "Cluster 300: 1 embeddings\n",
      "Cluster 301: 1 embeddings\n",
      "Cluster 302: 2 embeddings\n",
      "Cluster 303: 1 embeddings\n",
      "Cluster 304: 1 embeddings\n",
      "Cluster 305: 1 embeddings\n",
      "Cluster 306: 1 embeddings\n",
      "Cluster 307: 2 embeddings\n",
      "Cluster 308: 1 embeddings\n",
      "Cluster 309: 2 embeddings\n",
      "Cluster 310: 1 embeddings\n",
      "Cluster 311: 2 embeddings\n",
      "Cluster 312: 2 embeddings\n",
      "Cluster 313: 3 embeddings\n",
      "Cluster 314: 1 embeddings\n",
      "Cluster 315: 2 embeddings\n",
      "Cluster 316: 2 embeddings\n",
      "Cluster 317: 2 embeddings\n",
      "Cluster 318: 1 embeddings\n",
      "Cluster 319: 1 embeddings\n",
      "Cluster 320: 1 embeddings\n",
      "Cluster 321: 1 embeddings\n",
      "Cluster 322: 1 embeddings\n",
      "Cluster 323: 3 embeddings\n",
      "Cluster 324: 2 embeddings\n",
      "Cluster 325: 2 embeddings\n",
      "Cluster 326: 1 embeddings\n",
      "Cluster 327: 1 embeddings\n",
      "Cluster 328: 1 embeddings\n",
      "Cluster 329: 1 embeddings\n",
      "Cluster 330: 1 embeddings\n",
      "Cluster 331: 2 embeddings\n",
      "Cluster 332: 2 embeddings\n",
      "Cluster 333: 1 embeddings\n",
      "Cluster 334: 1 embeddings\n",
      "Cluster 335: 1 embeddings\n",
      "Cluster 336: 1 embeddings\n",
      "Cluster 337: 4 embeddings\n",
      "Cluster 338: 1 embeddings\n",
      "Cluster 339: 6 embeddings\n",
      "Cluster 340: 1 embeddings\n",
      "Cluster 341: 1 embeddings\n",
      "Cluster 342: 2 embeddings\n",
      "Cluster 343: 1 embeddings\n",
      "Cluster 344: 1 embeddings\n",
      "Cluster 345: 13 embeddings\n",
      "Cluster 346: 1 embeddings\n",
      "Cluster 347: 2 embeddings\n",
      "Cluster 348: 1 embeddings\n",
      "Cluster 349: 2 embeddings\n",
      "Cluster 350: 1 embeddings\n",
      "Cluster 351: 1 embeddings\n",
      "Cluster 352: 1 embeddings\n",
      "Cluster 353: 1 embeddings\n",
      "Cluster 354: 1 embeddings\n",
      "Cluster 355: 1 embeddings\n",
      "Cluster 356: 1 embeddings\n",
      "Cluster 357: 1 embeddings\n",
      "Cluster 358: 1 embeddings\n",
      "Cluster 359: 1 embeddings\n",
      "Cluster 360: 1 embeddings\n",
      "Cluster 361: 2 embeddings\n",
      "Cluster 362: 3 embeddings\n",
      "Cluster 363: 2 embeddings\n",
      "Cluster 364: 1 embeddings\n",
      "Cluster 365: 1 embeddings\n",
      "Cluster 366: 1 embeddings\n",
      "Cluster 367: 3 embeddings\n",
      "Cluster 368: 7 embeddings\n",
      "Cluster 369: 1 embeddings\n",
      "Cluster 370: 1 embeddings\n",
      "Cluster 371: 1 embeddings\n",
      "Cluster 372: 1 embeddings\n",
      "Cluster 373: 1 embeddings\n",
      "Cluster 374: 2 embeddings\n",
      "Cluster 375: 1 embeddings\n",
      "Cluster 376: 1 embeddings\n",
      "Cluster 377: 1 embeddings\n",
      "Cluster 378: 1 embeddings\n",
      "Cluster 379: 1 embeddings\n",
      "Cluster 380: 1 embeddings\n",
      "Cluster 381: 1 embeddings\n",
      "Cluster 382: 2 embeddings\n",
      "Cluster 383: 2 embeddings\n",
      "Cluster 384: 1 embeddings\n",
      "Cluster 385: 1 embeddings\n",
      "Cluster 386: 1 embeddings\n",
      "Cluster 387: 1 embeddings\n",
      "Cluster 388: 2 embeddings\n",
      "Cluster 389: 1 embeddings\n",
      "Cluster 390: 1 embeddings\n",
      "Cluster 391: 1 embeddings\n",
      "Cluster 392: 1 embeddings\n",
      "Cluster 393: 1 embeddings\n",
      "Cluster 394: 1 embeddings\n",
      "Cluster 395: 1 embeddings\n",
      "Cluster 396: 2 embeddings\n",
      "Cluster 397: 1 embeddings\n",
      "Cluster 398: 7 embeddings\n",
      "Cluster 399: 2 embeddings\n",
      "Cluster 400: 2 embeddings\n",
      "Cluster 401: 2 embeddings\n",
      "Cluster 402: 1 embeddings\n",
      "Cluster 403: 1 embeddings\n",
      "Cluster 404: 1 embeddings\n",
      "Cluster 405: 1 embeddings\n",
      "Cluster 406: 1 embeddings\n",
      "Cluster 407: 1 embeddings\n",
      "Cluster 408: 1 embeddings\n",
      "Cluster 409: 1 embeddings\n",
      "Cluster 410: 1 embeddings\n",
      "Cluster 411: 1 embeddings\n",
      "Cluster 412: 1 embeddings\n",
      "Cluster 413: 1 embeddings\n",
      "Cluster 414: 1 embeddings\n",
      "Cluster 415: 1 embeddings\n",
      "Cluster 416: 1 embeddings\n",
      "Cluster 417: 1 embeddings\n",
      "Cluster 418: 1 embeddings\n",
      "Cluster 419: 1 embeddings\n",
      "Cluster 420: 1 embeddings\n",
      "Cluster 421: 1 embeddings\n",
      "Cluster 422: 1 embeddings\n",
      "Cluster 423: 1 embeddings\n",
      "Cluster 424: 1 embeddings\n",
      "Cluster 425: 1 embeddings\n",
      "Cluster 426: 1 embeddings\n",
      "Cluster 427: 1 embeddings\n",
      "Cluster 428: 1 embeddings\n",
      "Cluster 429: 1 embeddings\n",
      "Cluster 430: 1 embeddings\n",
      "Cluster 431: 1 embeddings\n",
      "Cluster 432: 1 embeddings\n",
      "Cluster 433: 1 embeddings\n",
      "Cluster 434: 1 embeddings\n",
      "Cluster 435: 1 embeddings\n",
      "Cluster 436: 1 embeddings\n",
      "Cluster 437: 1 embeddings\n",
      "Cluster 438: 1 embeddings\n",
      "Cluster 439: 1 embeddings\n",
      "Cluster 440: 1 embeddings\n",
      "Cluster 441: 1 embeddings\n",
      "Cluster 442: 1 embeddings\n",
      "Cluster 443: 1 embeddings\n",
      "Cluster 444: 1 embeddings\n",
      "Cluster 445: 1 embeddings\n",
      "Cluster 446: 1 embeddings\n",
      "Cluster 447: 1 embeddings\n",
      "Cluster 448: 1 embeddings\n",
      "Cluster 449: 1 embeddings\n",
      "Cluster 450: 1 embeddings\n",
      "Cluster 451: 1 embeddings\n",
      "Cluster 452: 1 embeddings\n",
      "Cluster 453: 1 embeddings\n",
      "Cluster 454: 1 embeddings\n",
      "Cluster 455: 1 embeddings\n",
      "Cluster 456: 1 embeddings\n",
      "Cluster 457: 1 embeddings\n",
      "Cluster 458: 1 embeddings\n",
      "Cluster 459: 1 embeddings\n",
      "Cluster 460: 2 embeddings\n",
      "Cluster 461: 1 embeddings\n",
      "Cluster 462: 1 embeddings\n",
      "Cluster 463: 1 embeddings\n",
      "Cluster 464: 1 embeddings\n",
      "Cluster 465: 2 embeddings\n",
      "Cluster 466: 2 embeddings\n",
      "Cluster 467: 1 embeddings\n",
      "Cluster 468: 1 embeddings\n",
      "Cluster 469: 1 embeddings\n",
      "Cluster 470: 1 embeddings\n",
      "Cluster 471: 1 embeddings\n",
      "Cluster 472: 1 embeddings\n",
      "Cluster 473: 1 embeddings\n",
      "Cluster 474: 1 embeddings\n",
      "Cluster 475: 1 embeddings\n",
      "Cluster 476: 1 embeddings\n",
      "Cluster 477: 1 embeddings\n",
      "Cluster 478: 1 embeddings\n",
      "Cluster 479: 1 embeddings\n",
      "Cluster 480: 1 embeddings\n",
      "Cluster 481: 1 embeddings\n",
      "Cluster 482: 1 embeddings\n",
      "Cluster 483: 1 embeddings\n",
      "Cluster 484: 1 embeddings\n",
      "Cluster 485: 1 embeddings\n",
      "Cluster 486: 1 embeddings\n",
      "Cluster 487: 1 embeddings\n",
      "Cluster 488: 1 embeddings\n",
      "Cluster 489: 1 embeddings\n",
      "Cluster 490: 1 embeddings\n",
      "Cluster 491: 1 embeddings\n",
      "Cluster 492: 1 embeddings\n",
      "Cluster 493: 1 embeddings\n",
      "Cluster 494: 1 embeddings\n",
      "Cluster 495: 1 embeddings\n",
      "Cluster 496: 1 embeddings\n",
      "Cluster 497: 1 embeddings\n",
      "Cluster 498: 1 embeddings\n",
      "Cluster 499: 2 embeddings\n",
      "Cluster 500: 1 embeddings\n",
      "Cluster 501: 1 embeddings\n",
      "Cluster 502: 1 embeddings\n",
      "Cluster 503: 1 embeddings\n",
      "Cluster 504: 1 embeddings\n",
      "Cluster 505: 1 embeddings\n",
      "Cluster 506: 1 embeddings\n",
      "Cluster 507: 1 embeddings\n",
      "Cluster 508: 1 embeddings\n",
      "Cluster 509: 1 embeddings\n",
      "Cluster 510: 1 embeddings\n",
      "Cluster 511: 1 embeddings\n",
      "Cluster 512: 1 embeddings\n",
      "Cluster 513: 1 embeddings\n",
      "Cluster 514: 1 embeddings\n",
      "Cluster 515: 1 embeddings\n",
      "Cluster 516: 1 embeddings\n",
      "Cluster 517: 1 embeddings\n",
      "Cluster 518: 1 embeddings\n",
      "Cluster 519: 1 embeddings\n",
      "Cluster 520: 1 embeddings\n",
      "Cluster 521: 1 embeddings\n",
      "Cluster 522: 1 embeddings\n",
      "Cluster 523: 1 embeddings\n",
      "Cluster 524: 1 embeddings\n",
      "Cluster 525: 1 embeddings\n",
      "Cluster 526: 1 embeddings\n",
      "Cluster 527: 1 embeddings\n",
      "Cluster 528: 1 embeddings\n",
      "Cluster 529: 1 embeddings\n",
      "Cluster 530: 1 embeddings\n",
      "Cluster 531: 1 embeddings\n",
      "Cluster 532: 1 embeddings\n",
      "Cluster 533: 1 embeddings\n",
      "Cluster 534: 1 embeddings\n",
      "Cluster 535: 1 embeddings\n",
      "Cluster 536: 1 embeddings\n",
      "Cluster 537: 1 embeddings\n",
      "Cluster 538: 1 embeddings\n",
      "Cluster 539: 1 embeddings\n",
      "Cluster 540: 1 embeddings\n",
      "Cluster 541: 1 embeddings\n",
      "Cluster 542: 1 embeddings\n",
      "Cluster 543: 1 embeddings\n",
      "Cluster 544: 1 embeddings\n",
      "Cluster 545: 1 embeddings\n",
      "Cluster 546: 1 embeddings\n",
      "Cluster 547: 1 embeddings\n",
      "Cluster 548: 1 embeddings\n",
      "Cluster 549: 1 embeddings\n",
      "Cluster 550: 1 embeddings\n",
      "Cluster 551: 2 embeddings\n",
      "Cluster 552: 1 embeddings\n",
      "Cluster 553: 1 embeddings\n",
      "Cluster 554: 1 embeddings\n",
      "Cluster 555: 1 embeddings\n",
      "Cluster 556: 2 embeddings\n",
      "Cluster 557: 1 embeddings\n",
      "Cluster 558: 1 embeddings\n",
      "Cluster 559: 1 embeddings\n",
      "Cluster 560: 1 embeddings\n",
      "Cluster 561: 1 embeddings\n",
      "Cluster 562: 1 embeddings\n",
      "Cluster 563: 1 embeddings\n",
      "Cluster 564: 1 embeddings\n",
      "Cluster 565: 1 embeddings\n",
      "Cluster 566: 1 embeddings\n",
      "Cluster 567: 1 embeddings\n",
      "Cluster 568: 1 embeddings\n",
      "Cluster 569: 1 embeddings\n",
      "Cluster 570: 1 embeddings\n",
      "Cluster 571: 1 embeddings\n",
      "Cluster 572: 1 embeddings\n",
      "Cluster 573: 1 embeddings\n",
      "Cluster 574: 1 embeddings\n",
      "Cluster 575: 1 embeddings\n",
      "Cluster 576: 1 embeddings\n",
      "Cluster 577: 1 embeddings\n",
      "Cluster 578: 1 embeddings\n",
      "Cluster 579: 1 embeddings\n",
      "Cluster 580: 1 embeddings\n",
      "Cluster 581: 1 embeddings\n",
      "Cluster 582: 1 embeddings\n",
      "Cluster 583: 1 embeddings\n",
      "Cluster 584: 1 embeddings\n",
      "Cluster 585: 1 embeddings\n",
      "Cluster 586: 1 embeddings\n",
      "Cluster 587: 1 embeddings\n",
      "Cluster 588: 1 embeddings\n",
      "Cluster 589: 1 embeddings\n",
      "Cluster 590: 1 embeddings\n",
      "Cluster 591: 1 embeddings\n",
      "Cluster 592: 1 embeddings\n",
      "Cluster 593: 1 embeddings\n",
      "Cluster 594: 1 embeddings\n",
      "Cluster 595: 1 embeddings\n",
      "Cluster 596: 1 embeddings\n",
      "Cluster 597: 1 embeddings\n",
      "Cluster 598: 2 embeddings\n",
      "Cluster 599: 1 embeddings\n",
      "Cluster 600: 1 embeddings\n",
      "Cluster 601: 1 embeddings\n",
      "Cluster 602: 1 embeddings\n",
      "Cluster 603: 1 embeddings\n",
      "Cluster 604: 1 embeddings\n",
      "Cluster 605: 1 embeddings\n",
      "Cluster 606: 1 embeddings\n",
      "Cluster 607: 1 embeddings\n",
      "Cluster 608: 1 embeddings\n",
      "Cluster 609: 1 embeddings\n",
      "Cluster 610: 1 embeddings\n",
      "Cluster 611: 1 embeddings\n",
      "Cluster 612: 1 embeddings\n",
      "Cluster 613: 1 embeddings\n",
      "Cluster 614: 1 embeddings\n",
      "Cluster 615: 2 embeddings\n",
      "Cluster 616: 1 embeddings\n",
      "Cluster 617: 1 embeddings\n",
      "Cluster 618: 1 embeddings\n",
      "Cluster 619: 1 embeddings\n",
      "Cluster 620: 1 embeddings\n",
      "Cluster 621: 1 embeddings\n",
      "Cluster 622: 1 embeddings\n",
      "Cluster 623: 1 embeddings\n",
      "Cluster 624: 2 embeddings\n",
      "Cluster 625: 1 embeddings\n",
      "Cluster 626: 1 embeddings\n",
      "Cluster 627: 2 embeddings\n",
      "Cluster 628: 1 embeddings\n",
      "Cluster 629: 1 embeddings\n",
      "Cluster 630: 1 embeddings\n",
      "Cluster 631: 1 embeddings\n",
      "Cluster 632: 1 embeddings\n",
      "Cluster 633: 1 embeddings\n",
      "Cluster 634: 1 embeddings\n",
      "Cluster 635: 1 embeddings\n",
      "Cluster 636: 2 embeddings\n",
      "Cluster 637: 1 embeddings\n",
      "Cluster 638: 1 embeddings\n",
      "Cluster 639: 1 embeddings\n",
      "Cluster 640: 1 embeddings\n",
      "Cluster 641: 1 embeddings\n",
      "Cluster 642: 1 embeddings\n",
      "Cluster 643: 1 embeddings\n",
      "Cluster 644: 1 embeddings\n",
      "Cluster 645: 1 embeddings\n",
      "Cluster 646: 1 embeddings\n",
      "Cluster 647: 1 embeddings\n",
      "Cluster 648: 2 embeddings\n",
      "Cluster 649: 1 embeddings\n",
      "Cluster 650: 1 embeddings\n",
      "Cluster 651: 1 embeddings\n",
      "Cluster 652: 1 embeddings\n",
      "Cluster 653: 1 embeddings\n",
      "Cluster 654: 1 embeddings\n",
      "Cluster 655: 1 embeddings\n",
      "Cluster 656: 1 embeddings\n",
      "Cluster 657: 1 embeddings\n",
      "Cluster 658: 1 embeddings\n",
      "Cluster 659: 1 embeddings\n",
      "Cluster 660: 1 embeddings\n",
      "Cluster 661: 1 embeddings\n",
      "Cluster 662: 1 embeddings\n",
      "Cluster 663: 1 embeddings\n",
      "Cluster 664: 2 embeddings\n",
      "Cluster 665: 1 embeddings\n",
      "Cluster 666: 1 embeddings\n",
      "Cluster 667: 1 embeddings\n",
      "Cluster 668: 1 embeddings\n",
      "Cluster 669: 1 embeddings\n",
      "Cluster 670: 1 embeddings\n",
      "Cluster 671: 1 embeddings\n",
      "Cluster 672: 1 embeddings\n",
      "Cluster 673: 1 embeddings\n",
      "Cluster 674: 1 embeddings\n",
      "Cluster 675: 1 embeddings\n",
      "Cluster 676: 1 embeddings\n",
      "Cluster 677: 1 embeddings\n",
      "Cluster 678: 1 embeddings\n",
      "Cluster 679: 1 embeddings\n",
      "Cluster 680: 1 embeddings\n",
      "Cluster 681: 1 embeddings\n",
      "Cluster 682: 1 embeddings\n",
      "Cluster 683: 1 embeddings\n",
      "Cluster 684: 1 embeddings\n",
      "Cluster 685: 1 embeddings\n",
      "Cluster 686: 1 embeddings\n",
      "Cluster 687: 1 embeddings\n",
      "Cluster 688: 1 embeddings\n",
      "Cluster 689: 1 embeddings\n",
      "Cluster 690: 1 embeddings\n",
      "Cluster 691: 1 embeddings\n",
      "Cluster 692: 1 embeddings\n",
      "Cluster 693: 1 embeddings\n",
      "Cluster 694: 1 embeddings\n",
      "Cluster 695: 1 embeddings\n",
      "Cluster 696: 1 embeddings\n",
      "Cluster 697: 1 embeddings\n",
      "Cluster 698: 1 embeddings\n",
      "Cluster 699: 1 embeddings\n",
      "Cluster 700: 1 embeddings\n",
      "Cluster 701: 1 embeddings\n",
      "Cluster 702: 1 embeddings\n",
      "Cluster 703: 1 embeddings\n",
      "Cluster 704: 1 embeddings\n",
      "Cluster 705: 1 embeddings\n",
      "Cluster 706: 1 embeddings\n",
      "Cluster 707: 1 embeddings\n",
      "Cluster 708: 1 embeddings\n",
      "Cluster 709: 1 embeddings\n",
      "Cluster 710: 1 embeddings\n",
      "Cluster 711: 1 embeddings\n",
      "Cluster 712: 1 embeddings\n",
      "Cluster 713: 1 embeddings\n",
      "Cluster 714: 1 embeddings\n",
      "Cluster 715: 1 embeddings\n",
      "Cluster 716: 1 embeddings\n",
      "Cluster 717: 1 embeddings\n",
      "Cluster 718: 1 embeddings\n",
      "Cluster 719: 1 embeddings\n",
      "Cluster 720: 1 embeddings\n",
      "Cluster 721: 1 embeddings\n",
      "Cluster 722: 1 embeddings\n",
      "Cluster 723: 1 embeddings\n",
      "Cluster 724: 1 embeddings\n",
      "Cluster 725: 4 embeddings\n",
      "Cluster 726: 1 embeddings\n",
      "Cluster 727: 1 embeddings\n",
      "Cluster 728: 1 embeddings\n",
      "Cluster 729: 1 embeddings\n",
      "Cluster 730: 1 embeddings\n",
      "Cluster 731: 1 embeddings\n",
      "Cluster 732: 1 embeddings\n",
      "Cluster 733: 1 embeddings\n",
      "Cluster 734: 1 embeddings\n",
      "Cluster 735: 1 embeddings\n",
      "Cluster 736: 1 embeddings\n",
      "Cluster 737: 1 embeddings\n",
      "Cluster 738: 1 embeddings\n",
      "Cluster 739: 1 embeddings\n",
      "Cluster 740: 1 embeddings\n",
      "Cluster 741: 1 embeddings\n",
      "Cluster 742: 1 embeddings\n",
      "Cluster 743: 1 embeddings\n",
      "Cluster 744: 1 embeddings\n",
      "Cluster 745: 1 embeddings\n",
      "Cluster 746: 1 embeddings\n",
      "Cluster 747: 1 embeddings\n",
      "Cluster 748: 1 embeddings\n",
      "Cluster 749: 2 embeddings\n",
      "Cluster 750: 1 embeddings\n",
      "Cluster 751: 1 embeddings\n",
      "Cluster 752: 1 embeddings\n",
      "Cluster 753: 1 embeddings\n",
      "Cluster 754: 1 embeddings\n",
      "Cluster 755: 1 embeddings\n",
      "Cluster 756: 1 embeddings\n",
      "Cluster 757: 1 embeddings\n",
      "Cluster 758: 1 embeddings\n",
      "Cluster 759: 1 embeddings\n",
      "Cluster 760: 1 embeddings\n",
      "Cluster 761: 1 embeddings\n",
      "Cluster 762: 1 embeddings\n",
      "Cluster 763: 1 embeddings\n",
      "Cluster 764: 1 embeddings\n",
      "Cluster 765: 1 embeddings\n",
      "Cluster 766: 1 embeddings\n",
      "Cluster 767: 1 embeddings\n",
      "Cluster 768: 1 embeddings\n",
      "Cluster 769: 1 embeddings\n",
      "Cluster 770: 1 embeddings\n",
      "Cluster 771: 1 embeddings\n",
      "Cluster 772: 1 embeddings\n",
      "Cluster 773: 1 embeddings\n",
      "Cluster 774: 1 embeddings\n",
      "Cluster 775: 1 embeddings\n",
      "Cluster 776: 1 embeddings\n",
      "Cluster 777: 1 embeddings\n",
      "Cluster 778: 1 embeddings\n",
      "Cluster 779: 1 embeddings\n",
      "Cluster 780: 1 embeddings\n",
      "Cluster 781: 1 embeddings\n",
      "Cluster 782: 1 embeddings\n",
      "Cluster 783: 1 embeddings\n",
      "Cluster 784: 1 embeddings\n",
      "Cluster 785: 1 embeddings\n",
      "Cluster 786: 1 embeddings\n",
      "Cluster 787: 1 embeddings\n",
      "Cluster 788: 1 embeddings\n",
      "Cluster 789: 1 embeddings\n",
      "Cluster 790: 1 embeddings\n",
      "Cluster 791: 1 embeddings\n",
      "Cluster 792: 1 embeddings\n",
      "Cluster 793: 1 embeddings\n",
      "Cluster 794: 1 embeddings\n",
      "Cluster 795: 1 embeddings\n",
      "Cluster 796: 1 embeddings\n",
      "Cluster 797: 1 embeddings\n",
      "Cluster 798: 1 embeddings\n",
      "Cluster 799: 1 embeddings\n",
      "Cluster 800: 1 embeddings\n",
      "Cluster 801: 1 embeddings\n",
      "Cluster 802: 1 embeddings\n",
      "Cluster 803: 1 embeddings\n"
     ]
    }
   ],
   "source": [
    "from sklearn.cluster import AgglomerativeClustering\n",
    "from sklearn.metrics.pairwise import cosine_similarity\n",
    "import numpy as np\n",
    "\n",
    "# 'embeddings'라는 텍스트 임베딩 목록이 있다고 가정합니다.\n",
    "# 먼저, 모든 임베딩 쌍 사이의 코사인 유사도 행렬을 계산합니다.\n",
    "cosine_sim_matrix = cosine_similarity(embeddings)\n",
    "\n",
    "# 응집 클러스터링 모델을 인스턴스화합니다.\n",
    "agg_clustering = AgglomerativeClustering(\n",
    "    n_clusters=None, # 알고리즘이 데이터를 기반으로 최적의 클러스터 수를 결정합니다.\n",
    "    distance_threshold=0.1, # 클러스터 간의 모든 쌍별 거리가 0.1보다 커질 때까지 클러스터를 형성합니다.\n",
    "    metric='precomputed', # 미리 계산된 거리 행렬(1 - 유사도 행렬)을 입력으로 제공합니다. affinity 대신 metric로 사용\n",
    "    linkage='complete', # 구성 요소 간의 최대 거리를 기준으로 가장 작은 클러스터를 반복적으로 병합하여 클러스터를 형성합니다.\n",
    ")\n",
    "\n",
    "# 코사인 거리 행렬(1 - 유사도 행렬)에 모델을 맞춥니다.\n",
    "agg_clustering.fit(1 - cosine_sim_matrix)\n",
    "\n",
    "# 각 임베딩에 대한 클러스터 레이블을 가져옵니다.\n",
    "cluster_labels = agg_clustering.labels_\n",
    "\n",
    "# 각 클러스터의 임베딩 개수를 출력합니다.\n",
    "unique_labels, counts = np.unique(cluster_labels, return_counts=True)\n",
    "for label, count in zip(unique_labels, counts):\n",
    "    print(f'Cluster {label}: {count} embeddings')\n"
   ]
  },
  {
   "cell_type": "code",
   "execution_count": 59,
   "id": "0727319b",
   "metadata": {},
   "outputs": [
    {
     "name": "stdout",
     "output_type": "stream",
     "text": [
      "우리의 가지치기 접근 방식에는 평균 길이 762.1 토큰을 가진 804 문서가 있습니다.\n"
     ]
    }
   ],
   "source": [
    "pruned_documents = []\n",
    "for _label, count in zip(unique_labels, counts):\n",
    "    pruned_documents.append('\\n\\n'.join([text for text, label in zip(split, cluster_labels) if label == _label]))\n",
    "\n",
    "avg_length = sum([len(tokenizer.encode(t)) for t in pruned_documents]) / len(pruned_documents)\n",
    "# print(f'Our pruning approach has {len(pruned_documents)} documents with average length {avg_length:.1f} tokens')\n",
    "print(f'우리의 가지치기 접근 방식에는 평균 길이 {avg_length:.1f} 토큰을 가진 {len(pruned_documents)} 문서가 있습니다.')"
   ]
  },
  {
   "cell_type": "code",
   "execution_count": 60,
   "id": "97f80b78",
   "metadata": {
    "scrolled": true
   },
   "outputs": [
    {
     "name": "stdout",
     "output_type": "stream",
     "text": [
      "xml\" ,options); \n",
      "\n",
      "\n",
      "14\n",
      "예제파일 \n",
      "인터넷에서 다운로드 혹은 \n",
      "WEBSQUARE_DEV_PACK의 GUIDE 프로젝트에서 보기 \n",
      "(/$p/PopUp/openPopup_fixPosition_$p. xml ) \n",
      "그림21-24YouTube 동영상(https://youtu. be/v65iVnWntpk) \n",
      "\n",
      "\n",
      "2. \n",
      "유틸리티 \n",
      " 815\n",
      "22. 1.  WebSquare. date \n",
      "표22-1설명 요약 \n",
      "●날짜및시간관리용API를제공하는유틸리티.  \n",
      "22. 1. 1.  양력↔음력날짜변환 \n",
      "22. 1. 1. 1.  toLunar() &toSolar() \n",
      "toLunar() 및toSolar() 함수를이용하여양력↔음력날짜간변환이가능합니다.  \n",
      "코드22-1사용예 1//음력 2022년 7월15일을 양력으로 변환해서 20220812를 반환.  \n",
      "2\n",
      "3WebSquare. date. toSolar( 20220715 ); \n",
      "예제파일 \n",
      "인터넷에서 다운로드 혹은 \n",
      "WEBSQUARE_DEV_PACK에서 보기 \n",
      "(/_WebSquare. date/toLunar_toSolar_WebSquare_date. xml ) \n",
      "\n",
      "\n",
      "16\n",
      "그림22-1YouTube 동영상(https://youtu. be/vt8qnfyYq4k) \n",
      "22. 1. 2.  날짜유효성 확인 \n",
      "isValidDate() 함수를사용하면,유효하지않은날짜에대해얼럿을표시하고유효성확인결과를반환할수 \n",
      "있습니다.\n",
      "\n",
      "\n",
      "코드22-2사용예 1varoptions ={ \n",
      "2 useAlert: \"false\" ,//얼럿 표시 여부 \n",
      "3 returnType: \"json\" //반환값 표시 형식 \n",
      "4} \n",
      "5varresult =WebSquare. date. isValidDate(inputCalendar1, inputCalendar1. getValue(), options ); \n",
      "6console. log( \"result:\" ,result); \n",
      "예제파일 \n",
      "인터넷에서 다운로드 혹은 \n",
      "WEBSQUARE_DEV_PACK의 GUIDE 프로젝트에서 보기 \n",
      "(/_WebSquare. date/isValidDate_WebSquare_date. xml ) \n",
      "\n",
      "\n",
      "17\n",
      "그림22-2YouTube 동영상(https://youtu. be/E1P78YjB7c8) \n",
      "22. 2.  $p \n",
      "22. 2. 1.  화면재로딩 및브라우저 Refresh \n",
      "22. 2. 1. 1.  $p. reinitialize() \n",
      "$p. reinitialize() 함수는자신이실행된화면을다시로딩하거나 브라우저를 Refresh합니다.  \n",
      "코드22-3사용예 1//브라우저를 refresh.  \n",
      "2$p. reinitialize( true ); \n",
      "3\n",
      "4//페이지를 다시 로딩.  \n",
      "5$p. reinitialize(); \n",
      "예제파일 \n",
      "인터넷에서 다운로드 혹은 \n",
      "\n",
      "18\n",
      "WEBSQUARE_DEV_PACK의 GUIDE 프로젝트에서 보기 \n",
      "(/$p/_General/reinitialize_$p/ ) \n",
      "그림22-3YouTube 동영상(https://youtu. be/6HH_y9jxOQA) \n",
      "\n",
      "\n",
      "3. \n",
      "기타 \n",
      " 819\n",
      "23. 1.  ActiveX \n",
      "표23-1컴포넌트설명 요약 \n",
      "ActiveX사용을지원.  \n",
      "23. 2.  Applet \n",
      "표23-2컴포넌트설명 요약 Applet사용을지원.  \n",
      "23. 3.\n"
     ]
    }
   ],
   "source": [
    "print(pruned_documents[1])"
   ]
  },
  {
   "cell_type": "markdown",
   "id": "d2627edd-9823-4d2b-9ed2-b15d801140bb",
   "metadata": {},
   "source": [
    "### 결과를 pinecone에 저장"
   ]
  },
  {
   "cell_type": "code",
   "execution_count": 61,
   "id": "3a3364dd",
   "metadata": {},
   "outputs": [
    {
     "data": {
      "text/plain": [
       "1256"
      ]
     },
     "execution_count": 61,
     "metadata": {},
     "output_type": "execute_result"
    }
   ],
   "source": [
    "upload_texts_to_pinecone(split, batch_size=128)\n",
    "# upload_texts_to_pinecone(pruned_documents, batch_size=128) # pruned_documents의 경우 embedding max tokensize를 초과할 수 있음"
   ]
  },
  {
   "cell_type": "markdown",
   "id": "f197843c-0d2f-4891-b856-35a552791f2c",
   "metadata": {},
   "source": [
    "## 1.6 유사 문서 청킹 조회\n",
    "### embedding 조회"
   ]
  },
  {
   "cell_type": "code",
   "execution_count": 62,
   "id": "13cc8bdc",
   "metadata": {
    "scrolled": true
   },
   "outputs": [
    {
     "name": "stdout",
     "output_type": "stream",
     "text": [
      "439eaa4b375cf7f3b48e34452ea3df58\t0.84\t\n",
      "\n",
      "Let's begin by learning a very  important value \n",
      "35b7c7fb9aabb0c2dad8d808138871bc\t0.84\t\n",
      "This chart makes it very easy to pick out the ind\n",
      "3292012bbf240288b4e0cde8d6197bcc\t0.83\t Using the z-score and the\n",
      "empirical rule, we will\n",
      "0914b8d2847049fe675f39c5680ff2e2\t0.81\t It is important to note that by doing this, the p\n",
      "ca34cce37134ae70556b6fd541becba5\t0.80\t\n",
      "Everything from how we obtain/sample data to how \n"
     ]
    }
   ],
   "source": [
    "query = 'How do z scores work?'\n",
    "\n",
    "results_from_pinecone = query_from_pinecone(query, top_k=5)\n",
    "\n",
    "for result_from_pinecone in results_from_pinecone:\n",
    "    print(f\"{result_from_pinecone['id']}\\t{result_from_pinecone['score']:.2f}\\t{result_from_pinecone['metadata']['text'][:50]}\")"
   ]
  },
  {
   "cell_type": "code",
   "execution_count": 63,
   "id": "39fc6846-d52a-4ff8-84f5-32e44d4100f6",
   "metadata": {},
   "outputs": [
    {
     "name": "stdout",
     "output_type": "stream",
     "text": [
      "ce09866ca69ec215f9258032fb056598\t0.83\t \n",
      "동일한ID의컴포넌트가 여러개존재할경우미리보기를 할수없습니다.  \n",
      "7. 11. 4.  D\n",
      "95f508bd40f24cddd0148fa1b5a14729\t0.82\t \n",
      "그림7-28컴포넌트퀵툴바 \n",
      "\n",
      "\n",
      "29\n",
      "GridView의 경우,컬럼을선택한후스페이스바를 누\n",
      "029d7984aa5e95c89d96cff52ee17d61\t0.82\tDesign 뷰에서직접마우스드래그하여 컴포넌트의 위치와크기를결정합니다.  (더블클릭할경우해\n",
      "9a67165ce1508b47f0be0810c24023b4\t0.82\t 관련컴포넌트 \n",
      "●아래와같은선택컴포넌트의 경우선택대상항목을지정해야합니다. 브라우저는 개발자\n",
      "b115fe5b0485485fcbae9be03655f83f\t0.82\t표편집 \n",
      "GridView나 TableLayout과 같은표형식컴포넌트의 경우,아래의아이콘을사\n"
     ]
    }
   ],
   "source": [
    "query = '그리드는 어떤 컴포넌트인가요?'\n",
    "\n",
    "results_from_pinecone = query_from_pinecone(query, top_k=5)\n",
    "\n",
    "for result_from_pinecone in results_from_pinecone:\n",
    "    print(f\"{result_from_pinecone['id']}\\t{result_from_pinecone['score']:.2f}\\t{result_from_pinecone['metadata']['text'][:50]}\")"
   ]
  },
  {
   "cell_type": "markdown",
   "id": "d2607b5a-fc01-4aa3-860f-6cd21aa994d8",
   "metadata": {},
   "source": [
    "### reranking을 위한 CrossEncoder 초기화"
   ]
  },
  {
   "cell_type": "markdown",
   "id": "4cdf3d9e-d1f1-4d2e-aa4e-d53d0f48b6e2",
   "metadata": {},
   "source": [
    "CrossEncoder는 자연어 처리(NLP) 분야에서 사용되는 모델 중 하나로, 두 개의 문장 간의 관계를 파악하고 점수를 매기는 데 사용됩니다. 초보자를 위해 쉽게 설명하자면 다음과 같습니다:\n",
    "\n",
    "1. 두 개의 문장을 입력으로 받습니다. 예를 들어, 질문과 답변, 텍스트와 해당 텍스트의 요약 등이 될 수 있습니다.\n",
    "\n",
    "2. CrossEncoder는 두 문장을 하나의 시퀀스로 연결하고, 이를 사전 훈련된 언어 모델(예: BERT)에 입력합니다.\n",
    "\n",
    "3. 언어 모델은 연결된 시퀀스를 처리하고, 두 문장 간의 관계를 파악하기 위해 학습합니다. 이때, 두 문장 간의 상호작용을 고려하여 representation을 생성합니다.\n",
    "\n",
    "4. 최종 representation은 분류기(classifier)나 회귀기(regressor)에 전달되어, 두 문장 간의 관계를 점수로 나타냅니다. 이 점수는 두 문장이 얼마나 잘 어울리는지, 또는 한 문장이 다른 문장에 대한 적절한 응답인지 등을 나타낼 수 있습니다.\n",
    "\n",
    "CrossEncoder는 질의응답, 문서 검색, 텍스트 유사도 측정 등 다양한 NLP 작업에 활용될 수 있습니다. 두 문장을 교차하여 encoding하기 때문에 CrossEncoder라는 이름이 붙었습니다. 단, CrossEncoder는 inference 시에 모든 문장 쌍을 일일이 계산해야 하므로, 계산 비용이 높다는 단점이 있습니다.\n",
    "\n",
    "---\n",
    "\n",
    "아래 코드에서 사용할 CrossEncoder 모델로는 MS MARCO 데이터셋으로 fine-tuning된 모델을 추천합니다. MS MARCO는 대규모 질의응답 및 패시지 랭킹 데이터셋으로, 이 데이터셋으로 학습된 모델은 관련성 있는 문서를 찾는 작업에 적합합니다.\n",
    "\n",
    "특히, 'sentence-transformers' 라이브러리에서 제공하는 'cross-encoder/ms-marco-MiniLM-L-6-v2' 또는 'cross-encoder/ms-marco-MiniLM-L-12-v2' 모델을 추천합니다. 이 모델들은 MiniLM 아키텍처를 기반으로 하며, MS MARCO 데이터셋으로 fine-tuning되었습니다.\n",
    "\n",
    "1. 'cross-encoder/ms-marco-MiniLM-L-6-v2': 6개의 레이어를 가진 MiniLM 모델로, 비교적 작은 크기와 빠른 추론 속도를 가지고 있습니다.\n",
    "\n",
    "2. 'cross-encoder/ms-marco-MiniLM-L-12-v2': 12개의 레이어를 가진 MiniLM 모델로, L-6 버전보다 더 큰 모델 크기와 더 높은 성능을 가지고 있습니다.\n",
    "\n",
    "모델 선택 시에는 성능과 추론 속도 사이의 trade-off를 고려해야 합니다. 만약 추론 속도가 중요한 경우에는 L-6 버전을, 성능이 더 중요한 경우에는 L-12 버전을 선택할 수 있습니다.\n"
   ]
  },
  {
   "cell_type": "code",
   "execution_count": 104,
   "id": "ce2c5fb3-783f-4677-a526-1110e72453f8",
   "metadata": {},
   "outputs": [
    {
     "name": "stderr",
     "output_type": "stream",
     "text": [
      "Some weights of RobertaForSequenceClassification were not initialized from the model checkpoint at klue/roberta-large and are newly initialized: ['classifier.dense.bias', 'classifier.dense.weight', 'classifier.out_proj.bias', 'classifier.out_proj.weight']\n",
      "You should probably TRAIN this model on a down-stream task to be able to use it for predictions and inference.\n"
     ]
    }
   ],
   "source": [
    "\"\"\"\n",
    "이 예는 의미론적 텍스트 유사성(STS)을 위한 교차 인코더를 사용하여 쿼리와 말뭉치에서 가능한 모든\n",
    "문장과 의미론적 텍스트 유사성(STS)을 위한 교차 인코더를 사용하여 점수를 계산합니다.\n",
    "그런 다음 주어진 쿼리에 대해 가장 유사한 문장을 출력합니다.\n",
    "\"\"\"\n",
    "from sentence_transformers.cross_encoder import CrossEncoder\n",
    "import numpy as np\n",
    "from torch import nn\n",
    "\n",
    "# 사전 학습된 크로스 인코더\n",
    "# cross_encoder = CrossEncoder('cross-encoder/mmarco-mMiniLMv2-L12-H384-v1')  # 저장소에서 삭제됨\n",
    "# cross_encoder = CrossEncoder('jeffwan/mmarco-mMiniLMv2-L12-H384-v1')\n",
    "# cross_encoder = CrossEncoder('cross-encoder/ms-marco-MiniLM-L-6-v2')  # Claude가 추천한 모델\n",
    "# cross_encoder = CrossEncoder('cross-encoder/ms-marco-MiniLM-L-12-v2')  # Claude가 추천한 모델\n",
    "cross_encoder = CrossEncoder('bongsoo/klue-cross-encoder-v1')  # 한국어 지원 모델\n",
    "\n",
    "from transformers import AutoModelForSequenceClassification, AutoTokenizer, pipeline\n",
    "\n",
    "# KLUE RoBERTa-large 모델과 토크나이저 로드\n",
    "model_name = \"klue/roberta-large\"\n",
    "model = AutoModelForSequenceClassification.from_pretrained(model_name, num_labels=1)\n",
    "tokenizer = AutoTokenizer.from_pretrained(model_name)\n",
    "\n",
    "# Pipeline을 사용하여 CrossEncoder와 유사한 기능 구현\n",
    "pipeline_encoder = pipeline(\"text-classification\", model=model, tokenizer=tokenizer)"
   ]
  },
  {
   "cell_type": "markdown",
   "id": "4199bbbe-b641-449c-9aa4-c229f4b040e5",
   "metadata": {},
   "source": [
    "### embedding 조회 + reranking\n",
    "\n",
    "아래 코드는 Pinecone 데이터베이스에서 주어진 쿼리에 대한 결과를 가져오고, 필요에 따라 CrossEncoder를 사용하여 재순위화(re-ranking)하는 함수입니다. 함수의 동작을 단계별로 설명하겠습니다.\n",
    "\n",
    "1. `query_from_pinecone` 함수를 사용하여 Pinecone 데이터베이스에서 쿼리에 대한 상위 `top_k`개의 결과를 가져옵니다.\n",
    "\n",
    "2. 결과가 없으면 빈 리스트를 반환합니다.\n",
    "\n",
    "3. `verbose` 플래그가 True인 경우, 쿼리와 Pinecone에서 가져온 각 결과의 ID, 점수, 텍스트 일부를 출력합니다.\n",
    "\n",
    "4. `re_rank` 플래그가 True인 경우, CrossEncoder를 사용하여 결과를 재순위화합니다.\n",
    "   - 쿼리와 각 결과의 텍스트를 조합하여 `sentence_combinations` 리스트를 만듭니다.\n",
    "   - CrossEncoder의 `predict` 메서드를 사용하여 각 조합에 대한 유사도 점수를 계산합니다.\n",
    "   - 유사도 점수를 내림차순으로 정렬합니다.\n",
    "   - `verbose` 플래그가 True인 경우, 재순위화된 결과의 ID, Pinecone 점수, CrossEncoder 점수, 텍스트 일부를 출력합니다.\n",
    "   - 재순위화된 결과를 `final_results` 리스트에 추가합니다.\n",
    "\n",
    "5. `re_rank` 플래그가 False인 경우, Pinecone에서 가져온 결과를 그대로 사용합니다.\n",
    "   - `verbose` 플래그가 True인 경우, 각 결과의 ID, 점수, 텍스트 일부를 출력합니다.\n",
    "   - 결과를 `final_results` 리스트에 추가합니다.\n",
    "\n",
    "6. 최종적으로 `final_results` 리스트를 반환합니다.\n",
    "\n",
    "이 함수는 Pinecone 데이터베이스에서 관련성이 높은 결과를 가져오고, 필요에 따라 CrossEncoder를 사용하여 결과의 순위를 조정합니다. 이를 통해 쿼리와 더 잘 일치하는 결과를 얻을 수 있습니다. `verbose` 플래그를 사용하여 중간 결과를 출력할 수 있으며, `re_rank` 플래그를 사용하여 재순위화 여부를 결정할 수 있습니다."
   ]
  },
  {
   "cell_type": "code",
   "execution_count": 108,
   "id": "414fc2d5",
   "metadata": {},
   "outputs": [],
   "source": [
    "def get_results_from_pinecone(query, top_k=3, re_rank=False, verbose=True, cross_encoder=cross_encoder, use_transformers=False, max_length=512):\n",
    "\n",
    "    results_from_pinecone = query_from_pinecone(query, top_k=top_k)\n",
    "    if not results_from_pinecone:\n",
    "        return []\n",
    "\n",
    "    if verbose:\n",
    "        print(\"Query:\", query)\n",
    "        for result_from_pinecone in results_from_pinecone:\n",
    "            print(f\"Pinecone Result==> {result_from_pinecone['id']}\\t{result_from_pinecone['score']:.2f}\\t{result_from_pinecone['metadata']['text'][:50]}\")\n",
    "    \n",
    "    \n",
    "    final_results = []\n",
    "\n",
    "    if re_rank:\n",
    "        if verbose:\n",
    "            print('Document ID (Hash)\\t\\tRetrieval Score\\tCE Score\\tText')\n",
    "\n",
    "        sentence_combinations = [[query, result_from_pinecone['metadata']['text']] for result_from_pinecone in results_from_pinecone]\n",
    "\n",
    "        # print(sentence_combinations)\n",
    "\n",
    "        # 이러한 조합에 대한 유사도 점수를 계산합니다.\n",
    "        if use_transformers:\n",
    "            similarity_scores = []\n",
    "            for combination in sentence_combinations:\n",
    "                input_text = \" \".join(combination)\n",
    "                score = cross_encoder(input_text[:max_length])[0][\"score\"]\n",
    "                # score = cross_encoder(input_text)[0][\"score\"]\n",
    "                similarity_scores.append(score)\n",
    "        else:\n",
    "            similarity_scores = cross_encoder.predict(sentence_combinations, activation_fct=nn.Sigmoid())\n",
    "\n",
    "        # 점수를 내림차순으로 정렬\n",
    "        sim_scores_argsort = reversed(np.argsort(similarity_scores))\n",
    "\n",
    "        # 점수를 인쇄합니다.\n",
    "        for idx in sim_scores_argsort:\n",
    "            result_from_pinecone = results_from_pinecone[idx]\n",
    "            final_results.append(result_from_pinecone)\n",
    "            if verbose:\n",
    "                print(f\"Reranked Result==> {result_from_pinecone['id']}\\t{result_from_pinecone['score']:.2f}\\t{similarity_scores[idx]:.2f}\\t{result_from_pinecone['metadata']['text'][:50]}\")\n",
    "        return final_results\n",
    "\n",
    "    if verbose:\n",
    "        print('Document ID (Hash)\\t\\tRetrieval Score\\tText')\n",
    "    for result_from_pinecone in results_from_pinecone:\n",
    "        final_results.append(result_from_pinecone)\n",
    "        if verbose:\n",
    "            print(f\"BBB: {result_from_pinecone['id']}\\t{result_from_pinecone['score']:.2f}\\t{result_from_pinecone['metadata']['text'][:50]}\")\n",
    "\n",
    "    return final_results"
   ]
  },
  {
   "cell_type": "code",
   "execution_count": 109,
   "id": "d89bcc77",
   "metadata": {},
   "outputs": [
    {
     "name": "stdout",
     "output_type": "stream",
     "text": [
      "Query: How do z scores work?\n",
      "Pinecone Result==> 439eaa4b375cf7f3b48e34452ea3df58\t0.84\t\n",
      "\n",
      "Let's begin by learning a very  important value \n",
      "Pinecone Result==> 35b7c7fb9aabb0c2dad8d808138871bc\t0.84\t\n",
      "This chart makes it very easy to pick out the ind\n",
      "Pinecone Result==> 3292012bbf240288b4e0cde8d6197bcc\t0.83\t Using the z-score and the\n",
      "empirical rule, we will\n",
      "Document ID (Hash)\t\tRetrieval Score\tCE Score\tText\n"
     ]
    },
    {
     "data": {
      "application/vnd.jupyter.widget-view+json": {
       "model_id": "53dbc45f25584211a978c35ac187ba5c",
       "version_major": 2,
       "version_minor": 0
      },
      "text/plain": [
       "Batches:   0%|          | 0/1 [00:00<?, ?it/s]"
      ]
     },
     "metadata": {},
     "output_type": "display_data"
    },
    {
     "name": "stdout",
     "output_type": "stream",
     "text": [
      "Reranked Result==> 3292012bbf240288b4e0cde8d6197bcc\t0.83\t0.62\t Using the z-score and the\n",
      "empirical rule, we will\n",
      "Reranked Result==> 439eaa4b375cf7f3b48e34452ea3df58\t0.84\t0.59\t\n",
      "\n",
      "Let's begin by learning a very  important value \n",
      "Reranked Result==> 35b7c7fb9aabb0c2dad8d808138871bc\t0.84\t0.36\t\n",
      "This chart makes it very easy to pick out the ind\n"
     ]
    }
   ],
   "source": [
    "query = 'How do z scores work?'\n",
    "final_results = get_results_from_pinecone(query, top_k=3, re_rank=True, verbose=True, use_transformers=False)"
   ]
  },
  {
   "cell_type": "code",
   "execution_count": 110,
   "id": "ad538a2f-c626-4029-99ac-f559c0acd211",
   "metadata": {},
   "outputs": [
    {
     "name": "stdout",
     "output_type": "stream",
     "text": [
      "Query: How do z scores work?\n",
      "Pinecone Result==> 439eaa4b375cf7f3b48e34452ea3df58\t0.84\t\n",
      "\n",
      "Let's begin by learning a very  important value \n",
      "Pinecone Result==> 35b7c7fb9aabb0c2dad8d808138871bc\t0.83\t\n",
      "This chart makes it very easy to pick out the ind\n",
      "Pinecone Result==> 3292012bbf240288b4e0cde8d6197bcc\t0.83\t Using the z-score and the\n",
      "empirical rule, we will\n",
      "Document ID (Hash)\t\tRetrieval Score\tCE Score\tText\n",
      "Reranked Result==> 35b7c7fb9aabb0c2dad8d808138871bc\t0.83\t0.53\t\n",
      "This chart makes it very easy to pick out the ind\n",
      "Reranked Result==> 3292012bbf240288b4e0cde8d6197bcc\t0.83\t0.53\t Using the z-score and the\n",
      "empirical rule, we will\n",
      "Reranked Result==> 439eaa4b375cf7f3b48e34452ea3df58\t0.84\t0.53\t\n",
      "\n",
      "Let's begin by learning a very  important value \n"
     ]
    }
   ],
   "source": [
    "final_results = get_results_from_pinecone(query, top_k=3, re_rank=True, verbose=True, cross_encoder=pipeline_encoder, use_transformers=True)"
   ]
  },
  {
   "cell_type": "code",
   "execution_count": 112,
   "id": "3774f47f-c883-43d9-8d7a-048c1144e798",
   "metadata": {},
   "outputs": [
    {
     "name": "stdout",
     "output_type": "stream",
     "text": [
      "Query: 그리드는 어떤 컴포넌트인가요?\n",
      "Pinecone Result==> 0d33226e2d5cfc3d850e6c8acfe2611c\t0.83\t3. 1.  권장 \n",
      "모바일웹개발에권장되는컴포넌트는 아래와같습니다.  \n",
      "●CheckBox ●\n",
      "Pinecone Result==> ce09866ca69ec215f9258032fb056598\t0.83\t \n",
      "동일한ID의컴포넌트가 여러개존재할경우미리보기를 할수없습니다.  \n",
      "7. 11. 4.  D\n",
      "Pinecone Result==> 95f508bd40f24cddd0148fa1b5a14729\t0.82\t \n",
      "그림7-28컴포넌트퀵툴바 \n",
      "\n",
      "\n",
      "29\n",
      "GridView의 경우,컬럼을선택한후스페이스바를 누\n",
      "Document ID (Hash)\t\tRetrieval Score\tCE Score\tText\n"
     ]
    },
    {
     "data": {
      "application/vnd.jupyter.widget-view+json": {
       "model_id": "873c837303d34b818d66275083ac1b3e",
       "version_major": 2,
       "version_minor": 0
      },
      "text/plain": [
       "Batches:   0%|          | 0/1 [00:00<?, ?it/s]"
      ]
     },
     "metadata": {},
     "output_type": "display_data"
    },
    {
     "name": "stdout",
     "output_type": "stream",
     "text": [
      "Reranked Result==> 0d33226e2d5cfc3d850e6c8acfe2611c\t0.83\t0.60\t3. 1.  권장 \n",
      "모바일웹개발에권장되는컴포넌트는 아래와같습니다.  \n",
      "●CheckBox ●\n",
      "Reranked Result==> 95f508bd40f24cddd0148fa1b5a14729\t0.82\t0.48\t \n",
      "그림7-28컴포넌트퀵툴바 \n",
      "\n",
      "\n",
      "29\n",
      "GridView의 경우,컬럼을선택한후스페이스바를 누\n",
      "Reranked Result==> ce09866ca69ec215f9258032fb056598\t0.83\t0.23\t \n",
      "동일한ID의컴포넌트가 여러개존재할경우미리보기를 할수없습니다.  \n",
      "7. 11. 4.  D\n"
     ]
    }
   ],
   "source": [
    "query = '그리드는 어떤 컴포넌트인가요?'\n",
    "final_results = get_results_from_pinecone(query, top_k=3, re_rank=True, verbose=True, use_transformers=False)"
   ]
  },
  {
   "cell_type": "code",
   "execution_count": 113,
   "id": "8af04432-24e7-49b0-a7bd-f6812f0df6ba",
   "metadata": {},
   "outputs": [
    {
     "name": "stdout",
     "output_type": "stream",
     "text": [
      "Query: 그리드는 어떤 컴포넌트인가요?\n",
      "Pinecone Result==> 0d33226e2d5cfc3d850e6c8acfe2611c\t0.83\t3. 1.  권장 \n",
      "모바일웹개발에권장되는컴포넌트는 아래와같습니다.  \n",
      "●CheckBox ●\n",
      "Pinecone Result==> ce09866ca69ec215f9258032fb056598\t0.83\t \n",
      "동일한ID의컴포넌트가 여러개존재할경우미리보기를 할수없습니다.  \n",
      "7. 11. 4.  D\n",
      "Pinecone Result==> 95f508bd40f24cddd0148fa1b5a14729\t0.82\t \n",
      "그림7-28컴포넌트퀵툴바 \n",
      "\n",
      "\n",
      "29\n",
      "GridView의 경우,컬럼을선택한후스페이스바를 누\n",
      "Document ID (Hash)\t\tRetrieval Score\tCE Score\tText\n",
      "Reranked Result==> 0d33226e2d5cfc3d850e6c8acfe2611c\t0.83\t0.54\t3. 1.  권장 \n",
      "모바일웹개발에권장되는컴포넌트는 아래와같습니다.  \n",
      "●CheckBox ●\n",
      "Reranked Result==> 95f508bd40f24cddd0148fa1b5a14729\t0.82\t0.54\t \n",
      "그림7-28컴포넌트퀵툴바 \n",
      "\n",
      "\n",
      "29\n",
      "GridView의 경우,컬럼을선택한후스페이스바를 누\n",
      "Reranked Result==> ce09866ca69ec215f9258032fb056598\t0.83\t0.54\t \n",
      "동일한ID의컴포넌트가 여러개존재할경우미리보기를 할수없습니다.  \n",
      "7. 11. 4.  D\n"
     ]
    }
   ],
   "source": [
    "final_results = get_results_from_pinecone(query, top_k=3, re_rank=True, verbose=True, cross_encoder=pipeline_encoder, use_transformers=True)"
   ]
  },
  {
   "cell_type": "code",
   "execution_count": 114,
   "id": "b354da75-ccef-4f64-8feb-face489142d5",
   "metadata": {},
   "outputs": [
    {
     "name": "stdout",
     "output_type": "stream",
     "text": [
      "Query: How do z scores work?\n",
      "Pinecone Result==> 439eaa4b375cf7f3b48e34452ea3df58\t0.84\t\n",
      "\n",
      "Let's begin by learning a very  important value \n",
      "Pinecone Result==> 35b7c7fb9aabb0c2dad8d808138871bc\t0.84\t\n",
      "This chart makes it very easy to pick out the ind\n",
      "Pinecone Result==> 3292012bbf240288b4e0cde8d6197bcc\t0.83\t Using the z-score and the\n",
      "empirical rule, we will\n",
      "Pinecone Result==> 0914b8d2847049fe675f39c5680ff2e2\t0.81\t It is important to note that by doing this, the p\n",
      "Pinecone Result==> ca34cce37134ae70556b6fd541becba5\t0.80\t\n",
      "Everything from how we obtain/sample data to how \n",
      "Pinecone Result==> dd87b4adeb2aefea7c946922b5256f04\t0.79\t96, meaning that we can expect something between\n",
      "1\n",
      "Pinecone Result==> 87ddb7aacd3c77bd18906c45b7709fa2\t0.79\t75\n",
      "# finding the percentage of people within two s\n",
      "Pinecone Result==> c658051c8f0520ed7bd8cea5d086aa0c\t0.79\t05 (our chosen significance level), which means th\n",
      "Pinecone Result==> eb06c205bb7b419d2bba0ff1929491cf\t0.79\t\n",
      "First, we should prove that this is a binomial se\n",
      "Pinecone Result==> 04947b1d3177882fd4aadceb6108656a\t0.79\t For example, if we have a die and we are testing\n",
      "\n",
      "Document ID (Hash)\t\tRetrieval Score\tCE Score\tText\n"
     ]
    },
    {
     "data": {
      "application/vnd.jupyter.widget-view+json": {
       "model_id": "c5009f13d362420ebfad12787b3e8e7b",
       "version_major": 2,
       "version_minor": 0
      },
      "text/plain": [
       "Batches:   0%|          | 0/1 [00:00<?, ?it/s]"
      ]
     },
     "metadata": {},
     "output_type": "display_data"
    },
    {
     "name": "stdout",
     "output_type": "stream",
     "text": [
      "Reranked Result==> 3292012bbf240288b4e0cde8d6197bcc\t0.83\t0.62\t Using the z-score and the\n",
      "empirical rule, we will\n",
      "Reranked Result==> 439eaa4b375cf7f3b48e34452ea3df58\t0.84\t0.59\t\n",
      "\n",
      "Let's begin by learning a very  important value \n",
      "Reranked Result==> 0914b8d2847049fe675f39c5680ff2e2\t0.81\t0.48\t It is important to note that by doing this, the p\n",
      "Reranked Result==> 35b7c7fb9aabb0c2dad8d808138871bc\t0.84\t0.36\t\n",
      "This chart makes it very easy to pick out the ind\n",
      "Reranked Result==> ca34cce37134ae70556b6fd541becba5\t0.80\t0.31\t\n",
      "Everything from how we obtain/sample data to how \n",
      "Reranked Result==> 87ddb7aacd3c77bd18906c45b7709fa2\t0.79\t0.26\t75\n",
      "# finding the percentage of people within two s\n",
      "Reranked Result==> dd87b4adeb2aefea7c946922b5256f04\t0.79\t0.04\t96, meaning that we can expect something between\n",
      "1\n",
      "Reranked Result==> c658051c8f0520ed7bd8cea5d086aa0c\t0.79\t0.03\t05 (our chosen significance level), which means th\n",
      "Reranked Result==> 04947b1d3177882fd4aadceb6108656a\t0.79\t0.03\t For example, if we have a die and we are testing\n",
      "\n",
      "Reranked Result==> eb06c205bb7b419d2bba0ff1929491cf\t0.79\t0.03\t\n",
      "First, we should prove that this is a binomial se\n"
     ]
    }
   ],
   "source": [
    "query = 'How do z scores work?'\n",
    "final_results = get_results_from_pinecone(query, top_k=10, re_rank=True, use_transformers=False)"
   ]
  },
  {
   "cell_type": "code",
   "execution_count": 115,
   "id": "f90647e8-2ef1-45bb-badf-50cae6e94e16",
   "metadata": {
    "scrolled": true
   },
   "outputs": [
    {
     "name": "stdout",
     "output_type": "stream",
     "text": [
      "Query: How do z scores work?\n",
      "Pinecone Result==> 439eaa4b375cf7f3b48e34452ea3df58\t0.84\t\n",
      "\n",
      "Let's begin by learning a very  important value \n",
      "Pinecone Result==> 35b7c7fb9aabb0c2dad8d808138871bc\t0.84\t\n",
      "This chart makes it very easy to pick out the ind\n",
      "Pinecone Result==> 3292012bbf240288b4e0cde8d6197bcc\t0.83\t Using the z-score and the\n",
      "empirical rule, we will\n",
      "Pinecone Result==> 0914b8d2847049fe675f39c5680ff2e2\t0.81\t It is important to note that by doing this, the p\n",
      "Pinecone Result==> ca34cce37134ae70556b6fd541becba5\t0.80\t\n",
      "Everything from how we obtain/sample data to how \n",
      "Pinecone Result==> dd87b4adeb2aefea7c946922b5256f04\t0.79\t96, meaning that we can expect something between\n",
      "1\n",
      "Pinecone Result==> 87ddb7aacd3c77bd18906c45b7709fa2\t0.79\t75\n",
      "# finding the percentage of people within two s\n",
      "Pinecone Result==> c658051c8f0520ed7bd8cea5d086aa0c\t0.79\t05 (our chosen significance level), which means th\n",
      "Pinecone Result==> eb06c205bb7b419d2bba0ff1929491cf\t0.79\t\n",
      "First, we should prove that this is a binomial se\n",
      "Pinecone Result==> 04947b1d3177882fd4aadceb6108656a\t0.79\t For example, if we have a die and we are testing\n",
      "\n",
      "Document ID (Hash)\t\tRetrieval Score\tCE Score\tText\n",
      "Reranked Result==> eb06c205bb7b419d2bba0ff1929491cf\t0.79\t0.54\t\n",
      "First, we should prove that this is a binomial se\n",
      "Reranked Result==> 0914b8d2847049fe675f39c5680ff2e2\t0.81\t0.54\t It is important to note that by doing this, the p\n",
      "Reranked Result==> 87ddb7aacd3c77bd18906c45b7709fa2\t0.79\t0.53\t75\n",
      "# finding the percentage of people within two s\n",
      "Reranked Result==> 35b7c7fb9aabb0c2dad8d808138871bc\t0.84\t0.53\t\n",
      "This chart makes it very easy to pick out the ind\n",
      "Reranked Result==> 3292012bbf240288b4e0cde8d6197bcc\t0.83\t0.53\t Using the z-score and the\n",
      "empirical rule, we will\n",
      "Reranked Result==> 439eaa4b375cf7f3b48e34452ea3df58\t0.84\t0.53\t\n",
      "\n",
      "Let's begin by learning a very  important value \n",
      "Reranked Result==> c658051c8f0520ed7bd8cea5d086aa0c\t0.79\t0.53\t05 (our chosen significance level), which means th\n",
      "Reranked Result==> ca34cce37134ae70556b6fd541becba5\t0.80\t0.53\t\n",
      "Everything from how we obtain/sample data to how \n",
      "Reranked Result==> dd87b4adeb2aefea7c946922b5256f04\t0.79\t0.53\t96, meaning that we can expect something between\n",
      "1\n",
      "Reranked Result==> 04947b1d3177882fd4aadceb6108656a\t0.79\t0.52\t For example, if we have a die and we are testing\n",
      "\n"
     ]
    }
   ],
   "source": [
    "final_results = get_results_from_pinecone(query, top_k=10, re_rank=True, cross_encoder=pipeline_encoder, use_transformers=True)"
   ]
  },
  {
   "cell_type": "code",
   "execution_count": 116,
   "id": "a3c9922f",
   "metadata": {
    "scrolled": true
   },
   "outputs": [
    {
     "name": "stdout",
     "output_type": "stream",
     "text": [
      "Query: 그리드는 어떤 컴포넌트인가요?\n",
      "Pinecone Result==> 0d33226e2d5cfc3d850e6c8acfe2611c\t0.83\t3. 1.  권장 \n",
      "모바일웹개발에권장되는컴포넌트는 아래와같습니다.  \n",
      "●CheckBox ●\n",
      "Pinecone Result==> ce09866ca69ec215f9258032fb056598\t0.83\t \n",
      "동일한ID의컴포넌트가 여러개존재할경우미리보기를 할수없습니다.  \n",
      "7. 11. 4.  D\n",
      "Pinecone Result==> 95f508bd40f24cddd0148fa1b5a14729\t0.82\t \n",
      "그림7-28컴포넌트퀵툴바 \n",
      "\n",
      "\n",
      "29\n",
      "GridView의 경우,컬럼을선택한후스페이스바를 누\n",
      "Pinecone Result==> 029d7984aa5e95c89d96cff52ee17d61\t0.82\tDesign 뷰에서직접마우스드래그하여 컴포넌트의 위치와크기를결정합니다.  (더블클릭할경우해\n",
      "Pinecone Result==> 9a67165ce1508b47f0be0810c24023b4\t0.82\t 관련컴포넌트 \n",
      "●아래와같은선택컴포넌트의 경우선택대상항목을지정해야합니다. 브라우저는 개발자\n",
      "Pinecone Result==> b115fe5b0485485fcbae9be03655f83f\t0.82\t표편집 \n",
      "GridView나 TableLayout과 같은표형식컴포넌트의 경우,아래의아이콘을사\n",
      "Pinecone Result==> 643508429198e45aa6836d86e4b5f0fc\t0.82\t \n",
      "■모바일환경에서셀터치로목록열기/닫기 추가.  \n",
      "○모바일추가.  \n",
      "○여러개의GridVie\n",
      "Pinecone Result==> e57f4b73ba97e453b7a243694a97097c\t0.82\t \n",
      "그림16-3닫기버튼 \n",
      "예제파일 \n",
      "인터넷에서 다운로드 혹은 \n",
      "WEBSQUARE_DEV_P\n",
      "Pinecone Result==> cf4c0fe136cf53d8f18b241289f54714\t0.82\t6.  그리드 대량데이터 \n",
      " 원인 해결방안 ●10만셀이상의데이터를사용하는경우 ●환경에맞게적\n",
      "Pinecone Result==> 4e5e8bb9c493de4dd7d7100fa3c582e6\t0.82\t \n",
      " \n",
      "●TextBox 컴포넌트추가.  \n",
      "●(해당없음. ) \n",
      " \n",
      " \n",
      " \n",
      "\n",
      "30\n",
      " *Span\n",
      "Document ID (Hash)\t\tRetrieval Score\tCE Score\tText\n"
     ]
    },
    {
     "data": {
      "application/vnd.jupyter.widget-view+json": {
       "model_id": "0019dd30e0c24128a6937256d3f40121",
       "version_major": 2,
       "version_minor": 0
      },
      "text/plain": [
       "Batches:   0%|          | 0/1 [00:00<?, ?it/s]"
      ]
     },
     "metadata": {},
     "output_type": "display_data"
    },
    {
     "name": "stdout",
     "output_type": "stream",
     "text": [
      "Reranked Result==> 0d33226e2d5cfc3d850e6c8acfe2611c\t0.83\t0.60\t3. 1.  권장 \n",
      "모바일웹개발에권장되는컴포넌트는 아래와같습니다.  \n",
      "●CheckBox ●\n",
      "Reranked Result==> 4e5e8bb9c493de4dd7d7100fa3c582e6\t0.82\t0.59\t \n",
      " \n",
      "●TextBox 컴포넌트추가.  \n",
      "●(해당없음. ) \n",
      " \n",
      " \n",
      " \n",
      "\n",
      "30\n",
      " *Span\n",
      "Reranked Result==> 95f508bd40f24cddd0148fa1b5a14729\t0.82\t0.48\t \n",
      "그림7-28컴포넌트퀵툴바 \n",
      "\n",
      "\n",
      "29\n",
      "GridView의 경우,컬럼을선택한후스페이스바를 누\n",
      "Reranked Result==> b115fe5b0485485fcbae9be03655f83f\t0.82\t0.44\t표편집 \n",
      "GridView나 TableLayout과 같은표형식컴포넌트의 경우,아래의아이콘을사\n",
      "Reranked Result==> cf4c0fe136cf53d8f18b241289f54714\t0.82\t0.43\t6.  그리드 대량데이터 \n",
      " 원인 해결방안 ●10만셀이상의데이터를사용하는경우 ●환경에맞게적\n",
      "Reranked Result==> 029d7984aa5e95c89d96cff52ee17d61\t0.82\t0.40\tDesign 뷰에서직접마우스드래그하여 컴포넌트의 위치와크기를결정합니다.  (더블클릭할경우해\n",
      "Reranked Result==> e57f4b73ba97e453b7a243694a97097c\t0.82\t0.38\t \n",
      "그림16-3닫기버튼 \n",
      "예제파일 \n",
      "인터넷에서 다운로드 혹은 \n",
      "WEBSQUARE_DEV_P\n",
      "Reranked Result==> ce09866ca69ec215f9258032fb056598\t0.83\t0.23\t \n",
      "동일한ID의컴포넌트가 여러개존재할경우미리보기를 할수없습니다.  \n",
      "7. 11. 4.  D\n",
      "Reranked Result==> 9a67165ce1508b47f0be0810c24023b4\t0.82\t0.22\t 관련컴포넌트 \n",
      "●아래와같은선택컴포넌트의 경우선택대상항목을지정해야합니다. 브라우저는 개발자\n",
      "Reranked Result==> 643508429198e45aa6836d86e4b5f0fc\t0.82\t0.16\t \n",
      "■모바일환경에서셀터치로목록열기/닫기 추가.  \n",
      "○모바일추가.  \n",
      "○여러개의GridVie\n"
     ]
    }
   ],
   "source": [
    "query = '그리드는 어떤 컴포넌트인가요?'\n",
    "final_results = get_results_from_pinecone(query, top_k=10, re_rank=True, use_transformers=False)"
   ]
  },
  {
   "cell_type": "code",
   "execution_count": 117,
   "id": "b1b2c4f0-d3e8-4616-87d3-1c218604aa47",
   "metadata": {
    "scrolled": true
   },
   "outputs": [
    {
     "name": "stdout",
     "output_type": "stream",
     "text": [
      "Query: 그리드는 어떤 컴포넌트인가요?\n",
      "Pinecone Result==> 0d33226e2d5cfc3d850e6c8acfe2611c\t0.83\t3. 1.  권장 \n",
      "모바일웹개발에권장되는컴포넌트는 아래와같습니다.  \n",
      "●CheckBox ●\n",
      "Pinecone Result==> ce09866ca69ec215f9258032fb056598\t0.83\t \n",
      "동일한ID의컴포넌트가 여러개존재할경우미리보기를 할수없습니다.  \n",
      "7. 11. 4.  D\n",
      "Pinecone Result==> 95f508bd40f24cddd0148fa1b5a14729\t0.82\t \n",
      "그림7-28컴포넌트퀵툴바 \n",
      "\n",
      "\n",
      "29\n",
      "GridView의 경우,컬럼을선택한후스페이스바를 누\n",
      "Pinecone Result==> 029d7984aa5e95c89d96cff52ee17d61\t0.82\tDesign 뷰에서직접마우스드래그하여 컴포넌트의 위치와크기를결정합니다.  (더블클릭할경우해\n",
      "Pinecone Result==> 9a67165ce1508b47f0be0810c24023b4\t0.82\t 관련컴포넌트 \n",
      "●아래와같은선택컴포넌트의 경우선택대상항목을지정해야합니다. 브라우저는 개발자\n",
      "Pinecone Result==> b115fe5b0485485fcbae9be03655f83f\t0.82\t표편집 \n",
      "GridView나 TableLayout과 같은표형식컴포넌트의 경우,아래의아이콘을사\n",
      "Pinecone Result==> 643508429198e45aa6836d86e4b5f0fc\t0.82\t \n",
      "■모바일환경에서셀터치로목록열기/닫기 추가.  \n",
      "○모바일추가.  \n",
      "○여러개의GridVie\n",
      "Pinecone Result==> e57f4b73ba97e453b7a243694a97097c\t0.82\t \n",
      "그림16-3닫기버튼 \n",
      "예제파일 \n",
      "인터넷에서 다운로드 혹은 \n",
      "WEBSQUARE_DEV_P\n",
      "Pinecone Result==> cf4c0fe136cf53d8f18b241289f54714\t0.82\t6.  그리드 대량데이터 \n",
      " 원인 해결방안 ●10만셀이상의데이터를사용하는경우 ●환경에맞게적\n",
      "Pinecone Result==> 4e5e8bb9c493de4dd7d7100fa3c582e6\t0.82\t \n",
      " \n",
      "●TextBox 컴포넌트추가.  \n",
      "●(해당없음. ) \n",
      " \n",
      " \n",
      " \n",
      "\n",
      "30\n",
      " *Span\n",
      "Document ID (Hash)\t\tRetrieval Score\tCE Score\tText\n",
      "Reranked Result==> cf4c0fe136cf53d8f18b241289f54714\t0.82\t0.55\t6.  그리드 대량데이터 \n",
      " 원인 해결방안 ●10만셀이상의데이터를사용하는경우 ●환경에맞게적\n",
      "Reranked Result==> b115fe5b0485485fcbae9be03655f83f\t0.82\t0.54\t표편집 \n",
      "GridView나 TableLayout과 같은표형식컴포넌트의 경우,아래의아이콘을사\n",
      "Reranked Result==> 0d33226e2d5cfc3d850e6c8acfe2611c\t0.83\t0.54\t3. 1.  권장 \n",
      "모바일웹개발에권장되는컴포넌트는 아래와같습니다.  \n",
      "●CheckBox ●\n",
      "Reranked Result==> 9a67165ce1508b47f0be0810c24023b4\t0.82\t0.54\t 관련컴포넌트 \n",
      "●아래와같은선택컴포넌트의 경우선택대상항목을지정해야합니다. 브라우저는 개발자\n",
      "Reranked Result==> 95f508bd40f24cddd0148fa1b5a14729\t0.82\t0.54\t \n",
      "그림7-28컴포넌트퀵툴바 \n",
      "\n",
      "\n",
      "29\n",
      "GridView의 경우,컬럼을선택한후스페이스바를 누\n",
      "Reranked Result==> 4e5e8bb9c493de4dd7d7100fa3c582e6\t0.82\t0.54\t \n",
      " \n",
      "●TextBox 컴포넌트추가.  \n",
      "●(해당없음. ) \n",
      " \n",
      " \n",
      " \n",
      "\n",
      "30\n",
      " *Span\n",
      "Reranked Result==> e57f4b73ba97e453b7a243694a97097c\t0.82\t0.54\t \n",
      "그림16-3닫기버튼 \n",
      "예제파일 \n",
      "인터넷에서 다운로드 혹은 \n",
      "WEBSQUARE_DEV_P\n",
      "Reranked Result==> ce09866ca69ec215f9258032fb056598\t0.83\t0.54\t \n",
      "동일한ID의컴포넌트가 여러개존재할경우미리보기를 할수없습니다.  \n",
      "7. 11. 4.  D\n",
      "Reranked Result==> 029d7984aa5e95c89d96cff52ee17d61\t0.82\t0.54\tDesign 뷰에서직접마우스드래그하여 컴포넌트의 위치와크기를결정합니다.  (더블클릭할경우해\n",
      "Reranked Result==> 643508429198e45aa6836d86e4b5f0fc\t0.82\t0.54\t \n",
      "■모바일환경에서셀터치로목록열기/닫기 추가.  \n",
      "○모바일추가.  \n",
      "○여러개의GridVie\n"
     ]
    }
   ],
   "source": [
    "final_results = get_results_from_pinecone(query, top_k=10, re_rank=True, cross_encoder=pipeline_encoder, use_transformers=True)"
   ]
  },
  {
   "cell_type": "markdown",
   "id": "5e9504b5-004b-463a-998d-50729ee9872c",
   "metadata": {},
   "source": [
    "## 1.7 파인콘 데이터삭제"
   ]
  },
  {
   "cell_type": "code",
   "execution_count": 118,
   "id": "c018b64d",
   "metadata": {},
   "outputs": [
    {
     "data": {
      "text/plain": [
       "{}"
      ]
     },
     "execution_count": 118,
     "metadata": {},
     "output_type": "execute_result"
    }
   ],
   "source": [
    "delete_texts_from_pinecone(pruned_documents[:800])\n",
    "delete_texts_from_pinecone(pruned_documents[800:])\n",
    "delete_texts_from_pinecone(split[:800])\n",
    "delete_texts_from_pinecone(split[800:])"
   ]
  },
  {
   "cell_type": "markdown",
   "id": "79e1caf7",
   "metadata": {},
   "source": [
    "# 2. BoolQ 데이터셋을 이용한 성능 검증"
   ]
  },
  {
   "cell_type": "code",
   "execution_count": 119,
   "id": "62e28784",
   "metadata": {},
   "outputs": [],
   "source": [
    "from datasets import load_dataset\n",
    "from evaluate import load\n",
    "\n",
    "\n",
    "dataset = load_dataset(\"boolq\")"
   ]
  },
  {
   "cell_type": "code",
   "execution_count": 120,
   "id": "e6773457",
   "metadata": {},
   "outputs": [
    {
     "data": {
      "text/plain": [
       "{'question': 'does ethanol take more energy make that produces',\n",
       " 'answer': False,\n",
       " 'passage': \"All biomass goes through at least some of these steps: it needs to be grown, collected, dried, fermented, distilled, and burned. All of these steps require resources and an infrastructure. The total amount of energy input into the process compared to the energy released by burning the resulting ethanol fuel is known as the energy balance (or ``energy returned on energy invested''). Figures compiled in a 2007 report by National Geographic Magazine point to modest results for corn ethanol produced in the US: one unit of fossil-fuel energy is required to create 1.3 energy units from the resulting ethanol. The energy balance for sugarcane ethanol produced in Brazil is more favorable, with one unit of fossil-fuel energy required to create 8 from the ethanol. Energy balance estimates are not easily produced, thus numerous such reports have been generated that are contradictory. For instance, a separate survey reports that production of ethanol from sugarcane, which requires a tropical climate to grow productively, returns from 8 to 9 units of energy for each unit expended, as compared to corn, which only returns about 1.34 units of fuel energy for each unit of energy expended. A 2006 University of California Berkeley study, after analyzing six separate studies, concluded that producing ethanol from corn uses much less petroleum than producing gasoline.\"}"
      ]
     },
     "execution_count": 120,
     "metadata": {},
     "output_type": "execute_result"
    }
   ],
   "source": [
    "dataset['validation'][0]"
   ]
  },
  {
   "cell_type": "markdown",
   "id": "821413f7-e63d-41ed-b8e1-e12d18750ba7",
   "metadata": {},
   "source": [
    "## 2.1 BoolQ 데이터셋의 설명(passage)을 Pinecone에 저장"
   ]
  },
  {
   "cell_type": "code",
   "execution_count": 121,
   "id": "0221343a",
   "metadata": {},
   "outputs": [
    {
     "name": "stderr",
     "output_type": "stream",
     "text": [
      "100%|████████████████████████████████████████████████████████████████████████████| 26/26 [01:25<00:00,  3.29s/it]\n"
     ]
    }
   ],
   "source": [
    "for idx in tqdm(range(0, len(dataset['validation']), 128)):\n",
    "    data_sample = dataset['validation'][idx:idx + 128]\n",
    "\n",
    "    passages = data_sample['passage']\n",
    "    # delete_texts_from_pinecone(passages)\n",
    "    upload_texts_to_pinecone(passages)"
   ]
  },
  {
   "cell_type": "code",
   "execution_count": 122,
   "id": "c20f66e1",
   "metadata": {},
   "outputs": [
    {
     "name": "stdout",
     "output_type": "stream",
     "text": [
      "does caesar live in dawn of the planet of the apes\n",
      "Query: does caesar live in dawn of the planet of the apes\n",
      "Pinecone Result==> 364688074530d43de825592b1837568b\t0.80\tMalcolm and Caesar acknowledge their friendship, w\n",
      "Pinecone Result==> e54eeaa5d9eb793c34cc0fc6a2cf8d39\t0.73\tIn most of the film, Joe was portrayed by creature\n",
      "Pinecone Result==> e1de96dda4c5cca3d8ba85fc7883a87d\t0.73\tFollowing the events of The Rise of Cobra, Duke (C\n",
      "Document ID (Hash)\t\tRetrieval Score\tCE Score\tText\n"
     ]
    },
    {
     "data": {
      "application/vnd.jupyter.widget-view+json": {
       "model_id": "4bbb19e343a14f9a84c7710cbda4d300",
       "version_major": 2,
       "version_minor": 0
      },
      "text/plain": [
       "Batches:   0%|          | 0/1 [00:00<?, ?it/s]"
      ]
     },
     "metadata": {},
     "output_type": "display_data"
    },
    {
     "name": "stdout",
     "output_type": "stream",
     "text": [
      "Reranked Result==> 364688074530d43de825592b1837568b\t0.80\t0.64\tMalcolm and Caesar acknowledge their friendship, w\n",
      "Reranked Result==> e54eeaa5d9eb793c34cc0fc6a2cf8d39\t0.73\t0.12\tIn most of the film, Joe was portrayed by creature\n",
      "Reranked Result==> e1de96dda4c5cca3d8ba85fc7883a87d\t0.73\t0.10\tFollowing the events of The Rise of Cobra, Duke (C\n"
     ]
    }
   ],
   "source": [
    "from random import sample\n",
    "\n",
    "query = sample(dataset['validation']['question'], 1)[0]\n",
    "print(query)\n",
    "final_results = get_results_from_pinecone(query, top_k=3, re_rank=True)\n"
   ]
  },
  {
   "cell_type": "markdown",
   "id": "127da6cf-1c39-45f8-8a64-31a7bd87a0d9",
   "metadata": {},
   "source": [
    "## 2.2 질문(question)을 키로 하여 설명(passage)에 대한 hash 값을 추출하여 저장"
   ]
  },
  {
   "cell_type": "code",
   "execution_count": 123,
   "id": "e1e27222",
   "metadata": {},
   "outputs": [
    {
     "data": {
      "text/plain": [
       "'364688074530d43de825592b1837568b'"
      ]
     },
     "execution_count": 123,
     "metadata": {},
     "output_type": "execute_result"
    }
   ],
   "source": [
    "q_to_hash = {data['question']: my_hash(data['passage']) for data in dataset['validation']}\n",
    "\n",
    "q_to_hash[query]"
   ]
  },
  {
   "cell_type": "code",
   "execution_count": 124,
   "id": "3340827a-05e0-469e-b2ae-7892a647f4e4",
   "metadata": {},
   "outputs": [
    {
     "data": {
      "text/plain": [
       "3270"
      ]
     },
     "execution_count": 124,
     "metadata": {},
     "output_type": "execute_result"
    }
   ],
   "source": [
    "len(dataset['validation'])"
   ]
  },
  {
   "cell_type": "code",
   "execution_count": 125,
   "id": "a63ec53e",
   "metadata": {},
   "outputs": [],
   "source": [
    "# super_glue_metric = load('super_glue', 'boolq') # 정확도만 확인합니다.\n",
    "\n",
    "# 1000개의 유효성 검사 데이터 포인트에 대한 성능 재순위를 테스트해 보겠습니다.\n",
    "# 여기서는 속도를 높이기 위해 Pinecone을 사용할 수 없습니다.\n",
    "# 하지만 Pinecone으로 파이프라인의 지연 시간을 테스트하기에도 좋은 시기입니다.\n",
    "val_sample = dataset['validation'][:100]"
   ]
  },
  {
   "cell_type": "markdown",
   "id": "ed319e2b-c00c-4aee-9691-a5a0259df5e2",
   "metadata": {},
   "source": [
    "## 2.3 embedding을 이용한 데이터 조회의 정확도 검증"
   ]
  },
  {
   "cell_type": "code",
   "execution_count": 126,
   "id": "bfea2ee7",
   "metadata": {},
   "outputs": [
    {
     "name": "stderr",
     "output_type": "stream",
     "text": [
      "100%|██████████████████████████████████████████████████████████████████████████| 100/100 [00:59<00:00,  1.67it/s]"
     ]
    },
    {
     "name": "stdout",
     "output_type": "stream",
     "text": [
      "Accuracy without re-ranking: 0.84\n"
     ]
    },
    {
     "name": "stderr",
     "output_type": "stream",
     "text": [
      "\n"
     ]
    }
   ],
   "source": [
    "logger.setLevel(logging.CRITICAL)\n",
    "\n",
    "predictions = []\n",
    "\n",
    "# Pinecone의 지연 시간이 일관되게 유지되도록 top_k를 동일하게 유지합니다.\n",
    "# 그리고 유일한 큰 시간 차이는 리랭킹에서 발생합니다.\n",
    "for question in tqdm(val_sample['question']):\n",
    "    retrieved_hash = get_results_from_pinecone(question, top_k=1, re_rank=False, verbose=False)[0]['id']\n",
    "    correct_hash = q_to_hash[question]\n",
    "    predictions.append(retrieved_hash == correct_hash)\n",
    "    \n",
    "accuracy = sum(predictions)/len(predictions)\n",
    "\n",
    "print(f'Accuracy without re-ranking: {accuracy}')"
   ]
  },
  {
   "cell_type": "markdown",
   "id": "6146e2dc-8cfa-4e5a-82b7-8e9572311c2f",
   "metadata": {},
   "source": [
    "## 2.4 embedding + reranking을 이용한 데이터 조회의 정확도 검증\n",
    "\n",
    "__rerank와 그렇지 않은 경우의 시간 차이에 유의하세요.__\n",
    "\n",
    "* text-embedding-ada-002\n",
    "    * embedding만 사용하는 경우 0.85\n",
    "    * cross_encoder = CrossEncoder('jeffwan/mmarco-mMiniLMv2-L12-H384-v1') 를 사용하는 경우 0.84\n",
    "    * cross_encoder = CrossEncoder('bongsoo/klue-cross-encoder-v1') 를 사용하는 경우 0.68\n",
    "* text-embedding-3-small'  # OpenAI의 3세대 embedding 모델 (소형)\n",
    "    * embedding만 사용하는 경우 0.88\n",
    "    * cross_encoder = CrossEncoder('jeffwan/mmarco-mMiniLMv2-L12-H384-v1') 를 사용하는 경우 0.86\n",
    "    * cross_encoder = CrossEncoder('bongsoo/klue-cross-encoder-v1') 를 사용하는 경우 0.68\n",
    "* text-embedding-3-large'  # OpenAI의 3세대 embedding 모델 (대형)\n",
    "    * embedding만 사용하는 경우  0.93\n",
    "    * cross_encoder = CrossEncoder('jeffwan/mmarco-mMiniLMv2-L12-H384-v1') 를 사용하는 경우 0.87\n",
    "    * cross_encoder = CrossEncoder('bongsoo/klue-cross-encoder-v1') 를 사용하는 경우 0.74"
   ]
  },
  {
   "cell_type": "code",
   "execution_count": 127,
   "id": "b98413a3",
   "metadata": {},
   "outputs": [],
   "source": [
    "cross_encoder1 = CrossEncoder('jeffwan/mmarco-mMiniLMv2-L12-H384-v1')\n",
    "cross_encoder2 = CrossEncoder('cross-encoder/ms-marco-MiniLM-L-6-v2')  # Claude가 추천한 모델\n",
    "cross_encoder3 = CrossEncoder('cross-encoder/ms-marco-MiniLM-L-12-v2')  # Claude가 추천한 모델\n",
    "cross_encoder4 = CrossEncoder('bongsoo/klue-cross-encoder-v1')  # 한국어 지원 모델"
   ]
  },
  {
   "cell_type": "code",
   "execution_count": 128,
   "id": "7c02ab82-70b1-4e42-b50e-c71378bd87c2",
   "metadata": {},
   "outputs": [
    {
     "name": "stderr",
     "output_type": "stream",
     "text": [
      "100%|██████████████████████████████████████████████████████████████████████████| 100/100 [01:22<00:00,  1.22it/s]"
     ]
    },
    {
     "name": "stdout",
     "output_type": "stream",
     "text": [
      "Accuracy with re-ranking(mmarco-mMiniLMv2-L12-H384-v1): 0.84\n"
     ]
    },
    {
     "name": "stderr",
     "output_type": "stream",
     "text": [
      "\n"
     ]
    }
   ],
   "source": [
    "predictions = []\n",
    "\n",
    "# Pinecone의 지연 시간이 일관되게 유지되도록 top_k를 동일하게 유지합니다.\n",
    "# 그리고 유일한 큰 시간 차이는 리랭킹에서 발생합니다.\n",
    "for question in tqdm(val_sample['question']):\n",
    "    retrieved_hash = get_results_from_pinecone(question, top_k=3, re_rank=True, cross_encoder=cross_encoder1, verbose=False)[0]['id']\n",
    "    correct_hash = q_to_hash[question]\n",
    "    predictions.append(retrieved_hash == correct_hash)\n",
    "    \n",
    "accuracy = sum(predictions)/len(predictions)\n",
    "\n",
    "print(f'Accuracy with re-ranking(mmarco-mMiniLMv2-L12-H384-v1): {accuracy}')"
   ]
  },
  {
   "cell_type": "code",
   "execution_count": 129,
   "id": "3f510820-2077-4bbc-85bd-6feb9a76b5c2",
   "metadata": {},
   "outputs": [
    {
     "name": "stderr",
     "output_type": "stream",
     "text": [
      "100%|██████████████████████████████████████████████████████████████████████████| 100/100 [01:07<00:00,  1.49it/s]"
     ]
    },
    {
     "name": "stdout",
     "output_type": "stream",
     "text": [
      "Accuracy with re-ranking(ms-marco-MiniLM-L-6-v2): 0.82\n"
     ]
    },
    {
     "name": "stderr",
     "output_type": "stream",
     "text": [
      "\n"
     ]
    }
   ],
   "source": [
    "predictions = []\n",
    "\n",
    "# Pinecone의 지연 시간이 일관되게 유지되도록 top_k를 동일하게 유지합니다.\n",
    "# 그리고 유일한 큰 시간 차이는 리랭킹에서 발생합니다.\n",
    "for question in tqdm(val_sample['question']):\n",
    "    retrieved_hash = get_results_from_pinecone(question, top_k=3, re_rank=True, cross_encoder=cross_encoder2, verbose=False)[0]['id']\n",
    "    correct_hash = q_to_hash[question]\n",
    "    predictions.append(retrieved_hash == correct_hash)\n",
    "    \n",
    "accuracy = sum(predictions)/len(predictions)\n",
    "\n",
    "print(f'Accuracy with re-ranking(ms-marco-MiniLM-L-6-v2): {accuracy}')"
   ]
  },
  {
   "cell_type": "code",
   "execution_count": 130,
   "id": "37e0c54d-2f4c-46e3-b5d7-2342b7799c01",
   "metadata": {},
   "outputs": [
    {
     "name": "stderr",
     "output_type": "stream",
     "text": [
      "100%|██████████████████████████████████████████████████████████████████████████| 100/100 [00:54<00:00,  1.84it/s]"
     ]
    },
    {
     "name": "stdout",
     "output_type": "stream",
     "text": [
      "Accuracy with re-ranking(ms-marco-MiniLM-L-12-v2): 0.85\n"
     ]
    },
    {
     "name": "stderr",
     "output_type": "stream",
     "text": [
      "\n"
     ]
    }
   ],
   "source": [
    "predictions = []\n",
    "\n",
    "# Pinecone의 지연 시간이 일관되게 유지되도록 top_k를 동일하게 유지합니다.\n",
    "# 그리고 유일한 큰 시간 차이는 리랭킹에서 발생합니다.\n",
    "for question in tqdm(val_sample['question']):\n",
    "    retrieved_hash = get_results_from_pinecone(question, top_k=3, re_rank=True, cross_encoder=cross_encoder3, verbose=False)[0]['id']\n",
    "    correct_hash = q_to_hash[question]\n",
    "    predictions.append(retrieved_hash == correct_hash)\n",
    "    \n",
    "accuracy = sum(predictions)/len(predictions)\n",
    "\n",
    "print(f'Accuracy with re-ranking(ms-marco-MiniLM-L-12-v2): {accuracy}')"
   ]
  },
  {
   "cell_type": "code",
   "execution_count": 131,
   "id": "7700edc7-4d6e-4d7a-aef2-75922e613336",
   "metadata": {},
   "outputs": [
    {
     "name": "stderr",
     "output_type": "stream",
     "text": [
      "100%|██████████████████████████████████████████████████████████████████████████| 100/100 [01:38<00:00,  1.02it/s]"
     ]
    },
    {
     "name": "stdout",
     "output_type": "stream",
     "text": [
      "Accuracy with re-ranking(bongsoo/klue-cross-encoder-v1): 0.68\n"
     ]
    },
    {
     "name": "stderr",
     "output_type": "stream",
     "text": [
      "\n"
     ]
    }
   ],
   "source": [
    "predictions = []\n",
    "\n",
    "# Pinecone의 지연 시간이 일관되게 유지되도록 top_k를 동일하게 유지합니다.\n",
    "# 그리고 유일한 큰 시간 차이는 리랭킹에서 발생합니다.\n",
    "for question in tqdm(val_sample['question']):\n",
    "    retrieved_hash = get_results_from_pinecone(question, top_k=3, re_rank=True, cross_encoder=cross_encoder4, verbose=False)[0]['id']\n",
    "    correct_hash = q_to_hash[question]\n",
    "    predictions.append(retrieved_hash == correct_hash)\n",
    "    \n",
    "accuracy = sum(predictions)/len(predictions)\n",
    "\n",
    "print(f'Accuracy with re-ranking(bongsoo/klue-cross-encoder-v1): {accuracy}')"
   ]
  },
  {
   "cell_type": "code",
   "execution_count": 132,
   "id": "98e8b96e-5186-4814-b5fb-1f166e7dec81",
   "metadata": {},
   "outputs": [
    {
     "name": "stderr",
     "output_type": "stream",
     "text": [
      "100%|██████████████████████████████████████████████████████████████████████████| 100/100 [03:12<00:00,  1.92s/it]"
     ]
    },
    {
     "name": "stdout",
     "output_type": "stream",
     "text": [
      "Accuracy with re-ranking(klue/roberta-large): 0.29\n"
     ]
    },
    {
     "name": "stderr",
     "output_type": "stream",
     "text": [
      "\n"
     ]
    }
   ],
   "source": [
    "predictions = []\n",
    "\n",
    "# Pinecone의 지연 시간이 일관되게 유지되도록 top_k를 동일하게 유지합니다.\n",
    "# 그리고 유일한 큰 시간 차이는 리랭킹에서 발생합니다.\n",
    "for question in tqdm(val_sample['question']):\n",
    "    retrieved_hash = get_results_from_pinecone(question, top_k=3, re_rank=True, cross_encoder=pipeline_encoder, verbose=False, use_transformers=True)[0]['id']\n",
    "    correct_hash = q_to_hash[question]\n",
    "    predictions.append(retrieved_hash == correct_hash)\n",
    "    \n",
    "accuracy = sum(predictions)/len(predictions)\n",
    "\n",
    "print(f'Accuracy with re-ranking(klue/roberta-large): {accuracy}')"
   ]
  },
  {
   "cell_type": "markdown",
   "id": "cc257565-499a-49d1-a3cc-4aefa8d56cf1",
   "metadata": {},
   "source": [
    "## 2.5 embedding과 reranking 비교"
   ]
  },
  {
   "cell_type": "code",
   "execution_count": 133,
   "id": "b4010029",
   "metadata": {},
   "outputs": [],
   "source": [
    "# 사전 학습된 다른 크로스 인코더 시도하기\n",
    "# sentence-transformers/multi-qa-mpnet-base-cos-v1\n",
    "newer_cross_encoder = CrossEncoder('cross-encoder/ms-marco-MiniLM-L-12-v2')"
   ]
  },
  {
   "cell_type": "code",
   "execution_count": 134,
   "id": "086ca98e",
   "metadata": {},
   "outputs": [],
   "source": [
    "def eval_ranking(query, cross_encoder, top_k=3):\n",
    "    results_from_pinecone = query_from_pinecone(query, top_k=top_k)\n",
    "    sentence_combinations = [[query, result_from_pinecone['metadata']['text']] for result_from_pinecone in results_from_pinecone]\n",
    "    similarity_scores = cross_encoder.predict(sentence_combinations)\n",
    "    sim_scores_argsort = list(reversed(np.argsort(similarity_scores)))\n",
    "    re_ranked_final_result = results_from_pinecone[sim_scores_argsort[0]]\n",
    "    return results_from_pinecone[0]['id'], re_ranked_final_result['id']\n"
   ]
  },
  {
   "cell_type": "code",
   "execution_count": 135,
   "id": "d2ac3237-2d99-4109-b4ca-ac1c72fe409e",
   "metadata": {},
   "outputs": [
    {
     "data": {
      "text/plain": [
       "100"
      ]
     },
     "execution_count": 135,
     "metadata": {},
     "output_type": "execute_result"
    }
   ],
   "source": [
    "len(val_sample['question'])"
   ]
  },
  {
   "cell_type": "code",
   "execution_count": 137,
   "id": "104305e0",
   "metadata": {
    "scrolled": true
   },
   "outputs": [
    {
     "name": "stderr",
     "output_type": "stream",
     "text": [
      " 50%|█████████████████████████████████████▌                                     | 50/100 [00:26<00:25,  1.93it/s]"
     ]
    },
    {
     "name": "stdout",
     "output_type": "stream",
     "text": [
      "Step 50\n",
      "Accuracy without re-ranking: 0.88\n",
      "Accuracy with re-ranking: 0.84\n"
     ]
    },
    {
     "name": "stderr",
     "output_type": "stream",
     "text": [
      "100%|██████████████████████████████████████████████████████████████████████████| 100/100 [00:54<00:00,  1.84it/s]"
     ]
    },
    {
     "name": "stdout",
     "output_type": "stream",
     "text": [
      "Step 100\n",
      "Accuracy without re-ranking: 0.84\n",
      "Accuracy with re-ranking: 0.85\n"
     ]
    },
    {
     "name": "stderr",
     "output_type": "stream",
     "text": [
      "\n"
     ]
    }
   ],
   "source": [
    "i = 0\n",
    "print_every = 50\n",
    "predictions = []\n",
    "for question in tqdm(val_sample['question']):\n",
    "    retrieved_hash, reranked_hash = eval_ranking(question, newer_cross_encoder, top_k=3)\n",
    "    correct_hash = q_to_hash[question]\n",
    "    predictions.append((retrieved_hash == correct_hash, reranked_hash == correct_hash))\n",
    "    i += 1\n",
    "    if i % print_every == 0:\n",
    "        print(f'Step {i}')\n",
    "        raw_accuracy = sum([p[0] for p in predictions])/len(predictions)\n",
    "        reranked_accuracy = sum([p[1] for p in predictions])/len(predictions)\n",
    "\n",
    "        print(f'Accuracy without re-ranking: {raw_accuracy}')\n",
    "        print(f'Accuracy with re-ranking: {reranked_accuracy}')"
   ]
  },
  {
   "cell_type": "code",
   "execution_count": 138,
   "id": "502d5e33",
   "metadata": {},
   "outputs": [
    {
     "name": "stdout",
     "output_type": "stream",
     "text": [
      "Using cross-encoder: cross-encoder/ms-marco-MiniLM-L-12-v2\n",
      "Accuracy without re-ranking: 0.84\n",
      "Accuracy with re-ranking: 0.85\n"
     ]
    }
   ],
   "source": [
    "raw_accuracy = sum([p[0] for p in predictions])/len(predictions)\n",
    "reranked_accuracy = sum([p[1] for p in predictions])/len(predictions)\n",
    "\n",
    "print(f'Using cross-encoder: {newer_cross_encoder.config._name_or_path}')\n",
    "print(f'Accuracy without re-ranking: {raw_accuracy}')\n",
    "print(f'Accuracy with re-ranking: {reranked_accuracy}')"
   ]
  },
  {
   "cell_type": "markdown",
   "id": "ea30153c",
   "metadata": {},
   "source": [
    "# 3. CrossEncoder 파인튜닝(reranker)"
   ]
  },
  {
   "cell_type": "code",
   "execution_count": 139,
   "id": "9918c97d",
   "metadata": {},
   "outputs": [],
   "source": [
    "# https://github.com/UKPLab/sentence-transformers/blob/master/examples/training/ms_marco/train_cross-encoder_scratch.py"
   ]
  },
  {
   "cell_type": "markdown",
   "id": "70e4c84f-fa81-4aea-a79b-1bcbb54efe06",
   "metadata": {},
   "source": [
    "## 3.1 학습용 데이터 정리"
   ]
  },
  {
   "cell_type": "code",
   "execution_count": 140,
   "id": "8d8252ba-cf98-4b91-9824-0c6296e8667a",
   "metadata": {},
   "outputs": [
    {
     "data": {
      "text/plain": [
       "DatasetDict({\n",
       "    train: Dataset({\n",
       "        features: ['question', 'answer', 'passage'],\n",
       "        num_rows: 9427\n",
       "    })\n",
       "    validation: Dataset({\n",
       "        features: ['question', 'answer', 'passage'],\n",
       "        num_rows: 3270\n",
       "    })\n",
       "})"
      ]
     },
     "execution_count": 140,
     "metadata": {},
     "output_type": "execute_result"
    }
   ],
   "source": [
    "dataset"
   ]
  },
  {
   "cell_type": "code",
   "execution_count": 141,
   "id": "508edaf6",
   "metadata": {},
   "outputs": [
    {
     "data": {
      "text/plain": [
       "{'question': 'do iran and afghanistan speak the same language',\n",
       " 'answer': True,\n",
       " 'passage': 'Persian (/ˈpɜːrʒən, -ʃən/), also known by its endonym Farsi (فارسی fārsi (fɒːɾˈsiː) ( listen)), is one of the Western Iranian languages within the Indo-Iranian branch of the Indo-European language family. It is primarily spoken in Iran, Afghanistan (officially known as Dari since 1958), and Tajikistan (officially known as Tajiki since the Soviet era), and some other regions which historically were Persianate societies and considered part of Greater Iran. It is written in the Persian alphabet, a modified variant of the Arabic script, which itself evolved from the Aramaic alphabet.'}"
      ]
     },
     "execution_count": 141,
     "metadata": {},
     "output_type": "execute_result"
    }
   ],
   "source": [
    "dataset['train'][0]"
   ]
  },
  {
   "cell_type": "code",
   "execution_count": 142,
   "id": "2e7e68f1",
   "metadata": {},
   "outputs": [
    {
     "data": {
      "text/plain": [
       "{'question': 'do good samaritan laws protect those who help at an accident',\n",
       " 'answer': True,\n",
       " 'passage': \"Good Samaritan laws offer legal protection to people who give reasonable assistance to those who are, or who they believe to be, injured, ill, in peril, or otherwise incapacitated. The protection is intended to reduce bystanders' hesitation to assist, for fear of being sued or prosecuted for unintentional injury or wrongful death. An example of such a law in common-law areas of Canada: a good Samaritan doctrine is a legal principle that prevents a rescuer who has voluntarily helped a victim in distress from being successfully sued for wrongdoing. Its purpose is to keep people from being reluctant to help a stranger in need for fear of legal repercussions should they make some mistake in treatment. By contrast, a duty to rescue law requires people to offer assistance and holds those who fail to do so liable.\"}"
      ]
     },
     "execution_count": 142,
     "metadata": {},
     "output_type": "execute_result"
    }
   ],
   "source": [
    "dataset['train'][1]"
   ]
  },
  {
   "cell_type": "code",
   "execution_count": 144,
   "id": "51bf1607",
   "metadata": {},
   "outputs": [
    {
     "name": "stdout",
     "output_type": "stream",
     "text": [
      "9427\n",
      "9427\n"
     ]
    }
   ],
   "source": [
    "from sentence_transformers import InputExample, losses, evaluation\n",
    "from torch.utils.data import DataLoader\n",
    "from random import shuffle\n",
    "\n",
    "shuffled_training_passages = dataset['train']['passage'].copy()\n",
    "shuffle(shuffled_training_passages)\n",
    "\n",
    "\n",
    "train_positive_samples = [\n",
    "  InputExample(texts=[d['question'], d['passage']], label=1) for d in dataset['train']\n",
    "]\n",
    "\n",
    "# 부정적인 예제 추가\n",
    "train_negative_samples = [\n",
    "  InputExample(texts=[d['question'], shuffled_training_passages[i]], label=0) for i, d in enumerate(dataset['train'])\n",
    "]\n",
    "\n",
    "print(len(train_positive_samples))\n",
    "print(len(train_negative_samples))\n",
    "\n",
    "\n",
    "# 내 데이터에 과적합의 위험이 있지만 원할 수도 있습니다. \n",
    "# 충분한 입력 및 출력 유효성 검사와 결합하면 내 데이터에 과적합한 모델을 사용하여 실행 가능한 제품을 만들 수 있습니다."
   ]
  },
  {
   "cell_type": "code",
   "execution_count": 145,
   "id": "23dcb20c-786a-45ed-9f85-971aece6e68e",
   "metadata": {},
   "outputs": [
    {
     "name": "stdout",
     "output_type": "stream",
     "text": [
      "18854\n"
     ]
    }
   ],
   "source": [
    "train_samples = train_positive_samples + train_negative_samples\n",
    "shuffle(train_samples)\n",
    "print(len(train_samples))"
   ]
  },
  {
   "cell_type": "markdown",
   "id": "77a62c65-e62d-4abb-8161-b28f182e703a",
   "metadata": {},
   "source": [
    "## 3.2 파인튜닝 환경 구성"
   ]
  },
  {
   "cell_type": "code",
   "execution_count": 146,
   "id": "902d5781-810c-4ff3-91c7-48c28c36396f",
   "metadata": {},
   "outputs": [],
   "source": [
    "import torch"
   ]
  },
  {
   "cell_type": "code",
   "execution_count": 147,
   "id": "6b58d2d0",
   "metadata": {
    "scrolled": true
   },
   "outputs": [],
   "source": [
    "device = torch.device('cpu')\n",
    "# device = torch.device('cuda')  # NVIDIA GPU\n",
    "\n",
    "model = CrossEncoder('cross-encoder/ms-marco-MiniLM-L-12-v2', num_labels=1, device=device)"
   ]
  },
  {
   "cell_type": "code",
   "execution_count": 148,
   "id": "8e7eaa40",
   "metadata": {},
   "outputs": [
    {
     "data": {
      "text/plain": [
       "{'guid': '',\n",
       " 'texts': ['is tim mcgraw in the movie country strong',\n",
       "  \"Country Strong (originally titled Love Don't Let Me Down) is a 2010 drama film starring Gwyneth Paltrow, Tim McGraw, Garrett Hedlund, and Leighton Meester. The film, about an emotionally unstable country music star who attempts to resurrect her career, was directed and written by American filmmaker Shana Feste. It premiered in Nashville, Tennessee on November 8, 2010, and had a wide release in the United States on January 7, 2011. This is the second film in which McGraw and Hedlund have worked together, the first being Friday Night Lights in 2004.\"],\n",
       " 'label': 1}"
      ]
     },
     "execution_count": 148,
     "metadata": {},
     "output_type": "execute_result"
    }
   ],
   "source": [
    "train_samples[0].__dict__"
   ]
  },
  {
   "cell_type": "code",
   "execution_count": 149,
   "id": "2ede1b89",
   "metadata": {},
   "outputs": [
    {
     "data": {
      "text/plain": [
       "0.99996674"
      ]
     },
     "execution_count": 149,
     "metadata": {},
     "output_type": "execute_result"
    }
   ],
   "source": [
    "model.predict(train_samples[0].texts, activation_fct=nn.Sigmoid())"
   ]
  },
  {
   "cell_type": "code",
   "execution_count": 150,
   "id": "bc2bc9d1",
   "metadata": {},
   "outputs": [
    {
     "name": "stdout",
     "output_type": "stream",
     "text": [
      "Warmup-steps: 5\n"
     ]
    }
   ],
   "source": [
    "from sentence_transformers.cross_encoder.evaluation import CECorrelationEvaluator, CEBinaryClassificationEvaluator\n",
    "import math\n",
    "import torch\n",
    "from random import sample\n",
    "\n",
    "logger.setLevel(logging.DEBUG)  # just to get some logs\n",
    "\n",
    "num_epochs = 2\n",
    "\n",
    "model_save_path = './fine_tuned_ir_cross_encoder'\n",
    "\n",
    "train_samples = sample(train_samples, 1000)\n",
    "\n",
    "# int(len(train_samples)*.8)\n",
    "train_dataloader = DataLoader(train_samples[:int(len(train_samples)*.8)], shuffle=True, batch_size=32)\n",
    "\n",
    "# 훈련 성능을 위한 평가자\n",
    "evaluator = CEBinaryClassificationEvaluator.from_input_examples(train_samples[-int(len(train_samples)*.8):], name='test')\n",
    "\n",
    "# 워밍업 단계에 대한 경험 법칙\n",
    "warmup_steps = math.ceil(len(train_dataloader) * num_epochs * 0.1)  # 워밍업을 위한 훈련 데이터의 10%\n",
    "print(f\"Warmup-steps: {warmup_steps}\")"
   ]
  },
  {
   "cell_type": "code",
   "execution_count": 151,
   "id": "a677caf1-8f85-4aa9-9531-bd2b6161b102",
   "metadata": {},
   "outputs": [
    {
     "data": {
      "text/plain": [
       "1000"
      ]
     },
     "execution_count": 151,
     "metadata": {},
     "output_type": "execute_result"
    }
   ],
   "source": [
    "len(train_samples)"
   ]
  },
  {
   "cell_type": "markdown",
   "id": "39d9eb73-9af8-408e-b6b6-aa7a15060120",
   "metadata": {},
   "source": [
    "## 3.3 트레이닝 실행"
   ]
  },
  {
   "cell_type": "code",
   "execution_count": 152,
   "id": "c20f587f-cea8-40a3-8e5d-cb8257d22912",
   "metadata": {},
   "outputs": [
    {
     "name": "stdout",
     "output_type": "stream",
     "text": [
      "0.9995924036836289\n"
     ]
    }
   ],
   "source": [
    "# 파인튜닝 이전에 모델을 로드하고 테스트 세트에서 평가합니다.\n",
    "print(evaluator(model))"
   ]
  },
  {
   "cell_type": "markdown",
   "id": "5b515d35-0bb9-479e-96c5-332eead553f3",
   "metadata": {},
   "source": [
    "해당 코드는 모델 학습을 수행하는 부분입니다. 주요 내용을 설명하겠습니다.\n",
    "\n",
    "1. `model.fit()` 함수를 사용하여 모델 학습을 진행합니다. 이 함수는 `sentence-transformers` 라이브러리에서 제공하는 함수로, 모델 학습에 필요한 여러 매개변수를 설정할 수 있습니다.\n",
    "\n",
    "2. `train_dataloader` 매개변수는 학습 데이터를 배치 단위로 제공하는 DataLoader 객체입니다. 이 DataLoader는 `sentence-transformers` 라이브러리의 `InputExample` 클래스를 사용하여 생성됩니다.\n",
    "\n",
    "3. `loss_fct` 매개변수는 학습 시 사용할 손실 함수(loss function)를 지정합니다. 여기서는 PyTorch의 `nn.CrossEntropyLoss()`를 사용하고 있습니다. 이는 다중 클래스 분류 문제에 주로 사용되는 손실 함수입니다.\n",
    "\n",
    "4. `activation_fct` 매개변수는 모델의 출력에 적용할 활성화 함수(activation function)를 지정합니다. 여기서는 `nn.Sigmoid()`를 사용하고 있습니다. Sigmoid 함수는 출력 값을 0과 1 사이로 압축하여 확률 해석이 가능하게 합니다.\n",
    "\n",
    "5. `evaluator` 매개변수는 학습 중 모델의 성능을 평가하기 위한 평가 객체를 지정합니다. 이 객체는 `sentence-transformers` 라이브러리에서 제공하는 평가 클래스 중 하나를 사용하거나 사용자 정의 평가 클래스를 사용할 수 있습니다.\n",
    "\n",
    "6. `epochs` 매개변수는 학습을 반복할 에폭(epoch) 수를 지정합니다. 에폭은 전체 학습 데이터를 한 번 순회하는 것을 의미합니다.\n",
    "\n",
    "7. `warmup_steps` 매개변수는 학습률 warm-up을 적용할 스텝 수를 지정합니다. Warm-up은 학습 초기에 학습률을 점진적으로 증가시키는 기법으로, 모델이 안정적으로 학습할 수 있도록 도와줍니다.\n",
    "\n",
    "8. `output_path` 매개변수는 학습된 모델을 저장할 경로를 지정합니다.\n",
    "\n",
    "9. `use_amp` 매개변수는 Automatic Mixed Precision (AMP)을 사용할지 여부를 지정합니다. AMP는 GPU 사용 시 메모리 사용량을 줄이고 학습 속도를 높이는 기법입니다. 여기서는 GPU 사용 시 `True`로, CPU 사용 시 `False`로 설정되어 있습니다.\n",
    "\n",
    "이 코드는 지정된 hyperparameter를 사용하여 모델을 학습하고, 학습된 모델을 지정된 경로에 저장합니다. 학습 과정에서는 지정된 평가 객체를 사용하여 모델의 성능을 평가합니다."
   ]
  },
  {
   "cell_type": "code",
   "execution_count": 153,
   "id": "0de4dbc8",
   "metadata": {},
   "outputs": [
    {
     "data": {
      "application/vnd.jupyter.widget-view+json": {
       "model_id": "02fadb0aa7b44fb1a2d4b16b4a325653",
       "version_major": 2,
       "version_minor": 0
      },
      "text/plain": [
       "Epoch:   0%|          | 0/2 [00:00<?, ?it/s]"
      ]
     },
     "metadata": {},
     "output_type": "display_data"
    },
    {
     "data": {
      "application/vnd.jupyter.widget-view+json": {
       "model_id": "a5d5f4dafbdc4b5f9b65c90173fa2f5d",
       "version_major": 2,
       "version_minor": 0
      },
      "text/plain": [
       "Iteration:   0%|          | 0/25 [00:00<?, ?it/s]"
      ]
     },
     "metadata": {},
     "output_type": "display_data"
    },
    {
     "data": {
      "application/vnd.jupyter.widget-view+json": {
       "model_id": "8e568e511eb44a49954dba8d9d6334aa",
       "version_major": 2,
       "version_minor": 0
      },
      "text/plain": [
       "Iteration:   0%|          | 0/25 [00:00<?, ?it/s]"
      ]
     },
     "metadata": {},
     "output_type": "display_data"
    }
   ],
   "source": [
    "model.fit(\n",
    "    train_dataloader=train_dataloader,\n",
    "    # loss_fct=losses.nn.CrossEntropyLoss(),\n",
    "    loss_fct= nn.CrossEntropyLoss(),\n",
    "    activation_fct=nn.Sigmoid(),\n",
    "    evaluator=evaluator,\n",
    "    epochs=num_epochs,\n",
    "    warmup_steps=warmup_steps,\n",
    "    output_path=model_save_path,\n",
    "    # use_amp=True, # GPU 사용시\n",
    "    use_amp=False,  # CPU 사용시\n",
    ")"
   ]
  },
  {
   "cell_type": "code",
   "execution_count": 154,
   "id": "4c7d8b39-c2e2-4ed3-8931-9ac1c7d0bbe2",
   "metadata": {},
   "outputs": [
    {
     "name": "stdout",
     "output_type": "stream",
     "text": [
      "0.9999474432867325\n"
     ]
    }
   ],
   "source": [
    "# 파인튜닝된 모델을 로드하고 테스트 세트에서 평가하기\n",
    "print(evaluator(model))"
   ]
  },
  {
   "cell_type": "markdown",
   "id": "f3fe1d4d-5ae7-431e-be81-72c987b3cd6f",
   "metadata": {},
   "source": [
    "## 3.4 파인튜닝 성능 확인"
   ]
  },
  {
   "cell_type": "code",
   "execution_count": 155,
   "id": "8ca59b71",
   "metadata": {},
   "outputs": [],
   "source": [
    "# 오픈 소스에서도 더 미세 조정된 버전을 실행하여 일치시킬 수 있을까요?\n",
    "# 여기서 더 잘 작동하는지에 따라 다릅니다."
   ]
  },
  {
   "cell_type": "code",
   "execution_count": 156,
   "id": "2f747537",
   "metadata": {},
   "outputs": [
    {
     "data": {
      "application/vnd.jupyter.widget-view+json": {
       "model_id": "9f858bc800fd4e5184b797170d34f76c",
       "version_major": 2,
       "version_minor": 0
      },
      "text/plain": [
       "Batches:   0%|          | 0/1 [00:00<?, ?it/s]"
      ]
     },
     "metadata": {},
     "output_type": "display_data"
    },
    {
     "name": "stdout",
     "output_type": "stream",
     "text": [
      "0.9975732\n"
     ]
    },
    {
     "data": {
      "application/vnd.jupyter.widget-view+json": {
       "model_id": "caff820738ab440fbb4669b3079e0d38",
       "version_major": 2,
       "version_minor": 0
      },
      "text/plain": [
       "Batches:   0%|          | 0/1 [00:00<?, ?it/s]"
      ]
     },
     "metadata": {},
     "output_type": "display_data"
    },
    {
     "name": "stdout",
     "output_type": "stream",
     "text": [
      "6.018771\n"
     ]
    }
   ],
   "source": [
    "finetuned = CrossEncoder(model_save_path)\n",
    "\n",
    "print(finetuned.predict(['hello', 'hi'], activation_fct=nn.Sigmoid()))\n",
    "print(finetuned.predict(['hello', 'hi'], activation_fct=nn.Identity()))"
   ]
  },
  {
   "cell_type": "code",
   "execution_count": 157,
   "id": "94cf736e",
   "metadata": {
    "scrolled": true
   },
   "outputs": [
    {
     "name": "stderr",
     "output_type": "stream",
     "text": [
      " 50%|█████████████████████████████████████▌                                     | 50/100 [00:42<00:24,  2.03it/s]"
     ]
    },
    {
     "name": "stdout",
     "output_type": "stream",
     "text": [
      "Step 50\n",
      "Accuracy without re-ranking: 0.88\n",
      "Accuracy with re-ranking: 0.84\n"
     ]
    },
    {
     "name": "stderr",
     "output_type": "stream",
     "text": [
      "100%|██████████████████████████████████████████████████████████████████████████| 100/100 [01:08<00:00,  1.47it/s]"
     ]
    },
    {
     "name": "stdout",
     "output_type": "stream",
     "text": [
      "Step 100\n",
      "Accuracy without re-ranking: 0.84\n",
      "Accuracy with re-ranking: 0.83\n"
     ]
    },
    {
     "name": "stderr",
     "output_type": "stream",
     "text": [
      "\n"
     ]
    }
   ],
   "source": [
    "# 미세 조정된 크로스 인코더 사용해보기\n",
    "logger.setLevel(logging.CRITICAL)  # just to suppress some logs\n",
    "from tqdm import tqdm\n",
    "\n",
    "i = 0\n",
    "print_every = 50\n",
    "predictions = []\n",
    "for question in tqdm(val_sample['question']):\n",
    "    retrieved_hash, reranked_hash = eval_ranking(question, finetuned, top_k=3)\n",
    "    correct_hash = q_to_hash[question]\n",
    "    predictions.append((retrieved_hash == correct_hash, reranked_hash == correct_hash))\n",
    "    i += 1\n",
    "    if i % print_every == 0:\n",
    "        print(f'Step {i}')\n",
    "        raw_accuracy = sum([p[0] for p in predictions])/len(predictions)\n",
    "        reranked_accuracy = sum([p[1] for p in predictions])/len(predictions)\n",
    "\n",
    "        print(f'Accuracy without re-ranking: {raw_accuracy}')\n",
    "        print(f'Accuracy with re-ranking: {reranked_accuracy}')"
   ]
  },
  {
   "cell_type": "code",
   "execution_count": 158,
   "id": "2b6e0a9e",
   "metadata": {},
   "outputs": [
    {
     "name": "stdout",
     "output_type": "stream",
     "text": [
      "Using cross-encoder: ./fine_tuned_ir_cross_encoder\n",
      "Accuracy without re-ranking: 0.84\n",
      "Accuracy with re-ranking: 0.83\n"
     ]
    }
   ],
   "source": [
    "# 재랭킹은 2번의 에포크 이후 약간 개선되었습니다.\n",
    "raw_accuracy = sum([p[0] for p in predictions])/len(predictions)\n",
    "reranked_accuracy = sum([p[1] for p in predictions])/len(predictions)\n",
    "\n",
    "print(f'Using cross-encoder: {finetuned.config._name_or_path}')\n",
    "print(f'Accuracy without re-ranking: {raw_accuracy}')\n",
    "print(f'Accuracy with re-ranking: {reranked_accuracy}')\n"
   ]
  },
  {
   "cell_type": "code",
   "execution_count": 159,
   "id": "2535cbae",
   "metadata": {},
   "outputs": [],
   "source": [
    "# 필요시 \n",
    "# pinecone.delete_index(INDEX_NAME)  # delete the index"
   ]
  },
  {
   "cell_type": "markdown",
   "id": "3f14809e",
   "metadata": {},
   "source": [
    "# 4. 오픈소스 임베딩 모델"
   ]
  },
  {
   "cell_type": "markdown",
   "id": "9ca2e778-6922-4fc2-a714-789c52bf4ed0",
   "metadata": {},
   "source": [
    "## 4.1 모델 초기화"
   ]
  },
  {
   "cell_type": "code",
   "execution_count": 160,
   "id": "99138055",
   "metadata": {},
   "outputs": [
    {
     "data": {
      "application/vnd.jupyter.widget-view+json": {
       "model_id": "d488da333e784a1188661c0523e7a728",
       "version_major": 2,
       "version_minor": 0
      },
      "text/plain": [
       "Batches:   0%|          | 0/1 [00:00<?, ?it/s]"
      ]
     },
     "metadata": {},
     "output_type": "display_data"
    },
    {
     "data": {
      "text/plain": [
       "(2, 768)"
      ]
     },
     "execution_count": 160,
     "metadata": {},
     "output_type": "execute_result"
    }
   ],
   "source": [
    "from sentence_transformers import SentenceTransformer\n",
    "\n",
    "model = SentenceTransformer('sentence-transformers/multi-qa-mpnet-base-cos-v1')\n",
    "\n",
    "docs = [\"Around 9 Million people live in London\", \"London is known for its financial district\"]\n",
    "\n",
    "doc_emb = model.encode(docs, batch_size=32, show_progress_bar=True)\n",
    "\n",
    "doc_emb.shape #  == ('2, 768')"
   ]
  },
  {
   "cell_type": "code",
   "execution_count": 161,
   "id": "a8db52af-6acd-4ec1-9d9f-fbe538e497a5",
   "metadata": {},
   "outputs": [
    {
     "data": {
      "text/plain": [
       "3270"
      ]
     },
     "execution_count": 161,
     "metadata": {},
     "output_type": "execute_result"
    }
   ],
   "source": [
    "len(dataset['validation']['passage'])"
   ]
  },
  {
   "cell_type": "markdown",
   "id": "71694c94-bf23-4934-a788-10bf04e85223",
   "metadata": {},
   "source": [
    "## 4.2 문서 임베딩\n",
    "\n",
    "https://huggingface.co/sentence-transformers/multi-qa-mpnet-base-cos-v1 참고"
   ]
  },
  {
   "cell_type": "code",
   "execution_count": 162,
   "id": "be37c48b",
   "metadata": {},
   "outputs": [
    {
     "data": {
      "application/vnd.jupyter.widget-view+json": {
       "model_id": "62d0f90cb3394a13a89381d526c47b71",
       "version_major": 2,
       "version_minor": 0
      },
      "text/plain": [
       "Batches:   0%|          | 0/103 [00:00<?, ?it/s]"
      ]
     },
     "metadata": {},
     "output_type": "display_data"
    }
   ],
   "source": [
    "# 문서 임베딩\n",
    "docs = dataset['validation']['passage']\n",
    "doc_emb = model.encode(docs, batch_size=32, show_progress_bar=True)"
   ]
  },
  {
   "cell_type": "markdown",
   "id": "fa4037ac-88c0-4279-81e9-23164129129a",
   "metadata": {},
   "source": [
    "## 4.3 OpenAI 임베딩 검색 (성능 비교용)"
   ]
  },
  {
   "cell_type": "code",
   "execution_count": 163,
   "id": "ae0afee7",
   "metadata": {},
   "outputs": [
    {
     "name": "stdout",
     "output_type": "stream",
     "text": [
      "can i use passport card to fly domestically\n",
      "Query: can i use passport card to fly domestically\n",
      "Pinecone Result==> b33e191154d815b30dcd9c7124ba5b07\t0.86\tThe U.S. Passport Card is a limited travel documen\n",
      "Pinecone Result==> 057b0a3b0b56c0ff95cd898752f3bb80\t0.86\tThe passport card is a limited travel document, va\n",
      "Pinecone Result==> 21c9ab226877a30230bd1746a6fdd272\t0.85\tThe U.S. Passport Card is the de facto national id\n",
      "Document ID (Hash)\t\tRetrieval Score\tCE Score\tText\n",
      "Reranked Result==> 21c9ab226877a30230bd1746a6fdd272\t0.85\t0.71\tThe U.S. Passport Card is the de facto national id\n",
      "Reranked Result==> b33e191154d815b30dcd9c7124ba5b07\t0.86\t0.70\tThe U.S. Passport Card is a limited travel documen\n",
      "Reranked Result==> 057b0a3b0b56c0ff95cd898752f3bb80\t0.86\t0.68\tThe passport card is a limited travel document, va\n"
     ]
    }
   ],
   "source": [
    "from random import sample\n",
    "\n",
    "query = sample(dataset['validation']['question'], 1)[0]\n",
    "print(query)\n",
    "final_results = get_results_from_pinecone(query, top_k=3, re_rank=True)"
   ]
  },
  {
   "cell_type": "markdown",
   "id": "42c1711e-244f-4952-b764-545d72755a1f",
   "metadata": {},
   "source": [
    "## 4.4 오픈소스 모델 임베딩 검색"
   ]
  },
  {
   "cell_type": "code",
   "execution_count": 164,
   "id": "45c71fb0",
   "metadata": {},
   "outputs": [
    {
     "name": "stdout",
     "output_type": "stream",
     "text": [
      "0.7097598910331726 The passport card is a limited travel document, valid only for land and sea travel within North America (Canada, the United States, Mexico, the Caribbean, and Bermuda). It cannot be used for international air travel. The Department of State indicates that this is because ``designing a card format passport for wide use, including by air travelers, would inadvertently undercut the broad based international effort to strengthen civil aviation security and travel document specifications to address the post 9/11 threat environment''.\n",
      "0.6742514371871948 The U.S. Passport Card is a limited travel document issued by the federal government of the United States in the size of a credit card. It may often be used as an identity card for purposes other than international travel, such as domestic air travel. Like a U.S. passport book, the passport card is only issued to U.S. citizens and U.S. nationals exclusively by the U.S. Department of State and is compliant to the standards for identity documents set by the REAL ID Act and can be used as proof of U.S. citizenship. The passport card allows cardholders to travel by domestic air flights within the United States and to enter and exit the United States via land and sea between member states of the Western Hemisphere Travel Initiative (WHTI). However, the passport card cannot be used for international air travel.\n",
      "0.6463684439659119 The U.S. Passport Card is the de facto national identification card of the United States and a limited travel document issued by the federal government of the United States in the size of a credit card. Like a U.S. passport book, the passport card is only issued to U.S. citizens and U.S. nationals exclusively by the U.S. Department of State and is compliant to the standards for identity documents set by the REAL ID Act and can be used as proof of U.S. citizenship. The passport card's intended primary purpose is for identification and to allow cardholders to travel by domestic air flights within the United States and to enter and exit the United States via land and sea between member states of the Western Hemisphere Travel Initiative (WHTI). However, the passport card cannot be used for international air travel.\n"
     ]
    }
   ],
   "source": [
    "from sentence_transformers import util\n",
    "query_emb = model.encode(query)\n",
    "\n",
    "#쿼리와 모든 문서 임베딩 사이의 도트 점수를 계산합니다.\n",
    "scores = util.dot_score(query_emb, doc_emb)[0].cpu().tolist()\n",
    "\n",
    "#문서와 점수 결합\n",
    "doc_score_pairs = list(zip(docs, scores))\n",
    "\n",
    "#점수에 따른 내림차순 정렬\n",
    "doc_score_pairs = sorted(doc_score_pairs, key=lambda x: x[1], reverse=True)\n",
    "\n",
    "#구절 및 점수 출력\n",
    "for doc, score in doc_score_pairs[:3]:\n",
    "    print(score, doc)"
   ]
  },
  {
   "cell_type": "markdown",
   "id": "082da8ab-f5e4-43a9-bc09-178d26ab5756",
   "metadata": {},
   "source": [
    "## 4.5 오픈소스 임베딩 모델을 이용한 데이터 조회의 정확도 검증"
   ]
  },
  {
   "cell_type": "code",
   "execution_count": 165,
   "id": "93280be8",
   "metadata": {},
   "outputs": [],
   "source": [
    "logger.setLevel(logging.CRITICAL)  # 일부 로그만 출력\n",
    "\n",
    "def eval_ranking_open_source(query, cross_encoder, top_k=3):\n",
    "    query_emb = model.encode(query)\n",
    "\n",
    "    #쿼리와 모든 문서 임베딩 사이의 도트 점수를 계산합니다.\n",
    "    scores = util.dot_score(query_emb, doc_emb)[0].cpu().tolist()\n",
    "\n",
    "    #문서와 점수 결합\n",
    "    doc_score_pairs = list(zip(docs, scores))\n",
    "\n",
    "    #점수에 따른 내림차순 정렬\n",
    "    doc_score_pairs = sorted(doc_score_pairs, key=lambda x: x[1], reverse=True)[:top_k]\n",
    "\n",
    "    retrieved_hash = my_hash(doc_score_pairs[0][0])\n",
    "    if cross_encoder:\n",
    "        sentence_combinations = [[query, doc_score_pair[0]] for doc_score_pair in doc_score_pairs]\n",
    "        similarity_scores = cross_encoder.predict(sentence_combinations)\n",
    "        sim_scores_argsort = list(reversed(np.argsort(similarity_scores)))\n",
    "        reranked_hash = my_hash(doc_score_pairs[sim_scores_argsort[0]][0])\n",
    "    else:\n",
    "        reranked_hash = None\n",
    "    return retrieved_hash, reranked_hash\n"
   ]
  },
  {
   "cell_type": "code",
   "execution_count": 166,
   "id": "06f198cd",
   "metadata": {},
   "outputs": [
    {
     "data": {
      "text/plain": [
       "('057b0a3b0b56c0ff95cd898752f3bb80', 'b33e191154d815b30dcd9c7124ba5b07')"
      ]
     },
     "execution_count": 166,
     "metadata": {},
     "output_type": "execute_result"
    }
   ],
   "source": [
    "eval_ranking_open_source(query, finetuned)"
   ]
  },
  {
   "cell_type": "code",
   "execution_count": 167,
   "id": "02cd9c46-0695-483c-a781-63a600d4d559",
   "metadata": {},
   "outputs": [
    {
     "data": {
      "text/plain": [
       "100"
      ]
     },
     "execution_count": 167,
     "metadata": {},
     "output_type": "execute_result"
    }
   ],
   "source": [
    "len(val_sample['question'])"
   ]
  },
  {
   "cell_type": "code",
   "execution_count": 168,
   "id": "8faf0c1a",
   "metadata": {
    "scrolled": true
   },
   "outputs": [
    {
     "name": "stderr",
     "output_type": "stream",
     "text": [
      " 52%|███████████████████████████████████████                                    | 52/100 [00:20<00:06,  7.46it/s]"
     ]
    },
    {
     "name": "stdout",
     "output_type": "stream",
     "text": [
      "Step 50\n",
      "Accuracy without re-ranking: 0.82\n",
      "Accuracy with re-ranking: 0.84\n"
     ]
    },
    {
     "name": "stderr",
     "output_type": "stream",
     "text": [
      "100%|██████████████████████████████████████████████████████████████████████████| 100/100 [00:31<00:00,  3.16it/s]"
     ]
    },
    {
     "name": "stdout",
     "output_type": "stream",
     "text": [
      "Step 100\n",
      "Accuracy without re-ranking: 0.83\n",
      "Accuracy with re-ranking: 0.83\n"
     ]
    },
    {
     "name": "stderr",
     "output_type": "stream",
     "text": [
      "\n"
     ]
    }
   ],
   "source": [
    "logger.setLevel(logging.CRITICAL)\n",
    "\n",
    "i = 0\n",
    "print_every = 50\n",
    "predictions = []\n",
    "for question in tqdm(val_sample['question']):\n",
    "    retrieved_hash, reranked_hash = eval_ranking_open_source(question, finetuned, top_k=3)\n",
    "    correct_hash = q_to_hash[question]\n",
    "    predictions.append((retrieved_hash == correct_hash, reranked_hash == correct_hash))\n",
    "    i += 1\n",
    "    if i % print_every == 0:\n",
    "        print(f'Step {i}')\n",
    "        raw_accuracy = sum([p[0] for p in predictions])/len(predictions)\n",
    "        reranked_accuracy = sum([p[1] for p in predictions])/len(predictions)\n",
    "\n",
    "        print(f'Accuracy without re-ranking: {raw_accuracy}')\n",
    "        print(f'Accuracy with re-ranking: {reranked_accuracy}')\n"
   ]
  },
  {
   "cell_type": "code",
   "execution_count": 169,
   "id": "6eaeb9b4",
   "metadata": {},
   "outputs": [
    {
     "name": "stdout",
     "output_type": "stream",
     "text": [
      "Using cross-encoder: ./fine_tuned_ir_cross_encoder\n",
      "Accuracy without re-ranking: 0.83\n",
      "Accuracy with re-ranking: 0.83\n"
     ]
    }
   ],
   "source": [
    "raw_accuracy = sum([p[0] for p in predictions])/len(predictions)\n",
    "reranked_accuracy = sum([p[1] for p in predictions])/len(predictions)\n",
    "\n",
    "print(f'Using cross-encoder: {finetuned.config._name_or_path}')\n",
    "print(f'Accuracy without re-ranking: {raw_accuracy}')\n",
    "print(f'Accuracy with re-ranking: {reranked_accuracy}')\n"
   ]
  },
  {
   "cell_type": "markdown",
   "id": "5636b16b-8188-4fed-89d0-167b59297c0f",
   "metadata": {},
   "source": [
    "# 5. 한국어 BoolQ를 이용한 한국어 임베딩 성능 비교\n",
    "## 5.1 초기화"
   ]
  },
  {
   "cell_type": "code",
   "execution_count": 170,
   "id": "e3594c69-2dfb-442e-ba17-44c73f03e9c3",
   "metadata": {},
   "outputs": [
    {
     "data": {
      "application/vnd.jupyter.widget-view+json": {
       "model_id": "6f333796c42f47949e253c5b49333044",
       "version_major": 2,
       "version_minor": 0
      },
      "text/plain": [
       "Downloading readme:   0%|          | 0.00/7.20k [00:00<?, ?B/s]"
      ]
     },
     "metadata": {},
     "output_type": "display_data"
    },
    {
     "name": "stderr",
     "output_type": "stream",
     "text": [
      "Downloading data: 100%|█████████████████████████████████████████████████████| 3.70M/3.70M [00:01<00:00, 2.72MB/s]\n",
      "Downloading data: 100%|█████████████████████████████████████████████████████| 1.41M/1.41M [00:00<00:00, 1.46MB/s]\n",
      "Downloading data: 100%|████████████████████████████████████████████████████████| 692k/692k [00:00<00:00, 896kB/s]\n"
     ]
    },
    {
     "data": {
      "application/vnd.jupyter.widget-view+json": {
       "model_id": "7bc594a1d85c486b8885ea8c84771d2d",
       "version_major": 2,
       "version_minor": 0
      },
      "text/plain": [
       "Generating train split: 0 examples [00:00, ? examples/s]"
      ]
     },
     "metadata": {},
     "output_type": "display_data"
    },
    {
     "data": {
      "application/vnd.jupyter.widget-view+json": {
       "model_id": "13790e12af6246cc819dd91b69e1640f",
       "version_major": 2,
       "version_minor": 0
      },
      "text/plain": [
       "Generating test split: 0 examples [00:00, ? examples/s]"
      ]
     },
     "metadata": {},
     "output_type": "display_data"
    },
    {
     "data": {
      "application/vnd.jupyter.widget-view+json": {
       "model_id": "d8e840bc9bd54c36a5ca42e88d73b5e4",
       "version_major": 2,
       "version_minor": 0
      },
      "text/plain": [
       "Generating validation split: 0 examples [00:00, ? examples/s]"
      ]
     },
     "metadata": {},
     "output_type": "display_data"
    }
   ],
   "source": [
    "from datasets import load_dataset\n",
    "from evaluate import load\n",
    "\n",
    "dataset_ko = load_dataset(\"skt/kobest_v1\", \"boolq\")"
   ]
  },
  {
   "cell_type": "code",
   "execution_count": 171,
   "id": "8aea2615-16c6-4ea0-a6b6-5d531867360d",
   "metadata": {},
   "outputs": [
    {
     "data": {
      "text/plain": [
       "DatasetDict({\n",
       "    train: Dataset({\n",
       "        features: ['paragraph', 'question', 'label'],\n",
       "        num_rows: 3665\n",
       "    })\n",
       "    test: Dataset({\n",
       "        features: ['paragraph', 'question', 'label'],\n",
       "        num_rows: 1404\n",
       "    })\n",
       "    validation: Dataset({\n",
       "        features: ['paragraph', 'question', 'label'],\n",
       "        num_rows: 700\n",
       "    })\n",
       "})"
      ]
     },
     "execution_count": 171,
     "metadata": {},
     "output_type": "execute_result"
    }
   ],
   "source": [
    "dataset_ko"
   ]
  },
  {
   "cell_type": "code",
   "execution_count": 172,
   "id": "529dd209-6007-40d4-b0f1-da60ccc616b9",
   "metadata": {},
   "outputs": [],
   "source": [
    "from datasets import concatenate_datasets\n",
    "\n",
    "combined_dataset = concatenate_datasets([dataset_ko['train'], dataset_ko['validation'], dataset_ko['test']])"
   ]
  },
  {
   "cell_type": "code",
   "execution_count": 173,
   "id": "ae5353b6-7a7b-4d96-8815-807f29274796",
   "metadata": {},
   "outputs": [
    {
     "data": {
      "text/plain": [
       "5769"
      ]
     },
     "execution_count": 173,
     "metadata": {},
     "output_type": "execute_result"
    }
   ],
   "source": [
    "len(combined_dataset)"
   ]
  },
  {
   "cell_type": "code",
   "execution_count": 174,
   "id": "8d1d1eb6-76a6-44f9-bf09-8643d3e2bf44",
   "metadata": {},
   "outputs": [
    {
     "data": {
      "text/plain": [
       "{'paragraph': '로마 시대의 오리엔트의 범위는 제국 내에 동부 지방은 물론 제국 외부에 있는 다른 국가에 광범위하게 쓰이는 단어였다. 그 후에 로마 제국이 분열되고 서유럽이 그들의 중심적인 세계를 형성하는 과정에서 자신들을 옥시덴트(occident), 서방이라 부르며 오리엔트는 이와 대조되는 문화를 가진 동방세계라는 뜻이 부가되어, 인도와 중국, 일본을 이루는 광범위한 지역을 지칭하는 단어가 되었다.',\n",
       " 'question': '오리엔트는 인도와 중국, 일본을 이루는 광범위한 지역을 지칭하는 단어로 쓰인다.',\n",
       " 'label': 1}"
      ]
     },
     "execution_count": 174,
     "metadata": {},
     "output_type": "execute_result"
    }
   ],
   "source": [
    "combined_dataset[0]"
   ]
  },
  {
   "cell_type": "code",
   "execution_count": 176,
   "id": "66e52aee-bf1b-404b-a691-5e728563ccf7",
   "metadata": {},
   "outputs": [],
   "source": [
    "cross_encoder_1 = CrossEncoder('jeffwan/mmarco-mMiniLMv2-L12-H384-v1')\n",
    "cross_encoder_2 = CrossEncoder('bongsoo/klue-cross-encoder-v1')  # 한국어 지원 모델\n",
    "cross_encoder_3 = CrossEncoder('cross-encoder/ms-marco-MiniLM-L-12-v2')\n",
    "model_save_path = './fine_tuned_ir_cross_encoder'\n",
    "cross_encoder_4 = CrossEncoder(model_save_path)"
   ]
  },
  {
   "cell_type": "code",
   "execution_count": 177,
   "id": "43e015da-20d2-4280-b0c3-b85518b8c37c",
   "metadata": {},
   "outputs": [],
   "source": [
    "def eval_ranking_4(query, cross_encoder_1, cross_encoder_2, cross_encoder_3, cross_encoder_4, top_k=3):\n",
    "    results_from_pinecone = query_from_pinecone(query, top_k=top_k)\n",
    "    sentence_combinations = [[query, result_from_pinecone['metadata']['text']] for result_from_pinecone in results_from_pinecone]\n",
    "\n",
    "    similarity_scores_1 = cross_encoder_1.predict(sentence_combinations)\n",
    "    sim_scores_argsort_1 = list(reversed(np.argsort(similarity_scores_1)))\n",
    "    re_ranked_final_result_1 = results_from_pinecone[sim_scores_argsort_1[0]]\n",
    "    \n",
    "    similarity_scores_2 = cross_encoder_2.predict(sentence_combinations)\n",
    "    sim_scores_argsort_2 = list(reversed(np.argsort(similarity_scores_2)))\n",
    "    re_ranked_final_result_2 = results_from_pinecone[sim_scores_argsort_2[0]]\n",
    "    \n",
    "    similarity_scores_3 = cross_encoder_3.predict(sentence_combinations)\n",
    "    sim_scores_argsort_3 = list(reversed(np.argsort(similarity_scores_3)))\n",
    "    re_ranked_final_result_3 = results_from_pinecone[sim_scores_argsort_3[0]]\n",
    "    \n",
    "    similarity_scores_4 = cross_encoder_4.predict(sentence_combinations)\n",
    "    sim_scores_argsort_4 = list(reversed(np.argsort(similarity_scores_4)))\n",
    "    re_ranked_final_result_4 = results_from_pinecone[sim_scores_argsort_4[0]]\n",
    "    \n",
    "    return results_from_pinecone[0]['id'], re_ranked_final_result_1['id'], re_ranked_final_result_2['id'], re_ranked_final_result_3['id'], re_ranked_final_result_4['id']\n"
   ]
  },
  {
   "cell_type": "code",
   "execution_count": 178,
   "id": "aacddbf2-1695-42da-81e0-e53ffe4530b6",
   "metadata": {},
   "outputs": [],
   "source": [
    "# val_sample = dataset_ko['validation'][:]\n",
    "val_sample = combined_dataset[:]"
   ]
  },
  {
   "cell_type": "code",
   "execution_count": 179,
   "id": "3e5b08c0-d2a7-4ccb-a11d-cadf8118e5c6",
   "metadata": {},
   "outputs": [
    {
     "data": {
      "text/plain": [
       "3"
      ]
     },
     "execution_count": 179,
     "metadata": {},
     "output_type": "execute_result"
    }
   ],
   "source": [
    "len(val_sample)"
   ]
  },
  {
   "cell_type": "code",
   "execution_count": 180,
   "id": "56351c5b-8c3a-4904-9887-27a159418b23",
   "metadata": {},
   "outputs": [
    {
     "data": {
      "text/plain": [
       "{'paragraph': '가리비의 껍데기는 부채처럼 생겼으며 표면에는 골판지처럼 골이 있다. 패각의 길이는 2~2.5cm이며, 껍데기 색은 보라색, 붉은색, 노란색, 묽은 주황색 등이다. 가리비는 껍데기를 열고 닫는 힘이 아주 세고, 껍데기를 크게 벌리고 먹이를 찾아다니는데, 불가사리 같은 적을 만나면 껍데기를 열고 닫으면서 재빨리 달아난다. 껍데기를 열고 닫으면서 몸에 담아 두었던 물을 뒤로 보내며 힘차게 앞으로 나아갈 수 있다.',\n",
       " 'question': '가리비는 적을 만나면 껍데기를 닫는다.',\n",
       " 'label': 0}"
      ]
     },
     "execution_count": 180,
     "metadata": {},
     "output_type": "execute_result"
    }
   ],
   "source": [
    "dataset_ko['validation'][3]"
   ]
  },
  {
   "cell_type": "code",
   "execution_count": 181,
   "id": "4f7e502a-e607-4afb-a8c6-ef048106b486",
   "metadata": {},
   "outputs": [
    {
     "name": "stdout",
     "output_type": "stream",
     "text": [
      "판포르테는 수녀들이 수도원에 바쳤던 음식인가요?\n"
     ]
    }
   ],
   "source": [
    "from random import sample\n",
    "\n",
    "query = sample(dataset_ko['validation']['question'], 1)[0]\n",
    "print(query)"
   ]
  },
  {
   "cell_type": "code",
   "execution_count": 182,
   "id": "9aff734d-9461-4f02-ab7a-7dd43dd1ecd3",
   "metadata": {},
   "outputs": [
    {
     "data": {
      "text/plain": [
       "'6836dba56b5f9aee320a2b40e38c8719'"
      ]
     },
     "execution_count": 182,
     "metadata": {},
     "output_type": "execute_result"
    }
   ],
   "source": [
    "# q_to_hash = {data['question']: my_hash(data['paragraph']) for data in dataset_ko['validation']}\n",
    "q_to_hash = {data['question']: my_hash(data['paragraph']) for data in combined_dataset}\n",
    "\n",
    "q_to_hash[query]"
   ]
  },
  {
   "cell_type": "markdown",
   "id": "57d88938-2934-43cb-840b-aa575046b192",
   "metadata": {},
   "source": [
    "## 5.2 text-embedding-ada-002 한국어 성능"
   ]
  },
  {
   "cell_type": "code",
   "execution_count": 183,
   "id": "36d31cb4-5978-41d1-b686-6b75a2e2a107",
   "metadata": {},
   "outputs": [],
   "source": [
    "ENGINE = 'text-embedding-ada-002'\n",
    "# ENGINE_2 = 'text-embedding-ada-002'\n",
    "# ENGINE_3_S = 'text-embedding-3-small'  # OpenAI의 3세대 embedding 모델 (소형)\n",
    "# ENGINE_3_L = 'text-embedding-3-large'  # OpenAI의 3세대 embedding 모델 (대형)"
   ]
  },
  {
   "cell_type": "code",
   "execution_count": 184,
   "id": "b6c59a22-de79-48f7-967c-e2eff91beab1",
   "metadata": {},
   "outputs": [],
   "source": [
    "pinecone.delete_index(INDEX_NAME)  # delete the index\n",
    "\n",
    "pinecone.create_index(\n",
    "    INDEX_NAME, # 인덱스 이름\n",
    "    dimension=1536, # 벡터의 치수, text-embedding-ada-002, text-embedding-3-small\n",
    "    # dimension=3072, # 벡터의 치수, text-embedding-3-large\n",
    "    \n",
    "    metric='cosine', # 인덱스를 검색할 때 사용할 유사성 메트릭\n",
    "    spec=PodSpec(\n",
    "      environment=\"gcp-starter\"\n",
    "    )\n",
    "    # pod_type=\"p1\" # 파인콘 파드의 유형\n",
    ")\n",
    "\n",
    "# 인덱스를 변수로 저장\n",
    "index = pinecone.Index(INDEX_NAME)"
   ]
  },
  {
   "cell_type": "code",
   "execution_count": 185,
   "id": "069cb860-d20b-4c00-b733-e57b9fba270d",
   "metadata": {},
   "outputs": [
    {
     "name": "stderr",
     "output_type": "stream",
     "text": [
      "100%|██████████████████████████████████████████████████████████████████████████████| 6/6 [00:21<00:00,  3.51s/it]\n",
      "100%|████████████████████████████████████████████████████████████████████████████| 29/29 [01:37<00:00,  3.36s/it]\n",
      "100%|████████████████████████████████████████████████████████████████████████████| 11/11 [00:33<00:00,  3.00s/it]\n"
     ]
    }
   ],
   "source": [
    "for idx in tqdm(range(0, len(dataset_ko['validation']), 128)):\n",
    "    data_sample = dataset_ko['validation'][idx:idx + 128]\n",
    "\n",
    "    passages = data_sample['paragraph']\n",
    "    upload_texts_to_pinecone(passages, engine=ENGINE)\n",
    "\n",
    "for idx in tqdm(range(0, len(dataset_ko['train']), 128)):\n",
    "    data_sample = dataset_ko['train'][idx:idx + 128]\n",
    "\n",
    "    passages = data_sample['paragraph']\n",
    "    upload_texts_to_pinecone(passages, engine=ENGINE)\n",
    "\n",
    "for idx in tqdm(range(0, len(dataset_ko['test']), 128)):\n",
    "    data_sample = dataset_ko['test'][idx:idx + 128]\n",
    "\n",
    "    passages = data_sample['paragraph']\n",
    "    upload_texts_to_pinecone(passages, engine=ENGINE)"
   ]
  },
  {
   "cell_type": "code",
   "execution_count": 186,
   "id": "f2ece337-d832-4ca8-9a15-bb1394d43b18",
   "metadata": {
    "scrolled": true
   },
   "outputs": [
    {
     "name": "stderr",
     "output_type": "stream",
     "text": [
      "  1%|▌                                                                       | 50/5769 [01:59<3:47:07,  2.38s/it]"
     ]
    },
    {
     "name": "stdout",
     "output_type": "stream",
     "text": [
      "Step 50\n",
      "Accuracy without re-ranking                            : 0.84\n",
      "Accuracy with re-ranking(mmarco-mMiniLMv2-L12-H384-v1) : 0.92\n",
      "Accuracy with re-ranking(klue-cross-encoder-v1)        : 0.92\n",
      "Accuracy with re-ranking(ms-marco-MiniLM-L-12-v2)      : 0.52\n",
      "Accuracy with re-ranking(ms-marco-MiniLM-L-12-v2 tuning): 0.44\n"
     ]
    },
    {
     "name": "stderr",
     "output_type": "stream",
     "text": [
      "  2%|█▏                                                                     | 100/5769 [03:22<2:37:46,  1.67s/it]"
     ]
    },
    {
     "name": "stdout",
     "output_type": "stream",
     "text": [
      "Step 100\n",
      "Accuracy without re-ranking                            : 0.77\n",
      "Accuracy with re-ranking(mmarco-mMiniLMv2-L12-H384-v1) : 0.84\n",
      "Accuracy with re-ranking(klue-cross-encoder-v1)        : 0.87\n",
      "Accuracy with re-ranking(ms-marco-MiniLM-L-12-v2)      : 0.49\n",
      "Accuracy with re-ranking(ms-marco-MiniLM-L-12-v2 tuning): 0.43\n"
     ]
    },
    {
     "name": "stderr",
     "output_type": "stream",
     "text": [
      "  3%|█▊                                                                     | 150/5769 [04:44<2:00:17,  1.28s/it]"
     ]
    },
    {
     "name": "stdout",
     "output_type": "stream",
     "text": [
      "Step 150\n",
      "Accuracy without re-ranking                            : 0.7666666666666667\n",
      "Accuracy with re-ranking(mmarco-mMiniLMv2-L12-H384-v1) : 0.8466666666666667\n",
      "Accuracy with re-ranking(klue-cross-encoder-v1)        : 0.8666666666666667\n",
      "Accuracy with re-ranking(ms-marco-MiniLM-L-12-v2)      : 0.5\n",
      "Accuracy with re-ranking(ms-marco-MiniLM-L-12-v2 tuning): 0.44666666666666666\n"
     ]
    },
    {
     "name": "stderr",
     "output_type": "stream",
     "text": [
      "  3%|██▍                                                                    | 200/5769 [06:06<3:22:05,  2.18s/it]"
     ]
    },
    {
     "name": "stdout",
     "output_type": "stream",
     "text": [
      "Step 200\n",
      "Accuracy without re-ranking                            : 0.745\n",
      "Accuracy with re-ranking(mmarco-mMiniLMv2-L12-H384-v1) : 0.85\n",
      "Accuracy with re-ranking(klue-cross-encoder-v1)        : 0.87\n",
      "Accuracy with re-ranking(ms-marco-MiniLM-L-12-v2)      : 0.5\n",
      "Accuracy with re-ranking(ms-marco-MiniLM-L-12-v2 tuning): 0.465\n"
     ]
    },
    {
     "name": "stderr",
     "output_type": "stream",
     "text": [
      "  4%|███                                                                    | 250/5769 [07:18<2:01:45,  1.32s/it]"
     ]
    },
    {
     "name": "stdout",
     "output_type": "stream",
     "text": [
      "Step 250\n",
      "Accuracy without re-ranking                            : 0.752\n",
      "Accuracy with re-ranking(mmarco-mMiniLMv2-L12-H384-v1) : 0.844\n",
      "Accuracy with re-ranking(klue-cross-encoder-v1)        : 0.848\n",
      "Accuracy with re-ranking(ms-marco-MiniLM-L-12-v2)      : 0.484\n",
      "Accuracy with re-ranking(ms-marco-MiniLM-L-12-v2 tuning): 0.48\n"
     ]
    },
    {
     "name": "stderr",
     "output_type": "stream",
     "text": [
      "  5%|███▋                                                                   | 300/5769 [08:22<1:14:09,  1.23it/s]"
     ]
    },
    {
     "name": "stdout",
     "output_type": "stream",
     "text": [
      "Step 300\n",
      "Accuracy without re-ranking                            : 0.7366666666666667\n",
      "Accuracy with re-ranking(mmarco-mMiniLMv2-L12-H384-v1) : 0.8533333333333334\n",
      "Accuracy with re-ranking(klue-cross-encoder-v1)        : 0.8566666666666667\n",
      "Accuracy with re-ranking(ms-marco-MiniLM-L-12-v2)      : 0.49\n",
      "Accuracy with re-ranking(ms-marco-MiniLM-L-12-v2 tuning): 0.49333333333333335\n"
     ]
    },
    {
     "name": "stderr",
     "output_type": "stream",
     "text": [
      "  6%|████▎                                                                  | 350/5769 [09:25<1:40:15,  1.11s/it]"
     ]
    },
    {
     "name": "stdout",
     "output_type": "stream",
     "text": [
      "Step 350\n",
      "Accuracy without re-ranking                            : 0.7257142857142858\n",
      "Accuracy with re-ranking(mmarco-mMiniLMv2-L12-H384-v1) : 0.8514285714285714\n",
      "Accuracy with re-ranking(klue-cross-encoder-v1)        : 0.8514285714285714\n",
      "Accuracy with re-ranking(ms-marco-MiniLM-L-12-v2)      : 0.48\n",
      "Accuracy with re-ranking(ms-marco-MiniLM-L-12-v2 tuning): 0.4828571428571429\n"
     ]
    },
    {
     "name": "stderr",
     "output_type": "stream",
     "text": [
      "  7%|████▉                                                                  | 400/5769 [10:08<1:32:18,  1.03s/it]"
     ]
    },
    {
     "name": "stdout",
     "output_type": "stream",
     "text": [
      "Step 400\n",
      "Accuracy without re-ranking                            : 0.7375\n",
      "Accuracy with re-ranking(mmarco-mMiniLMv2-L12-H384-v1) : 0.8625\n",
      "Accuracy with re-ranking(klue-cross-encoder-v1)        : 0.86\n",
      "Accuracy with re-ranking(ms-marco-MiniLM-L-12-v2)      : 0.5\n",
      "Accuracy with re-ranking(ms-marco-MiniLM-L-12-v2 tuning): 0.495\n"
     ]
    },
    {
     "name": "stderr",
     "output_type": "stream",
     "text": [
      "  8%|█████▌                                                                 | 450/5769 [10:59<1:22:07,  1.08it/s]"
     ]
    },
    {
     "name": "stdout",
     "output_type": "stream",
     "text": [
      "Step 450\n",
      "Accuracy without re-ranking                            : 0.7333333333333333\n",
      "Accuracy with re-ranking(mmarco-mMiniLMv2-L12-H384-v1) : 0.8533333333333334\n",
      "Accuracy with re-ranking(klue-cross-encoder-v1)        : 0.8511111111111112\n",
      "Accuracy with re-ranking(ms-marco-MiniLM-L-12-v2)      : 0.48\n",
      "Accuracy with re-ranking(ms-marco-MiniLM-L-12-v2 tuning): 0.4866666666666667\n"
     ]
    },
    {
     "name": "stderr",
     "output_type": "stream",
     "text": [
      "  9%|██████▏                                                                | 500/5769 [11:47<1:21:53,  1.07it/s]"
     ]
    },
    {
     "name": "stdout",
     "output_type": "stream",
     "text": [
      "Step 500\n",
      "Accuracy without re-ranking                            : 0.734\n",
      "Accuracy with re-ranking(mmarco-mMiniLMv2-L12-H384-v1) : 0.85\n",
      "Accuracy with re-ranking(klue-cross-encoder-v1)        : 0.846\n",
      "Accuracy with re-ranking(ms-marco-MiniLM-L-12-v2)      : 0.488\n",
      "Accuracy with re-ranking(ms-marco-MiniLM-L-12-v2 tuning): 0.496\n"
     ]
    },
    {
     "name": "stderr",
     "output_type": "stream",
     "text": [
      " 10%|██████▊                                                                | 550/5769 [12:33<1:29:18,  1.03s/it]"
     ]
    },
    {
     "name": "stdout",
     "output_type": "stream",
     "text": [
      "Step 550\n",
      "Accuracy without re-ranking                            : 0.7272727272727273\n",
      "Accuracy with re-ranking(mmarco-mMiniLMv2-L12-H384-v1) : 0.8436363636363636\n",
      "Accuracy with re-ranking(klue-cross-encoder-v1)        : 0.8381818181818181\n",
      "Accuracy with re-ranking(ms-marco-MiniLM-L-12-v2)      : 0.4818181818181818\n",
      "Accuracy with re-ranking(ms-marco-MiniLM-L-12-v2 tuning): 0.4890909090909091\n"
     ]
    },
    {
     "name": "stderr",
     "output_type": "stream",
     "text": [
      " 10%|███████▍                                                               | 600/5769 [13:24<2:05:14,  1.45s/it]"
     ]
    },
    {
     "name": "stdout",
     "output_type": "stream",
     "text": [
      "Step 600\n",
      "Accuracy without re-ranking                            : 0.73\n",
      "Accuracy with re-ranking(mmarco-mMiniLMv2-L12-H384-v1) : 0.8416666666666667\n",
      "Accuracy with re-ranking(klue-cross-encoder-v1)        : 0.8366666666666667\n",
      "Accuracy with re-ranking(ms-marco-MiniLM-L-12-v2)      : 0.485\n",
      "Accuracy with re-ranking(ms-marco-MiniLM-L-12-v2 tuning): 0.495\n"
     ]
    },
    {
     "name": "stderr",
     "output_type": "stream",
     "text": [
      " 11%|███████▉                                                               | 650/5769 [14:13<1:45:09,  1.23s/it]"
     ]
    },
    {
     "name": "stdout",
     "output_type": "stream",
     "text": [
      "Step 650\n",
      "Accuracy without re-ranking                            : 0.7307692307692307\n",
      "Accuracy with re-ranking(mmarco-mMiniLMv2-L12-H384-v1) : 0.8430769230769231\n",
      "Accuracy with re-ranking(klue-cross-encoder-v1)        : 0.8353846153846154\n",
      "Accuracy with re-ranking(ms-marco-MiniLM-L-12-v2)      : 0.4723076923076923\n",
      "Accuracy with re-ranking(ms-marco-MiniLM-L-12-v2 tuning): 0.4846153846153846\n"
     ]
    },
    {
     "name": "stderr",
     "output_type": "stream",
     "text": [
      " 12%|████████▌                                                              | 700/5769 [14:59<1:36:20,  1.14s/it]"
     ]
    },
    {
     "name": "stdout",
     "output_type": "stream",
     "text": [
      "Step 700\n",
      "Accuracy without re-ranking                            : 0.7285714285714285\n",
      "Accuracy with re-ranking(mmarco-mMiniLMv2-L12-H384-v1) : 0.8385714285714285\n",
      "Accuracy with re-ranking(klue-cross-encoder-v1)        : 0.8285714285714286\n",
      "Accuracy with re-ranking(ms-marco-MiniLM-L-12-v2)      : 0.4714285714285714\n",
      "Accuracy with re-ranking(ms-marco-MiniLM-L-12-v2 tuning): 0.4785714285714286\n"
     ]
    },
    {
     "name": "stderr",
     "output_type": "stream",
     "text": [
      " 13%|█████████▏                                                             | 750/5769 [15:49<1:14:36,  1.12it/s]"
     ]
    },
    {
     "name": "stdout",
     "output_type": "stream",
     "text": [
      "Step 750\n",
      "Accuracy without re-ranking                            : 0.7213333333333334\n",
      "Accuracy with re-ranking(mmarco-mMiniLMv2-L12-H384-v1) : 0.8293333333333334\n",
      "Accuracy with re-ranking(klue-cross-encoder-v1)        : 0.8186666666666667\n",
      "Accuracy with re-ranking(ms-marco-MiniLM-L-12-v2)      : 0.4693333333333333\n",
      "Accuracy with re-ranking(ms-marco-MiniLM-L-12-v2 tuning): 0.4746666666666667\n"
     ]
    },
    {
     "name": "stderr",
     "output_type": "stream",
     "text": [
      " 14%|█████████▊                                                             | 800/5769 [16:42<1:03:14,  1.31it/s]"
     ]
    },
    {
     "name": "stdout",
     "output_type": "stream",
     "text": [
      "Step 800\n",
      "Accuracy without re-ranking                            : 0.7275\n",
      "Accuracy with re-ranking(mmarco-mMiniLMv2-L12-H384-v1) : 0.83375\n",
      "Accuracy with re-ranking(klue-cross-encoder-v1)        : 0.82375\n",
      "Accuracy with re-ranking(ms-marco-MiniLM-L-12-v2)      : 0.47\n",
      "Accuracy with re-ranking(ms-marco-MiniLM-L-12-v2 tuning): 0.47\n"
     ]
    },
    {
     "name": "stderr",
     "output_type": "stream",
     "text": [
      " 15%|██████████▍                                                            | 850/5769 [17:34<3:26:57,  2.52s/it]"
     ]
    },
    {
     "name": "stdout",
     "output_type": "stream",
     "text": [
      "Step 850\n",
      "Accuracy without re-ranking                            : 0.7270588235294118\n",
      "Accuracy with re-ranking(mmarco-mMiniLMv2-L12-H384-v1) : 0.8352941176470589\n",
      "Accuracy with re-ranking(klue-cross-encoder-v1)        : 0.8223529411764706\n",
      "Accuracy with re-ranking(ms-marco-MiniLM-L-12-v2)      : 0.46941176470588236\n",
      "Accuracy with re-ranking(ms-marco-MiniLM-L-12-v2 tuning): 0.46705882352941175\n"
     ]
    },
    {
     "name": "stderr",
     "output_type": "stream",
     "text": [
      " 16%|███████████                                                            | 900/5769 [18:19<1:30:47,  1.12s/it]"
     ]
    },
    {
     "name": "stdout",
     "output_type": "stream",
     "text": [
      "Step 900\n",
      "Accuracy without re-ranking                            : 0.7322222222222222\n",
      "Accuracy with re-ranking(mmarco-mMiniLMv2-L12-H384-v1) : 0.8366666666666667\n",
      "Accuracy with re-ranking(klue-cross-encoder-v1)        : 0.8222222222222222\n",
      "Accuracy with re-ranking(ms-marco-MiniLM-L-12-v2)      : 0.4711111111111111\n",
      "Accuracy with re-ranking(ms-marco-MiniLM-L-12-v2 tuning): 0.4711111111111111\n"
     ]
    },
    {
     "name": "stderr",
     "output_type": "stream",
     "text": [
      " 16%|████████████                                                             | 950/5769 [19:01<51:27,  1.56it/s]"
     ]
    },
    {
     "name": "stdout",
     "output_type": "stream",
     "text": [
      "Step 950\n",
      "Accuracy without re-ranking                            : 0.7305263157894737\n",
      "Accuracy with re-ranking(mmarco-mMiniLMv2-L12-H384-v1) : 0.8357894736842105\n",
      "Accuracy with re-ranking(klue-cross-encoder-v1)        : 0.8210526315789474\n",
      "Accuracy with re-ranking(ms-marco-MiniLM-L-12-v2)      : 0.4726315789473684\n",
      "Accuracy with re-ranking(ms-marco-MiniLM-L-12-v2 tuning): 0.4673684210526316\n"
     ]
    },
    {
     "name": "stderr",
     "output_type": "stream",
     "text": [
      " 17%|████████████▏                                                         | 1000/5769 [19:43<1:11:09,  1.12it/s]"
     ]
    },
    {
     "name": "stdout",
     "output_type": "stream",
     "text": [
      "Step 1000\n",
      "Accuracy without re-ranking                            : 0.732\n",
      "Accuracy with re-ranking(mmarco-mMiniLMv2-L12-H384-v1) : 0.836\n",
      "Accuracy with re-ranking(klue-cross-encoder-v1)        : 0.822\n",
      "Accuracy with re-ranking(ms-marco-MiniLM-L-12-v2)      : 0.475\n",
      "Accuracy with re-ranking(ms-marco-MiniLM-L-12-v2 tuning): 0.466\n"
     ]
    },
    {
     "name": "stderr",
     "output_type": "stream",
     "text": [
      " 18%|█████████████                                                           | 1050/5769 [20:21<54:42,  1.44it/s]"
     ]
    },
    {
     "name": "stdout",
     "output_type": "stream",
     "text": [
      "Step 1050\n",
      "Accuracy without re-ranking                            : 0.7304761904761905\n",
      "Accuracy with re-ranking(mmarco-mMiniLMv2-L12-H384-v1) : 0.8371428571428572\n",
      "Accuracy with re-ranking(klue-cross-encoder-v1)        : 0.8238095238095238\n",
      "Accuracy with re-ranking(ms-marco-MiniLM-L-12-v2)      : 0.47333333333333333\n",
      "Accuracy with re-ranking(ms-marco-MiniLM-L-12-v2 tuning): 0.46476190476190476\n"
     ]
    },
    {
     "name": "stderr",
     "output_type": "stream",
     "text": [
      " 19%|█████████████▋                                                          | 1100/5769 [20:54<55:26,  1.40it/s]"
     ]
    },
    {
     "name": "stdout",
     "output_type": "stream",
     "text": [
      "Step 1100\n",
      "Accuracy without re-ranking                            : 0.730909090909091\n",
      "Accuracy with re-ranking(mmarco-mMiniLMv2-L12-H384-v1) : 0.8381818181818181\n",
      "Accuracy with re-ranking(klue-cross-encoder-v1)        : 0.8254545454545454\n",
      "Accuracy with re-ranking(ms-marco-MiniLM-L-12-v2)      : 0.4727272727272727\n",
      "Accuracy with re-ranking(ms-marco-MiniLM-L-12-v2 tuning): 0.4618181818181818\n"
     ]
    },
    {
     "name": "stderr",
     "output_type": "stream",
     "text": [
      " 20%|█████████████▉                                                        | 1150/5769 [21:32<1:45:29,  1.37s/it]"
     ]
    },
    {
     "name": "stdout",
     "output_type": "stream",
     "text": [
      "Step 1150\n",
      "Accuracy without re-ranking                            : 0.7269565217391304\n",
      "Accuracy with re-ranking(mmarco-mMiniLMv2-L12-H384-v1) : 0.837391304347826\n",
      "Accuracy with re-ranking(klue-cross-encoder-v1)        : 0.8252173913043478\n",
      "Accuracy with re-ranking(ms-marco-MiniLM-L-12-v2)      : 0.4765217391304348\n",
      "Accuracy with re-ranking(ms-marco-MiniLM-L-12-v2 tuning): 0.46608695652173915\n"
     ]
    },
    {
     "name": "stderr",
     "output_type": "stream",
     "text": [
      " 21%|██████████████▉                                                         | 1200/5769 [22:15<44:59,  1.69it/s]"
     ]
    },
    {
     "name": "stdout",
     "output_type": "stream",
     "text": [
      "Step 1200\n",
      "Accuracy without re-ranking                            : 0.725\n",
      "Accuracy with re-ranking(mmarco-mMiniLMv2-L12-H384-v1) : 0.8341666666666666\n",
      "Accuracy with re-ranking(klue-cross-encoder-v1)        : 0.8233333333333334\n",
      "Accuracy with re-ranking(ms-marco-MiniLM-L-12-v2)      : 0.47583333333333333\n",
      "Accuracy with re-ranking(ms-marco-MiniLM-L-12-v2 tuning): 0.465\n"
     ]
    },
    {
     "name": "stderr",
     "output_type": "stream",
     "text": [
      " 22%|███████████████▏                                                      | 1250/5769 [22:51<1:16:28,  1.02s/it]"
     ]
    },
    {
     "name": "stdout",
     "output_type": "stream",
     "text": [
      "Step 1250\n",
      "Accuracy without re-ranking                            : 0.7184\n",
      "Accuracy with re-ranking(mmarco-mMiniLMv2-L12-H384-v1) : 0.828\n",
      "Accuracy with re-ranking(klue-cross-encoder-v1)        : 0.8192\n",
      "Accuracy with re-ranking(ms-marco-MiniLM-L-12-v2)      : 0.4712\n",
      "Accuracy with re-ranking(ms-marco-MiniLM-L-12-v2 tuning): 0.46\n"
     ]
    },
    {
     "name": "stderr",
     "output_type": "stream",
     "text": [
      " 23%|████████████████▏                                                       | 1300/5769 [23:26<55:19,  1.35it/s]"
     ]
    },
    {
     "name": "stdout",
     "output_type": "stream",
     "text": [
      "Step 1300\n",
      "Accuracy without re-ranking                            : 0.7169230769230769\n",
      "Accuracy with re-ranking(mmarco-mMiniLMv2-L12-H384-v1) : 0.83\n",
      "Accuracy with re-ranking(klue-cross-encoder-v1)        : 0.82\n",
      "Accuracy with re-ranking(ms-marco-MiniLM-L-12-v2)      : 0.4684615384615385\n",
      "Accuracy with re-ranking(ms-marco-MiniLM-L-12-v2 tuning): 0.45615384615384613\n"
     ]
    },
    {
     "name": "stderr",
     "output_type": "stream",
     "text": [
      " 23%|████████████████▊                                                       | 1350/5769 [24:05<44:16,  1.66it/s]"
     ]
    },
    {
     "name": "stdout",
     "output_type": "stream",
     "text": [
      "Step 1350\n",
      "Accuracy without re-ranking                            : 0.7214814814814815\n",
      "Accuracy with re-ranking(mmarco-mMiniLMv2-L12-H384-v1) : 0.8340740740740741\n",
      "Accuracy with re-ranking(klue-cross-encoder-v1)        : 0.8237037037037037\n",
      "Accuracy with re-ranking(ms-marco-MiniLM-L-12-v2)      : 0.47333333333333333\n",
      "Accuracy with re-ranking(ms-marco-MiniLM-L-12-v2 tuning): 0.4622222222222222\n"
     ]
    },
    {
     "name": "stderr",
     "output_type": "stream",
     "text": [
      " 24%|█████████████████▍                                                      | 1400/5769 [24:43<45:37,  1.60it/s]"
     ]
    },
    {
     "name": "stdout",
     "output_type": "stream",
     "text": [
      "Step 1400\n",
      "Accuracy without re-ranking                            : 0.7207142857142858\n",
      "Accuracy with re-ranking(mmarco-mMiniLMv2-L12-H384-v1) : 0.835\n",
      "Accuracy with re-ranking(klue-cross-encoder-v1)        : 0.8242857142857143\n",
      "Accuracy with re-ranking(ms-marco-MiniLM-L-12-v2)      : 0.4735714285714286\n",
      "Accuracy with re-ranking(ms-marco-MiniLM-L-12-v2 tuning): 0.46714285714285714\n"
     ]
    },
    {
     "name": "stderr",
     "output_type": "stream",
     "text": [
      " 25%|██████████████████                                                      | 1450/5769 [25:23<47:30,  1.52it/s]"
     ]
    },
    {
     "name": "stdout",
     "output_type": "stream",
     "text": [
      "Step 1450\n",
      "Accuracy without re-ranking                            : 0.7186206896551725\n",
      "Accuracy with re-ranking(mmarco-mMiniLMv2-L12-H384-v1) : 0.8344827586206897\n",
      "Accuracy with re-ranking(klue-cross-encoder-v1)        : 0.8241379310344827\n",
      "Accuracy with re-ranking(ms-marco-MiniLM-L-12-v2)      : 0.47172413793103446\n",
      "Accuracy with re-ranking(ms-marco-MiniLM-L-12-v2 tuning): 0.46551724137931033\n"
     ]
    },
    {
     "name": "stderr",
     "output_type": "stream",
     "text": [
      " 26%|██████████████████▋                                                     | 1500/5769 [25:59<47:20,  1.50it/s]"
     ]
    },
    {
     "name": "stdout",
     "output_type": "stream",
     "text": [
      "Step 1500\n",
      "Accuracy without re-ranking                            : 0.7173333333333334\n",
      "Accuracy with re-ranking(mmarco-mMiniLMv2-L12-H384-v1) : 0.834\n",
      "Accuracy with re-ranking(klue-cross-encoder-v1)        : 0.8246666666666667\n",
      "Accuracy with re-ranking(ms-marco-MiniLM-L-12-v2)      : 0.47\n",
      "Accuracy with re-ranking(ms-marco-MiniLM-L-12-v2 tuning): 0.468\n"
     ]
    },
    {
     "name": "stderr",
     "output_type": "stream",
     "text": [
      " 27%|███████████████████▎                                                    | 1550/5769 [26:36<42:42,  1.65it/s]"
     ]
    },
    {
     "name": "stdout",
     "output_type": "stream",
     "text": [
      "Step 1550\n",
      "Accuracy without re-ranking                            : 0.7180645161290322\n",
      "Accuracy with re-ranking(mmarco-mMiniLMv2-L12-H384-v1) : 0.8348387096774194\n",
      "Accuracy with re-ranking(klue-cross-encoder-v1)        : 0.824516129032258\n",
      "Accuracy with re-ranking(ms-marco-MiniLM-L-12-v2)      : 0.4703225806451613\n",
      "Accuracy with re-ranking(ms-marco-MiniLM-L-12-v2 tuning): 0.46838709677419355\n"
     ]
    },
    {
     "name": "stderr",
     "output_type": "stream",
     "text": [
      " 28%|███████████████████▉                                                    | 1600/5769 [27:09<42:38,  1.63it/s]"
     ]
    },
    {
     "name": "stdout",
     "output_type": "stream",
     "text": [
      "Step 1600\n",
      "Accuracy without re-ranking                            : 0.719375\n",
      "Accuracy with re-ranking(mmarco-mMiniLMv2-L12-H384-v1) : 0.83625\n",
      "Accuracy with re-ranking(klue-cross-encoder-v1)        : 0.825625\n",
      "Accuracy with re-ranking(ms-marco-MiniLM-L-12-v2)      : 0.465625\n",
      "Accuracy with re-ranking(ms-marco-MiniLM-L-12-v2 tuning): 0.465\n"
     ]
    },
    {
     "name": "stderr",
     "output_type": "stream",
     "text": [
      " 29%|████████████████████                                                  | 1650/5769 [27:46<1:00:12,  1.14it/s]"
     ]
    },
    {
     "name": "stdout",
     "output_type": "stream",
     "text": [
      "Step 1650\n",
      "Accuracy without re-ranking                            : 0.7187878787878788\n",
      "Accuracy with re-ranking(mmarco-mMiniLMv2-L12-H384-v1) : 0.8351515151515152\n",
      "Accuracy with re-ranking(klue-cross-encoder-v1)        : 0.8248484848484848\n",
      "Accuracy with re-ranking(ms-marco-MiniLM-L-12-v2)      : 0.46606060606060606\n",
      "Accuracy with re-ranking(ms-marco-MiniLM-L-12-v2 tuning): 0.46484848484848484\n"
     ]
    },
    {
     "name": "stderr",
     "output_type": "stream",
     "text": [
      " 29%|█████████████████████▏                                                  | 1700/5769 [28:19<39:32,  1.72it/s]"
     ]
    },
    {
     "name": "stdout",
     "output_type": "stream",
     "text": [
      "Step 1700\n",
      "Accuracy without re-ranking                            : 0.7170588235294117\n",
      "Accuracy with re-ranking(mmarco-mMiniLMv2-L12-H384-v1) : 0.8352941176470589\n",
      "Accuracy with re-ranking(klue-cross-encoder-v1)        : 0.8252941176470588\n",
      "Accuracy with re-ranking(ms-marco-MiniLM-L-12-v2)      : 0.46705882352941175\n",
      "Accuracy with re-ranking(ms-marco-MiniLM-L-12-v2 tuning): 0.4647058823529412\n"
     ]
    },
    {
     "name": "stderr",
     "output_type": "stream",
     "text": [
      " 30%|█████████████████████▊                                                  | 1750/5769 [28:55<40:00,  1.67it/s]"
     ]
    },
    {
     "name": "stdout",
     "output_type": "stream",
     "text": [
      "Step 1750\n",
      "Accuracy without re-ranking                            : 0.7188571428571429\n",
      "Accuracy with re-ranking(mmarco-mMiniLMv2-L12-H384-v1) : 0.8365714285714285\n",
      "Accuracy with re-ranking(klue-cross-encoder-v1)        : 0.8257142857142857\n",
      "Accuracy with re-ranking(ms-marco-MiniLM-L-12-v2)      : 0.4662857142857143\n",
      "Accuracy with re-ranking(ms-marco-MiniLM-L-12-v2 tuning): 0.4645714285714286\n"
     ]
    },
    {
     "name": "stderr",
     "output_type": "stream",
     "text": [
      " 31%|██████████████████████▍                                                 | 1800/5769 [29:28<39:30,  1.67it/s]"
     ]
    },
    {
     "name": "stdout",
     "output_type": "stream",
     "text": [
      "Step 1800\n",
      "Accuracy without re-ranking                            : 0.7161111111111111\n",
      "Accuracy with re-ranking(mmarco-mMiniLMv2-L12-H384-v1) : 0.8361111111111111\n",
      "Accuracy with re-ranking(klue-cross-encoder-v1)        : 0.825\n",
      "Accuracy with re-ranking(ms-marco-MiniLM-L-12-v2)      : 0.46444444444444444\n",
      "Accuracy with re-ranking(ms-marco-MiniLM-L-12-v2 tuning): 0.4627777777777778\n"
     ]
    },
    {
     "name": "stderr",
     "output_type": "stream",
     "text": [
      " 32%|██████████████████████▍                                               | 1850/5769 [30:03<1:15:10,  1.15s/it]"
     ]
    },
    {
     "name": "stdout",
     "output_type": "stream",
     "text": [
      "Step 1850\n",
      "Accuracy without re-ranking                            : 0.7162162162162162\n",
      "Accuracy with re-ranking(mmarco-mMiniLMv2-L12-H384-v1) : 0.8362162162162162\n",
      "Accuracy with re-ranking(klue-cross-encoder-v1)        : 0.8254054054054054\n",
      "Accuracy with re-ranking(ms-marco-MiniLM-L-12-v2)      : 0.4643243243243243\n",
      "Accuracy with re-ranking(ms-marco-MiniLM-L-12-v2 tuning): 0.46054054054054056\n"
     ]
    },
    {
     "name": "stderr",
     "output_type": "stream",
     "text": [
      " 33%|███████████████████████▋                                                | 1900/5769 [30:53<47:23,  1.36it/s]"
     ]
    },
    {
     "name": "stdout",
     "output_type": "stream",
     "text": [
      "Step 1900\n",
      "Accuracy without re-ranking                            : 0.7152631578947368\n",
      "Accuracy with re-ranking(mmarco-mMiniLMv2-L12-H384-v1) : 0.8352631578947368\n",
      "Accuracy with re-ranking(klue-cross-encoder-v1)        : 0.8257894736842105\n",
      "Accuracy with re-ranking(ms-marco-MiniLM-L-12-v2)      : 0.4636842105263158\n",
      "Accuracy with re-ranking(ms-marco-MiniLM-L-12-v2 tuning): 0.4594736842105263\n"
     ]
    },
    {
     "name": "stderr",
     "output_type": "stream",
     "text": [
      " 34%|███████████████████████▋                                              | 1950/5769 [31:38<1:03:31,  1.00it/s]"
     ]
    },
    {
     "name": "stdout",
     "output_type": "stream",
     "text": [
      "Step 1950\n",
      "Accuracy without re-ranking                            : 0.7138461538461538\n",
      "Accuracy with re-ranking(mmarco-mMiniLMv2-L12-H384-v1) : 0.8343589743589743\n",
      "Accuracy with re-ranking(klue-cross-encoder-v1)        : 0.8251282051282052\n",
      "Accuracy with re-ranking(ms-marco-MiniLM-L-12-v2)      : 0.46205128205128204\n",
      "Accuracy with re-ranking(ms-marco-MiniLM-L-12-v2 tuning): 0.45897435897435895\n"
     ]
    },
    {
     "name": "stderr",
     "output_type": "stream",
     "text": [
      " 35%|████████████████████████▉                                               | 2000/5769 [32:15<45:38,  1.38it/s]"
     ]
    },
    {
     "name": "stdout",
     "output_type": "stream",
     "text": [
      "Step 2000\n",
      "Accuracy without re-ranking                            : 0.7155\n",
      "Accuracy with re-ranking(mmarco-mMiniLMv2-L12-H384-v1) : 0.8345\n",
      "Accuracy with re-ranking(klue-cross-encoder-v1)        : 0.8245\n",
      "Accuracy with re-ranking(ms-marco-MiniLM-L-12-v2)      : 0.463\n",
      "Accuracy with re-ranking(ms-marco-MiniLM-L-12-v2 tuning): 0.459\n"
     ]
    },
    {
     "name": "stderr",
     "output_type": "stream",
     "text": [
      " 36%|█████████████████████████▌                                              | 2050/5769 [32:53<45:06,  1.37it/s]"
     ]
    },
    {
     "name": "stdout",
     "output_type": "stream",
     "text": [
      "Step 2050\n",
      "Accuracy without re-ranking                            : 0.7190243902439024\n",
      "Accuracy with re-ranking(mmarco-mMiniLMv2-L12-H384-v1) : 0.8365853658536585\n",
      "Accuracy with re-ranking(klue-cross-encoder-v1)        : 0.8258536585365853\n",
      "Accuracy with re-ranking(ms-marco-MiniLM-L-12-v2)      : 0.4624390243902439\n",
      "Accuracy with re-ranking(ms-marco-MiniLM-L-12-v2 tuning): 0.4551219512195122\n"
     ]
    },
    {
     "name": "stderr",
     "output_type": "stream",
     "text": [
      " 36%|██████████████████████████▏                                             | 2100/5769 [33:28<40:36,  1.51it/s]"
     ]
    },
    {
     "name": "stdout",
     "output_type": "stream",
     "text": [
      "Step 2100\n",
      "Accuracy without re-ranking                            : 0.7157142857142857\n",
      "Accuracy with re-ranking(mmarco-mMiniLMv2-L12-H384-v1) : 0.8338095238095238\n",
      "Accuracy with re-ranking(klue-cross-encoder-v1)        : 0.8242857142857143\n",
      "Accuracy with re-ranking(ms-marco-MiniLM-L-12-v2)      : 0.46285714285714286\n",
      "Accuracy with re-ranking(ms-marco-MiniLM-L-12-v2 tuning): 0.45666666666666667\n"
     ]
    },
    {
     "name": "stderr",
     "output_type": "stream",
     "text": [
      " 37%|██████████████████████████▊                                             | 2150/5769 [33:59<35:58,  1.68it/s]"
     ]
    },
    {
     "name": "stdout",
     "output_type": "stream",
     "text": [
      "Step 2150\n",
      "Accuracy without re-ranking                            : 0.7158139534883721\n",
      "Accuracy with re-ranking(mmarco-mMiniLMv2-L12-H384-v1) : 0.833953488372093\n",
      "Accuracy with re-ranking(klue-cross-encoder-v1)        : 0.8232558139534883\n",
      "Accuracy with re-ranking(ms-marco-MiniLM-L-12-v2)      : 0.4627906976744186\n",
      "Accuracy with re-ranking(ms-marco-MiniLM-L-12-v2 tuning): 0.4558139534883721\n"
     ]
    },
    {
     "name": "stderr",
     "output_type": "stream",
     "text": [
      " 38%|███████████████████████████▍                                            | 2200/5769 [34:31<36:13,  1.64it/s]"
     ]
    },
    {
     "name": "stdout",
     "output_type": "stream",
     "text": [
      "Step 2200\n",
      "Accuracy without re-ranking                            : 0.7145454545454546\n",
      "Accuracy with re-ranking(mmarco-mMiniLMv2-L12-H384-v1) : 0.8313636363636364\n",
      "Accuracy with re-ranking(klue-cross-encoder-v1)        : 0.8213636363636364\n",
      "Accuracy with re-ranking(ms-marco-MiniLM-L-12-v2)      : 0.4618181818181818\n",
      "Accuracy with re-ranking(ms-marco-MiniLM-L-12-v2 tuning): 0.4531818181818182\n"
     ]
    },
    {
     "name": "stderr",
     "output_type": "stream",
     "text": [
      " 39%|████████████████████████████                                            | 2250/5769 [35:02<37:31,  1.56it/s]"
     ]
    },
    {
     "name": "stdout",
     "output_type": "stream",
     "text": [
      "Step 2250\n",
      "Accuracy without re-ranking                            : 0.7142222222222222\n",
      "Accuracy with re-ranking(mmarco-mMiniLMv2-L12-H384-v1) : 0.8311111111111111\n",
      "Accuracy with re-ranking(klue-cross-encoder-v1)        : 0.8208888888888889\n",
      "Accuracy with re-ranking(ms-marco-MiniLM-L-12-v2)      : 0.46044444444444443\n",
      "Accuracy with re-ranking(ms-marco-MiniLM-L-12-v2 tuning): 0.4528888888888889\n"
     ]
    },
    {
     "name": "stderr",
     "output_type": "stream",
     "text": [
      " 40%|████████████████████████████▋                                           | 2300/5769 [35:39<40:04,  1.44it/s]"
     ]
    },
    {
     "name": "stdout",
     "output_type": "stream",
     "text": [
      "Step 2300\n",
      "Accuracy without re-ranking                            : 0.7139130434782609\n",
      "Accuracy with re-ranking(mmarco-mMiniLMv2-L12-H384-v1) : 0.831304347826087\n",
      "Accuracy with re-ranking(klue-cross-encoder-v1)        : 0.8204347826086956\n",
      "Accuracy with re-ranking(ms-marco-MiniLM-L-12-v2)      : 0.4608695652173913\n",
      "Accuracy with re-ranking(ms-marco-MiniLM-L-12-v2 tuning): 0.4543478260869565\n"
     ]
    },
    {
     "name": "stderr",
     "output_type": "stream",
     "text": [
      " 41%|█████████████████████████████▎                                          | 2350/5769 [36:12<37:26,  1.52it/s]"
     ]
    },
    {
     "name": "stdout",
     "output_type": "stream",
     "text": [
      "Step 2350\n",
      "Accuracy without re-ranking                            : 0.7140425531914893\n",
      "Accuracy with re-ranking(mmarco-mMiniLMv2-L12-H384-v1) : 0.8314893617021276\n",
      "Accuracy with re-ranking(klue-cross-encoder-v1)        : 0.8208510638297872\n",
      "Accuracy with re-ranking(ms-marco-MiniLM-L-12-v2)      : 0.4604255319148936\n",
      "Accuracy with re-ranking(ms-marco-MiniLM-L-12-v2 tuning): 0.45276595744680853\n"
     ]
    },
    {
     "name": "stderr",
     "output_type": "stream",
     "text": [
      " 42%|█████████████████████████████▉                                          | 2400/5769 [36:43<36:30,  1.54it/s]"
     ]
    },
    {
     "name": "stdout",
     "output_type": "stream",
     "text": [
      "Step 2400\n",
      "Accuracy without re-ranking                            : 0.7141666666666666\n",
      "Accuracy with re-ranking(mmarco-mMiniLMv2-L12-H384-v1) : 0.8304166666666667\n",
      "Accuracy with re-ranking(klue-cross-encoder-v1)        : 0.82\n",
      "Accuracy with re-ranking(ms-marco-MiniLM-L-12-v2)      : 0.46208333333333335\n",
      "Accuracy with re-ranking(ms-marco-MiniLM-L-12-v2 tuning): 0.45416666666666666\n"
     ]
    },
    {
     "name": "stderr",
     "output_type": "stream",
     "text": [
      " 42%|██████████████████████████████▌                                         | 2450/5769 [37:18<40:58,  1.35it/s]"
     ]
    },
    {
     "name": "stdout",
     "output_type": "stream",
     "text": [
      "Step 2450\n",
      "Accuracy without re-ranking                            : 0.7126530612244898\n",
      "Accuracy with re-ranking(mmarco-mMiniLMv2-L12-H384-v1) : 0.8293877551020408\n",
      "Accuracy with re-ranking(klue-cross-encoder-v1)        : 0.8183673469387756\n",
      "Accuracy with re-ranking(ms-marco-MiniLM-L-12-v2)      : 0.4595918367346939\n",
      "Accuracy with re-ranking(ms-marco-MiniLM-L-12-v2 tuning): 0.45346938775510204\n"
     ]
    },
    {
     "name": "stderr",
     "output_type": "stream",
     "text": [
      " 43%|███████████████████████████████▏                                        | 2500/5769 [37:55<36:51,  1.48it/s]"
     ]
    },
    {
     "name": "stdout",
     "output_type": "stream",
     "text": [
      "Step 2500\n",
      "Accuracy without re-ranking                            : 0.7144\n",
      "Accuracy with re-ranking(mmarco-mMiniLMv2-L12-H384-v1) : 0.8304\n",
      "Accuracy with re-ranking(klue-cross-encoder-v1)        : 0.8196\n",
      "Accuracy with re-ranking(ms-marco-MiniLM-L-12-v2)      : 0.4612\n",
      "Accuracy with re-ranking(ms-marco-MiniLM-L-12-v2 tuning): 0.4548\n"
     ]
    },
    {
     "name": "stderr",
     "output_type": "stream",
     "text": [
      " 44%|███████████████████████████████▊                                        | 2550/5769 [38:29<39:30,  1.36it/s]"
     ]
    },
    {
     "name": "stdout",
     "output_type": "stream",
     "text": [
      "Step 2550\n",
      "Accuracy without re-ranking                            : 0.7137254901960784\n",
      "Accuracy with re-ranking(mmarco-mMiniLMv2-L12-H384-v1) : 0.8290196078431372\n",
      "Accuracy with re-ranking(klue-cross-encoder-v1)        : 0.8180392156862745\n",
      "Accuracy with re-ranking(ms-marco-MiniLM-L-12-v2)      : 0.4611764705882353\n",
      "Accuracy with re-ranking(ms-marco-MiniLM-L-12-v2 tuning): 0.4541176470588235\n"
     ]
    },
    {
     "name": "stderr",
     "output_type": "stream",
     "text": [
      " 45%|████████████████████████████████▍                                       | 2600/5769 [39:03<38:06,  1.39it/s]"
     ]
    },
    {
     "name": "stdout",
     "output_type": "stream",
     "text": [
      "Step 2600\n",
      "Accuracy without re-ranking                            : 0.7115384615384616\n",
      "Accuracy with re-ranking(mmarco-mMiniLMv2-L12-H384-v1) : 0.8276923076923077\n",
      "Accuracy with re-ranking(klue-cross-encoder-v1)        : 0.8173076923076923\n",
      "Accuracy with re-ranking(ms-marco-MiniLM-L-12-v2)      : 0.46192307692307694\n",
      "Accuracy with re-ranking(ms-marco-MiniLM-L-12-v2 tuning): 0.45346153846153847\n"
     ]
    },
    {
     "name": "stderr",
     "output_type": "stream",
     "text": [
      " 46%|█████████████████████████████████                                       | 2650/5769 [39:34<31:05,  1.67it/s]"
     ]
    },
    {
     "name": "stdout",
     "output_type": "stream",
     "text": [
      "Step 2650\n",
      "Accuracy without re-ranking                            : 0.7120754716981132\n",
      "Accuracy with re-ranking(mmarco-mMiniLMv2-L12-H384-v1) : 0.8271698113207547\n",
      "Accuracy with re-ranking(klue-cross-encoder-v1)        : 0.8162264150943396\n",
      "Accuracy with re-ranking(ms-marco-MiniLM-L-12-v2)      : 0.4588679245283019\n",
      "Accuracy with re-ranking(ms-marco-MiniLM-L-12-v2 tuning): 0.4520754716981132\n"
     ]
    },
    {
     "name": "stderr",
     "output_type": "stream",
     "text": [
      " 47%|█████████████████████████████████▋                                      | 2700/5769 [40:07<30:38,  1.67it/s]"
     ]
    },
    {
     "name": "stdout",
     "output_type": "stream",
     "text": [
      "Step 2700\n",
      "Accuracy without re-ranking                            : 0.7107407407407408\n",
      "Accuracy with re-ranking(mmarco-mMiniLMv2-L12-H384-v1) : 0.8248148148148148\n",
      "Accuracy with re-ranking(klue-cross-encoder-v1)        : 0.8140740740740741\n",
      "Accuracy with re-ranking(ms-marco-MiniLM-L-12-v2)      : 0.457037037037037\n",
      "Accuracy with re-ranking(ms-marco-MiniLM-L-12-v2 tuning): 0.45185185185185184\n"
     ]
    },
    {
     "name": "stderr",
     "output_type": "stream",
     "text": [
      " 48%|██████████████████████████████████▎                                     | 2750/5769 [40:43<36:20,  1.38it/s]"
     ]
    },
    {
     "name": "stdout",
     "output_type": "stream",
     "text": [
      "Step 2750\n",
      "Accuracy without re-ranking                            : 0.7105454545454546\n",
      "Accuracy with re-ranking(mmarco-mMiniLMv2-L12-H384-v1) : 0.824\n",
      "Accuracy with re-ranking(klue-cross-encoder-v1)        : 0.8134545454545454\n",
      "Accuracy with re-ranking(ms-marco-MiniLM-L-12-v2)      : 0.45854545454545453\n",
      "Accuracy with re-ranking(ms-marco-MiniLM-L-12-v2 tuning): 0.45236363636363636\n"
     ]
    },
    {
     "name": "stderr",
     "output_type": "stream",
     "text": [
      " 49%|██████████████████████████████████▉                                     | 2800/5769 [41:46<48:05,  1.03it/s]"
     ]
    },
    {
     "name": "stdout",
     "output_type": "stream",
     "text": [
      "Step 2800\n",
      "Accuracy without re-ranking                            : 0.7110714285714286\n",
      "Accuracy with re-ranking(mmarco-mMiniLMv2-L12-H384-v1) : 0.8235714285714286\n",
      "Accuracy with re-ranking(klue-cross-encoder-v1)        : 0.8132142857142857\n",
      "Accuracy with re-ranking(ms-marco-MiniLM-L-12-v2)      : 0.4592857142857143\n",
      "Accuracy with re-ranking(ms-marco-MiniLM-L-12-v2 tuning): 0.45285714285714285\n"
     ]
    },
    {
     "name": "stderr",
     "output_type": "stream",
     "text": [
      " 49%|███████████████████████████████████▌                                    | 2850/5769 [42:56<33:39,  1.45it/s]"
     ]
    },
    {
     "name": "stdout",
     "output_type": "stream",
     "text": [
      "Step 2850\n",
      "Accuracy without re-ranking                            : 0.7119298245614035\n",
      "Accuracy with re-ranking(mmarco-mMiniLMv2-L12-H384-v1) : 0.8245614035087719\n",
      "Accuracy with re-ranking(klue-cross-encoder-v1)        : 0.8147368421052632\n",
      "Accuracy with re-ranking(ms-marco-MiniLM-L-12-v2)      : 0.4610526315789474\n",
      "Accuracy with re-ranking(ms-marco-MiniLM-L-12-v2 tuning): 0.4557894736842105\n"
     ]
    },
    {
     "name": "stderr",
     "output_type": "stream",
     "text": [
      " 50%|████████████████████████████████████▏                                   | 2900/5769 [43:27<30:08,  1.59it/s]"
     ]
    },
    {
     "name": "stdout",
     "output_type": "stream",
     "text": [
      "Step 2900\n",
      "Accuracy without re-ranking                            : 0.7117241379310345\n",
      "Accuracy with re-ranking(mmarco-mMiniLMv2-L12-H384-v1) : 0.823103448275862\n",
      "Accuracy with re-ranking(klue-cross-encoder-v1)        : 0.8137931034482758\n",
      "Accuracy with re-ranking(ms-marco-MiniLM-L-12-v2)      : 0.4606896551724138\n",
      "Accuracy with re-ranking(ms-marco-MiniLM-L-12-v2 tuning): 0.4555172413793103\n"
     ]
    },
    {
     "name": "stderr",
     "output_type": "stream",
     "text": [
      " 51%|████████████████████████████████████▊                                   | 2950/5769 [44:00<28:51,  1.63it/s]"
     ]
    },
    {
     "name": "stdout",
     "output_type": "stream",
     "text": [
      "Step 2950\n",
      "Accuracy without re-ranking                            : 0.7105084745762712\n",
      "Accuracy with re-ranking(mmarco-mMiniLMv2-L12-H384-v1) : 0.8213559322033899\n",
      "Accuracy with re-ranking(klue-cross-encoder-v1)        : 0.8122033898305084\n",
      "Accuracy with re-ranking(ms-marco-MiniLM-L-12-v2)      : 0.46135593220338983\n",
      "Accuracy with re-ranking(ms-marco-MiniLM-L-12-v2 tuning): 0.4552542372881356\n"
     ]
    },
    {
     "name": "stderr",
     "output_type": "stream",
     "text": [
      " 52%|█████████████████████████████████████▍                                  | 3000/5769 [44:32<29:56,  1.54it/s]"
     ]
    },
    {
     "name": "stdout",
     "output_type": "stream",
     "text": [
      "Step 3000\n",
      "Accuracy without re-ranking                            : 0.712\n",
      "Accuracy with re-ranking(mmarco-mMiniLMv2-L12-H384-v1) : 0.8213333333333334\n",
      "Accuracy with re-ranking(klue-cross-encoder-v1)        : 0.812\n",
      "Accuracy with re-ranking(ms-marco-MiniLM-L-12-v2)      : 0.46166666666666667\n",
      "Accuracy with re-ranking(ms-marco-MiniLM-L-12-v2 tuning): 0.456\n"
     ]
    },
    {
     "name": "stderr",
     "output_type": "stream",
     "text": [
      " 53%|██████████████████████████████████████                                  | 3050/5769 [45:03<26:41,  1.70it/s]"
     ]
    },
    {
     "name": "stdout",
     "output_type": "stream",
     "text": [
      "Step 3050\n",
      "Accuracy without re-ranking                            : 0.7127868852459016\n",
      "Accuracy with re-ranking(mmarco-mMiniLMv2-L12-H384-v1) : 0.8213114754098361\n",
      "Accuracy with re-ranking(klue-cross-encoder-v1)        : 0.8121311475409836\n",
      "Accuracy with re-ranking(ms-marco-MiniLM-L-12-v2)      : 0.4616393442622951\n",
      "Accuracy with re-ranking(ms-marco-MiniLM-L-12-v2 tuning): 0.4560655737704918\n"
     ]
    },
    {
     "name": "stderr",
     "output_type": "stream",
     "text": [
      " 54%|██████████████████████████████████████▋                                 | 3100/5769 [45:35<28:59,  1.53it/s]"
     ]
    },
    {
     "name": "stdout",
     "output_type": "stream",
     "text": [
      "Step 3100\n",
      "Accuracy without re-ranking                            : 0.7119354838709677\n",
      "Accuracy with re-ranking(mmarco-mMiniLMv2-L12-H384-v1) : 0.8209677419354838\n",
      "Accuracy with re-ranking(klue-cross-encoder-v1)        : 0.8116129032258065\n",
      "Accuracy with re-ranking(ms-marco-MiniLM-L-12-v2)      : 0.4632258064516129\n",
      "Accuracy with re-ranking(ms-marco-MiniLM-L-12-v2 tuning): 0.4570967741935484\n"
     ]
    },
    {
     "name": "stderr",
     "output_type": "stream",
     "text": [
      " 55%|███████████████████████████████████████▎                                | 3150/5769 [46:13<28:02,  1.56it/s]"
     ]
    },
    {
     "name": "stdout",
     "output_type": "stream",
     "text": [
      "Step 3150\n",
      "Accuracy without re-ranking                            : 0.713015873015873\n",
      "Accuracy with re-ranking(mmarco-mMiniLMv2-L12-H384-v1) : 0.8206349206349206\n",
      "Accuracy with re-ranking(klue-cross-encoder-v1)        : 0.8117460317460318\n",
      "Accuracy with re-ranking(ms-marco-MiniLM-L-12-v2)      : 0.4641269841269841\n",
      "Accuracy with re-ranking(ms-marco-MiniLM-L-12-v2 tuning): 0.4577777777777778\n"
     ]
    },
    {
     "name": "stderr",
     "output_type": "stream",
     "text": [
      " 55%|███████████████████████████████████████▉                                | 3200/5769 [46:49<26:50,  1.59it/s]"
     ]
    },
    {
     "name": "stdout",
     "output_type": "stream",
     "text": [
      "Step 3200\n",
      "Accuracy without re-ranking                            : 0.7134375\n",
      "Accuracy with re-ranking(mmarco-mMiniLMv2-L12-H384-v1) : 0.820625\n",
      "Accuracy with re-ranking(klue-cross-encoder-v1)        : 0.8121875\n",
      "Accuracy with re-ranking(ms-marco-MiniLM-L-12-v2)      : 0.464375\n",
      "Accuracy with re-ranking(ms-marco-MiniLM-L-12-v2 tuning): 0.456875\n"
     ]
    },
    {
     "name": "stderr",
     "output_type": "stream",
     "text": [
      " 56%|████████████████████████████████████████▌                               | 3250/5769 [47:27<27:10,  1.55it/s]"
     ]
    },
    {
     "name": "stdout",
     "output_type": "stream",
     "text": [
      "Step 3250\n",
      "Accuracy without re-ranking                            : 0.7132307692307692\n",
      "Accuracy with re-ranking(mmarco-mMiniLMv2-L12-H384-v1) : 0.820923076923077\n",
      "Accuracy with re-ranking(klue-cross-encoder-v1)        : 0.812923076923077\n",
      "Accuracy with re-ranking(ms-marco-MiniLM-L-12-v2)      : 0.4655384615384615\n",
      "Accuracy with re-ranking(ms-marco-MiniLM-L-12-v2 tuning): 0.4572307692307692\n"
     ]
    },
    {
     "name": "stderr",
     "output_type": "stream",
     "text": [
      " 57%|█████████████████████████████████████████▏                              | 3300/5769 [48:00<25:42,  1.60it/s]"
     ]
    },
    {
     "name": "stdout",
     "output_type": "stream",
     "text": [
      "Step 3300\n",
      "Accuracy without re-ranking                            : 0.7124242424242424\n",
      "Accuracy with re-ranking(mmarco-mMiniLMv2-L12-H384-v1) : 0.8203030303030303\n",
      "Accuracy with re-ranking(klue-cross-encoder-v1)        : 0.8121212121212121\n",
      "Accuracy with re-ranking(ms-marco-MiniLM-L-12-v2)      : 0.46545454545454545\n",
      "Accuracy with re-ranking(ms-marco-MiniLM-L-12-v2 tuning): 0.45636363636363636\n"
     ]
    },
    {
     "name": "stderr",
     "output_type": "stream",
     "text": [
      " 58%|█████████████████████████████████████████▊                              | 3350/5769 [48:36<26:19,  1.53it/s]"
     ]
    },
    {
     "name": "stdout",
     "output_type": "stream",
     "text": [
      "Step 3350\n",
      "Accuracy without re-ranking                            : 0.713134328358209\n",
      "Accuracy with re-ranking(mmarco-mMiniLMv2-L12-H384-v1) : 0.8214925373134329\n",
      "Accuracy with re-ranking(klue-cross-encoder-v1)        : 0.8128358208955224\n",
      "Accuracy with re-ranking(ms-marco-MiniLM-L-12-v2)      : 0.4665671641791045\n",
      "Accuracy with re-ranking(ms-marco-MiniLM-L-12-v2 tuning): 0.4591044776119403\n"
     ]
    },
    {
     "name": "stderr",
     "output_type": "stream",
     "text": [
      " 59%|██████████████████████████████████████████▍                             | 3400/5769 [49:12<26:43,  1.48it/s]"
     ]
    },
    {
     "name": "stdout",
     "output_type": "stream",
     "text": [
      "Step 3400\n",
      "Accuracy without re-ranking                            : 0.7111764705882353\n",
      "Accuracy with re-ranking(mmarco-mMiniLMv2-L12-H384-v1) : 0.8202941176470588\n",
      "Accuracy with re-ranking(klue-cross-encoder-v1)        : 0.8117647058823529\n",
      "Accuracy with re-ranking(ms-marco-MiniLM-L-12-v2)      : 0.4647058823529412\n",
      "Accuracy with re-ranking(ms-marco-MiniLM-L-12-v2 tuning): 0.4591176470588235\n"
     ]
    },
    {
     "name": "stderr",
     "output_type": "stream",
     "text": [
      " 60%|███████████████████████████████████████████                             | 3450/5769 [49:45<31:03,  1.24it/s]"
     ]
    },
    {
     "name": "stdout",
     "output_type": "stream",
     "text": [
      "Step 3450\n",
      "Accuracy without re-ranking                            : 0.7098550724637681\n",
      "Accuracy with re-ranking(mmarco-mMiniLMv2-L12-H384-v1) : 0.8191304347826087\n",
      "Accuracy with re-ranking(klue-cross-encoder-v1)        : 0.8110144927536231\n",
      "Accuracy with re-ranking(ms-marco-MiniLM-L-12-v2)      : 0.4646376811594203\n",
      "Accuracy with re-ranking(ms-marco-MiniLM-L-12-v2 tuning): 0.45971014492753626\n"
     ]
    },
    {
     "name": "stderr",
     "output_type": "stream",
     "text": [
      " 61%|███████████████████████████████████████████▋                            | 3500/5769 [50:26<26:51,  1.41it/s]"
     ]
    },
    {
     "name": "stdout",
     "output_type": "stream",
     "text": [
      "Step 3500\n",
      "Accuracy without re-ranking                            : 0.7077142857142857\n",
      "Accuracy with re-ranking(mmarco-mMiniLMv2-L12-H384-v1) : 0.8188571428571428\n",
      "Accuracy with re-ranking(klue-cross-encoder-v1)        : 0.8105714285714286\n",
      "Accuracy with re-ranking(ms-marco-MiniLM-L-12-v2)      : 0.4637142857142857\n",
      "Accuracy with re-ranking(ms-marco-MiniLM-L-12-v2 tuning): 0.45885714285714285\n"
     ]
    },
    {
     "name": "stderr",
     "output_type": "stream",
     "text": [
      " 62%|████████████████████████████████████████████▎                           | 3550/5769 [50:59<22:37,  1.63it/s]"
     ]
    },
    {
     "name": "stdout",
     "output_type": "stream",
     "text": [
      "Step 3550\n",
      "Accuracy without re-ranking                            : 0.7064788732394366\n",
      "Accuracy with re-ranking(mmarco-mMiniLMv2-L12-H384-v1) : 0.8180281690140845\n",
      "Accuracy with re-ranking(klue-cross-encoder-v1)        : 0.8095774647887324\n",
      "Accuracy with re-ranking(ms-marco-MiniLM-L-12-v2)      : 0.4628169014084507\n",
      "Accuracy with re-ranking(ms-marco-MiniLM-L-12-v2 tuning): 0.46\n"
     ]
    },
    {
     "name": "stderr",
     "output_type": "stream",
     "text": [
      " 62%|████████████████████████████████████████████▉                           | 3600/5769 [51:36<24:50,  1.46it/s]"
     ]
    },
    {
     "name": "stdout",
     "output_type": "stream",
     "text": [
      "Step 3600\n",
      "Accuracy without re-ranking                            : 0.7063888888888888\n",
      "Accuracy with re-ranking(mmarco-mMiniLMv2-L12-H384-v1) : 0.8175\n",
      "Accuracy with re-ranking(klue-cross-encoder-v1)        : 0.8091666666666667\n",
      "Accuracy with re-ranking(ms-marco-MiniLM-L-12-v2)      : 0.46444444444444444\n",
      "Accuracy with re-ranking(ms-marco-MiniLM-L-12-v2 tuning): 0.4597222222222222\n"
     ]
    },
    {
     "name": "stderr",
     "output_type": "stream",
     "text": [
      " 63%|█████████████████████████████████████████████▌                          | 3650/5769 [52:08<22:36,  1.56it/s]"
     ]
    },
    {
     "name": "stdout",
     "output_type": "stream",
     "text": [
      "Step 3650\n",
      "Accuracy without re-ranking                            : 0.7063013698630137\n",
      "Accuracy with re-ranking(mmarco-mMiniLMv2-L12-H384-v1) : 0.8178082191780822\n",
      "Accuracy with re-ranking(klue-cross-encoder-v1)        : 0.8098630136986301\n",
      "Accuracy with re-ranking(ms-marco-MiniLM-L-12-v2)      : 0.46328767123287673\n",
      "Accuracy with re-ranking(ms-marco-MiniLM-L-12-v2 tuning): 0.4589041095890411\n"
     ]
    },
    {
     "name": "stderr",
     "output_type": "stream",
     "text": [
      " 64%|██████████████████████████████████████████████▏                         | 3700/5769 [52:40<23:01,  1.50it/s]"
     ]
    },
    {
     "name": "stdout",
     "output_type": "stream",
     "text": [
      "Step 3700\n",
      "Accuracy without re-ranking                            : 0.7067567567567568\n",
      "Accuracy with re-ranking(mmarco-mMiniLMv2-L12-H384-v1) : 0.8189189189189189\n",
      "Accuracy with re-ranking(klue-cross-encoder-v1)        : 0.8110810810810811\n",
      "Accuracy with re-ranking(ms-marco-MiniLM-L-12-v2)      : 0.46378378378378377\n",
      "Accuracy with re-ranking(ms-marco-MiniLM-L-12-v2 tuning): 0.4586486486486486\n"
     ]
    },
    {
     "name": "stderr",
     "output_type": "stream",
     "text": [
      " 65%|██████████████████████████████████████████████▊                         | 3750/5769 [53:13<20:20,  1.65it/s]"
     ]
    },
    {
     "name": "stdout",
     "output_type": "stream",
     "text": [
      "Step 3750\n",
      "Accuracy without re-ranking                            : 0.7061333333333333\n",
      "Accuracy with re-ranking(mmarco-mMiniLMv2-L12-H384-v1) : 0.8186666666666667\n",
      "Accuracy with re-ranking(klue-cross-encoder-v1)        : 0.8112\n",
      "Accuracy with re-ranking(ms-marco-MiniLM-L-12-v2)      : 0.4624\n",
      "Accuracy with re-ranking(ms-marco-MiniLM-L-12-v2 tuning): 0.4573333333333333\n"
     ]
    },
    {
     "name": "stderr",
     "output_type": "stream",
     "text": [
      " 66%|███████████████████████████████████████████████▍                        | 3800/5769 [53:53<20:53,  1.57it/s]"
     ]
    },
    {
     "name": "stdout",
     "output_type": "stream",
     "text": [
      "Step 3800\n",
      "Accuracy without re-ranking                            : 0.7060526315789474\n",
      "Accuracy with re-ranking(mmarco-mMiniLMv2-L12-H384-v1) : 0.8181578947368421\n",
      "Accuracy with re-ranking(klue-cross-encoder-v1)        : 0.8110526315789474\n",
      "Accuracy with re-ranking(ms-marco-MiniLM-L-12-v2)      : 0.4636842105263158\n",
      "Accuracy with re-ranking(ms-marco-MiniLM-L-12-v2 tuning): 0.4586842105263158\n"
     ]
    },
    {
     "name": "stderr",
     "output_type": "stream",
     "text": [
      " 67%|████████████████████████████████████████████████                        | 3850/5769 [54:25<19:36,  1.63it/s]"
     ]
    },
    {
     "name": "stdout",
     "output_type": "stream",
     "text": [
      "Step 3850\n",
      "Accuracy without re-ranking                            : 0.7059740259740259\n",
      "Accuracy with re-ranking(mmarco-mMiniLMv2-L12-H384-v1) : 0.8174025974025974\n",
      "Accuracy with re-ranking(klue-cross-encoder-v1)        : 0.8103896103896104\n",
      "Accuracy with re-ranking(ms-marco-MiniLM-L-12-v2)      : 0.4633766233766234\n",
      "Accuracy with re-ranking(ms-marco-MiniLM-L-12-v2 tuning): 0.45896103896103896\n"
     ]
    },
    {
     "name": "stderr",
     "output_type": "stream",
     "text": [
      " 68%|████████████████████████████████████████████████▋                       | 3900/5769 [55:00<21:43,  1.43it/s]"
     ]
    },
    {
     "name": "stdout",
     "output_type": "stream",
     "text": [
      "Step 3900\n",
      "Accuracy without re-ranking                            : 0.7046153846153846\n",
      "Accuracy with re-ranking(mmarco-mMiniLMv2-L12-H384-v1) : 0.8166666666666667\n",
      "Accuracy with re-ranking(klue-cross-encoder-v1)        : 0.8097435897435897\n",
      "Accuracy with re-ranking(ms-marco-MiniLM-L-12-v2)      : 0.4635897435897436\n",
      "Accuracy with re-ranking(ms-marco-MiniLM-L-12-v2 tuning): 0.45974358974358975\n"
     ]
    },
    {
     "name": "stderr",
     "output_type": "stream",
     "text": [
      " 68%|█████████████████████████████████████████████████▎                      | 3950/5769 [55:36<19:44,  1.54it/s]"
     ]
    },
    {
     "name": "stdout",
     "output_type": "stream",
     "text": [
      "Step 3950\n",
      "Accuracy without re-ranking                            : 0.7048101265822785\n",
      "Accuracy with re-ranking(mmarco-mMiniLMv2-L12-H384-v1) : 0.8162025316455697\n",
      "Accuracy with re-ranking(klue-cross-encoder-v1)        : 0.809367088607595\n",
      "Accuracy with re-ranking(ms-marco-MiniLM-L-12-v2)      : 0.46379746835443036\n",
      "Accuracy with re-ranking(ms-marco-MiniLM-L-12-v2 tuning): 0.45974683544303796\n"
     ]
    },
    {
     "name": "stderr",
     "output_type": "stream",
     "text": [
      " 69%|█████████████████████████████████████████████████▉                      | 4000/5769 [56:17<23:49,  1.24it/s]"
     ]
    },
    {
     "name": "stdout",
     "output_type": "stream",
     "text": [
      "Step 4000\n",
      "Accuracy without re-ranking                            : 0.704\n",
      "Accuracy with re-ranking(mmarco-mMiniLMv2-L12-H384-v1) : 0.81425\n",
      "Accuracy with re-ranking(klue-cross-encoder-v1)        : 0.8075\n",
      "Accuracy with re-ranking(ms-marco-MiniLM-L-12-v2)      : 0.46225\n",
      "Accuracy with re-ranking(ms-marco-MiniLM-L-12-v2 tuning): 0.4585\n"
     ]
    },
    {
     "name": "stderr",
     "output_type": "stream",
     "text": [
      " 70%|██████████████████████████████████████████████████▌                     | 4050/5769 [56:49<18:35,  1.54it/s]"
     ]
    },
    {
     "name": "stdout",
     "output_type": "stream",
     "text": [
      "Step 4050\n",
      "Accuracy without re-ranking                            : 0.7046913580246914\n",
      "Accuracy with re-ranking(mmarco-mMiniLMv2-L12-H384-v1) : 0.8140740740740741\n",
      "Accuracy with re-ranking(klue-cross-encoder-v1)        : 0.8076543209876543\n",
      "Accuracy with re-ranking(ms-marco-MiniLM-L-12-v2)      : 0.46271604938271604\n",
      "Accuracy with re-ranking(ms-marco-MiniLM-L-12-v2 tuning): 0.4587654320987654\n"
     ]
    },
    {
     "name": "stderr",
     "output_type": "stream",
     "text": [
      " 71%|███████████████████████████████████████████████████▏                    | 4100/5769 [57:28<23:19,  1.19it/s]"
     ]
    },
    {
     "name": "stdout",
     "output_type": "stream",
     "text": [
      "Step 4100\n",
      "Accuracy without re-ranking                            : 0.7041463414634146\n",
      "Accuracy with re-ranking(mmarco-mMiniLMv2-L12-H384-v1) : 0.813170731707317\n",
      "Accuracy with re-ranking(klue-cross-encoder-v1)        : 0.8070731707317074\n",
      "Accuracy with re-ranking(ms-marco-MiniLM-L-12-v2)      : 0.4631707317073171\n",
      "Accuracy with re-ranking(ms-marco-MiniLM-L-12-v2 tuning): 0.45951219512195124\n"
     ]
    },
    {
     "name": "stderr",
     "output_type": "stream",
     "text": [
      " 72%|███████████████████████████████████████████████████▊                    | 4150/5769 [58:03<17:36,  1.53it/s]"
     ]
    },
    {
     "name": "stdout",
     "output_type": "stream",
     "text": [
      "Step 4150\n",
      "Accuracy without re-ranking                            : 0.7050602409638554\n",
      "Accuracy with re-ranking(mmarco-mMiniLMv2-L12-H384-v1) : 0.8139759036144578\n",
      "Accuracy with re-ranking(klue-cross-encoder-v1)        : 0.8081927710843374\n",
      "Accuracy with re-ranking(ms-marco-MiniLM-L-12-v2)      : 0.46433734939759036\n",
      "Accuracy with re-ranking(ms-marco-MiniLM-L-12-v2 tuning): 0.46072289156626506\n"
     ]
    },
    {
     "name": "stderr",
     "output_type": "stream",
     "text": [
      " 73%|████████████████████████████████████████████████████▍                   | 4200/5769 [58:38<18:33,  1.41it/s]"
     ]
    },
    {
     "name": "stdout",
     "output_type": "stream",
     "text": [
      "Step 4200\n",
      "Accuracy without re-ranking                            : 0.7057142857142857\n",
      "Accuracy with re-ranking(mmarco-mMiniLMv2-L12-H384-v1) : 0.814047619047619\n",
      "Accuracy with re-ranking(klue-cross-encoder-v1)        : 0.8083333333333333\n",
      "Accuracy with re-ranking(ms-marco-MiniLM-L-12-v2)      : 0.46476190476190476\n",
      "Accuracy with re-ranking(ms-marco-MiniLM-L-12-v2 tuning): 0.4614285714285714\n"
     ]
    },
    {
     "name": "stderr",
     "output_type": "stream",
     "text": [
      " 74%|█████████████████████████████████████████████████████                   | 4250/5769 [59:14<14:41,  1.72it/s]"
     ]
    },
    {
     "name": "stdout",
     "output_type": "stream",
     "text": [
      "Step 4250\n",
      "Accuracy without re-ranking                            : 0.7063529411764706\n",
      "Accuracy with re-ranking(mmarco-mMiniLMv2-L12-H384-v1) : 0.8148235294117647\n",
      "Accuracy with re-ranking(klue-cross-encoder-v1)        : 0.8091764705882353\n",
      "Accuracy with re-ranking(ms-marco-MiniLM-L-12-v2)      : 0.4656470588235294\n",
      "Accuracy with re-ranking(ms-marco-MiniLM-L-12-v2 tuning): 0.4628235294117647\n"
     ]
    },
    {
     "name": "stderr",
     "output_type": "stream",
     "text": [
      " 75%|█████████████████████████████████████████████████████▋                  | 4300/5769 [59:49<16:04,  1.52it/s]"
     ]
    },
    {
     "name": "stdout",
     "output_type": "stream",
     "text": [
      "Step 4300\n",
      "Accuracy without re-ranking                            : 0.706046511627907\n",
      "Accuracy with re-ranking(mmarco-mMiniLMv2-L12-H384-v1) : 0.8148837209302325\n",
      "Accuracy with re-ranking(klue-cross-encoder-v1)        : 0.8090697674418604\n",
      "Accuracy with re-ranking(ms-marco-MiniLM-L-12-v2)      : 0.4653488372093023\n",
      "Accuracy with re-ranking(ms-marco-MiniLM-L-12-v2 tuning): 0.4625581395348837\n"
     ]
    },
    {
     "name": "stderr",
     "output_type": "stream",
     "text": [
      " 75%|████████████████████████████████████████████████████▊                 | 4350/5769 [1:00:27<18:35,  1.27it/s]"
     ]
    },
    {
     "name": "stdout",
     "output_type": "stream",
     "text": [
      "Step 4350\n",
      "Accuracy without re-ranking                            : 0.705287356321839\n",
      "Accuracy with re-ranking(mmarco-mMiniLMv2-L12-H384-v1) : 0.8140229885057472\n",
      "Accuracy with re-ranking(klue-cross-encoder-v1)        : 0.807816091954023\n",
      "Accuracy with re-ranking(ms-marco-MiniLM-L-12-v2)      : 0.46436781609195404\n",
      "Accuracy with re-ranking(ms-marco-MiniLM-L-12-v2 tuning): 0.46229885057471265\n"
     ]
    },
    {
     "name": "stderr",
     "output_type": "stream",
     "text": [
      " 76%|█████████████████████████████████████████████████████▍                | 4400/5769 [1:01:09<15:16,  1.49it/s]"
     ]
    },
    {
     "name": "stdout",
     "output_type": "stream",
     "text": [
      "Step 4400\n",
      "Accuracy without re-ranking                            : 0.7068181818181818\n",
      "Accuracy with re-ranking(mmarco-mMiniLMv2-L12-H384-v1) : 0.8143181818181818\n",
      "Accuracy with re-ranking(klue-cross-encoder-v1)        : 0.8084090909090909\n",
      "Accuracy with re-ranking(ms-marco-MiniLM-L-12-v2)      : 0.4647727272727273\n",
      "Accuracy with re-ranking(ms-marco-MiniLM-L-12-v2 tuning): 0.4636363636363636\n"
     ]
    },
    {
     "name": "stderr",
     "output_type": "stream",
     "text": [
      " 77%|█████████████████████████████████████████████████████▉                | 4450/5769 [1:01:45<14:39,  1.50it/s]"
     ]
    },
    {
     "name": "stdout",
     "output_type": "stream",
     "text": [
      "Step 4450\n",
      "Accuracy without re-ranking                            : 0.7089887640449438\n",
      "Accuracy with re-ranking(mmarco-mMiniLMv2-L12-H384-v1) : 0.8164044943820224\n",
      "Accuracy with re-ranking(klue-cross-encoder-v1)        : 0.8101123595505618\n",
      "Accuracy with re-ranking(ms-marco-MiniLM-L-12-v2)      : 0.4651685393258427\n",
      "Accuracy with re-ranking(ms-marco-MiniLM-L-12-v2 tuning): 0.4651685393258427\n"
     ]
    },
    {
     "name": "stderr",
     "output_type": "stream",
     "text": [
      " 78%|██████████████████████████████████████████████████████▌               | 4500/5769 [1:02:19<15:08,  1.40it/s]"
     ]
    },
    {
     "name": "stdout",
     "output_type": "stream",
     "text": [
      "Step 4500\n",
      "Accuracy without re-ranking                            : 0.71\n",
      "Accuracy with re-ranking(mmarco-mMiniLMv2-L12-H384-v1) : 0.816\n",
      "Accuracy with re-ranking(klue-cross-encoder-v1)        : 0.8097777777777778\n",
      "Accuracy with re-ranking(ms-marco-MiniLM-L-12-v2)      : 0.4662222222222222\n",
      "Accuracy with re-ranking(ms-marco-MiniLM-L-12-v2 tuning): 0.4653333333333333\n"
     ]
    },
    {
     "name": "stderr",
     "output_type": "stream",
     "text": [
      " 79%|███████████████████████████████████████████████████████▏              | 4550/5769 [1:02:55<14:20,  1.42it/s]"
     ]
    },
    {
     "name": "stdout",
     "output_type": "stream",
     "text": [
      "Step 4550\n",
      "Accuracy without re-ranking                            : 0.7112087912087912\n",
      "Accuracy with re-ranking(mmarco-mMiniLMv2-L12-H384-v1) : 0.816923076923077\n",
      "Accuracy with re-ranking(klue-cross-encoder-v1)        : 0.8105494505494506\n",
      "Accuracy with re-ranking(ms-marco-MiniLM-L-12-v2)      : 0.4674725274725275\n",
      "Accuracy with re-ranking(ms-marco-MiniLM-L-12-v2 tuning): 0.46593406593406594\n"
     ]
    },
    {
     "name": "stderr",
     "output_type": "stream",
     "text": [
      " 80%|███████████████████████████████████████████████████████▊              | 4600/5769 [1:03:38<13:28,  1.45it/s]"
     ]
    },
    {
     "name": "stdout",
     "output_type": "stream",
     "text": [
      "Step 4600\n",
      "Accuracy without re-ranking                            : 0.7117391304347827\n",
      "Accuracy with re-ranking(mmarco-mMiniLMv2-L12-H384-v1) : 0.8165217391304348\n",
      "Accuracy with re-ranking(klue-cross-encoder-v1)        : 0.8097826086956522\n",
      "Accuracy with re-ranking(ms-marco-MiniLM-L-12-v2)      : 0.46608695652173915\n",
      "Accuracy with re-ranking(ms-marco-MiniLM-L-12-v2 tuning): 0.4641304347826087\n"
     ]
    },
    {
     "name": "stderr",
     "output_type": "stream",
     "text": [
      " 81%|████████████████████████████████████████████████████████▍             | 4650/5769 [1:04:12<13:26,  1.39it/s]"
     ]
    },
    {
     "name": "stdout",
     "output_type": "stream",
     "text": [
      "Step 4650\n",
      "Accuracy without re-ranking                            : 0.712258064516129\n",
      "Accuracy with re-ranking(mmarco-mMiniLMv2-L12-H384-v1) : 0.816989247311828\n",
      "Accuracy with re-ranking(klue-cross-encoder-v1)        : 0.8103225806451613\n",
      "Accuracy with re-ranking(ms-marco-MiniLM-L-12-v2)      : 0.4664516129032258\n",
      "Accuracy with re-ranking(ms-marco-MiniLM-L-12-v2 tuning): 0.46408602150537637\n"
     ]
    },
    {
     "name": "stderr",
     "output_type": "stream",
     "text": [
      " 81%|█████████████████████████████████████████████████████████             | 4700/5769 [1:04:47<12:13,  1.46it/s]"
     ]
    },
    {
     "name": "stdout",
     "output_type": "stream",
     "text": [
      "Step 4700\n",
      "Accuracy without re-ranking                            : 0.7129787234042553\n",
      "Accuracy with re-ranking(mmarco-mMiniLMv2-L12-H384-v1) : 0.8176595744680851\n",
      "Accuracy with re-ranking(klue-cross-encoder-v1)        : 0.811063829787234\n",
      "Accuracy with re-ranking(ms-marco-MiniLM-L-12-v2)      : 0.4676595744680851\n",
      "Accuracy with re-ranking(ms-marco-MiniLM-L-12-v2 tuning): 0.4646808510638298\n"
     ]
    },
    {
     "name": "stderr",
     "output_type": "stream",
     "text": [
      " 82%|█████████████████████████████████████████████████████████▋            | 4750/5769 [1:05:25<19:15,  1.13s/it]"
     ]
    },
    {
     "name": "stdout",
     "output_type": "stream",
     "text": [
      "Step 4750\n",
      "Accuracy without re-ranking                            : 0.7138947368421052\n",
      "Accuracy with re-ranking(mmarco-mMiniLMv2-L12-H384-v1) : 0.8181052631578948\n",
      "Accuracy with re-ranking(klue-cross-encoder-v1)        : 0.8115789473684211\n",
      "Accuracy with re-ranking(ms-marco-MiniLM-L-12-v2)      : 0.468\n",
      "Accuracy with re-ranking(ms-marco-MiniLM-L-12-v2 tuning): 0.4652631578947368\n"
     ]
    },
    {
     "name": "stderr",
     "output_type": "stream",
     "text": [
      " 83%|██████████████████████████████████████████████████████████▏           | 4800/5769 [1:06:03<12:04,  1.34it/s]"
     ]
    },
    {
     "name": "stdout",
     "output_type": "stream",
     "text": [
      "Step 4800\n",
      "Accuracy without re-ranking                            : 0.7141666666666666\n",
      "Accuracy with re-ranking(mmarco-mMiniLMv2-L12-H384-v1) : 0.8172916666666666\n",
      "Accuracy with re-ranking(klue-cross-encoder-v1)        : 0.8110416666666667\n",
      "Accuracy with re-ranking(ms-marco-MiniLM-L-12-v2)      : 0.466875\n",
      "Accuracy with re-ranking(ms-marco-MiniLM-L-12-v2 tuning): 0.46458333333333335\n"
     ]
    },
    {
     "name": "stderr",
     "output_type": "stream",
     "text": [
      " 84%|██████████████████████████████████████████████████████████▊           | 4850/5769 [1:06:43<09:38,  1.59it/s]"
     ]
    },
    {
     "name": "stdout",
     "output_type": "stream",
     "text": [
      "Step 4850\n",
      "Accuracy without re-ranking                            : 0.7148453608247423\n",
      "Accuracy with re-ranking(mmarco-mMiniLMv2-L12-H384-v1) : 0.8175257731958763\n",
      "Accuracy with re-ranking(klue-cross-encoder-v1)        : 0.811340206185567\n",
      "Accuracy with re-ranking(ms-marco-MiniLM-L-12-v2)      : 0.4672164948453608\n",
      "Accuracy with re-ranking(ms-marco-MiniLM-L-12-v2 tuning): 0.4645360824742268\n"
     ]
    },
    {
     "name": "stderr",
     "output_type": "stream",
     "text": [
      " 85%|███████████████████████████████████████████████████████████▍          | 4900/5769 [1:07:19<10:45,  1.35it/s]"
     ]
    },
    {
     "name": "stdout",
     "output_type": "stream",
     "text": [
      "Step 4900\n",
      "Accuracy without re-ranking                            : 0.7153061224489796\n",
      "Accuracy with re-ranking(mmarco-mMiniLMv2-L12-H384-v1) : 0.8179591836734694\n",
      "Accuracy with re-ranking(klue-cross-encoder-v1)        : 0.8116326530612245\n",
      "Accuracy with re-ranking(ms-marco-MiniLM-L-12-v2)      : 0.4679591836734694\n",
      "Accuracy with re-ranking(ms-marco-MiniLM-L-12-v2 tuning): 0.4642857142857143\n"
     ]
    },
    {
     "name": "stderr",
     "output_type": "stream",
     "text": [
      " 86%|████████████████████████████████████████████████████████████          | 4950/5769 [1:08:00<10:16,  1.33it/s]"
     ]
    },
    {
     "name": "stdout",
     "output_type": "stream",
     "text": [
      "Step 4950\n",
      "Accuracy without re-ranking                            : 0.7151515151515152\n",
      "Accuracy with re-ranking(mmarco-mMiniLMv2-L12-H384-v1) : 0.8177777777777778\n",
      "Accuracy with re-ranking(klue-cross-encoder-v1)        : 0.8113131313131313\n",
      "Accuracy with re-ranking(ms-marco-MiniLM-L-12-v2)      : 0.4672727272727273\n",
      "Accuracy with re-ranking(ms-marco-MiniLM-L-12-v2 tuning): 0.46444444444444444\n"
     ]
    },
    {
     "name": "stderr",
     "output_type": "stream",
     "text": [
      " 87%|████████████████████████████████████████████████████████████▋         | 5000/5769 [1:08:35<08:53,  1.44it/s]"
     ]
    },
    {
     "name": "stdout",
     "output_type": "stream",
     "text": [
      "Step 5000\n",
      "Accuracy without re-ranking                            : 0.7164\n",
      "Accuracy with re-ranking(mmarco-mMiniLMv2-L12-H384-v1) : 0.8188\n",
      "Accuracy with re-ranking(klue-cross-encoder-v1)        : 0.8122\n",
      "Accuracy with re-ranking(ms-marco-MiniLM-L-12-v2)      : 0.4666\n",
      "Accuracy with re-ranking(ms-marco-MiniLM-L-12-v2 tuning): 0.4638\n"
     ]
    },
    {
     "name": "stderr",
     "output_type": "stream",
     "text": [
      " 88%|█████████████████████████████████████████████████████████████▎        | 5050/5769 [1:09:15<07:41,  1.56it/s]"
     ]
    },
    {
     "name": "stdout",
     "output_type": "stream",
     "text": [
      "Step 5050\n",
      "Accuracy without re-ranking                            : 0.7164356435643564\n",
      "Accuracy with re-ranking(mmarco-mMiniLMv2-L12-H384-v1) : 0.8182178217821782\n",
      "Accuracy with re-ranking(klue-cross-encoder-v1)        : 0.8118811881188119\n",
      "Accuracy with re-ranking(ms-marco-MiniLM-L-12-v2)      : 0.46752475247524755\n",
      "Accuracy with re-ranking(ms-marco-MiniLM-L-12-v2 tuning): 0.4641584158415842\n"
     ]
    },
    {
     "name": "stderr",
     "output_type": "stream",
     "text": [
      " 88%|█████████████████████████████████████████████████████████████▉        | 5100/5769 [1:10:03<08:08,  1.37it/s]"
     ]
    },
    {
     "name": "stdout",
     "output_type": "stream",
     "text": [
      "Step 5100\n",
      "Accuracy without re-ranking                            : 0.7182352941176471\n",
      "Accuracy with re-ranking(mmarco-mMiniLMv2-L12-H384-v1) : 0.8194117647058824\n",
      "Accuracy with re-ranking(klue-cross-encoder-v1)        : 0.8131372549019608\n",
      "Accuracy with re-ranking(ms-marco-MiniLM-L-12-v2)      : 0.46862745098039216\n",
      "Accuracy with re-ranking(ms-marco-MiniLM-L-12-v2 tuning): 0.46490196078431373\n"
     ]
    },
    {
     "name": "stderr",
     "output_type": "stream",
     "text": [
      " 89%|██████████████████████████████████████████████████████████████▍       | 5150/5769 [1:10:55<07:50,  1.32it/s]"
     ]
    },
    {
     "name": "stdout",
     "output_type": "stream",
     "text": [
      "Step 5150\n",
      "Accuracy without re-ranking                            : 0.7188349514563107\n",
      "Accuracy with re-ranking(mmarco-mMiniLMv2-L12-H384-v1) : 0.8198058252427185\n",
      "Accuracy with re-ranking(klue-cross-encoder-v1)        : 0.8135922330097087\n",
      "Accuracy with re-ranking(ms-marco-MiniLM-L-12-v2)      : 0.46873786407766993\n",
      "Accuracy with re-ranking(ms-marco-MiniLM-L-12-v2 tuning): 0.4652427184466019\n"
     ]
    },
    {
     "name": "stderr",
     "output_type": "stream",
     "text": [
      " 90%|███████████████████████████████████████████████████████████████       | 5200/5769 [1:11:33<09:30,  1.00s/it]"
     ]
    },
    {
     "name": "stdout",
     "output_type": "stream",
     "text": [
      "Step 5200\n",
      "Accuracy without re-ranking                            : 0.7190384615384615\n",
      "Accuracy with re-ranking(mmarco-mMiniLMv2-L12-H384-v1) : 0.8205769230769231\n",
      "Accuracy with re-ranking(klue-cross-encoder-v1)        : 0.8140384615384615\n",
      "Accuracy with re-ranking(ms-marco-MiniLM-L-12-v2)      : 0.4690384615384615\n",
      "Accuracy with re-ranking(ms-marco-MiniLM-L-12-v2 tuning): 0.46557692307692305\n"
     ]
    },
    {
     "name": "stderr",
     "output_type": "stream",
     "text": [
      " 91%|███████████████████████████████████████████████████████████████▋      | 5250/5769 [1:12:07<05:29,  1.58it/s]"
     ]
    },
    {
     "name": "stdout",
     "output_type": "stream",
     "text": [
      "Step 5250\n",
      "Accuracy without re-ranking                            : 0.7198095238095238\n",
      "Accuracy with re-ranking(mmarco-mMiniLMv2-L12-H384-v1) : 0.8211428571428572\n",
      "Accuracy with re-ranking(klue-cross-encoder-v1)        : 0.8148571428571428\n",
      "Accuracy with re-ranking(ms-marco-MiniLM-L-12-v2)      : 0.4695238095238095\n",
      "Accuracy with re-ranking(ms-marco-MiniLM-L-12-v2 tuning): 0.4657142857142857\n"
     ]
    },
    {
     "name": "stderr",
     "output_type": "stream",
     "text": [
      " 92%|████████████████████████████████████████████████████████████████▎     | 5300/5769 [1:12:45<05:26,  1.44it/s]"
     ]
    },
    {
     "name": "stdout",
     "output_type": "stream",
     "text": [
      "Step 5300\n",
      "Accuracy without re-ranking                            : 0.720754716981132\n",
      "Accuracy with re-ranking(mmarco-mMiniLMv2-L12-H384-v1) : 0.8215094339622642\n",
      "Accuracy with re-ranking(klue-cross-encoder-v1)        : 0.8152830188679245\n",
      "Accuracy with re-ranking(ms-marco-MiniLM-L-12-v2)      : 0.47094339622641507\n",
      "Accuracy with re-ranking(ms-marco-MiniLM-L-12-v2 tuning): 0.4671698113207547\n"
     ]
    },
    {
     "name": "stderr",
     "output_type": "stream",
     "text": [
      " 93%|████████████████████████████████████████████████████████████████▉     | 5350/5769 [1:13:24<05:13,  1.33it/s]"
     ]
    },
    {
     "name": "stdout",
     "output_type": "stream",
     "text": [
      "Step 5350\n",
      "Accuracy without re-ranking                            : 0.7220560747663551\n",
      "Accuracy with re-ranking(mmarco-mMiniLMv2-L12-H384-v1) : 0.822429906542056\n",
      "Accuracy with re-ranking(klue-cross-encoder-v1)        : 0.8162616822429907\n",
      "Accuracy with re-ranking(ms-marco-MiniLM-L-12-v2)      : 0.4708411214953271\n",
      "Accuracy with re-ranking(ms-marco-MiniLM-L-12-v2 tuning): 0.46654205607476634\n"
     ]
    },
    {
     "name": "stderr",
     "output_type": "stream",
     "text": [
      " 94%|█████████████████████████████████████████████████████████████████▌    | 5400/5769 [1:14:10<08:51,  1.44s/it]"
     ]
    },
    {
     "name": "stdout",
     "output_type": "stream",
     "text": [
      "Step 5400\n",
      "Accuracy without re-ranking                            : 0.7222222222222222\n",
      "Accuracy with re-ranking(mmarco-mMiniLMv2-L12-H384-v1) : 0.8224074074074074\n",
      "Accuracy with re-ranking(klue-cross-encoder-v1)        : 0.8164814814814815\n",
      "Accuracy with re-ranking(ms-marco-MiniLM-L-12-v2)      : 0.4709259259259259\n",
      "Accuracy with re-ranking(ms-marco-MiniLM-L-12-v2 tuning): 0.46685185185185185\n"
     ]
    },
    {
     "name": "stderr",
     "output_type": "stream",
     "text": [
      " 94%|██████████████████████████████████████████████████████████████████▏   | 5450/5769 [1:14:51<04:19,  1.23it/s]"
     ]
    },
    {
     "name": "stdout",
     "output_type": "stream",
     "text": [
      "Step 5450\n",
      "Accuracy without re-ranking                            : 0.7234862385321101\n",
      "Accuracy with re-ranking(mmarco-mMiniLMv2-L12-H384-v1) : 0.8231192660550458\n",
      "Accuracy with re-ranking(klue-cross-encoder-v1)        : 0.8172477064220184\n",
      "Accuracy with re-ranking(ms-marco-MiniLM-L-12-v2)      : 0.4722935779816514\n",
      "Accuracy with re-ranking(ms-marco-MiniLM-L-12-v2 tuning): 0.46825688073394495\n"
     ]
    },
    {
     "name": "stderr",
     "output_type": "stream",
     "text": [
      " 95%|██████████████████████████████████████████████████████████████████▋   | 5500/5769 [1:15:28<03:04,  1.46it/s]"
     ]
    },
    {
     "name": "stdout",
     "output_type": "stream",
     "text": [
      "Step 5500\n",
      "Accuracy without re-ranking                            : 0.7241818181818181\n",
      "Accuracy with re-ranking(mmarco-mMiniLMv2-L12-H384-v1) : 0.8238181818181818\n",
      "Accuracy with re-ranking(klue-cross-encoder-v1)        : 0.8178181818181818\n",
      "Accuracy with re-ranking(ms-marco-MiniLM-L-12-v2)      : 0.472\n",
      "Accuracy with re-ranking(ms-marco-MiniLM-L-12-v2 tuning): 0.46745454545454546\n"
     ]
    },
    {
     "name": "stderr",
     "output_type": "stream",
     "text": [
      " 96%|███████████████████████████████████████████████████████████████████▎  | 5550/5769 [1:16:04<02:30,  1.46it/s]"
     ]
    },
    {
     "name": "stdout",
     "output_type": "stream",
     "text": [
      "Step 5550\n",
      "Accuracy without re-ranking                            : 0.7237837837837838\n",
      "Accuracy with re-ranking(mmarco-mMiniLMv2-L12-H384-v1) : 0.823963963963964\n",
      "Accuracy with re-ranking(klue-cross-encoder-v1)        : 0.8176576576576576\n",
      "Accuracy with re-ranking(ms-marco-MiniLM-L-12-v2)      : 0.4718918918918919\n",
      "Accuracy with re-ranking(ms-marco-MiniLM-L-12-v2 tuning): 0.4673873873873874\n"
     ]
    },
    {
     "name": "stderr",
     "output_type": "stream",
     "text": [
      " 97%|███████████████████████████████████████████████████████████████████▉  | 5600/5769 [1:16:42<02:10,  1.30it/s]"
     ]
    },
    {
     "name": "stdout",
     "output_type": "stream",
     "text": [
      "Step 5600\n",
      "Accuracy without re-ranking                            : 0.725\n",
      "Accuracy with re-ranking(mmarco-mMiniLMv2-L12-H384-v1) : 0.825\n",
      "Accuracy with re-ranking(klue-cross-encoder-v1)        : 0.81875\n",
      "Accuracy with re-ranking(ms-marco-MiniLM-L-12-v2)      : 0.4733928571428571\n",
      "Accuracy with re-ranking(ms-marco-MiniLM-L-12-v2 tuning): 0.46875\n"
     ]
    },
    {
     "name": "stderr",
     "output_type": "stream",
     "text": [
      " 98%|████████████████████████████████████████████████████████████████████▌ | 5650/5769 [1:17:21<01:20,  1.48it/s]"
     ]
    },
    {
     "name": "stdout",
     "output_type": "stream",
     "text": [
      "Step 5650\n",
      "Accuracy without re-ranking                            : 0.7261946902654868\n",
      "Accuracy with re-ranking(mmarco-mMiniLMv2-L12-H384-v1) : 0.8254867256637168\n",
      "Accuracy with re-ranking(klue-cross-encoder-v1)        : 0.8191150442477876\n",
      "Accuracy with re-ranking(ms-marco-MiniLM-L-12-v2)      : 0.47415929203539825\n",
      "Accuracy with re-ranking(ms-marco-MiniLM-L-12-v2 tuning): 0.4695575221238938\n"
     ]
    },
    {
     "name": "stderr",
     "output_type": "stream",
     "text": [
      " 99%|█████████████████████████████████████████████████████████████████████▏| 5700/5769 [1:18:02<01:01,  1.13it/s]"
     ]
    },
    {
     "name": "stdout",
     "output_type": "stream",
     "text": [
      "Step 5700\n",
      "Accuracy without re-ranking                            : 0.7273684210526316\n",
      "Accuracy with re-ranking(mmarco-mMiniLMv2-L12-H384-v1) : 0.826140350877193\n",
      "Accuracy with re-ranking(klue-cross-encoder-v1)        : 0.8198245614035088\n",
      "Accuracy with re-ranking(ms-marco-MiniLM-L-12-v2)      : 0.47368421052631576\n",
      "Accuracy with re-ranking(ms-marco-MiniLM-L-12-v2 tuning): 0.4691228070175439\n"
     ]
    },
    {
     "name": "stderr",
     "output_type": "stream",
     "text": [
      "100%|█████████████████████████████████████████████████████████████████████▊| 5750/5769 [1:18:40<00:15,  1.26it/s]"
     ]
    },
    {
     "name": "stdout",
     "output_type": "stream",
     "text": [
      "Step 5750\n",
      "Accuracy without re-ranking                            : 0.7269565217391304\n",
      "Accuracy with re-ranking(mmarco-mMiniLMv2-L12-H384-v1) : 0.8262608695652174\n",
      "Accuracy with re-ranking(klue-cross-encoder-v1)        : 0.82\n",
      "Accuracy with re-ranking(ms-marco-MiniLM-L-12-v2)      : 0.4737391304347826\n",
      "Accuracy with re-ranking(ms-marco-MiniLM-L-12-v2 tuning): 0.4693913043478261\n"
     ]
    },
    {
     "name": "stderr",
     "output_type": "stream",
     "text": [
      "100%|██████████████████████████████████████████████████████████████████████| 5769/5769 [1:18:54<00:00,  1.22it/s]\n"
     ]
    }
   ],
   "source": [
    "i = 0\n",
    "print_every = 50\n",
    "predictions = []\n",
    "for question in tqdm(val_sample['question']):\n",
    "    retrieved_hash, reranked_hash_1, reranked_hash_2, reranked_hash_3, reranked_hash_4 = eval_ranking_4(question, cross_encoder_1, cross_encoder_2, cross_encoder_3, cross_encoder_4, top_k=3)\n",
    "    correct_hash = q_to_hash[question]\n",
    "    predictions.append((retrieved_hash == correct_hash, reranked_hash_1 == correct_hash, reranked_hash_2 == correct_hash, reranked_hash_3 == correct_hash, reranked_hash_4 == correct_hash))\n",
    "    i += 1\n",
    "    if i % print_every == 0:\n",
    "        print(f'Step {i}')\n",
    "        raw_accuracy = sum([p[0] for p in predictions])/len(predictions)\n",
    "        reranked_accuracy_1 = sum([p[1] for p in predictions])/len(predictions)\n",
    "        reranked_accuracy_2 = sum([p[2] for p in predictions])/len(predictions)\n",
    "        reranked_accuracy_3 = sum([p[3] for p in predictions])/len(predictions)\n",
    "        reranked_accuracy_4 = sum([p[4] for p in predictions])/len(predictions)\n",
    "\n",
    "        print(f'Accuracy without re-ranking                            : {raw_accuracy}')\n",
    "        print(f'Accuracy with re-ranking(mmarco-mMiniLMv2-L12-H384-v1) : {reranked_accuracy_1}')\n",
    "        print(f'Accuracy with re-ranking(klue-cross-encoder-v1)        : {reranked_accuracy_2}')\n",
    "        print(f'Accuracy with re-ranking(ms-marco-MiniLM-L-12-v2)      : {reranked_accuracy_3}')\n",
    "        print(f'Accuracy with re-ranking(ms-marco-MiniLM-L-12-v2 tuning): {reranked_accuracy_4}')\n"
   ]
  },
  {
   "cell_type": "code",
   "execution_count": 187,
   "id": "e35be4ff-2039-4d93-bce8-78d38e06faac",
   "metadata": {},
   "outputs": [
    {
     "name": "stdout",
     "output_type": "stream",
     "text": [
      "text-embedding-ada-002\n",
      "Accuracy without re-ranking                            : 0.7275091003640146\n",
      "Accuracy with re-ranking(mmarco-mMiniLMv2-L12-H384-v1) : 0.8268330733229329\n",
      "Accuracy with re-ranking(klue-cross-encoder-v1)        : 0.8205928237129485\n",
      "Accuracy with re-ranking(ms-marco-MiniLM-L-12-v2)      : 0.4733922690240943\n",
      "Accuracy with re-ranking(ms-marco-MiniLM-L-12-v2 tuning): 0.46888542208355\n"
     ]
    }
   ],
   "source": [
    "raw_accuracy = sum([p[0] for p in predictions])/len(predictions)\n",
    "reranked_accuracy_1 = sum([p[1] for p in predictions])/len(predictions)\n",
    "reranked_accuracy_2 = sum([p[2] for p in predictions])/len(predictions)\n",
    "reranked_accuracy_3 = sum([p[3] for p in predictions])/len(predictions)\n",
    "reranked_accuracy_4 = sum([p[4] for p in predictions])/len(predictions)\n",
    "\n",
    "print('text-embedding-ada-002')\n",
    "print(f'Accuracy without re-ranking                            : {raw_accuracy}')\n",
    "print(f'Accuracy with re-ranking(mmarco-mMiniLMv2-L12-H384-v1) : {reranked_accuracy_1}')\n",
    "print(f'Accuracy with re-ranking(klue-cross-encoder-v1)        : {reranked_accuracy_2}')\n",
    "print(f'Accuracy with re-ranking(ms-marco-MiniLM-L-12-v2)      : {reranked_accuracy_3}')\n",
    "print(f'Accuracy with re-ranking(ms-marco-MiniLM-L-12-v2 tuning): {reranked_accuracy_4}')"
   ]
  },
  {
   "cell_type": "markdown",
   "id": "b773a862-4622-452c-8182-16d55fe79576",
   "metadata": {},
   "source": [
    "## 5.3 text-embedding-3-small 한국어 성능"
   ]
  },
  {
   "cell_type": "code",
   "execution_count": 188,
   "id": "f96642f1-d0ae-47c3-a3e5-766b50cf64a8",
   "metadata": {},
   "outputs": [],
   "source": [
    "ENGINE = 'text-embedding-3-small'\n",
    "# ENGINE_2 = 'text-embedding-ada-002'\n",
    "# ENGINE_3_S = 'text-embedding-3-small'  # OpenAI의 3세대 embedding 모델 (소형)\n",
    "# ENGINE_3_L = 'text-embedding-3-large'  # OpenAI의 3세대 embedding 모델 (대형)"
   ]
  },
  {
   "cell_type": "code",
   "execution_count": 189,
   "id": "c1745eb2-42b6-41e9-8144-bb6d38995b62",
   "metadata": {},
   "outputs": [],
   "source": [
    "pinecone.delete_index(INDEX_NAME)  # delete the index\n",
    "\n",
    "pinecone.create_index(\n",
    "    INDEX_NAME, # 인덱스 이름\n",
    "    dimension=1536, # 벡터의 치수, text-embedding-ada-002, text-embedding-3-small\n",
    "    # dimension=3072, # 벡터의 치수, text-embedding-3-large\n",
    "    \n",
    "    metric='cosine', # 인덱스를 검색할 때 사용할 유사성 메트릭\n",
    "    spec=PodSpec(\n",
    "      environment=\"gcp-starter\"\n",
    "    )\n",
    "    # pod_type=\"p1\" # 파인콘 파드의 유형\n",
    ")\n",
    "\n",
    "# 인덱스를 변수로 저장\n",
    "index = pinecone.Index(INDEX_NAME)"
   ]
  },
  {
   "cell_type": "code",
   "execution_count": 190,
   "id": "52098d43-9a02-45c9-91ae-1f1a46c49d57",
   "metadata": {},
   "outputs": [
    {
     "name": "stderr",
     "output_type": "stream",
     "text": [
      "100%|██████████████████████████████████████████████████████████████████████████████| 6/6 [00:25<00:00,  4.33s/it]\n",
      "100%|████████████████████████████████████████████████████████████████████████████| 29/29 [01:47<00:00,  3.71s/it]\n",
      "100%|████████████████████████████████████████████████████████████████████████████| 11/11 [00:38<00:00,  3.49s/it]\n"
     ]
    }
   ],
   "source": [
    "for idx in tqdm(range(0, len(dataset_ko['validation']), 128)):\n",
    "    data_sample = dataset_ko['validation'][idx:idx + 128]\n",
    "\n",
    "    passages = data_sample['paragraph']\n",
    "    upload_texts_to_pinecone(passages, engine=ENGINE)\n",
    "\n",
    "for idx in tqdm(range(0, len(dataset_ko['train']), 128)):\n",
    "    data_sample = dataset_ko['train'][idx:idx + 128]\n",
    "\n",
    "    passages = data_sample['paragraph']\n",
    "    upload_texts_to_pinecone(passages, engine=ENGINE)\n",
    "\n",
    "for idx in tqdm(range(0, len(dataset_ko['test']), 128)):\n",
    "    data_sample = dataset_ko['test'][idx:idx + 128]\n",
    "\n",
    "    passages = data_sample['paragraph']\n",
    "    upload_texts_to_pinecone(passages, engine=ENGINE)"
   ]
  },
  {
   "cell_type": "code",
   "execution_count": 191,
   "id": "d617880f-e56d-46aa-842a-ee9cac34cc20",
   "metadata": {
    "scrolled": true
   },
   "outputs": [
    {
     "name": "stderr",
     "output_type": "stream",
     "text": [
      "  1%|▌                                                                       | 50/5769 [01:14<1:05:47,  1.45it/s]"
     ]
    },
    {
     "name": "stdout",
     "output_type": "stream",
     "text": [
      "Step 50\n",
      "Accuracy without re-ranking                            : 0.92\n",
      "Accuracy with re-ranking(mmarco-mMiniLMv2-L12-H384-v1) : 0.96\n",
      "Accuracy with re-ranking(klue-cross-encoder-v1)        : 0.96\n",
      "Accuracy with re-ranking(ms-marco-MiniLM-L-12-v2)      : 0.52\n",
      "Accuracy with re-ranking(ms-marco-MiniLM-L-12-v2 tuning): 0.56\n"
     ]
    },
    {
     "name": "stderr",
     "output_type": "stream",
     "text": [
      "  2%|█▏                                                                     | 100/5769 [01:56<1:22:14,  1.15it/s]"
     ]
    },
    {
     "name": "stdout",
     "output_type": "stream",
     "text": [
      "Step 100\n",
      "Accuracy without re-ranking                            : 0.87\n",
      "Accuracy with re-ranking(mmarco-mMiniLMv2-L12-H384-v1) : 0.91\n",
      "Accuracy with re-ranking(klue-cross-encoder-v1)        : 0.95\n",
      "Accuracy with re-ranking(ms-marco-MiniLM-L-12-v2)      : 0.54\n",
      "Accuracy with re-ranking(ms-marco-MiniLM-L-12-v2 tuning): 0.49\n"
     ]
    },
    {
     "name": "stderr",
     "output_type": "stream",
     "text": [
      "  3%|█▊                                                                     | 150/5769 [02:34<1:07:31,  1.39it/s]"
     ]
    },
    {
     "name": "stdout",
     "output_type": "stream",
     "text": [
      "Step 150\n",
      "Accuracy without re-ranking                            : 0.8333333333333334\n",
      "Accuracy with re-ranking(mmarco-mMiniLMv2-L12-H384-v1) : 0.9133333333333333\n",
      "Accuracy with re-ranking(klue-cross-encoder-v1)        : 0.9466666666666667\n",
      "Accuracy with re-ranking(ms-marco-MiniLM-L-12-v2)      : 0.54\n",
      "Accuracy with re-ranking(ms-marco-MiniLM-L-12-v2 tuning): 0.48\n"
     ]
    },
    {
     "name": "stderr",
     "output_type": "stream",
     "text": [
      "  3%|██▍                                                                    | 200/5769 [03:18<1:11:20,  1.30it/s]"
     ]
    },
    {
     "name": "stdout",
     "output_type": "stream",
     "text": [
      "Step 200\n",
      "Accuracy without re-ranking                            : 0.825\n",
      "Accuracy with re-ranking(mmarco-mMiniLMv2-L12-H384-v1) : 0.905\n",
      "Accuracy with re-ranking(klue-cross-encoder-v1)        : 0.935\n",
      "Accuracy with re-ranking(ms-marco-MiniLM-L-12-v2)      : 0.54\n",
      "Accuracy with re-ranking(ms-marco-MiniLM-L-12-v2 tuning): 0.47\n"
     ]
    },
    {
     "name": "stderr",
     "output_type": "stream",
     "text": [
      "  4%|███                                                                    | 250/5769 [04:00<1:06:41,  1.38it/s]"
     ]
    },
    {
     "name": "stdout",
     "output_type": "stream",
     "text": [
      "Step 250\n",
      "Accuracy without re-ranking                            : 0.832\n",
      "Accuracy with re-ranking(mmarco-mMiniLMv2-L12-H384-v1) : 0.9\n",
      "Accuracy with re-ranking(klue-cross-encoder-v1)        : 0.924\n",
      "Accuracy with re-ranking(ms-marco-MiniLM-L-12-v2)      : 0.54\n",
      "Accuracy with re-ranking(ms-marco-MiniLM-L-12-v2 tuning): 0.5\n"
     ]
    },
    {
     "name": "stderr",
     "output_type": "stream",
     "text": [
      "  5%|███▋                                                                   | 300/5769 [04:46<1:10:59,  1.28it/s]"
     ]
    },
    {
     "name": "stdout",
     "output_type": "stream",
     "text": [
      "Step 300\n",
      "Accuracy without re-ranking                            : 0.8333333333333334\n",
      "Accuracy with re-ranking(mmarco-mMiniLMv2-L12-H384-v1) : 0.9066666666666666\n",
      "Accuracy with re-ranking(klue-cross-encoder-v1)        : 0.9233333333333333\n",
      "Accuracy with re-ranking(ms-marco-MiniLM-L-12-v2)      : 0.5433333333333333\n",
      "Accuracy with re-ranking(ms-marco-MiniLM-L-12-v2 tuning): 0.5\n"
     ]
    },
    {
     "name": "stderr",
     "output_type": "stream",
     "text": [
      "  6%|████▎                                                                  | 350/5769 [05:38<1:08:51,  1.31it/s]"
     ]
    },
    {
     "name": "stdout",
     "output_type": "stream",
     "text": [
      "Step 350\n",
      "Accuracy without re-ranking                            : 0.8142857142857143\n",
      "Accuracy with re-ranking(mmarco-mMiniLMv2-L12-H384-v1) : 0.8942857142857142\n",
      "Accuracy with re-ranking(klue-cross-encoder-v1)        : 0.9057142857142857\n",
      "Accuracy with re-ranking(ms-marco-MiniLM-L-12-v2)      : 0.5171428571428571\n",
      "Accuracy with re-ranking(ms-marco-MiniLM-L-12-v2 tuning): 0.4742857142857143\n"
     ]
    },
    {
     "name": "stderr",
     "output_type": "stream",
     "text": [
      "  7%|████▉                                                                  | 400/5769 [06:17<1:20:05,  1.12it/s]"
     ]
    },
    {
     "name": "stdout",
     "output_type": "stream",
     "text": [
      "Step 400\n",
      "Accuracy without re-ranking                            : 0.8175\n",
      "Accuracy with re-ranking(mmarco-mMiniLMv2-L12-H384-v1) : 0.9\n",
      "Accuracy with re-ranking(klue-cross-encoder-v1)        : 0.9075\n",
      "Accuracy with re-ranking(ms-marco-MiniLM-L-12-v2)      : 0.5225\n",
      "Accuracy with re-ranking(ms-marco-MiniLM-L-12-v2 tuning): 0.4725\n"
     ]
    },
    {
     "name": "stderr",
     "output_type": "stream",
     "text": [
      "  8%|█████▌                                                                 | 450/5769 [06:56<1:11:33,  1.24it/s]"
     ]
    },
    {
     "name": "stdout",
     "output_type": "stream",
     "text": [
      "Step 450\n",
      "Accuracy without re-ranking                            : 0.8088888888888889\n",
      "Accuracy with re-ranking(mmarco-mMiniLMv2-L12-H384-v1) : 0.8888888888888888\n",
      "Accuracy with re-ranking(klue-cross-encoder-v1)        : 0.8977777777777778\n",
      "Accuracy with re-ranking(ms-marco-MiniLM-L-12-v2)      : 0.5133333333333333\n",
      "Accuracy with re-ranking(ms-marco-MiniLM-L-12-v2 tuning): 0.46444444444444444\n"
     ]
    },
    {
     "name": "stderr",
     "output_type": "stream",
     "text": [
      "  9%|██████▏                                                                | 500/5769 [07:40<1:09:16,  1.27it/s]"
     ]
    },
    {
     "name": "stdout",
     "output_type": "stream",
     "text": [
      "Step 500\n",
      "Accuracy without re-ranking                            : 0.808\n",
      "Accuracy with re-ranking(mmarco-mMiniLMv2-L12-H384-v1) : 0.892\n",
      "Accuracy with re-ranking(klue-cross-encoder-v1)        : 0.898\n",
      "Accuracy with re-ranking(ms-marco-MiniLM-L-12-v2)      : 0.522\n",
      "Accuracy with re-ranking(ms-marco-MiniLM-L-12-v2 tuning): 0.476\n"
     ]
    },
    {
     "name": "stderr",
     "output_type": "stream",
     "text": [
      " 10%|██████▉                                                                  | 550/5769 [08:36<58:46,  1.48it/s]"
     ]
    },
    {
     "name": "stdout",
     "output_type": "stream",
     "text": [
      "Step 550\n",
      "Accuracy without re-ranking                            : 0.8072727272727273\n",
      "Accuracy with re-ranking(mmarco-mMiniLMv2-L12-H384-v1) : 0.8927272727272727\n",
      "Accuracy with re-ranking(klue-cross-encoder-v1)        : 0.8945454545454545\n",
      "Accuracy with re-ranking(ms-marco-MiniLM-L-12-v2)      : 0.5054545454545455\n",
      "Accuracy with re-ranking(ms-marco-MiniLM-L-12-v2 tuning): 0.4690909090909091\n"
     ]
    },
    {
     "name": "stderr",
     "output_type": "stream",
     "text": [
      " 10%|███████▍                                                               | 600/5769 [09:16<1:36:25,  1.12s/it]"
     ]
    },
    {
     "name": "stdout",
     "output_type": "stream",
     "text": [
      "Step 600\n",
      "Accuracy without re-ranking                            : 0.8116666666666666\n",
      "Accuracy with re-ranking(mmarco-mMiniLMv2-L12-H384-v1) : 0.8916666666666667\n",
      "Accuracy with re-ranking(klue-cross-encoder-v1)        : 0.8933333333333333\n",
      "Accuracy with re-ranking(ms-marco-MiniLM-L-12-v2)      : 0.505\n",
      "Accuracy with re-ranking(ms-marco-MiniLM-L-12-v2 tuning): 0.4716666666666667\n"
     ]
    },
    {
     "name": "stderr",
     "output_type": "stream",
     "text": [
      " 11%|███████▉                                                               | 650/5769 [09:53<1:02:31,  1.36it/s]"
     ]
    },
    {
     "name": "stdout",
     "output_type": "stream",
     "text": [
      "Step 650\n",
      "Accuracy without re-ranking                            : 0.8123076923076923\n",
      "Accuracy with re-ranking(mmarco-mMiniLMv2-L12-H384-v1) : 0.8876923076923077\n",
      "Accuracy with re-ranking(klue-cross-encoder-v1)        : 0.8876923076923077\n",
      "Accuracy with re-ranking(ms-marco-MiniLM-L-12-v2)      : 0.49846153846153846\n",
      "Accuracy with re-ranking(ms-marco-MiniLM-L-12-v2 tuning): 0.46307692307692305\n"
     ]
    },
    {
     "name": "stderr",
     "output_type": "stream",
     "text": [
      " 12%|████████▊                                                                | 700/5769 [10:27<59:41,  1.42it/s]"
     ]
    },
    {
     "name": "stdout",
     "output_type": "stream",
     "text": [
      "Step 700\n",
      "Accuracy without re-ranking                            : 0.8128571428571428\n",
      "Accuracy with re-ranking(mmarco-mMiniLMv2-L12-H384-v1) : 0.8885714285714286\n",
      "Accuracy with re-ranking(klue-cross-encoder-v1)        : 0.8828571428571429\n",
      "Accuracy with re-ranking(ms-marco-MiniLM-L-12-v2)      : 0.5\n",
      "Accuracy with re-ranking(ms-marco-MiniLM-L-12-v2 tuning): 0.46\n"
     ]
    },
    {
     "name": "stderr",
     "output_type": "stream",
     "text": [
      " 13%|█████████▏                                                             | 750/5769 [11:06<1:01:52,  1.35it/s]"
     ]
    },
    {
     "name": "stdout",
     "output_type": "stream",
     "text": [
      "Step 750\n",
      "Accuracy without re-ranking                            : 0.8053333333333333\n",
      "Accuracy with re-ranking(mmarco-mMiniLMv2-L12-H384-v1) : 0.8813333333333333\n",
      "Accuracy with re-ranking(klue-cross-encoder-v1)        : 0.8773333333333333\n",
      "Accuracy with re-ranking(ms-marco-MiniLM-L-12-v2)      : 0.496\n",
      "Accuracy with re-ranking(ms-marco-MiniLM-L-12-v2 tuning): 0.45866666666666667\n"
     ]
    },
    {
     "name": "stderr",
     "output_type": "stream",
     "text": [
      " 14%|██████████                                                               | 800/5769 [11:44<58:18,  1.42it/s]"
     ]
    },
    {
     "name": "stdout",
     "output_type": "stream",
     "text": [
      "Step 800\n",
      "Accuracy without re-ranking                            : 0.80375\n",
      "Accuracy with re-ranking(mmarco-mMiniLMv2-L12-H384-v1) : 0.8825\n",
      "Accuracy with re-ranking(klue-cross-encoder-v1)        : 0.87875\n",
      "Accuracy with re-ranking(ms-marco-MiniLM-L-12-v2)      : 0.495\n",
      "Accuracy with re-ranking(ms-marco-MiniLM-L-12-v2 tuning): 0.45375\n"
     ]
    },
    {
     "name": "stderr",
     "output_type": "stream",
     "text": [
      " 15%|██████████▊                                                              | 850/5769 [12:18<51:23,  1.60it/s]"
     ]
    },
    {
     "name": "stdout",
     "output_type": "stream",
     "text": [
      "Step 850\n",
      "Accuracy without re-ranking                            : 0.8047058823529412\n",
      "Accuracy with re-ranking(mmarco-mMiniLMv2-L12-H384-v1) : 0.8858823529411765\n",
      "Accuracy with re-ranking(klue-cross-encoder-v1)        : 0.8811764705882353\n",
      "Accuracy with re-ranking(ms-marco-MiniLM-L-12-v2)      : 0.5011764705882353\n",
      "Accuracy with re-ranking(ms-marco-MiniLM-L-12-v2 tuning): 0.4541176470588235\n"
     ]
    },
    {
     "name": "stderr",
     "output_type": "stream",
     "text": [
      " 16%|███████████                                                            | 900/5769 [13:00<1:01:31,  1.32it/s]"
     ]
    },
    {
     "name": "stdout",
     "output_type": "stream",
     "text": [
      "Step 900\n",
      "Accuracy without re-ranking                            : 0.8066666666666666\n",
      "Accuracy with re-ranking(mmarco-mMiniLMv2-L12-H384-v1) : 0.8888888888888888\n",
      "Accuracy with re-ranking(klue-cross-encoder-v1)        : 0.8833333333333333\n",
      "Accuracy with re-ranking(ms-marco-MiniLM-L-12-v2)      : 0.4988888888888889\n",
      "Accuracy with re-ranking(ms-marco-MiniLM-L-12-v2 tuning): 0.4533333333333333\n"
     ]
    },
    {
     "name": "stderr",
     "output_type": "stream",
     "text": [
      " 16%|███████████▋                                                           | 950/5769 [13:47<1:03:55,  1.26it/s]"
     ]
    },
    {
     "name": "stdout",
     "output_type": "stream",
     "text": [
      "Step 950\n",
      "Accuracy without re-ranking                            : 0.8\n",
      "Accuracy with re-ranking(mmarco-mMiniLMv2-L12-H384-v1) : 0.8873684210526316\n",
      "Accuracy with re-ranking(klue-cross-encoder-v1)        : 0.88\n",
      "Accuracy with re-ranking(ms-marco-MiniLM-L-12-v2)      : 0.5\n",
      "Accuracy with re-ranking(ms-marco-MiniLM-L-12-v2 tuning): 0.4536842105263158\n"
     ]
    },
    {
     "name": "stderr",
     "output_type": "stream",
     "text": [
      " 17%|████████████▍                                                           | 1000/5769 [14:23<52:03,  1.53it/s]"
     ]
    },
    {
     "name": "stdout",
     "output_type": "stream",
     "text": [
      "Step 1000\n",
      "Accuracy without re-ranking                            : 0.802\n",
      "Accuracy with re-ranking(mmarco-mMiniLMv2-L12-H384-v1) : 0.89\n",
      "Accuracy with re-ranking(klue-cross-encoder-v1)        : 0.881\n",
      "Accuracy with re-ranking(ms-marco-MiniLM-L-12-v2)      : 0.502\n",
      "Accuracy with re-ranking(ms-marco-MiniLM-L-12-v2 tuning): 0.451\n"
     ]
    },
    {
     "name": "stderr",
     "output_type": "stream",
     "text": [
      " 18%|████████████▋                                                         | 1050/5769 [15:21<1:20:07,  1.02s/it]"
     ]
    },
    {
     "name": "stdout",
     "output_type": "stream",
     "text": [
      "Step 1050\n",
      "Accuracy without re-ranking                            : 0.8057142857142857\n",
      "Accuracy with re-ranking(mmarco-mMiniLMv2-L12-H384-v1) : 0.8914285714285715\n",
      "Accuracy with re-ranking(klue-cross-encoder-v1)        : 0.8819047619047619\n",
      "Accuracy with re-ranking(ms-marco-MiniLM-L-12-v2)      : 0.5009523809523809\n",
      "Accuracy with re-ranking(ms-marco-MiniLM-L-12-v2 tuning): 0.4504761904761905\n"
     ]
    },
    {
     "name": "stderr",
     "output_type": "stream",
     "text": [
      " 19%|█████████████▋                                                          | 1100/5769 [15:58<58:02,  1.34it/s]"
     ]
    },
    {
     "name": "stdout",
     "output_type": "stream",
     "text": [
      "Step 1100\n",
      "Accuracy without re-ranking                            : 0.8054545454545454\n",
      "Accuracy with re-ranking(mmarco-mMiniLMv2-L12-H384-v1) : 0.8881818181818182\n",
      "Accuracy with re-ranking(klue-cross-encoder-v1)        : 0.8790909090909091\n",
      "Accuracy with re-ranking(ms-marco-MiniLM-L-12-v2)      : 0.4990909090909091\n",
      "Accuracy with re-ranking(ms-marco-MiniLM-L-12-v2 tuning): 0.44727272727272727\n"
     ]
    },
    {
     "name": "stderr",
     "output_type": "stream",
     "text": [
      " 20%|██████████████▎                                                         | 1150/5769 [16:35<55:37,  1.38it/s]"
     ]
    },
    {
     "name": "stdout",
     "output_type": "stream",
     "text": [
      "Step 1150\n",
      "Accuracy without re-ranking                            : 0.8043478260869565\n",
      "Accuracy with re-ranking(mmarco-mMiniLMv2-L12-H384-v1) : 0.8860869565217391\n",
      "Accuracy with re-ranking(klue-cross-encoder-v1)        : 0.8773913043478261\n",
      "Accuracy with re-ranking(ms-marco-MiniLM-L-12-v2)      : 0.4991304347826087\n",
      "Accuracy with re-ranking(ms-marco-MiniLM-L-12-v2 tuning): 0.44956521739130434\n"
     ]
    },
    {
     "name": "stderr",
     "output_type": "stream",
     "text": [
      " 21%|██████████████▉                                                         | 1200/5769 [17:25<53:42,  1.42it/s]"
     ]
    },
    {
     "name": "stdout",
     "output_type": "stream",
     "text": [
      "Step 1200\n",
      "Accuracy without re-ranking                            : 0.8008333333333333\n",
      "Accuracy with re-ranking(mmarco-mMiniLMv2-L12-H384-v1) : 0.8841666666666667\n",
      "Accuracy with re-ranking(klue-cross-encoder-v1)        : 0.8766666666666667\n",
      "Accuracy with re-ranking(ms-marco-MiniLM-L-12-v2)      : 0.49333333333333335\n",
      "Accuracy with re-ranking(ms-marco-MiniLM-L-12-v2 tuning): 0.4475\n"
     ]
    },
    {
     "name": "stderr",
     "output_type": "stream",
     "text": [
      " 22%|███████████████▌                                                        | 1250/5769 [18:06<54:29,  1.38it/s]"
     ]
    },
    {
     "name": "stdout",
     "output_type": "stream",
     "text": [
      "Step 1250\n",
      "Accuracy without re-ranking                            : 0.7936\n",
      "Accuracy with re-ranking(mmarco-mMiniLMv2-L12-H384-v1) : 0.88\n",
      "Accuracy with re-ranking(klue-cross-encoder-v1)        : 0.8736\n",
      "Accuracy with re-ranking(ms-marco-MiniLM-L-12-v2)      : 0.4888\n",
      "Accuracy with re-ranking(ms-marco-MiniLM-L-12-v2 tuning): 0.4432\n"
     ]
    },
    {
     "name": "stderr",
     "output_type": "stream",
     "text": [
      " 23%|████████████████▏                                                       | 1300/5769 [18:44<55:07,  1.35it/s]"
     ]
    },
    {
     "name": "stdout",
     "output_type": "stream",
     "text": [
      "Step 1300\n",
      "Accuracy without re-ranking                            : 0.7938461538461539\n",
      "Accuracy with re-ranking(mmarco-mMiniLMv2-L12-H384-v1) : 0.8792307692307693\n",
      "Accuracy with re-ranking(klue-cross-encoder-v1)        : 0.8707692307692307\n",
      "Accuracy with re-ranking(ms-marco-MiniLM-L-12-v2)      : 0.48307692307692307\n",
      "Accuracy with re-ranking(ms-marco-MiniLM-L-12-v2 tuning): 0.43846153846153846\n"
     ]
    },
    {
     "name": "stderr",
     "output_type": "stream",
     "text": [
      " 23%|████████████████▊                                                       | 1350/5769 [19:27<56:08,  1.31it/s]"
     ]
    },
    {
     "name": "stdout",
     "output_type": "stream",
     "text": [
      "Step 1350\n",
      "Accuracy without re-ranking                            : 0.7948148148148149\n",
      "Accuracy with re-ranking(mmarco-mMiniLMv2-L12-H384-v1) : 0.8814814814814815\n",
      "Accuracy with re-ranking(klue-cross-encoder-v1)        : 0.8725925925925926\n",
      "Accuracy with re-ranking(ms-marco-MiniLM-L-12-v2)      : 0.4874074074074074\n",
      "Accuracy with re-ranking(ms-marco-MiniLM-L-12-v2 tuning): 0.4444444444444444\n"
     ]
    },
    {
     "name": "stderr",
     "output_type": "stream",
     "text": [
      " 24%|████████████████▉                                                     | 1400/5769 [20:18<3:39:50,  3.02s/it]"
     ]
    },
    {
     "name": "stdout",
     "output_type": "stream",
     "text": [
      "Step 1400\n",
      "Accuracy without re-ranking                            : 0.79\n",
      "Accuracy with re-ranking(mmarco-mMiniLMv2-L12-H384-v1) : 0.88\n",
      "Accuracy with re-ranking(klue-cross-encoder-v1)        : 0.87\n",
      "Accuracy with re-ranking(ms-marco-MiniLM-L-12-v2)      : 0.48928571428571427\n",
      "Accuracy with re-ranking(ms-marco-MiniLM-L-12-v2 tuning): 0.44642857142857145\n"
     ]
    },
    {
     "name": "stderr",
     "output_type": "stream",
     "text": [
      " 25%|█████████████████▌                                                    | 1450/5769 [21:24<1:26:24,  1.20s/it]"
     ]
    },
    {
     "name": "stdout",
     "output_type": "stream",
     "text": [
      "Step 1450\n",
      "Accuracy without re-ranking                            : 0.7910344827586206\n",
      "Accuracy with re-ranking(mmarco-mMiniLMv2-L12-H384-v1) : 0.8806896551724138\n",
      "Accuracy with re-ranking(klue-cross-encoder-v1)        : 0.8710344827586207\n",
      "Accuracy with re-ranking(ms-marco-MiniLM-L-12-v2)      : 0.48758620689655174\n",
      "Accuracy with re-ranking(ms-marco-MiniLM-L-12-v2 tuning): 0.44413793103448274\n"
     ]
    },
    {
     "name": "stderr",
     "output_type": "stream",
     "text": [
      " 26%|██████████████████▋                                                     | 1500/5769 [22:10<52:24,  1.36it/s]"
     ]
    },
    {
     "name": "stdout",
     "output_type": "stream",
     "text": [
      "Step 1500\n",
      "Accuracy without re-ranking                            : 0.7906666666666666\n",
      "Accuracy with re-ranking(mmarco-mMiniLMv2-L12-H384-v1) : 0.8806666666666667\n",
      "Accuracy with re-ranking(klue-cross-encoder-v1)        : 0.8713333333333333\n",
      "Accuracy with re-ranking(ms-marco-MiniLM-L-12-v2)      : 0.48733333333333334\n",
      "Accuracy with re-ranking(ms-marco-MiniLM-L-12-v2 tuning): 0.444\n"
     ]
    },
    {
     "name": "stderr",
     "output_type": "stream",
     "text": [
      " 27%|███████████████████▎                                                    | 1550/5769 [22:50<50:16,  1.40it/s]"
     ]
    },
    {
     "name": "stdout",
     "output_type": "stream",
     "text": [
      "Step 1550\n",
      "Accuracy without re-ranking                            : 0.7916129032258065\n",
      "Accuracy with re-ranking(mmarco-mMiniLMv2-L12-H384-v1) : 0.8812903225806452\n",
      "Accuracy with re-ranking(klue-cross-encoder-v1)        : 0.8716129032258064\n",
      "Accuracy with re-ranking(ms-marco-MiniLM-L-12-v2)      : 0.4838709677419355\n",
      "Accuracy with re-ranking(ms-marco-MiniLM-L-12-v2 tuning): 0.44129032258064516\n"
     ]
    },
    {
     "name": "stderr",
     "output_type": "stream",
     "text": [
      " 28%|███████████████████▉                                                    | 1600/5769 [23:28<53:06,  1.31it/s]"
     ]
    },
    {
     "name": "stdout",
     "output_type": "stream",
     "text": [
      "Step 1600\n",
      "Accuracy without re-ranking                            : 0.7925\n",
      "Accuracy with re-ranking(mmarco-mMiniLMv2-L12-H384-v1) : 0.880625\n",
      "Accuracy with re-ranking(klue-cross-encoder-v1)        : 0.871875\n",
      "Accuracy with re-ranking(ms-marco-MiniLM-L-12-v2)      : 0.478125\n",
      "Accuracy with re-ranking(ms-marco-MiniLM-L-12-v2 tuning): 0.43625\n"
     ]
    },
    {
     "name": "stderr",
     "output_type": "stream",
     "text": [
      " 29%|████████████████████▌                                                   | 1650/5769 [24:13<56:04,  1.22it/s]"
     ]
    },
    {
     "name": "stdout",
     "output_type": "stream",
     "text": [
      "Step 1650\n",
      "Accuracy without re-ranking                            : 0.7933333333333333\n",
      "Accuracy with re-ranking(mmarco-mMiniLMv2-L12-H384-v1) : 0.8812121212121212\n",
      "Accuracy with re-ranking(klue-cross-encoder-v1)        : 0.8721212121212121\n",
      "Accuracy with re-ranking(ms-marco-MiniLM-L-12-v2)      : 0.48\n",
      "Accuracy with re-ranking(ms-marco-MiniLM-L-12-v2 tuning): 0.43696969696969695\n"
     ]
    },
    {
     "name": "stderr",
     "output_type": "stream",
     "text": [
      " 29%|█████████████████████▏                                                  | 1700/5769 [24:53<49:01,  1.38it/s]"
     ]
    },
    {
     "name": "stdout",
     "output_type": "stream",
     "text": [
      "Step 1700\n",
      "Accuracy without re-ranking                            : 0.7923529411764706\n",
      "Accuracy with re-ranking(mmarco-mMiniLMv2-L12-H384-v1) : 0.8811764705882353\n",
      "Accuracy with re-ranking(klue-cross-encoder-v1)        : 0.8723529411764706\n",
      "Accuracy with re-ranking(ms-marco-MiniLM-L-12-v2)      : 0.48176470588235293\n",
      "Accuracy with re-ranking(ms-marco-MiniLM-L-12-v2 tuning): 0.4370588235294118\n"
     ]
    },
    {
     "name": "stderr",
     "output_type": "stream",
     "text": [
      " 30%|█████████████████████▊                                                  | 1750/5769 [25:38<55:52,  1.20it/s]"
     ]
    },
    {
     "name": "stdout",
     "output_type": "stream",
     "text": [
      "Step 1750\n",
      "Accuracy without re-ranking                            : 0.792\n",
      "Accuracy with re-ranking(mmarco-mMiniLMv2-L12-H384-v1) : 0.8822857142857143\n",
      "Accuracy with re-ranking(klue-cross-encoder-v1)        : 0.872\n",
      "Accuracy with re-ranking(ms-marco-MiniLM-L-12-v2)      : 0.48228571428571426\n",
      "Accuracy with re-ranking(ms-marco-MiniLM-L-12-v2 tuning): 0.436\n"
     ]
    },
    {
     "name": "stderr",
     "output_type": "stream",
     "text": [
      " 31%|██████████████████████▍                                                 | 1800/5769 [26:21<46:11,  1.43it/s]"
     ]
    },
    {
     "name": "stdout",
     "output_type": "stream",
     "text": [
      "Step 1800\n",
      "Accuracy without re-ranking                            : 0.79\n",
      "Accuracy with re-ranking(mmarco-mMiniLMv2-L12-H384-v1) : 0.88\n",
      "Accuracy with re-ranking(klue-cross-encoder-v1)        : 0.87\n",
      "Accuracy with re-ranking(ms-marco-MiniLM-L-12-v2)      : 0.4777777777777778\n",
      "Accuracy with re-ranking(ms-marco-MiniLM-L-12-v2 tuning): 0.43444444444444447\n"
     ]
    },
    {
     "name": "stderr",
     "output_type": "stream",
     "text": [
      " 32%|██████████████████████▍                                               | 1850/5769 [26:58<1:05:10,  1.00it/s]"
     ]
    },
    {
     "name": "stdout",
     "output_type": "stream",
     "text": [
      "Step 1850\n",
      "Accuracy without re-ranking                            : 0.7875675675675675\n",
      "Accuracy with re-ranking(mmarco-mMiniLMv2-L12-H384-v1) : 0.8783783783783784\n",
      "Accuracy with re-ranking(klue-cross-encoder-v1)        : 0.8686486486486487\n",
      "Accuracy with re-ranking(ms-marco-MiniLM-L-12-v2)      : 0.47675675675675677\n",
      "Accuracy with re-ranking(ms-marco-MiniLM-L-12-v2 tuning): 0.43189189189189187\n"
     ]
    },
    {
     "name": "stderr",
     "output_type": "stream",
     "text": [
      " 33%|███████████████████████▋                                                | 1900/5769 [27:36<54:10,  1.19it/s]"
     ]
    },
    {
     "name": "stdout",
     "output_type": "stream",
     "text": [
      "Step 1900\n",
      "Accuracy without re-ranking                            : 0.7873684210526316\n",
      "Accuracy with re-ranking(mmarco-mMiniLMv2-L12-H384-v1) : 0.8768421052631579\n",
      "Accuracy with re-ranking(klue-cross-encoder-v1)        : 0.8678947368421053\n",
      "Accuracy with re-ranking(ms-marco-MiniLM-L-12-v2)      : 0.4768421052631579\n",
      "Accuracy with re-ranking(ms-marco-MiniLM-L-12-v2 tuning): 0.4305263157894737\n"
     ]
    },
    {
     "name": "stderr",
     "output_type": "stream",
     "text": [
      " 34%|████████████████████████▎                                               | 1950/5769 [28:14<47:13,  1.35it/s]"
     ]
    },
    {
     "name": "stdout",
     "output_type": "stream",
     "text": [
      "Step 1950\n",
      "Accuracy without re-ranking                            : 0.7866666666666666\n",
      "Accuracy with re-ranking(mmarco-mMiniLMv2-L12-H384-v1) : 0.8748717948717949\n",
      "Accuracy with re-ranking(klue-cross-encoder-v1)        : 0.8661538461538462\n",
      "Accuracy with re-ranking(ms-marco-MiniLM-L-12-v2)      : 0.47435897435897434\n",
      "Accuracy with re-ranking(ms-marco-MiniLM-L-12-v2 tuning): 0.4297435897435897\n"
     ]
    },
    {
     "name": "stderr",
     "output_type": "stream",
     "text": [
      " 35%|████████████████████████▎                                             | 2000/5769 [29:05<1:00:03,  1.05it/s]"
     ]
    },
    {
     "name": "stdout",
     "output_type": "stream",
     "text": [
      "Step 2000\n",
      "Accuracy without re-ranking                            : 0.785\n",
      "Accuracy with re-ranking(mmarco-mMiniLMv2-L12-H384-v1) : 0.8755\n",
      "Accuracy with re-ranking(klue-cross-encoder-v1)        : 0.866\n",
      "Accuracy with re-ranking(ms-marco-MiniLM-L-12-v2)      : 0.475\n",
      "Accuracy with re-ranking(ms-marco-MiniLM-L-12-v2 tuning): 0.429\n"
     ]
    },
    {
     "name": "stderr",
     "output_type": "stream",
     "text": [
      " 36%|█████████████████████████▌                                              | 2050/5769 [29:44<49:53,  1.24it/s]"
     ]
    },
    {
     "name": "stdout",
     "output_type": "stream",
     "text": [
      "Step 2050\n",
      "Accuracy without re-ranking                            : 0.7873170731707317\n",
      "Accuracy with re-ranking(mmarco-mMiniLMv2-L12-H384-v1) : 0.8760975609756098\n",
      "Accuracy with re-ranking(klue-cross-encoder-v1)        : 0.8663414634146341\n",
      "Accuracy with re-ranking(ms-marco-MiniLM-L-12-v2)      : 0.4721951219512195\n",
      "Accuracy with re-ranking(ms-marco-MiniLM-L-12-v2 tuning): 0.42585365853658536\n"
     ]
    },
    {
     "name": "stderr",
     "output_type": "stream",
     "text": [
      " 36%|██████████████████████████▏                                             | 2100/5769 [30:27<47:18,  1.29it/s]"
     ]
    },
    {
     "name": "stdout",
     "output_type": "stream",
     "text": [
      "Step 2100\n",
      "Accuracy without re-ranking                            : 0.7866666666666666\n",
      "Accuracy with re-ranking(mmarco-mMiniLMv2-L12-H384-v1) : 0.8752380952380953\n",
      "Accuracy with re-ranking(klue-cross-encoder-v1)        : 0.8661904761904762\n",
      "Accuracy with re-ranking(ms-marco-MiniLM-L-12-v2)      : 0.4738095238095238\n",
      "Accuracy with re-ranking(ms-marco-MiniLM-L-12-v2 tuning): 0.4280952380952381\n"
     ]
    },
    {
     "name": "stderr",
     "output_type": "stream",
     "text": [
      " 37%|██████████████████████████▊                                             | 2150/5769 [31:06<48:01,  1.26it/s]"
     ]
    },
    {
     "name": "stdout",
     "output_type": "stream",
     "text": [
      "Step 2150\n",
      "Accuracy without re-ranking                            : 0.7869767441860465\n",
      "Accuracy with re-ranking(mmarco-mMiniLMv2-L12-H384-v1) : 0.8753488372093023\n",
      "Accuracy with re-ranking(klue-cross-encoder-v1)        : 0.8655813953488372\n",
      "Accuracy with re-ranking(ms-marco-MiniLM-L-12-v2)      : 0.47488372093023257\n",
      "Accuracy with re-ranking(ms-marco-MiniLM-L-12-v2 tuning): 0.42790697674418604\n"
     ]
    },
    {
     "name": "stderr",
     "output_type": "stream",
     "text": [
      " 38%|██████████████████████████▋                                           | 2200/5769 [31:50<2:33:24,  2.58s/it]"
     ]
    },
    {
     "name": "stdout",
     "output_type": "stream",
     "text": [
      "Step 2200\n",
      "Accuracy without re-ranking                            : 0.7872727272727272\n",
      "Accuracy with re-ranking(mmarco-mMiniLMv2-L12-H384-v1) : 0.8745454545454545\n",
      "Accuracy with re-ranking(klue-cross-encoder-v1)        : 0.8654545454545455\n",
      "Accuracy with re-ranking(ms-marco-MiniLM-L-12-v2)      : 0.47363636363636363\n",
      "Accuracy with re-ranking(ms-marco-MiniLM-L-12-v2 tuning): 0.42727272727272725\n"
     ]
    },
    {
     "name": "stderr",
     "output_type": "stream",
     "text": [
      " 39%|████████████████████████████                                            | 2250/5769 [32:27<43:18,  1.35it/s]"
     ]
    },
    {
     "name": "stdout",
     "output_type": "stream",
     "text": [
      "Step 2250\n",
      "Accuracy without re-ranking                            : 0.7857777777777778\n",
      "Accuracy with re-ranking(mmarco-mMiniLMv2-L12-H384-v1) : 0.8737777777777778\n",
      "Accuracy with re-ranking(klue-cross-encoder-v1)        : 0.8635555555555555\n",
      "Accuracy with re-ranking(ms-marco-MiniLM-L-12-v2)      : 0.47333333333333333\n",
      "Accuracy with re-ranking(ms-marco-MiniLM-L-12-v2 tuning): 0.4266666666666667\n"
     ]
    },
    {
     "name": "stderr",
     "output_type": "stream",
     "text": [
      " 40%|███████████████████████████▉                                          | 2300/5769 [33:08<1:05:26,  1.13s/it]"
     ]
    },
    {
     "name": "stdout",
     "output_type": "stream",
     "text": [
      "Step 2300\n",
      "Accuracy without re-ranking                            : 0.7856521739130434\n",
      "Accuracy with re-ranking(mmarco-mMiniLMv2-L12-H384-v1) : 0.8743478260869565\n",
      "Accuracy with re-ranking(klue-cross-encoder-v1)        : 0.8634782608695653\n",
      "Accuracy with re-ranking(ms-marco-MiniLM-L-12-v2)      : 0.47347826086956524\n",
      "Accuracy with re-ranking(ms-marco-MiniLM-L-12-v2 tuning): 0.4260869565217391\n"
     ]
    },
    {
     "name": "stderr",
     "output_type": "stream",
     "text": [
      " 41%|█████████████████████████████▎                                          | 2350/5769 [33:50<43:54,  1.30it/s]"
     ]
    },
    {
     "name": "stdout",
     "output_type": "stream",
     "text": [
      "Step 2350\n",
      "Accuracy without re-ranking                            : 0.7846808510638298\n",
      "Accuracy with re-ranking(mmarco-mMiniLMv2-L12-H384-v1) : 0.8736170212765958\n",
      "Accuracy with re-ranking(klue-cross-encoder-v1)        : 0.8629787234042553\n",
      "Accuracy with re-ranking(ms-marco-MiniLM-L-12-v2)      : 0.4714893617021277\n",
      "Accuracy with re-ranking(ms-marco-MiniLM-L-12-v2 tuning): 0.4238297872340426\n"
     ]
    },
    {
     "name": "stderr",
     "output_type": "stream",
     "text": [
      " 42%|█████████████████████████████▉                                          | 2400/5769 [34:39<48:27,  1.16it/s]"
     ]
    },
    {
     "name": "stdout",
     "output_type": "stream",
     "text": [
      "Step 2400\n",
      "Accuracy without re-ranking                            : 0.78375\n",
      "Accuracy with re-ranking(mmarco-mMiniLMv2-L12-H384-v1) : 0.8725\n",
      "Accuracy with re-ranking(klue-cross-encoder-v1)        : 0.8616666666666667\n",
      "Accuracy with re-ranking(ms-marco-MiniLM-L-12-v2)      : 0.47458333333333336\n",
      "Accuracy with re-ranking(ms-marco-MiniLM-L-12-v2 tuning): 0.42625\n"
     ]
    },
    {
     "name": "stderr",
     "output_type": "stream",
     "text": [
      " 42%|██████████████████████████████▌                                         | 2450/5769 [35:15<38:42,  1.43it/s]"
     ]
    },
    {
     "name": "stdout",
     "output_type": "stream",
     "text": [
      "Step 2450\n",
      "Accuracy without re-ranking                            : 0.7804081632653062\n",
      "Accuracy with re-ranking(mmarco-mMiniLMv2-L12-H384-v1) : 0.8722448979591837\n",
      "Accuracy with re-ranking(klue-cross-encoder-v1)        : 0.8604081632653061\n",
      "Accuracy with re-ranking(ms-marco-MiniLM-L-12-v2)      : 0.4710204081632653\n",
      "Accuracy with re-ranking(ms-marco-MiniLM-L-12-v2 tuning): 0.4253061224489796\n"
     ]
    },
    {
     "name": "stderr",
     "output_type": "stream",
     "text": [
      " 43%|███████████████████████████████▏                                        | 2500/5769 [35:48<36:43,  1.48it/s]"
     ]
    },
    {
     "name": "stdout",
     "output_type": "stream",
     "text": [
      "Step 2500\n",
      "Accuracy without re-ranking                            : 0.7816\n",
      "Accuracy with re-ranking(mmarco-mMiniLMv2-L12-H384-v1) : 0.8728\n",
      "Accuracy with re-ranking(klue-cross-encoder-v1)        : 0.8612\n",
      "Accuracy with re-ranking(ms-marco-MiniLM-L-12-v2)      : 0.4712\n",
      "Accuracy with re-ranking(ms-marco-MiniLM-L-12-v2 tuning): 0.4244\n"
     ]
    },
    {
     "name": "stderr",
     "output_type": "stream",
     "text": [
      " 44%|██████████████████████████████▉                                       | 2550/5769 [37:07<3:31:30,  3.94s/it]"
     ]
    },
    {
     "name": "stdout",
     "output_type": "stream",
     "text": [
      "Step 2550\n",
      "Accuracy without re-ranking                            : 0.779607843137255\n",
      "Accuracy with re-ranking(mmarco-mMiniLMv2-L12-H384-v1) : 0.8721568627450981\n",
      "Accuracy with re-ranking(klue-cross-encoder-v1)        : 0.8603921568627451\n",
      "Accuracy with re-ranking(ms-marco-MiniLM-L-12-v2)      : 0.47215686274509805\n",
      "Accuracy with re-ranking(ms-marco-MiniLM-L-12-v2 tuning): 0.4243137254901961\n"
     ]
    },
    {
     "name": "stderr",
     "output_type": "stream",
     "text": [
      " 45%|████████████████████████████████▍                                       | 2600/5769 [38:37<52:16,  1.01it/s]"
     ]
    },
    {
     "name": "stdout",
     "output_type": "stream",
     "text": [
      "Step 2600\n",
      "Accuracy without re-ranking                            : 0.7788461538461539\n",
      "Accuracy with re-ranking(mmarco-mMiniLMv2-L12-H384-v1) : 0.8707692307692307\n",
      "Accuracy with re-ranking(klue-cross-encoder-v1)        : 0.8596153846153847\n",
      "Accuracy with re-ranking(ms-marco-MiniLM-L-12-v2)      : 0.47115384615384615\n",
      "Accuracy with re-ranking(ms-marco-MiniLM-L-12-v2 tuning): 0.4226923076923077\n"
     ]
    },
    {
     "name": "stderr",
     "output_type": "stream",
     "text": [
      " 46%|████████████████████████████████▏                                     | 2650/5769 [39:41<1:12:05,  1.39s/it]"
     ]
    },
    {
     "name": "stdout",
     "output_type": "stream",
     "text": [
      "Step 2650\n",
      "Accuracy without re-ranking                            : 0.7784905660377358\n",
      "Accuracy with re-ranking(mmarco-mMiniLMv2-L12-H384-v1) : 0.869811320754717\n",
      "Accuracy with re-ranking(klue-cross-encoder-v1)        : 0.8584905660377359\n",
      "Accuracy with re-ranking(ms-marco-MiniLM-L-12-v2)      : 0.469811320754717\n",
      "Accuracy with re-ranking(ms-marco-MiniLM-L-12-v2 tuning): 0.42\n"
     ]
    },
    {
     "name": "stderr",
     "output_type": "stream",
     "text": [
      " 47%|█████████████████████████████████▋                                      | 2700/5769 [40:35<41:02,  1.25it/s]"
     ]
    },
    {
     "name": "stdout",
     "output_type": "stream",
     "text": [
      "Step 2700\n",
      "Accuracy without re-ranking                            : 0.7788888888888889\n",
      "Accuracy with re-ranking(mmarco-mMiniLMv2-L12-H384-v1) : 0.8696296296296296\n",
      "Accuracy with re-ranking(klue-cross-encoder-v1)        : 0.8585185185185186\n",
      "Accuracy with re-ranking(ms-marco-MiniLM-L-12-v2)      : 0.47\n",
      "Accuracy with re-ranking(ms-marco-MiniLM-L-12-v2 tuning): 0.42185185185185187\n"
     ]
    },
    {
     "name": "stderr",
     "output_type": "stream",
     "text": [
      " 48%|██████████████████████████████████▎                                     | 2750/5769 [41:20<40:45,  1.23it/s]"
     ]
    },
    {
     "name": "stdout",
     "output_type": "stream",
     "text": [
      "Step 2750\n",
      "Accuracy without re-ranking                            : 0.7796363636363637\n",
      "Accuracy with re-ranking(mmarco-mMiniLMv2-L12-H384-v1) : 0.8701818181818182\n",
      "Accuracy with re-ranking(klue-cross-encoder-v1)        : 0.858909090909091\n",
      "Accuracy with re-ranking(ms-marco-MiniLM-L-12-v2)      : 0.472\n",
      "Accuracy with re-ranking(ms-marco-MiniLM-L-12-v2 tuning): 0.424\n"
     ]
    },
    {
     "name": "stderr",
     "output_type": "stream",
     "text": [
      " 49%|██████████████████████████████████▉                                     | 2800/5769 [42:09<37:52,  1.31it/s]"
     ]
    },
    {
     "name": "stdout",
     "output_type": "stream",
     "text": [
      "Step 2800\n",
      "Accuracy without re-ranking                            : 0.7803571428571429\n",
      "Accuracy with re-ranking(mmarco-mMiniLMv2-L12-H384-v1) : 0.8703571428571428\n",
      "Accuracy with re-ranking(klue-cross-encoder-v1)        : 0.8589285714285714\n",
      "Accuracy with re-ranking(ms-marco-MiniLM-L-12-v2)      : 0.4732142857142857\n",
      "Accuracy with re-ranking(ms-marco-MiniLM-L-12-v2 tuning): 0.42642857142857143\n"
     ]
    },
    {
     "name": "stderr",
     "output_type": "stream",
     "text": [
      " 49%|███████████████████████████████████▌                                    | 2850/5769 [42:50<37:42,  1.29it/s]"
     ]
    },
    {
     "name": "stdout",
     "output_type": "stream",
     "text": [
      "Step 2850\n",
      "Accuracy without re-ranking                            : 0.7817543859649123\n",
      "Accuracy with re-ranking(mmarco-mMiniLMv2-L12-H384-v1) : 0.8701754385964913\n",
      "Accuracy with re-ranking(klue-cross-encoder-v1)        : 0.8592982456140351\n",
      "Accuracy with re-ranking(ms-marco-MiniLM-L-12-v2)      : 0.4743859649122807\n",
      "Accuracy with re-ranking(ms-marco-MiniLM-L-12-v2 tuning): 0.4280701754385965\n"
     ]
    },
    {
     "name": "stderr",
     "output_type": "stream",
     "text": [
      " 50%|████████████████████████████████████▏                                   | 2900/5769 [43:31<45:10,  1.06it/s]"
     ]
    },
    {
     "name": "stdout",
     "output_type": "stream",
     "text": [
      "Step 2900\n",
      "Accuracy without re-ranking                            : 0.7820689655172414\n",
      "Accuracy with re-ranking(mmarco-mMiniLMv2-L12-H384-v1) : 0.87\n",
      "Accuracy with re-ranking(klue-cross-encoder-v1)        : 0.8586206896551725\n",
      "Accuracy with re-ranking(ms-marco-MiniLM-L-12-v2)      : 0.47517241379310343\n",
      "Accuracy with re-ranking(ms-marco-MiniLM-L-12-v2 tuning): 0.4286206896551724\n"
     ]
    },
    {
     "name": "stderr",
     "output_type": "stream",
     "text": [
      " 51%|████████████████████████████████████▊                                   | 2950/5769 [44:27<45:16,  1.04it/s]"
     ]
    },
    {
     "name": "stdout",
     "output_type": "stream",
     "text": [
      "Step 2950\n",
      "Accuracy without re-ranking                            : 0.7806779661016949\n",
      "Accuracy with re-ranking(mmarco-mMiniLMv2-L12-H384-v1) : 0.8691525423728813\n",
      "Accuracy with re-ranking(klue-cross-encoder-v1)        : 0.8583050847457627\n",
      "Accuracy with re-ranking(ms-marco-MiniLM-L-12-v2)      : 0.47491525423728814\n",
      "Accuracy with re-ranking(ms-marco-MiniLM-L-12-v2 tuning): 0.428135593220339\n"
     ]
    },
    {
     "name": "stderr",
     "output_type": "stream",
     "text": [
      " 52%|█████████████████████████████████████▍                                  | 3000/5769 [45:10<32:56,  1.40it/s]"
     ]
    },
    {
     "name": "stdout",
     "output_type": "stream",
     "text": [
      "Step 3000\n",
      "Accuracy without re-ranking                            : 0.7803333333333333\n",
      "Accuracy with re-ranking(mmarco-mMiniLMv2-L12-H384-v1) : 0.8686666666666667\n",
      "Accuracy with re-ranking(klue-cross-encoder-v1)        : 0.8583333333333333\n",
      "Accuracy with re-ranking(ms-marco-MiniLM-L-12-v2)      : 0.47533333333333333\n",
      "Accuracy with re-ranking(ms-marco-MiniLM-L-12-v2 tuning): 0.429\n"
     ]
    },
    {
     "name": "stderr",
     "output_type": "stream",
     "text": [
      " 53%|██████████████████████████████████████                                  | 3050/5769 [45:47<32:04,  1.41it/s]"
     ]
    },
    {
     "name": "stdout",
     "output_type": "stream",
     "text": [
      "Step 3050\n",
      "Accuracy without re-ranking                            : 0.781311475409836\n",
      "Accuracy with re-ranking(mmarco-mMiniLMv2-L12-H384-v1) : 0.8688524590163934\n",
      "Accuracy with re-ranking(klue-cross-encoder-v1)        : 0.8583606557377049\n",
      "Accuracy with re-ranking(ms-marco-MiniLM-L-12-v2)      : 0.47508196721311474\n",
      "Accuracy with re-ranking(ms-marco-MiniLM-L-12-v2 tuning): 0.4278688524590164\n"
     ]
    },
    {
     "name": "stderr",
     "output_type": "stream",
     "text": [
      " 54%|██████████████████████████████████████▋                                 | 3100/5769 [46:29<33:59,  1.31it/s]"
     ]
    },
    {
     "name": "stdout",
     "output_type": "stream",
     "text": [
      "Step 3100\n",
      "Accuracy without re-ranking                            : 0.7812903225806451\n",
      "Accuracy with re-ranking(mmarco-mMiniLMv2-L12-H384-v1) : 0.8690322580645161\n",
      "Accuracy with re-ranking(klue-cross-encoder-v1)        : 0.8580645161290322\n",
      "Accuracy with re-ranking(ms-marco-MiniLM-L-12-v2)      : 0.4754838709677419\n",
      "Accuracy with re-ranking(ms-marco-MiniLM-L-12-v2 tuning): 0.42838709677419357\n"
     ]
    },
    {
     "name": "stderr",
     "output_type": "stream",
     "text": [
      " 55%|███████████████████████████████████████▎                                | 3150/5769 [47:09<32:09,  1.36it/s]"
     ]
    },
    {
     "name": "stdout",
     "output_type": "stream",
     "text": [
      "Step 3150\n",
      "Accuracy without re-ranking                            : 0.780952380952381\n",
      "Accuracy with re-ranking(mmarco-mMiniLMv2-L12-H384-v1) : 0.8688888888888889\n",
      "Accuracy with re-ranking(klue-cross-encoder-v1)        : 0.8577777777777778\n",
      "Accuracy with re-ranking(ms-marco-MiniLM-L-12-v2)      : 0.4746031746031746\n",
      "Accuracy with re-ranking(ms-marco-MiniLM-L-12-v2 tuning): 0.42793650793650795\n"
     ]
    },
    {
     "name": "stderr",
     "output_type": "stream",
     "text": [
      " 55%|███████████████████████████████████████▉                                | 3200/5769 [47:48<29:47,  1.44it/s]"
     ]
    },
    {
     "name": "stdout",
     "output_type": "stream",
     "text": [
      "Step 3200\n",
      "Accuracy without re-ranking                            : 0.7796875\n",
      "Accuracy with re-ranking(mmarco-mMiniLMv2-L12-H384-v1) : 0.86875\n",
      "Accuracy with re-ranking(klue-cross-encoder-v1)        : 0.858125\n",
      "Accuracy with re-ranking(ms-marco-MiniLM-L-12-v2)      : 0.4740625\n",
      "Accuracy with re-ranking(ms-marco-MiniLM-L-12-v2 tuning): 0.426875\n"
     ]
    },
    {
     "name": "stderr",
     "output_type": "stream",
     "text": [
      " 56%|████████████████████████████████████████▌                               | 3250/5769 [48:33<35:54,  1.17it/s]"
     ]
    },
    {
     "name": "stdout",
     "output_type": "stream",
     "text": [
      "Step 3250\n",
      "Accuracy without re-ranking                            : 0.7781538461538462\n",
      "Accuracy with re-ranking(mmarco-mMiniLMv2-L12-H384-v1) : 0.8686153846153846\n",
      "Accuracy with re-ranking(klue-cross-encoder-v1)        : 0.8584615384615385\n",
      "Accuracy with re-ranking(ms-marco-MiniLM-L-12-v2)      : 0.47446153846153843\n",
      "Accuracy with re-ranking(ms-marco-MiniLM-L-12-v2 tuning): 0.4276923076923077\n"
     ]
    },
    {
     "name": "stderr",
     "output_type": "stream",
     "text": [
      " 57%|█████████████████████████████████████████▏                              | 3300/5769 [49:19<33:39,  1.22it/s]"
     ]
    },
    {
     "name": "stdout",
     "output_type": "stream",
     "text": [
      "Step 3300\n",
      "Accuracy without re-ranking                            : 0.776969696969697\n",
      "Accuracy with re-ranking(mmarco-mMiniLMv2-L12-H384-v1) : 0.8678787878787879\n",
      "Accuracy with re-ranking(klue-cross-encoder-v1)        : 0.8575757575757575\n",
      "Accuracy with re-ranking(ms-marco-MiniLM-L-12-v2)      : 0.47575757575757577\n",
      "Accuracy with re-ranking(ms-marco-MiniLM-L-12-v2 tuning): 0.4290909090909091\n"
     ]
    },
    {
     "name": "stderr",
     "output_type": "stream",
     "text": [
      " 58%|█████████████████████████████████████████▊                              | 3350/5769 [50:02<34:26,  1.17it/s]"
     ]
    },
    {
     "name": "stdout",
     "output_type": "stream",
     "text": [
      "Step 3350\n",
      "Accuracy without re-ranking                            : 0.7773134328358209\n",
      "Accuracy with re-ranking(mmarco-mMiniLMv2-L12-H384-v1) : 0.8680597014925373\n",
      "Accuracy with re-ranking(klue-cross-encoder-v1)        : 0.8576119402985075\n",
      "Accuracy with re-ranking(ms-marco-MiniLM-L-12-v2)      : 0.4764179104477612\n",
      "Accuracy with re-ranking(ms-marco-MiniLM-L-12-v2 tuning): 0.43044776119402983\n"
     ]
    },
    {
     "name": "stderr",
     "output_type": "stream",
     "text": [
      " 59%|██████████████████████████████████████████▍                             | 3400/5769 [50:58<52:27,  1.33s/it]"
     ]
    },
    {
     "name": "stdout",
     "output_type": "stream",
     "text": [
      "Step 3400\n",
      "Accuracy without re-ranking                            : 0.7761764705882352\n",
      "Accuracy with re-ranking(mmarco-mMiniLMv2-L12-H384-v1) : 0.8685294117647059\n",
      "Accuracy with re-ranking(klue-cross-encoder-v1)        : 0.8579411764705882\n",
      "Accuracy with re-ranking(ms-marco-MiniLM-L-12-v2)      : 0.4767647058823529\n",
      "Accuracy with re-ranking(ms-marco-MiniLM-L-12-v2 tuning): 0.4308823529411765\n"
     ]
    },
    {
     "name": "stderr",
     "output_type": "stream",
     "text": [
      " 60%|███████████████████████████████████████████                             | 3450/5769 [51:41<30:24,  1.27it/s]"
     ]
    },
    {
     "name": "stdout",
     "output_type": "stream",
     "text": [
      "Step 3450\n",
      "Accuracy without re-ranking                            : 0.7773913043478261\n",
      "Accuracy with re-ranking(mmarco-mMiniLMv2-L12-H384-v1) : 0.8692753623188406\n",
      "Accuracy with re-ranking(klue-cross-encoder-v1)        : 0.8585507246376811\n",
      "Accuracy with re-ranking(ms-marco-MiniLM-L-12-v2)      : 0.4771014492753623\n",
      "Accuracy with re-ranking(ms-marco-MiniLM-L-12-v2 tuning): 0.4327536231884058\n"
     ]
    },
    {
     "name": "stderr",
     "output_type": "stream",
     "text": [
      " 61%|███████████████████████████████████████████▋                            | 3500/5769 [52:17<24:33,  1.54it/s]"
     ]
    },
    {
     "name": "stdout",
     "output_type": "stream",
     "text": [
      "Step 3500\n",
      "Accuracy without re-ranking                            : 0.7745714285714286\n",
      "Accuracy with re-ranking(mmarco-mMiniLMv2-L12-H384-v1) : 0.868\n",
      "Accuracy with re-ranking(klue-cross-encoder-v1)        : 0.8571428571428571\n",
      "Accuracy with re-ranking(ms-marco-MiniLM-L-12-v2)      : 0.47514285714285714\n",
      "Accuracy with re-ranking(ms-marco-MiniLM-L-12-v2 tuning): 0.43257142857142855\n"
     ]
    },
    {
     "name": "stderr",
     "output_type": "stream",
     "text": [
      " 62%|████████████████████████████████████████████▎                           | 3550/5769 [52:53<24:58,  1.48it/s]"
     ]
    },
    {
     "name": "stdout",
     "output_type": "stream",
     "text": [
      "Step 3550\n",
      "Accuracy without re-ranking                            : 0.7743661971830986\n",
      "Accuracy with re-ranking(mmarco-mMiniLMv2-L12-H384-v1) : 0.8676056338028169\n",
      "Accuracy with re-ranking(klue-cross-encoder-v1)        : 0.856338028169014\n",
      "Accuracy with re-ranking(ms-marco-MiniLM-L-12-v2)      : 0.47464788732394364\n",
      "Accuracy with re-ranking(ms-marco-MiniLM-L-12-v2 tuning): 0.4332394366197183\n"
     ]
    },
    {
     "name": "stderr",
     "output_type": "stream",
     "text": [
      " 62%|████████████████████████████████████████████▉                           | 3600/5769 [53:25<23:31,  1.54it/s]"
     ]
    },
    {
     "name": "stdout",
     "output_type": "stream",
     "text": [
      "Step 3600\n",
      "Accuracy without re-ranking                            : 0.7752777777777777\n",
      "Accuracy with re-ranking(mmarco-mMiniLMv2-L12-H384-v1) : 0.8680555555555556\n",
      "Accuracy with re-ranking(klue-cross-encoder-v1)        : 0.8566666666666667\n",
      "Accuracy with re-ranking(ms-marco-MiniLM-L-12-v2)      : 0.47555555555555556\n",
      "Accuracy with re-ranking(ms-marco-MiniLM-L-12-v2 tuning): 0.4336111111111111\n"
     ]
    },
    {
     "name": "stderr",
     "output_type": "stream",
     "text": [
      " 63%|█████████████████████████████████████████████▌                          | 3650/5769 [54:01<23:31,  1.50it/s]"
     ]
    },
    {
     "name": "stdout",
     "output_type": "stream",
     "text": [
      "Step 3650\n",
      "Accuracy without re-ranking                            : 0.7747945205479452\n",
      "Accuracy with re-ranking(mmarco-mMiniLMv2-L12-H384-v1) : 0.8687671232876713\n",
      "Accuracy with re-ranking(klue-cross-encoder-v1)        : 0.8575342465753425\n",
      "Accuracy with re-ranking(ms-marco-MiniLM-L-12-v2)      : 0.47506849315068495\n",
      "Accuracy with re-ranking(ms-marco-MiniLM-L-12-v2 tuning): 0.4347945205479452\n"
     ]
    },
    {
     "name": "stderr",
     "output_type": "stream",
     "text": [
      " 64%|██████████████████████████████████████████████▏                         | 3700/5769 [54:36<23:01,  1.50it/s]"
     ]
    },
    {
     "name": "stdout",
     "output_type": "stream",
     "text": [
      "Step 3700\n",
      "Accuracy without re-ranking                            : 0.7754054054054054\n",
      "Accuracy with re-ranking(mmarco-mMiniLMv2-L12-H384-v1) : 0.8691891891891892\n",
      "Accuracy with re-ranking(klue-cross-encoder-v1)        : 0.8581081081081081\n",
      "Accuracy with re-ranking(ms-marco-MiniLM-L-12-v2)      : 0.4756756756756757\n",
      "Accuracy with re-ranking(ms-marco-MiniLM-L-12-v2 tuning): 0.4362162162162162\n"
     ]
    },
    {
     "name": "stderr",
     "output_type": "stream",
     "text": [
      " 65%|██████████████████████████████████████████████▊                         | 3750/5769 [55:11<23:24,  1.44it/s]"
     ]
    },
    {
     "name": "stdout",
     "output_type": "stream",
     "text": [
      "Step 3750\n",
      "Accuracy without re-ranking                            : 0.7749333333333334\n",
      "Accuracy with re-ranking(mmarco-mMiniLMv2-L12-H384-v1) : 0.8690666666666667\n",
      "Accuracy with re-ranking(klue-cross-encoder-v1)        : 0.8584\n",
      "Accuracy with re-ranking(ms-marco-MiniLM-L-12-v2)      : 0.47573333333333334\n",
      "Accuracy with re-ranking(ms-marco-MiniLM-L-12-v2 tuning): 0.436\n"
     ]
    },
    {
     "name": "stderr",
     "output_type": "stream",
     "text": [
      " 66%|███████████████████████████████████████████████▍                        | 3800/5769 [55:44<21:44,  1.51it/s]"
     ]
    },
    {
     "name": "stdout",
     "output_type": "stream",
     "text": [
      "Step 3800\n",
      "Accuracy without re-ranking                            : 0.776578947368421\n",
      "Accuracy with re-ranking(mmarco-mMiniLMv2-L12-H384-v1) : 0.8697368421052631\n",
      "Accuracy with re-ranking(klue-cross-encoder-v1)        : 0.8592105263157894\n",
      "Accuracy with re-ranking(ms-marco-MiniLM-L-12-v2)      : 0.47710526315789475\n",
      "Accuracy with re-ranking(ms-marco-MiniLM-L-12-v2 tuning): 0.4363157894736842\n"
     ]
    },
    {
     "name": "stderr",
     "output_type": "stream",
     "text": [
      " 67%|████████████████████████████████████████████████                        | 3850/5769 [56:16<19:02,  1.68it/s]"
     ]
    },
    {
     "name": "stdout",
     "output_type": "stream",
     "text": [
      "Step 3850\n",
      "Accuracy without re-ranking                            : 0.7766233766233767\n",
      "Accuracy with re-ranking(mmarco-mMiniLMv2-L12-H384-v1) : 0.8690909090909091\n",
      "Accuracy with re-ranking(klue-cross-encoder-v1)        : 0.8584415584415584\n",
      "Accuracy with re-ranking(ms-marco-MiniLM-L-12-v2)      : 0.47584415584415585\n",
      "Accuracy with re-ranking(ms-marco-MiniLM-L-12-v2 tuning): 0.43636363636363634\n"
     ]
    },
    {
     "name": "stderr",
     "output_type": "stream",
     "text": [
      " 68%|████████████████████████████████████████████████▋                       | 3900/5769 [56:48<20:39,  1.51it/s]"
     ]
    },
    {
     "name": "stdout",
     "output_type": "stream",
     "text": [
      "Step 3900\n",
      "Accuracy without re-ranking                            : 0.7769230769230769\n",
      "Accuracy with re-ranking(mmarco-mMiniLMv2-L12-H384-v1) : 0.8692307692307693\n",
      "Accuracy with re-ranking(klue-cross-encoder-v1)        : 0.8587179487179487\n",
      "Accuracy with re-ranking(ms-marco-MiniLM-L-12-v2)      : 0.4756410256410256\n",
      "Accuracy with re-ranking(ms-marco-MiniLM-L-12-v2 tuning): 0.43666666666666665\n"
     ]
    },
    {
     "name": "stderr",
     "output_type": "stream",
     "text": [
      " 68%|█████████████████████████████████████████████████▎                      | 3950/5769 [57:22<25:51,  1.17it/s]"
     ]
    },
    {
     "name": "stdout",
     "output_type": "stream",
     "text": [
      "Step 3950\n",
      "Accuracy without re-ranking                            : 0.7767088607594936\n",
      "Accuracy with re-ranking(mmarco-mMiniLMv2-L12-H384-v1) : 0.8688607594936709\n",
      "Accuracy with re-ranking(klue-cross-encoder-v1)        : 0.8584810126582278\n",
      "Accuracy with re-ranking(ms-marco-MiniLM-L-12-v2)      : 0.4769620253164557\n",
      "Accuracy with re-ranking(ms-marco-MiniLM-L-12-v2 tuning): 0.43746835443037974\n"
     ]
    },
    {
     "name": "stderr",
     "output_type": "stream",
     "text": [
      " 69%|█████████████████████████████████████████████████▉                      | 4000/5769 [58:00<27:53,  1.06it/s]"
     ]
    },
    {
     "name": "stdout",
     "output_type": "stream",
     "text": [
      "Step 4000\n",
      "Accuracy without re-ranking                            : 0.776\n",
      "Accuracy with re-ranking(mmarco-mMiniLMv2-L12-H384-v1) : 0.86825\n",
      "Accuracy with re-ranking(klue-cross-encoder-v1)        : 0.858\n",
      "Accuracy with re-ranking(ms-marco-MiniLM-L-12-v2)      : 0.47675\n",
      "Accuracy with re-ranking(ms-marco-MiniLM-L-12-v2 tuning): 0.43675\n"
     ]
    },
    {
     "name": "stderr",
     "output_type": "stream",
     "text": [
      " 70%|██████████████████████████████████████████████████▌                     | 4050/5769 [58:32<16:06,  1.78it/s]"
     ]
    },
    {
     "name": "stdout",
     "output_type": "stream",
     "text": [
      "Step 4050\n",
      "Accuracy without re-ranking                            : 0.7760493827160494\n",
      "Accuracy with re-ranking(mmarco-mMiniLMv2-L12-H384-v1) : 0.8676543209876543\n",
      "Accuracy with re-ranking(klue-cross-encoder-v1)        : 0.8577777777777778\n",
      "Accuracy with re-ranking(ms-marco-MiniLM-L-12-v2)      : 0.4775308641975309\n",
      "Accuracy with re-ranking(ms-marco-MiniLM-L-12-v2 tuning): 0.4372839506172839\n"
     ]
    },
    {
     "name": "stderr",
     "output_type": "stream",
     "text": [
      " 71%|███████████████████████████████████████████████████▏                    | 4100/5769 [59:15<25:16,  1.10it/s]"
     ]
    },
    {
     "name": "stdout",
     "output_type": "stream",
     "text": [
      "Step 4100\n",
      "Accuracy without re-ranking                            : 0.7760975609756098\n",
      "Accuracy with re-ranking(mmarco-mMiniLMv2-L12-H384-v1) : 0.8668292682926829\n",
      "Accuracy with re-ranking(klue-cross-encoder-v1)        : 0.8573170731707317\n",
      "Accuracy with re-ranking(ms-marco-MiniLM-L-12-v2)      : 0.4775609756097561\n",
      "Accuracy with re-ranking(ms-marco-MiniLM-L-12-v2 tuning): 0.4375609756097561\n"
     ]
    },
    {
     "name": "stderr",
     "output_type": "stream",
     "text": [
      " 72%|███████████████████████████████████████████████████▊                    | 4150/5769 [59:50<19:52,  1.36it/s]"
     ]
    },
    {
     "name": "stdout",
     "output_type": "stream",
     "text": [
      "Step 4150\n",
      "Accuracy without re-ranking                            : 0.7775903614457831\n",
      "Accuracy with re-ranking(mmarco-mMiniLMv2-L12-H384-v1) : 0.867710843373494\n",
      "Accuracy with re-ranking(klue-cross-encoder-v1)        : 0.8585542168674699\n",
      "Accuracy with re-ranking(ms-marco-MiniLM-L-12-v2)      : 0.47879518072289157\n",
      "Accuracy with re-ranking(ms-marco-MiniLM-L-12-v2 tuning): 0.43903614457831325\n"
     ]
    },
    {
     "name": "stderr",
     "output_type": "stream",
     "text": [
      " 73%|██████████████████████████████████████████████████▉                   | 4200/5769 [1:00:25<17:47,  1.47it/s]"
     ]
    },
    {
     "name": "stdout",
     "output_type": "stream",
     "text": [
      "Step 4200\n",
      "Accuracy without re-ranking                            : 0.7778571428571428\n",
      "Accuracy with re-ranking(mmarco-mMiniLMv2-L12-H384-v1) : 0.8680952380952381\n",
      "Accuracy with re-ranking(klue-cross-encoder-v1)        : 0.8590476190476191\n",
      "Accuracy with re-ranking(ms-marco-MiniLM-L-12-v2)      : 0.4788095238095238\n",
      "Accuracy with re-ranking(ms-marco-MiniLM-L-12-v2 tuning): 0.44047619047619047\n"
     ]
    },
    {
     "name": "stderr",
     "output_type": "stream",
     "text": [
      " 74%|███████████████████████████████████████████████████▌                  | 4250/5769 [1:01:09<18:17,  1.38it/s]"
     ]
    },
    {
     "name": "stdout",
     "output_type": "stream",
     "text": [
      "Step 4250\n",
      "Accuracy without re-ranking                            : 0.7781176470588236\n",
      "Accuracy with re-ranking(mmarco-mMiniLMv2-L12-H384-v1) : 0.8684705882352941\n",
      "Accuracy with re-ranking(klue-cross-encoder-v1)        : 0.859764705882353\n",
      "Accuracy with re-ranking(ms-marco-MiniLM-L-12-v2)      : 0.4797647058823529\n",
      "Accuracy with re-ranking(ms-marco-MiniLM-L-12-v2 tuning): 0.4416470588235294\n"
     ]
    },
    {
     "name": "stderr",
     "output_type": "stream",
     "text": [
      " 75%|████████████████████████████████████████████████████▏                 | 4300/5769 [1:01:43<15:26,  1.59it/s]"
     ]
    },
    {
     "name": "stdout",
     "output_type": "stream",
     "text": [
      "Step 4300\n",
      "Accuracy without re-ranking                            : 0.7779069767441861\n",
      "Accuracy with re-ranking(mmarco-mMiniLMv2-L12-H384-v1) : 0.868139534883721\n",
      "Accuracy with re-ranking(klue-cross-encoder-v1)        : 0.8593023255813953\n",
      "Accuracy with re-ranking(ms-marco-MiniLM-L-12-v2)      : 0.48023255813953486\n",
      "Accuracy with re-ranking(ms-marco-MiniLM-L-12-v2 tuning): 0.44232558139534883\n"
     ]
    },
    {
     "name": "stderr",
     "output_type": "stream",
     "text": [
      " 75%|████████████████████████████████████████████████████▊                 | 4350/5769 [1:02:20<16:27,  1.44it/s]"
     ]
    },
    {
     "name": "stdout",
     "output_type": "stream",
     "text": [
      "Step 4350\n",
      "Accuracy without re-ranking                            : 0.7777011494252873\n",
      "Accuracy with re-ranking(mmarco-mMiniLMv2-L12-H384-v1) : 0.8680459770114942\n",
      "Accuracy with re-ranking(klue-cross-encoder-v1)        : 0.8588505747126437\n",
      "Accuracy with re-ranking(ms-marco-MiniLM-L-12-v2)      : 0.48\n",
      "Accuracy with re-ranking(ms-marco-MiniLM-L-12-v2 tuning): 0.44229885057471263\n"
     ]
    },
    {
     "name": "stderr",
     "output_type": "stream",
     "text": [
      " 76%|█████████████████████████████████████████████████████▍                | 4400/5769 [1:02:52<14:28,  1.58it/s]"
     ]
    },
    {
     "name": "stdout",
     "output_type": "stream",
     "text": [
      "Step 4400\n",
      "Accuracy without re-ranking                            : 0.7784090909090909\n",
      "Accuracy with re-ranking(mmarco-mMiniLMv2-L12-H384-v1) : 0.8681818181818182\n",
      "Accuracy with re-ranking(klue-cross-encoder-v1)        : 0.8590909090909091\n",
      "Accuracy with re-ranking(ms-marco-MiniLM-L-12-v2)      : 0.4797727272727273\n",
      "Accuracy with re-ranking(ms-marco-MiniLM-L-12-v2 tuning): 0.4431818181818182\n"
     ]
    },
    {
     "name": "stderr",
     "output_type": "stream",
     "text": [
      " 77%|█████████████████████████████████████████████████████▉                | 4450/5769 [1:03:27<15:02,  1.46it/s]"
     ]
    },
    {
     "name": "stdout",
     "output_type": "stream",
     "text": [
      "Step 4450\n",
      "Accuracy without re-ranking                            : 0.7793258426966292\n",
      "Accuracy with re-ranking(mmarco-mMiniLMv2-L12-H384-v1) : 0.8696629213483146\n",
      "Accuracy with re-ranking(klue-cross-encoder-v1)        : 0.8602247191011236\n",
      "Accuracy with re-ranking(ms-marco-MiniLM-L-12-v2)      : 0.4793258426966292\n",
      "Accuracy with re-ranking(ms-marco-MiniLM-L-12-v2 tuning): 0.44269662921348313\n"
     ]
    },
    {
     "name": "stderr",
     "output_type": "stream",
     "text": [
      " 78%|██████████████████████████████████████████████████████▌               | 4500/5769 [1:04:03<15:25,  1.37it/s]"
     ]
    },
    {
     "name": "stdout",
     "output_type": "stream",
     "text": [
      "Step 4500\n",
      "Accuracy without re-ranking                            : 0.7793333333333333\n",
      "Accuracy with re-ranking(mmarco-mMiniLMv2-L12-H384-v1) : 0.8695555555555555\n",
      "Accuracy with re-ranking(klue-cross-encoder-v1)        : 0.86\n",
      "Accuracy with re-ranking(ms-marco-MiniLM-L-12-v2)      : 0.48\n",
      "Accuracy with re-ranking(ms-marco-MiniLM-L-12-v2 tuning): 0.4428888888888889\n"
     ]
    },
    {
     "name": "stderr",
     "output_type": "stream",
     "text": [
      " 79%|███████████████████████████████████████████████████████▏              | 4550/5769 [1:04:37<13:45,  1.48it/s]"
     ]
    },
    {
     "name": "stdout",
     "output_type": "stream",
     "text": [
      "Step 4550\n",
      "Accuracy without re-ranking                            : 0.78\n",
      "Accuracy with re-ranking(mmarco-mMiniLMv2-L12-H384-v1) : 0.8701098901098901\n",
      "Accuracy with re-ranking(klue-cross-encoder-v1)        : 0.8606593406593407\n",
      "Accuracy with re-ranking(ms-marco-MiniLM-L-12-v2)      : 0.481978021978022\n",
      "Accuracy with re-ranking(ms-marco-MiniLM-L-12-v2 tuning): 0.4441758241758242\n"
     ]
    },
    {
     "name": "stderr",
     "output_type": "stream",
     "text": [
      " 80%|███████████████████████████████████████████████████████▊              | 4600/5769 [1:05:14<12:09,  1.60it/s]"
     ]
    },
    {
     "name": "stdout",
     "output_type": "stream",
     "text": [
      "Step 4600\n",
      "Accuracy without re-ranking                            : 0.7797826086956522\n",
      "Accuracy with re-ranking(mmarco-mMiniLMv2-L12-H384-v1) : 0.8697826086956522\n",
      "Accuracy with re-ranking(klue-cross-encoder-v1)        : 0.8602173913043478\n",
      "Accuracy with re-ranking(ms-marco-MiniLM-L-12-v2)      : 0.48195652173913045\n",
      "Accuracy with re-ranking(ms-marco-MiniLM-L-12-v2 tuning): 0.4439130434782609\n"
     ]
    },
    {
     "name": "stderr",
     "output_type": "stream",
     "text": [
      " 81%|████████████████████████████████████████████████████████▍             | 4650/5769 [1:05:49<12:44,  1.46it/s]"
     ]
    },
    {
     "name": "stdout",
     "output_type": "stream",
     "text": [
      "Step 4650\n",
      "Accuracy without re-ranking                            : 0.78\n",
      "Accuracy with re-ranking(mmarco-mMiniLMv2-L12-H384-v1) : 0.8701075268817204\n",
      "Accuracy with re-ranking(klue-cross-encoder-v1)        : 0.8606451612903225\n",
      "Accuracy with re-ranking(ms-marco-MiniLM-L-12-v2)      : 0.48193548387096774\n",
      "Accuracy with re-ranking(ms-marco-MiniLM-L-12-v2 tuning): 0.443010752688172\n"
     ]
    },
    {
     "name": "stderr",
     "output_type": "stream",
     "text": [
      " 81%|█████████████████████████████████████████████████████████             | 4700/5769 [1:06:29<11:59,  1.49it/s]"
     ]
    },
    {
     "name": "stdout",
     "output_type": "stream",
     "text": [
      "Step 4700\n",
      "Accuracy without re-ranking                            : 0.7808510638297872\n",
      "Accuracy with re-ranking(mmarco-mMiniLMv2-L12-H384-v1) : 0.8704255319148936\n",
      "Accuracy with re-ranking(klue-cross-encoder-v1)        : 0.8610638297872341\n",
      "Accuracy with re-ranking(ms-marco-MiniLM-L-12-v2)      : 0.4823404255319149\n",
      "Accuracy with re-ranking(ms-marco-MiniLM-L-12-v2 tuning): 0.4431914893617021\n"
     ]
    },
    {
     "name": "stderr",
     "output_type": "stream",
     "text": [
      " 82%|█████████████████████████████████████████████████████████▋            | 4750/5769 [1:07:03<11:57,  1.42it/s]"
     ]
    },
    {
     "name": "stdout",
     "output_type": "stream",
     "text": [
      "Step 4750\n",
      "Accuracy without re-ranking                            : 0.7821052631578947\n",
      "Accuracy with re-ranking(mmarco-mMiniLMv2-L12-H384-v1) : 0.8711578947368421\n",
      "Accuracy with re-ranking(klue-cross-encoder-v1)        : 0.8618947368421053\n",
      "Accuracy with re-ranking(ms-marco-MiniLM-L-12-v2)      : 0.48273684210526313\n",
      "Accuracy with re-ranking(ms-marco-MiniLM-L-12-v2 tuning): 0.4433684210526316\n"
     ]
    },
    {
     "name": "stderr",
     "output_type": "stream",
     "text": [
      " 83%|██████████████████████████████████████████████████████████▏           | 4800/5769 [1:07:35<11:23,  1.42it/s]"
     ]
    },
    {
     "name": "stdout",
     "output_type": "stream",
     "text": [
      "Step 4800\n",
      "Accuracy without re-ranking                            : 0.7822916666666667\n",
      "Accuracy with re-ranking(mmarco-mMiniLMv2-L12-H384-v1) : 0.870625\n",
      "Accuracy with re-ranking(klue-cross-encoder-v1)        : 0.8616666666666667\n",
      "Accuracy with re-ranking(ms-marco-MiniLM-L-12-v2)      : 0.48333333333333334\n",
      "Accuracy with re-ranking(ms-marco-MiniLM-L-12-v2 tuning): 0.44333333333333336\n"
     ]
    },
    {
     "name": "stderr",
     "output_type": "stream",
     "text": [
      " 84%|██████████████████████████████████████████████████████████▊           | 4850/5769 [1:08:16<10:06,  1.51it/s]"
     ]
    },
    {
     "name": "stdout",
     "output_type": "stream",
     "text": [
      "Step 4850\n",
      "Accuracy without re-ranking                            : 0.7826804123711341\n",
      "Accuracy with re-ranking(mmarco-mMiniLMv2-L12-H384-v1) : 0.8715463917525773\n",
      "Accuracy with re-ranking(klue-cross-encoder-v1)        : 0.8628865979381444\n",
      "Accuracy with re-ranking(ms-marco-MiniLM-L-12-v2)      : 0.48329896907216496\n",
      "Accuracy with re-ranking(ms-marco-MiniLM-L-12-v2 tuning): 0.44268041237113404\n"
     ]
    },
    {
     "name": "stderr",
     "output_type": "stream",
     "text": [
      " 85%|███████████████████████████████████████████████████████████▍          | 4900/5769 [1:09:00<21:45,  1.50s/it]"
     ]
    },
    {
     "name": "stdout",
     "output_type": "stream",
     "text": [
      "Step 4900\n",
      "Accuracy without re-ranking                            : 0.7824489795918367\n",
      "Accuracy with re-ranking(mmarco-mMiniLMv2-L12-H384-v1) : 0.8724489795918368\n",
      "Accuracy with re-ranking(klue-cross-encoder-v1)        : 0.8630612244897959\n",
      "Accuracy with re-ranking(ms-marco-MiniLM-L-12-v2)      : 0.483265306122449\n",
      "Accuracy with re-ranking(ms-marco-MiniLM-L-12-v2 tuning): 0.44285714285714284\n"
     ]
    },
    {
     "name": "stderr",
     "output_type": "stream",
     "text": [
      " 86%|████████████████████████████████████████████████████████████          | 4950/5769 [1:09:42<11:10,  1.22it/s]"
     ]
    },
    {
     "name": "stdout",
     "output_type": "stream",
     "text": [
      "Step 4950\n",
      "Accuracy without re-ranking                            : 0.7818181818181819\n",
      "Accuracy with re-ranking(mmarco-mMiniLMv2-L12-H384-v1) : 0.8725252525252525\n",
      "Accuracy with re-ranking(klue-cross-encoder-v1)        : 0.863030303030303\n",
      "Accuracy with re-ranking(ms-marco-MiniLM-L-12-v2)      : 0.4824242424242424\n",
      "Accuracy with re-ranking(ms-marco-MiniLM-L-12-v2 tuning): 0.44242424242424244\n"
     ]
    },
    {
     "name": "stderr",
     "output_type": "stream",
     "text": [
      " 87%|████████████████████████████████████████████████████████████▋         | 5000/5769 [1:10:16<08:32,  1.50it/s]"
     ]
    },
    {
     "name": "stdout",
     "output_type": "stream",
     "text": [
      "Step 5000\n",
      "Accuracy without re-ranking                            : 0.7832\n",
      "Accuracy with re-ranking(mmarco-mMiniLMv2-L12-H384-v1) : 0.8732\n",
      "Accuracy with re-ranking(klue-cross-encoder-v1)        : 0.8634\n",
      "Accuracy with re-ranking(ms-marco-MiniLM-L-12-v2)      : 0.4826\n",
      "Accuracy with re-ranking(ms-marco-MiniLM-L-12-v2 tuning): 0.4422\n"
     ]
    },
    {
     "name": "stderr",
     "output_type": "stream",
     "text": [
      " 88%|█████████████████████████████████████████████████████████████▎        | 5050/5769 [1:10:50<07:55,  1.51it/s]"
     ]
    },
    {
     "name": "stdout",
     "output_type": "stream",
     "text": [
      "Step 5050\n",
      "Accuracy without re-ranking                            : 0.783960396039604\n",
      "Accuracy with re-ranking(mmarco-mMiniLMv2-L12-H384-v1) : 0.8732673267326733\n",
      "Accuracy with re-ranking(klue-cross-encoder-v1)        : 0.8635643564356436\n",
      "Accuracy with re-ranking(ms-marco-MiniLM-L-12-v2)      : 0.48277227722772276\n",
      "Accuracy with re-ranking(ms-marco-MiniLM-L-12-v2 tuning): 0.4415841584158416\n"
     ]
    },
    {
     "name": "stderr",
     "output_type": "stream",
     "text": [
      " 88%|█████████████████████████████████████████████████████████████▉        | 5100/5769 [1:11:28<07:26,  1.50it/s]"
     ]
    },
    {
     "name": "stdout",
     "output_type": "stream",
     "text": [
      "Step 5100\n",
      "Accuracy without re-ranking                            : 0.7843137254901961\n",
      "Accuracy with re-ranking(mmarco-mMiniLMv2-L12-H384-v1) : 0.8735294117647059\n",
      "Accuracy with re-ranking(klue-cross-encoder-v1)        : 0.863921568627451\n",
      "Accuracy with re-ranking(ms-marco-MiniLM-L-12-v2)      : 0.48274509803921567\n",
      "Accuracy with re-ranking(ms-marco-MiniLM-L-12-v2 tuning): 0.4415686274509804\n"
     ]
    },
    {
     "name": "stderr",
     "output_type": "stream",
     "text": [
      " 89%|██████████████████████████████████████████████████████████████▍       | 5150/5769 [1:12:01<06:50,  1.51it/s]"
     ]
    },
    {
     "name": "stdout",
     "output_type": "stream",
     "text": [
      "Step 5150\n",
      "Accuracy without re-ranking                            : 0.7848543689320389\n",
      "Accuracy with re-ranking(mmarco-mMiniLMv2-L12-H384-v1) : 0.8743689320388349\n",
      "Accuracy with re-ranking(klue-cross-encoder-v1)        : 0.8650485436893204\n",
      "Accuracy with re-ranking(ms-marco-MiniLM-L-12-v2)      : 0.48330097087378643\n",
      "Accuracy with re-ranking(ms-marco-MiniLM-L-12-v2 tuning): 0.4413592233009709\n"
     ]
    },
    {
     "name": "stderr",
     "output_type": "stream",
     "text": [
      " 90%|███████████████████████████████████████████████████████████████       | 5200/5769 [1:12:36<06:42,  1.41it/s]"
     ]
    },
    {
     "name": "stdout",
     "output_type": "stream",
     "text": [
      "Step 5200\n",
      "Accuracy without re-ranking                            : 0.7846153846153846\n",
      "Accuracy with re-ranking(mmarco-mMiniLMv2-L12-H384-v1) : 0.8748076923076923\n",
      "Accuracy with re-ranking(klue-cross-encoder-v1)        : 0.865\n",
      "Accuracy with re-ranking(ms-marco-MiniLM-L-12-v2)      : 0.4828846153846154\n",
      "Accuracy with re-ranking(ms-marco-MiniLM-L-12-v2 tuning): 0.4411538461538462\n"
     ]
    },
    {
     "name": "stderr",
     "output_type": "stream",
     "text": [
      " 91%|███████████████████████████████████████████████████████████████▋      | 5250/5769 [1:13:11<05:43,  1.51it/s]"
     ]
    },
    {
     "name": "stdout",
     "output_type": "stream",
     "text": [
      "Step 5250\n",
      "Accuracy without re-ranking                            : 0.7847619047619048\n",
      "Accuracy with re-ranking(mmarco-mMiniLMv2-L12-H384-v1) : 0.8746666666666667\n",
      "Accuracy with re-ranking(klue-cross-encoder-v1)        : 0.8653333333333333\n",
      "Accuracy with re-ranking(ms-marco-MiniLM-L-12-v2)      : 0.4824761904761905\n",
      "Accuracy with re-ranking(ms-marco-MiniLM-L-12-v2 tuning): 0.44133333333333336\n"
     ]
    },
    {
     "name": "stderr",
     "output_type": "stream",
     "text": [
      " 92%|████████████████████████████████████████████████████████████████▎     | 5300/5769 [1:13:51<15:48,  2.02s/it]"
     ]
    },
    {
     "name": "stdout",
     "output_type": "stream",
     "text": [
      "Step 5300\n",
      "Accuracy without re-ranking                            : 0.7852830188679245\n",
      "Accuracy with re-ranking(mmarco-mMiniLMv2-L12-H384-v1) : 0.8750943396226415\n",
      "Accuracy with re-ranking(klue-cross-encoder-v1)        : 0.8658490566037735\n",
      "Accuracy with re-ranking(ms-marco-MiniLM-L-12-v2)      : 0.4839622641509434\n",
      "Accuracy with re-ranking(ms-marco-MiniLM-L-12-v2 tuning): 0.4432075471698113\n"
     ]
    },
    {
     "name": "stderr",
     "output_type": "stream",
     "text": [
      " 93%|████████████████████████████████████████████████████████████████▉     | 5350/5769 [1:14:35<04:35,  1.52it/s]"
     ]
    },
    {
     "name": "stdout",
     "output_type": "stream",
     "text": [
      "Step 5350\n",
      "Accuracy without re-ranking                            : 0.7859813084112149\n",
      "Accuracy with re-ranking(mmarco-mMiniLMv2-L12-H384-v1) : 0.8751401869158878\n",
      "Accuracy with re-ranking(klue-cross-encoder-v1)        : 0.8657943925233644\n",
      "Accuracy with re-ranking(ms-marco-MiniLM-L-12-v2)      : 0.48411214953271026\n",
      "Accuracy with re-ranking(ms-marco-MiniLM-L-12-v2 tuning): 0.44299065420560746\n"
     ]
    },
    {
     "name": "stderr",
     "output_type": "stream",
     "text": [
      " 94%|█████████████████████████████████████████████████████████████████▌    | 5400/5769 [1:15:10<04:10,  1.47it/s]"
     ]
    },
    {
     "name": "stdout",
     "output_type": "stream",
     "text": [
      "Step 5400\n",
      "Accuracy without re-ranking                            : 0.7862962962962963\n",
      "Accuracy with re-ranking(mmarco-mMiniLMv2-L12-H384-v1) : 0.8755555555555555\n",
      "Accuracy with re-ranking(klue-cross-encoder-v1)        : 0.8664814814814815\n",
      "Accuracy with re-ranking(ms-marco-MiniLM-L-12-v2)      : 0.4840740740740741\n",
      "Accuracy with re-ranking(ms-marco-MiniLM-L-12-v2 tuning): 0.44296296296296295\n"
     ]
    },
    {
     "name": "stderr",
     "output_type": "stream",
     "text": [
      " 94%|██████████████████████████████████████████████████████████████████▏   | 5450/5769 [1:15:48<03:36,  1.48it/s]"
     ]
    },
    {
     "name": "stdout",
     "output_type": "stream",
     "text": [
      "Step 5450\n",
      "Accuracy without re-ranking                            : 0.7871559633027523\n",
      "Accuracy with re-ranking(mmarco-mMiniLMv2-L12-H384-v1) : 0.8759633027522936\n",
      "Accuracy with re-ranking(klue-cross-encoder-v1)        : 0.8669724770642202\n",
      "Accuracy with re-ranking(ms-marco-MiniLM-L-12-v2)      : 0.48495412844036695\n",
      "Accuracy with re-ranking(ms-marco-MiniLM-L-12-v2 tuning): 0.44330275229357796\n"
     ]
    },
    {
     "name": "stderr",
     "output_type": "stream",
     "text": [
      " 95%|██████████████████████████████████████████████████████████████████▋   | 5500/5769 [1:16:24<03:23,  1.32it/s]"
     ]
    },
    {
     "name": "stdout",
     "output_type": "stream",
     "text": [
      "Step 5500\n",
      "Accuracy without re-ranking                            : 0.7881818181818182\n",
      "Accuracy with re-ranking(mmarco-mMiniLMv2-L12-H384-v1) : 0.8765454545454545\n",
      "Accuracy with re-ranking(klue-cross-encoder-v1)        : 0.8676363636363637\n",
      "Accuracy with re-ranking(ms-marco-MiniLM-L-12-v2)      : 0.4850909090909091\n",
      "Accuracy with re-ranking(ms-marco-MiniLM-L-12-v2 tuning): 0.4430909090909091\n"
     ]
    },
    {
     "name": "stderr",
     "output_type": "stream",
     "text": [
      " 96%|███████████████████████████████████████████████████████████████████▎  | 5550/5769 [1:17:01<02:35,  1.41it/s]"
     ]
    },
    {
     "name": "stdout",
     "output_type": "stream",
     "text": [
      "Step 5550\n",
      "Accuracy without re-ranking                            : 0.7884684684684685\n",
      "Accuracy with re-ranking(mmarco-mMiniLMv2-L12-H384-v1) : 0.8765765765765766\n",
      "Accuracy with re-ranking(klue-cross-encoder-v1)        : 0.8675675675675676\n",
      "Accuracy with re-ranking(ms-marco-MiniLM-L-12-v2)      : 0.4845045045045045\n",
      "Accuracy with re-ranking(ms-marco-MiniLM-L-12-v2 tuning): 0.44288288288288286\n"
     ]
    },
    {
     "name": "stderr",
     "output_type": "stream",
     "text": [
      " 97%|███████████████████████████████████████████████████████████████████▉  | 5600/5769 [1:17:40<03:31,  1.25s/it]"
     ]
    },
    {
     "name": "stdout",
     "output_type": "stream",
     "text": [
      "Step 5600\n",
      "Accuracy without re-ranking                            : 0.7894642857142857\n",
      "Accuracy with re-ranking(mmarco-mMiniLMv2-L12-H384-v1) : 0.8775\n",
      "Accuracy with re-ranking(klue-cross-encoder-v1)        : 0.8685714285714285\n",
      "Accuracy with re-ranking(ms-marco-MiniLM-L-12-v2)      : 0.485\n",
      "Accuracy with re-ranking(ms-marco-MiniLM-L-12-v2 tuning): 0.44339285714285714\n"
     ]
    },
    {
     "name": "stderr",
     "output_type": "stream",
     "text": [
      " 98%|████████████████████████████████████████████████████████████████████▌ | 5650/5769 [1:18:20<01:39,  1.19it/s]"
     ]
    },
    {
     "name": "stdout",
     "output_type": "stream",
     "text": [
      "Step 5650\n",
      "Accuracy without re-ranking                            : 0.7902654867256638\n",
      "Accuracy with re-ranking(mmarco-mMiniLMv2-L12-H384-v1) : 0.8782300884955753\n",
      "Accuracy with re-ranking(klue-cross-encoder-v1)        : 0.8692035398230088\n",
      "Accuracy with re-ranking(ms-marco-MiniLM-L-12-v2)      : 0.48619469026548673\n",
      "Accuracy with re-ranking(ms-marco-MiniLM-L-12-v2 tuning): 0.44442477876106196\n"
     ]
    },
    {
     "name": "stderr",
     "output_type": "stream",
     "text": [
      " 99%|█████████████████████████████████████████████████████████████████████▏| 5700/5769 [1:18:54<00:50,  1.36it/s]"
     ]
    },
    {
     "name": "stdout",
     "output_type": "stream",
     "text": [
      "Step 5700\n",
      "Accuracy without re-ranking                            : 0.7908771929824562\n",
      "Accuracy with re-ranking(mmarco-mMiniLMv2-L12-H384-v1) : 0.8782456140350877\n",
      "Accuracy with re-ranking(klue-cross-encoder-v1)        : 0.8694736842105263\n",
      "Accuracy with re-ranking(ms-marco-MiniLM-L-12-v2)      : 0.4856140350877193\n",
      "Accuracy with re-ranking(ms-marco-MiniLM-L-12-v2 tuning): 0.443859649122807\n"
     ]
    },
    {
     "name": "stderr",
     "output_type": "stream",
     "text": [
      "100%|█████████████████████████████████████████████████████████████████████▊| 5750/5769 [1:19:29<00:13,  1.44it/s]"
     ]
    },
    {
     "name": "stdout",
     "output_type": "stream",
     "text": [
      "Step 5750\n",
      "Accuracy without re-ranking                            : 0.790608695652174\n",
      "Accuracy with re-ranking(mmarco-mMiniLMv2-L12-H384-v1) : 0.8780869565217392\n",
      "Accuracy with re-ranking(klue-cross-encoder-v1)        : 0.8693913043478261\n",
      "Accuracy with re-ranking(ms-marco-MiniLM-L-12-v2)      : 0.48591304347826086\n",
      "Accuracy with re-ranking(ms-marco-MiniLM-L-12-v2 tuning): 0.44417391304347825\n"
     ]
    },
    {
     "name": "stderr",
     "output_type": "stream",
     "text": [
      "100%|██████████████████████████████████████████████████████████████████████| 5769/5769 [1:19:42<00:00,  1.21it/s]\n"
     ]
    }
   ],
   "source": [
    "i = 0\n",
    "print_every = 50\n",
    "predictions = []\n",
    "for question in tqdm(val_sample['question']):\n",
    "    retrieved_hash, reranked_hash_1, reranked_hash_2, reranked_hash_3, reranked_hash_4 = eval_ranking_4(question, cross_encoder_1, cross_encoder_2, cross_encoder_3, cross_encoder_4, top_k=3)\n",
    "    correct_hash = q_to_hash[question]\n",
    "    predictions.append((retrieved_hash == correct_hash, reranked_hash_1 == correct_hash, reranked_hash_2 == correct_hash, reranked_hash_3 == correct_hash, reranked_hash_4 == correct_hash))\n",
    "    i += 1\n",
    "    if i % print_every == 0:\n",
    "        print(f'Step {i}')\n",
    "        raw_accuracy = sum([p[0] for p in predictions])/len(predictions)\n",
    "        reranked_accuracy_1 = sum([p[1] for p in predictions])/len(predictions)\n",
    "        reranked_accuracy_2 = sum([p[2] for p in predictions])/len(predictions)\n",
    "        reranked_accuracy_3 = sum([p[3] for p in predictions])/len(predictions)\n",
    "        reranked_accuracy_4 = sum([p[4] for p in predictions])/len(predictions)\n",
    "\n",
    "        print(f'Accuracy without re-ranking                            : {raw_accuracy}')\n",
    "        print(f'Accuracy with re-ranking(mmarco-mMiniLMv2-L12-H384-v1) : {reranked_accuracy_1}')\n",
    "        print(f'Accuracy with re-ranking(klue-cross-encoder-v1)        : {reranked_accuracy_2}')\n",
    "        print(f'Accuracy with re-ranking(ms-marco-MiniLM-L-12-v2)      : {reranked_accuracy_3}')\n",
    "        print(f'Accuracy with re-ranking(ms-marco-MiniLM-L-12-v2 tuning): {reranked_accuracy_4}')\n"
   ]
  },
  {
   "cell_type": "code",
   "execution_count": 192,
   "id": "42468f26-0b19-41fd-a5e0-69eb947e40d5",
   "metadata": {},
   "outputs": [
    {
     "name": "stdout",
     "output_type": "stream",
     "text": [
      "text-embedding-3-small\n",
      "Accuracy without re-ranking                            : 0.7911249783324666\n",
      "Accuracy with re-ranking(mmarco-mMiniLMv2-L12-H384-v1) : 0.8784884728722482\n",
      "Accuracy with re-ranking(klue-cross-encoder-v1)        : 0.8698214595250476\n",
      "Accuracy with re-ranking(ms-marco-MiniLM-L-12-v2)      : 0.48569942797711907\n",
      "Accuracy with re-ranking(ms-marco-MiniLM-L-12-v2 tuning): 0.44427110417750043\n"
     ]
    }
   ],
   "source": [
    "raw_accuracy = sum([p[0] for p in predictions])/len(predictions)\n",
    "reranked_accuracy_1 = sum([p[1] for p in predictions])/len(predictions)\n",
    "reranked_accuracy_2 = sum([p[2] for p in predictions])/len(predictions)\n",
    "reranked_accuracy_3 = sum([p[3] for p in predictions])/len(predictions)\n",
    "reranked_accuracy_4 = sum([p[4] for p in predictions])/len(predictions)\n",
    "\n",
    "print('text-embedding-3-small')\n",
    "print(f'Accuracy without re-ranking                            : {raw_accuracy}')\n",
    "print(f'Accuracy with re-ranking(mmarco-mMiniLMv2-L12-H384-v1) : {reranked_accuracy_1}')\n",
    "print(f'Accuracy with re-ranking(klue-cross-encoder-v1)        : {reranked_accuracy_2}')\n",
    "print(f'Accuracy with re-ranking(ms-marco-MiniLM-L-12-v2)      : {reranked_accuracy_3}')\n",
    "print(f'Accuracy with re-ranking(ms-marco-MiniLM-L-12-v2 tuning): {reranked_accuracy_4}')"
   ]
  },
  {
   "cell_type": "markdown",
   "id": "9141e234-71c9-4d57-937e-8a8c3d43f90c",
   "metadata": {},
   "source": [
    "## 5.4 text-embedding-3-large 한국어 성능"
   ]
  },
  {
   "cell_type": "code",
   "execution_count": 193,
   "id": "55bb38b8-9631-4379-a4c2-368b969a82b1",
   "metadata": {},
   "outputs": [],
   "source": [
    "ENGINE = 'text-embedding-3-large'\n",
    "# ENGINE_2 = 'text-embedding-ada-002'\n",
    "# ENGINE_3_S = 'text-embedding-3-small'  # OpenAI의 3세대 embedding 모델 (소형)\n",
    "# ENGINE_3_L = 'text-embedding-3-large'  # OpenAI의 3세대 embedding 모델 (대형)"
   ]
  },
  {
   "cell_type": "code",
   "execution_count": 194,
   "id": "e395bac5-8980-4b37-8f6b-ab6346376346",
   "metadata": {},
   "outputs": [],
   "source": [
    "pinecone.delete_index(INDEX_NAME)  # delete the index\n",
    "\n",
    "pinecone.create_index(\n",
    "    INDEX_NAME, # 인덱스 이름\n",
    "    # dimension=1536, # 벡터의 치수, text-embedding-ada-002, text-embedding-3-small\n",
    "    dimension=3072, # 벡터의 치수, text-embedding-3-large\n",
    "    \n",
    "    metric='cosine', # 인덱스를 검색할 때 사용할 유사성 메트릭\n",
    "    spec=PodSpec(\n",
    "      environment=\"gcp-starter\"\n",
    "    )\n",
    "    # pod_type=\"p1\" # 파인콘 파드의 유형\n",
    ")\n",
    "\n",
    "# 인덱스를 변수로 저장\n",
    "index = pinecone.Index(INDEX_NAME)"
   ]
  },
  {
   "cell_type": "code",
   "execution_count": 195,
   "id": "ebbdeec3-01d5-4f59-8230-3f507112e2cf",
   "metadata": {},
   "outputs": [
    {
     "name": "stderr",
     "output_type": "stream",
     "text": [
      "100%|██████████████████████████████████████████████████████████████████████████████| 6/6 [00:36<00:00,  6.16s/it]\n",
      "100%|████████████████████████████████████████████████████████████████████████████| 29/29 [02:17<00:00,  4.75s/it]\n",
      "100%|████████████████████████████████████████████████████████████████████████████| 11/11 [00:49<00:00,  4.51s/it]\n"
     ]
    }
   ],
   "source": [
    "for idx in tqdm(range(0, len(dataset_ko['validation']), 128)):\n",
    "    data_sample = dataset_ko['validation'][idx:idx + 128]\n",
    "\n",
    "    passages = data_sample['paragraph']\n",
    "    upload_texts_to_pinecone(passages, engine=ENGINE)\n",
    "\n",
    "for idx in tqdm(range(0, len(dataset_ko['train']), 128)):\n",
    "    data_sample = dataset_ko['train'][idx:idx + 128]\n",
    "\n",
    "    passages = data_sample['paragraph']\n",
    "    upload_texts_to_pinecone(passages, engine=ENGINE)\n",
    "\n",
    "for idx in tqdm(range(0, len(dataset_ko['test']), 128)):\n",
    "    data_sample = dataset_ko['test'][idx:idx + 128]\n",
    "\n",
    "    passages = data_sample['paragraph']\n",
    "    upload_texts_to_pinecone(passages, engine=ENGINE)"
   ]
  },
  {
   "cell_type": "code",
   "execution_count": 196,
   "id": "ee4c8fd8-e687-4591-987d-33a603f4d2ee",
   "metadata": {
    "scrolled": true
   },
   "outputs": [
    {
     "name": "stderr",
     "output_type": "stream",
     "text": [
      "  1%|▌                                                                       | 50/5769 [01:14<2:13:36,  1.40s/it]"
     ]
    },
    {
     "name": "stdout",
     "output_type": "stream",
     "text": [
      "Step 50\n",
      "Accuracy without re-ranking                            : 0.92\n",
      "Accuracy with re-ranking(mmarco-mMiniLMv2-L12-H384-v1) : 0.96\n",
      "Accuracy with re-ranking(klue-cross-encoder-v1)        : 0.96\n",
      "Accuracy with re-ranking(ms-marco-MiniLM-L-12-v2)      : 0.56\n",
      "Accuracy with re-ranking(ms-marco-MiniLM-L-12-v2 tuning): 0.5\n"
     ]
    },
    {
     "name": "stderr",
     "output_type": "stream",
     "text": [
      "  2%|█▏                                                                     | 100/5769 [02:04<1:31:25,  1.03it/s]"
     ]
    },
    {
     "name": "stdout",
     "output_type": "stream",
     "text": [
      "Step 100\n",
      "Accuracy without re-ranking                            : 0.9\n",
      "Accuracy with re-ranking(mmarco-mMiniLMv2-L12-H384-v1) : 0.92\n",
      "Accuracy with re-ranking(klue-cross-encoder-v1)        : 0.95\n",
      "Accuracy with re-ranking(ms-marco-MiniLM-L-12-v2)      : 0.6\n",
      "Accuracy with re-ranking(ms-marco-MiniLM-L-12-v2 tuning): 0.51\n"
     ]
    },
    {
     "name": "stderr",
     "output_type": "stream",
     "text": [
      "  3%|█▊                                                                     | 150/5769 [02:50<1:20:12,  1.17it/s]"
     ]
    },
    {
     "name": "stdout",
     "output_type": "stream",
     "text": [
      "Step 150\n",
      "Accuracy without re-ranking                            : 0.8866666666666667\n",
      "Accuracy with re-ranking(mmarco-mMiniLMv2-L12-H384-v1) : 0.9266666666666666\n",
      "Accuracy with re-ranking(klue-cross-encoder-v1)        : 0.96\n",
      "Accuracy with re-ranking(ms-marco-MiniLM-L-12-v2)      : 0.6\n",
      "Accuracy with re-ranking(ms-marco-MiniLM-L-12-v2 tuning): 0.5266666666666666\n"
     ]
    },
    {
     "name": "stderr",
     "output_type": "stream",
     "text": [
      "  3%|██▍                                                                    | 200/5769 [03:37<1:18:54,  1.18it/s]"
     ]
    },
    {
     "name": "stdout",
     "output_type": "stream",
     "text": [
      "Step 200\n",
      "Accuracy without re-ranking                            : 0.885\n",
      "Accuracy with re-ranking(mmarco-mMiniLMv2-L12-H384-v1) : 0.93\n",
      "Accuracy with re-ranking(klue-cross-encoder-v1)        : 0.96\n",
      "Accuracy with re-ranking(ms-marco-MiniLM-L-12-v2)      : 0.585\n",
      "Accuracy with re-ranking(ms-marco-MiniLM-L-12-v2 tuning): 0.54\n"
     ]
    },
    {
     "name": "stderr",
     "output_type": "stream",
     "text": [
      "  4%|███                                                                    | 250/5769 [04:23<1:27:36,  1.05it/s]"
     ]
    },
    {
     "name": "stdout",
     "output_type": "stream",
     "text": [
      "Step 250\n",
      "Accuracy without re-ranking                            : 0.892\n",
      "Accuracy with re-ranking(mmarco-mMiniLMv2-L12-H384-v1) : 0.932\n",
      "Accuracy with re-ranking(klue-cross-encoder-v1)        : 0.948\n",
      "Accuracy with re-ranking(ms-marco-MiniLM-L-12-v2)      : 0.58\n",
      "Accuracy with re-ranking(ms-marco-MiniLM-L-12-v2 tuning): 0.54\n"
     ]
    },
    {
     "name": "stderr",
     "output_type": "stream",
     "text": [
      "  5%|███▋                                                                   | 300/5769 [05:08<1:46:23,  1.17s/it]"
     ]
    },
    {
     "name": "stdout",
     "output_type": "stream",
     "text": [
      "Step 300\n",
      "Accuracy without re-ranking                            : 0.8933333333333333\n",
      "Accuracy with re-ranking(mmarco-mMiniLMv2-L12-H384-v1) : 0.9333333333333333\n",
      "Accuracy with re-ranking(klue-cross-encoder-v1)        : 0.9466666666666667\n",
      "Accuracy with re-ranking(ms-marco-MiniLM-L-12-v2)      : 0.57\n",
      "Accuracy with re-ranking(ms-marco-MiniLM-L-12-v2 tuning): 0.55\n"
     ]
    },
    {
     "name": "stderr",
     "output_type": "stream",
     "text": [
      "  6%|████▎                                                                  | 350/5769 [05:51<1:12:41,  1.24it/s]"
     ]
    },
    {
     "name": "stdout",
     "output_type": "stream",
     "text": [
      "Step 350\n",
      "Accuracy without re-ranking                            : 0.8885714285714286\n",
      "Accuracy with re-ranking(mmarco-mMiniLMv2-L12-H384-v1) : 0.9285714285714286\n",
      "Accuracy with re-ranking(klue-cross-encoder-v1)        : 0.9371428571428572\n",
      "Accuracy with re-ranking(ms-marco-MiniLM-L-12-v2)      : 0.56\n",
      "Accuracy with re-ranking(ms-marco-MiniLM-L-12-v2 tuning): 0.5285714285714286\n"
     ]
    },
    {
     "name": "stderr",
     "output_type": "stream",
     "text": [
      "  7%|████▉                                                                  | 400/5769 [06:33<1:14:19,  1.20it/s]"
     ]
    },
    {
     "name": "stdout",
     "output_type": "stream",
     "text": [
      "Step 400\n",
      "Accuracy without re-ranking                            : 0.8875\n",
      "Accuracy with re-ranking(mmarco-mMiniLMv2-L12-H384-v1) : 0.9375\n",
      "Accuracy with re-ranking(klue-cross-encoder-v1)        : 0.945\n",
      "Accuracy with re-ranking(ms-marco-MiniLM-L-12-v2)      : 0.55\n",
      "Accuracy with re-ranking(ms-marco-MiniLM-L-12-v2 tuning): 0.5225\n"
     ]
    },
    {
     "name": "stderr",
     "output_type": "stream",
     "text": [
      "  8%|█████▌                                                                 | 450/5769 [07:17<1:15:22,  1.18it/s]"
     ]
    },
    {
     "name": "stdout",
     "output_type": "stream",
     "text": [
      "Step 450\n",
      "Accuracy without re-ranking                            : 0.88\n",
      "Accuracy with re-ranking(mmarco-mMiniLMv2-L12-H384-v1) : 0.9333333333333333\n",
      "Accuracy with re-ranking(klue-cross-encoder-v1)        : 0.9422222222222222\n",
      "Accuracy with re-ranking(ms-marco-MiniLM-L-12-v2)      : 0.54\n",
      "Accuracy with re-ranking(ms-marco-MiniLM-L-12-v2 tuning): 0.5155555555555555\n"
     ]
    },
    {
     "name": "stderr",
     "output_type": "stream",
     "text": [
      "  9%|██████▏                                                                | 500/5769 [07:58<1:18:54,  1.11it/s]"
     ]
    },
    {
     "name": "stdout",
     "output_type": "stream",
     "text": [
      "Step 500\n",
      "Accuracy without re-ranking                            : 0.884\n",
      "Accuracy with re-ranking(mmarco-mMiniLMv2-L12-H384-v1) : 0.936\n",
      "Accuracy with re-ranking(klue-cross-encoder-v1)        : 0.944\n",
      "Accuracy with re-ranking(ms-marco-MiniLM-L-12-v2)      : 0.552\n",
      "Accuracy with re-ranking(ms-marco-MiniLM-L-12-v2 tuning): 0.524\n"
     ]
    },
    {
     "name": "stderr",
     "output_type": "stream",
     "text": [
      " 10%|██████▊                                                                | 550/5769 [08:44<1:22:20,  1.06it/s]"
     ]
    },
    {
     "name": "stdout",
     "output_type": "stream",
     "text": [
      "Step 550\n",
      "Accuracy without re-ranking                            : 0.88\n",
      "Accuracy with re-ranking(mmarco-mMiniLMv2-L12-H384-v1) : 0.9345454545454546\n",
      "Accuracy with re-ranking(klue-cross-encoder-v1)        : 0.9381818181818182\n",
      "Accuracy with re-ranking(ms-marco-MiniLM-L-12-v2)      : 0.5454545454545454\n",
      "Accuracy with re-ranking(ms-marco-MiniLM-L-12-v2 tuning): 0.5127272727272727\n"
     ]
    },
    {
     "name": "stderr",
     "output_type": "stream",
     "text": [
      " 10%|███████▍                                                               | 600/5769 [09:27<1:14:07,  1.16it/s]"
     ]
    },
    {
     "name": "stdout",
     "output_type": "stream",
     "text": [
      "Step 600\n",
      "Accuracy without re-ranking                            : 0.8733333333333333\n",
      "Accuracy with re-ranking(mmarco-mMiniLMv2-L12-H384-v1) : 0.9333333333333333\n",
      "Accuracy with re-ranking(klue-cross-encoder-v1)        : 0.9366666666666666\n",
      "Accuracy with re-ranking(ms-marco-MiniLM-L-12-v2)      : 0.5466666666666666\n",
      "Accuracy with re-ranking(ms-marco-MiniLM-L-12-v2 tuning): 0.5083333333333333\n"
     ]
    },
    {
     "name": "stderr",
     "output_type": "stream",
     "text": [
      " 11%|███████▉                                                               | 650/5769 [10:10<1:12:47,  1.17it/s]"
     ]
    },
    {
     "name": "stdout",
     "output_type": "stream",
     "text": [
      "Step 650\n",
      "Accuracy without re-ranking                            : 0.8753846153846154\n",
      "Accuracy with re-ranking(mmarco-mMiniLMv2-L12-H384-v1) : 0.9353846153846154\n",
      "Accuracy with re-ranking(klue-cross-encoder-v1)        : 0.9384615384615385\n",
      "Accuracy with re-ranking(ms-marco-MiniLM-L-12-v2)      : 0.5307692307692308\n",
      "Accuracy with re-ranking(ms-marco-MiniLM-L-12-v2 tuning): 0.4938461538461538\n"
     ]
    },
    {
     "name": "stderr",
     "output_type": "stream",
     "text": [
      " 12%|████████▌                                                              | 700/5769 [10:53<1:09:59,  1.21it/s]"
     ]
    },
    {
     "name": "stdout",
     "output_type": "stream",
     "text": [
      "Step 700\n",
      "Accuracy without re-ranking                            : 0.8728571428571429\n",
      "Accuracy with re-ranking(mmarco-mMiniLMv2-L12-H384-v1) : 0.9357142857142857\n",
      "Accuracy with re-ranking(klue-cross-encoder-v1)        : 0.9342857142857143\n",
      "Accuracy with re-ranking(ms-marco-MiniLM-L-12-v2)      : 0.5314285714285715\n",
      "Accuracy with re-ranking(ms-marco-MiniLM-L-12-v2 tuning): 0.5014285714285714\n"
     ]
    },
    {
     "name": "stderr",
     "output_type": "stream",
     "text": [
      " 13%|█████████▏                                                             | 750/5769 [11:36<1:07:31,  1.24it/s]"
     ]
    },
    {
     "name": "stdout",
     "output_type": "stream",
     "text": [
      "Step 750\n",
      "Accuracy without re-ranking                            : 0.8666666666666667\n",
      "Accuracy with re-ranking(mmarco-mMiniLMv2-L12-H384-v1) : 0.932\n",
      "Accuracy with re-ranking(klue-cross-encoder-v1)        : 0.932\n",
      "Accuracy with re-ranking(ms-marco-MiniLM-L-12-v2)      : 0.532\n",
      "Accuracy with re-ranking(ms-marco-MiniLM-L-12-v2 tuning): 0.49866666666666665\n"
     ]
    },
    {
     "name": "stderr",
     "output_type": "stream",
     "text": [
      " 14%|█████████▊                                                             | 800/5769 [12:24<1:16:10,  1.09it/s]"
     ]
    },
    {
     "name": "stdout",
     "output_type": "stream",
     "text": [
      "Step 800\n",
      "Accuracy without re-ranking                            : 0.87125\n",
      "Accuracy with re-ranking(mmarco-mMiniLMv2-L12-H384-v1) : 0.935\n",
      "Accuracy with re-ranking(klue-cross-encoder-v1)        : 0.93375\n",
      "Accuracy with re-ranking(ms-marco-MiniLM-L-12-v2)      : 0.52625\n",
      "Accuracy with re-ranking(ms-marco-MiniLM-L-12-v2 tuning): 0.49125\n"
     ]
    },
    {
     "name": "stderr",
     "output_type": "stream",
     "text": [
      " 15%|██████████▍                                                            | 850/5769 [13:05<1:07:01,  1.22it/s]"
     ]
    },
    {
     "name": "stdout",
     "output_type": "stream",
     "text": [
      "Step 850\n",
      "Accuracy without re-ranking                            : 0.8717647058823529\n",
      "Accuracy with re-ranking(mmarco-mMiniLMv2-L12-H384-v1) : 0.9341176470588235\n",
      "Accuracy with re-ranking(klue-cross-encoder-v1)        : 0.9329411764705883\n",
      "Accuracy with re-ranking(ms-marco-MiniLM-L-12-v2)      : 0.5270588235294118\n",
      "Accuracy with re-ranking(ms-marco-MiniLM-L-12-v2 tuning): 0.49176470588235294\n"
     ]
    },
    {
     "name": "stderr",
     "output_type": "stream",
     "text": [
      " 16%|███████████                                                            | 900/5769 [13:47<1:04:11,  1.26it/s]"
     ]
    },
    {
     "name": "stdout",
     "output_type": "stream",
     "text": [
      "Step 900\n",
      "Accuracy without re-ranking                            : 0.8766666666666667\n",
      "Accuracy with re-ranking(mmarco-mMiniLMv2-L12-H384-v1) : 0.9377777777777778\n",
      "Accuracy with re-ranking(klue-cross-encoder-v1)        : 0.9355555555555556\n",
      "Accuracy with re-ranking(ms-marco-MiniLM-L-12-v2)      : 0.5333333333333333\n",
      "Accuracy with re-ranking(ms-marco-MiniLM-L-12-v2 tuning): 0.4955555555555556\n"
     ]
    },
    {
     "name": "stderr",
     "output_type": "stream",
     "text": [
      " 16%|███████████▋                                                           | 950/5769 [14:28<1:05:27,  1.23it/s]"
     ]
    },
    {
     "name": "stdout",
     "output_type": "stream",
     "text": [
      "Step 950\n",
      "Accuracy without re-ranking                            : 0.8768421052631579\n",
      "Accuracy with re-ranking(mmarco-mMiniLMv2-L12-H384-v1) : 0.9368421052631579\n",
      "Accuracy with re-ranking(klue-cross-encoder-v1)        : 0.9336842105263158\n",
      "Accuracy with re-ranking(ms-marco-MiniLM-L-12-v2)      : 0.5305263157894737\n",
      "Accuracy with re-ranking(ms-marco-MiniLM-L-12-v2 tuning): 0.4936842105263158\n"
     ]
    },
    {
     "name": "stderr",
     "output_type": "stream",
     "text": [
      " 17%|████████████▏                                                         | 1000/5769 [15:18<2:12:17,  1.66s/it]"
     ]
    },
    {
     "name": "stdout",
     "output_type": "stream",
     "text": [
      "Step 1000\n",
      "Accuracy without re-ranking                            : 0.877\n",
      "Accuracy with re-ranking(mmarco-mMiniLMv2-L12-H384-v1) : 0.937\n",
      "Accuracy with re-ranking(klue-cross-encoder-v1)        : 0.933\n",
      "Accuracy with re-ranking(ms-marco-MiniLM-L-12-v2)      : 0.535\n",
      "Accuracy with re-ranking(ms-marco-MiniLM-L-12-v2 tuning): 0.492\n"
     ]
    },
    {
     "name": "stderr",
     "output_type": "stream",
     "text": [
      " 18%|████████████▋                                                         | 1050/5769 [15:59<1:14:42,  1.05it/s]"
     ]
    },
    {
     "name": "stdout",
     "output_type": "stream",
     "text": [
      "Step 1050\n",
      "Accuracy without re-ranking                            : 0.8761904761904762\n",
      "Accuracy with re-ranking(mmarco-mMiniLMv2-L12-H384-v1) : 0.9380952380952381\n",
      "Accuracy with re-ranking(klue-cross-encoder-v1)        : 0.9333333333333333\n",
      "Accuracy with re-ranking(ms-marco-MiniLM-L-12-v2)      : 0.5352380952380953\n",
      "Accuracy with re-ranking(ms-marco-MiniLM-L-12-v2 tuning): 0.4895238095238095\n"
     ]
    },
    {
     "name": "stderr",
     "output_type": "stream",
     "text": [
      " 19%|█████████████▎                                                        | 1100/5769 [16:46<1:03:28,  1.23it/s]"
     ]
    },
    {
     "name": "stdout",
     "output_type": "stream",
     "text": [
      "Step 1100\n",
      "Accuracy without re-ranking                            : 0.8763636363636363\n",
      "Accuracy with re-ranking(mmarco-mMiniLMv2-L12-H384-v1) : 0.9381818181818182\n",
      "Accuracy with re-ranking(klue-cross-encoder-v1)        : 0.9327272727272727\n",
      "Accuracy with re-ranking(ms-marco-MiniLM-L-12-v2)      : 0.5363636363636364\n",
      "Accuracy with re-ranking(ms-marco-MiniLM-L-12-v2 tuning): 0.48363636363636364\n"
     ]
    },
    {
     "name": "stderr",
     "output_type": "stream",
     "text": [
      " 20%|█████████████▉                                                        | 1150/5769 [17:28<1:01:33,  1.25it/s]"
     ]
    },
    {
     "name": "stdout",
     "output_type": "stream",
     "text": [
      "Step 1150\n",
      "Accuracy without re-ranking                            : 0.8756521739130435\n",
      "Accuracy with re-ranking(mmarco-mMiniLMv2-L12-H384-v1) : 0.9382608695652174\n",
      "Accuracy with re-ranking(klue-cross-encoder-v1)        : 0.9339130434782609\n",
      "Accuracy with re-ranking(ms-marco-MiniLM-L-12-v2)      : 0.5373913043478261\n",
      "Accuracy with re-ranking(ms-marco-MiniLM-L-12-v2 tuning): 0.48434782608695653\n"
     ]
    },
    {
     "name": "stderr",
     "output_type": "stream",
     "text": [
      " 21%|██████████████▌                                                       | 1200/5769 [18:15<1:09:29,  1.10it/s]"
     ]
    },
    {
     "name": "stdout",
     "output_type": "stream",
     "text": [
      "Step 1200\n",
      "Accuracy without re-ranking                            : 0.8725\n",
      "Accuracy with re-ranking(mmarco-mMiniLMv2-L12-H384-v1) : 0.9366666666666666\n",
      "Accuracy with re-ranking(klue-cross-encoder-v1)        : 0.9333333333333333\n",
      "Accuracy with re-ranking(ms-marco-MiniLM-L-12-v2)      : 0.5366666666666666\n",
      "Accuracy with re-ranking(ms-marco-MiniLM-L-12-v2 tuning): 0.4875\n"
     ]
    },
    {
     "name": "stderr",
     "output_type": "stream",
     "text": [
      " 22%|███████████████▌                                                        | 1250/5769 [18:56<57:41,  1.31it/s]"
     ]
    },
    {
     "name": "stdout",
     "output_type": "stream",
     "text": [
      "Step 1250\n",
      "Accuracy without re-ranking                            : 0.872\n",
      "Accuracy with re-ranking(mmarco-mMiniLMv2-L12-H384-v1) : 0.9344\n",
      "Accuracy with re-ranking(klue-cross-encoder-v1)        : 0.9304\n",
      "Accuracy with re-ranking(ms-marco-MiniLM-L-12-v2)      : 0.5336\n",
      "Accuracy with re-ranking(ms-marco-MiniLM-L-12-v2 tuning): 0.4832\n"
     ]
    },
    {
     "name": "stderr",
     "output_type": "stream",
     "text": [
      " 23%|███████████████▊                                                      | 1300/5769 [19:39<1:01:19,  1.21it/s]"
     ]
    },
    {
     "name": "stdout",
     "output_type": "stream",
     "text": [
      "Step 1300\n",
      "Accuracy without re-ranking                            : 0.87\n",
      "Accuracy with re-ranking(mmarco-mMiniLMv2-L12-H384-v1) : 0.933076923076923\n",
      "Accuracy with re-ranking(klue-cross-encoder-v1)        : 0.926923076923077\n",
      "Accuracy with re-ranking(ms-marco-MiniLM-L-12-v2)      : 0.5269230769230769\n",
      "Accuracy with re-ranking(ms-marco-MiniLM-L-12-v2 tuning): 0.4776923076923077\n"
     ]
    },
    {
     "name": "stderr",
     "output_type": "stream",
     "text": [
      " 23%|████████████████▍                                                     | 1350/5769 [20:26<1:00:00,  1.23it/s]"
     ]
    },
    {
     "name": "stdout",
     "output_type": "stream",
     "text": [
      "Step 1350\n",
      "Accuracy without re-ranking                            : 0.8696296296296296\n",
      "Accuracy with re-ranking(mmarco-mMiniLMv2-L12-H384-v1) : 0.9340740740740741\n",
      "Accuracy with re-ranking(klue-cross-encoder-v1)        : 0.9274074074074075\n",
      "Accuracy with re-ranking(ms-marco-MiniLM-L-12-v2)      : 0.5288888888888889\n",
      "Accuracy with re-ranking(ms-marco-MiniLM-L-12-v2 tuning): 0.48\n"
     ]
    },
    {
     "name": "stderr",
     "output_type": "stream",
     "text": [
      " 24%|████████████████▉                                                     | 1400/5769 [21:10<1:03:04,  1.15it/s]"
     ]
    },
    {
     "name": "stdout",
     "output_type": "stream",
     "text": [
      "Step 1400\n",
      "Accuracy without re-ranking                            : 0.8721428571428571\n",
      "Accuracy with re-ranking(mmarco-mMiniLMv2-L12-H384-v1) : 0.935\n",
      "Accuracy with re-ranking(klue-cross-encoder-v1)        : 0.9278571428571428\n",
      "Accuracy with re-ranking(ms-marco-MiniLM-L-12-v2)      : 0.53\n",
      "Accuracy with re-ranking(ms-marco-MiniLM-L-12-v2 tuning): 0.4835714285714286\n"
     ]
    },
    {
     "name": "stderr",
     "output_type": "stream",
     "text": [
      " 25%|█████████████████▌                                                    | 1450/5769 [21:52<1:01:47,  1.16it/s]"
     ]
    },
    {
     "name": "stdout",
     "output_type": "stream",
     "text": [
      "Step 1450\n",
      "Accuracy without re-ranking                            : 0.8737931034482759\n",
      "Accuracy with re-ranking(mmarco-mMiniLMv2-L12-H384-v1) : 0.9351724137931035\n",
      "Accuracy with re-ranking(klue-cross-encoder-v1)        : 0.9282758620689655\n",
      "Accuracy with re-ranking(ms-marco-MiniLM-L-12-v2)      : 0.5303448275862069\n",
      "Accuracy with re-ranking(ms-marco-MiniLM-L-12-v2 tuning): 0.48344827586206895\n"
     ]
    },
    {
     "name": "stderr",
     "output_type": "stream",
     "text": [
      " 26%|██████████████████▋                                                     | 1500/5769 [22:33<57:45,  1.23it/s]"
     ]
    },
    {
     "name": "stdout",
     "output_type": "stream",
     "text": [
      "Step 1500\n",
      "Accuracy without re-ranking                            : 0.8746666666666667\n",
      "Accuracy with re-ranking(mmarco-mMiniLMv2-L12-H384-v1) : 0.934\n",
      "Accuracy with re-ranking(klue-cross-encoder-v1)        : 0.9266666666666666\n",
      "Accuracy with re-ranking(ms-marco-MiniLM-L-12-v2)      : 0.5286666666666666\n",
      "Accuracy with re-ranking(ms-marco-MiniLM-L-12-v2 tuning): 0.4786666666666667\n"
     ]
    },
    {
     "name": "stderr",
     "output_type": "stream",
     "text": [
      " 27%|██████████████████▊                                                   | 1550/5769 [23:17<1:02:30,  1.12it/s]"
     ]
    },
    {
     "name": "stdout",
     "output_type": "stream",
     "text": [
      "Step 1550\n",
      "Accuracy without re-ranking                            : 0.8729032258064516\n",
      "Accuracy with re-ranking(mmarco-mMiniLMv2-L12-H384-v1) : 0.9329032258064516\n",
      "Accuracy with re-ranking(klue-cross-encoder-v1)        : 0.9251612903225807\n",
      "Accuracy with re-ranking(ms-marco-MiniLM-L-12-v2)      : 0.5277419354838709\n",
      "Accuracy with re-ranking(ms-marco-MiniLM-L-12-v2 tuning): 0.47870967741935483\n"
     ]
    },
    {
     "name": "stderr",
     "output_type": "stream",
     "text": [
      " 28%|███████████████████▍                                                  | 1600/5769 [24:04<1:23:15,  1.20s/it]"
     ]
    },
    {
     "name": "stdout",
     "output_type": "stream",
     "text": [
      "Step 1600\n",
      "Accuracy without re-ranking                            : 0.875\n",
      "Accuracy with re-ranking(mmarco-mMiniLMv2-L12-H384-v1) : 0.93375\n",
      "Accuracy with re-ranking(klue-cross-encoder-v1)        : 0.92625\n",
      "Accuracy with re-ranking(ms-marco-MiniLM-L-12-v2)      : 0.52625\n",
      "Accuracy with re-ranking(ms-marco-MiniLM-L-12-v2 tuning): 0.47625\n"
     ]
    },
    {
     "name": "stderr",
     "output_type": "stream",
     "text": [
      " 29%|████████████████████▌                                                   | 1650/5769 [24:49<59:52,  1.15it/s]"
     ]
    },
    {
     "name": "stdout",
     "output_type": "stream",
     "text": [
      "Step 1650\n",
      "Accuracy without re-ranking                            : 0.8739393939393939\n",
      "Accuracy with re-ranking(mmarco-mMiniLMv2-L12-H384-v1) : 0.9327272727272727\n",
      "Accuracy with re-ranking(klue-cross-encoder-v1)        : 0.9242424242424242\n",
      "Accuracy with re-ranking(ms-marco-MiniLM-L-12-v2)      : 0.5284848484848484\n",
      "Accuracy with re-ranking(ms-marco-MiniLM-L-12-v2 tuning): 0.4775757575757576\n"
     ]
    },
    {
     "name": "stderr",
     "output_type": "stream",
     "text": [
      " 29%|█████████████████████▏                                                  | 1700/5769 [25:31<56:59,  1.19it/s]"
     ]
    },
    {
     "name": "stdout",
     "output_type": "stream",
     "text": [
      "Step 1700\n",
      "Accuracy without re-ranking                            : 0.8741176470588236\n",
      "Accuracy with re-ranking(mmarco-mMiniLMv2-L12-H384-v1) : 0.9329411764705883\n",
      "Accuracy with re-ranking(klue-cross-encoder-v1)        : 0.9247058823529412\n",
      "Accuracy with re-ranking(ms-marco-MiniLM-L-12-v2)      : 0.5294117647058824\n",
      "Accuracy with re-ranking(ms-marco-MiniLM-L-12-v2 tuning): 0.4788235294117647\n"
     ]
    },
    {
     "name": "stderr",
     "output_type": "stream",
     "text": [
      " 30%|█████████████████████▏                                                | 1750/5769 [26:15<1:04:33,  1.04it/s]"
     ]
    },
    {
     "name": "stdout",
     "output_type": "stream",
     "text": [
      "Step 1750\n",
      "Accuracy without re-ranking                            : 0.8731428571428571\n",
      "Accuracy with re-ranking(mmarco-mMiniLMv2-L12-H384-v1) : 0.9331428571428572\n",
      "Accuracy with re-ranking(klue-cross-encoder-v1)        : 0.9234285714285714\n",
      "Accuracy with re-ranking(ms-marco-MiniLM-L-12-v2)      : 0.5291428571428571\n",
      "Accuracy with re-ranking(ms-marco-MiniLM-L-12-v2 tuning): 0.47714285714285715\n"
     ]
    },
    {
     "name": "stderr",
     "output_type": "stream",
     "text": [
      " 31%|██████████████████████▍                                                 | 1800/5769 [27:00<55:24,  1.19it/s]"
     ]
    },
    {
     "name": "stdout",
     "output_type": "stream",
     "text": [
      "Step 1800\n",
      "Accuracy without re-ranking                            : 0.8722222222222222\n",
      "Accuracy with re-ranking(mmarco-mMiniLMv2-L12-H384-v1) : 0.9316666666666666\n",
      "Accuracy with re-ranking(klue-cross-encoder-v1)        : 0.9222222222222223\n",
      "Accuracy with re-ranking(ms-marco-MiniLM-L-12-v2)      : 0.525\n",
      "Accuracy with re-ranking(ms-marco-MiniLM-L-12-v2 tuning): 0.475\n"
     ]
    },
    {
     "name": "stderr",
     "output_type": "stream",
     "text": [
      " 32%|██████████████████████▍                                               | 1850/5769 [27:45<1:01:48,  1.06it/s]"
     ]
    },
    {
     "name": "stdout",
     "output_type": "stream",
     "text": [
      "Step 1850\n",
      "Accuracy without re-ranking                            : 0.8724324324324324\n",
      "Accuracy with re-ranking(mmarco-mMiniLMv2-L12-H384-v1) : 0.9302702702702703\n",
      "Accuracy with re-ranking(klue-cross-encoder-v1)        : 0.9210810810810811\n",
      "Accuracy with re-ranking(ms-marco-MiniLM-L-12-v2)      : 0.5286486486486487\n",
      "Accuracy with re-ranking(ms-marco-MiniLM-L-12-v2 tuning): 0.4751351351351351\n"
     ]
    },
    {
     "name": "stderr",
     "output_type": "stream",
     "text": [
      " 33%|███████████████████████▋                                                | 1900/5769 [28:29<54:50,  1.18it/s]"
     ]
    },
    {
     "name": "stdout",
     "output_type": "stream",
     "text": [
      "Step 1900\n",
      "Accuracy without re-ranking                            : 0.8710526315789474\n",
      "Accuracy with re-ranking(mmarco-mMiniLMv2-L12-H384-v1) : 0.9289473684210526\n",
      "Accuracy with re-ranking(klue-cross-encoder-v1)        : 0.92\n",
      "Accuracy with re-ranking(ms-marco-MiniLM-L-12-v2)      : 0.5268421052631579\n",
      "Accuracy with re-ranking(ms-marco-MiniLM-L-12-v2 tuning): 0.47421052631578947\n"
     ]
    },
    {
     "name": "stderr",
     "output_type": "stream",
     "text": [
      " 34%|███████████████████████▋                                              | 1950/5769 [29:15<1:03:51,  1.00s/it]"
     ]
    },
    {
     "name": "stdout",
     "output_type": "stream",
     "text": [
      "Step 1950\n",
      "Accuracy without re-ranking                            : 0.8717948717948718\n",
      "Accuracy with re-ranking(mmarco-mMiniLMv2-L12-H384-v1) : 0.9297435897435897\n",
      "Accuracy with re-ranking(klue-cross-encoder-v1)        : 0.9205128205128205\n",
      "Accuracy with re-ranking(ms-marco-MiniLM-L-12-v2)      : 0.5251282051282051\n",
      "Accuracy with re-ranking(ms-marco-MiniLM-L-12-v2 tuning): 0.4764102564102564\n"
     ]
    },
    {
     "name": "stderr",
     "output_type": "stream",
     "text": [
      " 35%|████████████████████████▉                                               | 2000/5769 [29:58<49:56,  1.26it/s]"
     ]
    },
    {
     "name": "stdout",
     "output_type": "stream",
     "text": [
      "Step 2000\n",
      "Accuracy without re-ranking                            : 0.87\n",
      "Accuracy with re-ranking(mmarco-mMiniLMv2-L12-H384-v1) : 0.9295\n",
      "Accuracy with re-ranking(klue-cross-encoder-v1)        : 0.9195\n",
      "Accuracy with re-ranking(ms-marco-MiniLM-L-12-v2)      : 0.524\n",
      "Accuracy with re-ranking(ms-marco-MiniLM-L-12-v2 tuning): 0.475\n"
     ]
    },
    {
     "name": "stderr",
     "output_type": "stream",
     "text": [
      " 36%|█████████████████████████▌                                              | 2050/5769 [30:40<52:13,  1.19it/s]"
     ]
    },
    {
     "name": "stdout",
     "output_type": "stream",
     "text": [
      "Step 2050\n",
      "Accuracy without re-ranking                            : 0.8702439024390244\n",
      "Accuracy with re-ranking(mmarco-mMiniLMv2-L12-H384-v1) : 0.9292682926829269\n",
      "Accuracy with re-ranking(klue-cross-encoder-v1)        : 0.9185365853658537\n",
      "Accuracy with re-ranking(ms-marco-MiniLM-L-12-v2)      : 0.5219512195121951\n",
      "Accuracy with re-ranking(ms-marco-MiniLM-L-12-v2 tuning): 0.4717073170731707\n"
     ]
    },
    {
     "name": "stderr",
     "output_type": "stream",
     "text": [
      " 36%|██████████████████████████▏                                             | 2100/5769 [31:26<48:55,  1.25it/s]"
     ]
    },
    {
     "name": "stdout",
     "output_type": "stream",
     "text": [
      "Step 2100\n",
      "Accuracy without re-ranking                            : 0.8690476190476191\n",
      "Accuracy with re-ranking(mmarco-mMiniLMv2-L12-H384-v1) : 0.9280952380952381\n",
      "Accuracy with re-ranking(klue-cross-encoder-v1)        : 0.9185714285714286\n",
      "Accuracy with re-ranking(ms-marco-MiniLM-L-12-v2)      : 0.5214285714285715\n",
      "Accuracy with re-ranking(ms-marco-MiniLM-L-12-v2 tuning): 0.47333333333333333\n"
     ]
    },
    {
     "name": "stderr",
     "output_type": "stream",
     "text": [
      " 37%|██████████████████████████▊                                             | 2150/5769 [32:09<48:56,  1.23it/s]"
     ]
    },
    {
     "name": "stdout",
     "output_type": "stream",
     "text": [
      "Step 2150\n",
      "Accuracy without re-ranking                            : 0.867906976744186\n",
      "Accuracy with re-ranking(mmarco-mMiniLMv2-L12-H384-v1) : 0.9288372093023256\n",
      "Accuracy with re-ranking(klue-cross-encoder-v1)        : 0.9181395348837209\n",
      "Accuracy with re-ranking(ms-marco-MiniLM-L-12-v2)      : 0.52\n",
      "Accuracy with re-ranking(ms-marco-MiniLM-L-12-v2 tuning): 0.47162790697674417\n"
     ]
    },
    {
     "name": "stderr",
     "output_type": "stream",
     "text": [
      " 38%|███████████████████████████▍                                            | 2200/5769 [32:52<48:12,  1.23it/s]"
     ]
    },
    {
     "name": "stdout",
     "output_type": "stream",
     "text": [
      "Step 2200\n",
      "Accuracy without re-ranking                            : 0.8677272727272727\n",
      "Accuracy with re-ranking(mmarco-mMiniLMv2-L12-H384-v1) : 0.9277272727272727\n",
      "Accuracy with re-ranking(klue-cross-encoder-v1)        : 0.9177272727272727\n",
      "Accuracy with re-ranking(ms-marco-MiniLM-L-12-v2)      : 0.519090909090909\n",
      "Accuracy with re-ranking(ms-marco-MiniLM-L-12-v2 tuning): 0.47\n"
     ]
    },
    {
     "name": "stderr",
     "output_type": "stream",
     "text": [
      " 39%|████████████████████████████                                            | 2250/5769 [33:34<46:03,  1.27it/s]"
     ]
    },
    {
     "name": "stdout",
     "output_type": "stream",
     "text": [
      "Step 2250\n",
      "Accuracy without re-ranking                            : 0.868\n",
      "Accuracy with re-ranking(mmarco-mMiniLMv2-L12-H384-v1) : 0.9275555555555556\n",
      "Accuracy with re-ranking(klue-cross-encoder-v1)        : 0.9164444444444444\n",
      "Accuracy with re-ranking(ms-marco-MiniLM-L-12-v2)      : 0.5173333333333333\n",
      "Accuracy with re-ranking(ms-marco-MiniLM-L-12-v2 tuning): 0.4688888888888889\n"
     ]
    },
    {
     "name": "stderr",
     "output_type": "stream",
     "text": [
      " 40%|████████████████████████████▋                                           | 2300/5769 [34:15<47:45,  1.21it/s]"
     ]
    },
    {
     "name": "stdout",
     "output_type": "stream",
     "text": [
      "Step 2300\n",
      "Accuracy without re-ranking                            : 0.8678260869565217\n",
      "Accuracy with re-ranking(mmarco-mMiniLMv2-L12-H384-v1) : 0.928695652173913\n",
      "Accuracy with re-ranking(klue-cross-encoder-v1)        : 0.9165217391304348\n",
      "Accuracy with re-ranking(ms-marco-MiniLM-L-12-v2)      : 0.5182608695652174\n",
      "Accuracy with re-ranking(ms-marco-MiniLM-L-12-v2 tuning): 0.4682608695652174\n"
     ]
    },
    {
     "name": "stderr",
     "output_type": "stream",
     "text": [
      " 41%|█████████████████████████████▎                                          | 2350/5769 [34:59<48:30,  1.17it/s]"
     ]
    },
    {
     "name": "stdout",
     "output_type": "stream",
     "text": [
      "Step 2350\n",
      "Accuracy without re-ranking                            : 0.8685106382978723\n",
      "Accuracy with re-ranking(mmarco-mMiniLMv2-L12-H384-v1) : 0.9280851063829787\n",
      "Accuracy with re-ranking(klue-cross-encoder-v1)        : 0.916595744680851\n",
      "Accuracy with re-ranking(ms-marco-MiniLM-L-12-v2)      : 0.5161702127659574\n",
      "Accuracy with re-ranking(ms-marco-MiniLM-L-12-v2 tuning): 0.46638297872340423\n"
     ]
    },
    {
     "name": "stderr",
     "output_type": "stream",
     "text": [
      " 42%|█████████████████████████████▉                                          | 2400/5769 [35:41<46:42,  1.20it/s]"
     ]
    },
    {
     "name": "stdout",
     "output_type": "stream",
     "text": [
      "Step 2400\n",
      "Accuracy without re-ranking                            : 0.8675\n",
      "Accuracy with re-ranking(mmarco-mMiniLMv2-L12-H384-v1) : 0.9279166666666666\n",
      "Accuracy with re-ranking(klue-cross-encoder-v1)        : 0.9158333333333334\n",
      "Accuracy with re-ranking(ms-marco-MiniLM-L-12-v2)      : 0.5183333333333333\n",
      "Accuracy with re-ranking(ms-marco-MiniLM-L-12-v2 tuning): 0.4683333333333333\n"
     ]
    },
    {
     "name": "stderr",
     "output_type": "stream",
     "text": [
      " 42%|██████████████████████████████▌                                         | 2450/5769 [36:22<45:24,  1.22it/s]"
     ]
    },
    {
     "name": "stdout",
     "output_type": "stream",
     "text": [
      "Step 2450\n",
      "Accuracy without re-ranking                            : 0.8665306122448979\n",
      "Accuracy with re-ranking(mmarco-mMiniLMv2-L12-H384-v1) : 0.9277551020408163\n",
      "Accuracy with re-ranking(klue-cross-encoder-v1)        : 0.9146938775510204\n",
      "Accuracy with re-ranking(ms-marco-MiniLM-L-12-v2)      : 0.5155102040816326\n",
      "Accuracy with re-ranking(ms-marco-MiniLM-L-12-v2 tuning): 0.46775510204081633\n"
     ]
    },
    {
     "name": "stderr",
     "output_type": "stream",
     "text": [
      " 43%|███████████████████████████████▏                                        | 2500/5769 [37:03<44:55,  1.21it/s]"
     ]
    },
    {
     "name": "stdout",
     "output_type": "stream",
     "text": [
      "Step 2500\n",
      "Accuracy without re-ranking                            : 0.8668\n",
      "Accuracy with re-ranking(mmarco-mMiniLMv2-L12-H384-v1) : 0.928\n",
      "Accuracy with re-ranking(klue-cross-encoder-v1)        : 0.9156\n",
      "Accuracy with re-ranking(ms-marco-MiniLM-L-12-v2)      : 0.5152\n",
      "Accuracy with re-ranking(ms-marco-MiniLM-L-12-v2 tuning): 0.4676\n"
     ]
    },
    {
     "name": "stderr",
     "output_type": "stream",
     "text": [
      " 44%|███████████████████████████████▊                                        | 2550/5769 [37:45<45:07,  1.19it/s]"
     ]
    },
    {
     "name": "stdout",
     "output_type": "stream",
     "text": [
      "Step 2550\n",
      "Accuracy without re-ranking                            : 0.8635294117647059\n",
      "Accuracy with re-ranking(mmarco-mMiniLMv2-L12-H384-v1) : 0.9274509803921569\n",
      "Accuracy with re-ranking(klue-cross-encoder-v1)        : 0.9149019607843137\n",
      "Accuracy with re-ranking(ms-marco-MiniLM-L-12-v2)      : 0.5149019607843137\n",
      "Accuracy with re-ranking(ms-marco-MiniLM-L-12-v2 tuning): 0.4666666666666667\n"
     ]
    },
    {
     "name": "stderr",
     "output_type": "stream",
     "text": [
      " 45%|████████████████████████████████▍                                       | 2600/5769 [38:26<42:36,  1.24it/s]"
     ]
    },
    {
     "name": "stdout",
     "output_type": "stream",
     "text": [
      "Step 2600\n",
      "Accuracy without re-ranking                            : 0.8630769230769231\n",
      "Accuracy with re-ranking(mmarco-mMiniLMv2-L12-H384-v1) : 0.9261538461538461\n",
      "Accuracy with re-ranking(klue-cross-encoder-v1)        : 0.9146153846153846\n",
      "Accuracy with re-ranking(ms-marco-MiniLM-L-12-v2)      : 0.5153846153846153\n",
      "Accuracy with re-ranking(ms-marco-MiniLM-L-12-v2 tuning): 0.4665384615384615\n"
     ]
    },
    {
     "name": "stderr",
     "output_type": "stream",
     "text": [
      " 46%|█████████████████████████████████                                       | 2650/5769 [39:07<42:37,  1.22it/s]"
     ]
    },
    {
     "name": "stdout",
     "output_type": "stream",
     "text": [
      "Step 2650\n",
      "Accuracy without re-ranking                            : 0.8618867924528302\n",
      "Accuracy with re-ranking(mmarco-mMiniLMv2-L12-H384-v1) : 0.9256603773584906\n",
      "Accuracy with re-ranking(klue-cross-encoder-v1)        : 0.9135849056603773\n",
      "Accuracy with re-ranking(ms-marco-MiniLM-L-12-v2)      : 0.5150943396226415\n",
      "Accuracy with re-ranking(ms-marco-MiniLM-L-12-v2 tuning): 0.4660377358490566\n"
     ]
    },
    {
     "name": "stderr",
     "output_type": "stream",
     "text": [
      " 47%|████████████████████████████████▊                                     | 2700/5769 [39:54<1:17:42,  1.52s/it]"
     ]
    },
    {
     "name": "stdout",
     "output_type": "stream",
     "text": [
      "Step 2700\n",
      "Accuracy without re-ranking                            : 0.8625925925925926\n",
      "Accuracy with re-ranking(mmarco-mMiniLMv2-L12-H384-v1) : 0.9255555555555556\n",
      "Accuracy with re-ranking(klue-cross-encoder-v1)        : 0.9133333333333333\n",
      "Accuracy with re-ranking(ms-marco-MiniLM-L-12-v2)      : 0.5155555555555555\n",
      "Accuracy with re-ranking(ms-marco-MiniLM-L-12-v2 tuning): 0.4662962962962963\n"
     ]
    },
    {
     "name": "stderr",
     "output_type": "stream",
     "text": [
      " 48%|██████████████████████████████████▎                                     | 2750/5769 [40:38<45:14,  1.11it/s]"
     ]
    },
    {
     "name": "stdout",
     "output_type": "stream",
     "text": [
      "Step 2750\n",
      "Accuracy without re-ranking                            : 0.8636363636363636\n",
      "Accuracy with re-ranking(mmarco-mMiniLMv2-L12-H384-v1) : 0.9261818181818182\n",
      "Accuracy with re-ranking(klue-cross-encoder-v1)        : 0.9138181818181819\n",
      "Accuracy with re-ranking(ms-marco-MiniLM-L-12-v2)      : 0.5163636363636364\n",
      "Accuracy with re-ranking(ms-marco-MiniLM-L-12-v2 tuning): 0.4672727272727273\n"
     ]
    },
    {
     "name": "stderr",
     "output_type": "stream",
     "text": [
      " 49%|██████████████████████████████████▉                                     | 2800/5769 [41:25<53:51,  1.09s/it]"
     ]
    },
    {
     "name": "stdout",
     "output_type": "stream",
     "text": [
      "Step 2800\n",
      "Accuracy without re-ranking                            : 0.8632142857142857\n",
      "Accuracy with re-ranking(mmarco-mMiniLMv2-L12-H384-v1) : 0.9257142857142857\n",
      "Accuracy with re-ranking(klue-cross-encoder-v1)        : 0.9132142857142858\n",
      "Accuracy with re-ranking(ms-marco-MiniLM-L-12-v2)      : 0.5142857142857142\n",
      "Accuracy with re-ranking(ms-marco-MiniLM-L-12-v2 tuning): 0.4675\n"
     ]
    },
    {
     "name": "stderr",
     "output_type": "stream",
     "text": [
      " 49%|███████████████████████████████████▌                                    | 2850/5769 [42:11<59:12,  1.22s/it]"
     ]
    },
    {
     "name": "stdout",
     "output_type": "stream",
     "text": [
      "Step 2850\n",
      "Accuracy without re-ranking                            : 0.8635087719298246\n",
      "Accuracy with re-ranking(mmarco-mMiniLMv2-L12-H384-v1) : 0.9256140350877193\n",
      "Accuracy with re-ranking(klue-cross-encoder-v1)        : 0.9133333333333333\n",
      "Accuracy with re-ranking(ms-marco-MiniLM-L-12-v2)      : 0.5157894736842106\n",
      "Accuracy with re-ranking(ms-marco-MiniLM-L-12-v2 tuning): 0.4673684210526316\n"
     ]
    },
    {
     "name": "stderr",
     "output_type": "stream",
     "text": [
      " 50%|████████████████████████████████████▏                                   | 2900/5769 [42:51<40:23,  1.18it/s]"
     ]
    },
    {
     "name": "stdout",
     "output_type": "stream",
     "text": [
      "Step 2900\n",
      "Accuracy without re-ranking                            : 0.8637931034482759\n",
      "Accuracy with re-ranking(mmarco-mMiniLMv2-L12-H384-v1) : 0.9251724137931034\n",
      "Accuracy with re-ranking(klue-cross-encoder-v1)        : 0.9127586206896552\n",
      "Accuracy with re-ranking(ms-marco-MiniLM-L-12-v2)      : 0.5155172413793103\n",
      "Accuracy with re-ranking(ms-marco-MiniLM-L-12-v2 tuning): 0.46793103448275863\n"
     ]
    },
    {
     "name": "stderr",
     "output_type": "stream",
     "text": [
      " 51%|████████████████████████████████████▊                                   | 2950/5769 [43:34<37:27,  1.25it/s]"
     ]
    },
    {
     "name": "stdout",
     "output_type": "stream",
     "text": [
      "Step 2950\n",
      "Accuracy without re-ranking                            : 0.8616949152542372\n",
      "Accuracy with re-ranking(mmarco-mMiniLMv2-L12-H384-v1) : 0.9247457627118644\n",
      "Accuracy with re-ranking(klue-cross-encoder-v1)        : 0.912542372881356\n",
      "Accuracy with re-ranking(ms-marco-MiniLM-L-12-v2)      : 0.5169491525423728\n",
      "Accuracy with re-ranking(ms-marco-MiniLM-L-12-v2 tuning): 0.46983050847457625\n"
     ]
    },
    {
     "name": "stderr",
     "output_type": "stream",
     "text": [
      " 52%|█████████████████████████████████████▍                                  | 3000/5769 [44:16<43:50,  1.05it/s]"
     ]
    },
    {
     "name": "stdout",
     "output_type": "stream",
     "text": [
      "Step 3000\n",
      "Accuracy without re-ranking                            : 0.8613333333333333\n",
      "Accuracy with re-ranking(mmarco-mMiniLMv2-L12-H384-v1) : 0.9243333333333333\n",
      "Accuracy with re-ranking(klue-cross-encoder-v1)        : 0.9123333333333333\n",
      "Accuracy with re-ranking(ms-marco-MiniLM-L-12-v2)      : 0.5163333333333333\n",
      "Accuracy with re-ranking(ms-marco-MiniLM-L-12-v2 tuning): 0.469\n"
     ]
    },
    {
     "name": "stderr",
     "output_type": "stream",
     "text": [
      " 53%|██████████████████████████████████████                                  | 3050/5769 [45:01<41:13,  1.10it/s]"
     ]
    },
    {
     "name": "stdout",
     "output_type": "stream",
     "text": [
      "Step 3050\n",
      "Accuracy without re-ranking                            : 0.861639344262295\n",
      "Accuracy with re-ranking(mmarco-mMiniLMv2-L12-H384-v1) : 0.9242622950819672\n",
      "Accuracy with re-ranking(klue-cross-encoder-v1)        : 0.9121311475409836\n",
      "Accuracy with re-ranking(ms-marco-MiniLM-L-12-v2)      : 0.5160655737704918\n",
      "Accuracy with re-ranking(ms-marco-MiniLM-L-12-v2 tuning): 0.46852459016393444\n"
     ]
    },
    {
     "name": "stderr",
     "output_type": "stream",
     "text": [
      " 54%|██████████████████████████████████████▋                                 | 3100/5769 [45:44<37:14,  1.19it/s]"
     ]
    },
    {
     "name": "stdout",
     "output_type": "stream",
     "text": [
      "Step 3100\n",
      "Accuracy without re-ranking                            : 0.8622580645161291\n",
      "Accuracy with re-ranking(mmarco-mMiniLMv2-L12-H384-v1) : 0.9245161290322581\n",
      "Accuracy with re-ranking(klue-cross-encoder-v1)        : 0.9119354838709678\n",
      "Accuracy with re-ranking(ms-marco-MiniLM-L-12-v2)      : 0.5180645161290323\n",
      "Accuracy with re-ranking(ms-marco-MiniLM-L-12-v2 tuning): 0.4706451612903226\n"
     ]
    },
    {
     "name": "stderr",
     "output_type": "stream",
     "text": [
      " 55%|███████████████████████████████████████▎                                | 3150/5769 [46:25<35:38,  1.22it/s]"
     ]
    },
    {
     "name": "stdout",
     "output_type": "stream",
     "text": [
      "Step 3150\n",
      "Accuracy without re-ranking                            : 0.8615873015873016\n",
      "Accuracy with re-ranking(mmarco-mMiniLMv2-L12-H384-v1) : 0.9234920634920635\n",
      "Accuracy with re-ranking(klue-cross-encoder-v1)        : 0.9111111111111111\n",
      "Accuracy with re-ranking(ms-marco-MiniLM-L-12-v2)      : 0.5184126984126984\n",
      "Accuracy with re-ranking(ms-marco-MiniLM-L-12-v2 tuning): 0.4711111111111111\n"
     ]
    },
    {
     "name": "stderr",
     "output_type": "stream",
     "text": [
      " 55%|███████████████████████████████████████▉                                | 3200/5769 [47:08<35:43,  1.20it/s]"
     ]
    },
    {
     "name": "stdout",
     "output_type": "stream",
     "text": [
      "Step 3200\n",
      "Accuracy without re-ranking                            : 0.860625\n",
      "Accuracy with re-ranking(mmarco-mMiniLMv2-L12-H384-v1) : 0.923125\n",
      "Accuracy with re-ranking(klue-cross-encoder-v1)        : 0.91125\n",
      "Accuracy with re-ranking(ms-marco-MiniLM-L-12-v2)      : 0.518125\n",
      "Accuracy with re-ranking(ms-marco-MiniLM-L-12-v2 tuning): 0.4709375\n"
     ]
    },
    {
     "name": "stderr",
     "output_type": "stream",
     "text": [
      " 56%|████████████████████████████████████████▌                               | 3250/5769 [47:50<34:53,  1.20it/s]"
     ]
    },
    {
     "name": "stdout",
     "output_type": "stream",
     "text": [
      "Step 3250\n",
      "Accuracy without re-ranking                            : 0.86\n",
      "Accuracy with re-ranking(mmarco-mMiniLMv2-L12-H384-v1) : 0.9227692307692308\n",
      "Accuracy with re-ranking(klue-cross-encoder-v1)        : 0.9110769230769231\n",
      "Accuracy with re-ranking(ms-marco-MiniLM-L-12-v2)      : 0.5175384615384615\n",
      "Accuracy with re-ranking(ms-marco-MiniLM-L-12-v2 tuning): 0.4704615384615385\n"
     ]
    },
    {
     "name": "stderr",
     "output_type": "stream",
     "text": [
      " 57%|█████████████████████████████████████████▏                              | 3300/5769 [48:33<33:57,  1.21it/s]"
     ]
    },
    {
     "name": "stdout",
     "output_type": "stream",
     "text": [
      "Step 3300\n",
      "Accuracy without re-ranking                            : 0.8612121212121212\n",
      "Accuracy with re-ranking(mmarco-mMiniLMv2-L12-H384-v1) : 0.9233333333333333\n",
      "Accuracy with re-ranking(klue-cross-encoder-v1)        : 0.9112121212121213\n",
      "Accuracy with re-ranking(ms-marco-MiniLM-L-12-v2)      : 0.5181818181818182\n",
      "Accuracy with re-ranking(ms-marco-MiniLM-L-12-v2 tuning): 0.4709090909090909\n"
     ]
    },
    {
     "name": "stderr",
     "output_type": "stream",
     "text": [
      " 58%|█████████████████████████████████████████▊                              | 3350/5769 [49:19<42:41,  1.06s/it]"
     ]
    },
    {
     "name": "stdout",
     "output_type": "stream",
     "text": [
      "Step 3350\n",
      "Accuracy without re-ranking                            : 0.8611940298507462\n",
      "Accuracy with re-ranking(mmarco-mMiniLMv2-L12-H384-v1) : 0.9229850746268656\n",
      "Accuracy with re-ranking(klue-cross-encoder-v1)        : 0.9110447761194029\n",
      "Accuracy with re-ranking(ms-marco-MiniLM-L-12-v2)      : 0.5182089552238806\n",
      "Accuracy with re-ranking(ms-marco-MiniLM-L-12-v2 tuning): 0.4722388059701493\n"
     ]
    },
    {
     "name": "stderr",
     "output_type": "stream",
     "text": [
      " 59%|██████████████████████████████████████████▍                             | 3400/5769 [50:06<41:13,  1.04s/it]"
     ]
    },
    {
     "name": "stdout",
     "output_type": "stream",
     "text": [
      "Step 3400\n",
      "Accuracy without re-ranking                            : 0.8597058823529412\n",
      "Accuracy with re-ranking(mmarco-mMiniLMv2-L12-H384-v1) : 0.9229411764705883\n",
      "Accuracy with re-ranking(klue-cross-encoder-v1)        : 0.9111764705882353\n",
      "Accuracy with re-ranking(ms-marco-MiniLM-L-12-v2)      : 0.5176470588235295\n",
      "Accuracy with re-ranking(ms-marco-MiniLM-L-12-v2 tuning): 0.4723529411764706\n"
     ]
    },
    {
     "name": "stderr",
     "output_type": "stream",
     "text": [
      " 60%|███████████████████████████████████████████                             | 3450/5769 [50:53<30:42,  1.26it/s]"
     ]
    },
    {
     "name": "stdout",
     "output_type": "stream",
     "text": [
      "Step 3450\n",
      "Accuracy without re-ranking                            : 0.8597101449275363\n",
      "Accuracy with re-ranking(mmarco-mMiniLMv2-L12-H384-v1) : 0.9234782608695652\n",
      "Accuracy with re-ranking(klue-cross-encoder-v1)        : 0.9115942028985508\n",
      "Accuracy with re-ranking(ms-marco-MiniLM-L-12-v2)      : 0.518840579710145\n",
      "Accuracy with re-ranking(ms-marco-MiniLM-L-12-v2 tuning): 0.47246376811594204\n"
     ]
    },
    {
     "name": "stderr",
     "output_type": "stream",
     "text": [
      " 61%|███████████████████████████████████████████▋                            | 3500/5769 [51:35<35:57,  1.05it/s]"
     ]
    },
    {
     "name": "stdout",
     "output_type": "stream",
     "text": [
      "Step 3500\n",
      "Accuracy without re-ranking                            : 0.8582857142857143\n",
      "Accuracy with re-ranking(mmarco-mMiniLMv2-L12-H384-v1) : 0.9231428571428572\n",
      "Accuracy with re-ranking(klue-cross-encoder-v1)        : 0.9117142857142857\n",
      "Accuracy with re-ranking(ms-marco-MiniLM-L-12-v2)      : 0.5171428571428571\n",
      "Accuracy with re-ranking(ms-marco-MiniLM-L-12-v2 tuning): 0.4714285714285714\n"
     ]
    },
    {
     "name": "stderr",
     "output_type": "stream",
     "text": [
      " 62%|████████████████████████████████████████████▎                           | 3550/5769 [52:16<32:15,  1.15it/s]"
     ]
    },
    {
     "name": "stdout",
     "output_type": "stream",
     "text": [
      "Step 3550\n",
      "Accuracy without re-ranking                            : 0.8571830985915493\n",
      "Accuracy with re-ranking(mmarco-mMiniLMv2-L12-H384-v1) : 0.9225352112676056\n",
      "Accuracy with re-ranking(klue-cross-encoder-v1)        : 0.9109859154929577\n",
      "Accuracy with re-ranking(ms-marco-MiniLM-L-12-v2)      : 0.5154929577464789\n",
      "Accuracy with re-ranking(ms-marco-MiniLM-L-12-v2 tuning): 0.4715492957746479\n"
     ]
    },
    {
     "name": "stderr",
     "output_type": "stream",
     "text": [
      " 62%|████████████████████████████████████████████▉                           | 3600/5769 [52:58<28:28,  1.27it/s]"
     ]
    },
    {
     "name": "stdout",
     "output_type": "stream",
     "text": [
      "Step 3600\n",
      "Accuracy without re-ranking                            : 0.8575\n",
      "Accuracy with re-ranking(mmarco-mMiniLMv2-L12-H384-v1) : 0.9230555555555555\n",
      "Accuracy with re-ranking(klue-cross-encoder-v1)        : 0.9119444444444444\n",
      "Accuracy with re-ranking(ms-marco-MiniLM-L-12-v2)      : 0.5169444444444444\n",
      "Accuracy with re-ranking(ms-marco-MiniLM-L-12-v2 tuning): 0.4727777777777778\n"
     ]
    },
    {
     "name": "stderr",
     "output_type": "stream",
     "text": [
      " 63%|█████████████████████████████████████████████▌                          | 3650/5769 [53:40<30:16,  1.17it/s]"
     ]
    },
    {
     "name": "stdout",
     "output_type": "stream",
     "text": [
      "Step 3650\n",
      "Accuracy without re-ranking                            : 0.8575342465753425\n",
      "Accuracy with re-ranking(mmarco-mMiniLMv2-L12-H384-v1) : 0.9235616438356165\n",
      "Accuracy with re-ranking(klue-cross-encoder-v1)        : 0.9123287671232877\n",
      "Accuracy with re-ranking(ms-marco-MiniLM-L-12-v2)      : 0.5158904109589041\n",
      "Accuracy with re-ranking(ms-marco-MiniLM-L-12-v2 tuning): 0.47342465753424656\n"
     ]
    },
    {
     "name": "stderr",
     "output_type": "stream",
     "text": [
      " 64%|██████████████████████████████████████████████▏                         | 3700/5769 [54:21<28:13,  1.22it/s]"
     ]
    },
    {
     "name": "stdout",
     "output_type": "stream",
     "text": [
      "Step 3700\n",
      "Accuracy without re-ranking                            : 0.857027027027027\n",
      "Accuracy with re-ranking(mmarco-mMiniLMv2-L12-H384-v1) : 0.9235135135135135\n",
      "Accuracy with re-ranking(klue-cross-encoder-v1)        : 0.9124324324324324\n",
      "Accuracy with re-ranking(ms-marco-MiniLM-L-12-v2)      : 0.5162162162162162\n",
      "Accuracy with re-ranking(ms-marco-MiniLM-L-12-v2 tuning): 0.4737837837837838\n"
     ]
    },
    {
     "name": "stderr",
     "output_type": "stream",
     "text": [
      " 65%|██████████████████████████████████████████████▊                         | 3750/5769 [55:03<28:02,  1.20it/s]"
     ]
    },
    {
     "name": "stdout",
     "output_type": "stream",
     "text": [
      "Step 3750\n",
      "Accuracy without re-ranking                            : 0.8568\n",
      "Accuracy with re-ranking(mmarco-mMiniLMv2-L12-H384-v1) : 0.9229333333333334\n",
      "Accuracy with re-ranking(klue-cross-encoder-v1)        : 0.9122666666666667\n",
      "Accuracy with re-ranking(ms-marco-MiniLM-L-12-v2)      : 0.5168\n",
      "Accuracy with re-ranking(ms-marco-MiniLM-L-12-v2 tuning): 0.4728\n"
     ]
    },
    {
     "name": "stderr",
     "output_type": "stream",
     "text": [
      " 66%|███████████████████████████████████████████████▍                        | 3800/5769 [55:46<27:09,  1.21it/s]"
     ]
    },
    {
     "name": "stdout",
     "output_type": "stream",
     "text": [
      "Step 3800\n",
      "Accuracy without re-ranking                            : 0.8576315789473684\n",
      "Accuracy with re-ranking(mmarco-mMiniLMv2-L12-H384-v1) : 0.9234210526315789\n",
      "Accuracy with re-ranking(klue-cross-encoder-v1)        : 0.9128947368421053\n",
      "Accuracy with re-ranking(ms-marco-MiniLM-L-12-v2)      : 0.5168421052631579\n",
      "Accuracy with re-ranking(ms-marco-MiniLM-L-12-v2 tuning): 0.4731578947368421\n"
     ]
    },
    {
     "name": "stderr",
     "output_type": "stream",
     "text": [
      " 67%|████████████████████████████████████████████████                        | 3850/5769 [56:28<27:50,  1.15it/s]"
     ]
    },
    {
     "name": "stdout",
     "output_type": "stream",
     "text": [
      "Step 3850\n",
      "Accuracy without re-ranking                            : 0.8568831168831169\n",
      "Accuracy with re-ranking(mmarco-mMiniLMv2-L12-H384-v1) : 0.9225974025974026\n",
      "Accuracy with re-ranking(klue-cross-encoder-v1)        : 0.911948051948052\n",
      "Accuracy with re-ranking(ms-marco-MiniLM-L-12-v2)      : 0.5166233766233767\n",
      "Accuracy with re-ranking(ms-marco-MiniLM-L-12-v2 tuning): 0.47324675324675325\n"
     ]
    },
    {
     "name": "stderr",
     "output_type": "stream",
     "text": [
      " 68%|████████████████████████████████████████████████▋                       | 3900/5769 [57:13<31:00,  1.00it/s]"
     ]
    },
    {
     "name": "stdout",
     "output_type": "stream",
     "text": [
      "Step 3900\n",
      "Accuracy without re-ranking                            : 0.8569230769230769\n",
      "Accuracy with re-ranking(mmarco-mMiniLMv2-L12-H384-v1) : 0.9225641025641026\n",
      "Accuracy with re-ranking(klue-cross-encoder-v1)        : 0.9117948717948718\n",
      "Accuracy with re-ranking(ms-marco-MiniLM-L-12-v2)      : 0.5169230769230769\n",
      "Accuracy with re-ranking(ms-marco-MiniLM-L-12-v2 tuning): 0.4746153846153846\n"
     ]
    },
    {
     "name": "stderr",
     "output_type": "stream",
     "text": [
      " 68%|█████████████████████████████████████████████████▎                      | 3950/5769 [57:56<26:46,  1.13it/s]"
     ]
    },
    {
     "name": "stdout",
     "output_type": "stream",
     "text": [
      "Step 3950\n",
      "Accuracy without re-ranking                            : 0.8569620253164557\n",
      "Accuracy with re-ranking(mmarco-mMiniLMv2-L12-H384-v1) : 0.9220253164556962\n",
      "Accuracy with re-ranking(klue-cross-encoder-v1)        : 0.9116455696202531\n",
      "Accuracy with re-ranking(ms-marco-MiniLM-L-12-v2)      : 0.5169620253164557\n",
      "Accuracy with re-ranking(ms-marco-MiniLM-L-12-v2 tuning): 0.47468354430379744\n"
     ]
    },
    {
     "name": "stderr",
     "output_type": "stream",
     "text": [
      " 69%|█████████████████████████████████████████████████▉                      | 4000/5769 [58:39<24:50,  1.19it/s]"
     ]
    },
    {
     "name": "stdout",
     "output_type": "stream",
     "text": [
      "Step 4000\n",
      "Accuracy without re-ranking                            : 0.85675\n",
      "Accuracy with re-ranking(mmarco-mMiniLMv2-L12-H384-v1) : 0.9215\n",
      "Accuracy with re-ranking(klue-cross-encoder-v1)        : 0.91125\n",
      "Accuracy with re-ranking(ms-marco-MiniLM-L-12-v2)      : 0.5165\n",
      "Accuracy with re-ranking(ms-marco-MiniLM-L-12-v2 tuning): 0.47375\n"
     ]
    },
    {
     "name": "stderr",
     "output_type": "stream",
     "text": [
      " 70%|██████████████████████████████████████████████████▌                     | 4050/5769 [59:22<24:17,  1.18it/s]"
     ]
    },
    {
     "name": "stdout",
     "output_type": "stream",
     "text": [
      "Step 4050\n",
      "Accuracy without re-ranking                            : 0.8562962962962963\n",
      "Accuracy with re-ranking(mmarco-mMiniLMv2-L12-H384-v1) : 0.9202469135802469\n",
      "Accuracy with re-ranking(klue-cross-encoder-v1)        : 0.9103703703703704\n",
      "Accuracy with re-ranking(ms-marco-MiniLM-L-12-v2)      : 0.5182716049382716\n",
      "Accuracy with re-ranking(ms-marco-MiniLM-L-12-v2 tuning): 0.4748148148148148\n"
     ]
    },
    {
     "name": "stderr",
     "output_type": "stream",
     "text": [
      " 71%|█████████████████████████████████████████████████▋                    | 4100/5769 [1:00:05<21:57,  1.27it/s]"
     ]
    },
    {
     "name": "stdout",
     "output_type": "stream",
     "text": [
      "Step 4100\n",
      "Accuracy without re-ranking                            : 0.855609756097561\n",
      "Accuracy with re-ranking(mmarco-mMiniLMv2-L12-H384-v1) : 0.9192682926829269\n",
      "Accuracy with re-ranking(klue-cross-encoder-v1)        : 0.9097560975609756\n",
      "Accuracy with re-ranking(ms-marco-MiniLM-L-12-v2)      : 0.5182926829268293\n",
      "Accuracy with re-ranking(ms-marco-MiniLM-L-12-v2 tuning): 0.4748780487804878\n"
     ]
    },
    {
     "name": "stderr",
     "output_type": "stream",
     "text": [
      " 72%|██████████████████████████████████████████████████▎                   | 4150/5769 [1:00:51<23:13,  1.16it/s]"
     ]
    },
    {
     "name": "stdout",
     "output_type": "stream",
     "text": [
      "Step 4150\n",
      "Accuracy without re-ranking                            : 0.8568674698795181\n",
      "Accuracy with re-ranking(mmarco-mMiniLMv2-L12-H384-v1) : 0.9195180722891566\n",
      "Accuracy with re-ranking(klue-cross-encoder-v1)        : 0.9106024096385542\n",
      "Accuracy with re-ranking(ms-marco-MiniLM-L-12-v2)      : 0.5183132530120482\n",
      "Accuracy with re-ranking(ms-marco-MiniLM-L-12-v2 tuning): 0.47518072289156627\n"
     ]
    },
    {
     "name": "stderr",
     "output_type": "stream",
     "text": [
      " 73%|██████████████████████████████████████████████████▉                   | 4200/5769 [1:01:34<22:08,  1.18it/s]"
     ]
    },
    {
     "name": "stdout",
     "output_type": "stream",
     "text": [
      "Step 4200\n",
      "Accuracy without re-ranking                            : 0.8571428571428571\n",
      "Accuracy with re-ranking(mmarco-mMiniLMv2-L12-H384-v1) : 0.9195238095238095\n",
      "Accuracy with re-ranking(klue-cross-encoder-v1)        : 0.9111904761904762\n",
      "Accuracy with re-ranking(ms-marco-MiniLM-L-12-v2)      : 0.5190476190476191\n",
      "Accuracy with re-ranking(ms-marco-MiniLM-L-12-v2 tuning): 0.4754761904761905\n"
     ]
    },
    {
     "name": "stderr",
     "output_type": "stream",
     "text": [
      " 74%|███████████████████████████████████████████████████▌                  | 4250/5769 [1:02:19<29:36,  1.17s/it]"
     ]
    },
    {
     "name": "stdout",
     "output_type": "stream",
     "text": [
      "Step 4250\n",
      "Accuracy without re-ranking                            : 0.8574117647058823\n",
      "Accuracy with re-ranking(mmarco-mMiniLMv2-L12-H384-v1) : 0.9197647058823529\n",
      "Accuracy with re-ranking(klue-cross-encoder-v1)        : 0.9112941176470588\n",
      "Accuracy with re-ranking(ms-marco-MiniLM-L-12-v2)      : 0.5195294117647059\n",
      "Accuracy with re-ranking(ms-marco-MiniLM-L-12-v2 tuning): 0.47623529411764703\n"
     ]
    },
    {
     "name": "stderr",
     "output_type": "stream",
     "text": [
      " 75%|████████████████████████████████████████████████████▏                 | 4300/5769 [1:03:04<20:13,  1.21it/s]"
     ]
    },
    {
     "name": "stdout",
     "output_type": "stream",
     "text": [
      "Step 4300\n",
      "Accuracy without re-ranking                            : 0.8574418604651163\n",
      "Accuracy with re-ranking(mmarco-mMiniLMv2-L12-H384-v1) : 0.92\n",
      "Accuracy with re-ranking(klue-cross-encoder-v1)        : 0.9113953488372093\n",
      "Accuracy with re-ranking(ms-marco-MiniLM-L-12-v2)      : 0.5195348837209303\n",
      "Accuracy with re-ranking(ms-marco-MiniLM-L-12-v2 tuning): 0.47674418604651164\n"
     ]
    },
    {
     "name": "stderr",
     "output_type": "stream",
     "text": [
      " 75%|████████████████████████████████████████████████████▊                 | 4350/5769 [1:03:50<20:25,  1.16it/s]"
     ]
    },
    {
     "name": "stdout",
     "output_type": "stream",
     "text": [
      "Step 4350\n",
      "Accuracy without re-ranking                            : 0.8574712643678161\n",
      "Accuracy with re-ranking(mmarco-mMiniLMv2-L12-H384-v1) : 0.9197701149425287\n",
      "Accuracy with re-ranking(klue-cross-encoder-v1)        : 0.9110344827586206\n",
      "Accuracy with re-ranking(ms-marco-MiniLM-L-12-v2)      : 0.5197701149425288\n",
      "Accuracy with re-ranking(ms-marco-MiniLM-L-12-v2 tuning): 0.4763218390804598\n"
     ]
    },
    {
     "name": "stderr",
     "output_type": "stream",
     "text": [
      " 76%|█████████████████████████████████████████████████████▍                | 4400/5769 [1:04:33<21:08,  1.08it/s]"
     ]
    },
    {
     "name": "stdout",
     "output_type": "stream",
     "text": [
      "Step 4400\n",
      "Accuracy without re-ranking                            : 0.8581818181818182\n",
      "Accuracy with re-ranking(mmarco-mMiniLMv2-L12-H384-v1) : 0.9197727272727273\n",
      "Accuracy with re-ranking(klue-cross-encoder-v1)        : 0.9111363636363636\n",
      "Accuracy with re-ranking(ms-marco-MiniLM-L-12-v2)      : 0.5195454545454545\n",
      "Accuracy with re-ranking(ms-marco-MiniLM-L-12-v2 tuning): 0.4756818181818182\n"
     ]
    },
    {
     "name": "stderr",
     "output_type": "stream",
     "text": [
      " 77%|█████████████████████████████████████████████████████▉                | 4450/5769 [1:05:17<18:40,  1.18it/s]"
     ]
    },
    {
     "name": "stdout",
     "output_type": "stream",
     "text": [
      "Step 4450\n",
      "Accuracy without re-ranking                            : 0.8584269662921349\n",
      "Accuracy with re-ranking(mmarco-mMiniLMv2-L12-H384-v1) : 0.9204494382022472\n",
      "Accuracy with re-ranking(klue-cross-encoder-v1)        : 0.9114606741573034\n",
      "Accuracy with re-ranking(ms-marco-MiniLM-L-12-v2)      : 0.5179775280898876\n",
      "Accuracy with re-ranking(ms-marco-MiniLM-L-12-v2 tuning): 0.47393258426966295\n"
     ]
    },
    {
     "name": "stderr",
     "output_type": "stream",
     "text": [
      " 78%|██████████████████████████████████████████████████████▌               | 4500/5769 [1:06:01<17:16,  1.22it/s]"
     ]
    },
    {
     "name": "stdout",
     "output_type": "stream",
     "text": [
      "Step 4500\n",
      "Accuracy without re-ranking                            : 0.8577777777777778\n",
      "Accuracy with re-ranking(mmarco-mMiniLMv2-L12-H384-v1) : 0.9204444444444444\n",
      "Accuracy with re-ranking(klue-cross-encoder-v1)        : 0.9115555555555556\n",
      "Accuracy with re-ranking(ms-marco-MiniLM-L-12-v2)      : 0.5188888888888888\n",
      "Accuracy with re-ranking(ms-marco-MiniLM-L-12-v2 tuning): 0.474\n"
     ]
    },
    {
     "name": "stderr",
     "output_type": "stream",
     "text": [
      " 79%|███████████████████████████████████████████████████████▏              | 4550/5769 [1:06:43<17:03,  1.19it/s]"
     ]
    },
    {
     "name": "stdout",
     "output_type": "stream",
     "text": [
      "Step 4550\n",
      "Accuracy without re-ranking                            : 0.8578021978021978\n",
      "Accuracy with re-ranking(mmarco-mMiniLMv2-L12-H384-v1) : 0.9206593406593406\n",
      "Accuracy with re-ranking(klue-cross-encoder-v1)        : 0.9118681318681319\n",
      "Accuracy with re-ranking(ms-marco-MiniLM-L-12-v2)      : 0.5215384615384615\n",
      "Accuracy with re-ranking(ms-marco-MiniLM-L-12-v2 tuning): 0.47494505494505496\n"
     ]
    },
    {
     "name": "stderr",
     "output_type": "stream",
     "text": [
      " 80%|███████████████████████████████████████████████████████▊              | 4600/5769 [1:07:28<16:33,  1.18it/s]"
     ]
    },
    {
     "name": "stdout",
     "output_type": "stream",
     "text": [
      "Step 4600\n",
      "Accuracy without re-ranking                            : 0.8578260869565217\n",
      "Accuracy with re-ranking(mmarco-mMiniLMv2-L12-H384-v1) : 0.9206521739130434\n",
      "Accuracy with re-ranking(klue-cross-encoder-v1)        : 0.9117391304347826\n",
      "Accuracy with re-ranking(ms-marco-MiniLM-L-12-v2)      : 0.5223913043478261\n",
      "Accuracy with re-ranking(ms-marco-MiniLM-L-12-v2 tuning): 0.4752173913043478\n"
     ]
    },
    {
     "name": "stderr",
     "output_type": "stream",
     "text": [
      " 81%|████████████████████████████████████████████████████████▍             | 4650/5769 [1:08:10<15:37,  1.19it/s]"
     ]
    },
    {
     "name": "stdout",
     "output_type": "stream",
     "text": [
      "Step 4650\n",
      "Accuracy without re-ranking                            : 0.8580645161290322\n",
      "Accuracy with re-ranking(mmarco-mMiniLMv2-L12-H384-v1) : 0.9204301075268817\n",
      "Accuracy with re-ranking(klue-cross-encoder-v1)        : 0.9118279569892473\n",
      "Accuracy with re-ranking(ms-marco-MiniLM-L-12-v2)      : 0.5217204301075269\n",
      "Accuracy with re-ranking(ms-marco-MiniLM-L-12-v2 tuning): 0.47419354838709676\n"
     ]
    },
    {
     "name": "stderr",
     "output_type": "stream",
     "text": [
      " 81%|█████████████████████████████████████████████████████████             | 4700/5769 [1:08:52<15:09,  1.18it/s]"
     ]
    },
    {
     "name": "stdout",
     "output_type": "stream",
     "text": [
      "Step 4700\n",
      "Accuracy without re-ranking                            : 0.8580851063829787\n",
      "Accuracy with re-ranking(mmarco-mMiniLMv2-L12-H384-v1) : 0.9204255319148936\n",
      "Accuracy with re-ranking(klue-cross-encoder-v1)        : 0.9119148936170213\n",
      "Accuracy with re-ranking(ms-marco-MiniLM-L-12-v2)      : 0.5223404255319148\n",
      "Accuracy with re-ranking(ms-marco-MiniLM-L-12-v2 tuning): 0.47425531914893615\n"
     ]
    },
    {
     "name": "stderr",
     "output_type": "stream",
     "text": [
      " 82%|█████████████████████████████████████████████████████████▋            | 4750/5769 [1:09:37<15:11,  1.12it/s]"
     ]
    },
    {
     "name": "stdout",
     "output_type": "stream",
     "text": [
      "Step 4750\n",
      "Accuracy without re-ranking                            : 0.8585263157894737\n",
      "Accuracy with re-ranking(mmarco-mMiniLMv2-L12-H384-v1) : 0.9206315789473685\n",
      "Accuracy with re-ranking(klue-cross-encoder-v1)        : 0.9122105263157895\n",
      "Accuracy with re-ranking(ms-marco-MiniLM-L-12-v2)      : 0.5221052631578947\n",
      "Accuracy with re-ranking(ms-marco-MiniLM-L-12-v2 tuning): 0.4747368421052632\n"
     ]
    },
    {
     "name": "stderr",
     "output_type": "stream",
     "text": [
      " 83%|██████████████████████████████████████████████████████████▏           | 4800/5769 [1:10:22<13:34,  1.19it/s]"
     ]
    },
    {
     "name": "stdout",
     "output_type": "stream",
     "text": [
      "Step 4800\n",
      "Accuracy without re-ranking                            : 0.858125\n",
      "Accuracy with re-ranking(mmarco-mMiniLMv2-L12-H384-v1) : 0.9204166666666667\n",
      "Accuracy with re-ranking(klue-cross-encoder-v1)        : 0.9120833333333334\n",
      "Accuracy with re-ranking(ms-marco-MiniLM-L-12-v2)      : 0.5216666666666666\n",
      "Accuracy with re-ranking(ms-marco-MiniLM-L-12-v2 tuning): 0.4741666666666667\n"
     ]
    },
    {
     "name": "stderr",
     "output_type": "stream",
     "text": [
      " 84%|██████████████████████████████████████████████████████████▊           | 4850/5769 [1:11:04<13:25,  1.14it/s]"
     ]
    },
    {
     "name": "stdout",
     "output_type": "stream",
     "text": [
      "Step 4850\n",
      "Accuracy without re-ranking                            : 0.8579381443298969\n",
      "Accuracy with re-ranking(mmarco-mMiniLMv2-L12-H384-v1) : 0.9202061855670103\n",
      "Accuracy with re-ranking(klue-cross-encoder-v1)        : 0.9119587628865979\n",
      "Accuracy with re-ranking(ms-marco-MiniLM-L-12-v2)      : 0.5212371134020618\n",
      "Accuracy with re-ranking(ms-marco-MiniLM-L-12-v2 tuning): 0.4734020618556701\n"
     ]
    },
    {
     "name": "stderr",
     "output_type": "stream",
     "text": [
      " 85%|███████████████████████████████████████████████████████████▍          | 4900/5769 [1:11:47<12:38,  1.15it/s]"
     ]
    },
    {
     "name": "stdout",
     "output_type": "stream",
     "text": [
      "Step 4900\n",
      "Accuracy without re-ranking                            : 0.8581632653061224\n",
      "Accuracy with re-ranking(mmarco-mMiniLMv2-L12-H384-v1) : 0.9202040816326531\n",
      "Accuracy with re-ranking(klue-cross-encoder-v1)        : 0.9114285714285715\n",
      "Accuracy with re-ranking(ms-marco-MiniLM-L-12-v2)      : 0.5212244897959184\n",
      "Accuracy with re-ranking(ms-marco-MiniLM-L-12-v2 tuning): 0.4736734693877551\n"
     ]
    },
    {
     "name": "stderr",
     "output_type": "stream",
     "text": [
      " 86%|████████████████████████████████████████████████████████████          | 4950/5769 [1:12:29<11:18,  1.21it/s]"
     ]
    },
    {
     "name": "stdout",
     "output_type": "stream",
     "text": [
      "Step 4950\n",
      "Accuracy without re-ranking                            : 0.8573737373737373\n",
      "Accuracy with re-ranking(mmarco-mMiniLMv2-L12-H384-v1) : 0.9202020202020202\n",
      "Accuracy with re-ranking(klue-cross-encoder-v1)        : 0.9113131313131313\n",
      "Accuracy with re-ranking(ms-marco-MiniLM-L-12-v2)      : 0.5202020202020202\n",
      "Accuracy with re-ranking(ms-marco-MiniLM-L-12-v2 tuning): 0.47353535353535353\n"
     ]
    },
    {
     "name": "stderr",
     "output_type": "stream",
     "text": [
      " 87%|████████████████████████████████████████████████████████████▋         | 5000/5769 [1:13:20<11:04,  1.16it/s]"
     ]
    },
    {
     "name": "stdout",
     "output_type": "stream",
     "text": [
      "Step 5000\n",
      "Accuracy without re-ranking                            : 0.858\n",
      "Accuracy with re-ranking(mmarco-mMiniLMv2-L12-H384-v1) : 0.9204\n",
      "Accuracy with re-ranking(klue-cross-encoder-v1)        : 0.9112\n",
      "Accuracy with re-ranking(ms-marco-MiniLM-L-12-v2)      : 0.52\n",
      "Accuracy with re-ranking(ms-marco-MiniLM-L-12-v2 tuning): 0.473\n"
     ]
    },
    {
     "name": "stderr",
     "output_type": "stream",
     "text": [
      " 88%|█████████████████████████████████████████████████████████████▎        | 5050/5769 [1:14:04<09:52,  1.21it/s]"
     ]
    },
    {
     "name": "stdout",
     "output_type": "stream",
     "text": [
      "Step 5050\n",
      "Accuracy without re-ranking                            : 0.8584158415841584\n",
      "Accuracy with re-ranking(mmarco-mMiniLMv2-L12-H384-v1) : 0.9203960396039604\n",
      "Accuracy with re-ranking(klue-cross-encoder-v1)        : 0.9114851485148515\n",
      "Accuracy with re-ranking(ms-marco-MiniLM-L-12-v2)      : 0.5205940594059406\n",
      "Accuracy with re-ranking(ms-marco-MiniLM-L-12-v2 tuning): 0.47386138613861384\n"
     ]
    },
    {
     "name": "stderr",
     "output_type": "stream",
     "text": [
      " 88%|█████████████████████████████████████████████████████████████▉        | 5100/5769 [1:14:50<12:00,  1.08s/it]"
     ]
    },
    {
     "name": "stdout",
     "output_type": "stream",
     "text": [
      "Step 5100\n",
      "Accuracy without re-ranking                            : 0.8586274509803922\n",
      "Accuracy with re-ranking(mmarco-mMiniLMv2-L12-H384-v1) : 0.9205882352941176\n",
      "Accuracy with re-ranking(klue-cross-encoder-v1)        : 0.9117647058823529\n",
      "Accuracy with re-ranking(ms-marco-MiniLM-L-12-v2)      : 0.5205882352941177\n",
      "Accuracy with re-ranking(ms-marco-MiniLM-L-12-v2 tuning): 0.47352941176470587\n"
     ]
    },
    {
     "name": "stderr",
     "output_type": "stream",
     "text": [
      " 89%|██████████████████████████████████████████████████████████████▍       | 5150/5769 [1:15:44<09:30,  1.08it/s]"
     ]
    },
    {
     "name": "stdout",
     "output_type": "stream",
     "text": [
      "Step 5150\n",
      "Accuracy without re-ranking                            : 0.8586407766990292\n",
      "Accuracy with re-ranking(mmarco-mMiniLMv2-L12-H384-v1) : 0.9207766990291262\n",
      "Accuracy with re-ranking(klue-cross-encoder-v1)        : 0.9122330097087379\n",
      "Accuracy with re-ranking(ms-marco-MiniLM-L-12-v2)      : 0.5207766990291263\n",
      "Accuracy with re-ranking(ms-marco-MiniLM-L-12-v2 tuning): 0.47436893203883496\n"
     ]
    },
    {
     "name": "stderr",
     "output_type": "stream",
     "text": [
      " 90%|███████████████████████████████████████████████████████████████       | 5200/5769 [1:16:32<07:59,  1.19it/s]"
     ]
    },
    {
     "name": "stdout",
     "output_type": "stream",
     "text": [
      "Step 5200\n",
      "Accuracy without re-ranking                            : 0.8588461538461538\n",
      "Accuracy with re-ranking(mmarco-mMiniLMv2-L12-H384-v1) : 0.9211538461538461\n",
      "Accuracy with re-ranking(klue-cross-encoder-v1)        : 0.911923076923077\n",
      "Accuracy with re-ranking(ms-marco-MiniLM-L-12-v2)      : 0.5209615384615385\n",
      "Accuracy with re-ranking(ms-marco-MiniLM-L-12-v2 tuning): 0.47384615384615386\n"
     ]
    },
    {
     "name": "stderr",
     "output_type": "stream",
     "text": [
      " 91%|███████████████████████████████████████████████████████████████▋      | 5250/5769 [1:17:16<07:47,  1.11it/s]"
     ]
    },
    {
     "name": "stdout",
     "output_type": "stream",
     "text": [
      "Step 5250\n",
      "Accuracy without re-ranking                            : 0.8590476190476191\n",
      "Accuracy with re-ranking(mmarco-mMiniLMv2-L12-H384-v1) : 0.920952380952381\n",
      "Accuracy with re-ranking(klue-cross-encoder-v1)        : 0.9121904761904762\n",
      "Accuracy with re-ranking(ms-marco-MiniLM-L-12-v2)      : 0.5211428571428571\n",
      "Accuracy with re-ranking(ms-marco-MiniLM-L-12-v2 tuning): 0.47295238095238096\n"
     ]
    },
    {
     "name": "stderr",
     "output_type": "stream",
     "text": [
      " 92%|████████████████████████████████████████████████████████████████▎     | 5300/5769 [1:18:00<06:23,  1.22it/s]"
     ]
    },
    {
     "name": "stdout",
     "output_type": "stream",
     "text": [
      "Step 5300\n",
      "Accuracy without re-ranking                            : 0.8594339622641509\n",
      "Accuracy with re-ranking(mmarco-mMiniLMv2-L12-H384-v1) : 0.9213207547169812\n",
      "Accuracy with re-ranking(klue-cross-encoder-v1)        : 0.9126415094339623\n",
      "Accuracy with re-ranking(ms-marco-MiniLM-L-12-v2)      : 0.5220754716981132\n",
      "Accuracy with re-ranking(ms-marco-MiniLM-L-12-v2 tuning): 0.47358490566037736\n"
     ]
    },
    {
     "name": "stderr",
     "output_type": "stream",
     "text": [
      " 93%|████████████████████████████████████████████████████████████████▉     | 5350/5769 [1:18:45<06:03,  1.15it/s]"
     ]
    },
    {
     "name": "stdout",
     "output_type": "stream",
     "text": [
      "Step 5350\n",
      "Accuracy without re-ranking                            : 0.86\n",
      "Accuracy with re-ranking(mmarco-mMiniLMv2-L12-H384-v1) : 0.9220560747663551\n",
      "Accuracy with re-ranking(klue-cross-encoder-v1)        : 0.9134579439252336\n",
      "Accuracy with re-ranking(ms-marco-MiniLM-L-12-v2)      : 0.5218691588785047\n",
      "Accuracy with re-ranking(ms-marco-MiniLM-L-12-v2 tuning): 0.4730841121495327\n"
     ]
    },
    {
     "name": "stderr",
     "output_type": "stream",
     "text": [
      " 94%|█████████████████████████████████████████████████████████████████▌    | 5400/5769 [1:19:33<05:45,  1.07it/s]"
     ]
    },
    {
     "name": "stdout",
     "output_type": "stream",
     "text": [
      "Step 5400\n",
      "Accuracy without re-ranking                            : 0.8596296296296296\n",
      "Accuracy with re-ranking(mmarco-mMiniLMv2-L12-H384-v1) : 0.922037037037037\n",
      "Accuracy with re-ranking(klue-cross-encoder-v1)        : 0.9137037037037037\n",
      "Accuracy with re-ranking(ms-marco-MiniLM-L-12-v2)      : 0.5218518518518519\n",
      "Accuracy with re-ranking(ms-marco-MiniLM-L-12-v2 tuning): 0.4735185185185185\n"
     ]
    },
    {
     "name": "stderr",
     "output_type": "stream",
     "text": [
      " 94%|██████████████████████████████████████████████████████████████████▏   | 5450/5769 [1:20:19<06:01,  1.13s/it]"
     ]
    },
    {
     "name": "stdout",
     "output_type": "stream",
     "text": [
      "Step 5450\n",
      "Accuracy without re-ranking                            : 0.8598165137614678\n",
      "Accuracy with re-ranking(mmarco-mMiniLMv2-L12-H384-v1) : 0.9222018348623853\n",
      "Accuracy with re-ranking(klue-cross-encoder-v1)        : 0.9139449541284403\n",
      "Accuracy with re-ranking(ms-marco-MiniLM-L-12-v2)      : 0.5227522935779817\n",
      "Accuracy with re-ranking(ms-marco-MiniLM-L-12-v2 tuning): 0.47394495412844034\n"
     ]
    },
    {
     "name": "stderr",
     "output_type": "stream",
     "text": [
      " 95%|██████████████████████████████████████████████████████████████████▋   | 5500/5769 [1:21:05<03:44,  1.20it/s]"
     ]
    },
    {
     "name": "stdout",
     "output_type": "stream",
     "text": [
      "Step 5500\n",
      "Accuracy without re-ranking                            : 0.8605454545454545\n",
      "Accuracy with re-ranking(mmarco-mMiniLMv2-L12-H384-v1) : 0.9227272727272727\n",
      "Accuracy with re-ranking(klue-cross-encoder-v1)        : 0.9145454545454546\n",
      "Accuracy with re-ranking(ms-marco-MiniLM-L-12-v2)      : 0.523090909090909\n",
      "Accuracy with re-ranking(ms-marco-MiniLM-L-12-v2 tuning): 0.4743636363636364\n"
     ]
    },
    {
     "name": "stderr",
     "output_type": "stream",
     "text": [
      " 96%|███████████████████████████████████████████████████████████████████▎  | 5550/5769 [1:21:52<03:07,  1.17it/s]"
     ]
    },
    {
     "name": "stdout",
     "output_type": "stream",
     "text": [
      "Step 5550\n",
      "Accuracy without re-ranking                            : 0.8605405405405405\n",
      "Accuracy with re-ranking(mmarco-mMiniLMv2-L12-H384-v1) : 0.9227027027027027\n",
      "Accuracy with re-ranking(klue-cross-encoder-v1)        : 0.9144144144144144\n",
      "Accuracy with re-ranking(ms-marco-MiniLM-L-12-v2)      : 0.523063063063063\n",
      "Accuracy with re-ranking(ms-marco-MiniLM-L-12-v2 tuning): 0.4751351351351351\n"
     ]
    },
    {
     "name": "stderr",
     "output_type": "stream",
     "text": [
      " 97%|███████████████████████████████████████████████████████████████████▉  | 5600/5769 [1:22:35<02:17,  1.23it/s]"
     ]
    },
    {
     "name": "stdout",
     "output_type": "stream",
     "text": [
      "Step 5600\n",
      "Accuracy without re-ranking                            : 0.8608928571428571\n",
      "Accuracy with re-ranking(mmarco-mMiniLMv2-L12-H384-v1) : 0.9233928571428571\n",
      "Accuracy with re-ranking(klue-cross-encoder-v1)        : 0.9151785714285714\n",
      "Accuracy with re-ranking(ms-marco-MiniLM-L-12-v2)      : 0.5239285714285714\n",
      "Accuracy with re-ranking(ms-marco-MiniLM-L-12-v2 tuning): 0.4757142857142857\n"
     ]
    },
    {
     "name": "stderr",
     "output_type": "stream",
     "text": [
      " 98%|████████████████████████████████████████████████████████████████████▌ | 5650/5769 [1:23:18<01:43,  1.16it/s]"
     ]
    },
    {
     "name": "stdout",
     "output_type": "stream",
     "text": [
      "Step 5650\n",
      "Accuracy without re-ranking                            : 0.8617699115044247\n",
      "Accuracy with re-ranking(mmarco-mMiniLMv2-L12-H384-v1) : 0.9238938053097345\n",
      "Accuracy with re-ranking(klue-cross-encoder-v1)        : 0.9155752212389381\n",
      "Accuracy with re-ranking(ms-marco-MiniLM-L-12-v2)      : 0.5249557522123893\n",
      "Accuracy with re-ranking(ms-marco-MiniLM-L-12-v2 tuning): 0.47646017699115045\n"
     ]
    },
    {
     "name": "stderr",
     "output_type": "stream",
     "text": [
      " 99%|█████████████████████████████████████████████████████████████████████▏| 5700/5769 [1:24:00<00:56,  1.21it/s]"
     ]
    },
    {
     "name": "stdout",
     "output_type": "stream",
     "text": [
      "Step 5700\n",
      "Accuracy without re-ranking                            : 0.8621052631578947\n",
      "Accuracy with re-ranking(mmarco-mMiniLMv2-L12-H384-v1) : 0.9240350877192982\n",
      "Accuracy with re-ranking(klue-cross-encoder-v1)        : 0.9159649122807018\n",
      "Accuracy with re-ranking(ms-marco-MiniLM-L-12-v2)      : 0.5247368421052632\n",
      "Accuracy with re-ranking(ms-marco-MiniLM-L-12-v2 tuning): 0.47649122807017547\n"
     ]
    },
    {
     "name": "stderr",
     "output_type": "stream",
     "text": [
      "100%|█████████████████████████████████████████████████████████████████████▊| 5750/5769 [1:24:42<00:16,  1.18it/s]"
     ]
    },
    {
     "name": "stdout",
     "output_type": "stream",
     "text": [
      "Step 5750\n",
      "Accuracy without re-ranking                            : 0.8620869565217392\n",
      "Accuracy with re-ranking(mmarco-mMiniLMv2-L12-H384-v1) : 0.9243478260869565\n",
      "Accuracy with re-ranking(klue-cross-encoder-v1)        : 0.9163478260869565\n",
      "Accuracy with re-ranking(ms-marco-MiniLM-L-12-v2)      : 0.5259130434782608\n",
      "Accuracy with re-ranking(ms-marco-MiniLM-L-12-v2 tuning): 0.47756521739130436\n"
     ]
    },
    {
     "name": "stderr",
     "output_type": "stream",
     "text": [
      "100%|██████████████████████████████████████████████████████████████████████| 5769/5769 [1:24:58<00:00,  1.13it/s]\n"
     ]
    }
   ],
   "source": [
    "i = 0\n",
    "print_every = 50\n",
    "predictions = []\n",
    "for question in tqdm(val_sample['question']):\n",
    "    retrieved_hash, reranked_hash_1, reranked_hash_2, reranked_hash_3, reranked_hash_4 = eval_ranking_4(question, cross_encoder_1, cross_encoder_2, cross_encoder_3, cross_encoder_4, top_k=3)\n",
    "    correct_hash = q_to_hash[question]\n",
    "    predictions.append((retrieved_hash == correct_hash, reranked_hash_1 == correct_hash, reranked_hash_2 == correct_hash, reranked_hash_3 == correct_hash, reranked_hash_4 == correct_hash))\n",
    "    i += 1\n",
    "    if i % print_every == 0:\n",
    "        print(f'Step {i}')\n",
    "        raw_accuracy = sum([p[0] for p in predictions])/len(predictions)\n",
    "        reranked_accuracy_1 = sum([p[1] for p in predictions])/len(predictions)\n",
    "        reranked_accuracy_2 = sum([p[2] for p in predictions])/len(predictions)\n",
    "        reranked_accuracy_3 = sum([p[3] for p in predictions])/len(predictions)\n",
    "        reranked_accuracy_4 = sum([p[4] for p in predictions])/len(predictions)\n",
    "\n",
    "        print(f'Accuracy without re-ranking                            : {raw_accuracy}')\n",
    "        print(f'Accuracy with re-ranking(mmarco-mMiniLMv2-L12-H384-v1) : {reranked_accuracy_1}')\n",
    "        print(f'Accuracy with re-ranking(klue-cross-encoder-v1)        : {reranked_accuracy_2}')\n",
    "        print(f'Accuracy with re-ranking(ms-marco-MiniLM-L-12-v2)      : {reranked_accuracy_3}')\n",
    "        print(f'Accuracy with re-ranking(ms-marco-MiniLM-L-12-v2 tuning): {reranked_accuracy_4}')\n"
   ]
  },
  {
   "cell_type": "code",
   "execution_count": 197,
   "id": "08702d88-f842-4e24-9c5b-c9b7cec6341c",
   "metadata": {},
   "outputs": [
    {
     "name": "stdout",
     "output_type": "stream",
     "text": [
      "text-embedding-3-large\n",
      "Accuracy without re-ranking                            : 0.8623678280464552\n",
      "Accuracy with re-ranking(mmarco-mMiniLMv2-L12-H384-v1) : 0.9245969838793552\n",
      "Accuracy with re-ranking(klue-cross-encoder-v1)        : 0.9166233315999307\n",
      "Accuracy with re-ranking(ms-marco-MiniLM-L-12-v2)      : 0.5260877101750737\n",
      "Accuracy with re-ranking(ms-marco-MiniLM-L-12-v2 tuning): 0.47737909516380655\n"
     ]
    }
   ],
   "source": [
    "raw_accuracy = sum([p[0] for p in predictions])/len(predictions)\n",
    "reranked_accuracy_1 = sum([p[1] for p in predictions])/len(predictions)\n",
    "reranked_accuracy_2 = sum([p[2] for p in predictions])/len(predictions)\n",
    "reranked_accuracy_3 = sum([p[3] for p in predictions])/len(predictions)\n",
    "reranked_accuracy_4 = sum([p[4] for p in predictions])/len(predictions)\n",
    "\n",
    "print('text-embedding-3-large')\n",
    "print(f'Accuracy without re-ranking                            : {raw_accuracy}')\n",
    "print(f'Accuracy with re-ranking(mmarco-mMiniLMv2-L12-H384-v1) : {reranked_accuracy_1}')\n",
    "print(f'Accuracy with re-ranking(klue-cross-encoder-v1)        : {reranked_accuracy_2}')\n",
    "print(f'Accuracy with re-ranking(ms-marco-MiniLM-L-12-v2)      : {reranked_accuracy_3}')\n",
    "print(f'Accuracy with re-ranking(ms-marco-MiniLM-L-12-v2 tuning): {reranked_accuracy_4}')"
   ]
  },
  {
   "cell_type": "markdown",
   "id": "2ed7512a-006f-4abe-bb8f-6354a8c28d1d",
   "metadata": {},
   "source": [
    "## 5.5 오픈소스 임베딩 한국어 성능 (multi-qa-mpnet-base-cos-v1)"
   ]
  },
  {
   "cell_type": "code",
   "execution_count": 198,
   "id": "c781220b-82e1-456a-997c-0404fc8c1da2",
   "metadata": {},
   "outputs": [],
   "source": [
    "from sentence_transformers import SentenceTransformer\n",
    "\n",
    "model = SentenceTransformer('sentence-transformers/multi-qa-mpnet-base-cos-v1')"
   ]
  },
  {
   "cell_type": "code",
   "execution_count": 199,
   "id": "16a95d4c-2f90-4ebe-beaf-368c1f5173e3",
   "metadata": {},
   "outputs": [],
   "source": [
    "validation_paragraphs = dataset_ko['validation'].remove_columns(['question', 'label'])\n",
    "train_paragraphs = dataset_ko['train'].remove_columns(['question', 'label'])\n",
    "test_paragraphs = dataset_ko['test'].remove_columns(['question', 'label'])\n",
    "combined_paragraphs = concatenate_datasets([validation_paragraphs, train_paragraphs, test_paragraphs])\n"
   ]
  },
  {
   "cell_type": "code",
   "execution_count": 200,
   "id": "84c52455-cbbd-4fe1-9e84-4d0d5dd635df",
   "metadata": {},
   "outputs": [
    {
     "data": {
      "application/vnd.jupyter.widget-view+json": {
       "model_id": "3b1f9f162ae94cf0a69555eaa2f67ff3",
       "version_major": 2,
       "version_minor": 0
      },
      "text/plain": [
       "Batches:   0%|          | 0/181 [00:00<?, ?it/s]"
      ]
     },
     "metadata": {},
     "output_type": "display_data"
    }
   ],
   "source": [
    "# 문서 임베딩\n",
    "# docs_ko = dataset_ko['validation']['paragraph']\n",
    "docs_ko = combined_paragraphs['paragraph']\n",
    "doc_ko_emb = model.encode(docs_ko, batch_size=32, show_progress_bar=True)"
   ]
  },
  {
   "cell_type": "code",
   "execution_count": 201,
   "id": "5957ad6a-b500-4e97-ac44-e2cc1e215180",
   "metadata": {},
   "outputs": [
    {
     "name": "stdout",
     "output_type": "stream",
     "text": [
      "봉룡은 숙정을 죽였는가?\n",
      "Query: 봉룡은 숙정을 죽였는가?\n",
      "Pinecone Result==> af810b9c9f9716f84c5592fcfec5d112\t0.53\t구한말, 통영 안뒤산 기슭 간창골에 김봉제 형제가 살았다. 김봉제는 관약국을 경영하며 부를\n",
      "Pinecone Result==> f348d9af9988690a984fca69f83f3b13\t0.46\t이후 이순신은 붙잡힌 임준영 대신, 준사의 도움으로 풀려난 수봉에게 전갈을 받고 왜군의 전\n",
      "Pinecone Result==> c52688fa9fe06e2699f18f2bf0feea29\t0.45\t숙종은 궁궐 근처에 살았던 길고양이를 불쌍히 여겨 자신의 궐로 데려와 금손이라는 이름을 붙\n",
      "Document ID (Hash)\t\tRetrieval Score\tCE Score\tText\n",
      "Reranked Result==> af810b9c9f9716f84c5592fcfec5d112\t0.53\t0.64\t구한말, 통영 안뒤산 기슭 간창골에 김봉제 형제가 살았다. 김봉제는 관약국을 경영하며 부를\n",
      "Reranked Result==> f348d9af9988690a984fca69f83f3b13\t0.46\t0.02\t이후 이순신은 붙잡힌 임준영 대신, 준사의 도움으로 풀려난 수봉에게 전갈을 받고 왜군의 전\n",
      "Reranked Result==> c52688fa9fe06e2699f18f2bf0feea29\t0.45\t0.02\t숙종은 궁궐 근처에 살았던 길고양이를 불쌍히 여겨 자신의 궐로 데려와 금손이라는 이름을 붙\n"
     ]
    }
   ],
   "source": [
    "from random import sample\n",
    "\n",
    "query = sample(dataset_ko['validation']['question'], 1)[0]\n",
    "print(query)\n",
    "final_results = get_results_from_pinecone(query, top_k=3, re_rank=True)"
   ]
  },
  {
   "cell_type": "code",
   "execution_count": 202,
   "id": "f9ef90ea-7087-4ae8-91a3-7321d7ab2486",
   "metadata": {
    "scrolled": true
   },
   "outputs": [
    {
     "name": "stdout",
     "output_type": "stream",
     "text": [
      "봉룡은 숙정을 죽였는가?\n",
      "0.782538890838623 슬링백은 여성화의 일종으로, 발목 뒤에서 끈이 가로질러 받쳐주는 신발류를 말한다. 앵클 스트랩은 발목을 끈이 완전히 감싸주지만, 슬링백은 뒤에서만 받쳐준다.\n",
      "0.7788514494895935 또한, 러시아에서는 스토브를 이용하여 집을 데우기도 한다. 러시아 스토브는 음식을 골고루 익힐 수 있어 음식의 질을 향상시킨다. 그러나 이는 이제 더 이상 사용되지 않고 있으며 시골 지역에서도 찾아볼 수 없다.\n",
      "0.7784056663513184 베어링은 축을 정확하고 매끄럽게 회전시키기 위해서 사용된다. 마찰에 의한 에너지 손실이나 발열을 줄여, 부품의 손상을 감소시킨다. 수송 기계부터 시작해서 각종 기계에 널리 사용되며, 회전하는 부분이 있는 기계장치에는 반드시 존재한다. \n",
      "0.776402473449707 슬(瑟)은 중국 고대 악기의 하나로 금과 더불어 아악에서 쓰이는 발현 악기이다. 한국에도 전래되어 사용되었다.\n",
      "0.7732049226760864 낙뢰(落雷) 또는 벼락은 번개와 천둥을 동반하는 급격한 방전현상이다. 일반적으로 강한 소나기를 내리며, 우박을 동반하는 경우도 있다. 낙뢰는 주로 적란운 안에서 발생한다.\n",
      "0.7711448073387146 베트남 요리는 기본적으로 지역에 따라서 세 가지로 분류될 수 있다. 북부 지방의 요리는 중부나 남부 지방에 비해서 준비가 간단하다. 프라이팬에 볶은 요리가 많고 간장을 많이 쓴다. 북부 지방의 요리는 중국의 영향을 많이 받았다. \n",
      "0.7707719802856445 서인 세력은 정원군의 장남 능양군을 받들어 ‘반정’을 단행하고 궁궐을 장악했다. 이들은 광해군을 인목왕후 앞으로 끌고 가 정죄한 뒤 유배시켰다. 인목왕후는 광해군과 폐세자에 대한 처형을 주장하였으나, 인조와 반정 세력은 반정의 명분인 폐모살제(廢母殺弟) 때문에 이를 받아들이지 않고 유배를 보내는 선에서 반정을 마무리 짓게 된다. 곧 반정군에게 이이첨, 정인홍, 김개시 등은 죽고, 40여 명의 관리가 구금된다.\n",
      "0.7694615125656128 북한산은 1억 7천만년전에 형성되었으며, 이곳은 최초 백제땅으로 지역명으로 한산, 산의 명칭으로 31년 이후 횡악(橫嶽)이라고 하였다. 고구려가 475년 백제로 부터 이곳을 정벌하여 지역명으로 '북한산주'라 칭하고 산명은 그대로 횡악으로 불렀다. \n",
      "0.7681810855865479 승관(본명: 부승관, 1998년 1월 16일 ~ )은 대한민국의 보이 그룹 세븐틴의 메인보컬을 맡고 있다. 본관은 제주이다.\n",
      "0.7670080661773682 바레인 국민들은 아랍식 샌드위치인 팔라펠을 미트볼과 빵, 양고기나 닭고기를 썰어 넣어 요리한다. 전통 과자는 삼부사가 있다.\n",
      "0.7659311294555664 노랑부리 뻐꾸기는 뻐꾸기이다. 미국 남부에서 이 새는 흔히 비 까마귀와 폭풍 까마귀로 불린다. 이는 더운 날에 종종 비나 뇌우를 미리 예방하는 새의 습성을 가리키는 것이라고 볼 수 있다.\n",
      "0.7659177780151367 음반업계에서 파욜라는 음반회사들이 방송 전에 알리지 않고 일반 방송의 일부로서 곡을 내보내는 불법 행위이다. 미국 법에 따르면 라디오 방송국은 돈을 받는 대가로 특정 곡을 틀 수 있지만, 이것은 광고 방송 시간이라고 방송에 공개되어야 하며, 그 노래가 \"정규적인 방송\"으로 간주되어서는 안 된다.\n",
      "0.7646627426147461 선장들은 결혼을 할 수 있다는 일반적인 믿음이 있어왔다. 비록 이것이 등록 국가에 따라 다르긴 하지만, 선장들은 미국에서 결혼을 하는 것이 허락되지 않았고, 허락된 적도 없다.\n",
      "0.761534571647644 인현왕후는 장희빈이 자신을 저주하여 죽이려 한다고 주장하기도 했다.『숙종실록』은 또 “숙빈 최씨가 임금에게 몰래 장씨의 저주를 고했다”고 기록하고 있다. 숙종은 장씨의 오빠 장희재와 장씨의 친신 궁녀 영숙을 처형시킴으로써 저주설에 손을 들어주었다. 인현왕후가 34세의 나이로 죽고, 희빈 장씨가 자신을 질투하고 괴롭힌다며 숙빈 최씨가 호소하자 숙종은 장희빈을 사사시키기로 한다.\n",
      "0.7578440308570862 도르래는 두레박·기중기 등에 쓰이며 고정 도르래와 움직 도르래가 있다. 고정 도르래는 고정된 축에 홈이 파인 바퀴가 달려 있는 것으로, 바퀴에 걸린 줄에 짐을 묶고 줄의 다른쪽 끝을 잡아당기면 쉽게 들어올릴 수 있다. 힘을 줄여 주는 것과 같은 기계적 이득은 없지만 방향을 바꿀 수는 있다. \n",
      "0.7577729821205139 박(拍)은 나무조각 6개를 엮어서 만든 타악기이나, 음악 연주보다는 음악의 시작과 끝을 알리는 데 사용된다. 궁중음악에서 시작할 때 한 번, 끝날 때 세 번 쳐서 시작과 끝을 알린다. 박을 잡은 사람은 서양 음악의 지휘자와 같은 역할을 한다. 증보문헌비고에 의한 악기 분류법 중 목부에 속한다.\n",
      "0.7557810544967651 대부분의 태양플레어는 밀집된 자기장이 태양 표면으로부터 코로나로 빠져나오는 곳인 태양흑점 주변에서 일어난다. 태양플레어의 에너지는 수 시간 혹은 여러 날에 걸쳐서 형성되지만, 수 분 정도의 짧은 시간에 방출된다.\n",
      "0.7552608251571655 우박은 주로 강한 상승기류를 타고 적운이나 적란운에서 발생하며 천둥번개를 동반한 비(뇌우)를 동반하기도 한다. 처음에는 눈의 결정 형태로 떨어지다가 과냉각된 구름 알갱이가 충돌하여 얼어붙고, 점차 커지면서 낙하속도가 증가하여 지상에 이르게 된다. \n",
      "0.7542865872383118 장연수 (배우: 이하늬) 마약반의 홍일점. 현장을 뛰어다니다 보니 껄렁함이 온몸에 베였으며 거기에 걸맞게 무에타이 동양 챔피언 출신이라 후반부 때로 덤벼드는 이무배의 조직원들의 공격을 순식간에 피해버린 다음 그들을 때려잡는다. 같이 다니는 마봉팔 형사를 '얼굴밖에 볼게 없는 녀석'이라고 말한다.\n",
      "0.753721296787262 폐비 윤씨는 성종에게 다소 불경한 말과 원망 섞인 말을 하였는데, 성종을 볼 때 낯빛을 바꾸고 '발자취를 없애 버리겠다' 라는 말을 하였으며, 아이를 낳지 못하게 하거나 반신불수로 만드는 비법을 적은 책을 상자속에 숨겨두었다가 대비에게 발각되었다. 또한 독약인 비상을 묻힌 곶감을 가지고 있다가 들켰으며, 나무패의 말뚝을 박는 등의 주술행위를 저질렀다.\n",
      "0.7520109415054321 와라지(일본어: 草鞋)는 일본의 전통 짚신이다. 조리와 혼동되기 쉽지만 모양이 약간 다르다. 와라지는 발목을 둘러 묶는 형태이기 때문에 조리보다 발에 밀착되어, 산행이나 장거리 보행에 알맞아 예전에는 여행의 필수품이었다. 전통적으로, 발가락이 약간 튀어나오게 신는다. 현재는 대체로 승려들이 신는다. 와라지와 비슷한 형태의 백제시대 짚신이 1995년 부여군 궁남지에서 발견되었다.\n",
      "0.7514792680740356 적어도 말레이 반도 주변의 인도네시아 지방을 보면 향신료나 독특한 특질은 인도의 영향을 받았다고 할 수 있다. 이러한 영향은 중동, 중국을 포함하여 최종적으로는 유럽까지 간다. 스페인과 포르투갈의 교역자들이 신세계의 향신료를 유럽에 가져가는 일을 하였으며 때문에 말루쿠 섬은 \"향신료의 섬\"이라는 별칭을 얻었다.\n",
      "0.7502756714820862 우편물에는 반송 주소가 필수적이진 않다. 그러나 반송 주소가 없으면 우편 서비스가 배송 불가로 판명될 경우(예: 파손, 우편 요금 납부, 도착지 미비 등) 반송할 수 없다. 그렇다면 배달 불가 우편이 된다.\n",
      "0.7501845955848694 자기주식(自己株式)이란 특정 기업이 자신의 주식을 취득하는 것을 뜻하며, 보통 공개 시장에 있는 유통 주식의 양을 조절하기 위한 목적으로 이용된다. 또한 주주로부터 자사주를 취득하는 자사주재매입 또한 효율적인 세무를 위한 자기주식의 한 방법으로 인식되며, 주로 배당금을 기업에 유리한 방향으로 사용하기 위해 이용된다.\n",
      "0.7492918968200684 파스란 의약품의 일종으로 약물 성분을 환부나 피부에 바로 접하게 하여 흡수시키는 원리이다. 약품이나 약물을 환부나 피부에 접하게 한 뒤 옷감이나 헝겊 그밖의 다른 것으로 감싼 뒤 묶던 방법에서 유래되었을 것으로 추정되지만 정확한 유래는 알 수 없다.\n",
      "0.7488709092140198 기면증은 일상 생활 중 발작적으로 졸음에 빠져드는 신경계 질환이자 수면장애이다. 최근 원인이 일부 밝혀져서 기면병이라고도 한다.\n",
      "0.7488447427749634 근로기준법에서 말하는 근로자는 근로관계를 전제하고 있는 것이므로 현실적으로 타인에 의하여 결정되는 근로를 제공하지 않는 자는 근로자라 할 수 없다. 왜냐하면 근로관계가 없는 근로자는 근로기준법의 적용대상이 될 수 없기 때문이다.\n",
      "0.747974693775177 종점은 비색 적정법에서 표시기가 색상을 변경하는 지점을 가리킨다. 종점은 당량점과 관련이 있지만 당량점과 동일하지는 않다.\n",
      "0.7475435733795166 딸아이가 없어졌다는걸 알게된 덕수의 아버지 진규는 덕수에게 장남답게 가족들 잘 챙기라는 말을 남겼고 만약 흩어지게 되면 부산에 있는 '꽃분이네'라는 가게에서 만나기로 하고 없어진 딸아이를 찾기위해 다시 밑으로 내려갔다. 순간, 멈춰있던 배는 출발해 버렸고 덕수는 아버지와 여동생과 생이별을 하게된다. \n",
      "0.7470870614051819 하오리(일본어: 羽織)는 나가기 위에 입는 골반이나 넓적다리까지 내려오는 일본의 전통 겉옷이다. 하오리는 유카타처럼 깃을 여미지 않으며, 깃이 열린 상태로 입거나 끈으로 깃을 연결하여 입는다. 남성과 여성 모두 입을 수 있으나, 여성은 정장으로 입을 수 없다.\n"
     ]
    }
   ],
   "source": [
    "from sentence_transformers import util\n",
    "query_emb = model.encode(query)\n",
    "print(query)\n",
    "\n",
    "#쿼리와 모든 문서 임베딩 사이의 도트 점수를 계산합니다.\n",
    "scores = util.dot_score(query_emb, doc_ko_emb)[0].cpu().tolist()\n",
    "\n",
    "#문서와 점수 결합\n",
    "doc_score_pairs = list(zip(docs_ko, scores))\n",
    "\n",
    "#점수에 따른 내림차순 정렬\n",
    "doc_score_pairs = sorted(doc_score_pairs, key=lambda x: x[1], reverse=True)\n",
    "\n",
    "#구절 및 점수 출력\n",
    "for doc, score in doc_score_pairs[:30]:\n",
    "    print(score, doc)"
   ]
  },
  {
   "cell_type": "code",
   "execution_count": 203,
   "id": "1632c2bb-7f17-4a77-bba7-b1ffddbde231",
   "metadata": {},
   "outputs": [],
   "source": [
    "logger.setLevel(logging.CRITICAL)  # 일부 로그만 출력\n",
    "\n",
    "def eval_ranking_4_open_source(query, cross_encoder_1, cross_encoder_2, cross_encoder_3, cross_encoder_4, top_k=3):\n",
    "    query_emb = model.encode(query)\n",
    "\n",
    "    #쿼리와 모든 문서 임베딩 사이의 도트 점수를 계산합니다.\n",
    "    scores = util.dot_score(query_emb, doc_ko_emb)[0].cpu().tolist()\n",
    "\n",
    "    #문서와 점수 결합\n",
    "    doc_score_pairs = list(zip(docs_ko, scores))\n",
    "\n",
    "    #점수에 따른 내림차순 정렬\n",
    "    doc_score_pairs = sorted(doc_score_pairs, key=lambda x: x[1], reverse=True)[:top_k]\n",
    "\n",
    "    retrieved_hash = my_hash(doc_score_pairs[0][0])\n",
    "    sentence_combinations = [[query, doc_score_pair[0]] for doc_score_pair in doc_score_pairs]\n",
    "\n",
    "    similarity_scores_1 = cross_encoder_1.predict(sentence_combinations)\n",
    "    sim_scores_argsort_1 = list(reversed(np.argsort(similarity_scores_1)))\n",
    "    reranked_hash_1 = my_hash(doc_score_pairs[sim_scores_argsort_1[0]][0])\n",
    "\n",
    "    similarity_scores_2 = cross_encoder_2.predict(sentence_combinations)\n",
    "    sim_scores_argsort_2 = list(reversed(np.argsort(similarity_scores_2)))\n",
    "    reranked_hash_2 = my_hash(doc_score_pairs[sim_scores_argsort_2[0]][0])\n",
    "\n",
    "    similarity_scores_3 = cross_encoder_3.predict(sentence_combinations)\n",
    "    sim_scores_argsort_3 = list(reversed(np.argsort(similarity_scores_3)))\n",
    "    reranked_hash_3 = my_hash(doc_score_pairs[sim_scores_argsort_3[0]][0])\n",
    "\n",
    "    similarity_scores_4 = cross_encoder_4.predict(sentence_combinations)\n",
    "    sim_scores_argsort_4 = list(reversed(np.argsort(similarity_scores_4)))\n",
    "    reranked_hash_4 = my_hash(doc_score_pairs[sim_scores_argsort_4[0]][0])\n",
    "\n",
    "    return retrieved_hash, reranked_hash_1, reranked_hash_2, reranked_hash_3, reranked_hash_4\n"
   ]
  },
  {
   "cell_type": "code",
   "execution_count": null,
   "id": "88936c83-270a-4c3a-9ff2-1e2d6113d23d",
   "metadata": {
    "scrolled": true
   },
   "outputs": [
    {
     "name": "stderr",
     "output_type": "stream",
     "text": [
      "  1%|▋                                                                       | 51/5769 [02:18<3:17:13,  2.07s/it]"
     ]
    },
    {
     "name": "stdout",
     "output_type": "stream",
     "text": [
      "Step 50\n",
      "Accuracy without re-ranking                            : 0.04\n",
      "Accuracy with re-ranking(mmarco-mMiniLMv2-L12-H384-v1) : 0.1\n",
      "Accuracy with re-ranking(klue-cross-encoder-v1)        : 0.1\n",
      "Accuracy with re-ranking(ms-marco-MiniLM-L-12-v2)      : 0.08\n",
      "Accuracy with re-ranking(ms-marco-MiniLM-L-12-v2 tuning): 0.06\n"
     ]
    },
    {
     "name": "stderr",
     "output_type": "stream",
     "text": [
      "  2%|█▏                                                                     | 101/5769 [03:27<1:25:25,  1.11it/s]"
     ]
    },
    {
     "name": "stdout",
     "output_type": "stream",
     "text": [
      "Step 100\n",
      "Accuracy without re-ranking                            : 0.05\n",
      "Accuracy with re-ranking(mmarco-mMiniLMv2-L12-H384-v1) : 0.1\n",
      "Accuracy with re-ranking(klue-cross-encoder-v1)        : 0.1\n",
      "Accuracy with re-ranking(ms-marco-MiniLM-L-12-v2)      : 0.08\n",
      "Accuracy with re-ranking(ms-marco-MiniLM-L-12-v2 tuning): 0.05\n"
     ]
    },
    {
     "name": "stderr",
     "output_type": "stream",
     "text": [
      "  3%|█▉                                                                       | 150/5769 [03:46<25:06,  3.73it/s]"
     ]
    },
    {
     "name": "stdout",
     "output_type": "stream",
     "text": [
      "Step 150\n",
      "Accuracy without re-ranking                            : 0.06\n",
      "Accuracy with re-ranking(mmarco-mMiniLMv2-L12-H384-v1) : 0.1\n",
      "Accuracy with re-ranking(klue-cross-encoder-v1)        : 0.1\n",
      "Accuracy with re-ranking(ms-marco-MiniLM-L-12-v2)      : 0.08666666666666667\n",
      "Accuracy with re-ranking(ms-marco-MiniLM-L-12-v2 tuning): 0.05333333333333334\n"
     ]
    },
    {
     "name": "stderr",
     "output_type": "stream",
     "text": [
      "  3%|██▌                                                                      | 201/5769 [04:08<11:58,  7.75it/s]"
     ]
    },
    {
     "name": "stdout",
     "output_type": "stream",
     "text": [
      "Step 200\n",
      "Accuracy without re-ranking                            : 0.05\n",
      "Accuracy with re-ranking(mmarco-mMiniLMv2-L12-H384-v1) : 0.08\n",
      "Accuracy with re-ranking(klue-cross-encoder-v1)        : 0.08\n",
      "Accuracy with re-ranking(ms-marco-MiniLM-L-12-v2)      : 0.065\n",
      "Accuracy with re-ranking(ms-marco-MiniLM-L-12-v2 tuning): 0.04\n"
     ]
    },
    {
     "name": "stderr",
     "output_type": "stream",
     "text": [
      "  4%|███▏                                                                     | 251/5769 [04:27<12:09,  7.56it/s]"
     ]
    },
    {
     "name": "stdout",
     "output_type": "stream",
     "text": [
      "Step 250\n",
      "Accuracy without re-ranking                            : 0.052\n",
      "Accuracy with re-ranking(mmarco-mMiniLMv2-L12-H384-v1) : 0.084\n",
      "Accuracy with re-ranking(klue-cross-encoder-v1)        : 0.084\n",
      "Accuracy with re-ranking(ms-marco-MiniLM-L-12-v2)      : 0.064\n",
      "Accuracy with re-ranking(ms-marco-MiniLM-L-12-v2 tuning): 0.048\n"
     ]
    },
    {
     "name": "stderr",
     "output_type": "stream",
     "text": [
      "  5%|███▊                                                                     | 301/5769 [04:44<15:38,  5.83it/s]"
     ]
    },
    {
     "name": "stdout",
     "output_type": "stream",
     "text": [
      "Step 300\n",
      "Accuracy without re-ranking                            : 0.05333333333333334\n",
      "Accuracy with re-ranking(mmarco-mMiniLMv2-L12-H384-v1) : 0.09666666666666666\n",
      "Accuracy with re-ranking(klue-cross-encoder-v1)        : 0.09666666666666666\n",
      "Accuracy with re-ranking(ms-marco-MiniLM-L-12-v2)      : 0.07\n",
      "Accuracy with re-ranking(ms-marco-MiniLM-L-12-v2 tuning): 0.05\n"
     ]
    },
    {
     "name": "stderr",
     "output_type": "stream",
     "text": [
      "  6%|████▍                                                                    | 351/5769 [04:56<10:03,  8.97it/s]"
     ]
    },
    {
     "name": "stdout",
     "output_type": "stream",
     "text": [
      "Step 350\n",
      "Accuracy without re-ranking                            : 0.054285714285714284\n",
      "Accuracy with re-ranking(mmarco-mMiniLMv2-L12-H384-v1) : 0.1\n",
      "Accuracy with re-ranking(klue-cross-encoder-v1)        : 0.1\n",
      "Accuracy with re-ranking(ms-marco-MiniLM-L-12-v2)      : 0.06857142857142857\n",
      "Accuracy with re-ranking(ms-marco-MiniLM-L-12-v2 tuning): 0.05142857142857143\n"
     ]
    },
    {
     "name": "stderr",
     "output_type": "stream",
     "text": [
      "  7%|█████                                                                    | 399/5769 [05:07<09:16,  9.65it/s]"
     ]
    },
    {
     "name": "stdout",
     "output_type": "stream",
     "text": [
      "Step 400\n",
      "Accuracy without re-ranking                            : 0.0525\n",
      "Accuracy with re-ranking(mmarco-mMiniLMv2-L12-H384-v1) : 0.095\n",
      "Accuracy with re-ranking(klue-cross-encoder-v1)        : 0.095\n",
      "Accuracy with re-ranking(ms-marco-MiniLM-L-12-v2)      : 0.065\n",
      "Accuracy with re-ranking(ms-marco-MiniLM-L-12-v2 tuning): 0.05\n"
     ]
    },
    {
     "name": "stderr",
     "output_type": "stream",
     "text": [
      "  8%|█████▋                                                                   | 450/5769 [05:16<09:35,  9.23it/s]"
     ]
    },
    {
     "name": "stdout",
     "output_type": "stream",
     "text": [
      "Step 450\n",
      "Accuracy without re-ranking                            : 0.05333333333333334\n",
      "Accuracy with re-ranking(mmarco-mMiniLMv2-L12-H384-v1) : 0.09111111111111111\n",
      "Accuracy with re-ranking(klue-cross-encoder-v1)        : 0.09111111111111111\n",
      "Accuracy with re-ranking(ms-marco-MiniLM-L-12-v2)      : 0.06444444444444444\n",
      "Accuracy with re-ranking(ms-marco-MiniLM-L-12-v2 tuning): 0.04888888888888889\n"
     ]
    },
    {
     "name": "stderr",
     "output_type": "stream",
     "text": [
      "  9%|██████▎                                                                  | 501/5769 [05:34<14:26,  6.08it/s]"
     ]
    },
    {
     "name": "stdout",
     "output_type": "stream",
     "text": [
      "Step 500\n",
      "Accuracy without re-ranking                            : 0.054\n",
      "Accuracy with re-ranking(mmarco-mMiniLMv2-L12-H384-v1) : 0.088\n",
      "Accuracy with re-ranking(klue-cross-encoder-v1)        : 0.088\n",
      "Accuracy with re-ranking(ms-marco-MiniLM-L-12-v2)      : 0.062\n",
      "Accuracy with re-ranking(ms-marco-MiniLM-L-12-v2 tuning): 0.048\n"
     ]
    },
    {
     "name": "stderr",
     "output_type": "stream",
     "text": [
      " 10%|██████▉                                                                  | 551/5769 [05:52<19:27,  4.47it/s]"
     ]
    },
    {
     "name": "stdout",
     "output_type": "stream",
     "text": [
      "Step 550\n",
      "Accuracy without re-ranking                            : 0.05090909090909091\n",
      "Accuracy with re-ranking(mmarco-mMiniLMv2-L12-H384-v1) : 0.0890909090909091\n",
      "Accuracy with re-ranking(klue-cross-encoder-v1)        : 0.08727272727272728\n",
      "Accuracy with re-ranking(ms-marco-MiniLM-L-12-v2)      : 0.06\n",
      "Accuracy with re-ranking(ms-marco-MiniLM-L-12-v2 tuning): 0.04727272727272727\n"
     ]
    },
    {
     "name": "stderr",
     "output_type": "stream",
     "text": [
      " 10%|███████▌                                                                 | 601/5769 [06:04<12:17,  7.01it/s]"
     ]
    },
    {
     "name": "stdout",
     "output_type": "stream",
     "text": [
      "Step 600\n",
      "Accuracy without re-ranking                            : 0.05\n",
      "Accuracy with re-ranking(mmarco-mMiniLMv2-L12-H384-v1) : 0.08833333333333333\n",
      "Accuracy with re-ranking(klue-cross-encoder-v1)        : 0.08666666666666667\n",
      "Accuracy with re-ranking(ms-marco-MiniLM-L-12-v2)      : 0.06166666666666667\n",
      "Accuracy with re-ranking(ms-marco-MiniLM-L-12-v2 tuning): 0.05\n"
     ]
    },
    {
     "name": "stderr",
     "output_type": "stream",
     "text": [
      " 11%|████████▏                                                                | 651/5769 [06:18<12:05,  7.06it/s]"
     ]
    },
    {
     "name": "stdout",
     "output_type": "stream",
     "text": [
      "Step 650\n",
      "Accuracy without re-ranking                            : 0.047692307692307694\n",
      "Accuracy with re-ranking(mmarco-mMiniLMv2-L12-H384-v1) : 0.08307692307692308\n",
      "Accuracy with re-ranking(klue-cross-encoder-v1)        : 0.08153846153846153\n",
      "Accuracy with re-ranking(ms-marco-MiniLM-L-12-v2)      : 0.05692307692307692\n",
      "Accuracy with re-ranking(ms-marco-MiniLM-L-12-v2 tuning): 0.046153846153846156\n"
     ]
    },
    {
     "name": "stderr",
     "output_type": "stream",
     "text": [
      " 12%|████████▊                                                                | 701/5769 [06:29<20:33,  4.11it/s]"
     ]
    },
    {
     "name": "stdout",
     "output_type": "stream",
     "text": [
      "Step 700\n",
      "Accuracy without re-ranking                            : 0.04857142857142857\n",
      "Accuracy with re-ranking(mmarco-mMiniLMv2-L12-H384-v1) : 0.08285714285714285\n",
      "Accuracy with re-ranking(klue-cross-encoder-v1)        : 0.08142857142857143\n",
      "Accuracy with re-ranking(ms-marco-MiniLM-L-12-v2)      : 0.055714285714285716\n",
      "Accuracy with re-ranking(ms-marco-MiniLM-L-12-v2 tuning): 0.047142857142857146\n"
     ]
    },
    {
     "name": "stderr",
     "output_type": "stream",
     "text": [
      " 13%|█████████▍                                                               | 750/5769 [06:38<10:33,  7.92it/s]"
     ]
    },
    {
     "name": "stdout",
     "output_type": "stream",
     "text": [
      "Step 750\n",
      "Accuracy without re-ranking                            : 0.048\n",
      "Accuracy with re-ranking(mmarco-mMiniLMv2-L12-H384-v1) : 0.084\n",
      "Accuracy with re-ranking(klue-cross-encoder-v1)        : 0.08266666666666667\n",
      "Accuracy with re-ranking(ms-marco-MiniLM-L-12-v2)      : 0.05466666666666667\n",
      "Accuracy with re-ranking(ms-marco-MiniLM-L-12-v2 tuning): 0.04666666666666667\n"
     ]
    },
    {
     "name": "stderr",
     "output_type": "stream",
     "text": [
      " 14%|██████████▏                                                              | 801/5769 [06:49<09:57,  8.32it/s]"
     ]
    },
    {
     "name": "stdout",
     "output_type": "stream",
     "text": [
      "Step 800\n",
      "Accuracy without re-ranking                            : 0.0475\n",
      "Accuracy with re-ranking(mmarco-mMiniLMv2-L12-H384-v1) : 0.08375\n",
      "Accuracy with re-ranking(klue-cross-encoder-v1)        : 0.0825\n",
      "Accuracy with re-ranking(ms-marco-MiniLM-L-12-v2)      : 0.055\n",
      "Accuracy with re-ranking(ms-marco-MiniLM-L-12-v2 tuning): 0.04625\n"
     ]
    },
    {
     "name": "stderr",
     "output_type": "stream",
     "text": [
      " 15%|██████████▊                                                              | 851/5769 [06:55<09:33,  8.58it/s]"
     ]
    },
    {
     "name": "stdout",
     "output_type": "stream",
     "text": [
      "Step 850\n",
      "Accuracy without re-ranking                            : 0.04941176470588235\n",
      "Accuracy with re-ranking(mmarco-mMiniLMv2-L12-H384-v1) : 0.08470588235294117\n",
      "Accuracy with re-ranking(klue-cross-encoder-v1)        : 0.08352941176470588\n",
      "Accuracy with re-ranking(ms-marco-MiniLM-L-12-v2)      : 0.05764705882352941\n",
      "Accuracy with re-ranking(ms-marco-MiniLM-L-12-v2 tuning): 0.04941176470588235\n"
     ]
    },
    {
     "name": "stderr",
     "output_type": "stream",
     "text": [
      " 16%|███████████▍                                                             | 901/5769 [07:01<08:31,  9.51it/s]"
     ]
    },
    {
     "name": "stdout",
     "output_type": "stream",
     "text": [
      "Step 900\n",
      "Accuracy without re-ranking                            : 0.04888888888888889\n",
      "Accuracy with re-ranking(mmarco-mMiniLMv2-L12-H384-v1) : 0.08444444444444445\n",
      "Accuracy with re-ranking(klue-cross-encoder-v1)        : 0.08333333333333333\n",
      "Accuracy with re-ranking(ms-marco-MiniLM-L-12-v2)      : 0.058888888888888886\n",
      "Accuracy with re-ranking(ms-marco-MiniLM-L-12-v2 tuning): 0.05\n"
     ]
    },
    {
     "name": "stderr",
     "output_type": "stream",
     "text": [
      " 16%|████████████                                                             | 951/5769 [07:12<13:50,  5.80it/s]"
     ]
    },
    {
     "name": "stdout",
     "output_type": "stream",
     "text": [
      "Step 950\n",
      "Accuracy without re-ranking                            : 0.049473684210526316\n",
      "Accuracy with re-ranking(mmarco-mMiniLMv2-L12-H384-v1) : 0.08526315789473685\n",
      "Accuracy with re-ranking(klue-cross-encoder-v1)        : 0.08421052631578947\n",
      "Accuracy with re-ranking(ms-marco-MiniLM-L-12-v2)      : 0.06\n",
      "Accuracy with re-ranking(ms-marco-MiniLM-L-12-v2 tuning): 0.05157894736842105\n"
     ]
    },
    {
     "name": "stderr",
     "output_type": "stream",
     "text": [
      " 17%|████████████▍                                                           | 1001/5769 [07:19<10:04,  7.89it/s]"
     ]
    },
    {
     "name": "stdout",
     "output_type": "stream",
     "text": [
      "Step 1000\n",
      "Accuracy without re-ranking                            : 0.051\n",
      "Accuracy with re-ranking(mmarco-mMiniLMv2-L12-H384-v1) : 0.085\n",
      "Accuracy with re-ranking(klue-cross-encoder-v1)        : 0.084\n",
      "Accuracy with re-ranking(ms-marco-MiniLM-L-12-v2)      : 0.06\n",
      "Accuracy with re-ranking(ms-marco-MiniLM-L-12-v2 tuning): 0.051\n"
     ]
    },
    {
     "name": "stderr",
     "output_type": "stream",
     "text": [
      " 18%|█████████████                                                           | 1051/5769 [07:25<12:32,  6.27it/s]"
     ]
    },
    {
     "name": "stdout",
     "output_type": "stream",
     "text": [
      "Step 1050\n",
      "Accuracy without re-ranking                            : 0.04857142857142857\n",
      "Accuracy with re-ranking(mmarco-mMiniLMv2-L12-H384-v1) : 0.08095238095238096\n",
      "Accuracy with re-ranking(klue-cross-encoder-v1)        : 0.08\n",
      "Accuracy with re-ranking(ms-marco-MiniLM-L-12-v2)      : 0.05714285714285714\n",
      "Accuracy with re-ranking(ms-marco-MiniLM-L-12-v2 tuning): 0.04857142857142857\n"
     ]
    },
    {
     "name": "stderr",
     "output_type": "stream",
     "text": [
      " 19%|█████████████▋                                                          | 1101/5769 [07:36<08:46,  8.86it/s]"
     ]
    },
    {
     "name": "stdout",
     "output_type": "stream",
     "text": [
      "Step 1100\n",
      "Accuracy without re-ranking                            : 0.05\n",
      "Accuracy with re-ranking(mmarco-mMiniLMv2-L12-H384-v1) : 0.08181818181818182\n",
      "Accuracy with re-ranking(klue-cross-encoder-v1)        : 0.0809090909090909\n",
      "Accuracy with re-ranking(ms-marco-MiniLM-L-12-v2)      : 0.05909090909090909\n",
      "Accuracy with re-ranking(ms-marco-MiniLM-L-12-v2 tuning): 0.05090909090909091\n"
     ]
    },
    {
     "name": "stderr",
     "output_type": "stream",
     "text": [
      " 20%|██████████████▎                                                         | 1151/5769 [07:42<08:08,  9.46it/s]"
     ]
    },
    {
     "name": "stdout",
     "output_type": "stream",
     "text": [
      "Step 1150\n",
      "Accuracy without re-ranking                            : 0.04869565217391304\n",
      "Accuracy with re-ranking(mmarco-mMiniLMv2-L12-H384-v1) : 0.0808695652173913\n",
      "Accuracy with re-ranking(klue-cross-encoder-v1)        : 0.08\n",
      "Accuracy with re-ranking(ms-marco-MiniLM-L-12-v2)      : 0.057391304347826085\n",
      "Accuracy with re-ranking(ms-marco-MiniLM-L-12-v2 tuning): 0.04869565217391304\n"
     ]
    },
    {
     "name": "stderr",
     "output_type": "stream",
     "text": [
      " 21%|██████████████▉                                                         | 1201/5769 [07:54<08:49,  8.63it/s]"
     ]
    },
    {
     "name": "stdout",
     "output_type": "stream",
     "text": [
      "Step 1200\n",
      "Accuracy without re-ranking                            : 0.04833333333333333\n",
      "Accuracy with re-ranking(mmarco-mMiniLMv2-L12-H384-v1) : 0.08083333333333333\n",
      "Accuracy with re-ranking(klue-cross-encoder-v1)        : 0.08\n",
      "Accuracy with re-ranking(ms-marco-MiniLM-L-12-v2)      : 0.056666666666666664\n",
      "Accuracy with re-ranking(ms-marco-MiniLM-L-12-v2 tuning): 0.049166666666666664\n"
     ]
    },
    {
     "name": "stderr",
     "output_type": "stream",
     "text": [
      " 22%|███████████████▌                                                        | 1250/5769 [08:16<57:14,  1.32it/s]"
     ]
    },
    {
     "name": "stdout",
     "output_type": "stream",
     "text": [
      "Step 1250\n",
      "Accuracy without re-ranking                            : 0.0472\n",
      "Accuracy with re-ranking(mmarco-mMiniLMv2-L12-H384-v1) : 0.0808\n",
      "Accuracy with re-ranking(klue-cross-encoder-v1)        : 0.08\n",
      "Accuracy with re-ranking(ms-marco-MiniLM-L-12-v2)      : 0.0568\n",
      "Accuracy with re-ranking(ms-marco-MiniLM-L-12-v2 tuning): 0.0504\n"
     ]
    },
    {
     "name": "stderr",
     "output_type": "stream",
     "text": [
      " 23%|████████████████▏                                                       | 1301/5769 [08:24<11:22,  6.55it/s]"
     ]
    },
    {
     "name": "stdout",
     "output_type": "stream",
     "text": [
      "Step 1300\n",
      "Accuracy without re-ranking                            : 0.047692307692307694\n",
      "Accuracy with re-ranking(mmarco-mMiniLMv2-L12-H384-v1) : 0.08\n",
      "Accuracy with re-ranking(klue-cross-encoder-v1)        : 0.07923076923076923\n",
      "Accuracy with re-ranking(ms-marco-MiniLM-L-12-v2)      : 0.05615384615384615\n",
      "Accuracy with re-ranking(ms-marco-MiniLM-L-12-v2 tuning): 0.05\n"
     ]
    },
    {
     "name": "stderr",
     "output_type": "stream",
     "text": [
      " 23%|████████████████▊                                                       | 1351/5769 [08:33<16:20,  4.51it/s]"
     ]
    },
    {
     "name": "stdout",
     "output_type": "stream",
     "text": [
      "Step 1350\n",
      "Accuracy without re-ranking                            : 0.047407407407407405\n",
      "Accuracy with re-ranking(mmarco-mMiniLMv2-L12-H384-v1) : 0.07925925925925927\n",
      "Accuracy with re-ranking(klue-cross-encoder-v1)        : 0.07851851851851852\n",
      "Accuracy with re-ranking(ms-marco-MiniLM-L-12-v2)      : 0.056296296296296296\n",
      "Accuracy with re-ranking(ms-marco-MiniLM-L-12-v2 tuning): 0.05037037037037037\n"
     ]
    },
    {
     "name": "stderr",
     "output_type": "stream",
     "text": [
      " 24%|█████████████████▏                                                      | 1375/5769 [08:37<16:29,  4.44it/s]"
     ]
    }
   ],
   "source": [
    "logger.setLevel(logging.CRITICAL)\n",
    "\n",
    "i = 0\n",
    "print_every = 50\n",
    "predictions = []\n",
    "for question in tqdm(val_sample['question']):\n",
    "    retrieved_hash, reranked_hash_1, reranked_hash_2, reranked_hash_3, reranked_hash_4 = eval_ranking_4_open_source(question, cross_encoder_1, cross_encoder_2, cross_encoder_3, cross_encoder_4, top_k=3)\n",
    "    correct_hash = q_to_hash[question]\n",
    "    predictions.append((retrieved_hash == correct_hash, reranked_hash_1 == correct_hash, reranked_hash_2 == correct_hash, reranked_hash_3 == correct_hash, reranked_hash_4 == correct_hash))\n",
    "    i += 1\n",
    "    if i % print_every == 0:\n",
    "        print(f'Step {i}')\n",
    "        raw_accuracy = sum([p[0] for p in predictions])/len(predictions)\n",
    "        reranked_accuracy_1 = sum([p[1] for p in predictions])/len(predictions)\n",
    "        reranked_accuracy_2 = sum([p[2] for p in predictions])/len(predictions)\n",
    "        reranked_accuracy_3 = sum([p[3] for p in predictions])/len(predictions)\n",
    "        reranked_accuracy_4 = sum([p[4] for p in predictions])/len(predictions)\n",
    "\n",
    "        print(f'Accuracy without re-ranking                            : {raw_accuracy}')\n",
    "        print(f'Accuracy with re-ranking(mmarco-mMiniLMv2-L12-H384-v1) : {reranked_accuracy_1}')\n",
    "        print(f'Accuracy with re-ranking(klue-cross-encoder-v1)        : {reranked_accuracy_2}')\n",
    "        print(f'Accuracy with re-ranking(ms-marco-MiniLM-L-12-v2)      : {reranked_accuracy_3}')\n",
    "        print(f'Accuracy with re-ranking(ms-marco-MiniLM-L-12-v2 tuning): {reranked_accuracy_4}')\n"
   ]
  },
  {
   "cell_type": "code",
   "execution_count": null,
   "id": "fdc02d7e-bca2-43dc-ad46-8e0b8d32bfb9",
   "metadata": {},
   "outputs": [],
   "source": [
    "raw_accuracy = sum([p[0] for p in predictions])/len(predictions)\n",
    "reranked_accuracy_1 = sum([p[1] for p in predictions])/len(predictions)\n",
    "reranked_accuracy_2 = sum([p[2] for p in predictions])/len(predictions)\n",
    "reranked_accuracy_3 = sum([p[3] for p in predictions])/len(predictions)\n",
    "reranked_accuracy_4 = sum([p[4] for p in predictions])/len(predictions)\n",
    "\n",
    "print('Opensource embedding model(sentence-transformers/multi-qa-mpnet-base-cos-v1)')\n",
    "print(f'Accuracy without re-ranking                            : {raw_accuracy}')\n",
    "print(f'Accuracy with re-ranking(mmarco-mMiniLMv2-L12-H384-v1) : {reranked_accuracy_1}')\n",
    "print(f'Accuracy with re-ranking(klue-cross-encoder-v1)        : {reranked_accuracy_2}')\n",
    "print(f'Accuracy with re-ranking(ms-marco-MiniLM-L-12-v2)      : {reranked_accuracy_3}')\n",
    "print(f'Accuracy with re-ranking(ms-marco-MiniLM-L-12-v2 tuning): {reranked_accuracy_4}')"
   ]
  },
  {
   "cell_type": "markdown",
   "id": "906dac63-df8c-49f1-a41b-8f7e3103ea4d",
   "metadata": {},
   "source": [
    "## 5.6 오픈소스 임베딩 한국어 성능 (BAAI/bge-m3)"
   ]
  },
  {
   "cell_type": "code",
   "execution_count": null,
   "id": "ac5cc483-3e44-4d50-831a-cb9fadc4fb00",
   "metadata": {
    "scrolled": true
   },
   "outputs": [],
   "source": [
    "!pip install FlagEmbedding"
   ]
  },
  {
   "cell_type": "code",
   "execution_count": null,
   "id": "5909857f-6395-4153-a06e-793422d6d274",
   "metadata": {},
   "outputs": [],
   "source": [
    "from FlagEmbedding import BGEM3FlagModel\n",
    "model = BGEM3FlagModel('BAAI/bge-m3', use_fp16=True) # Setting use_fp16 to True speeds up computation with a slight performance degradation"
   ]
  },
  {
   "cell_type": "code",
   "execution_count": null,
   "id": "27df464b-2b50-494a-ac04-2c391496fbf8",
   "metadata": {},
   "outputs": [],
   "source": [
    "# 문서 임베딩\n",
    "docs_ko = combined_paragraphs['paragraph']\n",
    "# docs_ko = dataset_ko['validation']['paragraph']\n",
    "doc_ko_emb_m3 = model.encode(docs_ko, batch_size=32, max_length=8192)['dense_vecs']"
   ]
  },
  {
   "cell_type": "code",
   "execution_count": null,
   "id": "1f5bfc95-46fe-4e57-adc8-4df563c797ea",
   "metadata": {},
   "outputs": [],
   "source": [
    "from sentence_transformers import util\n",
    "query_emb = model.encode(query, batch_size=32, max_length=8192)['dense_vecs']\n",
    "print(query)\n",
    "\n",
    "#쿼리와 모든 문서 임베딩 사이의 도트 점수를 계산합니다.\n",
    "scores = util.dot_score(query_emb, doc_ko_emb_m3)[0].cpu().tolist()\n",
    "#문서와 점수 결합\n",
    "doc_score_pairs = list(zip(docs_ko, scores))\n",
    "\n",
    "#점수에 따른 내림차순 정렬\n",
    "doc_score_pairs = sorted(doc_score_pairs, key=lambda x: x[1], reverse=True)\n",
    "\n",
    "#구절 및 점수 출력\n",
    "for doc, score in doc_score_pairs[:3]:\n",
    "    print(score, doc)"
   ]
  },
  {
   "cell_type": "code",
   "execution_count": null,
   "id": "16ab2708-9fdf-400a-b74c-f5d562f086e3",
   "metadata": {},
   "outputs": [],
   "source": [
    "logger.setLevel(logging.CRITICAL)  # 일부 로그만 출력\n",
    "\n",
    "def eval_ranking_4_open_source_m3(query, cross_encoder_1, cross_encoder_2, cross_encoder_3, cross_encoder_4, top_k=3):\n",
    "    query_emb = model.encode(query, batch_size=32, max_length=8192)['dense_vecs']\n",
    "\n",
    "    #쿼리와 모든 문서 임베딩 사이의 도트 점수를 계산합니다.\n",
    "    scores = util.dot_score(query_emb, doc_ko_emb_m3)[0].cpu().tolist()\n",
    "\n",
    "    #문서와 점수 결합\n",
    "    doc_score_pairs = list(zip(docs_ko, scores))\n",
    "\n",
    "    #점수에 따른 내림차순 정렬\n",
    "    doc_score_pairs = sorted(doc_score_pairs, key=lambda x: x[1], reverse=True)[:top_k]\n",
    "\n",
    "    retrieved_hash = my_hash(doc_score_pairs[0][0])\n",
    "    sentence_combinations = [[query, doc_score_pair[0]] for doc_score_pair in doc_score_pairs]\n",
    "\n",
    "    similarity_scores_1 = cross_encoder_1.predict(sentence_combinations)\n",
    "    sim_scores_argsort_1 = list(reversed(np.argsort(similarity_scores_1)))\n",
    "    reranked_hash_1 = my_hash(doc_score_pairs[sim_scores_argsort_1[0]][0])\n",
    "\n",
    "    similarity_scores_2 = cross_encoder_2.predict(sentence_combinations)\n",
    "    sim_scores_argsort_2 = list(reversed(np.argsort(similarity_scores_2)))\n",
    "    reranked_hash_2 = my_hash(doc_score_pairs[sim_scores_argsort_2[0]][0])\n",
    "\n",
    "    similarity_scores_3 = cross_encoder_3.predict(sentence_combinations)\n",
    "    sim_scores_argsort_3 = list(reversed(np.argsort(similarity_scores_3)))\n",
    "    reranked_hash_3 = my_hash(doc_score_pairs[sim_scores_argsort_3[0]][0])\n",
    "\n",
    "    similarity_scores_4 = cross_encoder_4.predict(sentence_combinations)\n",
    "    sim_scores_argsort_4 = list(reversed(np.argsort(similarity_scores_4)))\n",
    "    reranked_hash_4 = my_hash(doc_score_pairs[sim_scores_argsort_4[0]][0])\n",
    "\n",
    "    return retrieved_hash, reranked_hash_1, reranked_hash_2, reranked_hash_3, reranked_hash_4\n"
   ]
  },
  {
   "cell_type": "code",
   "execution_count": null,
   "id": "632c762c-80e8-4857-888b-bf2585d84f5f",
   "metadata": {
    "scrolled": true
   },
   "outputs": [],
   "source": [
    "logger.setLevel(logging.CRITICAL)\n",
    "\n",
    "i = 0\n",
    "print_every = 50\n",
    "predictions = []\n",
    "for question in tqdm(val_sample['question']):\n",
    "    retrieved_hash, reranked_hash_1, reranked_hash_2, reranked_hash_3, reranked_hash_4 = eval_ranking_4_open_source_m3(question, cross_encoder_1, cross_encoder_2, cross_encoder_3, cross_encoder_4, top_k=3)\n",
    "    correct_hash = q_to_hash[question]\n",
    "    predictions.append((retrieved_hash == correct_hash, reranked_hash_1 == correct_hash, reranked_hash_2 == correct_hash, reranked_hash_3 == correct_hash, reranked_hash_4 == correct_hash))\n",
    "    i += 1\n",
    "    if i % print_every == 0:\n",
    "        print(f'Step {i}')\n",
    "        raw_accuracy = sum([p[0] for p in predictions])/len(predictions)\n",
    "        reranked_accuracy_1 = sum([p[1] for p in predictions])/len(predictions)\n",
    "        reranked_accuracy_2 = sum([p[2] for p in predictions])/len(predictions)\n",
    "        reranked_accuracy_3 = sum([p[3] for p in predictions])/len(predictions)\n",
    "        reranked_accuracy_4 = sum([p[4] for p in predictions])/len(predictions)\n",
    "\n",
    "        print(f'Accuracy without re-ranking                            : {raw_accuracy}')\n",
    "        print(f'Accuracy with re-ranking(mmarco-mMiniLMv2-L12-H384-v1) : {reranked_accuracy_1}')\n",
    "        print(f'Accuracy with re-ranking(klue-cross-encoder-v1)        : {reranked_accuracy_2}')\n",
    "        print(f'Accuracy with re-ranking(ms-marco-MiniLM-L-12-v2)      : {reranked_accuracy_3}')\n",
    "        print(f'Accuracy with re-ranking(ms-marco-MiniLM-L-12-v2 tuning): {reranked_accuracy_4}')\n"
   ]
  },
  {
   "cell_type": "code",
   "execution_count": null,
   "id": "14867fbc-be8c-4a1a-98ee-b6170712214b",
   "metadata": {
    "scrolled": true
   },
   "outputs": [],
   "source": [
    "raw_accuracy = sum([p[0] for p in predictions])/len(predictions)\n",
    "reranked_accuracy_1 = sum([p[1] for p in predictions])/len(predictions)\n",
    "reranked_accuracy_2 = sum([p[2] for p in predictions])/len(predictions)\n",
    "reranked_accuracy_3 = sum([p[3] for p in predictions])/len(predictions)\n",
    "reranked_accuracy_4 = sum([p[4] for p in predictions])/len(predictions)\n",
    "\n",
    "print('Opensource embedding model(BAAI/bge-m3)')\n",
    "print(f'Accuracy without re-ranking                            : {raw_accuracy}')\n",
    "print(f'Accuracy with re-ranking(mmarco-mMiniLMv2-L12-H384-v1) : {reranked_accuracy_1}')\n",
    "print(f'Accuracy with re-ranking(klue-cross-encoder-v1)        : {reranked_accuracy_2}')\n",
    "print(f'Accuracy with re-ranking(ms-marco-MiniLM-L-12-v2)      : {reranked_accuracy_3}')\n",
    "print(f'Accuracy with re-ranking(ms-marco-MiniLM-L-12-v2 tuning): {reranked_accuracy_4}')"
   ]
  },
  {
   "cell_type": "markdown",
   "id": "e688da67-351a-4a38-aaad-436b3960f206",
   "metadata": {},
   "source": [
    "## 5.7 오픈소스 임베딩 한국어 성능 (acge_text_embedding)"
   ]
  },
  {
   "cell_type": "code",
   "execution_count": null,
   "id": "4bf313af-1788-4ef2-aea9-cc376a2428ca",
   "metadata": {},
   "outputs": [],
   "source": [
    "from sentence_transformers import SentenceTransformer\n",
    "\n",
    "model = SentenceTransformer('aspire/acge_text_embedding')"
   ]
  },
  {
   "cell_type": "code",
   "execution_count": null,
   "id": "57b41fdb-273d-4461-9cc9-4474a0cca306",
   "metadata": {},
   "outputs": [],
   "source": [
    "validation_paragraphs = dataset_ko['validation'].remove_columns(['question', 'label'])\n",
    "train_paragraphs = dataset_ko['train'].remove_columns(['question', 'label'])\n",
    "test_paragraphs = dataset_ko['test'].remove_columns(['question', 'label'])\n",
    "combined_paragraphs = concatenate_datasets([validation_paragraphs, train_paragraphs, test_paragraphs])\n"
   ]
  },
  {
   "cell_type": "code",
   "execution_count": null,
   "id": "ae5b9f0e-158d-4afe-bbd8-ec09a6634ee5",
   "metadata": {},
   "outputs": [],
   "source": [
    "combined_paragraphs"
   ]
  },
  {
   "cell_type": "code",
   "execution_count": null,
   "id": "3aad297b-67e8-4454-8c70-6a37cf103ff6",
   "metadata": {},
   "outputs": [],
   "source": [
    "# 문서 임베딩\n",
    "# docs_ko = dataset_ko['validation']['paragraph']\n",
    "docs_ko = combined_paragraphs['paragraph']\n",
    "doc_ko_emb = model.encode(docs_ko, batch_size=32, normalize_embeddings=True, show_progress_bar=True)"
   ]
  },
  {
   "cell_type": "code",
   "execution_count": null,
   "id": "1b287e2d-d6c5-4b41-a3ed-695bdebafa90",
   "metadata": {},
   "outputs": [],
   "source": [
    "from sentence_transformers import util\n",
    "query_emb = model.encode(query)\n",
    "print(query)\n",
    "\n",
    "#쿼리와 모든 문서 임베딩 사이의 도트 점수를 계산합니다.\n",
    "scores = util.dot_score(query_emb, doc_ko_emb)[0].cpu().tolist()\n",
    "\n",
    "#문서와 점수 결합\n",
    "doc_score_pairs = list(zip(docs_ko, scores))\n",
    "\n",
    "#점수에 따른 내림차순 정렬\n",
    "doc_score_pairs = sorted(doc_score_pairs, key=lambda x: x[1], reverse=True)\n",
    "\n",
    "#구절 및 점수 출력\n",
    "for doc, score in doc_score_pairs[:30]:\n",
    "    print(score, doc)"
   ]
  },
  {
   "cell_type": "code",
   "execution_count": null,
   "id": "9f74a7d9-6a28-443c-a795-0eb3f71a2a44",
   "metadata": {
    "scrolled": true
   },
   "outputs": [],
   "source": [
    "logger.setLevel(logging.CRITICAL)\n",
    "\n",
    "i = 0\n",
    "print_every = 50\n",
    "predictions = []\n",
    "for question in tqdm(val_sample['question']):\n",
    "    retrieved_hash, reranked_hash_1, reranked_hash_2, reranked_hash_3, reranked_hash_4 = eval_ranking_4_open_source(question, cross_encoder_1, cross_encoder_2, cross_encoder_3, cross_encoder_4, top_k=3)\n",
    "    correct_hash = q_to_hash[question]\n",
    "    predictions.append((retrieved_hash == correct_hash, reranked_hash_1 == correct_hash, reranked_hash_2 == correct_hash, reranked_hash_3 == correct_hash, reranked_hash_4 == correct_hash))\n",
    "    i += 1\n",
    "    if i % print_every == 0:\n",
    "        print(f'Step {i}')\n",
    "        raw_accuracy = sum([p[0] for p in predictions])/len(predictions)\n",
    "        reranked_accuracy_1 = sum([p[1] for p in predictions])/len(predictions)\n",
    "        reranked_accuracy_2 = sum([p[2] for p in predictions])/len(predictions)\n",
    "        reranked_accuracy_3 = sum([p[3] for p in predictions])/len(predictions)\n",
    "        reranked_accuracy_4 = sum([p[4] for p in predictions])/len(predictions)\n",
    "\n",
    "        print(f'Accuracy without re-ranking                            : {raw_accuracy}')\n",
    "        print(f'Accuracy with re-ranking(mmarco-mMiniLMv2-L12-H384-v1) : {reranked_accuracy_1}')\n",
    "        print(f'Accuracy with re-ranking(klue-cross-encoder-v1)        : {reranked_accuracy_2}')\n",
    "        print(f'Accuracy with re-ranking(ms-marco-MiniLM-L-12-v2)      : {reranked_accuracy_3}')\n",
    "        print(f'Accuracy with re-ranking(ms-marco-MiniLM-L-12-v2 tuning): {reranked_accuracy_4}')\n"
   ]
  },
  {
   "cell_type": "code",
   "execution_count": null,
   "id": "f822c7a6-e9a6-4734-a80d-b436bab34227",
   "metadata": {
    "scrolled": true
   },
   "outputs": [],
   "source": [
    "raw_accuracy = sum([p[0] for p in predictions])/len(predictions)\n",
    "reranked_accuracy_1 = sum([p[1] for p in predictions])/len(predictions)\n",
    "reranked_accuracy_2 = sum([p[2] for p in predictions])/len(predictions)\n",
    "reranked_accuracy_3 = sum([p[3] for p in predictions])/len(predictions)\n",
    "reranked_accuracy_4 = sum([p[4] for p in predictions])/len(predictions)\n",
    "\n",
    "print('Opensource embedding model(aspire/acge_text_embedding)')\n",
    "print(f'Accuracy without re-ranking                            : {raw_accuracy}')\n",
    "print(f'Accuracy with re-ranking(mmarco-mMiniLMv2-L12-H384-v1) : {reranked_accuracy_1}')\n",
    "print(f'Accuracy with re-ranking(klue-cross-encoder-v1)        : {reranked_accuracy_2}')\n",
    "print(f'Accuracy with re-ranking(ms-marco-MiniLM-L-12-v2)      : {reranked_accuracy_3}')\n",
    "print(f'Accuracy with re-ranking(ms-marco-MiniLM-L-12-v2 tuning): {reranked_accuracy_4}')"
   ]
  },
  {
   "cell_type": "markdown",
   "id": "6994eca6-1114-41fc-bc61-fb476ccfb8a9",
   "metadata": {},
   "source": [
    "# 6. BoolQ를 이용한 영어 임베딩 성능 비교\n",
    "## 6.1 초기화"
   ]
  },
  {
   "cell_type": "code",
   "execution_count": null,
   "id": "e5109e31-0bc1-4f89-b21c-d00efd3a5afb",
   "metadata": {},
   "outputs": [],
   "source": [
    "from datasets import load_dataset\n",
    "from evaluate import load\n",
    "\n",
    "dataset = load_dataset(\"boolq\")"
   ]
  },
  {
   "cell_type": "code",
   "execution_count": null,
   "id": "36efa89d-d1f3-4491-b55b-7db1925205c4",
   "metadata": {},
   "outputs": [],
   "source": [
    "dataset"
   ]
  },
  {
   "cell_type": "code",
   "execution_count": null,
   "id": "1af6b41d-b73d-416d-b87d-dcd5bf5a6720",
   "metadata": {},
   "outputs": [],
   "source": [
    "from datasets import concatenate_datasets\n",
    "\n",
    "combined_dataset = concatenate_datasets([dataset['train'], dataset['validation']])"
   ]
  },
  {
   "cell_type": "code",
   "execution_count": null,
   "id": "e12949a7-0d8f-4831-b27e-27984a724b71",
   "metadata": {},
   "outputs": [],
   "source": [
    "len(combined_dataset)"
   ]
  },
  {
   "cell_type": "code",
   "execution_count": null,
   "id": "e2045aa3-00b8-4490-802d-1f20450608b6",
   "metadata": {},
   "outputs": [],
   "source": [
    "combined_dataset[0]"
   ]
  },
  {
   "cell_type": "code",
   "execution_count": null,
   "id": "cddd95b3-fdcf-431a-8e9d-656dfe83fc4f",
   "metadata": {},
   "outputs": [],
   "source": [
    "cross_encoder_1 = CrossEncoder('jeffwan/mmarco-mMiniLMv2-L12-H384-v1')\n",
    "cross_encoder_2 = CrossEncoder('bongsoo/klue-cross-encoder-v1')  # 한국어 지원 모델\n",
    "cross_encoder_3 = CrossEncoder('cross-encoder/ms-marco-MiniLM-L-12-v2')\n",
    "model_save_path = './fine_tuned_ir_cross_encoder_01'\n",
    "cross_encoder_4 = CrossEncoder(model_save_path)"
   ]
  },
  {
   "cell_type": "code",
   "execution_count": null,
   "id": "66d3ae6f-0835-4f5e-b441-52166c38cef5",
   "metadata": {},
   "outputs": [],
   "source": [
    "def eval_ranking_4(query, cross_encoder_1, cross_encoder_2, cross_encoder_3, cross_encoder_4, top_k=3):\n",
    "    results_from_pinecone = query_from_pinecone(query, top_k=top_k)\n",
    "    sentence_combinations = [[query, result_from_pinecone['metadata']['text']] for result_from_pinecone in results_from_pinecone]\n",
    "\n",
    "    similarity_scores_1 = cross_encoder_1.predict(sentence_combinations)\n",
    "    sim_scores_argsort_1 = list(reversed(np.argsort(similarity_scores_1)))\n",
    "    re_ranked_final_result_1 = results_from_pinecone[sim_scores_argsort_1[0]]\n",
    "    \n",
    "    similarity_scores_2 = cross_encoder_2.predict(sentence_combinations)\n",
    "    sim_scores_argsort_2 = list(reversed(np.argsort(similarity_scores_2)))\n",
    "    re_ranked_final_result_2 = results_from_pinecone[sim_scores_argsort_2[0]]\n",
    "    \n",
    "    similarity_scores_3 = cross_encoder_3.predict(sentence_combinations)\n",
    "    sim_scores_argsort_3 = list(reversed(np.argsort(similarity_scores_3)))\n",
    "    re_ranked_final_result_3 = results_from_pinecone[sim_scores_argsort_3[0]]\n",
    "    \n",
    "    similarity_scores_4 = cross_encoder_4.predict(sentence_combinations)\n",
    "    sim_scores_argsort_4 = list(reversed(np.argsort(similarity_scores_4)))\n",
    "    re_ranked_final_result_4 = results_from_pinecone[sim_scores_argsort_4[0]]\n",
    "    \n",
    "    return results_from_pinecone[0]['id'], re_ranked_final_result_1['id'], re_ranked_final_result_2['id'], re_ranked_final_result_3['id'], re_ranked_final_result_4['id']\n"
   ]
  },
  {
   "cell_type": "code",
   "execution_count": null,
   "id": "97bb9efe-7384-457b-8244-1bb566ab8851",
   "metadata": {},
   "outputs": [],
   "source": [
    "# val_sample = dataset['validation'][:700]\n",
    "# val_sample = dataset_ko['validation'][:]\n",
    "val_sample = combined_dataset[:]"
   ]
  },
  {
   "cell_type": "code",
   "execution_count": null,
   "id": "5b76966e-1f09-41b7-b4f5-8fb4c560d030",
   "metadata": {},
   "outputs": [],
   "source": [
    "len(val_sample)"
   ]
  },
  {
   "cell_type": "code",
   "execution_count": null,
   "id": "aa48e70b-8fd2-4e58-97f5-b504124b97a6",
   "metadata": {},
   "outputs": [],
   "source": [
    "from random import sample\n",
    "\n",
    "query = sample(dataset['validation']['question'], 1)[0]\n",
    "print(query)"
   ]
  },
  {
   "cell_type": "code",
   "execution_count": null,
   "id": "39e127eb-32ff-4ac9-944e-ab3101f0b999",
   "metadata": {},
   "outputs": [],
   "source": [
    "# q_to_hash = {data['question']: my_hash(data['passage']) for data in dataset['validation']}\n",
    "q_to_hash = {data['question']: my_hash(data['passage']) for data in combined_dataset}\n",
    "\n",
    "q_to_hash[query]"
   ]
  },
  {
   "cell_type": "markdown",
   "id": "f5c104a1-a916-470d-9c1f-e02c400dcd04",
   "metadata": {},
   "source": [
    "## 6.2 text-embedding-ada-002 영어 성능"
   ]
  },
  {
   "cell_type": "code",
   "execution_count": null,
   "id": "ae719fbd-49ed-4692-a050-0ab50506e9c5",
   "metadata": {},
   "outputs": [],
   "source": [
    "ENGINE = 'text-embedding-ada-002'\n",
    "# ENGINE_2 = 'text-embedding-ada-002'\n",
    "# ENGINE_3_S = 'text-embedding-3-small'  # OpenAI의 3세대 embedding 모델 (소형)\n",
    "# ENGINE_3_L = 'text-embedding-3-large'  # OpenAI의 3세대 embedding 모델 (대형)"
   ]
  },
  {
   "cell_type": "code",
   "execution_count": null,
   "id": "31fa1340-cf8b-4576-901e-aaf99e73c084",
   "metadata": {},
   "outputs": [],
   "source": [
    "pinecone.delete_index(INDEX_NAME)  # delete the index\n",
    "\n",
    "pinecone.create_index(\n",
    "    INDEX_NAME, # 인덱스 이름\n",
    "    dimension=1536, # 벡터의 치수, text-embedding-ada-002, text-embedding-3-small\n",
    "    # dimension=3072, # 벡터의 치수, text-embedding-3-large\n",
    "    \n",
    "    metric='cosine', # 인덱스를 검색할 때 사용할 유사성 메트릭\n",
    "    spec=PodSpec(\n",
    "      environment=\"gcp-starter\"\n",
    "    )\n",
    "    # pod_type=\"p1\" # 파인콘 파드의 유형\n",
    ")\n",
    "\n",
    "# 인덱스를 변수로 저장\n",
    "index = pinecone.Index(INDEX_NAME)"
   ]
  },
  {
   "cell_type": "code",
   "execution_count": null,
   "id": "956d876f-0c1b-46f6-876e-c867b0ac6688",
   "metadata": {},
   "outputs": [],
   "source": [
    "for idx in tqdm(range(0, len(dataset['train']), 128)):\n",
    "    data_sample = dataset['train'][idx:idx + 128]\n",
    "\n",
    "    passages = data_sample['passage']\n",
    "    upload_texts_to_pinecone(passages, engine=ENGINE)\n",
    "\n",
    "for idx in tqdm(range(0, len(dataset['validation']), 128)):\n",
    "    data_sample = dataset['validation'][idx:idx + 128]\n",
    "\n",
    "    passages = data_sample['passage']\n",
    "    upload_texts_to_pinecone(passages, engine=ENGINE)"
   ]
  },
  {
   "cell_type": "code",
   "execution_count": null,
   "id": "a6a56365-f268-4efc-bbab-48666dc3561c",
   "metadata": {
    "scrolled": true
   },
   "outputs": [],
   "source": [
    "i = 0\n",
    "print_every = 50\n",
    "predictions = []\n",
    "for question in tqdm(val_sample['question']):\n",
    "    retrieved_hash, reranked_hash_1, reranked_hash_2, reranked_hash_3, reranked_hash_4 = eval_ranking_4(question, cross_encoder_1, cross_encoder_2, cross_encoder_3, cross_encoder_4, top_k=3)\n",
    "    correct_hash = q_to_hash[question]\n",
    "    predictions.append((retrieved_hash == correct_hash, reranked_hash_1 == correct_hash, reranked_hash_2 == correct_hash, reranked_hash_3 == correct_hash, reranked_hash_4 == correct_hash))\n",
    "    i += 1\n",
    "    if i % print_every == 0:\n",
    "        print(f'Step {i}')\n",
    "        raw_accuracy = sum([p[0] for p in predictions])/len(predictions)\n",
    "        reranked_accuracy_1 = sum([p[1] for p in predictions])/len(predictions)\n",
    "        reranked_accuracy_2 = sum([p[2] for p in predictions])/len(predictions)\n",
    "        reranked_accuracy_3 = sum([p[3] for p in predictions])/len(predictions)\n",
    "        reranked_accuracy_4 = sum([p[4] for p in predictions])/len(predictions)\n",
    "\n",
    "        print(f'Accuracy without re-ranking                            : {raw_accuracy}')\n",
    "        print(f'Accuracy with re-ranking(mmarco-mMiniLMv2-L12-H384-v1) : {reranked_accuracy_1}')\n",
    "        print(f'Accuracy with re-ranking(klue-cross-encoder-v1)        : {reranked_accuracy_2}')\n",
    "        print(f'Accuracy with re-ranking(ms-marco-MiniLM-L-12-v2)      : {reranked_accuracy_3}')\n",
    "        print(f'Accuracy with re-ranking(ms-marco-MiniLM-L-12-v2 tuning): {reranked_accuracy_4}')\n"
   ]
  },
  {
   "cell_type": "code",
   "execution_count": null,
   "id": "f6bde3d1-330b-4579-b433-13cada1fd05e",
   "metadata": {},
   "outputs": [],
   "source": [
    "raw_accuracy = sum([p[0] for p in predictions])/len(predictions)\n",
    "reranked_accuracy_1 = sum([p[1] for p in predictions])/len(predictions)\n",
    "reranked_accuracy_2 = sum([p[2] for p in predictions])/len(predictions)\n",
    "reranked_accuracy_3 = sum([p[3] for p in predictions])/len(predictions)\n",
    "reranked_accuracy_4 = sum([p[4] for p in predictions])/len(predictions)\n",
    "\n",
    "print('text-embedding-ada-002')\n",
    "print(f'Accuracy without re-ranking                            : {raw_accuracy}')\n",
    "print(f'Accuracy with re-ranking(mmarco-mMiniLMv2-L12-H384-v1) : {reranked_accuracy_1}')\n",
    "print(f'Accuracy with re-ranking(klue-cross-encoder-v1)        : {reranked_accuracy_2}')\n",
    "print(f'Accuracy with re-ranking(ms-marco-MiniLM-L-12-v2)      : {reranked_accuracy_3}')\n",
    "print(f'Accuracy with re-ranking(ms-marco-MiniLM-L-12-v2 tuning): {reranked_accuracy_4}')"
   ]
  },
  {
   "cell_type": "markdown",
   "id": "40c8058e-79e0-4f71-894b-e6ee2248ffbc",
   "metadata": {},
   "source": [
    "## 6.3 text-embedding-3-small 영어 성능"
   ]
  },
  {
   "cell_type": "code",
   "execution_count": null,
   "id": "e08a4f0b-376e-4e5c-84b2-1505cebe7876",
   "metadata": {},
   "outputs": [],
   "source": [
    "ENGINE = 'text-embedding-3-small'\n",
    "# ENGINE_2 = 'text-embedding-ada-002'\n",
    "# ENGINE_3_S = 'text-embedding-3-small'  # OpenAI의 3세대 embedding 모델 (소형)\n",
    "# ENGINE_3_L = 'text-embedding-3-large'  # OpenAI의 3세대 embedding 모델 (대형)"
   ]
  },
  {
   "cell_type": "code",
   "execution_count": null,
   "id": "f6d05759-0643-4508-a395-ad705d30bcc1",
   "metadata": {},
   "outputs": [],
   "source": [
    "pinecone.delete_index(INDEX_NAME)  # delete the index\n",
    "\n",
    "pinecone.create_index(\n",
    "    INDEX_NAME, # 인덱스 이름\n",
    "    dimension=1536, # 벡터의 치수, text-embedding-ada-002, text-embedding-3-small\n",
    "    # dimension=3072, # 벡터의 치수, text-embedding-3-large\n",
    "    \n",
    "    metric='cosine', # 인덱스를 검색할 때 사용할 유사성 메트릭\n",
    "    spec=PodSpec(\n",
    "      environment=\"gcp-starter\"\n",
    "    )\n",
    "    # pod_type=\"p1\" # 파인콘 파드의 유형\n",
    ")\n",
    "\n",
    "# 인덱스를 변수로 저장\n",
    "index = pinecone.Index(INDEX_NAME)"
   ]
  },
  {
   "cell_type": "code",
   "execution_count": null,
   "id": "9cea6683-413e-4f65-ad45-2569b5c31746",
   "metadata": {},
   "outputs": [],
   "source": [
    "for idx in tqdm(range(0, len(dataset['train']), 128)):\n",
    "    data_sample = dataset['train'][idx:idx + 128]\n",
    "\n",
    "    passages = data_sample['passage']\n",
    "    upload_texts_to_pinecone(passages, engine=ENGINE)\n",
    "\n",
    "for idx in tqdm(range(0, len(dataset['validation']), 128)):\n",
    "    data_sample = dataset['validation'][idx:idx + 128]\n",
    "\n",
    "    passages = data_sample['passage']\n",
    "    upload_texts_to_pinecone(passages, engine=ENGINE)"
   ]
  },
  {
   "cell_type": "code",
   "execution_count": null,
   "id": "1cf1ba83-a104-4a99-bc29-407f093ef544",
   "metadata": {
    "scrolled": true
   },
   "outputs": [],
   "source": [
    "i = 0\n",
    "print_every = 50\n",
    "predictions = []\n",
    "for question in tqdm(val_sample['question']):\n",
    "    retrieved_hash, reranked_hash_1, reranked_hash_2, reranked_hash_3, reranked_hash_4 = eval_ranking_4(question, cross_encoder_1, cross_encoder_2, cross_encoder_3, cross_encoder_4, top_k=3)\n",
    "    correct_hash = q_to_hash[question]\n",
    "    predictions.append((retrieved_hash == correct_hash, reranked_hash_1 == correct_hash, reranked_hash_2 == correct_hash, reranked_hash_3 == correct_hash, reranked_hash_4 == correct_hash))\n",
    "    i += 1\n",
    "    if i % print_every == 0:\n",
    "        print(f'Step {i}')\n",
    "        raw_accuracy = sum([p[0] for p in predictions])/len(predictions)\n",
    "        reranked_accuracy_1 = sum([p[1] for p in predictions])/len(predictions)\n",
    "        reranked_accuracy_2 = sum([p[2] for p in predictions])/len(predictions)\n",
    "        reranked_accuracy_3 = sum([p[3] for p in predictions])/len(predictions)\n",
    "        reranked_accuracy_4 = sum([p[4] for p in predictions])/len(predictions)\n",
    "\n",
    "        print(f'Accuracy without re-ranking                            : {raw_accuracy}')\n",
    "        print(f'Accuracy with re-ranking(mmarco-mMiniLMv2-L12-H384-v1) : {reranked_accuracy_1}')\n",
    "        print(f'Accuracy with re-ranking(klue-cross-encoder-v1)        : {reranked_accuracy_2}')\n",
    "        print(f'Accuracy with re-ranking(ms-marco-MiniLM-L-12-v2)      : {reranked_accuracy_3}')\n",
    "        print(f'Accuracy with re-ranking(ms-marco-MiniLM-L-12-v2 tuning): {reranked_accuracy_4}')\n"
   ]
  },
  {
   "cell_type": "code",
   "execution_count": null,
   "id": "725cab69-3709-44cf-950b-8ed6425ce704",
   "metadata": {},
   "outputs": [],
   "source": [
    "raw_accuracy = sum([p[0] for p in predictions])/len(predictions)\n",
    "reranked_accuracy_1 = sum([p[1] for p in predictions])/len(predictions)\n",
    "reranked_accuracy_2 = sum([p[2] for p in predictions])/len(predictions)\n",
    "reranked_accuracy_3 = sum([p[3] for p in predictions])/len(predictions)\n",
    "reranked_accuracy_4 = sum([p[4] for p in predictions])/len(predictions)\n",
    "\n",
    "print('text-embedding-3-small')\n",
    "print(f'Accuracy without re-ranking                            : {raw_accuracy}')\n",
    "print(f'Accuracy with re-ranking(mmarco-mMiniLMv2-L12-H384-v1) : {reranked_accuracy_1}')\n",
    "print(f'Accuracy with re-ranking(klue-cross-encoder-v1)        : {reranked_accuracy_2}')\n",
    "print(f'Accuracy with re-ranking(ms-marco-MiniLM-L-12-v2)      : {reranked_accuracy_3}')\n",
    "print(f'Accuracy with re-ranking(ms-marco-MiniLM-L-12-v2 tuning): {reranked_accuracy_4}')"
   ]
  },
  {
   "cell_type": "markdown",
   "id": "2bb8648e-aa4b-407b-8191-69f6cd05ded2",
   "metadata": {},
   "source": [
    "## 6.4 text-embedding-3-large 영어 성능"
   ]
  },
  {
   "cell_type": "code",
   "execution_count": null,
   "id": "13fabd9d-8d64-4c18-8b08-c8101555f7b7",
   "metadata": {},
   "outputs": [],
   "source": [
    "ENGINE = 'text-embedding-3-large'\n",
    "# ENGINE_2 = 'text-embedding-ada-002'\n",
    "# ENGINE_3_S = 'text-embedding-3-small'  # OpenAI의 3세대 embedding 모델 (소형)\n",
    "# ENGINE_3_L = 'text-embedding-3-large'  # OpenAI의 3세대 embedding 모델 (대형)"
   ]
  },
  {
   "cell_type": "code",
   "execution_count": null,
   "id": "295eec8b-8821-45af-9648-d40cbf2cd062",
   "metadata": {},
   "outputs": [],
   "source": [
    "pinecone.delete_index(INDEX_NAME)  # delete the index\n",
    "\n",
    "pinecone.create_index(\n",
    "    INDEX_NAME, # 인덱스 이름\n",
    "    # dimension=1536, # 벡터의 치수, text-embedding-ada-002, text-embedding-3-small\n",
    "    dimension=3072, # 벡터의 치수, text-embedding-3-large\n",
    "    \n",
    "    metric='cosine', # 인덱스를 검색할 때 사용할 유사성 메트릭\n",
    "    spec=PodSpec(\n",
    "      environment=\"gcp-starter\"\n",
    "    )\n",
    "    # pod_type=\"p1\" # 파인콘 파드의 유형\n",
    ")\n",
    "\n",
    "# 인덱스를 변수로 저장\n",
    "index = pinecone.Index(INDEX_NAME)"
   ]
  },
  {
   "cell_type": "code",
   "execution_count": null,
   "id": "b64d886b-8bc1-487b-9bc5-eccd2a699a2c",
   "metadata": {},
   "outputs": [],
   "source": [
    "for idx in tqdm(range(0, len(dataset['train']), 128)):\n",
    "    data_sample = dataset['train'][idx:idx + 128]\n",
    "\n",
    "    passages = data_sample['passage']\n",
    "    upload_texts_to_pinecone(passages, engine=ENGINE)\n",
    "\n",
    "for idx in tqdm(range(0, len(dataset['validation']), 128)):\n",
    "    data_sample = dataset['validation'][idx:idx + 128]\n",
    "\n",
    "    passages = data_sample['passage']\n",
    "    upload_texts_to_pinecone(passages, engine=ENGINE)"
   ]
  },
  {
   "cell_type": "code",
   "execution_count": null,
   "id": "b3e1432e-20e4-4c4f-8ee0-b235a04617d6",
   "metadata": {
    "scrolled": true
   },
   "outputs": [],
   "source": [
    "i = 0\n",
    "print_every = 50\n",
    "predictions = []\n",
    "for question in tqdm(val_sample['question']):\n",
    "    retrieved_hash, reranked_hash_1, reranked_hash_2, reranked_hash_3, reranked_hash_4 = eval_ranking_4(question, cross_encoder_1, cross_encoder_2, cross_encoder_3, cross_encoder_4, top_k=3)\n",
    "    correct_hash = q_to_hash[question]\n",
    "    predictions.append((retrieved_hash == correct_hash, reranked_hash_1 == correct_hash, reranked_hash_2 == correct_hash, reranked_hash_3 == correct_hash, reranked_hash_4 == correct_hash))\n",
    "    i += 1\n",
    "    if i % print_every == 0:\n",
    "        print(f'Step {i}')\n",
    "        raw_accuracy = sum([p[0] for p in predictions])/len(predictions)\n",
    "        reranked_accuracy_1 = sum([p[1] for p in predictions])/len(predictions)\n",
    "        reranked_accuracy_2 = sum([p[2] for p in predictions])/len(predictions)\n",
    "        reranked_accuracy_3 = sum([p[3] for p in predictions])/len(predictions)\n",
    "        reranked_accuracy_4 = sum([p[4] for p in predictions])/len(predictions)\n",
    "\n",
    "        print(f'Accuracy without re-ranking                            : {raw_accuracy}')\n",
    "        print(f'Accuracy with re-ranking(mmarco-mMiniLMv2-L12-H384-v1) : {reranked_accuracy_1}')\n",
    "        print(f'Accuracy with re-ranking(klue-cross-encoder-v1)        : {reranked_accuracy_2}')\n",
    "        print(f'Accuracy with re-ranking(ms-marco-MiniLM-L-12-v2)      : {reranked_accuracy_3}')\n",
    "        print(f'Accuracy with re-ranking(ms-marco-MiniLM-L-12-v2 tuning): {reranked_accuracy_4}')\n"
   ]
  },
  {
   "cell_type": "code",
   "execution_count": null,
   "id": "42f9a4dc-4a27-4720-bb92-5aaf98ab98b1",
   "metadata": {},
   "outputs": [],
   "source": [
    "raw_accuracy = sum([p[0] for p in predictions])/len(predictions)\n",
    "reranked_accuracy_1 = sum([p[1] for p in predictions])/len(predictions)\n",
    "reranked_accuracy_2 = sum([p[2] for p in predictions])/len(predictions)\n",
    "reranked_accuracy_3 = sum([p[3] for p in predictions])/len(predictions)\n",
    "reranked_accuracy_4 = sum([p[4] for p in predictions])/len(predictions)\n",
    "\n",
    "print('text-embedding-3-large')\n",
    "print(f'Accuracy without re-ranking                            : {raw_accuracy}')\n",
    "print(f'Accuracy with re-ranking(mmarco-mMiniLMv2-L12-H384-v1) : {reranked_accuracy_1}')\n",
    "print(f'Accuracy with re-ranking(klue-cross-encoder-v1)        : {reranked_accuracy_2}')\n",
    "print(f'Accuracy with re-ranking(ms-marco-MiniLM-L-12-v2)      : {reranked_accuracy_3}')\n",
    "print(f'Accuracy with re-ranking(ms-marco-MiniLM-L-12-v2 tuning): {reranked_accuracy_4}')"
   ]
  },
  {
   "cell_type": "markdown",
   "id": "823500d7-3c64-4736-845d-ce36a15a8409",
   "metadata": {},
   "source": [
    "## 6.5 오픈소스 임베딩 영어 성능 (multi-qa-mpnet-base-cos-v1)"
   ]
  },
  {
   "cell_type": "code",
   "execution_count": null,
   "id": "45884814-0f0d-43ac-ba00-1807094552db",
   "metadata": {},
   "outputs": [],
   "source": [
    "from sentence_transformers import SentenceTransformer\n",
    "\n",
    "model = SentenceTransformer('sentence-transformers/multi-qa-mpnet-base-cos-v1')"
   ]
  },
  {
   "cell_type": "code",
   "execution_count": null,
   "id": "85a75da7-4fad-4833-a496-a048d7f9047c",
   "metadata": {},
   "outputs": [],
   "source": [
    "validation_paragraphs = dataset['validation'].remove_columns(['question', 'answer'])\n",
    "train_paragraphs = dataset['train'].remove_columns(['question', 'answer'])\n",
    "combined_paragraphs = concatenate_datasets([validation_paragraphs, train_paragraphs])"
   ]
  },
  {
   "cell_type": "code",
   "execution_count": null,
   "id": "04dd6ede-25fa-498b-a0cb-a97647885cd5",
   "metadata": {},
   "outputs": [],
   "source": [
    "# 문서 임베딩\n",
    "# docs = dataset['validation']['passage']\n",
    "docs = combined_paragraphs['passage']\n",
    "doc_emb = model.encode(docs, batch_size=32, show_progress_bar=True)"
   ]
  },
  {
   "cell_type": "code",
   "execution_count": null,
   "id": "d26dca5a-b68a-473f-99b7-12b8e546e4a2",
   "metadata": {},
   "outputs": [],
   "source": [
    "from random import sample\n",
    "\n",
    "query = sample(dataset['validation']['question'], 1)[0]\n",
    "print(query)\n",
    "final_results = get_results_from_pinecone(query, top_k=3, re_rank=True)"
   ]
  },
  {
   "cell_type": "code",
   "execution_count": null,
   "id": "15f7e562-8273-4132-8a6d-67c63f300f92",
   "metadata": {
    "scrolled": true
   },
   "outputs": [],
   "source": [
    "from sentence_transformers import util\n",
    "query_emb = model.encode(query)\n",
    "print(query)\n",
    "\n",
    "#쿼리와 모든 문서 임베딩 사이의 도트 점수를 계산합니다.\n",
    "scores = util.dot_score(query_emb, doc_emb)[0].cpu().tolist()\n",
    "\n",
    "#문서와 점수 결합\n",
    "doc_score_pairs = list(zip(docs, scores))\n",
    "\n",
    "#점수에 따른 내림차순 정렬\n",
    "doc_score_pairs = sorted(doc_score_pairs, key=lambda x: x[1], reverse=True)\n",
    "\n",
    "#구절 및 점수 출력\n",
    "for doc, score in doc_score_pairs[:30]:\n",
    "    print(score, doc)"
   ]
  },
  {
   "cell_type": "code",
   "execution_count": null,
   "id": "e5e3f455-681c-4a08-b6b4-df041ce66ce9",
   "metadata": {},
   "outputs": [],
   "source": [
    "logger.setLevel(logging.CRITICAL)  # 일부 로그만 출력\n",
    "\n",
    "def eval_ranking_4_open_source_en(query, cross_encoder_1, cross_encoder_2, cross_encoder_3, cross_encoder_4, top_k=3):\n",
    "    query_emb = model.encode(query)\n",
    "\n",
    "    #쿼리와 모든 문서 임베딩 사이의 도트 점수를 계산합니다.\n",
    "    scores = util.dot_score(query_emb, doc_emb)[0].cpu().tolist()\n",
    "\n",
    "    #문서와 점수 결합\n",
    "    doc_score_pairs = list(zip(docs, scores))\n",
    "\n",
    "    #점수에 따른 내림차순 정렬\n",
    "    doc_score_pairs = sorted(doc_score_pairs, key=lambda x: x[1], reverse=True)[:top_k]\n",
    "\n",
    "    retrieved_hash = my_hash(doc_score_pairs[0][0])\n",
    "    sentence_combinations = [[query, doc_score_pair[0]] for doc_score_pair in doc_score_pairs]\n",
    "\n",
    "    similarity_scores_1 = cross_encoder_1.predict(sentence_combinations)\n",
    "    sim_scores_argsort_1 = list(reversed(np.argsort(similarity_scores_1)))\n",
    "    reranked_hash_1 = my_hash(doc_score_pairs[sim_scores_argsort_1[0]][0])\n",
    "\n",
    "    similarity_scores_2 = cross_encoder_2.predict(sentence_combinations)\n",
    "    sim_scores_argsort_2 = list(reversed(np.argsort(similarity_scores_2)))\n",
    "    reranked_hash_2 = my_hash(doc_score_pairs[sim_scores_argsort_2[0]][0])\n",
    "\n",
    "    similarity_scores_3 = cross_encoder_3.predict(sentence_combinations)\n",
    "    sim_scores_argsort_3 = list(reversed(np.argsort(similarity_scores_3)))\n",
    "    reranked_hash_3 = my_hash(doc_score_pairs[sim_scores_argsort_3[0]][0])\n",
    "\n",
    "    similarity_scores_4 = cross_encoder_4.predict(sentence_combinations)\n",
    "    sim_scores_argsort_4 = list(reversed(np.argsort(similarity_scores_4)))\n",
    "    reranked_hash_4 = my_hash(doc_score_pairs[sim_scores_argsort_4[0]][0])\n",
    "\n",
    "    return retrieved_hash, reranked_hash_1, reranked_hash_2, reranked_hash_3, reranked_hash_4\n"
   ]
  },
  {
   "cell_type": "code",
   "execution_count": null,
   "id": "559fa8f2-e413-4c8d-8f3e-cd672fd95e3f",
   "metadata": {
    "scrolled": true
   },
   "outputs": [],
   "source": [
    "logger.setLevel(logging.CRITICAL)\n",
    "\n",
    "i = 0\n",
    "print_every = 50\n",
    "predictions = []\n",
    "for question in tqdm(val_sample['question']):\n",
    "    retrieved_hash, reranked_hash_1, reranked_hash_2, reranked_hash_3, reranked_hash_4 = eval_ranking_4_open_source_en(question, cross_encoder_1, cross_encoder_2, cross_encoder_3, cross_encoder_4, top_k=3)\n",
    "    correct_hash = q_to_hash[question]\n",
    "    predictions.append((retrieved_hash == correct_hash, reranked_hash_1 == correct_hash, reranked_hash_2 == correct_hash, reranked_hash_3 == correct_hash, reranked_hash_4 == correct_hash))\n",
    "    i += 1\n",
    "    if i % print_every == 0:\n",
    "        print(f'Step {i}')\n",
    "        raw_accuracy = sum([p[0] for p in predictions])/len(predictions)\n",
    "        reranked_accuracy_1 = sum([p[1] for p in predictions])/len(predictions)\n",
    "        reranked_accuracy_2 = sum([p[2] for p in predictions])/len(predictions)\n",
    "        reranked_accuracy_3 = sum([p[3] for p in predictions])/len(predictions)\n",
    "        reranked_accuracy_4 = sum([p[4] for p in predictions])/len(predictions)\n",
    "\n",
    "        print(f'Accuracy without re-ranking                            : {raw_accuracy}')\n",
    "        print(f'Accuracy with re-ranking(mmarco-mMiniLMv2-L12-H384-v1) : {reranked_accuracy_1}')\n",
    "        print(f'Accuracy with re-ranking(klue-cross-encoder-v1)        : {reranked_accuracy_2}')\n",
    "        print(f'Accuracy with re-ranking(ms-marco-MiniLM-L-12-v2)      : {reranked_accuracy_3}')\n",
    "        print(f'Accuracy with re-ranking(ms-marco-MiniLM-L-12-v2 tuning): {reranked_accuracy_4}')\n"
   ]
  },
  {
   "cell_type": "code",
   "execution_count": null,
   "id": "f845bb9c-ee7b-4bca-bcf6-71c696bcd69a",
   "metadata": {},
   "outputs": [],
   "source": [
    "raw_accuracy = sum([p[0] for p in predictions])/len(predictions)\n",
    "reranked_accuracy_1 = sum([p[1] for p in predictions])/len(predictions)\n",
    "reranked_accuracy_2 = sum([p[2] for p in predictions])/len(predictions)\n",
    "reranked_accuracy_3 = sum([p[3] for p in predictions])/len(predictions)\n",
    "reranked_accuracy_4 = sum([p[4] for p in predictions])/len(predictions)\n",
    "\n",
    "print('Opensource embedding model(sentence-transformers/multi-qa-mpnet-base-cos-v1)')\n",
    "print(f'Accuracy without re-ranking                            : {raw_accuracy}')\n",
    "print(f'Accuracy with re-ranking(mmarco-mMiniLMv2-L12-H384-v1) : {reranked_accuracy_1}')\n",
    "print(f'Accuracy with re-ranking(klue-cross-encoder-v1)        : {reranked_accuracy_2}')\n",
    "print(f'Accuracy with re-ranking(ms-marco-MiniLM-L-12-v2)      : {reranked_accuracy_3}')\n",
    "print(f'Accuracy with re-ranking(ms-marco-MiniLM-L-12-v2 tuning): {reranked_accuracy_4}')"
   ]
  },
  {
   "cell_type": "markdown",
   "id": "af332767-c9b8-448c-86b8-00afb930fae9",
   "metadata": {},
   "source": [
    "## 6.6 오픈소스 임베딩 영어 성능 (BAAI/bge-m3)"
   ]
  },
  {
   "cell_type": "code",
   "execution_count": null,
   "id": "3bcefa8f-a84f-4b65-87ae-93e1b851104e",
   "metadata": {
    "scrolled": true
   },
   "outputs": [],
   "source": [
    "!pip install FlagEmbedding"
   ]
  },
  {
   "cell_type": "code",
   "execution_count": null,
   "id": "c52da085-33b6-4cba-84d4-c7a9cf2060c4",
   "metadata": {
    "scrolled": true
   },
   "outputs": [],
   "source": [
    "from FlagEmbedding import BGEM3FlagModel\n",
    "model = BGEM3FlagModel('BAAI/bge-m3', use_fp16=True) # Setting use_fp16 to True speeds up computation with a slight performance degradation"
   ]
  },
  {
   "cell_type": "code",
   "execution_count": null,
   "id": "2bccf7ce-7786-4ace-8796-347769905be6",
   "metadata": {},
   "outputs": [],
   "source": [
    "# 문서 임베딩\n",
    "docs = combined_paragraphs['passage']\n",
    "# docs = dataset['validation']['passage']\n",
    "doc_emb_m3 = model.encode(docs, batch_size=32, max_length=8192)['dense_vecs']"
   ]
  },
  {
   "cell_type": "code",
   "execution_count": null,
   "id": "db0b1b3f-e825-4b08-9b06-2130e11304c9",
   "metadata": {},
   "outputs": [],
   "source": [
    "from sentence_transformers import util\n",
    "query_emb = model.encode(query, batch_size=32, max_length=8192)['dense_vecs']\n",
    "print(query)\n",
    "\n",
    "#쿼리와 모든 문서 임베딩 사이의 도트 점수를 계산합니다.\n",
    "scores = util.dot_score(query_emb, doc_emb_m3)[0].cpu().tolist()\n",
    "#문서와 점수 결합\n",
    "doc_score_pairs = list(zip(docs, scores))\n",
    "\n",
    "#점수에 따른 내림차순 정렬\n",
    "doc_score_pairs = sorted(doc_score_pairs, key=lambda x: x[1], reverse=True)\n",
    "\n",
    "#구절 및 점수 출력\n",
    "for doc, score in doc_score_pairs[:3]:\n",
    "    print(score, doc)"
   ]
  },
  {
   "cell_type": "code",
   "execution_count": null,
   "id": "04a72e86-7ebb-49cf-a84a-20f87d9230fc",
   "metadata": {},
   "outputs": [],
   "source": [
    "logger.setLevel(logging.CRITICAL)  # 일부 로그만 출력\n",
    "\n",
    "def eval_ranking_4_open_source_m3_en(query, cross_encoder_1, cross_encoder_2, cross_encoder_3, cross_encoder_4, top_k=3):\n",
    "    query_emb = model.encode(query, batch_size=32, max_length=8192)['dense_vecs']\n",
    "\n",
    "    #쿼리와 모든 문서 임베딩 사이의 도트 점수를 계산합니다.\n",
    "    scores = util.dot_score(query_emb, doc_emb_m3)[0].cpu().tolist()\n",
    "\n",
    "    #문서와 점수 결합\n",
    "    doc_score_pairs = list(zip(docs, scores))\n",
    "\n",
    "    #점수에 따른 내림차순 정렬\n",
    "    doc_score_pairs = sorted(doc_score_pairs, key=lambda x: x[1], reverse=True)[:top_k]\n",
    "\n",
    "    retrieved_hash = my_hash(doc_score_pairs[0][0])\n",
    "    sentence_combinations = [[query, doc_score_pair[0]] for doc_score_pair in doc_score_pairs]\n",
    "\n",
    "    similarity_scores_1 = cross_encoder_1.predict(sentence_combinations)\n",
    "    sim_scores_argsort_1 = list(reversed(np.argsort(similarity_scores_1)))\n",
    "    reranked_hash_1 = my_hash(doc_score_pairs[sim_scores_argsort_1[0]][0])\n",
    "\n",
    "    similarity_scores_2 = cross_encoder_2.predict(sentence_combinations)\n",
    "    sim_scores_argsort_2 = list(reversed(np.argsort(similarity_scores_2)))\n",
    "    reranked_hash_2 = my_hash(doc_score_pairs[sim_scores_argsort_2[0]][0])\n",
    "\n",
    "    similarity_scores_3 = cross_encoder_3.predict(sentence_combinations)\n",
    "    sim_scores_argsort_3 = list(reversed(np.argsort(similarity_scores_3)))\n",
    "    reranked_hash_3 = my_hash(doc_score_pairs[sim_scores_argsort_3[0]][0])\n",
    "\n",
    "    similarity_scores_4 = cross_encoder_4.predict(sentence_combinations)\n",
    "    sim_scores_argsort_4 = list(reversed(np.argsort(similarity_scores_4)))\n",
    "    reranked_hash_4 = my_hash(doc_score_pairs[sim_scores_argsort_4[0]][0])\n",
    "\n",
    "    return retrieved_hash, reranked_hash_1, reranked_hash_2, reranked_hash_3, reranked_hash_4\n"
   ]
  },
  {
   "cell_type": "code",
   "execution_count": null,
   "id": "87e4a304-2cc5-4a6c-8fbf-22ffb4f1a788",
   "metadata": {
    "scrolled": true
   },
   "outputs": [],
   "source": [
    "logger.setLevel(logging.CRITICAL)\n",
    "\n",
    "i = 0\n",
    "print_every = 50\n",
    "predictions = []\n",
    "for question in tqdm(val_sample['question']):\n",
    "    retrieved_hash, reranked_hash_1, reranked_hash_2, reranked_hash_3, reranked_hash_4 = eval_ranking_4_open_source_m3_en(question, cross_encoder_1, cross_encoder_2, cross_encoder_3, cross_encoder_4, top_k=3)\n",
    "    correct_hash = q_to_hash[question]\n",
    "    predictions.append((retrieved_hash == correct_hash, reranked_hash_1 == correct_hash, reranked_hash_2 == correct_hash, reranked_hash_3 == correct_hash, reranked_hash_4 == correct_hash))\n",
    "    i += 1\n",
    "    if i % print_every == 0:\n",
    "        print(f'Step {i}')\n",
    "        raw_accuracy = sum([p[0] for p in predictions])/len(predictions)\n",
    "        reranked_accuracy_1 = sum([p[1] for p in predictions])/len(predictions)\n",
    "        reranked_accuracy_2 = sum([p[2] for p in predictions])/len(predictions)\n",
    "        reranked_accuracy_3 = sum([p[3] for p in predictions])/len(predictions)\n",
    "        reranked_accuracy_4 = sum([p[4] for p in predictions])/len(predictions)\n",
    "\n",
    "        print(f'Accuracy without re-ranking                            : {raw_accuracy}')\n",
    "        print(f'Accuracy with re-ranking(mmarco-mMiniLMv2-L12-H384-v1) : {reranked_accuracy_1}')\n",
    "        print(f'Accuracy with re-ranking(klue-cross-encoder-v1)        : {reranked_accuracy_2}')\n",
    "        print(f'Accuracy with re-ranking(ms-marco-MiniLM-L-12-v2)      : {reranked_accuracy_3}')\n",
    "        print(f'Accuracy with re-ranking(ms-marco-MiniLM-L-12-v2 tuning): {reranked_accuracy_4}')\n"
   ]
  },
  {
   "cell_type": "code",
   "execution_count": null,
   "id": "643be614-a3fc-454b-8806-b5433ff06081",
   "metadata": {},
   "outputs": [],
   "source": [
    "raw_accuracy = sum([p[0] for p in predictions])/len(predictions)\n",
    "reranked_accuracy_1 = sum([p[1] for p in predictions])/len(predictions)\n",
    "reranked_accuracy_2 = sum([p[2] for p in predictions])/len(predictions)\n",
    "reranked_accuracy_3 = sum([p[3] for p in predictions])/len(predictions)\n",
    "reranked_accuracy_4 = sum([p[4] for p in predictions])/len(predictions)\n",
    "\n",
    "print('Opensource embedding model(BAAI/bge-m3)')\n",
    "print(f'Accuracy without re-ranking                            : {raw_accuracy}')\n",
    "print(f'Accuracy with re-ranking(mmarco-mMiniLMv2-L12-H384-v1) : {reranked_accuracy_1}')\n",
    "print(f'Accuracy with re-ranking(klue-cross-encoder-v1)        : {reranked_accuracy_2}')\n",
    "print(f'Accuracy with re-ranking(ms-marco-MiniLM-L-12-v2)      : {reranked_accuracy_3}')\n",
    "print(f'Accuracy with re-ranking(ms-marco-MiniLM-L-12-v2 tuning): {reranked_accuracy_4}')"
   ]
  },
  {
   "cell_type": "code",
   "execution_count": null,
   "id": "795704d6-48da-4b77-9eb9-7145805a02e4",
   "metadata": {},
   "outputs": [],
   "source": []
  }
 ],
 "metadata": {
  "kernelspec": {
   "display_name": "Python 3 (ipykernel)",
   "language": "python",
   "name": "python3"
  },
  "language_info": {
   "codemirror_mode": {
    "name": "ipython",
    "version": 3
   },
   "file_extension": ".py",
   "mimetype": "text/x-python",
   "name": "python",
   "nbconvert_exporter": "python",
   "pygments_lexer": "ipython3",
   "version": "3.10.13"
  }
 },
 "nbformat": 4,
 "nbformat_minor": 5
}
