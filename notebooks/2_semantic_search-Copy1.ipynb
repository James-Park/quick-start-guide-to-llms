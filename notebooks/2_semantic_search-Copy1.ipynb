{
 "cells": [
  {
   "cell_type": "code",
   "execution_count": 1,
   "id": "1ebcba99-5bfb-42af-aaec-ede0dbc87108",
   "metadata": {},
   "outputs": [],
   "source": [
    "BASE_DIR = \"\""
   ]
  },
  {
   "cell_type": "markdown",
   "id": "56f43b39-2243-40d4-a76d-60aa12661e98",
   "metadata": {},
   "source": [
    "# 0. Colab 환경 초기화 \n",
    "* local에서 실행시 불필요함"
   ]
  },
  {
   "cell_type": "code",
   "execution_count": 2,
   "id": "a8af383c-15ec-42d9-997d-69af2d6086be",
   "metadata": {},
   "outputs": [],
   "source": [
    "try:\n",
    "  import google.colab\n",
    "  IN_COLAB = True\n",
    "except:\n",
    "  IN_COLAB = False"
   ]
  },
  {
   "cell_type": "code",
   "execution_count": 3,
   "id": "c0013c2b-41c5-40e1-824a-5e69673064bd",
   "metadata": {
    "scrolled": true
   },
   "outputs": [
    {
     "name": "stdout",
     "output_type": "stream",
     "text": [
      "Requirement already satisfied: openai in /Users/wlkim/anaconda3/envs/quick-start-guide-to-llms/lib/python3.10/site-packages (1.14.3)\n",
      "Requirement already satisfied: anyio<5,>=3.5.0 in /Users/wlkim/anaconda3/envs/quick-start-guide-to-llms/lib/python3.10/site-packages (from openai) (4.3.0)\n",
      "Requirement already satisfied: distro<2,>=1.7.0 in /Users/wlkim/anaconda3/envs/quick-start-guide-to-llms/lib/python3.10/site-packages (from openai) (1.9.0)\n",
      "Requirement already satisfied: httpx<1,>=0.23.0 in /Users/wlkim/anaconda3/envs/quick-start-guide-to-llms/lib/python3.10/site-packages (from openai) (0.27.0)\n",
      "Requirement already satisfied: pydantic<3,>=1.9.0 in /Users/wlkim/anaconda3/envs/quick-start-guide-to-llms/lib/python3.10/site-packages (from openai) (2.6.3)\n",
      "Requirement already satisfied: sniffio in /Users/wlkim/anaconda3/envs/quick-start-guide-to-llms/lib/python3.10/site-packages (from openai) (1.3.1)\n",
      "Requirement already satisfied: tqdm>4 in /Users/wlkim/anaconda3/envs/quick-start-guide-to-llms/lib/python3.10/site-packages (from openai) (4.66.2)\n",
      "Requirement already satisfied: typing-extensions<5,>=4.7 in /Users/wlkim/anaconda3/envs/quick-start-guide-to-llms/lib/python3.10/site-packages (from openai) (4.10.0)\n",
      "Requirement already satisfied: idna>=2.8 in /Users/wlkim/anaconda3/envs/quick-start-guide-to-llms/lib/python3.10/site-packages (from anyio<5,>=3.5.0->openai) (3.6)\n",
      "Requirement already satisfied: exceptiongroup>=1.0.2 in /Users/wlkim/anaconda3/envs/quick-start-guide-to-llms/lib/python3.10/site-packages (from anyio<5,>=3.5.0->openai) (1.2.0)\n",
      "Requirement already satisfied: certifi in /Users/wlkim/anaconda3/envs/quick-start-guide-to-llms/lib/python3.10/site-packages (from httpx<1,>=0.23.0->openai) (2024.2.2)\n",
      "Requirement already satisfied: httpcore==1.* in /Users/wlkim/anaconda3/envs/quick-start-guide-to-llms/lib/python3.10/site-packages (from httpx<1,>=0.23.0->openai) (1.0.4)\n",
      "Requirement already satisfied: h11<0.15,>=0.13 in /Users/wlkim/anaconda3/envs/quick-start-guide-to-llms/lib/python3.10/site-packages (from httpcore==1.*->httpx<1,>=0.23.0->openai) (0.14.0)\n",
      "Requirement already satisfied: annotated-types>=0.4.0 in /Users/wlkim/anaconda3/envs/quick-start-guide-to-llms/lib/python3.10/site-packages (from pydantic<3,>=1.9.0->openai) (0.6.0)\n",
      "Requirement already satisfied: pydantic-core==2.16.3 in /Users/wlkim/anaconda3/envs/quick-start-guide-to-llms/lib/python3.10/site-packages (from pydantic<3,>=1.9.0->openai) (2.16.3)\n",
      "Requirement already satisfied: streamlit in /Users/wlkim/anaconda3/envs/quick-start-guide-to-llms/lib/python3.10/site-packages (1.31.1)\n",
      "Requirement already satisfied: altair<6,>=4.0 in /Users/wlkim/anaconda3/envs/quick-start-guide-to-llms/lib/python3.10/site-packages (from streamlit) (5.2.0)\n",
      "Requirement already satisfied: blinker<2,>=1.0.0 in /Users/wlkim/anaconda3/envs/quick-start-guide-to-llms/lib/python3.10/site-packages (from streamlit) (1.7.0)\n",
      "Requirement already satisfied: cachetools<6,>=4.0 in /Users/wlkim/anaconda3/envs/quick-start-guide-to-llms/lib/python3.10/site-packages (from streamlit) (5.3.3)\n",
      "Requirement already satisfied: click<9,>=7.0 in /Users/wlkim/anaconda3/envs/quick-start-guide-to-llms/lib/python3.10/site-packages (from streamlit) (8.1.7)\n",
      "Requirement already satisfied: importlib-metadata<8,>=1.4 in /Users/wlkim/anaconda3/envs/quick-start-guide-to-llms/lib/python3.10/site-packages (from streamlit) (6.11.0)\n",
      "Requirement already satisfied: numpy<2,>=1.19.3 in /Users/wlkim/anaconda3/envs/quick-start-guide-to-llms/lib/python3.10/site-packages (from streamlit) (1.26.4)\n",
      "Requirement already satisfied: packaging<24,>=16.8 in /Users/wlkim/anaconda3/envs/quick-start-guide-to-llms/lib/python3.10/site-packages (from streamlit) (23.2)\n",
      "Requirement already satisfied: pandas<3,>=1.3.0 in /Users/wlkim/anaconda3/envs/quick-start-guide-to-llms/lib/python3.10/site-packages (from streamlit) (2.2.1)\n",
      "Requirement already satisfied: pillow<11,>=7.1.0 in /Users/wlkim/anaconda3/envs/quick-start-guide-to-llms/lib/python3.10/site-packages (from streamlit) (10.2.0)\n",
      "Requirement already satisfied: protobuf<5,>=3.20 in /Users/wlkim/anaconda3/envs/quick-start-guide-to-llms/lib/python3.10/site-packages (from streamlit) (4.25.3)\n",
      "Requirement already satisfied: pyarrow>=7.0 in /Users/wlkim/anaconda3/envs/quick-start-guide-to-llms/lib/python3.10/site-packages (from streamlit) (15.0.0)\n",
      "Requirement already satisfied: python-dateutil<3,>=2.7.3 in /Users/wlkim/anaconda3/envs/quick-start-guide-to-llms/lib/python3.10/site-packages (from streamlit) (2.9.0.post0)\n",
      "Requirement already satisfied: requests<3,>=2.27 in /Users/wlkim/anaconda3/envs/quick-start-guide-to-llms/lib/python3.10/site-packages (from streamlit) (2.31.0)\n",
      "Requirement already satisfied: rich<14,>=10.14.0 in /Users/wlkim/anaconda3/envs/quick-start-guide-to-llms/lib/python3.10/site-packages (from streamlit) (13.7.1)\n",
      "Requirement already satisfied: tenacity<9,>=8.1.0 in /Users/wlkim/anaconda3/envs/quick-start-guide-to-llms/lib/python3.10/site-packages (from streamlit) (8.2.3)\n",
      "Requirement already satisfied: toml<2,>=0.10.1 in /Users/wlkim/anaconda3/envs/quick-start-guide-to-llms/lib/python3.10/site-packages (from streamlit) (0.10.2)\n",
      "Requirement already satisfied: typing-extensions<5,>=4.3.0 in /Users/wlkim/anaconda3/envs/quick-start-guide-to-llms/lib/python3.10/site-packages (from streamlit) (4.10.0)\n",
      "Requirement already satisfied: tzlocal<6,>=1.1 in /Users/wlkim/anaconda3/envs/quick-start-guide-to-llms/lib/python3.10/site-packages (from streamlit) (5.2)\n",
      "Requirement already satisfied: validators<1,>=0.2 in /Users/wlkim/anaconda3/envs/quick-start-guide-to-llms/lib/python3.10/site-packages (from streamlit) (0.22.0)\n",
      "Requirement already satisfied: gitpython!=3.1.19,<4,>=3.0.7 in /Users/wlkim/anaconda3/envs/quick-start-guide-to-llms/lib/python3.10/site-packages (from streamlit) (3.1.42)\n",
      "Requirement already satisfied: pydeck<1,>=0.8.0b4 in /Users/wlkim/anaconda3/envs/quick-start-guide-to-llms/lib/python3.10/site-packages (from streamlit) (0.8.1b0)\n",
      "Requirement already satisfied: tornado<7,>=6.0.3 in /Users/wlkim/anaconda3/envs/quick-start-guide-to-llms/lib/python3.10/site-packages (from streamlit) (6.4)\n",
      "Requirement already satisfied: jinja2 in /Users/wlkim/anaconda3/envs/quick-start-guide-to-llms/lib/python3.10/site-packages (from altair<6,>=4.0->streamlit) (3.1.3)\n",
      "Requirement already satisfied: jsonschema>=3.0 in /Users/wlkim/anaconda3/envs/quick-start-guide-to-llms/lib/python3.10/site-packages (from altair<6,>=4.0->streamlit) (4.21.1)\n",
      "Requirement already satisfied: toolz in /Users/wlkim/anaconda3/envs/quick-start-guide-to-llms/lib/python3.10/site-packages (from altair<6,>=4.0->streamlit) (0.12.1)\n",
      "Requirement already satisfied: gitdb<5,>=4.0.1 in /Users/wlkim/anaconda3/envs/quick-start-guide-to-llms/lib/python3.10/site-packages (from gitpython!=3.1.19,<4,>=3.0.7->streamlit) (4.0.11)\n",
      "Requirement already satisfied: zipp>=0.5 in /Users/wlkim/anaconda3/envs/quick-start-guide-to-llms/lib/python3.10/site-packages (from importlib-metadata<8,>=1.4->streamlit) (3.17.0)\n",
      "Requirement already satisfied: pytz>=2020.1 in /Users/wlkim/anaconda3/envs/quick-start-guide-to-llms/lib/python3.10/site-packages (from pandas<3,>=1.3.0->streamlit) (2024.1)\n",
      "Requirement already satisfied: tzdata>=2022.7 in /Users/wlkim/anaconda3/envs/quick-start-guide-to-llms/lib/python3.10/site-packages (from pandas<3,>=1.3.0->streamlit) (2024.1)\n",
      "Requirement already satisfied: six>=1.5 in /Users/wlkim/anaconda3/envs/quick-start-guide-to-llms/lib/python3.10/site-packages (from python-dateutil<3,>=2.7.3->streamlit) (1.16.0)\n",
      "Requirement already satisfied: charset-normalizer<4,>=2 in /Users/wlkim/anaconda3/envs/quick-start-guide-to-llms/lib/python3.10/site-packages (from requests<3,>=2.27->streamlit) (3.3.2)\n",
      "Requirement already satisfied: idna<4,>=2.5 in /Users/wlkim/anaconda3/envs/quick-start-guide-to-llms/lib/python3.10/site-packages (from requests<3,>=2.27->streamlit) (3.6)\n",
      "Requirement already satisfied: urllib3<3,>=1.21.1 in /Users/wlkim/anaconda3/envs/quick-start-guide-to-llms/lib/python3.10/site-packages (from requests<3,>=2.27->streamlit) (2.2.1)\n",
      "Requirement already satisfied: certifi>=2017.4.17 in /Users/wlkim/anaconda3/envs/quick-start-guide-to-llms/lib/python3.10/site-packages (from requests<3,>=2.27->streamlit) (2024.2.2)\n",
      "Requirement already satisfied: markdown-it-py>=2.2.0 in /Users/wlkim/anaconda3/envs/quick-start-guide-to-llms/lib/python3.10/site-packages (from rich<14,>=10.14.0->streamlit) (3.0.0)\n",
      "Requirement already satisfied: pygments<3.0.0,>=2.13.0 in /Users/wlkim/anaconda3/envs/quick-start-guide-to-llms/lib/python3.10/site-packages (from rich<14,>=10.14.0->streamlit) (2.17.2)\n",
      "Requirement already satisfied: smmap<6,>=3.0.1 in /Users/wlkim/anaconda3/envs/quick-start-guide-to-llms/lib/python3.10/site-packages (from gitdb<5,>=4.0.1->gitpython!=3.1.19,<4,>=3.0.7->streamlit) (5.0.1)\n",
      "Requirement already satisfied: MarkupSafe>=2.0 in /Users/wlkim/anaconda3/envs/quick-start-guide-to-llms/lib/python3.10/site-packages (from jinja2->altair<6,>=4.0->streamlit) (2.1.5)\n",
      "Requirement already satisfied: attrs>=22.2.0 in /Users/wlkim/anaconda3/envs/quick-start-guide-to-llms/lib/python3.10/site-packages (from jsonschema>=3.0->altair<6,>=4.0->streamlit) (23.2.0)\n",
      "Requirement already satisfied: jsonschema-specifications>=2023.03.6 in /Users/wlkim/anaconda3/envs/quick-start-guide-to-llms/lib/python3.10/site-packages (from jsonschema>=3.0->altair<6,>=4.0->streamlit) (2023.12.1)\n",
      "Requirement already satisfied: referencing>=0.28.4 in /Users/wlkim/anaconda3/envs/quick-start-guide-to-llms/lib/python3.10/site-packages (from jsonschema>=3.0->altair<6,>=4.0->streamlit) (0.33.0)\n",
      "Requirement already satisfied: rpds-py>=0.7.1 in /Users/wlkim/anaconda3/envs/quick-start-guide-to-llms/lib/python3.10/site-packages (from jsonschema>=3.0->altair<6,>=4.0->streamlit) (0.18.0)\n",
      "Requirement already satisfied: mdurl~=0.1 in /Users/wlkim/anaconda3/envs/quick-start-guide-to-llms/lib/python3.10/site-packages (from markdown-it-py>=2.2.0->rich<14,>=10.14.0->streamlit) (0.1.2)\n",
      "Requirement already satisfied: datasets in /Users/wlkim/anaconda3/envs/quick-start-guide-to-llms/lib/python3.10/site-packages (2.18.0)\n",
      "Requirement already satisfied: filelock in /Users/wlkim/anaconda3/envs/quick-start-guide-to-llms/lib/python3.10/site-packages (from datasets) (3.13.1)\n",
      "Requirement already satisfied: numpy>=1.17 in /Users/wlkim/anaconda3/envs/quick-start-guide-to-llms/lib/python3.10/site-packages (from datasets) (1.26.4)\n",
      "Requirement already satisfied: pyarrow>=12.0.0 in /Users/wlkim/anaconda3/envs/quick-start-guide-to-llms/lib/python3.10/site-packages (from datasets) (15.0.0)\n",
      "Requirement already satisfied: pyarrow-hotfix in /Users/wlkim/anaconda3/envs/quick-start-guide-to-llms/lib/python3.10/site-packages (from datasets) (0.6)\n",
      "Requirement already satisfied: dill<0.3.9,>=0.3.0 in /Users/wlkim/anaconda3/envs/quick-start-guide-to-llms/lib/python3.10/site-packages (from datasets) (0.3.8)\n",
      "Requirement already satisfied: pandas in /Users/wlkim/anaconda3/envs/quick-start-guide-to-llms/lib/python3.10/site-packages (from datasets) (2.2.1)\n",
      "Requirement already satisfied: requests>=2.19.0 in /Users/wlkim/anaconda3/envs/quick-start-guide-to-llms/lib/python3.10/site-packages (from datasets) (2.31.0)\n",
      "Requirement already satisfied: tqdm>=4.62.1 in /Users/wlkim/anaconda3/envs/quick-start-guide-to-llms/lib/python3.10/site-packages (from datasets) (4.66.2)\n",
      "Requirement already satisfied: xxhash in /Users/wlkim/anaconda3/envs/quick-start-guide-to-llms/lib/python3.10/site-packages (from datasets) (3.4.1)\n",
      "Requirement already satisfied: multiprocess in /Users/wlkim/anaconda3/envs/quick-start-guide-to-llms/lib/python3.10/site-packages (from datasets) (0.70.16)\n",
      "Requirement already satisfied: fsspec<=2024.2.0,>=2023.1.0 in /Users/wlkim/anaconda3/envs/quick-start-guide-to-llms/lib/python3.10/site-packages (from fsspec[http]<=2024.2.0,>=2023.1.0->datasets) (2024.2.0)\n",
      "Requirement already satisfied: aiohttp in /Users/wlkim/anaconda3/envs/quick-start-guide-to-llms/lib/python3.10/site-packages (from datasets) (3.9.3)\n",
      "Requirement already satisfied: huggingface-hub>=0.19.4 in /Users/wlkim/anaconda3/envs/quick-start-guide-to-llms/lib/python3.10/site-packages (from datasets) (0.21.4)\n",
      "Requirement already satisfied: packaging in /Users/wlkim/anaconda3/envs/quick-start-guide-to-llms/lib/python3.10/site-packages (from datasets) (23.2)\n",
      "Requirement already satisfied: pyyaml>=5.1 in /Users/wlkim/anaconda3/envs/quick-start-guide-to-llms/lib/python3.10/site-packages (from datasets) (6.0.1)\n",
      "Requirement already satisfied: aiosignal>=1.1.2 in /Users/wlkim/anaconda3/envs/quick-start-guide-to-llms/lib/python3.10/site-packages (from aiohttp->datasets) (1.3.1)\n",
      "Requirement already satisfied: attrs>=17.3.0 in /Users/wlkim/anaconda3/envs/quick-start-guide-to-llms/lib/python3.10/site-packages (from aiohttp->datasets) (23.2.0)\n",
      "Requirement already satisfied: frozenlist>=1.1.1 in /Users/wlkim/anaconda3/envs/quick-start-guide-to-llms/lib/python3.10/site-packages (from aiohttp->datasets) (1.4.1)\n",
      "Requirement already satisfied: multidict<7.0,>=4.5 in /Users/wlkim/anaconda3/envs/quick-start-guide-to-llms/lib/python3.10/site-packages (from aiohttp->datasets) (6.0.5)\n",
      "Requirement already satisfied: yarl<2.0,>=1.0 in /Users/wlkim/anaconda3/envs/quick-start-guide-to-llms/lib/python3.10/site-packages (from aiohttp->datasets) (1.9.4)\n",
      "Requirement already satisfied: async-timeout<5.0,>=4.0 in /Users/wlkim/anaconda3/envs/quick-start-guide-to-llms/lib/python3.10/site-packages (from aiohttp->datasets) (4.0.3)\n",
      "Requirement already satisfied: typing-extensions>=3.7.4.3 in /Users/wlkim/anaconda3/envs/quick-start-guide-to-llms/lib/python3.10/site-packages (from huggingface-hub>=0.19.4->datasets) (4.10.0)\n",
      "Requirement already satisfied: charset-normalizer<4,>=2 in /Users/wlkim/anaconda3/envs/quick-start-guide-to-llms/lib/python3.10/site-packages (from requests>=2.19.0->datasets) (3.3.2)\n",
      "Requirement already satisfied: idna<4,>=2.5 in /Users/wlkim/anaconda3/envs/quick-start-guide-to-llms/lib/python3.10/site-packages (from requests>=2.19.0->datasets) (3.6)\n",
      "Requirement already satisfied: urllib3<3,>=1.21.1 in /Users/wlkim/anaconda3/envs/quick-start-guide-to-llms/lib/python3.10/site-packages (from requests>=2.19.0->datasets) (2.2.1)\n",
      "Requirement already satisfied: certifi>=2017.4.17 in /Users/wlkim/anaconda3/envs/quick-start-guide-to-llms/lib/python3.10/site-packages (from requests>=2.19.0->datasets) (2024.2.2)\n",
      "Requirement already satisfied: python-dateutil>=2.8.2 in /Users/wlkim/anaconda3/envs/quick-start-guide-to-llms/lib/python3.10/site-packages (from pandas->datasets) (2.9.0.post0)\n",
      "Requirement already satisfied: pytz>=2020.1 in /Users/wlkim/anaconda3/envs/quick-start-guide-to-llms/lib/python3.10/site-packages (from pandas->datasets) (2024.1)\n",
      "Requirement already satisfied: tzdata>=2022.7 in /Users/wlkim/anaconda3/envs/quick-start-guide-to-llms/lib/python3.10/site-packages (from pandas->datasets) (2024.1)\n",
      "Requirement already satisfied: six>=1.5 in /Users/wlkim/anaconda3/envs/quick-start-guide-to-llms/lib/python3.10/site-packages (from python-dateutil>=2.8.2->pandas->datasets) (1.16.0)\n",
      "Requirement already satisfied: pinecone-client in /Users/wlkim/anaconda3/envs/quick-start-guide-to-llms/lib/python3.10/site-packages (3.1.0)\n",
      "Requirement already satisfied: certifi>=2019.11.17 in /Users/wlkim/anaconda3/envs/quick-start-guide-to-llms/lib/python3.10/site-packages (from pinecone-client) (2024.2.2)\n",
      "Requirement already satisfied: tqdm>=4.64.1 in /Users/wlkim/anaconda3/envs/quick-start-guide-to-llms/lib/python3.10/site-packages (from pinecone-client) (4.66.2)\n",
      "Requirement already satisfied: typing-extensions>=3.7.4 in /Users/wlkim/anaconda3/envs/quick-start-guide-to-llms/lib/python3.10/site-packages (from pinecone-client) (4.10.0)\n",
      "Requirement already satisfied: urllib3>=1.26.0 in /Users/wlkim/anaconda3/envs/quick-start-guide-to-llms/lib/python3.10/site-packages (from pinecone-client) (2.2.1)\n",
      "Requirement already satisfied: tiktoken in /Users/wlkim/anaconda3/envs/quick-start-guide-to-llms/lib/python3.10/site-packages (0.6.0)\n",
      "Requirement already satisfied: regex>=2022.1.18 in /Users/wlkim/anaconda3/envs/quick-start-guide-to-llms/lib/python3.10/site-packages (from tiktoken) (2023.12.25)\n",
      "Requirement already satisfied: requests>=2.26.0 in /Users/wlkim/anaconda3/envs/quick-start-guide-to-llms/lib/python3.10/site-packages (from tiktoken) (2.31.0)\n",
      "Requirement already satisfied: charset-normalizer<4,>=2 in /Users/wlkim/anaconda3/envs/quick-start-guide-to-llms/lib/python3.10/site-packages (from requests>=2.26.0->tiktoken) (3.3.2)\n",
      "Requirement already satisfied: idna<4,>=2.5 in /Users/wlkim/anaconda3/envs/quick-start-guide-to-llms/lib/python3.10/site-packages (from requests>=2.26.0->tiktoken) (3.6)\n",
      "Requirement already satisfied: urllib3<3,>=1.21.1 in /Users/wlkim/anaconda3/envs/quick-start-guide-to-llms/lib/python3.10/site-packages (from requests>=2.26.0->tiktoken) (2.2.1)\n",
      "Requirement already satisfied: certifi>=2017.4.17 in /Users/wlkim/anaconda3/envs/quick-start-guide-to-llms/lib/python3.10/site-packages (from requests>=2.26.0->tiktoken) (2024.2.2)\n",
      "Requirement already satisfied: PyPDF2 in /Users/wlkim/anaconda3/envs/quick-start-guide-to-llms/lib/python3.10/site-packages (3.0.1)\n",
      "Requirement already satisfied: sentence-transformers in /Users/wlkim/anaconda3/envs/quick-start-guide-to-llms/lib/python3.10/site-packages (2.5.1)\n",
      "Requirement already satisfied: transformers<5.0.0,>=4.32.0 in /Users/wlkim/anaconda3/envs/quick-start-guide-to-llms/lib/python3.10/site-packages (from sentence-transformers) (4.38.2)\n",
      "Requirement already satisfied: tqdm in /Users/wlkim/anaconda3/envs/quick-start-guide-to-llms/lib/python3.10/site-packages (from sentence-transformers) (4.66.2)\n",
      "Requirement already satisfied: torch>=1.11.0 in /Users/wlkim/anaconda3/envs/quick-start-guide-to-llms/lib/python3.10/site-packages (from sentence-transformers) (2.2.2)\n",
      "Requirement already satisfied: numpy in /Users/wlkim/anaconda3/envs/quick-start-guide-to-llms/lib/python3.10/site-packages (from sentence-transformers) (1.26.4)\n",
      "Requirement already satisfied: scikit-learn in /Users/wlkim/anaconda3/envs/quick-start-guide-to-llms/lib/python3.10/site-packages (from sentence-transformers) (1.4.1.post1)\n",
      "Requirement already satisfied: scipy in /Users/wlkim/anaconda3/envs/quick-start-guide-to-llms/lib/python3.10/site-packages (from sentence-transformers) (1.12.0)\n",
      "Requirement already satisfied: huggingface-hub>=0.15.1 in /Users/wlkim/anaconda3/envs/quick-start-guide-to-llms/lib/python3.10/site-packages (from sentence-transformers) (0.21.4)\n",
      "Requirement already satisfied: Pillow in /Users/wlkim/anaconda3/envs/quick-start-guide-to-llms/lib/python3.10/site-packages (from sentence-transformers) (10.2.0)\n",
      "Requirement already satisfied: filelock in /Users/wlkim/anaconda3/envs/quick-start-guide-to-llms/lib/python3.10/site-packages (from huggingface-hub>=0.15.1->sentence-transformers) (3.13.1)\n",
      "Requirement already satisfied: fsspec>=2023.5.0 in /Users/wlkim/anaconda3/envs/quick-start-guide-to-llms/lib/python3.10/site-packages (from huggingface-hub>=0.15.1->sentence-transformers) (2024.2.0)\n",
      "Requirement already satisfied: requests in /Users/wlkim/anaconda3/envs/quick-start-guide-to-llms/lib/python3.10/site-packages (from huggingface-hub>=0.15.1->sentence-transformers) (2.31.0)\n",
      "Requirement already satisfied: pyyaml>=5.1 in /Users/wlkim/anaconda3/envs/quick-start-guide-to-llms/lib/python3.10/site-packages (from huggingface-hub>=0.15.1->sentence-transformers) (6.0.1)\n",
      "Requirement already satisfied: typing-extensions>=3.7.4.3 in /Users/wlkim/anaconda3/envs/quick-start-guide-to-llms/lib/python3.10/site-packages (from huggingface-hub>=0.15.1->sentence-transformers) (4.10.0)\n",
      "Requirement already satisfied: packaging>=20.9 in /Users/wlkim/anaconda3/envs/quick-start-guide-to-llms/lib/python3.10/site-packages (from huggingface-hub>=0.15.1->sentence-transformers) (23.2)\n",
      "Requirement already satisfied: sympy in /Users/wlkim/anaconda3/envs/quick-start-guide-to-llms/lib/python3.10/site-packages (from torch>=1.11.0->sentence-transformers) (1.12)\n",
      "Requirement already satisfied: networkx in /Users/wlkim/anaconda3/envs/quick-start-guide-to-llms/lib/python3.10/site-packages (from torch>=1.11.0->sentence-transformers) (3.2.1)\n",
      "Requirement already satisfied: jinja2 in /Users/wlkim/anaconda3/envs/quick-start-guide-to-llms/lib/python3.10/site-packages (from torch>=1.11.0->sentence-transformers) (3.1.3)\n",
      "Requirement already satisfied: regex!=2019.12.17 in /Users/wlkim/anaconda3/envs/quick-start-guide-to-llms/lib/python3.10/site-packages (from transformers<5.0.0,>=4.32.0->sentence-transformers) (2023.12.25)\n",
      "Requirement already satisfied: tokenizers<0.19,>=0.14 in /Users/wlkim/anaconda3/envs/quick-start-guide-to-llms/lib/python3.10/site-packages (from transformers<5.0.0,>=4.32.0->sentence-transformers) (0.15.2)\n",
      "Requirement already satisfied: safetensors>=0.4.1 in /Users/wlkim/anaconda3/envs/quick-start-guide-to-llms/lib/python3.10/site-packages (from transformers<5.0.0,>=4.32.0->sentence-transformers) (0.4.2)\n",
      "Requirement already satisfied: joblib>=1.2.0 in /Users/wlkim/anaconda3/envs/quick-start-guide-to-llms/lib/python3.10/site-packages (from scikit-learn->sentence-transformers) (1.3.2)\n",
      "Requirement already satisfied: threadpoolctl>=2.0.0 in /Users/wlkim/anaconda3/envs/quick-start-guide-to-llms/lib/python3.10/site-packages (from scikit-learn->sentence-transformers) (3.3.0)\n",
      "Requirement already satisfied: MarkupSafe>=2.0 in /Users/wlkim/anaconda3/envs/quick-start-guide-to-llms/lib/python3.10/site-packages (from jinja2->torch>=1.11.0->sentence-transformers) (2.1.5)\n",
      "Requirement already satisfied: charset-normalizer<4,>=2 in /Users/wlkim/anaconda3/envs/quick-start-guide-to-llms/lib/python3.10/site-packages (from requests->huggingface-hub>=0.15.1->sentence-transformers) (3.3.2)\n",
      "Requirement already satisfied: idna<4,>=2.5 in /Users/wlkim/anaconda3/envs/quick-start-guide-to-llms/lib/python3.10/site-packages (from requests->huggingface-hub>=0.15.1->sentence-transformers) (3.6)\n",
      "Requirement already satisfied: urllib3<3,>=1.21.1 in /Users/wlkim/anaconda3/envs/quick-start-guide-to-llms/lib/python3.10/site-packages (from requests->huggingface-hub>=0.15.1->sentence-transformers) (2.2.1)\n",
      "Requirement already satisfied: certifi>=2017.4.17 in /Users/wlkim/anaconda3/envs/quick-start-guide-to-llms/lib/python3.10/site-packages (from requests->huggingface-hub>=0.15.1->sentence-transformers) (2024.2.2)\n",
      "Requirement already satisfied: mpmath>=0.19 in /Users/wlkim/anaconda3/envs/quick-start-guide-to-llms/lib/python3.10/site-packages (from sympy->torch>=1.11.0->sentence-transformers) (1.3.0)\n",
      "Requirement already satisfied: evaluate in /Users/wlkim/anaconda3/envs/quick-start-guide-to-llms/lib/python3.10/site-packages (0.4.1)\n",
      "Requirement already satisfied: datasets>=2.0.0 in /Users/wlkim/anaconda3/envs/quick-start-guide-to-llms/lib/python3.10/site-packages (from evaluate) (2.18.0)\n",
      "Requirement already satisfied: numpy>=1.17 in /Users/wlkim/anaconda3/envs/quick-start-guide-to-llms/lib/python3.10/site-packages (from evaluate) (1.26.4)\n",
      "Requirement already satisfied: dill in /Users/wlkim/anaconda3/envs/quick-start-guide-to-llms/lib/python3.10/site-packages (from evaluate) (0.3.8)\n",
      "Requirement already satisfied: pandas in /Users/wlkim/anaconda3/envs/quick-start-guide-to-llms/lib/python3.10/site-packages (from evaluate) (2.2.1)\n",
      "Requirement already satisfied: requests>=2.19.0 in /Users/wlkim/anaconda3/envs/quick-start-guide-to-llms/lib/python3.10/site-packages (from evaluate) (2.31.0)\n",
      "Requirement already satisfied: tqdm>=4.62.1 in /Users/wlkim/anaconda3/envs/quick-start-guide-to-llms/lib/python3.10/site-packages (from evaluate) (4.66.2)\n",
      "Requirement already satisfied: xxhash in /Users/wlkim/anaconda3/envs/quick-start-guide-to-llms/lib/python3.10/site-packages (from evaluate) (3.4.1)\n",
      "Requirement already satisfied: multiprocess in /Users/wlkim/anaconda3/envs/quick-start-guide-to-llms/lib/python3.10/site-packages (from evaluate) (0.70.16)\n",
      "Requirement already satisfied: fsspec>=2021.05.0 in /Users/wlkim/anaconda3/envs/quick-start-guide-to-llms/lib/python3.10/site-packages (from fsspec[http]>=2021.05.0->evaluate) (2024.2.0)\n",
      "Requirement already satisfied: huggingface-hub>=0.7.0 in /Users/wlkim/anaconda3/envs/quick-start-guide-to-llms/lib/python3.10/site-packages (from evaluate) (0.21.4)\n",
      "Requirement already satisfied: packaging in /Users/wlkim/anaconda3/envs/quick-start-guide-to-llms/lib/python3.10/site-packages (from evaluate) (23.2)\n",
      "Requirement already satisfied: responses<0.19 in /Users/wlkim/anaconda3/envs/quick-start-guide-to-llms/lib/python3.10/site-packages (from evaluate) (0.18.0)\n",
      "Requirement already satisfied: filelock in /Users/wlkim/anaconda3/envs/quick-start-guide-to-llms/lib/python3.10/site-packages (from datasets>=2.0.0->evaluate) (3.13.1)\n",
      "Requirement already satisfied: pyarrow>=12.0.0 in /Users/wlkim/anaconda3/envs/quick-start-guide-to-llms/lib/python3.10/site-packages (from datasets>=2.0.0->evaluate) (15.0.0)\n",
      "Requirement already satisfied: pyarrow-hotfix in /Users/wlkim/anaconda3/envs/quick-start-guide-to-llms/lib/python3.10/site-packages (from datasets>=2.0.0->evaluate) (0.6)\n",
      "Requirement already satisfied: aiohttp in /Users/wlkim/anaconda3/envs/quick-start-guide-to-llms/lib/python3.10/site-packages (from datasets>=2.0.0->evaluate) (3.9.3)\n",
      "Requirement already satisfied: pyyaml>=5.1 in /Users/wlkim/anaconda3/envs/quick-start-guide-to-llms/lib/python3.10/site-packages (from datasets>=2.0.0->evaluate) (6.0.1)\n",
      "Requirement already satisfied: typing-extensions>=3.7.4.3 in /Users/wlkim/anaconda3/envs/quick-start-guide-to-llms/lib/python3.10/site-packages (from huggingface-hub>=0.7.0->evaluate) (4.10.0)\n",
      "Requirement already satisfied: charset-normalizer<4,>=2 in /Users/wlkim/anaconda3/envs/quick-start-guide-to-llms/lib/python3.10/site-packages (from requests>=2.19.0->evaluate) (3.3.2)\n",
      "Requirement already satisfied: idna<4,>=2.5 in /Users/wlkim/anaconda3/envs/quick-start-guide-to-llms/lib/python3.10/site-packages (from requests>=2.19.0->evaluate) (3.6)\n",
      "Requirement already satisfied: urllib3<3,>=1.21.1 in /Users/wlkim/anaconda3/envs/quick-start-guide-to-llms/lib/python3.10/site-packages (from requests>=2.19.0->evaluate) (2.2.1)\n",
      "Requirement already satisfied: certifi>=2017.4.17 in /Users/wlkim/anaconda3/envs/quick-start-guide-to-llms/lib/python3.10/site-packages (from requests>=2.19.0->evaluate) (2024.2.2)\n",
      "Requirement already satisfied: python-dateutil>=2.8.2 in /Users/wlkim/anaconda3/envs/quick-start-guide-to-llms/lib/python3.10/site-packages (from pandas->evaluate) (2.9.0.post0)\n",
      "Requirement already satisfied: pytz>=2020.1 in /Users/wlkim/anaconda3/envs/quick-start-guide-to-llms/lib/python3.10/site-packages (from pandas->evaluate) (2024.1)\n",
      "Requirement already satisfied: tzdata>=2022.7 in /Users/wlkim/anaconda3/envs/quick-start-guide-to-llms/lib/python3.10/site-packages (from pandas->evaluate) (2024.1)\n",
      "Requirement already satisfied: aiosignal>=1.1.2 in /Users/wlkim/anaconda3/envs/quick-start-guide-to-llms/lib/python3.10/site-packages (from aiohttp->datasets>=2.0.0->evaluate) (1.3.1)\n",
      "Requirement already satisfied: attrs>=17.3.0 in /Users/wlkim/anaconda3/envs/quick-start-guide-to-llms/lib/python3.10/site-packages (from aiohttp->datasets>=2.0.0->evaluate) (23.2.0)\n",
      "Requirement already satisfied: frozenlist>=1.1.1 in /Users/wlkim/anaconda3/envs/quick-start-guide-to-llms/lib/python3.10/site-packages (from aiohttp->datasets>=2.0.0->evaluate) (1.4.1)\n",
      "Requirement already satisfied: multidict<7.0,>=4.5 in /Users/wlkim/anaconda3/envs/quick-start-guide-to-llms/lib/python3.10/site-packages (from aiohttp->datasets>=2.0.0->evaluate) (6.0.5)\n",
      "Requirement already satisfied: yarl<2.0,>=1.0 in /Users/wlkim/anaconda3/envs/quick-start-guide-to-llms/lib/python3.10/site-packages (from aiohttp->datasets>=2.0.0->evaluate) (1.9.4)\n",
      "Requirement already satisfied: async-timeout<5.0,>=4.0 in /Users/wlkim/anaconda3/envs/quick-start-guide-to-llms/lib/python3.10/site-packages (from aiohttp->datasets>=2.0.0->evaluate) (4.0.3)\n",
      "Requirement already satisfied: six>=1.5 in /Users/wlkim/anaconda3/envs/quick-start-guide-to-llms/lib/python3.10/site-packages (from python-dateutil>=2.8.2->pandas->evaluate) (1.16.0)\n"
     ]
    }
   ],
   "source": [
    "!pip install openai\n",
    "!pip install streamlit\n",
    "!pip install datasets\n",
    "!pip install pinecone-client\n",
    "!pip install tiktoken\n",
    "!pip install PyPDF2\n",
    "!pip install sentence-transformers\n",
    "!pip install evaluate"
   ]
  },
  {
   "cell_type": "code",
   "execution_count": 4,
   "id": "f6c9aa3d-6d6c-4950-b6fe-cc0553b4d921",
   "metadata": {},
   "outputs": [],
   "source": [
    "###########################################\n",
    "# 1-1. Google drive mount\n",
    "\n",
    "if IN_COLAB == True:\n",
    "    from google.colab import drive\n",
    "    drive.mount('/content/drive')\n",
    "    \n",
    "    BASE_DIR = \"/content/drive/MyDrive/Colab Notebooks/quick-start-guide-to-llms/notebooks/\""
   ]
  },
  {
   "cell_type": "code",
   "execution_count": 5,
   "id": "54eb8284-59ac-4304-819b-05d93bb75c11",
   "metadata": {},
   "outputs": [
    {
     "name": "stdout",
     "output_type": "stream",
     "text": [
      "zsh:cd:1: no such file or directory: /content/drive/MyDrive/Colab Notebooks/quick-start-guide-to-llms/notebooks\n"
     ]
    }
   ],
   "source": [
    "!cd \"/content/drive/MyDrive/Colab Notebooks/quick-start-guide-to-llms/notebooks\""
   ]
  },
  {
   "cell_type": "markdown",
   "id": "b924ea2b-e103-4279-975c-92cb6eddde45",
   "metadata": {},
   "source": [
    "이 노트북은 최신 openai 패키지 버전을 사용하도록 업데이트되었습니다! 당시 1.6.1"
   ]
  },
  {
   "cell_type": "markdown",
   "id": "9c16c8ce-898f-4eb4-a679-fc61a9859634",
   "metadata": {},
   "source": [
    "# 1. OpenAI 모델로 애플리케이션 시작하기\n",
    "* 독점 모델 개요\n",
    "* OpenAI + 임베딩 / GPT3 / ChatGPT 소개\n",
    "* 벡터 데이터베이스 소개\n",
    "* 벡터 데이터베이스, BERT 및 GPT3로 신경/의미 정보 검색 시스템 구축하기"
   ]
  },
  {
   "cell_type": "markdown",
   "id": "ca9ca6e7-c784-4a2a-af2a-5f273f8fefd7",
   "metadata": {},
   "source": [
    "## 1.1 초기화"
   ]
  },
  {
   "cell_type": "code",
   "execution_count": 6,
   "id": "c12182ab",
   "metadata": {},
   "outputs": [],
   "source": [
    "from openai import OpenAI\n",
    "from datetime import datetime\n",
    "import hashlib\n",
    "import re\n",
    "import os\n",
    "from tqdm import tqdm\n",
    "import numpy as np\n",
    "\n",
    "import logging\n",
    "\n",
    "logger = logging.getLogger()\n",
    "logger.setLevel(logging.DEBUG)"
   ]
  },
  {
   "cell_type": "code",
   "execution_count": 7,
   "id": "f0289c54",
   "metadata": {},
   "outputs": [],
   "source": [
    "if IN_COLAB == True:\n",
    "    pinecone_key = \"6f77dabc-...-08fb8cd4e353\"\n",
    "    openai_key=\"sk-ctO...Mb5xgXw\"\n",
    "else:\n",
    "    pinecone_key = os.environ.get('PINECONE_API_KEY')\n",
    "    openai_key=os.environ.get(\"OPENAI_API_KEY\")\n",
    "    \n",
    "client = OpenAI(\n",
    "    api_key=openai_key\n",
    ")\n",
    "\n",
    "INDEX_NAME = 'semantic-search'\n",
    "NAMESPACE = 'default'\n",
    "ENGINE = 'text-embedding-ada-002'\n",
    "ENGINE_2 = 'text-embedding-ada-002'\n",
    "ENGINE_3_S = 'text-embedding-3-small'  # OpenAI의 3세대 embedding 모델 (소형)\n",
    "ENGINE_3_L = 'text-embedding-3-large'  # OpenAI의 3세대 embedding 모델 (대형)"
   ]
  },
  {
   "cell_type": "code",
   "execution_count": 8,
   "id": "b9befee1",
   "metadata": {},
   "outputs": [],
   "source": [
    "# 기존 소스 오류 수정\n",
    "# import pinecone\n",
    "# pinecone.init(api_key=pinecone_key, environment=\"us-west1-gcp\")\n",
    "\n",
    "from pinecone import Pinecone, PodSpec\n",
    "pinecone = Pinecone(api_key=pinecone_key)"
   ]
  },
  {
   "cell_type": "markdown",
   "id": "898a37b9-5426-4030-939a-4d7cbf702d87",
   "metadata": {},
   "source": [
    "## 1.2 OpenAI \n",
    "### 임베딩 함수"
   ]
  },
  {
   "cell_type": "code",
   "execution_count": 12,
   "id": "3cf993a3-6d51-49f4-8968-60f654d6202d",
   "metadata": {},
   "outputs": [
    {
     "data": {
      "text/plain": [
       "(1536, 2)"
      ]
     },
     "execution_count": 12,
     "metadata": {},
     "output_type": "execute_result"
    }
   ],
   "source": [
    "# OpenAI API에서 임베딩 목록을 가져오는 헬퍼 함수\n",
    "def get_embeddings(texts, engine=ENGINE):\n",
    "    response = client.embeddings.create(\n",
    "        input=texts,\n",
    "        model=engine\n",
    "    )\n",
    "    \n",
    "    return [d.embedding for d in list(response.data)]\n",
    "\n",
    "def get_embedding(text, engine=ENGINE):\n",
    "    return get_embeddings([text], engine)[0]\n",
    "    \n",
    "len(get_embedding('hi')), len(get_embeddings(['hi', 'hello']))"
   ]
  },
  {
   "cell_type": "markdown",
   "id": "5b44e4e4-e506-41ef-8ce6-ec5e0b2864de",
   "metadata": {},
   "source": [
    "### 토크나이저"
   ]
  },
  {
   "cell_type": "code",
   "execution_count": 11,
   "id": "72729603",
   "metadata": {},
   "outputs": [
    {
     "data": {
      "text/plain": [
       "[36661, 1070]"
      ]
     },
     "execution_count": 11,
     "metadata": {},
     "output_type": "execute_result"
    }
   ],
   "source": [
    "# 틱토큰 라이브러리 가져오기\n",
    "import tiktoken\n",
    "\n",
    "# 'cl100k_base' 모델에 대한 토큰화 도구 초기화하기\n",
    "# 이 토큰화 도구는 'ada-002' 임베딩 모델과 함께 작동하도록 설계되었습니다.\n",
    "tokenizer = tiktoken.get_encoding(\"cl100k_base\")\n",
    "\n",
    "# 토큰라이저를 사용하여 'hey there' 텍스트를 인코딩하기\n",
    "# 결과 출력은 인코딩된 텍스트를 나타내는 정수 목록입니다.\n",
    "# 'ada-002' 모델을 사용하여 임베딩하는 데 필요한 입력 형식입니다.\n",
    "tokenizer.encode('hey there')"
   ]
  },
  {
   "cell_type": "code",
   "execution_count": 13,
   "id": "902f0d23-f192-4635-a137-2865cda5425e",
   "metadata": {},
   "outputs": [
    {
     "data": {
      "text/plain": [
       "[31495, 230, 75265, 243]"
      ]
     },
     "execution_count": 13,
     "metadata": {},
     "output_type": "execute_result"
    }
   ],
   "source": [
    "tokenizer.encode('안녕')"
   ]
  },
  {
   "cell_type": "code",
   "execution_count": 14,
   "id": "8e0dcdb2-2073-4f2d-a252-520fa41bab21",
   "metadata": {},
   "outputs": [
    {
     "name": "stdout",
     "output_type": "stream",
     "text": [
      "1\n",
      "4\n"
     ]
    }
   ],
   "source": [
    "print(len(tokenizer.encode('hi')))\n",
    "print(len(tokenizer.encode('안녕')))"
   ]
  },
  {
   "cell_type": "markdown",
   "id": "dc9ea179-b079-4c95-b664-b7606b020f07",
   "metadata": {},
   "source": [
    "## 1.3 유사도 계산"
   ]
  },
  {
   "cell_type": "markdown",
   "id": "568cf581-f2a2-4cb5-9924-e22519c6e8eb",
   "metadata": {},
   "source": [
    "## 1.5 문서 청킹\n",
    "\n",
    "### 문서 청킹 함수"
   ]
  },
  {
   "cell_type": "code",
   "execution_count": 15,
   "id": "84f34d65",
   "metadata": {},
   "outputs": [],
   "source": [
    "# 텍스트를 최대 토큰 수의 청크로 분할하는 함수입니다. OpenAI에서 영감을 얻음\n",
    "def overlapping_chunks(text, max_tokens = 500, overlapping_factor = 5):\n",
    "    '''\n",
    "    max_tokens: 청크당 원하는 토큰 수\n",
    "    overlapping_factor: 이전 청크와 겹치는 각 청크를 시작할 문장 수\n",
    "    '''\n",
    "\n",
    "    # 문장 부호를 사용하여 텍스트 분할\n",
    "    sentences = re.split(r'[.?!]', text)\n",
    "\n",
    "    # 각 문장의 토큰 개수 가져오기\n",
    "    n_tokens = [len(tokenizer.encode(\" \" + sentence)) for sentence in sentences]\n",
    "    \n",
    "    chunks, tokens_so_far, chunk = [], 0, []\n",
    "\n",
    "    # 튜플로 결합된 문장과 토큰을 반복합니다.\n",
    "    for sentence, token in zip(sentences, n_tokens):\n",
    "\n",
    "        # 지금까지의 토큰 수에 현재 문장의 토큰 수를 더한 수가 \n",
    "        # 최대 토큰 수보다 크면 청크 목록에 청크를 추가하고 재설정합니다.\n",
    "        # 청크와 지금까지의 토큰을 재설정합니다.\n",
    "        if tokens_so_far + token > max_tokens:\n",
    "            chunks.append(\". \".join(chunk) + \".\")\n",
    "            if overlapping_factor > 0:\n",
    "                chunk = chunk[-overlapping_factor:]\n",
    "                tokens_so_far = sum([len(tokenizer.encode(c)) for c in chunk])\n",
    "            else:\n",
    "                chunk = []\n",
    "                tokens_so_far = 0\n",
    "\n",
    "        # 현재 문장의 토큰 수가 최대 토큰 수보다 많으면 \n",
    "        # 토큰 수보다 많으면 다음 문장으로 이동합니다.\n",
    "        if token > max_tokens:\n",
    "            continue\n",
    "\n",
    "        # 그렇지 않으면, 청크에 문장을 추가하고 토큰 수를 합산합니다.\n",
    "        chunk.append(sentence)\n",
    "        tokens_so_far += token + 1\n",
    "    if chunk:\n",
    "        chunks.append(\". \".join(chunk) + \".\")\n",
    "\n",
    "    return chunks"
   ]
  },
  {
   "cell_type": "markdown",
   "id": "0ce3e472-998f-43d3-87f0-4c08754dbc86",
   "metadata": {},
   "source": [
    "### pdf 문서 읽기"
   ]
  },
  {
   "cell_type": "code",
   "execution_count": 23,
   "id": "3164e0ba",
   "metadata": {},
   "outputs": [
    {
     "name": "stderr",
     "output_type": "stream",
     "text": [
      "100%|█████████████████████████████████████████████████████████████████████| 40/40 [00:01<00:00, 35.50it/s]\n",
      "100%|█████████████████████████████████████████████████████████████████████| 40/40 [00:01<00:00, 38.01it/s]\n",
      "100%|█████████████████████████████████████████████████████████████████████| 40/40 [00:01<00:00, 39.47it/s]"
     ]
    },
    {
     "name": "stdout",
     "output_type": "stream",
     "text": [
      "14031\n",
      "15259\n",
      "15275\n"
     ]
    },
    {
     "name": "stderr",
     "output_type": "stream",
     "text": [
      "\n"
     ]
    }
   ],
   "source": [
    "import PyPDF2\n",
    "\n",
    "principles_of_ko = ''\n",
    "principles_of_jp1 = ''\n",
    "principles_of_jp2 = ''\n",
    "\n",
    "# 읽기 바이너리 모드로 PDF 파일 열기\n",
    "with open(BASE_DIR + '../data/matrix_ko.pdf', 'rb') as file:\n",
    "\n",
    "    # PDF 리더 객체를 만듭니다.\n",
    "    reader = PyPDF2.PdfReader(file)\n",
    "\n",
    "    # 텍스트를 담을 빈 문자열을 초기화합니다.\n",
    "    principles_of_ko = ''\n",
    "    # PDF 파일의 각 페이지를 반복합니다.\n",
    "    for page in tqdm(reader.pages):\n",
    "        text = page.extract_text()\n",
    "        principles_of_ko += '\\n\\n' + text[text.find(' ]')+2:]\n",
    "\n",
    "# PDF 파일의 모든 텍스트가 포함된 최종 문자열을 인쇄합니다.\n",
    "principles_of_ko = principles_of_ko.strip()\n",
    "\n",
    "\n",
    "# 읽기 바이너리 모드로 PDF 파일 열기\n",
    "with open(BASE_DIR + '../data/matrix_jp_1.pdf', 'rb') as file:\n",
    "\n",
    "    # PDF 리더 객체를 만듭니다.\n",
    "    reader = PyPDF2.PdfReader(file)\n",
    "\n",
    "    # 텍스트를 담을 빈 문자열을 초기화합니다.\n",
    "    principles_of_jp1 = ''\n",
    "    # PDF 파일의 각 페이지를 반복합니다.\n",
    "    for page in tqdm(reader.pages):\n",
    "        text = page.extract_text()\n",
    "        principles_of_jp1 += '\\n\\n' + text[text.find(' ]')+2:]\n",
    "\n",
    "# PDF 파일의 모든 텍스트가 포함된 최종 문자열을 인쇄합니다.\n",
    "principles_of_jp1 = principles_of_jp1.strip()\n",
    "\n",
    "\n",
    "# 읽기 바이너리 모드로 PDF 파일 열기\n",
    "with open(BASE_DIR + '../data/matrix_jp_2.pdf', 'rb') as file:\n",
    "\n",
    "    # PDF 리더 객체를 만듭니다.\n",
    "    reader = PyPDF2.PdfReader(file)\n",
    "\n",
    "    # 텍스트를 담을 빈 문자열을 초기화합니다.\n",
    "    principles_of_jp2 = ''\n",
    "    # PDF 파일의 각 페이지를 반복합니다.\n",
    "    for page in tqdm(reader.pages):\n",
    "        text = page.extract_text()\n",
    "        principles_of_jp2 += '\\n\\n' + text[text.find(' ]')+2:]\n",
    "\n",
    "# PDF 파일의 모든 텍스트가 포함된 최종 문자열을 인쇄합니다.\n",
    "principles_of_jp2 = principles_of_jp2.strip()\n",
    "\n",
    "\n",
    "\n",
    "print(len(principles_of_ko))\n",
    "print(len(principles_of_jp1))\n",
    "print(len(principles_of_jp2))\n"
   ]
  },
  {
   "cell_type": "code",
   "execution_count": 22,
   "id": "5e50d445-f8f4-4ef3-b38e-40fc65aa2dc2",
   "metadata": {},
   "outputs": [
    {
     "name": "stderr",
     "output_type": "stream",
     "text": [
      "100%|█████████████████████████████████████████████████████████████████████| 40/40 [00:01<00:00, 35.83it/s]"
     ]
    },
    {
     "name": "stdout",
     "output_type": "stream",
     "text": [
      "14031\n"
     ]
    },
    {
     "name": "stderr",
     "output_type": "stream",
     "text": [
      "\n"
     ]
    }
   ],
   "source": [
    "principles_of_jp1 = ''\n",
    "\n",
    "# 읽기 바이너리 모드로 PDF 파일 열기\n",
    "with open(BASE_DIR + '../data/matrix_jp_1.pdf', 'rb') as file:\n",
    "\n",
    "    # PDF 리더 객체를 만듭니다.\n",
    "    reader = PyPDF2.PdfReader(file)\n",
    "\n",
    "    # 텍스트를 담을 빈 문자열을 초기화합니다.\n",
    "    principles_of_jp1 = ''\n",
    "    # PDF 파일의 각 페이지를 반복합니다.\n",
    "    for page in tqdm(reader.pages):\n",
    "        text = page.extract_text()\n",
    "        principles_of_jp1 += '\\n\\n' + text[text.find(' ]')+2:]\n",
    "\n",
    "# PDF 파일의 모든 텍스트가 포함된 최종 문자열을 인쇄합니다.\n",
    "principles_of_jp1 = principles_of_jp1.strip()\n",
    "\n",
    "print(len(principles_of_jp1))"
   ]
  },
  {
   "cell_type": "code",
   "execution_count": 21,
   "id": "7652d298-e3c7-4659-8f74-250e25682a76",
   "metadata": {},
   "outputs": [
    {
     "name": "stderr",
     "output_type": "stream",
     "text": [
      "100%|█████████████████████████████████████████████████████████████████████| 40/40 [00:01<00:00, 38.05it/s]"
     ]
    },
    {
     "name": "stdout",
     "output_type": "stream",
     "text": [
      "14031\n"
     ]
    },
    {
     "name": "stderr",
     "output_type": "stream",
     "text": [
      "\n"
     ]
    }
   ],
   "source": [
    "principles_of_jp2 = ''\n",
    "\n",
    "# 읽기 바이너리 모드로 PDF 파일 열기\n",
    "with open(BASE_DIR + '../data/matrix_jp_2.pdf', 'rb') as file:\n",
    "\n",
    "    # PDF 리더 객체를 만듭니다.\n",
    "    reader = PyPDF2.PdfReader(file)\n",
    "\n",
    "    # 텍스트를 담을 빈 문자열을 초기화합니다.\n",
    "    principles_of_jp2 = ''\n",
    "    # PDF 파일의 각 페이지를 반복합니다.\n",
    "    for page in tqdm(reader.pages):\n",
    "        text = page.extract_text()\n",
    "        principles_of_jp2 += '\\n\\n' + text[text.find(' ]')+2:]\n",
    "\n",
    "# PDF 파일의 모든 텍스트가 포함된 최종 문자열을 인쇄합니다.\n",
    "principles_of_jp2 = principles_of_jp2.strip()\n",
    "\n",
    "print(len(principles_of_jp2))"
   ]
  },
  {
   "cell_type": "code",
   "execution_count": 18,
   "id": "e50307dc-64cf-42dc-b3c0-f197da1c5e73",
   "metadata": {
    "scrolled": true
   },
   "outputs": [
    {
     "name": "stdout",
     "output_type": "stream",
     "text": [
      "eyond Web TechnologyCreate New Business Value\n",
      "W-Matrix는웹기술로모바일앱을구현할수있는하이브리드개발프레임워크를제공하며모바일환경에서필요한네이티브기능을플러그인으로제공하여비즈니스앱에쉽고편리하게통합할수있도록하는엔터프라이즈크로스앱플랫폼입니다. Mobile App Platform\n",
      "for Mobile\n",
      "\n",
      "-Matrixfor MobileMobile App PlatformUniversal App PlatformIntegrated build and deploymentUI mirroring & device sharingEdge-device managementDevelop big data using AIContent제품배경제품이력제품개요제품구성03제품일반\n",
      "Architecture개발프로세스개발환경운영환경지원사양기대효과08제품기능및특장점\n",
      "주요실적32적용사례회사개요인원현황Product Lineup36회사소개\n",
      "\n",
      "품일반01\n",
      "제품배경제품이력제품개요제품구성\n",
      "\n",
      "품배경제품일반Matrix for Mobile App PlatformNative App\n",
      "•모든네이티브기능활용•OS 별코드파편화•매우높은러닝커브•플랫폼별복잡한빌드배포\n",
      "1stGenObjective-C/SwiftAndroid Java/KotlinWindows .NETHybrid App\n",
      "•낮은러닝커브의웹표준기술•플러그인기반의네이티브기능•PC 플랫폼미지원2ndGenUniversal App\n",
      "•모바일/PC 플랫폼빌드/배포지원(iOS, Android, Windows)•오프라인모드지원3thGen\n",
      "웹표준기술•크로스플랫폼App•Co-Platform 간협업•쉽고편리한App 개발\n",
      "•Hybrid App 장점계승•웹표준기술로Native Plugin 사용\n",
      "1세대네이티브앱과2세대하이브리드앱을넘어선멀티플랫폼지원과공유와협업을제공하는3세대App 플랫폼\n",
      "for Mobile\n",
      "\n",
      "품이력제품일반\n",
      "W3CHTML5\n",
      "Apple iOS 3.0 발표(iPhone 3GS)안드로이드OS 1.0 발표국내아이폰3GS 정식발매삼성안드로이드기반갤럭시S 출시MS Windows 10 출시Apple macOS 출시Microsoft Store 변경웹스퀘어HybridApp출시HTML5 UI 플랫폼웹스퀘어5 출시W-Browser출시WGear출시WGearGS 인증W-Hybrid출시W-HybridGS 인증W-Hive출시W-Matrix Beta공개W-Matrixfor Mobile출시2009.06\n",
      "2014.032009.092009.112010.03\n",
      "2016.062017.102015.072016.052017.012018.062020.052020.112021.032011.092015.07\n",
      "2020.08\n",
      "for Mobile\n",
      "\n",
      "하이브리드앱장점을계승한크로스플랫폼App•웹표준기술로네이티브기능구현•멀티플랫폼지원Universal App Platform\n",
      "•네트워크장애시대응하는오프라인모드지원•인앱업데이트(InAppUpdate)를통해앱스토어가아닌앱내파일업데이트갱신지원•디바이스, OS 구분없이독립적이고안정적인운영지원운영/유지보수네이티브플러그인\n",
      "빌드/배포시스템제품개요제품일반디지털트랜스포메이션을위한MobileAppPlatform“W-Matrix forMobile”•Android•iOS, iPadOS•Windows•Linux•MacOS\n",
      "01020403•플랫폼별네이티브연동을위한플러그인API 제공(JS)•다양한3rd Party 연동을위한네이티브플러그인\n",
      "•Windows, iOS, Android 환경을모두지원하는App 빌드/배포시스템•네이티브개발자최소화실행환경\n",
      "•Web Standard Development•Built-in Native Plugin•Build Automation•DeployAutomation개발환경•Ofline Mode•InAppUpdate•Stable operation support운영환경\n",
      "\n",
      "품구성제품일반W-Matrix는크로스플랫폼간데이터공유와협업을위한개발환경, 실행환경, 운영환경을제공합니다\n",
      "W-Matrix for WindowsW-Matrix forAndroidW-Matrix foriOSBuild\n",
      "Plugin UDCW-Hive※ 별도제품\n",
      "개발환경\n",
      "실행환경개발도구(W-Matrix Studio)W-Gear, W-Browser\n",
      "APP 구조\n",
      "UI DesignBusiness Logic\n",
      "NativeWrapperWeb View\n",
      "Device\n",
      "\n",
      "품기능및특장점02\n",
      "Architecture개발프로세스개발환경운영환경지원사양기대효과\n",
      "\n",
      "rchitecture제품기능및특장점W-Matrix for Mobile은크로스플랫폼을지원하는모바일앱솔루션W-Matrix for Mobile Studio\n",
      "Web ResourceHTML/CSS/JSW-Matrix Platform앱스토어\n",
      "배포서버\n",
      "프로젝트생성빌드/배포서버빌드/배포서버(W-Hive)NativeProject 생성NativeTemplate 선택NativePlugin 추가App 빌드App 배포\n",
      "UI Tool(화면개발)Dev Kit내장WASEmulatorApp 실행디버깅배포통신배포설치\n",
      "W-Matrix ConfigResource Manager앱설정모듈서버모듈리소스검증In App UpdateBackend Framework비즈니스모듈Web View웹리소스Html, css, js, etc…\n",
      "Mobile OSW-MatrixRuntime EngineNative PluginCameraGPSEtc..ContactBasic3rdParty공인인증암호화Etc..전자서명Matrix AppClient\n",
      "Server\n",
      "\n",
      "rchitecture제품기능및특장점W-Matrixfor Mobile개발환경은Native개발자투입최소화\n",
      "Windows 개발자Flash 개발자Java 개발자Web 개발자Android 개발자iOS 개발자업무로직C++, C#, VB,Flash, Java,Web(+ ActiveX)JavaKotlinObjective-CSwiftVisual StudioFlash BuilderEclipse각종EditorAndroid StudioXcodeEXESWFAppletActive-XWebAPKIPA개발자업무로직개발언어개발/빌드도구프로그램플랫폼\n",
      "업무로직업무로직\n",
      "Web 개발자업무로직HTML JavaScript CSSW-Matrixfor MobileEXE/APK/AAB/IPAW-Hive관리자CIContinuous integration\n",
      "\n",
      "\n",
      "발프로세스제품기능및특장점W-Matrix for Mobile 개발프로세스\n",
      "App 컨텐츠작성Native 플러그인선택플랫폼별빌드App 생성1.Web Resource2.Native Resource1.W-Matrix Native Plugin1.iOS Build2.Android Build1.App GenerationW-Matrix for Mobile은iOS, Android 환경을지원하는App을만들기위해필수적인Native 기능을OS 별플러그인으로제공하며손쉽고빠르게App을개발하고유지보수할수있습니다.\n",
      "\n",
      "발프로세스제품기능및특장점W-Matrix Studio 프로젝트생성W-Matrix Studio모바일에특화된템플릿을사용하는프로젝트를생성합니다.\n",
      "\n",
      "\n",
      "발프로세스제품기능및특장점W-Matrix Studio App컨텐츠작성W-Matrix Studio 레이아웃매니저로UI화면을디자인하고모바일컴포넌트(Drag&Drop)로쉽고빠르게웹화면을구현합니다.\n",
      "\n",
      "\n",
      "발프로세스제품기능및특장점W-Matrix Native Plugin 적용프로퍼티설정으로Camera, Biometric과같은네이티브기능을웹화면에적용하여네이티브개발경험없이쉽게개발합니다.\n",
      "\n",
      "\n",
      "발프로세스제품기능및특장점W-Matrix 빌드/배포프로젝트생성W-Matrix Studio에내장된빌드/배포시스템을사용하여프로젝트를생성합니다.\n",
      "\n",
      "\n",
      "발프로세스제품기능및특장점W-Matrix 플랫폼별(aOS/iOS) 빌드W-Matrix Studio에내장된빌드/배포시스템을통해하이브리드앱을빌드합니다.\n",
      "\n",
      "\n",
      "발프로세스제품기능및특장점W-Matrix 플랫폼별(aOS/iOS) 배포빌드된애플리케이션을앱스토어나W-Matrix Studio에내장된내부에손쉽게배포합니다.\n",
      "\n",
      "\n",
      "발환경(Feature)제품기능및특장점화면및업무로직은웹표준언어로작성빌트인된네이티브기능과성능을활용하고표준웹기술로개발을하며모바일앱마켓에빌드배포하는하이브리드플랫폼으로만든모바일앱표준웹기술•HTML, CSS and JavaScript의표준웹기술세트•운영조직자체적으로Hybrid 플랫폼에기반한모바일앱빌드가가능Built in Web Browser•App 사용자는인지하지못하는WebView 기반으로동작•In App Update를이용한컨텐츠영역의실시간반영OSMU(One Source Multi Use)•단일코드로다양한모바일Device에서실행•모바일장치의Native 성능과유사한수준의성능제공•웹업무프로그램에서Plugin을이용하여모바일장치의native 영역을사용\n",
      "Native WrapperWEB VIEWJSHTMLCSS\n",
      "\n",
      "발환경(Built-in Native Plugin)제품기능및특장점네이티브기능은내장플러그인으로제공개발자는표준JS를이용하여웹공통모듈을통해네이티브플러그인을제어할수있습니다. 네이티브플러그인은PC와모바일에걸쳐다양한구현사례를보유하고있습니다. 개발자\n",
      "UAPUniversal App PlatformW-Matrix 라이브러리PC & Mobile\n",
      "WEB 공통모듈WEB Content\n",
      "Built-in Native Plugin 추가/제거Built-in Plugin기본플러그인App, Contents, Misc ..3rdParty 연계플러그인보안, OCR, 간편인증…Web 개발자가플러그인UDC를선택해서Drag&Drop, 자동완성으로App 개발\n",
      "\n",
      "발환경(Built-in Native Plugin)제품기능및특장점Mobile Native Plugin 보유목록(1/4)Plugin 명기능Platform설명inappupdateInAppUpdate 화면제거iOS, AndroidInAppUpdate의Native View를제거한다.Offline Mode CheckiOS, AndroidOffline Mode로실행중인지확인후Web으로값을전달한다.RefreshUpdate 수동시작iOS, AndroidRefreshUpdate를수동으로Web에서호출하여수행한다.InAppUpdate 서버선택화면iOS, AndroidInAppUpdate 서버선택화면을Web에서호출하여보여준다.서버가선택되면해당서버로InAppUpdate가재수행된다.WebSquareExcel DownloadiOS, AndroidWebSquare의Excel Download 기능을App에서수행한다.암호화(Resource, Data)데이터암호화iOS, AndroidData를파일로저장할때암호화하여저장하는기능사진암호화iOS, Android사진을저장할때암호화하여저장하는기능app앱종료iOS, AndroidApp 종료할수있는기능다른앱호출iOS, Android연동되는다른App을호출하는기능앱버전iOS, AndroidApp 버전및버전code를가져올수있는기능App 설치여부확인iOS, Android기기에특정App이설치되어있는지여부를확인한다.설치되어있지않다면option에따라store로이동하여설치를유도한다.contents이미지피커iOS, Android단말기의사진(카메라, 갤러리)을가져올수있는기능파일피커iOS, Android단말기의파일을가져올수있는기능파일다운로드iOS, Android단말기에파일을다운로드할수있는기능\n",
      "\n",
      "발환경(Built-in Native Plugin)제품기능및특장점Mobile Native Plugin 보유목록(2/4)Plugin 명기능Platform설명misc외부브라우저호출iOS, Android제공해주는url을외부브라우저에서오픈할수있는기능Setting 기능on, off 조회iOS, AndroidWifi, Data, GPS Module의on, off 여부전달.Timer Start, StopAndroidTimer Start, Stop 기능제공, 모드는once, repeat이있으며, 해당Timer의시간이정의된period에도달한경우expireFunction을호출한다.전화걸기iOS, AndroidWeb에서제공된전화번호를통해전화를건다.sms 보내기iOS, AndroidWeb에서제공된전화번호와SMS 내용을통해SMS를보낸다.연락처가져오기iOS, AndroidWeb에서기기에저장된연락처를가져올수있다.paint그림판호출iOS, Android현재webview 화면위로투명한그림판을띄워준다license라이센스출력iOS, Android사용하는plugin의license 파일들을출력biometric생체인증으로데이터암호화iOS, Android생체인증을통해데이터를암호화하여keystore, preference에key, value 형태로저장한다.생체인증으로데이터복호화iOS, Android생체인증을통해저장된데이터를복호화하여Web에전달한다.데이터확인iOS, Android전달된key값으로만들어진데이터가있는지확인한다. (preference, keystore 포함)데이터삭제iOS, Android전달된key값으로만들어진데이터를삭제한다. (preference, keystore 포함)AudioRecorderPlugin녹음시작iOS, Android녹음을시작한다.녹음완료iOS, Android녹음을완료하여녹음파일을생성한다.녹음취소iOS, Android녹음을취소하여녹음파일을생성하지않는다.\n",
      "\n",
      "발환경(Built-in Native Plugin)제품기능및특장점Mobile Native Plugin 보유목록(3/4)Plugin 명기능Platform설명AudioRecorderPlugin녹음일시정지iOS, Android녹음을일시정지한다. 녹음다시시작iOS, Android일시정지된녹음을다시시작한다.녹음파일삭제iOS, Android녹음된파일을삭제한다.녹음상태조회iOS, Android녹음이진행중인지아닌지상태를나타낸다.녹음전체삭제iOS, Android녹음된파일및폴더를전부삭제한다.viewToast 출력iOS, AndroidToast를화면에출력한다.snackBar 출력iOS, AndroidSnackBar를화면에출력한다.notification 출력iOS, AndroidNotification을화면에출력한다.ScreenProtector스크린샷, 화면녹화차단iOS, Android스크린샷, 화면녹화기능을막거나화면을덮어컨텐츠의노출을막는다.camera카메라촬영iOS, AndroidCamera나Gallery를이용하여단말기내의이미지를Web에서사용할수있게해주는Plugindevice기기정보iOS, Android단말기의정보(UUID, 단말기명, 단말기버전등)을가져올수있는PluginScreenRecorderPlugin화면녹화시작iOS, Android디바이스(폰,테블릿)에화면녹화/녹음에필요한녹화, 저장, 취소, 일시정지등에API를제공한다.barcodescannerqr code 스캔iOS, AndroidBarcode Scanner를사용할수있도록해주는PlugingeolocationgpsiOS, Android단말기의위치정보를이용할수있도록해주는Plugininappbrowser브라우저실행iOS, AndroidWeb Page를별도의창에서띄우기위해사용되는Plugin\n",
      "\n",
      "발환경(Built-in Native Plugin)제품기능및특장점Mobile Native Plugin 보유목록(4/4)Plugin 명기능Platform설명storageApp 데이터삭제iOS, AndroidApp의데이터를삭제및reset 할수있는기능데이터저장iOS, Androidpreference에key,value로데이터저장데이터가져오기iOS, Androidpreference에key,value로데이터가져오기데이터공유하기iOS, Android제목, 이미지, URL 공유하기(sns,문자등)screen웹뷰추가iOS, Android메인웹뷰이외에웹뷰하나를더추가한다. 팝업처럼메인웹뷰를덮는다.InAppBrowser와의차이는추가한웹뷰는cordova 모듈사용에제한이없다.화면캡쳐iOS, Android현재보여지고있는화면을캡쳐한다.Webview 또는Native 화면을포함한전체화면을캡쳐한다.화면회전iOS, Android화면회전밝기조절iOS, Android화면의밝기를조절한다.speechTTSiOS, Android전달받은Text 를읽어준다.STT 시작iOS, Android음성인식텍스트변환시작STT 종료iOS, Android음성인식텍스트변환종료log앱로그가져오기iOS, Android앱의로그를가져온다.앱로그초기화iOS, Android앱의로그를클리어한다.앱로그수집시작iOS앱로그수집을시작한다.앱로그파일경로반환iOS, Android앱로그가저장된파일의경로를반환한다.\n",
      "\n",
      "발환경(Built-in Native Plugin)제품기능및특장점Mobile 3rd Party Native Plugin 연동사례Plugin 명기능Platform설명제조사EsonicPlugin (OCR)신분증,문서인식iOS, Androidrosis OCR 라이브러리를통해서신분증,문서를스캔한다.로시스mIDReader (OCR)신분증,문서인식Android인지소프트에OCR 라이브러리를통해서신분증,문서를스캔한다.인지소프트V3 (Vaccine)백신실행Android백신Solution 연계Plugin 안랩mVaccine (Vaccine)백신실행Android백신Solution 연계Plugin 라온시큐어AppIron (위변조방지)위변조방지실행iOS, Android위변조방지Solution 연계Plugin시큐센Allatori(위변조방지)난독화실행Android앱빌드시난독화NSHC, 라온시큐어AppSuit(위변조방지)위변조방지iOS, Android위변조방지Solution 연계Plugin스틸리언mTransKey (보안키패드)보안키패드출력iOS, Android보안키패드Solution 연계Plugin라온시큐어Cyber Keyboard (보안키패드)보안키패드출력iOS, Android보안키패드Solution 연계PluginCFCAMobileKeeper (MDM)앱설치, 화면캡처등iOS, AndroidMDM Solution 연계Plugin지란지교OzViewer (전자서식지)서식지실행iOS, Android전자서식지Solution 연계Plugin포시에스SafeToken (인증)PIN,바이오,패턴인증iOS, Android인증Solution 연계Plugin8byteQR 인증서(인증)QR인증서다운로드,인증iOS, Android인증Solution 연계PluginCFCAOmni CA (인증)PIN,바이오,패턴인증iOS, Android인증Solution 연계Plugin플라이하이Smart Agent (Push)Push 서비스iOS, Android푸시서비스연계PluginH2OMorpheus Push (Push)Push 서비스iOS, Android푸시서비스연계Plugin모피어스nFilter보안키패드출력iOS, Android보안키패드Solution 연계PluginNSHC\n",
      "\n",
      "발환경(Built-in Native Plugin)제품기능및특장점Mobile 3rd Party Native Plugin 연동사례Plugin 명기능Platform설명제조사mOTPmOTP iOS, Android모바일OTP Service Plugin아톤keySharpWireless공동인증서,전자서명iOS, Android모바일PKI 전자서명연계Plugin라온ntiuspush(Push)Push 서비스iOS, Android푸시서비스연계Plugin플리Delfino공동인증서,전자서명iOS, Android모바일PKI 전자서명연계Plugin위즈베라One PassPIN,바이오,패턴인증iOS, Android인증Solution 연계Plugin라온\n",
      "\n",
      "영환경(OfflineMode)제품기능및특장점네트워크장애시대응할수있는오프라인모드지원다양한환경의멀티플랫폼환경에서웹의리소스를저장하는방식을선택하여지정할수있습니다. 사용자의App을구동할시에local 또는remote 형태로웹리소스를가져올수있습니다. 항목세부항목리소스유효성체크사용환경Remote Mode•웹리소스의일부를config 를이용하여로컬App 에저장•로컬App 에저장한리소스를제외한자원은서버에위치•App 내장Web 브라우저엔진의캐쉬정책을따름페이지이동시마다체크기본값\n",
      "Offline Mode•앱기동이필요한리소스를zip 형태로download•오프라인네트워크환경에서App 사용이필요한환경최초App 기동시체크오프라인모드가필요한특정환경\n",
      "웹리소스ApplicationSandbox사용자데이터속도가고르지못한, 열악한네트워크상태\n",
      "삼성전자설치공정-업무환경이네트워크가안됨조달청RFID-테스트조건이네트워크가안되어야함(조건)\n",
      "\n",
      "영환경(InAppUpdate)제품기능및특장점앱스토어나마켓을통하지않고앱내에서직접업데이트갱신인앱업데이트(InAppUpdate) 기능을통해앱스토어나마켓을통하지않고앱내에서직접업데이트할파일을내려받아갱신하는기능을제공합니다. 응용프로그램웹스퀘어엔진즉각적인업데이트가능유지보수작업이빈번한엔터프라이즈환경에서더욱유용한기능\n",
      "InAppUpdate\n",
      "1. 최초1회앱스토어에서다운로드설치2. 네이티브코드가변경되었을경우만스토어를통해다운로드업데이트3. In App Update시각Task의병렬및비동기동기화처리4. Resource Update 시간단축5. 인앱업데이트앞/뒤이벤트를통한Native 기능추가가능6. 다양한Resource 다운로드형태지원\n",
      "\n",
      "영환경(InAppUpdate)제품기능및특장점InAppUpdate 과정을통해필요한Resource 유효성체크및동기화W-Matrix는InAppUpdate를통해App기동에필요한동작을미리준비합니다. 해당동작들은병렬처리하여신속히처리됩니다.Client\n",
      "WEB VIEWWEB RESOURCEHTML ,CSS,JS,ETC..Server\n",
      "Web ResourceCSSHTMLJSIMAGEXMLW-HybridClient EngineIn App Update리소스검증서버모듈Hybrid AppW-Hybrid로패키징된App을모바일Store를통해최초설치웹리소스를In App Update를통해서버의리소스와동기화In App Update 과정에서WebSquare Engine, Resource 및필요자원유효성체크, 압축해제및다운로드Client\n",
      "정적웹리소스(이미지, HTML, JS, CSS,XML, ETC..)W-Hybrid Server PlatformIn App update 모듈리소스유효성체크앱설정모듈, 서버모듈ServerConfig 조회&리소스다운로드앱설정모듈W-Hybrid Platform\n",
      "\n",
      "영환경(유지보수)제품기능및특장점디바이스/OS 파편화에독립적/안정적운영Platform지원사례Android•권한처리적용(Android 6)•FileProvider 적용(Android 7)•64bit 적용지원•ScopedStorage적용(Android 10)•Android X 적용(Android 11)•R8 난독화적용에따른지원(Android 10)•AAB (Android App Bundle) 지원•JAVA -> Kotlin언어전환•Target SDK 변경시지원•Store배포변경사항지원iOS•iOS 64bit 지원(iOS8)•iOS ATS(App TransportSecurity) 지원(iOS9)•UIWebView에서WKWebView변환대응(iOS12)•SceneDelegate지원(applifecycle변경대응) (iOS13)•xcframework대응(iOS13)•CrossWebSiteTracking대응(iOS14)•SwiftUIKeyboardAvoidance(키보드애니메이션변경대응)•x86,arm64 simulator동시지원(intelcpu, applesilicon)•iOS bitcode지원•Store배포변경사항지원\n",
      "\n",
      "원사양제품기능및특장점구분세부사양\n",
      "클라이언트Android실행환경•Android5.0(API 21) 이상개발환경•JDK 7.0 Java/ Kotlin지원•안드로이드스튜디오( Windows 7 / MacOSYosemite이상)\n",
      "iOS실행환경•iOS 12.0 SDK 이상개발환경•Xcode10.0 이상•OS Xversion10.12.6 (macOSSierra)•Objective-C / Swift지원\n",
      "\n",
      "대효과제품기능및특장점유지보수성향상을통한비용절감과신뢰할수있는성능KEYWORD개발생산성/ 안정성성능확장성/ 유연성유지보수성/ 낮은비용In App Update를통한편리한컨텐츠업데이트Web-Native연계플러그인제공리소스유효성검증및사용자데이터암호화OFFLINE 모드지원W-Hive시스템에기반한자동화된App빌드빈번한모바일프레임워크OS업데이트에독립적인안정적인모바일서비스구축네이티브개발영역의최소화표준JavaScript API에기반한편리한네이티브기능활용\n",
      "\n",
      "용사례03\n",
      "주요실적\n",
      "\n",
      "요실적적용사례금융/공공/유통/제조/통신분야납품실적고객사프로젝트명도입연도비고IBK기업은행글로벌비대면고도화프로젝트2023년9월금융(해외)KSNET차세대2023년3월VAN국군의무사국군의무사령부국방의료정보체계성능개선사업2023년1월공공하나은행ODS2022년11월금융하나은행스마트창구2022년11월금융신한은행신한은행글로벌모바일프레임웍솔루션업그레이드2022년12월금융(해외)대법원차세대전자소송시스템구축을위한앱개발플랫폼상용SW 도입2022년11월공공신한투자증권ODS2022년10월금융미래에셋생명미래에셋생명영업지원시스템개편사업2022년04월금융삼성생명방카시스템재구축2022년04월금융삼성생명GA 영업지원시스템구축2022년04월금융신한은행신한은행글로벌공통모바일아키텍쳐2022년01월금융(해외)우리카드우리카드21년디지털채널시스템인프라증설2021년06월금융한국투자저축은행한국투자저축은행통합모바일앱/ODS 구축물품공급2021년05월금융(주)신한은행신한은행The NEXT 프로젝트(단말UI플랫폼솔루션) 물품공급2021년04월금융(주)엘지유플러스차세대U Cube 인프라구축_SW표준화(2021년)  사업2021년01월통신신한은행(일본지점)신한은행일본키라보시모바일뱅킹구축2020년11월금융(해외)\n",
      "\n",
      "요실적적용사례금융/공공/유통/제조/통신분야납품실적고객사프로젝트명도입연도비고기업은행국외네트워크확대에따른주전산시스템및위성시스템구축사업2020년11월금융(해외)신한금융투자(주)신한금융투자MSA기반업무용UI 플랫폼구축2020년08월금융신한은행(일본지점)신한일본(SBJ) 모바일App 고도화사업2020년08월금융(해외)신한은행신한은행기업CRM 모바일SPURT 전면재구축사업2020년07월금융현대백화점발주관리시스템웹스퀘어공급2020년06월유통조달청조달청차세대RFID 물품관리프로젝트2020년04월공공우리카드우리카드디지털채널시스템구축솔루션공급2019년10월금융신한은행(중국)유한공사신한은행중국법인모바일뱅킹구축프로젝트2019년10월금융(해외)(주)나이스디앤비차세대시스템구축2019년08월금융동양생명보험(주)영업지원시스템구축웹스퀘어공급2019년08월금융OK저축은행OK모바일뱅킹구축2019년08월금융KB증권ODS고객상담툴과디지털자산관리플랫폼구축2019년06월금융롯데카드주식회사롯데카드채권모바일앱고도화적용프로젝트2019년03월금융(주)신한은행신한은행채널시스템아키텍쳐고도화단말솔루션물품공급2018년08월금융흥국생명모바일시스템웹스퀘어공급2018년07월금융광주은행OBP 이중화웹스쿼어공급2018년05월금융LG유플러스판매점전자청약, 페이퍼앱, 매장성과관리, 모바일단말물류, 스마트상담등2017년통신\n",
      "\n",
      "요실적적용사례금융/공공/유통/제조/통신분야납품실적고객사프로젝트명도입연도비고삼성전자네트워크설치공정관리시스템2017년제조한국증권금융모바일뱅킹및우리사주업무선진화구축2017년금융SK텔레콤차세대SWING 시스템2015년통신신한금융지주신한은행글로벌뱅킹비대면채널2.0업그레이드2015년금융(미국,캐나다,중국,일본,캄보디아,베트남, 인도네시아.크메르)대우증권판매채널시스템구축2014년금융현대모비스차세대대리점시스템2012년제조SC은행모바일뱅킹구축2012년금융SK하이닉스마케팅BI 시스템구축2012년제조LIG손해보험신사업구축2012년금융LIG손해보험현장영업가족을위한태블릿전자서명시스템2012년금융LIG손해보험스마트폰보상모바일시스템2012년금융케이엘넷Outbound Mobile Service2011년제조현대중공업하이브리드앱구축2011년제조KTKT BIT (차세대시스템) 프로젝트2011년통신LIG손해보험태블릿영업지원시스템2011년금융\n",
      "\n",
      "사소개04\n",
      "회사개요인원현황Product Lineup\n",
      "\n",
      "사개요회사소개\n",
      "•W3C 회원사•Global : 397 회원사•Korea  : 9 회원\n",
      "•한국특허: 22건•미국특허: 4건회사명주소직원수연락처㈜인스웨이브시스템즈서울시강서구공항대로247, 퀸즈파크나인C동12층160명(2024년01월기준)02-2082-1400(대표전화)        02-2082-1410\n",
      "W3C 정식회원사로서웹표준을선도하는기술기업\n",
      "코스닥상장\n",
      "\n",
      "\n",
      "원현황인스웨이브시스템즈인원현황, 2024년현재회사소개\n",
      "“전문기술력과다양한경험을갖춘IT 인력으로구성되어있습니다.”인스웨이브시스템즈는최신IT 기술과전문역량을보유하고관련시장을리딩하고있습니다.\n",
      "연구개발32%\n",
      "기술인력34%\n",
      "클라우드6%\n",
      "영업마케팅9%\n",
      "경영지원9%\n",
      "기술지원10%\n",
      "\n",
      "\n",
      "roduct Lineup회사소개다양한산업의디지털전환을선도할웹표준최적의솔루션제품\n",
      "•\n",
      "•\n",
      "•\n",
      "•\n",
      "•\n",
      "•\n",
      "••••••\n",
      "••\n",
      "\n",
      "\n",
      "hank You.\n",
      "홈페이지http://www.inswave.com웹스퀘어http://www.websquare.co.kr기술지원https://WTech.inswave.kr㈜인스웨이브시스템즈\n"
     ]
    }
   ],
   "source": [
    "print(principles_of_ko)"
   ]
  },
  {
   "cell_type": "code",
   "execution_count": 24,
   "id": "8d378197-623f-4d9a-a932-eb202356cb98",
   "metadata": {
    "scrolled": true
   },
   "outputs": [
    {
     "name": "stdout",
     "output_type": "stream",
     "text": [
      "eyond Web TechnologyCreate New Business Value\n",
      "W-Matrixはウェブ技術でモバイルアプリを実装することができるハイブリッド開発フレームワークを提供しモバイル環境で必要なネイティブ機能をプラグインとして提供し、ビジネスアプリに簡単かつ便利に統合できるようにするエンタープライズクロスアプリプラットフォームです。統合できるようにするエンタープライズクロスアプリプラットフォームです。Mobile App Platform\n",
      "for Mobile\n",
      "\n",
      "-Matrixfor MobileMobile App PlatformUniversal App PlatformIntegrated build and deploymentUI mirroring & device sharingEdge-device managementDevelop big data using AIContent製品の背景製品履歴製品概要製品構成03製品一般\n",
      "Architecture開発プロセス開発環境運用環境サポート仕様期待効果08製品機能及び特徴\n",
      "主な実績32適用事例会社概要人員状況Product Lineup36会社紹介\n",
      "\n",
      "品一般01\n",
      "製品の背景製品履歴製品概要製品構成\n",
      "\n",
      "品の背景製品一般Mobile App PlatformNative App\n",
      "1stGenObjective-C/SwiftAndroid Java/KotlinWindows .NETHybrid App2ndGenUniversal App3thGen\n",
      "웹표준기술•クロスプラットフォームアプリ•Co-Platform間のコラボレーション•簡単で便利なアプリ開発\n",
      "•Hybrid Appのメリット継承•Web標準技術でNative Pluginを使用\n",
      "第1世代のネイティブアプリと第2世代のハイブリッドアプリを超えたマルチプラットフォームのサポートと共有と協業を提供する第3世代Appプラットフォーム\n",
      "for Mobile\n",
      "•すべてのネイティブ機能を活用•OS別コードの断片化•非常に高いランニングカーブ•プラットフォーム毎の複雑なビルド配布•低ランニングカーブのウェブ標準技術•プラグインベースのネイティブ機能•PCプラットフォーム未対応•モバイル/PCプラットフォームのビルド/デプロイメントサポート(iOS, Android, Windows)•オフラインモードをサポート\n",
      "\n",
      "品履歴製品一般\n",
      "W3CHTML5\n",
      "Apple iOS 3.0発表(iPhone 3GS)Android OS 1.0発表国内iPhone 3GS 正式発売サムスンアンドロイドベースのGSLS発売MS Windows 10発売Apple macOSリリースMicrosoft Storeの変更WebSquare Hybrid AppリリースHTML5 UIプラットフォームWebSquare5発売W-Browser発売WGear発売WGear GS認証W-Hybrid発売W-Hybrid GS認証W-Hive発売W-Matrix Beta公開W-Matrix for Mobile発売2009.06\n",
      "2014.032009.092009.112010.03\n",
      "2016.062017.102015.072016.052017.012018.062020.052020.112021.032011.092015.07\n",
      "2020.08\n",
      "モバイル用\n",
      "\n",
      "ハイブリッドアプリの利点を継承したクロスプラットフォームApp•Web標準技術でネイティブ機能を実装•マルチプラットフォーム対応Universal App Platform\n",
      "•ネットワーク障害時に対応するオフラインモードをサポート•インアプリアップデート(InAppUpdate)を通じて、アプリストアではなくアプリ内ファイル更新更新をサポート•デバイス、OSの区別なく、独立した安定的な運用をサポートオペレーション/メンテナンスネイティブプラグイン\n",
      "ビルド/配布システム製品概要製品一般デジタル変革のためのモバイルアプリプラットフォーム\"W-Matrix for Mobile\"•Android•iOS, iPadOS•Windows•Linux•MacOS\n",
      "01020403•プラットフォーム別ネイティブ連動のためのプラグインAPIを提供(JS)•様々な3rd Party 連携のためのネイティブプラグイン•Windows、iOS、Android環境をすべてサポートするAppビルド/配布システム•ネイティブ開発者の最小化実行環境\n",
      "•Web Standard Development•Built-in Native Plugin•Build Automation•DeployAutomation開発環境•Ofline Mode•InAppUpdate•Stable operation support動作環境\n",
      "\n",
      "品構成製品一般W-Matrixは、クロスプラットフォーム間のデータ共有と協業のための開発環境、実行環境、運営環境を提供します。\n",
      "W-Matrix for WindowsW-Matrix forAndroidW-Matrix foriOSBuild\n",
      "Plugin UDCW-Hive※ 별도제품\n",
      "開発環境\n",
      "実行環境開発ツール(W-Matrix Studio)W-Gear, W-Browser\n",
      "APPの構造\n",
      "UI DesignBusiness Logic\n",
      "NativeWrapperWeb View\n",
      "Device\n",
      "\n",
      "品機能及び特徴02\n",
      "Architecture開発プロセス開発環境運用環境サポート仕様期待効果\n",
      "\n",
      "rchitecture製品機能及び特徴W-Matrix for Mobileは、クロスプラットフォームをサポートするモバイルアプリソリューションです。W-Matrix for Mobile Studio\n",
      "Web ResourceHTML/CSS/JSW-Matrix Platformアプリストア\n",
      "配布サーバー\n",
      "プロジェクト作成빌드/배포서버ビルド/配布サーバー(W-Hive)NativeProject の作成NativeTemplate の選択NativePlugin の追加App BuildApp Deploy\n",
      "UI Tool(画面開発)Dev Kit内蔵WASEmulatorアプリの実行デバッグ配布通信配布インストール\n",
      "W-Matrix ConfigResource Managerアプリ設定モジュールサーバーモジュールリソース検証In App UpdateBackend FrameworkビジネスモジュールWeb ViewウェブリソースHtml、css、jsなど...。\n",
      "Mobile OSW-MatrixRuntime EngineNative PluginCameraGPSEtc..ContactBasic3rdParty公認認証暗号化Etc..電子署名Matrix AppClient\n",
      "Server\n",
      "\n",
      "発環境の特徴製品機能及び特徴W-Matrix for Mobileの開発環境はNative開発者の投入を最小限に抑える\n",
      "Windows 開発者Flash開発者Java 開発者Web 開発者Android 開発者iOS 開発者業務ロジックC++, C#, VB,Flash, Java,Web(+ ActiveX)JavaKotlinObjective-CSwiftVisualStudioFlashBuilderEclipse各種EditorAndroid StudioXcodeEXESWFAppletActive-XWebAPKIPA業務ロジック業務ロジック\n",
      "Web開発者業務ロジックHTML JavaScript CSSW-Matrixfor MobileEXE/APK/AAB/IPAW-Hive管理者CIContinuous integration\n",
      "開発者業務ロジック開発言語開発/ビルドツールプログラムプラットフォーム\n",
      "\n",
      "発プロセス製品機能及び特徴W-Matrix for Mobileの開発プロセス\n",
      "Appコンテンツ作成Nativeプラグインの選択プラットフォーム別ビルドアプリ作成1.Web Resource2.Native Resource1.W-Matrix Native Plugin1.iOS Build2.Android Build1.App GenerationW-Matrix for Mobileは、iOS、Android環境をサポートするAppを作るために必要不可欠なNative機能を提供します。OS別プラグインで提供し、簡単かつ迅速にAppを開発·保守することができます。\n",
      "\n",
      "発プロセス製品機能及び特徴W-Matrix Studioプロジェクト作成W-Matrix Studioモバイルに特化したテンプレートを使用するプロジェクトを作成します。\n",
      "\n",
      "\n",
      "発プロセス製品機能及び特徴W-Matrix Studio Appコンテンツ作成W-Matrix StudioレイアウトマネージャーでUI画面をデザインし、モバイルコンポーネント(Drag&Drop)で簡単かつ迅速にWeb画面を実装します。\n",
      "\n",
      "\n",
      "発プロセス製品機能及び特徴W-Matrix Native Plugin適用プロパティ設定でCamera、Biometricなどのネイティブ機能をWeb画面に適用して、ネイティブ開発経験がなくても簡単に開発できます。\n",
      "\n",
      "\n",
      "発プロセス製品機能及び特徴W-Matrixビルド/配布プロジェクトの作成W-Matrix Studioに内蔵されたビルド/配布システムを使用してプロジェクトを作成します。\n",
      "\n",
      "\n",
      "発プロセス製品機能及び特徴W-Matrixプラットフォーム別(aOS/iOS)構築W-Matrix Studioに内蔵されたビルド/デプロイシステムを通じてハイブリッドアプリをビルドします。\n",
      "\n",
      "\n",
      "発プロセス製品機能及び特徴W-Matrixプラットフォーム別(aOS/iOS)展開ビルドしたアプリケーションをアプリストアやW-Matrix Studioに内蔵された内部に簡単に配布します。\n",
      "\n",
      "\n",
      "発環境(Feature)製品機能及び特徴画面および業務ロジックはWeb標準言語で作成組み込みのネイティブ機能と性能を活用し、標準的なWeb技術で開発し、モバイルアプリマーケットにビルド配布するハイブリッドプラットフォームで作られたモバイルアプリ。標準的なウェブ技術•HTML, CSS and JavaScriptの標準的なウェブ技術セット•運営組織自体でHybridプラットフォームに基づいたモバイルアプリの構築が可能。Built in Web Browser•Appユーザーは認識できないWebViewベースで動作•In App Updateを利用したコンテンツ領域のリアルタイム反映OSMU(One Source Multi Use)•単一のコードで様々なモバイルデバイスで実行•モバイルデバイスのNative性能と似たレベルの性能を提供•ウェブ業務プログラムでPluginを利用してモバイルデバイスのnative領域を使用\n",
      "Native WrapperWEB VIEWJSHTMLCSS\n",
      "\n",
      "発環境(Built-in Native Plugin)製品機能及び特徴ネイティブ機能は内蔵プラグインで提供開発者は標準的なJSを利用してウェブ共通モジュールを介してネイティブプラグインを制御することができます。ネイティブプラグインは、PCとモバイルに渡って様々な実装事例を保有しています。開発者\n",
      "UAPUniversal App PlatformW-MatrixライブラリPC & Mobile\n",
      "WEB共通モジュールWEBコンテンツ\n",
      "Built-in Native Pluginの追加/削除Built-in Plugin基本プラグインApp, Contents, Misc ..3rdParty連携プラグインセキュリティ、OCR、簡易認証...Web開発者がプラグインUDCを選択してDrag&Drop、オートコンプリートでApp開発\n",
      "\n",
      "発環境(Built-in Native Plugin)製品機能及び特徴Mobile Native Plugin保有リスト(1/4)プラグイン名機能プラットフォーム説明inappupdate(インアップデート)InAppUpdate画面の削除iOS、AndroidInAppUpdateのNative Viewを削除します。オフラインモードチェックiOS、AndroidOffline Modeで実行中であることを確認した後、Webに値を渡します。RefreshUpdateの手動起動iOS、AndroidRefreshUpdateを手動でWebから呼び出して行う。InAppUpdate サーバー選択画面iOS、AndroidInAppUpdate サーバー選択画面をWeb から呼び出して表示します。サーバーが選択されると、そのサーバーでInAppUpdateが再実行されます。WebSquareExcelダウンロードiOS、AndroidWebSquareのExcel Download機能をAppで実行する。暗号化(リソース、データ)データ暗号化iOS、AndroidDataをファイルとして保存する際に暗号化して保存する機能写真暗号化iOS、Android写真を保存する際に暗号化して保存する機能アプリアプリ終了iOS、AndroidAppを終了できる機能他のアプリ呼び出しiOS、Android連動する他のアプリを呼び出す機能アプリバージョンiOS、AndroidAppのバージョンとバージョンcodeを取得できる機能アプリのインストール確認iOS、Android端末に特定のAppがインストールされているかどうかを確認します。インストールされていない場合、optionによってstoreに移動してインストールを誘導します。内容イメージピッカーiOS、Android端末の写真(カメラ、ギャラリー)を取り込むことができる機能ファイルピッカーiOS、Android端末のファイルをインポートできる機能ファイルダウンロードiOS、Android端末にファイルをダウンロードできる機能\n",
      "\n",
      "発環境(Built-in Native Plugin)製品機能及び特徴Mobile Native Plugin保有リスト(2/4)プラグイン名機能プラットフォーム説明\n",
      "その他外部ブラウザ呼び出しiOS、Android提供してくれるURLを外部ブラウザで開くことができる機能Setting機能on, off 照会iOS、AndroidWifi, Data, GPS Moduleのon, offの有無を伝える。タイマースタート、ストップアンドロイドTimer Start、Stop機能を提供し、モードはonce、repeatがあり、そのTimerの時間が定義されたperiodに達すると時間が定義されたperiodに達した場合、expireFunctionを呼び出します。電話をかけるiOS、AndroidWebで提供された電話番号から電話をかける。smsを送るiOS、AndroidWebで提供された電話番号とSMS内容でSMSを送信します。連絡先のインポートiOS、AndroidWebからデバイスに保存されている連絡先を取り込むことができます。ペイント絵판呼び出しiOS、Android現在のwebview画面上に透明な絵판을띄워준다.ライセンスライセンス出力iOS、Android使うpluginのlicenseファイルを出力生体認証生体認証によるデータ暗号化iOS、Android生体認証によりデータを暗号化し、keystore, preferenceにkey, valueの形で保存する。生体認証によるデータ復号化iOS、Android生体認証で保存されたデータを復号化してWebに配信する。データ確認iOS、Android渡されたkey値で作られたデータがあるか確認します。(preference、keystoreを含む)データ削除iOS、Android渡されたkey値で作られたデータを削除する。(preference、keystoreを含む)AudioRecorderPlugin録音開始iOS、Android録音を開始します。録音完了iOS、Android録音を完了し、録音ファイルを生成します。録音キャンセルiOS、Android録音をキャンセルして録音ファイルを生成しない。\n",
      "\n",
      "発環境(Built-in Native Plugin)製品機能及び特徴Mobile Native Plugin保有リスト(3/4)プラグイン名機能プラットフォーム説明AudioRecorderPlugin録音の一時停止iOS、Android録音を一時停止する。録音を再開するiOS、Android一時停止した録音を再開します。録音ファイルの削除iOS、Android録音したファイルを削除します。録音状況照会iOS、Android録音が進行中かどうかのステータスを示します。録音の完全削除iOS、Android録音されたファイルとフォルダをすべて削除します。ビューToast出力iOS、AndroidToastを画面に出力します。snackBar出力iOS、AndroidSnackBarを画面に出力する。notification 出力iOS、AndroidNotificationを画面に出力します。スクリーンプロテクタースクリーンショット、画面録画ブロックiOS、Androidスクリーンショット、画面録画機能をブロックしたり、画面を覆ってコンテンツの露出を防ぐ。カメラカメラ撮影iOS、AndroidCameraやGalleryを利用して端末内の画像をWebで利用できるようにするPlugin。デバイス機器情報iOS、Android端末の情報(UUID、端末名、端末バージョンなど)を取得できるPlugin。ScreenRecorderPlugin画面録画開始iOS、Androidデバイス(スマホ、タブレット)に画面録画/録音に必要な録画、保存、キャンセル、一時停止などのAPIを提供します。バーコードスキャナーqr codeスキャンiOS、AndroidBarcode Scannerを使用できるようにするPlugin。ジオロケーションgpsiOS、Android端末の位置情報を利用できるようにしてくれるPlugininappbrowserブラウザの起動iOS、AndroidWeb Pageを別ウィンドウで表示するために使用されるPlugin\n",
      "\n",
      "発環境(Built-in Native Plugin)製品機能及び特徴Mobile Native Plugin保有リスト(4/4)プラグイン名機能プラットフォーム説明ストレージアプリデータの削除iOS、AndroidAppのデータを削除·リセットすることができる機能データ保存iOS、Androidpreferenceにkey,valueでデータを保存データのインポートiOS、Androidpreferenceにkey,valueでデータをインポートします。データを共有するiOS、Androidタイトル、画像、URLを共有する(SNS、文字など)画面ウェブビュー追加iOS、Androidメインウェブビュー以外にもう一つウェブビューを追加します。ポップアップのようにメインウェブビューを覆います。InAppBrowserとの違いは追加したウェブビューはcordovaモジュールの使用に制限がないことです。画面キャプチャiOS、Android現在表示されている画面をキャプチャします。WebviewまたはNative画面を含む全画面をキャプチャします。画面回転iOS、Android画面回転明るさ調整iOS、Android画面の明るさを調整する。スピーチTTSiOS、Android渡されたTextを読み上げてくれる。STT開始iOS、Android音声認識テキスト変換開始STT終了iOS、Android音声認識テキスト変換終了ログアプリログの取得iOS、Androidアプリのログを取得します。アプリログの初期化iOS、Androidアプリのログをクリアする。アプリログ収集開始iOSアプリログの収集を開始します。アプリログファイルのパスを返すiOS、Androidアプリログが保存されているファイルのパスを返します。\n",
      "\n",
      "発環境(Built-in Native Plugin)製品機能及び特徴Mobile 3rd Party Native Plugin連動事例プラグイン名機能プラットフォーム説明メーカーEsonicPlugin(OCR)身分証明書、書類認識iOS、Androidrosis OCRライブラリを介して身分証明書、文書をスキャンする。ロシスmIDReader (OCR)身分証明書、書類認識アンドロイド認識ソフトにOCRライブラリを介して身分証明書、文書をスキャンする。認知ソフトV3（ワクチン）ワクチン実行アンドロイドワクチンSolution連携Plugin アンラップmVaccine（ワクチン）ワクチン実行アンドロイドワクチンSolution連携Plugin ラオンシキュアAppIron (改ざん防止)改ざん防止実行iOS、Android偽造·改ざん防止ソリューション連携PluginシークセンAllatori(偽造防止)難読化の実行アンドロイドアプリ構築時の難読化NSHC、ラオンシキュアAppSuit(改ざん防止)改ざん防止iOS、Android偽造·改ざん防止ソリューション連携PluginスティリアンmTransKey (セキュリティキーパッド)セキュリティキーパッド出力iOS、Androidセキュリティキーパッドソリューション連携プラグインラオンシキュアCyber Keyboard (セキュリティキーパッド)セキュリティキーパッド出力iOS、Androidセキュリティキーパッドソリューション連携プラグインCFCAMobileKeeper (MDM)アプリのインストール、画面キャプチャなどiOS、AndroidMDM Solution連携プラグイン知覧橋OzViewer (電子生息地)生息地の実行iOS、Android電子ハビタットソリューション連携PluginフォーシーズSafeToken（認証）PIN、バイオ、パターン認証iOS、Android認証Solution連携Plugin8バイトQR証明書（認証）QR証明書のダウンロード、認証iOS、Android認証Solution連携PluginCFCAOmni CA (認証)PIN、バイオ、パターン認証iOS、Android認証Solution連携Pluginフライハイスマートエージェント（プッシュ）PushサービスiOS、Androidプッシュサービス連携PluginH2OMorpheus Push (プッシュ)PushサービスiOS、Androidプッシュサービス連携PluginモフィアスnFilterセキュリティキーパッド出力iOS、Androidセキュリティキーパッドソリューション連携プラグインNSHC\n",
      "\n",
      "発環境(Built-in Native Plugin)製品機能及び特徴Mobile 3rd Party Native Plugin連動事例プラグイン名機能プラットフォーム説明メーカーmOTPmOTP iOS、AndroidモバイルOTP Service PluginアトンkeySharpWireless共同証明書、電子署名iOS、AndroidモバイルPKI電子署名連携プラグインラオンntiuspush(プッシュ)PushサービスiOS、Androidプッシュサービス連携Pluginフリデルフィーノ共同証明書、電子署名iOS、AndroidモバイルPKI電子署名連携プラグインウィズベラワンパスPIN、バイオ、パターン認証iOS、Android認証Solution連携Pluginラオン\n",
      "\n",
      "作環境(Offline Mode)製品機能及び特徴ネットワーク障害時に対応できるオフラインモードのサポート様々な環境のマルチプラットフォーム環境でWebのリソースを保存する方法を選択して指定することができます。ユーザーのAppを駆動する時にlocalまたはremoteの形でWebリソースを取得することができます。項目詳細項目リソース有効性チェック使用環境\n",
      "リモートモード•Webリソースの一部をconfigを利用してローカルAppに保存します。•ローカルAppに保存したリソースを除いたリソースはサーバーにあります。•App 内蔵のWebブラウザエンジンのキャッシュポリシーに従います。ページ移動毎にチェックデフォルト値\n",
      "オフラインモード•アプリの起動に必要なリソースをzip形式でdownload•オフラインネットワーク環境でアプリの使用が必要な環境最初のApp 起動時にチェックオフラインモードが必要な特定環境\n",
      "ウェブリソースアプリケーションサンドボックスユーザーデータ速度が不均一な、劣悪なネットワーク状態\n",
      "サムスン電子の設置工程-作業環境がネットワークに繋がらない調達庁のRFID-テスト条件がネットワークにならないこと(条件)\n",
      "\n",
      "作環境(InAppUpdate)製品機能及び特徴アプリストアやマーケットを介さず、アプリ内で直接アップデート更新を行うことができます。インアプリアップデート(InAppUpdate)機能により、アプリストアやマーケットを介さずアプリ内で直接更新するファイルをダウンロードして更新する機能を提供します。アプリケーションプログラムウェブスクエアエンジン即時更新可能メンテナンス作業が頻繁に行われるエンタープライズ環境でさらに便利な機能\n",
      "InAppUpdate\n",
      "1.初回はアプリストアからダウンロードしてインストール2.ネイティブコードが変更された場合のみ、ストアからダウンロードしてアップデートする3. InApp Update時、各Taskの並列および非同期同期処理4.リソース更新時間の短縮5.アプリ内アップデートの前/後イベントを通じたNative機能追加可能6.様々なリソースのダウンロード形式をサポート\n",
      "\n",
      "作環境(InAppUpdate)製品機能及び特徴InAppUpdateの過程で必要なリソースの有効性チェックと同期を行います。W-MatrixはInAppUpdateを通じてApp起動に必要な動作を事前に準備します。これらの動作は並列処理により迅速に処理されます。Client\n",
      "WEB VIEWWEB RESOURCEHTML ,CSS,JS,ETC..Server\n",
      "Web ResourceCSSHTMLJSIMAGEXMLW-HybridClient EngineIn App Updateリソース検証サーバーモジュールHybrid AppW-Hybridでパッケージ化されたAppをモバイルStoreから初めてインストールする。ウェブリソースをInApp Updateでサーバーのリソースと同期させるInApp Updateの過程でWebSquare Engine、Resourceおよび必要なリソースの検証、解凍、ダウンロードを行います。Client\n",
      "静的Webリソース(画像、HTML、JS、CSS、XML、ETC...)W-Hybrid Server PlatformInApp updateモジュールリソースの有効性チェックアプリ設定モジュール、サーバーモジュールServerConfig 조회&리소스다운로드\n",
      "アプリ設定モジュールW-Hybrid Platform\n",
      "\n",
      "用環境（メンテナンス）製品機能及び特徴デバイス/OSのフラグメンテーションに依存しない/安定的な運用Platform支援事例Android•権限処理の適用(Android 6)•File Providerの適用(Android 7)•64bit適用をサポート•Scoped Storage適用(Android 10)•Android X適用(Android 11)•R8難読化適用に伴うサポート(Android 10)•AAB (Android App Bundle) サポート•JAVA -> Kotlin言語の切り替え•Target SDK変更時のサポート•Store配布の変更をサポートiOS•iOS 64bit対応(iOS8)•iOS ATS(App Transport Security)をサポート(iOS9)•UIWebViewからWKWebViewへの変換対応(iOS12)•SceneDelegateのサポート(app life cycle変更対応) (iOS13)•xcframework対応(iOS13)•Cross WebSite Tracking対応(iOS14)•SwiftUI Keyboard Avoidance (キーボードアニメーション変更対応)•x86,arm64 simulator同時サポート(intel cpu, apple silicon)•iOSのbitcodeをサポート•Store配布の変更をサポート\n",
      "\n",
      "応仕様製品機能及び特徴구분세부사양\n",
      "クライアントAndroid実行環境•Android 5.0(API 21)以上開発環境•JDK 7.0 Java / Kotlinのサポート•Android Studio ( Windows 7 / MacOS Yosemite以上)\n",
      "iOS実行環境•iOS 12.0 SDK以上開発環境•Xcode 10.0以上•OS X version 10.12.6 (macOS Sierra)•Objective-C / Swiftをサポート\n",
      "\n",
      "待効果製品機能及び特徴メンテナンス性向上によるコスト削減と信頼性の高いパフォーマンスKEYWORD開発生産性/安定性性能拡張性/ 柔軟性メンテナンス性/ 低コストIn App Updateによる便利なコンテンツアップデートWeb-Native連携プラグインを提供リソースの検証とユーザーデータの暗号化OFFLINEモードをサポートW-Hiveシステムに基づいた自動化されたAppビルド頻繁なモバイルフレームワークOS アップデートに依存しない安定したモバイルサービスの構築ネイティブ開発領域の最小化標準JavaScript APIに基づく便利なネイティブ機能を活用\n",
      "\n",
      "用事例03\n",
      "主な実績\n",
      "\n",
      "な実績適用事例金融/公共/流通/製造/通信分野への納入実績お客様プロジェクト名導入年備考IBK企業銀行グローバル非対面高度化プロジェクト2023年9月金融(海外)KSNET次世代2023年3月VAN国軍の武士国軍司令部国防医療情報システム性能改善事業2023年1月パブリックハナ銀行ODS2022年11月金融ハナ銀行スマート窓口2022年11月金融新韓銀行新韓銀行グローバルモバイルフレームワークソリューションのアップグレード2022年12月金融(海外)最高裁判所次世代電子訴訟システム構築のためのアプリ開発プラットフォーム商用SW導入2022年11月パブリック新韓投資証券ODS2022年10月金融ミレアレアセット生命ミレアレア生命の営業支援システム改編事業2022年04月金融サムスン生命バンカーシステムの再構築2022年04月金融サムスン生命GA営業支援システム構築2022年04月金融新韓銀行新韓銀行グローバル共通モバイルアーキテクチャ2022年01月金融(海外)ウリカードウリカード21年デジタルチャネルシステムインフラストラクチャー増設2021年06月金融韓国投資貯蓄銀行韓国投資貯蓄銀行統合モバイルアプリ/ODS構築物品の供給2021年05月金融(株)新韓銀行新韓銀行The NEXTプロジェクト(端末UIプラットフォームソリューション)物品供給2021年04月金融(株)LGユープラス次世代U Cubeインフラの構築_SW標準化(2021年)事業2021年01月通信新韓銀行(日本支店)新韓銀行日本きらぼし市モバイルバンキングの構築2020年11月金融(海外)\n",
      "\n",
      "な実績適用事例金融/公共/流通/製造/通信分野への納入実績お客様プロジェクト名導入年備考企業銀行国外ネットワーク拡大に伴う主電算システム及び衛星システム構築事業2020年11月金融(海外)新韓金融投資(株)新韓金融投資MSA基盤の業務UIプラットフォームの構築2020年08月金融新韓銀行(日本支店)新韓日本(SBJ)モバイルアプリ高度化事業2020年08月金融(海外)新韓銀行新韓銀行企業CRMモバイルSPURT全面再構築事業2020年07月金融現代百貨店発注管理システムウェブスクエア供給2020年06月流通調達庁調達庁の次世代RFID物品管理プロジェクト2020年04月パブリックウリカードウリカードデジタルチャネルシステム構築ソリューションの供給2019年10月金融新韓銀行(中国)有限公司新韓銀行中国法人のモバイルバンキング構築プロジェクト2019年10月金融(海外)(株)ナイスD&B次世代システム構築2019年08月金融東洋生命保険(株)営業支援システム構築ウェブスクエア供給2019年08月金融OK貯蓄銀行OKモバイルバンキングの構築2019年08月金融KB証券ODS顧客相談ツールとデジタル資産管理プラットフォームの構築2019年06月金融ロッテカード株式会社ロッテカード債券モバイルアプリ高度化適用プロジェクト2019年03月金融(株)新韓銀行新韓銀行チャンネルシステムアーキテクチャー高度化端末ソリューション物品供給2018年08月金融興国生命モバイルシステムウェブスクエア供給2018年07月金融光州銀行OBP冗長WebSquaredの供給2018年05月金融LG U+販売店電子請願、ペーパーアプリ、店舗実績管理、モバイル端末物流、スマート相談等2017年通信\n",
      "\n",
      "な実績適用事例金融/公共/流通/製造/通信分野への納入実績お客様プロジェクト名導入年備考サムスン電子ネットワーク設置工程管理システム2017年製造韓国証券金融モバイルバンキング及び当社株主業務の先進化構築2017年金融SKテレコム次世代SWINGシステム2015年通信新韓金融持株会社新韓銀行グローバルバンキング非対面チャネル2.0アップグレード2015年金融(アメリカ,カナダ,中国,日本,カンボジア,ベトナム,インドネシア.クメール)大宇証券販売チャネルシステム構築2014年金融現代モービス次世代代理店システム2012年製造SC銀行モバイルバンキングの構築2012年金融SKハイニックスマーケティングBIシステム構築2012年製造LIG손해보험新事業の構築2012年金融LIG손해보험現場営業家族のためのタブレット電子署名システム2012年金融LIG손해보험スマートフォン補償モバイルシステム2012年金融ケイエルネットアウトバウンドモバイルサービス2011年製造現代重工業ハイブリッドアプリの構築2011年製造KTKT BIT（次世代システム）プロジェクト2011年通信LIG손해보험タブレット営業支援システム2011年金融\n",
      "\n",
      "社紹介04\n",
      "会社概要人員状況Product Lineup\n",
      "\n",
      "社概要会社紹介\n",
      "•W3C会員企業•Global : 397会員社•Korea : 9 メンバー\n",
      "•韓国特許: 22件•米国特許: 4件会社名住所従業員数お問い合わせ(株)インウェーブシステムズソウル市江西区空港大路247、クイーンズパークナインC棟12階160名(2024年01月現在)02-2082-1400(代表電話) 02-2082-1410\n",
      "W3C正会員としてウェブ標準をリードする技術企業として\n",
      "コスダック上場\n",
      "\n",
      "\n",
      "員現況インスウェーブシステムズ人員現況、2024年現在会社紹介\n",
      "\"専門技術力と様々な経験を持つIT人材で構成されています。\"インスウェーブシステムズは最新のIT技術と専門的な能力を保有し、関連市場をリードしています。\n",
      "研究開発32%\n",
      "技術人材34%\n",
      "クラウド6%\n",
      "営業マーケティング9%\n",
      "経営支援9%\n",
      "技術サポート10%\n",
      "\n",
      "\n",
      "roduct Lineup会社紹介様々な産業のデジタル転換をリードするウェブ標準最適なソリューション製品\n",
      "•\n",
      "•\n",
      "•\n",
      "•\n",
      "•\n",
      "•\n",
      "•••••\n",
      "••\n",
      "•\n",
      "\n",
      "hank You.\n",
      "ホームページhttps://www.inswave.com技術サポートhttps://wtech.inswave.krInswave Systems\n"
     ]
    }
   ],
   "source": [
    "print(principles_of_jp1)"
   ]
  },
  {
   "cell_type": "code",
   "execution_count": 25,
   "id": "f963f517-e1e0-4c71-8221-78761e196b0e",
   "metadata": {
    "scrolled": true
   },
   "outputs": [
    {
     "name": "stdout",
     "output_type": "stream",
     "text": [
      "eyond Web TechnologyCreate New Business Value\n",
      "W-Matrixは、ウェブ技術でモバイルアプリ実装することができるハイブリッド開発フレームワークを提供し、モバイル環境で必要なネイティブ機能をプラグインとして提供して、ビジネスアプリに簡単便利に統合できるようにするエンタープライズクロスアプリプラットフォームです。MobileApp Platform\n",
      "for Mobile\n",
      "\n",
      "-Matrixfor MobileMobile App PlatformUniversal AppPlatformIntegratedbuildand deploymentUI mirroring& devicesharingEdge-devicemanagementDevelopbigdatausingAIContent製品の背景製品の履歴製品の概要製品の構成03製品⼀般\n",
      "Architecture開発プロセス開発環境運⽤環境サポート仕様期待効果08製品機能及び特徴\n",
      "主な実績32適⽤事例会社の概要従業員の状況Product Lineup36会社紹介\n",
      "\n",
      "品⼀般01\n",
      "製品の背景製品の履歴製品の概要製品の構成\n",
      "\n",
      "品の背景製品⼀般Matrix for MobileApp PlatformNative App\n",
      "1stGenObjective-C/SwiftAndroid Java/KotlinWindows .NETUniversal App3thGen•クロスプラットフォームApp•Co-Platform間の協業•簡単便利なApp開発\n",
      "•Hybrid Appのメリット継承•ウェブ標準技術でNative Pluginを使⽤\n",
      "第1世代のネイティブアプリと第2世代のハイブリッドアプリを超えたマルチラットフォームのサポートと共有と協業を提供する第3世代Appプラットフォーム\n",
      "•すべてのネイティブ機能を活⽤•OS別コードの断⽚化•⾮常に⾼いランニングカーブ•プラットフォーム別の複雑なビルド配布•低いランニングカーブのウェブ標準技術•プラグインベースのネイティブ機能•PCプラットフォームは⾮サポート•モバイル・PCプラットフォームのビルド·配布をサポート(iOS, Android, Windows)•オフラインモードをサポートHybrid App2ndGen\n",
      "ウェブ標準技術\n",
      "for Mobile\n",
      "\n",
      "品の履歴製品⼀般\n",
      "W3CHTML5\n",
      "Apple iOS 3.0発表(iPhone3GS)AndroidOS 1.0発表韓国iPhone 3GS 正式発売サムスンアンドロイドベースのGalaxyS発売MS Windows 10発売Apple macOS発売Microsoft Store変更WebSquareHybrid App発売HTML5 UIプラットフォームWebSquare5発売W-Browser発売WGear発売WGearGS認証W-Hybrid発売W-HybridGS認証W-Hive発売W-MatrixBeta公開W-Matrixfor Mobile発売2009.06\n",
      "2014.032009.092009.112010.03\n",
      "2016.062017.102015.072016.052017.012018.062020.052020.112021.032011.092015.07\n",
      "2020.08\n",
      "for Mobile\n",
      "\n",
      "ハイブリッドアプリの利点を継承したクロスプラットフォームApp•Web標準技術でネイティブ機能を実装•マルチプラットフォームをササポートUniversal AppPlatform\n",
      "•ネットワーク障害の時に対応するオフラインモードをサポート•インアプリアップデート(InAppUpdate)により、アプリストアではなくアプリ内のファイルアップデート更新をサポート•デバイス、OSの区別せずに、独⽴的で安定的な運⽤をサポート運⽤・メンテナンスネイティブプラグイン\n",
      "ビルド·配布システム製品の概要製品⼀般デジタルトランスフォーメーションのためのMobile App Platform “W-Matrix for Mobile”•Android•iOS, iPadOS•Windows•Linux•MacOS\n",
      "01020403•プラットフォーム別ネイティブ連動のためのプラグインAPIを提供(JS)•様々な3rd Party連動のためのネイティブプラグイン\n",
      "•Windows、iOS、Androidの環境を全てサポートするAppビルド・布配システム•ネイティブ開発者の最⼩化実⾏環境\n",
      "•Web Standard Development•Built-in Native Plugin•Build Automation•DeployAutomation開発環境•OflineMode•InAppUpdate•Stable operation support運⽤環境\n",
      "\n",
      "品の構成製品⼀般W-Matrixは、クロスプラットフォーム間のデータ共有と協業のための開発環境、実⾏環境、運用環境を提供します。\n",
      "W-Matrix for WindowsW-Matrix forAndroidW-Matrix foriOSBuild\n",
      "PluginUDCW-Hive※ 別途製品\n",
      "開発環境\n",
      "実⾏環境開発ツール(W-Matrix Studio)W-Gear, W-Browser\n",
      "APPの構造\n",
      "UI DesignBusiness Logic\n",
      "NativeWrapperWeb View\n",
      "Device\n",
      "\n",
      "品機能及び特徴02\n",
      "Architecture開発プロセス開発環境運⽤環境⽀援仕様期待効果\n",
      "\n",
      "rchitecture製品機能及び特徴W-Matrix for Mobileは、クロスプラットフォームをサポートするモバイルアプリソリューションW-Matrix for Mobile Studio\n",
      "Web ResourceHTML/CSS/JSW-MatrixPlatformアプリストア\n",
      "配布サーバー\n",
      "プロジェクト⽣成빌드/배포서버ビルド・配布サーバー(W-Hive)NativeProjectの⽣成NativeTemplateの選択NativePluginの追加App BuildApp Deploy\n",
      "UI Tool(画⾯開発)Dev Kit内蔵WASEmulatorApp実⾏デバッグ配布通信配布インストール\n",
      "W-MatrixConfigResource Managerアプリ設定モジュールサーバーモジュールリソース検証In App UpdateBackendFrameworkビジネスモジュールWeb ViewウェブリソースHtml, css, js, etc...\n",
      "Mobile OSW-MatrixRuntime EngineNative PluginCameraGPSEtc..ContactBasic3rdParty公認認証暗号化Etc..電⼦署名Matrix AppClient\n",
      "Server\n",
      "\n",
      "rchitecture製品機能及び特徴W-Matrix for Mobileの開発環境はNative開発者の投⼊を最⼩化\n",
      "Windows開発者Flash開発者Java開発者Web開発者Android開発者iOS開発者業務ロジックC++, C#, VB,Flash, Java,Web(+ ActiveX)JavaKotlinObjective-CSwiftVisualStudioFlashBuilderEclipse各種EditorAndroidStudioXcodeEXESWFAppletActive-XWebAPKIPA業務ロジック業務ロジック\n",
      "Web開発者業務ロジックHTML JavaScriptCSSW-Matrixfor MobileEXE/APK/AAB/IPAW-Hive管理者CIContinuousintegration\n",
      "開発者業務ロジック開発⾔語開発·ビルドツールプログラムプラットフォーム\n",
      "\n",
      "発プロセス製品機能及び特徴W-Matrix for Mobileの開発プロセス\n",
      "Appコンテンツ作成Nativeプラグイン選択プラットフォーム別ビルドApp⽣成1.Web Resource2.Native Resource1.W-Matrix Native Plugin1.iOS Build2.Android Build1.App GenerationW-Matrix for Mobileは、iOS, Android環境をサポートするAppを作るために必須なNative機能をOS別プラグインで提供し、簡単かつ迅速にAppを開発してメンテナンスすることができます。\n",
      "\n",
      "発プロセス製品機能及び特徴W-Matrix Studioプロジェクト⽣成W-Matrix Studioモバイルに特化したテンプレートを使⽤するプロジェクトを⽣成します。\n",
      "\n",
      "\n",
      "発プロセス製品機能及び特徴W-Matrix Studio Appコンテンツ作成W-Matrix StudioレイアウトマネージャーでUI画⾯をデザインし、モバイルコンポーネント(Drag&Drop)で簡単かつ迅速にウェブ画⾯を実装します。\n",
      "\n",
      "\n",
      "発プロセス製品機能及び特徴W-Matrix Native Plugin適⽤プロパティ設定だけでCamera、Biometricのようなネイティブ機能をウェブ画⾯に適⽤して、ネイティブ開発経験がなくても簡単に開発できます。\n",
      "\n",
      "\n",
      "発プロセス製品機能及び特徴W-Matrixビルド・配布プロジェクトの⽣成W-Matrix Studioに内蔵されているビルド・配布システムを使⽤してプロジェクトを⽣成します。\n",
      "\n",
      "\n",
      "発プロセス製品機能及び特徴W-Matrixプラットフォーム別(aOS/iOS)ビルドW-Matrix Studioに内蔵されているビルド·配布システムを通じてハイブリッドアプリをビルドします。\n",
      "\n",
      "\n",
      "発プロセス製品機能及び特徴W-Matrixプラットフォーム別(aOS/iOS)配布ビルドしたアプリケーションをアプリストアやW-Matrix Studioに内蔵されている内部に簡単に配布します。\n",
      "\n",
      "\n",
      "発環境(Feature)製品機能及び特徴画⾯および業務ロジックはウェブ標準⾔語で作成ビルトインされているネイティブ機能と性能を活⽤し、標準ウェブ技術で開発し、モバイルアプリマーケットにビルド・配布するハイブリッドプラットフォームで作られたモバイルアプリ標準ウェブ技術•HTML, CSS and JavaScriptの標準ウェブ技術セット•運⽤組織が独⾃にHybridプラットフォームに基づくモバイルアプリビルドが可能BuiltinWebBrowser•Appユーザーが認識できないWebViewベースで動作•In App Updateを利⽤してコンテンツ領域のリアルタイム反映OSMU(One SourceMultiUse)•単⼀コードで多様なモバイルDeviceで実⾏•モバイル端末のNative性能と同様のパフォーマンスレベルを提供•ウェブ業務プログラムでPluginを利⽤して、モバイル端末のnative領域を使⽤\n",
      "NativeWrapperWEB VIEWJSHTMLCSS\n",
      "\n",
      "発環境(Built-in Native Plugin)製品機能及び特徴ネイティブ機能は内蔵プラグインで提供開発者は標準JSを利⽤してウェブ共通モジュールを通じてネイティブプラグインを制御することができます。ネイティブプラグインは、PCとモバイルにわたって様々な実装事例を保有しています。開発者\n",
      "UAPUniversal AppPlatformW-MatrixライブラリPC & Mobile\n",
      "WEB共通モジュールWEBContent\n",
      "Built-in Native Plugin追加·削除Built-inPlugin基本プラグインApp, Contents, Misc ..3rdParty連携プラグインセキュリティ、OCR、簡易認証...Web開発者がプラグインUDCを選択してDrag&Drop、⾃動完成でApp開発\n",
      "\n",
      "発環境(Built-in Native Plugin)製品機能及び特徴Mobile Native Plugin保有リスト(1/4)Plugin名機能Platform説明inappupdateInAppUpdate画⾯削除iOS、AndroidInAppUpdateのNativeViewを削除する。Offline Mode CheckiOS、AndroidOfflineModeで実⾏中であることを確認した後、Webに値を渡す。RefreshUpdate⼿動開始iOS、AndroidRefreshUpdateを⼿動でWebから呼び出して実⾏する。InAppUpdateサーバー選択画⾯iOS、AndroidInAppUpdateサーバー選択画⾯をWebから呼び出して表⽰する。サーバーが選択されると、該当サーバーにInAppUpdateが再実⾏される。WebSquareExcel DownloadiOS、AndroidWebSquareのExcelDownload機能をAppで実⾏する。暗号化(Resource, Data)データ暗号化iOS、AndroidDataをファイルとして保存する際に暗号化して保存する機能写真暗号化iOS、Android写真を保存する際に暗号化して保存する機能Appアプリ終了iOS、AndroidAppを終了できる機能他のアプリ呼び出しiOS、Android連動される他のAppを呼び出す機能アプリバージョンiOS、AndroidAppのバージョンとバージョンcodeを取得できる機能Appインストール有無確認iOS、Android端末に特定のAppがインストールされているかどうかを確認する。インストールされていない場合、optionによってstoreに移動してインストールを誘導する。ContentsイメージピッカーiOS、Android端末の写真(カメラ、ギャラリー)をインポートする機能ファイルピッカーiOS、Android端末のファイルをインポートする機能ファイルダウンロードiOS、Android端末にファイルをダウンロードできる機能\n",
      "\n",
      "発環境(Built-in Native Plugin)製品機能及び特徴Mobile Native Plugin保有リスト(2/4)Plugin名機能Platform説明misc外部ブラウザ呼び出しiOS、Android提供してくれるURLを外部ブラウザで開くことができる機能Setting機能on, off 照会iOS、AndroidWifi, Data, GPS Moduleのon, offの有無を伝える。Timer Start, StopAndroidTimerStart、Stop機能を提供し、モードはonce、repeatがあり、該当Timerの時間が定義されているperiodに達した場合、expireFunctionを呼び出す。電話をかけるiOS、AndroidWebから提供された電話番号で電話をかける。sms送信iOS、AndroidWebから提供された電話番号とSMS内容でSMSを送信する。連絡先インポートiOS、AndroidWebからデバイスに保存されている連絡先を取得できる。paintペイント呼び出しiOS、Android現在のwebview画⾯の上に透明なペイントを開く。licenseライセンス出⼒iOS、Android使⽤するpluginのlicenseファイルを出⼒biometric⽣体認証によるデータ暗号化iOS、Android⽣体認証によりデータを暗号化してkeystore, preferenceにkey, valueの形で保存する。⽣体認証によるデータ復号化iOS、Android⽣体認証により保存されたデータを復号化してWebに転送する。データ確認iOS、Android渡されたkey値で作られたデータがあるか確認する。(preference、keystoreを含む)データ削除iOS、Android渡されたkey値で作られたデータを削除する。(preference、keystoreを含む)AudioRecorderPlugin録⾳開始iOS、Android録⾳を開始する。録⾳完了iOS、Android録⾳を完了し、録⾳ファイルを⽣成する。録⾳キャンセルiOS、Android録⾳をキャンセルして録⾳ファイルを⽣成しない。\n",
      "\n",
      "発環境(Built-in Native Plugin)製品機能及び特徴Mobile Native Plugin保有リスト(3/4)Plugin名機能Platform説明AudioRecorderPlugin録⾳⼀時停⽌iOS、Android録⾳を⼀時停⽌する。録⾳再開iOS、Android⼀時停⽌した録⾳を再開する。録⾳ファイル削除iOS、Android録⾳されたファイルを削除する。録⾳状態照会iOS、Android録⾳が進⾏中かどうかの状態を照会する。録⾳全体削除iOS、Android録⾳されたファイルとフォルダをすべて削除する。viewToast出⼒iOS、AndroidToastを画⾯に出⼒する。snackBar出⼒iOS、AndroidSnackBarを画⾯に出⼒する。notification出⼒iOS、AndroidNotificationを画⾯に出⼒する。ScreenProtectorスクリーンショット、画⾯録画ブロックiOS、Androidスクリーンショット、画⾯録画機能をブロックしたり、画⾯を覆ってコンテンツの露出を防ぐ。cameraカメラ撮影iOS、AndroidCameraやGalleryを利⽤して端末内の画像をWebで利⽤できるようにするPlugindevice端末情報iOS、Android端末の情報(UUID、端末名、端末バージョンなど)を取得できるPluginScreenRecorderPlugin画⾯録画開始iOS、Androidデバイス(スマホ、タブレット)に画⾯録画・録⾳に必要な録画、保存、キャンセル、⼀時停⽌などのAPIを提供する。barcodescannerqrcodeスキャンiOS、AndroidBarcodeScannerを使⽤できるようにするPlugingeolocationgpsiOS、Android端末の位置情報を利⽤できるようにするPlugininappbrowserブラウザ起動iOS、AndroidWeb Pageを別のウィンドウで表⽰するために使⽤されるPlugin\n",
      "\n",
      "発環境(Built-in Native Plugin)製品機能及び特徴Mobile Native Plugin保有リスト(4/4)Plugin名機能Platform説明StorageAppデータ削除iOS、AndroidAppのデータを削除及びresetすることができる機能データ保存iOS、Androidpreferenceにkey,valueでデータを保存データインポートiOS、Androidpreferenceにkey,valueでデータをインポートデータ共有iOS、Androidタイトル、画像、URLを共有する(SNS、⽂字など)Screenウェブビュー追加iOS、Androidメインウェブビュー以外にもう⼀つのウェブビューを追加します。ポップアップのようにメインウェブビューを覆う。InAppBrowserとの違いは追加したウェブビューはcordovaモジュールの使⽤に制限がない。画⾯キャプチャiOS、Android現在表⽰されている画⾯をキャプチャする。WebviewまたはNative画⾯を含む全画⾯をキャプチャする。画⾯回転iOS、Android画⾯を回転する。明るさ調整iOS、Android画⾯の明るさを調整する。SpeechTTSiOS、Android渡されたTextを読み上げてくれる。STT開始iOS、Android⾳声認識のテキスト変換開始STT終了iOS、Android⾳声認識のテキスト変換終了Logアプリログ取得iOS、Androidアプリログを取得する。アプリログ初期化iOS、Androidアプリログをクリアする。アプリログ収集開始iOSアプリログの収集を開始する。アプリログファイルのパス取得iOS、Androidアプリログが保存されているファイルのパスを取得する。\n",
      "\n",
      "発環境(Built-in Native Plugin)製品機能及び特徴Mobile 3rd Party Native Plugin連動事例Plugin名機能Platform説明取引先EsonicPlugin(OCR)⾝分証明書、⽂書認識iOS、AndroidrosisOCRライブラリを介して⾝分証明書、⽂書をスキャンする。ロシスmIDReader(OCR)⾝分証明書、⽂書認識Androidインジソフト社にOCRライブラリを介して⾝分証明書、⽂書をスキャンする。インジソフトV3（Vaccine）ワクチンソフト実⾏AndroidワクチンソフトSolution連携Plugin アンラップmVaccine（Vaccine）ワクチンソフト実⾏AndroidワクチンソフトSolution連携Plugin ラオンシキュアAppIron(偽造・変造防⽌)偽造・変造防⽌実⾏iOS, Android偽造・変造防⽌Solution連携PluginシキュセンAllatori(偽造・変造防⽌)難読化の実⾏Androidアプリビルド時に難読化NSHC、ラオンシキュアAppSuit(偽造・変造防⽌)偽造・変造防⽌iOS、Android偽造・変造防⽌Solution連携PluginスティリアンmTransKey(セキュリティキーパッド)セキュリティキーパッド出⼒iOS、AndroidセキュリティキーパッドSolution連携PluginラオンシキュアCyberKeyboard (セキュリティキーパッド)セキュリティキーパッド出⼒iOS、AndroidセキュリティキーパッドSolution連携PluginCFCAMobileKeeper(MDM)アプリインストール、画⾯キャプチャなどiOS、AndroidMDM Solution連携PluginジランジギョOzViewer(電⼦フォーマット紙)フォーマット紙の実⾏iOS、Android電⼦フォーマット紙Solution連携PluginポシエスSafeToken（認証）PIN、バイオ、パターン認証iOS、Android認証Solution連携Plugin8byteQR証明書（認証）QR証明書のダウンロード、認証iOS、Android認証Solution連携PluginCFCAOmniCA (認証)PIN、バイオ、パターン認証iOS、Android認証Solution連携PluginフライハイSmartAgent (Push)PushサービスiOS、Androidプッシュサービス連携PluginH2OMorpheusPush (Push)PushサービスiOS、Androidプッシュサービス連携PluginモフィアスnFilterセキュリティキーパッド出⼒iOS、AndroidセキュリティキーパッドSolution連携PluginNSHC\n",
      "\n",
      "発環境(Built-in Native Plugin)製品機能及び特徴Mobile 3rd Party Native Plugin連動事例Plugin名機能Platform説明取引先mOTPmOTPiOS、AndroidモバイルOTPService PluginアトンkeySharpWireless共同証明書、電⼦署名iOS、AndroidモバイルPKI電⼦署名連携Pluginラオンntiuspush(Push)PushサービスiOS、Androidプッシュサービス連携PluginフリDelfino共同証明書、電⼦署名iOS、AndroidモバイルPKI電⼦署名連携PluginウィズベラOne PassPIN、バイオ、パターン認証iOS、Android認証Solution連携Pluginラオン\n",
      "\n",
      "⽤環境(Offline Mode)製品機能及び特徴ネットワーク障害時に対応できるオフラインモードをサポート様々なマルチプラットフォーム環境でWebのリソースを保存する⽅法を選択して指定することができます。ユーザーのAppを起動する時にlocalまたはremoteの形でWebリソースを取得することができます。項⽬詳細項⽬リソース有効性チェック使⽤環境RemoteMode•Webリソースの⼀部をconfigを利⽤してローカルAppに保存。•ローカルAppに保存したリソースを除いたリソースはサーバーに位置。•App内蔵のWebブラウザエンジンのキャッシュ政策に従う。ページを移動する度にチェックデフォルト値\n",
      "OfflineMode•アプリの起動に必要なリソースをzip形式でdownload•オフラインネットワーク環境でAppの使⽤が必要な環境最初のApp 起動時にチェックオフラインモードが必要な特定環境\n",
      "ウェブリソースApplicationSandboxユーザーデータ不均⼀な速度、悪いネットワーク状態\n",
      "サムスン電⼦の設置⼯程-作業環境がネットワークに繋がらない調達庁のRFID-テスト条件がネットワークに繋がらないこと(条件)\n",
      "\n",
      "⽤環境(InAppUpdate)製品機能及び特徴アプリストアやマーケットを介さず、アプリ内で直接アップデート更新インアプリアップデート(InAppUpdate)機能により、アプリストアやマーケットを介さずアプリ内で直接にアップデートするファイルをダウンロードして更新する機能を提供します。応⽤プログラムWebSquareエンジン即時アップデート可能メンテナンス作業が頻繁に⾏われるエンタープライズ環境でさらに便利な機能\n",
      "InAppUpdate\n",
      "1.最初１回のみアプリストアからダウンロードしてインストール2.ネイティブコードが変更された場合のみ、ストアからダウンロードしてアップデート3. In App Updateの時、各Taskの並列および⾮同期・同期処理4.Resource Update時間の短縮5.インアプリアップデートの前・後イベントを通じてNative機能追加可能6.様々なResourceのダウンロード形式をサポート\n",
      "\n",
      "⽤環境(InAppUpdate)製品機能及び特徴InAppUpdateの過程で必要なResourceの有効性チェックと同期化W-MatrixはInAppUpdateを通じてApp起動に必要な動作を事前に準備します。該当動作は並列処理なので迅速に処理されます。Client\n",
      "WEB VIEWWEB RESOURCEHTML ,CSS,JS,ETC..Server\n",
      "Web ResourceCSSHTMLJSIMAGEXMLW-HybridClient EngineIn App Updateリソース検証サーバーモジュールHybridAppW-Hybridでパッケージ化されたAppを、モバイルStoreを通じて最初インストールウェブリソースをInApp Updateでサーバーのリソースと同期化InApp Updateの過程でWebSquareEngine、Resourceおよび必要なリソースの有効性をチェック、圧縮解凍、ダウンロードClient\n",
      "静的Webリソース(画像、HTML、JS、CSS、XML、ETC...)W-Hybrid Server PlatformInApp updateモジュールリソースの有効性チェックアプリ設定モジュール、サーバーモジュールServerConfig照会&リソースダウンロード\n",
      "アプリ設定モジュールW-Hybrid Platform\n",
      "\n",
      "⽤環境（メンテナンス）製品機能及び特徴デバイス・OSの断⽚化に独⽴的・安定的な運⽤Platform⽀援事例Android•権限処理の適⽤(Android 6)•FileProviderの適⽤(Android 7)•64bit適⽤のサポート•ScopedStorage適⽤(Android 10)•AndroidX適⽤(Android 11)•R8難読化適⽤によるサポート(Android 10)•AAB (Android App Bundle) サポート•JAVA -> Kotlin⾔語の切り替え•Target SDK変更時のサポート•Store配布の変更事項のサポートiOS•iOS 64bitサポート(iOS8)•iOS ATS(App Transport Security)のサポート(iOS9)•UIWebViewからWKWebViewへの変換対応(iOS12)•SceneDelegateのサポート(app life cycle変更対応) (iOS13)•xcframework対応(iOS13)•CrossWebSiteTracking対応(iOS14)•SwiftUIKeyboard Avoidance (キーボードアニメーション変更対応)•x86,arm64 simulator同時サポート(intel cpu, apple silicon)•iOSのbitcodeサポート•Store配布の変更事項のサポート\n",
      "\n",
      "援仕様製品機能及び特徴区分詳細仕様\n",
      "クライアントAndroid実⾏環境•Android 5.0(API 21)以上開発環境•JDK 7.0 Java / Kotlinのサポート•AndroidStudio ( Windows 7 / MacOS Yosemite以上)\n",
      "iOS実⾏環境•iOS 12.0 SDK以上開発環境•Xcode 10.0以上•OS X version 10.12.6 (macOS Sierra)•Objective-C / Swiftをサポート\n",
      "\n",
      "待効果製品機能及び特徴メンテナンス性の向上によるコスト削減と信頼できるパフォーマンスKEYWORD開発⽣産性/安定性性能拡張性/柔軟性メンテナンス性/ 低コストIn App Updateによる便利なコンテンツアップデートWeb-Native連携プラグインを提供リソースの有効性検証とユーザーデータの暗号化OFFLINEモードをサポートW-Hiveシステムに基づく⾃動化されたAppビルド頻繁なモバイルフレームワークOS アップデートに独⽴的・安定的なモバイルサービスの構築ネイティブ開発領域の最⼩化標準JavaScript APIに基づく便利なネイティブ機能を活⽤\n",
      "\n",
      "⽤事例03\n",
      "主な実績\n",
      "\n",
      "な実績適⽤事例⾦融・公共・流通・製造・通信分野への納品実績取引先プロジェクト名導⼊年度備考IBK企業銀⾏グローバル⾮対⾯⾼度化プロジェクト2023年09⽉⾦融(海外)KSNET次世代2023年03⽉VAN国軍医務司国軍医務司令部の国防医療情報システムの性能改善事業2023年01⽉公共ハナ銀⾏ODS2022年11⽉⾦融ハナ銀⾏スマート窓⼝2022年11⽉⾦融新韓銀⾏新韓銀⾏グローバルモバイルフレームワークソリューションのアップグレード2022年12⽉⾦融(海外)最⾼裁判所次世代電⼦訴訟システム構築のためのアプリ開発プラットフォーム常⽤SW導⼊2022年11⽉公共新韓投資証券ODS2022年10⽉⾦融ミレアセット⽣命ミレアセット⽣命の営業⽀援システム改編事業2022年04⽉⾦融サムスン⽣命バンカーシステムの再構築2022年04⽉⾦融サムスン⽣命GA営業⽀援システム構築2022年04⽉⾦融新韓銀⾏新韓銀⾏グローバル共通モバイルアーキテクチャ2022年01⽉⾦融(海外)ウリカードウリカード21年デジタルチャンネルシステムインフラ増設2021年06⽉⾦融韓国投資貯蓄銀⾏韓国投資貯蓄銀⾏の統合モバイルアプリ/ODS構築物品の供給2021年05⽉⾦融(株)新韓銀⾏新韓銀⾏The NEXTプロジェクト(端末UIプラットフォームソリューション)物品供給2021年04⽉⾦融(株)LGU+次世代U Cubeインフラの構築_SW標準化(2021年)事業2021年01⽉通信新韓銀⾏(⽇本⽀店)新韓銀⾏⽇本きらぼしモバイルバンキングの構築2020年11⽉⾦融(海外)\n",
      "\n",
      "な実績適⽤事例⾦融・公共・流通・製造・通信分野への納品実績取引先プロジェクト名導⼊年度備考企業銀⾏国外ネットワーク拡⼤に伴う主電算システム及び衛星システム構築事業2020年11⽉⾦融(海外)新韓⾦融投資(株)新韓⾦融投資MSA基盤の業務UIプラットフォームの構築2020年08⽉⾦融新韓銀⾏(⽇本⽀店)新韓銀⾏⽇本(SBJ)モバイルApp⾼度化事業2020年08⽉⾦融(海外)新韓銀⾏新韓銀⾏企業CRMモバイルSPURT全⾯再構築事業2020年07⽉⾦融現代百貨店発注管理システムのWebSquare供給2020年06⽉流通調達庁調達庁の次世代RFID物品管理プロジェクト2020年04⽉公共ウリカードウリカードデジタルチャンネルシステム構築ソリューションの供給2019年10⽉⾦融新韓銀⾏(中国)有限公司新韓銀⾏中国法⼈のモバイルバンキング構築プロジェクト2019年10⽉⾦融(海外)(株)ナイスD&B次世代システム構築2019年08⽉⾦融東洋⽣命保険(株)営業⽀援システム構築のWebSquare供給2019年08⽉⾦融OK貯蓄銀⾏OKモバイルバンキングの構築2019年08⽉⾦融KB証券ODS顧客相談ツールとデジタル資産管理プラットフォームの構築2019年06⽉⾦融ロッテカード株式会社ロッテカード債券モバイルアプリ⾼度化適⽤プロジェクト2019年03⽉⾦融(株)新韓銀⾏新韓銀⾏チャンネルシステムアーキテクチャー⾼度化端末ソリューション物品供給2018年08⽉⾦融興国⽣命モバイルシステムのWebSquare供給2018年07⽉⾦融光州銀⾏OBP冗⻑化のWebSquare供給2018年05⽉⾦融LG U+販売店電⼦請約、ペーパーアプリ、店舗実績管理、モバイル端末物流、スマート相談等2017年通信\n",
      "\n",
      "な実績適⽤事例⾦融・公共・流通・製造・通信分野への納品実績取引先プロジェクト名導⼊年度備考サムスン電⼦ネットワーク設置⼯程管理システム2017年製造韓国証券⾦融モバイルバンキング及び当社株主業務の先進化構築2017年⾦融SKテレコム次世代SWINGシステム2015年通信新韓⾦融持株会社新韓銀⾏グローバルバンキング⾮対⾯チャンネル2.0アップグレード2015年⾦融(アメリカ、カナダ、中国、⽇本、カンボジア、ベトナム、インドネシア、クメール)⼤宇証券販売チャンネルシステム構築2014年⾦融現代モービス次世代代理店システム2012年製造SC銀⾏モバイルバンキングの構築2012年⾦融SKハイニックスマーケティングBIシステム構築2012年製造LIG損害保険新事業の構築2012年⾦融LIG損害保険現場営業家族のためのタブレット電⼦署名システム2012年⾦融LIG損害保険スマートフォン補償モバイルシステム2012年⾦融ケイエルネットOutbound Mobile Service2011年製造現代重⼯業ハイブリッドアプリの構築2011年製造KTKT BIT（次世代システム）プロジェクト2011年通信LIG損害保険タブレット営業⽀援システム2011年⾦融\n",
      "\n",
      "社紹介04\n",
      "会社の概要従業員の状況Product Lineup\n",
      "\n",
      "社の概要会社紹介\n",
      "•W3C会員社•Global : 397会員社•Korea : 9会員\n",
      "•韓国特許: 22件•⽶国特許: 4件会社名住所従業員数お問い合わせ(株)インスウェーブシステムズソウル市江⻄区空港⼤路247、クイーンズパークナインC棟12階160名(2024年01⽉現在)02-2082-1400(代表電話)       02-2082-1410\n",
      "W3C正会員としてウェブ標準をリードする技術企業\n",
      "であるハナ発売\n",
      "開化コスダック上場\n",
      "\n",
      "\n",
      "業員の状況インスウェーブシステムズ、2024年現在会社紹介\n",
      "“専⾨技術⼒と多様な経験を備えたIT⼈材で構成されています。\"インスウェーブシステムズは最新のIT技術と専⾨的な能⼒を保有し、関連市場をリードしています。\n",
      "研究開発32%\n",
      "技術⼈材34%\n",
      "クラウド6%\n",
      "営業マーケティング9%\n",
      "経営支援9%\n",
      "技術サポート10%\n",
      "\n",
      "\n",
      "roduct Lineup会社紹介多様な産業のデジタル転換をリードするウェブ標準の最適なソリューション製品\n",
      "転換\n",
      "•\n",
      "•\n",
      "•\n",
      "•\n",
      "•\n",
      "•\n",
      "•••••\n",
      "••\n",
      "•\n",
      "\n",
      "\n",
      "hank You.\n",
      "ホームページhttps://www.inswave.com技術サポートhttps://wtech.inswave.kr(株)インスウェーブシステムズ\n"
     ]
    }
   ],
   "source": [
    "print(principles_of_jp2)"
   ]
  },
  {
   "cell_type": "code",
   "execution_count": 43,
   "id": "e29b174b-4a6c-4c91-bbec-8ff37caa569f",
   "metadata": {},
   "outputs": [
    {
     "name": "stdout",
     "output_type": "stream",
     "text": [
      "rinciples of Data Science\n",
      "Second Edition\n",
      "A beginner's guide to statistical techniques and theory to\n",
      "build eﬀective data-driven applications\n",
      "Sinan Ozdemir\n",
      "Sunil Kakade\n",
      "BIRMINGHAM - MUMBAI\n",
      "\n",
      "rinciples of Data Science\n",
      "Second Edition\n",
      "Copyright © 2018 Packt Publishing\n",
      "All rights reserved. No part of this book may be reproduced, stored in a retrieval system, or transmitted in any form\n",
      "or by any means, without the prior written permission of the publisher, except in the case of brief quotations\n",
      "embedded in critical articles or reviews.\n",
      "Every effort has been made in the preparation of this book to ensure the accuracy of the information presented.\n",
      "However, the information contained in this book is sold without warranty, either express or implied. Neither the\n",
      "authors, nor Packt Publishing or its dealers and distributors, will be held liable for any damages caused or alleged to\n",
      "have been caused directly or indirectly by this book.\n",
      "Packt Publishing has endeavored to provide trademark information ab\n"
     ]
    }
   ],
   "source": [
    "print(principles_of_ds0[:1000])"
   ]
  },
  {
   "cell_type": "code",
   "execution_count": 44,
   "id": "cac28b03-6f8b-4008-b1fa-b3c9e6f88372",
   "metadata": {},
   "outputs": [
    {
     "name": "stderr",
     "output_type": "stream",
     "text": [
      "incorrect startxref pointer(3)\n",
      "100%|████████████████████████████████████████████████████████████████████████| 1411/1411 [00:19<00:00, 73.10it/s]"
     ]
    },
    {
     "name": "stdout",
     "output_type": "stream",
     "text": [
      "749019\n"
     ]
    },
    {
     "name": "stderr",
     "output_type": "stream",
     "text": [
      "\n"
     ]
    }
   ],
   "source": [
    "# 웹스퀘어 개발자 가이드 SP5\n",
    "with open(BASE_DIR + '../data/sp5.pdf', 'rb') as file:\n",
    "\n",
    "    # PDF 리더 객체를 만듭니다.\n",
    "    reader = PyPDF2.PdfReader(file)\n",
    "\n",
    "    # 텍스트를 담을 빈 문자열을 초기화합니다.\n",
    "    principles_of_ds1 = ''\n",
    "    # PDF 파일의 각 페이지를 반복합니다.\n",
    "    for page in tqdm(reader.pages):\n",
    "        text = page.extract_text()\n",
    "        principles_of_ds1 += '\\n\\n' + text[text.find(' ]')+2:]\n",
    "\n",
    "# PDF 파일의 모든 텍스트가 포함된 최종 문자열을 인쇄합니다.\n",
    "principles_of_ds1 = principles_of_ds1.strip()\n",
    "\n",
    "print(len(principles_of_ds1))"
   ]
  },
  {
   "cell_type": "code",
   "execution_count": 45,
   "id": "1d0626d5-5026-4608-a7b5-824c3e553946",
   "metadata": {},
   "outputs": [
    {
     "name": "stdout",
     "output_type": "stream",
     "text": [
      "스퀘어5 SP5개발 가이드 \n",
      " Inswave Systems Co., Ltd. \n",
      " 1\n",
      "\n",
      "\n",
      "\n",
      "차 \n",
      " iii\n",
      "목차\n",
      "문서이력 \n",
      "파트I.소개 \n",
      "1.스튜디오 \n",
      "1.1.소개 \n",
      "1.2.PC요구사양 \n",
      "1.3.Eclipse지원 \n",
      "1.4.제약사항 \n",
      "1.5.인스톨러설치 \n",
      "1.6.Eclipse플러그인설치 \n",
      "1.7.설정 \n",
      "1.8.엔진교체 \n",
      "2.엔진 \n",
      "2.1.설치 \n",
      "2.2.사양 \n",
      "2.3.브라우저지원 \n",
      "2.4.설정 \n",
      "2.5.설치관련문제해결 \n",
      "3.동작 \n",
      "3.1.코드구조 \n",
      "3.2.스크립트 \n",
      "3.3.W-Pack(JS변환) \n",
      "3.4.브라우저호출 \n",
      "3.5.웹표준호환성 \n",
      "3.6.Scope \n",
      "3.7.주요API \n",
      "4.WFrame \n",
      "4.1.Scope설정 \n",
      "4.2.ID변경 \n",
      "4.3.$wVs.$p \n",
      " 4.4.WFrame간의화면참조 \n",
      "4.5.WFrame생성옵션전달 \n",
      "4.6.WFrame사용시유의사항 \n",
      "4.7.공통함수 \n",
      ". . . . . . . . . . . . . . . . . . . . . . . . . . . . . . . . . . . . . . . . . . . . . . . . . . . . . . . . . . . . . . . . . . . . . . . . . iii \n",
      " . . . . . . . . . . . . . . . . . . . . . . . . . . . . . . . . . . . . . . . . . . . . . . . . . . . . . . . . . . . . . . . . . . . . . xiii \n",
      " . . . . . . . . . . . . . . . . . . . . . . . . . . . . . . . . . . . . . . . 1 \n",
      " . . . . . . . . . . . . . . . . . . . . . . . . . . . . . . . . . . . . . . . . . . . . . . . . . . . . . . . . . . . . . . . . . . 3 \n",
      " .\t.\t.\t.\t.\t.\t.\t.\t.\t.\t.\t.\t.\t.\t.\t.\t.\t.\t.\t.\t.\t.\t.\t.\t.\t\n"
     ]
    }
   ],
   "source": [
    "print(principles_of_ds1[:1000])"
   ]
  },
  {
   "cell_type": "code",
   "execution_count": 46,
   "id": "3c3cd8ea-7d5e-44d9-95b8-6d2ed5e0027c",
   "metadata": {},
   "outputs": [],
   "source": [
    "principles_of_ds = principles_of_ds0 + \"\\n\\n\" + principles_of_ds1"
   ]
  },
  {
   "cell_type": "markdown",
   "id": "3d5ad558-06d5-4bd3-a4e0-fbc2748b0733",
   "metadata": {},
   "source": [
    "### 웹 문서 읽기"
   ]
  },
  {
   "cell_type": "code",
   "execution_count": 47,
   "id": "43e01a07",
   "metadata": {},
   "outputs": [
    {
     "name": "stdout",
     "output_type": "stream",
     "text": [
      "﻿The Project Gutenberg eBook of The History of Insects\n",
      "    \n",
      "This ebook is for the use of anyone anywhere in the United States and\n",
      "most other parts of the world at no cost and with almost no restrictions\n",
      "whatsoever. You may copy it, give it away or re-use it under the terms\n",
      "of the Project Gutenberg License included with this ebook or online\n",
      "at www.gutenberg.org. If you are not located in the United States,\n",
      "you will have to check the laws of the country where you are located\n",
      "before using this eBook.\n",
      "\n",
      "Title: The History of Insects\n",
      "\n",
      "Author: Unknown\n",
      "\n",
      "Release date: January 1, 2004 [eBook #10834]\n",
      "                Most recently updated: December 21, 2020\n",
      "\n",
      "Language: English\n",
      "\n",
      "\n",
      "\n",
      "*** START OF THE PROJECT GUTENBERG EBOOK THE HISTORY OF INSECTS ***\n",
      "\n",
      "\n",
      "E-text prepared by Internet Archive Children's Library, Garrett Alley, and\n",
      "the Project Gutenberg Online Distributed Proofreading Team\n",
      "\n",
      "\n",
      "\n",
      "Note: Project Gutenberg also has an HTML version of this\n",
      "      file which includes the \n"
     ]
    }
   ],
   "source": [
    "from urllib.request import urlopen\n",
    "\n",
    "\"\"\"\n",
    "곤충에 관한 교과서 (일부 내용 발췌)\n",
    "\n",
    "The Project Gutenberg eBook of The History of Insects\n",
    "    \n",
    "This ebook is for the use of anyone anywhere in the United States and\n",
    "most other parts of the world at no cost and with almost no restrictions\n",
    "whatsoever. You may copy it, give it away or re-use it under the terms\n",
    "of the Project Gutenberg License included with this ebook or online\n",
    "at www.gutenberg.org. If you are not located in the United States,\n",
    "you will have to check the laws of the country where you are located\n",
    "...\n",
    "\"\"\"\n",
    "text = urlopen('https://www.gutenberg.org/cache/epub/10834/pg10834.txt').read().decode()\n",
    "print(text[:1000])"
   ]
  },
  {
   "cell_type": "markdown",
   "id": "a267c322-bfea-46ce-b1f6-6089d690528c",
   "metadata": {},
   "source": [
    "### pdf 문서 내용을 청킹하기 (overlapping_factor=0)"
   ]
  },
  {
   "cell_type": "code",
   "execution_count": 48,
   "id": "dfdac6ff",
   "metadata": {},
   "outputs": [
    {
     "name": "stdout",
     "output_type": "stream",
     "text": [
      "non-overlapping chunking approach has 1256 documents with average length 487.8 tokens\n"
     ]
    }
   ],
   "source": [
    "split = overlapping_chunks(principles_of_ds, overlapping_factor=0)\n",
    "avg_length = sum([len(tokenizer.encode(t)) for t in split]) / len(split)\n",
    "print(f'non-overlapping chunking approach has {len(split)} documents with average length {avg_length:.1f} tokens')"
   ]
  },
  {
   "cell_type": "code",
   "execution_count": 49,
   "id": "08a783ea-eb91-4838-948d-48a137248a78",
   "metadata": {
    "scrolled": true
   },
   "outputs": [
    {
     "name": "stdout",
     "output_type": "stream",
     "text": [
      "rinciples of Data Science\n",
      "Second Edition\n",
      "A beginner's guide to statistical techniques and theory to\n",
      "build eﬀective data-driven applications\n",
      "Sinan Ozdemir\n",
      "Sunil Kakade\n",
      "BIRMINGHAM - MUMBAI\n",
      "\n",
      "rinciples of Data Science\n",
      "Second Edition\n",
      "Copyright © 2018 Packt Publishing\n",
      "All rights reserved.  No part of this book may be reproduced, stored in a retrieval system, or transmitted in any form\n",
      "or by any means, without the prior written permission of the publisher, except in the case of brief quotations\n",
      "embedded in critical articles or reviews. \n",
      "Every effort has been made in the preparation of this book to ensure the accuracy of the information presented. \n",
      "However, the information contained in this book is sold without warranty, either express or implied.  Neither the\n",
      "authors, nor Packt Publishing or its dealers and distributors, will be held liable for any damages caused or alleged to\n",
      "have been caused directly or indirectly by this book. \n",
      "Packt Publishing has endeavored to provide trademark information about all of the companies and products\n",
      "mentioned in this book by the appropriate use of capitals.  However, Packt Publishing cannot guarantee the accuracy\n",
      "of this information. \n",
      "Commissioning Editor:  Amey Varangoankar\n",
      "Acquisition Editor:  Dayne Castelino\n",
      "Content Development Editor:  Chris D'cruz\n",
      "Technical Editor:  Sneha Hanchate\n",
      "Copy Editor:  Safis Editing\n",
      "Project Coordinator:  Namrata Swetta\n",
      "Proofreader:  Safis Editing\n",
      "Indexer:  Pratik Shirodkar\n",
      "Graphics:  Tom Scaria\n",
      "Production Coordinator:  Nilesh Mohite\n",
      "First published: December 2016\n",
      "Second edition: November 2018\n",
      "Production reference: 1111218\n",
      "Published by Packt Publishing Ltd. \n",
      "Livery Place\n",
      "35 Livery Street\n",
      "Birmingham\n",
      "B3 2PB, UK. \n",
      "ISBN 978-1-78980-454-6\n",
      "www. packtpub. com\n",
      "\n",
      "\n",
      "mapt. io\n",
      "Mapt is an online digital library that gives you full access to over 5,000 books and videos, as\n",
      "well as industry leading tools to help you plan your personal development and advance\n",
      "your career.  For more information, please visit our website. \n",
      "Why subscribe.\n",
      "=======================\n",
      "\n",
      "Spend less time learning and more time coding with practical eBooks and Videos\n",
      "from over 4,000 industry professionals\n",
      "Improve your learning with Skill Plans built especially for you\n",
      "Get a free eBook or video every month\n",
      "Mapt is fully searchable\n",
      "Copy and paste, print, and bookmark content\n",
      "Packt. com\n",
      "Did you know that Packt offers eBook versions of every book published, with PDF and\n",
      "ePub files available.  You can upgrade to the eBook version at www. packt. com  and as a print\n",
      "book customer, you are entitled to a discount on the eBook copy.  Get in touch with us at\n",
      "customercare@packtpub. com  for more details. \n",
      "At www. packt. com , you can also read a collection of free technical articles, sign up for a\n",
      "range of free newsletters, and receive exclusive discounts and offers on Packt books and\n",
      "eBooks.  \n",
      "\n",
      "ontributors\n",
      "About the authors\n",
      "Sinan Ozdemir  is a data scientist, start-up founder, and educator living in the San\n",
      "Francisco Bay Area.  He studied pure mathematics at Johns Hopkins University.  He then\n",
      "spent several years conducting lectures on data science at Johns Hopkins University before\n",
      "founding his own start-up, Kylie. ai, which uses artificial intelligence to clone brand\n",
      "personalities and automate customer service communications. \n",
      "Sinan is also the author of Principles of Data Science, First Edition  available through Packt. \n",
      "Sunil Kakade  is a technologist, educator, and senior leader with expertise in creating data-\n",
      "and AI-driven organizations.  He is in the adjunct faculty at Northwestern University,\n",
      "Evanston, IL, where he teaches graduate courses of data science and big data.  He has\n",
      "several research papers to his credit and has presented his work in big data applications at\n",
      "reputable conferences.  He has US patents in areas of big data and retail processes.  He is\n",
      "passionate about applying data science to improve business outcomes and save patients'\n",
      "lives.  At present, Sunil leads the information architecture and analytics team for a large\n",
      "healthcare organization focused on improving healthcare outcomes and lives with his wife,\n",
      "Pratibha, and daughter, Preeti, in Scottsdale, Arizona.\n"
     ]
    }
   ],
   "source": [
    "print(split[0])\n",
    "print(\"=======================\")\n",
    "print(split[1])"
   ]
  },
  {
   "cell_type": "markdown",
   "id": "3bdd3642-bade-4f89-8385-816c21ca2624",
   "metadata": {},
   "source": [
    "### pdf 문서 내용을 청킹하기 (overlapping_factor=5)"
   ]
  },
  {
   "cell_type": "code",
   "execution_count": 50,
   "id": "1730b34b",
   "metadata": {},
   "outputs": [
    {
     "name": "stdout",
     "output_type": "stream",
     "text": [
      "overlapping chunking approach has 1703 documents with average length 498.1 tokens\n"
     ]
    }
   ],
   "source": [
    "split = overlapping_chunks(principles_of_ds)\n",
    "avg_length = sum([len(tokenizer.encode(t)) for t in split]) / len(split)\n",
    "print(f'overlapping chunking approach has {len(split)} documents with average length {avg_length:.1f} tokens')"
   ]
  },
  {
   "cell_type": "code",
   "execution_count": 51,
   "id": "d1381cc8",
   "metadata": {
    "scrolled": true
   },
   "outputs": [
    {
     "name": "stdout",
     "output_type": "stream",
     "text": [
      "rinciples of Data Science\n",
      "Second Edition\n",
      "A beginner's guide to statistical techniques and theory to\n",
      "build eﬀective data-driven applications\n",
      "Sinan Ozdemir\n",
      "Sunil Kakade\n",
      "BIRMINGHAM - MUMBAI\n",
      "\n",
      "rinciples of Data Science\n",
      "Second Edition\n",
      "Copyright © 2018 Packt Publishing\n",
      "All rights reserved.  No part of this book may be reproduced, stored in a retrieval system, or transmitted in any form\n",
      "or by any means, without the prior written permission of the publisher, except in the case of brief quotations\n",
      "embedded in critical articles or reviews. \n",
      "Every effort has been made in the preparation of this book to ensure the accuracy of the information presented. \n",
      "However, the information contained in this book is sold without warranty, either express or implied.  Neither the\n",
      "authors, nor Packt Publishing or its dealers and distributors, will be held liable for any damages caused or alleged to\n",
      "have been caused directly or indirectly by this book. \n",
      "Packt Publishing has endeavored to provide trademark information about all of the companies and products\n",
      "mentioned in this book by the appropriate use of capitals.  However, Packt Publishing cannot guarantee the accuracy\n",
      "of this information. \n",
      "Commissioning Editor:  Amey Varangoankar\n",
      "Acquisition Editor:  Dayne Castelino\n",
      "Content Development Editor:  Chris D'cruz\n",
      "Technical Editor:  Sneha Hanchate\n",
      "Copy Editor:  Safis Editing\n",
      "Project Coordinator:  Namrata Swetta\n",
      "Proofreader:  Safis Editing\n",
      "Indexer:  Pratik Shirodkar\n",
      "Graphics:  Tom Scaria\n",
      "Production Coordinator:  Nilesh Mohite\n",
      "First published: December 2016\n",
      "Second edition: November 2018\n",
      "Production reference: 1111218\n",
      "Published by Packt Publishing Ltd. \n",
      "Livery Place\n",
      "35 Livery Street\n",
      "Birmingham\n",
      "B3 2PB, UK. \n",
      "ISBN 978-1-78980-454-6\n",
      "www. packtpub. com\n",
      "\n",
      "\n",
      "mapt. io\n",
      "Mapt is an online digital library that gives you full access to over 5,000 books and videos, as\n",
      "well as industry leading tools to help you plan your personal development and advance\n",
      "your career.  For more information, please visit our website. \n",
      "Why subscribe.\n",
      "=======================\n",
      "packtpub. com\n",
      "\n",
      "\n",
      "mapt. io\n",
      "Mapt is an online digital library that gives you full access to over 5,000 books and videos, as\n",
      "well as industry leading tools to help you plan your personal development and advance\n",
      "your career.  For more information, please visit our website. \n",
      "Why subscribe. \n",
      "Spend less time learning and more time coding with practical eBooks and Videos\n",
      "from over 4,000 industry professionals\n",
      "Improve your learning with Skill Plans built especially for you\n",
      "Get a free eBook or video every month\n",
      "Mapt is fully searchable\n",
      "Copy and paste, print, and bookmark content\n",
      "Packt. com\n",
      "Did you know that Packt offers eBook versions of every book published, with PDF and\n",
      "ePub files available.  You can upgrade to the eBook version at www. packt. com  and as a print\n",
      "book customer, you are entitled to a discount on the eBook copy.  Get in touch with us at\n",
      "customercare@packtpub. com  for more details. \n",
      "At www. packt. com , you can also read a collection of free technical articles, sign up for a\n",
      "range of free newsletters, and receive exclusive discounts and offers on Packt books and\n",
      "eBooks.  \n",
      "\n",
      "ontributors\n",
      "About the authors\n",
      "Sinan Ozdemir  is a data scientist, start-up founder, and educator living in the San\n",
      "Francisco Bay Area.  He studied pure mathematics at Johns Hopkins University.  He then\n",
      "spent several years conducting lectures on data science at Johns Hopkins University before\n",
      "founding his own start-up, Kylie. ai, which uses artificial intelligence to clone brand\n",
      "personalities and automate customer service communications. \n",
      "Sinan is also the author of Principles of Data Science, First Edition  available through Packt. \n",
      "Sunil Kakade  is a technologist, educator, and senior leader with expertise in creating data-\n",
      "and AI-driven organizations.  He is in the adjunct faculty at Northwestern University,\n",
      "Evanston, IL, where he teaches graduate courses of data science and big data.  He has\n",
      "several research papers to his credit and has presented his work in big data applications at\n",
      "reputable conferences.  He has US patents in areas of big data and retail processes.  He is\n",
      "passionate about applying data science to improve business outcomes and save patients'\n",
      "lives.\n"
     ]
    }
   ],
   "source": [
    "print(split[0])\n",
    "print(\"=======================\")\n",
    "print(split[1])"
   ]
  },
  {
   "cell_type": "markdown",
   "id": "b2b9ebe5-4590-4376-8e4b-48771ab80f1c",
   "metadata": {},
   "source": [
    "### 맞춤형 구분기호 찾기"
   ]
  },
  {
   "cell_type": "code",
   "execution_count": 52,
   "id": "7fc7dc10",
   "metadata": {},
   "outputs": [
    {
     "name": "stdout",
     "output_type": "stream",
     "text": [
      "[(' ', 120939), (' \\n', 20070), ('\\t', 18399), ('\\n', 10728), ('  ', 1592), (' \\n ', 1429), (' \\n\\n\\n', 963), ('\\n\\n', 335), (' \\n\\n', 327), (' \\n \\n', 295), ('\\t ', 282), ('\\n   ', 250), ('\\n\\n\\n', 96), ('\\n ', 75), ('\\n    ', 73), (' \\n \\n \\n', 45), (' \\n \\n ', 44), ('     ', 34), ('\\n  ', 23), (' \\n \\n \\n ', 23), (' \\n\\n\\n\\n\\n', 22), ('       ', 19), ('          ', 19), ('   ', 17), ('      ', 16), ('    ', 15), ('         ', 12), (' \\n \\n \\n \\n', 12), (' \\n \\n \\n \\n ', 12), (' \\n \\n \\n \\n \\n \\n \\n', 12), ('\\n        ', 10), ('\\n                                     ', 10), (' \\n\\n\\n\\n', 10), (' \\n \\n\\n', 10), ('        ', 8), ('\\n       ', 8), ('\\n               ', 8), ('\\n\\n\\n\\n\\n', 8), ('           ', 6), ('            ', 6), ('\\n           ', 6), ('                      ', 5), ('             ', 4), ('                          ', 3), ('\\n                   ', 3), ('              ', 3), ('\\n                 ', 3), ('\\n      ', 3), ('\\n                                        ', 3), ('               ', 3), ('\\n\\n   ', 3), (' \\n \\n\\n\\n', 3), (' \\n\\n \\n', 3), (' \\n \\n \\n \\n \\n ', 3), ('                       ', 2), ('                     ', 2), ('                                                 ', 2), ('  \\n', 2), (' \\u2028', 2), ('\\n\\n    ', 2), ('\\n\\n\\n\\n', 2), ('\\n                ', 2), ('\\n \\n', 2), ('\\n                          ', 2), ('\\n                                            ', 2), ('                 ', 2), (' \\n \\n \\n \\n\\n', 2), ('\\n \\n \\n', 2), (' \\n\\n\\n \\n', 2), (' \\n \\n \\n \\n \\n \\n', 2), ('                           ', 1), ('                                                      ', 1), ('                                                                                                   \\n \\n', 1), ('\\n                                                     \\n          \\n', 1), ('\\n                                                          \\n', 1), ('\\n\\n  ', 1), ('\\n                                                                          \\n', 1), ('\\n                                                                                     ', 1), ('                              ', 1), ('                            ', 1), ('\\n\\u2028', 1), ('\\n \\n\\n\\n', 1), ('\\n                                                                         ', 1), ('\\n            \\n\\n\\n', 1), ('\\u2028 ', 1), (' \\u2028 ', 1), ('\\n                              ', 1), ('\\n         ', 1), ('\\n                                             ', 1), ('\\n                                                      ', 1), ('\\n                                               ', 1), ('                                         ', 1), ('                                                ', 1), ('                                                     ', 1), ('\\n\\n ', 1), (' \\n \\n \\n\\n\\n', 1), (' \\n \\n \\n\\n', 1), (' \\n\\n \\n\\n', 1), ('\\n \\n\\n', 1), (' \\n \\n\\n \\n\\n\\n', 1)]\n"
     ]
    }
   ],
   "source": [
    "# 카운터 및 re 라이브러리 가져오기\n",
    "from collections import Counter\n",
    "import re\n",
    "\n",
    "# 'principles_of_ds'에서 하나 이상의 공백이 있는 모든 항목 찾기\n",
    "matches = re.findall(r'[\\s]{1,}', principles_of_ds)\n",
    "\n",
    "# 문서에서 가장 빈번하게 발생하는 공백 10가지\n",
    "most_common_spaces = Counter(matches).most_common(100)\n",
    "\n",
    "# 가장 일반적인 공백과 그 빈도를 출력\n",
    "print(most_common_spaces)"
   ]
  },
  {
   "cell_type": "code",
   "execution_count": 53,
   "id": "82ed7c00-424b-43f1-9948-b09cdae7a39b",
   "metadata": {},
   "outputs": [
    {
     "name": "stdout",
     "output_type": "stream",
     "text": [
      "1843\n",
      "1111\n",
      "14\n",
      "1353\n",
      "1005\n"
     ]
    }
   ],
   "source": [
    "pattern = r'\\n\\n'\n",
    "frequency = len(re.findall(pattern, principles_of_ds))\n",
    "print(frequency)\n",
    "\n",
    "pattern = r'\\n\\n\\n'\n",
    "frequency = len(re.findall(pattern, principles_of_ds))\n",
    "print(frequency)\n",
    "\n",
    "pattern = r'\\n\\n '\n",
    "frequency = len(re.findall(pattern, principles_of_ds))\n",
    "print(frequency)\n",
    "\n",
    "pattern = r' \\n\\n'\n",
    "frequency = len(re.findall(pattern, principles_of_ds))\n",
    "print(frequency)\n",
    "\n",
    "pattern = r' \\n\\n\\n'\n",
    "frequency = len(re.findall(pattern, principles_of_ds))\n",
    "print(frequency)"
   ]
  },
  {
   "cell_type": "markdown",
   "id": "a151eee8-9021-4415-a2cc-a14b2b7f7a8c",
   "metadata": {},
   "source": [
    "### 사용자 정의 구분자로 문서 청킹하기"
   ]
  },
  {
   "cell_type": "code",
   "execution_count": 54,
   "id": "63ccc253",
   "metadata": {},
   "outputs": [
    {
     "name": "stdout",
     "output_type": "stream",
     "text": [
      "custom delimiter approach has 1775 documents with average length 326.2 tokens\n"
     ]
    }
   ],
   "source": [
    "# Only keep documents of at least 100 characters split by a custom delimiter\n",
    "split = list(filter(lambda x: len(x) > 50, principles_of_ds.split('\\n\\n')))\n",
    "# split = list(principles_of_ds.split('\\n\\n'))\n",
    "\n",
    "avg_length = sum([len(tokenizer.encode(t)) for t in split]) / len(split)\n",
    "print(f'custom delimiter approach has {len(split)} documents with average length {avg_length:.1f} tokens')"
   ]
  },
  {
   "cell_type": "code",
   "execution_count": 55,
   "id": "4da7a07a-1e9f-4d06-8a24-4ed3fec487da",
   "metadata": {
    "scrolled": true
   },
   "outputs": [
    {
     "name": "stdout",
     "output_type": "stream",
     "text": [
      "rinciples of Data Science\n",
      "Second Edition\n",
      "A beginner's guide to statistical techniques and theory to\n",
      "build eﬀective data-driven applications\n",
      "Sinan Ozdemir\n",
      "Sunil Kakade\n",
      "BIRMINGHAM - MUMBAI\n",
      "=======================\n",
      "rinciples of Data Science\n",
      "Second Edition\n",
      "Copyright © 2018 Packt Publishing\n",
      "All rights reserved. No part of this book may be reproduced, stored in a retrieval system, or transmitted in any form\n",
      "or by any means, without the prior written permission of the publisher, except in the case of brief quotations\n",
      "embedded in critical articles or reviews.\n",
      "Every effort has been made in the preparation of this book to ensure the accuracy of the information presented.\n",
      "However, the information contained in this book is sold without warranty, either express or implied. Neither the\n",
      "authors, nor Packt Publishing or its dealers and distributors, will be held liable for any damages caused or alleged to\n",
      "have been caused directly or indirectly by this book.\n",
      "Packt Publishing has endeavored to provide trademark information about all of the companies and products\n",
      "mentioned in this book by the appropriate use of capitals. However, Packt Publishing cannot guarantee the accuracy\n",
      "of this information.\n",
      "Commissioning Editor:  Amey Varangoankar\n",
      "Acquisition Editor:  Dayne Castelino\n",
      "Content Development Editor:  Chris D'cruz\n",
      "Technical Editor:  Sneha Hanchate\n",
      "Copy Editor:  Safis Editing\n",
      "Project Coordinator:  Namrata Swetta\n",
      "Proofreader:  Safis Editing\n",
      "Indexer:  Pratik Shirodkar\n",
      "Graphics:  Tom Scaria\n",
      "Production Coordinator:  Nilesh Mohite\n",
      "First published: December 2016\n",
      "Second edition: November 2018\n",
      "Production reference: 1111218\n",
      "Published by Packt Publishing Ltd.\n",
      "Livery Place\n",
      "35 Livery Street\n",
      "Birmingham\n",
      "B3 2PB, UK.\n",
      "ISBN 978-1-78980-454-6\n",
      "www.packtpub.com\n",
      "=======================\n",
      "\n",
      "mapt.io\n",
      "Mapt is an online digital library that gives you full access to over 5,000 books and videos, as\n",
      "well as industry leading tools to help you plan your personal development and advance\n",
      "your career. For more information, please visit our website.\n",
      "Why subscribe?\n",
      "Spend less time learning and more time coding with practical eBooks and Videos\n",
      "from over 4,000 industry professionals\n",
      "Improve your learning with Skill Plans built especially for you\n",
      "Get a free eBook or video every month\n",
      "Mapt is fully searchable\n",
      "Copy and paste, print, and bookmark content\n",
      "Packt.com\n",
      "Did you know that Packt offers eBook versions of every book published, with PDF and\n",
      "ePub files available? You can upgrade to the eBook version at www.packt.com  and as a print\n",
      "book customer, you are entitled to a discount on the eBook copy. Get in touch with us at\n",
      "customercare@packtpub.com  for more details.\n",
      "At www.packt.com , you can also read a collection of free technical articles, sign up for a\n",
      "range of free newsletters, and receive exclusive discounts and offers on Packt books and\n",
      "eBooks. \n"
     ]
    }
   ],
   "source": [
    "print(split[0])\n",
    "print(\"=======================\")\n",
    "print(split[1])\n",
    "print(\"=======================\")\n",
    "print(split[2])"
   ]
  },
  {
   "cell_type": "markdown",
   "id": "cadf8075-191c-45fd-8edc-40d160024276",
   "metadata": {},
   "source": [
    "### 청킹된 문서 embedding"
   ]
  },
  {
   "cell_type": "code",
   "execution_count": 56,
   "id": "edadcf7d-bcc7-4487-bedf-f1ed8db9f6c2",
   "metadata": {},
   "outputs": [],
   "source": [
    "# 한글 token size를 고려하여 overlapping이 없는 500 token 문서 청킹 사용 \n",
    "split = overlapping_chunks(principles_of_ds, overlapping_factor=0)"
   ]
  },
  {
   "cell_type": "code",
   "execution_count": 57,
   "id": "2480fe3c",
   "metadata": {},
   "outputs": [
    {
     "name": "stderr",
     "output_type": "stream",
     "text": [
      "100%|████████████████████████████████████████████████████████████████████████████| 13/13 [00:26<00:00,  2.04s/it]\n"
     ]
    }
   ],
   "source": [
    "embeddings = None\n",
    "for s in tqdm(range(0, len(split), 100)):\n",
    "    if embeddings is None:\n",
    "        embeddings = np.array(get_embeddings(split[s:s+100], engine=ENGINE))\n",
    "    else:\n",
    "        embeddings = np.vstack([embeddings, np.array(get_embeddings(split[s:s+100], engine=ENGINE))])\n",
    "    "
   ]
  },
  {
   "cell_type": "code",
   "execution_count": 58,
   "id": "1cfe8fd2",
   "metadata": {
    "scrolled": true
   },
   "outputs": [
    {
     "name": "stdout",
     "output_type": "stream",
     "text": [
      "Cluster 0: 3 embeddings\n",
      "Cluster 1: 2 embeddings\n",
      "Cluster 2: 3 embeddings\n",
      "Cluster 3: 2 embeddings\n",
      "Cluster 4: 3 embeddings\n",
      "Cluster 5: 2 embeddings\n",
      "Cluster 6: 2 embeddings\n",
      "Cluster 7: 71 embeddings\n",
      "Cluster 8: 2 embeddings\n",
      "Cluster 9: 4 embeddings\n",
      "Cluster 10: 2 embeddings\n",
      "Cluster 11: 4 embeddings\n",
      "Cluster 12: 2 embeddings\n",
      "Cluster 13: 2 embeddings\n",
      "Cluster 14: 4 embeddings\n",
      "Cluster 15: 3 embeddings\n",
      "Cluster 16: 2 embeddings\n",
      "Cluster 17: 2 embeddings\n",
      "Cluster 18: 2 embeddings\n",
      "Cluster 19: 2 embeddings\n",
      "Cluster 20: 2 embeddings\n",
      "Cluster 21: 2 embeddings\n",
      "Cluster 22: 2 embeddings\n",
      "Cluster 23: 2 embeddings\n",
      "Cluster 24: 4 embeddings\n",
      "Cluster 25: 3 embeddings\n",
      "Cluster 26: 6 embeddings\n",
      "Cluster 27: 3 embeddings\n",
      "Cluster 28: 2 embeddings\n",
      "Cluster 29: 4 embeddings\n",
      "Cluster 30: 2 embeddings\n",
      "Cluster 31: 2 embeddings\n",
      "Cluster 32: 2 embeddings\n",
      "Cluster 33: 2 embeddings\n",
      "Cluster 34: 3 embeddings\n",
      "Cluster 35: 2 embeddings\n",
      "Cluster 36: 2 embeddings\n",
      "Cluster 37: 2 embeddings\n",
      "Cluster 38: 2 embeddings\n",
      "Cluster 39: 4 embeddings\n",
      "Cluster 40: 2 embeddings\n",
      "Cluster 41: 4 embeddings\n",
      "Cluster 42: 2 embeddings\n",
      "Cluster 43: 2 embeddings\n",
      "Cluster 44: 2 embeddings\n",
      "Cluster 45: 3 embeddings\n",
      "Cluster 46: 4 embeddings\n",
      "Cluster 47: 2 embeddings\n",
      "Cluster 48: 2 embeddings\n",
      "Cluster 49: 3 embeddings\n",
      "Cluster 50: 2 embeddings\n",
      "Cluster 51: 3 embeddings\n",
      "Cluster 52: 2 embeddings\n",
      "Cluster 53: 2 embeddings\n",
      "Cluster 54: 2 embeddings\n",
      "Cluster 55: 2 embeddings\n",
      "Cluster 56: 2 embeddings\n",
      "Cluster 57: 2 embeddings\n",
      "Cluster 58: 2 embeddings\n",
      "Cluster 59: 2 embeddings\n",
      "Cluster 60: 2 embeddings\n",
      "Cluster 61: 2 embeddings\n",
      "Cluster 62: 3 embeddings\n",
      "Cluster 63: 2 embeddings\n",
      "Cluster 64: 3 embeddings\n",
      "Cluster 65: 2 embeddings\n",
      "Cluster 66: 2 embeddings\n",
      "Cluster 67: 2 embeddings\n",
      "Cluster 68: 2 embeddings\n",
      "Cluster 69: 2 embeddings\n",
      "Cluster 70: 2 embeddings\n",
      "Cluster 71: 2 embeddings\n",
      "Cluster 72: 2 embeddings\n",
      "Cluster 73: 2 embeddings\n",
      "Cluster 74: 2 embeddings\n",
      "Cluster 75: 2 embeddings\n",
      "Cluster 76: 2 embeddings\n",
      "Cluster 77: 3 embeddings\n",
      "Cluster 78: 2 embeddings\n",
      "Cluster 79: 2 embeddings\n",
      "Cluster 80: 2 embeddings\n",
      "Cluster 81: 2 embeddings\n",
      "Cluster 82: 3 embeddings\n",
      "Cluster 83: 2 embeddings\n",
      "Cluster 84: 2 embeddings\n",
      "Cluster 85: 2 embeddings\n",
      "Cluster 86: 2 embeddings\n",
      "Cluster 87: 2 embeddings\n",
      "Cluster 88: 2 embeddings\n",
      "Cluster 89: 2 embeddings\n",
      "Cluster 90: 3 embeddings\n",
      "Cluster 91: 2 embeddings\n",
      "Cluster 92: 3 embeddings\n",
      "Cluster 93: 2 embeddings\n",
      "Cluster 94: 2 embeddings\n",
      "Cluster 95: 2 embeddings\n",
      "Cluster 96: 2 embeddings\n",
      "Cluster 97: 2 embeddings\n",
      "Cluster 98: 2 embeddings\n",
      "Cluster 99: 2 embeddings\n",
      "Cluster 100: 2 embeddings\n",
      "Cluster 101: 2 embeddings\n",
      "Cluster 102: 2 embeddings\n",
      "Cluster 103: 2 embeddings\n",
      "Cluster 104: 2 embeddings\n",
      "Cluster 105: 2 embeddings\n",
      "Cluster 106: 2 embeddings\n",
      "Cluster 107: 2 embeddings\n",
      "Cluster 108: 3 embeddings\n",
      "Cluster 109: 1 embeddings\n",
      "Cluster 110: 2 embeddings\n",
      "Cluster 111: 2 embeddings\n",
      "Cluster 112: 1 embeddings\n",
      "Cluster 113: 1 embeddings\n",
      "Cluster 114: 2 embeddings\n",
      "Cluster 115: 2 embeddings\n",
      "Cluster 116: 2 embeddings\n",
      "Cluster 117: 2 embeddings\n",
      "Cluster 118: 2 embeddings\n",
      "Cluster 119: 2 embeddings\n",
      "Cluster 120: 2 embeddings\n",
      "Cluster 121: 1 embeddings\n",
      "Cluster 122: 1 embeddings\n",
      "Cluster 123: 1 embeddings\n",
      "Cluster 124: 2 embeddings\n",
      "Cluster 125: 2 embeddings\n",
      "Cluster 126: 2 embeddings\n",
      "Cluster 127: 2 embeddings\n",
      "Cluster 128: 3 embeddings\n",
      "Cluster 129: 1 embeddings\n",
      "Cluster 130: 2 embeddings\n",
      "Cluster 131: 1 embeddings\n",
      "Cluster 132: 2 embeddings\n",
      "Cluster 133: 2 embeddings\n",
      "Cluster 134: 2 embeddings\n",
      "Cluster 135: 2 embeddings\n",
      "Cluster 136: 3 embeddings\n",
      "Cluster 137: 2 embeddings\n",
      "Cluster 138: 2 embeddings\n",
      "Cluster 139: 2 embeddings\n",
      "Cluster 140: 2 embeddings\n",
      "Cluster 141: 2 embeddings\n",
      "Cluster 142: 2 embeddings\n",
      "Cluster 143: 1 embeddings\n",
      "Cluster 144: 2 embeddings\n",
      "Cluster 145: 2 embeddings\n",
      "Cluster 146: 3 embeddings\n",
      "Cluster 147: 2 embeddings\n",
      "Cluster 148: 2 embeddings\n",
      "Cluster 149: 2 embeddings\n",
      "Cluster 150: 2 embeddings\n",
      "Cluster 151: 2 embeddings\n",
      "Cluster 152: 1 embeddings\n",
      "Cluster 153: 3 embeddings\n",
      "Cluster 154: 6 embeddings\n",
      "Cluster 155: 3 embeddings\n",
      "Cluster 156: 2 embeddings\n",
      "Cluster 157: 2 embeddings\n",
      "Cluster 158: 2 embeddings\n",
      "Cluster 159: 2 embeddings\n",
      "Cluster 160: 2 embeddings\n",
      "Cluster 161: 5 embeddings\n",
      "Cluster 162: 3 embeddings\n",
      "Cluster 163: 2 embeddings\n",
      "Cluster 164: 1 embeddings\n",
      "Cluster 165: 2 embeddings\n",
      "Cluster 166: 1 embeddings\n",
      "Cluster 167: 2 embeddings\n",
      "Cluster 168: 2 embeddings\n",
      "Cluster 169: 4 embeddings\n",
      "Cluster 170: 3 embeddings\n",
      "Cluster 171: 6 embeddings\n",
      "Cluster 172: 2 embeddings\n",
      "Cluster 173: 5 embeddings\n",
      "Cluster 174: 2 embeddings\n",
      "Cluster 175: 1 embeddings\n",
      "Cluster 176: 2 embeddings\n",
      "Cluster 177: 1 embeddings\n",
      "Cluster 178: 1 embeddings\n",
      "Cluster 179: 2 embeddings\n",
      "Cluster 180: 2 embeddings\n",
      "Cluster 181: 2 embeddings\n",
      "Cluster 182: 2 embeddings\n",
      "Cluster 183: 2 embeddings\n",
      "Cluster 184: 1 embeddings\n",
      "Cluster 185: 1 embeddings\n",
      "Cluster 186: 2 embeddings\n",
      "Cluster 187: 1 embeddings\n",
      "Cluster 188: 2 embeddings\n",
      "Cluster 189: 2 embeddings\n",
      "Cluster 190: 12 embeddings\n",
      "Cluster 191: 5 embeddings\n",
      "Cluster 192: 2 embeddings\n",
      "Cluster 193: 2 embeddings\n",
      "Cluster 194: 1 embeddings\n",
      "Cluster 195: 1 embeddings\n",
      "Cluster 196: 2 embeddings\n",
      "Cluster 197: 2 embeddings\n",
      "Cluster 198: 3 embeddings\n",
      "Cluster 199: 3 embeddings\n",
      "Cluster 200: 2 embeddings\n",
      "Cluster 201: 2 embeddings\n",
      "Cluster 202: 1 embeddings\n",
      "Cluster 203: 1 embeddings\n",
      "Cluster 204: 1 embeddings\n",
      "Cluster 205: 1 embeddings\n",
      "Cluster 206: 2 embeddings\n",
      "Cluster 207: 2 embeddings\n",
      "Cluster 208: 2 embeddings\n",
      "Cluster 209: 2 embeddings\n",
      "Cluster 210: 1 embeddings\n",
      "Cluster 211: 2 embeddings\n",
      "Cluster 212: 1 embeddings\n",
      "Cluster 213: 1 embeddings\n",
      "Cluster 214: 1 embeddings\n",
      "Cluster 215: 2 embeddings\n",
      "Cluster 216: 2 embeddings\n",
      "Cluster 217: 3 embeddings\n",
      "Cluster 218: 2 embeddings\n",
      "Cluster 219: 1 embeddings\n",
      "Cluster 220: 1 embeddings\n",
      "Cluster 221: 2 embeddings\n",
      "Cluster 222: 3 embeddings\n",
      "Cluster 223: 1 embeddings\n",
      "Cluster 224: 1 embeddings\n",
      "Cluster 225: 1 embeddings\n",
      "Cluster 226: 1 embeddings\n",
      "Cluster 227: 1 embeddings\n",
      "Cluster 228: 1 embeddings\n",
      "Cluster 229: 2 embeddings\n",
      "Cluster 230: 2 embeddings\n",
      "Cluster 231: 1 embeddings\n",
      "Cluster 232: 3 embeddings\n",
      "Cluster 233: 2 embeddings\n",
      "Cluster 234: 1 embeddings\n",
      "Cluster 235: 3 embeddings\n",
      "Cluster 236: 1 embeddings\n",
      "Cluster 237: 1 embeddings\n",
      "Cluster 238: 1 embeddings\n",
      "Cluster 239: 1 embeddings\n",
      "Cluster 240: 2 embeddings\n",
      "Cluster 241: 1 embeddings\n",
      "Cluster 242: 1 embeddings\n",
      "Cluster 243: 1 embeddings\n",
      "Cluster 244: 1 embeddings\n",
      "Cluster 245: 1 embeddings\n",
      "Cluster 246: 1 embeddings\n",
      "Cluster 247: 1 embeddings\n",
      "Cluster 248: 1 embeddings\n",
      "Cluster 249: 3 embeddings\n",
      "Cluster 250: 1 embeddings\n",
      "Cluster 251: 2 embeddings\n",
      "Cluster 252: 2 embeddings\n",
      "Cluster 253: 3 embeddings\n",
      "Cluster 254: 1 embeddings\n",
      "Cluster 255: 1 embeddings\n",
      "Cluster 256: 1 embeddings\n",
      "Cluster 257: 1 embeddings\n",
      "Cluster 258: 1 embeddings\n",
      "Cluster 259: 1 embeddings\n",
      "Cluster 260: 1 embeddings\n",
      "Cluster 261: 1 embeddings\n",
      "Cluster 262: 1 embeddings\n",
      "Cluster 263: 1 embeddings\n",
      "Cluster 264: 1 embeddings\n",
      "Cluster 265: 1 embeddings\n",
      "Cluster 266: 2 embeddings\n",
      "Cluster 267: 1 embeddings\n",
      "Cluster 268: 2 embeddings\n",
      "Cluster 269: 2 embeddings\n",
      "Cluster 270: 1 embeddings\n",
      "Cluster 271: 1 embeddings\n",
      "Cluster 272: 2 embeddings\n",
      "Cluster 273: 1 embeddings\n",
      "Cluster 274: 2 embeddings\n",
      "Cluster 275: 2 embeddings\n",
      "Cluster 276: 1 embeddings\n",
      "Cluster 277: 2 embeddings\n",
      "Cluster 278: 2 embeddings\n",
      "Cluster 279: 1 embeddings\n",
      "Cluster 280: 1 embeddings\n",
      "Cluster 281: 1 embeddings\n",
      "Cluster 282: 2 embeddings\n",
      "Cluster 283: 2 embeddings\n",
      "Cluster 284: 1 embeddings\n",
      "Cluster 285: 1 embeddings\n",
      "Cluster 286: 2 embeddings\n",
      "Cluster 287: 1 embeddings\n",
      "Cluster 288: 1 embeddings\n",
      "Cluster 289: 1 embeddings\n",
      "Cluster 290: 2 embeddings\n",
      "Cluster 291: 1 embeddings\n",
      "Cluster 292: 1 embeddings\n",
      "Cluster 293: 1 embeddings\n",
      "Cluster 294: 1 embeddings\n",
      "Cluster 295: 2 embeddings\n",
      "Cluster 296: 2 embeddings\n",
      "Cluster 297: 2 embeddings\n",
      "Cluster 298: 3 embeddings\n",
      "Cluster 299: 1 embeddings\n",
      "Cluster 300: 1 embeddings\n",
      "Cluster 301: 1 embeddings\n",
      "Cluster 302: 2 embeddings\n",
      "Cluster 303: 1 embeddings\n",
      "Cluster 304: 1 embeddings\n",
      "Cluster 305: 1 embeddings\n",
      "Cluster 306: 1 embeddings\n",
      "Cluster 307: 2 embeddings\n",
      "Cluster 308: 1 embeddings\n",
      "Cluster 309: 2 embeddings\n",
      "Cluster 310: 1 embeddings\n",
      "Cluster 311: 2 embeddings\n",
      "Cluster 312: 2 embeddings\n",
      "Cluster 313: 3 embeddings\n",
      "Cluster 314: 1 embeddings\n",
      "Cluster 315: 2 embeddings\n",
      "Cluster 316: 2 embeddings\n",
      "Cluster 317: 2 embeddings\n",
      "Cluster 318: 1 embeddings\n",
      "Cluster 319: 1 embeddings\n",
      "Cluster 320: 1 embeddings\n",
      "Cluster 321: 1 embeddings\n",
      "Cluster 322: 1 embeddings\n",
      "Cluster 323: 3 embeddings\n",
      "Cluster 324: 2 embeddings\n",
      "Cluster 325: 2 embeddings\n",
      "Cluster 326: 1 embeddings\n",
      "Cluster 327: 1 embeddings\n",
      "Cluster 328: 1 embeddings\n",
      "Cluster 329: 1 embeddings\n",
      "Cluster 330: 1 embeddings\n",
      "Cluster 331: 2 embeddings\n",
      "Cluster 332: 2 embeddings\n",
      "Cluster 333: 1 embeddings\n",
      "Cluster 334: 1 embeddings\n",
      "Cluster 335: 1 embeddings\n",
      "Cluster 336: 1 embeddings\n",
      "Cluster 337: 4 embeddings\n",
      "Cluster 338: 1 embeddings\n",
      "Cluster 339: 6 embeddings\n",
      "Cluster 340: 1 embeddings\n",
      "Cluster 341: 1 embeddings\n",
      "Cluster 342: 2 embeddings\n",
      "Cluster 343: 1 embeddings\n",
      "Cluster 344: 1 embeddings\n",
      "Cluster 345: 13 embeddings\n",
      "Cluster 346: 1 embeddings\n",
      "Cluster 347: 2 embeddings\n",
      "Cluster 348: 1 embeddings\n",
      "Cluster 349: 2 embeddings\n",
      "Cluster 350: 1 embeddings\n",
      "Cluster 351: 1 embeddings\n",
      "Cluster 352: 1 embeddings\n",
      "Cluster 353: 1 embeddings\n",
      "Cluster 354: 1 embeddings\n",
      "Cluster 355: 1 embeddings\n",
      "Cluster 356: 1 embeddings\n",
      "Cluster 357: 1 embeddings\n",
      "Cluster 358: 1 embeddings\n",
      "Cluster 359: 1 embeddings\n",
      "Cluster 360: 1 embeddings\n",
      "Cluster 361: 2 embeddings\n",
      "Cluster 362: 3 embeddings\n",
      "Cluster 363: 2 embeddings\n",
      "Cluster 364: 1 embeddings\n",
      "Cluster 365: 1 embeddings\n",
      "Cluster 366: 1 embeddings\n",
      "Cluster 367: 3 embeddings\n",
      "Cluster 368: 7 embeddings\n",
      "Cluster 369: 1 embeddings\n",
      "Cluster 370: 1 embeddings\n",
      "Cluster 371: 1 embeddings\n",
      "Cluster 372: 1 embeddings\n",
      "Cluster 373: 1 embeddings\n",
      "Cluster 374: 2 embeddings\n",
      "Cluster 375: 1 embeddings\n",
      "Cluster 376: 1 embeddings\n",
      "Cluster 377: 1 embeddings\n",
      "Cluster 378: 1 embeddings\n",
      "Cluster 379: 1 embeddings\n",
      "Cluster 380: 1 embeddings\n",
      "Cluster 381: 1 embeddings\n",
      "Cluster 382: 2 embeddings\n",
      "Cluster 383: 2 embeddings\n",
      "Cluster 384: 1 embeddings\n",
      "Cluster 385: 1 embeddings\n",
      "Cluster 386: 1 embeddings\n",
      "Cluster 387: 1 embeddings\n",
      "Cluster 388: 2 embeddings\n",
      "Cluster 389: 1 embeddings\n",
      "Cluster 390: 1 embeddings\n",
      "Cluster 391: 1 embeddings\n",
      "Cluster 392: 1 embeddings\n",
      "Cluster 393: 1 embeddings\n",
      "Cluster 394: 1 embeddings\n",
      "Cluster 395: 1 embeddings\n",
      "Cluster 396: 2 embeddings\n",
      "Cluster 397: 1 embeddings\n",
      "Cluster 398: 7 embeddings\n",
      "Cluster 399: 2 embeddings\n",
      "Cluster 400: 2 embeddings\n",
      "Cluster 401: 2 embeddings\n",
      "Cluster 402: 1 embeddings\n",
      "Cluster 403: 1 embeddings\n",
      "Cluster 404: 1 embeddings\n",
      "Cluster 405: 1 embeddings\n",
      "Cluster 406: 1 embeddings\n",
      "Cluster 407: 1 embeddings\n",
      "Cluster 408: 1 embeddings\n",
      "Cluster 409: 1 embeddings\n",
      "Cluster 410: 1 embeddings\n",
      "Cluster 411: 1 embeddings\n",
      "Cluster 412: 1 embeddings\n",
      "Cluster 413: 1 embeddings\n",
      "Cluster 414: 1 embeddings\n",
      "Cluster 415: 1 embeddings\n",
      "Cluster 416: 1 embeddings\n",
      "Cluster 417: 1 embeddings\n",
      "Cluster 418: 1 embeddings\n",
      "Cluster 419: 1 embeddings\n",
      "Cluster 420: 1 embeddings\n",
      "Cluster 421: 1 embeddings\n",
      "Cluster 422: 1 embeddings\n",
      "Cluster 423: 1 embeddings\n",
      "Cluster 424: 1 embeddings\n",
      "Cluster 425: 1 embeddings\n",
      "Cluster 426: 1 embeddings\n",
      "Cluster 427: 1 embeddings\n",
      "Cluster 428: 1 embeddings\n",
      "Cluster 429: 1 embeddings\n",
      "Cluster 430: 1 embeddings\n",
      "Cluster 431: 1 embeddings\n",
      "Cluster 432: 1 embeddings\n",
      "Cluster 433: 1 embeddings\n",
      "Cluster 434: 1 embeddings\n",
      "Cluster 435: 1 embeddings\n",
      "Cluster 436: 1 embeddings\n",
      "Cluster 437: 1 embeddings\n",
      "Cluster 438: 1 embeddings\n",
      "Cluster 439: 1 embeddings\n",
      "Cluster 440: 1 embeddings\n",
      "Cluster 441: 1 embeddings\n",
      "Cluster 442: 1 embeddings\n",
      "Cluster 443: 1 embeddings\n",
      "Cluster 444: 1 embeddings\n",
      "Cluster 445: 1 embeddings\n",
      "Cluster 446: 1 embeddings\n",
      "Cluster 447: 1 embeddings\n",
      "Cluster 448: 1 embeddings\n",
      "Cluster 449: 1 embeddings\n",
      "Cluster 450: 1 embeddings\n",
      "Cluster 451: 1 embeddings\n",
      "Cluster 452: 1 embeddings\n",
      "Cluster 453: 1 embeddings\n",
      "Cluster 454: 1 embeddings\n",
      "Cluster 455: 1 embeddings\n",
      "Cluster 456: 1 embeddings\n",
      "Cluster 457: 1 embeddings\n",
      "Cluster 458: 1 embeddings\n",
      "Cluster 459: 1 embeddings\n",
      "Cluster 460: 2 embeddings\n",
      "Cluster 461: 1 embeddings\n",
      "Cluster 462: 1 embeddings\n",
      "Cluster 463: 1 embeddings\n",
      "Cluster 464: 1 embeddings\n",
      "Cluster 465: 2 embeddings\n",
      "Cluster 466: 2 embeddings\n",
      "Cluster 467: 1 embeddings\n",
      "Cluster 468: 1 embeddings\n",
      "Cluster 469: 1 embeddings\n",
      "Cluster 470: 1 embeddings\n",
      "Cluster 471: 1 embeddings\n",
      "Cluster 472: 1 embeddings\n",
      "Cluster 473: 1 embeddings\n",
      "Cluster 474: 1 embeddings\n",
      "Cluster 475: 1 embeddings\n",
      "Cluster 476: 1 embeddings\n",
      "Cluster 477: 1 embeddings\n",
      "Cluster 478: 1 embeddings\n",
      "Cluster 479: 1 embeddings\n",
      "Cluster 480: 1 embeddings\n",
      "Cluster 481: 1 embeddings\n",
      "Cluster 482: 1 embeddings\n",
      "Cluster 483: 1 embeddings\n",
      "Cluster 484: 1 embeddings\n",
      "Cluster 485: 1 embeddings\n",
      "Cluster 486: 1 embeddings\n",
      "Cluster 487: 1 embeddings\n",
      "Cluster 488: 1 embeddings\n",
      "Cluster 489: 1 embeddings\n",
      "Cluster 490: 1 embeddings\n",
      "Cluster 491: 1 embeddings\n",
      "Cluster 492: 1 embeddings\n",
      "Cluster 493: 1 embeddings\n",
      "Cluster 494: 1 embeddings\n",
      "Cluster 495: 1 embeddings\n",
      "Cluster 496: 1 embeddings\n",
      "Cluster 497: 1 embeddings\n",
      "Cluster 498: 1 embeddings\n",
      "Cluster 499: 2 embeddings\n",
      "Cluster 500: 1 embeddings\n",
      "Cluster 501: 1 embeddings\n",
      "Cluster 502: 1 embeddings\n",
      "Cluster 503: 1 embeddings\n",
      "Cluster 504: 1 embeddings\n",
      "Cluster 505: 1 embeddings\n",
      "Cluster 506: 1 embeddings\n",
      "Cluster 507: 1 embeddings\n",
      "Cluster 508: 1 embeddings\n",
      "Cluster 509: 1 embeddings\n",
      "Cluster 510: 1 embeddings\n",
      "Cluster 511: 1 embeddings\n",
      "Cluster 512: 1 embeddings\n",
      "Cluster 513: 1 embeddings\n",
      "Cluster 514: 1 embeddings\n",
      "Cluster 515: 1 embeddings\n",
      "Cluster 516: 1 embeddings\n",
      "Cluster 517: 1 embeddings\n",
      "Cluster 518: 1 embeddings\n",
      "Cluster 519: 1 embeddings\n",
      "Cluster 520: 1 embeddings\n",
      "Cluster 521: 1 embeddings\n",
      "Cluster 522: 1 embeddings\n",
      "Cluster 523: 1 embeddings\n",
      "Cluster 524: 1 embeddings\n",
      "Cluster 525: 1 embeddings\n",
      "Cluster 526: 1 embeddings\n",
      "Cluster 527: 1 embeddings\n",
      "Cluster 528: 1 embeddings\n",
      "Cluster 529: 1 embeddings\n",
      "Cluster 530: 1 embeddings\n",
      "Cluster 531: 1 embeddings\n",
      "Cluster 532: 1 embeddings\n",
      "Cluster 533: 1 embeddings\n",
      "Cluster 534: 1 embeddings\n",
      "Cluster 535: 1 embeddings\n",
      "Cluster 536: 1 embeddings\n",
      "Cluster 537: 1 embeddings\n",
      "Cluster 538: 1 embeddings\n",
      "Cluster 539: 1 embeddings\n",
      "Cluster 540: 1 embeddings\n",
      "Cluster 541: 1 embeddings\n",
      "Cluster 542: 1 embeddings\n",
      "Cluster 543: 1 embeddings\n",
      "Cluster 544: 1 embeddings\n",
      "Cluster 545: 1 embeddings\n",
      "Cluster 546: 1 embeddings\n",
      "Cluster 547: 1 embeddings\n",
      "Cluster 548: 1 embeddings\n",
      "Cluster 549: 1 embeddings\n",
      "Cluster 550: 1 embeddings\n",
      "Cluster 551: 2 embeddings\n",
      "Cluster 552: 1 embeddings\n",
      "Cluster 553: 1 embeddings\n",
      "Cluster 554: 1 embeddings\n",
      "Cluster 555: 1 embeddings\n",
      "Cluster 556: 2 embeddings\n",
      "Cluster 557: 1 embeddings\n",
      "Cluster 558: 1 embeddings\n",
      "Cluster 559: 1 embeddings\n",
      "Cluster 560: 1 embeddings\n",
      "Cluster 561: 1 embeddings\n",
      "Cluster 562: 1 embeddings\n",
      "Cluster 563: 1 embeddings\n",
      "Cluster 564: 1 embeddings\n",
      "Cluster 565: 1 embeddings\n",
      "Cluster 566: 1 embeddings\n",
      "Cluster 567: 1 embeddings\n",
      "Cluster 568: 1 embeddings\n",
      "Cluster 569: 1 embeddings\n",
      "Cluster 570: 1 embeddings\n",
      "Cluster 571: 1 embeddings\n",
      "Cluster 572: 1 embeddings\n",
      "Cluster 573: 1 embeddings\n",
      "Cluster 574: 1 embeddings\n",
      "Cluster 575: 1 embeddings\n",
      "Cluster 576: 1 embeddings\n",
      "Cluster 577: 1 embeddings\n",
      "Cluster 578: 1 embeddings\n",
      "Cluster 579: 1 embeddings\n",
      "Cluster 580: 1 embeddings\n",
      "Cluster 581: 1 embeddings\n",
      "Cluster 582: 1 embeddings\n",
      "Cluster 583: 1 embeddings\n",
      "Cluster 584: 1 embeddings\n",
      "Cluster 585: 1 embeddings\n",
      "Cluster 586: 1 embeddings\n",
      "Cluster 587: 1 embeddings\n",
      "Cluster 588: 1 embeddings\n",
      "Cluster 589: 1 embeddings\n",
      "Cluster 590: 1 embeddings\n",
      "Cluster 591: 1 embeddings\n",
      "Cluster 592: 1 embeddings\n",
      "Cluster 593: 1 embeddings\n",
      "Cluster 594: 1 embeddings\n",
      "Cluster 595: 1 embeddings\n",
      "Cluster 596: 1 embeddings\n",
      "Cluster 597: 1 embeddings\n",
      "Cluster 598: 2 embeddings\n",
      "Cluster 599: 1 embeddings\n",
      "Cluster 600: 1 embeddings\n",
      "Cluster 601: 1 embeddings\n",
      "Cluster 602: 1 embeddings\n",
      "Cluster 603: 1 embeddings\n",
      "Cluster 604: 1 embeddings\n",
      "Cluster 605: 1 embeddings\n",
      "Cluster 606: 1 embeddings\n",
      "Cluster 607: 1 embeddings\n",
      "Cluster 608: 1 embeddings\n",
      "Cluster 609: 1 embeddings\n",
      "Cluster 610: 1 embeddings\n",
      "Cluster 611: 1 embeddings\n",
      "Cluster 612: 1 embeddings\n",
      "Cluster 613: 1 embeddings\n",
      "Cluster 614: 1 embeddings\n",
      "Cluster 615: 2 embeddings\n",
      "Cluster 616: 1 embeddings\n",
      "Cluster 617: 1 embeddings\n",
      "Cluster 618: 1 embeddings\n",
      "Cluster 619: 1 embeddings\n",
      "Cluster 620: 1 embeddings\n",
      "Cluster 621: 1 embeddings\n",
      "Cluster 622: 1 embeddings\n",
      "Cluster 623: 1 embeddings\n",
      "Cluster 624: 2 embeddings\n",
      "Cluster 625: 1 embeddings\n",
      "Cluster 626: 1 embeddings\n",
      "Cluster 627: 2 embeddings\n",
      "Cluster 628: 1 embeddings\n",
      "Cluster 629: 1 embeddings\n",
      "Cluster 630: 1 embeddings\n",
      "Cluster 631: 1 embeddings\n",
      "Cluster 632: 1 embeddings\n",
      "Cluster 633: 1 embeddings\n",
      "Cluster 634: 1 embeddings\n",
      "Cluster 635: 1 embeddings\n",
      "Cluster 636: 2 embeddings\n",
      "Cluster 637: 1 embeddings\n",
      "Cluster 638: 1 embeddings\n",
      "Cluster 639: 1 embeddings\n",
      "Cluster 640: 1 embeddings\n",
      "Cluster 641: 1 embeddings\n",
      "Cluster 642: 1 embeddings\n",
      "Cluster 643: 1 embeddings\n",
      "Cluster 644: 1 embeddings\n",
      "Cluster 645: 1 embeddings\n",
      "Cluster 646: 1 embeddings\n",
      "Cluster 647: 1 embeddings\n",
      "Cluster 648: 2 embeddings\n",
      "Cluster 649: 1 embeddings\n",
      "Cluster 650: 1 embeddings\n",
      "Cluster 651: 1 embeddings\n",
      "Cluster 652: 1 embeddings\n",
      "Cluster 653: 1 embeddings\n",
      "Cluster 654: 1 embeddings\n",
      "Cluster 655: 1 embeddings\n",
      "Cluster 656: 1 embeddings\n",
      "Cluster 657: 1 embeddings\n",
      "Cluster 658: 1 embeddings\n",
      "Cluster 659: 1 embeddings\n",
      "Cluster 660: 1 embeddings\n",
      "Cluster 661: 1 embeddings\n",
      "Cluster 662: 1 embeddings\n",
      "Cluster 663: 1 embeddings\n",
      "Cluster 664: 2 embeddings\n",
      "Cluster 665: 1 embeddings\n",
      "Cluster 666: 1 embeddings\n",
      "Cluster 667: 1 embeddings\n",
      "Cluster 668: 1 embeddings\n",
      "Cluster 669: 1 embeddings\n",
      "Cluster 670: 1 embeddings\n",
      "Cluster 671: 1 embeddings\n",
      "Cluster 672: 1 embeddings\n",
      "Cluster 673: 1 embeddings\n",
      "Cluster 674: 1 embeddings\n",
      "Cluster 675: 1 embeddings\n",
      "Cluster 676: 1 embeddings\n",
      "Cluster 677: 1 embeddings\n",
      "Cluster 678: 1 embeddings\n",
      "Cluster 679: 1 embeddings\n",
      "Cluster 680: 1 embeddings\n",
      "Cluster 681: 1 embeddings\n",
      "Cluster 682: 1 embeddings\n",
      "Cluster 683: 1 embeddings\n",
      "Cluster 684: 1 embeddings\n",
      "Cluster 685: 1 embeddings\n",
      "Cluster 686: 1 embeddings\n",
      "Cluster 687: 1 embeddings\n",
      "Cluster 688: 1 embeddings\n",
      "Cluster 689: 1 embeddings\n",
      "Cluster 690: 1 embeddings\n",
      "Cluster 691: 1 embeddings\n",
      "Cluster 692: 1 embeddings\n",
      "Cluster 693: 1 embeddings\n",
      "Cluster 694: 1 embeddings\n",
      "Cluster 695: 1 embeddings\n",
      "Cluster 696: 1 embeddings\n",
      "Cluster 697: 1 embeddings\n",
      "Cluster 698: 1 embeddings\n",
      "Cluster 699: 1 embeddings\n",
      "Cluster 700: 1 embeddings\n",
      "Cluster 701: 1 embeddings\n",
      "Cluster 702: 1 embeddings\n",
      "Cluster 703: 1 embeddings\n",
      "Cluster 704: 1 embeddings\n",
      "Cluster 705: 1 embeddings\n",
      "Cluster 706: 1 embeddings\n",
      "Cluster 707: 1 embeddings\n",
      "Cluster 708: 1 embeddings\n",
      "Cluster 709: 1 embeddings\n",
      "Cluster 710: 1 embeddings\n",
      "Cluster 711: 1 embeddings\n",
      "Cluster 712: 1 embeddings\n",
      "Cluster 713: 1 embeddings\n",
      "Cluster 714: 1 embeddings\n",
      "Cluster 715: 1 embeddings\n",
      "Cluster 716: 1 embeddings\n",
      "Cluster 717: 1 embeddings\n",
      "Cluster 718: 1 embeddings\n",
      "Cluster 719: 1 embeddings\n",
      "Cluster 720: 1 embeddings\n",
      "Cluster 721: 1 embeddings\n",
      "Cluster 722: 1 embeddings\n",
      "Cluster 723: 1 embeddings\n",
      "Cluster 724: 1 embeddings\n",
      "Cluster 725: 4 embeddings\n",
      "Cluster 726: 1 embeddings\n",
      "Cluster 727: 1 embeddings\n",
      "Cluster 728: 1 embeddings\n",
      "Cluster 729: 1 embeddings\n",
      "Cluster 730: 1 embeddings\n",
      "Cluster 731: 1 embeddings\n",
      "Cluster 732: 1 embeddings\n",
      "Cluster 733: 1 embeddings\n",
      "Cluster 734: 1 embeddings\n",
      "Cluster 735: 1 embeddings\n",
      "Cluster 736: 1 embeddings\n",
      "Cluster 737: 1 embeddings\n",
      "Cluster 738: 1 embeddings\n",
      "Cluster 739: 1 embeddings\n",
      "Cluster 740: 1 embeddings\n",
      "Cluster 741: 1 embeddings\n",
      "Cluster 742: 1 embeddings\n",
      "Cluster 743: 1 embeddings\n",
      "Cluster 744: 1 embeddings\n",
      "Cluster 745: 1 embeddings\n",
      "Cluster 746: 1 embeddings\n",
      "Cluster 747: 1 embeddings\n",
      "Cluster 748: 1 embeddings\n",
      "Cluster 749: 2 embeddings\n",
      "Cluster 750: 1 embeddings\n",
      "Cluster 751: 1 embeddings\n",
      "Cluster 752: 1 embeddings\n",
      "Cluster 753: 1 embeddings\n",
      "Cluster 754: 1 embeddings\n",
      "Cluster 755: 1 embeddings\n",
      "Cluster 756: 1 embeddings\n",
      "Cluster 757: 1 embeddings\n",
      "Cluster 758: 1 embeddings\n",
      "Cluster 759: 1 embeddings\n",
      "Cluster 760: 1 embeddings\n",
      "Cluster 761: 1 embeddings\n",
      "Cluster 762: 1 embeddings\n",
      "Cluster 763: 1 embeddings\n",
      "Cluster 764: 1 embeddings\n",
      "Cluster 765: 1 embeddings\n",
      "Cluster 766: 1 embeddings\n",
      "Cluster 767: 1 embeddings\n",
      "Cluster 768: 1 embeddings\n",
      "Cluster 769: 1 embeddings\n",
      "Cluster 770: 1 embeddings\n",
      "Cluster 771: 1 embeddings\n",
      "Cluster 772: 1 embeddings\n",
      "Cluster 773: 1 embeddings\n",
      "Cluster 774: 1 embeddings\n",
      "Cluster 775: 1 embeddings\n",
      "Cluster 776: 1 embeddings\n",
      "Cluster 777: 1 embeddings\n",
      "Cluster 778: 1 embeddings\n",
      "Cluster 779: 1 embeddings\n",
      "Cluster 780: 1 embeddings\n",
      "Cluster 781: 1 embeddings\n",
      "Cluster 782: 1 embeddings\n",
      "Cluster 783: 1 embeddings\n",
      "Cluster 784: 1 embeddings\n",
      "Cluster 785: 1 embeddings\n",
      "Cluster 786: 1 embeddings\n",
      "Cluster 787: 1 embeddings\n",
      "Cluster 788: 1 embeddings\n",
      "Cluster 789: 1 embeddings\n",
      "Cluster 790: 1 embeddings\n",
      "Cluster 791: 1 embeddings\n",
      "Cluster 792: 1 embeddings\n",
      "Cluster 793: 1 embeddings\n",
      "Cluster 794: 1 embeddings\n",
      "Cluster 795: 1 embeddings\n",
      "Cluster 796: 1 embeddings\n",
      "Cluster 797: 1 embeddings\n",
      "Cluster 798: 1 embeddings\n",
      "Cluster 799: 1 embeddings\n",
      "Cluster 800: 1 embeddings\n",
      "Cluster 801: 1 embeddings\n",
      "Cluster 802: 1 embeddings\n",
      "Cluster 803: 1 embeddings\n"
     ]
    }
   ],
   "source": [
    "from sklearn.cluster import AgglomerativeClustering\n",
    "from sklearn.metrics.pairwise import cosine_similarity\n",
    "import numpy as np\n",
    "\n",
    "# 'embeddings'라는 텍스트 임베딩 목록이 있다고 가정합니다.\n",
    "# 먼저, 모든 임베딩 쌍 사이의 코사인 유사도 행렬을 계산합니다.\n",
    "cosine_sim_matrix = cosine_similarity(embeddings)\n",
    "\n",
    "# 응집 클러스터링 모델을 인스턴스화합니다.\n",
    "agg_clustering = AgglomerativeClustering(\n",
    "    n_clusters=None, # 알고리즘이 데이터를 기반으로 최적의 클러스터 수를 결정합니다.\n",
    "    distance_threshold=0.1, # 클러스터 간의 모든 쌍별 거리가 0.1보다 커질 때까지 클러스터를 형성합니다.\n",
    "    metric='precomputed', # 미리 계산된 거리 행렬(1 - 유사도 행렬)을 입력으로 제공합니다. affinity 대신 metric로 사용\n",
    "    linkage='complete', # 구성 요소 간의 최대 거리를 기준으로 가장 작은 클러스터를 반복적으로 병합하여 클러스터를 형성합니다.\n",
    ")\n",
    "\n",
    "# 코사인 거리 행렬(1 - 유사도 행렬)에 모델을 맞춥니다.\n",
    "agg_clustering.fit(1 - cosine_sim_matrix)\n",
    "\n",
    "# 각 임베딩에 대한 클러스터 레이블을 가져옵니다.\n",
    "cluster_labels = agg_clustering.labels_\n",
    "\n",
    "# 각 클러스터의 임베딩 개수를 출력합니다.\n",
    "unique_labels, counts = np.unique(cluster_labels, return_counts=True)\n",
    "for label, count in zip(unique_labels, counts):\n",
    "    print(f'Cluster {label}: {count} embeddings')\n"
   ]
  },
  {
   "cell_type": "code",
   "execution_count": 59,
   "id": "0727319b",
   "metadata": {},
   "outputs": [
    {
     "name": "stdout",
     "output_type": "stream",
     "text": [
      "우리의 가지치기 접근 방식에는 평균 길이 762.1 토큰을 가진 804 문서가 있습니다.\n"
     ]
    }
   ],
   "source": [
    "pruned_documents = []\n",
    "for _label, count in zip(unique_labels, counts):\n",
    "    pruned_documents.append('\\n\\n'.join([text for text, label in zip(split, cluster_labels) if label == _label]))\n",
    "\n",
    "avg_length = sum([len(tokenizer.encode(t)) for t in pruned_documents]) / len(pruned_documents)\n",
    "# print(f'Our pruning approach has {len(pruned_documents)} documents with average length {avg_length:.1f} tokens')\n",
    "print(f'우리의 가지치기 접근 방식에는 평균 길이 {avg_length:.1f} 토큰을 가진 {len(pruned_documents)} 문서가 있습니다.')"
   ]
  },
  {
   "cell_type": "code",
   "execution_count": 60,
   "id": "97f80b78",
   "metadata": {
    "scrolled": true
   },
   "outputs": [
    {
     "name": "stdout",
     "output_type": "stream",
     "text": [
      "xml\" ,options); \n",
      "\n",
      "\n",
      "14\n",
      "예제파일 \n",
      "인터넷에서 다운로드 혹은 \n",
      "WEBSQUARE_DEV_PACK의 GUIDE 프로젝트에서 보기 \n",
      "(/$p/PopUp/openPopup_fixPosition_$p. xml ) \n",
      "그림21-24YouTube 동영상(https://youtu. be/v65iVnWntpk) \n",
      "\n",
      "\n",
      "2. \n",
      "유틸리티 \n",
      " 815\n",
      "22. 1.  WebSquare. date \n",
      "표22-1설명 요약 \n",
      "●날짜및시간관리용API를제공하는유틸리티.  \n",
      "22. 1. 1.  양력↔음력날짜변환 \n",
      "22. 1. 1. 1.  toLunar() &toSolar() \n",
      "toLunar() 및toSolar() 함수를이용하여양력↔음력날짜간변환이가능합니다.  \n",
      "코드22-1사용예 1//음력 2022년 7월15일을 양력으로 변환해서 20220812를 반환.  \n",
      "2\n",
      "3WebSquare. date. toSolar( 20220715 ); \n",
      "예제파일 \n",
      "인터넷에서 다운로드 혹은 \n",
      "WEBSQUARE_DEV_PACK에서 보기 \n",
      "(/_WebSquare. date/toLunar_toSolar_WebSquare_date. xml ) \n",
      "\n",
      "\n",
      "16\n",
      "그림22-1YouTube 동영상(https://youtu. be/vt8qnfyYq4k) \n",
      "22. 1. 2.  날짜유효성 확인 \n",
      "isValidDate() 함수를사용하면,유효하지않은날짜에대해얼럿을표시하고유효성확인결과를반환할수 \n",
      "있습니다.\n",
      "\n",
      "\n",
      "코드22-2사용예 1varoptions ={ \n",
      "2 useAlert: \"false\" ,//얼럿 표시 여부 \n",
      "3 returnType: \"json\" //반환값 표시 형식 \n",
      "4} \n",
      "5varresult =WebSquare. date. isValidDate(inputCalendar1, inputCalendar1. getValue(), options ); \n",
      "6console. log( \"result:\" ,result); \n",
      "예제파일 \n",
      "인터넷에서 다운로드 혹은 \n",
      "WEBSQUARE_DEV_PACK의 GUIDE 프로젝트에서 보기 \n",
      "(/_WebSquare. date/isValidDate_WebSquare_date. xml ) \n",
      "\n",
      "\n",
      "17\n",
      "그림22-2YouTube 동영상(https://youtu. be/E1P78YjB7c8) \n",
      "22. 2.  $p \n",
      "22. 2. 1.  화면재로딩 및브라우저 Refresh \n",
      "22. 2. 1. 1.  $p. reinitialize() \n",
      "$p. reinitialize() 함수는자신이실행된화면을다시로딩하거나 브라우저를 Refresh합니다.  \n",
      "코드22-3사용예 1//브라우저를 refresh.  \n",
      "2$p. reinitialize( true ); \n",
      "3\n",
      "4//페이지를 다시 로딩.  \n",
      "5$p. reinitialize(); \n",
      "예제파일 \n",
      "인터넷에서 다운로드 혹은 \n",
      "\n",
      "18\n",
      "WEBSQUARE_DEV_PACK의 GUIDE 프로젝트에서 보기 \n",
      "(/$p/_General/reinitialize_$p/ ) \n",
      "그림22-3YouTube 동영상(https://youtu. be/6HH_y9jxOQA) \n",
      "\n",
      "\n",
      "3. \n",
      "기타 \n",
      " 819\n",
      "23. 1.  ActiveX \n",
      "표23-1컴포넌트설명 요약 \n",
      "ActiveX사용을지원.  \n",
      "23. 2.  Applet \n",
      "표23-2컴포넌트설명 요약 Applet사용을지원.  \n",
      "23. 3.\n"
     ]
    }
   ],
   "source": [
    "print(pruned_documents[1])"
   ]
  },
  {
   "cell_type": "markdown",
   "id": "d2627edd-9823-4d2b-9ed2-b15d801140bb",
   "metadata": {},
   "source": [
    "### 결과를 pinecone에 저장"
   ]
  },
  {
   "cell_type": "code",
   "execution_count": 61,
   "id": "3a3364dd",
   "metadata": {},
   "outputs": [
    {
     "data": {
      "text/plain": [
       "1256"
      ]
     },
     "execution_count": 61,
     "metadata": {},
     "output_type": "execute_result"
    }
   ],
   "source": [
    "upload_texts_to_pinecone(split, batch_size=128)\n",
    "# upload_texts_to_pinecone(pruned_documents, batch_size=128) # pruned_documents의 경우 embedding max tokensize를 초과할 수 있음"
   ]
  },
  {
   "cell_type": "markdown",
   "id": "f197843c-0d2f-4891-b856-35a552791f2c",
   "metadata": {},
   "source": [
    "## 1.6 유사 문서 청킹 조회\n",
    "### embedding 조회"
   ]
  },
  {
   "cell_type": "code",
   "execution_count": 62,
   "id": "13cc8bdc",
   "metadata": {
    "scrolled": true
   },
   "outputs": [
    {
     "name": "stdout",
     "output_type": "stream",
     "text": [
      "439eaa4b375cf7f3b48e34452ea3df58\t0.84\t\n",
      "\n",
      "Let's begin by learning a very  important value \n",
      "35b7c7fb9aabb0c2dad8d808138871bc\t0.84\t\n",
      "This chart makes it very easy to pick out the ind\n",
      "3292012bbf240288b4e0cde8d6197bcc\t0.83\t Using the z-score and the\n",
      "empirical rule, we will\n",
      "0914b8d2847049fe675f39c5680ff2e2\t0.81\t It is important to note that by doing this, the p\n",
      "ca34cce37134ae70556b6fd541becba5\t0.80\t\n",
      "Everything from how we obtain/sample data to how \n"
     ]
    }
   ],
   "source": [
    "query = 'How do z scores work?'\n",
    "\n",
    "results_from_pinecone = query_from_pinecone(query, top_k=5)\n",
    "\n",
    "for result_from_pinecone in results_from_pinecone:\n",
    "    print(f\"{result_from_pinecone['id']}\\t{result_from_pinecone['score']:.2f}\\t{result_from_pinecone['metadata']['text'][:50]}\")"
   ]
  },
  {
   "cell_type": "code",
   "execution_count": 63,
   "id": "39fc6846-d52a-4ff8-84f5-32e44d4100f6",
   "metadata": {},
   "outputs": [
    {
     "name": "stdout",
     "output_type": "stream",
     "text": [
      "ce09866ca69ec215f9258032fb056598\t0.83\t \n",
      "동일한ID의컴포넌트가 여러개존재할경우미리보기를 할수없습니다.  \n",
      "7. 11. 4.  D\n",
      "95f508bd40f24cddd0148fa1b5a14729\t0.82\t \n",
      "그림7-28컴포넌트퀵툴바 \n",
      "\n",
      "\n",
      "29\n",
      "GridView의 경우,컬럼을선택한후스페이스바를 누\n",
      "029d7984aa5e95c89d96cff52ee17d61\t0.82\tDesign 뷰에서직접마우스드래그하여 컴포넌트의 위치와크기를결정합니다.  (더블클릭할경우해\n",
      "9a67165ce1508b47f0be0810c24023b4\t0.82\t 관련컴포넌트 \n",
      "●아래와같은선택컴포넌트의 경우선택대상항목을지정해야합니다. 브라우저는 개발자\n",
      "b115fe5b0485485fcbae9be03655f83f\t0.82\t표편집 \n",
      "GridView나 TableLayout과 같은표형식컴포넌트의 경우,아래의아이콘을사\n"
     ]
    }
   ],
   "source": [
    "query = '그리드는 어떤 컴포넌트인가요?'\n",
    "\n",
    "results_from_pinecone = query_from_pinecone(query, top_k=5)\n",
    "\n",
    "for result_from_pinecone in results_from_pinecone:\n",
    "    print(f\"{result_from_pinecone['id']}\\t{result_from_pinecone['score']:.2f}\\t{result_from_pinecone['metadata']['text'][:50]}\")"
   ]
  },
  {
   "cell_type": "markdown",
   "id": "d2607b5a-fc01-4aa3-860f-6cd21aa994d8",
   "metadata": {},
   "source": [
    "### reranking을 위한 CrossEncoder 초기화"
   ]
  },
  {
   "cell_type": "markdown",
   "id": "4cdf3d9e-d1f1-4d2e-aa4e-d53d0f48b6e2",
   "metadata": {},
   "source": [
    "CrossEncoder는 자연어 처리(NLP) 분야에서 사용되는 모델 중 하나로, 두 개의 문장 간의 관계를 파악하고 점수를 매기는 데 사용됩니다. 초보자를 위해 쉽게 설명하자면 다음과 같습니다:\n",
    "\n",
    "1. 두 개의 문장을 입력으로 받습니다. 예를 들어, 질문과 답변, 텍스트와 해당 텍스트의 요약 등이 될 수 있습니다.\n",
    "\n",
    "2. CrossEncoder는 두 문장을 하나의 시퀀스로 연결하고, 이를 사전 훈련된 언어 모델(예: BERT)에 입력합니다.\n",
    "\n",
    "3. 언어 모델은 연결된 시퀀스를 처리하고, 두 문장 간의 관계를 파악하기 위해 학습합니다. 이때, 두 문장 간의 상호작용을 고려하여 representation을 생성합니다.\n",
    "\n",
    "4. 최종 representation은 분류기(classifier)나 회귀기(regressor)에 전달되어, 두 문장 간의 관계를 점수로 나타냅니다. 이 점수는 두 문장이 얼마나 잘 어울리는지, 또는 한 문장이 다른 문장에 대한 적절한 응답인지 등을 나타낼 수 있습니다.\n",
    "\n",
    "CrossEncoder는 질의응답, 문서 검색, 텍스트 유사도 측정 등 다양한 NLP 작업에 활용될 수 있습니다. 두 문장을 교차하여 encoding하기 때문에 CrossEncoder라는 이름이 붙었습니다. 단, CrossEncoder는 inference 시에 모든 문장 쌍을 일일이 계산해야 하므로, 계산 비용이 높다는 단점이 있습니다.\n",
    "\n",
    "---\n",
    "\n",
    "아래 코드에서 사용할 CrossEncoder 모델로는 MS MARCO 데이터셋으로 fine-tuning된 모델을 추천합니다. MS MARCO는 대규모 질의응답 및 패시지 랭킹 데이터셋으로, 이 데이터셋으로 학습된 모델은 관련성 있는 문서를 찾는 작업에 적합합니다.\n",
    "\n",
    "특히, 'sentence-transformers' 라이브러리에서 제공하는 'cross-encoder/ms-marco-MiniLM-L-6-v2' 또는 'cross-encoder/ms-marco-MiniLM-L-12-v2' 모델을 추천합니다. 이 모델들은 MiniLM 아키텍처를 기반으로 하며, MS MARCO 데이터셋으로 fine-tuning되었습니다.\n",
    "\n",
    "1. 'cross-encoder/ms-marco-MiniLM-L-6-v2': 6개의 레이어를 가진 MiniLM 모델로, 비교적 작은 크기와 빠른 추론 속도를 가지고 있습니다.\n",
    "\n",
    "2. 'cross-encoder/ms-marco-MiniLM-L-12-v2': 12개의 레이어를 가진 MiniLM 모델로, L-6 버전보다 더 큰 모델 크기와 더 높은 성능을 가지고 있습니다.\n",
    "\n",
    "모델 선택 시에는 성능과 추론 속도 사이의 trade-off를 고려해야 합니다. 만약 추론 속도가 중요한 경우에는 L-6 버전을, 성능이 더 중요한 경우에는 L-12 버전을 선택할 수 있습니다.\n"
   ]
  },
  {
   "cell_type": "code",
   "execution_count": 104,
   "id": "ce2c5fb3-783f-4677-a526-1110e72453f8",
   "metadata": {},
   "outputs": [
    {
     "name": "stderr",
     "output_type": "stream",
     "text": [
      "Some weights of RobertaForSequenceClassification were not initialized from the model checkpoint at klue/roberta-large and are newly initialized: ['classifier.dense.bias', 'classifier.dense.weight', 'classifier.out_proj.bias', 'classifier.out_proj.weight']\n",
      "You should probably TRAIN this model on a down-stream task to be able to use it for predictions and inference.\n"
     ]
    }
   ],
   "source": [
    "\"\"\"\n",
    "이 예는 의미론적 텍스트 유사성(STS)을 위한 교차 인코더를 사용하여 쿼리와 말뭉치에서 가능한 모든\n",
    "문장과 의미론적 텍스트 유사성(STS)을 위한 교차 인코더를 사용하여 점수를 계산합니다.\n",
    "그런 다음 주어진 쿼리에 대해 가장 유사한 문장을 출력합니다.\n",
    "\"\"\"\n",
    "from sentence_transformers.cross_encoder import CrossEncoder\n",
    "import numpy as np\n",
    "from torch import nn\n",
    "\n",
    "# 사전 학습된 크로스 인코더\n",
    "# cross_encoder = CrossEncoder('cross-encoder/mmarco-mMiniLMv2-L12-H384-v1')  # 저장소에서 삭제됨\n",
    "# cross_encoder = CrossEncoder('jeffwan/mmarco-mMiniLMv2-L12-H384-v1')\n",
    "# cross_encoder = CrossEncoder('cross-encoder/ms-marco-MiniLM-L-6-v2')  # Claude가 추천한 모델\n",
    "# cross_encoder = CrossEncoder('cross-encoder/ms-marco-MiniLM-L-12-v2')  # Claude가 추천한 모델\n",
    "cross_encoder = CrossEncoder('bongsoo/klue-cross-encoder-v1')  # 한국어 지원 모델\n",
    "\n",
    "from transformers import AutoModelForSequenceClassification, AutoTokenizer, pipeline\n",
    "\n",
    "# KLUE RoBERTa-large 모델과 토크나이저 로드\n",
    "model_name = \"klue/roberta-large\"\n",
    "model = AutoModelForSequenceClassification.from_pretrained(model_name, num_labels=1)\n",
    "tokenizer = AutoTokenizer.from_pretrained(model_name)\n",
    "\n",
    "# Pipeline을 사용하여 CrossEncoder와 유사한 기능 구현\n",
    "pipeline_encoder = pipeline(\"text-classification\", model=model, tokenizer=tokenizer)"
   ]
  },
  {
   "cell_type": "markdown",
   "id": "4199bbbe-b641-449c-9aa4-c229f4b040e5",
   "metadata": {},
   "source": [
    "### embedding 조회 + reranking\n",
    "\n",
    "아래 코드는 Pinecone 데이터베이스에서 주어진 쿼리에 대한 결과를 가져오고, 필요에 따라 CrossEncoder를 사용하여 재순위화(re-ranking)하는 함수입니다. 함수의 동작을 단계별로 설명하겠습니다.\n",
    "\n",
    "1. `query_from_pinecone` 함수를 사용하여 Pinecone 데이터베이스에서 쿼리에 대한 상위 `top_k`개의 결과를 가져옵니다.\n",
    "\n",
    "2. 결과가 없으면 빈 리스트를 반환합니다.\n",
    "\n",
    "3. `verbose` 플래그가 True인 경우, 쿼리와 Pinecone에서 가져온 각 결과의 ID, 점수, 텍스트 일부를 출력합니다.\n",
    "\n",
    "4. `re_rank` 플래그가 True인 경우, CrossEncoder를 사용하여 결과를 재순위화합니다.\n",
    "   - 쿼리와 각 결과의 텍스트를 조합하여 `sentence_combinations` 리스트를 만듭니다.\n",
    "   - CrossEncoder의 `predict` 메서드를 사용하여 각 조합에 대한 유사도 점수를 계산합니다.\n",
    "   - 유사도 점수를 내림차순으로 정렬합니다.\n",
    "   - `verbose` 플래그가 True인 경우, 재순위화된 결과의 ID, Pinecone 점수, CrossEncoder 점수, 텍스트 일부를 출력합니다.\n",
    "   - 재순위화된 결과를 `final_results` 리스트에 추가합니다.\n",
    "\n",
    "5. `re_rank` 플래그가 False인 경우, Pinecone에서 가져온 결과를 그대로 사용합니다.\n",
    "   - `verbose` 플래그가 True인 경우, 각 결과의 ID, 점수, 텍스트 일부를 출력합니다.\n",
    "   - 결과를 `final_results` 리스트에 추가합니다.\n",
    "\n",
    "6. 최종적으로 `final_results` 리스트를 반환합니다.\n",
    "\n",
    "이 함수는 Pinecone 데이터베이스에서 관련성이 높은 결과를 가져오고, 필요에 따라 CrossEncoder를 사용하여 결과의 순위를 조정합니다. 이를 통해 쿼리와 더 잘 일치하는 결과를 얻을 수 있습니다. `verbose` 플래그를 사용하여 중간 결과를 출력할 수 있으며, `re_rank` 플래그를 사용하여 재순위화 여부를 결정할 수 있습니다."
   ]
  },
  {
   "cell_type": "code",
   "execution_count": 108,
   "id": "414fc2d5",
   "metadata": {},
   "outputs": [],
   "source": [
    "def get_results_from_pinecone(query, top_k=3, re_rank=False, verbose=True, cross_encoder=cross_encoder, use_transformers=False, max_length=512):\n",
    "\n",
    "    results_from_pinecone = query_from_pinecone(query, top_k=top_k)\n",
    "    if not results_from_pinecone:\n",
    "        return []\n",
    "\n",
    "    if verbose:\n",
    "        print(\"Query:\", query)\n",
    "        for result_from_pinecone in results_from_pinecone:\n",
    "            print(f\"Pinecone Result==> {result_from_pinecone['id']}\\t{result_from_pinecone['score']:.2f}\\t{result_from_pinecone['metadata']['text'][:50]}\")\n",
    "    \n",
    "    \n",
    "    final_results = []\n",
    "\n",
    "    if re_rank:\n",
    "        if verbose:\n",
    "            print('Document ID (Hash)\\t\\tRetrieval Score\\tCE Score\\tText')\n",
    "\n",
    "        sentence_combinations = [[query, result_from_pinecone['metadata']['text']] for result_from_pinecone in results_from_pinecone]\n",
    "\n",
    "        # print(sentence_combinations)\n",
    "\n",
    "        # 이러한 조합에 대한 유사도 점수를 계산합니다.\n",
    "        if use_transformers:\n",
    "            similarity_scores = []\n",
    "            for combination in sentence_combinations:\n",
    "                input_text = \" \".join(combination)\n",
    "                score = cross_encoder(input_text[:max_length])[0][\"score\"]\n",
    "                # score = cross_encoder(input_text)[0][\"score\"]\n",
    "                similarity_scores.append(score)\n",
    "        else:\n",
    "            similarity_scores = cross_encoder.predict(sentence_combinations, activation_fct=nn.Sigmoid())\n",
    "\n",
    "        # 점수를 내림차순으로 정렬\n",
    "        sim_scores_argsort = reversed(np.argsort(similarity_scores))\n",
    "\n",
    "        # 점수를 인쇄합니다.\n",
    "        for idx in sim_scores_argsort:\n",
    "            result_from_pinecone = results_from_pinecone[idx]\n",
    "            final_results.append(result_from_pinecone)\n",
    "            if verbose:\n",
    "                print(f\"Reranked Result==> {result_from_pinecone['id']}\\t{result_from_pinecone['score']:.2f}\\t{similarity_scores[idx]:.2f}\\t{result_from_pinecone['metadata']['text'][:50]}\")\n",
    "        return final_results\n",
    "\n",
    "    if verbose:\n",
    "        print('Document ID (Hash)\\t\\tRetrieval Score\\tText')\n",
    "    for result_from_pinecone in results_from_pinecone:\n",
    "        final_results.append(result_from_pinecone)\n",
    "        if verbose:\n",
    "            print(f\"BBB: {result_from_pinecone['id']}\\t{result_from_pinecone['score']:.2f}\\t{result_from_pinecone['metadata']['text'][:50]}\")\n",
    "\n",
    "    return final_results"
   ]
  },
  {
   "cell_type": "code",
   "execution_count": 109,
   "id": "d89bcc77",
   "metadata": {},
   "outputs": [
    {
     "name": "stdout",
     "output_type": "stream",
     "text": [
      "Query: How do z scores work?\n",
      "Pinecone Result==> 439eaa4b375cf7f3b48e34452ea3df58\t0.84\t\n",
      "\n",
      "Let's begin by learning a very  important value \n",
      "Pinecone Result==> 35b7c7fb9aabb0c2dad8d808138871bc\t0.84\t\n",
      "This chart makes it very easy to pick out the ind\n",
      "Pinecone Result==> 3292012bbf240288b4e0cde8d6197bcc\t0.83\t Using the z-score and the\n",
      "empirical rule, we will\n",
      "Document ID (Hash)\t\tRetrieval Score\tCE Score\tText\n"
     ]
    },
    {
     "data": {
      "application/vnd.jupyter.widget-view+json": {
       "model_id": "53dbc45f25584211a978c35ac187ba5c",
       "version_major": 2,
       "version_minor": 0
      },
      "text/plain": [
       "Batches:   0%|          | 0/1 [00:00<?, ?it/s]"
      ]
     },
     "metadata": {},
     "output_type": "display_data"
    },
    {
     "name": "stdout",
     "output_type": "stream",
     "text": [
      "Reranked Result==> 3292012bbf240288b4e0cde8d6197bcc\t0.83\t0.62\t Using the z-score and the\n",
      "empirical rule, we will\n",
      "Reranked Result==> 439eaa4b375cf7f3b48e34452ea3df58\t0.84\t0.59\t\n",
      "\n",
      "Let's begin by learning a very  important value \n",
      "Reranked Result==> 35b7c7fb9aabb0c2dad8d808138871bc\t0.84\t0.36\t\n",
      "This chart makes it very easy to pick out the ind\n"
     ]
    }
   ],
   "source": [
    "query = 'How do z scores work?'\n",
    "final_results = get_results_from_pinecone(query, top_k=3, re_rank=True, verbose=True, use_transformers=False)"
   ]
  },
  {
   "cell_type": "code",
   "execution_count": 110,
   "id": "ad538a2f-c626-4029-99ac-f559c0acd211",
   "metadata": {},
   "outputs": [
    {
     "name": "stdout",
     "output_type": "stream",
     "text": [
      "Query: How do z scores work?\n",
      "Pinecone Result==> 439eaa4b375cf7f3b48e34452ea3df58\t0.84\t\n",
      "\n",
      "Let's begin by learning a very  important value \n",
      "Pinecone Result==> 35b7c7fb9aabb0c2dad8d808138871bc\t0.83\t\n",
      "This chart makes it very easy to pick out the ind\n",
      "Pinecone Result==> 3292012bbf240288b4e0cde8d6197bcc\t0.83\t Using the z-score and the\n",
      "empirical rule, we will\n",
      "Document ID (Hash)\t\tRetrieval Score\tCE Score\tText\n",
      "Reranked Result==> 35b7c7fb9aabb0c2dad8d808138871bc\t0.83\t0.53\t\n",
      "This chart makes it very easy to pick out the ind\n",
      "Reranked Result==> 3292012bbf240288b4e0cde8d6197bcc\t0.83\t0.53\t Using the z-score and the\n",
      "empirical rule, we will\n",
      "Reranked Result==> 439eaa4b375cf7f3b48e34452ea3df58\t0.84\t0.53\t\n",
      "\n",
      "Let's begin by learning a very  important value \n"
     ]
    }
   ],
   "source": [
    "final_results = get_results_from_pinecone(query, top_k=3, re_rank=True, verbose=True, cross_encoder=pipeline_encoder, use_transformers=True)"
   ]
  },
  {
   "cell_type": "code",
   "execution_count": 112,
   "id": "3774f47f-c883-43d9-8d7a-048c1144e798",
   "metadata": {},
   "outputs": [
    {
     "name": "stdout",
     "output_type": "stream",
     "text": [
      "Query: 그리드는 어떤 컴포넌트인가요?\n",
      "Pinecone Result==> 0d33226e2d5cfc3d850e6c8acfe2611c\t0.83\t3. 1.  권장 \n",
      "모바일웹개발에권장되는컴포넌트는 아래와같습니다.  \n",
      "●CheckBox ●\n",
      "Pinecone Result==> ce09866ca69ec215f9258032fb056598\t0.83\t \n",
      "동일한ID의컴포넌트가 여러개존재할경우미리보기를 할수없습니다.  \n",
      "7. 11. 4.  D\n",
      "Pinecone Result==> 95f508bd40f24cddd0148fa1b5a14729\t0.82\t \n",
      "그림7-28컴포넌트퀵툴바 \n",
      "\n",
      "\n",
      "29\n",
      "GridView의 경우,컬럼을선택한후스페이스바를 누\n",
      "Document ID (Hash)\t\tRetrieval Score\tCE Score\tText\n"
     ]
    },
    {
     "data": {
      "application/vnd.jupyter.widget-view+json": {
       "model_id": "873c837303d34b818d66275083ac1b3e",
       "version_major": 2,
       "version_minor": 0
      },
      "text/plain": [
       "Batches:   0%|          | 0/1 [00:00<?, ?it/s]"
      ]
     },
     "metadata": {},
     "output_type": "display_data"
    },
    {
     "name": "stdout",
     "output_type": "stream",
     "text": [
      "Reranked Result==> 0d33226e2d5cfc3d850e6c8acfe2611c\t0.83\t0.60\t3. 1.  권장 \n",
      "모바일웹개발에권장되는컴포넌트는 아래와같습니다.  \n",
      "●CheckBox ●\n",
      "Reranked Result==> 95f508bd40f24cddd0148fa1b5a14729\t0.82\t0.48\t \n",
      "그림7-28컴포넌트퀵툴바 \n",
      "\n",
      "\n",
      "29\n",
      "GridView의 경우,컬럼을선택한후스페이스바를 누\n",
      "Reranked Result==> ce09866ca69ec215f9258032fb056598\t0.83\t0.23\t \n",
      "동일한ID의컴포넌트가 여러개존재할경우미리보기를 할수없습니다.  \n",
      "7. 11. 4.  D\n"
     ]
    }
   ],
   "source": [
    "query = '그리드는 어떤 컴포넌트인가요?'\n",
    "final_results = get_results_from_pinecone(query, top_k=3, re_rank=True, verbose=True, use_transformers=False)"
   ]
  },
  {
   "cell_type": "code",
   "execution_count": 113,
   "id": "8af04432-24e7-49b0-a7bd-f6812f0df6ba",
   "metadata": {},
   "outputs": [
    {
     "name": "stdout",
     "output_type": "stream",
     "text": [
      "Query: 그리드는 어떤 컴포넌트인가요?\n",
      "Pinecone Result==> 0d33226e2d5cfc3d850e6c8acfe2611c\t0.83\t3. 1.  권장 \n",
      "모바일웹개발에권장되는컴포넌트는 아래와같습니다.  \n",
      "●CheckBox ●\n",
      "Pinecone Result==> ce09866ca69ec215f9258032fb056598\t0.83\t \n",
      "동일한ID의컴포넌트가 여러개존재할경우미리보기를 할수없습니다.  \n",
      "7. 11. 4.  D\n",
      "Pinecone Result==> 95f508bd40f24cddd0148fa1b5a14729\t0.82\t \n",
      "그림7-28컴포넌트퀵툴바 \n",
      "\n",
      "\n",
      "29\n",
      "GridView의 경우,컬럼을선택한후스페이스바를 누\n",
      "Document ID (Hash)\t\tRetrieval Score\tCE Score\tText\n",
      "Reranked Result==> 0d33226e2d5cfc3d850e6c8acfe2611c\t0.83\t0.54\t3. 1.  권장 \n",
      "모바일웹개발에권장되는컴포넌트는 아래와같습니다.  \n",
      "●CheckBox ●\n",
      "Reranked Result==> 95f508bd40f24cddd0148fa1b5a14729\t0.82\t0.54\t \n",
      "그림7-28컴포넌트퀵툴바 \n",
      "\n",
      "\n",
      "29\n",
      "GridView의 경우,컬럼을선택한후스페이스바를 누\n",
      "Reranked Result==> ce09866ca69ec215f9258032fb056598\t0.83\t0.54\t \n",
      "동일한ID의컴포넌트가 여러개존재할경우미리보기를 할수없습니다.  \n",
      "7. 11. 4.  D\n"
     ]
    }
   ],
   "source": [
    "final_results = get_results_from_pinecone(query, top_k=3, re_rank=True, verbose=True, cross_encoder=pipeline_encoder, use_transformers=True)"
   ]
  },
  {
   "cell_type": "code",
   "execution_count": 114,
   "id": "b354da75-ccef-4f64-8feb-face489142d5",
   "metadata": {},
   "outputs": [
    {
     "name": "stdout",
     "output_type": "stream",
     "text": [
      "Query: How do z scores work?\n",
      "Pinecone Result==> 439eaa4b375cf7f3b48e34452ea3df58\t0.84\t\n",
      "\n",
      "Let's begin by learning a very  important value \n",
      "Pinecone Result==> 35b7c7fb9aabb0c2dad8d808138871bc\t0.84\t\n",
      "This chart makes it very easy to pick out the ind\n",
      "Pinecone Result==> 3292012bbf240288b4e0cde8d6197bcc\t0.83\t Using the z-score and the\n",
      "empirical rule, we will\n",
      "Pinecone Result==> 0914b8d2847049fe675f39c5680ff2e2\t0.81\t It is important to note that by doing this, the p\n",
      "Pinecone Result==> ca34cce37134ae70556b6fd541becba5\t0.80\t\n",
      "Everything from how we obtain/sample data to how \n",
      "Pinecone Result==> dd87b4adeb2aefea7c946922b5256f04\t0.79\t96, meaning that we can expect something between\n",
      "1\n",
      "Pinecone Result==> 87ddb7aacd3c77bd18906c45b7709fa2\t0.79\t75\n",
      "# finding the percentage of people within two s\n",
      "Pinecone Result==> c658051c8f0520ed7bd8cea5d086aa0c\t0.79\t05 (our chosen significance level), which means th\n",
      "Pinecone Result==> eb06c205bb7b419d2bba0ff1929491cf\t0.79\t\n",
      "First, we should prove that this is a binomial se\n",
      "Pinecone Result==> 04947b1d3177882fd4aadceb6108656a\t0.79\t For example, if we have a die and we are testing\n",
      "\n",
      "Document ID (Hash)\t\tRetrieval Score\tCE Score\tText\n"
     ]
    },
    {
     "data": {
      "application/vnd.jupyter.widget-view+json": {
       "model_id": "c5009f13d362420ebfad12787b3e8e7b",
       "version_major": 2,
       "version_minor": 0
      },
      "text/plain": [
       "Batches:   0%|          | 0/1 [00:00<?, ?it/s]"
      ]
     },
     "metadata": {},
     "output_type": "display_data"
    },
    {
     "name": "stdout",
     "output_type": "stream",
     "text": [
      "Reranked Result==> 3292012bbf240288b4e0cde8d6197bcc\t0.83\t0.62\t Using the z-score and the\n",
      "empirical rule, we will\n",
      "Reranked Result==> 439eaa4b375cf7f3b48e34452ea3df58\t0.84\t0.59\t\n",
      "\n",
      "Let's begin by learning a very  important value \n",
      "Reranked Result==> 0914b8d2847049fe675f39c5680ff2e2\t0.81\t0.48\t It is important to note that by doing this, the p\n",
      "Reranked Result==> 35b7c7fb9aabb0c2dad8d808138871bc\t0.84\t0.36\t\n",
      "This chart makes it very easy to pick out the ind\n",
      "Reranked Result==> ca34cce37134ae70556b6fd541becba5\t0.80\t0.31\t\n",
      "Everything from how we obtain/sample data to how \n",
      "Reranked Result==> 87ddb7aacd3c77bd18906c45b7709fa2\t0.79\t0.26\t75\n",
      "# finding the percentage of people within two s\n",
      "Reranked Result==> dd87b4adeb2aefea7c946922b5256f04\t0.79\t0.04\t96, meaning that we can expect something between\n",
      "1\n",
      "Reranked Result==> c658051c8f0520ed7bd8cea5d086aa0c\t0.79\t0.03\t05 (our chosen significance level), which means th\n",
      "Reranked Result==> 04947b1d3177882fd4aadceb6108656a\t0.79\t0.03\t For example, if we have a die and we are testing\n",
      "\n",
      "Reranked Result==> eb06c205bb7b419d2bba0ff1929491cf\t0.79\t0.03\t\n",
      "First, we should prove that this is a binomial se\n"
     ]
    }
   ],
   "source": [
    "query = 'How do z scores work?'\n",
    "final_results = get_results_from_pinecone(query, top_k=10, re_rank=True, use_transformers=False)"
   ]
  },
  {
   "cell_type": "code",
   "execution_count": 115,
   "id": "f90647e8-2ef1-45bb-badf-50cae6e94e16",
   "metadata": {
    "scrolled": true
   },
   "outputs": [
    {
     "name": "stdout",
     "output_type": "stream",
     "text": [
      "Query: How do z scores work?\n",
      "Pinecone Result==> 439eaa4b375cf7f3b48e34452ea3df58\t0.84\t\n",
      "\n",
      "Let's begin by learning a very  important value \n",
      "Pinecone Result==> 35b7c7fb9aabb0c2dad8d808138871bc\t0.84\t\n",
      "This chart makes it very easy to pick out the ind\n",
      "Pinecone Result==> 3292012bbf240288b4e0cde8d6197bcc\t0.83\t Using the z-score and the\n",
      "empirical rule, we will\n",
      "Pinecone Result==> 0914b8d2847049fe675f39c5680ff2e2\t0.81\t It is important to note that by doing this, the p\n",
      "Pinecone Result==> ca34cce37134ae70556b6fd541becba5\t0.80\t\n",
      "Everything from how we obtain/sample data to how \n",
      "Pinecone Result==> dd87b4adeb2aefea7c946922b5256f04\t0.79\t96, meaning that we can expect something between\n",
      "1\n",
      "Pinecone Result==> 87ddb7aacd3c77bd18906c45b7709fa2\t0.79\t75\n",
      "# finding the percentage of people within two s\n",
      "Pinecone Result==> c658051c8f0520ed7bd8cea5d086aa0c\t0.79\t05 (our chosen significance level), which means th\n",
      "Pinecone Result==> eb06c205bb7b419d2bba0ff1929491cf\t0.79\t\n",
      "First, we should prove that this is a binomial se\n",
      "Pinecone Result==> 04947b1d3177882fd4aadceb6108656a\t0.79\t For example, if we have a die and we are testing\n",
      "\n",
      "Document ID (Hash)\t\tRetrieval Score\tCE Score\tText\n",
      "Reranked Result==> eb06c205bb7b419d2bba0ff1929491cf\t0.79\t0.54\t\n",
      "First, we should prove that this is a binomial se\n",
      "Reranked Result==> 0914b8d2847049fe675f39c5680ff2e2\t0.81\t0.54\t It is important to note that by doing this, the p\n",
      "Reranked Result==> 87ddb7aacd3c77bd18906c45b7709fa2\t0.79\t0.53\t75\n",
      "# finding the percentage of people within two s\n",
      "Reranked Result==> 35b7c7fb9aabb0c2dad8d808138871bc\t0.84\t0.53\t\n",
      "This chart makes it very easy to pick out the ind\n",
      "Reranked Result==> 3292012bbf240288b4e0cde8d6197bcc\t0.83\t0.53\t Using the z-score and the\n",
      "empirical rule, we will\n",
      "Reranked Result==> 439eaa4b375cf7f3b48e34452ea3df58\t0.84\t0.53\t\n",
      "\n",
      "Let's begin by learning a very  important value \n",
      "Reranked Result==> c658051c8f0520ed7bd8cea5d086aa0c\t0.79\t0.53\t05 (our chosen significance level), which means th\n",
      "Reranked Result==> ca34cce37134ae70556b6fd541becba5\t0.80\t0.53\t\n",
      "Everything from how we obtain/sample data to how \n",
      "Reranked Result==> dd87b4adeb2aefea7c946922b5256f04\t0.79\t0.53\t96, meaning that we can expect something between\n",
      "1\n",
      "Reranked Result==> 04947b1d3177882fd4aadceb6108656a\t0.79\t0.52\t For example, if we have a die and we are testing\n",
      "\n"
     ]
    }
   ],
   "source": [
    "final_results = get_results_from_pinecone(query, top_k=10, re_rank=True, cross_encoder=pipeline_encoder, use_transformers=True)"
   ]
  },
  {
   "cell_type": "code",
   "execution_count": 116,
   "id": "a3c9922f",
   "metadata": {
    "scrolled": true
   },
   "outputs": [
    {
     "name": "stdout",
     "output_type": "stream",
     "text": [
      "Query: 그리드는 어떤 컴포넌트인가요?\n",
      "Pinecone Result==> 0d33226e2d5cfc3d850e6c8acfe2611c\t0.83\t3. 1.  권장 \n",
      "모바일웹개발에권장되는컴포넌트는 아래와같습니다.  \n",
      "●CheckBox ●\n",
      "Pinecone Result==> ce09866ca69ec215f9258032fb056598\t0.83\t \n",
      "동일한ID의컴포넌트가 여러개존재할경우미리보기를 할수없습니다.  \n",
      "7. 11. 4.  D\n",
      "Pinecone Result==> 95f508bd40f24cddd0148fa1b5a14729\t0.82\t \n",
      "그림7-28컴포넌트퀵툴바 \n",
      "\n",
      "\n",
      "29\n",
      "GridView의 경우,컬럼을선택한후스페이스바를 누\n",
      "Pinecone Result==> 029d7984aa5e95c89d96cff52ee17d61\t0.82\tDesign 뷰에서직접마우스드래그하여 컴포넌트의 위치와크기를결정합니다.  (더블클릭할경우해\n",
      "Pinecone Result==> 9a67165ce1508b47f0be0810c24023b4\t0.82\t 관련컴포넌트 \n",
      "●아래와같은선택컴포넌트의 경우선택대상항목을지정해야합니다. 브라우저는 개발자\n",
      "Pinecone Result==> b115fe5b0485485fcbae9be03655f83f\t0.82\t표편집 \n",
      "GridView나 TableLayout과 같은표형식컴포넌트의 경우,아래의아이콘을사\n",
      "Pinecone Result==> 643508429198e45aa6836d86e4b5f0fc\t0.82\t \n",
      "■모바일환경에서셀터치로목록열기/닫기 추가.  \n",
      "○모바일추가.  \n",
      "○여러개의GridVie\n",
      "Pinecone Result==> e57f4b73ba97e453b7a243694a97097c\t0.82\t \n",
      "그림16-3닫기버튼 \n",
      "예제파일 \n",
      "인터넷에서 다운로드 혹은 \n",
      "WEBSQUARE_DEV_P\n",
      "Pinecone Result==> cf4c0fe136cf53d8f18b241289f54714\t0.82\t6.  그리드 대량데이터 \n",
      " 원인 해결방안 ●10만셀이상의데이터를사용하는경우 ●환경에맞게적\n",
      "Pinecone Result==> 4e5e8bb9c493de4dd7d7100fa3c582e6\t0.82\t \n",
      " \n",
      "●TextBox 컴포넌트추가.  \n",
      "●(해당없음. ) \n",
      " \n",
      " \n",
      " \n",
      "\n",
      "30\n",
      " *Span\n",
      "Document ID (Hash)\t\tRetrieval Score\tCE Score\tText\n"
     ]
    },
    {
     "data": {
      "application/vnd.jupyter.widget-view+json": {
       "model_id": "0019dd30e0c24128a6937256d3f40121",
       "version_major": 2,
       "version_minor": 0
      },
      "text/plain": [
       "Batches:   0%|          | 0/1 [00:00<?, ?it/s]"
      ]
     },
     "metadata": {},
     "output_type": "display_data"
    },
    {
     "name": "stdout",
     "output_type": "stream",
     "text": [
      "Reranked Result==> 0d33226e2d5cfc3d850e6c8acfe2611c\t0.83\t0.60\t3. 1.  권장 \n",
      "모바일웹개발에권장되는컴포넌트는 아래와같습니다.  \n",
      "●CheckBox ●\n",
      "Reranked Result==> 4e5e8bb9c493de4dd7d7100fa3c582e6\t0.82\t0.59\t \n",
      " \n",
      "●TextBox 컴포넌트추가.  \n",
      "●(해당없음. ) \n",
      " \n",
      " \n",
      " \n",
      "\n",
      "30\n",
      " *Span\n",
      "Reranked Result==> 95f508bd40f24cddd0148fa1b5a14729\t0.82\t0.48\t \n",
      "그림7-28컴포넌트퀵툴바 \n",
      "\n",
      "\n",
      "29\n",
      "GridView의 경우,컬럼을선택한후스페이스바를 누\n",
      "Reranked Result==> b115fe5b0485485fcbae9be03655f83f\t0.82\t0.44\t표편집 \n",
      "GridView나 TableLayout과 같은표형식컴포넌트의 경우,아래의아이콘을사\n",
      "Reranked Result==> cf4c0fe136cf53d8f18b241289f54714\t0.82\t0.43\t6.  그리드 대량데이터 \n",
      " 원인 해결방안 ●10만셀이상의데이터를사용하는경우 ●환경에맞게적\n",
      "Reranked Result==> 029d7984aa5e95c89d96cff52ee17d61\t0.82\t0.40\tDesign 뷰에서직접마우스드래그하여 컴포넌트의 위치와크기를결정합니다.  (더블클릭할경우해\n",
      "Reranked Result==> e57f4b73ba97e453b7a243694a97097c\t0.82\t0.38\t \n",
      "그림16-3닫기버튼 \n",
      "예제파일 \n",
      "인터넷에서 다운로드 혹은 \n",
      "WEBSQUARE_DEV_P\n",
      "Reranked Result==> ce09866ca69ec215f9258032fb056598\t0.83\t0.23\t \n",
      "동일한ID의컴포넌트가 여러개존재할경우미리보기를 할수없습니다.  \n",
      "7. 11. 4.  D\n",
      "Reranked Result==> 9a67165ce1508b47f0be0810c24023b4\t0.82\t0.22\t 관련컴포넌트 \n",
      "●아래와같은선택컴포넌트의 경우선택대상항목을지정해야합니다. 브라우저는 개발자\n",
      "Reranked Result==> 643508429198e45aa6836d86e4b5f0fc\t0.82\t0.16\t \n",
      "■모바일환경에서셀터치로목록열기/닫기 추가.  \n",
      "○모바일추가.  \n",
      "○여러개의GridVie\n"
     ]
    }
   ],
   "source": [
    "query = '그리드는 어떤 컴포넌트인가요?'\n",
    "final_results = get_results_from_pinecone(query, top_k=10, re_rank=True, use_transformers=False)"
   ]
  },
  {
   "cell_type": "code",
   "execution_count": 117,
   "id": "b1b2c4f0-d3e8-4616-87d3-1c218604aa47",
   "metadata": {
    "scrolled": true
   },
   "outputs": [
    {
     "name": "stdout",
     "output_type": "stream",
     "text": [
      "Query: 그리드는 어떤 컴포넌트인가요?\n",
      "Pinecone Result==> 0d33226e2d5cfc3d850e6c8acfe2611c\t0.83\t3. 1.  권장 \n",
      "모바일웹개발에권장되는컴포넌트는 아래와같습니다.  \n",
      "●CheckBox ●\n",
      "Pinecone Result==> ce09866ca69ec215f9258032fb056598\t0.83\t \n",
      "동일한ID의컴포넌트가 여러개존재할경우미리보기를 할수없습니다.  \n",
      "7. 11. 4.  D\n",
      "Pinecone Result==> 95f508bd40f24cddd0148fa1b5a14729\t0.82\t \n",
      "그림7-28컴포넌트퀵툴바 \n",
      "\n",
      "\n",
      "29\n",
      "GridView의 경우,컬럼을선택한후스페이스바를 누\n",
      "Pinecone Result==> 029d7984aa5e95c89d96cff52ee17d61\t0.82\tDesign 뷰에서직접마우스드래그하여 컴포넌트의 위치와크기를결정합니다.  (더블클릭할경우해\n",
      "Pinecone Result==> 9a67165ce1508b47f0be0810c24023b4\t0.82\t 관련컴포넌트 \n",
      "●아래와같은선택컴포넌트의 경우선택대상항목을지정해야합니다. 브라우저는 개발자\n",
      "Pinecone Result==> b115fe5b0485485fcbae9be03655f83f\t0.82\t표편집 \n",
      "GridView나 TableLayout과 같은표형식컴포넌트의 경우,아래의아이콘을사\n",
      "Pinecone Result==> 643508429198e45aa6836d86e4b5f0fc\t0.82\t \n",
      "■모바일환경에서셀터치로목록열기/닫기 추가.  \n",
      "○모바일추가.  \n",
      "○여러개의GridVie\n",
      "Pinecone Result==> e57f4b73ba97e453b7a243694a97097c\t0.82\t \n",
      "그림16-3닫기버튼 \n",
      "예제파일 \n",
      "인터넷에서 다운로드 혹은 \n",
      "WEBSQUARE_DEV_P\n",
      "Pinecone Result==> cf4c0fe136cf53d8f18b241289f54714\t0.82\t6.  그리드 대량데이터 \n",
      " 원인 해결방안 ●10만셀이상의데이터를사용하는경우 ●환경에맞게적\n",
      "Pinecone Result==> 4e5e8bb9c493de4dd7d7100fa3c582e6\t0.82\t \n",
      " \n",
      "●TextBox 컴포넌트추가.  \n",
      "●(해당없음. ) \n",
      " \n",
      " \n",
      " \n",
      "\n",
      "30\n",
      " *Span\n",
      "Document ID (Hash)\t\tRetrieval Score\tCE Score\tText\n",
      "Reranked Result==> cf4c0fe136cf53d8f18b241289f54714\t0.82\t0.55\t6.  그리드 대량데이터 \n",
      " 원인 해결방안 ●10만셀이상의데이터를사용하는경우 ●환경에맞게적\n",
      "Reranked Result==> b115fe5b0485485fcbae9be03655f83f\t0.82\t0.54\t표편집 \n",
      "GridView나 TableLayout과 같은표형식컴포넌트의 경우,아래의아이콘을사\n",
      "Reranked Result==> 0d33226e2d5cfc3d850e6c8acfe2611c\t0.83\t0.54\t3. 1.  권장 \n",
      "모바일웹개발에권장되는컴포넌트는 아래와같습니다.  \n",
      "●CheckBox ●\n",
      "Reranked Result==> 9a67165ce1508b47f0be0810c24023b4\t0.82\t0.54\t 관련컴포넌트 \n",
      "●아래와같은선택컴포넌트의 경우선택대상항목을지정해야합니다. 브라우저는 개발자\n",
      "Reranked Result==> 95f508bd40f24cddd0148fa1b5a14729\t0.82\t0.54\t \n",
      "그림7-28컴포넌트퀵툴바 \n",
      "\n",
      "\n",
      "29\n",
      "GridView의 경우,컬럼을선택한후스페이스바를 누\n",
      "Reranked Result==> 4e5e8bb9c493de4dd7d7100fa3c582e6\t0.82\t0.54\t \n",
      " \n",
      "●TextBox 컴포넌트추가.  \n",
      "●(해당없음. ) \n",
      " \n",
      " \n",
      " \n",
      "\n",
      "30\n",
      " *Span\n",
      "Reranked Result==> e57f4b73ba97e453b7a243694a97097c\t0.82\t0.54\t \n",
      "그림16-3닫기버튼 \n",
      "예제파일 \n",
      "인터넷에서 다운로드 혹은 \n",
      "WEBSQUARE_DEV_P\n",
      "Reranked Result==> ce09866ca69ec215f9258032fb056598\t0.83\t0.54\t \n",
      "동일한ID의컴포넌트가 여러개존재할경우미리보기를 할수없습니다.  \n",
      "7. 11. 4.  D\n",
      "Reranked Result==> 029d7984aa5e95c89d96cff52ee17d61\t0.82\t0.54\tDesign 뷰에서직접마우스드래그하여 컴포넌트의 위치와크기를결정합니다.  (더블클릭할경우해\n",
      "Reranked Result==> 643508429198e45aa6836d86e4b5f0fc\t0.82\t0.54\t \n",
      "■모바일환경에서셀터치로목록열기/닫기 추가.  \n",
      "○모바일추가.  \n",
      "○여러개의GridVie\n"
     ]
    }
   ],
   "source": [
    "final_results = get_results_from_pinecone(query, top_k=10, re_rank=True, cross_encoder=pipeline_encoder, use_transformers=True)"
   ]
  },
  {
   "cell_type": "markdown",
   "id": "5e9504b5-004b-463a-998d-50729ee9872c",
   "metadata": {},
   "source": [
    "## 1.7 파인콘 데이터삭제"
   ]
  },
  {
   "cell_type": "code",
   "execution_count": 118,
   "id": "c018b64d",
   "metadata": {},
   "outputs": [
    {
     "data": {
      "text/plain": [
       "{}"
      ]
     },
     "execution_count": 118,
     "metadata": {},
     "output_type": "execute_result"
    }
   ],
   "source": [
    "delete_texts_from_pinecone(pruned_documents[:800])\n",
    "delete_texts_from_pinecone(pruned_documents[800:])\n",
    "delete_texts_from_pinecone(split[:800])\n",
    "delete_texts_from_pinecone(split[800:])"
   ]
  },
  {
   "cell_type": "markdown",
   "id": "79e1caf7",
   "metadata": {},
   "source": [
    "# 2. BoolQ 데이터셋을 이용한 성능 검증"
   ]
  },
  {
   "cell_type": "code",
   "execution_count": 119,
   "id": "62e28784",
   "metadata": {},
   "outputs": [],
   "source": [
    "from datasets import load_dataset\n",
    "from evaluate import load\n",
    "\n",
    "\n",
    "dataset = load_dataset(\"boolq\")"
   ]
  },
  {
   "cell_type": "code",
   "execution_count": 120,
   "id": "e6773457",
   "metadata": {},
   "outputs": [
    {
     "data": {
      "text/plain": [
       "{'question': 'does ethanol take more energy make that produces',\n",
       " 'answer': False,\n",
       " 'passage': \"All biomass goes through at least some of these steps: it needs to be grown, collected, dried, fermented, distilled, and burned. All of these steps require resources and an infrastructure. The total amount of energy input into the process compared to the energy released by burning the resulting ethanol fuel is known as the energy balance (or ``energy returned on energy invested''). Figures compiled in a 2007 report by National Geographic Magazine point to modest results for corn ethanol produced in the US: one unit of fossil-fuel energy is required to create 1.3 energy units from the resulting ethanol. The energy balance for sugarcane ethanol produced in Brazil is more favorable, with one unit of fossil-fuel energy required to create 8 from the ethanol. Energy balance estimates are not easily produced, thus numerous such reports have been generated that are contradictory. For instance, a separate survey reports that production of ethanol from sugarcane, which requires a tropical climate to grow productively, returns from 8 to 9 units of energy for each unit expended, as compared to corn, which only returns about 1.34 units of fuel energy for each unit of energy expended. A 2006 University of California Berkeley study, after analyzing six separate studies, concluded that producing ethanol from corn uses much less petroleum than producing gasoline.\"}"
      ]
     },
     "execution_count": 120,
     "metadata": {},
     "output_type": "execute_result"
    }
   ],
   "source": [
    "dataset['validation'][0]"
   ]
  },
  {
   "cell_type": "markdown",
   "id": "821413f7-e63d-41ed-b8e1-e12d18750ba7",
   "metadata": {},
   "source": [
    "## 2.1 BoolQ 데이터셋의 설명(passage)을 Pinecone에 저장"
   ]
  },
  {
   "cell_type": "code",
   "execution_count": 121,
   "id": "0221343a",
   "metadata": {},
   "outputs": [
    {
     "name": "stderr",
     "output_type": "stream",
     "text": [
      "100%|████████████████████████████████████████████████████████████████████████████| 26/26 [01:25<00:00,  3.29s/it]\n"
     ]
    }
   ],
   "source": [
    "for idx in tqdm(range(0, len(dataset['validation']), 128)):\n",
    "    data_sample = dataset['validation'][idx:idx + 128]\n",
    "\n",
    "    passages = data_sample['passage']\n",
    "    # delete_texts_from_pinecone(passages)\n",
    "    upload_texts_to_pinecone(passages)"
   ]
  },
  {
   "cell_type": "code",
   "execution_count": 122,
   "id": "c20f66e1",
   "metadata": {},
   "outputs": [
    {
     "name": "stdout",
     "output_type": "stream",
     "text": [
      "does caesar live in dawn of the planet of the apes\n",
      "Query: does caesar live in dawn of the planet of the apes\n",
      "Pinecone Result==> 364688074530d43de825592b1837568b\t0.80\tMalcolm and Caesar acknowledge their friendship, w\n",
      "Pinecone Result==> e54eeaa5d9eb793c34cc0fc6a2cf8d39\t0.73\tIn most of the film, Joe was portrayed by creature\n",
      "Pinecone Result==> e1de96dda4c5cca3d8ba85fc7883a87d\t0.73\tFollowing the events of The Rise of Cobra, Duke (C\n",
      "Document ID (Hash)\t\tRetrieval Score\tCE Score\tText\n"
     ]
    },
    {
     "data": {
      "application/vnd.jupyter.widget-view+json": {
       "model_id": "4bbb19e343a14f9a84c7710cbda4d300",
       "version_major": 2,
       "version_minor": 0
      },
      "text/plain": [
       "Batches:   0%|          | 0/1 [00:00<?, ?it/s]"
      ]
     },
     "metadata": {},
     "output_type": "display_data"
    },
    {
     "name": "stdout",
     "output_type": "stream",
     "text": [
      "Reranked Result==> 364688074530d43de825592b1837568b\t0.80\t0.64\tMalcolm and Caesar acknowledge their friendship, w\n",
      "Reranked Result==> e54eeaa5d9eb793c34cc0fc6a2cf8d39\t0.73\t0.12\tIn most of the film, Joe was portrayed by creature\n",
      "Reranked Result==> e1de96dda4c5cca3d8ba85fc7883a87d\t0.73\t0.10\tFollowing the events of The Rise of Cobra, Duke (C\n"
     ]
    }
   ],
   "source": [
    "from random import sample\n",
    "\n",
    "query = sample(dataset['validation']['question'], 1)[0]\n",
    "print(query)\n",
    "final_results = get_results_from_pinecone(query, top_k=3, re_rank=True)\n"
   ]
  },
  {
   "cell_type": "markdown",
   "id": "127da6cf-1c39-45f8-8a64-31a7bd87a0d9",
   "metadata": {},
   "source": [
    "## 2.2 질문(question)을 키로 하여 설명(passage)에 대한 hash 값을 추출하여 저장"
   ]
  },
  {
   "cell_type": "code",
   "execution_count": 123,
   "id": "e1e27222",
   "metadata": {},
   "outputs": [
    {
     "data": {
      "text/plain": [
       "'364688074530d43de825592b1837568b'"
      ]
     },
     "execution_count": 123,
     "metadata": {},
     "output_type": "execute_result"
    }
   ],
   "source": [
    "q_to_hash = {data['question']: my_hash(data['passage']) for data in dataset['validation']}\n",
    "\n",
    "q_to_hash[query]"
   ]
  },
  {
   "cell_type": "code",
   "execution_count": 124,
   "id": "3340827a-05e0-469e-b2ae-7892a647f4e4",
   "metadata": {},
   "outputs": [
    {
     "data": {
      "text/plain": [
       "3270"
      ]
     },
     "execution_count": 124,
     "metadata": {},
     "output_type": "execute_result"
    }
   ],
   "source": [
    "len(dataset['validation'])"
   ]
  },
  {
   "cell_type": "code",
   "execution_count": 125,
   "id": "a63ec53e",
   "metadata": {},
   "outputs": [],
   "source": [
    "# super_glue_metric = load('super_glue', 'boolq') # 정확도만 확인합니다.\n",
    "\n",
    "# 1000개의 유효성 검사 데이터 포인트에 대한 성능 재순위를 테스트해 보겠습니다.\n",
    "# 여기서는 속도를 높이기 위해 Pinecone을 사용할 수 없습니다.\n",
    "# 하지만 Pinecone으로 파이프라인의 지연 시간을 테스트하기에도 좋은 시기입니다.\n",
    "val_sample = dataset['validation'][:100]"
   ]
  },
  {
   "cell_type": "markdown",
   "id": "ed319e2b-c00c-4aee-9691-a5a0259df5e2",
   "metadata": {},
   "source": [
    "## 2.3 embedding을 이용한 데이터 조회의 정확도 검증"
   ]
  },
  {
   "cell_type": "code",
   "execution_count": 126,
   "id": "bfea2ee7",
   "metadata": {},
   "outputs": [
    {
     "name": "stderr",
     "output_type": "stream",
     "text": [
      "100%|██████████████████████████████████████████████████████████████████████████| 100/100 [00:59<00:00,  1.67it/s]"
     ]
    },
    {
     "name": "stdout",
     "output_type": "stream",
     "text": [
      "Accuracy without re-ranking: 0.84\n"
     ]
    },
    {
     "name": "stderr",
     "output_type": "stream",
     "text": [
      "\n"
     ]
    }
   ],
   "source": [
    "logger.setLevel(logging.CRITICAL)\n",
    "\n",
    "predictions = []\n",
    "\n",
    "# Pinecone의 지연 시간이 일관되게 유지되도록 top_k를 동일하게 유지합니다.\n",
    "# 그리고 유일한 큰 시간 차이는 리랭킹에서 발생합니다.\n",
    "for question in tqdm(val_sample['question']):\n",
    "    retrieved_hash = get_results_from_pinecone(question, top_k=1, re_rank=False, verbose=False)[0]['id']\n",
    "    correct_hash = q_to_hash[question]\n",
    "    predictions.append(retrieved_hash == correct_hash)\n",
    "    \n",
    "accuracy = sum(predictions)/len(predictions)\n",
    "\n",
    "print(f'Accuracy without re-ranking: {accuracy}')"
   ]
  },
  {
   "cell_type": "markdown",
   "id": "6146e2dc-8cfa-4e5a-82b7-8e9572311c2f",
   "metadata": {},
   "source": [
    "## 2.4 embedding + reranking을 이용한 데이터 조회의 정확도 검증\n",
    "\n",
    "__rerank와 그렇지 않은 경우의 시간 차이에 유의하세요.__\n",
    "\n",
    "* text-embedding-ada-002\n",
    "    * embedding만 사용하는 경우 0.85\n",
    "    * cross_encoder = CrossEncoder('jeffwan/mmarco-mMiniLMv2-L12-H384-v1') 를 사용하는 경우 0.84\n",
    "    * cross_encoder = CrossEncoder('bongsoo/klue-cross-encoder-v1') 를 사용하는 경우 0.68\n",
    "* text-embedding-3-small'  # OpenAI의 3세대 embedding 모델 (소형)\n",
    "    * embedding만 사용하는 경우 0.88\n",
    "    * cross_encoder = CrossEncoder('jeffwan/mmarco-mMiniLMv2-L12-H384-v1') 를 사용하는 경우 0.86\n",
    "    * cross_encoder = CrossEncoder('bongsoo/klue-cross-encoder-v1') 를 사용하는 경우 0.68\n",
    "* text-embedding-3-large'  # OpenAI의 3세대 embedding 모델 (대형)\n",
    "    * embedding만 사용하는 경우  0.93\n",
    "    * cross_encoder = CrossEncoder('jeffwan/mmarco-mMiniLMv2-L12-H384-v1') 를 사용하는 경우 0.87\n",
    "    * cross_encoder = CrossEncoder('bongsoo/klue-cross-encoder-v1') 를 사용하는 경우 0.74"
   ]
  },
  {
   "cell_type": "code",
   "execution_count": 127,
   "id": "b98413a3",
   "metadata": {},
   "outputs": [],
   "source": [
    "cross_encoder1 = CrossEncoder('jeffwan/mmarco-mMiniLMv2-L12-H384-v1')\n",
    "cross_encoder2 = CrossEncoder('cross-encoder/ms-marco-MiniLM-L-6-v2')  # Claude가 추천한 모델\n",
    "cross_encoder3 = CrossEncoder('cross-encoder/ms-marco-MiniLM-L-12-v2')  # Claude가 추천한 모델\n",
    "cross_encoder4 = CrossEncoder('bongsoo/klue-cross-encoder-v1')  # 한국어 지원 모델"
   ]
  },
  {
   "cell_type": "code",
   "execution_count": 128,
   "id": "7c02ab82-70b1-4e42-b50e-c71378bd87c2",
   "metadata": {},
   "outputs": [
    {
     "name": "stderr",
     "output_type": "stream",
     "text": [
      "100%|██████████████████████████████████████████████████████████████████████████| 100/100 [01:22<00:00,  1.22it/s]"
     ]
    },
    {
     "name": "stdout",
     "output_type": "stream",
     "text": [
      "Accuracy with re-ranking(mmarco-mMiniLMv2-L12-H384-v1): 0.84\n"
     ]
    },
    {
     "name": "stderr",
     "output_type": "stream",
     "text": [
      "\n"
     ]
    }
   ],
   "source": [
    "predictions = []\n",
    "\n",
    "# Pinecone의 지연 시간이 일관되게 유지되도록 top_k를 동일하게 유지합니다.\n",
    "# 그리고 유일한 큰 시간 차이는 리랭킹에서 발생합니다.\n",
    "for question in tqdm(val_sample['question']):\n",
    "    retrieved_hash = get_results_from_pinecone(question, top_k=3, re_rank=True, cross_encoder=cross_encoder1, verbose=False)[0]['id']\n",
    "    correct_hash = q_to_hash[question]\n",
    "    predictions.append(retrieved_hash == correct_hash)\n",
    "    \n",
    "accuracy = sum(predictions)/len(predictions)\n",
    "\n",
    "print(f'Accuracy with re-ranking(mmarco-mMiniLMv2-L12-H384-v1): {accuracy}')"
   ]
  },
  {
   "cell_type": "code",
   "execution_count": 129,
   "id": "3f510820-2077-4bbc-85bd-6feb9a76b5c2",
   "metadata": {},
   "outputs": [
    {
     "name": "stderr",
     "output_type": "stream",
     "text": [
      "100%|██████████████████████████████████████████████████████████████████████████| 100/100 [01:07<00:00,  1.49it/s]"
     ]
    },
    {
     "name": "stdout",
     "output_type": "stream",
     "text": [
      "Accuracy with re-ranking(ms-marco-MiniLM-L-6-v2): 0.82\n"
     ]
    },
    {
     "name": "stderr",
     "output_type": "stream",
     "text": [
      "\n"
     ]
    }
   ],
   "source": [
    "predictions = []\n",
    "\n",
    "# Pinecone의 지연 시간이 일관되게 유지되도록 top_k를 동일하게 유지합니다.\n",
    "# 그리고 유일한 큰 시간 차이는 리랭킹에서 발생합니다.\n",
    "for question in tqdm(val_sample['question']):\n",
    "    retrieved_hash = get_results_from_pinecone(question, top_k=3, re_rank=True, cross_encoder=cross_encoder2, verbose=False)[0]['id']\n",
    "    correct_hash = q_to_hash[question]\n",
    "    predictions.append(retrieved_hash == correct_hash)\n",
    "    \n",
    "accuracy = sum(predictions)/len(predictions)\n",
    "\n",
    "print(f'Accuracy with re-ranking(ms-marco-MiniLM-L-6-v2): {accuracy}')"
   ]
  },
  {
   "cell_type": "code",
   "execution_count": 130,
   "id": "37e0c54d-2f4c-46e3-b5d7-2342b7799c01",
   "metadata": {},
   "outputs": [
    {
     "name": "stderr",
     "output_type": "stream",
     "text": [
      "100%|██████████████████████████████████████████████████████████████████████████| 100/100 [00:54<00:00,  1.84it/s]"
     ]
    },
    {
     "name": "stdout",
     "output_type": "stream",
     "text": [
      "Accuracy with re-ranking(ms-marco-MiniLM-L-12-v2): 0.85\n"
     ]
    },
    {
     "name": "stderr",
     "output_type": "stream",
     "text": [
      "\n"
     ]
    }
   ],
   "source": [
    "predictions = []\n",
    "\n",
    "# Pinecone의 지연 시간이 일관되게 유지되도록 top_k를 동일하게 유지합니다.\n",
    "# 그리고 유일한 큰 시간 차이는 리랭킹에서 발생합니다.\n",
    "for question in tqdm(val_sample['question']):\n",
    "    retrieved_hash = get_results_from_pinecone(question, top_k=3, re_rank=True, cross_encoder=cross_encoder3, verbose=False)[0]['id']\n",
    "    correct_hash = q_to_hash[question]\n",
    "    predictions.append(retrieved_hash == correct_hash)\n",
    "    \n",
    "accuracy = sum(predictions)/len(predictions)\n",
    "\n",
    "print(f'Accuracy with re-ranking(ms-marco-MiniLM-L-12-v2): {accuracy}')"
   ]
  },
  {
   "cell_type": "code",
   "execution_count": 131,
   "id": "7700edc7-4d6e-4d7a-aef2-75922e613336",
   "metadata": {},
   "outputs": [
    {
     "name": "stderr",
     "output_type": "stream",
     "text": [
      "100%|██████████████████████████████████████████████████████████████████████████| 100/100 [01:38<00:00,  1.02it/s]"
     ]
    },
    {
     "name": "stdout",
     "output_type": "stream",
     "text": [
      "Accuracy with re-ranking(bongsoo/klue-cross-encoder-v1): 0.68\n"
     ]
    },
    {
     "name": "stderr",
     "output_type": "stream",
     "text": [
      "\n"
     ]
    }
   ],
   "source": [
    "predictions = []\n",
    "\n",
    "# Pinecone의 지연 시간이 일관되게 유지되도록 top_k를 동일하게 유지합니다.\n",
    "# 그리고 유일한 큰 시간 차이는 리랭킹에서 발생합니다.\n",
    "for question in tqdm(val_sample['question']):\n",
    "    retrieved_hash = get_results_from_pinecone(question, top_k=3, re_rank=True, cross_encoder=cross_encoder4, verbose=False)[0]['id']\n",
    "    correct_hash = q_to_hash[question]\n",
    "    predictions.append(retrieved_hash == correct_hash)\n",
    "    \n",
    "accuracy = sum(predictions)/len(predictions)\n",
    "\n",
    "print(f'Accuracy with re-ranking(bongsoo/klue-cross-encoder-v1): {accuracy}')"
   ]
  },
  {
   "cell_type": "code",
   "execution_count": 132,
   "id": "98e8b96e-5186-4814-b5fb-1f166e7dec81",
   "metadata": {},
   "outputs": [
    {
     "name": "stderr",
     "output_type": "stream",
     "text": [
      "100%|██████████████████████████████████████████████████████████████████████████| 100/100 [03:12<00:00,  1.92s/it]"
     ]
    },
    {
     "name": "stdout",
     "output_type": "stream",
     "text": [
      "Accuracy with re-ranking(klue/roberta-large): 0.29\n"
     ]
    },
    {
     "name": "stderr",
     "output_type": "stream",
     "text": [
      "\n"
     ]
    }
   ],
   "source": [
    "predictions = []\n",
    "\n",
    "# Pinecone의 지연 시간이 일관되게 유지되도록 top_k를 동일하게 유지합니다.\n",
    "# 그리고 유일한 큰 시간 차이는 리랭킹에서 발생합니다.\n",
    "for question in tqdm(val_sample['question']):\n",
    "    retrieved_hash = get_results_from_pinecone(question, top_k=3, re_rank=True, cross_encoder=pipeline_encoder, verbose=False, use_transformers=True)[0]['id']\n",
    "    correct_hash = q_to_hash[question]\n",
    "    predictions.append(retrieved_hash == correct_hash)\n",
    "    \n",
    "accuracy = sum(predictions)/len(predictions)\n",
    "\n",
    "print(f'Accuracy with re-ranking(klue/roberta-large): {accuracy}')"
   ]
  },
  {
   "cell_type": "markdown",
   "id": "cc257565-499a-49d1-a3cc-4aefa8d56cf1",
   "metadata": {},
   "source": [
    "## 2.5 embedding과 reranking 비교"
   ]
  },
  {
   "cell_type": "code",
   "execution_count": 133,
   "id": "b4010029",
   "metadata": {},
   "outputs": [],
   "source": [
    "# 사전 학습된 다른 크로스 인코더 시도하기\n",
    "# sentence-transformers/multi-qa-mpnet-base-cos-v1\n",
    "newer_cross_encoder = CrossEncoder('cross-encoder/ms-marco-MiniLM-L-12-v2')"
   ]
  },
  {
   "cell_type": "code",
   "execution_count": 134,
   "id": "086ca98e",
   "metadata": {},
   "outputs": [],
   "source": [
    "def eval_ranking(query, cross_encoder, top_k=3):\n",
    "    results_from_pinecone = query_from_pinecone(query, top_k=top_k)\n",
    "    sentence_combinations = [[query, result_from_pinecone['metadata']['text']] for result_from_pinecone in results_from_pinecone]\n",
    "    similarity_scores = cross_encoder.predict(sentence_combinations)\n",
    "    sim_scores_argsort = list(reversed(np.argsort(similarity_scores)))\n",
    "    re_ranked_final_result = results_from_pinecone[sim_scores_argsort[0]]\n",
    "    return results_from_pinecone[0]['id'], re_ranked_final_result['id']\n"
   ]
  },
  {
   "cell_type": "code",
   "execution_count": 135,
   "id": "d2ac3237-2d99-4109-b4ca-ac1c72fe409e",
   "metadata": {},
   "outputs": [
    {
     "data": {
      "text/plain": [
       "100"
      ]
     },
     "execution_count": 135,
     "metadata": {},
     "output_type": "execute_result"
    }
   ],
   "source": [
    "len(val_sample['question'])"
   ]
  },
  {
   "cell_type": "code",
   "execution_count": 137,
   "id": "104305e0",
   "metadata": {
    "scrolled": true
   },
   "outputs": [
    {
     "name": "stderr",
     "output_type": "stream",
     "text": [
      " 50%|█████████████████████████████████████▌                                     | 50/100 [00:26<00:25,  1.93it/s]"
     ]
    },
    {
     "name": "stdout",
     "output_type": "stream",
     "text": [
      "Step 50\n",
      "Accuracy without re-ranking: 0.88\n",
      "Accuracy with re-ranking: 0.84\n"
     ]
    },
    {
     "name": "stderr",
     "output_type": "stream",
     "text": [
      "100%|██████████████████████████████████████████████████████████████████████████| 100/100 [00:54<00:00,  1.84it/s]"
     ]
    },
    {
     "name": "stdout",
     "output_type": "stream",
     "text": [
      "Step 100\n",
      "Accuracy without re-ranking: 0.84\n",
      "Accuracy with re-ranking: 0.85\n"
     ]
    },
    {
     "name": "stderr",
     "output_type": "stream",
     "text": [
      "\n"
     ]
    }
   ],
   "source": [
    "i = 0\n",
    "print_every = 50\n",
    "predictions = []\n",
    "for question in tqdm(val_sample['question']):\n",
    "    retrieved_hash, reranked_hash = eval_ranking(question, newer_cross_encoder, top_k=3)\n",
    "    correct_hash = q_to_hash[question]\n",
    "    predictions.append((retrieved_hash == correct_hash, reranked_hash == correct_hash))\n",
    "    i += 1\n",
    "    if i % print_every == 0:\n",
    "        print(f'Step {i}')\n",
    "        raw_accuracy = sum([p[0] for p in predictions])/len(predictions)\n",
    "        reranked_accuracy = sum([p[1] for p in predictions])/len(predictions)\n",
    "\n",
    "        print(f'Accuracy without re-ranking: {raw_accuracy}')\n",
    "        print(f'Accuracy with re-ranking: {reranked_accuracy}')"
   ]
  },
  {
   "cell_type": "code",
   "execution_count": 138,
   "id": "502d5e33",
   "metadata": {},
   "outputs": [
    {
     "name": "stdout",
     "output_type": "stream",
     "text": [
      "Using cross-encoder: cross-encoder/ms-marco-MiniLM-L-12-v2\n",
      "Accuracy without re-ranking: 0.84\n",
      "Accuracy with re-ranking: 0.85\n"
     ]
    }
   ],
   "source": [
    "raw_accuracy = sum([p[0] for p in predictions])/len(predictions)\n",
    "reranked_accuracy = sum([p[1] for p in predictions])/len(predictions)\n",
    "\n",
    "print(f'Using cross-encoder: {newer_cross_encoder.config._name_or_path}')\n",
    "print(f'Accuracy without re-ranking: {raw_accuracy}')\n",
    "print(f'Accuracy with re-ranking: {reranked_accuracy}')"
   ]
  },
  {
   "cell_type": "markdown",
   "id": "ea30153c",
   "metadata": {},
   "source": [
    "# 3. CrossEncoder 파인튜닝(reranker)"
   ]
  },
  {
   "cell_type": "code",
   "execution_count": 139,
   "id": "9918c97d",
   "metadata": {},
   "outputs": [],
   "source": [
    "# https://github.com/UKPLab/sentence-transformers/blob/master/examples/training/ms_marco/train_cross-encoder_scratch.py"
   ]
  },
  {
   "cell_type": "markdown",
   "id": "70e4c84f-fa81-4aea-a79b-1bcbb54efe06",
   "metadata": {},
   "source": [
    "## 3.1 학습용 데이터 정리"
   ]
  },
  {
   "cell_type": "code",
   "execution_count": 140,
   "id": "8d8252ba-cf98-4b91-9824-0c6296e8667a",
   "metadata": {},
   "outputs": [
    {
     "data": {
      "text/plain": [
       "DatasetDict({\n",
       "    train: Dataset({\n",
       "        features: ['question', 'answer', 'passage'],\n",
       "        num_rows: 9427\n",
       "    })\n",
       "    validation: Dataset({\n",
       "        features: ['question', 'answer', 'passage'],\n",
       "        num_rows: 3270\n",
       "    })\n",
       "})"
      ]
     },
     "execution_count": 140,
     "metadata": {},
     "output_type": "execute_result"
    }
   ],
   "source": [
    "dataset"
   ]
  },
  {
   "cell_type": "code",
   "execution_count": 141,
   "id": "508edaf6",
   "metadata": {},
   "outputs": [
    {
     "data": {
      "text/plain": [
       "{'question': 'do iran and afghanistan speak the same language',\n",
       " 'answer': True,\n",
       " 'passage': 'Persian (/ˈpɜːrʒən, -ʃən/), also known by its endonym Farsi (فارسی fārsi (fɒːɾˈsiː) ( listen)), is one of the Western Iranian languages within the Indo-Iranian branch of the Indo-European language family. It is primarily spoken in Iran, Afghanistan (officially known as Dari since 1958), and Tajikistan (officially known as Tajiki since the Soviet era), and some other regions which historically were Persianate societies and considered part of Greater Iran. It is written in the Persian alphabet, a modified variant of the Arabic script, which itself evolved from the Aramaic alphabet.'}"
      ]
     },
     "execution_count": 141,
     "metadata": {},
     "output_type": "execute_result"
    }
   ],
   "source": [
    "dataset['train'][0]"
   ]
  },
  {
   "cell_type": "code",
   "execution_count": 142,
   "id": "2e7e68f1",
   "metadata": {},
   "outputs": [
    {
     "data": {
      "text/plain": [
       "{'question': 'do good samaritan laws protect those who help at an accident',\n",
       " 'answer': True,\n",
       " 'passage': \"Good Samaritan laws offer legal protection to people who give reasonable assistance to those who are, or who they believe to be, injured, ill, in peril, or otherwise incapacitated. The protection is intended to reduce bystanders' hesitation to assist, for fear of being sued or prosecuted for unintentional injury or wrongful death. An example of such a law in common-law areas of Canada: a good Samaritan doctrine is a legal principle that prevents a rescuer who has voluntarily helped a victim in distress from being successfully sued for wrongdoing. Its purpose is to keep people from being reluctant to help a stranger in need for fear of legal repercussions should they make some mistake in treatment. By contrast, a duty to rescue law requires people to offer assistance and holds those who fail to do so liable.\"}"
      ]
     },
     "execution_count": 142,
     "metadata": {},
     "output_type": "execute_result"
    }
   ],
   "source": [
    "dataset['train'][1]"
   ]
  },
  {
   "cell_type": "code",
   "execution_count": 144,
   "id": "51bf1607",
   "metadata": {},
   "outputs": [
    {
     "name": "stdout",
     "output_type": "stream",
     "text": [
      "9427\n",
      "9427\n"
     ]
    }
   ],
   "source": [
    "from sentence_transformers import InputExample, losses, evaluation\n",
    "from torch.utils.data import DataLoader\n",
    "from random import shuffle\n",
    "\n",
    "shuffled_training_passages = dataset['train']['passage'].copy()\n",
    "shuffle(shuffled_training_passages)\n",
    "\n",
    "\n",
    "train_positive_samples = [\n",
    "  InputExample(texts=[d['question'], d['passage']], label=1) for d in dataset['train']\n",
    "]\n",
    "\n",
    "# 부정적인 예제 추가\n",
    "train_negative_samples = [\n",
    "  InputExample(texts=[d['question'], shuffled_training_passages[i]], label=0) for i, d in enumerate(dataset['train'])\n",
    "]\n",
    "\n",
    "print(len(train_positive_samples))\n",
    "print(len(train_negative_samples))\n",
    "\n",
    "\n",
    "# 내 데이터에 과적합의 위험이 있지만 원할 수도 있습니다. \n",
    "# 충분한 입력 및 출력 유효성 검사와 결합하면 내 데이터에 과적합한 모델을 사용하여 실행 가능한 제품을 만들 수 있습니다."
   ]
  },
  {
   "cell_type": "code",
   "execution_count": 145,
   "id": "23dcb20c-786a-45ed-9f85-971aece6e68e",
   "metadata": {},
   "outputs": [
    {
     "name": "stdout",
     "output_type": "stream",
     "text": [
      "18854\n"
     ]
    }
   ],
   "source": [
    "train_samples = train_positive_samples + train_negative_samples\n",
    "shuffle(train_samples)\n",
    "print(len(train_samples))"
   ]
  },
  {
   "cell_type": "markdown",
   "id": "77a62c65-e62d-4abb-8161-b28f182e703a",
   "metadata": {},
   "source": [
    "## 3.2 파인튜닝 환경 구성"
   ]
  },
  {
   "cell_type": "code",
   "execution_count": 146,
   "id": "902d5781-810c-4ff3-91c7-48c28c36396f",
   "metadata": {},
   "outputs": [],
   "source": [
    "import torch"
   ]
  },
  {
   "cell_type": "code",
   "execution_count": 147,
   "id": "6b58d2d0",
   "metadata": {
    "scrolled": true
   },
   "outputs": [],
   "source": [
    "device = torch.device('cpu')\n",
    "# device = torch.device('cuda')  # NVIDIA GPU\n",
    "\n",
    "model = CrossEncoder('cross-encoder/ms-marco-MiniLM-L-12-v2', num_labels=1, device=device)"
   ]
  },
  {
   "cell_type": "code",
   "execution_count": 148,
   "id": "8e7eaa40",
   "metadata": {},
   "outputs": [
    {
     "data": {
      "text/plain": [
       "{'guid': '',\n",
       " 'texts': ['is tim mcgraw in the movie country strong',\n",
       "  \"Country Strong (originally titled Love Don't Let Me Down) is a 2010 drama film starring Gwyneth Paltrow, Tim McGraw, Garrett Hedlund, and Leighton Meester. The film, about an emotionally unstable country music star who attempts to resurrect her career, was directed and written by American filmmaker Shana Feste. It premiered in Nashville, Tennessee on November 8, 2010, and had a wide release in the United States on January 7, 2011. This is the second film in which McGraw and Hedlund have worked together, the first being Friday Night Lights in 2004.\"],\n",
       " 'label': 1}"
      ]
     },
     "execution_count": 148,
     "metadata": {},
     "output_type": "execute_result"
    }
   ],
   "source": [
    "train_samples[0].__dict__"
   ]
  },
  {
   "cell_type": "code",
   "execution_count": 149,
   "id": "2ede1b89",
   "metadata": {},
   "outputs": [
    {
     "data": {
      "text/plain": [
       "0.99996674"
      ]
     },
     "execution_count": 149,
     "metadata": {},
     "output_type": "execute_result"
    }
   ],
   "source": [
    "model.predict(train_samples[0].texts, activation_fct=nn.Sigmoid())"
   ]
  },
  {
   "cell_type": "code",
   "execution_count": 150,
   "id": "bc2bc9d1",
   "metadata": {},
   "outputs": [
    {
     "name": "stdout",
     "output_type": "stream",
     "text": [
      "Warmup-steps: 5\n"
     ]
    }
   ],
   "source": [
    "from sentence_transformers.cross_encoder.evaluation import CECorrelationEvaluator, CEBinaryClassificationEvaluator\n",
    "import math\n",
    "import torch\n",
    "from random import sample\n",
    "\n",
    "logger.setLevel(logging.DEBUG)  # just to get some logs\n",
    "\n",
    "num_epochs = 2\n",
    "\n",
    "model_save_path = './fine_tuned_ir_cross_encoder'\n",
    "\n",
    "train_samples = sample(train_samples, 1000)\n",
    "\n",
    "# int(len(train_samples)*.8)\n",
    "train_dataloader = DataLoader(train_samples[:int(len(train_samples)*.8)], shuffle=True, batch_size=32)\n",
    "\n",
    "# 훈련 성능을 위한 평가자\n",
    "evaluator = CEBinaryClassificationEvaluator.from_input_examples(train_samples[-int(len(train_samples)*.8):], name='test')\n",
    "\n",
    "# 워밍업 단계에 대한 경험 법칙\n",
    "warmup_steps = math.ceil(len(train_dataloader) * num_epochs * 0.1)  # 워밍업을 위한 훈련 데이터의 10%\n",
    "print(f\"Warmup-steps: {warmup_steps}\")"
   ]
  },
  {
   "cell_type": "code",
   "execution_count": 151,
   "id": "a677caf1-8f85-4aa9-9531-bd2b6161b102",
   "metadata": {},
   "outputs": [
    {
     "data": {
      "text/plain": [
       "1000"
      ]
     },
     "execution_count": 151,
     "metadata": {},
     "output_type": "execute_result"
    }
   ],
   "source": [
    "len(train_samples)"
   ]
  },
  {
   "cell_type": "markdown",
   "id": "39d9eb73-9af8-408e-b6b6-aa7a15060120",
   "metadata": {},
   "source": [
    "## 3.3 트레이닝 실행"
   ]
  },
  {
   "cell_type": "code",
   "execution_count": 152,
   "id": "c20f587f-cea8-40a3-8e5d-cb8257d22912",
   "metadata": {},
   "outputs": [
    {
     "name": "stdout",
     "output_type": "stream",
     "text": [
      "0.9995924036836289\n"
     ]
    }
   ],
   "source": [
    "# 파인튜닝 이전에 모델을 로드하고 테스트 세트에서 평가합니다.\n",
    "print(evaluator(model))"
   ]
  },
  {
   "cell_type": "markdown",
   "id": "5b515d35-0bb9-479e-96c5-332eead553f3",
   "metadata": {},
   "source": [
    "해당 코드는 모델 학습을 수행하는 부분입니다. 주요 내용을 설명하겠습니다.\n",
    "\n",
    "1. `model.fit()` 함수를 사용하여 모델 학습을 진행합니다. 이 함수는 `sentence-transformers` 라이브러리에서 제공하는 함수로, 모델 학습에 필요한 여러 매개변수를 설정할 수 있습니다.\n",
    "\n",
    "2. `train_dataloader` 매개변수는 학습 데이터를 배치 단위로 제공하는 DataLoader 객체입니다. 이 DataLoader는 `sentence-transformers` 라이브러리의 `InputExample` 클래스를 사용하여 생성됩니다.\n",
    "\n",
    "3. `loss_fct` 매개변수는 학습 시 사용할 손실 함수(loss function)를 지정합니다. 여기서는 PyTorch의 `nn.CrossEntropyLoss()`를 사용하고 있습니다. 이는 다중 클래스 분류 문제에 주로 사용되는 손실 함수입니다.\n",
    "\n",
    "4. `activation_fct` 매개변수는 모델의 출력에 적용할 활성화 함수(activation function)를 지정합니다. 여기서는 `nn.Sigmoid()`를 사용하고 있습니다. Sigmoid 함수는 출력 값을 0과 1 사이로 압축하여 확률 해석이 가능하게 합니다.\n",
    "\n",
    "5. `evaluator` 매개변수는 학습 중 모델의 성능을 평가하기 위한 평가 객체를 지정합니다. 이 객체는 `sentence-transformers` 라이브러리에서 제공하는 평가 클래스 중 하나를 사용하거나 사용자 정의 평가 클래스를 사용할 수 있습니다.\n",
    "\n",
    "6. `epochs` 매개변수는 학습을 반복할 에폭(epoch) 수를 지정합니다. 에폭은 전체 학습 데이터를 한 번 순회하는 것을 의미합니다.\n",
    "\n",
    "7. `warmup_steps` 매개변수는 학습률 warm-up을 적용할 스텝 수를 지정합니다. Warm-up은 학습 초기에 학습률을 점진적으로 증가시키는 기법으로, 모델이 안정적으로 학습할 수 있도록 도와줍니다.\n",
    "\n",
    "8. `output_path` 매개변수는 학습된 모델을 저장할 경로를 지정합니다.\n",
    "\n",
    "9. `use_amp` 매개변수는 Automatic Mixed Precision (AMP)을 사용할지 여부를 지정합니다. AMP는 GPU 사용 시 메모리 사용량을 줄이고 학습 속도를 높이는 기법입니다. 여기서는 GPU 사용 시 `True`로, CPU 사용 시 `False`로 설정되어 있습니다.\n",
    "\n",
    "이 코드는 지정된 hyperparameter를 사용하여 모델을 학습하고, 학습된 모델을 지정된 경로에 저장합니다. 학습 과정에서는 지정된 평가 객체를 사용하여 모델의 성능을 평가합니다."
   ]
  },
  {
   "cell_type": "code",
   "execution_count": 153,
   "id": "0de4dbc8",
   "metadata": {},
   "outputs": [
    {
     "data": {
      "application/vnd.jupyter.widget-view+json": {
       "model_id": "02fadb0aa7b44fb1a2d4b16b4a325653",
       "version_major": 2,
       "version_minor": 0
      },
      "text/plain": [
       "Epoch:   0%|          | 0/2 [00:00<?, ?it/s]"
      ]
     },
     "metadata": {},
     "output_type": "display_data"
    },
    {
     "data": {
      "application/vnd.jupyter.widget-view+json": {
       "model_id": "a5d5f4dafbdc4b5f9b65c90173fa2f5d",
       "version_major": 2,
       "version_minor": 0
      },
      "text/plain": [
       "Iteration:   0%|          | 0/25 [00:00<?, ?it/s]"
      ]
     },
     "metadata": {},
     "output_type": "display_data"
    },
    {
     "data": {
      "application/vnd.jupyter.widget-view+json": {
       "model_id": "8e568e511eb44a49954dba8d9d6334aa",
       "version_major": 2,
       "version_minor": 0
      },
      "text/plain": [
       "Iteration:   0%|          | 0/25 [00:00<?, ?it/s]"
      ]
     },
     "metadata": {},
     "output_type": "display_data"
    }
   ],
   "source": [
    "model.fit(\n",
    "    train_dataloader=train_dataloader,\n",
    "    # loss_fct=losses.nn.CrossEntropyLoss(),\n",
    "    loss_fct= nn.CrossEntropyLoss(),\n",
    "    activation_fct=nn.Sigmoid(),\n",
    "    evaluator=evaluator,\n",
    "    epochs=num_epochs,\n",
    "    warmup_steps=warmup_steps,\n",
    "    output_path=model_save_path,\n",
    "    # use_amp=True, # GPU 사용시\n",
    "    use_amp=False,  # CPU 사용시\n",
    ")"
   ]
  },
  {
   "cell_type": "code",
   "execution_count": 154,
   "id": "4c7d8b39-c2e2-4ed3-8931-9ac1c7d0bbe2",
   "metadata": {},
   "outputs": [
    {
     "name": "stdout",
     "output_type": "stream",
     "text": [
      "0.9999474432867325\n"
     ]
    }
   ],
   "source": [
    "# 파인튜닝된 모델을 로드하고 테스트 세트에서 평가하기\n",
    "print(evaluator(model))"
   ]
  },
  {
   "cell_type": "markdown",
   "id": "f3fe1d4d-5ae7-431e-be81-72c987b3cd6f",
   "metadata": {},
   "source": [
    "## 3.4 파인튜닝 성능 확인"
   ]
  },
  {
   "cell_type": "code",
   "execution_count": 155,
   "id": "8ca59b71",
   "metadata": {},
   "outputs": [],
   "source": [
    "# 오픈 소스에서도 더 미세 조정된 버전을 실행하여 일치시킬 수 있을까요?\n",
    "# 여기서 더 잘 작동하는지에 따라 다릅니다."
   ]
  },
  {
   "cell_type": "code",
   "execution_count": 156,
   "id": "2f747537",
   "metadata": {},
   "outputs": [
    {
     "data": {
      "application/vnd.jupyter.widget-view+json": {
       "model_id": "9f858bc800fd4e5184b797170d34f76c",
       "version_major": 2,
       "version_minor": 0
      },
      "text/plain": [
       "Batches:   0%|          | 0/1 [00:00<?, ?it/s]"
      ]
     },
     "metadata": {},
     "output_type": "display_data"
    },
    {
     "name": "stdout",
     "output_type": "stream",
     "text": [
      "0.9975732\n"
     ]
    },
    {
     "data": {
      "application/vnd.jupyter.widget-view+json": {
       "model_id": "caff820738ab440fbb4669b3079e0d38",
       "version_major": 2,
       "version_minor": 0
      },
      "text/plain": [
       "Batches:   0%|          | 0/1 [00:00<?, ?it/s]"
      ]
     },
     "metadata": {},
     "output_type": "display_data"
    },
    {
     "name": "stdout",
     "output_type": "stream",
     "text": [
      "6.018771\n"
     ]
    }
   ],
   "source": [
    "finetuned = CrossEncoder(model_save_path)\n",
    "\n",
    "print(finetuned.predict(['hello', 'hi'], activation_fct=nn.Sigmoid()))\n",
    "print(finetuned.predict(['hello', 'hi'], activation_fct=nn.Identity()))"
   ]
  },
  {
   "cell_type": "code",
   "execution_count": 157,
   "id": "94cf736e",
   "metadata": {
    "scrolled": true
   },
   "outputs": [
    {
     "name": "stderr",
     "output_type": "stream",
     "text": [
      " 50%|█████████████████████████████████████▌                                     | 50/100 [00:42<00:24,  2.03it/s]"
     ]
    },
    {
     "name": "stdout",
     "output_type": "stream",
     "text": [
      "Step 50\n",
      "Accuracy without re-ranking: 0.88\n",
      "Accuracy with re-ranking: 0.84\n"
     ]
    },
    {
     "name": "stderr",
     "output_type": "stream",
     "text": [
      "100%|██████████████████████████████████████████████████████████████████████████| 100/100 [01:08<00:00,  1.47it/s]"
     ]
    },
    {
     "name": "stdout",
     "output_type": "stream",
     "text": [
      "Step 100\n",
      "Accuracy without re-ranking: 0.84\n",
      "Accuracy with re-ranking: 0.83\n"
     ]
    },
    {
     "name": "stderr",
     "output_type": "stream",
     "text": [
      "\n"
     ]
    }
   ],
   "source": [
    "# 미세 조정된 크로스 인코더 사용해보기\n",
    "logger.setLevel(logging.CRITICAL)  # just to suppress some logs\n",
    "from tqdm import tqdm\n",
    "\n",
    "i = 0\n",
    "print_every = 50\n",
    "predictions = []\n",
    "for question in tqdm(val_sample['question']):\n",
    "    retrieved_hash, reranked_hash = eval_ranking(question, finetuned, top_k=3)\n",
    "    correct_hash = q_to_hash[question]\n",
    "    predictions.append((retrieved_hash == correct_hash, reranked_hash == correct_hash))\n",
    "    i += 1\n",
    "    if i % print_every == 0:\n",
    "        print(f'Step {i}')\n",
    "        raw_accuracy = sum([p[0] for p in predictions])/len(predictions)\n",
    "        reranked_accuracy = sum([p[1] for p in predictions])/len(predictions)\n",
    "\n",
    "        print(f'Accuracy without re-ranking: {raw_accuracy}')\n",
    "        print(f'Accuracy with re-ranking: {reranked_accuracy}')"
   ]
  },
  {
   "cell_type": "code",
   "execution_count": 158,
   "id": "2b6e0a9e",
   "metadata": {},
   "outputs": [
    {
     "name": "stdout",
     "output_type": "stream",
     "text": [
      "Using cross-encoder: ./fine_tuned_ir_cross_encoder\n",
      "Accuracy without re-ranking: 0.84\n",
      "Accuracy with re-ranking: 0.83\n"
     ]
    }
   ],
   "source": [
    "# 재랭킹은 2번의 에포크 이후 약간 개선되었습니다.\n",
    "raw_accuracy = sum([p[0] for p in predictions])/len(predictions)\n",
    "reranked_accuracy = sum([p[1] for p in predictions])/len(predictions)\n",
    "\n",
    "print(f'Using cross-encoder: {finetuned.config._name_or_path}')\n",
    "print(f'Accuracy without re-ranking: {raw_accuracy}')\n",
    "print(f'Accuracy with re-ranking: {reranked_accuracy}')\n"
   ]
  },
  {
   "cell_type": "code",
   "execution_count": 159,
   "id": "2535cbae",
   "metadata": {},
   "outputs": [],
   "source": [
    "# 필요시 \n",
    "# pinecone.delete_index(INDEX_NAME)  # delete the index"
   ]
  },
  {
   "cell_type": "markdown",
   "id": "3f14809e",
   "metadata": {},
   "source": [
    "# 4. 오픈소스 임베딩 모델"
   ]
  },
  {
   "cell_type": "markdown",
   "id": "9ca2e778-6922-4fc2-a714-789c52bf4ed0",
   "metadata": {},
   "source": [
    "## 4.1 모델 초기화"
   ]
  },
  {
   "cell_type": "code",
   "execution_count": 160,
   "id": "99138055",
   "metadata": {},
   "outputs": [
    {
     "data": {
      "application/vnd.jupyter.widget-view+json": {
       "model_id": "d488da333e784a1188661c0523e7a728",
       "version_major": 2,
       "version_minor": 0
      },
      "text/plain": [
       "Batches:   0%|          | 0/1 [00:00<?, ?it/s]"
      ]
     },
     "metadata": {},
     "output_type": "display_data"
    },
    {
     "data": {
      "text/plain": [
       "(2, 768)"
      ]
     },
     "execution_count": 160,
     "metadata": {},
     "output_type": "execute_result"
    }
   ],
   "source": [
    "from sentence_transformers import SentenceTransformer\n",
    "\n",
    "model = SentenceTransformer('sentence-transformers/multi-qa-mpnet-base-cos-v1')\n",
    "\n",
    "docs = [\"Around 9 Million people live in London\", \"London is known for its financial district\"]\n",
    "\n",
    "doc_emb = model.encode(docs, batch_size=32, show_progress_bar=True)\n",
    "\n",
    "doc_emb.shape #  == ('2, 768')"
   ]
  },
  {
   "cell_type": "code",
   "execution_count": 161,
   "id": "a8db52af-6acd-4ec1-9d9f-fbe538e497a5",
   "metadata": {},
   "outputs": [
    {
     "data": {
      "text/plain": [
       "3270"
      ]
     },
     "execution_count": 161,
     "metadata": {},
     "output_type": "execute_result"
    }
   ],
   "source": [
    "len(dataset['validation']['passage'])"
   ]
  },
  {
   "cell_type": "markdown",
   "id": "71694c94-bf23-4934-a788-10bf04e85223",
   "metadata": {},
   "source": [
    "## 4.2 문서 임베딩\n",
    "\n",
    "https://huggingface.co/sentence-transformers/multi-qa-mpnet-base-cos-v1 참고"
   ]
  },
  {
   "cell_type": "code",
   "execution_count": 162,
   "id": "be37c48b",
   "metadata": {},
   "outputs": [
    {
     "data": {
      "application/vnd.jupyter.widget-view+json": {
       "model_id": "62d0f90cb3394a13a89381d526c47b71",
       "version_major": 2,
       "version_minor": 0
      },
      "text/plain": [
       "Batches:   0%|          | 0/103 [00:00<?, ?it/s]"
      ]
     },
     "metadata": {},
     "output_type": "display_data"
    }
   ],
   "source": [
    "# 문서 임베딩\n",
    "docs = dataset['validation']['passage']\n",
    "doc_emb = model.encode(docs, batch_size=32, show_progress_bar=True)"
   ]
  },
  {
   "cell_type": "markdown",
   "id": "fa4037ac-88c0-4279-81e9-23164129129a",
   "metadata": {},
   "source": [
    "## 4.3 OpenAI 임베딩 검색 (성능 비교용)"
   ]
  },
  {
   "cell_type": "code",
   "execution_count": 163,
   "id": "ae0afee7",
   "metadata": {},
   "outputs": [
    {
     "name": "stdout",
     "output_type": "stream",
     "text": [
      "can i use passport card to fly domestically\n",
      "Query: can i use passport card to fly domestically\n",
      "Pinecone Result==> b33e191154d815b30dcd9c7124ba5b07\t0.86\tThe U.S. Passport Card is a limited travel documen\n",
      "Pinecone Result==> 057b0a3b0b56c0ff95cd898752f3bb80\t0.86\tThe passport card is a limited travel document, va\n",
      "Pinecone Result==> 21c9ab226877a30230bd1746a6fdd272\t0.85\tThe U.S. Passport Card is the de facto national id\n",
      "Document ID (Hash)\t\tRetrieval Score\tCE Score\tText\n",
      "Reranked Result==> 21c9ab226877a30230bd1746a6fdd272\t0.85\t0.71\tThe U.S. Passport Card is the de facto national id\n",
      "Reranked Result==> b33e191154d815b30dcd9c7124ba5b07\t0.86\t0.70\tThe U.S. Passport Card is a limited travel documen\n",
      "Reranked Result==> 057b0a3b0b56c0ff95cd898752f3bb80\t0.86\t0.68\tThe passport card is a limited travel document, va\n"
     ]
    }
   ],
   "source": [
    "from random import sample\n",
    "\n",
    "query = sample(dataset['validation']['question'], 1)[0]\n",
    "print(query)\n",
    "final_results = get_results_from_pinecone(query, top_k=3, re_rank=True)"
   ]
  },
  {
   "cell_type": "markdown",
   "id": "42c1711e-244f-4952-b764-545d72755a1f",
   "metadata": {},
   "source": [
    "## 4.4 오픈소스 모델 임베딩 검색"
   ]
  },
  {
   "cell_type": "code",
   "execution_count": 164,
   "id": "45c71fb0",
   "metadata": {},
   "outputs": [
    {
     "name": "stdout",
     "output_type": "stream",
     "text": [
      "0.7097598910331726 The passport card is a limited travel document, valid only for land and sea travel within North America (Canada, the United States, Mexico, the Caribbean, and Bermuda). It cannot be used for international air travel. The Department of State indicates that this is because ``designing a card format passport for wide use, including by air travelers, would inadvertently undercut the broad based international effort to strengthen civil aviation security and travel document specifications to address the post 9/11 threat environment''.\n",
      "0.6742514371871948 The U.S. Passport Card is a limited travel document issued by the federal government of the United States in the size of a credit card. It may often be used as an identity card for purposes other than international travel, such as domestic air travel. Like a U.S. passport book, the passport card is only issued to U.S. citizens and U.S. nationals exclusively by the U.S. Department of State and is compliant to the standards for identity documents set by the REAL ID Act and can be used as proof of U.S. citizenship. The passport card allows cardholders to travel by domestic air flights within the United States and to enter and exit the United States via land and sea between member states of the Western Hemisphere Travel Initiative (WHTI). However, the passport card cannot be used for international air travel.\n",
      "0.6463684439659119 The U.S. Passport Card is the de facto national identification card of the United States and a limited travel document issued by the federal government of the United States in the size of a credit card. Like a U.S. passport book, the passport card is only issued to U.S. citizens and U.S. nationals exclusively by the U.S. Department of State and is compliant to the standards for identity documents set by the REAL ID Act and can be used as proof of U.S. citizenship. The passport card's intended primary purpose is for identification and to allow cardholders to travel by domestic air flights within the United States and to enter and exit the United States via land and sea between member states of the Western Hemisphere Travel Initiative (WHTI). However, the passport card cannot be used for international air travel.\n"
     ]
    }
   ],
   "source": [
    "from sentence_transformers import util\n",
    "query_emb = model.encode(query)\n",
    "\n",
    "#쿼리와 모든 문서 임베딩 사이의 도트 점수를 계산합니다.\n",
    "scores = util.dot_score(query_emb, doc_emb)[0].cpu().tolist()\n",
    "\n",
    "#문서와 점수 결합\n",
    "doc_score_pairs = list(zip(docs, scores))\n",
    "\n",
    "#점수에 따른 내림차순 정렬\n",
    "doc_score_pairs = sorted(doc_score_pairs, key=lambda x: x[1], reverse=True)\n",
    "\n",
    "#구절 및 점수 출력\n",
    "for doc, score in doc_score_pairs[:3]:\n",
    "    print(score, doc)"
   ]
  },
  {
   "cell_type": "markdown",
   "id": "082da8ab-f5e4-43a9-bc09-178d26ab5756",
   "metadata": {},
   "source": [
    "## 4.5 오픈소스 임베딩 모델을 이용한 데이터 조회의 정확도 검증"
   ]
  },
  {
   "cell_type": "code",
   "execution_count": 165,
   "id": "93280be8",
   "metadata": {},
   "outputs": [],
   "source": [
    "logger.setLevel(logging.CRITICAL)  # 일부 로그만 출력\n",
    "\n",
    "def eval_ranking_open_source(query, cross_encoder, top_k=3):\n",
    "    query_emb = model.encode(query)\n",
    "\n",
    "    #쿼리와 모든 문서 임베딩 사이의 도트 점수를 계산합니다.\n",
    "    scores = util.dot_score(query_emb, doc_emb)[0].cpu().tolist()\n",
    "\n",
    "    #문서와 점수 결합\n",
    "    doc_score_pairs = list(zip(docs, scores))\n",
    "\n",
    "    #점수에 따른 내림차순 정렬\n",
    "    doc_score_pairs = sorted(doc_score_pairs, key=lambda x: x[1], reverse=True)[:top_k]\n",
    "\n",
    "    retrieved_hash = my_hash(doc_score_pairs[0][0])\n",
    "    if cross_encoder:\n",
    "        sentence_combinations = [[query, doc_score_pair[0]] for doc_score_pair in doc_score_pairs]\n",
    "        similarity_scores = cross_encoder.predict(sentence_combinations)\n",
    "        sim_scores_argsort = list(reversed(np.argsort(similarity_scores)))\n",
    "        reranked_hash = my_hash(doc_score_pairs[sim_scores_argsort[0]][0])\n",
    "    else:\n",
    "        reranked_hash = None\n",
    "    return retrieved_hash, reranked_hash\n"
   ]
  },
  {
   "cell_type": "code",
   "execution_count": 166,
   "id": "06f198cd",
   "metadata": {},
   "outputs": [
    {
     "data": {
      "text/plain": [
       "('057b0a3b0b56c0ff95cd898752f3bb80', 'b33e191154d815b30dcd9c7124ba5b07')"
      ]
     },
     "execution_count": 166,
     "metadata": {},
     "output_type": "execute_result"
    }
   ],
   "source": [
    "eval_ranking_open_source(query, finetuned)"
   ]
  },
  {
   "cell_type": "code",
   "execution_count": 167,
   "id": "02cd9c46-0695-483c-a781-63a600d4d559",
   "metadata": {},
   "outputs": [
    {
     "data": {
      "text/plain": [
       "100"
      ]
     },
     "execution_count": 167,
     "metadata": {},
     "output_type": "execute_result"
    }
   ],
   "source": [
    "len(val_sample['question'])"
   ]
  },
  {
   "cell_type": "code",
   "execution_count": 168,
   "id": "8faf0c1a",
   "metadata": {
    "scrolled": true
   },
   "outputs": [
    {
     "name": "stderr",
     "output_type": "stream",
     "text": [
      " 52%|███████████████████████████████████████                                    | 52/100 [00:20<00:06,  7.46it/s]"
     ]
    },
    {
     "name": "stdout",
     "output_type": "stream",
     "text": [
      "Step 50\n",
      "Accuracy without re-ranking: 0.82\n",
      "Accuracy with re-ranking: 0.84\n"
     ]
    },
    {
     "name": "stderr",
     "output_type": "stream",
     "text": [
      "100%|██████████████████████████████████████████████████████████████████████████| 100/100 [00:31<00:00,  3.16it/s]"
     ]
    },
    {
     "name": "stdout",
     "output_type": "stream",
     "text": [
      "Step 100\n",
      "Accuracy without re-ranking: 0.83\n",
      "Accuracy with re-ranking: 0.83\n"
     ]
    },
    {
     "name": "stderr",
     "output_type": "stream",
     "text": [
      "\n"
     ]
    }
   ],
   "source": [
    "logger.setLevel(logging.CRITICAL)\n",
    "\n",
    "i = 0\n",
    "print_every = 50\n",
    "predictions = []\n",
    "for question in tqdm(val_sample['question']):\n",
    "    retrieved_hash, reranked_hash = eval_ranking_open_source(question, finetuned, top_k=3)\n",
    "    correct_hash = q_to_hash[question]\n",
    "    predictions.append((retrieved_hash == correct_hash, reranked_hash == correct_hash))\n",
    "    i += 1\n",
    "    if i % print_every == 0:\n",
    "        print(f'Step {i}')\n",
    "        raw_accuracy = sum([p[0] for p in predictions])/len(predictions)\n",
    "        reranked_accuracy = sum([p[1] for p in predictions])/len(predictions)\n",
    "\n",
    "        print(f'Accuracy without re-ranking: {raw_accuracy}')\n",
    "        print(f'Accuracy with re-ranking: {reranked_accuracy}')\n"
   ]
  },
  {
   "cell_type": "code",
   "execution_count": 169,
   "id": "6eaeb9b4",
   "metadata": {},
   "outputs": [
    {
     "name": "stdout",
     "output_type": "stream",
     "text": [
      "Using cross-encoder: ./fine_tuned_ir_cross_encoder\n",
      "Accuracy without re-ranking: 0.83\n",
      "Accuracy with re-ranking: 0.83\n"
     ]
    }
   ],
   "source": [
    "raw_accuracy = sum([p[0] for p in predictions])/len(predictions)\n",
    "reranked_accuracy = sum([p[1] for p in predictions])/len(predictions)\n",
    "\n",
    "print(f'Using cross-encoder: {finetuned.config._name_or_path}')\n",
    "print(f'Accuracy without re-ranking: {raw_accuracy}')\n",
    "print(f'Accuracy with re-ranking: {reranked_accuracy}')\n"
   ]
  },
  {
   "cell_type": "markdown",
   "id": "5636b16b-8188-4fed-89d0-167b59297c0f",
   "metadata": {},
   "source": [
    "# 5. 한국어 BoolQ를 이용한 한국어 임베딩 성능 비교\n",
    "## 5.1 초기화"
   ]
  },
  {
   "cell_type": "code",
   "execution_count": 170,
   "id": "e3594c69-2dfb-442e-ba17-44c73f03e9c3",
   "metadata": {},
   "outputs": [
    {
     "data": {
      "application/vnd.jupyter.widget-view+json": {
       "model_id": "6f333796c42f47949e253c5b49333044",
       "version_major": 2,
       "version_minor": 0
      },
      "text/plain": [
       "Downloading readme:   0%|          | 0.00/7.20k [00:00<?, ?B/s]"
      ]
     },
     "metadata": {},
     "output_type": "display_data"
    },
    {
     "name": "stderr",
     "output_type": "stream",
     "text": [
      "Downloading data: 100%|█████████████████████████████████████████████████████| 3.70M/3.70M [00:01<00:00, 2.72MB/s]\n",
      "Downloading data: 100%|█████████████████████████████████████████████████████| 1.41M/1.41M [00:00<00:00, 1.46MB/s]\n",
      "Downloading data: 100%|████████████████████████████████████████████████████████| 692k/692k [00:00<00:00, 896kB/s]\n"
     ]
    },
    {
     "data": {
      "application/vnd.jupyter.widget-view+json": {
       "model_id": "7bc594a1d85c486b8885ea8c84771d2d",
       "version_major": 2,
       "version_minor": 0
      },
      "text/plain": [
       "Generating train split: 0 examples [00:00, ? examples/s]"
      ]
     },
     "metadata": {},
     "output_type": "display_data"
    },
    {
     "data": {
      "application/vnd.jupyter.widget-view+json": {
       "model_id": "13790e12af6246cc819dd91b69e1640f",
       "version_major": 2,
       "version_minor": 0
      },
      "text/plain": [
       "Generating test split: 0 examples [00:00, ? examples/s]"
      ]
     },
     "metadata": {},
     "output_type": "display_data"
    },
    {
     "data": {
      "application/vnd.jupyter.widget-view+json": {
       "model_id": "d8e840bc9bd54c36a5ca42e88d73b5e4",
       "version_major": 2,
       "version_minor": 0
      },
      "text/plain": [
       "Generating validation split: 0 examples [00:00, ? examples/s]"
      ]
     },
     "metadata": {},
     "output_type": "display_data"
    }
   ],
   "source": [
    "from datasets import load_dataset\n",
    "from evaluate import load\n",
    "\n",
    "dataset_ko = load_dataset(\"skt/kobest_v1\", \"boolq\")"
   ]
  },
  {
   "cell_type": "code",
   "execution_count": 171,
   "id": "8aea2615-16c6-4ea0-a6b6-5d531867360d",
   "metadata": {},
   "outputs": [
    {
     "data": {
      "text/plain": [
       "DatasetDict({\n",
       "    train: Dataset({\n",
       "        features: ['paragraph', 'question', 'label'],\n",
       "        num_rows: 3665\n",
       "    })\n",
       "    test: Dataset({\n",
       "        features: ['paragraph', 'question', 'label'],\n",
       "        num_rows: 1404\n",
       "    })\n",
       "    validation: Dataset({\n",
       "        features: ['paragraph', 'question', 'label'],\n",
       "        num_rows: 700\n",
       "    })\n",
       "})"
      ]
     },
     "execution_count": 171,
     "metadata": {},
     "output_type": "execute_result"
    }
   ],
   "source": [
    "dataset_ko"
   ]
  },
  {
   "cell_type": "code",
   "execution_count": 172,
   "id": "529dd209-6007-40d4-b0f1-da60ccc616b9",
   "metadata": {},
   "outputs": [],
   "source": [
    "from datasets import concatenate_datasets\n",
    "\n",
    "combined_dataset = concatenate_datasets([dataset_ko['train'], dataset_ko['validation'], dataset_ko['test']])"
   ]
  },
  {
   "cell_type": "code",
   "execution_count": 173,
   "id": "ae5353b6-7a7b-4d96-8815-807f29274796",
   "metadata": {},
   "outputs": [
    {
     "data": {
      "text/plain": [
       "5769"
      ]
     },
     "execution_count": 173,
     "metadata": {},
     "output_type": "execute_result"
    }
   ],
   "source": [
    "len(combined_dataset)"
   ]
  },
  {
   "cell_type": "code",
   "execution_count": 174,
   "id": "8d1d1eb6-76a6-44f9-bf09-8643d3e2bf44",
   "metadata": {},
   "outputs": [
    {
     "data": {
      "text/plain": [
       "{'paragraph': '로마 시대의 오리엔트의 범위는 제국 내에 동부 지방은 물론 제국 외부에 있는 다른 국가에 광범위하게 쓰이는 단어였다. 그 후에 로마 제국이 분열되고 서유럽이 그들의 중심적인 세계를 형성하는 과정에서 자신들을 옥시덴트(occident), 서방이라 부르며 오리엔트는 이와 대조되는 문화를 가진 동방세계라는 뜻이 부가되어, 인도와 중국, 일본을 이루는 광범위한 지역을 지칭하는 단어가 되었다.',\n",
       " 'question': '오리엔트는 인도와 중국, 일본을 이루는 광범위한 지역을 지칭하는 단어로 쓰인다.',\n",
       " 'label': 1}"
      ]
     },
     "execution_count": 174,
     "metadata": {},
     "output_type": "execute_result"
    }
   ],
   "source": [
    "combined_dataset[0]"
   ]
  },
  {
   "cell_type": "code",
   "execution_count": 176,
   "id": "66e52aee-bf1b-404b-a691-5e728563ccf7",
   "metadata": {},
   "outputs": [],
   "source": [
    "cross_encoder_1 = CrossEncoder('jeffwan/mmarco-mMiniLMv2-L12-H384-v1')\n",
    "cross_encoder_2 = CrossEncoder('bongsoo/klue-cross-encoder-v1')  # 한국어 지원 모델\n",
    "cross_encoder_3 = CrossEncoder('cross-encoder/ms-marco-MiniLM-L-12-v2')\n",
    "model_save_path = './fine_tuned_ir_cross_encoder'\n",
    "cross_encoder_4 = CrossEncoder(model_save_path)"
   ]
  },
  {
   "cell_type": "code",
   "execution_count": 177,
   "id": "43e015da-20d2-4280-b0c3-b85518b8c37c",
   "metadata": {},
   "outputs": [],
   "source": [
    "def eval_ranking_4(query, cross_encoder_1, cross_encoder_2, cross_encoder_3, cross_encoder_4, top_k=3):\n",
    "    results_from_pinecone = query_from_pinecone(query, top_k=top_k)\n",
    "    sentence_combinations = [[query, result_from_pinecone['metadata']['text']] for result_from_pinecone in results_from_pinecone]\n",
    "\n",
    "    similarity_scores_1 = cross_encoder_1.predict(sentence_combinations)\n",
    "    sim_scores_argsort_1 = list(reversed(np.argsort(similarity_scores_1)))\n",
    "    re_ranked_final_result_1 = results_from_pinecone[sim_scores_argsort_1[0]]\n",
    "    \n",
    "    similarity_scores_2 = cross_encoder_2.predict(sentence_combinations)\n",
    "    sim_scores_argsort_2 = list(reversed(np.argsort(similarity_scores_2)))\n",
    "    re_ranked_final_result_2 = results_from_pinecone[sim_scores_argsort_2[0]]\n",
    "    \n",
    "    similarity_scores_3 = cross_encoder_3.predict(sentence_combinations)\n",
    "    sim_scores_argsort_3 = list(reversed(np.argsort(similarity_scores_3)))\n",
    "    re_ranked_final_result_3 = results_from_pinecone[sim_scores_argsort_3[0]]\n",
    "    \n",
    "    similarity_scores_4 = cross_encoder_4.predict(sentence_combinations)\n",
    "    sim_scores_argsort_4 = list(reversed(np.argsort(similarity_scores_4)))\n",
    "    re_ranked_final_result_4 = results_from_pinecone[sim_scores_argsort_4[0]]\n",
    "    \n",
    "    return results_from_pinecone[0]['id'], re_ranked_final_result_1['id'], re_ranked_final_result_2['id'], re_ranked_final_result_3['id'], re_ranked_final_result_4['id']\n"
   ]
  },
  {
   "cell_type": "code",
   "execution_count": 178,
   "id": "aacddbf2-1695-42da-81e0-e53ffe4530b6",
   "metadata": {},
   "outputs": [],
   "source": [
    "# val_sample = dataset_ko['validation'][:]\n",
    "val_sample = combined_dataset[:]"
   ]
  },
  {
   "cell_type": "code",
   "execution_count": 179,
   "id": "3e5b08c0-d2a7-4ccb-a11d-cadf8118e5c6",
   "metadata": {},
   "outputs": [
    {
     "data": {
      "text/plain": [
       "3"
      ]
     },
     "execution_count": 179,
     "metadata": {},
     "output_type": "execute_result"
    }
   ],
   "source": [
    "len(val_sample)"
   ]
  },
  {
   "cell_type": "code",
   "execution_count": 180,
   "id": "56351c5b-8c3a-4904-9887-27a159418b23",
   "metadata": {},
   "outputs": [
    {
     "data": {
      "text/plain": [
       "{'paragraph': '가리비의 껍데기는 부채처럼 생겼으며 표면에는 골판지처럼 골이 있다. 패각의 길이는 2~2.5cm이며, 껍데기 색은 보라색, 붉은색, 노란색, 묽은 주황색 등이다. 가리비는 껍데기를 열고 닫는 힘이 아주 세고, 껍데기를 크게 벌리고 먹이를 찾아다니는데, 불가사리 같은 적을 만나면 껍데기를 열고 닫으면서 재빨리 달아난다. 껍데기를 열고 닫으면서 몸에 담아 두었던 물을 뒤로 보내며 힘차게 앞으로 나아갈 수 있다.',\n",
       " 'question': '가리비는 적을 만나면 껍데기를 닫는다.',\n",
       " 'label': 0}"
      ]
     },
     "execution_count": 180,
     "metadata": {},
     "output_type": "execute_result"
    }
   ],
   "source": [
    "dataset_ko['validation'][3]"
   ]
  },
  {
   "cell_type": "code",
   "execution_count": 181,
   "id": "4f7e502a-e607-4afb-a8c6-ef048106b486",
   "metadata": {},
   "outputs": [
    {
     "name": "stdout",
     "output_type": "stream",
     "text": [
      "판포르테는 수녀들이 수도원에 바쳤던 음식인가요?\n"
     ]
    }
   ],
   "source": [
    "from random import sample\n",
    "\n",
    "query = sample(dataset_ko['validation']['question'], 1)[0]\n",
    "print(query)"
   ]
  },
  {
   "cell_type": "code",
   "execution_count": 182,
   "id": "9aff734d-9461-4f02-ab7a-7dd43dd1ecd3",
   "metadata": {},
   "outputs": [
    {
     "data": {
      "text/plain": [
       "'6836dba56b5f9aee320a2b40e38c8719'"
      ]
     },
     "execution_count": 182,
     "metadata": {},
     "output_type": "execute_result"
    }
   ],
   "source": [
    "# q_to_hash = {data['question']: my_hash(data['paragraph']) for data in dataset_ko['validation']}\n",
    "q_to_hash = {data['question']: my_hash(data['paragraph']) for data in combined_dataset}\n",
    "\n",
    "q_to_hash[query]"
   ]
  },
  {
   "cell_type": "markdown",
   "id": "57d88938-2934-43cb-840b-aa575046b192",
   "metadata": {},
   "source": [
    "## 5.2 text-embedding-ada-002 한국어 성능"
   ]
  },
  {
   "cell_type": "code",
   "execution_count": 183,
   "id": "36d31cb4-5978-41d1-b686-6b75a2e2a107",
   "metadata": {},
   "outputs": [],
   "source": [
    "ENGINE = 'text-embedding-ada-002'\n",
    "# ENGINE_2 = 'text-embedding-ada-002'\n",
    "# ENGINE_3_S = 'text-embedding-3-small'  # OpenAI의 3세대 embedding 모델 (소형)\n",
    "# ENGINE_3_L = 'text-embedding-3-large'  # OpenAI의 3세대 embedding 모델 (대형)"
   ]
  },
  {
   "cell_type": "code",
   "execution_count": 184,
   "id": "b6c59a22-de79-48f7-967c-e2eff91beab1",
   "metadata": {},
   "outputs": [],
   "source": [
    "pinecone.delete_index(INDEX_NAME)  # delete the index\n",
    "\n",
    "pinecone.create_index(\n",
    "    INDEX_NAME, # 인덱스 이름\n",
    "    dimension=1536, # 벡터의 치수, text-embedding-ada-002, text-embedding-3-small\n",
    "    # dimension=3072, # 벡터의 치수, text-embedding-3-large\n",
    "    \n",
    "    metric='cosine', # 인덱스를 검색할 때 사용할 유사성 메트릭\n",
    "    spec=PodSpec(\n",
    "      environment=\"gcp-starter\"\n",
    "    )\n",
    "    # pod_type=\"p1\" # 파인콘 파드의 유형\n",
    ")\n",
    "\n",
    "# 인덱스를 변수로 저장\n",
    "index = pinecone.Index(INDEX_NAME)"
   ]
  },
  {
   "cell_type": "code",
   "execution_count": 185,
   "id": "069cb860-d20b-4c00-b733-e57b9fba270d",
   "metadata": {},
   "outputs": [
    {
     "name": "stderr",
     "output_type": "stream",
     "text": [
      "100%|██████████████████████████████████████████████████████████████████████████████| 6/6 [00:21<00:00,  3.51s/it]\n",
      "100%|████████████████████████████████████████████████████████████████████████████| 29/29 [01:37<00:00,  3.36s/it]\n",
      "100%|████████████████████████████████████████████████████████████████████████████| 11/11 [00:33<00:00,  3.00s/it]\n"
     ]
    }
   ],
   "source": [
    "for idx in tqdm(range(0, len(dataset_ko['validation']), 128)):\n",
    "    data_sample = dataset_ko['validation'][idx:idx + 128]\n",
    "\n",
    "    passages = data_sample['paragraph']\n",
    "    upload_texts_to_pinecone(passages, engine=ENGINE)\n",
    "\n",
    "for idx in tqdm(range(0, len(dataset_ko['train']), 128)):\n",
    "    data_sample = dataset_ko['train'][idx:idx + 128]\n",
    "\n",
    "    passages = data_sample['paragraph']\n",
    "    upload_texts_to_pinecone(passages, engine=ENGINE)\n",
    "\n",
    "for idx in tqdm(range(0, len(dataset_ko['test']), 128)):\n",
    "    data_sample = dataset_ko['test'][idx:idx + 128]\n",
    "\n",
    "    passages = data_sample['paragraph']\n",
    "    upload_texts_to_pinecone(passages, engine=ENGINE)"
   ]
  },
  {
   "cell_type": "code",
   "execution_count": 186,
   "id": "f2ece337-d832-4ca8-9a15-bb1394d43b18",
   "metadata": {
    "scrolled": true
   },
   "outputs": [
    {
     "name": "stderr",
     "output_type": "stream",
     "text": [
      "  1%|▌                                                                       | 50/5769 [01:59<3:47:07,  2.38s/it]"
     ]
    },
    {
     "name": "stdout",
     "output_type": "stream",
     "text": [
      "Step 50\n",
      "Accuracy without re-ranking                            : 0.84\n",
      "Accuracy with re-ranking(mmarco-mMiniLMv2-L12-H384-v1) : 0.92\n",
      "Accuracy with re-ranking(klue-cross-encoder-v1)        : 0.92\n",
      "Accuracy with re-ranking(ms-marco-MiniLM-L-12-v2)      : 0.52\n",
      "Accuracy with re-ranking(ms-marco-MiniLM-L-12-v2 tuning): 0.44\n"
     ]
    },
    {
     "name": "stderr",
     "output_type": "stream",
     "text": [
      "  2%|█▏                                                                     | 100/5769 [03:22<2:37:46,  1.67s/it]"
     ]
    },
    {
     "name": "stdout",
     "output_type": "stream",
     "text": [
      "Step 100\n",
      "Accuracy without re-ranking                            : 0.77\n",
      "Accuracy with re-ranking(mmarco-mMiniLMv2-L12-H384-v1) : 0.84\n",
      "Accuracy with re-ranking(klue-cross-encoder-v1)        : 0.87\n",
      "Accuracy with re-ranking(ms-marco-MiniLM-L-12-v2)      : 0.49\n",
      "Accuracy with re-ranking(ms-marco-MiniLM-L-12-v2 tuning): 0.43\n"
     ]
    },
    {
     "name": "stderr",
     "output_type": "stream",
     "text": [
      "  3%|█▊                                                                     | 150/5769 [04:44<2:00:17,  1.28s/it]"
     ]
    },
    {
     "name": "stdout",
     "output_type": "stream",
     "text": [
      "Step 150\n",
      "Accuracy without re-ranking                            : 0.7666666666666667\n",
      "Accuracy with re-ranking(mmarco-mMiniLMv2-L12-H384-v1) : 0.8466666666666667\n",
      "Accuracy with re-ranking(klue-cross-encoder-v1)        : 0.8666666666666667\n",
      "Accuracy with re-ranking(ms-marco-MiniLM-L-12-v2)      : 0.5\n",
      "Accuracy with re-ranking(ms-marco-MiniLM-L-12-v2 tuning): 0.44666666666666666\n"
     ]
    },
    {
     "name": "stderr",
     "output_type": "stream",
     "text": [
      "  3%|██▍                                                                    | 200/5769 [06:06<3:22:05,  2.18s/it]"
     ]
    },
    {
     "name": "stdout",
     "output_type": "stream",
     "text": [
      "Step 200\n",
      "Accuracy without re-ranking                            : 0.745\n",
      "Accuracy with re-ranking(mmarco-mMiniLMv2-L12-H384-v1) : 0.85\n",
      "Accuracy with re-ranking(klue-cross-encoder-v1)        : 0.87\n",
      "Accuracy with re-ranking(ms-marco-MiniLM-L-12-v2)      : 0.5\n",
      "Accuracy with re-ranking(ms-marco-MiniLM-L-12-v2 tuning): 0.465\n"
     ]
    },
    {
     "name": "stderr",
     "output_type": "stream",
     "text": [
      "  4%|███                                                                    | 250/5769 [07:18<2:01:45,  1.32s/it]"
     ]
    },
    {
     "name": "stdout",
     "output_type": "stream",
     "text": [
      "Step 250\n",
      "Accuracy without re-ranking                            : 0.752\n",
      "Accuracy with re-ranking(mmarco-mMiniLMv2-L12-H384-v1) : 0.844\n",
      "Accuracy with re-ranking(klue-cross-encoder-v1)        : 0.848\n",
      "Accuracy with re-ranking(ms-marco-MiniLM-L-12-v2)      : 0.484\n",
      "Accuracy with re-ranking(ms-marco-MiniLM-L-12-v2 tuning): 0.48\n"
     ]
    },
    {
     "name": "stderr",
     "output_type": "stream",
     "text": [
      "  5%|███▋                                                                   | 300/5769 [08:22<1:14:09,  1.23it/s]"
     ]
    },
    {
     "name": "stdout",
     "output_type": "stream",
     "text": [
      "Step 300\n",
      "Accuracy without re-ranking                            : 0.7366666666666667\n",
      "Accuracy with re-ranking(mmarco-mMiniLMv2-L12-H384-v1) : 0.8533333333333334\n",
      "Accuracy with re-ranking(klue-cross-encoder-v1)        : 0.8566666666666667\n",
      "Accuracy with re-ranking(ms-marco-MiniLM-L-12-v2)      : 0.49\n",
      "Accuracy with re-ranking(ms-marco-MiniLM-L-12-v2 tuning): 0.49333333333333335\n"
     ]
    },
    {
     "name": "stderr",
     "output_type": "stream",
     "text": [
      "  6%|████▎                                                                  | 350/5769 [09:25<1:40:15,  1.11s/it]"
     ]
    },
    {
     "name": "stdout",
     "output_type": "stream",
     "text": [
      "Step 350\n",
      "Accuracy without re-ranking                            : 0.7257142857142858\n",
      "Accuracy with re-ranking(mmarco-mMiniLMv2-L12-H384-v1) : 0.8514285714285714\n",
      "Accuracy with re-ranking(klue-cross-encoder-v1)        : 0.8514285714285714\n",
      "Accuracy with re-ranking(ms-marco-MiniLM-L-12-v2)      : 0.48\n",
      "Accuracy with re-ranking(ms-marco-MiniLM-L-12-v2 tuning): 0.4828571428571429\n"
     ]
    },
    {
     "name": "stderr",
     "output_type": "stream",
     "text": [
      "  7%|████▉                                                                  | 400/5769 [10:08<1:32:18,  1.03s/it]"
     ]
    },
    {
     "name": "stdout",
     "output_type": "stream",
     "text": [
      "Step 400\n",
      "Accuracy without re-ranking                            : 0.7375\n",
      "Accuracy with re-ranking(mmarco-mMiniLMv2-L12-H384-v1) : 0.8625\n",
      "Accuracy with re-ranking(klue-cross-encoder-v1)        : 0.86\n",
      "Accuracy with re-ranking(ms-marco-MiniLM-L-12-v2)      : 0.5\n",
      "Accuracy with re-ranking(ms-marco-MiniLM-L-12-v2 tuning): 0.495\n"
     ]
    },
    {
     "name": "stderr",
     "output_type": "stream",
     "text": [
      "  8%|█████▌                                                                 | 450/5769 [10:59<1:22:07,  1.08it/s]"
     ]
    },
    {
     "name": "stdout",
     "output_type": "stream",
     "text": [
      "Step 450\n",
      "Accuracy without re-ranking                            : 0.7333333333333333\n",
      "Accuracy with re-ranking(mmarco-mMiniLMv2-L12-H384-v1) : 0.8533333333333334\n",
      "Accuracy with re-ranking(klue-cross-encoder-v1)        : 0.8511111111111112\n",
      "Accuracy with re-ranking(ms-marco-MiniLM-L-12-v2)      : 0.48\n",
      "Accuracy with re-ranking(ms-marco-MiniLM-L-12-v2 tuning): 0.4866666666666667\n"
     ]
    },
    {
     "name": "stderr",
     "output_type": "stream",
     "text": [
      "  9%|██████▏                                                                | 500/5769 [11:47<1:21:53,  1.07it/s]"
     ]
    },
    {
     "name": "stdout",
     "output_type": "stream",
     "text": [
      "Step 500\n",
      "Accuracy without re-ranking                            : 0.734\n",
      "Accuracy with re-ranking(mmarco-mMiniLMv2-L12-H384-v1) : 0.85\n",
      "Accuracy with re-ranking(klue-cross-encoder-v1)        : 0.846\n",
      "Accuracy with re-ranking(ms-marco-MiniLM-L-12-v2)      : 0.488\n",
      "Accuracy with re-ranking(ms-marco-MiniLM-L-12-v2 tuning): 0.496\n"
     ]
    },
    {
     "name": "stderr",
     "output_type": "stream",
     "text": [
      " 10%|██████▊                                                                | 550/5769 [12:33<1:29:18,  1.03s/it]"
     ]
    },
    {
     "name": "stdout",
     "output_type": "stream",
     "text": [
      "Step 550\n",
      "Accuracy without re-ranking                            : 0.7272727272727273\n",
      "Accuracy with re-ranking(mmarco-mMiniLMv2-L12-H384-v1) : 0.8436363636363636\n",
      "Accuracy with re-ranking(klue-cross-encoder-v1)        : 0.8381818181818181\n",
      "Accuracy with re-ranking(ms-marco-MiniLM-L-12-v2)      : 0.4818181818181818\n",
      "Accuracy with re-ranking(ms-marco-MiniLM-L-12-v2 tuning): 0.4890909090909091\n"
     ]
    },
    {
     "name": "stderr",
     "output_type": "stream",
     "text": [
      " 10%|███████▍                                                               | 600/5769 [13:24<2:05:14,  1.45s/it]"
     ]
    },
    {
     "name": "stdout",
     "output_type": "stream",
     "text": [
      "Step 600\n",
      "Accuracy without re-ranking                            : 0.73\n",
      "Accuracy with re-ranking(mmarco-mMiniLMv2-L12-H384-v1) : 0.8416666666666667\n",
      "Accuracy with re-ranking(klue-cross-encoder-v1)        : 0.8366666666666667\n",
      "Accuracy with re-ranking(ms-marco-MiniLM-L-12-v2)      : 0.485\n",
      "Accuracy with re-ranking(ms-marco-MiniLM-L-12-v2 tuning): 0.495\n"
     ]
    },
    {
     "name": "stderr",
     "output_type": "stream",
     "text": [
      " 11%|███████▉                                                               | 650/5769 [14:13<1:45:09,  1.23s/it]"
     ]
    },
    {
     "name": "stdout",
     "output_type": "stream",
     "text": [
      "Step 650\n",
      "Accuracy without re-ranking                            : 0.7307692307692307\n",
      "Accuracy with re-ranking(mmarco-mMiniLMv2-L12-H384-v1) : 0.8430769230769231\n",
      "Accuracy with re-ranking(klue-cross-encoder-v1)        : 0.8353846153846154\n",
      "Accuracy with re-ranking(ms-marco-MiniLM-L-12-v2)      : 0.4723076923076923\n",
      "Accuracy with re-ranking(ms-marco-MiniLM-L-12-v2 tuning): 0.4846153846153846\n"
     ]
    },
    {
     "name": "stderr",
     "output_type": "stream",
     "text": [
      " 12%|████████▌                                                              | 700/5769 [14:59<1:36:20,  1.14s/it]"
     ]
    },
    {
     "name": "stdout",
     "output_type": "stream",
     "text": [
      "Step 700\n",
      "Accuracy without re-ranking                            : 0.7285714285714285\n",
      "Accuracy with re-ranking(mmarco-mMiniLMv2-L12-H384-v1) : 0.8385714285714285\n",
      "Accuracy with re-ranking(klue-cross-encoder-v1)        : 0.8285714285714286\n",
      "Accuracy with re-ranking(ms-marco-MiniLM-L-12-v2)      : 0.4714285714285714\n",
      "Accuracy with re-ranking(ms-marco-MiniLM-L-12-v2 tuning): 0.4785714285714286\n"
     ]
    },
    {
     "name": "stderr",
     "output_type": "stream",
     "text": [
      " 13%|█████████▏                                                             | 750/5769 [15:49<1:14:36,  1.12it/s]"
     ]
    },
    {
     "name": "stdout",
     "output_type": "stream",
     "text": [
      "Step 750\n",
      "Accuracy without re-ranking                            : 0.7213333333333334\n",
      "Accuracy with re-ranking(mmarco-mMiniLMv2-L12-H384-v1) : 0.8293333333333334\n",
      "Accuracy with re-ranking(klue-cross-encoder-v1)        : 0.8186666666666667\n",
      "Accuracy with re-ranking(ms-marco-MiniLM-L-12-v2)      : 0.4693333333333333\n",
      "Accuracy with re-ranking(ms-marco-MiniLM-L-12-v2 tuning): 0.4746666666666667\n"
     ]
    },
    {
     "name": "stderr",
     "output_type": "stream",
     "text": [
      " 14%|█████████▊                                                             | 800/5769 [16:42<1:03:14,  1.31it/s]"
     ]
    },
    {
     "name": "stdout",
     "output_type": "stream",
     "text": [
      "Step 800\n",
      "Accuracy without re-ranking                            : 0.7275\n",
      "Accuracy with re-ranking(mmarco-mMiniLMv2-L12-H384-v1) : 0.83375\n",
      "Accuracy with re-ranking(klue-cross-encoder-v1)        : 0.82375\n",
      "Accuracy with re-ranking(ms-marco-MiniLM-L-12-v2)      : 0.47\n",
      "Accuracy with re-ranking(ms-marco-MiniLM-L-12-v2 tuning): 0.47\n"
     ]
    },
    {
     "name": "stderr",
     "output_type": "stream",
     "text": [
      " 15%|██████████▍                                                            | 850/5769 [17:34<3:26:57,  2.52s/it]"
     ]
    },
    {
     "name": "stdout",
     "output_type": "stream",
     "text": [
      "Step 850\n",
      "Accuracy without re-ranking                            : 0.7270588235294118\n",
      "Accuracy with re-ranking(mmarco-mMiniLMv2-L12-H384-v1) : 0.8352941176470589\n",
      "Accuracy with re-ranking(klue-cross-encoder-v1)        : 0.8223529411764706\n",
      "Accuracy with re-ranking(ms-marco-MiniLM-L-12-v2)      : 0.46941176470588236\n",
      "Accuracy with re-ranking(ms-marco-MiniLM-L-12-v2 tuning): 0.46705882352941175\n"
     ]
    },
    {
     "name": "stderr",
     "output_type": "stream",
     "text": [
      " 16%|███████████                                                            | 900/5769 [18:19<1:30:47,  1.12s/it]"
     ]
    },
    {
     "name": "stdout",
     "output_type": "stream",
     "text": [
      "Step 900\n",
      "Accuracy without re-ranking                            : 0.7322222222222222\n",
      "Accuracy with re-ranking(mmarco-mMiniLMv2-L12-H384-v1) : 0.8366666666666667\n",
      "Accuracy with re-ranking(klue-cross-encoder-v1)        : 0.8222222222222222\n",
      "Accuracy with re-ranking(ms-marco-MiniLM-L-12-v2)      : 0.4711111111111111\n",
      "Accuracy with re-ranking(ms-marco-MiniLM-L-12-v2 tuning): 0.4711111111111111\n"
     ]
    },
    {
     "name": "stderr",
     "output_type": "stream",
     "text": [
      " 16%|████████████                                                             | 950/5769 [19:01<51:27,  1.56it/s]"
     ]
    },
    {
     "name": "stdout",
     "output_type": "stream",
     "text": [
      "Step 950\n",
      "Accuracy without re-ranking                            : 0.7305263157894737\n",
      "Accuracy with re-ranking(mmarco-mMiniLMv2-L12-H384-v1) : 0.8357894736842105\n",
      "Accuracy with re-ranking(klue-cross-encoder-v1)        : 0.8210526315789474\n",
      "Accuracy with re-ranking(ms-marco-MiniLM-L-12-v2)      : 0.4726315789473684\n",
      "Accuracy with re-ranking(ms-marco-MiniLM-L-12-v2 tuning): 0.4673684210526316\n"
     ]
    },
    {
     "name": "stderr",
     "output_type": "stream",
     "text": [
      " 17%|████████████▏                                                         | 1000/5769 [19:43<1:11:09,  1.12it/s]"
     ]
    },
    {
     "name": "stdout",
     "output_type": "stream",
     "text": [
      "Step 1000\n",
      "Accuracy without re-ranking                            : 0.732\n",
      "Accuracy with re-ranking(mmarco-mMiniLMv2-L12-H384-v1) : 0.836\n",
      "Accuracy with re-ranking(klue-cross-encoder-v1)        : 0.822\n",
      "Accuracy with re-ranking(ms-marco-MiniLM-L-12-v2)      : 0.475\n",
      "Accuracy with re-ranking(ms-marco-MiniLM-L-12-v2 tuning): 0.466\n"
     ]
    },
    {
     "name": "stderr",
     "output_type": "stream",
     "text": [
      " 18%|█████████████                                                           | 1050/5769 [20:21<54:42,  1.44it/s]"
     ]
    },
    {
     "name": "stdout",
     "output_type": "stream",
     "text": [
      "Step 1050\n",
      "Accuracy without re-ranking                            : 0.7304761904761905\n",
      "Accuracy with re-ranking(mmarco-mMiniLMv2-L12-H384-v1) : 0.8371428571428572\n",
      "Accuracy with re-ranking(klue-cross-encoder-v1)        : 0.8238095238095238\n",
      "Accuracy with re-ranking(ms-marco-MiniLM-L-12-v2)      : 0.47333333333333333\n",
      "Accuracy with re-ranking(ms-marco-MiniLM-L-12-v2 tuning): 0.46476190476190476\n"
     ]
    },
    {
     "name": "stderr",
     "output_type": "stream",
     "text": [
      " 19%|█████████████▋                                                          | 1100/5769 [20:54<55:26,  1.40it/s]"
     ]
    },
    {
     "name": "stdout",
     "output_type": "stream",
     "text": [
      "Step 1100\n",
      "Accuracy without re-ranking                            : 0.730909090909091\n",
      "Accuracy with re-ranking(mmarco-mMiniLMv2-L12-H384-v1) : 0.8381818181818181\n",
      "Accuracy with re-ranking(klue-cross-encoder-v1)        : 0.8254545454545454\n",
      "Accuracy with re-ranking(ms-marco-MiniLM-L-12-v2)      : 0.4727272727272727\n",
      "Accuracy with re-ranking(ms-marco-MiniLM-L-12-v2 tuning): 0.4618181818181818\n"
     ]
    },
    {
     "name": "stderr",
     "output_type": "stream",
     "text": [
      " 20%|█████████████▉                                                        | 1150/5769 [21:32<1:45:29,  1.37s/it]"
     ]
    },
    {
     "name": "stdout",
     "output_type": "stream",
     "text": [
      "Step 1150\n",
      "Accuracy without re-ranking                            : 0.7269565217391304\n",
      "Accuracy with re-ranking(mmarco-mMiniLMv2-L12-H384-v1) : 0.837391304347826\n",
      "Accuracy with re-ranking(klue-cross-encoder-v1)        : 0.8252173913043478\n",
      "Accuracy with re-ranking(ms-marco-MiniLM-L-12-v2)      : 0.4765217391304348\n",
      "Accuracy with re-ranking(ms-marco-MiniLM-L-12-v2 tuning): 0.46608695652173915\n"
     ]
    },
    {
     "name": "stderr",
     "output_type": "stream",
     "text": [
      " 21%|██████████████▉                                                         | 1200/5769 [22:15<44:59,  1.69it/s]"
     ]
    },
    {
     "name": "stdout",
     "output_type": "stream",
     "text": [
      "Step 1200\n",
      "Accuracy without re-ranking                            : 0.725\n",
      "Accuracy with re-ranking(mmarco-mMiniLMv2-L12-H384-v1) : 0.8341666666666666\n",
      "Accuracy with re-ranking(klue-cross-encoder-v1)        : 0.8233333333333334\n",
      "Accuracy with re-ranking(ms-marco-MiniLM-L-12-v2)      : 0.47583333333333333\n",
      "Accuracy with re-ranking(ms-marco-MiniLM-L-12-v2 tuning): 0.465\n"
     ]
    },
    {
     "name": "stderr",
     "output_type": "stream",
     "text": [
      " 22%|███████████████▏                                                      | 1250/5769 [22:51<1:16:28,  1.02s/it]"
     ]
    },
    {
     "name": "stdout",
     "output_type": "stream",
     "text": [
      "Step 1250\n",
      "Accuracy without re-ranking                            : 0.7184\n",
      "Accuracy with re-ranking(mmarco-mMiniLMv2-L12-H384-v1) : 0.828\n",
      "Accuracy with re-ranking(klue-cross-encoder-v1)        : 0.8192\n",
      "Accuracy with re-ranking(ms-marco-MiniLM-L-12-v2)      : 0.4712\n",
      "Accuracy with re-ranking(ms-marco-MiniLM-L-12-v2 tuning): 0.46\n"
     ]
    },
    {
     "name": "stderr",
     "output_type": "stream",
     "text": [
      " 23%|████████████████▏                                                       | 1300/5769 [23:26<55:19,  1.35it/s]"
     ]
    },
    {
     "name": "stdout",
     "output_type": "stream",
     "text": [
      "Step 1300\n",
      "Accuracy without re-ranking                            : 0.7169230769230769\n",
      "Accuracy with re-ranking(mmarco-mMiniLMv2-L12-H384-v1) : 0.83\n",
      "Accuracy with re-ranking(klue-cross-encoder-v1)        : 0.82\n",
      "Accuracy with re-ranking(ms-marco-MiniLM-L-12-v2)      : 0.4684615384615385\n",
      "Accuracy with re-ranking(ms-marco-MiniLM-L-12-v2 tuning): 0.45615384615384613\n"
     ]
    },
    {
     "name": "stderr",
     "output_type": "stream",
     "text": [
      " 23%|████████████████▊                                                       | 1350/5769 [24:05<44:16,  1.66it/s]"
     ]
    },
    {
     "name": "stdout",
     "output_type": "stream",
     "text": [
      "Step 1350\n",
      "Accuracy without re-ranking                            : 0.7214814814814815\n",
      "Accuracy with re-ranking(mmarco-mMiniLMv2-L12-H384-v1) : 0.8340740740740741\n",
      "Accuracy with re-ranking(klue-cross-encoder-v1)        : 0.8237037037037037\n",
      "Accuracy with re-ranking(ms-marco-MiniLM-L-12-v2)      : 0.47333333333333333\n",
      "Accuracy with re-ranking(ms-marco-MiniLM-L-12-v2 tuning): 0.4622222222222222\n"
     ]
    },
    {
     "name": "stderr",
     "output_type": "stream",
     "text": [
      " 24%|█████████████████▍                                                      | 1400/5769 [24:43<45:37,  1.60it/s]"
     ]
    },
    {
     "name": "stdout",
     "output_type": "stream",
     "text": [
      "Step 1400\n",
      "Accuracy without re-ranking                            : 0.7207142857142858\n",
      "Accuracy with re-ranking(mmarco-mMiniLMv2-L12-H384-v1) : 0.835\n",
      "Accuracy with re-ranking(klue-cross-encoder-v1)        : 0.8242857142857143\n",
      "Accuracy with re-ranking(ms-marco-MiniLM-L-12-v2)      : 0.4735714285714286\n",
      "Accuracy with re-ranking(ms-marco-MiniLM-L-12-v2 tuning): 0.46714285714285714\n"
     ]
    },
    {
     "name": "stderr",
     "output_type": "stream",
     "text": [
      " 25%|██████████████████                                                      | 1450/5769 [25:23<47:30,  1.52it/s]"
     ]
    },
    {
     "name": "stdout",
     "output_type": "stream",
     "text": [
      "Step 1450\n",
      "Accuracy without re-ranking                            : 0.7186206896551725\n",
      "Accuracy with re-ranking(mmarco-mMiniLMv2-L12-H384-v1) : 0.8344827586206897\n",
      "Accuracy with re-ranking(klue-cross-encoder-v1)        : 0.8241379310344827\n",
      "Accuracy with re-ranking(ms-marco-MiniLM-L-12-v2)      : 0.47172413793103446\n",
      "Accuracy with re-ranking(ms-marco-MiniLM-L-12-v2 tuning): 0.46551724137931033\n"
     ]
    },
    {
     "name": "stderr",
     "output_type": "stream",
     "text": [
      " 26%|██████████████████▋                                                     | 1500/5769 [25:59<47:20,  1.50it/s]"
     ]
    },
    {
     "name": "stdout",
     "output_type": "stream",
     "text": [
      "Step 1500\n",
      "Accuracy without re-ranking                            : 0.7173333333333334\n",
      "Accuracy with re-ranking(mmarco-mMiniLMv2-L12-H384-v1) : 0.834\n",
      "Accuracy with re-ranking(klue-cross-encoder-v1)        : 0.8246666666666667\n",
      "Accuracy with re-ranking(ms-marco-MiniLM-L-12-v2)      : 0.47\n",
      "Accuracy with re-ranking(ms-marco-MiniLM-L-12-v2 tuning): 0.468\n"
     ]
    },
    {
     "name": "stderr",
     "output_type": "stream",
     "text": [
      " 27%|███████████████████▎                                                    | 1550/5769 [26:36<42:42,  1.65it/s]"
     ]
    },
    {
     "name": "stdout",
     "output_type": "stream",
     "text": [
      "Step 1550\n",
      "Accuracy without re-ranking                            : 0.7180645161290322\n",
      "Accuracy with re-ranking(mmarco-mMiniLMv2-L12-H384-v1) : 0.8348387096774194\n",
      "Accuracy with re-ranking(klue-cross-encoder-v1)        : 0.824516129032258\n",
      "Accuracy with re-ranking(ms-marco-MiniLM-L-12-v2)      : 0.4703225806451613\n",
      "Accuracy with re-ranking(ms-marco-MiniLM-L-12-v2 tuning): 0.46838709677419355\n"
     ]
    },
    {
     "name": "stderr",
     "output_type": "stream",
     "text": [
      " 28%|███████████████████▉                                                    | 1600/5769 [27:09<42:38,  1.63it/s]"
     ]
    },
    {
     "name": "stdout",
     "output_type": "stream",
     "text": [
      "Step 1600\n",
      "Accuracy without re-ranking                            : 0.719375\n",
      "Accuracy with re-ranking(mmarco-mMiniLMv2-L12-H384-v1) : 0.83625\n",
      "Accuracy with re-ranking(klue-cross-encoder-v1)        : 0.825625\n",
      "Accuracy with re-ranking(ms-marco-MiniLM-L-12-v2)      : 0.465625\n",
      "Accuracy with re-ranking(ms-marco-MiniLM-L-12-v2 tuning): 0.465\n"
     ]
    },
    {
     "name": "stderr",
     "output_type": "stream",
     "text": [
      " 29%|████████████████████                                                  | 1650/5769 [27:46<1:00:12,  1.14it/s]"
     ]
    },
    {
     "name": "stdout",
     "output_type": "stream",
     "text": [
      "Step 1650\n",
      "Accuracy without re-ranking                            : 0.7187878787878788\n",
      "Accuracy with re-ranking(mmarco-mMiniLMv2-L12-H384-v1) : 0.8351515151515152\n",
      "Accuracy with re-ranking(klue-cross-encoder-v1)        : 0.8248484848484848\n",
      "Accuracy with re-ranking(ms-marco-MiniLM-L-12-v2)      : 0.46606060606060606\n",
      "Accuracy with re-ranking(ms-marco-MiniLM-L-12-v2 tuning): 0.46484848484848484\n"
     ]
    },
    {
     "name": "stderr",
     "output_type": "stream",
     "text": [
      " 29%|█████████████████████▏                                                  | 1700/5769 [28:19<39:32,  1.72it/s]"
     ]
    },
    {
     "name": "stdout",
     "output_type": "stream",
     "text": [
      "Step 1700\n",
      "Accuracy without re-ranking                            : 0.7170588235294117\n",
      "Accuracy with re-ranking(mmarco-mMiniLMv2-L12-H384-v1) : 0.8352941176470589\n",
      "Accuracy with re-ranking(klue-cross-encoder-v1)        : 0.8252941176470588\n",
      "Accuracy with re-ranking(ms-marco-MiniLM-L-12-v2)      : 0.46705882352941175\n",
      "Accuracy with re-ranking(ms-marco-MiniLM-L-12-v2 tuning): 0.4647058823529412\n"
     ]
    },
    {
     "name": "stderr",
     "output_type": "stream",
     "text": [
      " 30%|█████████████████████▊                                                  | 1750/5769 [28:55<40:00,  1.67it/s]"
     ]
    },
    {
     "name": "stdout",
     "output_type": "stream",
     "text": [
      "Step 1750\n",
      "Accuracy without re-ranking                            : 0.7188571428571429\n",
      "Accuracy with re-ranking(mmarco-mMiniLMv2-L12-H384-v1) : 0.8365714285714285\n",
      "Accuracy with re-ranking(klue-cross-encoder-v1)        : 0.8257142857142857\n",
      "Accuracy with re-ranking(ms-marco-MiniLM-L-12-v2)      : 0.4662857142857143\n",
      "Accuracy with re-ranking(ms-marco-MiniLM-L-12-v2 tuning): 0.4645714285714286\n"
     ]
    },
    {
     "name": "stderr",
     "output_type": "stream",
     "text": [
      " 31%|██████████████████████▍                                                 | 1800/5769 [29:28<39:30,  1.67it/s]"
     ]
    },
    {
     "name": "stdout",
     "output_type": "stream",
     "text": [
      "Step 1800\n",
      "Accuracy without re-ranking                            : 0.7161111111111111\n",
      "Accuracy with re-ranking(mmarco-mMiniLMv2-L12-H384-v1) : 0.8361111111111111\n",
      "Accuracy with re-ranking(klue-cross-encoder-v1)        : 0.825\n",
      "Accuracy with re-ranking(ms-marco-MiniLM-L-12-v2)      : 0.46444444444444444\n",
      "Accuracy with re-ranking(ms-marco-MiniLM-L-12-v2 tuning): 0.4627777777777778\n"
     ]
    },
    {
     "name": "stderr",
     "output_type": "stream",
     "text": [
      " 32%|██████████████████████▍                                               | 1850/5769 [30:03<1:15:10,  1.15s/it]"
     ]
    },
    {
     "name": "stdout",
     "output_type": "stream",
     "text": [
      "Step 1850\n",
      "Accuracy without re-ranking                            : 0.7162162162162162\n",
      "Accuracy with re-ranking(mmarco-mMiniLMv2-L12-H384-v1) : 0.8362162162162162\n",
      "Accuracy with re-ranking(klue-cross-encoder-v1)        : 0.8254054054054054\n",
      "Accuracy with re-ranking(ms-marco-MiniLM-L-12-v2)      : 0.4643243243243243\n",
      "Accuracy with re-ranking(ms-marco-MiniLM-L-12-v2 tuning): 0.46054054054054056\n"
     ]
    },
    {
     "name": "stderr",
     "output_type": "stream",
     "text": [
      " 33%|███████████████████████▋                                                | 1900/5769 [30:53<47:23,  1.36it/s]"
     ]
    },
    {
     "name": "stdout",
     "output_type": "stream",
     "text": [
      "Step 1900\n",
      "Accuracy without re-ranking                            : 0.7152631578947368\n",
      "Accuracy with re-ranking(mmarco-mMiniLMv2-L12-H384-v1) : 0.8352631578947368\n",
      "Accuracy with re-ranking(klue-cross-encoder-v1)        : 0.8257894736842105\n",
      "Accuracy with re-ranking(ms-marco-MiniLM-L-12-v2)      : 0.4636842105263158\n",
      "Accuracy with re-ranking(ms-marco-MiniLM-L-12-v2 tuning): 0.4594736842105263\n"
     ]
    },
    {
     "name": "stderr",
     "output_type": "stream",
     "text": [
      " 34%|███████████████████████▋                                              | 1950/5769 [31:38<1:03:31,  1.00it/s]"
     ]
    },
    {
     "name": "stdout",
     "output_type": "stream",
     "text": [
      "Step 1950\n",
      "Accuracy without re-ranking                            : 0.7138461538461538\n",
      "Accuracy with re-ranking(mmarco-mMiniLMv2-L12-H384-v1) : 0.8343589743589743\n",
      "Accuracy with re-ranking(klue-cross-encoder-v1)        : 0.8251282051282052\n",
      "Accuracy with re-ranking(ms-marco-MiniLM-L-12-v2)      : 0.46205128205128204\n",
      "Accuracy with re-ranking(ms-marco-MiniLM-L-12-v2 tuning): 0.45897435897435895\n"
     ]
    },
    {
     "name": "stderr",
     "output_type": "stream",
     "text": [
      " 35%|████████████████████████▉                                               | 2000/5769 [32:15<45:38,  1.38it/s]"
     ]
    },
    {
     "name": "stdout",
     "output_type": "stream",
     "text": [
      "Step 2000\n",
      "Accuracy without re-ranking                            : 0.7155\n",
      "Accuracy with re-ranking(mmarco-mMiniLMv2-L12-H384-v1) : 0.8345\n",
      "Accuracy with re-ranking(klue-cross-encoder-v1)        : 0.8245\n",
      "Accuracy with re-ranking(ms-marco-MiniLM-L-12-v2)      : 0.463\n",
      "Accuracy with re-ranking(ms-marco-MiniLM-L-12-v2 tuning): 0.459\n"
     ]
    },
    {
     "name": "stderr",
     "output_type": "stream",
     "text": [
      " 36%|█████████████████████████▌                                              | 2050/5769 [32:53<45:06,  1.37it/s]"
     ]
    },
    {
     "name": "stdout",
     "output_type": "stream",
     "text": [
      "Step 2050\n",
      "Accuracy without re-ranking                            : 0.7190243902439024\n",
      "Accuracy with re-ranking(mmarco-mMiniLMv2-L12-H384-v1) : 0.8365853658536585\n",
      "Accuracy with re-ranking(klue-cross-encoder-v1)        : 0.8258536585365853\n",
      "Accuracy with re-ranking(ms-marco-MiniLM-L-12-v2)      : 0.4624390243902439\n",
      "Accuracy with re-ranking(ms-marco-MiniLM-L-12-v2 tuning): 0.4551219512195122\n"
     ]
    },
    {
     "name": "stderr",
     "output_type": "stream",
     "text": [
      " 36%|██████████████████████████▏                                             | 2100/5769 [33:28<40:36,  1.51it/s]"
     ]
    },
    {
     "name": "stdout",
     "output_type": "stream",
     "text": [
      "Step 2100\n",
      "Accuracy without re-ranking                            : 0.7157142857142857\n",
      "Accuracy with re-ranking(mmarco-mMiniLMv2-L12-H384-v1) : 0.8338095238095238\n",
      "Accuracy with re-ranking(klue-cross-encoder-v1)        : 0.8242857142857143\n",
      "Accuracy with re-ranking(ms-marco-MiniLM-L-12-v2)      : 0.46285714285714286\n",
      "Accuracy with re-ranking(ms-marco-MiniLM-L-12-v2 tuning): 0.45666666666666667\n"
     ]
    },
    {
     "name": "stderr",
     "output_type": "stream",
     "text": [
      " 37%|██████████████████████████▊                                             | 2150/5769 [33:59<35:58,  1.68it/s]"
     ]
    },
    {
     "name": "stdout",
     "output_type": "stream",
     "text": [
      "Step 2150\n",
      "Accuracy without re-ranking                            : 0.7158139534883721\n",
      "Accuracy with re-ranking(mmarco-mMiniLMv2-L12-H384-v1) : 0.833953488372093\n",
      "Accuracy with re-ranking(klue-cross-encoder-v1)        : 0.8232558139534883\n",
      "Accuracy with re-ranking(ms-marco-MiniLM-L-12-v2)      : 0.4627906976744186\n",
      "Accuracy with re-ranking(ms-marco-MiniLM-L-12-v2 tuning): 0.4558139534883721\n"
     ]
    },
    {
     "name": "stderr",
     "output_type": "stream",
     "text": [
      " 38%|███████████████████████████▍                                            | 2200/5769 [34:31<36:13,  1.64it/s]"
     ]
    },
    {
     "name": "stdout",
     "output_type": "stream",
     "text": [
      "Step 2200\n",
      "Accuracy without re-ranking                            : 0.7145454545454546\n",
      "Accuracy with re-ranking(mmarco-mMiniLMv2-L12-H384-v1) : 0.8313636363636364\n",
      "Accuracy with re-ranking(klue-cross-encoder-v1)        : 0.8213636363636364\n",
      "Accuracy with re-ranking(ms-marco-MiniLM-L-12-v2)      : 0.4618181818181818\n",
      "Accuracy with re-ranking(ms-marco-MiniLM-L-12-v2 tuning): 0.4531818181818182\n"
     ]
    },
    {
     "name": "stderr",
     "output_type": "stream",
     "text": [
      " 39%|████████████████████████████                                            | 2250/5769 [35:02<37:31,  1.56it/s]"
     ]
    },
    {
     "name": "stdout",
     "output_type": "stream",
     "text": [
      "Step 2250\n",
      "Accuracy without re-ranking                            : 0.7142222222222222\n",
      "Accuracy with re-ranking(mmarco-mMiniLMv2-L12-H384-v1) : 0.8311111111111111\n",
      "Accuracy with re-ranking(klue-cross-encoder-v1)        : 0.8208888888888889\n",
      "Accuracy with re-ranking(ms-marco-MiniLM-L-12-v2)      : 0.46044444444444443\n",
      "Accuracy with re-ranking(ms-marco-MiniLM-L-12-v2 tuning): 0.4528888888888889\n"
     ]
    },
    {
     "name": "stderr",
     "output_type": "stream",
     "text": [
      " 40%|████████████████████████████▋                                           | 2300/5769 [35:39<40:04,  1.44it/s]"
     ]
    },
    {
     "name": "stdout",
     "output_type": "stream",
     "text": [
      "Step 2300\n",
      "Accuracy without re-ranking                            : 0.7139130434782609\n",
      "Accuracy with re-ranking(mmarco-mMiniLMv2-L12-H384-v1) : 0.831304347826087\n",
      "Accuracy with re-ranking(klue-cross-encoder-v1)        : 0.8204347826086956\n",
      "Accuracy with re-ranking(ms-marco-MiniLM-L-12-v2)      : 0.4608695652173913\n",
      "Accuracy with re-ranking(ms-marco-MiniLM-L-12-v2 tuning): 0.4543478260869565\n"
     ]
    },
    {
     "name": "stderr",
     "output_type": "stream",
     "text": [
      " 41%|█████████████████████████████▎                                          | 2350/5769 [36:12<37:26,  1.52it/s]"
     ]
    },
    {
     "name": "stdout",
     "output_type": "stream",
     "text": [
      "Step 2350\n",
      "Accuracy without re-ranking                            : 0.7140425531914893\n",
      "Accuracy with re-ranking(mmarco-mMiniLMv2-L12-H384-v1) : 0.8314893617021276\n",
      "Accuracy with re-ranking(klue-cross-encoder-v1)        : 0.8208510638297872\n",
      "Accuracy with re-ranking(ms-marco-MiniLM-L-12-v2)      : 0.4604255319148936\n",
      "Accuracy with re-ranking(ms-marco-MiniLM-L-12-v2 tuning): 0.45276595744680853\n"
     ]
    },
    {
     "name": "stderr",
     "output_type": "stream",
     "text": [
      " 42%|█████████████████████████████▉                                          | 2400/5769 [36:43<36:30,  1.54it/s]"
     ]
    },
    {
     "name": "stdout",
     "output_type": "stream",
     "text": [
      "Step 2400\n",
      "Accuracy without re-ranking                            : 0.7141666666666666\n",
      "Accuracy with re-ranking(mmarco-mMiniLMv2-L12-H384-v1) : 0.8304166666666667\n",
      "Accuracy with re-ranking(klue-cross-encoder-v1)        : 0.82\n",
      "Accuracy with re-ranking(ms-marco-MiniLM-L-12-v2)      : 0.46208333333333335\n",
      "Accuracy with re-ranking(ms-marco-MiniLM-L-12-v2 tuning): 0.45416666666666666\n"
     ]
    },
    {
     "name": "stderr",
     "output_type": "stream",
     "text": [
      " 42%|██████████████████████████████▌                                         | 2450/5769 [37:18<40:58,  1.35it/s]"
     ]
    },
    {
     "name": "stdout",
     "output_type": "stream",
     "text": [
      "Step 2450\n",
      "Accuracy without re-ranking                            : 0.7126530612244898\n",
      "Accuracy with re-ranking(mmarco-mMiniLMv2-L12-H384-v1) : 0.8293877551020408\n",
      "Accuracy with re-ranking(klue-cross-encoder-v1)        : 0.8183673469387756\n",
      "Accuracy with re-ranking(ms-marco-MiniLM-L-12-v2)      : 0.4595918367346939\n",
      "Accuracy with re-ranking(ms-marco-MiniLM-L-12-v2 tuning): 0.45346938775510204\n"
     ]
    },
    {
     "name": "stderr",
     "output_type": "stream",
     "text": [
      " 43%|███████████████████████████████▏                                        | 2500/5769 [37:55<36:51,  1.48it/s]"
     ]
    },
    {
     "name": "stdout",
     "output_type": "stream",
     "text": [
      "Step 2500\n",
      "Accuracy without re-ranking                            : 0.7144\n",
      "Accuracy with re-ranking(mmarco-mMiniLMv2-L12-H384-v1) : 0.8304\n",
      "Accuracy with re-ranking(klue-cross-encoder-v1)        : 0.8196\n",
      "Accuracy with re-ranking(ms-marco-MiniLM-L-12-v2)      : 0.4612\n",
      "Accuracy with re-ranking(ms-marco-MiniLM-L-12-v2 tuning): 0.4548\n"
     ]
    },
    {
     "name": "stderr",
     "output_type": "stream",
     "text": [
      " 44%|███████████████████████████████▊                                        | 2550/5769 [38:29<39:30,  1.36it/s]"
     ]
    },
    {
     "name": "stdout",
     "output_type": "stream",
     "text": [
      "Step 2550\n",
      "Accuracy without re-ranking                            : 0.7137254901960784\n",
      "Accuracy with re-ranking(mmarco-mMiniLMv2-L12-H384-v1) : 0.8290196078431372\n",
      "Accuracy with re-ranking(klue-cross-encoder-v1)        : 0.8180392156862745\n",
      "Accuracy with re-ranking(ms-marco-MiniLM-L-12-v2)      : 0.4611764705882353\n",
      "Accuracy with re-ranking(ms-marco-MiniLM-L-12-v2 tuning): 0.4541176470588235\n"
     ]
    },
    {
     "name": "stderr",
     "output_type": "stream",
     "text": [
      " 45%|████████████████████████████████▍                                       | 2600/5769 [39:03<38:06,  1.39it/s]"
     ]
    },
    {
     "name": "stdout",
     "output_type": "stream",
     "text": [
      "Step 2600\n",
      "Accuracy without re-ranking                            : 0.7115384615384616\n",
      "Accuracy with re-ranking(mmarco-mMiniLMv2-L12-H384-v1) : 0.8276923076923077\n",
      "Accuracy with re-ranking(klue-cross-encoder-v1)        : 0.8173076923076923\n",
      "Accuracy with re-ranking(ms-marco-MiniLM-L-12-v2)      : 0.46192307692307694\n",
      "Accuracy with re-ranking(ms-marco-MiniLM-L-12-v2 tuning): 0.45346153846153847\n"
     ]
    },
    {
     "name": "stderr",
     "output_type": "stream",
     "text": [
      " 46%|█████████████████████████████████                                       | 2650/5769 [39:34<31:05,  1.67it/s]"
     ]
    },
    {
     "name": "stdout",
     "output_type": "stream",
     "text": [
      "Step 2650\n",
      "Accuracy without re-ranking                            : 0.7120754716981132\n",
      "Accuracy with re-ranking(mmarco-mMiniLMv2-L12-H384-v1) : 0.8271698113207547\n",
      "Accuracy with re-ranking(klue-cross-encoder-v1)        : 0.8162264150943396\n",
      "Accuracy with re-ranking(ms-marco-MiniLM-L-12-v2)      : 0.4588679245283019\n",
      "Accuracy with re-ranking(ms-marco-MiniLM-L-12-v2 tuning): 0.4520754716981132\n"
     ]
    },
    {
     "name": "stderr",
     "output_type": "stream",
     "text": [
      " 47%|█████████████████████████████████▋                                      | 2700/5769 [40:07<30:38,  1.67it/s]"
     ]
    },
    {
     "name": "stdout",
     "output_type": "stream",
     "text": [
      "Step 2700\n",
      "Accuracy without re-ranking                            : 0.7107407407407408\n",
      "Accuracy with re-ranking(mmarco-mMiniLMv2-L12-H384-v1) : 0.8248148148148148\n",
      "Accuracy with re-ranking(klue-cross-encoder-v1)        : 0.8140740740740741\n",
      "Accuracy with re-ranking(ms-marco-MiniLM-L-12-v2)      : 0.457037037037037\n",
      "Accuracy with re-ranking(ms-marco-MiniLM-L-12-v2 tuning): 0.45185185185185184\n"
     ]
    },
    {
     "name": "stderr",
     "output_type": "stream",
     "text": [
      " 48%|██████████████████████████████████▎                                     | 2750/5769 [40:43<36:20,  1.38it/s]"
     ]
    },
    {
     "name": "stdout",
     "output_type": "stream",
     "text": [
      "Step 2750\n",
      "Accuracy without re-ranking                            : 0.7105454545454546\n",
      "Accuracy with re-ranking(mmarco-mMiniLMv2-L12-H384-v1) : 0.824\n",
      "Accuracy with re-ranking(klue-cross-encoder-v1)        : 0.8134545454545454\n",
      "Accuracy with re-ranking(ms-marco-MiniLM-L-12-v2)      : 0.45854545454545453\n",
      "Accuracy with re-ranking(ms-marco-MiniLM-L-12-v2 tuning): 0.45236363636363636\n"
     ]
    },
    {
     "name": "stderr",
     "output_type": "stream",
     "text": [
      " 49%|██████████████████████████████████▉                                     | 2800/5769 [41:46<48:05,  1.03it/s]"
     ]
    },
    {
     "name": "stdout",
     "output_type": "stream",
     "text": [
      "Step 2800\n",
      "Accuracy without re-ranking                            : 0.7110714285714286\n",
      "Accuracy with re-ranking(mmarco-mMiniLMv2-L12-H384-v1) : 0.8235714285714286\n",
      "Accuracy with re-ranking(klue-cross-encoder-v1)        : 0.8132142857142857\n",
      "Accuracy with re-ranking(ms-marco-MiniLM-L-12-v2)      : 0.4592857142857143\n",
      "Accuracy with re-ranking(ms-marco-MiniLM-L-12-v2 tuning): 0.45285714285714285\n"
     ]
    },
    {
     "name": "stderr",
     "output_type": "stream",
     "text": [
      " 49%|███████████████████████████████████▌                                    | 2850/5769 [42:56<33:39,  1.45it/s]"
     ]
    },
    {
     "name": "stdout",
     "output_type": "stream",
     "text": [
      "Step 2850\n",
      "Accuracy without re-ranking                            : 0.7119298245614035\n",
      "Accuracy with re-ranking(mmarco-mMiniLMv2-L12-H384-v1) : 0.8245614035087719\n",
      "Accuracy with re-ranking(klue-cross-encoder-v1)        : 0.8147368421052632\n",
      "Accuracy with re-ranking(ms-marco-MiniLM-L-12-v2)      : 0.4610526315789474\n",
      "Accuracy with re-ranking(ms-marco-MiniLM-L-12-v2 tuning): 0.4557894736842105\n"
     ]
    },
    {
     "name": "stderr",
     "output_type": "stream",
     "text": [
      " 50%|████████████████████████████████████▏                                   | 2900/5769 [43:27<30:08,  1.59it/s]"
     ]
    },
    {
     "name": "stdout",
     "output_type": "stream",
     "text": [
      "Step 2900\n",
      "Accuracy without re-ranking                            : 0.7117241379310345\n",
      "Accuracy with re-ranking(mmarco-mMiniLMv2-L12-H384-v1) : 0.823103448275862\n",
      "Accuracy with re-ranking(klue-cross-encoder-v1)        : 0.8137931034482758\n",
      "Accuracy with re-ranking(ms-marco-MiniLM-L-12-v2)      : 0.4606896551724138\n",
      "Accuracy with re-ranking(ms-marco-MiniLM-L-12-v2 tuning): 0.4555172413793103\n"
     ]
    },
    {
     "name": "stderr",
     "output_type": "stream",
     "text": [
      " 51%|████████████████████████████████████▊                                   | 2950/5769 [44:00<28:51,  1.63it/s]"
     ]
    },
    {
     "name": "stdout",
     "output_type": "stream",
     "text": [
      "Step 2950\n",
      "Accuracy without re-ranking                            : 0.7105084745762712\n",
      "Accuracy with re-ranking(mmarco-mMiniLMv2-L12-H384-v1) : 0.8213559322033899\n",
      "Accuracy with re-ranking(klue-cross-encoder-v1)        : 0.8122033898305084\n",
      "Accuracy with re-ranking(ms-marco-MiniLM-L-12-v2)      : 0.46135593220338983\n",
      "Accuracy with re-ranking(ms-marco-MiniLM-L-12-v2 tuning): 0.4552542372881356\n"
     ]
    },
    {
     "name": "stderr",
     "output_type": "stream",
     "text": [
      " 52%|█████████████████████████████████████▍                                  | 3000/5769 [44:32<29:56,  1.54it/s]"
     ]
    },
    {
     "name": "stdout",
     "output_type": "stream",
     "text": [
      "Step 3000\n",
      "Accuracy without re-ranking                            : 0.712\n",
      "Accuracy with re-ranking(mmarco-mMiniLMv2-L12-H384-v1) : 0.8213333333333334\n",
      "Accuracy with re-ranking(klue-cross-encoder-v1)        : 0.812\n",
      "Accuracy with re-ranking(ms-marco-MiniLM-L-12-v2)      : 0.46166666666666667\n",
      "Accuracy with re-ranking(ms-marco-MiniLM-L-12-v2 tuning): 0.456\n"
     ]
    },
    {
     "name": "stderr",
     "output_type": "stream",
     "text": [
      " 53%|██████████████████████████████████████                                  | 3050/5769 [45:03<26:41,  1.70it/s]"
     ]
    },
    {
     "name": "stdout",
     "output_type": "stream",
     "text": [
      "Step 3050\n",
      "Accuracy without re-ranking                            : 0.7127868852459016\n",
      "Accuracy with re-ranking(mmarco-mMiniLMv2-L12-H384-v1) : 0.8213114754098361\n",
      "Accuracy with re-ranking(klue-cross-encoder-v1)        : 0.8121311475409836\n",
      "Accuracy with re-ranking(ms-marco-MiniLM-L-12-v2)      : 0.4616393442622951\n",
      "Accuracy with re-ranking(ms-marco-MiniLM-L-12-v2 tuning): 0.4560655737704918\n"
     ]
    },
    {
     "name": "stderr",
     "output_type": "stream",
     "text": [
      " 54%|██████████████████████████████████████▋                                 | 3100/5769 [45:35<28:59,  1.53it/s]"
     ]
    },
    {
     "name": "stdout",
     "output_type": "stream",
     "text": [
      "Step 3100\n",
      "Accuracy without re-ranking                            : 0.7119354838709677\n",
      "Accuracy with re-ranking(mmarco-mMiniLMv2-L12-H384-v1) : 0.8209677419354838\n",
      "Accuracy with re-ranking(klue-cross-encoder-v1)        : 0.8116129032258065\n",
      "Accuracy with re-ranking(ms-marco-MiniLM-L-12-v2)      : 0.4632258064516129\n",
      "Accuracy with re-ranking(ms-marco-MiniLM-L-12-v2 tuning): 0.4570967741935484\n"
     ]
    },
    {
     "name": "stderr",
     "output_type": "stream",
     "text": [
      " 55%|███████████████████████████████████████▎                                | 3150/5769 [46:13<28:02,  1.56it/s]"
     ]
    },
    {
     "name": "stdout",
     "output_type": "stream",
     "text": [
      "Step 3150\n",
      "Accuracy without re-ranking                            : 0.713015873015873\n",
      "Accuracy with re-ranking(mmarco-mMiniLMv2-L12-H384-v1) : 0.8206349206349206\n",
      "Accuracy with re-ranking(klue-cross-encoder-v1)        : 0.8117460317460318\n",
      "Accuracy with re-ranking(ms-marco-MiniLM-L-12-v2)      : 0.4641269841269841\n",
      "Accuracy with re-ranking(ms-marco-MiniLM-L-12-v2 tuning): 0.4577777777777778\n"
     ]
    },
    {
     "name": "stderr",
     "output_type": "stream",
     "text": [
      " 55%|███████████████████████████████████████▉                                | 3200/5769 [46:49<26:50,  1.59it/s]"
     ]
    },
    {
     "name": "stdout",
     "output_type": "stream",
     "text": [
      "Step 3200\n",
      "Accuracy without re-ranking                            : 0.7134375\n",
      "Accuracy with re-ranking(mmarco-mMiniLMv2-L12-H384-v1) : 0.820625\n",
      "Accuracy with re-ranking(klue-cross-encoder-v1)        : 0.8121875\n",
      "Accuracy with re-ranking(ms-marco-MiniLM-L-12-v2)      : 0.464375\n",
      "Accuracy with re-ranking(ms-marco-MiniLM-L-12-v2 tuning): 0.456875\n"
     ]
    },
    {
     "name": "stderr",
     "output_type": "stream",
     "text": [
      " 56%|████████████████████████████████████████▌                               | 3250/5769 [47:27<27:10,  1.55it/s]"
     ]
    },
    {
     "name": "stdout",
     "output_type": "stream",
     "text": [
      "Step 3250\n",
      "Accuracy without re-ranking                            : 0.7132307692307692\n",
      "Accuracy with re-ranking(mmarco-mMiniLMv2-L12-H384-v1) : 0.820923076923077\n",
      "Accuracy with re-ranking(klue-cross-encoder-v1)        : 0.812923076923077\n",
      "Accuracy with re-ranking(ms-marco-MiniLM-L-12-v2)      : 0.4655384615384615\n",
      "Accuracy with re-ranking(ms-marco-MiniLM-L-12-v2 tuning): 0.4572307692307692\n"
     ]
    },
    {
     "name": "stderr",
     "output_type": "stream",
     "text": [
      " 57%|█████████████████████████████████████████▏                              | 3300/5769 [48:00<25:42,  1.60it/s]"
     ]
    },
    {
     "name": "stdout",
     "output_type": "stream",
     "text": [
      "Step 3300\n",
      "Accuracy without re-ranking                            : 0.7124242424242424\n",
      "Accuracy with re-ranking(mmarco-mMiniLMv2-L12-H384-v1) : 0.8203030303030303\n",
      "Accuracy with re-ranking(klue-cross-encoder-v1)        : 0.8121212121212121\n",
      "Accuracy with re-ranking(ms-marco-MiniLM-L-12-v2)      : 0.46545454545454545\n",
      "Accuracy with re-ranking(ms-marco-MiniLM-L-12-v2 tuning): 0.45636363636363636\n"
     ]
    },
    {
     "name": "stderr",
     "output_type": "stream",
     "text": [
      " 58%|█████████████████████████████████████████▊                              | 3350/5769 [48:36<26:19,  1.53it/s]"
     ]
    },
    {
     "name": "stdout",
     "output_type": "stream",
     "text": [
      "Step 3350\n",
      "Accuracy without re-ranking                            : 0.713134328358209\n",
      "Accuracy with re-ranking(mmarco-mMiniLMv2-L12-H384-v1) : 0.8214925373134329\n",
      "Accuracy with re-ranking(klue-cross-encoder-v1)        : 0.8128358208955224\n",
      "Accuracy with re-ranking(ms-marco-MiniLM-L-12-v2)      : 0.4665671641791045\n",
      "Accuracy with re-ranking(ms-marco-MiniLM-L-12-v2 tuning): 0.4591044776119403\n"
     ]
    },
    {
     "name": "stderr",
     "output_type": "stream",
     "text": [
      " 59%|██████████████████████████████████████████▍                             | 3400/5769 [49:12<26:43,  1.48it/s]"
     ]
    },
    {
     "name": "stdout",
     "output_type": "stream",
     "text": [
      "Step 3400\n",
      "Accuracy without re-ranking                            : 0.7111764705882353\n",
      "Accuracy with re-ranking(mmarco-mMiniLMv2-L12-H384-v1) : 0.8202941176470588\n",
      "Accuracy with re-ranking(klue-cross-encoder-v1)        : 0.8117647058823529\n",
      "Accuracy with re-ranking(ms-marco-MiniLM-L-12-v2)      : 0.4647058823529412\n",
      "Accuracy with re-ranking(ms-marco-MiniLM-L-12-v2 tuning): 0.4591176470588235\n"
     ]
    },
    {
     "name": "stderr",
     "output_type": "stream",
     "text": [
      " 60%|███████████████████████████████████████████                             | 3450/5769 [49:45<31:03,  1.24it/s]"
     ]
    },
    {
     "name": "stdout",
     "output_type": "stream",
     "text": [
      "Step 3450\n",
      "Accuracy without re-ranking                            : 0.7098550724637681\n",
      "Accuracy with re-ranking(mmarco-mMiniLMv2-L12-H384-v1) : 0.8191304347826087\n",
      "Accuracy with re-ranking(klue-cross-encoder-v1)        : 0.8110144927536231\n",
      "Accuracy with re-ranking(ms-marco-MiniLM-L-12-v2)      : 0.4646376811594203\n",
      "Accuracy with re-ranking(ms-marco-MiniLM-L-12-v2 tuning): 0.45971014492753626\n"
     ]
    },
    {
     "name": "stderr",
     "output_type": "stream",
     "text": [
      " 61%|███████████████████████████████████████████▋                            | 3500/5769 [50:26<26:51,  1.41it/s]"
     ]
    },
    {
     "name": "stdout",
     "output_type": "stream",
     "text": [
      "Step 3500\n",
      "Accuracy without re-ranking                            : 0.7077142857142857\n",
      "Accuracy with re-ranking(mmarco-mMiniLMv2-L12-H384-v1) : 0.8188571428571428\n",
      "Accuracy with re-ranking(klue-cross-encoder-v1)        : 0.8105714285714286\n",
      "Accuracy with re-ranking(ms-marco-MiniLM-L-12-v2)      : 0.4637142857142857\n",
      "Accuracy with re-ranking(ms-marco-MiniLM-L-12-v2 tuning): 0.45885714285714285\n"
     ]
    },
    {
     "name": "stderr",
     "output_type": "stream",
     "text": [
      " 62%|████████████████████████████████████████████▎                           | 3550/5769 [50:59<22:37,  1.63it/s]"
     ]
    },
    {
     "name": "stdout",
     "output_type": "stream",
     "text": [
      "Step 3550\n",
      "Accuracy without re-ranking                            : 0.7064788732394366\n",
      "Accuracy with re-ranking(mmarco-mMiniLMv2-L12-H384-v1) : 0.8180281690140845\n",
      "Accuracy with re-ranking(klue-cross-encoder-v1)        : 0.8095774647887324\n",
      "Accuracy with re-ranking(ms-marco-MiniLM-L-12-v2)      : 0.4628169014084507\n",
      "Accuracy with re-ranking(ms-marco-MiniLM-L-12-v2 tuning): 0.46\n"
     ]
    },
    {
     "name": "stderr",
     "output_type": "stream",
     "text": [
      " 62%|████████████████████████████████████████████▉                           | 3600/5769 [51:36<24:50,  1.46it/s]"
     ]
    },
    {
     "name": "stdout",
     "output_type": "stream",
     "text": [
      "Step 3600\n",
      "Accuracy without re-ranking                            : 0.7063888888888888\n",
      "Accuracy with re-ranking(mmarco-mMiniLMv2-L12-H384-v1) : 0.8175\n",
      "Accuracy with re-ranking(klue-cross-encoder-v1)        : 0.8091666666666667\n",
      "Accuracy with re-ranking(ms-marco-MiniLM-L-12-v2)      : 0.46444444444444444\n",
      "Accuracy with re-ranking(ms-marco-MiniLM-L-12-v2 tuning): 0.4597222222222222\n"
     ]
    },
    {
     "name": "stderr",
     "output_type": "stream",
     "text": [
      " 63%|█████████████████████████████████████████████▌                          | 3650/5769 [52:08<22:36,  1.56it/s]"
     ]
    },
    {
     "name": "stdout",
     "output_type": "stream",
     "text": [
      "Step 3650\n",
      "Accuracy without re-ranking                            : 0.7063013698630137\n",
      "Accuracy with re-ranking(mmarco-mMiniLMv2-L12-H384-v1) : 0.8178082191780822\n",
      "Accuracy with re-ranking(klue-cross-encoder-v1)        : 0.8098630136986301\n",
      "Accuracy with re-ranking(ms-marco-MiniLM-L-12-v2)      : 0.46328767123287673\n",
      "Accuracy with re-ranking(ms-marco-MiniLM-L-12-v2 tuning): 0.4589041095890411\n"
     ]
    },
    {
     "name": "stderr",
     "output_type": "stream",
     "text": [
      " 64%|██████████████████████████████████████████████▏                         | 3700/5769 [52:40<23:01,  1.50it/s]"
     ]
    },
    {
     "name": "stdout",
     "output_type": "stream",
     "text": [
      "Step 3700\n",
      "Accuracy without re-ranking                            : 0.7067567567567568\n",
      "Accuracy with re-ranking(mmarco-mMiniLMv2-L12-H384-v1) : 0.8189189189189189\n",
      "Accuracy with re-ranking(klue-cross-encoder-v1)        : 0.8110810810810811\n",
      "Accuracy with re-ranking(ms-marco-MiniLM-L-12-v2)      : 0.46378378378378377\n",
      "Accuracy with re-ranking(ms-marco-MiniLM-L-12-v2 tuning): 0.4586486486486486\n"
     ]
    },
    {
     "name": "stderr",
     "output_type": "stream",
     "text": [
      " 65%|██████████████████████████████████████████████▊                         | 3750/5769 [53:13<20:20,  1.65it/s]"
     ]
    },
    {
     "name": "stdout",
     "output_type": "stream",
     "text": [
      "Step 3750\n",
      "Accuracy without re-ranking                            : 0.7061333333333333\n",
      "Accuracy with re-ranking(mmarco-mMiniLMv2-L12-H384-v1) : 0.8186666666666667\n",
      "Accuracy with re-ranking(klue-cross-encoder-v1)        : 0.8112\n",
      "Accuracy with re-ranking(ms-marco-MiniLM-L-12-v2)      : 0.4624\n",
      "Accuracy with re-ranking(ms-marco-MiniLM-L-12-v2 tuning): 0.4573333333333333\n"
     ]
    },
    {
     "name": "stderr",
     "output_type": "stream",
     "text": [
      " 66%|███████████████████████████████████████████████▍                        | 3800/5769 [53:53<20:53,  1.57it/s]"
     ]
    },
    {
     "name": "stdout",
     "output_type": "stream",
     "text": [
      "Step 3800\n",
      "Accuracy without re-ranking                            : 0.7060526315789474\n",
      "Accuracy with re-ranking(mmarco-mMiniLMv2-L12-H384-v1) : 0.8181578947368421\n",
      "Accuracy with re-ranking(klue-cross-encoder-v1)        : 0.8110526315789474\n",
      "Accuracy with re-ranking(ms-marco-MiniLM-L-12-v2)      : 0.4636842105263158\n",
      "Accuracy with re-ranking(ms-marco-MiniLM-L-12-v2 tuning): 0.4586842105263158\n"
     ]
    },
    {
     "name": "stderr",
     "output_type": "stream",
     "text": [
      " 67%|████████████████████████████████████████████████                        | 3850/5769 [54:25<19:36,  1.63it/s]"
     ]
    },
    {
     "name": "stdout",
     "output_type": "stream",
     "text": [
      "Step 3850\n",
      "Accuracy without re-ranking                            : 0.7059740259740259\n",
      "Accuracy with re-ranking(mmarco-mMiniLMv2-L12-H384-v1) : 0.8174025974025974\n",
      "Accuracy with re-ranking(klue-cross-encoder-v1)        : 0.8103896103896104\n",
      "Accuracy with re-ranking(ms-marco-MiniLM-L-12-v2)      : 0.4633766233766234\n",
      "Accuracy with re-ranking(ms-marco-MiniLM-L-12-v2 tuning): 0.45896103896103896\n"
     ]
    },
    {
     "name": "stderr",
     "output_type": "stream",
     "text": [
      " 68%|████████████████████████████████████████████████▋                       | 3900/5769 [55:00<21:43,  1.43it/s]"
     ]
    },
    {
     "name": "stdout",
     "output_type": "stream",
     "text": [
      "Step 3900\n",
      "Accuracy without re-ranking                            : 0.7046153846153846\n",
      "Accuracy with re-ranking(mmarco-mMiniLMv2-L12-H384-v1) : 0.8166666666666667\n",
      "Accuracy with re-ranking(klue-cross-encoder-v1)        : 0.8097435897435897\n",
      "Accuracy with re-ranking(ms-marco-MiniLM-L-12-v2)      : 0.4635897435897436\n",
      "Accuracy with re-ranking(ms-marco-MiniLM-L-12-v2 tuning): 0.45974358974358975\n"
     ]
    },
    {
     "name": "stderr",
     "output_type": "stream",
     "text": [
      " 68%|█████████████████████████████████████████████████▎                      | 3950/5769 [55:36<19:44,  1.54it/s]"
     ]
    },
    {
     "name": "stdout",
     "output_type": "stream",
     "text": [
      "Step 3950\n",
      "Accuracy without re-ranking                            : 0.7048101265822785\n",
      "Accuracy with re-ranking(mmarco-mMiniLMv2-L12-H384-v1) : 0.8162025316455697\n",
      "Accuracy with re-ranking(klue-cross-encoder-v1)        : 0.809367088607595\n",
      "Accuracy with re-ranking(ms-marco-MiniLM-L-12-v2)      : 0.46379746835443036\n",
      "Accuracy with re-ranking(ms-marco-MiniLM-L-12-v2 tuning): 0.45974683544303796\n"
     ]
    },
    {
     "name": "stderr",
     "output_type": "stream",
     "text": [
      " 69%|█████████████████████████████████████████████████▉                      | 4000/5769 [56:17<23:49,  1.24it/s]"
     ]
    },
    {
     "name": "stdout",
     "output_type": "stream",
     "text": [
      "Step 4000\n",
      "Accuracy without re-ranking                            : 0.704\n",
      "Accuracy with re-ranking(mmarco-mMiniLMv2-L12-H384-v1) : 0.81425\n",
      "Accuracy with re-ranking(klue-cross-encoder-v1)        : 0.8075\n",
      "Accuracy with re-ranking(ms-marco-MiniLM-L-12-v2)      : 0.46225\n",
      "Accuracy with re-ranking(ms-marco-MiniLM-L-12-v2 tuning): 0.4585\n"
     ]
    },
    {
     "name": "stderr",
     "output_type": "stream",
     "text": [
      " 70%|██████████████████████████████████████████████████▌                     | 4050/5769 [56:49<18:35,  1.54it/s]"
     ]
    },
    {
     "name": "stdout",
     "output_type": "stream",
     "text": [
      "Step 4050\n",
      "Accuracy without re-ranking                            : 0.7046913580246914\n",
      "Accuracy with re-ranking(mmarco-mMiniLMv2-L12-H384-v1) : 0.8140740740740741\n",
      "Accuracy with re-ranking(klue-cross-encoder-v1)        : 0.8076543209876543\n",
      "Accuracy with re-ranking(ms-marco-MiniLM-L-12-v2)      : 0.46271604938271604\n",
      "Accuracy with re-ranking(ms-marco-MiniLM-L-12-v2 tuning): 0.4587654320987654\n"
     ]
    },
    {
     "name": "stderr",
     "output_type": "stream",
     "text": [
      " 71%|███████████████████████████████████████████████████▏                    | 4100/5769 [57:28<23:19,  1.19it/s]"
     ]
    },
    {
     "name": "stdout",
     "output_type": "stream",
     "text": [
      "Step 4100\n",
      "Accuracy without re-ranking                            : 0.7041463414634146\n",
      "Accuracy with re-ranking(mmarco-mMiniLMv2-L12-H384-v1) : 0.813170731707317\n",
      "Accuracy with re-ranking(klue-cross-encoder-v1)        : 0.8070731707317074\n",
      "Accuracy with re-ranking(ms-marco-MiniLM-L-12-v2)      : 0.4631707317073171\n",
      "Accuracy with re-ranking(ms-marco-MiniLM-L-12-v2 tuning): 0.45951219512195124\n"
     ]
    },
    {
     "name": "stderr",
     "output_type": "stream",
     "text": [
      " 72%|███████████████████████████████████████████████████▊                    | 4150/5769 [58:03<17:36,  1.53it/s]"
     ]
    },
    {
     "name": "stdout",
     "output_type": "stream",
     "text": [
      "Step 4150\n",
      "Accuracy without re-ranking                            : 0.7050602409638554\n",
      "Accuracy with re-ranking(mmarco-mMiniLMv2-L12-H384-v1) : 0.8139759036144578\n",
      "Accuracy with re-ranking(klue-cross-encoder-v1)        : 0.8081927710843374\n",
      "Accuracy with re-ranking(ms-marco-MiniLM-L-12-v2)      : 0.46433734939759036\n",
      "Accuracy with re-ranking(ms-marco-MiniLM-L-12-v2 tuning): 0.46072289156626506\n"
     ]
    },
    {
     "name": "stderr",
     "output_type": "stream",
     "text": [
      " 73%|████████████████████████████████████████████████████▍                   | 4200/5769 [58:38<18:33,  1.41it/s]"
     ]
    },
    {
     "name": "stdout",
     "output_type": "stream",
     "text": [
      "Step 4200\n",
      "Accuracy without re-ranking                            : 0.7057142857142857\n",
      "Accuracy with re-ranking(mmarco-mMiniLMv2-L12-H384-v1) : 0.814047619047619\n",
      "Accuracy with re-ranking(klue-cross-encoder-v1)        : 0.8083333333333333\n",
      "Accuracy with re-ranking(ms-marco-MiniLM-L-12-v2)      : 0.46476190476190476\n",
      "Accuracy with re-ranking(ms-marco-MiniLM-L-12-v2 tuning): 0.4614285714285714\n"
     ]
    },
    {
     "name": "stderr",
     "output_type": "stream",
     "text": [
      " 74%|█████████████████████████████████████████████████████                   | 4250/5769 [59:14<14:41,  1.72it/s]"
     ]
    },
    {
     "name": "stdout",
     "output_type": "stream",
     "text": [
      "Step 4250\n",
      "Accuracy without re-ranking                            : 0.7063529411764706\n",
      "Accuracy with re-ranking(mmarco-mMiniLMv2-L12-H384-v1) : 0.8148235294117647\n",
      "Accuracy with re-ranking(klue-cross-encoder-v1)        : 0.8091764705882353\n",
      "Accuracy with re-ranking(ms-marco-MiniLM-L-12-v2)      : 0.4656470588235294\n",
      "Accuracy with re-ranking(ms-marco-MiniLM-L-12-v2 tuning): 0.4628235294117647\n"
     ]
    },
    {
     "name": "stderr",
     "output_type": "stream",
     "text": [
      " 75%|█████████████████████████████████████████████████████▋                  | 4300/5769 [59:49<16:04,  1.52it/s]"
     ]
    },
    {
     "name": "stdout",
     "output_type": "stream",
     "text": [
      "Step 4300\n",
      "Accuracy without re-ranking                            : 0.706046511627907\n",
      "Accuracy with re-ranking(mmarco-mMiniLMv2-L12-H384-v1) : 0.8148837209302325\n",
      "Accuracy with re-ranking(klue-cross-encoder-v1)        : 0.8090697674418604\n",
      "Accuracy with re-ranking(ms-marco-MiniLM-L-12-v2)      : 0.4653488372093023\n",
      "Accuracy with re-ranking(ms-marco-MiniLM-L-12-v2 tuning): 0.4625581395348837\n"
     ]
    },
    {
     "name": "stderr",
     "output_type": "stream",
     "text": [
      " 75%|████████████████████████████████████████████████████▊                 | 4350/5769 [1:00:27<18:35,  1.27it/s]"
     ]
    },
    {
     "name": "stdout",
     "output_type": "stream",
     "text": [
      "Step 4350\n",
      "Accuracy without re-ranking                            : 0.705287356321839\n",
      "Accuracy with re-ranking(mmarco-mMiniLMv2-L12-H384-v1) : 0.8140229885057472\n",
      "Accuracy with re-ranking(klue-cross-encoder-v1)        : 0.807816091954023\n",
      "Accuracy with re-ranking(ms-marco-MiniLM-L-12-v2)      : 0.46436781609195404\n",
      "Accuracy with re-ranking(ms-marco-MiniLM-L-12-v2 tuning): 0.46229885057471265\n"
     ]
    },
    {
     "name": "stderr",
     "output_type": "stream",
     "text": [
      " 76%|█████████████████████████████████████████████████████▍                | 4400/5769 [1:01:09<15:16,  1.49it/s]"
     ]
    },
    {
     "name": "stdout",
     "output_type": "stream",
     "text": [
      "Step 4400\n",
      "Accuracy without re-ranking                            : 0.7068181818181818\n",
      "Accuracy with re-ranking(mmarco-mMiniLMv2-L12-H384-v1) : 0.8143181818181818\n",
      "Accuracy with re-ranking(klue-cross-encoder-v1)        : 0.8084090909090909\n",
      "Accuracy with re-ranking(ms-marco-MiniLM-L-12-v2)      : 0.4647727272727273\n",
      "Accuracy with re-ranking(ms-marco-MiniLM-L-12-v2 tuning): 0.4636363636363636\n"
     ]
    },
    {
     "name": "stderr",
     "output_type": "stream",
     "text": [
      " 77%|█████████████████████████████████████████████████████▉                | 4450/5769 [1:01:45<14:39,  1.50it/s]"
     ]
    },
    {
     "name": "stdout",
     "output_type": "stream",
     "text": [
      "Step 4450\n",
      "Accuracy without re-ranking                            : 0.7089887640449438\n",
      "Accuracy with re-ranking(mmarco-mMiniLMv2-L12-H384-v1) : 0.8164044943820224\n",
      "Accuracy with re-ranking(klue-cross-encoder-v1)        : 0.8101123595505618\n",
      "Accuracy with re-ranking(ms-marco-MiniLM-L-12-v2)      : 0.4651685393258427\n",
      "Accuracy with re-ranking(ms-marco-MiniLM-L-12-v2 tuning): 0.4651685393258427\n"
     ]
    },
    {
     "name": "stderr",
     "output_type": "stream",
     "text": [
      " 78%|██████████████████████████████████████████████████████▌               | 4500/5769 [1:02:19<15:08,  1.40it/s]"
     ]
    },
    {
     "name": "stdout",
     "output_type": "stream",
     "text": [
      "Step 4500\n",
      "Accuracy without re-ranking                            : 0.71\n",
      "Accuracy with re-ranking(mmarco-mMiniLMv2-L12-H384-v1) : 0.816\n",
      "Accuracy with re-ranking(klue-cross-encoder-v1)        : 0.8097777777777778\n",
      "Accuracy with re-ranking(ms-marco-MiniLM-L-12-v2)      : 0.4662222222222222\n",
      "Accuracy with re-ranking(ms-marco-MiniLM-L-12-v2 tuning): 0.4653333333333333\n"
     ]
    },
    {
     "name": "stderr",
     "output_type": "stream",
     "text": [
      " 79%|███████████████████████████████████████████████████████▏              | 4550/5769 [1:02:55<14:20,  1.42it/s]"
     ]
    },
    {
     "name": "stdout",
     "output_type": "stream",
     "text": [
      "Step 4550\n",
      "Accuracy without re-ranking                            : 0.7112087912087912\n",
      "Accuracy with re-ranking(mmarco-mMiniLMv2-L12-H384-v1) : 0.816923076923077\n",
      "Accuracy with re-ranking(klue-cross-encoder-v1)        : 0.8105494505494506\n",
      "Accuracy with re-ranking(ms-marco-MiniLM-L-12-v2)      : 0.4674725274725275\n",
      "Accuracy with re-ranking(ms-marco-MiniLM-L-12-v2 tuning): 0.46593406593406594\n"
     ]
    },
    {
     "name": "stderr",
     "output_type": "stream",
     "text": [
      " 80%|███████████████████████████████████████████████████████▊              | 4600/5769 [1:03:38<13:28,  1.45it/s]"
     ]
    },
    {
     "name": "stdout",
     "output_type": "stream",
     "text": [
      "Step 4600\n",
      "Accuracy without re-ranking                            : 0.7117391304347827\n",
      "Accuracy with re-ranking(mmarco-mMiniLMv2-L12-H384-v1) : 0.8165217391304348\n",
      "Accuracy with re-ranking(klue-cross-encoder-v1)        : 0.8097826086956522\n",
      "Accuracy with re-ranking(ms-marco-MiniLM-L-12-v2)      : 0.46608695652173915\n",
      "Accuracy with re-ranking(ms-marco-MiniLM-L-12-v2 tuning): 0.4641304347826087\n"
     ]
    },
    {
     "name": "stderr",
     "output_type": "stream",
     "text": [
      " 81%|████████████████████████████████████████████████████████▍             | 4650/5769 [1:04:12<13:26,  1.39it/s]"
     ]
    },
    {
     "name": "stdout",
     "output_type": "stream",
     "text": [
      "Step 4650\n",
      "Accuracy without re-ranking                            : 0.712258064516129\n",
      "Accuracy with re-ranking(mmarco-mMiniLMv2-L12-H384-v1) : 0.816989247311828\n",
      "Accuracy with re-ranking(klue-cross-encoder-v1)        : 0.8103225806451613\n",
      "Accuracy with re-ranking(ms-marco-MiniLM-L-12-v2)      : 0.4664516129032258\n",
      "Accuracy with re-ranking(ms-marco-MiniLM-L-12-v2 tuning): 0.46408602150537637\n"
     ]
    },
    {
     "name": "stderr",
     "output_type": "stream",
     "text": [
      " 81%|█████████████████████████████████████████████████████████             | 4700/5769 [1:04:47<12:13,  1.46it/s]"
     ]
    },
    {
     "name": "stdout",
     "output_type": "stream",
     "text": [
      "Step 4700\n",
      "Accuracy without re-ranking                            : 0.7129787234042553\n",
      "Accuracy with re-ranking(mmarco-mMiniLMv2-L12-H384-v1) : 0.8176595744680851\n",
      "Accuracy with re-ranking(klue-cross-encoder-v1)        : 0.811063829787234\n",
      "Accuracy with re-ranking(ms-marco-MiniLM-L-12-v2)      : 0.4676595744680851\n",
      "Accuracy with re-ranking(ms-marco-MiniLM-L-12-v2 tuning): 0.4646808510638298\n"
     ]
    },
    {
     "name": "stderr",
     "output_type": "stream",
     "text": [
      " 82%|█████████████████████████████████████████████████████████▋            | 4750/5769 [1:05:25<19:15,  1.13s/it]"
     ]
    },
    {
     "name": "stdout",
     "output_type": "stream",
     "text": [
      "Step 4750\n",
      "Accuracy without re-ranking                            : 0.7138947368421052\n",
      "Accuracy with re-ranking(mmarco-mMiniLMv2-L12-H384-v1) : 0.8181052631578948\n",
      "Accuracy with re-ranking(klue-cross-encoder-v1)        : 0.8115789473684211\n",
      "Accuracy with re-ranking(ms-marco-MiniLM-L-12-v2)      : 0.468\n",
      "Accuracy with re-ranking(ms-marco-MiniLM-L-12-v2 tuning): 0.4652631578947368\n"
     ]
    },
    {
     "name": "stderr",
     "output_type": "stream",
     "text": [
      " 83%|██████████████████████████████████████████████████████████▏           | 4800/5769 [1:06:03<12:04,  1.34it/s]"
     ]
    },
    {
     "name": "stdout",
     "output_type": "stream",
     "text": [
      "Step 4800\n",
      "Accuracy without re-ranking                            : 0.7141666666666666\n",
      "Accuracy with re-ranking(mmarco-mMiniLMv2-L12-H384-v1) : 0.8172916666666666\n",
      "Accuracy with re-ranking(klue-cross-encoder-v1)        : 0.8110416666666667\n",
      "Accuracy with re-ranking(ms-marco-MiniLM-L-12-v2)      : 0.466875\n",
      "Accuracy with re-ranking(ms-marco-MiniLM-L-12-v2 tuning): 0.46458333333333335\n"
     ]
    },
    {
     "name": "stderr",
     "output_type": "stream",
     "text": [
      " 84%|██████████████████████████████████████████████████████████▊           | 4850/5769 [1:06:43<09:38,  1.59it/s]"
     ]
    },
    {
     "name": "stdout",
     "output_type": "stream",
     "text": [
      "Step 4850\n",
      "Accuracy without re-ranking                            : 0.7148453608247423\n",
      "Accuracy with re-ranking(mmarco-mMiniLMv2-L12-H384-v1) : 0.8175257731958763\n",
      "Accuracy with re-ranking(klue-cross-encoder-v1)        : 0.811340206185567\n",
      "Accuracy with re-ranking(ms-marco-MiniLM-L-12-v2)      : 0.4672164948453608\n",
      "Accuracy with re-ranking(ms-marco-MiniLM-L-12-v2 tuning): 0.4645360824742268\n"
     ]
    },
    {
     "name": "stderr",
     "output_type": "stream",
     "text": [
      " 85%|███████████████████████████████████████████████████████████▍          | 4900/5769 [1:07:19<10:45,  1.35it/s]"
     ]
    },
    {
     "name": "stdout",
     "output_type": "stream",
     "text": [
      "Step 4900\n",
      "Accuracy without re-ranking                            : 0.7153061224489796\n",
      "Accuracy with re-ranking(mmarco-mMiniLMv2-L12-H384-v1) : 0.8179591836734694\n",
      "Accuracy with re-ranking(klue-cross-encoder-v1)        : 0.8116326530612245\n",
      "Accuracy with re-ranking(ms-marco-MiniLM-L-12-v2)      : 0.4679591836734694\n",
      "Accuracy with re-ranking(ms-marco-MiniLM-L-12-v2 tuning): 0.4642857142857143\n"
     ]
    },
    {
     "name": "stderr",
     "output_type": "stream",
     "text": [
      " 86%|████████████████████████████████████████████████████████████          | 4950/5769 [1:08:00<10:16,  1.33it/s]"
     ]
    },
    {
     "name": "stdout",
     "output_type": "stream",
     "text": [
      "Step 4950\n",
      "Accuracy without re-ranking                            : 0.7151515151515152\n",
      "Accuracy with re-ranking(mmarco-mMiniLMv2-L12-H384-v1) : 0.8177777777777778\n",
      "Accuracy with re-ranking(klue-cross-encoder-v1)        : 0.8113131313131313\n",
      "Accuracy with re-ranking(ms-marco-MiniLM-L-12-v2)      : 0.4672727272727273\n",
      "Accuracy with re-ranking(ms-marco-MiniLM-L-12-v2 tuning): 0.46444444444444444\n"
     ]
    },
    {
     "name": "stderr",
     "output_type": "stream",
     "text": [
      " 87%|████████████████████████████████████████████████████████████▋         | 5000/5769 [1:08:35<08:53,  1.44it/s]"
     ]
    },
    {
     "name": "stdout",
     "output_type": "stream",
     "text": [
      "Step 5000\n",
      "Accuracy without re-ranking                            : 0.7164\n",
      "Accuracy with re-ranking(mmarco-mMiniLMv2-L12-H384-v1) : 0.8188\n",
      "Accuracy with re-ranking(klue-cross-encoder-v1)        : 0.8122\n",
      "Accuracy with re-ranking(ms-marco-MiniLM-L-12-v2)      : 0.4666\n",
      "Accuracy with re-ranking(ms-marco-MiniLM-L-12-v2 tuning): 0.4638\n"
     ]
    },
    {
     "name": "stderr",
     "output_type": "stream",
     "text": [
      " 88%|█████████████████████████████████████████████████████████████▎        | 5050/5769 [1:09:15<07:41,  1.56it/s]"
     ]
    },
    {
     "name": "stdout",
     "output_type": "stream",
     "text": [
      "Step 5050\n",
      "Accuracy without re-ranking                            : 0.7164356435643564\n",
      "Accuracy with re-ranking(mmarco-mMiniLMv2-L12-H384-v1) : 0.8182178217821782\n",
      "Accuracy with re-ranking(klue-cross-encoder-v1)        : 0.8118811881188119\n",
      "Accuracy with re-ranking(ms-marco-MiniLM-L-12-v2)      : 0.46752475247524755\n",
      "Accuracy with re-ranking(ms-marco-MiniLM-L-12-v2 tuning): 0.4641584158415842\n"
     ]
    },
    {
     "name": "stderr",
     "output_type": "stream",
     "text": [
      " 88%|█████████████████████████████████████████████████████████████▉        | 5100/5769 [1:10:03<08:08,  1.37it/s]"
     ]
    },
    {
     "name": "stdout",
     "output_type": "stream",
     "text": [
      "Step 5100\n",
      "Accuracy without re-ranking                            : 0.7182352941176471\n",
      "Accuracy with re-ranking(mmarco-mMiniLMv2-L12-H384-v1) : 0.8194117647058824\n",
      "Accuracy with re-ranking(klue-cross-encoder-v1)        : 0.8131372549019608\n",
      "Accuracy with re-ranking(ms-marco-MiniLM-L-12-v2)      : 0.46862745098039216\n",
      "Accuracy with re-ranking(ms-marco-MiniLM-L-12-v2 tuning): 0.46490196078431373\n"
     ]
    },
    {
     "name": "stderr",
     "output_type": "stream",
     "text": [
      " 89%|██████████████████████████████████████████████████████████████▍       | 5150/5769 [1:10:55<07:50,  1.32it/s]"
     ]
    },
    {
     "name": "stdout",
     "output_type": "stream",
     "text": [
      "Step 5150\n",
      "Accuracy without re-ranking                            : 0.7188349514563107\n",
      "Accuracy with re-ranking(mmarco-mMiniLMv2-L12-H384-v1) : 0.8198058252427185\n",
      "Accuracy with re-ranking(klue-cross-encoder-v1)        : 0.8135922330097087\n",
      "Accuracy with re-ranking(ms-marco-MiniLM-L-12-v2)      : 0.46873786407766993\n",
      "Accuracy with re-ranking(ms-marco-MiniLM-L-12-v2 tuning): 0.4652427184466019\n"
     ]
    },
    {
     "name": "stderr",
     "output_type": "stream",
     "text": [
      " 90%|███████████████████████████████████████████████████████████████       | 5200/5769 [1:11:33<09:30,  1.00s/it]"
     ]
    },
    {
     "name": "stdout",
     "output_type": "stream",
     "text": [
      "Step 5200\n",
      "Accuracy without re-ranking                            : 0.7190384615384615\n",
      "Accuracy with re-ranking(mmarco-mMiniLMv2-L12-H384-v1) : 0.8205769230769231\n",
      "Accuracy with re-ranking(klue-cross-encoder-v1)        : 0.8140384615384615\n",
      "Accuracy with re-ranking(ms-marco-MiniLM-L-12-v2)      : 0.4690384615384615\n",
      "Accuracy with re-ranking(ms-marco-MiniLM-L-12-v2 tuning): 0.46557692307692305\n"
     ]
    },
    {
     "name": "stderr",
     "output_type": "stream",
     "text": [
      " 91%|███████████████████████████████████████████████████████████████▋      | 5250/5769 [1:12:07<05:29,  1.58it/s]"
     ]
    },
    {
     "name": "stdout",
     "output_type": "stream",
     "text": [
      "Step 5250\n",
      "Accuracy without re-ranking                            : 0.7198095238095238\n",
      "Accuracy with re-ranking(mmarco-mMiniLMv2-L12-H384-v1) : 0.8211428571428572\n",
      "Accuracy with re-ranking(klue-cross-encoder-v1)        : 0.8148571428571428\n",
      "Accuracy with re-ranking(ms-marco-MiniLM-L-12-v2)      : 0.4695238095238095\n",
      "Accuracy with re-ranking(ms-marco-MiniLM-L-12-v2 tuning): 0.4657142857142857\n"
     ]
    },
    {
     "name": "stderr",
     "output_type": "stream",
     "text": [
      " 92%|████████████████████████████████████████████████████████████████▎     | 5300/5769 [1:12:45<05:26,  1.44it/s]"
     ]
    },
    {
     "name": "stdout",
     "output_type": "stream",
     "text": [
      "Step 5300\n",
      "Accuracy without re-ranking                            : 0.720754716981132\n",
      "Accuracy with re-ranking(mmarco-mMiniLMv2-L12-H384-v1) : 0.8215094339622642\n",
      "Accuracy with re-ranking(klue-cross-encoder-v1)        : 0.8152830188679245\n",
      "Accuracy with re-ranking(ms-marco-MiniLM-L-12-v2)      : 0.47094339622641507\n",
      "Accuracy with re-ranking(ms-marco-MiniLM-L-12-v2 tuning): 0.4671698113207547\n"
     ]
    },
    {
     "name": "stderr",
     "output_type": "stream",
     "text": [
      " 93%|████████████████████████████████████████████████████████████████▉     | 5350/5769 [1:13:24<05:13,  1.33it/s]"
     ]
    },
    {
     "name": "stdout",
     "output_type": "stream",
     "text": [
      "Step 5350\n",
      "Accuracy without re-ranking                            : 0.7220560747663551\n",
      "Accuracy with re-ranking(mmarco-mMiniLMv2-L12-H384-v1) : 0.822429906542056\n",
      "Accuracy with re-ranking(klue-cross-encoder-v1)        : 0.8162616822429907\n",
      "Accuracy with re-ranking(ms-marco-MiniLM-L-12-v2)      : 0.4708411214953271\n",
      "Accuracy with re-ranking(ms-marco-MiniLM-L-12-v2 tuning): 0.46654205607476634\n"
     ]
    },
    {
     "name": "stderr",
     "output_type": "stream",
     "text": [
      " 94%|█████████████████████████████████████████████████████████████████▌    | 5400/5769 [1:14:10<08:51,  1.44s/it]"
     ]
    },
    {
     "name": "stdout",
     "output_type": "stream",
     "text": [
      "Step 5400\n",
      "Accuracy without re-ranking                            : 0.7222222222222222\n",
      "Accuracy with re-ranking(mmarco-mMiniLMv2-L12-H384-v1) : 0.8224074074074074\n",
      "Accuracy with re-ranking(klue-cross-encoder-v1)        : 0.8164814814814815\n",
      "Accuracy with re-ranking(ms-marco-MiniLM-L-12-v2)      : 0.4709259259259259\n",
      "Accuracy with re-ranking(ms-marco-MiniLM-L-12-v2 tuning): 0.46685185185185185\n"
     ]
    },
    {
     "name": "stderr",
     "output_type": "stream",
     "text": [
      " 94%|██████████████████████████████████████████████████████████████████▏   | 5450/5769 [1:14:51<04:19,  1.23it/s]"
     ]
    },
    {
     "name": "stdout",
     "output_type": "stream",
     "text": [
      "Step 5450\n",
      "Accuracy without re-ranking                            : 0.7234862385321101\n",
      "Accuracy with re-ranking(mmarco-mMiniLMv2-L12-H384-v1) : 0.8231192660550458\n",
      "Accuracy with re-ranking(klue-cross-encoder-v1)        : 0.8172477064220184\n",
      "Accuracy with re-ranking(ms-marco-MiniLM-L-12-v2)      : 0.4722935779816514\n",
      "Accuracy with re-ranking(ms-marco-MiniLM-L-12-v2 tuning): 0.46825688073394495\n"
     ]
    },
    {
     "name": "stderr",
     "output_type": "stream",
     "text": [
      " 95%|██████████████████████████████████████████████████████████████████▋   | 5500/5769 [1:15:28<03:04,  1.46it/s]"
     ]
    },
    {
     "name": "stdout",
     "output_type": "stream",
     "text": [
      "Step 5500\n",
      "Accuracy without re-ranking                            : 0.7241818181818181\n",
      "Accuracy with re-ranking(mmarco-mMiniLMv2-L12-H384-v1) : 0.8238181818181818\n",
      "Accuracy with re-ranking(klue-cross-encoder-v1)        : 0.8178181818181818\n",
      "Accuracy with re-ranking(ms-marco-MiniLM-L-12-v2)      : 0.472\n",
      "Accuracy with re-ranking(ms-marco-MiniLM-L-12-v2 tuning): 0.46745454545454546\n"
     ]
    },
    {
     "name": "stderr",
     "output_type": "stream",
     "text": [
      " 96%|███████████████████████████████████████████████████████████████████▎  | 5550/5769 [1:16:04<02:30,  1.46it/s]"
     ]
    },
    {
     "name": "stdout",
     "output_type": "stream",
     "text": [
      "Step 5550\n",
      "Accuracy without re-ranking                            : 0.7237837837837838\n",
      "Accuracy with re-ranking(mmarco-mMiniLMv2-L12-H384-v1) : 0.823963963963964\n",
      "Accuracy with re-ranking(klue-cross-encoder-v1)        : 0.8176576576576576\n",
      "Accuracy with re-ranking(ms-marco-MiniLM-L-12-v2)      : 0.4718918918918919\n",
      "Accuracy with re-ranking(ms-marco-MiniLM-L-12-v2 tuning): 0.4673873873873874\n"
     ]
    },
    {
     "name": "stderr",
     "output_type": "stream",
     "text": [
      " 97%|███████████████████████████████████████████████████████████████████▉  | 5600/5769 [1:16:42<02:10,  1.30it/s]"
     ]
    },
    {
     "name": "stdout",
     "output_type": "stream",
     "text": [
      "Step 5600\n",
      "Accuracy without re-ranking                            : 0.725\n",
      "Accuracy with re-ranking(mmarco-mMiniLMv2-L12-H384-v1) : 0.825\n",
      "Accuracy with re-ranking(klue-cross-encoder-v1)        : 0.81875\n",
      "Accuracy with re-ranking(ms-marco-MiniLM-L-12-v2)      : 0.4733928571428571\n",
      "Accuracy with re-ranking(ms-marco-MiniLM-L-12-v2 tuning): 0.46875\n"
     ]
    },
    {
     "name": "stderr",
     "output_type": "stream",
     "text": [
      " 98%|████████████████████████████████████████████████████████████████████▌ | 5650/5769 [1:17:21<01:20,  1.48it/s]"
     ]
    },
    {
     "name": "stdout",
     "output_type": "stream",
     "text": [
      "Step 5650\n",
      "Accuracy without re-ranking                            : 0.7261946902654868\n",
      "Accuracy with re-ranking(mmarco-mMiniLMv2-L12-H384-v1) : 0.8254867256637168\n",
      "Accuracy with re-ranking(klue-cross-encoder-v1)        : 0.8191150442477876\n",
      "Accuracy with re-ranking(ms-marco-MiniLM-L-12-v2)      : 0.47415929203539825\n",
      "Accuracy with re-ranking(ms-marco-MiniLM-L-12-v2 tuning): 0.4695575221238938\n"
     ]
    },
    {
     "name": "stderr",
     "output_type": "stream",
     "text": [
      " 99%|█████████████████████████████████████████████████████████████████████▏| 5700/5769 [1:18:02<01:01,  1.13it/s]"
     ]
    },
    {
     "name": "stdout",
     "output_type": "stream",
     "text": [
      "Step 5700\n",
      "Accuracy without re-ranking                            : 0.7273684210526316\n",
      "Accuracy with re-ranking(mmarco-mMiniLMv2-L12-H384-v1) : 0.826140350877193\n",
      "Accuracy with re-ranking(klue-cross-encoder-v1)        : 0.8198245614035088\n",
      "Accuracy with re-ranking(ms-marco-MiniLM-L-12-v2)      : 0.47368421052631576\n",
      "Accuracy with re-ranking(ms-marco-MiniLM-L-12-v2 tuning): 0.4691228070175439\n"
     ]
    },
    {
     "name": "stderr",
     "output_type": "stream",
     "text": [
      "100%|█████████████████████████████████████████████████████████████████████▊| 5750/5769 [1:18:40<00:15,  1.26it/s]"
     ]
    },
    {
     "name": "stdout",
     "output_type": "stream",
     "text": [
      "Step 5750\n",
      "Accuracy without re-ranking                            : 0.7269565217391304\n",
      "Accuracy with re-ranking(mmarco-mMiniLMv2-L12-H384-v1) : 0.8262608695652174\n",
      "Accuracy with re-ranking(klue-cross-encoder-v1)        : 0.82\n",
      "Accuracy with re-ranking(ms-marco-MiniLM-L-12-v2)      : 0.4737391304347826\n",
      "Accuracy with re-ranking(ms-marco-MiniLM-L-12-v2 tuning): 0.4693913043478261\n"
     ]
    },
    {
     "name": "stderr",
     "output_type": "stream",
     "text": [
      "100%|██████████████████████████████████████████████████████████████████████| 5769/5769 [1:18:54<00:00,  1.22it/s]\n"
     ]
    }
   ],
   "source": [
    "i = 0\n",
    "print_every = 50\n",
    "predictions = []\n",
    "for question in tqdm(val_sample['question']):\n",
    "    retrieved_hash, reranked_hash_1, reranked_hash_2, reranked_hash_3, reranked_hash_4 = eval_ranking_4(question, cross_encoder_1, cross_encoder_2, cross_encoder_3, cross_encoder_4, top_k=3)\n",
    "    correct_hash = q_to_hash[question]\n",
    "    predictions.append((retrieved_hash == correct_hash, reranked_hash_1 == correct_hash, reranked_hash_2 == correct_hash, reranked_hash_3 == correct_hash, reranked_hash_4 == correct_hash))\n",
    "    i += 1\n",
    "    if i % print_every == 0:\n",
    "        print(f'Step {i}')\n",
    "        raw_accuracy = sum([p[0] for p in predictions])/len(predictions)\n",
    "        reranked_accuracy_1 = sum([p[1] for p in predictions])/len(predictions)\n",
    "        reranked_accuracy_2 = sum([p[2] for p in predictions])/len(predictions)\n",
    "        reranked_accuracy_3 = sum([p[3] for p in predictions])/len(predictions)\n",
    "        reranked_accuracy_4 = sum([p[4] for p in predictions])/len(predictions)\n",
    "\n",
    "        print(f'Accuracy without re-ranking                            : {raw_accuracy}')\n",
    "        print(f'Accuracy with re-ranking(mmarco-mMiniLMv2-L12-H384-v1) : {reranked_accuracy_1}')\n",
    "        print(f'Accuracy with re-ranking(klue-cross-encoder-v1)        : {reranked_accuracy_2}')\n",
    "        print(f'Accuracy with re-ranking(ms-marco-MiniLM-L-12-v2)      : {reranked_accuracy_3}')\n",
    "        print(f'Accuracy with re-ranking(ms-marco-MiniLM-L-12-v2 tuning): {reranked_accuracy_4}')\n"
   ]
  },
  {
   "cell_type": "code",
   "execution_count": 187,
   "id": "e35be4ff-2039-4d93-bce8-78d38e06faac",
   "metadata": {},
   "outputs": [
    {
     "name": "stdout",
     "output_type": "stream",
     "text": [
      "text-embedding-ada-002\n",
      "Accuracy without re-ranking                            : 0.7275091003640146\n",
      "Accuracy with re-ranking(mmarco-mMiniLMv2-L12-H384-v1) : 0.8268330733229329\n",
      "Accuracy with re-ranking(klue-cross-encoder-v1)        : 0.8205928237129485\n",
      "Accuracy with re-ranking(ms-marco-MiniLM-L-12-v2)      : 0.4733922690240943\n",
      "Accuracy with re-ranking(ms-marco-MiniLM-L-12-v2 tuning): 0.46888542208355\n"
     ]
    }
   ],
   "source": [
    "raw_accuracy = sum([p[0] for p in predictions])/len(predictions)\n",
    "reranked_accuracy_1 = sum([p[1] for p in predictions])/len(predictions)\n",
    "reranked_accuracy_2 = sum([p[2] for p in predictions])/len(predictions)\n",
    "reranked_accuracy_3 = sum([p[3] for p in predictions])/len(predictions)\n",
    "reranked_accuracy_4 = sum([p[4] for p in predictions])/len(predictions)\n",
    "\n",
    "print('text-embedding-ada-002')\n",
    "print(f'Accuracy without re-ranking                            : {raw_accuracy}')\n",
    "print(f'Accuracy with re-ranking(mmarco-mMiniLMv2-L12-H384-v1) : {reranked_accuracy_1}')\n",
    "print(f'Accuracy with re-ranking(klue-cross-encoder-v1)        : {reranked_accuracy_2}')\n",
    "print(f'Accuracy with re-ranking(ms-marco-MiniLM-L-12-v2)      : {reranked_accuracy_3}')\n",
    "print(f'Accuracy with re-ranking(ms-marco-MiniLM-L-12-v2 tuning): {reranked_accuracy_4}')"
   ]
  },
  {
   "cell_type": "markdown",
   "id": "b773a862-4622-452c-8182-16d55fe79576",
   "metadata": {},
   "source": [
    "## 5.3 text-embedding-3-small 한국어 성능"
   ]
  },
  {
   "cell_type": "code",
   "execution_count": 188,
   "id": "f96642f1-d0ae-47c3-a3e5-766b50cf64a8",
   "metadata": {},
   "outputs": [],
   "source": [
    "ENGINE = 'text-embedding-3-small'\n",
    "# ENGINE_2 = 'text-embedding-ada-002'\n",
    "# ENGINE_3_S = 'text-embedding-3-small'  # OpenAI의 3세대 embedding 모델 (소형)\n",
    "# ENGINE_3_L = 'text-embedding-3-large'  # OpenAI의 3세대 embedding 모델 (대형)"
   ]
  },
  {
   "cell_type": "code",
   "execution_count": 189,
   "id": "c1745eb2-42b6-41e9-8144-bb6d38995b62",
   "metadata": {},
   "outputs": [],
   "source": [
    "pinecone.delete_index(INDEX_NAME)  # delete the index\n",
    "\n",
    "pinecone.create_index(\n",
    "    INDEX_NAME, # 인덱스 이름\n",
    "    dimension=1536, # 벡터의 치수, text-embedding-ada-002, text-embedding-3-small\n",
    "    # dimension=3072, # 벡터의 치수, text-embedding-3-large\n",
    "    \n",
    "    metric='cosine', # 인덱스를 검색할 때 사용할 유사성 메트릭\n",
    "    spec=PodSpec(\n",
    "      environment=\"gcp-starter\"\n",
    "    )\n",
    "    # pod_type=\"p1\" # 파인콘 파드의 유형\n",
    ")\n",
    "\n",
    "# 인덱스를 변수로 저장\n",
    "index = pinecone.Index(INDEX_NAME)"
   ]
  },
  {
   "cell_type": "code",
   "execution_count": 190,
   "id": "52098d43-9a02-45c9-91ae-1f1a46c49d57",
   "metadata": {},
   "outputs": [
    {
     "name": "stderr",
     "output_type": "stream",
     "text": [
      "100%|██████████████████████████████████████████████████████████████████████████████| 6/6 [00:25<00:00,  4.33s/it]\n",
      "100%|████████████████████████████████████████████████████████████████████████████| 29/29 [01:47<00:00,  3.71s/it]\n",
      "100%|████████████████████████████████████████████████████████████████████████████| 11/11 [00:38<00:00,  3.49s/it]\n"
     ]
    }
   ],
   "source": [
    "for idx in tqdm(range(0, len(dataset_ko['validation']), 128)):\n",
    "    data_sample = dataset_ko['validation'][idx:idx + 128]\n",
    "\n",
    "    passages = data_sample['paragraph']\n",
    "    upload_texts_to_pinecone(passages, engine=ENGINE)\n",
    "\n",
    "for idx in tqdm(range(0, len(dataset_ko['train']), 128)):\n",
    "    data_sample = dataset_ko['train'][idx:idx + 128]\n",
    "\n",
    "    passages = data_sample['paragraph']\n",
    "    upload_texts_to_pinecone(passages, engine=ENGINE)\n",
    "\n",
    "for idx in tqdm(range(0, len(dataset_ko['test']), 128)):\n",
    "    data_sample = dataset_ko['test'][idx:idx + 128]\n",
    "\n",
    "    passages = data_sample['paragraph']\n",
    "    upload_texts_to_pinecone(passages, engine=ENGINE)"
   ]
  },
  {
   "cell_type": "code",
   "execution_count": 191,
   "id": "d617880f-e56d-46aa-842a-ee9cac34cc20",
   "metadata": {
    "scrolled": true
   },
   "outputs": [
    {
     "name": "stderr",
     "output_type": "stream",
     "text": [
      "  1%|▌                                                                       | 50/5769 [01:14<1:05:47,  1.45it/s]"
     ]
    },
    {
     "name": "stdout",
     "output_type": "stream",
     "text": [
      "Step 50\n",
      "Accuracy without re-ranking                            : 0.92\n",
      "Accuracy with re-ranking(mmarco-mMiniLMv2-L12-H384-v1) : 0.96\n",
      "Accuracy with re-ranking(klue-cross-encoder-v1)        : 0.96\n",
      "Accuracy with re-ranking(ms-marco-MiniLM-L-12-v2)      : 0.52\n",
      "Accuracy with re-ranking(ms-marco-MiniLM-L-12-v2 tuning): 0.56\n"
     ]
    },
    {
     "name": "stderr",
     "output_type": "stream",
     "text": [
      "  2%|█▏                                                                     | 100/5769 [01:56<1:22:14,  1.15it/s]"
     ]
    },
    {
     "name": "stdout",
     "output_type": "stream",
     "text": [
      "Step 100\n",
      "Accuracy without re-ranking                            : 0.87\n",
      "Accuracy with re-ranking(mmarco-mMiniLMv2-L12-H384-v1) : 0.91\n",
      "Accuracy with re-ranking(klue-cross-encoder-v1)        : 0.95\n",
      "Accuracy with re-ranking(ms-marco-MiniLM-L-12-v2)      : 0.54\n",
      "Accuracy with re-ranking(ms-marco-MiniLM-L-12-v2 tuning): 0.49\n"
     ]
    },
    {
     "name": "stderr",
     "output_type": "stream",
     "text": [
      "  3%|█▊                                                                     | 150/5769 [02:34<1:07:31,  1.39it/s]"
     ]
    },
    {
     "name": "stdout",
     "output_type": "stream",
     "text": [
      "Step 150\n",
      "Accuracy without re-ranking                            : 0.8333333333333334\n",
      "Accuracy with re-ranking(mmarco-mMiniLMv2-L12-H384-v1) : 0.9133333333333333\n",
      "Accuracy with re-ranking(klue-cross-encoder-v1)        : 0.9466666666666667\n",
      "Accuracy with re-ranking(ms-marco-MiniLM-L-12-v2)      : 0.54\n",
      "Accuracy with re-ranking(ms-marco-MiniLM-L-12-v2 tuning): 0.48\n"
     ]
    },
    {
     "name": "stderr",
     "output_type": "stream",
     "text": [
      "  3%|██▍                                                                    | 200/5769 [03:18<1:11:20,  1.30it/s]"
     ]
    },
    {
     "name": "stdout",
     "output_type": "stream",
     "text": [
      "Step 200\n",
      "Accuracy without re-ranking                            : 0.825\n",
      "Accuracy with re-ranking(mmarco-mMiniLMv2-L12-H384-v1) : 0.905\n",
      "Accuracy with re-ranking(klue-cross-encoder-v1)        : 0.935\n",
      "Accuracy with re-ranking(ms-marco-MiniLM-L-12-v2)      : 0.54\n",
      "Accuracy with re-ranking(ms-marco-MiniLM-L-12-v2 tuning): 0.47\n"
     ]
    },
    {
     "name": "stderr",
     "output_type": "stream",
     "text": [
      "  4%|███                                                                    | 250/5769 [04:00<1:06:41,  1.38it/s]"
     ]
    },
    {
     "name": "stdout",
     "output_type": "stream",
     "text": [
      "Step 250\n",
      "Accuracy without re-ranking                            : 0.832\n",
      "Accuracy with re-ranking(mmarco-mMiniLMv2-L12-H384-v1) : 0.9\n",
      "Accuracy with re-ranking(klue-cross-encoder-v1)        : 0.924\n",
      "Accuracy with re-ranking(ms-marco-MiniLM-L-12-v2)      : 0.54\n",
      "Accuracy with re-ranking(ms-marco-MiniLM-L-12-v2 tuning): 0.5\n"
     ]
    },
    {
     "name": "stderr",
     "output_type": "stream",
     "text": [
      "  5%|███▋                                                                   | 300/5769 [04:46<1:10:59,  1.28it/s]"
     ]
    },
    {
     "name": "stdout",
     "output_type": "stream",
     "text": [
      "Step 300\n",
      "Accuracy without re-ranking                            : 0.8333333333333334\n",
      "Accuracy with re-ranking(mmarco-mMiniLMv2-L12-H384-v1) : 0.9066666666666666\n",
      "Accuracy with re-ranking(klue-cross-encoder-v1)        : 0.9233333333333333\n",
      "Accuracy with re-ranking(ms-marco-MiniLM-L-12-v2)      : 0.5433333333333333\n",
      "Accuracy with re-ranking(ms-marco-MiniLM-L-12-v2 tuning): 0.5\n"
     ]
    },
    {
     "name": "stderr",
     "output_type": "stream",
     "text": [
      "  6%|████▎                                                                  | 350/5769 [05:38<1:08:51,  1.31it/s]"
     ]
    },
    {
     "name": "stdout",
     "output_type": "stream",
     "text": [
      "Step 350\n",
      "Accuracy without re-ranking                            : 0.8142857142857143\n",
      "Accuracy with re-ranking(mmarco-mMiniLMv2-L12-H384-v1) : 0.8942857142857142\n",
      "Accuracy with re-ranking(klue-cross-encoder-v1)        : 0.9057142857142857\n",
      "Accuracy with re-ranking(ms-marco-MiniLM-L-12-v2)      : 0.5171428571428571\n",
      "Accuracy with re-ranking(ms-marco-MiniLM-L-12-v2 tuning): 0.4742857142857143\n"
     ]
    },
    {
     "name": "stderr",
     "output_type": "stream",
     "text": [
      "  7%|████▉                                                                  | 400/5769 [06:17<1:20:05,  1.12it/s]"
     ]
    },
    {
     "name": "stdout",
     "output_type": "stream",
     "text": [
      "Step 400\n",
      "Accuracy without re-ranking                            : 0.8175\n",
      "Accuracy with re-ranking(mmarco-mMiniLMv2-L12-H384-v1) : 0.9\n",
      "Accuracy with re-ranking(klue-cross-encoder-v1)        : 0.9075\n",
      "Accuracy with re-ranking(ms-marco-MiniLM-L-12-v2)      : 0.5225\n",
      "Accuracy with re-ranking(ms-marco-MiniLM-L-12-v2 tuning): 0.4725\n"
     ]
    },
    {
     "name": "stderr",
     "output_type": "stream",
     "text": [
      "  8%|█████▌                                                                 | 450/5769 [06:56<1:11:33,  1.24it/s]"
     ]
    },
    {
     "name": "stdout",
     "output_type": "stream",
     "text": [
      "Step 450\n",
      "Accuracy without re-ranking                            : 0.8088888888888889\n",
      "Accuracy with re-ranking(mmarco-mMiniLMv2-L12-H384-v1) : 0.8888888888888888\n",
      "Accuracy with re-ranking(klue-cross-encoder-v1)        : 0.8977777777777778\n",
      "Accuracy with re-ranking(ms-marco-MiniLM-L-12-v2)      : 0.5133333333333333\n",
      "Accuracy with re-ranking(ms-marco-MiniLM-L-12-v2 tuning): 0.46444444444444444\n"
     ]
    },
    {
     "name": "stderr",
     "output_type": "stream",
     "text": [
      "  9%|██████▏                                                                | 500/5769 [07:40<1:09:16,  1.27it/s]"
     ]
    },
    {
     "name": "stdout",
     "output_type": "stream",
     "text": [
      "Step 500\n",
      "Accuracy without re-ranking                            : 0.808\n",
      "Accuracy with re-ranking(mmarco-mMiniLMv2-L12-H384-v1) : 0.892\n",
      "Accuracy with re-ranking(klue-cross-encoder-v1)        : 0.898\n",
      "Accuracy with re-ranking(ms-marco-MiniLM-L-12-v2)      : 0.522\n",
      "Accuracy with re-ranking(ms-marco-MiniLM-L-12-v2 tuning): 0.476\n"
     ]
    },
    {
     "name": "stderr",
     "output_type": "stream",
     "text": [
      " 10%|██████▉                                                                  | 550/5769 [08:36<58:46,  1.48it/s]"
     ]
    },
    {
     "name": "stdout",
     "output_type": "stream",
     "text": [
      "Step 550\n",
      "Accuracy without re-ranking                            : 0.8072727272727273\n",
      "Accuracy with re-ranking(mmarco-mMiniLMv2-L12-H384-v1) : 0.8927272727272727\n",
      "Accuracy with re-ranking(klue-cross-encoder-v1)        : 0.8945454545454545\n",
      "Accuracy with re-ranking(ms-marco-MiniLM-L-12-v2)      : 0.5054545454545455\n",
      "Accuracy with re-ranking(ms-marco-MiniLM-L-12-v2 tuning): 0.4690909090909091\n"
     ]
    },
    {
     "name": "stderr",
     "output_type": "stream",
     "text": [
      " 10%|███████▍                                                               | 600/5769 [09:16<1:36:25,  1.12s/it]"
     ]
    },
    {
     "name": "stdout",
     "output_type": "stream",
     "text": [
      "Step 600\n",
      "Accuracy without re-ranking                            : 0.8116666666666666\n",
      "Accuracy with re-ranking(mmarco-mMiniLMv2-L12-H384-v1) : 0.8916666666666667\n",
      "Accuracy with re-ranking(klue-cross-encoder-v1)        : 0.8933333333333333\n",
      "Accuracy with re-ranking(ms-marco-MiniLM-L-12-v2)      : 0.505\n",
      "Accuracy with re-ranking(ms-marco-MiniLM-L-12-v2 tuning): 0.4716666666666667\n"
     ]
    },
    {
     "name": "stderr",
     "output_type": "stream",
     "text": [
      " 11%|███████▉                                                               | 650/5769 [09:53<1:02:31,  1.36it/s]"
     ]
    },
    {
     "name": "stdout",
     "output_type": "stream",
     "text": [
      "Step 650\n",
      "Accuracy without re-ranking                            : 0.8123076923076923\n",
      "Accuracy with re-ranking(mmarco-mMiniLMv2-L12-H384-v1) : 0.8876923076923077\n",
      "Accuracy with re-ranking(klue-cross-encoder-v1)        : 0.8876923076923077\n",
      "Accuracy with re-ranking(ms-marco-MiniLM-L-12-v2)      : 0.49846153846153846\n",
      "Accuracy with re-ranking(ms-marco-MiniLM-L-12-v2 tuning): 0.46307692307692305\n"
     ]
    },
    {
     "name": "stderr",
     "output_type": "stream",
     "text": [
      " 12%|████████▊                                                                | 700/5769 [10:27<59:41,  1.42it/s]"
     ]
    },
    {
     "name": "stdout",
     "output_type": "stream",
     "text": [
      "Step 700\n",
      "Accuracy without re-ranking                            : 0.8128571428571428\n",
      "Accuracy with re-ranking(mmarco-mMiniLMv2-L12-H384-v1) : 0.8885714285714286\n",
      "Accuracy with re-ranking(klue-cross-encoder-v1)        : 0.8828571428571429\n",
      "Accuracy with re-ranking(ms-marco-MiniLM-L-12-v2)      : 0.5\n",
      "Accuracy with re-ranking(ms-marco-MiniLM-L-12-v2 tuning): 0.46\n"
     ]
    },
    {
     "name": "stderr",
     "output_type": "stream",
     "text": [
      " 13%|█████████▏                                                             | 750/5769 [11:06<1:01:52,  1.35it/s]"
     ]
    },
    {
     "name": "stdout",
     "output_type": "stream",
     "text": [
      "Step 750\n",
      "Accuracy without re-ranking                            : 0.8053333333333333\n",
      "Accuracy with re-ranking(mmarco-mMiniLMv2-L12-H384-v1) : 0.8813333333333333\n",
      "Accuracy with re-ranking(klue-cross-encoder-v1)        : 0.8773333333333333\n",
      "Accuracy with re-ranking(ms-marco-MiniLM-L-12-v2)      : 0.496\n",
      "Accuracy with re-ranking(ms-marco-MiniLM-L-12-v2 tuning): 0.45866666666666667\n"
     ]
    },
    {
     "name": "stderr",
     "output_type": "stream",
     "text": [
      " 14%|██████████                                                               | 800/5769 [11:44<58:18,  1.42it/s]"
     ]
    },
    {
     "name": "stdout",
     "output_type": "stream",
     "text": [
      "Step 800\n",
      "Accuracy without re-ranking                            : 0.80375\n",
      "Accuracy with re-ranking(mmarco-mMiniLMv2-L12-H384-v1) : 0.8825\n",
      "Accuracy with re-ranking(klue-cross-encoder-v1)        : 0.87875\n",
      "Accuracy with re-ranking(ms-marco-MiniLM-L-12-v2)      : 0.495\n",
      "Accuracy with re-ranking(ms-marco-MiniLM-L-12-v2 tuning): 0.45375\n"
     ]
    },
    {
     "name": "stderr",
     "output_type": "stream",
     "text": [
      " 15%|██████████▊                                                              | 850/5769 [12:18<51:23,  1.60it/s]"
     ]
    },
    {
     "name": "stdout",
     "output_type": "stream",
     "text": [
      "Step 850\n",
      "Accuracy without re-ranking                            : 0.8047058823529412\n",
      "Accuracy with re-ranking(mmarco-mMiniLMv2-L12-H384-v1) : 0.8858823529411765\n",
      "Accuracy with re-ranking(klue-cross-encoder-v1)        : 0.8811764705882353\n",
      "Accuracy with re-ranking(ms-marco-MiniLM-L-12-v2)      : 0.5011764705882353\n",
      "Accuracy with re-ranking(ms-marco-MiniLM-L-12-v2 tuning): 0.4541176470588235\n"
     ]
    },
    {
     "name": "stderr",
     "output_type": "stream",
     "text": [
      " 16%|███████████                                                            | 900/5769 [13:00<1:01:31,  1.32it/s]"
     ]
    },
    {
     "name": "stdout",
     "output_type": "stream",
     "text": [
      "Step 900\n",
      "Accuracy without re-ranking                            : 0.8066666666666666\n",
      "Accuracy with re-ranking(mmarco-mMiniLMv2-L12-H384-v1) : 0.8888888888888888\n",
      "Accuracy with re-ranking(klue-cross-encoder-v1)        : 0.8833333333333333\n",
      "Accuracy with re-ranking(ms-marco-MiniLM-L-12-v2)      : 0.4988888888888889\n",
      "Accuracy with re-ranking(ms-marco-MiniLM-L-12-v2 tuning): 0.4533333333333333\n"
     ]
    },
    {
     "name": "stderr",
     "output_type": "stream",
     "text": [
      " 16%|███████████▋                                                           | 950/5769 [13:47<1:03:55,  1.26it/s]"
     ]
    },
    {
     "name": "stdout",
     "output_type": "stream",
     "text": [
      "Step 950\n",
      "Accuracy without re-ranking                            : 0.8\n",
      "Accuracy with re-ranking(mmarco-mMiniLMv2-L12-H384-v1) : 0.8873684210526316\n",
      "Accuracy with re-ranking(klue-cross-encoder-v1)        : 0.88\n",
      "Accuracy with re-ranking(ms-marco-MiniLM-L-12-v2)      : 0.5\n",
      "Accuracy with re-ranking(ms-marco-MiniLM-L-12-v2 tuning): 0.4536842105263158\n"
     ]
    },
    {
     "name": "stderr",
     "output_type": "stream",
     "text": [
      " 17%|████████████▍                                                           | 1000/5769 [14:23<52:03,  1.53it/s]"
     ]
    },
    {
     "name": "stdout",
     "output_type": "stream",
     "text": [
      "Step 1000\n",
      "Accuracy without re-ranking                            : 0.802\n",
      "Accuracy with re-ranking(mmarco-mMiniLMv2-L12-H384-v1) : 0.89\n",
      "Accuracy with re-ranking(klue-cross-encoder-v1)        : 0.881\n",
      "Accuracy with re-ranking(ms-marco-MiniLM-L-12-v2)      : 0.502\n",
      "Accuracy with re-ranking(ms-marco-MiniLM-L-12-v2 tuning): 0.451\n"
     ]
    },
    {
     "name": "stderr",
     "output_type": "stream",
     "text": [
      " 18%|████████████▋                                                         | 1050/5769 [15:21<1:20:07,  1.02s/it]"
     ]
    },
    {
     "name": "stdout",
     "output_type": "stream",
     "text": [
      "Step 1050\n",
      "Accuracy without re-ranking                            : 0.8057142857142857\n",
      "Accuracy with re-ranking(mmarco-mMiniLMv2-L12-H384-v1) : 0.8914285714285715\n",
      "Accuracy with re-ranking(klue-cross-encoder-v1)        : 0.8819047619047619\n",
      "Accuracy with re-ranking(ms-marco-MiniLM-L-12-v2)      : 0.5009523809523809\n",
      "Accuracy with re-ranking(ms-marco-MiniLM-L-12-v2 tuning): 0.4504761904761905\n"
     ]
    },
    {
     "name": "stderr",
     "output_type": "stream",
     "text": [
      " 19%|█████████████▋                                                          | 1100/5769 [15:58<58:02,  1.34it/s]"
     ]
    },
    {
     "name": "stdout",
     "output_type": "stream",
     "text": [
      "Step 1100\n",
      "Accuracy without re-ranking                            : 0.8054545454545454\n",
      "Accuracy with re-ranking(mmarco-mMiniLMv2-L12-H384-v1) : 0.8881818181818182\n",
      "Accuracy with re-ranking(klue-cross-encoder-v1)        : 0.8790909090909091\n",
      "Accuracy with re-ranking(ms-marco-MiniLM-L-12-v2)      : 0.4990909090909091\n",
      "Accuracy with re-ranking(ms-marco-MiniLM-L-12-v2 tuning): 0.44727272727272727\n"
     ]
    },
    {
     "name": "stderr",
     "output_type": "stream",
     "text": [
      " 20%|██████████████▎                                                         | 1150/5769 [16:35<55:37,  1.38it/s]"
     ]
    },
    {
     "name": "stdout",
     "output_type": "stream",
     "text": [
      "Step 1150\n",
      "Accuracy without re-ranking                            : 0.8043478260869565\n",
      "Accuracy with re-ranking(mmarco-mMiniLMv2-L12-H384-v1) : 0.8860869565217391\n",
      "Accuracy with re-ranking(klue-cross-encoder-v1)        : 0.8773913043478261\n",
      "Accuracy with re-ranking(ms-marco-MiniLM-L-12-v2)      : 0.4991304347826087\n",
      "Accuracy with re-ranking(ms-marco-MiniLM-L-12-v2 tuning): 0.44956521739130434\n"
     ]
    },
    {
     "name": "stderr",
     "output_type": "stream",
     "text": [
      " 21%|██████████████▉                                                         | 1200/5769 [17:25<53:42,  1.42it/s]"
     ]
    },
    {
     "name": "stdout",
     "output_type": "stream",
     "text": [
      "Step 1200\n",
      "Accuracy without re-ranking                            : 0.8008333333333333\n",
      "Accuracy with re-ranking(mmarco-mMiniLMv2-L12-H384-v1) : 0.8841666666666667\n",
      "Accuracy with re-ranking(klue-cross-encoder-v1)        : 0.8766666666666667\n",
      "Accuracy with re-ranking(ms-marco-MiniLM-L-12-v2)      : 0.49333333333333335\n",
      "Accuracy with re-ranking(ms-marco-MiniLM-L-12-v2 tuning): 0.4475\n"
     ]
    },
    {
     "name": "stderr",
     "output_type": "stream",
     "text": [
      " 22%|███████████████▌                                                        | 1250/5769 [18:06<54:29,  1.38it/s]"
     ]
    },
    {
     "name": "stdout",
     "output_type": "stream",
     "text": [
      "Step 1250\n",
      "Accuracy without re-ranking                            : 0.7936\n",
      "Accuracy with re-ranking(mmarco-mMiniLMv2-L12-H384-v1) : 0.88\n",
      "Accuracy with re-ranking(klue-cross-encoder-v1)        : 0.8736\n",
      "Accuracy with re-ranking(ms-marco-MiniLM-L-12-v2)      : 0.4888\n",
      "Accuracy with re-ranking(ms-marco-MiniLM-L-12-v2 tuning): 0.4432\n"
     ]
    },
    {
     "name": "stderr",
     "output_type": "stream",
     "text": [
      " 23%|████████████████▏                                                       | 1300/5769 [18:44<55:07,  1.35it/s]"
     ]
    },
    {
     "name": "stdout",
     "output_type": "stream",
     "text": [
      "Step 1300\n",
      "Accuracy without re-ranking                            : 0.7938461538461539\n",
      "Accuracy with re-ranking(mmarco-mMiniLMv2-L12-H384-v1) : 0.8792307692307693\n",
      "Accuracy with re-ranking(klue-cross-encoder-v1)        : 0.8707692307692307\n",
      "Accuracy with re-ranking(ms-marco-MiniLM-L-12-v2)      : 0.48307692307692307\n",
      "Accuracy with re-ranking(ms-marco-MiniLM-L-12-v2 tuning): 0.43846153846153846\n"
     ]
    },
    {
     "name": "stderr",
     "output_type": "stream",
     "text": [
      " 23%|████████████████▊                                                       | 1350/5769 [19:27<56:08,  1.31it/s]"
     ]
    },
    {
     "name": "stdout",
     "output_type": "stream",
     "text": [
      "Step 1350\n",
      "Accuracy without re-ranking                            : 0.7948148148148149\n",
      "Accuracy with re-ranking(mmarco-mMiniLMv2-L12-H384-v1) : 0.8814814814814815\n",
      "Accuracy with re-ranking(klue-cross-encoder-v1)        : 0.8725925925925926\n",
      "Accuracy with re-ranking(ms-marco-MiniLM-L-12-v2)      : 0.4874074074074074\n",
      "Accuracy with re-ranking(ms-marco-MiniLM-L-12-v2 tuning): 0.4444444444444444\n"
     ]
    },
    {
     "name": "stderr",
     "output_type": "stream",
     "text": [
      " 24%|████████████████▉                                                     | 1400/5769 [20:18<3:39:50,  3.02s/it]"
     ]
    },
    {
     "name": "stdout",
     "output_type": "stream",
     "text": [
      "Step 1400\n",
      "Accuracy without re-ranking                            : 0.79\n",
      "Accuracy with re-ranking(mmarco-mMiniLMv2-L12-H384-v1) : 0.88\n",
      "Accuracy with re-ranking(klue-cross-encoder-v1)        : 0.87\n",
      "Accuracy with re-ranking(ms-marco-MiniLM-L-12-v2)      : 0.48928571428571427\n",
      "Accuracy with re-ranking(ms-marco-MiniLM-L-12-v2 tuning): 0.44642857142857145\n"
     ]
    },
    {
     "name": "stderr",
     "output_type": "stream",
     "text": [
      " 25%|█████████████████▌                                                    | 1450/5769 [21:24<1:26:24,  1.20s/it]"
     ]
    },
    {
     "name": "stdout",
     "output_type": "stream",
     "text": [
      "Step 1450\n",
      "Accuracy without re-ranking                            : 0.7910344827586206\n",
      "Accuracy with re-ranking(mmarco-mMiniLMv2-L12-H384-v1) : 0.8806896551724138\n",
      "Accuracy with re-ranking(klue-cross-encoder-v1)        : 0.8710344827586207\n",
      "Accuracy with re-ranking(ms-marco-MiniLM-L-12-v2)      : 0.48758620689655174\n",
      "Accuracy with re-ranking(ms-marco-MiniLM-L-12-v2 tuning): 0.44413793103448274\n"
     ]
    },
    {
     "name": "stderr",
     "output_type": "stream",
     "text": [
      " 26%|██████████████████▋                                                     | 1500/5769 [22:10<52:24,  1.36it/s]"
     ]
    },
    {
     "name": "stdout",
     "output_type": "stream",
     "text": [
      "Step 1500\n",
      "Accuracy without re-ranking                            : 0.7906666666666666\n",
      "Accuracy with re-ranking(mmarco-mMiniLMv2-L12-H384-v1) : 0.8806666666666667\n",
      "Accuracy with re-ranking(klue-cross-encoder-v1)        : 0.8713333333333333\n",
      "Accuracy with re-ranking(ms-marco-MiniLM-L-12-v2)      : 0.48733333333333334\n",
      "Accuracy with re-ranking(ms-marco-MiniLM-L-12-v2 tuning): 0.444\n"
     ]
    },
    {
     "name": "stderr",
     "output_type": "stream",
     "text": [
      " 27%|███████████████████▎                                                    | 1550/5769 [22:50<50:16,  1.40it/s]"
     ]
    },
    {
     "name": "stdout",
     "output_type": "stream",
     "text": [
      "Step 1550\n",
      "Accuracy without re-ranking                            : 0.7916129032258065\n",
      "Accuracy with re-ranking(mmarco-mMiniLMv2-L12-H384-v1) : 0.8812903225806452\n",
      "Accuracy with re-ranking(klue-cross-encoder-v1)        : 0.8716129032258064\n",
      "Accuracy with re-ranking(ms-marco-MiniLM-L-12-v2)      : 0.4838709677419355\n",
      "Accuracy with re-ranking(ms-marco-MiniLM-L-12-v2 tuning): 0.44129032258064516\n"
     ]
    },
    {
     "name": "stderr",
     "output_type": "stream",
     "text": [
      " 28%|███████████████████▉                                                    | 1600/5769 [23:28<53:06,  1.31it/s]"
     ]
    },
    {
     "name": "stdout",
     "output_type": "stream",
     "text": [
      "Step 1600\n",
      "Accuracy without re-ranking                            : 0.7925\n",
      "Accuracy with re-ranking(mmarco-mMiniLMv2-L12-H384-v1) : 0.880625\n",
      "Accuracy with re-ranking(klue-cross-encoder-v1)        : 0.871875\n",
      "Accuracy with re-ranking(ms-marco-MiniLM-L-12-v2)      : 0.478125\n",
      "Accuracy with re-ranking(ms-marco-MiniLM-L-12-v2 tuning): 0.43625\n"
     ]
    },
    {
     "name": "stderr",
     "output_type": "stream",
     "text": [
      " 29%|████████████████████▌                                                   | 1650/5769 [24:13<56:04,  1.22it/s]"
     ]
    },
    {
     "name": "stdout",
     "output_type": "stream",
     "text": [
      "Step 1650\n",
      "Accuracy without re-ranking                            : 0.7933333333333333\n",
      "Accuracy with re-ranking(mmarco-mMiniLMv2-L12-H384-v1) : 0.8812121212121212\n",
      "Accuracy with re-ranking(klue-cross-encoder-v1)        : 0.8721212121212121\n",
      "Accuracy with re-ranking(ms-marco-MiniLM-L-12-v2)      : 0.48\n",
      "Accuracy with re-ranking(ms-marco-MiniLM-L-12-v2 tuning): 0.43696969696969695\n"
     ]
    },
    {
     "name": "stderr",
     "output_type": "stream",
     "text": [
      " 29%|█████████████████████▏                                                  | 1700/5769 [24:53<49:01,  1.38it/s]"
     ]
    },
    {
     "name": "stdout",
     "output_type": "stream",
     "text": [
      "Step 1700\n",
      "Accuracy without re-ranking                            : 0.7923529411764706\n",
      "Accuracy with re-ranking(mmarco-mMiniLMv2-L12-H384-v1) : 0.8811764705882353\n",
      "Accuracy with re-ranking(klue-cross-encoder-v1)        : 0.8723529411764706\n",
      "Accuracy with re-ranking(ms-marco-MiniLM-L-12-v2)      : 0.48176470588235293\n",
      "Accuracy with re-ranking(ms-marco-MiniLM-L-12-v2 tuning): 0.4370588235294118\n"
     ]
    },
    {
     "name": "stderr",
     "output_type": "stream",
     "text": [
      " 30%|█████████████████████▊                                                  | 1750/5769 [25:38<55:52,  1.20it/s]"
     ]
    },
    {
     "name": "stdout",
     "output_type": "stream",
     "text": [
      "Step 1750\n",
      "Accuracy without re-ranking                            : 0.792\n",
      "Accuracy with re-ranking(mmarco-mMiniLMv2-L12-H384-v1) : 0.8822857142857143\n",
      "Accuracy with re-ranking(klue-cross-encoder-v1)        : 0.872\n",
      "Accuracy with re-ranking(ms-marco-MiniLM-L-12-v2)      : 0.48228571428571426\n",
      "Accuracy with re-ranking(ms-marco-MiniLM-L-12-v2 tuning): 0.436\n"
     ]
    },
    {
     "name": "stderr",
     "output_type": "stream",
     "text": [
      " 31%|██████████████████████▍                                                 | 1800/5769 [26:21<46:11,  1.43it/s]"
     ]
    },
    {
     "name": "stdout",
     "output_type": "stream",
     "text": [
      "Step 1800\n",
      "Accuracy without re-ranking                            : 0.79\n",
      "Accuracy with re-ranking(mmarco-mMiniLMv2-L12-H384-v1) : 0.88\n",
      "Accuracy with re-ranking(klue-cross-encoder-v1)        : 0.87\n",
      "Accuracy with re-ranking(ms-marco-MiniLM-L-12-v2)      : 0.4777777777777778\n",
      "Accuracy with re-ranking(ms-marco-MiniLM-L-12-v2 tuning): 0.43444444444444447\n"
     ]
    },
    {
     "name": "stderr",
     "output_type": "stream",
     "text": [
      " 32%|██████████████████████▍                                               | 1850/5769 [26:58<1:05:10,  1.00it/s]"
     ]
    },
    {
     "name": "stdout",
     "output_type": "stream",
     "text": [
      "Step 1850\n",
      "Accuracy without re-ranking                            : 0.7875675675675675\n",
      "Accuracy with re-ranking(mmarco-mMiniLMv2-L12-H384-v1) : 0.8783783783783784\n",
      "Accuracy with re-ranking(klue-cross-encoder-v1)        : 0.8686486486486487\n",
      "Accuracy with re-ranking(ms-marco-MiniLM-L-12-v2)      : 0.47675675675675677\n",
      "Accuracy with re-ranking(ms-marco-MiniLM-L-12-v2 tuning): 0.43189189189189187\n"
     ]
    },
    {
     "name": "stderr",
     "output_type": "stream",
     "text": [
      " 33%|███████████████████████▋                                                | 1900/5769 [27:36<54:10,  1.19it/s]"
     ]
    },
    {
     "name": "stdout",
     "output_type": "stream",
     "text": [
      "Step 1900\n",
      "Accuracy without re-ranking                            : 0.7873684210526316\n",
      "Accuracy with re-ranking(mmarco-mMiniLMv2-L12-H384-v1) : 0.8768421052631579\n",
      "Accuracy with re-ranking(klue-cross-encoder-v1)        : 0.8678947368421053\n",
      "Accuracy with re-ranking(ms-marco-MiniLM-L-12-v2)      : 0.4768421052631579\n",
      "Accuracy with re-ranking(ms-marco-MiniLM-L-12-v2 tuning): 0.4305263157894737\n"
     ]
    },
    {
     "name": "stderr",
     "output_type": "stream",
     "text": [
      " 34%|████████████████████████▎                                               | 1950/5769 [28:14<47:13,  1.35it/s]"
     ]
    },
    {
     "name": "stdout",
     "output_type": "stream",
     "text": [
      "Step 1950\n",
      "Accuracy without re-ranking                            : 0.7866666666666666\n",
      "Accuracy with re-ranking(mmarco-mMiniLMv2-L12-H384-v1) : 0.8748717948717949\n",
      "Accuracy with re-ranking(klue-cross-encoder-v1)        : 0.8661538461538462\n",
      "Accuracy with re-ranking(ms-marco-MiniLM-L-12-v2)      : 0.47435897435897434\n",
      "Accuracy with re-ranking(ms-marco-MiniLM-L-12-v2 tuning): 0.4297435897435897\n"
     ]
    },
    {
     "name": "stderr",
     "output_type": "stream",
     "text": [
      " 35%|████████████████████████▎                                             | 2000/5769 [29:05<1:00:03,  1.05it/s]"
     ]
    },
    {
     "name": "stdout",
     "output_type": "stream",
     "text": [
      "Step 2000\n",
      "Accuracy without re-ranking                            : 0.785\n",
      "Accuracy with re-ranking(mmarco-mMiniLMv2-L12-H384-v1) : 0.8755\n",
      "Accuracy with re-ranking(klue-cross-encoder-v1)        : 0.866\n",
      "Accuracy with re-ranking(ms-marco-MiniLM-L-12-v2)      : 0.475\n",
      "Accuracy with re-ranking(ms-marco-MiniLM-L-12-v2 tuning): 0.429\n"
     ]
    },
    {
     "name": "stderr",
     "output_type": "stream",
     "text": [
      " 36%|█████████████████████████▌                                              | 2050/5769 [29:44<49:53,  1.24it/s]"
     ]
    },
    {
     "name": "stdout",
     "output_type": "stream",
     "text": [
      "Step 2050\n",
      "Accuracy without re-ranking                            : 0.7873170731707317\n",
      "Accuracy with re-ranking(mmarco-mMiniLMv2-L12-H384-v1) : 0.8760975609756098\n",
      "Accuracy with re-ranking(klue-cross-encoder-v1)        : 0.8663414634146341\n",
      "Accuracy with re-ranking(ms-marco-MiniLM-L-12-v2)      : 0.4721951219512195\n",
      "Accuracy with re-ranking(ms-marco-MiniLM-L-12-v2 tuning): 0.42585365853658536\n"
     ]
    },
    {
     "name": "stderr",
     "output_type": "stream",
     "text": [
      " 36%|██████████████████████████▏                                             | 2100/5769 [30:27<47:18,  1.29it/s]"
     ]
    },
    {
     "name": "stdout",
     "output_type": "stream",
     "text": [
      "Step 2100\n",
      "Accuracy without re-ranking                            : 0.7866666666666666\n",
      "Accuracy with re-ranking(mmarco-mMiniLMv2-L12-H384-v1) : 0.8752380952380953\n",
      "Accuracy with re-ranking(klue-cross-encoder-v1)        : 0.8661904761904762\n",
      "Accuracy with re-ranking(ms-marco-MiniLM-L-12-v2)      : 0.4738095238095238\n",
      "Accuracy with re-ranking(ms-marco-MiniLM-L-12-v2 tuning): 0.4280952380952381\n"
     ]
    },
    {
     "name": "stderr",
     "output_type": "stream",
     "text": [
      " 37%|██████████████████████████▊                                             | 2150/5769 [31:06<48:01,  1.26it/s]"
     ]
    },
    {
     "name": "stdout",
     "output_type": "stream",
     "text": [
      "Step 2150\n",
      "Accuracy without re-ranking                            : 0.7869767441860465\n",
      "Accuracy with re-ranking(mmarco-mMiniLMv2-L12-H384-v1) : 0.8753488372093023\n",
      "Accuracy with re-ranking(klue-cross-encoder-v1)        : 0.8655813953488372\n",
      "Accuracy with re-ranking(ms-marco-MiniLM-L-12-v2)      : 0.47488372093023257\n",
      "Accuracy with re-ranking(ms-marco-MiniLM-L-12-v2 tuning): 0.42790697674418604\n"
     ]
    },
    {
     "name": "stderr",
     "output_type": "stream",
     "text": [
      " 38%|██████████████████████████▋                                           | 2200/5769 [31:50<2:33:24,  2.58s/it]"
     ]
    },
    {
     "name": "stdout",
     "output_type": "stream",
     "text": [
      "Step 2200\n",
      "Accuracy without re-ranking                            : 0.7872727272727272\n",
      "Accuracy with re-ranking(mmarco-mMiniLMv2-L12-H384-v1) : 0.8745454545454545\n",
      "Accuracy with re-ranking(klue-cross-encoder-v1)        : 0.8654545454545455\n",
      "Accuracy with re-ranking(ms-marco-MiniLM-L-12-v2)      : 0.47363636363636363\n",
      "Accuracy with re-ranking(ms-marco-MiniLM-L-12-v2 tuning): 0.42727272727272725\n"
     ]
    },
    {
     "name": "stderr",
     "output_type": "stream",
     "text": [
      " 39%|████████████████████████████                                            | 2250/5769 [32:27<43:18,  1.35it/s]"
     ]
    },
    {
     "name": "stdout",
     "output_type": "stream",
     "text": [
      "Step 2250\n",
      "Accuracy without re-ranking                            : 0.7857777777777778\n",
      "Accuracy with re-ranking(mmarco-mMiniLMv2-L12-H384-v1) : 0.8737777777777778\n",
      "Accuracy with re-ranking(klue-cross-encoder-v1)        : 0.8635555555555555\n",
      "Accuracy with re-ranking(ms-marco-MiniLM-L-12-v2)      : 0.47333333333333333\n",
      "Accuracy with re-ranking(ms-marco-MiniLM-L-12-v2 tuning): 0.4266666666666667\n"
     ]
    },
    {
     "name": "stderr",
     "output_type": "stream",
     "text": [
      " 40%|███████████████████████████▉                                          | 2300/5769 [33:08<1:05:26,  1.13s/it]"
     ]
    },
    {
     "name": "stdout",
     "output_type": "stream",
     "text": [
      "Step 2300\n",
      "Accuracy without re-ranking                            : 0.7856521739130434\n",
      "Accuracy with re-ranking(mmarco-mMiniLMv2-L12-H384-v1) : 0.8743478260869565\n",
      "Accuracy with re-ranking(klue-cross-encoder-v1)        : 0.8634782608695653\n",
      "Accuracy with re-ranking(ms-marco-MiniLM-L-12-v2)      : 0.47347826086956524\n",
      "Accuracy with re-ranking(ms-marco-MiniLM-L-12-v2 tuning): 0.4260869565217391\n"
     ]
    },
    {
     "name": "stderr",
     "output_type": "stream",
     "text": [
      " 41%|█████████████████████████████▎                                          | 2350/5769 [33:50<43:54,  1.30it/s]"
     ]
    },
    {
     "name": "stdout",
     "output_type": "stream",
     "text": [
      "Step 2350\n",
      "Accuracy without re-ranking                            : 0.7846808510638298\n",
      "Accuracy with re-ranking(mmarco-mMiniLMv2-L12-H384-v1) : 0.8736170212765958\n",
      "Accuracy with re-ranking(klue-cross-encoder-v1)        : 0.8629787234042553\n",
      "Accuracy with re-ranking(ms-marco-MiniLM-L-12-v2)      : 0.4714893617021277\n",
      "Accuracy with re-ranking(ms-marco-MiniLM-L-12-v2 tuning): 0.4238297872340426\n"
     ]
    },
    {
     "name": "stderr",
     "output_type": "stream",
     "text": [
      " 42%|█████████████████████████████▉                                          | 2400/5769 [34:39<48:27,  1.16it/s]"
     ]
    },
    {
     "name": "stdout",
     "output_type": "stream",
     "text": [
      "Step 2400\n",
      "Accuracy without re-ranking                            : 0.78375\n",
      "Accuracy with re-ranking(mmarco-mMiniLMv2-L12-H384-v1) : 0.8725\n",
      "Accuracy with re-ranking(klue-cross-encoder-v1)        : 0.8616666666666667\n",
      "Accuracy with re-ranking(ms-marco-MiniLM-L-12-v2)      : 0.47458333333333336\n",
      "Accuracy with re-ranking(ms-marco-MiniLM-L-12-v2 tuning): 0.42625\n"
     ]
    },
    {
     "name": "stderr",
     "output_type": "stream",
     "text": [
      " 42%|██████████████████████████████▌                                         | 2450/5769 [35:15<38:42,  1.43it/s]"
     ]
    },
    {
     "name": "stdout",
     "output_type": "stream",
     "text": [
      "Step 2450\n",
      "Accuracy without re-ranking                            : 0.7804081632653062\n",
      "Accuracy with re-ranking(mmarco-mMiniLMv2-L12-H384-v1) : 0.8722448979591837\n",
      "Accuracy with re-ranking(klue-cross-encoder-v1)        : 0.8604081632653061\n",
      "Accuracy with re-ranking(ms-marco-MiniLM-L-12-v2)      : 0.4710204081632653\n",
      "Accuracy with re-ranking(ms-marco-MiniLM-L-12-v2 tuning): 0.4253061224489796\n"
     ]
    },
    {
     "name": "stderr",
     "output_type": "stream",
     "text": [
      " 43%|███████████████████████████████▏                                        | 2500/5769 [35:48<36:43,  1.48it/s]"
     ]
    },
    {
     "name": "stdout",
     "output_type": "stream",
     "text": [
      "Step 2500\n",
      "Accuracy without re-ranking                            : 0.7816\n",
      "Accuracy with re-ranking(mmarco-mMiniLMv2-L12-H384-v1) : 0.8728\n",
      "Accuracy with re-ranking(klue-cross-encoder-v1)        : 0.8612\n",
      "Accuracy with re-ranking(ms-marco-MiniLM-L-12-v2)      : 0.4712\n",
      "Accuracy with re-ranking(ms-marco-MiniLM-L-12-v2 tuning): 0.4244\n"
     ]
    },
    {
     "name": "stderr",
     "output_type": "stream",
     "text": [
      " 44%|██████████████████████████████▉                                       | 2550/5769 [37:07<3:31:30,  3.94s/it]"
     ]
    },
    {
     "name": "stdout",
     "output_type": "stream",
     "text": [
      "Step 2550\n",
      "Accuracy without re-ranking                            : 0.779607843137255\n",
      "Accuracy with re-ranking(mmarco-mMiniLMv2-L12-H384-v1) : 0.8721568627450981\n",
      "Accuracy with re-ranking(klue-cross-encoder-v1)        : 0.8603921568627451\n",
      "Accuracy with re-ranking(ms-marco-MiniLM-L-12-v2)      : 0.47215686274509805\n",
      "Accuracy with re-ranking(ms-marco-MiniLM-L-12-v2 tuning): 0.4243137254901961\n"
     ]
    },
    {
     "name": "stderr",
     "output_type": "stream",
     "text": [
      " 45%|████████████████████████████████▍                                       | 2600/5769 [38:37<52:16,  1.01it/s]"
     ]
    },
    {
     "name": "stdout",
     "output_type": "stream",
     "text": [
      "Step 2600\n",
      "Accuracy without re-ranking                            : 0.7788461538461539\n",
      "Accuracy with re-ranking(mmarco-mMiniLMv2-L12-H384-v1) : 0.8707692307692307\n",
      "Accuracy with re-ranking(klue-cross-encoder-v1)        : 0.8596153846153847\n",
      "Accuracy with re-ranking(ms-marco-MiniLM-L-12-v2)      : 0.47115384615384615\n",
      "Accuracy with re-ranking(ms-marco-MiniLM-L-12-v2 tuning): 0.4226923076923077\n"
     ]
    },
    {
     "name": "stderr",
     "output_type": "stream",
     "text": [
      " 46%|████████████████████████████████▏                                     | 2650/5769 [39:41<1:12:05,  1.39s/it]"
     ]
    },
    {
     "name": "stdout",
     "output_type": "stream",
     "text": [
      "Step 2650\n",
      "Accuracy without re-ranking                            : 0.7784905660377358\n",
      "Accuracy with re-ranking(mmarco-mMiniLMv2-L12-H384-v1) : 0.869811320754717\n",
      "Accuracy with re-ranking(klue-cross-encoder-v1)        : 0.8584905660377359\n",
      "Accuracy with re-ranking(ms-marco-MiniLM-L-12-v2)      : 0.469811320754717\n",
      "Accuracy with re-ranking(ms-marco-MiniLM-L-12-v2 tuning): 0.42\n"
     ]
    },
    {
     "name": "stderr",
     "output_type": "stream",
     "text": [
      " 47%|█████████████████████████████████▋                                      | 2700/5769 [40:35<41:02,  1.25it/s]"
     ]
    },
    {
     "name": "stdout",
     "output_type": "stream",
     "text": [
      "Step 2700\n",
      "Accuracy without re-ranking                            : 0.7788888888888889\n",
      "Accuracy with re-ranking(mmarco-mMiniLMv2-L12-H384-v1) : 0.8696296296296296\n",
      "Accuracy with re-ranking(klue-cross-encoder-v1)        : 0.8585185185185186\n",
      "Accuracy with re-ranking(ms-marco-MiniLM-L-12-v2)      : 0.47\n",
      "Accuracy with re-ranking(ms-marco-MiniLM-L-12-v2 tuning): 0.42185185185185187\n"
     ]
    },
    {
     "name": "stderr",
     "output_type": "stream",
     "text": [
      " 48%|██████████████████████████████████▎                                     | 2750/5769 [41:20<40:45,  1.23it/s]"
     ]
    },
    {
     "name": "stdout",
     "output_type": "stream",
     "text": [
      "Step 2750\n",
      "Accuracy without re-ranking                            : 0.7796363636363637\n",
      "Accuracy with re-ranking(mmarco-mMiniLMv2-L12-H384-v1) : 0.8701818181818182\n",
      "Accuracy with re-ranking(klue-cross-encoder-v1)        : 0.858909090909091\n",
      "Accuracy with re-ranking(ms-marco-MiniLM-L-12-v2)      : 0.472\n",
      "Accuracy with re-ranking(ms-marco-MiniLM-L-12-v2 tuning): 0.424\n"
     ]
    },
    {
     "name": "stderr",
     "output_type": "stream",
     "text": [
      " 49%|██████████████████████████████████▉                                     | 2800/5769 [42:09<37:52,  1.31it/s]"
     ]
    },
    {
     "name": "stdout",
     "output_type": "stream",
     "text": [
      "Step 2800\n",
      "Accuracy without re-ranking                            : 0.7803571428571429\n",
      "Accuracy with re-ranking(mmarco-mMiniLMv2-L12-H384-v1) : 0.8703571428571428\n",
      "Accuracy with re-ranking(klue-cross-encoder-v1)        : 0.8589285714285714\n",
      "Accuracy with re-ranking(ms-marco-MiniLM-L-12-v2)      : 0.4732142857142857\n",
      "Accuracy with re-ranking(ms-marco-MiniLM-L-12-v2 tuning): 0.42642857142857143\n"
     ]
    },
    {
     "name": "stderr",
     "output_type": "stream",
     "text": [
      " 49%|███████████████████████████████████▌                                    | 2850/5769 [42:50<37:42,  1.29it/s]"
     ]
    },
    {
     "name": "stdout",
     "output_type": "stream",
     "text": [
      "Step 2850\n",
      "Accuracy without re-ranking                            : 0.7817543859649123\n",
      "Accuracy with re-ranking(mmarco-mMiniLMv2-L12-H384-v1) : 0.8701754385964913\n",
      "Accuracy with re-ranking(klue-cross-encoder-v1)        : 0.8592982456140351\n",
      "Accuracy with re-ranking(ms-marco-MiniLM-L-12-v2)      : 0.4743859649122807\n",
      "Accuracy with re-ranking(ms-marco-MiniLM-L-12-v2 tuning): 0.4280701754385965\n"
     ]
    },
    {
     "name": "stderr",
     "output_type": "stream",
     "text": [
      " 50%|████████████████████████████████████▏                                   | 2900/5769 [43:31<45:10,  1.06it/s]"
     ]
    },
    {
     "name": "stdout",
     "output_type": "stream",
     "text": [
      "Step 2900\n",
      "Accuracy without re-ranking                            : 0.7820689655172414\n",
      "Accuracy with re-ranking(mmarco-mMiniLMv2-L12-H384-v1) : 0.87\n",
      "Accuracy with re-ranking(klue-cross-encoder-v1)        : 0.8586206896551725\n",
      "Accuracy with re-ranking(ms-marco-MiniLM-L-12-v2)      : 0.47517241379310343\n",
      "Accuracy with re-ranking(ms-marco-MiniLM-L-12-v2 tuning): 0.4286206896551724\n"
     ]
    },
    {
     "name": "stderr",
     "output_type": "stream",
     "text": [
      " 51%|████████████████████████████████████▊                                   | 2950/5769 [44:27<45:16,  1.04it/s]"
     ]
    },
    {
     "name": "stdout",
     "output_type": "stream",
     "text": [
      "Step 2950\n",
      "Accuracy without re-ranking                            : 0.7806779661016949\n",
      "Accuracy with re-ranking(mmarco-mMiniLMv2-L12-H384-v1) : 0.8691525423728813\n",
      "Accuracy with re-ranking(klue-cross-encoder-v1)        : 0.8583050847457627\n",
      "Accuracy with re-ranking(ms-marco-MiniLM-L-12-v2)      : 0.47491525423728814\n",
      "Accuracy with re-ranking(ms-marco-MiniLM-L-12-v2 tuning): 0.428135593220339\n"
     ]
    },
    {
     "name": "stderr",
     "output_type": "stream",
     "text": [
      " 52%|█████████████████████████████████████▍                                  | 3000/5769 [45:10<32:56,  1.40it/s]"
     ]
    },
    {
     "name": "stdout",
     "output_type": "stream",
     "text": [
      "Step 3000\n",
      "Accuracy without re-ranking                            : 0.7803333333333333\n",
      "Accuracy with re-ranking(mmarco-mMiniLMv2-L12-H384-v1) : 0.8686666666666667\n",
      "Accuracy with re-ranking(klue-cross-encoder-v1)        : 0.8583333333333333\n",
      "Accuracy with re-ranking(ms-marco-MiniLM-L-12-v2)      : 0.47533333333333333\n",
      "Accuracy with re-ranking(ms-marco-MiniLM-L-12-v2 tuning): 0.429\n"
     ]
    },
    {
     "name": "stderr",
     "output_type": "stream",
     "text": [
      " 53%|██████████████████████████████████████                                  | 3050/5769 [45:47<32:04,  1.41it/s]"
     ]
    },
    {
     "name": "stdout",
     "output_type": "stream",
     "text": [
      "Step 3050\n",
      "Accuracy without re-ranking                            : 0.781311475409836\n",
      "Accuracy with re-ranking(mmarco-mMiniLMv2-L12-H384-v1) : 0.8688524590163934\n",
      "Accuracy with re-ranking(klue-cross-encoder-v1)        : 0.8583606557377049\n",
      "Accuracy with re-ranking(ms-marco-MiniLM-L-12-v2)      : 0.47508196721311474\n",
      "Accuracy with re-ranking(ms-marco-MiniLM-L-12-v2 tuning): 0.4278688524590164\n"
     ]
    },
    {
     "name": "stderr",
     "output_type": "stream",
     "text": [
      " 54%|██████████████████████████████████████▋                                 | 3100/5769 [46:29<33:59,  1.31it/s]"
     ]
    },
    {
     "name": "stdout",
     "output_type": "stream",
     "text": [
      "Step 3100\n",
      "Accuracy without re-ranking                            : 0.7812903225806451\n",
      "Accuracy with re-ranking(mmarco-mMiniLMv2-L12-H384-v1) : 0.8690322580645161\n",
      "Accuracy with re-ranking(klue-cross-encoder-v1)        : 0.8580645161290322\n",
      "Accuracy with re-ranking(ms-marco-MiniLM-L-12-v2)      : 0.4754838709677419\n",
      "Accuracy with re-ranking(ms-marco-MiniLM-L-12-v2 tuning): 0.42838709677419357\n"
     ]
    },
    {
     "name": "stderr",
     "output_type": "stream",
     "text": [
      " 55%|███████████████████████████████████████▎                                | 3150/5769 [47:09<32:09,  1.36it/s]"
     ]
    },
    {
     "name": "stdout",
     "output_type": "stream",
     "text": [
      "Step 3150\n",
      "Accuracy without re-ranking                            : 0.780952380952381\n",
      "Accuracy with re-ranking(mmarco-mMiniLMv2-L12-H384-v1) : 0.8688888888888889\n",
      "Accuracy with re-ranking(klue-cross-encoder-v1)        : 0.8577777777777778\n",
      "Accuracy with re-ranking(ms-marco-MiniLM-L-12-v2)      : 0.4746031746031746\n",
      "Accuracy with re-ranking(ms-marco-MiniLM-L-12-v2 tuning): 0.42793650793650795\n"
     ]
    },
    {
     "name": "stderr",
     "output_type": "stream",
     "text": [
      " 55%|███████████████████████████████████████▉                                | 3200/5769 [47:48<29:47,  1.44it/s]"
     ]
    },
    {
     "name": "stdout",
     "output_type": "stream",
     "text": [
      "Step 3200\n",
      "Accuracy without re-ranking                            : 0.7796875\n",
      "Accuracy with re-ranking(mmarco-mMiniLMv2-L12-H384-v1) : 0.86875\n",
      "Accuracy with re-ranking(klue-cross-encoder-v1)        : 0.858125\n",
      "Accuracy with re-ranking(ms-marco-MiniLM-L-12-v2)      : 0.4740625\n",
      "Accuracy with re-ranking(ms-marco-MiniLM-L-12-v2 tuning): 0.426875\n"
     ]
    },
    {
     "name": "stderr",
     "output_type": "stream",
     "text": [
      " 56%|████████████████████████████████████████▌                               | 3250/5769 [48:33<35:54,  1.17it/s]"
     ]
    },
    {
     "name": "stdout",
     "output_type": "stream",
     "text": [
      "Step 3250\n",
      "Accuracy without re-ranking                            : 0.7781538461538462\n",
      "Accuracy with re-ranking(mmarco-mMiniLMv2-L12-H384-v1) : 0.8686153846153846\n",
      "Accuracy with re-ranking(klue-cross-encoder-v1)        : 0.8584615384615385\n",
      "Accuracy with re-ranking(ms-marco-MiniLM-L-12-v2)      : 0.47446153846153843\n",
      "Accuracy with re-ranking(ms-marco-MiniLM-L-12-v2 tuning): 0.4276923076923077\n"
     ]
    },
    {
     "name": "stderr",
     "output_type": "stream",
     "text": [
      " 57%|█████████████████████████████████████████▏                              | 3300/5769 [49:19<33:39,  1.22it/s]"
     ]
    },
    {
     "name": "stdout",
     "output_type": "stream",
     "text": [
      "Step 3300\n",
      "Accuracy without re-ranking                            : 0.776969696969697\n",
      "Accuracy with re-ranking(mmarco-mMiniLMv2-L12-H384-v1) : 0.8678787878787879\n",
      "Accuracy with re-ranking(klue-cross-encoder-v1)        : 0.8575757575757575\n",
      "Accuracy with re-ranking(ms-marco-MiniLM-L-12-v2)      : 0.47575757575757577\n",
      "Accuracy with re-ranking(ms-marco-MiniLM-L-12-v2 tuning): 0.4290909090909091\n"
     ]
    },
    {
     "name": "stderr",
     "output_type": "stream",
     "text": [
      " 58%|█████████████████████████████████████████▊                              | 3350/5769 [50:02<34:26,  1.17it/s]"
     ]
    },
    {
     "name": "stdout",
     "output_type": "stream",
     "text": [
      "Step 3350\n",
      "Accuracy without re-ranking                            : 0.7773134328358209\n",
      "Accuracy with re-ranking(mmarco-mMiniLMv2-L12-H384-v1) : 0.8680597014925373\n",
      "Accuracy with re-ranking(klue-cross-encoder-v1)        : 0.8576119402985075\n",
      "Accuracy with re-ranking(ms-marco-MiniLM-L-12-v2)      : 0.4764179104477612\n",
      "Accuracy with re-ranking(ms-marco-MiniLM-L-12-v2 tuning): 0.43044776119402983\n"
     ]
    },
    {
     "name": "stderr",
     "output_type": "stream",
     "text": [
      " 59%|██████████████████████████████████████████▍                             | 3400/5769 [50:58<52:27,  1.33s/it]"
     ]
    },
    {
     "name": "stdout",
     "output_type": "stream",
     "text": [
      "Step 3400\n",
      "Accuracy without re-ranking                            : 0.7761764705882352\n",
      "Accuracy with re-ranking(mmarco-mMiniLMv2-L12-H384-v1) : 0.8685294117647059\n",
      "Accuracy with re-ranking(klue-cross-encoder-v1)        : 0.8579411764705882\n",
      "Accuracy with re-ranking(ms-marco-MiniLM-L-12-v2)      : 0.4767647058823529\n",
      "Accuracy with re-ranking(ms-marco-MiniLM-L-12-v2 tuning): 0.4308823529411765\n"
     ]
    },
    {
     "name": "stderr",
     "output_type": "stream",
     "text": [
      " 60%|███████████████████████████████████████████                             | 3450/5769 [51:41<30:24,  1.27it/s]"
     ]
    },
    {
     "name": "stdout",
     "output_type": "stream",
     "text": [
      "Step 3450\n",
      "Accuracy without re-ranking                            : 0.7773913043478261\n",
      "Accuracy with re-ranking(mmarco-mMiniLMv2-L12-H384-v1) : 0.8692753623188406\n",
      "Accuracy with re-ranking(klue-cross-encoder-v1)        : 0.8585507246376811\n",
      "Accuracy with re-ranking(ms-marco-MiniLM-L-12-v2)      : 0.4771014492753623\n",
      "Accuracy with re-ranking(ms-marco-MiniLM-L-12-v2 tuning): 0.4327536231884058\n"
     ]
    },
    {
     "name": "stderr",
     "output_type": "stream",
     "text": [
      " 61%|███████████████████████████████████████████▋                            | 3500/5769 [52:17<24:33,  1.54it/s]"
     ]
    },
    {
     "name": "stdout",
     "output_type": "stream",
     "text": [
      "Step 3500\n",
      "Accuracy without re-ranking                            : 0.7745714285714286\n",
      "Accuracy with re-ranking(mmarco-mMiniLMv2-L12-H384-v1) : 0.868\n",
      "Accuracy with re-ranking(klue-cross-encoder-v1)        : 0.8571428571428571\n",
      "Accuracy with re-ranking(ms-marco-MiniLM-L-12-v2)      : 0.47514285714285714\n",
      "Accuracy with re-ranking(ms-marco-MiniLM-L-12-v2 tuning): 0.43257142857142855\n"
     ]
    },
    {
     "name": "stderr",
     "output_type": "stream",
     "text": [
      " 62%|████████████████████████████████████████████▎                           | 3550/5769 [52:53<24:58,  1.48it/s]"
     ]
    },
    {
     "name": "stdout",
     "output_type": "stream",
     "text": [
      "Step 3550\n",
      "Accuracy without re-ranking                            : 0.7743661971830986\n",
      "Accuracy with re-ranking(mmarco-mMiniLMv2-L12-H384-v1) : 0.8676056338028169\n",
      "Accuracy with re-ranking(klue-cross-encoder-v1)        : 0.856338028169014\n",
      "Accuracy with re-ranking(ms-marco-MiniLM-L-12-v2)      : 0.47464788732394364\n",
      "Accuracy with re-ranking(ms-marco-MiniLM-L-12-v2 tuning): 0.4332394366197183\n"
     ]
    },
    {
     "name": "stderr",
     "output_type": "stream",
     "text": [
      " 62%|████████████████████████████████████████████▉                           | 3600/5769 [53:25<23:31,  1.54it/s]"
     ]
    },
    {
     "name": "stdout",
     "output_type": "stream",
     "text": [
      "Step 3600\n",
      "Accuracy without re-ranking                            : 0.7752777777777777\n",
      "Accuracy with re-ranking(mmarco-mMiniLMv2-L12-H384-v1) : 0.8680555555555556\n",
      "Accuracy with re-ranking(klue-cross-encoder-v1)        : 0.8566666666666667\n",
      "Accuracy with re-ranking(ms-marco-MiniLM-L-12-v2)      : 0.47555555555555556\n",
      "Accuracy with re-ranking(ms-marco-MiniLM-L-12-v2 tuning): 0.4336111111111111\n"
     ]
    },
    {
     "name": "stderr",
     "output_type": "stream",
     "text": [
      " 63%|█████████████████████████████████████████████▌                          | 3650/5769 [54:01<23:31,  1.50it/s]"
     ]
    },
    {
     "name": "stdout",
     "output_type": "stream",
     "text": [
      "Step 3650\n",
      "Accuracy without re-ranking                            : 0.7747945205479452\n",
      "Accuracy with re-ranking(mmarco-mMiniLMv2-L12-H384-v1) : 0.8687671232876713\n",
      "Accuracy with re-ranking(klue-cross-encoder-v1)        : 0.8575342465753425\n",
      "Accuracy with re-ranking(ms-marco-MiniLM-L-12-v2)      : 0.47506849315068495\n",
      "Accuracy with re-ranking(ms-marco-MiniLM-L-12-v2 tuning): 0.4347945205479452\n"
     ]
    },
    {
     "name": "stderr",
     "output_type": "stream",
     "text": [
      " 64%|██████████████████████████████████████████████▏                         | 3700/5769 [54:36<23:01,  1.50it/s]"
     ]
    },
    {
     "name": "stdout",
     "output_type": "stream",
     "text": [
      "Step 3700\n",
      "Accuracy without re-ranking                            : 0.7754054054054054\n",
      "Accuracy with re-ranking(mmarco-mMiniLMv2-L12-H384-v1) : 0.8691891891891892\n",
      "Accuracy with re-ranking(klue-cross-encoder-v1)        : 0.8581081081081081\n",
      "Accuracy with re-ranking(ms-marco-MiniLM-L-12-v2)      : 0.4756756756756757\n",
      "Accuracy with re-ranking(ms-marco-MiniLM-L-12-v2 tuning): 0.4362162162162162\n"
     ]
    },
    {
     "name": "stderr",
     "output_type": "stream",
     "text": [
      " 65%|██████████████████████████████████████████████▊                         | 3750/5769 [55:11<23:24,  1.44it/s]"
     ]
    },
    {
     "name": "stdout",
     "output_type": "stream",
     "text": [
      "Step 3750\n",
      "Accuracy without re-ranking                            : 0.7749333333333334\n",
      "Accuracy with re-ranking(mmarco-mMiniLMv2-L12-H384-v1) : 0.8690666666666667\n",
      "Accuracy with re-ranking(klue-cross-encoder-v1)        : 0.8584\n",
      "Accuracy with re-ranking(ms-marco-MiniLM-L-12-v2)      : 0.47573333333333334\n",
      "Accuracy with re-ranking(ms-marco-MiniLM-L-12-v2 tuning): 0.436\n"
     ]
    },
    {
     "name": "stderr",
     "output_type": "stream",
     "text": [
      " 66%|███████████████████████████████████████████████▍                        | 3800/5769 [55:44<21:44,  1.51it/s]"
     ]
    },
    {
     "name": "stdout",
     "output_type": "stream",
     "text": [
      "Step 3800\n",
      "Accuracy without re-ranking                            : 0.776578947368421\n",
      "Accuracy with re-ranking(mmarco-mMiniLMv2-L12-H384-v1) : 0.8697368421052631\n",
      "Accuracy with re-ranking(klue-cross-encoder-v1)        : 0.8592105263157894\n",
      "Accuracy with re-ranking(ms-marco-MiniLM-L-12-v2)      : 0.47710526315789475\n",
      "Accuracy with re-ranking(ms-marco-MiniLM-L-12-v2 tuning): 0.4363157894736842\n"
     ]
    },
    {
     "name": "stderr",
     "output_type": "stream",
     "text": [
      " 67%|████████████████████████████████████████████████                        | 3850/5769 [56:16<19:02,  1.68it/s]"
     ]
    },
    {
     "name": "stdout",
     "output_type": "stream",
     "text": [
      "Step 3850\n",
      "Accuracy without re-ranking                            : 0.7766233766233767\n",
      "Accuracy with re-ranking(mmarco-mMiniLMv2-L12-H384-v1) : 0.8690909090909091\n",
      "Accuracy with re-ranking(klue-cross-encoder-v1)        : 0.8584415584415584\n",
      "Accuracy with re-ranking(ms-marco-MiniLM-L-12-v2)      : 0.47584415584415585\n",
      "Accuracy with re-ranking(ms-marco-MiniLM-L-12-v2 tuning): 0.43636363636363634\n"
     ]
    },
    {
     "name": "stderr",
     "output_type": "stream",
     "text": [
      " 68%|████████████████████████████████████████████████▋                       | 3900/5769 [56:48<20:39,  1.51it/s]"
     ]
    },
    {
     "name": "stdout",
     "output_type": "stream",
     "text": [
      "Step 3900\n",
      "Accuracy without re-ranking                            : 0.7769230769230769\n",
      "Accuracy with re-ranking(mmarco-mMiniLMv2-L12-H384-v1) : 0.8692307692307693\n",
      "Accuracy with re-ranking(klue-cross-encoder-v1)        : 0.8587179487179487\n",
      "Accuracy with re-ranking(ms-marco-MiniLM-L-12-v2)      : 0.4756410256410256\n",
      "Accuracy with re-ranking(ms-marco-MiniLM-L-12-v2 tuning): 0.43666666666666665\n"
     ]
    },
    {
     "name": "stderr",
     "output_type": "stream",
     "text": [
      " 68%|█████████████████████████████████████████████████▎                      | 3950/5769 [57:22<25:51,  1.17it/s]"
     ]
    },
    {
     "name": "stdout",
     "output_type": "stream",
     "text": [
      "Step 3950\n",
      "Accuracy without re-ranking                            : 0.7767088607594936\n",
      "Accuracy with re-ranking(mmarco-mMiniLMv2-L12-H384-v1) : 0.8688607594936709\n",
      "Accuracy with re-ranking(klue-cross-encoder-v1)        : 0.8584810126582278\n",
      "Accuracy with re-ranking(ms-marco-MiniLM-L-12-v2)      : 0.4769620253164557\n",
      "Accuracy with re-ranking(ms-marco-MiniLM-L-12-v2 tuning): 0.43746835443037974\n"
     ]
    },
    {
     "name": "stderr",
     "output_type": "stream",
     "text": [
      " 69%|█████████████████████████████████████████████████▉                      | 4000/5769 [58:00<27:53,  1.06it/s]"
     ]
    },
    {
     "name": "stdout",
     "output_type": "stream",
     "text": [
      "Step 4000\n",
      "Accuracy without re-ranking                            : 0.776\n",
      "Accuracy with re-ranking(mmarco-mMiniLMv2-L12-H384-v1) : 0.86825\n",
      "Accuracy with re-ranking(klue-cross-encoder-v1)        : 0.858\n",
      "Accuracy with re-ranking(ms-marco-MiniLM-L-12-v2)      : 0.47675\n",
      "Accuracy with re-ranking(ms-marco-MiniLM-L-12-v2 tuning): 0.43675\n"
     ]
    },
    {
     "name": "stderr",
     "output_type": "stream",
     "text": [
      " 70%|██████████████████████████████████████████████████▌                     | 4050/5769 [58:32<16:06,  1.78it/s]"
     ]
    },
    {
     "name": "stdout",
     "output_type": "stream",
     "text": [
      "Step 4050\n",
      "Accuracy without re-ranking                            : 0.7760493827160494\n",
      "Accuracy with re-ranking(mmarco-mMiniLMv2-L12-H384-v1) : 0.8676543209876543\n",
      "Accuracy with re-ranking(klue-cross-encoder-v1)        : 0.8577777777777778\n",
      "Accuracy with re-ranking(ms-marco-MiniLM-L-12-v2)      : 0.4775308641975309\n",
      "Accuracy with re-ranking(ms-marco-MiniLM-L-12-v2 tuning): 0.4372839506172839\n"
     ]
    },
    {
     "name": "stderr",
     "output_type": "stream",
     "text": [
      " 71%|███████████████████████████████████████████████████▏                    | 4100/5769 [59:15<25:16,  1.10it/s]"
     ]
    },
    {
     "name": "stdout",
     "output_type": "stream",
     "text": [
      "Step 4100\n",
      "Accuracy without re-ranking                            : 0.7760975609756098\n",
      "Accuracy with re-ranking(mmarco-mMiniLMv2-L12-H384-v1) : 0.8668292682926829\n",
      "Accuracy with re-ranking(klue-cross-encoder-v1)        : 0.8573170731707317\n",
      "Accuracy with re-ranking(ms-marco-MiniLM-L-12-v2)      : 0.4775609756097561\n",
      "Accuracy with re-ranking(ms-marco-MiniLM-L-12-v2 tuning): 0.4375609756097561\n"
     ]
    },
    {
     "name": "stderr",
     "output_type": "stream",
     "text": [
      " 72%|███████████████████████████████████████████████████▊                    | 4150/5769 [59:50<19:52,  1.36it/s]"
     ]
    },
    {
     "name": "stdout",
     "output_type": "stream",
     "text": [
      "Step 4150\n",
      "Accuracy without re-ranking                            : 0.7775903614457831\n",
      "Accuracy with re-ranking(mmarco-mMiniLMv2-L12-H384-v1) : 0.867710843373494\n",
      "Accuracy with re-ranking(klue-cross-encoder-v1)        : 0.8585542168674699\n",
      "Accuracy with re-ranking(ms-marco-MiniLM-L-12-v2)      : 0.47879518072289157\n",
      "Accuracy with re-ranking(ms-marco-MiniLM-L-12-v2 tuning): 0.43903614457831325\n"
     ]
    },
    {
     "name": "stderr",
     "output_type": "stream",
     "text": [
      " 73%|██████████████████████████████████████████████████▉                   | 4200/5769 [1:00:25<17:47,  1.47it/s]"
     ]
    },
    {
     "name": "stdout",
     "output_type": "stream",
     "text": [
      "Step 4200\n",
      "Accuracy without re-ranking                            : 0.7778571428571428\n",
      "Accuracy with re-ranking(mmarco-mMiniLMv2-L12-H384-v1) : 0.8680952380952381\n",
      "Accuracy with re-ranking(klue-cross-encoder-v1)        : 0.8590476190476191\n",
      "Accuracy with re-ranking(ms-marco-MiniLM-L-12-v2)      : 0.4788095238095238\n",
      "Accuracy with re-ranking(ms-marco-MiniLM-L-12-v2 tuning): 0.44047619047619047\n"
     ]
    },
    {
     "name": "stderr",
     "output_type": "stream",
     "text": [
      " 74%|███████████████████████████████████████████████████▌                  | 4250/5769 [1:01:09<18:17,  1.38it/s]"
     ]
    },
    {
     "name": "stdout",
     "output_type": "stream",
     "text": [
      "Step 4250\n",
      "Accuracy without re-ranking                            : 0.7781176470588236\n",
      "Accuracy with re-ranking(mmarco-mMiniLMv2-L12-H384-v1) : 0.8684705882352941\n",
      "Accuracy with re-ranking(klue-cross-encoder-v1)        : 0.859764705882353\n",
      "Accuracy with re-ranking(ms-marco-MiniLM-L-12-v2)      : 0.4797647058823529\n",
      "Accuracy with re-ranking(ms-marco-MiniLM-L-12-v2 tuning): 0.4416470588235294\n"
     ]
    },
    {
     "name": "stderr",
     "output_type": "stream",
     "text": [
      " 75%|████████████████████████████████████████████████████▏                 | 4300/5769 [1:01:43<15:26,  1.59it/s]"
     ]
    },
    {
     "name": "stdout",
     "output_type": "stream",
     "text": [
      "Step 4300\n",
      "Accuracy without re-ranking                            : 0.7779069767441861\n",
      "Accuracy with re-ranking(mmarco-mMiniLMv2-L12-H384-v1) : 0.868139534883721\n",
      "Accuracy with re-ranking(klue-cross-encoder-v1)        : 0.8593023255813953\n",
      "Accuracy with re-ranking(ms-marco-MiniLM-L-12-v2)      : 0.48023255813953486\n",
      "Accuracy with re-ranking(ms-marco-MiniLM-L-12-v2 tuning): 0.44232558139534883\n"
     ]
    },
    {
     "name": "stderr",
     "output_type": "stream",
     "text": [
      " 75%|████████████████████████████████████████████████████▊                 | 4350/5769 [1:02:20<16:27,  1.44it/s]"
     ]
    },
    {
     "name": "stdout",
     "output_type": "stream",
     "text": [
      "Step 4350\n",
      "Accuracy without re-ranking                            : 0.7777011494252873\n",
      "Accuracy with re-ranking(mmarco-mMiniLMv2-L12-H384-v1) : 0.8680459770114942\n",
      "Accuracy with re-ranking(klue-cross-encoder-v1)        : 0.8588505747126437\n",
      "Accuracy with re-ranking(ms-marco-MiniLM-L-12-v2)      : 0.48\n",
      "Accuracy with re-ranking(ms-marco-MiniLM-L-12-v2 tuning): 0.44229885057471263\n"
     ]
    },
    {
     "name": "stderr",
     "output_type": "stream",
     "text": [
      " 76%|█████████████████████████████████████████████████████▍                | 4400/5769 [1:02:52<14:28,  1.58it/s]"
     ]
    },
    {
     "name": "stdout",
     "output_type": "stream",
     "text": [
      "Step 4400\n",
      "Accuracy without re-ranking                            : 0.7784090909090909\n",
      "Accuracy with re-ranking(mmarco-mMiniLMv2-L12-H384-v1) : 0.8681818181818182\n",
      "Accuracy with re-ranking(klue-cross-encoder-v1)        : 0.8590909090909091\n",
      "Accuracy with re-ranking(ms-marco-MiniLM-L-12-v2)      : 0.4797727272727273\n",
      "Accuracy with re-ranking(ms-marco-MiniLM-L-12-v2 tuning): 0.4431818181818182\n"
     ]
    },
    {
     "name": "stderr",
     "output_type": "stream",
     "text": [
      " 77%|█████████████████████████████████████████████████████▉                | 4450/5769 [1:03:27<15:02,  1.46it/s]"
     ]
    },
    {
     "name": "stdout",
     "output_type": "stream",
     "text": [
      "Step 4450\n",
      "Accuracy without re-ranking                            : 0.7793258426966292\n",
      "Accuracy with re-ranking(mmarco-mMiniLMv2-L12-H384-v1) : 0.8696629213483146\n",
      "Accuracy with re-ranking(klue-cross-encoder-v1)        : 0.8602247191011236\n",
      "Accuracy with re-ranking(ms-marco-MiniLM-L-12-v2)      : 0.4793258426966292\n",
      "Accuracy with re-ranking(ms-marco-MiniLM-L-12-v2 tuning): 0.44269662921348313\n"
     ]
    },
    {
     "name": "stderr",
     "output_type": "stream",
     "text": [
      " 78%|██████████████████████████████████████████████████████▌               | 4500/5769 [1:04:03<15:25,  1.37it/s]"
     ]
    },
    {
     "name": "stdout",
     "output_type": "stream",
     "text": [
      "Step 4500\n",
      "Accuracy without re-ranking                            : 0.7793333333333333\n",
      "Accuracy with re-ranking(mmarco-mMiniLMv2-L12-H384-v1) : 0.8695555555555555\n",
      "Accuracy with re-ranking(klue-cross-encoder-v1)        : 0.86\n",
      "Accuracy with re-ranking(ms-marco-MiniLM-L-12-v2)      : 0.48\n",
      "Accuracy with re-ranking(ms-marco-MiniLM-L-12-v2 tuning): 0.4428888888888889\n"
     ]
    },
    {
     "name": "stderr",
     "output_type": "stream",
     "text": [
      " 79%|███████████████████████████████████████████████████████▏              | 4550/5769 [1:04:37<13:45,  1.48it/s]"
     ]
    },
    {
     "name": "stdout",
     "output_type": "stream",
     "text": [
      "Step 4550\n",
      "Accuracy without re-ranking                            : 0.78\n",
      "Accuracy with re-ranking(mmarco-mMiniLMv2-L12-H384-v1) : 0.8701098901098901\n",
      "Accuracy with re-ranking(klue-cross-encoder-v1)        : 0.8606593406593407\n",
      "Accuracy with re-ranking(ms-marco-MiniLM-L-12-v2)      : 0.481978021978022\n",
      "Accuracy with re-ranking(ms-marco-MiniLM-L-12-v2 tuning): 0.4441758241758242\n"
     ]
    },
    {
     "name": "stderr",
     "output_type": "stream",
     "text": [
      " 80%|███████████████████████████████████████████████████████▊              | 4600/5769 [1:05:14<12:09,  1.60it/s]"
     ]
    },
    {
     "name": "stdout",
     "output_type": "stream",
     "text": [
      "Step 4600\n",
      "Accuracy without re-ranking                            : 0.7797826086956522\n",
      "Accuracy with re-ranking(mmarco-mMiniLMv2-L12-H384-v1) : 0.8697826086956522\n",
      "Accuracy with re-ranking(klue-cross-encoder-v1)        : 0.8602173913043478\n",
      "Accuracy with re-ranking(ms-marco-MiniLM-L-12-v2)      : 0.48195652173913045\n",
      "Accuracy with re-ranking(ms-marco-MiniLM-L-12-v2 tuning): 0.4439130434782609\n"
     ]
    },
    {
     "name": "stderr",
     "output_type": "stream",
     "text": [
      " 81%|████████████████████████████████████████████████████████▍             | 4650/5769 [1:05:49<12:44,  1.46it/s]"
     ]
    },
    {
     "name": "stdout",
     "output_type": "stream",
     "text": [
      "Step 4650\n",
      "Accuracy without re-ranking                            : 0.78\n",
      "Accuracy with re-ranking(mmarco-mMiniLMv2-L12-H384-v1) : 0.8701075268817204\n",
      "Accuracy with re-ranking(klue-cross-encoder-v1)        : 0.8606451612903225\n",
      "Accuracy with re-ranking(ms-marco-MiniLM-L-12-v2)      : 0.48193548387096774\n",
      "Accuracy with re-ranking(ms-marco-MiniLM-L-12-v2 tuning): 0.443010752688172\n"
     ]
    },
    {
     "name": "stderr",
     "output_type": "stream",
     "text": [
      " 81%|█████████████████████████████████████████████████████████             | 4700/5769 [1:06:29<11:59,  1.49it/s]"
     ]
    },
    {
     "name": "stdout",
     "output_type": "stream",
     "text": [
      "Step 4700\n",
      "Accuracy without re-ranking                            : 0.7808510638297872\n",
      "Accuracy with re-ranking(mmarco-mMiniLMv2-L12-H384-v1) : 0.8704255319148936\n",
      "Accuracy with re-ranking(klue-cross-encoder-v1)        : 0.8610638297872341\n",
      "Accuracy with re-ranking(ms-marco-MiniLM-L-12-v2)      : 0.4823404255319149\n",
      "Accuracy with re-ranking(ms-marco-MiniLM-L-12-v2 tuning): 0.4431914893617021\n"
     ]
    },
    {
     "name": "stderr",
     "output_type": "stream",
     "text": [
      " 82%|█████████████████████████████████████████████████████████▋            | 4750/5769 [1:07:03<11:57,  1.42it/s]"
     ]
    },
    {
     "name": "stdout",
     "output_type": "stream",
     "text": [
      "Step 4750\n",
      "Accuracy without re-ranking                            : 0.7821052631578947\n",
      "Accuracy with re-ranking(mmarco-mMiniLMv2-L12-H384-v1) : 0.8711578947368421\n",
      "Accuracy with re-ranking(klue-cross-encoder-v1)        : 0.8618947368421053\n",
      "Accuracy with re-ranking(ms-marco-MiniLM-L-12-v2)      : 0.48273684210526313\n",
      "Accuracy with re-ranking(ms-marco-MiniLM-L-12-v2 tuning): 0.4433684210526316\n"
     ]
    },
    {
     "name": "stderr",
     "output_type": "stream",
     "text": [
      " 83%|██████████████████████████████████████████████████████████▏           | 4800/5769 [1:07:35<11:23,  1.42it/s]"
     ]
    },
    {
     "name": "stdout",
     "output_type": "stream",
     "text": [
      "Step 4800\n",
      "Accuracy without re-ranking                            : 0.7822916666666667\n",
      "Accuracy with re-ranking(mmarco-mMiniLMv2-L12-H384-v1) : 0.870625\n",
      "Accuracy with re-ranking(klue-cross-encoder-v1)        : 0.8616666666666667\n",
      "Accuracy with re-ranking(ms-marco-MiniLM-L-12-v2)      : 0.48333333333333334\n",
      "Accuracy with re-ranking(ms-marco-MiniLM-L-12-v2 tuning): 0.44333333333333336\n"
     ]
    },
    {
     "name": "stderr",
     "output_type": "stream",
     "text": [
      " 84%|██████████████████████████████████████████████████████████▊           | 4850/5769 [1:08:16<10:06,  1.51it/s]"
     ]
    },
    {
     "name": "stdout",
     "output_type": "stream",
     "text": [
      "Step 4850\n",
      "Accuracy without re-ranking                            : 0.7826804123711341\n",
      "Accuracy with re-ranking(mmarco-mMiniLMv2-L12-H384-v1) : 0.8715463917525773\n",
      "Accuracy with re-ranking(klue-cross-encoder-v1)        : 0.8628865979381444\n",
      "Accuracy with re-ranking(ms-marco-MiniLM-L-12-v2)      : 0.48329896907216496\n",
      "Accuracy with re-ranking(ms-marco-MiniLM-L-12-v2 tuning): 0.44268041237113404\n"
     ]
    },
    {
     "name": "stderr",
     "output_type": "stream",
     "text": [
      " 85%|███████████████████████████████████████████████████████████▍          | 4900/5769 [1:09:00<21:45,  1.50s/it]"
     ]
    },
    {
     "name": "stdout",
     "output_type": "stream",
     "text": [
      "Step 4900\n",
      "Accuracy without re-ranking                            : 0.7824489795918367\n",
      "Accuracy with re-ranking(mmarco-mMiniLMv2-L12-H384-v1) : 0.8724489795918368\n",
      "Accuracy with re-ranking(klue-cross-encoder-v1)        : 0.8630612244897959\n",
      "Accuracy with re-ranking(ms-marco-MiniLM-L-12-v2)      : 0.483265306122449\n",
      "Accuracy with re-ranking(ms-marco-MiniLM-L-12-v2 tuning): 0.44285714285714284\n"
     ]
    },
    {
     "name": "stderr",
     "output_type": "stream",
     "text": [
      " 86%|████████████████████████████████████████████████████████████          | 4950/5769 [1:09:42<11:10,  1.22it/s]"
     ]
    },
    {
     "name": "stdout",
     "output_type": "stream",
     "text": [
      "Step 4950\n",
      "Accuracy without re-ranking                            : 0.7818181818181819\n",
      "Accuracy with re-ranking(mmarco-mMiniLMv2-L12-H384-v1) : 0.8725252525252525\n",
      "Accuracy with re-ranking(klue-cross-encoder-v1)        : 0.863030303030303\n",
      "Accuracy with re-ranking(ms-marco-MiniLM-L-12-v2)      : 0.4824242424242424\n",
      "Accuracy with re-ranking(ms-marco-MiniLM-L-12-v2 tuning): 0.44242424242424244\n"
     ]
    },
    {
     "name": "stderr",
     "output_type": "stream",
     "text": [
      " 87%|████████████████████████████████████████████████████████████▋         | 5000/5769 [1:10:16<08:32,  1.50it/s]"
     ]
    },
    {
     "name": "stdout",
     "output_type": "stream",
     "text": [
      "Step 5000\n",
      "Accuracy without re-ranking                            : 0.7832\n",
      "Accuracy with re-ranking(mmarco-mMiniLMv2-L12-H384-v1) : 0.8732\n",
      "Accuracy with re-ranking(klue-cross-encoder-v1)        : 0.8634\n",
      "Accuracy with re-ranking(ms-marco-MiniLM-L-12-v2)      : 0.4826\n",
      "Accuracy with re-ranking(ms-marco-MiniLM-L-12-v2 tuning): 0.4422\n"
     ]
    },
    {
     "name": "stderr",
     "output_type": "stream",
     "text": [
      " 88%|█████████████████████████████████████████████████████████████▎        | 5050/5769 [1:10:50<07:55,  1.51it/s]"
     ]
    },
    {
     "name": "stdout",
     "output_type": "stream",
     "text": [
      "Step 5050\n",
      "Accuracy without re-ranking                            : 0.783960396039604\n",
      "Accuracy with re-ranking(mmarco-mMiniLMv2-L12-H384-v1) : 0.8732673267326733\n",
      "Accuracy with re-ranking(klue-cross-encoder-v1)        : 0.8635643564356436\n",
      "Accuracy with re-ranking(ms-marco-MiniLM-L-12-v2)      : 0.48277227722772276\n",
      "Accuracy with re-ranking(ms-marco-MiniLM-L-12-v2 tuning): 0.4415841584158416\n"
     ]
    },
    {
     "name": "stderr",
     "output_type": "stream",
     "text": [
      " 88%|█████████████████████████████████████████████████████████████▉        | 5100/5769 [1:11:28<07:26,  1.50it/s]"
     ]
    },
    {
     "name": "stdout",
     "output_type": "stream",
     "text": [
      "Step 5100\n",
      "Accuracy without re-ranking                            : 0.7843137254901961\n",
      "Accuracy with re-ranking(mmarco-mMiniLMv2-L12-H384-v1) : 0.8735294117647059\n",
      "Accuracy with re-ranking(klue-cross-encoder-v1)        : 0.863921568627451\n",
      "Accuracy with re-ranking(ms-marco-MiniLM-L-12-v2)      : 0.48274509803921567\n",
      "Accuracy with re-ranking(ms-marco-MiniLM-L-12-v2 tuning): 0.4415686274509804\n"
     ]
    },
    {
     "name": "stderr",
     "output_type": "stream",
     "text": [
      " 89%|██████████████████████████████████████████████████████████████▍       | 5150/5769 [1:12:01<06:50,  1.51it/s]"
     ]
    },
    {
     "name": "stdout",
     "output_type": "stream",
     "text": [
      "Step 5150\n",
      "Accuracy without re-ranking                            : 0.7848543689320389\n",
      "Accuracy with re-ranking(mmarco-mMiniLMv2-L12-H384-v1) : 0.8743689320388349\n",
      "Accuracy with re-ranking(klue-cross-encoder-v1)        : 0.8650485436893204\n",
      "Accuracy with re-ranking(ms-marco-MiniLM-L-12-v2)      : 0.48330097087378643\n",
      "Accuracy with re-ranking(ms-marco-MiniLM-L-12-v2 tuning): 0.4413592233009709\n"
     ]
    },
    {
     "name": "stderr",
     "output_type": "stream",
     "text": [
      " 90%|███████████████████████████████████████████████████████████████       | 5200/5769 [1:12:36<06:42,  1.41it/s]"
     ]
    },
    {
     "name": "stdout",
     "output_type": "stream",
     "text": [
      "Step 5200\n",
      "Accuracy without re-ranking                            : 0.7846153846153846\n",
      "Accuracy with re-ranking(mmarco-mMiniLMv2-L12-H384-v1) : 0.8748076923076923\n",
      "Accuracy with re-ranking(klue-cross-encoder-v1)        : 0.865\n",
      "Accuracy with re-ranking(ms-marco-MiniLM-L-12-v2)      : 0.4828846153846154\n",
      "Accuracy with re-ranking(ms-marco-MiniLM-L-12-v2 tuning): 0.4411538461538462\n"
     ]
    },
    {
     "name": "stderr",
     "output_type": "stream",
     "text": [
      " 91%|███████████████████████████████████████████████████████████████▋      | 5250/5769 [1:13:11<05:43,  1.51it/s]"
     ]
    },
    {
     "name": "stdout",
     "output_type": "stream",
     "text": [
      "Step 5250\n",
      "Accuracy without re-ranking                            : 0.7847619047619048\n",
      "Accuracy with re-ranking(mmarco-mMiniLMv2-L12-H384-v1) : 0.8746666666666667\n",
      "Accuracy with re-ranking(klue-cross-encoder-v1)        : 0.8653333333333333\n",
      "Accuracy with re-ranking(ms-marco-MiniLM-L-12-v2)      : 0.4824761904761905\n",
      "Accuracy with re-ranking(ms-marco-MiniLM-L-12-v2 tuning): 0.44133333333333336\n"
     ]
    },
    {
     "name": "stderr",
     "output_type": "stream",
     "text": [
      " 92%|████████████████████████████████████████████████████████████████▎     | 5300/5769 [1:13:51<15:48,  2.02s/it]"
     ]
    },
    {
     "name": "stdout",
     "output_type": "stream",
     "text": [
      "Step 5300\n",
      "Accuracy without re-ranking                            : 0.7852830188679245\n",
      "Accuracy with re-ranking(mmarco-mMiniLMv2-L12-H384-v1) : 0.8750943396226415\n",
      "Accuracy with re-ranking(klue-cross-encoder-v1)        : 0.8658490566037735\n",
      "Accuracy with re-ranking(ms-marco-MiniLM-L-12-v2)      : 0.4839622641509434\n",
      "Accuracy with re-ranking(ms-marco-MiniLM-L-12-v2 tuning): 0.4432075471698113\n"
     ]
    },
    {
     "name": "stderr",
     "output_type": "stream",
     "text": [
      " 93%|████████████████████████████████████████████████████████████████▉     | 5350/5769 [1:14:35<04:35,  1.52it/s]"
     ]
    },
    {
     "name": "stdout",
     "output_type": "stream",
     "text": [
      "Step 5350\n",
      "Accuracy without re-ranking                            : 0.7859813084112149\n",
      "Accuracy with re-ranking(mmarco-mMiniLMv2-L12-H384-v1) : 0.8751401869158878\n",
      "Accuracy with re-ranking(klue-cross-encoder-v1)        : 0.8657943925233644\n",
      "Accuracy with re-ranking(ms-marco-MiniLM-L-12-v2)      : 0.48411214953271026\n",
      "Accuracy with re-ranking(ms-marco-MiniLM-L-12-v2 tuning): 0.44299065420560746\n"
     ]
    },
    {
     "name": "stderr",
     "output_type": "stream",
     "text": [
      " 94%|█████████████████████████████████████████████████████████████████▌    | 5400/5769 [1:15:10<04:10,  1.47it/s]"
     ]
    },
    {
     "name": "stdout",
     "output_type": "stream",
     "text": [
      "Step 5400\n",
      "Accuracy without re-ranking                            : 0.7862962962962963\n",
      "Accuracy with re-ranking(mmarco-mMiniLMv2-L12-H384-v1) : 0.8755555555555555\n",
      "Accuracy with re-ranking(klue-cross-encoder-v1)        : 0.8664814814814815\n",
      "Accuracy with re-ranking(ms-marco-MiniLM-L-12-v2)      : 0.4840740740740741\n",
      "Accuracy with re-ranking(ms-marco-MiniLM-L-12-v2 tuning): 0.44296296296296295\n"
     ]
    },
    {
     "name": "stderr",
     "output_type": "stream",
     "text": [
      " 94%|██████████████████████████████████████████████████████████████████▏   | 5450/5769 [1:15:48<03:36,  1.48it/s]"
     ]
    },
    {
     "name": "stdout",
     "output_type": "stream",
     "text": [
      "Step 5450\n",
      "Accuracy without re-ranking                            : 0.7871559633027523\n",
      "Accuracy with re-ranking(mmarco-mMiniLMv2-L12-H384-v1) : 0.8759633027522936\n",
      "Accuracy with re-ranking(klue-cross-encoder-v1)        : 0.8669724770642202\n",
      "Accuracy with re-ranking(ms-marco-MiniLM-L-12-v2)      : 0.48495412844036695\n",
      "Accuracy with re-ranking(ms-marco-MiniLM-L-12-v2 tuning): 0.44330275229357796\n"
     ]
    },
    {
     "name": "stderr",
     "output_type": "stream",
     "text": [
      " 95%|██████████████████████████████████████████████████████████████████▋   | 5500/5769 [1:16:24<03:23,  1.32it/s]"
     ]
    },
    {
     "name": "stdout",
     "output_type": "stream",
     "text": [
      "Step 5500\n",
      "Accuracy without re-ranking                            : 0.7881818181818182\n",
      "Accuracy with re-ranking(mmarco-mMiniLMv2-L12-H384-v1) : 0.8765454545454545\n",
      "Accuracy with re-ranking(klue-cross-encoder-v1)        : 0.8676363636363637\n",
      "Accuracy with re-ranking(ms-marco-MiniLM-L-12-v2)      : 0.4850909090909091\n",
      "Accuracy with re-ranking(ms-marco-MiniLM-L-12-v2 tuning): 0.4430909090909091\n"
     ]
    },
    {
     "name": "stderr",
     "output_type": "stream",
     "text": [
      " 96%|███████████████████████████████████████████████████████████████████▎  | 5550/5769 [1:17:01<02:35,  1.41it/s]"
     ]
    },
    {
     "name": "stdout",
     "output_type": "stream",
     "text": [
      "Step 5550\n",
      "Accuracy without re-ranking                            : 0.7884684684684685\n",
      "Accuracy with re-ranking(mmarco-mMiniLMv2-L12-H384-v1) : 0.8765765765765766\n",
      "Accuracy with re-ranking(klue-cross-encoder-v1)        : 0.8675675675675676\n",
      "Accuracy with re-ranking(ms-marco-MiniLM-L-12-v2)      : 0.4845045045045045\n",
      "Accuracy with re-ranking(ms-marco-MiniLM-L-12-v2 tuning): 0.44288288288288286\n"
     ]
    },
    {
     "name": "stderr",
     "output_type": "stream",
     "text": [
      " 97%|███████████████████████████████████████████████████████████████████▉  | 5600/5769 [1:17:40<03:31,  1.25s/it]"
     ]
    },
    {
     "name": "stdout",
     "output_type": "stream",
     "text": [
      "Step 5600\n",
      "Accuracy without re-ranking                            : 0.7894642857142857\n",
      "Accuracy with re-ranking(mmarco-mMiniLMv2-L12-H384-v1) : 0.8775\n",
      "Accuracy with re-ranking(klue-cross-encoder-v1)        : 0.8685714285714285\n",
      "Accuracy with re-ranking(ms-marco-MiniLM-L-12-v2)      : 0.485\n",
      "Accuracy with re-ranking(ms-marco-MiniLM-L-12-v2 tuning): 0.44339285714285714\n"
     ]
    },
    {
     "name": "stderr",
     "output_type": "stream",
     "text": [
      " 98%|████████████████████████████████████████████████████████████████████▌ | 5650/5769 [1:18:20<01:39,  1.19it/s]"
     ]
    },
    {
     "name": "stdout",
     "output_type": "stream",
     "text": [
      "Step 5650\n",
      "Accuracy without re-ranking                            : 0.7902654867256638\n",
      "Accuracy with re-ranking(mmarco-mMiniLMv2-L12-H384-v1) : 0.8782300884955753\n",
      "Accuracy with re-ranking(klue-cross-encoder-v1)        : 0.8692035398230088\n",
      "Accuracy with re-ranking(ms-marco-MiniLM-L-12-v2)      : 0.48619469026548673\n",
      "Accuracy with re-ranking(ms-marco-MiniLM-L-12-v2 tuning): 0.44442477876106196\n"
     ]
    },
    {
     "name": "stderr",
     "output_type": "stream",
     "text": [
      " 99%|█████████████████████████████████████████████████████████████████████▏| 5700/5769 [1:18:54<00:50,  1.36it/s]"
     ]
    },
    {
     "name": "stdout",
     "output_type": "stream",
     "text": [
      "Step 5700\n",
      "Accuracy without re-ranking                            : 0.7908771929824562\n",
      "Accuracy with re-ranking(mmarco-mMiniLMv2-L12-H384-v1) : 0.8782456140350877\n",
      "Accuracy with re-ranking(klue-cross-encoder-v1)        : 0.8694736842105263\n",
      "Accuracy with re-ranking(ms-marco-MiniLM-L-12-v2)      : 0.4856140350877193\n",
      "Accuracy with re-ranking(ms-marco-MiniLM-L-12-v2 tuning): 0.443859649122807\n"
     ]
    },
    {
     "name": "stderr",
     "output_type": "stream",
     "text": [
      "100%|█████████████████████████████████████████████████████████████████████▊| 5750/5769 [1:19:29<00:13,  1.44it/s]"
     ]
    },
    {
     "name": "stdout",
     "output_type": "stream",
     "text": [
      "Step 5750\n",
      "Accuracy without re-ranking                            : 0.790608695652174\n",
      "Accuracy with re-ranking(mmarco-mMiniLMv2-L12-H384-v1) : 0.8780869565217392\n",
      "Accuracy with re-ranking(klue-cross-encoder-v1)        : 0.8693913043478261\n",
      "Accuracy with re-ranking(ms-marco-MiniLM-L-12-v2)      : 0.48591304347826086\n",
      "Accuracy with re-ranking(ms-marco-MiniLM-L-12-v2 tuning): 0.44417391304347825\n"
     ]
    },
    {
     "name": "stderr",
     "output_type": "stream",
     "text": [
      "100%|██████████████████████████████████████████████████████████████████████| 5769/5769 [1:19:42<00:00,  1.21it/s]\n"
     ]
    }
   ],
   "source": [
    "i = 0\n",
    "print_every = 50\n",
    "predictions = []\n",
    "for question in tqdm(val_sample['question']):\n",
    "    retrieved_hash, reranked_hash_1, reranked_hash_2, reranked_hash_3, reranked_hash_4 = eval_ranking_4(question, cross_encoder_1, cross_encoder_2, cross_encoder_3, cross_encoder_4, top_k=3)\n",
    "    correct_hash = q_to_hash[question]\n",
    "    predictions.append((retrieved_hash == correct_hash, reranked_hash_1 == correct_hash, reranked_hash_2 == correct_hash, reranked_hash_3 == correct_hash, reranked_hash_4 == correct_hash))\n",
    "    i += 1\n",
    "    if i % print_every == 0:\n",
    "        print(f'Step {i}')\n",
    "        raw_accuracy = sum([p[0] for p in predictions])/len(predictions)\n",
    "        reranked_accuracy_1 = sum([p[1] for p in predictions])/len(predictions)\n",
    "        reranked_accuracy_2 = sum([p[2] for p in predictions])/len(predictions)\n",
    "        reranked_accuracy_3 = sum([p[3] for p in predictions])/len(predictions)\n",
    "        reranked_accuracy_4 = sum([p[4] for p in predictions])/len(predictions)\n",
    "\n",
    "        print(f'Accuracy without re-ranking                            : {raw_accuracy}')\n",
    "        print(f'Accuracy with re-ranking(mmarco-mMiniLMv2-L12-H384-v1) : {reranked_accuracy_1}')\n",
    "        print(f'Accuracy with re-ranking(klue-cross-encoder-v1)        : {reranked_accuracy_2}')\n",
    "        print(f'Accuracy with re-ranking(ms-marco-MiniLM-L-12-v2)      : {reranked_accuracy_3}')\n",
    "        print(f'Accuracy with re-ranking(ms-marco-MiniLM-L-12-v2 tuning): {reranked_accuracy_4}')\n"
   ]
  },
  {
   "cell_type": "code",
   "execution_count": 192,
   "id": "42468f26-0b19-41fd-a5e0-69eb947e40d5",
   "metadata": {},
   "outputs": [
    {
     "name": "stdout",
     "output_type": "stream",
     "text": [
      "text-embedding-3-small\n",
      "Accuracy without re-ranking                            : 0.7911249783324666\n",
      "Accuracy with re-ranking(mmarco-mMiniLMv2-L12-H384-v1) : 0.8784884728722482\n",
      "Accuracy with re-ranking(klue-cross-encoder-v1)        : 0.8698214595250476\n",
      "Accuracy with re-ranking(ms-marco-MiniLM-L-12-v2)      : 0.48569942797711907\n",
      "Accuracy with re-ranking(ms-marco-MiniLM-L-12-v2 tuning): 0.44427110417750043\n"
     ]
    }
   ],
   "source": [
    "raw_accuracy = sum([p[0] for p in predictions])/len(predictions)\n",
    "reranked_accuracy_1 = sum([p[1] for p in predictions])/len(predictions)\n",
    "reranked_accuracy_2 = sum([p[2] for p in predictions])/len(predictions)\n",
    "reranked_accuracy_3 = sum([p[3] for p in predictions])/len(predictions)\n",
    "reranked_accuracy_4 = sum([p[4] for p in predictions])/len(predictions)\n",
    "\n",
    "print('text-embedding-3-small')\n",
    "print(f'Accuracy without re-ranking                            : {raw_accuracy}')\n",
    "print(f'Accuracy with re-ranking(mmarco-mMiniLMv2-L12-H384-v1) : {reranked_accuracy_1}')\n",
    "print(f'Accuracy with re-ranking(klue-cross-encoder-v1)        : {reranked_accuracy_2}')\n",
    "print(f'Accuracy with re-ranking(ms-marco-MiniLM-L-12-v2)      : {reranked_accuracy_3}')\n",
    "print(f'Accuracy with re-ranking(ms-marco-MiniLM-L-12-v2 tuning): {reranked_accuracy_4}')"
   ]
  },
  {
   "cell_type": "markdown",
   "id": "9141e234-71c9-4d57-937e-8a8c3d43f90c",
   "metadata": {},
   "source": [
    "## 5.4 text-embedding-3-large 한국어 성능"
   ]
  },
  {
   "cell_type": "code",
   "execution_count": 193,
   "id": "55bb38b8-9631-4379-a4c2-368b969a82b1",
   "metadata": {},
   "outputs": [],
   "source": [
    "ENGINE = 'text-embedding-3-large'\n",
    "# ENGINE_2 = 'text-embedding-ada-002'\n",
    "# ENGINE_3_S = 'text-embedding-3-small'  # OpenAI의 3세대 embedding 모델 (소형)\n",
    "# ENGINE_3_L = 'text-embedding-3-large'  # OpenAI의 3세대 embedding 모델 (대형)"
   ]
  },
  {
   "cell_type": "code",
   "execution_count": 194,
   "id": "e395bac5-8980-4b37-8f6b-ab6346376346",
   "metadata": {},
   "outputs": [],
   "source": [
    "pinecone.delete_index(INDEX_NAME)  # delete the index\n",
    "\n",
    "pinecone.create_index(\n",
    "    INDEX_NAME, # 인덱스 이름\n",
    "    # dimension=1536, # 벡터의 치수, text-embedding-ada-002, text-embedding-3-small\n",
    "    dimension=3072, # 벡터의 치수, text-embedding-3-large\n",
    "    \n",
    "    metric='cosine', # 인덱스를 검색할 때 사용할 유사성 메트릭\n",
    "    spec=PodSpec(\n",
    "      environment=\"gcp-starter\"\n",
    "    )\n",
    "    # pod_type=\"p1\" # 파인콘 파드의 유형\n",
    ")\n",
    "\n",
    "# 인덱스를 변수로 저장\n",
    "index = pinecone.Index(INDEX_NAME)"
   ]
  },
  {
   "cell_type": "code",
   "execution_count": 195,
   "id": "ebbdeec3-01d5-4f59-8230-3f507112e2cf",
   "metadata": {},
   "outputs": [
    {
     "name": "stderr",
     "output_type": "stream",
     "text": [
      "100%|██████████████████████████████████████████████████████████████████████████████| 6/6 [00:36<00:00,  6.16s/it]\n",
      "100%|████████████████████████████████████████████████████████████████████████████| 29/29 [02:17<00:00,  4.75s/it]\n",
      "100%|████████████████████████████████████████████████████████████████████████████| 11/11 [00:49<00:00,  4.51s/it]\n"
     ]
    }
   ],
   "source": [
    "for idx in tqdm(range(0, len(dataset_ko['validation']), 128)):\n",
    "    data_sample = dataset_ko['validation'][idx:idx + 128]\n",
    "\n",
    "    passages = data_sample['paragraph']\n",
    "    upload_texts_to_pinecone(passages, engine=ENGINE)\n",
    "\n",
    "for idx in tqdm(range(0, len(dataset_ko['train']), 128)):\n",
    "    data_sample = dataset_ko['train'][idx:idx + 128]\n",
    "\n",
    "    passages = data_sample['paragraph']\n",
    "    upload_texts_to_pinecone(passages, engine=ENGINE)\n",
    "\n",
    "for idx in tqdm(range(0, len(dataset_ko['test']), 128)):\n",
    "    data_sample = dataset_ko['test'][idx:idx + 128]\n",
    "\n",
    "    passages = data_sample['paragraph']\n",
    "    upload_texts_to_pinecone(passages, engine=ENGINE)"
   ]
  },
  {
   "cell_type": "code",
   "execution_count": 196,
   "id": "ee4c8fd8-e687-4591-987d-33a603f4d2ee",
   "metadata": {
    "scrolled": true
   },
   "outputs": [
    {
     "name": "stderr",
     "output_type": "stream",
     "text": [
      "  1%|▌                                                                       | 50/5769 [01:14<2:13:36,  1.40s/it]"
     ]
    },
    {
     "name": "stdout",
     "output_type": "stream",
     "text": [
      "Step 50\n",
      "Accuracy without re-ranking                            : 0.92\n",
      "Accuracy with re-ranking(mmarco-mMiniLMv2-L12-H384-v1) : 0.96\n",
      "Accuracy with re-ranking(klue-cross-encoder-v1)        : 0.96\n",
      "Accuracy with re-ranking(ms-marco-MiniLM-L-12-v2)      : 0.56\n",
      "Accuracy with re-ranking(ms-marco-MiniLM-L-12-v2 tuning): 0.5\n"
     ]
    },
    {
     "name": "stderr",
     "output_type": "stream",
     "text": [
      "  2%|█▏                                                                     | 100/5769 [02:04<1:31:25,  1.03it/s]"
     ]
    },
    {
     "name": "stdout",
     "output_type": "stream",
     "text": [
      "Step 100\n",
      "Accuracy without re-ranking                            : 0.9\n",
      "Accuracy with re-ranking(mmarco-mMiniLMv2-L12-H384-v1) : 0.92\n",
      "Accuracy with re-ranking(klue-cross-encoder-v1)        : 0.95\n",
      "Accuracy with re-ranking(ms-marco-MiniLM-L-12-v2)      : 0.6\n",
      "Accuracy with re-ranking(ms-marco-MiniLM-L-12-v2 tuning): 0.51\n"
     ]
    },
    {
     "name": "stderr",
     "output_type": "stream",
     "text": [
      "  3%|█▊                                                                     | 150/5769 [02:50<1:20:12,  1.17it/s]"
     ]
    },
    {
     "name": "stdout",
     "output_type": "stream",
     "text": [
      "Step 150\n",
      "Accuracy without re-ranking                            : 0.8866666666666667\n",
      "Accuracy with re-ranking(mmarco-mMiniLMv2-L12-H384-v1) : 0.9266666666666666\n",
      "Accuracy with re-ranking(klue-cross-encoder-v1)        : 0.96\n",
      "Accuracy with re-ranking(ms-marco-MiniLM-L-12-v2)      : 0.6\n",
      "Accuracy with re-ranking(ms-marco-MiniLM-L-12-v2 tuning): 0.5266666666666666\n"
     ]
    },
    {
     "name": "stderr",
     "output_type": "stream",
     "text": [
      "  3%|██▍                                                                    | 200/5769 [03:37<1:18:54,  1.18it/s]"
     ]
    },
    {
     "name": "stdout",
     "output_type": "stream",
     "text": [
      "Step 200\n",
      "Accuracy without re-ranking                            : 0.885\n",
      "Accuracy with re-ranking(mmarco-mMiniLMv2-L12-H384-v1) : 0.93\n",
      "Accuracy with re-ranking(klue-cross-encoder-v1)        : 0.96\n",
      "Accuracy with re-ranking(ms-marco-MiniLM-L-12-v2)      : 0.585\n",
      "Accuracy with re-ranking(ms-marco-MiniLM-L-12-v2 tuning): 0.54\n"
     ]
    },
    {
     "name": "stderr",
     "output_type": "stream",
     "text": [
      "  4%|███                                                                    | 250/5769 [04:23<1:27:36,  1.05it/s]"
     ]
    },
    {
     "name": "stdout",
     "output_type": "stream",
     "text": [
      "Step 250\n",
      "Accuracy without re-ranking                            : 0.892\n",
      "Accuracy with re-ranking(mmarco-mMiniLMv2-L12-H384-v1) : 0.932\n",
      "Accuracy with re-ranking(klue-cross-encoder-v1)        : 0.948\n",
      "Accuracy with re-ranking(ms-marco-MiniLM-L-12-v2)      : 0.58\n",
      "Accuracy with re-ranking(ms-marco-MiniLM-L-12-v2 tuning): 0.54\n"
     ]
    },
    {
     "name": "stderr",
     "output_type": "stream",
     "text": [
      "  5%|███▋                                                                   | 300/5769 [05:08<1:46:23,  1.17s/it]"
     ]
    },
    {
     "name": "stdout",
     "output_type": "stream",
     "text": [
      "Step 300\n",
      "Accuracy without re-ranking                            : 0.8933333333333333\n",
      "Accuracy with re-ranking(mmarco-mMiniLMv2-L12-H384-v1) : 0.9333333333333333\n",
      "Accuracy with re-ranking(klue-cross-encoder-v1)        : 0.9466666666666667\n",
      "Accuracy with re-ranking(ms-marco-MiniLM-L-12-v2)      : 0.57\n",
      "Accuracy with re-ranking(ms-marco-MiniLM-L-12-v2 tuning): 0.55\n"
     ]
    },
    {
     "name": "stderr",
     "output_type": "stream",
     "text": [
      "  6%|████▎                                                                  | 350/5769 [05:51<1:12:41,  1.24it/s]"
     ]
    },
    {
     "name": "stdout",
     "output_type": "stream",
     "text": [
      "Step 350\n",
      "Accuracy without re-ranking                            : 0.8885714285714286\n",
      "Accuracy with re-ranking(mmarco-mMiniLMv2-L12-H384-v1) : 0.9285714285714286\n",
      "Accuracy with re-ranking(klue-cross-encoder-v1)        : 0.9371428571428572\n",
      "Accuracy with re-ranking(ms-marco-MiniLM-L-12-v2)      : 0.56\n",
      "Accuracy with re-ranking(ms-marco-MiniLM-L-12-v2 tuning): 0.5285714285714286\n"
     ]
    },
    {
     "name": "stderr",
     "output_type": "stream",
     "text": [
      "  7%|████▉                                                                  | 400/5769 [06:33<1:14:19,  1.20it/s]"
     ]
    },
    {
     "name": "stdout",
     "output_type": "stream",
     "text": [
      "Step 400\n",
      "Accuracy without re-ranking                            : 0.8875\n",
      "Accuracy with re-ranking(mmarco-mMiniLMv2-L12-H384-v1) : 0.9375\n",
      "Accuracy with re-ranking(klue-cross-encoder-v1)        : 0.945\n",
      "Accuracy with re-ranking(ms-marco-MiniLM-L-12-v2)      : 0.55\n",
      "Accuracy with re-ranking(ms-marco-MiniLM-L-12-v2 tuning): 0.5225\n"
     ]
    },
    {
     "name": "stderr",
     "output_type": "stream",
     "text": [
      "  8%|█████▌                                                                 | 450/5769 [07:17<1:15:22,  1.18it/s]"
     ]
    },
    {
     "name": "stdout",
     "output_type": "stream",
     "text": [
      "Step 450\n",
      "Accuracy without re-ranking                            : 0.88\n",
      "Accuracy with re-ranking(mmarco-mMiniLMv2-L12-H384-v1) : 0.9333333333333333\n",
      "Accuracy with re-ranking(klue-cross-encoder-v1)        : 0.9422222222222222\n",
      "Accuracy with re-ranking(ms-marco-MiniLM-L-12-v2)      : 0.54\n",
      "Accuracy with re-ranking(ms-marco-MiniLM-L-12-v2 tuning): 0.5155555555555555\n"
     ]
    },
    {
     "name": "stderr",
     "output_type": "stream",
     "text": [
      "  9%|██████▏                                                                | 500/5769 [07:58<1:18:54,  1.11it/s]"
     ]
    },
    {
     "name": "stdout",
     "output_type": "stream",
     "text": [
      "Step 500\n",
      "Accuracy without re-ranking                            : 0.884\n",
      "Accuracy with re-ranking(mmarco-mMiniLMv2-L12-H384-v1) : 0.936\n",
      "Accuracy with re-ranking(klue-cross-encoder-v1)        : 0.944\n",
      "Accuracy with re-ranking(ms-marco-MiniLM-L-12-v2)      : 0.552\n",
      "Accuracy with re-ranking(ms-marco-MiniLM-L-12-v2 tuning): 0.524\n"
     ]
    },
    {
     "name": "stderr",
     "output_type": "stream",
     "text": [
      " 10%|██████▊                                                                | 550/5769 [08:44<1:22:20,  1.06it/s]"
     ]
    },
    {
     "name": "stdout",
     "output_type": "stream",
     "text": [
      "Step 550\n",
      "Accuracy without re-ranking                            : 0.88\n",
      "Accuracy with re-ranking(mmarco-mMiniLMv2-L12-H384-v1) : 0.9345454545454546\n",
      "Accuracy with re-ranking(klue-cross-encoder-v1)        : 0.9381818181818182\n",
      "Accuracy with re-ranking(ms-marco-MiniLM-L-12-v2)      : 0.5454545454545454\n",
      "Accuracy with re-ranking(ms-marco-MiniLM-L-12-v2 tuning): 0.5127272727272727\n"
     ]
    },
    {
     "name": "stderr",
     "output_type": "stream",
     "text": [
      " 10%|███████▍                                                               | 600/5769 [09:27<1:14:07,  1.16it/s]"
     ]
    },
    {
     "name": "stdout",
     "output_type": "stream",
     "text": [
      "Step 600\n",
      "Accuracy without re-ranking                            : 0.8733333333333333\n",
      "Accuracy with re-ranking(mmarco-mMiniLMv2-L12-H384-v1) : 0.9333333333333333\n",
      "Accuracy with re-ranking(klue-cross-encoder-v1)        : 0.9366666666666666\n",
      "Accuracy with re-ranking(ms-marco-MiniLM-L-12-v2)      : 0.5466666666666666\n",
      "Accuracy with re-ranking(ms-marco-MiniLM-L-12-v2 tuning): 0.5083333333333333\n"
     ]
    },
    {
     "name": "stderr",
     "output_type": "stream",
     "text": [
      " 11%|███████▉                                                               | 650/5769 [10:10<1:12:47,  1.17it/s]"
     ]
    },
    {
     "name": "stdout",
     "output_type": "stream",
     "text": [
      "Step 650\n",
      "Accuracy without re-ranking                            : 0.8753846153846154\n",
      "Accuracy with re-ranking(mmarco-mMiniLMv2-L12-H384-v1) : 0.9353846153846154\n",
      "Accuracy with re-ranking(klue-cross-encoder-v1)        : 0.9384615384615385\n",
      "Accuracy with re-ranking(ms-marco-MiniLM-L-12-v2)      : 0.5307692307692308\n",
      "Accuracy with re-ranking(ms-marco-MiniLM-L-12-v2 tuning): 0.4938461538461538\n"
     ]
    },
    {
     "name": "stderr",
     "output_type": "stream",
     "text": [
      " 12%|████████▌                                                              | 700/5769 [10:53<1:09:59,  1.21it/s]"
     ]
    },
    {
     "name": "stdout",
     "output_type": "stream",
     "text": [
      "Step 700\n",
      "Accuracy without re-ranking                            : 0.8728571428571429\n",
      "Accuracy with re-ranking(mmarco-mMiniLMv2-L12-H384-v1) : 0.9357142857142857\n",
      "Accuracy with re-ranking(klue-cross-encoder-v1)        : 0.9342857142857143\n",
      "Accuracy with re-ranking(ms-marco-MiniLM-L-12-v2)      : 0.5314285714285715\n",
      "Accuracy with re-ranking(ms-marco-MiniLM-L-12-v2 tuning): 0.5014285714285714\n"
     ]
    },
    {
     "name": "stderr",
     "output_type": "stream",
     "text": [
      " 13%|█████████▏                                                             | 750/5769 [11:36<1:07:31,  1.24it/s]"
     ]
    },
    {
     "name": "stdout",
     "output_type": "stream",
     "text": [
      "Step 750\n",
      "Accuracy without re-ranking                            : 0.8666666666666667\n",
      "Accuracy with re-ranking(mmarco-mMiniLMv2-L12-H384-v1) : 0.932\n",
      "Accuracy with re-ranking(klue-cross-encoder-v1)        : 0.932\n",
      "Accuracy with re-ranking(ms-marco-MiniLM-L-12-v2)      : 0.532\n",
      "Accuracy with re-ranking(ms-marco-MiniLM-L-12-v2 tuning): 0.49866666666666665\n"
     ]
    },
    {
     "name": "stderr",
     "output_type": "stream",
     "text": [
      " 14%|█████████▊                                                             | 800/5769 [12:24<1:16:10,  1.09it/s]"
     ]
    },
    {
     "name": "stdout",
     "output_type": "stream",
     "text": [
      "Step 800\n",
      "Accuracy without re-ranking                            : 0.87125\n",
      "Accuracy with re-ranking(mmarco-mMiniLMv2-L12-H384-v1) : 0.935\n",
      "Accuracy with re-ranking(klue-cross-encoder-v1)        : 0.93375\n",
      "Accuracy with re-ranking(ms-marco-MiniLM-L-12-v2)      : 0.52625\n",
      "Accuracy with re-ranking(ms-marco-MiniLM-L-12-v2 tuning): 0.49125\n"
     ]
    },
    {
     "name": "stderr",
     "output_type": "stream",
     "text": [
      " 15%|██████████▍                                                            | 850/5769 [13:05<1:07:01,  1.22it/s]"
     ]
    },
    {
     "name": "stdout",
     "output_type": "stream",
     "text": [
      "Step 850\n",
      "Accuracy without re-ranking                            : 0.8717647058823529\n",
      "Accuracy with re-ranking(mmarco-mMiniLMv2-L12-H384-v1) : 0.9341176470588235\n",
      "Accuracy with re-ranking(klue-cross-encoder-v1)        : 0.9329411764705883\n",
      "Accuracy with re-ranking(ms-marco-MiniLM-L-12-v2)      : 0.5270588235294118\n",
      "Accuracy with re-ranking(ms-marco-MiniLM-L-12-v2 tuning): 0.49176470588235294\n"
     ]
    },
    {
     "name": "stderr",
     "output_type": "stream",
     "text": [
      " 16%|███████████                                                            | 900/5769 [13:47<1:04:11,  1.26it/s]"
     ]
    },
    {
     "name": "stdout",
     "output_type": "stream",
     "text": [
      "Step 900\n",
      "Accuracy without re-ranking                            : 0.8766666666666667\n",
      "Accuracy with re-ranking(mmarco-mMiniLMv2-L12-H384-v1) : 0.9377777777777778\n",
      "Accuracy with re-ranking(klue-cross-encoder-v1)        : 0.9355555555555556\n",
      "Accuracy with re-ranking(ms-marco-MiniLM-L-12-v2)      : 0.5333333333333333\n",
      "Accuracy with re-ranking(ms-marco-MiniLM-L-12-v2 tuning): 0.4955555555555556\n"
     ]
    },
    {
     "name": "stderr",
     "output_type": "stream",
     "text": [
      " 16%|███████████▋                                                           | 950/5769 [14:28<1:05:27,  1.23it/s]"
     ]
    },
    {
     "name": "stdout",
     "output_type": "stream",
     "text": [
      "Step 950\n",
      "Accuracy without re-ranking                            : 0.8768421052631579\n",
      "Accuracy with re-ranking(mmarco-mMiniLMv2-L12-H384-v1) : 0.9368421052631579\n",
      "Accuracy with re-ranking(klue-cross-encoder-v1)        : 0.9336842105263158\n",
      "Accuracy with re-ranking(ms-marco-MiniLM-L-12-v2)      : 0.5305263157894737\n",
      "Accuracy with re-ranking(ms-marco-MiniLM-L-12-v2 tuning): 0.4936842105263158\n"
     ]
    },
    {
     "name": "stderr",
     "output_type": "stream",
     "text": [
      " 17%|████████████▏                                                         | 1000/5769 [15:18<2:12:17,  1.66s/it]"
     ]
    },
    {
     "name": "stdout",
     "output_type": "stream",
     "text": [
      "Step 1000\n",
      "Accuracy without re-ranking                            : 0.877\n",
      "Accuracy with re-ranking(mmarco-mMiniLMv2-L12-H384-v1) : 0.937\n",
      "Accuracy with re-ranking(klue-cross-encoder-v1)        : 0.933\n",
      "Accuracy with re-ranking(ms-marco-MiniLM-L-12-v2)      : 0.535\n",
      "Accuracy with re-ranking(ms-marco-MiniLM-L-12-v2 tuning): 0.492\n"
     ]
    },
    {
     "name": "stderr",
     "output_type": "stream",
     "text": [
      " 18%|████████████▋                                                         | 1050/5769 [15:59<1:14:42,  1.05it/s]"
     ]
    },
    {
     "name": "stdout",
     "output_type": "stream",
     "text": [
      "Step 1050\n",
      "Accuracy without re-ranking                            : 0.8761904761904762\n",
      "Accuracy with re-ranking(mmarco-mMiniLMv2-L12-H384-v1) : 0.9380952380952381\n",
      "Accuracy with re-ranking(klue-cross-encoder-v1)        : 0.9333333333333333\n",
      "Accuracy with re-ranking(ms-marco-MiniLM-L-12-v2)      : 0.5352380952380953\n",
      "Accuracy with re-ranking(ms-marco-MiniLM-L-12-v2 tuning): 0.4895238095238095\n"
     ]
    },
    {
     "name": "stderr",
     "output_type": "stream",
     "text": [
      " 19%|█████████████▎                                                        | 1100/5769 [16:46<1:03:28,  1.23it/s]"
     ]
    },
    {
     "name": "stdout",
     "output_type": "stream",
     "text": [
      "Step 1100\n",
      "Accuracy without re-ranking                            : 0.8763636363636363\n",
      "Accuracy with re-ranking(mmarco-mMiniLMv2-L12-H384-v1) : 0.9381818181818182\n",
      "Accuracy with re-ranking(klue-cross-encoder-v1)        : 0.9327272727272727\n",
      "Accuracy with re-ranking(ms-marco-MiniLM-L-12-v2)      : 0.5363636363636364\n",
      "Accuracy with re-ranking(ms-marco-MiniLM-L-12-v2 tuning): 0.48363636363636364\n"
     ]
    },
    {
     "name": "stderr",
     "output_type": "stream",
     "text": [
      " 20%|█████████████▉                                                        | 1150/5769 [17:28<1:01:33,  1.25it/s]"
     ]
    },
    {
     "name": "stdout",
     "output_type": "stream",
     "text": [
      "Step 1150\n",
      "Accuracy without re-ranking                            : 0.8756521739130435\n",
      "Accuracy with re-ranking(mmarco-mMiniLMv2-L12-H384-v1) : 0.9382608695652174\n",
      "Accuracy with re-ranking(klue-cross-encoder-v1)        : 0.9339130434782609\n",
      "Accuracy with re-ranking(ms-marco-MiniLM-L-12-v2)      : 0.5373913043478261\n",
      "Accuracy with re-ranking(ms-marco-MiniLM-L-12-v2 tuning): 0.48434782608695653\n"
     ]
    },
    {
     "name": "stderr",
     "output_type": "stream",
     "text": [
      " 21%|██████████████▌                                                       | 1200/5769 [18:15<1:09:29,  1.10it/s]"
     ]
    },
    {
     "name": "stdout",
     "output_type": "stream",
     "text": [
      "Step 1200\n",
      "Accuracy without re-ranking                            : 0.8725\n",
      "Accuracy with re-ranking(mmarco-mMiniLMv2-L12-H384-v1) : 0.9366666666666666\n",
      "Accuracy with re-ranking(klue-cross-encoder-v1)        : 0.9333333333333333\n",
      "Accuracy with re-ranking(ms-marco-MiniLM-L-12-v2)      : 0.5366666666666666\n",
      "Accuracy with re-ranking(ms-marco-MiniLM-L-12-v2 tuning): 0.4875\n"
     ]
    },
    {
     "name": "stderr",
     "output_type": "stream",
     "text": [
      " 22%|███████████████▌                                                        | 1250/5769 [18:56<57:41,  1.31it/s]"
     ]
    },
    {
     "name": "stdout",
     "output_type": "stream",
     "text": [
      "Step 1250\n",
      "Accuracy without re-ranking                            : 0.872\n",
      "Accuracy with re-ranking(mmarco-mMiniLMv2-L12-H384-v1) : 0.9344\n",
      "Accuracy with re-ranking(klue-cross-encoder-v1)        : 0.9304\n",
      "Accuracy with re-ranking(ms-marco-MiniLM-L-12-v2)      : 0.5336\n",
      "Accuracy with re-ranking(ms-marco-MiniLM-L-12-v2 tuning): 0.4832\n"
     ]
    },
    {
     "name": "stderr",
     "output_type": "stream",
     "text": [
      " 23%|███████████████▊                                                      | 1300/5769 [19:39<1:01:19,  1.21it/s]"
     ]
    },
    {
     "name": "stdout",
     "output_type": "stream",
     "text": [
      "Step 1300\n",
      "Accuracy without re-ranking                            : 0.87\n",
      "Accuracy with re-ranking(mmarco-mMiniLMv2-L12-H384-v1) : 0.933076923076923\n",
      "Accuracy with re-ranking(klue-cross-encoder-v1)        : 0.926923076923077\n",
      "Accuracy with re-ranking(ms-marco-MiniLM-L-12-v2)      : 0.5269230769230769\n",
      "Accuracy with re-ranking(ms-marco-MiniLM-L-12-v2 tuning): 0.4776923076923077\n"
     ]
    },
    {
     "name": "stderr",
     "output_type": "stream",
     "text": [
      " 23%|████████████████▍                                                     | 1350/5769 [20:26<1:00:00,  1.23it/s]"
     ]
    },
    {
     "name": "stdout",
     "output_type": "stream",
     "text": [
      "Step 1350\n",
      "Accuracy without re-ranking                            : 0.8696296296296296\n",
      "Accuracy with re-ranking(mmarco-mMiniLMv2-L12-H384-v1) : 0.9340740740740741\n",
      "Accuracy with re-ranking(klue-cross-encoder-v1)        : 0.9274074074074075\n",
      "Accuracy with re-ranking(ms-marco-MiniLM-L-12-v2)      : 0.5288888888888889\n",
      "Accuracy with re-ranking(ms-marco-MiniLM-L-12-v2 tuning): 0.48\n"
     ]
    },
    {
     "name": "stderr",
     "output_type": "stream",
     "text": [
      " 24%|████████████████▉                                                     | 1400/5769 [21:10<1:03:04,  1.15it/s]"
     ]
    },
    {
     "name": "stdout",
     "output_type": "stream",
     "text": [
      "Step 1400\n",
      "Accuracy without re-ranking                            : 0.8721428571428571\n",
      "Accuracy with re-ranking(mmarco-mMiniLMv2-L12-H384-v1) : 0.935\n",
      "Accuracy with re-ranking(klue-cross-encoder-v1)        : 0.9278571428571428\n",
      "Accuracy with re-ranking(ms-marco-MiniLM-L-12-v2)      : 0.53\n",
      "Accuracy with re-ranking(ms-marco-MiniLM-L-12-v2 tuning): 0.4835714285714286\n"
     ]
    },
    {
     "name": "stderr",
     "output_type": "stream",
     "text": [
      " 25%|█████████████████▌                                                    | 1450/5769 [21:52<1:01:47,  1.16it/s]"
     ]
    },
    {
     "name": "stdout",
     "output_type": "stream",
     "text": [
      "Step 1450\n",
      "Accuracy without re-ranking                            : 0.8737931034482759\n",
      "Accuracy with re-ranking(mmarco-mMiniLMv2-L12-H384-v1) : 0.9351724137931035\n",
      "Accuracy with re-ranking(klue-cross-encoder-v1)        : 0.9282758620689655\n",
      "Accuracy with re-ranking(ms-marco-MiniLM-L-12-v2)      : 0.5303448275862069\n",
      "Accuracy with re-ranking(ms-marco-MiniLM-L-12-v2 tuning): 0.48344827586206895\n"
     ]
    },
    {
     "name": "stderr",
     "output_type": "stream",
     "text": [
      " 26%|██████████████████▋                                                     | 1500/5769 [22:33<57:45,  1.23it/s]"
     ]
    },
    {
     "name": "stdout",
     "output_type": "stream",
     "text": [
      "Step 1500\n",
      "Accuracy without re-ranking                            : 0.8746666666666667\n",
      "Accuracy with re-ranking(mmarco-mMiniLMv2-L12-H384-v1) : 0.934\n",
      "Accuracy with re-ranking(klue-cross-encoder-v1)        : 0.9266666666666666\n",
      "Accuracy with re-ranking(ms-marco-MiniLM-L-12-v2)      : 0.5286666666666666\n",
      "Accuracy with re-ranking(ms-marco-MiniLM-L-12-v2 tuning): 0.4786666666666667\n"
     ]
    },
    {
     "name": "stderr",
     "output_type": "stream",
     "text": [
      " 27%|██████████████████▊                                                   | 1550/5769 [23:17<1:02:30,  1.12it/s]"
     ]
    },
    {
     "name": "stdout",
     "output_type": "stream",
     "text": [
      "Step 1550\n",
      "Accuracy without re-ranking                            : 0.8729032258064516\n",
      "Accuracy with re-ranking(mmarco-mMiniLMv2-L12-H384-v1) : 0.9329032258064516\n",
      "Accuracy with re-ranking(klue-cross-encoder-v1)        : 0.9251612903225807\n",
      "Accuracy with re-ranking(ms-marco-MiniLM-L-12-v2)      : 0.5277419354838709\n",
      "Accuracy with re-ranking(ms-marco-MiniLM-L-12-v2 tuning): 0.47870967741935483\n"
     ]
    },
    {
     "name": "stderr",
     "output_type": "stream",
     "text": [
      " 28%|███████████████████▍                                                  | 1600/5769 [24:04<1:23:15,  1.20s/it]"
     ]
    },
    {
     "name": "stdout",
     "output_type": "stream",
     "text": [
      "Step 1600\n",
      "Accuracy without re-ranking                            : 0.875\n",
      "Accuracy with re-ranking(mmarco-mMiniLMv2-L12-H384-v1) : 0.93375\n",
      "Accuracy with re-ranking(klue-cross-encoder-v1)        : 0.92625\n",
      "Accuracy with re-ranking(ms-marco-MiniLM-L-12-v2)      : 0.52625\n",
      "Accuracy with re-ranking(ms-marco-MiniLM-L-12-v2 tuning): 0.47625\n"
     ]
    },
    {
     "name": "stderr",
     "output_type": "stream",
     "text": [
      " 29%|████████████████████▌                                                   | 1650/5769 [24:49<59:52,  1.15it/s]"
     ]
    },
    {
     "name": "stdout",
     "output_type": "stream",
     "text": [
      "Step 1650\n",
      "Accuracy without re-ranking                            : 0.8739393939393939\n",
      "Accuracy with re-ranking(mmarco-mMiniLMv2-L12-H384-v1) : 0.9327272727272727\n",
      "Accuracy with re-ranking(klue-cross-encoder-v1)        : 0.9242424242424242\n",
      "Accuracy with re-ranking(ms-marco-MiniLM-L-12-v2)      : 0.5284848484848484\n",
      "Accuracy with re-ranking(ms-marco-MiniLM-L-12-v2 tuning): 0.4775757575757576\n"
     ]
    },
    {
     "name": "stderr",
     "output_type": "stream",
     "text": [
      " 29%|█████████████████████▏                                                  | 1700/5769 [25:31<56:59,  1.19it/s]"
     ]
    },
    {
     "name": "stdout",
     "output_type": "stream",
     "text": [
      "Step 1700\n",
      "Accuracy without re-ranking                            : 0.8741176470588236\n",
      "Accuracy with re-ranking(mmarco-mMiniLMv2-L12-H384-v1) : 0.9329411764705883\n",
      "Accuracy with re-ranking(klue-cross-encoder-v1)        : 0.9247058823529412\n",
      "Accuracy with re-ranking(ms-marco-MiniLM-L-12-v2)      : 0.5294117647058824\n",
      "Accuracy with re-ranking(ms-marco-MiniLM-L-12-v2 tuning): 0.4788235294117647\n"
     ]
    },
    {
     "name": "stderr",
     "output_type": "stream",
     "text": [
      " 30%|█████████████████████▏                                                | 1750/5769 [26:15<1:04:33,  1.04it/s]"
     ]
    },
    {
     "name": "stdout",
     "output_type": "stream",
     "text": [
      "Step 1750\n",
      "Accuracy without re-ranking                            : 0.8731428571428571\n",
      "Accuracy with re-ranking(mmarco-mMiniLMv2-L12-H384-v1) : 0.9331428571428572\n",
      "Accuracy with re-ranking(klue-cross-encoder-v1)        : 0.9234285714285714\n",
      "Accuracy with re-ranking(ms-marco-MiniLM-L-12-v2)      : 0.5291428571428571\n",
      "Accuracy with re-ranking(ms-marco-MiniLM-L-12-v2 tuning): 0.47714285714285715\n"
     ]
    },
    {
     "name": "stderr",
     "output_type": "stream",
     "text": [
      " 31%|██████████████████████▍                                                 | 1800/5769 [27:00<55:24,  1.19it/s]"
     ]
    },
    {
     "name": "stdout",
     "output_type": "stream",
     "text": [
      "Step 1800\n",
      "Accuracy without re-ranking                            : 0.8722222222222222\n",
      "Accuracy with re-ranking(mmarco-mMiniLMv2-L12-H384-v1) : 0.9316666666666666\n",
      "Accuracy with re-ranking(klue-cross-encoder-v1)        : 0.9222222222222223\n",
      "Accuracy with re-ranking(ms-marco-MiniLM-L-12-v2)      : 0.525\n",
      "Accuracy with re-ranking(ms-marco-MiniLM-L-12-v2 tuning): 0.475\n"
     ]
    },
    {
     "name": "stderr",
     "output_type": "stream",
     "text": [
      " 32%|██████████████████████▍                                               | 1850/5769 [27:45<1:01:48,  1.06it/s]"
     ]
    },
    {
     "name": "stdout",
     "output_type": "stream",
     "text": [
      "Step 1850\n",
      "Accuracy without re-ranking                            : 0.8724324324324324\n",
      "Accuracy with re-ranking(mmarco-mMiniLMv2-L12-H384-v1) : 0.9302702702702703\n",
      "Accuracy with re-ranking(klue-cross-encoder-v1)        : 0.9210810810810811\n",
      "Accuracy with re-ranking(ms-marco-MiniLM-L-12-v2)      : 0.5286486486486487\n",
      "Accuracy with re-ranking(ms-marco-MiniLM-L-12-v2 tuning): 0.4751351351351351\n"
     ]
    },
    {
     "name": "stderr",
     "output_type": "stream",
     "text": [
      " 33%|███████████████████████▋                                                | 1900/5769 [28:29<54:50,  1.18it/s]"
     ]
    },
    {
     "name": "stdout",
     "output_type": "stream",
     "text": [
      "Step 1900\n",
      "Accuracy without re-ranking                            : 0.8710526315789474\n",
      "Accuracy with re-ranking(mmarco-mMiniLMv2-L12-H384-v1) : 0.9289473684210526\n",
      "Accuracy with re-ranking(klue-cross-encoder-v1)        : 0.92\n",
      "Accuracy with re-ranking(ms-marco-MiniLM-L-12-v2)      : 0.5268421052631579\n",
      "Accuracy with re-ranking(ms-marco-MiniLM-L-12-v2 tuning): 0.47421052631578947\n"
     ]
    },
    {
     "name": "stderr",
     "output_type": "stream",
     "text": [
      " 34%|███████████████████████▋                                              | 1950/5769 [29:15<1:03:51,  1.00s/it]"
     ]
    },
    {
     "name": "stdout",
     "output_type": "stream",
     "text": [
      "Step 1950\n",
      "Accuracy without re-ranking                            : 0.8717948717948718\n",
      "Accuracy with re-ranking(mmarco-mMiniLMv2-L12-H384-v1) : 0.9297435897435897\n",
      "Accuracy with re-ranking(klue-cross-encoder-v1)        : 0.9205128205128205\n",
      "Accuracy with re-ranking(ms-marco-MiniLM-L-12-v2)      : 0.5251282051282051\n",
      "Accuracy with re-ranking(ms-marco-MiniLM-L-12-v2 tuning): 0.4764102564102564\n"
     ]
    },
    {
     "name": "stderr",
     "output_type": "stream",
     "text": [
      " 35%|████████████████████████▉                                               | 2000/5769 [29:58<49:56,  1.26it/s]"
     ]
    },
    {
     "name": "stdout",
     "output_type": "stream",
     "text": [
      "Step 2000\n",
      "Accuracy without re-ranking                            : 0.87\n",
      "Accuracy with re-ranking(mmarco-mMiniLMv2-L12-H384-v1) : 0.9295\n",
      "Accuracy with re-ranking(klue-cross-encoder-v1)        : 0.9195\n",
      "Accuracy with re-ranking(ms-marco-MiniLM-L-12-v2)      : 0.524\n",
      "Accuracy with re-ranking(ms-marco-MiniLM-L-12-v2 tuning): 0.475\n"
     ]
    },
    {
     "name": "stderr",
     "output_type": "stream",
     "text": [
      " 36%|█████████████████████████▌                                              | 2050/5769 [30:40<52:13,  1.19it/s]"
     ]
    },
    {
     "name": "stdout",
     "output_type": "stream",
     "text": [
      "Step 2050\n",
      "Accuracy without re-ranking                            : 0.8702439024390244\n",
      "Accuracy with re-ranking(mmarco-mMiniLMv2-L12-H384-v1) : 0.9292682926829269\n",
      "Accuracy with re-ranking(klue-cross-encoder-v1)        : 0.9185365853658537\n",
      "Accuracy with re-ranking(ms-marco-MiniLM-L-12-v2)      : 0.5219512195121951\n",
      "Accuracy with re-ranking(ms-marco-MiniLM-L-12-v2 tuning): 0.4717073170731707\n"
     ]
    },
    {
     "name": "stderr",
     "output_type": "stream",
     "text": [
      " 36%|██████████████████████████▏                                             | 2100/5769 [31:26<48:55,  1.25it/s]"
     ]
    },
    {
     "name": "stdout",
     "output_type": "stream",
     "text": [
      "Step 2100\n",
      "Accuracy without re-ranking                            : 0.8690476190476191\n",
      "Accuracy with re-ranking(mmarco-mMiniLMv2-L12-H384-v1) : 0.9280952380952381\n",
      "Accuracy with re-ranking(klue-cross-encoder-v1)        : 0.9185714285714286\n",
      "Accuracy with re-ranking(ms-marco-MiniLM-L-12-v2)      : 0.5214285714285715\n",
      "Accuracy with re-ranking(ms-marco-MiniLM-L-12-v2 tuning): 0.47333333333333333\n"
     ]
    },
    {
     "name": "stderr",
     "output_type": "stream",
     "text": [
      " 37%|██████████████████████████▊                                             | 2150/5769 [32:09<48:56,  1.23it/s]"
     ]
    },
    {
     "name": "stdout",
     "output_type": "stream",
     "text": [
      "Step 2150\n",
      "Accuracy without re-ranking                            : 0.867906976744186\n",
      "Accuracy with re-ranking(mmarco-mMiniLMv2-L12-H384-v1) : 0.9288372093023256\n",
      "Accuracy with re-ranking(klue-cross-encoder-v1)        : 0.9181395348837209\n",
      "Accuracy with re-ranking(ms-marco-MiniLM-L-12-v2)      : 0.52\n",
      "Accuracy with re-ranking(ms-marco-MiniLM-L-12-v2 tuning): 0.47162790697674417\n"
     ]
    },
    {
     "name": "stderr",
     "output_type": "stream",
     "text": [
      " 38%|███████████████████████████▍                                            | 2200/5769 [32:52<48:12,  1.23it/s]"
     ]
    },
    {
     "name": "stdout",
     "output_type": "stream",
     "text": [
      "Step 2200\n",
      "Accuracy without re-ranking                            : 0.8677272727272727\n",
      "Accuracy with re-ranking(mmarco-mMiniLMv2-L12-H384-v1) : 0.9277272727272727\n",
      "Accuracy with re-ranking(klue-cross-encoder-v1)        : 0.9177272727272727\n",
      "Accuracy with re-ranking(ms-marco-MiniLM-L-12-v2)      : 0.519090909090909\n",
      "Accuracy with re-ranking(ms-marco-MiniLM-L-12-v2 tuning): 0.47\n"
     ]
    },
    {
     "name": "stderr",
     "output_type": "stream",
     "text": [
      " 39%|████████████████████████████                                            | 2250/5769 [33:34<46:03,  1.27it/s]"
     ]
    },
    {
     "name": "stdout",
     "output_type": "stream",
     "text": [
      "Step 2250\n",
      "Accuracy without re-ranking                            : 0.868\n",
      "Accuracy with re-ranking(mmarco-mMiniLMv2-L12-H384-v1) : 0.9275555555555556\n",
      "Accuracy with re-ranking(klue-cross-encoder-v1)        : 0.9164444444444444\n",
      "Accuracy with re-ranking(ms-marco-MiniLM-L-12-v2)      : 0.5173333333333333\n",
      "Accuracy with re-ranking(ms-marco-MiniLM-L-12-v2 tuning): 0.4688888888888889\n"
     ]
    },
    {
     "name": "stderr",
     "output_type": "stream",
     "text": [
      " 40%|████████████████████████████▋                                           | 2300/5769 [34:15<47:45,  1.21it/s]"
     ]
    },
    {
     "name": "stdout",
     "output_type": "stream",
     "text": [
      "Step 2300\n",
      "Accuracy without re-ranking                            : 0.8678260869565217\n",
      "Accuracy with re-ranking(mmarco-mMiniLMv2-L12-H384-v1) : 0.928695652173913\n",
      "Accuracy with re-ranking(klue-cross-encoder-v1)        : 0.9165217391304348\n",
      "Accuracy with re-ranking(ms-marco-MiniLM-L-12-v2)      : 0.5182608695652174\n",
      "Accuracy with re-ranking(ms-marco-MiniLM-L-12-v2 tuning): 0.4682608695652174\n"
     ]
    },
    {
     "name": "stderr",
     "output_type": "stream",
     "text": [
      " 41%|█████████████████████████████▎                                          | 2350/5769 [34:59<48:30,  1.17it/s]"
     ]
    },
    {
     "name": "stdout",
     "output_type": "stream",
     "text": [
      "Step 2350\n",
      "Accuracy without re-ranking                            : 0.8685106382978723\n",
      "Accuracy with re-ranking(mmarco-mMiniLMv2-L12-H384-v1) : 0.9280851063829787\n",
      "Accuracy with re-ranking(klue-cross-encoder-v1)        : 0.916595744680851\n",
      "Accuracy with re-ranking(ms-marco-MiniLM-L-12-v2)      : 0.5161702127659574\n",
      "Accuracy with re-ranking(ms-marco-MiniLM-L-12-v2 tuning): 0.46638297872340423\n"
     ]
    },
    {
     "name": "stderr",
     "output_type": "stream",
     "text": [
      " 42%|█████████████████████████████▉                                          | 2400/5769 [35:41<46:42,  1.20it/s]"
     ]
    },
    {
     "name": "stdout",
     "output_type": "stream",
     "text": [
      "Step 2400\n",
      "Accuracy without re-ranking                            : 0.8675\n",
      "Accuracy with re-ranking(mmarco-mMiniLMv2-L12-H384-v1) : 0.9279166666666666\n",
      "Accuracy with re-ranking(klue-cross-encoder-v1)        : 0.9158333333333334\n",
      "Accuracy with re-ranking(ms-marco-MiniLM-L-12-v2)      : 0.5183333333333333\n",
      "Accuracy with re-ranking(ms-marco-MiniLM-L-12-v2 tuning): 0.4683333333333333\n"
     ]
    },
    {
     "name": "stderr",
     "output_type": "stream",
     "text": [
      " 42%|██████████████████████████████▌                                         | 2450/5769 [36:22<45:24,  1.22it/s]"
     ]
    },
    {
     "name": "stdout",
     "output_type": "stream",
     "text": [
      "Step 2450\n",
      "Accuracy without re-ranking                            : 0.8665306122448979\n",
      "Accuracy with re-ranking(mmarco-mMiniLMv2-L12-H384-v1) : 0.9277551020408163\n",
      "Accuracy with re-ranking(klue-cross-encoder-v1)        : 0.9146938775510204\n",
      "Accuracy with re-ranking(ms-marco-MiniLM-L-12-v2)      : 0.5155102040816326\n",
      "Accuracy with re-ranking(ms-marco-MiniLM-L-12-v2 tuning): 0.46775510204081633\n"
     ]
    },
    {
     "name": "stderr",
     "output_type": "stream",
     "text": [
      " 43%|███████████████████████████████▏                                        | 2500/5769 [37:03<44:55,  1.21it/s]"
     ]
    },
    {
     "name": "stdout",
     "output_type": "stream",
     "text": [
      "Step 2500\n",
      "Accuracy without re-ranking                            : 0.8668\n",
      "Accuracy with re-ranking(mmarco-mMiniLMv2-L12-H384-v1) : 0.928\n",
      "Accuracy with re-ranking(klue-cross-encoder-v1)        : 0.9156\n",
      "Accuracy with re-ranking(ms-marco-MiniLM-L-12-v2)      : 0.5152\n",
      "Accuracy with re-ranking(ms-marco-MiniLM-L-12-v2 tuning): 0.4676\n"
     ]
    },
    {
     "name": "stderr",
     "output_type": "stream",
     "text": [
      " 44%|███████████████████████████████▊                                        | 2550/5769 [37:45<45:07,  1.19it/s]"
     ]
    },
    {
     "name": "stdout",
     "output_type": "stream",
     "text": [
      "Step 2550\n",
      "Accuracy without re-ranking                            : 0.8635294117647059\n",
      "Accuracy with re-ranking(mmarco-mMiniLMv2-L12-H384-v1) : 0.9274509803921569\n",
      "Accuracy with re-ranking(klue-cross-encoder-v1)        : 0.9149019607843137\n",
      "Accuracy with re-ranking(ms-marco-MiniLM-L-12-v2)      : 0.5149019607843137\n",
      "Accuracy with re-ranking(ms-marco-MiniLM-L-12-v2 tuning): 0.4666666666666667\n"
     ]
    },
    {
     "name": "stderr",
     "output_type": "stream",
     "text": [
      " 45%|████████████████████████████████▍                                       | 2600/5769 [38:26<42:36,  1.24it/s]"
     ]
    },
    {
     "name": "stdout",
     "output_type": "stream",
     "text": [
      "Step 2600\n",
      "Accuracy without re-ranking                            : 0.8630769230769231\n",
      "Accuracy with re-ranking(mmarco-mMiniLMv2-L12-H384-v1) : 0.9261538461538461\n",
      "Accuracy with re-ranking(klue-cross-encoder-v1)        : 0.9146153846153846\n",
      "Accuracy with re-ranking(ms-marco-MiniLM-L-12-v2)      : 0.5153846153846153\n",
      "Accuracy with re-ranking(ms-marco-MiniLM-L-12-v2 tuning): 0.4665384615384615\n"
     ]
    },
    {
     "name": "stderr",
     "output_type": "stream",
     "text": [
      " 46%|█████████████████████████████████                                       | 2650/5769 [39:07<42:37,  1.22it/s]"
     ]
    },
    {
     "name": "stdout",
     "output_type": "stream",
     "text": [
      "Step 2650\n",
      "Accuracy without re-ranking                            : 0.8618867924528302\n",
      "Accuracy with re-ranking(mmarco-mMiniLMv2-L12-H384-v1) : 0.9256603773584906\n",
      "Accuracy with re-ranking(klue-cross-encoder-v1)        : 0.9135849056603773\n",
      "Accuracy with re-ranking(ms-marco-MiniLM-L-12-v2)      : 0.5150943396226415\n",
      "Accuracy with re-ranking(ms-marco-MiniLM-L-12-v2 tuning): 0.4660377358490566\n"
     ]
    },
    {
     "name": "stderr",
     "output_type": "stream",
     "text": [
      " 47%|████████████████████████████████▊                                     | 2700/5769 [39:54<1:17:42,  1.52s/it]"
     ]
    },
    {
     "name": "stdout",
     "output_type": "stream",
     "text": [
      "Step 2700\n",
      "Accuracy without re-ranking                            : 0.8625925925925926\n",
      "Accuracy with re-ranking(mmarco-mMiniLMv2-L12-H384-v1) : 0.9255555555555556\n",
      "Accuracy with re-ranking(klue-cross-encoder-v1)        : 0.9133333333333333\n",
      "Accuracy with re-ranking(ms-marco-MiniLM-L-12-v2)      : 0.5155555555555555\n",
      "Accuracy with re-ranking(ms-marco-MiniLM-L-12-v2 tuning): 0.4662962962962963\n"
     ]
    },
    {
     "name": "stderr",
     "output_type": "stream",
     "text": [
      " 48%|██████████████████████████████████▎                                     | 2750/5769 [40:38<45:14,  1.11it/s]"
     ]
    },
    {
     "name": "stdout",
     "output_type": "stream",
     "text": [
      "Step 2750\n",
      "Accuracy without re-ranking                            : 0.8636363636363636\n",
      "Accuracy with re-ranking(mmarco-mMiniLMv2-L12-H384-v1) : 0.9261818181818182\n",
      "Accuracy with re-ranking(klue-cross-encoder-v1)        : 0.9138181818181819\n",
      "Accuracy with re-ranking(ms-marco-MiniLM-L-12-v2)      : 0.5163636363636364\n",
      "Accuracy with re-ranking(ms-marco-MiniLM-L-12-v2 tuning): 0.4672727272727273\n"
     ]
    },
    {
     "name": "stderr",
     "output_type": "stream",
     "text": [
      " 49%|██████████████████████████████████▉                                     | 2800/5769 [41:25<53:51,  1.09s/it]"
     ]
    },
    {
     "name": "stdout",
     "output_type": "stream",
     "text": [
      "Step 2800\n",
      "Accuracy without re-ranking                            : 0.8632142857142857\n",
      "Accuracy with re-ranking(mmarco-mMiniLMv2-L12-H384-v1) : 0.9257142857142857\n",
      "Accuracy with re-ranking(klue-cross-encoder-v1)        : 0.9132142857142858\n",
      "Accuracy with re-ranking(ms-marco-MiniLM-L-12-v2)      : 0.5142857142857142\n",
      "Accuracy with re-ranking(ms-marco-MiniLM-L-12-v2 tuning): 0.4675\n"
     ]
    },
    {
     "name": "stderr",
     "output_type": "stream",
     "text": [
      " 49%|███████████████████████████████████▌                                    | 2850/5769 [42:11<59:12,  1.22s/it]"
     ]
    },
    {
     "name": "stdout",
     "output_type": "stream",
     "text": [
      "Step 2850\n",
      "Accuracy without re-ranking                            : 0.8635087719298246\n",
      "Accuracy with re-ranking(mmarco-mMiniLMv2-L12-H384-v1) : 0.9256140350877193\n",
      "Accuracy with re-ranking(klue-cross-encoder-v1)        : 0.9133333333333333\n",
      "Accuracy with re-ranking(ms-marco-MiniLM-L-12-v2)      : 0.5157894736842106\n",
      "Accuracy with re-ranking(ms-marco-MiniLM-L-12-v2 tuning): 0.4673684210526316\n"
     ]
    },
    {
     "name": "stderr",
     "output_type": "stream",
     "text": [
      " 50%|████████████████████████████████████▏                                   | 2900/5769 [42:51<40:23,  1.18it/s]"
     ]
    },
    {
     "name": "stdout",
     "output_type": "stream",
     "text": [
      "Step 2900\n",
      "Accuracy without re-ranking                            : 0.8637931034482759\n",
      "Accuracy with re-ranking(mmarco-mMiniLMv2-L12-H384-v1) : 0.9251724137931034\n",
      "Accuracy with re-ranking(klue-cross-encoder-v1)        : 0.9127586206896552\n",
      "Accuracy with re-ranking(ms-marco-MiniLM-L-12-v2)      : 0.5155172413793103\n",
      "Accuracy with re-ranking(ms-marco-MiniLM-L-12-v2 tuning): 0.46793103448275863\n"
     ]
    },
    {
     "name": "stderr",
     "output_type": "stream",
     "text": [
      " 51%|████████████████████████████████████▊                                   | 2950/5769 [43:34<37:27,  1.25it/s]"
     ]
    },
    {
     "name": "stdout",
     "output_type": "stream",
     "text": [
      "Step 2950\n",
      "Accuracy without re-ranking                            : 0.8616949152542372\n",
      "Accuracy with re-ranking(mmarco-mMiniLMv2-L12-H384-v1) : 0.9247457627118644\n",
      "Accuracy with re-ranking(klue-cross-encoder-v1)        : 0.912542372881356\n",
      "Accuracy with re-ranking(ms-marco-MiniLM-L-12-v2)      : 0.5169491525423728\n",
      "Accuracy with re-ranking(ms-marco-MiniLM-L-12-v2 tuning): 0.46983050847457625\n"
     ]
    },
    {
     "name": "stderr",
     "output_type": "stream",
     "text": [
      " 52%|█████████████████████████████████████▍                                  | 3000/5769 [44:16<43:50,  1.05it/s]"
     ]
    },
    {
     "name": "stdout",
     "output_type": "stream",
     "text": [
      "Step 3000\n",
      "Accuracy without re-ranking                            : 0.8613333333333333\n",
      "Accuracy with re-ranking(mmarco-mMiniLMv2-L12-H384-v1) : 0.9243333333333333\n",
      "Accuracy with re-ranking(klue-cross-encoder-v1)        : 0.9123333333333333\n",
      "Accuracy with re-ranking(ms-marco-MiniLM-L-12-v2)      : 0.5163333333333333\n",
      "Accuracy with re-ranking(ms-marco-MiniLM-L-12-v2 tuning): 0.469\n"
     ]
    },
    {
     "name": "stderr",
     "output_type": "stream",
     "text": [
      " 53%|██████████████████████████████████████                                  | 3050/5769 [45:01<41:13,  1.10it/s]"
     ]
    },
    {
     "name": "stdout",
     "output_type": "stream",
     "text": [
      "Step 3050\n",
      "Accuracy without re-ranking                            : 0.861639344262295\n",
      "Accuracy with re-ranking(mmarco-mMiniLMv2-L12-H384-v1) : 0.9242622950819672\n",
      "Accuracy with re-ranking(klue-cross-encoder-v1)        : 0.9121311475409836\n",
      "Accuracy with re-ranking(ms-marco-MiniLM-L-12-v2)      : 0.5160655737704918\n",
      "Accuracy with re-ranking(ms-marco-MiniLM-L-12-v2 tuning): 0.46852459016393444\n"
     ]
    },
    {
     "name": "stderr",
     "output_type": "stream",
     "text": [
      " 54%|██████████████████████████████████████▋                                 | 3100/5769 [45:44<37:14,  1.19it/s]"
     ]
    },
    {
     "name": "stdout",
     "output_type": "stream",
     "text": [
      "Step 3100\n",
      "Accuracy without re-ranking                            : 0.8622580645161291\n",
      "Accuracy with re-ranking(mmarco-mMiniLMv2-L12-H384-v1) : 0.9245161290322581\n",
      "Accuracy with re-ranking(klue-cross-encoder-v1)        : 0.9119354838709678\n",
      "Accuracy with re-ranking(ms-marco-MiniLM-L-12-v2)      : 0.5180645161290323\n",
      "Accuracy with re-ranking(ms-marco-MiniLM-L-12-v2 tuning): 0.4706451612903226\n"
     ]
    },
    {
     "name": "stderr",
     "output_type": "stream",
     "text": [
      " 55%|███████████████████████████████████████▎                                | 3150/5769 [46:25<35:38,  1.22it/s]"
     ]
    },
    {
     "name": "stdout",
     "output_type": "stream",
     "text": [
      "Step 3150\n",
      "Accuracy without re-ranking                            : 0.8615873015873016\n",
      "Accuracy with re-ranking(mmarco-mMiniLMv2-L12-H384-v1) : 0.9234920634920635\n",
      "Accuracy with re-ranking(klue-cross-encoder-v1)        : 0.9111111111111111\n",
      "Accuracy with re-ranking(ms-marco-MiniLM-L-12-v2)      : 0.5184126984126984\n",
      "Accuracy with re-ranking(ms-marco-MiniLM-L-12-v2 tuning): 0.4711111111111111\n"
     ]
    },
    {
     "name": "stderr",
     "output_type": "stream",
     "text": [
      " 55%|███████████████████████████████████████▉                                | 3200/5769 [47:08<35:43,  1.20it/s]"
     ]
    },
    {
     "name": "stdout",
     "output_type": "stream",
     "text": [
      "Step 3200\n",
      "Accuracy without re-ranking                            : 0.860625\n",
      "Accuracy with re-ranking(mmarco-mMiniLMv2-L12-H384-v1) : 0.923125\n",
      "Accuracy with re-ranking(klue-cross-encoder-v1)        : 0.91125\n",
      "Accuracy with re-ranking(ms-marco-MiniLM-L-12-v2)      : 0.518125\n",
      "Accuracy with re-ranking(ms-marco-MiniLM-L-12-v2 tuning): 0.4709375\n"
     ]
    },
    {
     "name": "stderr",
     "output_type": "stream",
     "text": [
      " 56%|████████████████████████████████████████▌                               | 3250/5769 [47:50<34:53,  1.20it/s]"
     ]
    },
    {
     "name": "stdout",
     "output_type": "stream",
     "text": [
      "Step 3250\n",
      "Accuracy without re-ranking                            : 0.86\n",
      "Accuracy with re-ranking(mmarco-mMiniLMv2-L12-H384-v1) : 0.9227692307692308\n",
      "Accuracy with re-ranking(klue-cross-encoder-v1)        : 0.9110769230769231\n",
      "Accuracy with re-ranking(ms-marco-MiniLM-L-12-v2)      : 0.5175384615384615\n",
      "Accuracy with re-ranking(ms-marco-MiniLM-L-12-v2 tuning): 0.4704615384615385\n"
     ]
    },
    {
     "name": "stderr",
     "output_type": "stream",
     "text": [
      " 57%|█████████████████████████████████████████▏                              | 3300/5769 [48:33<33:57,  1.21it/s]"
     ]
    },
    {
     "name": "stdout",
     "output_type": "stream",
     "text": [
      "Step 3300\n",
      "Accuracy without re-ranking                            : 0.8612121212121212\n",
      "Accuracy with re-ranking(mmarco-mMiniLMv2-L12-H384-v1) : 0.9233333333333333\n",
      "Accuracy with re-ranking(klue-cross-encoder-v1)        : 0.9112121212121213\n",
      "Accuracy with re-ranking(ms-marco-MiniLM-L-12-v2)      : 0.5181818181818182\n",
      "Accuracy with re-ranking(ms-marco-MiniLM-L-12-v2 tuning): 0.4709090909090909\n"
     ]
    },
    {
     "name": "stderr",
     "output_type": "stream",
     "text": [
      " 58%|█████████████████████████████████████████▊                              | 3350/5769 [49:19<42:41,  1.06s/it]"
     ]
    },
    {
     "name": "stdout",
     "output_type": "stream",
     "text": [
      "Step 3350\n",
      "Accuracy without re-ranking                            : 0.8611940298507462\n",
      "Accuracy with re-ranking(mmarco-mMiniLMv2-L12-H384-v1) : 0.9229850746268656\n",
      "Accuracy with re-ranking(klue-cross-encoder-v1)        : 0.9110447761194029\n",
      "Accuracy with re-ranking(ms-marco-MiniLM-L-12-v2)      : 0.5182089552238806\n",
      "Accuracy with re-ranking(ms-marco-MiniLM-L-12-v2 tuning): 0.4722388059701493\n"
     ]
    },
    {
     "name": "stderr",
     "output_type": "stream",
     "text": [
      " 59%|██████████████████████████████████████████▍                             | 3400/5769 [50:06<41:13,  1.04s/it]"
     ]
    },
    {
     "name": "stdout",
     "output_type": "stream",
     "text": [
      "Step 3400\n",
      "Accuracy without re-ranking                            : 0.8597058823529412\n",
      "Accuracy with re-ranking(mmarco-mMiniLMv2-L12-H384-v1) : 0.9229411764705883\n",
      "Accuracy with re-ranking(klue-cross-encoder-v1)        : 0.9111764705882353\n",
      "Accuracy with re-ranking(ms-marco-MiniLM-L-12-v2)      : 0.5176470588235295\n",
      "Accuracy with re-ranking(ms-marco-MiniLM-L-12-v2 tuning): 0.4723529411764706\n"
     ]
    },
    {
     "name": "stderr",
     "output_type": "stream",
     "text": [
      " 60%|███████████████████████████████████████████                             | 3450/5769 [50:53<30:42,  1.26it/s]"
     ]
    },
    {
     "name": "stdout",
     "output_type": "stream",
     "text": [
      "Step 3450\n",
      "Accuracy without re-ranking                            : 0.8597101449275363\n",
      "Accuracy with re-ranking(mmarco-mMiniLMv2-L12-H384-v1) : 0.9234782608695652\n",
      "Accuracy with re-ranking(klue-cross-encoder-v1)        : 0.9115942028985508\n",
      "Accuracy with re-ranking(ms-marco-MiniLM-L-12-v2)      : 0.518840579710145\n",
      "Accuracy with re-ranking(ms-marco-MiniLM-L-12-v2 tuning): 0.47246376811594204\n"
     ]
    },
    {
     "name": "stderr",
     "output_type": "stream",
     "text": [
      " 61%|███████████████████████████████████████████▋                            | 3500/5769 [51:35<35:57,  1.05it/s]"
     ]
    },
    {
     "name": "stdout",
     "output_type": "stream",
     "text": [
      "Step 3500\n",
      "Accuracy without re-ranking                            : 0.8582857142857143\n",
      "Accuracy with re-ranking(mmarco-mMiniLMv2-L12-H384-v1) : 0.9231428571428572\n",
      "Accuracy with re-ranking(klue-cross-encoder-v1)        : 0.9117142857142857\n",
      "Accuracy with re-ranking(ms-marco-MiniLM-L-12-v2)      : 0.5171428571428571\n",
      "Accuracy with re-ranking(ms-marco-MiniLM-L-12-v2 tuning): 0.4714285714285714\n"
     ]
    },
    {
     "name": "stderr",
     "output_type": "stream",
     "text": [
      " 62%|████████████████████████████████████████████▎                           | 3550/5769 [52:16<32:15,  1.15it/s]"
     ]
    },
    {
     "name": "stdout",
     "output_type": "stream",
     "text": [
      "Step 3550\n",
      "Accuracy without re-ranking                            : 0.8571830985915493\n",
      "Accuracy with re-ranking(mmarco-mMiniLMv2-L12-H384-v1) : 0.9225352112676056\n",
      "Accuracy with re-ranking(klue-cross-encoder-v1)        : 0.9109859154929577\n",
      "Accuracy with re-ranking(ms-marco-MiniLM-L-12-v2)      : 0.5154929577464789\n",
      "Accuracy with re-ranking(ms-marco-MiniLM-L-12-v2 tuning): 0.4715492957746479\n"
     ]
    },
    {
     "name": "stderr",
     "output_type": "stream",
     "text": [
      " 62%|████████████████████████████████████████████▉                           | 3600/5769 [52:58<28:28,  1.27it/s]"
     ]
    },
    {
     "name": "stdout",
     "output_type": "stream",
     "text": [
      "Step 3600\n",
      "Accuracy without re-ranking                            : 0.8575\n",
      "Accuracy with re-ranking(mmarco-mMiniLMv2-L12-H384-v1) : 0.9230555555555555\n",
      "Accuracy with re-ranking(klue-cross-encoder-v1)        : 0.9119444444444444\n",
      "Accuracy with re-ranking(ms-marco-MiniLM-L-12-v2)      : 0.5169444444444444\n",
      "Accuracy with re-ranking(ms-marco-MiniLM-L-12-v2 tuning): 0.4727777777777778\n"
     ]
    },
    {
     "name": "stderr",
     "output_type": "stream",
     "text": [
      " 63%|█████████████████████████████████████████████▌                          | 3650/5769 [53:40<30:16,  1.17it/s]"
     ]
    },
    {
     "name": "stdout",
     "output_type": "stream",
     "text": [
      "Step 3650\n",
      "Accuracy without re-ranking                            : 0.8575342465753425\n",
      "Accuracy with re-ranking(mmarco-mMiniLMv2-L12-H384-v1) : 0.9235616438356165\n",
      "Accuracy with re-ranking(klue-cross-encoder-v1)        : 0.9123287671232877\n",
      "Accuracy with re-ranking(ms-marco-MiniLM-L-12-v2)      : 0.5158904109589041\n",
      "Accuracy with re-ranking(ms-marco-MiniLM-L-12-v2 tuning): 0.47342465753424656\n"
     ]
    },
    {
     "name": "stderr",
     "output_type": "stream",
     "text": [
      " 64%|██████████████████████████████████████████████▏                         | 3700/5769 [54:21<28:13,  1.22it/s]"
     ]
    },
    {
     "name": "stdout",
     "output_type": "stream",
     "text": [
      "Step 3700\n",
      "Accuracy without re-ranking                            : 0.857027027027027\n",
      "Accuracy with re-ranking(mmarco-mMiniLMv2-L12-H384-v1) : 0.9235135135135135\n",
      "Accuracy with re-ranking(klue-cross-encoder-v1)        : 0.9124324324324324\n",
      "Accuracy with re-ranking(ms-marco-MiniLM-L-12-v2)      : 0.5162162162162162\n",
      "Accuracy with re-ranking(ms-marco-MiniLM-L-12-v2 tuning): 0.4737837837837838\n"
     ]
    },
    {
     "name": "stderr",
     "output_type": "stream",
     "text": [
      " 65%|██████████████████████████████████████████████▊                         | 3750/5769 [55:03<28:02,  1.20it/s]"
     ]
    },
    {
     "name": "stdout",
     "output_type": "stream",
     "text": [
      "Step 3750\n",
      "Accuracy without re-ranking                            : 0.8568\n",
      "Accuracy with re-ranking(mmarco-mMiniLMv2-L12-H384-v1) : 0.9229333333333334\n",
      "Accuracy with re-ranking(klue-cross-encoder-v1)        : 0.9122666666666667\n",
      "Accuracy with re-ranking(ms-marco-MiniLM-L-12-v2)      : 0.5168\n",
      "Accuracy with re-ranking(ms-marco-MiniLM-L-12-v2 tuning): 0.4728\n"
     ]
    },
    {
     "name": "stderr",
     "output_type": "stream",
     "text": [
      " 66%|███████████████████████████████████████████████▍                        | 3800/5769 [55:46<27:09,  1.21it/s]"
     ]
    },
    {
     "name": "stdout",
     "output_type": "stream",
     "text": [
      "Step 3800\n",
      "Accuracy without re-ranking                            : 0.8576315789473684\n",
      "Accuracy with re-ranking(mmarco-mMiniLMv2-L12-H384-v1) : 0.9234210526315789\n",
      "Accuracy with re-ranking(klue-cross-encoder-v1)        : 0.9128947368421053\n",
      "Accuracy with re-ranking(ms-marco-MiniLM-L-12-v2)      : 0.5168421052631579\n",
      "Accuracy with re-ranking(ms-marco-MiniLM-L-12-v2 tuning): 0.4731578947368421\n"
     ]
    },
    {
     "name": "stderr",
     "output_type": "stream",
     "text": [
      " 67%|████████████████████████████████████████████████                        | 3850/5769 [56:28<27:50,  1.15it/s]"
     ]
    },
    {
     "name": "stdout",
     "output_type": "stream",
     "text": [
      "Step 3850\n",
      "Accuracy without re-ranking                            : 0.8568831168831169\n",
      "Accuracy with re-ranking(mmarco-mMiniLMv2-L12-H384-v1) : 0.9225974025974026\n",
      "Accuracy with re-ranking(klue-cross-encoder-v1)        : 0.911948051948052\n",
      "Accuracy with re-ranking(ms-marco-MiniLM-L-12-v2)      : 0.5166233766233767\n",
      "Accuracy with re-ranking(ms-marco-MiniLM-L-12-v2 tuning): 0.47324675324675325\n"
     ]
    },
    {
     "name": "stderr",
     "output_type": "stream",
     "text": [
      " 68%|████████████████████████████████████████████████▋                       | 3900/5769 [57:13<31:00,  1.00it/s]"
     ]
    },
    {
     "name": "stdout",
     "output_type": "stream",
     "text": [
      "Step 3900\n",
      "Accuracy without re-ranking                            : 0.8569230769230769\n",
      "Accuracy with re-ranking(mmarco-mMiniLMv2-L12-H384-v1) : 0.9225641025641026\n",
      "Accuracy with re-ranking(klue-cross-encoder-v1)        : 0.9117948717948718\n",
      "Accuracy with re-ranking(ms-marco-MiniLM-L-12-v2)      : 0.5169230769230769\n",
      "Accuracy with re-ranking(ms-marco-MiniLM-L-12-v2 tuning): 0.4746153846153846\n"
     ]
    },
    {
     "name": "stderr",
     "output_type": "stream",
     "text": [
      " 68%|█████████████████████████████████████████████████▎                      | 3950/5769 [57:56<26:46,  1.13it/s]"
     ]
    },
    {
     "name": "stdout",
     "output_type": "stream",
     "text": [
      "Step 3950\n",
      "Accuracy without re-ranking                            : 0.8569620253164557\n",
      "Accuracy with re-ranking(mmarco-mMiniLMv2-L12-H384-v1) : 0.9220253164556962\n",
      "Accuracy with re-ranking(klue-cross-encoder-v1)        : 0.9116455696202531\n",
      "Accuracy with re-ranking(ms-marco-MiniLM-L-12-v2)      : 0.5169620253164557\n",
      "Accuracy with re-ranking(ms-marco-MiniLM-L-12-v2 tuning): 0.47468354430379744\n"
     ]
    },
    {
     "name": "stderr",
     "output_type": "stream",
     "text": [
      " 69%|█████████████████████████████████████████████████▉                      | 4000/5769 [58:39<24:50,  1.19it/s]"
     ]
    },
    {
     "name": "stdout",
     "output_type": "stream",
     "text": [
      "Step 4000\n",
      "Accuracy without re-ranking                            : 0.85675\n",
      "Accuracy with re-ranking(mmarco-mMiniLMv2-L12-H384-v1) : 0.9215\n",
      "Accuracy with re-ranking(klue-cross-encoder-v1)        : 0.91125\n",
      "Accuracy with re-ranking(ms-marco-MiniLM-L-12-v2)      : 0.5165\n",
      "Accuracy with re-ranking(ms-marco-MiniLM-L-12-v2 tuning): 0.47375\n"
     ]
    },
    {
     "name": "stderr",
     "output_type": "stream",
     "text": [
      " 70%|██████████████████████████████████████████████████▌                     | 4050/5769 [59:22<24:17,  1.18it/s]"
     ]
    },
    {
     "name": "stdout",
     "output_type": "stream",
     "text": [
      "Step 4050\n",
      "Accuracy without re-ranking                            : 0.8562962962962963\n",
      "Accuracy with re-ranking(mmarco-mMiniLMv2-L12-H384-v1) : 0.9202469135802469\n",
      "Accuracy with re-ranking(klue-cross-encoder-v1)        : 0.9103703703703704\n",
      "Accuracy with re-ranking(ms-marco-MiniLM-L-12-v2)      : 0.5182716049382716\n",
      "Accuracy with re-ranking(ms-marco-MiniLM-L-12-v2 tuning): 0.4748148148148148\n"
     ]
    },
    {
     "name": "stderr",
     "output_type": "stream",
     "text": [
      " 71%|█████████████████████████████████████████████████▋                    | 4100/5769 [1:00:05<21:57,  1.27it/s]"
     ]
    },
    {
     "name": "stdout",
     "output_type": "stream",
     "text": [
      "Step 4100\n",
      "Accuracy without re-ranking                            : 0.855609756097561\n",
      "Accuracy with re-ranking(mmarco-mMiniLMv2-L12-H384-v1) : 0.9192682926829269\n",
      "Accuracy with re-ranking(klue-cross-encoder-v1)        : 0.9097560975609756\n",
      "Accuracy with re-ranking(ms-marco-MiniLM-L-12-v2)      : 0.5182926829268293\n",
      "Accuracy with re-ranking(ms-marco-MiniLM-L-12-v2 tuning): 0.4748780487804878\n"
     ]
    },
    {
     "name": "stderr",
     "output_type": "stream",
     "text": [
      " 72%|██████████████████████████████████████████████████▎                   | 4150/5769 [1:00:51<23:13,  1.16it/s]"
     ]
    },
    {
     "name": "stdout",
     "output_type": "stream",
     "text": [
      "Step 4150\n",
      "Accuracy without re-ranking                            : 0.8568674698795181\n",
      "Accuracy with re-ranking(mmarco-mMiniLMv2-L12-H384-v1) : 0.9195180722891566\n",
      "Accuracy with re-ranking(klue-cross-encoder-v1)        : 0.9106024096385542\n",
      "Accuracy with re-ranking(ms-marco-MiniLM-L-12-v2)      : 0.5183132530120482\n",
      "Accuracy with re-ranking(ms-marco-MiniLM-L-12-v2 tuning): 0.47518072289156627\n"
     ]
    },
    {
     "name": "stderr",
     "output_type": "stream",
     "text": [
      " 73%|██████████████████████████████████████████████████▉                   | 4200/5769 [1:01:34<22:08,  1.18it/s]"
     ]
    },
    {
     "name": "stdout",
     "output_type": "stream",
     "text": [
      "Step 4200\n",
      "Accuracy without re-ranking                            : 0.8571428571428571\n",
      "Accuracy with re-ranking(mmarco-mMiniLMv2-L12-H384-v1) : 0.9195238095238095\n",
      "Accuracy with re-ranking(klue-cross-encoder-v1)        : 0.9111904761904762\n",
      "Accuracy with re-ranking(ms-marco-MiniLM-L-12-v2)      : 0.5190476190476191\n",
      "Accuracy with re-ranking(ms-marco-MiniLM-L-12-v2 tuning): 0.4754761904761905\n"
     ]
    },
    {
     "name": "stderr",
     "output_type": "stream",
     "text": [
      " 74%|███████████████████████████████████████████████████▌                  | 4250/5769 [1:02:19<29:36,  1.17s/it]"
     ]
    },
    {
     "name": "stdout",
     "output_type": "stream",
     "text": [
      "Step 4250\n",
      "Accuracy without re-ranking                            : 0.8574117647058823\n",
      "Accuracy with re-ranking(mmarco-mMiniLMv2-L12-H384-v1) : 0.9197647058823529\n",
      "Accuracy with re-ranking(klue-cross-encoder-v1)        : 0.9112941176470588\n",
      "Accuracy with re-ranking(ms-marco-MiniLM-L-12-v2)      : 0.5195294117647059\n",
      "Accuracy with re-ranking(ms-marco-MiniLM-L-12-v2 tuning): 0.47623529411764703\n"
     ]
    },
    {
     "name": "stderr",
     "output_type": "stream",
     "text": [
      " 75%|████████████████████████████████████████████████████▏                 | 4300/5769 [1:03:04<20:13,  1.21it/s]"
     ]
    },
    {
     "name": "stdout",
     "output_type": "stream",
     "text": [
      "Step 4300\n",
      "Accuracy without re-ranking                            : 0.8574418604651163\n",
      "Accuracy with re-ranking(mmarco-mMiniLMv2-L12-H384-v1) : 0.92\n",
      "Accuracy with re-ranking(klue-cross-encoder-v1)        : 0.9113953488372093\n",
      "Accuracy with re-ranking(ms-marco-MiniLM-L-12-v2)      : 0.5195348837209303\n",
      "Accuracy with re-ranking(ms-marco-MiniLM-L-12-v2 tuning): 0.47674418604651164\n"
     ]
    },
    {
     "name": "stderr",
     "output_type": "stream",
     "text": [
      " 75%|████████████████████████████████████████████████████▊                 | 4350/5769 [1:03:50<20:25,  1.16it/s]"
     ]
    },
    {
     "name": "stdout",
     "output_type": "stream",
     "text": [
      "Step 4350\n",
      "Accuracy without re-ranking                            : 0.8574712643678161\n",
      "Accuracy with re-ranking(mmarco-mMiniLMv2-L12-H384-v1) : 0.9197701149425287\n",
      "Accuracy with re-ranking(klue-cross-encoder-v1)        : 0.9110344827586206\n",
      "Accuracy with re-ranking(ms-marco-MiniLM-L-12-v2)      : 0.5197701149425288\n",
      "Accuracy with re-ranking(ms-marco-MiniLM-L-12-v2 tuning): 0.4763218390804598\n"
     ]
    },
    {
     "name": "stderr",
     "output_type": "stream",
     "text": [
      " 76%|█████████████████████████████████████████████████████▍                | 4400/5769 [1:04:33<21:08,  1.08it/s]"
     ]
    },
    {
     "name": "stdout",
     "output_type": "stream",
     "text": [
      "Step 4400\n",
      "Accuracy without re-ranking                            : 0.8581818181818182\n",
      "Accuracy with re-ranking(mmarco-mMiniLMv2-L12-H384-v1) : 0.9197727272727273\n",
      "Accuracy with re-ranking(klue-cross-encoder-v1)        : 0.9111363636363636\n",
      "Accuracy with re-ranking(ms-marco-MiniLM-L-12-v2)      : 0.5195454545454545\n",
      "Accuracy with re-ranking(ms-marco-MiniLM-L-12-v2 tuning): 0.4756818181818182\n"
     ]
    },
    {
     "name": "stderr",
     "output_type": "stream",
     "text": [
      " 77%|█████████████████████████████████████████████████████▉                | 4450/5769 [1:05:17<18:40,  1.18it/s]"
     ]
    },
    {
     "name": "stdout",
     "output_type": "stream",
     "text": [
      "Step 4450\n",
      "Accuracy without re-ranking                            : 0.8584269662921349\n",
      "Accuracy with re-ranking(mmarco-mMiniLMv2-L12-H384-v1) : 0.9204494382022472\n",
      "Accuracy with re-ranking(klue-cross-encoder-v1)        : 0.9114606741573034\n",
      "Accuracy with re-ranking(ms-marco-MiniLM-L-12-v2)      : 0.5179775280898876\n",
      "Accuracy with re-ranking(ms-marco-MiniLM-L-12-v2 tuning): 0.47393258426966295\n"
     ]
    },
    {
     "name": "stderr",
     "output_type": "stream",
     "text": [
      " 78%|██████████████████████████████████████████████████████▌               | 4500/5769 [1:06:01<17:16,  1.22it/s]"
     ]
    },
    {
     "name": "stdout",
     "output_type": "stream",
     "text": [
      "Step 4500\n",
      "Accuracy without re-ranking                            : 0.8577777777777778\n",
      "Accuracy with re-ranking(mmarco-mMiniLMv2-L12-H384-v1) : 0.9204444444444444\n",
      "Accuracy with re-ranking(klue-cross-encoder-v1)        : 0.9115555555555556\n",
      "Accuracy with re-ranking(ms-marco-MiniLM-L-12-v2)      : 0.5188888888888888\n",
      "Accuracy with re-ranking(ms-marco-MiniLM-L-12-v2 tuning): 0.474\n"
     ]
    },
    {
     "name": "stderr",
     "output_type": "stream",
     "text": [
      " 79%|███████████████████████████████████████████████████████▏              | 4550/5769 [1:06:43<17:03,  1.19it/s]"
     ]
    },
    {
     "name": "stdout",
     "output_type": "stream",
     "text": [
      "Step 4550\n",
      "Accuracy without re-ranking                            : 0.8578021978021978\n",
      "Accuracy with re-ranking(mmarco-mMiniLMv2-L12-H384-v1) : 0.9206593406593406\n",
      "Accuracy with re-ranking(klue-cross-encoder-v1)        : 0.9118681318681319\n",
      "Accuracy with re-ranking(ms-marco-MiniLM-L-12-v2)      : 0.5215384615384615\n",
      "Accuracy with re-ranking(ms-marco-MiniLM-L-12-v2 tuning): 0.47494505494505496\n"
     ]
    },
    {
     "name": "stderr",
     "output_type": "stream",
     "text": [
      " 80%|███████████████████████████████████████████████████████▊              | 4600/5769 [1:07:28<16:33,  1.18it/s]"
     ]
    },
    {
     "name": "stdout",
     "output_type": "stream",
     "text": [
      "Step 4600\n",
      "Accuracy without re-ranking                            : 0.8578260869565217\n",
      "Accuracy with re-ranking(mmarco-mMiniLMv2-L12-H384-v1) : 0.9206521739130434\n",
      "Accuracy with re-ranking(klue-cross-encoder-v1)        : 0.9117391304347826\n",
      "Accuracy with re-ranking(ms-marco-MiniLM-L-12-v2)      : 0.5223913043478261\n",
      "Accuracy with re-ranking(ms-marco-MiniLM-L-12-v2 tuning): 0.4752173913043478\n"
     ]
    },
    {
     "name": "stderr",
     "output_type": "stream",
     "text": [
      " 81%|████████████████████████████████████████████████████████▍             | 4650/5769 [1:08:10<15:37,  1.19it/s]"
     ]
    },
    {
     "name": "stdout",
     "output_type": "stream",
     "text": [
      "Step 4650\n",
      "Accuracy without re-ranking                            : 0.8580645161290322\n",
      "Accuracy with re-ranking(mmarco-mMiniLMv2-L12-H384-v1) : 0.9204301075268817\n",
      "Accuracy with re-ranking(klue-cross-encoder-v1)        : 0.9118279569892473\n",
      "Accuracy with re-ranking(ms-marco-MiniLM-L-12-v2)      : 0.5217204301075269\n",
      "Accuracy with re-ranking(ms-marco-MiniLM-L-12-v2 tuning): 0.47419354838709676\n"
     ]
    },
    {
     "name": "stderr",
     "output_type": "stream",
     "text": [
      " 81%|█████████████████████████████████████████████████████████             | 4700/5769 [1:08:52<15:09,  1.18it/s]"
     ]
    },
    {
     "name": "stdout",
     "output_type": "stream",
     "text": [
      "Step 4700\n",
      "Accuracy without re-ranking                            : 0.8580851063829787\n",
      "Accuracy with re-ranking(mmarco-mMiniLMv2-L12-H384-v1) : 0.9204255319148936\n",
      "Accuracy with re-ranking(klue-cross-encoder-v1)        : 0.9119148936170213\n",
      "Accuracy with re-ranking(ms-marco-MiniLM-L-12-v2)      : 0.5223404255319148\n",
      "Accuracy with re-ranking(ms-marco-MiniLM-L-12-v2 tuning): 0.47425531914893615\n"
     ]
    },
    {
     "name": "stderr",
     "output_type": "stream",
     "text": [
      " 82%|█████████████████████████████████████████████████████████▋            | 4750/5769 [1:09:37<15:11,  1.12it/s]"
     ]
    },
    {
     "name": "stdout",
     "output_type": "stream",
     "text": [
      "Step 4750\n",
      "Accuracy without re-ranking                            : 0.8585263157894737\n",
      "Accuracy with re-ranking(mmarco-mMiniLMv2-L12-H384-v1) : 0.9206315789473685\n",
      "Accuracy with re-ranking(klue-cross-encoder-v1)        : 0.9122105263157895\n",
      "Accuracy with re-ranking(ms-marco-MiniLM-L-12-v2)      : 0.5221052631578947\n",
      "Accuracy with re-ranking(ms-marco-MiniLM-L-12-v2 tuning): 0.4747368421052632\n"
     ]
    },
    {
     "name": "stderr",
     "output_type": "stream",
     "text": [
      " 83%|██████████████████████████████████████████████████████████▏           | 4800/5769 [1:10:22<13:34,  1.19it/s]"
     ]
    },
    {
     "name": "stdout",
     "output_type": "stream",
     "text": [
      "Step 4800\n",
      "Accuracy without re-ranking                            : 0.858125\n",
      "Accuracy with re-ranking(mmarco-mMiniLMv2-L12-H384-v1) : 0.9204166666666667\n",
      "Accuracy with re-ranking(klue-cross-encoder-v1)        : 0.9120833333333334\n",
      "Accuracy with re-ranking(ms-marco-MiniLM-L-12-v2)      : 0.5216666666666666\n",
      "Accuracy with re-ranking(ms-marco-MiniLM-L-12-v2 tuning): 0.4741666666666667\n"
     ]
    },
    {
     "name": "stderr",
     "output_type": "stream",
     "text": [
      " 84%|██████████████████████████████████████████████████████████▊           | 4850/5769 [1:11:04<13:25,  1.14it/s]"
     ]
    },
    {
     "name": "stdout",
     "output_type": "stream",
     "text": [
      "Step 4850\n",
      "Accuracy without re-ranking                            : 0.8579381443298969\n",
      "Accuracy with re-ranking(mmarco-mMiniLMv2-L12-H384-v1) : 0.9202061855670103\n",
      "Accuracy with re-ranking(klue-cross-encoder-v1)        : 0.9119587628865979\n",
      "Accuracy with re-ranking(ms-marco-MiniLM-L-12-v2)      : 0.5212371134020618\n",
      "Accuracy with re-ranking(ms-marco-MiniLM-L-12-v2 tuning): 0.4734020618556701\n"
     ]
    },
    {
     "name": "stderr",
     "output_type": "stream",
     "text": [
      " 85%|███████████████████████████████████████████████████████████▍          | 4900/5769 [1:11:47<12:38,  1.15it/s]"
     ]
    },
    {
     "name": "stdout",
     "output_type": "stream",
     "text": [
      "Step 4900\n",
      "Accuracy without re-ranking                            : 0.8581632653061224\n",
      "Accuracy with re-ranking(mmarco-mMiniLMv2-L12-H384-v1) : 0.9202040816326531\n",
      "Accuracy with re-ranking(klue-cross-encoder-v1)        : 0.9114285714285715\n",
      "Accuracy with re-ranking(ms-marco-MiniLM-L-12-v2)      : 0.5212244897959184\n",
      "Accuracy with re-ranking(ms-marco-MiniLM-L-12-v2 tuning): 0.4736734693877551\n"
     ]
    },
    {
     "name": "stderr",
     "output_type": "stream",
     "text": [
      " 86%|████████████████████████████████████████████████████████████          | 4950/5769 [1:12:29<11:18,  1.21it/s]"
     ]
    },
    {
     "name": "stdout",
     "output_type": "stream",
     "text": [
      "Step 4950\n",
      "Accuracy without re-ranking                            : 0.8573737373737373\n",
      "Accuracy with re-ranking(mmarco-mMiniLMv2-L12-H384-v1) : 0.9202020202020202\n",
      "Accuracy with re-ranking(klue-cross-encoder-v1)        : 0.9113131313131313\n",
      "Accuracy with re-ranking(ms-marco-MiniLM-L-12-v2)      : 0.5202020202020202\n",
      "Accuracy with re-ranking(ms-marco-MiniLM-L-12-v2 tuning): 0.47353535353535353\n"
     ]
    },
    {
     "name": "stderr",
     "output_type": "stream",
     "text": [
      " 87%|████████████████████████████████████████████████████████████▋         | 5000/5769 [1:13:20<11:04,  1.16it/s]"
     ]
    },
    {
     "name": "stdout",
     "output_type": "stream",
     "text": [
      "Step 5000\n",
      "Accuracy without re-ranking                            : 0.858\n",
      "Accuracy with re-ranking(mmarco-mMiniLMv2-L12-H384-v1) : 0.9204\n",
      "Accuracy with re-ranking(klue-cross-encoder-v1)        : 0.9112\n",
      "Accuracy with re-ranking(ms-marco-MiniLM-L-12-v2)      : 0.52\n",
      "Accuracy with re-ranking(ms-marco-MiniLM-L-12-v2 tuning): 0.473\n"
     ]
    },
    {
     "name": "stderr",
     "output_type": "stream",
     "text": [
      " 88%|█████████████████████████████████████████████████████████████▎        | 5050/5769 [1:14:04<09:52,  1.21it/s]"
     ]
    },
    {
     "name": "stdout",
     "output_type": "stream",
     "text": [
      "Step 5050\n",
      "Accuracy without re-ranking                            : 0.8584158415841584\n",
      "Accuracy with re-ranking(mmarco-mMiniLMv2-L12-H384-v1) : 0.9203960396039604\n",
      "Accuracy with re-ranking(klue-cross-encoder-v1)        : 0.9114851485148515\n",
      "Accuracy with re-ranking(ms-marco-MiniLM-L-12-v2)      : 0.5205940594059406\n",
      "Accuracy with re-ranking(ms-marco-MiniLM-L-12-v2 tuning): 0.47386138613861384\n"
     ]
    },
    {
     "name": "stderr",
     "output_type": "stream",
     "text": [
      " 88%|█████████████████████████████████████████████████████████████▉        | 5100/5769 [1:14:50<12:00,  1.08s/it]"
     ]
    },
    {
     "name": "stdout",
     "output_type": "stream",
     "text": [
      "Step 5100\n",
      "Accuracy without re-ranking                            : 0.8586274509803922\n",
      "Accuracy with re-ranking(mmarco-mMiniLMv2-L12-H384-v1) : 0.9205882352941176\n",
      "Accuracy with re-ranking(klue-cross-encoder-v1)        : 0.9117647058823529\n",
      "Accuracy with re-ranking(ms-marco-MiniLM-L-12-v2)      : 0.5205882352941177\n",
      "Accuracy with re-ranking(ms-marco-MiniLM-L-12-v2 tuning): 0.47352941176470587\n"
     ]
    },
    {
     "name": "stderr",
     "output_type": "stream",
     "text": [
      " 89%|██████████████████████████████████████████████████████████████▍       | 5150/5769 [1:15:44<09:30,  1.08it/s]"
     ]
    },
    {
     "name": "stdout",
     "output_type": "stream",
     "text": [
      "Step 5150\n",
      "Accuracy without re-ranking                            : 0.8586407766990292\n",
      "Accuracy with re-ranking(mmarco-mMiniLMv2-L12-H384-v1) : 0.9207766990291262\n",
      "Accuracy with re-ranking(klue-cross-encoder-v1)        : 0.9122330097087379\n",
      "Accuracy with re-ranking(ms-marco-MiniLM-L-12-v2)      : 0.5207766990291263\n",
      "Accuracy with re-ranking(ms-marco-MiniLM-L-12-v2 tuning): 0.47436893203883496\n"
     ]
    },
    {
     "name": "stderr",
     "output_type": "stream",
     "text": [
      " 90%|███████████████████████████████████████████████████████████████       | 5200/5769 [1:16:32<07:59,  1.19it/s]"
     ]
    },
    {
     "name": "stdout",
     "output_type": "stream",
     "text": [
      "Step 5200\n",
      "Accuracy without re-ranking                            : 0.8588461538461538\n",
      "Accuracy with re-ranking(mmarco-mMiniLMv2-L12-H384-v1) : 0.9211538461538461\n",
      "Accuracy with re-ranking(klue-cross-encoder-v1)        : 0.911923076923077\n",
      "Accuracy with re-ranking(ms-marco-MiniLM-L-12-v2)      : 0.5209615384615385\n",
      "Accuracy with re-ranking(ms-marco-MiniLM-L-12-v2 tuning): 0.47384615384615386\n"
     ]
    },
    {
     "name": "stderr",
     "output_type": "stream",
     "text": [
      " 91%|███████████████████████████████████████████████████████████████▋      | 5250/5769 [1:17:16<07:47,  1.11it/s]"
     ]
    },
    {
     "name": "stdout",
     "output_type": "stream",
     "text": [
      "Step 5250\n",
      "Accuracy without re-ranking                            : 0.8590476190476191\n",
      "Accuracy with re-ranking(mmarco-mMiniLMv2-L12-H384-v1) : 0.920952380952381\n",
      "Accuracy with re-ranking(klue-cross-encoder-v1)        : 0.9121904761904762\n",
      "Accuracy with re-ranking(ms-marco-MiniLM-L-12-v2)      : 0.5211428571428571\n",
      "Accuracy with re-ranking(ms-marco-MiniLM-L-12-v2 tuning): 0.47295238095238096\n"
     ]
    },
    {
     "name": "stderr",
     "output_type": "stream",
     "text": [
      " 92%|████████████████████████████████████████████████████████████████▎     | 5300/5769 [1:18:00<06:23,  1.22it/s]"
     ]
    },
    {
     "name": "stdout",
     "output_type": "stream",
     "text": [
      "Step 5300\n",
      "Accuracy without re-ranking                            : 0.8594339622641509\n",
      "Accuracy with re-ranking(mmarco-mMiniLMv2-L12-H384-v1) : 0.9213207547169812\n",
      "Accuracy with re-ranking(klue-cross-encoder-v1)        : 0.9126415094339623\n",
      "Accuracy with re-ranking(ms-marco-MiniLM-L-12-v2)      : 0.5220754716981132\n",
      "Accuracy with re-ranking(ms-marco-MiniLM-L-12-v2 tuning): 0.47358490566037736\n"
     ]
    },
    {
     "name": "stderr",
     "output_type": "stream",
     "text": [
      " 93%|████████████████████████████████████████████████████████████████▉     | 5350/5769 [1:18:45<06:03,  1.15it/s]"
     ]
    },
    {
     "name": "stdout",
     "output_type": "stream",
     "text": [
      "Step 5350\n",
      "Accuracy without re-ranking                            : 0.86\n",
      "Accuracy with re-ranking(mmarco-mMiniLMv2-L12-H384-v1) : 0.9220560747663551\n",
      "Accuracy with re-ranking(klue-cross-encoder-v1)        : 0.9134579439252336\n",
      "Accuracy with re-ranking(ms-marco-MiniLM-L-12-v2)      : 0.5218691588785047\n",
      "Accuracy with re-ranking(ms-marco-MiniLM-L-12-v2 tuning): 0.4730841121495327\n"
     ]
    },
    {
     "name": "stderr",
     "output_type": "stream",
     "text": [
      " 94%|█████████████████████████████████████████████████████████████████▌    | 5400/5769 [1:19:33<05:45,  1.07it/s]"
     ]
    },
    {
     "name": "stdout",
     "output_type": "stream",
     "text": [
      "Step 5400\n",
      "Accuracy without re-ranking                            : 0.8596296296296296\n",
      "Accuracy with re-ranking(mmarco-mMiniLMv2-L12-H384-v1) : 0.922037037037037\n",
      "Accuracy with re-ranking(klue-cross-encoder-v1)        : 0.9137037037037037\n",
      "Accuracy with re-ranking(ms-marco-MiniLM-L-12-v2)      : 0.5218518518518519\n",
      "Accuracy with re-ranking(ms-marco-MiniLM-L-12-v2 tuning): 0.4735185185185185\n"
     ]
    },
    {
     "name": "stderr",
     "output_type": "stream",
     "text": [
      " 94%|██████████████████████████████████████████████████████████████████▏   | 5450/5769 [1:20:19<06:01,  1.13s/it]"
     ]
    },
    {
     "name": "stdout",
     "output_type": "stream",
     "text": [
      "Step 5450\n",
      "Accuracy without re-ranking                            : 0.8598165137614678\n",
      "Accuracy with re-ranking(mmarco-mMiniLMv2-L12-H384-v1) : 0.9222018348623853\n",
      "Accuracy with re-ranking(klue-cross-encoder-v1)        : 0.9139449541284403\n",
      "Accuracy with re-ranking(ms-marco-MiniLM-L-12-v2)      : 0.5227522935779817\n",
      "Accuracy with re-ranking(ms-marco-MiniLM-L-12-v2 tuning): 0.47394495412844034\n"
     ]
    },
    {
     "name": "stderr",
     "output_type": "stream",
     "text": [
      " 95%|██████████████████████████████████████████████████████████████████▋   | 5500/5769 [1:21:05<03:44,  1.20it/s]"
     ]
    },
    {
     "name": "stdout",
     "output_type": "stream",
     "text": [
      "Step 5500\n",
      "Accuracy without re-ranking                            : 0.8605454545454545\n",
      "Accuracy with re-ranking(mmarco-mMiniLMv2-L12-H384-v1) : 0.9227272727272727\n",
      "Accuracy with re-ranking(klue-cross-encoder-v1)        : 0.9145454545454546\n",
      "Accuracy with re-ranking(ms-marco-MiniLM-L-12-v2)      : 0.523090909090909\n",
      "Accuracy with re-ranking(ms-marco-MiniLM-L-12-v2 tuning): 0.4743636363636364\n"
     ]
    },
    {
     "name": "stderr",
     "output_type": "stream",
     "text": [
      " 96%|███████████████████████████████████████████████████████████████████▎  | 5550/5769 [1:21:52<03:07,  1.17it/s]"
     ]
    },
    {
     "name": "stdout",
     "output_type": "stream",
     "text": [
      "Step 5550\n",
      "Accuracy without re-ranking                            : 0.8605405405405405\n",
      "Accuracy with re-ranking(mmarco-mMiniLMv2-L12-H384-v1) : 0.9227027027027027\n",
      "Accuracy with re-ranking(klue-cross-encoder-v1)        : 0.9144144144144144\n",
      "Accuracy with re-ranking(ms-marco-MiniLM-L-12-v2)      : 0.523063063063063\n",
      "Accuracy with re-ranking(ms-marco-MiniLM-L-12-v2 tuning): 0.4751351351351351\n"
     ]
    },
    {
     "name": "stderr",
     "output_type": "stream",
     "text": [
      " 97%|███████████████████████████████████████████████████████████████████▉  | 5600/5769 [1:22:35<02:17,  1.23it/s]"
     ]
    },
    {
     "name": "stdout",
     "output_type": "stream",
     "text": [
      "Step 5600\n",
      "Accuracy without re-ranking                            : 0.8608928571428571\n",
      "Accuracy with re-ranking(mmarco-mMiniLMv2-L12-H384-v1) : 0.9233928571428571\n",
      "Accuracy with re-ranking(klue-cross-encoder-v1)        : 0.9151785714285714\n",
      "Accuracy with re-ranking(ms-marco-MiniLM-L-12-v2)      : 0.5239285714285714\n",
      "Accuracy with re-ranking(ms-marco-MiniLM-L-12-v2 tuning): 0.4757142857142857\n"
     ]
    },
    {
     "name": "stderr",
     "output_type": "stream",
     "text": [
      " 98%|████████████████████████████████████████████████████████████████████▌ | 5650/5769 [1:23:18<01:43,  1.16it/s]"
     ]
    },
    {
     "name": "stdout",
     "output_type": "stream",
     "text": [
      "Step 5650\n",
      "Accuracy without re-ranking                            : 0.8617699115044247\n",
      "Accuracy with re-ranking(mmarco-mMiniLMv2-L12-H384-v1) : 0.9238938053097345\n",
      "Accuracy with re-ranking(klue-cross-encoder-v1)        : 0.9155752212389381\n",
      "Accuracy with re-ranking(ms-marco-MiniLM-L-12-v2)      : 0.5249557522123893\n",
      "Accuracy with re-ranking(ms-marco-MiniLM-L-12-v2 tuning): 0.47646017699115045\n"
     ]
    },
    {
     "name": "stderr",
     "output_type": "stream",
     "text": [
      " 99%|█████████████████████████████████████████████████████████████████████▏| 5700/5769 [1:24:00<00:56,  1.21it/s]"
     ]
    },
    {
     "name": "stdout",
     "output_type": "stream",
     "text": [
      "Step 5700\n",
      "Accuracy without re-ranking                            : 0.8621052631578947\n",
      "Accuracy with re-ranking(mmarco-mMiniLMv2-L12-H384-v1) : 0.9240350877192982\n",
      "Accuracy with re-ranking(klue-cross-encoder-v1)        : 0.9159649122807018\n",
      "Accuracy with re-ranking(ms-marco-MiniLM-L-12-v2)      : 0.5247368421052632\n",
      "Accuracy with re-ranking(ms-marco-MiniLM-L-12-v2 tuning): 0.47649122807017547\n"
     ]
    },
    {
     "name": "stderr",
     "output_type": "stream",
     "text": [
      "100%|█████████████████████████████████████████████████████████████████████▊| 5750/5769 [1:24:42<00:16,  1.18it/s]"
     ]
    },
    {
     "name": "stdout",
     "output_type": "stream",
     "text": [
      "Step 5750\n",
      "Accuracy without re-ranking                            : 0.8620869565217392\n",
      "Accuracy with re-ranking(mmarco-mMiniLMv2-L12-H384-v1) : 0.9243478260869565\n",
      "Accuracy with re-ranking(klue-cross-encoder-v1)        : 0.9163478260869565\n",
      "Accuracy with re-ranking(ms-marco-MiniLM-L-12-v2)      : 0.5259130434782608\n",
      "Accuracy with re-ranking(ms-marco-MiniLM-L-12-v2 tuning): 0.47756521739130436\n"
     ]
    },
    {
     "name": "stderr",
     "output_type": "stream",
     "text": [
      "100%|██████████████████████████████████████████████████████████████████████| 5769/5769 [1:24:58<00:00,  1.13it/s]\n"
     ]
    }
   ],
   "source": [
    "i = 0\n",
    "print_every = 50\n",
    "predictions = []\n",
    "for question in tqdm(val_sample['question']):\n",
    "    retrieved_hash, reranked_hash_1, reranked_hash_2, reranked_hash_3, reranked_hash_4 = eval_ranking_4(question, cross_encoder_1, cross_encoder_2, cross_encoder_3, cross_encoder_4, top_k=3)\n",
    "    correct_hash = q_to_hash[question]\n",
    "    predictions.append((retrieved_hash == correct_hash, reranked_hash_1 == correct_hash, reranked_hash_2 == correct_hash, reranked_hash_3 == correct_hash, reranked_hash_4 == correct_hash))\n",
    "    i += 1\n",
    "    if i % print_every == 0:\n",
    "        print(f'Step {i}')\n",
    "        raw_accuracy = sum([p[0] for p in predictions])/len(predictions)\n",
    "        reranked_accuracy_1 = sum([p[1] for p in predictions])/len(predictions)\n",
    "        reranked_accuracy_2 = sum([p[2] for p in predictions])/len(predictions)\n",
    "        reranked_accuracy_3 = sum([p[3] for p in predictions])/len(predictions)\n",
    "        reranked_accuracy_4 = sum([p[4] for p in predictions])/len(predictions)\n",
    "\n",
    "        print(f'Accuracy without re-ranking                            : {raw_accuracy}')\n",
    "        print(f'Accuracy with re-ranking(mmarco-mMiniLMv2-L12-H384-v1) : {reranked_accuracy_1}')\n",
    "        print(f'Accuracy with re-ranking(klue-cross-encoder-v1)        : {reranked_accuracy_2}')\n",
    "        print(f'Accuracy with re-ranking(ms-marco-MiniLM-L-12-v2)      : {reranked_accuracy_3}')\n",
    "        print(f'Accuracy with re-ranking(ms-marco-MiniLM-L-12-v2 tuning): {reranked_accuracy_4}')\n"
   ]
  },
  {
   "cell_type": "code",
   "execution_count": 197,
   "id": "08702d88-f842-4e24-9c5b-c9b7cec6341c",
   "metadata": {},
   "outputs": [
    {
     "name": "stdout",
     "output_type": "stream",
     "text": [
      "text-embedding-3-large\n",
      "Accuracy without re-ranking                            : 0.8623678280464552\n",
      "Accuracy with re-ranking(mmarco-mMiniLMv2-L12-H384-v1) : 0.9245969838793552\n",
      "Accuracy with re-ranking(klue-cross-encoder-v1)        : 0.9166233315999307\n",
      "Accuracy with re-ranking(ms-marco-MiniLM-L-12-v2)      : 0.5260877101750737\n",
      "Accuracy with re-ranking(ms-marco-MiniLM-L-12-v2 tuning): 0.47737909516380655\n"
     ]
    }
   ],
   "source": [
    "raw_accuracy = sum([p[0] for p in predictions])/len(predictions)\n",
    "reranked_accuracy_1 = sum([p[1] for p in predictions])/len(predictions)\n",
    "reranked_accuracy_2 = sum([p[2] for p in predictions])/len(predictions)\n",
    "reranked_accuracy_3 = sum([p[3] for p in predictions])/len(predictions)\n",
    "reranked_accuracy_4 = sum([p[4] for p in predictions])/len(predictions)\n",
    "\n",
    "print('text-embedding-3-large')\n",
    "print(f'Accuracy without re-ranking                            : {raw_accuracy}')\n",
    "print(f'Accuracy with re-ranking(mmarco-mMiniLMv2-L12-H384-v1) : {reranked_accuracy_1}')\n",
    "print(f'Accuracy with re-ranking(klue-cross-encoder-v1)        : {reranked_accuracy_2}')\n",
    "print(f'Accuracy with re-ranking(ms-marco-MiniLM-L-12-v2)      : {reranked_accuracy_3}')\n",
    "print(f'Accuracy with re-ranking(ms-marco-MiniLM-L-12-v2 tuning): {reranked_accuracy_4}')"
   ]
  },
  {
   "cell_type": "markdown",
   "id": "2ed7512a-006f-4abe-bb8f-6354a8c28d1d",
   "metadata": {},
   "source": [
    "## 5.5 오픈소스 임베딩 한국어 성능 (multi-qa-mpnet-base-cos-v1)"
   ]
  },
  {
   "cell_type": "code",
   "execution_count": 198,
   "id": "c781220b-82e1-456a-997c-0404fc8c1da2",
   "metadata": {},
   "outputs": [],
   "source": [
    "from sentence_transformers import SentenceTransformer\n",
    "\n",
    "model = SentenceTransformer('sentence-transformers/multi-qa-mpnet-base-cos-v1')"
   ]
  },
  {
   "cell_type": "code",
   "execution_count": 199,
   "id": "16a95d4c-2f90-4ebe-beaf-368c1f5173e3",
   "metadata": {},
   "outputs": [],
   "source": [
    "validation_paragraphs = dataset_ko['validation'].remove_columns(['question', 'label'])\n",
    "train_paragraphs = dataset_ko['train'].remove_columns(['question', 'label'])\n",
    "test_paragraphs = dataset_ko['test'].remove_columns(['question', 'label'])\n",
    "combined_paragraphs = concatenate_datasets([validation_paragraphs, train_paragraphs, test_paragraphs])\n"
   ]
  },
  {
   "cell_type": "code",
   "execution_count": 200,
   "id": "84c52455-cbbd-4fe1-9e84-4d0d5dd635df",
   "metadata": {},
   "outputs": [
    {
     "data": {
      "application/vnd.jupyter.widget-view+json": {
       "model_id": "3b1f9f162ae94cf0a69555eaa2f67ff3",
       "version_major": 2,
       "version_minor": 0
      },
      "text/plain": [
       "Batches:   0%|          | 0/181 [00:00<?, ?it/s]"
      ]
     },
     "metadata": {},
     "output_type": "display_data"
    }
   ],
   "source": [
    "# 문서 임베딩\n",
    "# docs_ko = dataset_ko['validation']['paragraph']\n",
    "docs_ko = combined_paragraphs['paragraph']\n",
    "doc_ko_emb = model.encode(docs_ko, batch_size=32, show_progress_bar=True)"
   ]
  },
  {
   "cell_type": "code",
   "execution_count": 201,
   "id": "5957ad6a-b500-4e97-ac44-e2cc1e215180",
   "metadata": {},
   "outputs": [
    {
     "name": "stdout",
     "output_type": "stream",
     "text": [
      "봉룡은 숙정을 죽였는가?\n",
      "Query: 봉룡은 숙정을 죽였는가?\n",
      "Pinecone Result==> af810b9c9f9716f84c5592fcfec5d112\t0.53\t구한말, 통영 안뒤산 기슭 간창골에 김봉제 형제가 살았다. 김봉제는 관약국을 경영하며 부를\n",
      "Pinecone Result==> f348d9af9988690a984fca69f83f3b13\t0.46\t이후 이순신은 붙잡힌 임준영 대신, 준사의 도움으로 풀려난 수봉에게 전갈을 받고 왜군의 전\n",
      "Pinecone Result==> c52688fa9fe06e2699f18f2bf0feea29\t0.45\t숙종은 궁궐 근처에 살았던 길고양이를 불쌍히 여겨 자신의 궐로 데려와 금손이라는 이름을 붙\n",
      "Document ID (Hash)\t\tRetrieval Score\tCE Score\tText\n",
      "Reranked Result==> af810b9c9f9716f84c5592fcfec5d112\t0.53\t0.64\t구한말, 통영 안뒤산 기슭 간창골에 김봉제 형제가 살았다. 김봉제는 관약국을 경영하며 부를\n",
      "Reranked Result==> f348d9af9988690a984fca69f83f3b13\t0.46\t0.02\t이후 이순신은 붙잡힌 임준영 대신, 준사의 도움으로 풀려난 수봉에게 전갈을 받고 왜군의 전\n",
      "Reranked Result==> c52688fa9fe06e2699f18f2bf0feea29\t0.45\t0.02\t숙종은 궁궐 근처에 살았던 길고양이를 불쌍히 여겨 자신의 궐로 데려와 금손이라는 이름을 붙\n"
     ]
    }
   ],
   "source": [
    "from random import sample\n",
    "\n",
    "query = sample(dataset_ko['validation']['question'], 1)[0]\n",
    "print(query)\n",
    "final_results = get_results_from_pinecone(query, top_k=3, re_rank=True)"
   ]
  },
  {
   "cell_type": "code",
   "execution_count": 202,
   "id": "f9ef90ea-7087-4ae8-91a3-7321d7ab2486",
   "metadata": {
    "scrolled": true
   },
   "outputs": [
    {
     "name": "stdout",
     "output_type": "stream",
     "text": [
      "봉룡은 숙정을 죽였는가?\n",
      "0.782538890838623 슬링백은 여성화의 일종으로, 발목 뒤에서 끈이 가로질러 받쳐주는 신발류를 말한다. 앵클 스트랩은 발목을 끈이 완전히 감싸주지만, 슬링백은 뒤에서만 받쳐준다.\n",
      "0.7788514494895935 또한, 러시아에서는 스토브를 이용하여 집을 데우기도 한다. 러시아 스토브는 음식을 골고루 익힐 수 있어 음식의 질을 향상시킨다. 그러나 이는 이제 더 이상 사용되지 않고 있으며 시골 지역에서도 찾아볼 수 없다.\n",
      "0.7784056663513184 베어링은 축을 정확하고 매끄럽게 회전시키기 위해서 사용된다. 마찰에 의한 에너지 손실이나 발열을 줄여, 부품의 손상을 감소시킨다. 수송 기계부터 시작해서 각종 기계에 널리 사용되며, 회전하는 부분이 있는 기계장치에는 반드시 존재한다. \n",
      "0.776402473449707 슬(瑟)은 중국 고대 악기의 하나로 금과 더불어 아악에서 쓰이는 발현 악기이다. 한국에도 전래되어 사용되었다.\n",
      "0.7732049226760864 낙뢰(落雷) 또는 벼락은 번개와 천둥을 동반하는 급격한 방전현상이다. 일반적으로 강한 소나기를 내리며, 우박을 동반하는 경우도 있다. 낙뢰는 주로 적란운 안에서 발생한다.\n",
      "0.7711448073387146 베트남 요리는 기본적으로 지역에 따라서 세 가지로 분류될 수 있다. 북부 지방의 요리는 중부나 남부 지방에 비해서 준비가 간단하다. 프라이팬에 볶은 요리가 많고 간장을 많이 쓴다. 북부 지방의 요리는 중국의 영향을 많이 받았다. \n",
      "0.7707719802856445 서인 세력은 정원군의 장남 능양군을 받들어 ‘반정’을 단행하고 궁궐을 장악했다. 이들은 광해군을 인목왕후 앞으로 끌고 가 정죄한 뒤 유배시켰다. 인목왕후는 광해군과 폐세자에 대한 처형을 주장하였으나, 인조와 반정 세력은 반정의 명분인 폐모살제(廢母殺弟) 때문에 이를 받아들이지 않고 유배를 보내는 선에서 반정을 마무리 짓게 된다. 곧 반정군에게 이이첨, 정인홍, 김개시 등은 죽고, 40여 명의 관리가 구금된다.\n",
      "0.7694615125656128 북한산은 1억 7천만년전에 형성되었으며, 이곳은 최초 백제땅으로 지역명으로 한산, 산의 명칭으로 31년 이후 횡악(橫嶽)이라고 하였다. 고구려가 475년 백제로 부터 이곳을 정벌하여 지역명으로 '북한산주'라 칭하고 산명은 그대로 횡악으로 불렀다. \n",
      "0.7681810855865479 승관(본명: 부승관, 1998년 1월 16일 ~ )은 대한민국의 보이 그룹 세븐틴의 메인보컬을 맡고 있다. 본관은 제주이다.\n",
      "0.7670080661773682 바레인 국민들은 아랍식 샌드위치인 팔라펠을 미트볼과 빵, 양고기나 닭고기를 썰어 넣어 요리한다. 전통 과자는 삼부사가 있다.\n",
      "0.7659311294555664 노랑부리 뻐꾸기는 뻐꾸기이다. 미국 남부에서 이 새는 흔히 비 까마귀와 폭풍 까마귀로 불린다. 이는 더운 날에 종종 비나 뇌우를 미리 예방하는 새의 습성을 가리키는 것이라고 볼 수 있다.\n",
      "0.7659177780151367 음반업계에서 파욜라는 음반회사들이 방송 전에 알리지 않고 일반 방송의 일부로서 곡을 내보내는 불법 행위이다. 미국 법에 따르면 라디오 방송국은 돈을 받는 대가로 특정 곡을 틀 수 있지만, 이것은 광고 방송 시간이라고 방송에 공개되어야 하며, 그 노래가 \"정규적인 방송\"으로 간주되어서는 안 된다.\n",
      "0.7646627426147461 선장들은 결혼을 할 수 있다는 일반적인 믿음이 있어왔다. 비록 이것이 등록 국가에 따라 다르긴 하지만, 선장들은 미국에서 결혼을 하는 것이 허락되지 않았고, 허락된 적도 없다.\n",
      "0.761534571647644 인현왕후는 장희빈이 자신을 저주하여 죽이려 한다고 주장하기도 했다.『숙종실록』은 또 “숙빈 최씨가 임금에게 몰래 장씨의 저주를 고했다”고 기록하고 있다. 숙종은 장씨의 오빠 장희재와 장씨의 친신 궁녀 영숙을 처형시킴으로써 저주설에 손을 들어주었다. 인현왕후가 34세의 나이로 죽고, 희빈 장씨가 자신을 질투하고 괴롭힌다며 숙빈 최씨가 호소하자 숙종은 장희빈을 사사시키기로 한다.\n",
      "0.7578440308570862 도르래는 두레박·기중기 등에 쓰이며 고정 도르래와 움직 도르래가 있다. 고정 도르래는 고정된 축에 홈이 파인 바퀴가 달려 있는 것으로, 바퀴에 걸린 줄에 짐을 묶고 줄의 다른쪽 끝을 잡아당기면 쉽게 들어올릴 수 있다. 힘을 줄여 주는 것과 같은 기계적 이득은 없지만 방향을 바꿀 수는 있다. \n",
      "0.7577729821205139 박(拍)은 나무조각 6개를 엮어서 만든 타악기이나, 음악 연주보다는 음악의 시작과 끝을 알리는 데 사용된다. 궁중음악에서 시작할 때 한 번, 끝날 때 세 번 쳐서 시작과 끝을 알린다. 박을 잡은 사람은 서양 음악의 지휘자와 같은 역할을 한다. 증보문헌비고에 의한 악기 분류법 중 목부에 속한다.\n",
      "0.7557810544967651 대부분의 태양플레어는 밀집된 자기장이 태양 표면으로부터 코로나로 빠져나오는 곳인 태양흑점 주변에서 일어난다. 태양플레어의 에너지는 수 시간 혹은 여러 날에 걸쳐서 형성되지만, 수 분 정도의 짧은 시간에 방출된다.\n",
      "0.7552608251571655 우박은 주로 강한 상승기류를 타고 적운이나 적란운에서 발생하며 천둥번개를 동반한 비(뇌우)를 동반하기도 한다. 처음에는 눈의 결정 형태로 떨어지다가 과냉각된 구름 알갱이가 충돌하여 얼어붙고, 점차 커지면서 낙하속도가 증가하여 지상에 이르게 된다. \n",
      "0.7542865872383118 장연수 (배우: 이하늬) 마약반의 홍일점. 현장을 뛰어다니다 보니 껄렁함이 온몸에 베였으며 거기에 걸맞게 무에타이 동양 챔피언 출신이라 후반부 때로 덤벼드는 이무배의 조직원들의 공격을 순식간에 피해버린 다음 그들을 때려잡는다. 같이 다니는 마봉팔 형사를 '얼굴밖에 볼게 없는 녀석'이라고 말한다.\n",
      "0.753721296787262 폐비 윤씨는 성종에게 다소 불경한 말과 원망 섞인 말을 하였는데, 성종을 볼 때 낯빛을 바꾸고 '발자취를 없애 버리겠다' 라는 말을 하였으며, 아이를 낳지 못하게 하거나 반신불수로 만드는 비법을 적은 책을 상자속에 숨겨두었다가 대비에게 발각되었다. 또한 독약인 비상을 묻힌 곶감을 가지고 있다가 들켰으며, 나무패의 말뚝을 박는 등의 주술행위를 저질렀다.\n",
      "0.7520109415054321 와라지(일본어: 草鞋)는 일본의 전통 짚신이다. 조리와 혼동되기 쉽지만 모양이 약간 다르다. 와라지는 발목을 둘러 묶는 형태이기 때문에 조리보다 발에 밀착되어, 산행이나 장거리 보행에 알맞아 예전에는 여행의 필수품이었다. 전통적으로, 발가락이 약간 튀어나오게 신는다. 현재는 대체로 승려들이 신는다. 와라지와 비슷한 형태의 백제시대 짚신이 1995년 부여군 궁남지에서 발견되었다.\n",
      "0.7514792680740356 적어도 말레이 반도 주변의 인도네시아 지방을 보면 향신료나 독특한 특질은 인도의 영향을 받았다고 할 수 있다. 이러한 영향은 중동, 중국을 포함하여 최종적으로는 유럽까지 간다. 스페인과 포르투갈의 교역자들이 신세계의 향신료를 유럽에 가져가는 일을 하였으며 때문에 말루쿠 섬은 \"향신료의 섬\"이라는 별칭을 얻었다.\n",
      "0.7502756714820862 우편물에는 반송 주소가 필수적이진 않다. 그러나 반송 주소가 없으면 우편 서비스가 배송 불가로 판명될 경우(예: 파손, 우편 요금 납부, 도착지 미비 등) 반송할 수 없다. 그렇다면 배달 불가 우편이 된다.\n",
      "0.7501845955848694 자기주식(自己株式)이란 특정 기업이 자신의 주식을 취득하는 것을 뜻하며, 보통 공개 시장에 있는 유통 주식의 양을 조절하기 위한 목적으로 이용된다. 또한 주주로부터 자사주를 취득하는 자사주재매입 또한 효율적인 세무를 위한 자기주식의 한 방법으로 인식되며, 주로 배당금을 기업에 유리한 방향으로 사용하기 위해 이용된다.\n",
      "0.7492918968200684 파스란 의약품의 일종으로 약물 성분을 환부나 피부에 바로 접하게 하여 흡수시키는 원리이다. 약품이나 약물을 환부나 피부에 접하게 한 뒤 옷감이나 헝겊 그밖의 다른 것으로 감싼 뒤 묶던 방법에서 유래되었을 것으로 추정되지만 정확한 유래는 알 수 없다.\n",
      "0.7488709092140198 기면증은 일상 생활 중 발작적으로 졸음에 빠져드는 신경계 질환이자 수면장애이다. 최근 원인이 일부 밝혀져서 기면병이라고도 한다.\n",
      "0.7488447427749634 근로기준법에서 말하는 근로자는 근로관계를 전제하고 있는 것이므로 현실적으로 타인에 의하여 결정되는 근로를 제공하지 않는 자는 근로자라 할 수 없다. 왜냐하면 근로관계가 없는 근로자는 근로기준법의 적용대상이 될 수 없기 때문이다.\n",
      "0.747974693775177 종점은 비색 적정법에서 표시기가 색상을 변경하는 지점을 가리킨다. 종점은 당량점과 관련이 있지만 당량점과 동일하지는 않다.\n",
      "0.7475435733795166 딸아이가 없어졌다는걸 알게된 덕수의 아버지 진규는 덕수에게 장남답게 가족들 잘 챙기라는 말을 남겼고 만약 흩어지게 되면 부산에 있는 '꽃분이네'라는 가게에서 만나기로 하고 없어진 딸아이를 찾기위해 다시 밑으로 내려갔다. 순간, 멈춰있던 배는 출발해 버렸고 덕수는 아버지와 여동생과 생이별을 하게된다. \n",
      "0.7470870614051819 하오리(일본어: 羽織)는 나가기 위에 입는 골반이나 넓적다리까지 내려오는 일본의 전통 겉옷이다. 하오리는 유카타처럼 깃을 여미지 않으며, 깃이 열린 상태로 입거나 끈으로 깃을 연결하여 입는다. 남성과 여성 모두 입을 수 있으나, 여성은 정장으로 입을 수 없다.\n"
     ]
    }
   ],
   "source": [
    "from sentence_transformers import util\n",
    "query_emb = model.encode(query)\n",
    "print(query)\n",
    "\n",
    "#쿼리와 모든 문서 임베딩 사이의 도트 점수를 계산합니다.\n",
    "scores = util.dot_score(query_emb, doc_ko_emb)[0].cpu().tolist()\n",
    "\n",
    "#문서와 점수 결합\n",
    "doc_score_pairs = list(zip(docs_ko, scores))\n",
    "\n",
    "#점수에 따른 내림차순 정렬\n",
    "doc_score_pairs = sorted(doc_score_pairs, key=lambda x: x[1], reverse=True)\n",
    "\n",
    "#구절 및 점수 출력\n",
    "for doc, score in doc_score_pairs[:30]:\n",
    "    print(score, doc)"
   ]
  },
  {
   "cell_type": "code",
   "execution_count": 203,
   "id": "1632c2bb-7f17-4a77-bba7-b1ffddbde231",
   "metadata": {},
   "outputs": [],
   "source": [
    "logger.setLevel(logging.CRITICAL)  # 일부 로그만 출력\n",
    "\n",
    "def eval_ranking_4_open_source(query, cross_encoder_1, cross_encoder_2, cross_encoder_3, cross_encoder_4, top_k=3):\n",
    "    query_emb = model.encode(query)\n",
    "\n",
    "    #쿼리와 모든 문서 임베딩 사이의 도트 점수를 계산합니다.\n",
    "    scores = util.dot_score(query_emb, doc_ko_emb)[0].cpu().tolist()\n",
    "\n",
    "    #문서와 점수 결합\n",
    "    doc_score_pairs = list(zip(docs_ko, scores))\n",
    "\n",
    "    #점수에 따른 내림차순 정렬\n",
    "    doc_score_pairs = sorted(doc_score_pairs, key=lambda x: x[1], reverse=True)[:top_k]\n",
    "\n",
    "    retrieved_hash = my_hash(doc_score_pairs[0][0])\n",
    "    sentence_combinations = [[query, doc_score_pair[0]] for doc_score_pair in doc_score_pairs]\n",
    "\n",
    "    similarity_scores_1 = cross_encoder_1.predict(sentence_combinations)\n",
    "    sim_scores_argsort_1 = list(reversed(np.argsort(similarity_scores_1)))\n",
    "    reranked_hash_1 = my_hash(doc_score_pairs[sim_scores_argsort_1[0]][0])\n",
    "\n",
    "    similarity_scores_2 = cross_encoder_2.predict(sentence_combinations)\n",
    "    sim_scores_argsort_2 = list(reversed(np.argsort(similarity_scores_2)))\n",
    "    reranked_hash_2 = my_hash(doc_score_pairs[sim_scores_argsort_2[0]][0])\n",
    "\n",
    "    similarity_scores_3 = cross_encoder_3.predict(sentence_combinations)\n",
    "    sim_scores_argsort_3 = list(reversed(np.argsort(similarity_scores_3)))\n",
    "    reranked_hash_3 = my_hash(doc_score_pairs[sim_scores_argsort_3[0]][0])\n",
    "\n",
    "    similarity_scores_4 = cross_encoder_4.predict(sentence_combinations)\n",
    "    sim_scores_argsort_4 = list(reversed(np.argsort(similarity_scores_4)))\n",
    "    reranked_hash_4 = my_hash(doc_score_pairs[sim_scores_argsort_4[0]][0])\n",
    "\n",
    "    return retrieved_hash, reranked_hash_1, reranked_hash_2, reranked_hash_3, reranked_hash_4\n"
   ]
  },
  {
   "cell_type": "code",
   "execution_count": null,
   "id": "88936c83-270a-4c3a-9ff2-1e2d6113d23d",
   "metadata": {
    "scrolled": true
   },
   "outputs": [
    {
     "name": "stderr",
     "output_type": "stream",
     "text": [
      "  1%|▋                                                                       | 51/5769 [02:18<3:17:13,  2.07s/it]"
     ]
    },
    {
     "name": "stdout",
     "output_type": "stream",
     "text": [
      "Step 50\n",
      "Accuracy without re-ranking                            : 0.04\n",
      "Accuracy with re-ranking(mmarco-mMiniLMv2-L12-H384-v1) : 0.1\n",
      "Accuracy with re-ranking(klue-cross-encoder-v1)        : 0.1\n",
      "Accuracy with re-ranking(ms-marco-MiniLM-L-12-v2)      : 0.08\n",
      "Accuracy with re-ranking(ms-marco-MiniLM-L-12-v2 tuning): 0.06\n"
     ]
    },
    {
     "name": "stderr",
     "output_type": "stream",
     "text": [
      "  2%|█▏                                                                     | 101/5769 [03:27<1:25:25,  1.11it/s]"
     ]
    },
    {
     "name": "stdout",
     "output_type": "stream",
     "text": [
      "Step 100\n",
      "Accuracy without re-ranking                            : 0.05\n",
      "Accuracy with re-ranking(mmarco-mMiniLMv2-L12-H384-v1) : 0.1\n",
      "Accuracy with re-ranking(klue-cross-encoder-v1)        : 0.1\n",
      "Accuracy with re-ranking(ms-marco-MiniLM-L-12-v2)      : 0.08\n",
      "Accuracy with re-ranking(ms-marco-MiniLM-L-12-v2 tuning): 0.05\n"
     ]
    },
    {
     "name": "stderr",
     "output_type": "stream",
     "text": [
      "  3%|█▉                                                                       | 150/5769 [03:46<25:06,  3.73it/s]"
     ]
    },
    {
     "name": "stdout",
     "output_type": "stream",
     "text": [
      "Step 150\n",
      "Accuracy without re-ranking                            : 0.06\n",
      "Accuracy with re-ranking(mmarco-mMiniLMv2-L12-H384-v1) : 0.1\n",
      "Accuracy with re-ranking(klue-cross-encoder-v1)        : 0.1\n",
      "Accuracy with re-ranking(ms-marco-MiniLM-L-12-v2)      : 0.08666666666666667\n",
      "Accuracy with re-ranking(ms-marco-MiniLM-L-12-v2 tuning): 0.05333333333333334\n"
     ]
    },
    {
     "name": "stderr",
     "output_type": "stream",
     "text": [
      "  3%|██▌                                                                      | 201/5769 [04:08<11:58,  7.75it/s]"
     ]
    },
    {
     "name": "stdout",
     "output_type": "stream",
     "text": [
      "Step 200\n",
      "Accuracy without re-ranking                            : 0.05\n",
      "Accuracy with re-ranking(mmarco-mMiniLMv2-L12-H384-v1) : 0.08\n",
      "Accuracy with re-ranking(klue-cross-encoder-v1)        : 0.08\n",
      "Accuracy with re-ranking(ms-marco-MiniLM-L-12-v2)      : 0.065\n",
      "Accuracy with re-ranking(ms-marco-MiniLM-L-12-v2 tuning): 0.04\n"
     ]
    },
    {
     "name": "stderr",
     "output_type": "stream",
     "text": [
      "  4%|███▏                                                                     | 251/5769 [04:27<12:09,  7.56it/s]"
     ]
    },
    {
     "name": "stdout",
     "output_type": "stream",
     "text": [
      "Step 250\n",
      "Accuracy without re-ranking                            : 0.052\n",
      "Accuracy with re-ranking(mmarco-mMiniLMv2-L12-H384-v1) : 0.084\n",
      "Accuracy with re-ranking(klue-cross-encoder-v1)        : 0.084\n",
      "Accuracy with re-ranking(ms-marco-MiniLM-L-12-v2)      : 0.064\n",
      "Accuracy with re-ranking(ms-marco-MiniLM-L-12-v2 tuning): 0.048\n"
     ]
    },
    {
     "name": "stderr",
     "output_type": "stream",
     "text": [
      "  5%|███▊                                                                     | 301/5769 [04:44<15:38,  5.83it/s]"
     ]
    },
    {
     "name": "stdout",
     "output_type": "stream",
     "text": [
      "Step 300\n",
      "Accuracy without re-ranking                            : 0.05333333333333334\n",
      "Accuracy with re-ranking(mmarco-mMiniLMv2-L12-H384-v1) : 0.09666666666666666\n",
      "Accuracy with re-ranking(klue-cross-encoder-v1)        : 0.09666666666666666\n",
      "Accuracy with re-ranking(ms-marco-MiniLM-L-12-v2)      : 0.07\n",
      "Accuracy with re-ranking(ms-marco-MiniLM-L-12-v2 tuning): 0.05\n"
     ]
    },
    {
     "name": "stderr",
     "output_type": "stream",
     "text": [
      "  6%|████▍                                                                    | 351/5769 [04:56<10:03,  8.97it/s]"
     ]
    },
    {
     "name": "stdout",
     "output_type": "stream",
     "text": [
      "Step 350\n",
      "Accuracy without re-ranking                            : 0.054285714285714284\n",
      "Accuracy with re-ranking(mmarco-mMiniLMv2-L12-H384-v1) : 0.1\n",
      "Accuracy with re-ranking(klue-cross-encoder-v1)        : 0.1\n",
      "Accuracy with re-ranking(ms-marco-MiniLM-L-12-v2)      : 0.06857142857142857\n",
      "Accuracy with re-ranking(ms-marco-MiniLM-L-12-v2 tuning): 0.05142857142857143\n"
     ]
    },
    {
     "name": "stderr",
     "output_type": "stream",
     "text": [
      "  7%|█████                                                                    | 399/5769 [05:07<09:16,  9.65it/s]"
     ]
    },
    {
     "name": "stdout",
     "output_type": "stream",
     "text": [
      "Step 400\n",
      "Accuracy without re-ranking                            : 0.0525\n",
      "Accuracy with re-ranking(mmarco-mMiniLMv2-L12-H384-v1) : 0.095\n",
      "Accuracy with re-ranking(klue-cross-encoder-v1)        : 0.095\n",
      "Accuracy with re-ranking(ms-marco-MiniLM-L-12-v2)      : 0.065\n",
      "Accuracy with re-ranking(ms-marco-MiniLM-L-12-v2 tuning): 0.05\n"
     ]
    },
    {
     "name": "stderr",
     "output_type": "stream",
     "text": [
      "  8%|█████▋                                                                   | 450/5769 [05:16<09:35,  9.23it/s]"
     ]
    },
    {
     "name": "stdout",
     "output_type": "stream",
     "text": [
      "Step 450\n",
      "Accuracy without re-ranking                            : 0.05333333333333334\n",
      "Accuracy with re-ranking(mmarco-mMiniLMv2-L12-H384-v1) : 0.09111111111111111\n",
      "Accuracy with re-ranking(klue-cross-encoder-v1)        : 0.09111111111111111\n",
      "Accuracy with re-ranking(ms-marco-MiniLM-L-12-v2)      : 0.06444444444444444\n",
      "Accuracy with re-ranking(ms-marco-MiniLM-L-12-v2 tuning): 0.04888888888888889\n"
     ]
    },
    {
     "name": "stderr",
     "output_type": "stream",
     "text": [
      "  9%|██████▎                                                                  | 501/5769 [05:34<14:26,  6.08it/s]"
     ]
    },
    {
     "name": "stdout",
     "output_type": "stream",
     "text": [
      "Step 500\n",
      "Accuracy without re-ranking                            : 0.054\n",
      "Accuracy with re-ranking(mmarco-mMiniLMv2-L12-H384-v1) : 0.088\n",
      "Accuracy with re-ranking(klue-cross-encoder-v1)        : 0.088\n",
      "Accuracy with re-ranking(ms-marco-MiniLM-L-12-v2)      : 0.062\n",
      "Accuracy with re-ranking(ms-marco-MiniLM-L-12-v2 tuning): 0.048\n"
     ]
    },
    {
     "name": "stderr",
     "output_type": "stream",
     "text": [
      " 10%|██████▉                                                                  | 551/5769 [05:52<19:27,  4.47it/s]"
     ]
    },
    {
     "name": "stdout",
     "output_type": "stream",
     "text": [
      "Step 550\n",
      "Accuracy without re-ranking                            : 0.05090909090909091\n",
      "Accuracy with re-ranking(mmarco-mMiniLMv2-L12-H384-v1) : 0.0890909090909091\n",
      "Accuracy with re-ranking(klue-cross-encoder-v1)        : 0.08727272727272728\n",
      "Accuracy with re-ranking(ms-marco-MiniLM-L-12-v2)      : 0.06\n",
      "Accuracy with re-ranking(ms-marco-MiniLM-L-12-v2 tuning): 0.04727272727272727\n"
     ]
    },
    {
     "name": "stderr",
     "output_type": "stream",
     "text": [
      " 10%|███████▌                                                                 | 601/5769 [06:04<12:17,  7.01it/s]"
     ]
    },
    {
     "name": "stdout",
     "output_type": "stream",
     "text": [
      "Step 600\n",
      "Accuracy without re-ranking                            : 0.05\n",
      "Accuracy with re-ranking(mmarco-mMiniLMv2-L12-H384-v1) : 0.08833333333333333\n",
      "Accuracy with re-ranking(klue-cross-encoder-v1)        : 0.08666666666666667\n",
      "Accuracy with re-ranking(ms-marco-MiniLM-L-12-v2)      : 0.06166666666666667\n",
      "Accuracy with re-ranking(ms-marco-MiniLM-L-12-v2 tuning): 0.05\n"
     ]
    },
    {
     "name": "stderr",
     "output_type": "stream",
     "text": [
      " 11%|████████▏                                                                | 651/5769 [06:18<12:05,  7.06it/s]"
     ]
    },
    {
     "name": "stdout",
     "output_type": "stream",
     "text": [
      "Step 650\n",
      "Accuracy without re-ranking                            : 0.047692307692307694\n",
      "Accuracy with re-ranking(mmarco-mMiniLMv2-L12-H384-v1) : 0.08307692307692308\n",
      "Accuracy with re-ranking(klue-cross-encoder-v1)        : 0.08153846153846153\n",
      "Accuracy with re-ranking(ms-marco-MiniLM-L-12-v2)      : 0.05692307692307692\n",
      "Accuracy with re-ranking(ms-marco-MiniLM-L-12-v2 tuning): 0.046153846153846156\n"
     ]
    },
    {
     "name": "stderr",
     "output_type": "stream",
     "text": [
      " 12%|████████▊                                                                | 701/5769 [06:29<20:33,  4.11it/s]"
     ]
    },
    {
     "name": "stdout",
     "output_type": "stream",
     "text": [
      "Step 700\n",
      "Accuracy without re-ranking                            : 0.04857142857142857\n",
      "Accuracy with re-ranking(mmarco-mMiniLMv2-L12-H384-v1) : 0.08285714285714285\n",
      "Accuracy with re-ranking(klue-cross-encoder-v1)        : 0.08142857142857143\n",
      "Accuracy with re-ranking(ms-marco-MiniLM-L-12-v2)      : 0.055714285714285716\n",
      "Accuracy with re-ranking(ms-marco-MiniLM-L-12-v2 tuning): 0.047142857142857146\n"
     ]
    },
    {
     "name": "stderr",
     "output_type": "stream",
     "text": [
      " 13%|█████████▍                                                               | 750/5769 [06:38<10:33,  7.92it/s]"
     ]
    },
    {
     "name": "stdout",
     "output_type": "stream",
     "text": [
      "Step 750\n",
      "Accuracy without re-ranking                            : 0.048\n",
      "Accuracy with re-ranking(mmarco-mMiniLMv2-L12-H384-v1) : 0.084\n",
      "Accuracy with re-ranking(klue-cross-encoder-v1)        : 0.08266666666666667\n",
      "Accuracy with re-ranking(ms-marco-MiniLM-L-12-v2)      : 0.05466666666666667\n",
      "Accuracy with re-ranking(ms-marco-MiniLM-L-12-v2 tuning): 0.04666666666666667\n"
     ]
    },
    {
     "name": "stderr",
     "output_type": "stream",
     "text": [
      " 14%|██████████▏                                                              | 801/5769 [06:49<09:57,  8.32it/s]"
     ]
    },
    {
     "name": "stdout",
     "output_type": "stream",
     "text": [
      "Step 800\n",
      "Accuracy without re-ranking                            : 0.0475\n",
      "Accuracy with re-ranking(mmarco-mMiniLMv2-L12-H384-v1) : 0.08375\n",
      "Accuracy with re-ranking(klue-cross-encoder-v1)        : 0.0825\n",
      "Accuracy with re-ranking(ms-marco-MiniLM-L-12-v2)      : 0.055\n",
      "Accuracy with re-ranking(ms-marco-MiniLM-L-12-v2 tuning): 0.04625\n"
     ]
    },
    {
     "name": "stderr",
     "output_type": "stream",
     "text": [
      " 15%|██████████▊                                                              | 851/5769 [06:55<09:33,  8.58it/s]"
     ]
    },
    {
     "name": "stdout",
     "output_type": "stream",
     "text": [
      "Step 850\n",
      "Accuracy without re-ranking                            : 0.04941176470588235\n",
      "Accuracy with re-ranking(mmarco-mMiniLMv2-L12-H384-v1) : 0.08470588235294117\n",
      "Accuracy with re-ranking(klue-cross-encoder-v1)        : 0.08352941176470588\n",
      "Accuracy with re-ranking(ms-marco-MiniLM-L-12-v2)      : 0.05764705882352941\n",
      "Accuracy with re-ranking(ms-marco-MiniLM-L-12-v2 tuning): 0.04941176470588235\n"
     ]
    },
    {
     "name": "stderr",
     "output_type": "stream",
     "text": [
      " 16%|███████████▍                                                             | 901/5769 [07:01<08:31,  9.51it/s]"
     ]
    },
    {
     "name": "stdout",
     "output_type": "stream",
     "text": [
      "Step 900\n",
      "Accuracy without re-ranking                            : 0.04888888888888889\n",
      "Accuracy with re-ranking(mmarco-mMiniLMv2-L12-H384-v1) : 0.08444444444444445\n",
      "Accuracy with re-ranking(klue-cross-encoder-v1)        : 0.08333333333333333\n",
      "Accuracy with re-ranking(ms-marco-MiniLM-L-12-v2)      : 0.058888888888888886\n",
      "Accuracy with re-ranking(ms-marco-MiniLM-L-12-v2 tuning): 0.05\n"
     ]
    },
    {
     "name": "stderr",
     "output_type": "stream",
     "text": [
      " 16%|████████████                                                             | 951/5769 [07:12<13:50,  5.80it/s]"
     ]
    },
    {
     "name": "stdout",
     "output_type": "stream",
     "text": [
      "Step 950\n",
      "Accuracy without re-ranking                            : 0.049473684210526316\n",
      "Accuracy with re-ranking(mmarco-mMiniLMv2-L12-H384-v1) : 0.08526315789473685\n",
      "Accuracy with re-ranking(klue-cross-encoder-v1)        : 0.08421052631578947\n",
      "Accuracy with re-ranking(ms-marco-MiniLM-L-12-v2)      : 0.06\n",
      "Accuracy with re-ranking(ms-marco-MiniLM-L-12-v2 tuning): 0.05157894736842105\n"
     ]
    },
    {
     "name": "stderr",
     "output_type": "stream",
     "text": [
      " 17%|████████████▍                                                           | 1001/5769 [07:19<10:04,  7.89it/s]"
     ]
    },
    {
     "name": "stdout",
     "output_type": "stream",
     "text": [
      "Step 1000\n",
      "Accuracy without re-ranking                            : 0.051\n",
      "Accuracy with re-ranking(mmarco-mMiniLMv2-L12-H384-v1) : 0.085\n",
      "Accuracy with re-ranking(klue-cross-encoder-v1)        : 0.084\n",
      "Accuracy with re-ranking(ms-marco-MiniLM-L-12-v2)      : 0.06\n",
      "Accuracy with re-ranking(ms-marco-MiniLM-L-12-v2 tuning): 0.051\n"
     ]
    },
    {
     "name": "stderr",
     "output_type": "stream",
     "text": [
      " 18%|█████████████                                                           | 1051/5769 [07:25<12:32,  6.27it/s]"
     ]
    },
    {
     "name": "stdout",
     "output_type": "stream",
     "text": [
      "Step 1050\n",
      "Accuracy without re-ranking                            : 0.04857142857142857\n",
      "Accuracy with re-ranking(mmarco-mMiniLMv2-L12-H384-v1) : 0.08095238095238096\n",
      "Accuracy with re-ranking(klue-cross-encoder-v1)        : 0.08\n",
      "Accuracy with re-ranking(ms-marco-MiniLM-L-12-v2)      : 0.05714285714285714\n",
      "Accuracy with re-ranking(ms-marco-MiniLM-L-12-v2 tuning): 0.04857142857142857\n"
     ]
    },
    {
     "name": "stderr",
     "output_type": "stream",
     "text": [
      " 19%|█████████████▋                                                          | 1101/5769 [07:36<08:46,  8.86it/s]"
     ]
    },
    {
     "name": "stdout",
     "output_type": "stream",
     "text": [
      "Step 1100\n",
      "Accuracy without re-ranking                            : 0.05\n",
      "Accuracy with re-ranking(mmarco-mMiniLMv2-L12-H384-v1) : 0.08181818181818182\n",
      "Accuracy with re-ranking(klue-cross-encoder-v1)        : 0.0809090909090909\n",
      "Accuracy with re-ranking(ms-marco-MiniLM-L-12-v2)      : 0.05909090909090909\n",
      "Accuracy with re-ranking(ms-marco-MiniLM-L-12-v2 tuning): 0.05090909090909091\n"
     ]
    },
    {
     "name": "stderr",
     "output_type": "stream",
     "text": [
      " 20%|██████████████▎                                                         | 1151/5769 [07:42<08:08,  9.46it/s]"
     ]
    },
    {
     "name": "stdout",
     "output_type": "stream",
     "text": [
      "Step 1150\n",
      "Accuracy without re-ranking                            : 0.04869565217391304\n",
      "Accuracy with re-ranking(mmarco-mMiniLMv2-L12-H384-v1) : 0.0808695652173913\n",
      "Accuracy with re-ranking(klue-cross-encoder-v1)        : 0.08\n",
      "Accuracy with re-ranking(ms-marco-MiniLM-L-12-v2)      : 0.057391304347826085\n",
      "Accuracy with re-ranking(ms-marco-MiniLM-L-12-v2 tuning): 0.04869565217391304\n"
     ]
    },
    {
     "name": "stderr",
     "output_type": "stream",
     "text": [
      " 21%|██████████████▉                                                         | 1201/5769 [07:54<08:49,  8.63it/s]"
     ]
    },
    {
     "name": "stdout",
     "output_type": "stream",
     "text": [
      "Step 1200\n",
      "Accuracy without re-ranking                            : 0.04833333333333333\n",
      "Accuracy with re-ranking(mmarco-mMiniLMv2-L12-H384-v1) : 0.08083333333333333\n",
      "Accuracy with re-ranking(klue-cross-encoder-v1)        : 0.08\n",
      "Accuracy with re-ranking(ms-marco-MiniLM-L-12-v2)      : 0.056666666666666664\n",
      "Accuracy with re-ranking(ms-marco-MiniLM-L-12-v2 tuning): 0.049166666666666664\n"
     ]
    },
    {
     "name": "stderr",
     "output_type": "stream",
     "text": [
      " 22%|███████████████▌                                                        | 1250/5769 [08:16<57:14,  1.32it/s]"
     ]
    },
    {
     "name": "stdout",
     "output_type": "stream",
     "text": [
      "Step 1250\n",
      "Accuracy without re-ranking                            : 0.0472\n",
      "Accuracy with re-ranking(mmarco-mMiniLMv2-L12-H384-v1) : 0.0808\n",
      "Accuracy with re-ranking(klue-cross-encoder-v1)        : 0.08\n",
      "Accuracy with re-ranking(ms-marco-MiniLM-L-12-v2)      : 0.0568\n",
      "Accuracy with re-ranking(ms-marco-MiniLM-L-12-v2 tuning): 0.0504\n"
     ]
    },
    {
     "name": "stderr",
     "output_type": "stream",
     "text": [
      " 23%|████████████████▏                                                       | 1301/5769 [08:24<11:22,  6.55it/s]"
     ]
    },
    {
     "name": "stdout",
     "output_type": "stream",
     "text": [
      "Step 1300\n",
      "Accuracy without re-ranking                            : 0.047692307692307694\n",
      "Accuracy with re-ranking(mmarco-mMiniLMv2-L12-H384-v1) : 0.08\n",
      "Accuracy with re-ranking(klue-cross-encoder-v1)        : 0.07923076923076923\n",
      "Accuracy with re-ranking(ms-marco-MiniLM-L-12-v2)      : 0.05615384615384615\n",
      "Accuracy with re-ranking(ms-marco-MiniLM-L-12-v2 tuning): 0.05\n"
     ]
    },
    {
     "name": "stderr",
     "output_type": "stream",
     "text": [
      " 23%|████████████████▊                                                       | 1351/5769 [08:33<16:20,  4.51it/s]"
     ]
    },
    {
     "name": "stdout",
     "output_type": "stream",
     "text": [
      "Step 1350\n",
      "Accuracy without re-ranking                            : 0.047407407407407405\n",
      "Accuracy with re-ranking(mmarco-mMiniLMv2-L12-H384-v1) : 0.07925925925925927\n",
      "Accuracy with re-ranking(klue-cross-encoder-v1)        : 0.07851851851851852\n",
      "Accuracy with re-ranking(ms-marco-MiniLM-L-12-v2)      : 0.056296296296296296\n",
      "Accuracy with re-ranking(ms-marco-MiniLM-L-12-v2 tuning): 0.05037037037037037\n"
     ]
    },
    {
     "name": "stderr",
     "output_type": "stream",
     "text": [
      " 24%|█████████████████▏                                                      | 1375/5769 [08:37<16:29,  4.44it/s]"
     ]
    }
   ],
   "source": [
    "logger.setLevel(logging.CRITICAL)\n",
    "\n",
    "i = 0\n",
    "print_every = 50\n",
    "predictions = []\n",
    "for question in tqdm(val_sample['question']):\n",
    "    retrieved_hash, reranked_hash_1, reranked_hash_2, reranked_hash_3, reranked_hash_4 = eval_ranking_4_open_source(question, cross_encoder_1, cross_encoder_2, cross_encoder_3, cross_encoder_4, top_k=3)\n",
    "    correct_hash = q_to_hash[question]\n",
    "    predictions.append((retrieved_hash == correct_hash, reranked_hash_1 == correct_hash, reranked_hash_2 == correct_hash, reranked_hash_3 == correct_hash, reranked_hash_4 == correct_hash))\n",
    "    i += 1\n",
    "    if i % print_every == 0:\n",
    "        print(f'Step {i}')\n",
    "        raw_accuracy = sum([p[0] for p in predictions])/len(predictions)\n",
    "        reranked_accuracy_1 = sum([p[1] for p in predictions])/len(predictions)\n",
    "        reranked_accuracy_2 = sum([p[2] for p in predictions])/len(predictions)\n",
    "        reranked_accuracy_3 = sum([p[3] for p in predictions])/len(predictions)\n",
    "        reranked_accuracy_4 = sum([p[4] for p in predictions])/len(predictions)\n",
    "\n",
    "        print(f'Accuracy without re-ranking                            : {raw_accuracy}')\n",
    "        print(f'Accuracy with re-ranking(mmarco-mMiniLMv2-L12-H384-v1) : {reranked_accuracy_1}')\n",
    "        print(f'Accuracy with re-ranking(klue-cross-encoder-v1)        : {reranked_accuracy_2}')\n",
    "        print(f'Accuracy with re-ranking(ms-marco-MiniLM-L-12-v2)      : {reranked_accuracy_3}')\n",
    "        print(f'Accuracy with re-ranking(ms-marco-MiniLM-L-12-v2 tuning): {reranked_accuracy_4}')\n"
   ]
  },
  {
   "cell_type": "code",
   "execution_count": null,
   "id": "fdc02d7e-bca2-43dc-ad46-8e0b8d32bfb9",
   "metadata": {},
   "outputs": [],
   "source": [
    "raw_accuracy = sum([p[0] for p in predictions])/len(predictions)\n",
    "reranked_accuracy_1 = sum([p[1] for p in predictions])/len(predictions)\n",
    "reranked_accuracy_2 = sum([p[2] for p in predictions])/len(predictions)\n",
    "reranked_accuracy_3 = sum([p[3] for p in predictions])/len(predictions)\n",
    "reranked_accuracy_4 = sum([p[4] for p in predictions])/len(predictions)\n",
    "\n",
    "print('Opensource embedding model(sentence-transformers/multi-qa-mpnet-base-cos-v1)')\n",
    "print(f'Accuracy without re-ranking                            : {raw_accuracy}')\n",
    "print(f'Accuracy with re-ranking(mmarco-mMiniLMv2-L12-H384-v1) : {reranked_accuracy_1}')\n",
    "print(f'Accuracy with re-ranking(klue-cross-encoder-v1)        : {reranked_accuracy_2}')\n",
    "print(f'Accuracy with re-ranking(ms-marco-MiniLM-L-12-v2)      : {reranked_accuracy_3}')\n",
    "print(f'Accuracy with re-ranking(ms-marco-MiniLM-L-12-v2 tuning): {reranked_accuracy_4}')"
   ]
  },
  {
   "cell_type": "markdown",
   "id": "906dac63-df8c-49f1-a41b-8f7e3103ea4d",
   "metadata": {},
   "source": [
    "## 5.6 오픈소스 임베딩 한국어 성능 (BAAI/bge-m3)"
   ]
  },
  {
   "cell_type": "code",
   "execution_count": null,
   "id": "ac5cc483-3e44-4d50-831a-cb9fadc4fb00",
   "metadata": {
    "scrolled": true
   },
   "outputs": [],
   "source": [
    "!pip install FlagEmbedding"
   ]
  },
  {
   "cell_type": "code",
   "execution_count": null,
   "id": "5909857f-6395-4153-a06e-793422d6d274",
   "metadata": {},
   "outputs": [],
   "source": [
    "from FlagEmbedding import BGEM3FlagModel\n",
    "model = BGEM3FlagModel('BAAI/bge-m3', use_fp16=True) # Setting use_fp16 to True speeds up computation with a slight performance degradation"
   ]
  },
  {
   "cell_type": "code",
   "execution_count": null,
   "id": "27df464b-2b50-494a-ac04-2c391496fbf8",
   "metadata": {},
   "outputs": [],
   "source": [
    "# 문서 임베딩\n",
    "docs_ko = combined_paragraphs['paragraph']\n",
    "# docs_ko = dataset_ko['validation']['paragraph']\n",
    "doc_ko_emb_m3 = model.encode(docs_ko, batch_size=32, max_length=8192)['dense_vecs']"
   ]
  },
  {
   "cell_type": "code",
   "execution_count": null,
   "id": "1f5bfc95-46fe-4e57-adc8-4df563c797ea",
   "metadata": {},
   "outputs": [],
   "source": [
    "from sentence_transformers import util\n",
    "query_emb = model.encode(query, batch_size=32, max_length=8192)['dense_vecs']\n",
    "print(query)\n",
    "\n",
    "#쿼리와 모든 문서 임베딩 사이의 도트 점수를 계산합니다.\n",
    "scores = util.dot_score(query_emb, doc_ko_emb_m3)[0].cpu().tolist()\n",
    "#문서와 점수 결합\n",
    "doc_score_pairs = list(zip(docs_ko, scores))\n",
    "\n",
    "#점수에 따른 내림차순 정렬\n",
    "doc_score_pairs = sorted(doc_score_pairs, key=lambda x: x[1], reverse=True)\n",
    "\n",
    "#구절 및 점수 출력\n",
    "for doc, score in doc_score_pairs[:3]:\n",
    "    print(score, doc)"
   ]
  },
  {
   "cell_type": "code",
   "execution_count": null,
   "id": "16ab2708-9fdf-400a-b74c-f5d562f086e3",
   "metadata": {},
   "outputs": [],
   "source": [
    "logger.setLevel(logging.CRITICAL)  # 일부 로그만 출력\n",
    "\n",
    "def eval_ranking_4_open_source_m3(query, cross_encoder_1, cross_encoder_2, cross_encoder_3, cross_encoder_4, top_k=3):\n",
    "    query_emb = model.encode(query, batch_size=32, max_length=8192)['dense_vecs']\n",
    "\n",
    "    #쿼리와 모든 문서 임베딩 사이의 도트 점수를 계산합니다.\n",
    "    scores = util.dot_score(query_emb, doc_ko_emb_m3)[0].cpu().tolist()\n",
    "\n",
    "    #문서와 점수 결합\n",
    "    doc_score_pairs = list(zip(docs_ko, scores))\n",
    "\n",
    "    #점수에 따른 내림차순 정렬\n",
    "    doc_score_pairs = sorted(doc_score_pairs, key=lambda x: x[1], reverse=True)[:top_k]\n",
    "\n",
    "    retrieved_hash = my_hash(doc_score_pairs[0][0])\n",
    "    sentence_combinations = [[query, doc_score_pair[0]] for doc_score_pair in doc_score_pairs]\n",
    "\n",
    "    similarity_scores_1 = cross_encoder_1.predict(sentence_combinations)\n",
    "    sim_scores_argsort_1 = list(reversed(np.argsort(similarity_scores_1)))\n",
    "    reranked_hash_1 = my_hash(doc_score_pairs[sim_scores_argsort_1[0]][0])\n",
    "\n",
    "    similarity_scores_2 = cross_encoder_2.predict(sentence_combinations)\n",
    "    sim_scores_argsort_2 = list(reversed(np.argsort(similarity_scores_2)))\n",
    "    reranked_hash_2 = my_hash(doc_score_pairs[sim_scores_argsort_2[0]][0])\n",
    "\n",
    "    similarity_scores_3 = cross_encoder_3.predict(sentence_combinations)\n",
    "    sim_scores_argsort_3 = list(reversed(np.argsort(similarity_scores_3)))\n",
    "    reranked_hash_3 = my_hash(doc_score_pairs[sim_scores_argsort_3[0]][0])\n",
    "\n",
    "    similarity_scores_4 = cross_encoder_4.predict(sentence_combinations)\n",
    "    sim_scores_argsort_4 = list(reversed(np.argsort(similarity_scores_4)))\n",
    "    reranked_hash_4 = my_hash(doc_score_pairs[sim_scores_argsort_4[0]][0])\n",
    "\n",
    "    return retrieved_hash, reranked_hash_1, reranked_hash_2, reranked_hash_3, reranked_hash_4\n"
   ]
  },
  {
   "cell_type": "code",
   "execution_count": null,
   "id": "632c762c-80e8-4857-888b-bf2585d84f5f",
   "metadata": {
    "scrolled": true
   },
   "outputs": [],
   "source": [
    "logger.setLevel(logging.CRITICAL)\n",
    "\n",
    "i = 0\n",
    "print_every = 50\n",
    "predictions = []\n",
    "for question in tqdm(val_sample['question']):\n",
    "    retrieved_hash, reranked_hash_1, reranked_hash_2, reranked_hash_3, reranked_hash_4 = eval_ranking_4_open_source_m3(question, cross_encoder_1, cross_encoder_2, cross_encoder_3, cross_encoder_4, top_k=3)\n",
    "    correct_hash = q_to_hash[question]\n",
    "    predictions.append((retrieved_hash == correct_hash, reranked_hash_1 == correct_hash, reranked_hash_2 == correct_hash, reranked_hash_3 == correct_hash, reranked_hash_4 == correct_hash))\n",
    "    i += 1\n",
    "    if i % print_every == 0:\n",
    "        print(f'Step {i}')\n",
    "        raw_accuracy = sum([p[0] for p in predictions])/len(predictions)\n",
    "        reranked_accuracy_1 = sum([p[1] for p in predictions])/len(predictions)\n",
    "        reranked_accuracy_2 = sum([p[2] for p in predictions])/len(predictions)\n",
    "        reranked_accuracy_3 = sum([p[3] for p in predictions])/len(predictions)\n",
    "        reranked_accuracy_4 = sum([p[4] for p in predictions])/len(predictions)\n",
    "\n",
    "        print(f'Accuracy without re-ranking                            : {raw_accuracy}')\n",
    "        print(f'Accuracy with re-ranking(mmarco-mMiniLMv2-L12-H384-v1) : {reranked_accuracy_1}')\n",
    "        print(f'Accuracy with re-ranking(klue-cross-encoder-v1)        : {reranked_accuracy_2}')\n",
    "        print(f'Accuracy with re-ranking(ms-marco-MiniLM-L-12-v2)      : {reranked_accuracy_3}')\n",
    "        print(f'Accuracy with re-ranking(ms-marco-MiniLM-L-12-v2 tuning): {reranked_accuracy_4}')\n"
   ]
  },
  {
   "cell_type": "code",
   "execution_count": null,
   "id": "14867fbc-be8c-4a1a-98ee-b6170712214b",
   "metadata": {
    "scrolled": true
   },
   "outputs": [],
   "source": [
    "raw_accuracy = sum([p[0] for p in predictions])/len(predictions)\n",
    "reranked_accuracy_1 = sum([p[1] for p in predictions])/len(predictions)\n",
    "reranked_accuracy_2 = sum([p[2] for p in predictions])/len(predictions)\n",
    "reranked_accuracy_3 = sum([p[3] for p in predictions])/len(predictions)\n",
    "reranked_accuracy_4 = sum([p[4] for p in predictions])/len(predictions)\n",
    "\n",
    "print('Opensource embedding model(BAAI/bge-m3)')\n",
    "print(f'Accuracy without re-ranking                            : {raw_accuracy}')\n",
    "print(f'Accuracy with re-ranking(mmarco-mMiniLMv2-L12-H384-v1) : {reranked_accuracy_1}')\n",
    "print(f'Accuracy with re-ranking(klue-cross-encoder-v1)        : {reranked_accuracy_2}')\n",
    "print(f'Accuracy with re-ranking(ms-marco-MiniLM-L-12-v2)      : {reranked_accuracy_3}')\n",
    "print(f'Accuracy with re-ranking(ms-marco-MiniLM-L-12-v2 tuning): {reranked_accuracy_4}')"
   ]
  },
  {
   "cell_type": "markdown",
   "id": "e688da67-351a-4a38-aaad-436b3960f206",
   "metadata": {},
   "source": [
    "## 5.7 오픈소스 임베딩 한국어 성능 (acge_text_embedding)"
   ]
  },
  {
   "cell_type": "code",
   "execution_count": null,
   "id": "4bf313af-1788-4ef2-aea9-cc376a2428ca",
   "metadata": {},
   "outputs": [],
   "source": [
    "from sentence_transformers import SentenceTransformer\n",
    "\n",
    "model = SentenceTransformer('aspire/acge_text_embedding')"
   ]
  },
  {
   "cell_type": "code",
   "execution_count": null,
   "id": "57b41fdb-273d-4461-9cc9-4474a0cca306",
   "metadata": {},
   "outputs": [],
   "source": [
    "validation_paragraphs = dataset_ko['validation'].remove_columns(['question', 'label'])\n",
    "train_paragraphs = dataset_ko['train'].remove_columns(['question', 'label'])\n",
    "test_paragraphs = dataset_ko['test'].remove_columns(['question', 'label'])\n",
    "combined_paragraphs = concatenate_datasets([validation_paragraphs, train_paragraphs, test_paragraphs])\n"
   ]
  },
  {
   "cell_type": "code",
   "execution_count": null,
   "id": "ae5b9f0e-158d-4afe-bbd8-ec09a6634ee5",
   "metadata": {},
   "outputs": [],
   "source": [
    "combined_paragraphs"
   ]
  },
  {
   "cell_type": "code",
   "execution_count": null,
   "id": "3aad297b-67e8-4454-8c70-6a37cf103ff6",
   "metadata": {},
   "outputs": [],
   "source": [
    "# 문서 임베딩\n",
    "# docs_ko = dataset_ko['validation']['paragraph']\n",
    "docs_ko = combined_paragraphs['paragraph']\n",
    "doc_ko_emb = model.encode(docs_ko, batch_size=32, normalize_embeddings=True, show_progress_bar=True)"
   ]
  },
  {
   "cell_type": "code",
   "execution_count": null,
   "id": "1b287e2d-d6c5-4b41-a3ed-695bdebafa90",
   "metadata": {},
   "outputs": [],
   "source": [
    "from sentence_transformers import util\n",
    "query_emb = model.encode(query)\n",
    "print(query)\n",
    "\n",
    "#쿼리와 모든 문서 임베딩 사이의 도트 점수를 계산합니다.\n",
    "scores = util.dot_score(query_emb, doc_ko_emb)[0].cpu().tolist()\n",
    "\n",
    "#문서와 점수 결합\n",
    "doc_score_pairs = list(zip(docs_ko, scores))\n",
    "\n",
    "#점수에 따른 내림차순 정렬\n",
    "doc_score_pairs = sorted(doc_score_pairs, key=lambda x: x[1], reverse=True)\n",
    "\n",
    "#구절 및 점수 출력\n",
    "for doc, score in doc_score_pairs[:30]:\n",
    "    print(score, doc)"
   ]
  },
  {
   "cell_type": "code",
   "execution_count": null,
   "id": "9f74a7d9-6a28-443c-a795-0eb3f71a2a44",
   "metadata": {
    "scrolled": true
   },
   "outputs": [],
   "source": [
    "logger.setLevel(logging.CRITICAL)\n",
    "\n",
    "i = 0\n",
    "print_every = 50\n",
    "predictions = []\n",
    "for question in tqdm(val_sample['question']):\n",
    "    retrieved_hash, reranked_hash_1, reranked_hash_2, reranked_hash_3, reranked_hash_4 = eval_ranking_4_open_source(question, cross_encoder_1, cross_encoder_2, cross_encoder_3, cross_encoder_4, top_k=3)\n",
    "    correct_hash = q_to_hash[question]\n",
    "    predictions.append((retrieved_hash == correct_hash, reranked_hash_1 == correct_hash, reranked_hash_2 == correct_hash, reranked_hash_3 == correct_hash, reranked_hash_4 == correct_hash))\n",
    "    i += 1\n",
    "    if i % print_every == 0:\n",
    "        print(f'Step {i}')\n",
    "        raw_accuracy = sum([p[0] for p in predictions])/len(predictions)\n",
    "        reranked_accuracy_1 = sum([p[1] for p in predictions])/len(predictions)\n",
    "        reranked_accuracy_2 = sum([p[2] for p in predictions])/len(predictions)\n",
    "        reranked_accuracy_3 = sum([p[3] for p in predictions])/len(predictions)\n",
    "        reranked_accuracy_4 = sum([p[4] for p in predictions])/len(predictions)\n",
    "\n",
    "        print(f'Accuracy without re-ranking                            : {raw_accuracy}')\n",
    "        print(f'Accuracy with re-ranking(mmarco-mMiniLMv2-L12-H384-v1) : {reranked_accuracy_1}')\n",
    "        print(f'Accuracy with re-ranking(klue-cross-encoder-v1)        : {reranked_accuracy_2}')\n",
    "        print(f'Accuracy with re-ranking(ms-marco-MiniLM-L-12-v2)      : {reranked_accuracy_3}')\n",
    "        print(f'Accuracy with re-ranking(ms-marco-MiniLM-L-12-v2 tuning): {reranked_accuracy_4}')\n"
   ]
  },
  {
   "cell_type": "code",
   "execution_count": null,
   "id": "f822c7a6-e9a6-4734-a80d-b436bab34227",
   "metadata": {
    "scrolled": true
   },
   "outputs": [],
   "source": [
    "raw_accuracy = sum([p[0] for p in predictions])/len(predictions)\n",
    "reranked_accuracy_1 = sum([p[1] for p in predictions])/len(predictions)\n",
    "reranked_accuracy_2 = sum([p[2] for p in predictions])/len(predictions)\n",
    "reranked_accuracy_3 = sum([p[3] for p in predictions])/len(predictions)\n",
    "reranked_accuracy_4 = sum([p[4] for p in predictions])/len(predictions)\n",
    "\n",
    "print('Opensource embedding model(aspire/acge_text_embedding)')\n",
    "print(f'Accuracy without re-ranking                            : {raw_accuracy}')\n",
    "print(f'Accuracy with re-ranking(mmarco-mMiniLMv2-L12-H384-v1) : {reranked_accuracy_1}')\n",
    "print(f'Accuracy with re-ranking(klue-cross-encoder-v1)        : {reranked_accuracy_2}')\n",
    "print(f'Accuracy with re-ranking(ms-marco-MiniLM-L-12-v2)      : {reranked_accuracy_3}')\n",
    "print(f'Accuracy with re-ranking(ms-marco-MiniLM-L-12-v2 tuning): {reranked_accuracy_4}')"
   ]
  },
  {
   "cell_type": "markdown",
   "id": "6994eca6-1114-41fc-bc61-fb476ccfb8a9",
   "metadata": {},
   "source": [
    "# 6. BoolQ를 이용한 영어 임베딩 성능 비교\n",
    "## 6.1 초기화"
   ]
  },
  {
   "cell_type": "code",
   "execution_count": null,
   "id": "e5109e31-0bc1-4f89-b21c-d00efd3a5afb",
   "metadata": {},
   "outputs": [],
   "source": [
    "from datasets import load_dataset\n",
    "from evaluate import load\n",
    "\n",
    "dataset = load_dataset(\"boolq\")"
   ]
  },
  {
   "cell_type": "code",
   "execution_count": null,
   "id": "36efa89d-d1f3-4491-b55b-7db1925205c4",
   "metadata": {},
   "outputs": [],
   "source": [
    "dataset"
   ]
  },
  {
   "cell_type": "code",
   "execution_count": null,
   "id": "1af6b41d-b73d-416d-b87d-dcd5bf5a6720",
   "metadata": {},
   "outputs": [],
   "source": [
    "from datasets import concatenate_datasets\n",
    "\n",
    "combined_dataset = concatenate_datasets([dataset['train'], dataset['validation']])"
   ]
  },
  {
   "cell_type": "code",
   "execution_count": null,
   "id": "e12949a7-0d8f-4831-b27e-27984a724b71",
   "metadata": {},
   "outputs": [],
   "source": [
    "len(combined_dataset)"
   ]
  },
  {
   "cell_type": "code",
   "execution_count": null,
   "id": "e2045aa3-00b8-4490-802d-1f20450608b6",
   "metadata": {},
   "outputs": [],
   "source": [
    "combined_dataset[0]"
   ]
  },
  {
   "cell_type": "code",
   "execution_count": null,
   "id": "cddd95b3-fdcf-431a-8e9d-656dfe83fc4f",
   "metadata": {},
   "outputs": [],
   "source": [
    "cross_encoder_1 = CrossEncoder('jeffwan/mmarco-mMiniLMv2-L12-H384-v1')\n",
    "cross_encoder_2 = CrossEncoder('bongsoo/klue-cross-encoder-v1')  # 한국어 지원 모델\n",
    "cross_encoder_3 = CrossEncoder('cross-encoder/ms-marco-MiniLM-L-12-v2')\n",
    "model_save_path = './fine_tuned_ir_cross_encoder_01'\n",
    "cross_encoder_4 = CrossEncoder(model_save_path)"
   ]
  },
  {
   "cell_type": "code",
   "execution_count": null,
   "id": "66d3ae6f-0835-4f5e-b441-52166c38cef5",
   "metadata": {},
   "outputs": [],
   "source": [
    "def eval_ranking_4(query, cross_encoder_1, cross_encoder_2, cross_encoder_3, cross_encoder_4, top_k=3):\n",
    "    results_from_pinecone = query_from_pinecone(query, top_k=top_k)\n",
    "    sentence_combinations = [[query, result_from_pinecone['metadata']['text']] for result_from_pinecone in results_from_pinecone]\n",
    "\n",
    "    similarity_scores_1 = cross_encoder_1.predict(sentence_combinations)\n",
    "    sim_scores_argsort_1 = list(reversed(np.argsort(similarity_scores_1)))\n",
    "    re_ranked_final_result_1 = results_from_pinecone[sim_scores_argsort_1[0]]\n",
    "    \n",
    "    similarity_scores_2 = cross_encoder_2.predict(sentence_combinations)\n",
    "    sim_scores_argsort_2 = list(reversed(np.argsort(similarity_scores_2)))\n",
    "    re_ranked_final_result_2 = results_from_pinecone[sim_scores_argsort_2[0]]\n",
    "    \n",
    "    similarity_scores_3 = cross_encoder_3.predict(sentence_combinations)\n",
    "    sim_scores_argsort_3 = list(reversed(np.argsort(similarity_scores_3)))\n",
    "    re_ranked_final_result_3 = results_from_pinecone[sim_scores_argsort_3[0]]\n",
    "    \n",
    "    similarity_scores_4 = cross_encoder_4.predict(sentence_combinations)\n",
    "    sim_scores_argsort_4 = list(reversed(np.argsort(similarity_scores_4)))\n",
    "    re_ranked_final_result_4 = results_from_pinecone[sim_scores_argsort_4[0]]\n",
    "    \n",
    "    return results_from_pinecone[0]['id'], re_ranked_final_result_1['id'], re_ranked_final_result_2['id'], re_ranked_final_result_3['id'], re_ranked_final_result_4['id']\n"
   ]
  },
  {
   "cell_type": "code",
   "execution_count": null,
   "id": "97bb9efe-7384-457b-8244-1bb566ab8851",
   "metadata": {},
   "outputs": [],
   "source": [
    "# val_sample = dataset['validation'][:700]\n",
    "# val_sample = dataset_ko['validation'][:]\n",
    "val_sample = combined_dataset[:]"
   ]
  },
  {
   "cell_type": "code",
   "execution_count": null,
   "id": "5b76966e-1f09-41b7-b4f5-8fb4c560d030",
   "metadata": {},
   "outputs": [],
   "source": [
    "len(val_sample)"
   ]
  },
  {
   "cell_type": "code",
   "execution_count": null,
   "id": "aa48e70b-8fd2-4e58-97f5-b504124b97a6",
   "metadata": {},
   "outputs": [],
   "source": [
    "from random import sample\n",
    "\n",
    "query = sample(dataset['validation']['question'], 1)[0]\n",
    "print(query)"
   ]
  },
  {
   "cell_type": "code",
   "execution_count": null,
   "id": "39e127eb-32ff-4ac9-944e-ab3101f0b999",
   "metadata": {},
   "outputs": [],
   "source": [
    "# q_to_hash = {data['question']: my_hash(data['passage']) for data in dataset['validation']}\n",
    "q_to_hash = {data['question']: my_hash(data['passage']) for data in combined_dataset}\n",
    "\n",
    "q_to_hash[query]"
   ]
  },
  {
   "cell_type": "markdown",
   "id": "f5c104a1-a916-470d-9c1f-e02c400dcd04",
   "metadata": {},
   "source": [
    "## 6.2 text-embedding-ada-002 영어 성능"
   ]
  },
  {
   "cell_type": "code",
   "execution_count": null,
   "id": "ae719fbd-49ed-4692-a050-0ab50506e9c5",
   "metadata": {},
   "outputs": [],
   "source": [
    "ENGINE = 'text-embedding-ada-002'\n",
    "# ENGINE_2 = 'text-embedding-ada-002'\n",
    "# ENGINE_3_S = 'text-embedding-3-small'  # OpenAI의 3세대 embedding 모델 (소형)\n",
    "# ENGINE_3_L = 'text-embedding-3-large'  # OpenAI의 3세대 embedding 모델 (대형)"
   ]
  },
  {
   "cell_type": "code",
   "execution_count": null,
   "id": "31fa1340-cf8b-4576-901e-aaf99e73c084",
   "metadata": {},
   "outputs": [],
   "source": [
    "pinecone.delete_index(INDEX_NAME)  # delete the index\n",
    "\n",
    "pinecone.create_index(\n",
    "    INDEX_NAME, # 인덱스 이름\n",
    "    dimension=1536, # 벡터의 치수, text-embedding-ada-002, text-embedding-3-small\n",
    "    # dimension=3072, # 벡터의 치수, text-embedding-3-large\n",
    "    \n",
    "    metric='cosine', # 인덱스를 검색할 때 사용할 유사성 메트릭\n",
    "    spec=PodSpec(\n",
    "      environment=\"gcp-starter\"\n",
    "    )\n",
    "    # pod_type=\"p1\" # 파인콘 파드의 유형\n",
    ")\n",
    "\n",
    "# 인덱스를 변수로 저장\n",
    "index = pinecone.Index(INDEX_NAME)"
   ]
  },
  {
   "cell_type": "code",
   "execution_count": null,
   "id": "956d876f-0c1b-46f6-876e-c867b0ac6688",
   "metadata": {},
   "outputs": [],
   "source": [
    "for idx in tqdm(range(0, len(dataset['train']), 128)):\n",
    "    data_sample = dataset['train'][idx:idx + 128]\n",
    "\n",
    "    passages = data_sample['passage']\n",
    "    upload_texts_to_pinecone(passages, engine=ENGINE)\n",
    "\n",
    "for idx in tqdm(range(0, len(dataset['validation']), 128)):\n",
    "    data_sample = dataset['validation'][idx:idx + 128]\n",
    "\n",
    "    passages = data_sample['passage']\n",
    "    upload_texts_to_pinecone(passages, engine=ENGINE)"
   ]
  },
  {
   "cell_type": "code",
   "execution_count": null,
   "id": "a6a56365-f268-4efc-bbab-48666dc3561c",
   "metadata": {
    "scrolled": true
   },
   "outputs": [],
   "source": [
    "i = 0\n",
    "print_every = 50\n",
    "predictions = []\n",
    "for question in tqdm(val_sample['question']):\n",
    "    retrieved_hash, reranked_hash_1, reranked_hash_2, reranked_hash_3, reranked_hash_4 = eval_ranking_4(question, cross_encoder_1, cross_encoder_2, cross_encoder_3, cross_encoder_4, top_k=3)\n",
    "    correct_hash = q_to_hash[question]\n",
    "    predictions.append((retrieved_hash == correct_hash, reranked_hash_1 == correct_hash, reranked_hash_2 == correct_hash, reranked_hash_3 == correct_hash, reranked_hash_4 == correct_hash))\n",
    "    i += 1\n",
    "    if i % print_every == 0:\n",
    "        print(f'Step {i}')\n",
    "        raw_accuracy = sum([p[0] for p in predictions])/len(predictions)\n",
    "        reranked_accuracy_1 = sum([p[1] for p in predictions])/len(predictions)\n",
    "        reranked_accuracy_2 = sum([p[2] for p in predictions])/len(predictions)\n",
    "        reranked_accuracy_3 = sum([p[3] for p in predictions])/len(predictions)\n",
    "        reranked_accuracy_4 = sum([p[4] for p in predictions])/len(predictions)\n",
    "\n",
    "        print(f'Accuracy without re-ranking                            : {raw_accuracy}')\n",
    "        print(f'Accuracy with re-ranking(mmarco-mMiniLMv2-L12-H384-v1) : {reranked_accuracy_1}')\n",
    "        print(f'Accuracy with re-ranking(klue-cross-encoder-v1)        : {reranked_accuracy_2}')\n",
    "        print(f'Accuracy with re-ranking(ms-marco-MiniLM-L-12-v2)      : {reranked_accuracy_3}')\n",
    "        print(f'Accuracy with re-ranking(ms-marco-MiniLM-L-12-v2 tuning): {reranked_accuracy_4}')\n"
   ]
  },
  {
   "cell_type": "code",
   "execution_count": null,
   "id": "f6bde3d1-330b-4579-b433-13cada1fd05e",
   "metadata": {},
   "outputs": [],
   "source": [
    "raw_accuracy = sum([p[0] for p in predictions])/len(predictions)\n",
    "reranked_accuracy_1 = sum([p[1] for p in predictions])/len(predictions)\n",
    "reranked_accuracy_2 = sum([p[2] for p in predictions])/len(predictions)\n",
    "reranked_accuracy_3 = sum([p[3] for p in predictions])/len(predictions)\n",
    "reranked_accuracy_4 = sum([p[4] for p in predictions])/len(predictions)\n",
    "\n",
    "print('text-embedding-ada-002')\n",
    "print(f'Accuracy without re-ranking                            : {raw_accuracy}')\n",
    "print(f'Accuracy with re-ranking(mmarco-mMiniLMv2-L12-H384-v1) : {reranked_accuracy_1}')\n",
    "print(f'Accuracy with re-ranking(klue-cross-encoder-v1)        : {reranked_accuracy_2}')\n",
    "print(f'Accuracy with re-ranking(ms-marco-MiniLM-L-12-v2)      : {reranked_accuracy_3}')\n",
    "print(f'Accuracy with re-ranking(ms-marco-MiniLM-L-12-v2 tuning): {reranked_accuracy_4}')"
   ]
  },
  {
   "cell_type": "markdown",
   "id": "40c8058e-79e0-4f71-894b-e6ee2248ffbc",
   "metadata": {},
   "source": [
    "## 6.3 text-embedding-3-small 영어 성능"
   ]
  },
  {
   "cell_type": "code",
   "execution_count": null,
   "id": "e08a4f0b-376e-4e5c-84b2-1505cebe7876",
   "metadata": {},
   "outputs": [],
   "source": [
    "ENGINE = 'text-embedding-3-small'\n",
    "# ENGINE_2 = 'text-embedding-ada-002'\n",
    "# ENGINE_3_S = 'text-embedding-3-small'  # OpenAI의 3세대 embedding 모델 (소형)\n",
    "# ENGINE_3_L = 'text-embedding-3-large'  # OpenAI의 3세대 embedding 모델 (대형)"
   ]
  },
  {
   "cell_type": "code",
   "execution_count": null,
   "id": "f6d05759-0643-4508-a395-ad705d30bcc1",
   "metadata": {},
   "outputs": [],
   "source": [
    "pinecone.delete_index(INDEX_NAME)  # delete the index\n",
    "\n",
    "pinecone.create_index(\n",
    "    INDEX_NAME, # 인덱스 이름\n",
    "    dimension=1536, # 벡터의 치수, text-embedding-ada-002, text-embedding-3-small\n",
    "    # dimension=3072, # 벡터의 치수, text-embedding-3-large\n",
    "    \n",
    "    metric='cosine', # 인덱스를 검색할 때 사용할 유사성 메트릭\n",
    "    spec=PodSpec(\n",
    "      environment=\"gcp-starter\"\n",
    "    )\n",
    "    # pod_type=\"p1\" # 파인콘 파드의 유형\n",
    ")\n",
    "\n",
    "# 인덱스를 변수로 저장\n",
    "index = pinecone.Index(INDEX_NAME)"
   ]
  },
  {
   "cell_type": "code",
   "execution_count": null,
   "id": "9cea6683-413e-4f65-ad45-2569b5c31746",
   "metadata": {},
   "outputs": [],
   "source": [
    "for idx in tqdm(range(0, len(dataset['train']), 128)):\n",
    "    data_sample = dataset['train'][idx:idx + 128]\n",
    "\n",
    "    passages = data_sample['passage']\n",
    "    upload_texts_to_pinecone(passages, engine=ENGINE)\n",
    "\n",
    "for idx in tqdm(range(0, len(dataset['validation']), 128)):\n",
    "    data_sample = dataset['validation'][idx:idx + 128]\n",
    "\n",
    "    passages = data_sample['passage']\n",
    "    upload_texts_to_pinecone(passages, engine=ENGINE)"
   ]
  },
  {
   "cell_type": "code",
   "execution_count": null,
   "id": "1cf1ba83-a104-4a99-bc29-407f093ef544",
   "metadata": {
    "scrolled": true
   },
   "outputs": [],
   "source": [
    "i = 0\n",
    "print_every = 50\n",
    "predictions = []\n",
    "for question in tqdm(val_sample['question']):\n",
    "    retrieved_hash, reranked_hash_1, reranked_hash_2, reranked_hash_3, reranked_hash_4 = eval_ranking_4(question, cross_encoder_1, cross_encoder_2, cross_encoder_3, cross_encoder_4, top_k=3)\n",
    "    correct_hash = q_to_hash[question]\n",
    "    predictions.append((retrieved_hash == correct_hash, reranked_hash_1 == correct_hash, reranked_hash_2 == correct_hash, reranked_hash_3 == correct_hash, reranked_hash_4 == correct_hash))\n",
    "    i += 1\n",
    "    if i % print_every == 0:\n",
    "        print(f'Step {i}')\n",
    "        raw_accuracy = sum([p[0] for p in predictions])/len(predictions)\n",
    "        reranked_accuracy_1 = sum([p[1] for p in predictions])/len(predictions)\n",
    "        reranked_accuracy_2 = sum([p[2] for p in predictions])/len(predictions)\n",
    "        reranked_accuracy_3 = sum([p[3] for p in predictions])/len(predictions)\n",
    "        reranked_accuracy_4 = sum([p[4] for p in predictions])/len(predictions)\n",
    "\n",
    "        print(f'Accuracy without re-ranking                            : {raw_accuracy}')\n",
    "        print(f'Accuracy with re-ranking(mmarco-mMiniLMv2-L12-H384-v1) : {reranked_accuracy_1}')\n",
    "        print(f'Accuracy with re-ranking(klue-cross-encoder-v1)        : {reranked_accuracy_2}')\n",
    "        print(f'Accuracy with re-ranking(ms-marco-MiniLM-L-12-v2)      : {reranked_accuracy_3}')\n",
    "        print(f'Accuracy with re-ranking(ms-marco-MiniLM-L-12-v2 tuning): {reranked_accuracy_4}')\n"
   ]
  },
  {
   "cell_type": "code",
   "execution_count": null,
   "id": "725cab69-3709-44cf-950b-8ed6425ce704",
   "metadata": {},
   "outputs": [],
   "source": [
    "raw_accuracy = sum([p[0] for p in predictions])/len(predictions)\n",
    "reranked_accuracy_1 = sum([p[1] for p in predictions])/len(predictions)\n",
    "reranked_accuracy_2 = sum([p[2] for p in predictions])/len(predictions)\n",
    "reranked_accuracy_3 = sum([p[3] for p in predictions])/len(predictions)\n",
    "reranked_accuracy_4 = sum([p[4] for p in predictions])/len(predictions)\n",
    "\n",
    "print('text-embedding-3-small')\n",
    "print(f'Accuracy without re-ranking                            : {raw_accuracy}')\n",
    "print(f'Accuracy with re-ranking(mmarco-mMiniLMv2-L12-H384-v1) : {reranked_accuracy_1}')\n",
    "print(f'Accuracy with re-ranking(klue-cross-encoder-v1)        : {reranked_accuracy_2}')\n",
    "print(f'Accuracy with re-ranking(ms-marco-MiniLM-L-12-v2)      : {reranked_accuracy_3}')\n",
    "print(f'Accuracy with re-ranking(ms-marco-MiniLM-L-12-v2 tuning): {reranked_accuracy_4}')"
   ]
  },
  {
   "cell_type": "markdown",
   "id": "2bb8648e-aa4b-407b-8191-69f6cd05ded2",
   "metadata": {},
   "source": [
    "## 6.4 text-embedding-3-large 영어 성능"
   ]
  },
  {
   "cell_type": "code",
   "execution_count": null,
   "id": "13fabd9d-8d64-4c18-8b08-c8101555f7b7",
   "metadata": {},
   "outputs": [],
   "source": [
    "ENGINE = 'text-embedding-3-large'\n",
    "# ENGINE_2 = 'text-embedding-ada-002'\n",
    "# ENGINE_3_S = 'text-embedding-3-small'  # OpenAI의 3세대 embedding 모델 (소형)\n",
    "# ENGINE_3_L = 'text-embedding-3-large'  # OpenAI의 3세대 embedding 모델 (대형)"
   ]
  },
  {
   "cell_type": "code",
   "execution_count": null,
   "id": "295eec8b-8821-45af-9648-d40cbf2cd062",
   "metadata": {},
   "outputs": [],
   "source": [
    "pinecone.delete_index(INDEX_NAME)  # delete the index\n",
    "\n",
    "pinecone.create_index(\n",
    "    INDEX_NAME, # 인덱스 이름\n",
    "    # dimension=1536, # 벡터의 치수, text-embedding-ada-002, text-embedding-3-small\n",
    "    dimension=3072, # 벡터의 치수, text-embedding-3-large\n",
    "    \n",
    "    metric='cosine', # 인덱스를 검색할 때 사용할 유사성 메트릭\n",
    "    spec=PodSpec(\n",
    "      environment=\"gcp-starter\"\n",
    "    )\n",
    "    # pod_type=\"p1\" # 파인콘 파드의 유형\n",
    ")\n",
    "\n",
    "# 인덱스를 변수로 저장\n",
    "index = pinecone.Index(INDEX_NAME)"
   ]
  },
  {
   "cell_type": "code",
   "execution_count": null,
   "id": "b64d886b-8bc1-487b-9bc5-eccd2a699a2c",
   "metadata": {},
   "outputs": [],
   "source": [
    "for idx in tqdm(range(0, len(dataset['train']), 128)):\n",
    "    data_sample = dataset['train'][idx:idx + 128]\n",
    "\n",
    "    passages = data_sample['passage']\n",
    "    upload_texts_to_pinecone(passages, engine=ENGINE)\n",
    "\n",
    "for idx in tqdm(range(0, len(dataset['validation']), 128)):\n",
    "    data_sample = dataset['validation'][idx:idx + 128]\n",
    "\n",
    "    passages = data_sample['passage']\n",
    "    upload_texts_to_pinecone(passages, engine=ENGINE)"
   ]
  },
  {
   "cell_type": "code",
   "execution_count": null,
   "id": "b3e1432e-20e4-4c4f-8ee0-b235a04617d6",
   "metadata": {
    "scrolled": true
   },
   "outputs": [],
   "source": [
    "i = 0\n",
    "print_every = 50\n",
    "predictions = []\n",
    "for question in tqdm(val_sample['question']):\n",
    "    retrieved_hash, reranked_hash_1, reranked_hash_2, reranked_hash_3, reranked_hash_4 = eval_ranking_4(question, cross_encoder_1, cross_encoder_2, cross_encoder_3, cross_encoder_4, top_k=3)\n",
    "    correct_hash = q_to_hash[question]\n",
    "    predictions.append((retrieved_hash == correct_hash, reranked_hash_1 == correct_hash, reranked_hash_2 == correct_hash, reranked_hash_3 == correct_hash, reranked_hash_4 == correct_hash))\n",
    "    i += 1\n",
    "    if i % print_every == 0:\n",
    "        print(f'Step {i}')\n",
    "        raw_accuracy = sum([p[0] for p in predictions])/len(predictions)\n",
    "        reranked_accuracy_1 = sum([p[1] for p in predictions])/len(predictions)\n",
    "        reranked_accuracy_2 = sum([p[2] for p in predictions])/len(predictions)\n",
    "        reranked_accuracy_3 = sum([p[3] for p in predictions])/len(predictions)\n",
    "        reranked_accuracy_4 = sum([p[4] for p in predictions])/len(predictions)\n",
    "\n",
    "        print(f'Accuracy without re-ranking                            : {raw_accuracy}')\n",
    "        print(f'Accuracy with re-ranking(mmarco-mMiniLMv2-L12-H384-v1) : {reranked_accuracy_1}')\n",
    "        print(f'Accuracy with re-ranking(klue-cross-encoder-v1)        : {reranked_accuracy_2}')\n",
    "        print(f'Accuracy with re-ranking(ms-marco-MiniLM-L-12-v2)      : {reranked_accuracy_3}')\n",
    "        print(f'Accuracy with re-ranking(ms-marco-MiniLM-L-12-v2 tuning): {reranked_accuracy_4}')\n"
   ]
  },
  {
   "cell_type": "code",
   "execution_count": null,
   "id": "42f9a4dc-4a27-4720-bb92-5aaf98ab98b1",
   "metadata": {},
   "outputs": [],
   "source": [
    "raw_accuracy = sum([p[0] for p in predictions])/len(predictions)\n",
    "reranked_accuracy_1 = sum([p[1] for p in predictions])/len(predictions)\n",
    "reranked_accuracy_2 = sum([p[2] for p in predictions])/len(predictions)\n",
    "reranked_accuracy_3 = sum([p[3] for p in predictions])/len(predictions)\n",
    "reranked_accuracy_4 = sum([p[4] for p in predictions])/len(predictions)\n",
    "\n",
    "print('text-embedding-3-large')\n",
    "print(f'Accuracy without re-ranking                            : {raw_accuracy}')\n",
    "print(f'Accuracy with re-ranking(mmarco-mMiniLMv2-L12-H384-v1) : {reranked_accuracy_1}')\n",
    "print(f'Accuracy with re-ranking(klue-cross-encoder-v1)        : {reranked_accuracy_2}')\n",
    "print(f'Accuracy with re-ranking(ms-marco-MiniLM-L-12-v2)      : {reranked_accuracy_3}')\n",
    "print(f'Accuracy with re-ranking(ms-marco-MiniLM-L-12-v2 tuning): {reranked_accuracy_4}')"
   ]
  },
  {
   "cell_type": "markdown",
   "id": "823500d7-3c64-4736-845d-ce36a15a8409",
   "metadata": {},
   "source": [
    "## 6.5 오픈소스 임베딩 영어 성능 (multi-qa-mpnet-base-cos-v1)"
   ]
  },
  {
   "cell_type": "code",
   "execution_count": null,
   "id": "45884814-0f0d-43ac-ba00-1807094552db",
   "metadata": {},
   "outputs": [],
   "source": [
    "from sentence_transformers import SentenceTransformer\n",
    "\n",
    "model = SentenceTransformer('sentence-transformers/multi-qa-mpnet-base-cos-v1')"
   ]
  },
  {
   "cell_type": "code",
   "execution_count": null,
   "id": "85a75da7-4fad-4833-a496-a048d7f9047c",
   "metadata": {},
   "outputs": [],
   "source": [
    "validation_paragraphs = dataset['validation'].remove_columns(['question', 'answer'])\n",
    "train_paragraphs = dataset['train'].remove_columns(['question', 'answer'])\n",
    "combined_paragraphs = concatenate_datasets([validation_paragraphs, train_paragraphs])"
   ]
  },
  {
   "cell_type": "code",
   "execution_count": null,
   "id": "04dd6ede-25fa-498b-a0cb-a97647885cd5",
   "metadata": {},
   "outputs": [],
   "source": [
    "# 문서 임베딩\n",
    "# docs = dataset['validation']['passage']\n",
    "docs = combined_paragraphs['passage']\n",
    "doc_emb = model.encode(docs, batch_size=32, show_progress_bar=True)"
   ]
  },
  {
   "cell_type": "code",
   "execution_count": null,
   "id": "d26dca5a-b68a-473f-99b7-12b8e546e4a2",
   "metadata": {},
   "outputs": [],
   "source": [
    "from random import sample\n",
    "\n",
    "query = sample(dataset['validation']['question'], 1)[0]\n",
    "print(query)\n",
    "final_results = get_results_from_pinecone(query, top_k=3, re_rank=True)"
   ]
  },
  {
   "cell_type": "code",
   "execution_count": null,
   "id": "15f7e562-8273-4132-8a6d-67c63f300f92",
   "metadata": {
    "scrolled": true
   },
   "outputs": [],
   "source": [
    "from sentence_transformers import util\n",
    "query_emb = model.encode(query)\n",
    "print(query)\n",
    "\n",
    "#쿼리와 모든 문서 임베딩 사이의 도트 점수를 계산합니다.\n",
    "scores = util.dot_score(query_emb, doc_emb)[0].cpu().tolist()\n",
    "\n",
    "#문서와 점수 결합\n",
    "doc_score_pairs = list(zip(docs, scores))\n",
    "\n",
    "#점수에 따른 내림차순 정렬\n",
    "doc_score_pairs = sorted(doc_score_pairs, key=lambda x: x[1], reverse=True)\n",
    "\n",
    "#구절 및 점수 출력\n",
    "for doc, score in doc_score_pairs[:30]:\n",
    "    print(score, doc)"
   ]
  },
  {
   "cell_type": "code",
   "execution_count": null,
   "id": "e5e3f455-681c-4a08-b6b4-df041ce66ce9",
   "metadata": {},
   "outputs": [],
   "source": [
    "logger.setLevel(logging.CRITICAL)  # 일부 로그만 출력\n",
    "\n",
    "def eval_ranking_4_open_source_en(query, cross_encoder_1, cross_encoder_2, cross_encoder_3, cross_encoder_4, top_k=3):\n",
    "    query_emb = model.encode(query)\n",
    "\n",
    "    #쿼리와 모든 문서 임베딩 사이의 도트 점수를 계산합니다.\n",
    "    scores = util.dot_score(query_emb, doc_emb)[0].cpu().tolist()\n",
    "\n",
    "    #문서와 점수 결합\n",
    "    doc_score_pairs = list(zip(docs, scores))\n",
    "\n",
    "    #점수에 따른 내림차순 정렬\n",
    "    doc_score_pairs = sorted(doc_score_pairs, key=lambda x: x[1], reverse=True)[:top_k]\n",
    "\n",
    "    retrieved_hash = my_hash(doc_score_pairs[0][0])\n",
    "    sentence_combinations = [[query, doc_score_pair[0]] for doc_score_pair in doc_score_pairs]\n",
    "\n",
    "    similarity_scores_1 = cross_encoder_1.predict(sentence_combinations)\n",
    "    sim_scores_argsort_1 = list(reversed(np.argsort(similarity_scores_1)))\n",
    "    reranked_hash_1 = my_hash(doc_score_pairs[sim_scores_argsort_1[0]][0])\n",
    "\n",
    "    similarity_scores_2 = cross_encoder_2.predict(sentence_combinations)\n",
    "    sim_scores_argsort_2 = list(reversed(np.argsort(similarity_scores_2)))\n",
    "    reranked_hash_2 = my_hash(doc_score_pairs[sim_scores_argsort_2[0]][0])\n",
    "\n",
    "    similarity_scores_3 = cross_encoder_3.predict(sentence_combinations)\n",
    "    sim_scores_argsort_3 = list(reversed(np.argsort(similarity_scores_3)))\n",
    "    reranked_hash_3 = my_hash(doc_score_pairs[sim_scores_argsort_3[0]][0])\n",
    "\n",
    "    similarity_scores_4 = cross_encoder_4.predict(sentence_combinations)\n",
    "    sim_scores_argsort_4 = list(reversed(np.argsort(similarity_scores_4)))\n",
    "    reranked_hash_4 = my_hash(doc_score_pairs[sim_scores_argsort_4[0]][0])\n",
    "\n",
    "    return retrieved_hash, reranked_hash_1, reranked_hash_2, reranked_hash_3, reranked_hash_4\n"
   ]
  },
  {
   "cell_type": "code",
   "execution_count": null,
   "id": "559fa8f2-e413-4c8d-8f3e-cd672fd95e3f",
   "metadata": {
    "scrolled": true
   },
   "outputs": [],
   "source": [
    "logger.setLevel(logging.CRITICAL)\n",
    "\n",
    "i = 0\n",
    "print_every = 50\n",
    "predictions = []\n",
    "for question in tqdm(val_sample['question']):\n",
    "    retrieved_hash, reranked_hash_1, reranked_hash_2, reranked_hash_3, reranked_hash_4 = eval_ranking_4_open_source_en(question, cross_encoder_1, cross_encoder_2, cross_encoder_3, cross_encoder_4, top_k=3)\n",
    "    correct_hash = q_to_hash[question]\n",
    "    predictions.append((retrieved_hash == correct_hash, reranked_hash_1 == correct_hash, reranked_hash_2 == correct_hash, reranked_hash_3 == correct_hash, reranked_hash_4 == correct_hash))\n",
    "    i += 1\n",
    "    if i % print_every == 0:\n",
    "        print(f'Step {i}')\n",
    "        raw_accuracy = sum([p[0] for p in predictions])/len(predictions)\n",
    "        reranked_accuracy_1 = sum([p[1] for p in predictions])/len(predictions)\n",
    "        reranked_accuracy_2 = sum([p[2] for p in predictions])/len(predictions)\n",
    "        reranked_accuracy_3 = sum([p[3] for p in predictions])/len(predictions)\n",
    "        reranked_accuracy_4 = sum([p[4] for p in predictions])/len(predictions)\n",
    "\n",
    "        print(f'Accuracy without re-ranking                            : {raw_accuracy}')\n",
    "        print(f'Accuracy with re-ranking(mmarco-mMiniLMv2-L12-H384-v1) : {reranked_accuracy_1}')\n",
    "        print(f'Accuracy with re-ranking(klue-cross-encoder-v1)        : {reranked_accuracy_2}')\n",
    "        print(f'Accuracy with re-ranking(ms-marco-MiniLM-L-12-v2)      : {reranked_accuracy_3}')\n",
    "        print(f'Accuracy with re-ranking(ms-marco-MiniLM-L-12-v2 tuning): {reranked_accuracy_4}')\n"
   ]
  },
  {
   "cell_type": "code",
   "execution_count": null,
   "id": "f845bb9c-ee7b-4bca-bcf6-71c696bcd69a",
   "metadata": {},
   "outputs": [],
   "source": [
    "raw_accuracy = sum([p[0] for p in predictions])/len(predictions)\n",
    "reranked_accuracy_1 = sum([p[1] for p in predictions])/len(predictions)\n",
    "reranked_accuracy_2 = sum([p[2] for p in predictions])/len(predictions)\n",
    "reranked_accuracy_3 = sum([p[3] for p in predictions])/len(predictions)\n",
    "reranked_accuracy_4 = sum([p[4] for p in predictions])/len(predictions)\n",
    "\n",
    "print('Opensource embedding model(sentence-transformers/multi-qa-mpnet-base-cos-v1)')\n",
    "print(f'Accuracy without re-ranking                            : {raw_accuracy}')\n",
    "print(f'Accuracy with re-ranking(mmarco-mMiniLMv2-L12-H384-v1) : {reranked_accuracy_1}')\n",
    "print(f'Accuracy with re-ranking(klue-cross-encoder-v1)        : {reranked_accuracy_2}')\n",
    "print(f'Accuracy with re-ranking(ms-marco-MiniLM-L-12-v2)      : {reranked_accuracy_3}')\n",
    "print(f'Accuracy with re-ranking(ms-marco-MiniLM-L-12-v2 tuning): {reranked_accuracy_4}')"
   ]
  },
  {
   "cell_type": "markdown",
   "id": "af332767-c9b8-448c-86b8-00afb930fae9",
   "metadata": {},
   "source": [
    "## 6.6 오픈소스 임베딩 영어 성능 (BAAI/bge-m3)"
   ]
  },
  {
   "cell_type": "code",
   "execution_count": null,
   "id": "3bcefa8f-a84f-4b65-87ae-93e1b851104e",
   "metadata": {
    "scrolled": true
   },
   "outputs": [],
   "source": [
    "!pip install FlagEmbedding"
   ]
  },
  {
   "cell_type": "code",
   "execution_count": null,
   "id": "c52da085-33b6-4cba-84d4-c7a9cf2060c4",
   "metadata": {
    "scrolled": true
   },
   "outputs": [],
   "source": [
    "from FlagEmbedding import BGEM3FlagModel\n",
    "model = BGEM3FlagModel('BAAI/bge-m3', use_fp16=True) # Setting use_fp16 to True speeds up computation with a slight performance degradation"
   ]
  },
  {
   "cell_type": "code",
   "execution_count": null,
   "id": "2bccf7ce-7786-4ace-8796-347769905be6",
   "metadata": {},
   "outputs": [],
   "source": [
    "# 문서 임베딩\n",
    "docs = combined_paragraphs['passage']\n",
    "# docs = dataset['validation']['passage']\n",
    "doc_emb_m3 = model.encode(docs, batch_size=32, max_length=8192)['dense_vecs']"
   ]
  },
  {
   "cell_type": "code",
   "execution_count": null,
   "id": "db0b1b3f-e825-4b08-9b06-2130e11304c9",
   "metadata": {},
   "outputs": [],
   "source": [
    "from sentence_transformers import util\n",
    "query_emb = model.encode(query, batch_size=32, max_length=8192)['dense_vecs']\n",
    "print(query)\n",
    "\n",
    "#쿼리와 모든 문서 임베딩 사이의 도트 점수를 계산합니다.\n",
    "scores = util.dot_score(query_emb, doc_emb_m3)[0].cpu().tolist()\n",
    "#문서와 점수 결합\n",
    "doc_score_pairs = list(zip(docs, scores))\n",
    "\n",
    "#점수에 따른 내림차순 정렬\n",
    "doc_score_pairs = sorted(doc_score_pairs, key=lambda x: x[1], reverse=True)\n",
    "\n",
    "#구절 및 점수 출력\n",
    "for doc, score in doc_score_pairs[:3]:\n",
    "    print(score, doc)"
   ]
  },
  {
   "cell_type": "code",
   "execution_count": null,
   "id": "04a72e86-7ebb-49cf-a84a-20f87d9230fc",
   "metadata": {},
   "outputs": [],
   "source": [
    "logger.setLevel(logging.CRITICAL)  # 일부 로그만 출력\n",
    "\n",
    "def eval_ranking_4_open_source_m3_en(query, cross_encoder_1, cross_encoder_2, cross_encoder_3, cross_encoder_4, top_k=3):\n",
    "    query_emb = model.encode(query, batch_size=32, max_length=8192)['dense_vecs']\n",
    "\n",
    "    #쿼리와 모든 문서 임베딩 사이의 도트 점수를 계산합니다.\n",
    "    scores = util.dot_score(query_emb, doc_emb_m3)[0].cpu().tolist()\n",
    "\n",
    "    #문서와 점수 결합\n",
    "    doc_score_pairs = list(zip(docs, scores))\n",
    "\n",
    "    #점수에 따른 내림차순 정렬\n",
    "    doc_score_pairs = sorted(doc_score_pairs, key=lambda x: x[1], reverse=True)[:top_k]\n",
    "\n",
    "    retrieved_hash = my_hash(doc_score_pairs[0][0])\n",
    "    sentence_combinations = [[query, doc_score_pair[0]] for doc_score_pair in doc_score_pairs]\n",
    "\n",
    "    similarity_scores_1 = cross_encoder_1.predict(sentence_combinations)\n",
    "    sim_scores_argsort_1 = list(reversed(np.argsort(similarity_scores_1)))\n",
    "    reranked_hash_1 = my_hash(doc_score_pairs[sim_scores_argsort_1[0]][0])\n",
    "\n",
    "    similarity_scores_2 = cross_encoder_2.predict(sentence_combinations)\n",
    "    sim_scores_argsort_2 = list(reversed(np.argsort(similarity_scores_2)))\n",
    "    reranked_hash_2 = my_hash(doc_score_pairs[sim_scores_argsort_2[0]][0])\n",
    "\n",
    "    similarity_scores_3 = cross_encoder_3.predict(sentence_combinations)\n",
    "    sim_scores_argsort_3 = list(reversed(np.argsort(similarity_scores_3)))\n",
    "    reranked_hash_3 = my_hash(doc_score_pairs[sim_scores_argsort_3[0]][0])\n",
    "\n",
    "    similarity_scores_4 = cross_encoder_4.predict(sentence_combinations)\n",
    "    sim_scores_argsort_4 = list(reversed(np.argsort(similarity_scores_4)))\n",
    "    reranked_hash_4 = my_hash(doc_score_pairs[sim_scores_argsort_4[0]][0])\n",
    "\n",
    "    return retrieved_hash, reranked_hash_1, reranked_hash_2, reranked_hash_3, reranked_hash_4\n"
   ]
  },
  {
   "cell_type": "code",
   "execution_count": null,
   "id": "87e4a304-2cc5-4a6c-8fbf-22ffb4f1a788",
   "metadata": {
    "scrolled": true
   },
   "outputs": [],
   "source": [
    "logger.setLevel(logging.CRITICAL)\n",
    "\n",
    "i = 0\n",
    "print_every = 50\n",
    "predictions = []\n",
    "for question in tqdm(val_sample['question']):\n",
    "    retrieved_hash, reranked_hash_1, reranked_hash_2, reranked_hash_3, reranked_hash_4 = eval_ranking_4_open_source_m3_en(question, cross_encoder_1, cross_encoder_2, cross_encoder_3, cross_encoder_4, top_k=3)\n",
    "    correct_hash = q_to_hash[question]\n",
    "    predictions.append((retrieved_hash == correct_hash, reranked_hash_1 == correct_hash, reranked_hash_2 == correct_hash, reranked_hash_3 == correct_hash, reranked_hash_4 == correct_hash))\n",
    "    i += 1\n",
    "    if i % print_every == 0:\n",
    "        print(f'Step {i}')\n",
    "        raw_accuracy = sum([p[0] for p in predictions])/len(predictions)\n",
    "        reranked_accuracy_1 = sum([p[1] for p in predictions])/len(predictions)\n",
    "        reranked_accuracy_2 = sum([p[2] for p in predictions])/len(predictions)\n",
    "        reranked_accuracy_3 = sum([p[3] for p in predictions])/len(predictions)\n",
    "        reranked_accuracy_4 = sum([p[4] for p in predictions])/len(predictions)\n",
    "\n",
    "        print(f'Accuracy without re-ranking                            : {raw_accuracy}')\n",
    "        print(f'Accuracy with re-ranking(mmarco-mMiniLMv2-L12-H384-v1) : {reranked_accuracy_1}')\n",
    "        print(f'Accuracy with re-ranking(klue-cross-encoder-v1)        : {reranked_accuracy_2}')\n",
    "        print(f'Accuracy with re-ranking(ms-marco-MiniLM-L-12-v2)      : {reranked_accuracy_3}')\n",
    "        print(f'Accuracy with re-ranking(ms-marco-MiniLM-L-12-v2 tuning): {reranked_accuracy_4}')\n"
   ]
  },
  {
   "cell_type": "code",
   "execution_count": null,
   "id": "643be614-a3fc-454b-8806-b5433ff06081",
   "metadata": {},
   "outputs": [],
   "source": [
    "raw_accuracy = sum([p[0] for p in predictions])/len(predictions)\n",
    "reranked_accuracy_1 = sum([p[1] for p in predictions])/len(predictions)\n",
    "reranked_accuracy_2 = sum([p[2] for p in predictions])/len(predictions)\n",
    "reranked_accuracy_3 = sum([p[3] for p in predictions])/len(predictions)\n",
    "reranked_accuracy_4 = sum([p[4] for p in predictions])/len(predictions)\n",
    "\n",
    "print('Opensource embedding model(BAAI/bge-m3)')\n",
    "print(f'Accuracy without re-ranking                            : {raw_accuracy}')\n",
    "print(f'Accuracy with re-ranking(mmarco-mMiniLMv2-L12-H384-v1) : {reranked_accuracy_1}')\n",
    "print(f'Accuracy with re-ranking(klue-cross-encoder-v1)        : {reranked_accuracy_2}')\n",
    "print(f'Accuracy with re-ranking(ms-marco-MiniLM-L-12-v2)      : {reranked_accuracy_3}')\n",
    "print(f'Accuracy with re-ranking(ms-marco-MiniLM-L-12-v2 tuning): {reranked_accuracy_4}')"
   ]
  },
  {
   "cell_type": "code",
   "execution_count": null,
   "id": "795704d6-48da-4b77-9eb9-7145805a02e4",
   "metadata": {},
   "outputs": [],
   "source": []
  }
 ],
 "metadata": {
  "kernelspec": {
   "display_name": "Python 3 (ipykernel)",
   "language": "python",
   "name": "python3"
  },
  "language_info": {
   "codemirror_mode": {
    "name": "ipython",
    "version": 3
   },
   "file_extension": ".py",
   "mimetype": "text/x-python",
   "name": "python",
   "nbconvert_exporter": "python",
   "pygments_lexer": "ipython3",
   "version": "3.10.13"
  }
 },
 "nbformat": 4,
 "nbformat_minor": 5
}
